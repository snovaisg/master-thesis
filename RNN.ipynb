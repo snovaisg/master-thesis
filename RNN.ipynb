{
 "cells": [
  {
   "cell_type": "code",
   "execution_count": 203,
   "id": "70f147f1",
   "metadata": {},
   "outputs": [
    {
     "name": "stdout",
     "output_type": "stream",
     "text": [
      "Training on GPU!\n"
     ]
    }
   ],
   "source": [
    "from typing import Callable\n",
    "\n",
    "import pickle\n",
    "import matplotlib.pyplot as plt\n",
    "\n",
    "from torch.utils.data import Dataset, DataLoader, random_split\n",
    "from torch import nn\n",
    "import torch\n",
    "from torch.nn.utils.rnn import pack_padded_sequence, pad_packed_sequence, pad_sequence, pack_sequence\n",
    "import torch.nn.functional as F\n",
    "\n",
    "from sklearn.model_selection import ParameterGrid, ParameterSampler\n",
    "\n",
    "from tqdm.notebook import tqdm\n",
    "\n",
    "import pandas as pd\n",
    "import numpy as np\n",
    "from math import ceil\n",
    "\n",
    "import json\n",
    "\n",
    "from Metrics import Metrics\n",
    "from rnn_utils import split_dataset\n",
    "\n",
    "### Checking for GPU availability\n",
    "#This model was trained on a GPU enabled system...highly recommended.\n",
    "\n",
    "# check if GPU is available\n",
    "if(torch.cuda.is_available()):\n",
    "    print('Training on GPU!')\n",
    "else: \n",
    "    print('Training on CPU!')"
   ]
  },
  {
   "cell_type": "code",
   "execution_count": 195,
   "id": "09e8cc84",
   "metadata": {},
   "outputs": [
    {
     "data": {
      "text/plain": [
       "<torch._C.Generator at 0x2ba6ac041330>"
      ]
     },
     "execution_count": 195,
     "metadata": {},
     "output_type": "execute_result"
    }
   ],
   "source": [
    "# Reproducibility\n",
    "np.random.seed(546)\n",
    "torch.manual_seed(546)\n",
    "torch.cuda.manual_seed(546)"
   ]
  },
  {
   "cell_type": "code",
   "execution_count": 196,
   "id": "d5556b59",
   "metadata": {},
   "outputs": [],
   "source": [
    "class DiagnosesDataset(Dataset):\n",
    "    def __init__(self, diagnoses_file,\n",
    "                 grouping='ccs' # desired grouping to use (for both input and output currently),\n",
    "                ):\n",
    "        \n",
    "        # load admissions data\n",
    "        with open(diagnoses_file,'r') as fp:\n",
    "            self.data = json.load(fp)\n",
    "        \n",
    "        # list patients\n",
    "        self.patients = list(self.data['data'].keys())\n",
    "        \n",
    "        self.grouping = grouping\n",
    "        \n",
    "        # necessary data of each code_grouping (eg. ccs, chapters) for posterior padding and one_hot_encoding of batches\n",
    "        self.grouping_data = {}\n",
    "        for grouping_code in self.data['metadata']['groupings']:\n",
    "            self.grouping_data[grouping_code] = {}\n",
    "            \n",
    "            # get all codes of this group\n",
    "            all_data_grouping = [self.data['data'][pat][grouping_code] for pat in self.data['data']]\n",
    "            \n",
    "            #flatten list of lists of lists\n",
    "            all_data_grouping = [item for sublist in all_data_grouping for item in sublist]\n",
    "            all_data_grouping = [item for sublist in all_data_grouping for item in sublist]\n",
    "            \n",
    "            # store n_labels this group\n",
    "            self.grouping_data[grouping_code]['n_labels'] = len(set(all_data_grouping))\n",
    "            \n",
    "            # store unique sorted codes from dataset\n",
    "            self.grouping_data[grouping_code]['sorted'] = sorted(set(all_data_grouping))\n",
    "            \n",
    "            # store code2int & int2code\n",
    "            int2code = dict(enumerate(self.grouping_data[grouping_code]['sorted']))\n",
    "            code2int = {ch: ii for ii, ch in int2code.items()}\n",
    "            \n",
    "            self.grouping_data[grouping_code]['int2code'] = int2code\n",
    "            self.grouping_data[grouping_code]['code2int'] = code2int\n",
    "            self.grouping_data[grouping_code]['int2code_converter'] = lambda idx: self.grouping_data[grouping_code]['int2code'][idx]\n",
    "        \n",
    "    def __str__(self):\n",
    "        return 'Available groupings: ' +str(self.data['metadata']['groupings'])\n",
    "\n",
    "    def __len__(self):\n",
    "        return len(self.data['data'])\n",
    "\n",
    "    def __getitem__(self, idx):\n",
    "        \"\"\"\n",
    "        gets original converted from int2code\n",
    "        \"\"\"\n",
    "        patient_data = self.data['data'][self.patients[idx]][self.grouping]\n",
    "        \n",
    "        train = patient_data[:-1]\n",
    "        target = patient_data[1:]\n",
    "        \n",
    "        # remove duplicates (can happen in low granuality codes such as ccs)\n",
    "        \n",
    "        train = [list(set(admission)) for admission in train]\n",
    "        target = [list(set(admission)) for admission in target]\n",
    "        \n",
    "        return {'train':train,'target':target}"
   ]
  },
  {
   "cell_type": "code",
   "execution_count": 197,
   "id": "a52975dc",
   "metadata": {},
   "outputs": [],
   "source": [
    "class MYCOLLATE:\n",
    "    \"\"\"\n",
    "    This collate class gets a dataset in the format of:\n",
    "    [\n",
    "    {'train':[[code1,code2],[code3,code4,code5],etc..]\n",
    "      'target:':[[code1,code2],[code3,code4,code5],etc..]\n",
    "    },\n",
    "     {etc..},\n",
    "     etc..\n",
    "    ]\n",
    "    \n",
    "    And outputs a pack of train and test sequences\n",
    "    \"\"\"\n",
    "    def __init__(self,dataset):\n",
    "        self.dataset = dataset\n",
    "    \n",
    "    def __call__(self,batch):\n",
    "        patients = {'train':{'sequence':[],'original':[]},\n",
    "                    'target':{'sequence':[],'original':[]}}\n",
    "        \n",
    "        grouping_code = self.dataset.grouping\n",
    "        n_labels = self.dataset.grouping_data[grouping_code]['n_labels']\n",
    "        code2int = self.dataset.grouping_data[grouping_code]['code2int']\n",
    "        \n",
    "        # <Nº admissions - 1> of each patient\n",
    "        seq_lengths = []\n",
    "        for pat in batch:\n",
    "            train_admissions_sequenced = []\n",
    "            target_admissions_sequenced = []\n",
    "            seq_lengths.append(len(pat))\n",
    "\n",
    "            # convert each train admission into a multi-hot vector\n",
    "            for train_admission in pat['train']:\n",
    "                admission = (F.one_hot(torch.tensor(list(map(lambda code: code2int[code],train_admission))),num_classes=n_labels)\n",
    "                             .sum(dim=0).float() #one-hot of each diagnose to multi-hot vector of diagnoses\n",
    "                            )\n",
    "                train_admissions_sequenced.append(admission)\n",
    "\n",
    "            # convert each target admission into a one-hot vector\n",
    "            for target_admission in pat['target']:\n",
    "                # convert each admission to multi-hot vector\n",
    "                admission = (F.one_hot(torch.tensor(list(map(lambda code: code2int[code],target_admission))),num_classes=n_labels)\n",
    "                             .sum(dim=0).float() #one-hot of each diagnose to multi-hot vector of diagnoses\n",
    "                            )\n",
    "                target_admissions_sequenced.append(admission)\n",
    "\n",
    "            # stack multiple train admissions of a single patient into a single tensor\n",
    "            if len(train_admissions_sequenced) > 1:\n",
    "                train_admissions_sequenced = torch.stack(train_admissions_sequenced)\n",
    "            else:\n",
    "                train_admissions_sequenced = train_admissions_sequenced[0].view((1,-1))\n",
    "\n",
    "            # stack multiple target admissions of a single patient into a single tensor\n",
    "            if len(target_admissions_sequenced) > 1:\n",
    "                target_admissions_sequenced = torch.stack(target_admissions_sequenced)\n",
    "            else:\n",
    "                target_admissions_sequenced = target_admissions_sequenced[0].view((1,-1))\n",
    "\n",
    "            # store final train and test tensors\n",
    "            patients['train']['sequence'].append(train_admissions_sequenced)\n",
    "            patients['target']['sequence'].append(target_admissions_sequenced)\n",
    "            \n",
    "            patients['train']['original'].append(pat['train'])\n",
    "            patients['target']['original'].append(pat['target'])\n",
    "\n",
    "        # pad sequences (some patients have more admissions than others)\n",
    "        patients['train']['sequence'] = pack_sequence(patients['train']['sequence'],enforce_sorted=False)\n",
    "        patients['target']['sequence'] = pad_sequence(patients['target']['sequence'],batch_first=True)\n",
    "        \n",
    "        # pack the padded sequences\n",
    "        \n",
    "        #patients['train'] = pack_padded_sequence(patients['train'],lengths=seq_lengths,batch_first=True)\n",
    "        #patients['target'] = pack_padded_sequence(patients['target'],lengths=seq_lengths,batch_first=True)\n",
    "        return {'train_sequences':patients['train'],'target_sequences':patients['target']}"
   ]
  },
  {
   "cell_type": "code",
   "execution_count": 198,
   "id": "ba61bb30",
   "metadata": {},
   "outputs": [],
   "source": [
    "class RNN(nn.Module):\n",
    "    \n",
    "    def __init__(self,input_size,hidden_size,num_layers,n_labels,model='rnn'):\n",
    "        super(RNN, self).__init__()\n",
    "        \n",
    "        self.input_size = input_size\n",
    "        self.hidden_size = hidden_size\n",
    "        self.num_layers = num_layers\n",
    "        self.n_labels = n_labels\n",
    "        \n",
    "        if model == 'rnn':\n",
    "            self.model = nn.RNN(input_size=input_size,\n",
    "                              hidden_size=hidden_size,\n",
    "                              num_layers=num_layers\n",
    "                             )\n",
    "        elif model == 'gru':\n",
    "            self.model = nn.GRU(input_size=input_size,\n",
    "                              hidden_size=hidden_size,\n",
    "                              num_layers=num_layers\n",
    "                             )\n",
    "        elif model == 'lstm':\n",
    "            self.model = nn.LSTM(input_size=input_size,\n",
    "                              hidden_size=hidden_size,\n",
    "                              num_layers=num_layers\n",
    "                             )\n",
    "        else:\n",
    "            raise ValueError(f'oops. expecting model in [rnn,lstm,gru], got model={model}')\n",
    "        \n",
    "        self.lin = nn.Linear(in_features = hidden_size,\n",
    "                            out_features=n_labels\n",
    "                           )\n",
    "    \n",
    "    def forward(self, input):\n",
    "        \"\"\"\n",
    "        input: pack_sequence\n",
    "        \n",
    "        \"\"\"\n",
    "        \n",
    "        hn,_ = self.model(input)\n",
    "        \n",
    "        out = self.lin(pad_packed_sequence(hn,batch_first=True)[0])\n",
    "        return out"
   ]
  },
  {
   "cell_type": "markdown",
   "id": "8315b873",
   "metadata": {},
   "source": [
    "# Let's try to run the net"
   ]
  },
  {
   "cell_type": "markdown",
   "id": "02ba4a0e",
   "metadata": {},
   "source": [
    "## prepare train and test splits\n",
    "\n",
    "**3 batches**:\n",
    "- train_dataloader\n",
    "- val_dataloader\n",
    "- test_dataloader"
   ]
  },
  {
   "cell_type": "code",
   "execution_count": 199,
   "id": "fe9955ee",
   "metadata": {},
   "outputs": [],
   "source": [
    "batch_size = 64\n",
    "grouping = 'ccs'"
   ]
  },
  {
   "cell_type": "code",
   "execution_count": 204,
   "id": "b3f9c9e5",
   "metadata": {},
   "outputs": [
    {
     "data": {
      "text/plain": [
       "6176"
      ]
     },
     "execution_count": 204,
     "metadata": {},
     "output_type": "execute_result"
    },
    {
     "data": {
      "text/plain": [
       "1323"
      ]
     },
     "execution_count": 204,
     "metadata": {},
     "output_type": "execute_result"
    },
    {
     "data": {
      "text/plain": [
       "1124"
      ]
     },
     "execution_count": 204,
     "metadata": {},
     "output_type": "execute_result"
    }
   ],
   "source": [
    "dataset = DiagnosesDataset('data/model_data.json',grouping)\n",
    "test_size = 0.15\n",
    "eval_size=0.15\n",
    "eval_size_corrected = eval_size/(1-test_size)\n",
    "\n",
    "whole_train_dataset_temp,test_dataset = split_dataset(dataset,test_size)\n",
    "whole_train_dataset\n",
    "train_dataset, val_dataset = split_dataset(whole_train_dataset.dataset,eval_size_corrected)\n",
    "\n",
    "len(train_dataset)\n",
    "len(val_dataset)\n",
    "len(test_dataset)\n",
    "\n",
    "whole_train_dataset = DataLoader(whole_train_dataset.dataset,batch_size=batch_size,collate_fn=MYCOLLATE(whole_train_dataset.dataset),shuffle=True)\n",
    "train_dataloader = DataLoader(train_dataset.dataset,batch_size=batch_size,collate_fn=MYCOLLATE(train_dataset.dataset),shuffle=True)\n",
    "val_dataloader = DataLoader(val_dataset.dataset,batch_size=batch_size,collate_fn=MYCOLLATE(val_dataset.dataset)) #batch_size here is arbitrary and doesn't affect total validation speed\n",
    "test_dataloader = DataLoader(test_dataset.dataset,batch_size=batch_size,collate_fn=MYCOLLATE(test_dataset.dataset))"
   ]
  },
  {
   "cell_type": "code",
   "execution_count": 205,
   "id": "f7202888",
   "metadata": {},
   "outputs": [],
   "source": [
    "hidden_size=75\n",
    "num_layers=1\n",
    "input_size = n_labels = next(iter(train_dataloader))['target_sequences']['sequence'].shape[2]"
   ]
  },
  {
   "cell_type": "markdown",
   "id": "6d512058",
   "metadata": {},
   "source": [
    "# Converting outs from the model to predictions"
   ]
  },
  {
   "cell_type": "code",
   "execution_count": 183,
   "id": "a9752c02",
   "metadata": {},
   "outputs": [],
   "source": [
    "def outs2pred(outs, int2code : dict):\n",
    "    \"\"\"Converts the outputs of a model (logits) to diagnostic code predictions.\n",
    "    \n",
    "    Parameters\n",
    "    ---------\n",
    "    \n",
    "    out: outputs of a model on a batch of variable-sized sequences\n",
    "    \n",
    "    int2code: dict mapping idx to diagnostic code\n",
    "    \n",
    "    \"\"\"\n",
    "    activations = nn.Sigmoid()(outs).detach().numpy()\n",
    "    \n",
    "    sorted_idx = np.argsort(activations)\n",
    "    \n",
    "    return np.vectorize(int2code.get)(sorted_idx)[:,:,::-1]"
   ]
  },
  {
   "cell_type": "markdown",
   "id": "ef98cf75",
   "metadata": {},
   "source": [
    "## Example"
   ]
  },
  {
   "cell_type": "code",
   "execution_count": 136,
   "id": "2c8c2887",
   "metadata": {
    "collapsed": true,
    "jupyter": {
     "outputs_hidden": true
    }
   },
   "outputs": [
    {
     "data": {
      "text/plain": [
       "RNN(\n",
       "  (model): GRU(272, 100)\n",
       "  (lin): Linear(in_features=100, out_features=272, bias=True)\n",
       ")"
      ]
     },
     "execution_count": 136,
     "metadata": {},
     "output_type": "execute_result"
    },
    {
     "data": {
      "text/plain": [
       "array([[[ 251, 2607,   25, ...,    8,   39,  241],\n",
       "        [ 234,   81,   95, ...,    8,   32,  114],\n",
       "        [ 234,   81,   95, ...,    8,   32,  114],\n",
       "        ...,\n",
       "        [ 234,   81,   95, ...,    8,   32,  114],\n",
       "        [ 234,   81,   95, ...,    8,   32,  114],\n",
       "        [ 234,   81,   95, ...,    8,   32,  114]],\n",
       "\n",
       "       [[ 180,  201,   33, ...,  159,   32,   38],\n",
       "        [ 234,   81,   95, ...,    8,   32,  114],\n",
       "        [ 234,   81,   95, ...,    8,   32,  114],\n",
       "        ...,\n",
       "        [ 234,   81,   95, ...,    8,   32,  114],\n",
       "        [ 234,   81,   95, ...,    8,   32,  114],\n",
       "        [ 234,   81,   95, ...,    8,   32,  114]],\n",
       "\n",
       "       [[ 115,   92,  251, ...,   18,    8,   60],\n",
       "        [ 180,  251,  650, ...,   38,   98,    8],\n",
       "        [ 180,   57,  650, ...,   32,   98,    8],\n",
       "        ...,\n",
       "        [ 234,   81,   95, ...,    8,   32,  114],\n",
       "        [ 234,   81,   95, ...,    8,   32,  114],\n",
       "        [ 234,   81,   95, ...,    8,   32,  114]],\n",
       "\n",
       "       ...,\n",
       "\n",
       "       [[ 195,    6,   11, ...,  159,  114,   60],\n",
       "        [ 195,    6,   57, ...,  230,   79,   60],\n",
       "        [ 234,   81,   95, ...,    8,   32,  114],\n",
       "        ...,\n",
       "        [ 234,   81,   95, ...,    8,   32,  114],\n",
       "        [ 234,   81,   95, ...,    8,   32,  114],\n",
       "        [ 234,   81,   95, ...,    8,   32,  114]],\n",
       "\n",
       "       [[ 147,  180, 2601, ...,   79,   64,  141],\n",
       "        [ 234,   81,   95, ...,    8,   32,  114],\n",
       "        [ 234,   81,   95, ...,    8,   32,  114],\n",
       "        ...,\n",
       "        [ 234,   81,   95, ...,    8,   32,  114],\n",
       "        [ 234,   81,   95, ...,    8,   32,  114],\n",
       "        [ 234,   81,   95, ...,    8,   32,  114]],\n",
       "\n",
       "       [[ 212,   92, 2607, ...,   12,  141,  241],\n",
       "        [ 116,   84,  224, ...,  241,  163,   61],\n",
       "        [ 116,   27,  663, ...,   26,   61,   12],\n",
       "        ...,\n",
       "        [ 234,   81,   95, ...,    8,   32,  114],\n",
       "        [ 234,   81,   95, ...,    8,   32,  114],\n",
       "        [ 234,   81,   95, ...,    8,   32,  114]]])"
      ]
     },
     "execution_count": 136,
     "metadata": {},
     "output_type": "execute_result"
    }
   ],
   "source": [
    "model = RNN(input_size=input_size,\n",
    "              hidden_size=100,\n",
    "              num_layers=num_layers,\n",
    "              n_labels=n_labels,\n",
    "              model='gru')\n",
    "model.eval()\n",
    "\n",
    "batch = next(iter(train_dataloader))\n",
    "# get the inputs; data is a list of [inputs, labels]\n",
    "history_sequences, target_sequences = batch['train_sequences'],batch['target_sequences']\n",
    "\n",
    "outs = model(history_sequences['sequence'])\n",
    "_,lengths = pad_packed_sequence(history_sequences['sequence'])\n",
    "lengths = lengths.detach().numpy()\n",
    "\n",
    "int2code_dict = train_dataloader.dataset.grouping_data[grouping]['int2code']\n",
    "convert_batch_out_2_predictions_faster(outs,lengths,int2code_dict)"
   ]
  },
  {
   "cell_type": "markdown",
   "id": "b29908de",
   "metadata": {},
   "source": [
    "# Compute metrics from predictions & targets"
   ]
  },
  {
   "cell_type": "code",
   "execution_count": 158,
   "id": "a4a429cb",
   "metadata": {},
   "outputs": [],
   "source": [
    "def compute_metrics(preds, targets):\n",
    "    \"\"\" \n",
    "    Computes recall for a batch of predictions. \n",
    "    Returns the average of each metric at the end in the format {metric:avg,metric2:avg,etc..}\n",
    "    \"\"\"\n",
    "    \n",
    "    levels = ['1 adm','2 adm','3 adm','>3 adm','last adm']\n",
    "    recall_at = [10,20,30]\n",
    "    \n",
    "    res = dict()\n",
    "    for key in levels:\n",
    "        res[key] = {f'recall{k}':[] for k in recall_at}\n",
    "    \n",
    "    for idx_pat, pat in enumerate(targets):\n",
    "        for idx_adm,adm in enumerate(pat):\n",
    "            for k in recall_at:\n",
    "                if idx_adm +1 <=3:\n",
    "                    res[f'{idx_adm+1} adm'][f'recall{k}'].append(Metrics.recall(adm,preds[idx_pat][idx_adm],k=k))\n",
    "                else:\n",
    "                    res[f'>3 adm'][f'recall{k}'].append(Metrics.recall(adm,preds[idx_pat][idx_adm],k=k))\n",
    "                \n",
    "                # we are at the last admission.\n",
    "                if idx_adm+1 == len(pat):\n",
    "                    res['last adm'][f'recall{k}'].append(Metrics.recall(adm,preds[idx_pat][idx_adm],k=k))\n",
    "    return res\n",
    "\n",
    "\n",
    "def concat_metrics(old_metrics:dict,new_metrics:dict):\n",
    "    # dicts are passed by reference\n",
    "    # so i just update whatever was passed to <old_metrics>\n",
    "    for level in old_metrics:\n",
    "        for metric in old_metrics[level]:\n",
    "            old_metrics[level][metric].extend(new_metrics[level][metric])\n",
    "    return None"
   ]
  },
  {
   "cell_type": "markdown",
   "id": "c83401f4",
   "metadata": {},
   "source": [
    "## Example"
   ]
  },
  {
   "cell_type": "code",
   "execution_count": 157,
   "id": "fb527e40",
   "metadata": {},
   "outputs": [
    {
     "data": {
      "text/plain": [
       "RNN(\n",
       "  (model): GRU(272, 100)\n",
       "  (lin): Linear(in_features=100, out_features=272, bias=True)\n",
       ")"
      ]
     },
     "execution_count": 157,
     "metadata": {},
     "output_type": "execute_result"
    },
    {
     "name": "stdout",
     "output_type": "stream",
     "text": [
      "[0.0, 0.047619047619047616, 0.0, 0.0, 0.0, 0.0, 0.0, 0.0, 0.1, 0.0, 0.0, 0.11764705882352941, 0.0, 0.0, 0.0, 0.125, 0.05555555555555555, 0.0, 0.0, 0.0, 0.0, 0.0, 0.0, 0.0, 0.0, 0.0, 0.0, 0.04, 0.1, 0.07407407407407407, 0.0, 0.1111111111111111, 0.0, 0.05263157894736842, 0.0, 0.07142857142857142, 0.058823529411764705, 0.0, 0.1, 0.0, 0.1, 0.0, 0.0, 0.0, 0.0, 0.0, 0.1111111111111111, 0.0, 0.0, 0.0, 0.058823529411764705, 0.0, 0.0, 0.0625, 0.07142857142857142, 0.0, 0.14285714285714285, 0.0, 0.0, 0.0, 0.0, 0.0, 0.0, 0.1111111111111111]\n"
     ]
    }
   ],
   "source": [
    "model = RNN(input_size=input_size,\n",
    "              hidden_size=100,\n",
    "              num_layers=num_layers,\n",
    "              n_labels=n_labels,\n",
    "              model='gru')\n",
    "model.eval()\n",
    "\n",
    "batch = next(iter(train_dataloader))\n",
    "# get the inputs; data is a list of [inputs, labels]\n",
    "history_sequences, target_sequences = batch['train_sequences'],batch['target_sequences']\n",
    "\n",
    "outs = model(history_sequences['sequence'])\n",
    "_,lengths = pad_packed_sequence(history_sequences['sequence'])\n",
    "lengths = lengths.detach().numpy()\n",
    "\n",
    "int2code_dict = train_dataloader.dataset.grouping_data[grouping]['int2code']\n",
    "preds = outs2pred(outs,int2code_dict)\n",
    "\n",
    "\n",
    "res = compute_metricsV2(preds,target_sequences['original'])\n",
    "\n",
    "# show some stuff\n",
    "print(res['last adm']['recall10'])"
   ]
  },
  {
   "cell_type": "markdown",
   "id": "5cc51ff6",
   "metadata": {},
   "source": [
    "# Eval model"
   ]
  },
  {
   "cell_type": "code",
   "execution_count": 177,
   "id": "6d66a538",
   "metadata": {},
   "outputs": [],
   "source": [
    "def eval_model(model, dataloader, criterion, epoch, name, only_loss=False):\n",
    "    \"\"\"\n",
    "    This functions evaluates and computes metrics of a model checkpoint on a dataloader\n",
    "    \"\"\"\n",
    "    \n",
    "    # eg:: ccs, icd9, etc..\n",
    "    code_type = dataloader.dataset.grouping\n",
    "    \n",
    "    \n",
    "    int2code = dataloader.dataset.grouping_data[code_type]['int2code']\n",
    "    \n",
    "    result = {'name':name,\n",
    "              'epoch':epoch\n",
    "             }\n",
    "    \n",
    "    total_loss = 0\n",
    "    total_seq = 0 #total sequences\n",
    "    \n",
    "    all_metrics = None\n",
    "    with torch.no_grad():\n",
    "        for i, batch in enumerate(iter(dataloader)):\n",
    "            \n",
    "            # get the inputs; data is a list of [inputs, labels]\n",
    "            history_sequences, target_sequences = batch['train_sequences'],batch['target_sequences']\n",
    "\n",
    "            outs = model(history_sequences['sequence'])\n",
    "\n",
    "            loss = criterion(outs, target_sequences['sequence'])\n",
    "\n",
    "            # compute loss\n",
    "            n = target_sequences['sequence'].size(0)\n",
    "            total_seq += n\n",
    "            total_loss += loss.item() * n\n",
    "            \n",
    "            # compute other metrics\n",
    "\n",
    "            _,lengths = pad_packed_sequence(history_sequences['sequence'])\n",
    "            \n",
    "            preds = outs2pred(outs,int2code)\n",
    "            \n",
    "            if all_metrics is None:\n",
    "                all_metrics = compute_metrics(preds,target_sequences['original'])\n",
    "            else:\n",
    "                new_metrics = compute_metrics(preds,target_sequences['original'])\n",
    "                concat_metrics(all_metrics,new_metrics)\n",
    "\n",
    "        result['loss'] = total_loss / total_seq\n",
    "        if only_loss:\n",
    "            return result\n",
    "        for level in all_metrics:\n",
    "            if level not in result:\n",
    "                result[level] = {}\n",
    "            for metric in all_metrics[level]:\n",
    "                if metric not in result[level].keys():\n",
    "                    result[level][metric] = {}\n",
    "                result[level][metric] = {'mean':np.mean(all_metrics[level][metric]),\n",
    "                                         'std':np.std(all_metrics[level][metric]),\n",
    "                                         'n': len(all_metrics[level][metric])\n",
    "                                        }\n",
    "    return result"
   ]
  },
  {
   "cell_type": "markdown",
   "id": "cc856a92",
   "metadata": {},
   "source": [
    "## Example"
   ]
  },
  {
   "cell_type": "code",
   "execution_count": 172,
   "id": "d3a7802b",
   "metadata": {},
   "outputs": [
    {
     "name": "stdout",
     "output_type": "stream",
     "text": [
      "done here\n"
     ]
    }
   ],
   "source": [
    "## Example eval_model\n",
    "\n",
    "model = RNN(input_size=input_size,\n",
    "              hidden_size=100,\n",
    "              num_layers=num_layers,\n",
    "              n_labels=n_labels,\n",
    "              model='gru')\n",
    "\n",
    "opt = torch.optim.Adam(model.parameters(), lr=0.02)\n",
    "criterion = nn.BCEWithLogitsLoss()\n",
    "\n",
    "res = eval_model(model, val_dataloader, criterion, epoch,'val')"
   ]
  },
  {
   "cell_type": "code",
   "execution_count": 173,
   "id": "8e0b6248",
   "metadata": {},
   "outputs": [
    {
     "data": {
      "text/plain": [
       "{'name': 'val',\n",
       " 'epoch': 3,\n",
       " 'loss': 0.6932924579009802,\n",
       " '1 adm': {'recall10': {'mean': 0.022220470884709208,\n",
       "   'std': 0.04869707662564347,\n",
       "   'n': 7499},\n",
       "  'recall20': {'mean': 0.04922809333090191,\n",
       "   'std': 0.07253438597216255,\n",
       "   'n': 7499},\n",
       "  'recall30': {'mean': 0.07987495790207726,\n",
       "   'std': 0.0981748012054294,\n",
       "   'n': 7499}},\n",
       " '2 adm': {'recall10': {'mean': 0.025817457278895485,\n",
       "   'std': 0.057913734902979894,\n",
       "   'n': 2374},\n",
       "  'recall20': {'mean': 0.0553148705746406,\n",
       "   'std': 0.07775293177598733,\n",
       "   'n': 2374},\n",
       "  'recall30': {'mean': 0.0869839970474674,\n",
       "   'std': 0.08965554567738389,\n",
       "   'n': 2374}},\n",
       " '3 adm': {'recall10': {'mean': 0.02741393369361806,\n",
       "   'std': 0.04801716203732152,\n",
       "   'n': 1033},\n",
       "  'recall20': {'mean': 0.05792350042884539,\n",
       "   'std': 0.06568919505834019,\n",
       "   'n': 1033},\n",
       "  'recall30': {'mean': 0.09308716741743037,\n",
       "   'std': 0.08313247879423646,\n",
       "   'n': 1033}},\n",
       " '>3 adm': {'recall10': {'mean': 0.03231670332815459,\n",
       "   'std': 0.05135653832659585,\n",
       "   'n': 1506},\n",
       "  'recall20': {'mean': 0.06994991050590683,\n",
       "   'std': 0.07361114505747215,\n",
       "   'n': 1506},\n",
       "  'recall30': {'mean': 0.10996371806948578,\n",
       "   'std': 0.09173212980134518,\n",
       "   'n': 1506}},\n",
       " 'last adm': {'recall10': {'mean': 0.023512956640214844,\n",
       "   'std': 0.05140845487009863,\n",
       "   'n': 7499},\n",
       "  'recall20': {'mean': 0.05173287465265766,\n",
       "   'std': 0.07471341206154324,\n",
       "   'n': 7499},\n",
       "  'recall30': {'mean': 0.08415264697715279,\n",
       "   'std': 0.09870957605775997,\n",
       "   'n': 7499}}}"
      ]
     },
     "execution_count": 173,
     "metadata": {},
     "output_type": "execute_result"
    }
   ],
   "source": [
    "res"
   ]
  },
  {
   "cell_type": "markdown",
   "id": "5e7f69be",
   "metadata": {},
   "source": [
    "# Train one epoch"
   ]
  },
  {
   "cell_type": "code",
   "execution_count": 174,
   "id": "f30e5c8f",
   "metadata": {},
   "outputs": [],
   "source": [
    "def train_one_epoch(model, train_loader, epoch, criterion, optimizer):\n",
    "    \"\"\"\n",
    "    Trains one epoch and returns mean loss over training\n",
    "    \"\"\"\n",
    "    model.train()\n",
    "    \n",
    "    total_loss = 0\n",
    "    total_n = 0\n",
    "    for i, batch in enumerate(iter(train_loader)):\n",
    "        # get the inputs; data is a list of [inputs, labels]\n",
    "        history_sequences, target_sequences = batch['train_sequences'],batch['target_sequences']\n",
    "\n",
    "        # zero the parameter gradients\n",
    "        model.zero_grad()\n",
    "\n",
    "        # forward + backward + optimize\n",
    "        \n",
    "        outs = model(history_sequences['sequence'])\n",
    "        \n",
    "        loss = criterion(outs, target_sequences['sequence'])\n",
    "        loss.backward()\n",
    "        \n",
    "        opt.step()\n",
    "        \n",
    "        _,lengths = pad_packed_sequence(history_sequences['sequence'])\n",
    "        \n",
    "        n = lengths.sum().item()\n",
    "        \n",
    "        total_loss += loss.item() * n\n",
    "        total_n += n\n",
    "    return total_loss / total_n"
   ]
  },
  {
   "cell_type": "markdown",
   "id": "07c901fa",
   "metadata": {},
   "source": [
    "## Example"
   ]
  },
  {
   "cell_type": "code",
   "execution_count": 184,
   "id": "1e8bfb8f",
   "metadata": {},
   "outputs": [
    {
     "name": "stdout",
     "output_type": "stream",
     "text": [
      "CPU times: user 1min 18s, sys: 37 ms, total: 1min 18s\n",
      "Wall time: 1min 18s\n"
     ]
    },
    {
     "data": {
      "text/plain": [
       "<AxesSubplot:>"
      ]
     },
     "execution_count": 184,
     "metadata": {},
     "output_type": "execute_result"
    },
    {
     "data": {
      "image/png": "[encoded data removed]",
      "text/plain": [
       "<Figure size 432x288 with 1 Axes>"
      ]
     },
     "metadata": {
      "needs_background": "light"
     },
     "output_type": "display_data"
    }
   ],
   "source": [
    "%%time\n",
    "## Example eval_model\n",
    "\n",
    "model = RNN(input_size=input_size,\n",
    "              hidden_size=100,\n",
    "              num_layers=num_layers,\n",
    "              n_labels=n_labels,\n",
    "              model='gru')\n",
    "\n",
    "opt = torch.optim.Adam(model.parameters(), lr=0.01)\n",
    "criterion = nn.BCEWithLogitsLoss(reduction='mean')\n",
    "\n",
    "losses = []\n",
    "val_metrics = []\n",
    "for epoch in range(0,7):\n",
    "    loss = train_one_epoch(model,train_dataloader, 1, criterion, opt)\n",
    "    losses.append(loss)\n",
    "    if epoch % 2 == 0:\n",
    "        val_metrics.append(eval_model(model,val_dataloader,criterion,epoch,'val'))\n",
    "pd.Series(losses).plot()"
   ]
  },
  {
   "cell_type": "code",
   "execution_count": 186,
   "id": "ba4137f0",
   "metadata": {},
   "outputs": [
    {
     "data": {
      "text/plain": [
       "0.2689212545074929"
      ]
     },
     "execution_count": 186,
     "metadata": {},
     "output_type": "execute_result"
    },
    {
     "data": {
      "text/plain": [
       "0.045974987054176374"
      ]
     },
     "execution_count": 186,
     "metadata": {},
     "output_type": "execute_result"
    }
   ],
   "source": [
    "val_metrics[0]['loss']\n",
    "val_metrics[-1]['loss']"
   ]
  },
  {
   "cell_type": "code",
   "execution_count": 187,
   "id": "6c88cc72",
   "metadata": {},
   "outputs": [
    {
     "data": {
      "text/plain": [
       "{'recall10': {'mean': 0.3701218691926719,\n",
       "  'std': 0.18219751326524034,\n",
       "  'n': 7499},\n",
       " 'recall20': {'mean': 0.5295617367666753,\n",
       "  'std': 0.18774851693388908,\n",
       "  'n': 7499},\n",
       " 'recall30': {'mean': 0.640873301892558,\n",
       "  'std': 0.17920721807228104,\n",
       "  'n': 7499}}"
      ]
     },
     "execution_count": 187,
     "metadata": {},
     "output_type": "execute_result"
    }
   ],
   "source": [
    "val_metrics[0]['1 adm']"
   ]
  },
  {
   "cell_type": "code",
   "execution_count": 191,
   "id": "a849d976",
   "metadata": {},
   "outputs": [
    {
     "data": {
      "text/plain": [
       "{'recall10': {'mean': 0.36163155089136967,\n",
       "  'std': 0.1766170570851731,\n",
       "  'n': 7499},\n",
       " 'recall20': {'mean': 0.5236286991838952,\n",
       "  'std': 0.18212773054602718,\n",
       "  'n': 7499},\n",
       " 'recall30': {'mean': 0.635913820216052,\n",
       "  'std': 0.17583566818017943,\n",
       "  'n': 7499}}"
      ]
     },
     "execution_count": 191,
     "metadata": {},
     "output_type": "execute_result"
    },
    {
     "data": {
      "text/plain": [
       "{'recall10': {'mean': 0.48630403387046084,\n",
       "  'std': 0.1925538402742622,\n",
       "  'n': 7499},\n",
       " 'recall20': {'mean': 0.6620859655520701,\n",
       "  'std': 0.1773473182249729,\n",
       "  'n': 7499},\n",
       " 'recall30': {'mean': 0.7636116507806993,\n",
       "  'std': 0.15810650249322447,\n",
       "  'n': 7499}}"
      ]
     },
     "execution_count": 191,
     "metadata": {},
     "output_type": "execute_result"
    }
   ],
   "source": [
    "val_metrics[0]['last adm']\n",
    "val_metrics[-1]['last adm']"
   ]
  },
  {
   "cell_type": "code",
   "execution_count": null,
   "id": "0d18783e",
   "metadata": {},
   "outputs": [],
   "source": []
  },
  {
   "cell_type": "markdown",
   "id": "39f13844",
   "metadata": {},
   "source": [
    "# Gridsearch"
   ]
  },
  {
   "cell_type": "code",
   "execution_count": null,
   "id": "64daad0e",
   "metadata": {},
   "outputs": [],
   "source": [
    "rnn = RNN(input_size=input_size,\n",
    "          hidden_size=hidden_size,\n",
    "          num_layers=num_layers,\n",
    "          n_labels=n_labels)\n",
    "\n",
    "lr = 0.01\n",
    "\n",
    "opt = torch.optim.Adam(rnn.parameters(), lr=lr)\n",
    "\n",
    "# contains softmax internally\n",
    "criterion = nn.BCEWithLogitsLoss()\n",
    "\n",
    "show_every=100\n",
    "loss_history = []\n",
    "\n",
    "for epoch in range(10):  # loop over the dataset multiple times\n",
    "\n",
    "    running_loss = 0.0\n",
    "    \n",
    "    for i, batch in enumerate(iter(train_dataloader)):\n",
    "        # get the inputs; data is a list of [inputs, labels]\n",
    "        train_sequence, target_sequence = batch['train_sequences'],batch['target_sequences']\n",
    "\n",
    "        # zero the parameter gradients\n",
    "        rnn.zero_grad()\n",
    "\n",
    "        # forward + backward + optimize\n",
    "        \n",
    "        outs = rnn(train_sequence['sequence'])\n",
    "        \n",
    "        loss = criterion(outs, target_sequence['sequence'])\n",
    "        loss.backward()\n",
    "        \n",
    "        opt.step()\n",
    "        \n",
    "        running_loss += loss.item() * target_sequence.size(0)\n",
    "        \n",
    "    loss_history.append(running_loss / len(train_dataloader))\n",
    "    print('epoch',epoch+1,'Done with loss',loss_history[-1])\n",
    "    "
   ]
  }
 ],
 "metadata": {
  "kernelspec": {
   "display_name": "Python 3 (ipykernel)",
   "language": "python",
   "name": "python3"
  },
  "language_info": {
   "codemirror_mode": {
    "name": "ipython",
    "version": 3
   },
   "file_extension": ".py",
   "mimetype": "text/x-python",
   "name": "python",
   "nbconvert_exporter": "python",
   "pygments_lexer": "ipython3",
   "version": "3.9.7"
  },
  "toc": {
   "base_numbering": 1,
   "nav_menu": {},
   "number_sections": true,
   "sideBar": true,
   "skip_h1_title": false,
   "title_cell": "Table of Contents",
   "title_sidebar": "Contents",
   "toc_cell": false,
   "toc_position": {},
   "toc_section_display": true,
   "toc_window_display": false
  },
  "toc-showtags": false,
  "varInspector": {
   "cols": {
    "lenName": 16,
    "lenType": 16,
    "lenVar": 40
   },
   "kernels_config": {
    "python": {
     "delete_cmd_postfix": "",
     "delete_cmd_prefix": "del ",
     "library": "var_list.py",
     "varRefreshCmd": "print(var_dic_list())"
    },
    "r": {
     "delete_cmd_postfix": ") ",
     "delete_cmd_prefix": "rm(",
     "library": "var_list.r",
     "varRefreshCmd": "cat(var_dic_list()) "
    }
   },
   "types_to_exclude": [
    "module",
    "function",
    "builtin_function_or_method",
    "instance",
    "_Feature"
   ],
   "window_display": false
  }
 },
 "nbformat": 4,
 "nbformat_minor": 5
}
