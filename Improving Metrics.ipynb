{
 "cells": [
  {
   "cell_type": "code",
   "execution_count": 1,
   "id": "4350d279-b0ab-4183-930b-fd13a3910e0d",
   "metadata": {},
   "outputs": [],
   "source": [
    "import os\n",
    "from typing import Callable\n",
    "\n",
    "import pickle\n",
    "import matplotlib.pyplot as plt\n",
    "\n",
    "import json\n",
    "\n",
    "from torch.utils.data import Dataset, DataLoader, random_split\n",
    "from torch import nn\n",
    "import torch\n",
    "from torch.nn.utils.rnn import pack_padded_sequence, pad_packed_sequence, pad_sequence, pack_sequence\n",
    "import torch.nn.functional as F\n",
    "\n",
    "from sklearn.model_selection import ParameterGrid, ParameterSampler\n",
    "\n",
    "from rnn_utils import DiagnosesDataset, split_dataset, MYCOLLATE\n",
    "from rnn_utils import train_one_epoch, eval_model, RNN\n",
    "from rnn_utils import outs2df, compute_loss\n",
    "\n",
    "from sklearn.metrics import roc_curve,roc_auc_score,average_precision_score,recall_score,precision_score,f1_score,accuracy_score\n",
    "\n",
    "from tqdm.notebook import tqdm\n",
    "\n",
    "import pandas as pd\n",
    "idx = pd.IndexSlice\n",
    "import numpy as np\n",
    "from math import ceil\n",
    "\n",
    "import json\n",
    "\n",
    "\n",
    "from Metrics import Metrics\n",
    "from config import Settings; settings = Settings()"
   ]
  },
  {
   "cell_type": "markdown",
   "id": "cc77cfea-ff56-47ce-93b5-2095a76ea054",
   "metadata": {},
   "source": [
    "# Load dataset and model"
   ]
  },
  {
   "cell_type": "code",
   "execution_count": 2,
   "id": "63586544-6caf-4a7c-b317-035fb1d46113",
   "metadata": {},
   "outputs": [],
   "source": [
    "model_name = 'pleasant-music-50'\n",
    "dataset_id = 'diag_only'\n",
    "\n",
    "model_folder = os.path.join(settings.data_base,settings.models_folder,model_name)\n",
    "assert os.path.exists(model_folder)\n",
    "\n",
    "dataset_folder = os.path.join(settings.data_base,settings.model_ready_dataset_folder,dataset_id)\n",
    "assert os.path.exists(dataset_folder)"
   ]
  },
  {
   "cell_type": "code",
   "execution_count": 3,
   "id": "8fdd068f-d15b-4001-abf0-2c438ce1c464",
   "metadata": {},
   "outputs": [
    {
     "name": "stdout",
     "output_type": "stream",
     "text": [
      "patients in train split 5249\n",
      "patients in val split 1125\n",
      "patients in test split 1125\n"
     ]
    },
    {
     "data": {
      "text/plain": [
       "<All keys matched successfully>"
      ]
     },
     "execution_count": 3,
     "metadata": {},
     "output_type": "execute_result"
    }
   ],
   "source": [
    "# Load dataset\n",
    "batch_size = 64 # really doesn't matter for this notebook since we will only to inference\n",
    "grouping = 'ccs'\n",
    "\n",
    "dataset = DiagnosesDataset(os.path.join(dataset_folder,'dataset.json'),grouping)\n",
    "\n",
    "train_dataset = DiagnosesDataset(os.path.join(dataset_folder,'train_subset.json'),grouping)\n",
    "val_dataset = DiagnosesDataset(os.path.join(dataset_folder,'val_subset.json'),grouping)\n",
    "test_dataset = DiagnosesDataset(os.path.join(dataset_folder,'test_subset.json'),grouping)\n",
    "\n",
    "\n",
    "print('patients in train split',len(train_dataset))\n",
    "print('patients in val split',len(val_dataset))\n",
    "print('patients in test split',len(test_dataset))\n",
    "\n",
    "\n",
    "train_dataloader = DataLoader(train_dataset,batch_size=batch_size,collate_fn=MYCOLLATE(dataset),shuffle=True)\n",
    "val_dataloader = DataLoader(val_dataset,batch_size=batch_size,collate_fn=MYCOLLATE(dataset)) #batch_size here is arbitrary and doesn't affect total validation speed\n",
    "test_dataloader = DataLoader(test_dataset,batch_size=batch_size,collate_fn=MYCOLLATE(dataset))\n",
    "\n",
    "# Load model\n",
    "\n",
    "# model hyperparameters path\n",
    "hypp_save_path = os.path.join(model_folder, 'hyper_parameters.json')\n",
    "with open(hypp_save_path,'r') as f:\n",
    "    params_loaded = json.load(f)\n",
    "\n",
    "# weights path\n",
    "weights_save_path = os.path.join(model_folder,\"weights\")\n",
    "\n",
    "model = RNN(**params_loaded)\n",
    "model.load_state_dict(torch.load(weights_save_path))"
   ]
  },
  {
   "cell_type": "markdown",
   "id": "db3759ca-c81f-4128-89d8-9cb737a18344",
   "metadata": {},
   "source": [
    "# Compute metrics"
   ]
  },
  {
   "cell_type": "code",
   "execution_count": 4,
   "id": "f4b7a610-f0f4-45f5-9804-6523dcfad15f",
   "metadata": {},
   "outputs": [],
   "source": [
    "out,golden = outs2df(model,val_dataloader,dataset,return_golden=True)"
   ]
  },
  {
   "cell_type": "code",
   "execution_count": 5,
   "id": "1aaa90c7-e4cf-4929-bfd2-cdba5d73eca6",
   "metadata": {},
   "outputs": [],
   "source": [
    "# predictions\n",
    "from Abstention.utils import get_prediction_thresholds\n",
    "\n",
    "def make_predictions(model_outputs, golden, prediction_method='roc gm'):\n",
    "    \n",
    "    thresholds = get_prediction_thresholds(model_outputs,golden,method=prediction_method)\n",
    "\n",
    "    def predict(predictions: pd.Series, threshold : float):\n",
    "        return predictions.apply(lambda x: 1 if x > threshold else 0)\n",
    "\n",
    "    preds = model_outputs.apply(lambda x: predict(x, thresholds.loc[x.name,'threshold']),axis=0)\n",
    "    \n",
    "    return preds\n",
    "\n",
    "preds = make_predictions(out,golden)"
   ]
  },
  {
   "cell_type": "code",
   "execution_count": 6,
   "id": "8e934042-fdaf-460b-88a1-d39d1661e6b2",
   "metadata": {},
   "outputs": [
    {
     "data": {
      "text/html": [
       "<div>\n",
       "<style scoped>\n",
       "    .dataframe tbody tr th:only-of-type {\n",
       "        vertical-align: middle;\n",
       "    }\n",
       "\n",
       "    .dataframe tbody tr th {\n",
       "        vertical-align: top;\n",
       "    }\n",
       "\n",
       "    .dataframe thead th {\n",
       "        text-align: right;\n",
       "    }\n",
       "</style>\n",
       "<table border=\"1\" class=\"dataframe\">\n",
       "  <thead>\n",
       "    <tr style=\"text-align: right;\">\n",
       "      <th></th>\n",
       "      <th></th>\n",
       "      <th>diag_0</th>\n",
       "      <th>diag_1</th>\n",
       "      <th>diag_2</th>\n",
       "      <th>diag_3</th>\n",
       "      <th>diag_4</th>\n",
       "      <th>diag_5</th>\n",
       "      <th>diag_6</th>\n",
       "      <th>diag_7</th>\n",
       "      <th>diag_8</th>\n",
       "      <th>diag_9</th>\n",
       "      <th>...</th>\n",
       "      <th>diag_262</th>\n",
       "      <th>diag_263</th>\n",
       "      <th>diag_264</th>\n",
       "      <th>diag_265</th>\n",
       "      <th>diag_266</th>\n",
       "      <th>diag_267</th>\n",
       "      <th>diag_268</th>\n",
       "      <th>diag_269</th>\n",
       "      <th>diag_270</th>\n",
       "      <th>diag_271</th>\n",
       "    </tr>\n",
       "    <tr>\n",
       "      <th>pat_id</th>\n",
       "      <th>adm_index</th>\n",
       "      <th></th>\n",
       "      <th></th>\n",
       "      <th></th>\n",
       "      <th></th>\n",
       "      <th></th>\n",
       "      <th></th>\n",
       "      <th></th>\n",
       "      <th></th>\n",
       "      <th></th>\n",
       "      <th></th>\n",
       "      <th></th>\n",
       "      <th></th>\n",
       "      <th></th>\n",
       "      <th></th>\n",
       "      <th></th>\n",
       "      <th></th>\n",
       "      <th></th>\n",
       "      <th></th>\n",
       "      <th></th>\n",
       "      <th></th>\n",
       "      <th></th>\n",
       "    </tr>\n",
       "  </thead>\n",
       "  <tbody>\n",
       "    <tr>\n",
       "      <th>21</th>\n",
       "      <th>1</th>\n",
       "      <td>0</td>\n",
       "      <td>0</td>\n",
       "      <td>0</td>\n",
       "      <td>0</td>\n",
       "      <td>0</td>\n",
       "      <td>0</td>\n",
       "      <td>0</td>\n",
       "      <td>0</td>\n",
       "      <td>1</td>\n",
       "      <td>0</td>\n",
       "      <td>...</td>\n",
       "      <td>0</td>\n",
       "      <td>1</td>\n",
       "      <td>0</td>\n",
       "      <td>0</td>\n",
       "      <td>0</td>\n",
       "      <td>0</td>\n",
       "      <td>0</td>\n",
       "      <td>0</td>\n",
       "      <td>0</td>\n",
       "      <td>1</td>\n",
       "    </tr>\n",
       "    <tr>\n",
       "      <th>23</th>\n",
       "      <th>1</th>\n",
       "      <td>0</td>\n",
       "      <td>0</td>\n",
       "      <td>0</td>\n",
       "      <td>0</td>\n",
       "      <td>0</td>\n",
       "      <td>0</td>\n",
       "      <td>0</td>\n",
       "      <td>0</td>\n",
       "      <td>1</td>\n",
       "      <td>0</td>\n",
       "      <td>...</td>\n",
       "      <td>1</td>\n",
       "      <td>0</td>\n",
       "      <td>0</td>\n",
       "      <td>0</td>\n",
       "      <td>1</td>\n",
       "      <td>0</td>\n",
       "      <td>0</td>\n",
       "      <td>0</td>\n",
       "      <td>1</td>\n",
       "      <td>1</td>\n",
       "    </tr>\n",
       "  </tbody>\n",
       "</table>\n",
       "<p>2 rows × 272 columns</p>\n",
       "</div>"
      ],
      "text/plain": [
       "                  diag_0  diag_1  diag_2  diag_3  diag_4  diag_5  diag_6  \\\n",
       "pat_id adm_index                                                           \n",
       "21     1               0       0       0       0       0       0       0   \n",
       "23     1               0       0       0       0       0       0       0   \n",
       "\n",
       "                  diag_7  diag_8  diag_9  ...  diag_262  diag_263  diag_264  \\\n",
       "pat_id adm_index                          ...                                 \n",
       "21     1               0       1       0  ...         0         1         0   \n",
       "23     1               0       1       0  ...         1         0         0   \n",
       "\n",
       "                  diag_265  diag_266  diag_267  diag_268  diag_269  diag_270  \\\n",
       "pat_id adm_index                                                               \n",
       "21     1                 0         0         0         0         0         0   \n",
       "23     1                 0         1         0         0         0         1   \n",
       "\n",
       "                  diag_271  \n",
       "pat_id adm_index            \n",
       "21     1                 1  \n",
       "23     1                 1  \n",
       "\n",
       "[2 rows x 272 columns]"
      ]
     },
     "execution_count": 6,
     "metadata": {},
     "output_type": "execute_result"
    }
   ],
   "source": [
    "preds.head(2)"
   ]
  },
  {
   "cell_type": "code",
   "execution_count": 7,
   "id": "d00860a4-2367-4ae6-b008-e122a38ec9a0",
   "metadata": {},
   "outputs": [],
   "source": [
    "res = eval_model(model,val_dataloader,dataset)"
   ]
  },
  {
   "cell_type": "code",
   "execution_count": 9,
   "id": "28393fbd-95cb-4381-9172-919b70e8f2f2",
   "metadata": {},
   "outputs": [
    {
     "data": {
      "text/html": [
       "<div>\n",
       "<style scoped>\n",
       "    .dataframe tbody tr th:only-of-type {\n",
       "        vertical-align: middle;\n",
       "    }\n",
       "\n",
       "    .dataframe tbody tr th {\n",
       "        vertical-align: top;\n",
       "    }\n",
       "\n",
       "    .dataframe thead th {\n",
       "        text-align: right;\n",
       "    }\n",
       "</style>\n",
       "<table border=\"1\" class=\"dataframe\">\n",
       "  <thead>\n",
       "    <tr style=\"text-align: right;\">\n",
       "      <th></th>\n",
       "      <th>roc_diag</th>\n",
       "      <th>roc_adm</th>\n",
       "      <th>avgprec_diag</th>\n",
       "      <th>avgprec_adm</th>\n",
       "      <th>accuracy_diag</th>\n",
       "      <th>accuracy_adm</th>\n",
       "      <th>recall_diag</th>\n",
       "      <th>recall_adm</th>\n",
       "      <th>precision_diag</th>\n",
       "      <th>precision_adm</th>\n",
       "      <th>f1_diag</th>\n",
       "      <th>f1_adm</th>\n",
       "    </tr>\n",
       "  </thead>\n",
       "  <tbody>\n",
       "    <tr>\n",
       "      <th>median</th>\n",
       "      <td>0.740923</td>\n",
       "      <td>0.931559</td>\n",
       "      <td>0.177212</td>\n",
       "      <td>0.529468</td>\n",
       "      <td>0.762738</td>\n",
       "      <td>0.783088</td>\n",
       "      <td>0.642857</td>\n",
       "      <td>0.700000</td>\n",
       "      <td>0.067532</td>\n",
       "      <td>0.115942</td>\n",
       "      <td>0.117647</td>\n",
       "      <td>0.197531</td>\n",
       "    </tr>\n",
       "    <tr>\n",
       "      <th>mean</th>\n",
       "      <td>0.739497</td>\n",
       "      <td>0.922650</td>\n",
       "      <td>0.266887</td>\n",
       "      <td>0.522789</td>\n",
       "      <td>0.744657</td>\n",
       "      <td>0.771881</td>\n",
       "      <td>0.598254</td>\n",
       "      <td>0.675440</td>\n",
       "      <td>0.152937</td>\n",
       "      <td>0.125950</td>\n",
       "      <td>0.205356</td>\n",
       "      <td>0.204976</td>\n",
       "    </tr>\n",
       "    <tr>\n",
       "      <th>std</th>\n",
       "      <td>0.163173</td>\n",
       "      <td>0.051843</td>\n",
       "      <td>0.260722</td>\n",
       "      <td>0.178667</td>\n",
       "      <td>0.176784</td>\n",
       "      <td>0.086581</td>\n",
       "      <td>0.224672</td>\n",
       "      <td>0.208668</td>\n",
       "      <td>0.200536</td>\n",
       "      <td>0.064315</td>\n",
       "      <td>0.223145</td>\n",
       "      <td>0.090623</td>\n",
       "    </tr>\n",
       "  </tbody>\n",
       "</table>\n",
       "</div>"
      ],
      "text/plain": [
       "        roc_diag   roc_adm  avgprec_diag  avgprec_adm  accuracy_diag  \\\n",
       "median  0.740923  0.931559      0.177212     0.529468       0.762738   \n",
       "mean    0.739497  0.922650      0.266887     0.522789       0.744657   \n",
       "std     0.163173  0.051843      0.260722     0.178667       0.176784   \n",
       "\n",
       "        accuracy_adm  recall_diag  recall_adm  precision_diag  precision_adm  \\\n",
       "median      0.783088     0.642857    0.700000        0.067532       0.115942   \n",
       "mean        0.771881     0.598254    0.675440        0.152937       0.125950   \n",
       "std         0.086581     0.224672    0.208668        0.200536       0.064315   \n",
       "\n",
       "         f1_diag    f1_adm  \n",
       "median  0.117647  0.197531  \n",
       "mean    0.205356  0.204976  \n",
       "std     0.223145  0.090623  "
      ]
     },
     "execution_count": 9,
     "metadata": {},
     "output_type": "execute_result"
    }
   ],
   "source": [
    "res[1]"
   ]
  },
  {
   "cell_type": "code",
   "execution_count": 10,
   "id": "fb7d4d6f-9984-40ed-99f1-0ec66ba34cde",
   "metadata": {},
   "outputs": [],
   "source": [
    "from sklearn.metrics import roc_auc_score,average_precision_score,recall_score,precision_score,f1_score\n",
    "\n",
    "def compute_metrics(model_outputs,model_predictions,golden):\n",
    "    \"\"\"\n",
    "    all input dataframes must be of the form:\n",
    "    double index of (<pat_id>,>adm_index>)\n",
    "    and columns are the diagnostics. eg: diag_0,...,diag_272\n",
    "    \n",
    "    returns several metrics in a dataframe\n",
    "    \"\"\"\n",
    "    \n",
    "    diag_weights = golden.sum(axis=0)\n",
    "    adm_weights = golden.sum(axis=1)\n",
    "    \n",
    "    # threshold independent\n",
    "    roc_diag = model_outputs.apply(lambda col: roc_auc_score(golden[col.name],col) if any(golden[col.name] == 1) else np.nan).rename('roc_diag')\n",
    "    roc_adm = model_outputs.apply(lambda row: roc_auc_score(golden.loc[row.name],row) if any(golden.loc[row.name] == 1) else np.nan,axis=1).rename('roc_adm')\n",
    "\n",
    "    avgprec_diag = model_outputs.apply(lambda col: average_precision_score(golden[col.name],col) if any(golden[col.name] == 1) else np.nan).rename('avgprec_diag')\n",
    "    avgprec_adm = model_outputs.apply(lambda row: average_precision_score(golden.loc[row.name],row) if any(golden.loc[row.name] == 1) else np.nan,axis=1).rename('avgprec_adm')\n",
    "\n",
    "    # threshold dependent\n",
    "    \n",
    "    accuracy_diag = model_predictions.apply(lambda col: accuracy_score(golden[col.name],col) if any(golden[col.name] == 1) else np.nan).rename('accuracy_diag')\n",
    "    accuracy_adm = model_predictions.apply(lambda row: accuracy_score(golden.loc[row.name],row) if any(golden.loc[row.name] == 1) else np.nan,axis=1).rename('accuracy_adm')\n",
    "\n",
    "    recall_diag = model_predictions.apply(lambda col: recall_score(golden[col.name],col) if any(golden[col.name] == 1) else np.nan).rename('recall_diag')\n",
    "    recall_adm = model_predictions.apply(lambda row: recall_score(golden.loc[row.name],row) if any(golden.loc[row.name] == 1) else np.nan,axis=1).rename('recall_adm')\n",
    "\n",
    "    precision_diag = model_predictions.apply(lambda col: precision_score(golden[col.name],col,zero_division=0) if any(golden[col.name] == 1) else np.nan).rename('precision_diag')\n",
    "    precision_adm = model_predictions.apply(lambda row: precision_score(golden.loc[row.name],row) if any(golden.loc[row.name] == 1) else np.nan,axis=1).rename('precision_adm')\n",
    "\n",
    "    f1_diag = model_predictions.apply(lambda col: f1_score(golden[col.name],col) if any(golden[col.name] == 1) else np.nan).rename('f1_diag')\n",
    "    f1_adm = model_predictions.apply(lambda row: f1_score(golden.loc[row.name],row) if any(golden.loc[row.name] == 1) else np.nan,axis=1).rename('f1_adm')\n",
    "    \n",
    "    # take weighted average\n",
    "    diag_metrics_wavg = (pd.concat([roc_diag, avgprec_diag, accuracy_diag, recall_diag, precision_diag, f1_diag],axis=1)\n",
    "                         .multiply(diag_weights,axis=0)\n",
    "                         .sum(axis=0)\n",
    "                         .divide(\n",
    "                             diag_weights.sum()\n",
    "                         )\n",
    "                        )\n",
    "    \n",
    "    adm_metrics_wavg = (pd.concat([roc_adm,avgprec_adm,accuracy_adm,recall_adm,precision_adm,f1_adm],axis=1)\n",
    "                        .multiply(adm_weights,axis=0)\n",
    "                        .sum(axis=0)\n",
    "                        .divide(\n",
    "                            adm_weights.sum()\n",
    "                        )\n",
    "                       )\n",
    "\n",
    "    \n",
    "    return pd.concat([diag_metrics_wavg,adm_metrics_wavg])"
   ]
  },
  {
   "cell_type": "code",
   "execution_count": 28,
   "id": "84bd6c81-ff2b-42ef-9d72-d9917b7c8a36",
   "metadata": {},
   "outputs": [
    {
     "data": {
      "text/plain": [
       "roc_diag                               0.752576\n",
       "avgprec_diag                           0.430799\n",
       "accuracy_diag                          0.727051\n",
       "recall_diag                            0.667702\n",
       "precision_diag                         0.335353\n",
       "f1_diag                                0.416344\n",
       "hihihihihihihihihihihiroc_adm          0.919891\n",
       "hihihihihihihihihihihiavgprec_adm      0.532184\n",
       "hihihihihihihihihihihiaccuracy_adm     0.762132\n",
       "hihihihihihihihihihihirecall_adm       0.667702\n",
       "hihihihihihihihihihihiprecision_adm    0.143320\n",
       "hihihihihihihihihihihif1_adm           0.228479\n",
       "dtype: float64"
      ]
     },
     "execution_count": 28,
     "metadata": {},
     "output_type": "execute_result"
    }
   ],
   "source": [
    "pd.concat([a,b])"
   ]
  },
  {
   "cell_type": "code",
   "execution_count": 11,
   "id": "f8194ba7-550f-4225-b3b1-6184efa1676e",
   "metadata": {},
   "outputs": [],
   "source": [
    "a,b = compute_metrics(out,preds,golden)"
   ]
  },
  {
   "cell_type": "code",
   "execution_count": 23,
   "id": "0d4e87fa-76fa-48e5-b4a4-3d526a944647",
   "metadata": {},
   "outputs": [
    {
     "data": {
      "text/plain": [
       "hihihihihihihihihihihiroc_adm          0.919891\n",
       "hihihihihihihihihihihiavgprec_adm      0.532184\n",
       "hihihihihihihihihihihiaccuracy_adm     0.762132\n",
       "hihihihihihihihihihihirecall_adm       0.667702\n",
       "hihihihihihihihihihihiprecision_adm    0.143320\n",
       "hihihihihihihihihihihif1_adm           0.228479\n",
       "dtype: float64"
      ]
     },
     "execution_count": 23,
     "metadata": {},
     "output_type": "execute_result"
    }
   ],
   "source": [
    "b.index = ['hi' + n for n in b.index]\n",
    "b"
   ]
  },
  {
   "cell_type": "code",
   "execution_count": 25,
   "id": "5499fb2e-2314-47ce-a676-f837b4905a8f",
   "metadata": {},
   "outputs": [],
   "source": [
    "c = {}\n",
    "c.update(a)"
   ]
  },
  {
   "cell_type": "code",
   "execution_count": 29,
   "id": "8cc7ed2b-ae04-4070-8196-2badbf7a048f",
   "metadata": {},
   "outputs": [],
   "source": [
    "c.update({'a':1})"
   ]
  },
  {
   "cell_type": "code",
   "execution_count": 31,
   "id": "6765239e-baf5-417c-a561-a5e70021cfa7",
   "metadata": {},
   "outputs": [
    {
     "ename": "TypeError",
     "evalue": "update expected at most 1 argument, got 2",
     "output_type": "error",
     "traceback": [
      "\u001b[0;31m---------------------------------------------------------------------------\u001b[0m",
      "\u001b[0;31mTypeError\u001b[0m                                 Traceback (most recent call last)",
      "\u001b[0;32m/var/folders/__/lcwlgwm95q9_vf5ypxxn3d7c0000gn/T/ipykernel_27833/4182845276.py\u001b[0m in \u001b[0;36m<module>\u001b[0;34m\u001b[0m\n\u001b[0;32m----> 1\u001b[0;31m \u001b[0mc\u001b[0m\u001b[0;34m.\u001b[0m\u001b[0mupdate\u001b[0m\u001b[0;34m(\u001b[0m\u001b[0;34m{\u001b[0m\u001b[0;34m'b'\u001b[0m\u001b[0;34m:\u001b[0m\u001b[0;36m2\u001b[0m\u001b[0;34m}\u001b[0m\u001b[0;34m,\u001b[0m\u001b[0;34m{\u001b[0m\u001b[0;34m'c'\u001b[0m\u001b[0;34m:\u001b[0m\u001b[0;36m3\u001b[0m\u001b[0;34m}\u001b[0m\u001b[0;34m)\u001b[0m\u001b[0;34m\u001b[0m\u001b[0;34m\u001b[0m\u001b[0m\n\u001b[0m",
      "\u001b[0;31mTypeError\u001b[0m: update expected at most 1 argument, got 2"
     ]
    }
   ],
   "source": [
    "c.update({'b':2},{'c':3})"
   ]
  },
  {
   "cell_type": "code",
   "execution_count": 24,
   "id": "6c800375-c236-4236-8647-aa3e1c07086b",
   "metadata": {},
   "outputs": [
    {
     "data": {
      "text/plain": [
       "{'roc_diag': 0.7525759673633372,\n",
       " 'avgprec_diag': 0.43079859288139066,\n",
       " 'accuracy_diag': 0.7270508188651702,\n",
       " 'recall_diag': 0.6677018633540373,\n",
       " 'precision_diag': 0.3353526481200552,\n",
       " 'f1_diag': 0.41634386282459274}"
      ]
     },
     "execution_count": 24,
     "metadata": {},
     "output_type": "execute_result"
    }
   ],
   "source": [
    "a.to_dict()"
   ]
  },
  {
   "cell_type": "code",
   "execution_count": null,
   "id": "d47f2d95-1527-44b4-8bd3-31215e21cf81",
   "metadata": {},
   "outputs": [],
   "source": []
  },
  {
   "cell_type": "code",
   "execution_count": 148,
   "id": "e50c15ef-9853-4905-8dc6-ba04b144a2af",
   "metadata": {},
   "outputs": [
    {
     "data": {
      "text/plain": [
       "pat_id  adm_index\n",
       "21      1            20.0\n",
       "23      1             9.0\n",
       "dtype: float32"
      ]
     },
     "execution_count": 148,
     "metadata": {},
     "output_type": "execute_result"
    }
   ],
   "source": [
    "weights = golden.sum(axis=1)\n",
    "weights.head(2)"
   ]
  },
  {
   "cell_type": "code",
   "execution_count": 150,
   "id": "458153ed-c63e-448d-8a94-dc4b954f875f",
   "metadata": {},
   "outputs": [
    {
     "data": {
      "text/html": [
       "<div>\n",
       "<style scoped>\n",
       "    .dataframe tbody tr th:only-of-type {\n",
       "        vertical-align: middle;\n",
       "    }\n",
       "\n",
       "    .dataframe tbody tr th {\n",
       "        vertical-align: top;\n",
       "    }\n",
       "\n",
       "    .dataframe thead th {\n",
       "        text-align: right;\n",
       "    }\n",
       "</style>\n",
       "<table border=\"1\" class=\"dataframe\">\n",
       "  <thead>\n",
       "    <tr style=\"text-align: right;\">\n",
       "      <th></th>\n",
       "      <th></th>\n",
       "      <th>accuracy_adm</th>\n",
       "      <th>roc_adm</th>\n",
       "    </tr>\n",
       "    <tr>\n",
       "      <th>pat_id</th>\n",
       "      <th>adm_index</th>\n",
       "      <th></th>\n",
       "      <th></th>\n",
       "    </tr>\n",
       "  </thead>\n",
       "  <tbody>\n",
       "    <tr>\n",
       "      <th>21</th>\n",
       "      <th>1</th>\n",
       "      <td>16.764706</td>\n",
       "      <td>18.773810</td>\n",
       "    </tr>\n",
       "    <tr>\n",
       "      <th>23</th>\n",
       "      <th>1</th>\n",
       "      <td>6.816176</td>\n",
       "      <td>8.326996</td>\n",
       "    </tr>\n",
       "  </tbody>\n",
       "</table>\n",
       "</div>"
      ],
      "text/plain": [
       "                  accuracy_adm    roc_adm\n",
       "pat_id adm_index                         \n",
       "21     1             16.764706  18.773810\n",
       "23     1              6.816176   8.326996"
      ]
     },
     "execution_count": 150,
     "metadata": {},
     "output_type": "execute_result"
    }
   ],
   "source": [
    "pd.concat([acc,roc],axis=1).multiply(weights,axis=0).head(2)"
   ]
  },
  {
   "cell_type": "code",
   "execution_count": 152,
   "id": "892a42ef-a92c-4a26-9ae5-c8c6cf2ec674",
   "metadata": {},
   "outputs": [
    {
     "data": {
      "text/plain": [
       "accuracy_adm    0.762132\n",
       "roc_adm         0.919891\n",
       "dtype: float64"
      ]
     },
     "execution_count": 152,
     "metadata": {},
     "output_type": "execute_result"
    }
   ],
   "source": [
    "pd.concat([acc,roc],axis=1).multiply(weights,axis=0).sum(axis=0).divide(weights.sum())"
   ]
  },
  {
   "cell_type": "code",
   "execution_count": 129,
   "id": "f9d8e8e0-6c35-4f40-bf23-68e5e4cecac1",
   "metadata": {},
   "outputs": [
    {
     "data": {
      "text/plain": [
       "diag_0    0.923314\n",
       "diag_1    0.639218\n",
       "diag_2    0.593412\n",
       "Name: accuracy_diag, dtype: float64"
      ]
     },
     "execution_count": 129,
     "metadata": {},
     "output_type": "execute_result"
    },
    {
     "data": {
      "text/plain": [
       "diag_0    0.718475\n",
       "diag_1    0.679087\n",
       "diag_2    0.608805\n",
       "Name: roc_diag, dtype: float64"
      ]
     },
     "execution_count": 129,
     "metadata": {},
     "output_type": "execute_result"
    }
   ],
   "source": [
    "acc.head(3)\n",
    "\n",
    "roc.head(3)"
   ]
  },
  {
   "cell_type": "code",
   "execution_count": 125,
   "id": "939f5683-e22c-4664-9ded-7e1c2c686f09",
   "metadata": {},
   "outputs": [
    {
     "data": {
      "text/plain": [
       "diag_0    0.923314\n",
       "Name: accuracy_diag, dtype: float64"
      ]
     },
     "execution_count": 125,
     "metadata": {},
     "output_type": "execute_result"
    },
    {
     "data": {
      "text/plain": [
       "diag_0    8.0\n",
       "dtype: float32"
      ]
     },
     "execution_count": 125,
     "metadata": {},
     "output_type": "execute_result"
    }
   ],
   "source": [
    "acc.head(1)\n",
    "weights.head(1)"
   ]
  },
  {
   "cell_type": "code",
   "execution_count": 124,
   "id": "080dd68e-9b9c-4764-93ec-449ef424aff4",
   "metadata": {},
   "outputs": [
    {
     "data": {
      "text/plain": [
       "diag_0        7.386516\n",
       "diag_1      244.181163\n",
       "diag_2      159.034483\n",
       "diag_3       59.458055\n",
       "diag_4       30.952136\n",
       "               ...    \n",
       "diag_267    113.139475\n",
       "diag_268     18.392177\n",
       "diag_269      1.851776\n",
       "diag_270     12.988163\n",
       "diag_271     26.922800\n",
       "Length: 272, dtype: float64"
      ]
     },
     "execution_count": 124,
     "metadata": {},
     "output_type": "execute_result"
    }
   ],
   "source": [
    "acc.multiply(weights)"
   ]
  },
  {
   "cell_type": "code",
   "execution_count": 147,
   "id": "c0a8057c-394a-433f-bf01-a581f1b68232",
   "metadata": {},
   "outputs": [
    {
     "data": {
      "text/plain": [
       "pat_id  adm_index\n",
       "21      1            20.0\n",
       "23      1             9.0\n",
       "61      1            14.0\n",
       "94      1             7.0\n",
       "105     1             4.0\n",
       "                     ... \n",
       "99383   3            12.0\n",
       "99650   1             6.0\n",
       "        2            24.0\n",
       "99756   1            10.0\n",
       "        2            16.0\n",
       "Length: 1943, dtype: float32"
      ]
     },
     "execution_count": 147,
     "metadata": {},
     "output_type": "execute_result"
    }
   ],
   "source": [
    "weights = golden.sum(axis=1)\n",
    "weights"
   ]
  },
  {
   "cell_type": "markdown",
   "id": "17cbfde3-ac56-41e9-8c6b-fcf49b799c58",
   "metadata": {},
   "source": [
    "# Update eval"
   ]
  },
  {
   "cell_type": "code",
   "execution_count": 114,
   "id": "f39fceae-397b-48ae-98f9-3ceabc88490a",
   "metadata": {},
   "outputs": [],
   "source": [
    "def eval_model(model, dataloader, dataset, only_loss=False, prediction_method='roc gm'):\n",
    "    \"\"\"\n",
    "    return either the loss or the loss and a metrics dataframe.\n",
    "    \n",
    "    Returns\n",
    "    -------\n",
    "    loss : torch.tensor\n",
    "    \n",
    "    metrics : pd.DataFrame, column_names ~ [roc,avgprec,accuracy,recall,precision,f1],\n",
    "                index = ['median','mean','std']\n",
    "        each column is followed by either \"_diag\" or \"_adm\"\n",
    "        \n",
    "    \"\"\"\n",
    "    \n",
    "    model_outputs,golden = outs2df(model, dataloader, dataset, return_golden=True)\n",
    "    \n",
    "    loss = compute_loss(model, dataloader)\n",
    "    \n",
    "    predictions = make_predictions(model_outputs,golden,prediction_method)\n",
    "    \n",
    "    if only_loss:\n",
    "        return loss\n",
    "    \n",
    "    metrics = compute_metrics(model_outputs,predictions,golden)\n",
    "    return loss,metrics"
   ]
  },
  {
   "cell_type": "code",
   "execution_count": 116,
   "id": "60325afe-a074-48f5-a455-dc9424f0db9f",
   "metadata": {},
   "outputs": [
    {
     "data": {
      "text/html": [
       "<div>\n",
       "<style scoped>\n",
       "    .dataframe tbody tr th:only-of-type {\n",
       "        vertical-align: middle;\n",
       "    }\n",
       "\n",
       "    .dataframe tbody tr th {\n",
       "        vertical-align: top;\n",
       "    }\n",
       "\n",
       "    .dataframe thead th {\n",
       "        text-align: right;\n",
       "    }\n",
       "</style>\n",
       "<table border=\"1\" class=\"dataframe\">\n",
       "  <thead>\n",
       "    <tr style=\"text-align: right;\">\n",
       "      <th></th>\n",
       "      <th>roc_diag</th>\n",
       "      <th>roc_adm</th>\n",
       "      <th>avgprec_diag</th>\n",
       "      <th>avgprec_adm</th>\n",
       "      <th>accuracy_diag</th>\n",
       "      <th>accuracy_adm</th>\n",
       "      <th>recall_diag</th>\n",
       "      <th>recall_adm</th>\n",
       "      <th>precision_diag</th>\n",
       "      <th>precision_adm</th>\n",
       "      <th>f1_diag</th>\n",
       "      <th>f1_adm</th>\n",
       "    </tr>\n",
       "  </thead>\n",
       "  <tbody>\n",
       "    <tr>\n",
       "      <th>median</th>\n",
       "      <td>0.740923</td>\n",
       "      <td>0.931559</td>\n",
       "      <td>0.177212</td>\n",
       "      <td>0.529468</td>\n",
       "      <td>0.762738</td>\n",
       "      <td>0.783088</td>\n",
       "      <td>0.642857</td>\n",
       "      <td>0.700000</td>\n",
       "      <td>0.067532</td>\n",
       "      <td>0.115942</td>\n",
       "      <td>0.117647</td>\n",
       "      <td>0.197531</td>\n",
       "    </tr>\n",
       "    <tr>\n",
       "      <th>mean</th>\n",
       "      <td>0.739497</td>\n",
       "      <td>0.922650</td>\n",
       "      <td>0.266887</td>\n",
       "      <td>0.522789</td>\n",
       "      <td>0.744657</td>\n",
       "      <td>0.771881</td>\n",
       "      <td>0.598254</td>\n",
       "      <td>0.675440</td>\n",
       "      <td>0.152937</td>\n",
       "      <td>0.125950</td>\n",
       "      <td>0.205356</td>\n",
       "      <td>0.204976</td>\n",
       "    </tr>\n",
       "    <tr>\n",
       "      <th>std</th>\n",
       "      <td>0.163173</td>\n",
       "      <td>0.051843</td>\n",
       "      <td>0.260722</td>\n",
       "      <td>0.178667</td>\n",
       "      <td>0.176784</td>\n",
       "      <td>0.086581</td>\n",
       "      <td>0.224672</td>\n",
       "      <td>0.208668</td>\n",
       "      <td>0.200536</td>\n",
       "      <td>0.064315</td>\n",
       "      <td>0.223145</td>\n",
       "      <td>0.090623</td>\n",
       "    </tr>\n",
       "  </tbody>\n",
       "</table>\n",
       "</div>"
      ],
      "text/plain": [
       "        roc_diag   roc_adm  avgprec_diag  avgprec_adm  accuracy_diag  \\\n",
       "median  0.740923  0.931559      0.177212     0.529468       0.762738   \n",
       "mean    0.739497  0.922650      0.266887     0.522789       0.744657   \n",
       "std     0.163173  0.051843      0.260722     0.178667       0.176784   \n",
       "\n",
       "        accuracy_adm  recall_diag  recall_adm  precision_diag  precision_adm  \\\n",
       "median      0.783088     0.642857    0.700000        0.067532       0.115942   \n",
       "mean        0.771881     0.598254    0.675440        0.152937       0.125950   \n",
       "std         0.086581     0.224672    0.208668        0.200536       0.064315   \n",
       "\n",
       "         f1_diag    f1_adm  \n",
       "median  0.117647  0.197531  \n",
       "mean    0.205356  0.204976  \n",
       "std     0.223145  0.090623  "
      ]
     },
     "execution_count": 116,
     "metadata": {},
     "output_type": "execute_result"
    }
   ],
   "source": [
    "eval_model(model,val_dataloader,dataset)[1]"
   ]
  },
  {
   "cell_type": "code",
   "execution_count": null,
   "id": "4eec2d68-6644-4ef3-a29a-99d1a4a4f177",
   "metadata": {},
   "outputs": [],
   "source": [
    "def eval_model(model, dataloader, dataset, criterion, epoch, name, only_loss=False,level_interest=None,k_interest=None):\n",
    "    \"\"\"\n",
    "    This functions evaluates and computes metrics of a model checkpoint on a dataloader\n",
    "    \n",
    "    criterion must be reduction='none'\n",
    "    \"\"\"\n",
    "    \n",
    "    model.eval()\n",
    "    # eg:: ccs, icd9, etc..\n",
    "    code_type = dataset.grouping\n",
    "    \n",
    "    int2code = dataset.grouping_data[code_type]['int2code']\n",
    "    \n",
    "    result = {'name':name,\n",
    "              'epoch':epoch\n",
    "             }\n",
    "    \n",
    "    total_loss = 0\n",
    "    total_seq = 0 #total sequences\n",
    "    \n",
    "    all_metrics = None\n",
    "    with torch.no_grad():\n",
    "        for i, batch in enumerate(iter(dataloader)):\n",
    "            \n",
    "            # get the inputs; data is a list of [inputs, labels]\n",
    "            history_sequences, target_sequences = batch['train_sequences'],batch['target_sequences']\n",
    "\n",
    "            inputs = history_sequences['sequence']\n",
    "            outs = model(inputs)\n",
    "            #print(outs.shape)\n",
    "            #print(inputs)\n",
    "            #print(target_sequences['sequence'].shape)\n",
    "\n",
    "            loss = criterion(outs, target_sequences['sequence'])\n",
    "            #print(inputs)\n",
    "            \n",
    "            # zero-out positions of the loss corresponding to padded inputs\n",
    "            # if a sequence has all zeros it is considered to be a padding.\n",
    "            # Comment: safer way to do this would be a solution using the lengths...\n",
    "            sequences,lengths = pad_packed_sequence(inputs,batch_first=True)\n",
    "            mask = ~sequences.any(dim=2).unsqueeze(2).repeat(1,1,sequences.shape[-1])\n",
    "            \n",
    "            #print(mask.shape)\n",
    "            #print(loss.shape)\n",
    "            #print(len(loss))\n",
    "            #print(loss)\n",
    "            loss.masked_fill_(mask, 0)\n",
    "        \n",
    "            loss = loss.sum() / (lengths.sum()*sequences.shape[-1])\n",
    "\n",
    "            # compute loss\n",
    "            n = target_sequences['sequence'].size(0)\n",
    "            total_seq += n\n",
    "            total_loss += loss.item() * n\n",
    "            \n",
    "            # compute other metrics\n",
    "\n",
    "            _,lengths = pad_packed_sequence(history_sequences['sequence'])\n",
    "            \n",
    "            preds = outs2pred(outs,int2code)\n",
    "            \n",
    "            if all_metrics is None:\n",
    "                all_metrics = compute_metrics(preds,target_sequences['original'],level_interest, k_interest)\n",
    "            else:\n",
    "                new_metrics = compute_metrics(preds,target_sequences['original'],level_interest, k_interest)\n",
    "                concat_metrics(all_metrics,new_metrics)\n",
    "\n",
    "        result['loss'] = total_loss / total_seq\n",
    "        if only_loss:\n",
    "            return result\n",
    "        for level in all_metrics:\n",
    "            if level not in result:\n",
    "                result[level] = {}\n",
    "            for metric in all_metrics[level]:\n",
    "                if metric not in result[level].keys():\n",
    "                    result[level][metric] = {}\n",
    "                result[level][metric] = {'mean':np.mean(all_metrics[level][metric]),\n",
    "                                         'std':np.std(all_metrics[level][metric]),\n",
    "                                         'n': len(all_metrics[level][metric])\n",
    "                                        }\n",
    "    return result"
   ]
  }
 ],
 "metadata": {
  "kernelspec": {
   "display_name": "Python (mthesis)",
   "language": "python",
   "name": "mthesis"
  },
  "language_info": {
   "codemirror_mode": {
    "name": "ipython",
    "version": 3
   },
   "file_extension": ".py",
   "mimetype": "text/x-python",
   "name": "python",
   "nbconvert_exporter": "python",
   "pygments_lexer": "ipython3",
   "version": "3.9.7"
  }
 },
 "nbformat": 4,
 "nbformat_minor": 5
}
