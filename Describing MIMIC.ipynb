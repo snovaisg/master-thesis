{
 "cells": [
  {
   "cell_type": "code",
   "execution_count": 1,
   "id": "f43b7c83-bd98-4c00-9962-081fc17ec6fd",
   "metadata": {},
   "outputs": [],
   "source": [
    "%matplotlib inline\n",
    "import os\n",
    "import pandas as pd\n",
    "import numpy as np\n",
    "\n",
    "from config import Settings; settings = Settings()\n",
    "from Mimic import Mimic\n",
    "from ICDCodesGrouper import ICDCodesGrouper as Grouper\n",
    "\n",
    "import matplotlib.pyplot as plt"
   ]
  },
  {
   "cell_type": "markdown",
   "id": "4d9d7b1e-4a51-4243-b978-5f92d2b0ba39",
   "metadata": {},
   "source": [
    "# Parameters"
   ]
  },
  {
   "cell_type": "code",
   "execution_count": 2,
   "id": "c4f6f926-07bd-452e-a50d-f6289f197d5d",
   "metadata": {},
   "outputs": [],
   "source": [
    "patients_filename = 'eligible_patients_exc.nodiag_single.adm.txt'"
   ]
  },
  {
   "cell_type": "code",
   "execution_count": 3,
   "id": "a9b6f8b3-b5b6-4455-a120-4b27d793ae2a",
   "metadata": {},
   "outputs": [],
   "source": [
    "patients_filepath = os.path.join(settings.data_base,settings.eligible_patients_folder, patients_filename)\n",
    "\n",
    "patients = np.loadtxt(patients_filepath)"
   ]
  },
  {
   "cell_type": "code",
   "execution_count": 4,
   "id": "0f2b1ff7-e2e9-4613-ad34-24178b0f1e06",
   "metadata": {},
   "outputs": [],
   "source": [
    "grouper = Grouper(settings)\n",
    "mimic = Mimic(settings,grouper)"
   ]
  },
  {
   "cell_type": "code",
   "execution_count": 5,
   "id": "27ea8853-715f-42e3-aee9-62b9ba5a6fc2",
   "metadata": {},
   "outputs": [],
   "source": [
    "admissions = mimic.read_admissions()\n",
    "data = admissions.loc[admissions.SUBJECT_ID.isin(patients)].groupby('SUBJECT_ID').HADM_ID.nunique().value_counts(normalize=True)"
   ]
  },
  {
   "cell_type": "code",
   "execution_count": 15,
   "id": "4cccffd3",
   "metadata": {},
   "outputs": [
    {
     "data": {
      "text/plain": [
       "7537"
      ]
     },
     "execution_count": 15,
     "metadata": {},
     "output_type": "execute_result"
    }
   ],
   "source": [
    "(mimic.read_diagnoses().groupby('SUBJECT_ID').HADM_ID.nunique() >= 2).sum()"
   ]
  },
  {
   "cell_type": "code",
   "execution_count": 6,
   "id": "9d51997c-f95e-42cb-9255-eedda744b522",
   "metadata": {},
   "outputs": [
    {
     "data": {
      "text/plain": [
       "943"
      ]
     },
     "execution_count": 6,
     "metadata": {},
     "output_type": "execute_result"
    }
   ],
   "source": [
    "mimic.read_diagnoses()['icd9_level3'].nunique()"
   ]
  },
  {
   "cell_type": "code",
   "execution_count": 7,
   "id": "ab36f99a-39bd-4547-8f06-115ad131d03b",
   "metadata": {},
   "outputs": [
    {
     "data": {
      "text/plain": [
       "<Figure size 576x432 with 0 Axes>"
      ]
     },
     "execution_count": 7,
     "metadata": {},
     "output_type": "execute_result"
    },
    {
     "data": {
      "text/plain": [
       "<AxesSubplot:>"
      ]
     },
     "execution_count": 7,
     "metadata": {},
     "output_type": "execute_result"
    },
    {
     "data": {
      "text/plain": [
       "Text(0.5, 1.0, 'Distribution of admissions per patient')"
      ]
     },
     "execution_count": 7,
     "metadata": {},
     "output_type": "execute_result"
    },
    {
     "data": {
      "text/plain": [
       "Text(0, 0.5, 'fraction')"
      ]
     },
     "execution_count": 7,
     "metadata": {},
     "output_type": "execute_result"
    },
    {
     "data": {
      "text/plain": [
       "Text(0.5, 0, 'Nº of Admissions')"
      ]
     },
     "execution_count": 7,
     "metadata": {},
     "output_type": "execute_result"
    },
    {
     "data": {
      "image/png": "[encoded data removed]",
      "text/plain": [
       "<Figure size 576x432 with 1 Axes>"
      ]
     },
     "metadata": {
      "needs_background": "light"
     },
     "output_type": "display_data"
    }
   ],
   "source": [
    "plt.figure(figsize=(8,6))\n",
    "data.iloc[:9].plot.bar()\n",
    "plt.title('Distribution of admissions per patient')\n",
    "plt.ylabel('fraction')\n",
    "plt.xlabel('Nº of Admissions')\n",
    "plt.savefig('media/adm_dist.png')"
   ]
  },
  {
   "cell_type": "code",
   "execution_count": 8,
   "id": "d438e9a4-30df-44c6-8e6d-ed96ee8a99c5",
   "metadata": {},
   "outputs": [
    {
     "data": {
      "text/plain": [
       "<Figure size 864x576 with 0 Axes>"
      ]
     },
     "execution_count": 8,
     "metadata": {},
     "output_type": "execute_result"
    },
    {
     "data": {
      "text/plain": [
       "<AxesSubplot:>"
      ]
     },
     "execution_count": 8,
     "metadata": {},
     "output_type": "execute_result"
    },
    {
     "data": {
      "text/plain": [
       "Text(0.5, 1.0, 'Distribution of Nº Diagnostics per admission')"
      ]
     },
     "execution_count": 8,
     "metadata": {},
     "output_type": "execute_result"
    },
    {
     "data": {
      "text/plain": [
       "Text(0, 0.5, 'fraction')"
      ]
     },
     "execution_count": 8,
     "metadata": {},
     "output_type": "execute_result"
    },
    {
     "data": {
      "text/plain": [
       "Text(0.5, 0, 'Nº diagnostics per admission')"
      ]
     },
     "execution_count": 8,
     "metadata": {},
     "output_type": "execute_result"
    },
    {
     "data": {
      "image/png": "[encoded data removed]",
      "text/plain": [
       "<Figure size 864x576 with 1 Axes>"
      ]
     },
     "metadata": {
      "needs_background": "light"
     },
     "output_type": "display_data"
    }
   ],
   "source": [
    "plt.figure(figsize=((12,8)))\n",
    "mimic.read_diagnoses().groupby('HADM_ID').ICD9_CODE.size().value_counts(normalize=True).sort_index().plot.bar()\n",
    "plt.title('Distribution of Nº Diagnostics per admission')\n",
    "plt.ylabel('fraction')\n",
    "plt.xlabel('Nº diagnostics per admission')\n",
    "plt.savefig('media/diag_dist.png')"
   ]
  },
  {
   "cell_type": "code",
   "execution_count": 9,
   "id": "e60ba2c2-bcea-4cc4-b7b6-8830cc43df83",
   "metadata": {},
   "outputs": [
    {
     "data": {
      "text/plain": [
       "19917"
      ]
     },
     "execution_count": 9,
     "metadata": {},
     "output_type": "execute_result"
    }
   ],
   "source": [
    "admissions.loc[admissions.SUBJECT_ID.isin(patients)].HADM_ID.nunique()"
   ]
  },
  {
   "cell_type": "code",
   "execution_count": 10,
   "id": "ae5a7715-c362-4bd2-9786-0c904e739dc1",
   "metadata": {},
   "outputs": [
    {
     "data": {
      "text/html": [
       "<div>\n",
       "<style scoped>\n",
       "    .dataframe tbody tr th:only-of-type {\n",
       "        vertical-align: middle;\n",
       "    }\n",
       "\n",
       "    .dataframe tbody tr th {\n",
       "        vertical-align: top;\n",
       "    }\n",
       "\n",
       "    .dataframe thead th {\n",
       "        text-align: right;\n",
       "    }\n",
       "</style>\n",
       "<table border=\"1\" class=\"dataframe\">\n",
       "  <thead>\n",
       "    <tr style=\"text-align: right;\">\n",
       "      <th></th>\n",
       "      <th>ROW_ID</th>\n",
       "      <th>SUBJECT_ID</th>\n",
       "      <th>HADM_ID</th>\n",
       "      <th>SEQ_NUM</th>\n",
       "      <th>ICD9_CODE</th>\n",
       "      <th>ccs</th>\n",
       "      <th>icd9chapters</th>\n",
       "      <th>icd9_level3</th>\n",
       "    </tr>\n",
       "  </thead>\n",
       "  <tbody>\n",
       "    <tr>\n",
       "      <th>0</th>\n",
       "      <td>1297</td>\n",
       "      <td>109</td>\n",
       "      <td>172335</td>\n",
       "      <td>1.0</td>\n",
       "      <td>40301</td>\n",
       "      <td>99</td>\n",
       "      <td>7</td>\n",
       "      <td>403</td>\n",
       "    </tr>\n",
       "    <tr>\n",
       "      <th>111742</th>\n",
       "      <td>105616</td>\n",
       "      <td>9412</td>\n",
       "      <td>148755</td>\n",
       "      <td>1.0</td>\n",
       "      <td>99674</td>\n",
       "      <td>237</td>\n",
       "      <td>17</td>\n",
       "      <td>996</td>\n",
       "    </tr>\n",
       "    <tr>\n",
       "      <th>335323</th>\n",
       "      <td>328441</td>\n",
       "      <td>28882</td>\n",
       "      <td>166021</td>\n",
       "      <td>1.0</td>\n",
       "      <td>44100</td>\n",
       "      <td>115</td>\n",
       "      <td>7</td>\n",
       "      <td>441</td>\n",
       "    </tr>\n",
       "    <tr>\n",
       "      <th>274264</th>\n",
       "      <td>274442</td>\n",
       "      <td>24588</td>\n",
       "      <td>176009</td>\n",
       "      <td>1.0</td>\n",
       "      <td>42840</td>\n",
       "      <td>108</td>\n",
       "      <td>7</td>\n",
       "      <td>428</td>\n",
       "    </tr>\n",
       "    <tr>\n",
       "      <th>111727</th>\n",
       "      <td>105601</td>\n",
       "      <td>9412</td>\n",
       "      <td>114483</td>\n",
       "      <td>1.0</td>\n",
       "      <td>486</td>\n",
       "      <td>122</td>\n",
       "      <td>8</td>\n",
       "      <td>486</td>\n",
       "    </tr>\n",
       "    <tr>\n",
       "      <th>...</th>\n",
       "      <td>...</td>\n",
       "      <td>...</td>\n",
       "      <td>...</td>\n",
       "      <td>...</td>\n",
       "      <td>...</td>\n",
       "      <td>...</td>\n",
       "      <td>...</td>\n",
       "      <td>...</td>\n",
       "    </tr>\n",
       "    <tr>\n",
       "      <th>27313</th>\n",
       "      <td>37428</td>\n",
       "      <td>3369</td>\n",
       "      <td>126808</td>\n",
       "      <td>NaN</td>\n",
       "      <td>NaN</td>\n",
       "      <td>-1</td>\n",
       "      <td>NaN</td>\n",
       "      <td>nan</td>\n",
       "    </tr>\n",
       "    <tr>\n",
       "      <th>132492</th>\n",
       "      <td>128656</td>\n",
       "      <td>11438</td>\n",
       "      <td>154602</td>\n",
       "      <td>NaN</td>\n",
       "      <td>NaN</td>\n",
       "      <td>-1</td>\n",
       "      <td>NaN</td>\n",
       "      <td>nan</td>\n",
       "    </tr>\n",
       "    <tr>\n",
       "      <th>305335</th>\n",
       "      <td>278820</td>\n",
       "      <td>24975</td>\n",
       "      <td>109963</td>\n",
       "      <td>NaN</td>\n",
       "      <td>NaN</td>\n",
       "      <td>-1</td>\n",
       "      <td>NaN</td>\n",
       "      <td>nan</td>\n",
       "    </tr>\n",
       "    <tr>\n",
       "      <th>356738</th>\n",
       "      <td>367323</td>\n",
       "      <td>31928</td>\n",
       "      <td>153208</td>\n",
       "      <td>NaN</td>\n",
       "      <td>NaN</td>\n",
       "      <td>-1</td>\n",
       "      <td>NaN</td>\n",
       "      <td>nan</td>\n",
       "    </tr>\n",
       "    <tr>\n",
       "      <th>549256</th>\n",
       "      <td>532929</td>\n",
       "      <td>73686</td>\n",
       "      <td>112990</td>\n",
       "      <td>NaN</td>\n",
       "      <td>NaN</td>\n",
       "      <td>-1</td>\n",
       "      <td>NaN</td>\n",
       "      <td>nan</td>\n",
       "    </tr>\n",
       "  </tbody>\n",
       "</table>\n",
       "<p>260001 rows × 8 columns</p>\n",
       "</div>"
      ],
      "text/plain": [
       "        ROW_ID  SUBJECT_ID  HADM_ID  SEQ_NUM ICD9_CODE  ccs icd9chapters  \\\n",
       "0         1297         109   172335      1.0     40301   99            7   \n",
       "111742  105616        9412   148755      1.0     99674  237           17   \n",
       "335323  328441       28882   166021      1.0     44100  115            7   \n",
       "274264  274442       24588   176009      1.0     42840  108            7   \n",
       "111727  105601        9412   114483      1.0       486  122            8   \n",
       "...        ...         ...      ...      ...       ...  ...          ...   \n",
       "27313    37428        3369   126808      NaN       NaN   -1          NaN   \n",
       "132492  128656       11438   154602      NaN       NaN   -1          NaN   \n",
       "305335  278820       24975   109963      NaN       NaN   -1          NaN   \n",
       "356738  367323       31928   153208      NaN       NaN   -1          NaN   \n",
       "549256  532929       73686   112990      NaN       NaN   -1          NaN   \n",
       "\n",
       "       icd9_level3  \n",
       "0              403  \n",
       "111742         996  \n",
       "335323         441  \n",
       "274264         428  \n",
       "111727         486  \n",
       "...            ...  \n",
       "27313          nan  \n",
       "132492         nan  \n",
       "305335         nan  \n",
       "356738         nan  \n",
       "549256         nan  \n",
       "\n",
       "[260001 rows x 8 columns]"
      ]
     },
     "execution_count": 10,
     "metadata": {},
     "output_type": "execute_result"
    }
   ],
   "source": [
    "admissions_eligible_list = (admissions\n",
    " .loc[admissions.SUBJECT_ID.isin(patients)]\n",
    " .HADM_ID.unique()\n",
    ")\n",
    "\n",
    "diagnoses = mimic.read_diagnoses()\n",
    "diagnoses_eligible = diagnoses[diagnoses.HADM_ID.isin(admissions_eligible_list)]\n",
    "diagnoses_eligible"
   ]
  },
  {
   "cell_type": "code",
   "execution_count": 82,
   "id": "ac5725d1-0927-47d7-a2f0-d73934d8c49b",
   "metadata": {},
   "outputs": [
    {
     "data": {
      "text/plain": [
       "4880"
      ]
     },
     "execution_count": 82,
     "metadata": {},
     "output_type": "execute_result"
    }
   ],
   "source": [
    "diagnoses_eligible.ICD9_CODE.nunique()"
   ]
  },
  {
   "cell_type": "code",
   "execution_count": 81,
   "id": "6c44c5e6-fb1c-45b3-96c7-bb93b317fb28",
   "metadata": {},
   "outputs": [
    {
     "data": {
      "text/plain": [
       "ICD9_CODE\n",
       "29570     101.0\n",
       "99659     101.0\n",
       "43330     101.0\n",
       "6827      101.0\n",
       "6961      101.0\n",
       "          ...  \n",
       "41401    4182.0\n",
       "5849     4315.0\n",
       "42731    5283.0\n",
       "4280     6584.0\n",
       "4019     7170.0\n",
       "Name: SUBJECT_ID, Length: 458, dtype: float64"
      ]
     },
     "execution_count": 81,
     "metadata": {},
     "output_type": "execute_result"
    }
   ],
   "source": [
    "diagnoses_eligible.groupby('ICD9_CODE').SUBJECT_ID.size().sort_values().where(lambda x: x>100).dropna()"
   ]
  },
  {
   "cell_type": "code",
   "execution_count": 73,
   "id": "fbe7ce28-07e1-4874-9ad7-b0baba80e8d0",
   "metadata": {},
   "outputs": [
    {
     "data": {
      "text/plain": [
       "6984"
      ]
     },
     "execution_count": 73,
     "metadata": {},
     "output_type": "execute_result"
    }
   ],
   "source": [
    "diagnoses.ICD9_CODE.nunique()"
   ]
  },
  {
   "cell_type": "code",
   "execution_count": 72,
   "id": "d3aa845d-afb5-4946-a033-92018dc8fe30",
   "metadata": {},
   "outputs": [
    {
     "data": {
      "text/plain": [
       "<AxesSubplot:>"
      ]
     },
     "execution_count": 72,
     "metadata": {},
     "output_type": "execute_result"
    },
    {
     "data": {
      "image/png": "[encoded data removed]",
      "text/plain": [
       "<Figure size 432x288 with 1 Axes>"
      ]
     },
     "metadata": {
      "needs_background": "light"
     },
     "output_type": "display_data"
    }
   ],
   "source": [
    "diagnoses.ICD9_CODE.value_counts().iloc[:50].plot.bar()"
   ]
  },
  {
   "cell_type": "code",
   "execution_count": 71,
   "id": "eb5d08a0-283c-4557-ad9a-7f5e0946fbea",
   "metadata": {},
   "outputs": [
    {
     "data": {
      "text/plain": [
       "<AxesSubplot:>"
      ]
     },
     "execution_count": 71,
     "metadata": {},
     "output_type": "execute_result"
    },
    {
     "data": {
      "image/png": "[encoded data removed]",
      "text/plain": [
       "<Figure size 432x288 with 1 Axes>"
      ]
     },
     "metadata": {
      "needs_background": "light"
     },
     "output_type": "display_data"
    }
   ],
   "source": [
    "diagnoses_eligible.ccs.value_counts().iloc[:50].plot.bar()"
   ]
  },
  {
   "cell_type": "code",
   "execution_count": null,
   "id": "3c2e3902-5677-48c0-a6f4-83d9819a5826",
   "metadata": {},
   "outputs": [],
   "source": []
  }
 ],
 "metadata": {
  "kernelspec": {
   "display_name": "Python (mthesis)",
   "language": "python",
   "name": "mthesis"
  },
  "language_info": {
   "codemirror_mode": {
    "name": "ipython",
    "version": 3
   },
   "file_extension": ".py",
   "mimetype": "text/x-python",
   "name": "python",
   "nbconvert_exporter": "python",
   "pygments_lexer": "ipython3",
   "version": "3.9.7"
  }
 },
 "nbformat": 4,
 "nbformat_minor": 5
}
