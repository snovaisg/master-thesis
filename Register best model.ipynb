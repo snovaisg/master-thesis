{
 "cells": [
  {
   "cell_type": "markdown",
   "id": "psychological-arabic",
   "metadata": {},
   "source": [
    "## Todos\n",
    "\n",
    "model isn't exactly reproducible. having different results when i load it"
   ]
  },
  {
   "cell_type": "markdown",
   "id": "funky-buffalo",
   "metadata": {},
   "source": [
    "As of 24 September my best uncertainty model according to recall@30 is registered in wandb in the project \"final_model_p1_pre_uncertainty_tunning\" and it is called \"golden-oath-84\"\n",
    "\n",
    "The config is as follow:\n",
    "- type: gru\n",
    "- hidden_size = 100\n",
    "- lr: 0.01\n",
    "- layers = 1\n",
    "- batch_size = 64\n",
    "- dropout: 0.1\n",
    "- epochs: 15\n",
    "\n",
    "\n",
    "In this notebook i will create a pickle of this model to be used for later experiments"
   ]
  },
  {
   "cell_type": "code",
   "execution_count": 2,
   "id": "898f5a25-f959-4db7-b646-64980ddb03d4",
   "metadata": {},
   "outputs": [],
   "source": [
    "# show all outputs\n",
    "from IPython.core.interactiveshell import InteractiveShell\n",
    "InteractiveShell.ast_node_interactivity = \"all\""
   ]
  },
  {
   "cell_type": "code",
   "execution_count": 3,
   "id": "elegant-tension",
   "metadata": {},
   "outputs": [],
   "source": [
    "model_name = 'golden-oath-84'"
   ]
  },
  {
   "cell_type": "code",
   "execution_count": 4,
   "id": "whole-mumbai",
   "metadata": {},
   "outputs": [],
   "source": [
    "import os\n",
    "import json\n",
    "\n",
    "from rnn_utils import DiagnosesDataset, split_dataset, MYCOLLATE\n",
    "from rnn_utils import train_one_epoch, eval_model\n",
    "\n",
    "from config import Settings; settings = Settings()\n",
    "\n",
    "from mourga_variational.variational_rnn import VariationalRNN\n",
    "\n",
    "import torch\n",
    "from torch.utils.data import Dataset, DataLoader, random_split\n",
    "\n",
    "from sklearn.model_selection import ParameterGrid, ParameterSampler\n",
    "\n",
    "import numpy as np\n",
    "import pandas as pd\n",
    "\n",
    "import wandb"
   ]
  },
  {
   "cell_type": "markdown",
   "id": "69e2e305-b184-4d7f-a971-8f7aad6473bc",
   "metadata": {},
   "source": [
    "# Parameters"
   ]
  },
  {
   "cell_type": "code",
   "execution_count": 5,
   "id": "b88f9203-685c-4601-9edb-82b53cacec3f",
   "metadata": {},
   "outputs": [],
   "source": [
    "dataset_id = 'diag_only'"
   ]
  },
  {
   "cell_type": "markdown",
   "id": "synthetic-semester",
   "metadata": {},
   "source": [
    "# Reproducibility"
   ]
  },
  {
   "cell_type": "code",
   "execution_count": 6,
   "id": "amateur-bangkok",
   "metadata": {},
   "outputs": [
    {
     "data": {
      "text/plain": [
       "<torch._C.Generator at 0x7f2c1019cf30>"
      ]
     },
     "execution_count": 6,
     "metadata": {},
     "output_type": "execute_result"
    }
   ],
   "source": [
    "# Reproducibility\n",
    "seed = settings.random_seed\n",
    "np.random.seed(seed)\n",
    "torch.manual_seed(seed)\n",
    "torch.cuda.manual_seed(seed)\n",
    "\n",
    "torch.backends.cudnn.deterministic = True\n",
    "torch.backends.cudnn.benchmark = False"
   ]
  },
  {
   "cell_type": "markdown",
   "id": "arranged-saskatchewan",
   "metadata": {},
   "source": [
    "# Create dataset"
   ]
  },
  {
   "cell_type": "code",
   "execution_count": 7,
   "id": "social-crest",
   "metadata": {},
   "outputs": [],
   "source": [
    "# hyperparameters of best model\n",
    "grouping = 'ccs'\n",
    "batch_size=64"
   ]
  },
  {
   "cell_type": "code",
   "execution_count": 8,
   "id": "49215b35-2a32-4604-a708-32a4215829a8",
   "metadata": {},
   "outputs": [
    {
     "name": "stdout",
     "output_type": "stream",
     "text": [
      "dataset at data/model_ready_dataset/diag_only\n"
     ]
    }
   ],
   "source": [
    "dataset_folder = os.path.join(settings.data_base,settings.model_ready_dataset_folder,dataset_id)\n",
    "print('dataset at',dataset_folder)"
   ]
  },
  {
   "cell_type": "code",
   "execution_count": 9,
   "id": "composite-governor",
   "metadata": {},
   "outputs": [
    {
     "data": {
      "text/plain": [
       "5249"
      ]
     },
     "execution_count": 9,
     "metadata": {},
     "output_type": "execute_result"
    },
    {
     "data": {
      "text/plain": [
       "1125"
      ]
     },
     "execution_count": 9,
     "metadata": {},
     "output_type": "execute_result"
    },
    {
     "data": {
      "text/plain": [
       "1125"
      ]
     },
     "execution_count": 9,
     "metadata": {},
     "output_type": "execute_result"
    }
   ],
   "source": [
    "dataset = DiagnosesDataset(os.path.join(dataset_folder,'dataset.json'),grouping)\n",
    "\n",
    "train_dataset = DiagnosesDataset(os.path.join(dataset_folder,'train_subset.json'),grouping)\n",
    "val_dataset = DiagnosesDataset(os.path.join(dataset_folder,'val_subset.json'),grouping)\n",
    "test_dataset = DiagnosesDataset(os.path.join(dataset_folder,'test_subset.json'),grouping)\n",
    "\n",
    "\n",
    "len(train_dataset)\n",
    "len(val_dataset)\n",
    "len(test_dataset)\n",
    "\n",
    "\n",
    "train_dataloader = DataLoader(train_dataset,batch_size=batch_size,collate_fn=MYCOLLATE(dataset),shuffle=True)\n",
    "val_dataloader = DataLoader(val_dataset,batch_size=batch_size,collate_fn=MYCOLLATE(dataset)) #batch_size here is arbitrary and doesn't affect total validation speed\n",
    "test_dataloader = DataLoader(test_dataset,batch_size=batch_size,collate_fn=MYCOLLATE(dataset))"
   ]
  },
  {
   "cell_type": "markdown",
   "id": "hired-disney",
   "metadata": {},
   "source": [
    "# Define model"
   ]
  },
  {
   "cell_type": "markdown",
   "id": "dental-parallel",
   "metadata": {},
   "source": [
    "## Hyperparameters"
   ]
  },
  {
   "cell_type": "code",
   "execution_count": 10,
   "id": "metropolitan-carnival",
   "metadata": {},
   "outputs": [],
   "source": [
    "# remaining hyperparameters of best model\n",
    "input_size = next(iter(train_dataloader))['target_sequences']['sequence'].shape[2]\n",
    "hidden_size = 100\n",
    "num_layers = 1\n",
    "n_labels = input_size\n",
    "rnn_type = 'GRU'\n",
    "\n",
    "lr = 0.01\n",
    "dropout = 0.1\n",
    "\n",
    "n_labels = input_size\n",
    "epochs = 15\n",
    "criterion = torch.nn.BCEWithLogitsLoss()"
   ]
  },
  {
   "cell_type": "markdown",
   "id": "unable-thumbnail",
   "metadata": {},
   "source": [
    "# Train"
   ]
  },
  {
   "cell_type": "code",
   "execution_count": 11,
   "id": "internal-cargo",
   "metadata": {},
   "outputs": [],
   "source": [
    "model = VariationalRNN(input_size=input_size,\n",
    "                          hidden_size=hidden_size,\n",
    "                          num_layers=num_layers,\n",
    "                          n_labels=n_labels,\n",
    "                          rnn_type=rnn_type,\n",
    "                          dropouti=dropout,\n",
    "                          dropoutw=dropout,\n",
    "                          dropouto=dropout)\n",
    "    \n",
    "optimizer = torch.optim.Adam(model.parameters(), lr=lr)\n",
    "\n",
    "for epoch in range(1,epochs+1):\n",
    "    loss = train_one_epoch(model,train_dataloader,epoch,criterion,optimizer)"
   ]
  },
  {
   "cell_type": "markdown",
   "id": "absolute-requirement",
   "metadata": {},
   "source": [
    "# Eval\n",
    "\n",
    "confirm it has good results"
   ]
  },
  {
   "cell_type": "code",
   "execution_count": 38,
   "id": "explicit-incentive",
   "metadata": {},
   "outputs": [
    {
     "data": {
      "text/plain": [
       "{'train_loss': 0.03444346990936664,\n",
       " 'train_recall@30': 0.7538760535481849,\n",
       " 'val_loss': 0.03972551769680447,\n",
       " 'test_loss': 0.038220416307449344,\n",
       " 'recall@30_test': 0.6988670438979819,\n",
       " 'recall@10': 0.4397468450493124,\n",
       " 'recall@20': 0.601957055396802,\n",
       " 'recall@30': 0.7072865203745103,\n",
       " 'n_val_recall@30_last': 1125}"
      ]
     },
     "execution_count": 38,
     "metadata": {},
     "output_type": "execute_result"
    }
   ],
   "source": [
    "train_results = eval_model(model,train_dataloader,dataset, criterion, epoch, 'train_last')\n",
    "val_results = eval_model(model,val_dataloader,dataset, criterion, epoch, 'validation')\n",
    "test_results = eval_model(model,test_dataloader,dataset, criterion, epoch, 'test')\n",
    "res = {'train_loss':train_results['loss'],\n",
    "       'train_recall@30':train_results['last adm']['recall30']['mean'],\n",
    "       'val_loss':val_results['loss'],\n",
    "       'test_loss':test_results['loss'],\n",
    "       'recall@30_test':test_results['last adm']['recall30']['mean'],\n",
    "       'recall@10':val_results['last adm']['recall10']['mean'],\n",
    "       'recall@20':val_results['last adm']['recall20']['mean'],\n",
    "       'recall@30':val_results['last adm']['recall30']['mean'],\n",
    "       'n_val_recall@30_last':val_results['last adm']['recall30']['n']\n",
    "      }\n",
    "res"
   ]
  },
  {
   "cell_type": "markdown",
   "id": "ranking-therapy",
   "metadata": {},
   "source": [
    "## Save model weights and parameters"
   ]
  },
  {
   "cell_type": "code",
   "execution_count": 15,
   "id": "stopped-supplier",
   "metadata": {},
   "outputs": [
    {
     "name": "stdout",
     "output_type": "stream",
     "text": [
      "Model saved!\n"
     ]
    }
   ],
   "source": [
    "model_folder = os.path.join(settings.data_base,settings.models_folder,model_name)\n",
    "\n",
    "if not os.path.isdir(model_folder):\n",
    "    os.mkdir(model_folder)\n",
    "\n",
    "# save weights\n",
    "weights_save_path = os.path.join(model_folder,\"weights\")\n",
    "\n",
    "torch.save(model.state_dict(), \n",
    "           weights_save_path\n",
    "          )\n",
    "print('Model saved!')"
   ]
  },
  {
   "cell_type": "markdown",
   "id": "absolute-cedar",
   "metadata": {},
   "source": [
    "## Save model hyperparameters"
   ]
  },
  {
   "cell_type": "code",
   "execution_count": 17,
   "id": "strong-communications",
   "metadata": {},
   "outputs": [
    {
     "name": "stdout",
     "output_type": "stream",
     "text": [
      "Hyperparameters saved!\n"
     ]
    }
   ],
   "source": [
    "params = dict(input_size = input_size,\n",
    "              hidden_size=hidden_size,\n",
    "              num_layers=num_layers,\n",
    "              n_labels=n_labels,\n",
    "              rnn_type=rnn_type,\n",
    "              dropouti=dropout,\n",
    "              dropouto=dropout,\n",
    "              dropoutw=dropout\n",
    "             )\n",
    "\n",
    "\n",
    "hypp_save_path = os.path.join(model_folder, 'hyper_parameters.json')\n",
    "\n",
    "with open(hypp_save_path, \"w\") as f:\n",
    "    json.dump(params, f)\n",
    "    \n",
    "print('Hyperparameters saved!')"
   ]
  },
  {
   "cell_type": "markdown",
   "id": "swiss-short",
   "metadata": {},
   "source": [
    "# Test it out"
   ]
  },
  {
   "cell_type": "markdown",
   "id": "naked-produce",
   "metadata": {},
   "source": [
    "### Read weights and hyperparameters"
   ]
  },
  {
   "cell_type": "code",
   "execution_count": 18,
   "id": "prerequisite-capital",
   "metadata": {},
   "outputs": [],
   "source": [
    "#hyperparameters\n",
    "with open(hypp_save_path,'r') as f:\n",
    "    params_loaded = json.load(f)\n",
    "    \n",
    "# weights\n",
    "weights = torch.load(weights_save_path)"
   ]
  },
  {
   "cell_type": "markdown",
   "id": "light-going",
   "metadata": {},
   "source": [
    "### Create model and load weights"
   ]
  },
  {
   "cell_type": "code",
   "execution_count": 19,
   "id": "designing-water",
   "metadata": {},
   "outputs": [
    {
     "data": {
      "text/plain": [
       "<All keys matched successfully>"
      ]
     },
     "execution_count": 19,
     "metadata": {},
     "output_type": "execute_result"
    }
   ],
   "source": [
    "new_model = VariationalRNN(**params_loaded)\n",
    "new_model.load_state_dict(torch.load(weights_save_path))"
   ]
  },
  {
   "cell_type": "markdown",
   "id": "stylish-america",
   "metadata": {},
   "source": [
    "### Evaluate it"
   ]
  },
  {
   "cell_type": "code",
   "execution_count": 40,
   "id": "recognized-toronto",
   "metadata": {},
   "outputs": [
    {
     "data": {
      "text/plain": [
       "{'recall10': {'mean': 0.44963078459716616,\n",
       "  'std': 0.20064399285689158,\n",
       "  'n': 1125},\n",
       " 'recall20': {'mean': 0.6151066932842334,\n",
       "  'std': 0.18995652498107357,\n",
       "  'n': 1125},\n",
       " 'recall30': {'mean': 0.7135500131803038,\n",
       "  'std': 0.17504136860314654,\n",
       "  'n': 1125}}"
      ]
     },
     "execution_count": 40,
     "metadata": {},
     "output_type": "execute_result"
    }
   ],
   "source": [
    "eval_model(new_model,val_dataloader,dataset, criterion, epoch, 'validation')['last adm']"
   ]
  },
  {
   "cell_type": "markdown",
   "id": "81c1e585-d198-49b1-a2bc-ad5264e0e5ca",
   "metadata": {},
   "source": [
    "# Performance doesn't match\n",
    "\n",
    "For some reason, the performance isn't exactly the same for the loaded model. Maybe they are different in their parameters?"
   ]
  },
  {
   "cell_type": "code",
   "execution_count": 29,
   "id": "emerging-mistress",
   "metadata": {},
   "outputs": [
    {
     "name": "stdout",
     "output_type": "stream",
     "text": [
      "Models match\n"
     ]
    }
   ],
   "source": [
    "for p1, p2 in zip(model.parameters(), new_model.parameters()):\n",
    "    if p1.data.ne(p2.data).sum() > 0:\n",
    "        print('Models don\\'t match')\n",
    "print('Models match')"
   ]
  },
  {
   "cell_type": "markdown",
   "id": "ac171afd-5f53-4e03-8a82-b376c8fb065d",
   "metadata": {},
   "source": [
    ".... weird\n"
   ]
  }
 ],
 "metadata": {
  "kernelspec": {
   "display_name": "Python (thesis)",
   "language": "python",
   "name": "thesis"
  },
  "language_info": {
   "codemirror_mode": {
    "name": "ipython",
    "version": 3
   },
   "file_extension": ".py",
   "mimetype": "text/x-python",
   "name": "python",
   "nbconvert_exporter": "python",
   "pygments_lexer": "ipython3",
   "version": "3.9.7"
  }
 },
 "nbformat": 4,
 "nbformat_minor": 5
}
