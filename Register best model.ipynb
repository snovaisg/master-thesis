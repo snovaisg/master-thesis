{
 "cells": [
  {
   "cell_type": "markdown",
   "id": "psychological-arabic",
   "metadata": {},
   "source": [
    "## Todos\n",
    "\n",
    "model isn't exactly reproducible. having different results when i load it"
   ]
  },
  {
   "cell_type": "markdown",
   "id": "funky-buffalo",
   "metadata": {},
   "source": [
    "As of 24 September my best uncertainty model according to recall@30 is registered in wandb in the project \"final_model_p1_pre_uncertainty_tunning\" and it is called \"golden-oath-84\"\n",
    "\n",
    "The config is as follow:\n",
    "- type: gru\n",
    "- hidden_size = 100\n",
    "- lr: 0.01\n",
    "- layers = 1\n",
    "- batch_size = 64\n",
    "- dropout: 0.1\n",
    "- epochs: 15\n",
    "\n",
    "\n",
    "In this notebook i will create a pickle of this model to be used for later experiments"
   ]
  },
  {
   "cell_type": "code",
   "execution_count": 1,
   "id": "elegant-tension",
   "metadata": {},
   "outputs": [],
   "source": [
    "model_name = 'golden-oath-84'"
   ]
  },
  {
   "cell_type": "code",
   "execution_count": 2,
   "id": "whole-mumbai",
   "metadata": {},
   "outputs": [],
   "source": [
    "import os\n",
    "import json\n",
    "\n",
    "from rnn_utils import DiagnosesDataset, split_dataset, MYCOLLATE\n",
    "from rnn_utils import train_one_epoch, eval_model\n",
    "\n",
    "from mourga_variational.variational_rnn import VariationalRNN\n",
    "\n",
    "import torch\n",
    "from torch.utils.data import Dataset, DataLoader, random_split\n",
    "\n",
    "from sklearn.model_selection import ParameterGrid, ParameterSampler\n",
    "\n",
    "import numpy as np\n",
    "import pandas as pd\n",
    "\n",
    "import wandb"
   ]
  },
  {
   "cell_type": "markdown",
   "id": "synthetic-semester",
   "metadata": {},
   "source": [
    "# Reproducibility"
   ]
  },
  {
   "cell_type": "code",
   "execution_count": 3,
   "id": "amateur-bangkok",
   "metadata": {},
   "outputs": [
    {
     "data": {
      "text/plain": [
       "<torch._C.Generator at 0x127a56730>"
      ]
     },
     "execution_count": 3,
     "metadata": {},
     "output_type": "execute_result"
    }
   ],
   "source": [
    "# Reproducibility\n",
    "np.random.seed(546)\n",
    "torch.manual_seed(546)\n",
    "torch.cuda.manual_seed(546)\n",
    "\n",
    "torch.backends.cudnn.deterministic = True\n",
    "torch.backends.cudnn.benchmark = False"
   ]
  },
  {
   "cell_type": "markdown",
   "id": "arranged-saskatchewan",
   "metadata": {},
   "source": [
    "# Create dataset"
   ]
  },
  {
   "cell_type": "code",
   "execution_count": 4,
   "id": "social-crest",
   "metadata": {},
   "outputs": [],
   "source": [
    "grouping = 'ccs'\n",
    "batch_size=64"
   ]
  },
  {
   "cell_type": "code",
   "execution_count": 5,
   "id": "composite-governor",
   "metadata": {},
   "outputs": [
    {
     "data": {
      "text/plain": [
       "6375"
      ]
     },
     "execution_count": 5,
     "metadata": {},
     "output_type": "execute_result"
    },
    {
     "data": {
      "text/plain": [
       "5250"
      ]
     },
     "execution_count": 5,
     "metadata": {},
     "output_type": "execute_result"
    },
    {
     "data": {
      "text/plain": [
       "1125"
      ]
     },
     "execution_count": 5,
     "metadata": {},
     "output_type": "execute_result"
    },
    {
     "data": {
      "text/plain": [
       "1124"
      ]
     },
     "execution_count": 5,
     "metadata": {},
     "output_type": "execute_result"
    }
   ],
   "source": [
    "dataset = DiagnosesDataset('data/model_data.json',grouping)\n",
    "test_size = 0.15\n",
    "eval_size=0.15\n",
    "eval_size_corrected = eval_size/(1-test_size)\n",
    "\n",
    "whole_train_dataset,test_dataset = split_dataset(dataset,test_size)\n",
    "train_dataset, val_dataset = split_dataset(whole_train_dataset,eval_size_corrected)\n",
    "\n",
    "len(whole_train_dataset)\n",
    "len(train_dataset)\n",
    "len(val_dataset)\n",
    "len(test_dataset)\n",
    "\n",
    "whole_train_dataset = DataLoader(whole_train_dataset,batch_size=batch_size,collate_fn=MYCOLLATE(dataset),shuffle=True)\n",
    "train_dataloader = DataLoader(train_dataset,batch_size=batch_size,collate_fn=MYCOLLATE(dataset),shuffle=True)\n",
    "val_dataloader = DataLoader(val_dataset,batch_size=batch_size,collate_fn=MYCOLLATE(dataset)) #batch_size here is arbitrary and doesn't affect total validation speed\n",
    "test_dataloader = DataLoader(test_dataset,batch_size=batch_size,collate_fn=MYCOLLATE(dataset))"
   ]
  },
  {
   "cell_type": "markdown",
   "id": "hired-disney",
   "metadata": {},
   "source": [
    "# Define model"
   ]
  },
  {
   "cell_type": "markdown",
   "id": "dental-parallel",
   "metadata": {},
   "source": [
    "## Hyperparameters"
   ]
  },
  {
   "cell_type": "code",
   "execution_count": 7,
   "id": "metropolitan-carnival",
   "metadata": {},
   "outputs": [],
   "source": [
    "input_size = next(iter(train_dataloader))['target_sequences']['sequence'].shape[2]\n",
    "hidden_size = 100\n",
    "num_layers = 1\n",
    "n_labels = input_size\n",
    "rnn_type = 'GRU'\n",
    "\n",
    "lr = 0.01\n",
    "dropout = 0.1"
   ]
  },
  {
   "cell_type": "code",
   "execution_count": 8,
   "id": "weird-particle",
   "metadata": {},
   "outputs": [],
   "source": [
    "n_labels = input_size\n",
    "epochs = 15\n",
    "criterion = torch.nn.BCEWithLogitsLoss()"
   ]
  },
  {
   "cell_type": "markdown",
   "id": "unable-thumbnail",
   "metadata": {},
   "source": [
    "# Train"
   ]
  },
  {
   "cell_type": "code",
   "execution_count": 9,
   "id": "internal-cargo",
   "metadata": {},
   "outputs": [],
   "source": [
    "model = VariationalRNN(input_size=input_size,\n",
    "                          hidden_size=hidden_size,\n",
    "                          num_layers=num_layers,\n",
    "                          n_labels=n_labels,\n",
    "                          rnn_type=rnn_type,\n",
    "                          dropouti=dropout,\n",
    "                          dropoutw=dropout,\n",
    "                          dropouto=dropout)\n",
    "    \n",
    "optimizer = torch.optim.Adam(model.parameters(), lr=lr)\n",
    "\n",
    "for epoch in range(1,epochs+1):\n",
    "    loss = train_one_epoch(model,train_dataloader,epoch,criterion,optimizer)"
   ]
  },
  {
   "cell_type": "markdown",
   "id": "absolute-requirement",
   "metadata": {},
   "source": [
    "# Eval\n",
    "\n",
    "confirm it has good results"
   ]
  },
  {
   "cell_type": "code",
   "execution_count": 10,
   "id": "explicit-incentive",
   "metadata": {},
   "outputs": [
    {
     "name": "stderr",
     "output_type": "stream",
     "text": [
      "/Users/simaonovais/opt/miniconda3/envs/thesis/lib/python3.9/site-packages/numpy/core/fromnumeric.py:3440: RuntimeWarning: Mean of empty slice.\n",
      "  return _methods._mean(a, axis=axis, dtype=dtype,\n",
      "/Users/simaonovais/opt/miniconda3/envs/thesis/lib/python3.9/site-packages/numpy/core/_methods.py:189: RuntimeWarning: invalid value encountered in double_scalars\n",
      "  ret = ret.dtype.type(ret / rcount)\n",
      "/Users/simaonovais/opt/miniconda3/envs/thesis/lib/python3.9/site-packages/numpy/core/_methods.py:262: RuntimeWarning: Degrees of freedom <= 0 for slice\n",
      "  ret = _var(a, axis=axis, dtype=dtype, out=out, ddof=ddof,\n",
      "/Users/simaonovais/opt/miniconda3/envs/thesis/lib/python3.9/site-packages/numpy/core/_methods.py:222: RuntimeWarning: invalid value encountered in true_divide\n",
      "  arrmean = um.true_divide(arrmean, div, out=arrmean, casting='unsafe',\n",
      "/Users/simaonovais/opt/miniconda3/envs/thesis/lib/python3.9/site-packages/numpy/core/_methods.py:254: RuntimeWarning: invalid value encountered in double_scalars\n",
      "  ret = ret.dtype.type(ret / rcount)\n"
     ]
    },
    {
     "data": {
      "text/plain": [
       "{'train_loss': 0.03398568955489567,\n",
       " 'train_recall@30': 0.7559982857687191,\n",
       " 'val_loss': 0.035415327936410904,\n",
       " 'recall@10': 0.43259607308928094,\n",
       " 'recall@20': 0.603509778626304,\n",
       " 'recall@30': 0.7074953808560517}"
      ]
     },
     "execution_count": 10,
     "metadata": {},
     "output_type": "execute_result"
    }
   ],
   "source": [
    "train_results = eval_model(model,train_dataloader,dataset, criterion, epoch, 'train_last')\n",
    "val_results = eval_model(model,val_dataloader,dataset, criterion, epoch, 'validation')\n",
    "res = {'train_loss':train_results['loss'],\n",
    "       'train_recall@30':train_results['last adm']['recall30']['mean'],\n",
    "       'val_loss':val_results['loss'],\n",
    "       'recall@10':val_results['last adm']['recall10']['mean'],\n",
    "       'recall@20':val_results['last adm']['recall20']['mean'],\n",
    "       'recall@30':val_results['last adm']['recall30']['mean']\n",
    "      }\n",
    "res"
   ]
  },
  {
   "cell_type": "markdown",
   "id": "ranking-therapy",
   "metadata": {},
   "source": [
    "## Save model weights and parameters"
   ]
  },
  {
   "cell_type": "code",
   "execution_count": 17,
   "id": "7627c10f-751d-44b0-a5c9-29ced2f41ec7",
   "metadata": {},
   "outputs": [],
   "source": [
    "os.mkdir('test')"
   ]
  },
  {
   "cell_type": "code",
   "execution_count": 18,
   "id": "stopped-supplier",
   "metadata": {},
   "outputs": [],
   "source": [
    "models_base_path = 'models'\n",
    "model_path = os.path.join('models',model_name)\n",
    "\n",
    "if not os.path.isdir(models_base_path):\n",
    "    os.mkdir(models_base_path)\n",
    "if not os.path.isdir(model_path):\n",
    "    os.mkdir(model_path)\n",
    "\n",
    "# save weights\n",
    "weights_save_path = os.path.join('models',\n",
    "                         model_name,\n",
    "                         \"_\".join([model_name,'weights'])\n",
    "                        )\n",
    "\n",
    "torch.save(model.state_dict(), \n",
    "           weights_save_path\n",
    "          )"
   ]
  },
  {
   "cell_type": "markdown",
   "id": "absolute-cedar",
   "metadata": {},
   "source": [
    "## Save model hyperparameters"
   ]
  },
  {
   "cell_type": "code",
   "execution_count": 19,
   "id": "strong-communications",
   "metadata": {},
   "outputs": [],
   "source": [
    "params = dict(input_size = input_size,\n",
    "              hidden_size=hidden_size,\n",
    "              num_layers=num_layers,\n",
    "              n_labels=n_labels,\n",
    "              rnn_type=rnn_type,\n",
    "              dropouti=dropout,\n",
    "              dropouto=dropout,\n",
    "              dropoutw=dropout\n",
    "             )\n",
    "\n",
    "hypp_save_path = os.path.join(model_path, \"_\".join([model_name,'hypp.json']))\n",
    "with open(hypp_save_path, \"w\") as f:\n",
    "    json.dump(params, f)"
   ]
  },
  {
   "cell_type": "markdown",
   "id": "swiss-short",
   "metadata": {},
   "source": [
    "# Test it out"
   ]
  },
  {
   "cell_type": "markdown",
   "id": "naked-produce",
   "metadata": {},
   "source": [
    "### Read weights and hyperparameters"
   ]
  },
  {
   "cell_type": "code",
   "execution_count": 20,
   "id": "prerequisite-capital",
   "metadata": {},
   "outputs": [],
   "source": [
    "#hyperparameters\n",
    "with open(hypp_save_path,'r') as f:\n",
    "    params_loaded = json.load(f)\n",
    "    \n",
    "# weights\n",
    "weights = torch.load(weights_save_path)"
   ]
  },
  {
   "cell_type": "markdown",
   "id": "light-going",
   "metadata": {},
   "source": [
    "### Create model and load weights"
   ]
  },
  {
   "cell_type": "code",
   "execution_count": 21,
   "id": "designing-water",
   "metadata": {},
   "outputs": [
    {
     "data": {
      "text/plain": [
       "<All keys matched successfully>"
      ]
     },
     "execution_count": 21,
     "metadata": {},
     "output_type": "execute_result"
    }
   ],
   "source": [
    "new_model = VariationalRNN(**params_loaded)\n",
    "new_model.load_state_dict(torch.load(weights_save_path))"
   ]
  },
  {
   "cell_type": "markdown",
   "id": "stylish-america",
   "metadata": {},
   "source": [
    "### Evaluate it"
   ]
  },
  {
   "cell_type": "code",
   "execution_count": 22,
   "id": "recognized-toronto",
   "metadata": {},
   "outputs": [
    {
     "name": "stderr",
     "output_type": "stream",
     "text": [
      "/Users/simaonovais/opt/miniconda3/envs/thesis/lib/python3.9/site-packages/numpy/core/fromnumeric.py:3440: RuntimeWarning: Mean of empty slice.\n",
      "  return _methods._mean(a, axis=axis, dtype=dtype,\n",
      "/Users/simaonovais/opt/miniconda3/envs/thesis/lib/python3.9/site-packages/numpy/core/_methods.py:189: RuntimeWarning: invalid value encountered in double_scalars\n",
      "  ret = ret.dtype.type(ret / rcount)\n",
      "/Users/simaonovais/opt/miniconda3/envs/thesis/lib/python3.9/site-packages/numpy/core/_methods.py:262: RuntimeWarning: Degrees of freedom <= 0 for slice\n",
      "  ret = _var(a, axis=axis, dtype=dtype, out=out, ddof=ddof,\n",
      "/Users/simaonovais/opt/miniconda3/envs/thesis/lib/python3.9/site-packages/numpy/core/_methods.py:222: RuntimeWarning: invalid value encountered in true_divide\n",
      "  arrmean = um.true_divide(arrmean, div, out=arrmean, casting='unsafe',\n",
      "/Users/simaonovais/opt/miniconda3/envs/thesis/lib/python3.9/site-packages/numpy/core/_methods.py:254: RuntimeWarning: invalid value encountered in double_scalars\n",
      "  ret = ret.dtype.type(ret / rcount)\n"
     ]
    },
    {
     "data": {
      "text/plain": [
       "{'name': 'validation',\n",
       " 'epoch': 15,\n",
       " 'loss': 0.035255526608890954,\n",
       " '1 adm': {'recall10': {'mean': nan, 'std': nan, 'n': 0},\n",
       "  'recall20': {'mean': nan, 'std': nan, 'n': 0},\n",
       "  'recall30': {'mean': nan, 'std': nan, 'n': 0}},\n",
       " '2 adm': {'recall10': {'mean': nan, 'std': nan, 'n': 0},\n",
       "  'recall20': {'mean': nan, 'std': nan, 'n': 0},\n",
       "  'recall30': {'mean': nan, 'std': nan, 'n': 0}},\n",
       " '3 adm': {'recall10': {'mean': nan, 'std': nan, 'n': 0},\n",
       "  'recall20': {'mean': nan, 'std': nan, 'n': 0},\n",
       "  'recall30': {'mean': nan, 'std': nan, 'n': 0}},\n",
       " '>3 adm': {'recall10': {'mean': nan, 'std': nan, 'n': 0},\n",
       "  'recall20': {'mean': nan, 'std': nan, 'n': 0},\n",
       "  'recall30': {'mean': nan, 'std': nan, 'n': 0}},\n",
       " 'last adm': {'recall10': {'mean': 0.43573282622446574,\n",
       "   'std': 0.19247979720688113,\n",
       "   'n': 1125},\n",
       "  'recall20': {'mean': 0.6066858725790196,\n",
       "   'std': 0.18259942654418368,\n",
       "   'n': 1125},\n",
       "  'recall30': {'mean': 0.7106074628941526,\n",
       "   'std': 0.16737796949498387,\n",
       "   'n': 1125}}}"
      ]
     },
     "execution_count": 22,
     "metadata": {},
     "output_type": "execute_result"
    }
   ],
   "source": [
    "new_val_results = eval_model(new_model,val_dataloader,dataset, criterion, epoch, 'validation')\n",
    "new_val_results"
   ]
  },
  {
   "cell_type": "code",
   "execution_count": null,
   "id": "emerging-mistress",
   "metadata": {},
   "outputs": [],
   "source": []
  },
  {
   "cell_type": "code",
   "execution_count": null,
   "id": "figured-interaction",
   "metadata": {},
   "outputs": [],
   "source": []
  }
 ],
 "metadata": {
  "kernelspec": {
   "display_name": "Python 3 (ipykernel)",
   "language": "python",
   "name": "python3"
  },
  "language_info": {
   "codemirror_mode": {
    "name": "ipython",
    "version": 3
   },
   "file_extension": ".py",
   "mimetype": "text/x-python",
   "name": "python",
   "nbconvert_exporter": "python",
   "pygments_lexer": "ipython3",
   "version": "3.9.7"
  }
 },
 "nbformat": 4,
 "nbformat_minor": 5
}
