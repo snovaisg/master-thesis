{
 "cells": [
  {
   "cell_type": "markdown",
   "id": "779705ff",
   "metadata": {},
   "source": [
    "This pipeline generates the 1st stage of the preprocessed dataset that is meant to be fed to models later on. \n",
    "\n",
    "Structure (json)\n",
    "\n",
    "Each level is a patient\n",
    "\n",
    "- A patient may contain several admissions\n",
    "    - each admission has information:\n",
    "        - codes\n",
    "            - can be formatted in different ways\n",
    "        - timestamps\n",
    "        - clinical notes (todo)\n",
    "\n",
    "# Data structure\n",
    "\n",
    "(easier to visualize in md editor rather than md compiled)\n",
    "\n",
    "{metadata : {groupings: \\[list_of_icd9_groupings\\] <br>\n",
    " data: { <br>\n",
    "  patient_1: { <br>\n",
    "   grouping1: \\[code1,code2,code3\\], <br>\n",
    "   ... <br>\n",
    "   groupingn: \\[code1,code2,code3\\] <br>\n",
    "  }, <br>\n",
    "  ..., <br>\n",
    "  patient_n: {<br>\n",
    "  ...<br>\n",
    "  }<br>\n",
    "}\n",
    "\n",
    "### What is the advantage of having data stored in this way?\n",
    "\n",
    "\n",
    "- data available on demand to input to models, no need to constantly perform data retrieval and preprocessing"
   ]
  },
  {
   "cell_type": "code",
   "execution_count": 1,
   "id": "fb58bc89",
   "metadata": {
    "ExecuteTime": {
     "end_time": "2021-08-13T09:36:54.809702Z",
     "start_time": "2021-08-13T09:36:54.696462Z"
    }
   },
   "outputs": [],
   "source": [
    "import os\n",
    "from Mimic import Mimic\n",
    "from ICDCodesGrouper import ICDCodesGrouper\n",
    "\n",
    "import pandas as pd\n",
    "import numpy as np\n",
    "\n",
    "#from tqdm.notebook import tqdm\n",
    "\n",
    "from torch.utils.data import Dataset\n",
    "from torch import nn\n",
    "import torch\n",
    "from torch.nn.utils.rnn import pack_padded_sequence, pad_packed_sequence, pad_sequence, pack_sequence\n",
    "import torch.nn.functional as F\n",
    "\n",
    "import json\n",
    "\n",
    "from config import Settings; settings = Settings()"
   ]
  },
  {
   "cell_type": "code",
   "execution_count": 2,
   "id": "4bcaee8f",
   "metadata": {},
   "outputs": [],
   "source": [
    "grouper = ICDCodesGrouper(settings)\n",
    "mimic = Mimic(settings=settings,grouper=grouper)"
   ]
  },
  {
   "cell_type": "markdown",
   "id": "d11d62d9",
   "metadata": {},
   "source": [
    "## Get patients eligible for modelling"
   ]
  },
  {
   "cell_type": "code",
   "execution_count": 3,
   "id": "06699555",
   "metadata": {},
   "outputs": [
    {
     "name": "stdout",
     "output_type": "stream",
     "text": [
      "len(eligible_patients)=7499\n"
     ]
    }
   ],
   "source": [
    "filename = 'eligible_patients_exc.nodiag_single.adm.txt'\n",
    "filepath = os.path.join(settings.data_base,settings.eligible_patients_folder,filename)\n",
    "\n",
    "eligible_patients = np.loadtxt(filepath,dtype=int)\n",
    "print(f\"{len(eligible_patients)=}\")"
   ]
  },
  {
   "cell_type": "markdown",
   "id": "51fe0a84",
   "metadata": {},
   "source": [
    "## Build dictionary of data"
   ]
  },
  {
   "cell_type": "code",
   "execution_count": 4,
   "id": "2a8387d9",
   "metadata": {},
   "outputs": [
    {
     "data": {
      "text/plain": [
       "(19917, 3)"
      ]
     },
     "execution_count": 4,
     "metadata": {},
     "output_type": "execute_result"
    }
   ],
   "source": [
    "adm = mimic.read_admissions().where(lambda df: df.SUBJECT_ID.isin(eligible_patients)).dropna(how='all')[['SUBJECT_ID','ADMITTIME','HADM_ID']]\n",
    "adm.head(1)\n",
    "adm.shape"
   ]
  },
  {
   "cell_type": "code",
   "execution_count": 5,
   "id": "9c6e2802",
   "metadata": {},
   "outputs": [
    {
     "name": "stdout",
     "output_type": "stream",
     "text": [
      "sanity check. shouldn't hit here\n",
      "sanity check. shouldn't hit here\n",
      "20% done.\n",
      "sanity check. shouldn't hit here\n",
      "40% done.\n",
      "sanity check. shouldn't hit here\n",
      "60% done.\n",
      "sanity check. shouldn't hit here\n",
      "80% done.\n",
      "sanity check. shouldn't hit here\n",
      "100% done.\n"
     ]
    }
   ],
   "source": [
    "# where it all begins\n",
    "data = {}\n",
    "\n",
    "# dumb, error prone way of getting only the columns of icd codings (eg.: icd9,ccs,chapters,etc)\n",
    "grouping_columns = [col for col in mimic.read_diagnoses() if col not in [\"ROW_ID\",\"SUBJECT_ID\",\"HADM_ID\",\"SEQ_NUM\"]]\n",
    "\n",
    "print_every = 0.2 # percent\n",
    "current = print_every\n",
    "for idx,p in enumerate(eligible_patients):\n",
    "    \n",
    "    p = int(p)\n",
    "    \n",
    "    data[p] = {}\n",
    "    \n",
    "    p_adm_data = adm[adm.SUBJECT_ID == p]\n",
    "    \n",
    "    # sanity check that all admissions are sorted inside each patient data\n",
    "    assert p_adm_data.ADMITTIME.is_monotonic_increasing, f'Oopsie, p={p}'\n",
    "    \n",
    "    for hadm in p_adm_data['HADM_ID']:\n",
    "        #diagnoses data\n",
    "        diag_data = mimic.get_diagnoses_for_admission(hadm)\n",
    "        \n",
    "        # if no information about diagnostics then ignore\n",
    "        if diag_data.ICD9_CODE.isna().all():\n",
    "            print('sanity check. shouldn\\'t hit here')\n",
    "            continue\n",
    "        \n",
    "        # sanity check that diagnostics are sorted (important for future experiments)\n",
    "        assert diag_data.SEQ_NUM.is_monotonic_increasing, f'Oopsie, p={p}, hadm_id={hadm}'\n",
    "        \n",
    "        for grouping in grouping_columns:\n",
    "            if grouping not in data[p].keys():\n",
    "                data[p][grouping] = [diag_data[grouping].tolist()]\n",
    "            else:\n",
    "                data[p][grouping].append(diag_data[grouping].tolist())\n",
    "    if (idx+1)/len(eligible_patients) >= current:\n",
    "        print(f'{int(current*100)}% done.')\n",
    "        current += print_every"
   ]
  },
  {
   "cell_type": "code",
   "execution_count": 6,
   "id": "165c2758",
   "metadata": {},
   "outputs": [],
   "source": [
    "# add metadata of available groupings\n",
    "metadata = {'groupings':grouping_columns}\n",
    "data = {'metadata':metadata,'data':data}"
   ]
  },
  {
   "cell_type": "markdown",
   "id": "a8e06201",
   "metadata": {},
   "source": [
    "# save"
   ]
  },
  {
   "cell_type": "code",
   "execution_count": 12,
   "id": "bcf573f7-f24a-461b-8763-bed5d692f2b8",
   "metadata": {},
   "outputs": [],
   "source": [
    "data_id = 'diag_only'\n",
    "datapath = os.path.join(settings.data_base,settings.model_ready_dataset_folder,data_id)\n",
    "\n",
    "# create folder of this dataset\n",
    "if not os.path.isdir(datapath):\n",
    "    os.mkdir(datapath)"
   ]
  },
  {
   "cell_type": "code",
   "execution_count": 17,
   "id": "9d61e5a1",
   "metadata": {},
   "outputs": [],
   "source": [
    "dataset_filename = 'dataset.json'\n",
    "dataset_filepath = os.path.join(datapath,dataset_filename)\n",
    "\n",
    "with open(dataset_filepath, 'w') as fp:\n",
    "    json.dump(data, fp)"
   ]
  },
  {
   "cell_type": "markdown",
   "id": "1bdc881b",
   "metadata": {},
   "source": [
    "# Test"
   ]
  },
  {
   "cell_type": "markdown",
   "id": "a55a2e43",
   "metadata": {},
   "source": [
    "### Read"
   ]
  },
  {
   "cell_type": "code",
   "execution_count": 19,
   "id": "b2e6d16f",
   "metadata": {},
   "outputs": [],
   "source": [
    "with open(dataset_filepath,'r') as fp:\n",
    "    data = json.load(fp)"
   ]
  },
  {
   "cell_type": "markdown",
   "id": "5b35cf07",
   "metadata": {},
   "source": [
    "### read all patient ids"
   ]
  },
  {
   "cell_type": "code",
   "execution_count": 20,
   "id": "350b60c3",
   "metadata": {},
   "outputs": [
    {
     "data": {
      "text/plain": [
       "7499"
      ]
     },
     "execution_count": 20,
     "metadata": {},
     "output_type": "execute_result"
    }
   ],
   "source": [
    "patient_ids = list(data['data'].keys()) # patient id's\n",
    "len(patient_ids)"
   ]
  },
  {
   "cell_type": "code",
   "execution_count": null,
   "id": "9af656d0-a48d-49ac-a99e-7ba3222f4170",
   "metadata": {},
   "outputs": [],
   "source": []
  }
 ],
 "metadata": {
  "kernelspec": {
   "display_name": "Python (thesis)",
   "language": "python",
   "name": "thesis"
  },
  "language_info": {
   "codemirror_mode": {
    "name": "ipython",
    "version": 3
   },
   "file_extension": ".py",
   "mimetype": "text/x-python",
   "name": "python",
   "nbconvert_exporter": "python",
   "pygments_lexer": "ipython3",
   "version": "3.9.7"
  },
  "toc": {
   "base_numbering": 1,
   "nav_menu": {},
   "number_sections": true,
   "sideBar": true,
   "skip_h1_title": false,
   "title_cell": "Table of Contents",
   "title_sidebar": "Contents",
   "toc_cell": false,
   "toc_position": {},
   "toc_section_display": true,
   "toc_window_display": false
  },
  "varInspector": {
   "cols": {
    "lenName": 16,
    "lenType": 16,
    "lenVar": 40
   },
   "kernels_config": {
    "python": {
     "delete_cmd_postfix": "",
     "delete_cmd_prefix": "del ",
     "library": "var_list.py",
     "varRefreshCmd": "print(var_dic_list())"
    },
    "r": {
     "delete_cmd_postfix": ") ",
     "delete_cmd_prefix": "rm(",
     "library": "var_list.r",
     "varRefreshCmd": "cat(var_dic_list()) "
    }
   },
   "types_to_exclude": [
    "module",
    "function",
    "builtin_function_or_method",
    "instance",
    "_Feature"
   ],
   "window_display": false
  }
 },
 "nbformat": 4,
 "nbformat_minor": 5
}
