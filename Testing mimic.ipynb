{
 "cells": [
  {
   "cell_type": "code",
   "execution_count": 3,
   "id": "573c26bd-56f2-4f5c-9b5e-67d5a29e560c",
   "metadata": {},
   "outputs": [],
   "source": [
    "from config import Settings\n",
    "from Mimic import Mimic\n",
    "from ICDCodesGrouper import ICDCodesGrouper as Grouper"
   ]
  },
  {
   "cell_type": "code",
   "execution_count": 4,
   "id": "4941271e-9588-4c54-93c8-b5bb4215efaa",
   "metadata": {},
   "outputs": [],
   "source": [
    "grouper = Grouper(Settings())\n",
    "mimic = Mimic(Settings(), grouper)"
   ]
  },
  {
   "cell_type": "code",
   "execution_count": 5,
   "id": "c4c49559-13bc-4a57-877f-e7d91fc88c85",
   "metadata": {},
   "outputs": [],
   "source": [
    "diag = mimic.read_diagnoses()"
   ]
  },
  {
   "cell_type": "code",
   "execution_count": 8,
   "id": "6b71876b-36e7-49a4-a180-0086727a3ac2",
   "metadata": {},
   "outputs": [
    {
     "data": {
      "text/html": [
       "<div>\n",
       "<style scoped>\n",
       "    .dataframe tbody tr th:only-of-type {\n",
       "        vertical-align: middle;\n",
       "    }\n",
       "\n",
       "    .dataframe tbody tr th {\n",
       "        vertical-align: top;\n",
       "    }\n",
       "\n",
       "    .dataframe thead th {\n",
       "        text-align: right;\n",
       "    }\n",
       "</style>\n",
       "<table border=\"1\" class=\"dataframe\">\n",
       "  <thead>\n",
       "    <tr style=\"text-align: right;\">\n",
       "      <th></th>\n",
       "      <th>ROW_ID</th>\n",
       "      <th>SUBJECT_ID</th>\n",
       "      <th>HADM_ID</th>\n",
       "      <th>SEQ_NUM</th>\n",
       "      <th>ICD9_CODE</th>\n",
       "      <th>ccs</th>\n",
       "      <th>icd9chapters</th>\n",
       "      <th>icd9_level3</th>\n",
       "    </tr>\n",
       "  </thead>\n",
       "  <tbody>\n",
       "    <tr>\n",
       "      <th>8354</th>\n",
       "      <td>7969</td>\n",
       "      <td>690</td>\n",
       "      <td>174817</td>\n",
       "      <td>NaN</td>\n",
       "      <td>NaN</td>\n",
       "      <td>-1</td>\n",
       "      <td>NaN</td>\n",
       "      <td>nan</td>\n",
       "    </tr>\n",
       "  </tbody>\n",
       "</table>\n",
       "</div>"
      ],
      "text/plain": [
       "      ROW_ID  SUBJECT_ID  HADM_ID  SEQ_NUM ICD9_CODE  ccs icd9chapters  \\\n",
       "8354    7969         690   174817      NaN       NaN   -1          NaN   \n",
       "\n",
       "     icd9_level3  \n",
       "8354         nan  "
      ]
     },
     "execution_count": 8,
     "metadata": {},
     "output_type": "execute_result"
    }
   ],
   "source": [
    "diag[(diag.SUBJECT_ID == 690) & (diag.HADM_ID == 174817)]"
   ]
  },
  {
   "cell_type": "code",
   "execution_count": null,
   "id": "0dedf0a0-5a0c-48e2-8a2a-42a786c2bfb4",
   "metadata": {},
   "outputs": [],
   "source": []
  }
 ],
 "metadata": {
  "kernelspec": {
   "display_name": "Python (mthesis)",
   "language": "python",
   "name": "mthesis"
  },
  "language_info": {
   "codemirror_mode": {
    "name": "ipython",
    "version": 3
   },
   "file_extension": ".py",
   "mimetype": "text/x-python",
   "name": "python",
   "nbconvert_exporter": "python",
   "pygments_lexer": "ipython3",
   "version": "3.9.7"
  }
 },
 "nbformat": 4,
 "nbformat_minor": 5
}
