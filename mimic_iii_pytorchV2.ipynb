{
 "cells": [
  {
   "cell_type": "markdown",
   "id": "0ec1c429-7a8e-4ccf-8053-1ad842b4ef80",
   "metadata": {},
   "source": [
    "# Imports"
   ]
  },
  {
   "cell_type": "code",
   "execution_count": 130,
   "id": "cb8419e1-b7d4-4005-a481-4326072e3224",
   "metadata": {},
   "outputs": [],
   "source": [
    "from IPython.core.interactiveshell import InteractiveShell\n",
    "InteractiveShell.ast_node_interactivity = \"all\""
   ]
  },
  {
   "cell_type": "code",
   "execution_count": 3,
   "id": "7af9ac95-fa01-4484-835a-7d78b8634268",
   "metadata": {},
   "outputs": [],
   "source": [
    "import os\n",
    "import ast\n",
    "\n",
    "from rnn_utils import *\n",
    "from mourga_variational.variational_rnn import RNN_MC\n",
    "import random\n",
    "\n",
    "import torch\n",
    "from torch.optim import Adam\n",
    "from torch.utils.data import Dataset, DataLoader, random_split, RandomSampler, SubsetRandomSampler\n",
    "from torch.nn import Sigmoid\n",
    "from sklearn.metrics import precision_recall_curve\n",
    "\n",
    "from torchmetrics import Accuracy,Recall, Precision, F1Score, AUROC\n",
    "\n",
    "from sklearn.model_selection import ParameterGrid, ParameterSampler\n",
    "from sklearn.pipeline import make_pipeline\n",
    "from sklearn.linear_model import LogisticRegression\n",
    "from sklearn.svm import SVC\n",
    "from sklearn.model_selection import cross_val_score\n",
    "from sklearn.model_selection import ShuffleSplit, train_test_split\n",
    "from sklearn.metrics import average_precision_score\n",
    "from sklearn.preprocessing import StandardScaler\n",
    "\n",
    "from sklearn.metrics import recall_score,precision_score,f1_score\n",
    "from scipy.stats import skew as compute_skew\n",
    "from scipy.stats import kurtosis as compute_kurtosis\n",
    "\n",
    "import numpy as np\n",
    "import pandas as pd\n",
    "import json\n",
    "\n",
    "from tqdm.notebook import tqdm\n",
    "\n",
    "from config import Settings; settings = Settings()\n",
    "\n",
    "from ICDMappings import ICDMappings\n",
    "icdmap = ICDMappings()\n",
    "\n",
    "import wandb\n",
    "import torchmetrics.functional as f\n",
    "\n",
    "idx = pd.IndexSlice"
   ]
  },
  {
   "cell_type": "markdown",
   "id": "0fbe3418-108c-40e4-a29d-d805109a7e2e",
   "metadata": {},
   "source": [
    "# Reproducibility"
   ]
  },
  {
   "cell_type": "code",
   "execution_count": 4,
   "id": "64843b00-79f8-4f79-8531-300ccde28bd2",
   "metadata": {},
   "outputs": [
    {
     "data": {
      "text/plain": [
       "<torch._C.Generator at 0x7f9d94177f70>"
      ]
     },
     "execution_count": 4,
     "metadata": {},
     "output_type": "execute_result"
    }
   ],
   "source": [
    "# Reproducibility\n",
    "seed = settings.random_seed\n",
    "\n",
    "np.random.seed(seed)\n",
    "torch.manual_seed(seed)\n",
    "torch.cuda.manual_seed(seed)\n",
    "\n",
    "torch.backends.cudnn.deterministic = True\n",
    "torch.backends.cudnn.benchmark = False"
   ]
  },
  {
   "cell_type": "markdown",
   "id": "31cecca6-ef43-41ce-aceb-2dee026b0882",
   "metadata": {},
   "source": [
    "# Create dataset & dataloaders"
   ]
  },
  {
   "cell_type": "code",
   "execution_count": 5,
   "id": "3db81b98-290b-4f87-8c29-438a29dd255a",
   "metadata": {},
   "outputs": [],
   "source": [
    "input = 'history_cumulative_hot' #one hot encoding of history as opposed to multi-hot\n",
    "target = 'target_hot'\n",
    "\n",
    "grouping = 'ccs'\n",
    "ccs_universe = list(icdmap.icd9_3toccs.data.keys())\n",
    "\n",
    "\n",
    "batch_size=32"
   ]
  },
  {
   "cell_type": "code",
   "execution_count": 6,
   "id": "80655829-0303-4ce6-965a-2add9210de71",
   "metadata": {
    "tags": []
   },
   "outputs": [
    {
     "name": "stdout",
     "output_type": "stream",
     "text": [
      "processing each patient\n"
     ]
    },
    {
     "data": {
      "application/vnd.jupyter.widget-view+json": {
       "model_id": "da861bc7683d4e32b19fd2f48527cd1a",
       "version_major": 2,
       "version_minor": 0
      },
      "text/plain": [
       "  0%|          | 0/7499 [00:00<?, ?it/s]"
      ]
     },
     "metadata": {},
     "output_type": "display_data"
    }
   ],
   "source": [
    "dataset_folder = '/home/debian/Simao/master-thesis/data/model_ready_dataset/mimic-iii_dataset.json'\n",
    "dataset = ICareDataset(dataset_folder,\n",
    "                            ccs_universe,\n",
    "                       input=input,\n",
    "                       target=target,\n",
    "                            grouping=grouping,\n",
    "                           opt_size=0.25\n",
    "                          )\n",
    "n_labels = input_size = dataset.grouping_data['ccs']['n_labels']"
   ]
  },
  {
   "cell_type": "markdown",
   "id": "7c54f4d6-fc3c-48d1-afbf-d5e08313a153",
   "metadata": {},
   "source": [
    "Dataloaders"
   ]
  },
  {
   "cell_type": "code",
   "execution_count": 7,
   "id": "2dbc4044-61dc-4fb8-a7dd-73176b962421",
   "metadata": {},
   "outputs": [
    {
     "data": {
      "text/plain": [
       "165"
      ]
     },
     "execution_count": 7,
     "metadata": {},
     "output_type": "execute_result"
    },
    {
     "data": {
      "text/plain": [
       "36"
      ]
     },
     "execution_count": 7,
     "metadata": {},
     "output_type": "execute_result"
    },
    {
     "data": {
      "text/plain": [
       "36"
      ]
     },
     "execution_count": 7,
     "metadata": {},
     "output_type": "execute_result"
    }
   ],
   "source": [
    "train_dataloader = DataLoader(dataset,\n",
    "                            batch_size=batch_size,\n",
    "                            collate_fn=ICareCOLLATE(),\n",
    "                            sampler=SubsetRandomSampler(dataset.train_indices)\n",
    "                           )\n",
    "train_no_opt_dataloader = DataLoader(dataset,\n",
    "                            batch_size=batch_size,\n",
    "                            collate_fn=ICareCOLLATE(),\n",
    "                            sampler=SubsetRandomSampler(dataset.train_no_opt_indices)\n",
    "                           )\n",
    "opt_dataloader = DataLoader(dataset,\n",
    "                            batch_size=batch_size,\n",
    "                            collate_fn=ICareCOLLATE(),\n",
    "                            sampler=SubsetRandomSampler(dataset.opt_indices)\n",
    "                           )\n",
    "val_dataloader = DataLoader(dataset,\n",
    "                            batch_size=batch_size,\n",
    "                            collate_fn=ICareCOLLATE(),\n",
    "                            sampler=SubsetRandomSampler(dataset.val_indices)\n",
    "                           )\n",
    "\n",
    "test_dataloader = DataLoader(dataset,\n",
    "                            batch_size=batch_size,\n",
    "                            collate_fn=ICareCOLLATE(),\n",
    "                            sampler=SubsetRandomSampler(dataset.test_indices)\n",
    "                           )\n",
    "\n",
    "# Nº batches\n",
    "len(train_dataloader)\n",
    "len(val_dataloader)\n",
    "len(test_dataloader)\n",
    "\n",
    "n_labels = input_size = dataset.grouping_data['ccs']['n_labels']"
   ]
  },
  {
   "cell_type": "markdown",
   "id": "0cb796e3-fd49-4a63-858c-10d0401ed74e",
   "metadata": {},
   "source": [
    "# EDA on MIMIC-III"
   ]
  },
  {
   "cell_type": "markdown",
   "id": "abdc843b-1331-4e3a-ae65-3685444ed544",
   "metadata": {},
   "source": [
    "## Number of patients in this dataset"
   ]
  },
  {
   "cell_type": "code",
   "execution_count": null,
   "id": "0974ca82-a0a8-4f4c-b52d-ff771fab9f02",
   "metadata": {},
   "outputs": [],
   "source": [
    "len(dataset)"
   ]
  },
  {
   "cell_type": "markdown",
   "id": "6cce24ab-f24a-4b1b-8194-80ce0c86f850",
   "metadata": {},
   "source": [
    "## Distribution of sequence length size"
   ]
  },
  {
   "cell_type": "code",
   "execution_count": null,
   "id": "2d47d9eb-36fb-4d65-84a7-aaa301a273fd",
   "metadata": {},
   "outputs": [],
   "source": [
    "lengths = []\n",
    "for pat in tqdm(dataset):\n",
    "    lengths.append(pat['length'])\n",
    "res = pd.Series(lengths)"
   ]
  },
  {
   "cell_type": "code",
   "execution_count": null,
   "id": "1839fe8d-cc5b-4a62-a09e-a1074ad28827",
   "metadata": {},
   "outputs": [],
   "source": [
    "top_10 = pd.concat([res[res!=1].value_counts().rename('Count'),res[res!=1].value_counts(normalize=True).rename('frac').round(2)],axis=1).head(10)\n",
    "top_10.Count.plot.bar();\n",
    "plt.title('Distribution of sequence size in the whole dataset');\n",
    "plt.xlabel('sequence size');\n",
    "plt.ylabel('Number of datapoints');\n",
    "plt.savefig('media/dist_seq_size_dataset.png');"
   ]
  },
  {
   "cell_type": "markdown",
   "id": "ad6d4ef2-570b-4962-b9ef-a5a4ac3683a7",
   "metadata": {},
   "source": [
    "## Prevalence of each diagnostic"
   ]
  },
  {
   "cell_type": "code",
   "execution_count": null,
   "id": "3b0a96cc-435b-444d-a113-ede7fe4d9b6c",
   "metadata": {},
   "outputs": [],
   "source": [
    "a = pd.Series(compute_prevalence_dataloader(val_dataloader,how='each')).sort_values(ascending=False).to_frame('prevalence').rename_axis(index='int2code')\n",
    "a.head(3)"
   ]
  },
  {
   "cell_type": "code",
   "execution_count": null,
   "id": "c83a59b5-0a99-4660-adcc-12d981ef2c0f",
   "metadata": {},
   "outputs": [],
   "source": [
    "a['ccs'] = [dataset.grouping_data['ccs']['int2code'][x] for x in a.index]\n",
    "a['desc'] = icdmap.lookup('ccstodescription',a['ccs'])\n",
    "a"
   ]
  },
  {
   "cell_type": "code",
   "execution_count": null,
   "id": "90032396-6123-495b-a27c-e53a757b5f10",
   "metadata": {},
   "outputs": [],
   "source": [
    "compute_prevalence_dataloader(train_dataloader,how='all')"
   ]
  },
  {
   "cell_type": "markdown",
   "id": "46c24481-354c-48b0-92be-51fb464c286c",
   "metadata": {},
   "source": [
    "now in terms of ratio"
   ]
  },
  {
   "cell_type": "code",
   "execution_count": null,
   "id": "3db57785-da27-4bfb-8477-2bd9c98a21ea",
   "metadata": {},
   "outputs": [],
   "source": [
    "ratio = 1/compute_prevalence_dataloader(train_dataloader,how='all')\n",
    "ratio"
   ]
  },
  {
   "cell_type": "markdown",
   "id": "59bef777-0398-4f6d-8b75-8273d6cf7da6",
   "metadata": {},
   "source": [
    "## Size of each timestep"
   ]
  },
  {
   "cell_type": "code",
   "execution_count": null,
   "id": "b3464509-6d12-4edb-8c4b-7a354466aac2",
   "metadata": {},
   "outputs": [],
   "source": [
    "all_timesteps = list()\n",
    "for pat in tqdm(dataset):\n",
    "    all_timesteps.extend([len(ts) for ts in pat['history_original']])"
   ]
  },
  {
   "cell_type": "code",
   "execution_count": null,
   "id": "2a76c066-a5dc-4d09-b7af-fb5d223dca28",
   "metadata": {},
   "outputs": [],
   "source": [
    "pd.Series(all_timesteps).describe().round(2)"
   ]
  },
  {
   "cell_type": "markdown",
   "id": "2583d61f-9359-47bb-bc1d-bb31da377502",
   "metadata": {},
   "source": [
    "## Target size"
   ]
  },
  {
   "cell_type": "code",
   "execution_count": null,
   "id": "a02a7572-8e4f-4b75-9073-bc4b44eceb37",
   "metadata": {},
   "outputs": [],
   "source": [
    "pat_per_datapoint = list()\n",
    "diags_per_datapoint = list()\n",
    "for pat in tqdm(dataset):\n",
    "    for datapoint in pat['new_target_original']:\n",
    "        pat_per_datapoint.append(pat['pid'])\n",
    "        diags_per_datapoint.append(len(datapoint))\n",
    "\n",
    "\n",
    "df = pd.DataFrame(data=[pat_per_datapoint,diags_per_datapoint],\n",
    "                  index=['pat','n']\n",
    "                 ).T\n",
    "\n",
    "res = df.n.value_counts().to_frame('n')\n",
    "res.loc[:,'percentage'] = (res['n'] / res['n'].sum()).round(2)\n",
    "res = res.rename_axis(index='target size distribution')\n",
    "\n",
    "res.head(8)"
   ]
  },
  {
   "cell_type": "code",
   "execution_count": null,
   "id": "028514cd-0eb2-48e1-9ab0-22f0a7cbc188",
   "metadata": {},
   "outputs": [],
   "source": [
    "target_sizes = list()\n",
    "for pat in tqdm(dataset):\n",
    "    target_sizes.extend([len(ts) for ts in pat['target_original']])"
   ]
  },
  {
   "cell_type": "code",
   "execution_count": null,
   "id": "282882f3-2dce-4d42-a437-9f6c377038b3",
   "metadata": {},
   "outputs": [],
   "source": [
    "pd.concat([pd.Series(all_timesteps).describe().round(2).rename('timestep size'),\n",
    "           pd.Series(target_sizes).describe().round(2).rename('target size')\n",
    "          ],axis=1).iloc[1:].astype(str)"
   ]
  },
  {
   "cell_type": "code",
   "execution_count": null,
   "id": "fa5edfad-d208-4b6a-9a2d-a4b9e23dae3e",
   "metadata": {},
   "outputs": [],
   "source": [
    "print(pd.concat([pd.Series(all_timesteps).describe().round(2).rename('timestep size'),\n",
    "           pd.Series(target_sizes).describe().round(2).rename('target size')\n",
    "          ],axis=1).iloc[1:].astype(str).style.to_latex())"
   ]
  },
  {
   "cell_type": "markdown",
   "id": "0fa4c46d-ca0f-4f00-aa9f-1efc27e7b300",
   "metadata": {},
   "source": [
    "need to title this"
   ]
  },
  {
   "cell_type": "markdown",
   "id": "b8c50f3a-dcd6-403d-bf62-d962b00e8ced",
   "metadata": {},
   "source": [
    "### Datapoints per patient"
   ]
  },
  {
   "cell_type": "code",
   "execution_count": null,
   "id": "df3a52c4-cf4d-496d-8312-d899d7369c79",
   "metadata": {},
   "outputs": [],
   "source": [
    "pat_size = df.groupby('pat').size()\n",
    "pat_size.describe().to_frame('Datapoints per patient')"
   ]
  },
  {
   "cell_type": "code",
   "execution_count": null,
   "id": "c1f1c866-2b6f-4c3e-86c5-a6c7eb845647",
   "metadata": {},
   "outputs": [],
   "source": [
    "pd.Series(a.index.values).astype(int)"
   ]
  },
  {
   "cell_type": "markdown",
   "id": "0b7251fe-70c7-48ac-bdc0-03605c8dd227",
   "metadata": {},
   "source": [
    "## ccs distribution"
   ]
  },
  {
   "cell_type": "code",
   "execution_count": null,
   "id": "764b6652-9357-4fb8-85a3-4e0904f75c06",
   "metadata": {},
   "outputs": [],
   "source": [
    "all_diags = list()\n",
    "for pat in dataset:\n",
    "    for adm in pat['history_original']:\n",
    "        all_diags.extend(adm)\n",
    "    all_diags.extend(pat['target_original'][-1])"
   ]
  },
  {
   "cell_type": "code",
   "execution_count": null,
   "id": "1c8d4c7e-4113-4440-a642-ca629a5fb82c",
   "metadata": {
    "tags": []
   },
   "outputs": [],
   "source": [
    "a['%'].plot.box()\n",
    "print(a.describe().drop(['count']).round(3).to_latex())"
   ]
  },
  {
   "cell_type": "code",
   "execution_count": null,
   "id": "62a31a1c-2fdb-43e3-879e-c564a9142b51",
   "metadata": {},
   "outputs": [],
   "source": [
    "a.iloc[5]['ccs description']"
   ]
  },
  {
   "cell_type": "code",
   "execution_count": null,
   "id": "bb03f8ed-6020-4a15-a22b-a7042025eeaa",
   "metadata": {},
   "outputs": [],
   "source": [
    "diag_dist_count = pd.Series(all_diags,name='count').value_counts(normalize=False)\n",
    "diag_dist_freq = pd.Series(all_diags,name='%').value_counts(normalize=True) * 100\n",
    "a = pd.concat([diag_dist_count,diag_dist_freq],axis=1).sort_values('count',ascending=False).rename_axis(index='ccs')\n",
    "a.loc[:,'ccs description'] = icdmap.lookup('ccstodescription',pd.Series(a.index.values).astype(int)).values\n",
    "a.index = a.index.astype(int)\n",
    "a = a.round(1)\n",
    "#a['rank'] = \n",
    "print(a.head(10).to_latex())"
   ]
  },
  {
   "cell_type": "markdown",
   "id": "015aae71-b229-460f-bfba-00f03137e04f",
   "metadata": {},
   "source": [
    "# MLP"
   ]
  },
  {
   "cell_type": "markdown",
   "id": "1a9a4056-eb63-4d5c-a18e-01cc503b59bc",
   "metadata": {},
   "source": [
    "## Create metrics"
   ]
  },
  {
   "cell_type": "code",
   "execution_count": null,
   "id": "73800082-a222-4447-a5a2-ed61bf2cb410",
   "metadata": {},
   "outputs": [],
   "source": [
    "metrics_factory = {'avgprec':{'func':AveragePrecision,\n",
    "                      'kwargs':dict(num_classes=n_labels,average=None,multiclass=False),\n",
    "                      'extra_pooling':['weighted']\n",
    "                     },\n",
    "                   'recall@30':{'func':Recall,\n",
    "                                'kwargs':dict(top_k=30,average='samples',num_classes=n_labels),\n",
    "                                'extra_pooling':[]\n",
    "                               },\n",
    "                   'precision@30':{'func':Precision,\n",
    "                                'kwargs':dict(top_k=30,average='samples',num_classes=n_labels),\n",
    "                                'extra_pooling':[]\n",
    "                               }\n",
    "          }\n",
    "\n",
    "selectors = [MaskTimesteps('last'),MaskTimesteps('all')]\n",
    "\n",
    "metrics = MetricsV2(metrics_factory,selectors)"
   ]
  },
  {
   "cell_type": "markdown",
   "id": "831141b0-0848-469d-b425-1d5b2809f5b0",
   "metadata": {},
   "source": [
    "## Train the model on small batch"
   ]
  },
  {
   "cell_type": "code",
   "execution_count": null,
   "id": "5529ee02-ee58-40c2-8d6d-06bca7391e7c",
   "metadata": {},
   "outputs": [],
   "source": [
    "size = 16\n",
    "overfit_batch = create_random_batch(size=size,dataset=dataset,collate_fn=ICareCOLLATE(input,target))"
   ]
  },
  {
   "cell_type": "code",
   "execution_count": null,
   "id": "c1b4d779-7929-423d-ac42-c73616f39a6d",
   "metadata": {},
   "outputs": [],
   "source": [
    "epochs = 100\n",
    "\n",
    "epoch_losses = list()\n",
    "\n",
    "model = MLP(input_size=input_size,\n",
    "            hidden_size=100,\n",
    "            n_labels=n_labels,\n",
    "            non_linear='relu')\n",
    "\n",
    "optimizer = torch.optim.Adam(model.parameters(), lr=0.005)\n",
    "criterion = nn.BCEWithLogitsLoss(reduction='mean')\n",
    "\n",
    "metrics_every = 10\n",
    "for epoch in tqdm(range(epochs)):\n",
    "    epoch_losses.append(train_model_batch(model,overfit_batch,criterion,optimizer))\n",
    "            \n",
    "ths = {i:0.5 for i in range(n_labels)} #baseline thresholds\n",
    "\n",
    "plt.plot(epoch_losses[-10:]);\n",
    "plt.title('loss of last epochs');\n",
    "\n",
    "metrics.update_metrics_batch(model,overfit_batch,ths)\n",
    "res = metrics.compute_metrics()"
   ]
  },
  {
   "cell_type": "code",
   "execution_count": null,
   "id": "348b679a-c631-4299-b2d0-7844bf40c8a4",
   "metadata": {},
   "outputs": [],
   "source": [
    "res['recall@30']"
   ]
  },
  {
   "cell_type": "markdown",
   "id": "9c20f2da-c68d-4ca9-a878-ff31684202ab",
   "metadata": {},
   "source": [
    "Yayy we are able to overfit! means the learning is working wellcompute_metrics"
   ]
  },
  {
   "cell_type": "markdown",
   "id": "fda70107-c81e-4bfd-9a14-07ae1d3337ae",
   "metadata": {},
   "source": [
    "## Train the model on dataloader"
   ]
  },
  {
   "cell_type": "code",
   "execution_count": null,
   "id": "63fe8bce-1cae-458b-a544-7f48b00191e6",
   "metadata": {},
   "outputs": [],
   "source": [
    "epochs = 10\n",
    "n_labels = input_size = dataset.grouping_data['ccs']['n_labels']\n",
    "\n",
    "epoch_losses = list()\n",
    "\n",
    "metrics = MetricsV2(metrics_factory,selectors)\n",
    "\n",
    "model = MLP(input_size=input_size,\n",
    "            hidden_size=100,\n",
    "            n_labels=n_labels,\n",
    "            non_linear='relu')\n",
    "\n",
    "optimizer = torch.optim.Adam(model.parameters(), lr=0.002)\n",
    "criterion = nn.BCEWithLogitsLoss(reduction='mean')\n",
    "\n",
    "ths = {i:0.5 for i in range(n_labels)}\n",
    "\n",
    "metrics_every = 1_000_000\n",
    "epoch_losses.append(compute_loss_dataloader(model,train_dataloader,criterion))\n",
    "for epoch in tqdm(range(epochs)):\n",
    "    epoch_losses.append(train_model_dataloader(model,train_dataloader,criterion,optimizer))\n",
    "    \n",
    "metrics.update_metrics_dataloader(model,train_dataloader,ths)\n",
    "train_m = metrics.compute_metrics()\n",
    "metrics.reset_metrics()\n",
    "metrics.update_metrics_dataloader(model,val_dataloader,ths)\n",
    "val_m = metrics.compute_metrics()\n",
    "\n",
    "plt.plot(epoch_losses)\n",
    "plt.title('Loss')"
   ]
  },
  {
   "cell_type": "code",
   "execution_count": null,
   "id": "a7794829-5a29-48a3-82fe-a80e27ebaf94",
   "metadata": {},
   "outputs": [],
   "source": [
    "train_m['recall@30']"
   ]
  },
  {
   "cell_type": "markdown",
   "id": "75892547-6822-4c30-9d12-1339b29d8f34",
   "metadata": {},
   "source": [
    "## Wandb several models"
   ]
  },
  {
   "cell_type": "markdown",
   "id": "b62c895a-6def-493f-8d21-9ff4a5a0dd68",
   "metadata": {},
   "source": [
    "### reproducibility"
   ]
  },
  {
   "cell_type": "code",
   "execution_count": null,
   "id": "c7336c22-959b-48d4-97d2-69942d6a6880",
   "metadata": {},
   "outputs": [],
   "source": [
    "# Reproducibility\n",
    "seed = settings.random_seed\n",
    "\n",
    "np.random.seed(seed)\n",
    "torch.manual_seed(seed)\n",
    "torch.cuda.manual_seed(seed)\n",
    "\n",
    "torch.backends.cudnn.deterministic = True\n",
    "torch.backends.cudnn.benchmark = False"
   ]
  },
  {
   "cell_type": "markdown",
   "id": "75cfa6fb-ed3d-424e-b1e7-9d15bf17c593",
   "metadata": {},
   "source": [
    "### metrics"
   ]
  },
  {
   "cell_type": "code",
   "execution_count": null,
   "id": "4ec24ec0-e731-4afd-a420-0a2a0381658a",
   "metadata": {},
   "outputs": [],
   "source": [
    "metrics_factory = {'avgprec':{'func':AveragePrecision,\n",
    "                      'kwargs':dict(num_classes=n_labels,average=None,multiclass=False),\n",
    "                      'extra_pooling':['weighted']\n",
    "                     }\n",
    "          }\n",
    "\n",
    "selectors = [MaskTimesteps('last'),MaskTimesteps('all')]\n",
    "\n",
    "metrics = MetricsV2(metrics_factory,selectors)"
   ]
  },
  {
   "cell_type": "markdown",
   "id": "34953a37-31fa-49f6-a74b-8b899598b1c8",
   "metadata": {},
   "source": [
    "### Grid search"
   ]
  },
  {
   "cell_type": "code",
   "execution_count": null,
   "id": "b0baf6da-98c1-4a01-9423-8d484bb5a106",
   "metadata": {},
   "outputs": [],
   "source": [
    "Uparams = dict(hidden_sizes=[[50],[150],[250],[100,100]],\n",
    "               lr=[3e-4,6e-4,2e-3,5e-3],\n",
    "               batch_size=[8,16,32],\n",
    "               weight_decay= [0,1e-5]\n",
    "              )\n",
    "\n",
    "params = list(ParameterGrid(Uparams))\n",
    "\n",
    "# random grid search up to <search_space> iterations\n",
    "search_space = 30\n",
    "import random\n",
    "random.shuffle(params)\n",
    "size = len(params)\n",
    "params = params[:search_space]"
   ]
  },
  {
   "cell_type": "markdown",
   "id": "d98b74b7-9fe5-45d5-b5a4-a63b55c295cd",
   "metadata": {},
   "source": [
    "### pipeline"
   ]
  },
  {
   "cell_type": "code",
   "execution_count": null,
   "id": "cf489378-09e7-4035-8761-fa203298eb39",
   "metadata": {
    "tags": []
   },
   "outputs": [],
   "source": [
    "assert 1 == 2\n",
    "epochs = 20\n",
    "\n",
    "ths = {i:0.5 for i in range(n_labels)}\n",
    "\n",
    "for param_set in tqdm(params):\n",
    "    \n",
    "    config = {\n",
    "          \"batch_size\": param_set['batch_size'],\n",
    "          \"epochs\": epochs,\n",
    "          \"input\":'ccs',\n",
    "          \"output\":'ccs',\n",
    "          \"manual_seed\":seed,\n",
    "          \"hidden_size\":param_set['hidden_sizes'],\n",
    "          \"num_layers\":len(param_set['hidden_sizes']),\n",
    "          \"name\":'MLP',\n",
    "          \"lr\":param_set[\"lr\"],\n",
    "        \"weight_decay\": param_set['weight_decay']\n",
    "        }\n",
    "\n",
    "    wandb.init(project=\"mimic-iii-benchmark\", entity=\"snovaisg\",config=config)\n",
    "    \n",
    "    model = MLP(input_size=input_size,\n",
    "                hidden_sizes=param_set['hidden_sizes'],\n",
    "                n_labels=n_labels\n",
    "                )\n",
    "\n",
    "    optimizer = torch.optim.Adam(model.parameters(), lr=param_set['lr'],weight_decay=param_set['weight_decay'])\n",
    "    criterion = nn.BCEWithLogitsLoss(reduction='mean')\n",
    "\n",
    "    ths = {i:0.5 for i in range(n_labels)}\n",
    "    \n",
    "    train_dataloader = DataLoader(dataset,\n",
    "                            batch_size=param_set['batch_size'],\n",
    "                            collate_fn=ICareCOLLATE(),\n",
    "                            sampler=SubsetRandomSampler(dataset.train_indices)\n",
    "                           )\n",
    "\n",
    "    for epoch in tqdm(range(epochs)):\n",
    "        epoch_loss = train_model_dataloader(model,train_dataloader,criterion,optimizer)\n",
    "        log = {'loss':epoch_loss}\n",
    "        wandb.log(log)\n",
    "    \n",
    "    #metrics.reset_metrics()\n",
    "    #metrics.update_metrics_dataloader(model,train_dataloader,ths)\n",
    "    #train_m = metrics.compute_metrics()\n",
    "    metrics.reset_metrics()\n",
    "    metrics.update_metrics_dataloader(model,val_dataloader,ths)\n",
    "    val_m = metrics.compute_metrics()\n",
    "    \n",
    "    #train_avgprec = train_m['avgprec']['last']['weighted']\n",
    "    val_avgprec = val_m['avgprec']['last']['weighted']\n",
    "    \n",
    "    val_loss_all = compute_loss_dataloader(model,val_dataloader,criterion)\n",
    "    \n",
    "    log = {'vall_loss':val_loss_all,'val_avgprec':val_avgprec}\n",
    "    wandb.log(log)"
   ]
  },
  {
   "cell_type": "markdown",
   "id": "92e03d44-8702-475a-8a23-6720ecdb5ea7",
   "metadata": {},
   "source": [
    "## Train best wandb model"
   ]
  },
  {
   "cell_type": "markdown",
   "id": "9b06ecdf-00c4-4907-a05e-93453943b075",
   "metadata": {},
   "source": [
    "### Choose Metrics"
   ]
  },
  {
   "cell_type": "code",
   "execution_count": 9,
   "id": "6be5f13c-2f90-43bc-a62c-1dcb30b387d1",
   "metadata": {},
   "outputs": [
    {
     "name": "stderr",
     "output_type": "stream",
     "text": [
      "/home/debian/Simao/miniconda3/envs/thesis/lib/python3.10/site-packages/torchmetrics/utilities/prints.py:36: UserWarning: Metric `AveragePrecision` will save all targets and predictions in buffer. For large datasets this may lead to large memory footprint.\n",
      "  warnings.warn(*args, **kwargs)\n"
     ]
    }
   ],
   "source": [
    "metrics_factory = {'avgprec':{'func':AveragePrecision,\n",
    "                      'kwargs':dict(num_classes=n_labels,average=None,multiclass=False),\n",
    "                      'extra_pooling':['weighted']\n",
    "                     },\n",
    "                   'recall@30':{'func':Recall,\n",
    "                                'kwargs':dict(top_k=30,average='samples',num_classes=n_labels),\n",
    "                                'extra_pooling':[]\n",
    "                               },\n",
    "                   'precision@30':{'func':Precision,\n",
    "                                'kwargs':dict(top_k=30,average='samples',num_classes=n_labels),\n",
    "                                'extra_pooling':[]\n",
    "                               },\n",
    "                   'f1@30':{'func':F1Score,\n",
    "                                'kwargs':dict(top_k=30,average='samples',num_classes=n_labels),\n",
    "                                'extra_pooling':[]\n",
    "                               },\n",
    "                   \n",
    "          }\n",
    "\n",
    "selectors = [MaskTimesteps('last'),MaskTimesteps('all')]\n",
    "\n",
    "metrics = MetricsV2(metrics_factory,selectors)"
   ]
  },
  {
   "cell_type": "markdown",
   "id": "464156e3-d8c4-4d05-9bea-18139ea2aac6",
   "metadata": {},
   "source": [
    "### Parameters"
   ]
  },
  {
   "cell_type": "code",
   "execution_count": 14,
   "id": "21a07eaf-3e5d-4556-b57c-7bfe76a6d9df",
   "metadata": {},
   "outputs": [],
   "source": [
    "lr = 0.0006\n",
    "hidden_sizes = [250]\n",
    "weight_decay = 0.00001\n",
    "epochs = 15\n",
    "batch_size = 16"
   ]
  },
  {
   "cell_type": "markdown",
   "id": "5ae7f43b-6408-4a1d-b5ce-1274277ed179",
   "metadata": {},
   "source": [
    "### Train Model"
   ]
  },
  {
   "cell_type": "code",
   "execution_count": 15,
   "id": "f5bbfac0-9392-4245-8098-3be2a622c8bf",
   "metadata": {
    "tags": []
   },
   "outputs": [
    {
     "data": {
      "application/vnd.jupyter.widget-view+json": {
       "model_id": "dee5bd4f757f43a7bd1347874c73e27f",
       "version_major": 2,
       "version_minor": 0
      },
      "text/plain": [
       "  0%|          | 0/15 [00:00<?, ?it/s]"
      ]
     },
     "metadata": {},
     "output_type": "display_data"
    },
    {
     "name": "stdout",
     "output_type": "stream",
     "text": [
      "Starting to train each batch\n"
     ]
    },
    {
     "data": {
      "application/vnd.jupyter.widget-view+json": {
       "model_id": "85d9ba7600ef468d8613d6d790cc1b45",
       "version_major": 2,
       "version_minor": 0
      },
      "text/plain": [
       "  0%|          | 0/329 [00:00<?, ?it/s]"
      ]
     },
     "metadata": {},
     "output_type": "display_data"
    },
    {
     "data": {
      "text/plain": [
       "0.20502305119142705"
      ]
     },
     "execution_count": 15,
     "metadata": {},
     "output_type": "execute_result"
    },
    {
     "name": "stdout",
     "output_type": "stream",
     "text": [
      "Starting to train each batch\n"
     ]
    },
    {
     "data": {
      "application/vnd.jupyter.widget-view+json": {
       "model_id": "968f86713c4e4708abc66599f0b6988d",
       "version_major": 2,
       "version_minor": 0
      },
      "text/plain": [
       "  0%|          | 0/329 [00:00<?, ?it/s]"
      ]
     },
     "metadata": {},
     "output_type": "display_data"
    },
    {
     "data": {
      "text/plain": [
       "0.13323999175909443"
      ]
     },
     "execution_count": 15,
     "metadata": {},
     "output_type": "execute_result"
    },
    {
     "name": "stdout",
     "output_type": "stream",
     "text": [
      "Starting to train each batch\n"
     ]
    },
    {
     "data": {
      "application/vnd.jupyter.widget-view+json": {
       "model_id": "9b1143bec049471382092ebfd0bf693f",
       "version_major": 2,
       "version_minor": 0
      },
      "text/plain": [
       "  0%|          | 0/329 [00:00<?, ?it/s]"
      ]
     },
     "metadata": {},
     "output_type": "display_data"
    },
    {
     "data": {
      "text/plain": [
       "0.12274175805342596"
      ]
     },
     "execution_count": 15,
     "metadata": {},
     "output_type": "execute_result"
    },
    {
     "name": "stdout",
     "output_type": "stream",
     "text": [
      "Starting to train each batch\n"
     ]
    },
    {
     "data": {
      "application/vnd.jupyter.widget-view+json": {
       "model_id": "ece386dde2864aec8c3194839978e67f",
       "version_major": 2,
       "version_minor": 0
      },
      "text/plain": [
       "  0%|          | 0/329 [00:00<?, ?it/s]"
      ]
     },
     "metadata": {},
     "output_type": "display_data"
    },
    {
     "data": {
      "text/plain": [
       "0.11698733002943833"
      ]
     },
     "execution_count": 15,
     "metadata": {},
     "output_type": "execute_result"
    },
    {
     "name": "stdout",
     "output_type": "stream",
     "text": [
      "Starting to train each batch\n"
     ]
    },
    {
     "data": {
      "application/vnd.jupyter.widget-view+json": {
       "model_id": "2c8b9e78ccc94c8baf839840eed86cbd",
       "version_major": 2,
       "version_minor": 0
      },
      "text/plain": [
       "  0%|          | 0/329 [00:00<?, ?it/s]"
      ]
     },
     "metadata": {},
     "output_type": "display_data"
    },
    {
     "data": {
      "text/plain": [
       "0.11306918344508551"
      ]
     },
     "execution_count": 15,
     "metadata": {},
     "output_type": "execute_result"
    },
    {
     "name": "stdout",
     "output_type": "stream",
     "text": [
      "Starting to train each batch\n"
     ]
    },
    {
     "data": {
      "application/vnd.jupyter.widget-view+json": {
       "model_id": "4f9f2297f8d64fd39af89f04725f5c3a",
       "version_major": 2,
       "version_minor": 0
      },
      "text/plain": [
       "  0%|          | 0/329 [00:00<?, ?it/s]"
      ]
     },
     "metadata": {},
     "output_type": "display_data"
    },
    {
     "data": {
      "text/plain": [
       "0.11019163329641145"
      ]
     },
     "execution_count": 15,
     "metadata": {},
     "output_type": "execute_result"
    },
    {
     "name": "stdout",
     "output_type": "stream",
     "text": [
      "Starting to train each batch\n"
     ]
    },
    {
     "data": {
      "application/vnd.jupyter.widget-view+json": {
       "model_id": "17bde3024c374c0daf3bbe982ffd6b54",
       "version_major": 2,
       "version_minor": 0
      },
      "text/plain": [
       "  0%|          | 0/329 [00:00<?, ?it/s]"
      ]
     },
     "metadata": {},
     "output_type": "display_data"
    },
    {
     "data": {
      "text/plain": [
       "0.10829350374933434"
      ]
     },
     "execution_count": 15,
     "metadata": {},
     "output_type": "execute_result"
    },
    {
     "name": "stdout",
     "output_type": "stream",
     "text": [
      "Starting to train each batch\n"
     ]
    },
    {
     "data": {
      "application/vnd.jupyter.widget-view+json": {
       "model_id": "208cc30d87cc4a62b9482dbaa11211bf",
       "version_major": 2,
       "version_minor": 0
      },
      "text/plain": [
       "  0%|          | 0/329 [00:00<?, ?it/s]"
      ]
     },
     "metadata": {},
     "output_type": "display_data"
    },
    {
     "data": {
      "text/plain": [
       "0.10693068528338406"
      ]
     },
     "execution_count": 15,
     "metadata": {},
     "output_type": "execute_result"
    },
    {
     "name": "stdout",
     "output_type": "stream",
     "text": [
      "Starting to train each batch\n"
     ]
    },
    {
     "data": {
      "application/vnd.jupyter.widget-view+json": {
       "model_id": "fba6f268428644999bee4e868ea8b86e",
       "version_major": 2,
       "version_minor": 0
      },
      "text/plain": [
       "  0%|          | 0/329 [00:00<?, ?it/s]"
      ]
     },
     "metadata": {},
     "output_type": "display_data"
    },
    {
     "data": {
      "text/plain": [
       "0.10545178579794962"
      ]
     },
     "execution_count": 15,
     "metadata": {},
     "output_type": "execute_result"
    },
    {
     "name": "stdout",
     "output_type": "stream",
     "text": [
      "Starting to train each batch\n"
     ]
    },
    {
     "data": {
      "application/vnd.jupyter.widget-view+json": {
       "model_id": "64b83e5641d745598d0d1d6ef56f30d4",
       "version_major": 2,
       "version_minor": 0
      },
      "text/plain": [
       "  0%|          | 0/329 [00:00<?, ?it/s]"
      ]
     },
     "metadata": {},
     "output_type": "display_data"
    },
    {
     "data": {
      "text/plain": [
       "0.10446718253625563"
      ]
     },
     "execution_count": 15,
     "metadata": {},
     "output_type": "execute_result"
    },
    {
     "name": "stdout",
     "output_type": "stream",
     "text": [
      "Starting to train each batch\n"
     ]
    },
    {
     "data": {
      "application/vnd.jupyter.widget-view+json": {
       "model_id": "3179119b2d504074b8db3d65a967a082",
       "version_major": 2,
       "version_minor": 0
      },
      "text/plain": [
       "  0%|          | 0/329 [00:00<?, ?it/s]"
      ]
     },
     "metadata": {},
     "output_type": "display_data"
    },
    {
     "data": {
      "text/plain": [
       "0.10386751949968309"
      ]
     },
     "execution_count": 15,
     "metadata": {},
     "output_type": "execute_result"
    },
    {
     "name": "stdout",
     "output_type": "stream",
     "text": [
      "Starting to train each batch\n"
     ]
    },
    {
     "data": {
      "application/vnd.jupyter.widget-view+json": {
       "model_id": "cac8e65d6a7c42759550abbaf26d15df",
       "version_major": 2,
       "version_minor": 0
      },
      "text/plain": [
       "  0%|          | 0/329 [00:00<?, ?it/s]"
      ]
     },
     "metadata": {},
     "output_type": "display_data"
    },
    {
     "data": {
      "text/plain": [
       "0.10298166688995883"
      ]
     },
     "execution_count": 15,
     "metadata": {},
     "output_type": "execute_result"
    },
    {
     "name": "stdout",
     "output_type": "stream",
     "text": [
      "Starting to train each batch\n"
     ]
    },
    {
     "data": {
      "application/vnd.jupyter.widget-view+json": {
       "model_id": "f0973a7797034671b582400cb802faff",
       "version_major": 2,
       "version_minor": 0
      },
      "text/plain": [
       "  0%|          | 0/329 [00:00<?, ?it/s]"
      ]
     },
     "metadata": {},
     "output_type": "display_data"
    },
    {
     "data": {
      "text/plain": [
       "0.10243988641761356"
      ]
     },
     "execution_count": 15,
     "metadata": {},
     "output_type": "execute_result"
    },
    {
     "name": "stdout",
     "output_type": "stream",
     "text": [
      "Starting to train each batch\n"
     ]
    },
    {
     "data": {
      "application/vnd.jupyter.widget-view+json": {
       "model_id": "770c16eafe5748f3b777235721f9dbaa",
       "version_major": 2,
       "version_minor": 0
      },
      "text/plain": [
       "  0%|          | 0/329 [00:00<?, ?it/s]"
      ]
     },
     "metadata": {},
     "output_type": "display_data"
    },
    {
     "data": {
      "text/plain": [
       "0.10199009165122516"
      ]
     },
     "execution_count": 15,
     "metadata": {},
     "output_type": "execute_result"
    },
    {
     "name": "stdout",
     "output_type": "stream",
     "text": [
      "Starting to train each batch\n"
     ]
    },
    {
     "data": {
      "application/vnd.jupyter.widget-view+json": {
       "model_id": "dc85b8c53a934cb7afa2216c37d46b1e",
       "version_major": 2,
       "version_minor": 0
      },
      "text/plain": [
       "  0%|          | 0/329 [00:00<?, ?it/s]"
      ]
     },
     "metadata": {},
     "output_type": "display_data"
    },
    {
     "data": {
      "text/plain": [
       "0.10164494210101188"
      ]
     },
     "execution_count": 15,
     "metadata": {},
     "output_type": "execute_result"
    }
   ],
   "source": [
    "mlp_model = MLP(input_size=input_size,\n",
    "            hidden_sizes=hidden_sizes,\n",
    "            n_labels=n_labels\n",
    "           )\n",
    "\n",
    "optimizer = torch.optim.Adam(mlp_model.parameters(), lr=lr, weight_decay=weight_decay)\n",
    "criterion = nn.BCEWithLogitsLoss(reduction='mean')\n",
    "\n",
    "ths = {i:0.5 for i in range(n_labels)}\n",
    "\n",
    "train_dataloader = DataLoader(dataset,\n",
    "                        batch_size=batch_size,\n",
    "                        collate_fn=ICareCOLLATE(),\n",
    "                        sampler=SubsetRandomSampler(dataset.train_indices)\n",
    "                       )\n",
    "\n",
    "# train model\n",
    "for epoch in tqdm(range(epochs)):\n",
    "    train_model_dataloader(mlp_model,train_dataloader,criterion,optimizer)"
   ]
  },
  {
   "cell_type": "markdown",
   "id": "d1134f27-7929-420e-b01e-55ffdee8d281",
   "metadata": {},
   "source": [
    "### Show metrics"
   ]
  },
  {
   "cell_type": "code",
   "execution_count": 16,
   "id": "27b1747f-7269-439f-b81f-0b61c276a693",
   "metadata": {},
   "outputs": [
    {
     "name": "stdout",
     "output_type": "stream",
     "text": [
      "Starting to iterate dataloader to update metrics\n"
     ]
    },
    {
     "data": {
      "application/vnd.jupyter.widget-view+json": {
       "model_id": "50139d5178534ffe89bd3a143a991618",
       "version_major": 2,
       "version_minor": 0
      },
      "text/plain": [
       "  0%|          | 0/329 [00:00<?, ?it/s]"
      ]
     },
     "metadata": {},
     "output_type": "display_data"
    },
    {
     "name": "stdout",
     "output_type": "stream",
     "text": [
      "Starting to iterate dataloader to update metrics\n"
     ]
    },
    {
     "data": {
      "application/vnd.jupyter.widget-view+json": {
       "model_id": "7bce02d256e844238bca6f74d6805c6a",
       "version_major": 2,
       "version_minor": 0
      },
      "text/plain": [
       "  0%|          | 0/36 [00:00<?, ?it/s]"
      ]
     },
     "metadata": {},
     "output_type": "display_data"
    },
    {
     "name": "stdout",
     "output_type": "stream",
     "text": [
      "Starting to iterate dataloader to update metrics\n"
     ]
    },
    {
     "data": {
      "application/vnd.jupyter.widget-view+json": {
       "model_id": "5dcd85554d024a3f84c8a9fc1aba462d",
       "version_major": 2,
       "version_minor": 0
      },
      "text/plain": [
       "  0%|          | 0/36 [00:00<?, ?it/s]"
      ]
     },
     "metadata": {},
     "output_type": "display_data"
    }
   ],
   "source": [
    "metrics = MetricsV2(metrics_factory,selectors)\n",
    "metrics.update_metrics_dataloader(model,train_dataloader,ths)\n",
    "train_m = metrics.compute_metrics()\n",
    "metrics.reset_metrics()\n",
    "metrics.update_metrics_dataloader(model,val_dataloader,ths)\n",
    "val_m = metrics.compute_metrics()\n",
    "\n",
    "metrics.reset_metrics()\n",
    "metrics.update_metrics_dataloader(model,test_dataloader,ths)\n",
    "test_m = metrics.compute_metrics()"
   ]
  },
  {
   "cell_type": "code",
   "execution_count": 19,
   "id": "329394bc-96f6-4446-9d8d-e4dd08de6f7f",
   "metadata": {},
   "outputs": [
    {
     "data": {
      "text/plain": [
       "0.430661141872406"
      ]
     },
     "execution_count": 19,
     "metadata": {},
     "output_type": "execute_result"
    }
   ],
   "source": [
    "val_m['avgprec']['last']['weighted']"
   ]
  },
  {
   "cell_type": "markdown",
   "id": "4c1d5ad5-f727-4eb3-ac49-4b5c34daf983",
   "metadata": {},
   "source": [
    "# RNN"
   ]
  },
  {
   "cell_type": "markdown",
   "id": "5017a1e5-3d52-4aaa-9e5f-5c53e9006107",
   "metadata": {},
   "source": [
    "## Dataset"
   ]
  },
  {
   "cell_type": "code",
   "execution_count": null,
   "id": "78a1996d-f259-4466-9f7d-c6bd9dab3d67",
   "metadata": {},
   "outputs": [],
   "source": [
    "dataset_folder = '/home/debian/Simao/master-thesis/data/model_ready_dataset/mimic-iii_dataset.json'\n",
    "dataset_rnn = ICareDataset(dataset_folder,\n",
    "                            ccs_universe,\n",
    "                       input='history',\n",
    "                       target='target',\n",
    "                            grouping=grouping,\n",
    "                           opt_size=0.25\n",
    "                          )\n",
    "n_labels = input_size = dataset.grouping_data['ccs']['n_labels']"
   ]
  },
  {
   "cell_type": "code",
   "execution_count": null,
   "id": "7c00d955-a0ec-494f-a031-813f5cfb296a",
   "metadata": {},
   "outputs": [],
   "source": [
    "train_dataloader_rnn = DataLoader(dataset_rnn,\n",
    "                            batch_size=batch_size,\n",
    "                            collate_fn=ICareCOLLATE(),\n",
    "                            sampler=SubsetRandomSampler(dataset_rnn.train_indices)\n",
    "                           )\n",
    "\n",
    "test_dataloader_rnn = DataLoader(dataset_rnn,\n",
    "                            batch_size=batch_size,\n",
    "                            collate_fn=ICareCOLLATE(),\n",
    "                            sampler=SubsetRandomSampler(dataset_rnn.test_indices)\n",
    "                           )\n",
    "\n",
    "val_dataloader_rnn = DataLoader(dataset_rnn,\n",
    "                            batch_size=batch_size,\n",
    "                            collate_fn=ICareCOLLATE(),\n",
    "                            sampler=SubsetRandomSampler(dataset_rnn.val_indices)\n",
    "                           )"
   ]
  },
  {
   "cell_type": "markdown",
   "id": "b1f097db-7d7d-4fd3-b2a4-42939aff43f2",
   "metadata": {},
   "source": [
    "## Choose metrics"
   ]
  },
  {
   "cell_type": "code",
   "execution_count": null,
   "id": "eef67214-f69c-4d15-89b3-df792517912a",
   "metadata": {},
   "outputs": [],
   "source": [
    "metrics_factory = {'avgprec':{'func':AveragePrecision,\n",
    "                      'kwargs':dict(num_classes=n_labels,average=None,multiclass=False),\n",
    "                      'extra_pooling':['weighted']\n",
    "                     }\n",
    "          }\n",
    "\n",
    "selectors = [MaskTimesteps('last'),MaskTimesteps('all')]\n",
    "\n",
    "metrics = MetricsV2(metrics_factory,selectors)"
   ]
  },
  {
   "cell_type": "markdown",
   "id": "7fa749a3-27bf-415a-98cf-5356382b060a",
   "metadata": {},
   "source": [
    "## Grid Search"
   ]
  },
  {
   "cell_type": "code",
   "execution_count": null,
   "id": "46123708-f273-454f-a563-ebda8664d3ce",
   "metadata": {},
   "outputs": [],
   "source": [
    "Uparams = dict(hidden_size=[50,150,250],\n",
    "               lr=[3e-4,6e-4,2e-3,5e-3],\n",
    "               batch_size=[8,16,32],\n",
    "               weight_decay=[0,1e-5],\n",
    "               model_type=['rnn','gru','lstm']\n",
    "              )\n",
    "\n",
    "params = list(ParameterGrid(Uparams))\n",
    "\n",
    "# random grid search up to <search_space> iterations\n",
    "search_space = 30\n",
    "import random\n",
    "random.shuffle(params)\n",
    "size = len(params)\n",
    "params = params[:search_space]"
   ]
  },
  {
   "cell_type": "markdown",
   "id": "c155d1f7-d58d-442e-81bb-37529a3a0728",
   "metadata": {},
   "source": [
    "## Pipeline"
   ]
  },
  {
   "cell_type": "code",
   "execution_count": null,
   "id": "7daff2e7-1f69-4b7e-b34f-2c77d6c96d49",
   "metadata": {
    "tags": []
   },
   "outputs": [],
   "source": [
    "assert 1 == 2\n",
    "epochs = 20\n",
    "\n",
    "ths = {i:0.5 for i in range(n_labels)}\n",
    "\n",
    "for param_set in tqdm(params):\n",
    "    \n",
    "    config = {\n",
    "          \"batch_size\": param_set['batch_size'],\n",
    "          \"epochs\": epochs,\n",
    "          \"input\":'ccs',\n",
    "          \"output\":'ccs',\n",
    "          \"manual_seed\":seed,\n",
    "          \"hidden_size\":param_set['hidden_size'],\n",
    "          \"num_layers\":1,\n",
    "          \"name\":'RNN',\n",
    "          \"type\":param_set['model_type'],\n",
    "          \"lr\":param_set[\"lr\"],\n",
    "        \"weight_decay\": param_set['weight_decay']\n",
    "        }\n",
    "\n",
    "    wandb.init(project=\"mimic-iii-benchmark\", entity=\"snovaisg\",config=config)\n",
    "    \n",
    "    model = RNN(input_size=input_size,\n",
    "                hidden_size=param_set['hidden_size'],\n",
    "                num_layers=1,\n",
    "                n_labels=n_labels,\n",
    "                model=param_set['model_type']\n",
    "                )\n",
    "\n",
    "    optimizer = torch.optim.Adam(model.parameters(), lr=param_set['lr'],weight_decay=param_set['weight_decay'])\n",
    "    criterion = nn.BCEWithLogitsLoss(reduction='mean')\n",
    "\n",
    "    ths = {i:0.5 for i in range(n_labels)}\n",
    "    \n",
    "    train_dataloader_rnn = DataLoader(dataset_rnn,\n",
    "                            batch_size=param_set['batch_size'],\n",
    "                            collate_fn=ICareCOLLATE(),\n",
    "                            sampler=SubsetRandomSampler(dataset_rnn.train_indices)\n",
    "                           )\n",
    "\n",
    "    for epoch in tqdm(range(epochs)):\n",
    "        epoch_loss = train_model_dataloader(model,train_dataloader_rnn,criterion,optimizer)\n",
    "        log = {'loss':epoch_loss}\n",
    "        wandb.log(log)\n",
    "    \n",
    "    #metrics.reset_metrics()\n",
    "    #metrics.update_metrics_dataloader(model,train_dataloader,ths)\n",
    "    #train_m = metrics.compute_metrics()\n",
    "    metrics.reset_metrics()\n",
    "    metrics.update_metrics_dataloader(model,val_dataloader,ths)\n",
    "    val_m = metrics.compute_metrics()\n",
    "    \n",
    "    #train_avgprec = train_m['avgprec']['last']['weighted']\n",
    "    val_avgprec = val_m['avgprec']['last']['weighted']\n",
    "    \n",
    "    val_loss_all = compute_loss_dataloader(model,val_dataloader_rnn,criterion)\n",
    "    \n",
    "    log = {'vall_loss':val_loss_all,'val_avgprec':val_avgprec}\n",
    "    wandb.log(log)"
   ]
  },
  {
   "cell_type": "markdown",
   "id": "c4ba2d0c-1907-4877-82a7-5a9ce554880a",
   "metadata": {},
   "source": [
    "# Baseline Frequent diagnoses"
   ]
  },
  {
   "cell_type": "code",
   "execution_count": null,
   "id": "a74f9882-f948-463b-a1b9-15b63c87dc15",
   "metadata": {},
   "outputs": [],
   "source": [
    "metrics_factory = {'recall@30':{'func':Recall,\n",
    "                                'kwargs':dict(top_k=30,average='samples',num_classes=n_labels),\n",
    "                                'extra_pooling':[]\n",
    "                               },\n",
    "                   'precision@30':{'func':Precision,\n",
    "                                'kwargs':dict(top_k=30,average='samples',num_classes=n_labels),\n",
    "                                'extra_pooling':[]\n",
    "                               },\n",
    "                   'f1@30':{'func':F1Score,\n",
    "                                'kwargs':dict(top_k=30,average='samples',num_classes=n_labels),\n",
    "                                'extra_pooling':[]\n",
    "                               },\n",
    "                   \n",
    "          }\n",
    "\n",
    "selectors = [MaskTimesteps('last'),MaskTimesteps('all')]\n",
    "\n",
    "metrics = MetricsV2(metrics_factory,selectors)"
   ]
  },
  {
   "cell_type": "code",
   "execution_count": null,
   "id": "cbcac03e-308b-49b8-b18c-eff89e65441f",
   "metadata": {},
   "outputs": [],
   "source": [
    "models = [repeatPast(how='last_admission'),repeatPast(how='whole_history'),repeatPast(how='top@3'),repeatPast(how='top@10')]\n",
    "names = [m.how for m in models]\n",
    "ths = {e:0.5 for e in range(n_labels)}\n",
    "recall_30 = []\n",
    "precision_30 = []\n",
    "f1_30 = []\n",
    "\n",
    "all_results = list()\n",
    "for i,model in enumerate(models):\n",
    "    metrics.update_metrics_dataloader(model,val_dataloader,ths)\n",
    "    res = metrics.compute_metrics()\n",
    "    a = pd.DataFrame(res).applymap(lambda x: x['original'].item())\n",
    "    a.columns = pd.MultiIndex.from_product([[names[i]],a.columns])\n",
    "    all_results.append(a)\n",
    "    metrics.reset_metrics()\n",
    "all_results = pd.concat(all_results,axis=1).T"
   ]
  },
  {
   "cell_type": "code",
   "execution_count": null,
   "id": "6787f84b-1c7e-4a7b-b890-5d17d93b443b",
   "metadata": {},
   "outputs": [],
   "source": [
    "all_results"
   ]
  },
  {
   "cell_type": "markdown",
   "id": "4d93316e-c60a-44de-86df-efac7f69669f",
   "metadata": {},
   "source": [
    "# Create table of benchmark"
   ]
  },
  {
   "cell_type": "code",
   "execution_count": null,
   "id": "b5e5bbe8-a890-4a4a-a704-a6b093bc15b0",
   "metadata": {},
   "outputs": [],
   "source": [
    "all_results = [] # final table"
   ]
  },
  {
   "cell_type": "markdown",
   "id": "c6c21fd5-a867-45fa-9dff-ce71c22bcc51",
   "metadata": {},
   "source": [
    "## metrics"
   ]
  },
  {
   "cell_type": "code",
   "execution_count": null,
   "id": "9dcb9645-5040-4f98-bb4f-eeae5ae1c5b4",
   "metadata": {},
   "outputs": [],
   "source": [
    "metrics_factory = {'recall@30':{'func':Recall,\n",
    "                                'kwargs':dict(top_k=30,average='samples',num_classes=n_labels),\n",
    "                                'extra_pooling':[]\n",
    "                               },\n",
    "                   'precision@30':{'func':Precision,\n",
    "                                'kwargs':dict(top_k=30,average='samples',num_classes=n_labels),\n",
    "                                'extra_pooling':[]\n",
    "                               },\n",
    "                   'f1@30':{'func':F1Score,\n",
    "                                'kwargs':dict(top_k=30,average='samples',num_classes=n_labels),\n",
    "                                'extra_pooling':[]\n",
    "                               },\n",
    "                   \n",
    "          }\n",
    "\n",
    "selectors = [MaskTimesteps('last'),MaskTimesteps('all')]\n",
    "\n",
    "metrics = MetricsV2(metrics_factory,selectors)"
   ]
  },
  {
   "cell_type": "markdown",
   "id": "f06f93b4-e0f4-4205-a09c-df5cce914022",
   "metadata": {},
   "source": [
    "## baseline frequent"
   ]
  },
  {
   "cell_type": "code",
   "execution_count": null,
   "id": "7626f7f2-a98f-4d8f-80b8-3bd7061e0d40",
   "metadata": {},
   "outputs": [],
   "source": [
    "models = [repeatPast(how='last_admission'),repeatPast(how='whole_history'),repeatPast(how='top@3'),repeatPast(how='top@10')]\n",
    "names = [m.how for m in models]\n",
    "ths = {e:0.5 for e in range(n_labels)}\n",
    "recall_30 = []\n",
    "precision_30 = []\n",
    "f1_30 = []\n",
    "\n",
    "for i,model in enumerate(tqdm(models)):\n",
    "    metrics.update_metrics_dataloader(model,test_dataloader,ths)\n",
    "    res = metrics.compute_metrics()\n",
    "    a = pd.DataFrame(res).applymap(lambda x: x['original'].item())\n",
    "    a.columns = pd.MultiIndex.from_product([[names[i]],a.columns])\n",
    "    all_results.append(a)\n",
    "    metrics.reset_metrics()"
   ]
  },
  {
   "cell_type": "markdown",
   "id": "9d2103fd-1b99-4cad-b89c-45c124f0c336",
   "metadata": {},
   "source": [
    "## best MLP model"
   ]
  },
  {
   "cell_type": "markdown",
   "id": "4b3ed0c8-202b-4253-8463-2a6a71219dc1",
   "metadata": {},
   "source": [
    "### reproducibility"
   ]
  },
  {
   "cell_type": "code",
   "execution_count": null,
   "id": "c7c344ff-b8d1-483c-a15e-ec486fd10bc4",
   "metadata": {},
   "outputs": [],
   "source": [
    "# Reproducibility\n",
    "seed = settings.random_seed\n",
    "\n",
    "np.random.seed(seed)\n",
    "torch.manual_seed(seed)\n",
    "torch.cuda.manual_seed(seed)\n",
    "\n",
    "torch.backends.cudnn.deterministic = True\n",
    "torch.backends.cudnn.benchmark = False"
   ]
  },
  {
   "cell_type": "markdown",
   "id": "204fa928-d38b-4017-8fd6-f4b901351d4b",
   "metadata": {},
   "source": [
    "### Parameters"
   ]
  },
  {
   "cell_type": "code",
   "execution_count": null,
   "id": "0d4fbc0a-2300-45e6-8bdf-a4d055c6a612",
   "metadata": {},
   "outputs": [],
   "source": [
    "# name: mimic-iii-benchmark -> rose-salad-21\n",
    "epochs = 20\n",
    "hidden_sizes=[250]\n",
    "lr=6e-4\n",
    "weight_decay=0.00001\n",
    "batch_size = 16"
   ]
  },
  {
   "cell_type": "markdown",
   "id": "660821e1-d89f-4d86-b18f-9ecc58ed3ac9",
   "metadata": {},
   "source": [
    "### Train"
   ]
  },
  {
   "cell_type": "code",
   "execution_count": null,
   "id": "f6a82cf7-e916-4c73-af8a-5a1370a626ea",
   "metadata": {
    "tags": []
   },
   "outputs": [],
   "source": [
    "mlp_model = MLP(input_size=n_labels,\n",
    "            hidden_sizes=hidden_sizes,\n",
    "            n_labels=n_labels\n",
    "           )\n",
    "\n",
    "optimizer = torch.optim.Adam(mlp_model.parameters(), lr=lr, weight_decay=weight_decay)\n",
    "criterion = nn.BCEWithLogitsLoss(reduction='mean')\n",
    "\n",
    "ths = {i:0.5 for i in range(n_labels)}\n",
    "\n",
    "train_dataloader = DataLoader(dataset,\n",
    "                        batch_size=batch_size,\n",
    "                        collate_fn=ICareCOLLATE(),\n",
    "                        sampler=SubsetRandomSampler(dataset.train_indices)\n",
    "                       )\n",
    "\n",
    "# train model\n",
    "for epoch in tqdm(range(epochs)):\n",
    "    train_model_dataloader(mlp_model,train_dataloader,criterion,optimizer)"
   ]
  },
  {
   "cell_type": "markdown",
   "id": "546aeb92-0f5e-4093-978f-cf6b2d76f1b9",
   "metadata": {},
   "source": [
    "\n",
    "### Evaluate"
   ]
  },
  {
   "cell_type": "code",
   "execution_count": null,
   "id": "6b9890ae-3b63-4012-876b-d92a2905c751",
   "metadata": {},
   "outputs": [],
   "source": [
    "metrics.reset_metrics()\n",
    "metrics.update_metrics_dataloader(mlp_model,test_dataloader,ths)\n",
    "res = metrics.compute_metrics()\n",
    "\n",
    "a = pd.DataFrame(res).applymap(lambda x: x['original'].item())\n",
    "a.columns = pd.MultiIndex.from_product([['MLP'],a.columns])\n",
    "all_results.append(a)"
   ]
  },
  {
   "cell_type": "markdown",
   "id": "38d287f9-6d4c-41da-a407-cdd02bb89c82",
   "metadata": {},
   "source": [
    "## Best RNN"
   ]
  },
  {
   "cell_type": "markdown",
   "id": "2a487c1f-ce78-454f-b580-4c1ceb0e4767",
   "metadata": {},
   "source": [
    "### reproducibility"
   ]
  },
  {
   "cell_type": "code",
   "execution_count": null,
   "id": "ec9ba275-af3b-4494-86f9-a6e80808c63d",
   "metadata": {},
   "outputs": [],
   "source": [
    "# Reproducibility\n",
    "seed = settings.random_seed\n",
    "\n",
    "np.random.seed(seed)\n",
    "torch.manual_seed(seed)\n",
    "torch.cuda.manual_seed(seed)\n",
    "\n",
    "torch.backends.cudnn.deterministic = True\n",
    "torch.backends.cudnn.benchmark = False"
   ]
  },
  {
   "cell_type": "markdown",
   "id": "1fce795f-d146-4570-a251-d0a40ac2fd4b",
   "metadata": {},
   "source": [
    "### Parameters"
   ]
  },
  {
   "cell_type": "code",
   "execution_count": null,
   "id": "e57505ce-01d8-4f7e-815b-410e867d5762",
   "metadata": {},
   "outputs": [],
   "source": [
    "batch_size = 16\n",
    "epochs = 20\n",
    "hidden_size = 150\n",
    "lr = 0.002\n",
    "weight_decay = 0.00001\n",
    "model_type = 'gru'"
   ]
  },
  {
   "cell_type": "markdown",
   "id": "42fc341b-c6a6-4857-b991-4b2155a5dc50",
   "metadata": {},
   "source": [
    "### Train"
   ]
  },
  {
   "cell_type": "code",
   "execution_count": null,
   "id": "d9eccc08-4fb3-4517-a1c8-54da3fc5067f",
   "metadata": {
    "tags": []
   },
   "outputs": [],
   "source": [
    "rnn_model = RNN(input_size=input_size,\n",
    "                hidden_size=hidden_size,\n",
    "                num_layers=1,\n",
    "                n_labels=n_labels,\n",
    "                model=model_type\n",
    "                )\n",
    "\n",
    "optimizer = torch.optim.Adam(rnn_model.parameters(), lr=lr,weight_decay=weight_decay)\n",
    "criterion = nn.BCEWithLogitsLoss(reduction='mean')\n",
    "\n",
    "ths = {i:0.5 for i in range(n_labels)}\n",
    "\n",
    "train_dataloader_rnn = DataLoader(dataset_rnn,\n",
    "                        batch_size=batch_size,\n",
    "                        collate_fn=ICareCOLLATE(),\n",
    "                        sampler=SubsetRandomSampler(dataset_rnn.train_indices)\n",
    "                       )\n",
    "\n",
    "for epoch in tqdm(range(epochs)):\n",
    "    train_model_dataloader(rnn_model,train_dataloader_rnn,criterion,optimizer)"
   ]
  },
  {
   "cell_type": "markdown",
   "id": "484af803-3270-4e72-ad69-2537556a6e41",
   "metadata": {},
   "source": [
    "### Evaluate"
   ]
  },
  {
   "cell_type": "code",
   "execution_count": null,
   "id": "9f4f88c1-bd84-4b46-aed1-012bdf4114d2",
   "metadata": {},
   "outputs": [],
   "source": [
    "metrics.reset_metrics()\n",
    "metrics.update_metrics_dataloader(rnn_model,test_dataloader_rnn,ths)\n",
    "res = metrics.compute_metrics()\n",
    "\n",
    "a = pd.DataFrame(res).applymap(lambda x: x['original'].item())\n",
    "a.columns = pd.MultiIndex.from_product([['GRU'],a.columns])\n",
    "all_results.append(a)"
   ]
  },
  {
   "cell_type": "markdown",
   "id": "598cd4de-2174-44f8-88b6-5593cacf6915",
   "metadata": {},
   "source": [
    "### Logistic Regression"
   ]
  },
  {
   "cell_type": "code",
   "execution_count": null,
   "id": "e159ca26-1b56-425c-b9cf-de58a4260c52",
   "metadata": {},
   "outputs": [],
   "source": [
    "class LogisticRegression(torch.nn.Module):\n",
    "    def __init__(self, input_dim, output_dim):\n",
    "        super(LogisticRegression, self).__init__()\n",
    "        self.linear = torch.nn.Linear(input_dim, output_dim)\n",
    "    def forward(self, x,ignore_sigmoid=False):\n",
    "        #linear layers don't support packs\n",
    "        x = pad_packed_sequence(x,batch_first=True)[0]\n",
    "        outs = self.linear(x)\n",
    "        if ignore_sigmoid:\n",
    "            return outs\n",
    "        return torch.sigmoid(outs)"
   ]
  },
  {
   "cell_type": "code",
   "execution_count": null,
   "id": "52839726-9c18-45f8-bfc9-c79575e26729",
   "metadata": {
    "tags": []
   },
   "outputs": [],
   "source": [
    "lr_model = LogisticRegression(input_dim=n_labels,\n",
    "                              output_dim=n_labels\n",
    "                             )\n",
    "\n",
    "optimizer = torch.optim.Adam(lr_model.parameters(), lr=2e-3, weight_decay=0)\n",
    "criterion = nn.BCEWithLogitsLoss(reduction='mean')\n",
    "\n",
    "ths = {i:0.5 for i in range(n_labels)}\n",
    "\n",
    "train_dataloader = DataLoader(dataset,\n",
    "                        batch_size=batch_size,\n",
    "                        collate_fn=ICareCOLLATE(),\n",
    "                        sampler=SubsetRandomSampler(dataset.train_indices)\n",
    "                       )\n",
    "\n",
    "# train model\n",
    "for epoch in tqdm(range(epochs)):\n",
    "    train_model_dataloader(lr_model,train_dataloader,criterion,optimizer)"
   ]
  },
  {
   "cell_type": "code",
   "execution_count": null,
   "id": "3cefb38c-5888-4d23-90e1-a0355f6a94c9",
   "metadata": {},
   "outputs": [],
   "source": [
    "metrics.reset_metrics()\n",
    "metrics.update_metrics_dataloader(lr_model,test_dataloader,ths)\n",
    "res = metrics.compute_metrics()\n",
    "\n",
    "a = pd.DataFrame(res).applymap(lambda x: x['original'].item())\n",
    "a.columns = pd.MultiIndex.from_product([['LR'],a.columns])\n",
    "all_results.append(a)"
   ]
  },
  {
   "cell_type": "markdown",
   "id": "3bb5f26f-fd82-419a-8810-2d9777db164c",
   "metadata": {},
   "source": [
    "## Show table"
   ]
  },
  {
   "cell_type": "code",
   "execution_count": null,
   "id": "41329b04-fa7f-4310-a7d5-f8f702aec26e",
   "metadata": {},
   "outputs": [],
   "source": [
    "#pd.concat(all_results,axis=1).T\n",
    "idx = pd.IndexSlice\n",
    "res = pd.concat(all_results,axis=1).T.loc[idx[:,['recall@30','precision@30']],'last'].unstack(level=-1).sort_values('recall@30',ascending=False).round(2)#.loc[idx[:,['recall@30','precision@30']],['last']]#.to_frame()\n",
    "res['mode'] = ['Model'] * 3 + ['baseline'] * 4\n",
    "res = res.reset_index().set_index(['mode','index']).rename_axis(index=[None,None])\n",
    "res.loc[idx['Model','Doctor.AI'],:] = [0.72,'N/A']\n",
    "res = res.sort_index().sort_values('recall@30',ascending=False)\n",
    "res\n"
   ]
  },
  {
   "cell_type": "code",
   "execution_count": null,
   "id": "5b5e545b-b774-4e8f-9fc3-18ef0d7a9a48",
   "metadata": {
    "tags": []
   },
   "outputs": [],
   "source": [
    "with warnings.catch_warnings():\n",
    "    warnings.simplefilter(\"ignore\")\n",
    "    a = compute_thresholds_dataloader(mlp_model,val_dataloader,None);"
   ]
  },
  {
   "cell_type": "markdown",
   "id": "d21b9f07-5de6-45a7-9af2-51aa3d180ba9",
   "metadata": {},
   "source": [
    "# Confidence Abstention"
   ]
  },
  {
   "cell_type": "markdown",
   "id": "6d891a4a-bb8c-4c70-bd64-38261acfec78",
   "metadata": {},
   "source": [
    "## Reliability plotting"
   ]
  },
  {
   "cell_type": "markdown",
   "id": "b24265f3-4839-417f-b7d4-8ce419a2a8a5",
   "metadata": {},
   "source": [
    "make sure to train an mlp_model and an rnn_model above first"
   ]
  },
  {
   "cell_type": "markdown",
   "id": "17fda5b0-3d15-4d1c-8a4e-68f2d883b05d",
   "metadata": {},
   "source": [
    "### Single reliability plot (top30)"
   ]
  },
  {
   "cell_type": "code",
   "execution_count": null,
   "id": "6ce62bb9-834b-422a-8c50-aca6a486b3db",
   "metadata": {
    "tags": []
   },
   "outputs": [],
   "source": [
    "# get thresholds on validation\n",
    "#ths = compute_thresholds_dataloader(model,val_dataloader)\n",
    "\n",
    "logits_df,preds_df,golden_df = compute_starting_info_for_confidence_analysis_dataloader(lr_model,\n",
    "                                                                                            val_dataloader,\n",
    "                                                                                        None,\n",
    "                                                                                        topk=30\n",
    "                                                                                       )\n",
    "\n",
    "#\n",
    "res = compute_ece(logits_df,preds_df,golden_df)"
   ]
  },
  {
   "cell_type": "code",
   "execution_count": null,
   "id": "5ee556a5-e801-4d63-bba9-17bdf631d8b9",
   "metadata": {},
   "outputs": [],
   "source": [
    "fig, axs = plt.subplots(2,gridspec_kw={'height_ratios': [2,4]},figsize=(8,8))\n",
    "\n",
    "axs[0].bar(x=res['bins'][:-1],height=[e / sum(res['n_bins']) for e in res['n_bins']],width=0.1,edgecolor='black',alpha=0.8,align='edge',label='Outputs')\n",
    "axs[0].set_xticks(ticks = res['bins']);\n",
    "#axs[0].set_xlabel('confidence',fontsize=10);\n",
    "axs[0].set_ylabel('% of samples',fontsize=15);\n",
    "#plt.tight_layout();\n",
    "\n",
    "bottom = [res['bin_acc'][i] if res['bin_acc'][i] < conf else conf for i,conf in enumerate(res['avg_confidences'])]\n",
    "\n",
    "\n",
    "axs[1].bar(x=res['bins'][:-1],height=res['bin_acc'],width=0.1,edgecolor='black',alpha=0.8,align='edge',label='Outputs')\n",
    "axs[1].bar(x=res['bins'][:-1],height=res['bin_ces'],width=0.1,color='yellow',edgecolor='red',bottom=bottom,alpha=0.4,align='edge',label='Gap')\n",
    "axs[1].scatter([e + 0.05 for e in res['bins'][:-1]],res['avg_confidences'],label='perfect_calibration');\n",
    "axs[1].set_xticks(ticks = res['bins']);\n",
    "#plt.title('Reliability Diagram');\n",
    "axs[1].set_xlabel('confidence',fontsize=15);\n",
    "axs[1].set_ylabel('accuracy',fontsize=15);\n",
    "#plt.savefig('media/reliability_diagram_MLP_mimic.png');\n",
    "#plt.tight_layout();\n",
    "#plt.plot(x,x,'-.');\n",
    "plt.legend();"
   ]
  },
  {
   "cell_type": "markdown",
   "id": "b946c04f-00e9-45bf-8e6a-6a2293b8e2c0",
   "metadata": {},
   "source": [
    "### side-by-side comparisson of reliability diagrams (top30 mlp vs rnn)"
   ]
  },
  {
   "cell_type": "code",
   "execution_count": null,
   "id": "323dcea1-8b75-4254-bdab-7aef22cbb695",
   "metadata": {
    "tags": []
   },
   "outputs": [],
   "source": [
    "plt.style.use('default')\n",
    "logits_df,preds_df,golden_df = compute_starting_info_for_confidence_analysis_dataloader(mlp_model,\n",
    "                                                                                        train_dataloader,\n",
    "                                                                                        None,\n",
    "                                                                                        topk=30\n",
    "                                                                                       )\n",
    "\n",
    "res = compute_ece(logits_df,preds_df,golden_df,use_positives=True)\n",
    "\n",
    "fig, axs = plt.subplots(2,3,gridspec_kw={'height_ratios': [2,4]},figsize=(16,8))\n",
    "\n",
    "axs[0,0].bar(x=res['bins'][:-1],height=[e / sum(res['n_bins']) for e in res['n_bins']],width=0.1,edgecolor='black',alpha=0.8,align='edge',label='Outputs')\n",
    "axs[0,0].set_xticks(ticks = res['bins']);\n",
    "#axs[0].set_xlabel('confidence',fontsize=10);\n",
    "axs[0,0].set_ylabel('% of samples',fontsize=15);\n",
    "#plt.tight_layout();\n",
    "axs[0,0].set_title(f'MLP model | ECE = {round(res[\"ece\"],3)}',fontsize=15)\n",
    "\n",
    "bottom = [res['bin_acc'][i] if res['bin_acc'][i] < conf else conf for i,conf in enumerate(res['avg_confidences'])]\n",
    "\n",
    "\n",
    "axs[1,0].bar(x=res['bins'][:-1],height=res['bin_acc'],width=0.1,edgecolor='black',alpha=0.8,align='edge',label='Outputs')\n",
    "axs[1,0].bar(x=res['bins'][:-1],height=res['bin_ces'],width=0.1,color='yellow',edgecolor='red',bottom=bottom,alpha=0.4,align='edge',label='Gap')\n",
    "axs[1,0].scatter([e + 0.05 for e in res['bins'][:-1]],res['avg_confidences'],label='perfect calibration');\n",
    "axs[1,0].set_xticks(ticks = res['bins']);\n",
    "#plt.title('Reliability Diagram');\n",
    "axs[1,0].set_xlabel('confidence',fontsize=15);\n",
    "axs[1,0].set_ylabel('accuracy',fontsize=15);\n",
    "#plt.savefig('media/reliability_diagram_MLP_mimic.png');\n",
    "#plt.tight_layout();\n",
    "#plt.plot(x,x,'-.');\n",
    "axs[1,0].legend();\n",
    "\n",
    "###################\n",
    "\n",
    "logits_df,preds_df,golden_df = compute_starting_info_for_confidence_analysis_dataloader(rnn_model,\n",
    "                                                                                        train_dataloader_rnn,\n",
    "                                                                                        None,\n",
    "                                                                                        topk=30\n",
    "                                                                                       )\n",
    "\n",
    "res = compute_ece(logits_df,preds_df,golden_df)\n",
    "\n",
    "axs[0,1].bar(x=res['bins'][:-1],height=[e / sum(res['n_bins']) for e in res['n_bins']],width=0.1,edgecolor='black',alpha=0.8,align='edge',label='Outputs')\n",
    "axs[0,1].set_xticks(ticks = res['bins']);\n",
    "#axs[0].set_xlabel('confidence',fontsize=10);\n",
    "#axs[0,1].set_ylabel('% of samples',fontsize=15);\n",
    "#plt.tight_layout();\n",
    "\n",
    "bottom = [res['bin_acc'][i] if res['bin_acc'][i] < conf else conf for i,conf in enumerate(res['avg_confidences'])]\n",
    "\n",
    "\n",
    "axs[1,1].bar(x=res['bins'][:-1],height=res['bin_acc'],width=0.1,edgecolor='black',alpha=0.8,align='edge',label='Outputs')\n",
    "axs[1,1].bar(x=res['bins'][:-1],height=res['bin_ces'],width=0.1,color='yellow',edgecolor='red',bottom=bottom,alpha=0.4,align='edge',label='Gap')\n",
    "axs[1,1].scatter([e + 0.05 for e in res['bins'][:-1]],res['avg_confidences'],label='perfect calibration');\n",
    "axs[1,1].set_xticks(ticks = res['bins']);\n",
    "#plt.title('Reliability Diagram');\n",
    "axs[1,1].set_xlabel('confidence',fontsize=15);\n",
    "#axs[1,1].set_ylabel('accuracy',fontsize=15);\n",
    "axs[0,1].set_title(f'RNN model | ECE = {round(res[\"ece\"],3)}',fontsize=15)\n",
    "#plt.tight_layout();\n",
    "#plt.plot(x,x,'-.');\n",
    "axs[1,1].legend();\n",
    "\n",
    "\n",
    "###################\n",
    "\n",
    "\n",
    "logits_df,preds_df,golden_df = compute_starting_info_for_confidence_analysis_dataloader(lr_model,\n",
    "                                                                                        train_dataloader,\n",
    "                                                                                        None,\n",
    "                                                                                        topk=30\n",
    "                                                                                       )\n",
    "\n",
    "res = compute_ece(logits_df,preds_df,golden_df)\n",
    "\n",
    "axs[0,2].bar(x=res['bins'][:-1],height=[e / sum(res['n_bins']) for e in res['n_bins']],width=0.1,edgecolor='black',alpha=0.8,align='edge',label='Outputs')\n",
    "axs[0,2].set_xticks(ticks = res['bins']);\n",
    "#axs[0].set_xlabel('confidence',fontsize=10);\n",
    "#axs[0,1].set_ylabel('% of samples',fontsize=15);\n",
    "#plt.tight_layout();\n",
    "\n",
    "bottom = [res['bin_acc'][i] if res['bin_acc'][i] < conf else conf for i,conf in enumerate(res['avg_confidences'])]\n",
    "\n",
    "\n",
    "axs[1,2].bar(x=res['bins'][:-1],height=res['bin_acc'],width=0.1,edgecolor='black',alpha=0.8,align='edge',label='Outputs')\n",
    "axs[1,2].bar(x=res['bins'][:-1],height=res['bin_ces'],width=0.1,color='yellow',edgecolor='red',bottom=bottom,alpha=0.4,align='edge',label='Gap')\n",
    "axs[1,2].scatter([e + 0.05 for e in res['bins'][:-1]],res['avg_confidences'],label='perfect calibration');\n",
    "axs[1,2].set_xticks(ticks = res['bins']);\n",
    "#plt.title('Reliability Diagram');\n",
    "axs[1,2].set_xlabel('confidence',fontsize=15);\n",
    "#axs[1,1].set_ylabel('accuracy',fontsize=15);\n",
    "axs[0,2].set_title(f'LR model | ECE = {round(res[\"ece\"],3)}',fontsize=15)\n",
    "#plt.tight_layout();\n",
    "#plt.plot(x,x,'-.');\n",
    "axs[1,2].legend();\n",
    "\n",
    "plt.savefig('media/reliability_diagram_MLPvsRNNvsLR_top30_mimic.png');"
   ]
  },
  {
   "cell_type": "markdown",
   "id": "43589f40-b1f4-49b5-943c-b461d74d9711",
   "metadata": {},
   "source": [
    "### Side by side comparisson of reliability diagrams (thresholds mlp vs rnn)"
   ]
  },
  {
   "cell_type": "code",
   "execution_count": null,
   "id": "f84108e9-62b4-4af6-9d83-b28a450d12eb",
   "metadata": {
    "tags": []
   },
   "outputs": [],
   "source": [
    "mlp_ths = compute_thresholds_dataloader(mlp_model,val_dataloader);\n",
    "rnn_ths = compute_thresholds_dataloader(rnn_model,val_dataloader);"
   ]
  },
  {
   "cell_type": "code",
   "execution_count": null,
   "id": "568d0ee6-7952-48f7-a40b-cfa8b4193269",
   "metadata": {},
   "outputs": [],
   "source": [
    "# get thresholds on validation\n",
    "# compute logits and predictions\n",
    "#ths = compute_thresholds_dataloader(model,val_dataloader);\n",
    "#ths = {diag:0.5 for diag in range(n_labels)}\n",
    "\n",
    "logits_df,preds_df,golden_df = compute_starting_info_for_confidence_analysis_dataloader(mlp_model,\n",
    "                                                                                        val_dataloader,\n",
    "                                                                                        mlp_ths.best_thresholds.to_dict(),\n",
    "                                                                                        topk=None\n",
    "                                                                                       )\n",
    "\n",
    "res = compute_ece(logits_df,preds_df,golden_df)\n",
    "\n",
    "fig, axs = plt.subplots(2,2,gridspec_kw={'height_ratios': [2,4]},figsize=(16,8))\n",
    "\n",
    "axs[0,0].bar(x=res['bins'][:-1],height=[e / sum(res['n_bins']) for e in res['n_bins']],width=0.1,edgecolor='black',alpha=0.8,align='edge',label='Outputs')\n",
    "axs[0,0].set_xticks(ticks = res['bins']);\n",
    "#axs[0].set_xlabel('confidence',fontsize=10);\n",
    "axs[0,0].set_ylabel('% of samples',fontsize=15);\n",
    "#plt.tight_layout();\n",
    "axs[0,0].set_title(f'MLP model | ECE = {round(res[\"ece\"],2)}',fontsize=15)\n",
    "\n",
    "bottom = [res['bin_acc'][i] if res['bin_acc'][i] < conf else conf for i,conf in enumerate(res['avg_confidences'])]\n",
    "\n",
    "\n",
    "axs[1,0].bar(x=res['bins'][:-1],height=res['bin_acc'],width=0.1,edgecolor='black',alpha=0.8,align='edge',label='Outputs')\n",
    "axs[1,0].bar(x=res['bins'][:-1],height=res['bin_ces'],width=0.1,color='yellow',edgecolor='red',bottom=bottom,alpha=0.4,align='edge',label='Gap')\n",
    "axs[1,0].scatter([e + 0.05 for e in res['bins'][:-1]],res['avg_confidences'],label='perfect_calibration');\n",
    "axs[1,0].set_xticks(ticks = res['bins']);\n",
    "#plt.title('Reliability Diagram');\n",
    "axs[1,0].set_xlabel('confidence',fontsize=15);\n",
    "axs[1,0].set_ylabel('accuracy',fontsize=15);\n",
    "#plt.savefig('media/reliability_diagram_MLP_mimic.png');\n",
    "#plt.tight_layout();\n",
    "#plt.plot(x,x,'-.');\n",
    "\n",
    "\n",
    "###################\n",
    "\n",
    "logits_df,preds_df,golden_df = compute_starting_info_for_confidence_analysis_dataloader(rnn_model,\n",
    "                                                                                        val_dataloader,\n",
    "                                                                                        rnn_ths.best_thresholds.to_dict(),\n",
    "                                                                                        topk=None\n",
    "                                                                                       )\n",
    "\n",
    "res = compute_ece(logits_df,preds_df,golden_df)\n",
    "\n",
    "axs[0,1].bar(x=res['bins'][:-1],height=[e / sum(res['n_bins']) for e in res['n_bins']],width=0.1,edgecolor='black',alpha=0.8,align='edge',label='Outputs')\n",
    "axs[0,1].set_xticks(ticks = res['bins']);\n",
    "#axs[0].set_xlabel('confidence',fontsize=10);\n",
    "#axs[0,1].set_ylabel('% of samples',fontsize=15);\n",
    "#plt.tight_layout();\n",
    "\n",
    "bottom = [res['bin_acc'][i] if res['bin_acc'][i] < conf else conf for i,conf in enumerate(res['avg_confidences'])]\n",
    "\n",
    "\n",
    "axs[1,1].bar(x=res['bins'][:-1],height=res['bin_acc'],width=0.1,edgecolor='black',alpha=0.8,align='edge',label='Outputs')\n",
    "axs[1,1].bar(x=res['bins'][:-1],height=res['bin_ces'],width=0.1,color='yellow',edgecolor='red',bottom=bottom,alpha=0.4,align='edge',label='Gap')\n",
    "axs[1,1].scatter([e + 0.05 for e in res['bins'][:-1]],res['avg_confidences'],label='perfect_calibration');\n",
    "axs[1,1].set_xticks(ticks = res['bins']);\n",
    "#plt.title('Reliability Diagram');\n",
    "axs[1,1].set_xlabel('confidence',fontsize=15);\n",
    "#axs[1,1].set_ylabel('accuracy',fontsize=15);\n",
    "axs[0,1].set_title(f'RNN model | ECE = {round(res[\"ece\"],2)}',fontsize=15)\n",
    "#plt.savefig('media/reliability_diagram_MLP_mimic.png');\n",
    "#plt.tight_layout();\n",
    "#plt.plot(x,x,'-.');\n",
    "plt.legend();"
   ]
  },
  {
   "cell_type": "markdown",
   "id": "fbc24198-1176-4b5d-831e-5173d08c10e0",
   "metadata": {},
   "source": [
    "----"
   ]
  },
  {
   "cell_type": "code",
   "execution_count": null,
   "id": "3877b72e-2cd8-4468-9ec7-86efc5f0571a",
   "metadata": {},
   "outputs": [],
   "source": [
    "# get thresholds on validation\n",
    "# compute logits and predictions\n",
    "#ths = compute_thresholds_dataloader(model,val_dataloader);\n",
    "#ths = {diag:0.5 for diag in range(n_labels)}\n",
    "\n",
    "logits_df,preds_df,golden_df = compute_starting_info_for_confidence_analysis_dataloader(mlp_model,\n",
    "                                                                                        val_dataloader,\n",
    "                                                                                        None,\n",
    "                                                                                        topk=30\n",
    "                                                                                       )\n",
    "\n",
    "res = compute_ece(logits_df,preds_df,golden_df)\n",
    "\n",
    "fig, axs = plt.subplots(2,2,gridspec_kw={'height_ratios': [2,4]},figsize=(16,8))\n",
    "\n",
    "axs[0,0].bar(x=res['bins'][:-1],height=[e / sum(res['n_bins']) for e in res['n_bins']],width=0.1,edgecolor='black',alpha=0.8,align='edge',label='Outputs')\n",
    "axs[0,0].set_xticks(ticks = res['bins']);\n",
    "#axs[0].set_xlabel('confidence',fontsize=10);\n",
    "axs[0,0].set_ylabel('% of samples',fontsize=15);\n",
    "#plt.tight_layout();\n",
    "axs[0,0].set_title(f'top30 retrieval | ECE = {round(res[\"ece\"],2)}',fontsize=15)\n",
    "\n",
    "bottom = [res['bin_acc'][i] if res['bin_acc'][i] < conf else conf for i,conf in enumerate(res['avg_confidences'])]\n",
    "\n",
    "\n",
    "axs[1,0].bar(x=res['bins'][:-1],height=res['bin_acc'],width=0.1,edgecolor='black',alpha=0.8,align='edge',label='Outputs')\n",
    "axs[1,0].bar(x=res['bins'][:-1],height=res['bin_ces'],width=0.1,color='yellow',edgecolor='red',bottom=bottom,alpha=0.4,align='edge',label='Gap')\n",
    "axs[1,0].scatter([e + 0.05 for e in res['bins'][:-1]],res['avg_confidences'],label='perfect_calibration');\n",
    "axs[1,0].set_xticks(ticks = res['bins']);\n",
    "#plt.title('Reliability Diagram');\n",
    "axs[1,0].set_xlabel('confidence',fontsize=15);\n",
    "axs[1,0].set_ylabel('accuracy',fontsize=15);\n",
    "#plt.savefig('media/reliability_diagram_MLP_mimic.png');\n",
    "#plt.tight_layout();\n",
    "#plt.plot(x,x,'-.');\n",
    "\n",
    "\n",
    "###################\n",
    "\n",
    "logits_df,preds_df,golden_df = compute_starting_info_for_confidence_analysis_dataloader(mlp_model,\n",
    "                                                                                        val_dataloader,\n",
    "                                                                                        None,\n",
    "                                                                                        topk= 10\n",
    "                                                                                       )\n",
    "\n",
    "res = compute_ece(logits_df,preds_df,golden_df)\n",
    "\n",
    "axs[0,1].bar(x=res['bins'][:-1],height=[e / sum(res['n_bins']) for e in res['n_bins']],width=0.1,edgecolor='black',alpha=0.8,align='edge',label='Outputs')\n",
    "axs[0,1].set_xticks(ticks = res['bins']);\n",
    "#axs[0].set_xlabel('confidence',fontsize=10);\n",
    "#axs[0,1].set_ylabel('% of samples',fontsize=15);\n",
    "#plt.tight_layout();\n",
    "\n",
    "bottom = [res['bin_acc'][i] if res['bin_acc'][i] < conf else conf for i,conf in enumerate(res['avg_confidences'])]\n",
    "\n",
    "\n",
    "axs[1,1].bar(x=res['bins'][:-1],height=res['bin_acc'],width=0.1,edgecolor='black',alpha=0.8,align='edge',label='Outputs')\n",
    "axs[1,1].bar(x=res['bins'][:-1],height=res['bin_ces'],width=0.1,color='yellow',edgecolor='red',bottom=bottom,alpha=0.4,align='edge',label='Gap')\n",
    "axs[1,1].scatter([e + 0.05 for e in res['bins'][:-1]],res['avg_confidences'],label='perfect_calibration');\n",
    "axs[1,1].set_xticks(ticks = res['bins']);\n",
    "#plt.title('Reliability Diagram');\n",
    "axs[1,1].set_xlabel('confidence',fontsize=15);\n",
    "#axs[1,1].set_ylabel('accuracy',fontsize=15);\n",
    "axs[0,1].set_title(f'top10 retrieval | ECE = {round(res[\"ece\"],2)}',fontsize=15)\n",
    "#plt.savefig('media/reliability_diagram_MLP_mimic.png');\n",
    "#plt.tight_layout();\n",
    "#plt.plot(x,x,'-.');\n",
    "plt.legend();"
   ]
  },
  {
   "cell_type": "markdown",
   "id": "edc8ac32-8bd1-4edb-94c3-a3f12643873e",
   "metadata": {},
   "source": [
    "## Abstain"
   ]
  },
  {
   "cell_type": "markdown",
   "id": "a95548ec-52bb-4c24-aa7d-3dccb21a700c",
   "metadata": {},
   "source": [
    "### From top30"
   ]
  },
  {
   "cell_type": "code",
   "execution_count": 29,
   "id": "125256a1-1bf5-440d-933f-05674d534ec7",
   "metadata": {},
   "outputs": [
    {
     "data": {
      "application/vnd.jupyter.widget-view+json": {
       "model_id": "3b87b1ad95cd467a8e4998fc2c7152c0",
       "version_major": 2,
       "version_minor": 0
      },
      "text/plain": [
       "  0%|          | 0/36 [00:00<?, ?it/s]"
      ]
     },
     "metadata": {},
     "output_type": "display_data"
    }
   ],
   "source": [
    "logits_df,preds_df,golden_df = compute_starting_info_for_confidence_analysis_dataloader(mlp_model,\n",
    "                                                                                        val_dataloader,\n",
    "                                                                                        None,\n",
    "                                                                                        topk=30\n",
    "                                                                                       )"
   ]
  },
  {
   "cell_type": "code",
   "execution_count": 30,
   "id": "21e956ba-f7cb-44e0-af35-a6f926678167",
   "metadata": {
    "collapsed": true,
    "jupyter": {
     "outputs_hidden": true
    },
    "tags": []
   },
   "outputs": [
    {
     "data": {
      "application/vnd.jupyter.widget-view+json": {
       "model_id": "1fcb663e10f4422b836bffb987f6c3ed",
       "version_major": 2,
       "version_minor": 0
      },
      "text/plain": [
       "  0%|          | 0/11 [00:00<?, ?it/s]"
      ]
     },
     "metadata": {},
     "output_type": "display_data"
    },
    {
     "name": "stderr",
     "output_type": "stream",
     "text": [
      "/home/debian/Simao/miniconda3/envs/thesis/lib/python3.10/site-packages/sklearn/metrics/_classification.py:1308: UndefinedMetricWarning: Precision is ill-defined and being set to 0.0 in samples with no predicted labels. Use `zero_division` parameter to control this behavior.\n",
      "  _warn_prf(average, modifier, msg_start, len(result))\n",
      "/home/debian/Simao/miniconda3/envs/thesis/lib/python3.10/site-packages/sklearn/metrics/_classification.py:1308: UndefinedMetricWarning: Precision is ill-defined and being set to 0.0 in samples with no predicted labels. Use `zero_division` parameter to control this behavior.\n",
      "  _warn_prf(average, modifier, msg_start, len(result))\n",
      "/home/debian/Simao/miniconda3/envs/thesis/lib/python3.10/site-packages/sklearn/metrics/_classification.py:1308: UndefinedMetricWarning: Precision is ill-defined and being set to 0.0 in samples with no predicted labels. Use `zero_division` parameter to control this behavior.\n",
      "  _warn_prf(average, modifier, msg_start, len(result))\n",
      "/home/debian/Simao/miniconda3/envs/thesis/lib/python3.10/site-packages/sklearn/metrics/_classification.py:1308: UndefinedMetricWarning: Precision is ill-defined and being set to 0.0 in samples with no predicted labels. Use `zero_division` parameter to control this behavior.\n",
      "  _warn_prf(average, modifier, msg_start, len(result))\n",
      "/home/debian/Simao/miniconda3/envs/thesis/lib/python3.10/site-packages/sklearn/metrics/_classification.py:1308: UndefinedMetricWarning: Precision is ill-defined and being set to 0.0 in samples with no predicted labels. Use `zero_division` parameter to control this behavior.\n",
      "  _warn_prf(average, modifier, msg_start, len(result))\n",
      "/home/debian/Simao/miniconda3/envs/thesis/lib/python3.10/site-packages/sklearn/metrics/_classification.py:1308: UndefinedMetricWarning: Precision is ill-defined and being set to 0.0 in samples with no predicted labels. Use `zero_division` parameter to control this behavior.\n",
      "  _warn_prf(average, modifier, msg_start, len(result))\n",
      "/home/debian/Simao/miniconda3/envs/thesis/lib/python3.10/site-packages/sklearn/metrics/_classification.py:1308: UndefinedMetricWarning: Precision is ill-defined and being set to 0.0 in samples with no predicted labels. Use `zero_division` parameter to control this behavior.\n",
      "  _warn_prf(average, modifier, msg_start, len(result))\n",
      "/home/debian/Simao/miniconda3/envs/thesis/lib/python3.10/site-packages/sklearn/metrics/_classification.py:1308: UndefinedMetricWarning: Precision is ill-defined and being set to 0.0 in samples with no predicted labels. Use `zero_division` parameter to control this behavior.\n",
      "  _warn_prf(average, modifier, msg_start, len(result))\n"
     ]
    }
   ],
   "source": [
    "th = 0.0\n",
    "stats = {}\n",
    "for th in tqdm(np.linspace(0,1,11)):\n",
    "    new_preds = (~logits_df.where((preds_df == 1) & (logits_df > th)).isna()).astype(int)\n",
    "    stats_retrieval = new_preds.sum(axis=1).agg(['mean','std']).to_dict()\n",
    "    TP = ((new_preds == 1) & (golden_df == 1)).sum().sum()\n",
    "    FP = ((new_preds == 1) & (golden_df == 0)).sum().sum()\n",
    "    stats_retrieval['TP'] = TP\n",
    "    stats_retrieval['FP'] = FP\n",
    "    stats_retrieval['recall'] = recall_score(golden_df,new_preds,average='samples')\n",
    "    stats_retrieval['precision'] = precision_score(golden_df,new_preds,average='samples')\n",
    "    stats_retrieval['f1score'] = f1_score(golden_df,new_preds,average='samples')\n",
    "    \n",
    "    stats[round(th,1)] = stats_retrieval\n",
    "res = pd.DataFrame(stats).T.rename_axis(index='abstention threshold')\n",
    "\n",
    "res['FP_change'] = ((res['FP'].iloc[0] - res['FP']) / res['FP'].iloc[0]).round(2)\n",
    "res['TP_change'] = ((res['TP'].iloc[0] - res['TP']) / res['TP'].iloc[0]).round(2)\n",
    "res = res.rename(columns={'mean':'avg retrieved', 'std': 'std retrieved'}).round(2)"
   ]
  },
  {
   "cell_type": "code",
   "execution_count": 39,
   "id": "240d4a28-58f4-4f12-8a02-8bffa871dbdf",
   "metadata": {
    "collapsed": true,
    "jupyter": {
     "outputs_hidden": true
    },
    "tags": []
   },
   "outputs": [
    {
     "data": {
      "text/plain": [
       "30.0"
      ]
     },
     "execution_count": 39,
     "metadata": {},
     "output_type": "execute_result"
    },
    {
     "data": {
      "application/vnd.jupyter.widget-view+json": {
       "model_id": "858ef540fc2e4a0c868444857bfbc7df",
       "version_major": 2,
       "version_minor": 0
      },
      "text/plain": [
       "  0%|          | 0/36 [00:00<?, ?it/s]"
      ]
     },
     "metadata": {},
     "output_type": "display_data"
    },
    {
     "data": {
      "text/plain": [
       "26.4"
      ]
     },
     "execution_count": 39,
     "metadata": {},
     "output_type": "execute_result"
    },
    {
     "data": {
      "application/vnd.jupyter.widget-view+json": {
       "model_id": "0d74b7960c6849ed933f5f98234d8108",
       "version_major": 2,
       "version_minor": 0
      },
      "text/plain": [
       "  0%|          | 0/36 [00:00<?, ?it/s]"
      ]
     },
     "metadata": {},
     "output_type": "display_data"
    },
    {
     "data": {
      "text/plain": [
       "15.03"
      ]
     },
     "execution_count": 39,
     "metadata": {},
     "output_type": "execute_result"
    },
    {
     "data": {
      "application/vnd.jupyter.widget-view+json": {
       "model_id": "6aabf36c134a4cc386d2e0012890dada",
       "version_major": 2,
       "version_minor": 0
      },
      "text/plain": [
       "  0%|          | 0/36 [00:00<?, ?it/s]"
      ]
     },
     "metadata": {},
     "output_type": "display_data"
    },
    {
     "data": {
      "text/plain": [
       "9.61"
      ]
     },
     "execution_count": 39,
     "metadata": {},
     "output_type": "execute_result"
    },
    {
     "data": {
      "application/vnd.jupyter.widget-view+json": {
       "model_id": "b0e248f682434264a28be3089c065ad9",
       "version_major": 2,
       "version_minor": 0
      },
      "text/plain": [
       "  0%|          | 0/36 [00:00<?, ?it/s]"
      ]
     },
     "metadata": {},
     "output_type": "display_data"
    },
    {
     "data": {
      "text/plain": [
       "6.78"
      ]
     },
     "execution_count": 39,
     "metadata": {},
     "output_type": "execute_result"
    },
    {
     "data": {
      "application/vnd.jupyter.widget-view+json": {
       "model_id": "d6ef757dd66c4a9cb61d9a6b48560d8b",
       "version_major": 2,
       "version_minor": 0
      },
      "text/plain": [
       "  0%|          | 0/36 [00:00<?, ?it/s]"
      ]
     },
     "metadata": {},
     "output_type": "display_data"
    },
    {
     "data": {
      "text/plain": [
       "4.86"
      ]
     },
     "execution_count": 39,
     "metadata": {},
     "output_type": "execute_result"
    },
    {
     "data": {
      "application/vnd.jupyter.widget-view+json": {
       "model_id": "c61f65dd84ca42d2bb672a2265e5ce5d",
       "version_major": 2,
       "version_minor": 0
      },
      "text/plain": [
       "  0%|          | 0/36 [00:00<?, ?it/s]"
      ]
     },
     "metadata": {},
     "output_type": "display_data"
    },
    {
     "data": {
      "text/plain": [
       "3.42"
      ]
     },
     "execution_count": 39,
     "metadata": {},
     "output_type": "execute_result"
    },
    {
     "data": {
      "application/vnd.jupyter.widget-view+json": {
       "model_id": "a5a66183d43b4acd817593aafba358bf",
       "version_major": 2,
       "version_minor": 0
      },
      "text/plain": [
       "  0%|          | 0/36 [00:00<?, ?it/s]"
      ]
     },
     "metadata": {},
     "output_type": "display_data"
    },
    {
     "data": {
      "text/plain": [
       "2.14"
      ]
     },
     "execution_count": 39,
     "metadata": {},
     "output_type": "execute_result"
    },
    {
     "data": {
      "application/vnd.jupyter.widget-view+json": {
       "model_id": "dec6d56372ce4ee9a369dbe3c64af6ab",
       "version_major": 2,
       "version_minor": 0
      },
      "text/plain": [
       "  0%|          | 0/36 [00:00<?, ?it/s]"
      ]
     },
     "metadata": {},
     "output_type": "display_data"
    },
    {
     "data": {
      "text/plain": [
       "1.02"
      ]
     },
     "execution_count": 39,
     "metadata": {},
     "output_type": "execute_result"
    },
    {
     "data": {
      "application/vnd.jupyter.widget-view+json": {
       "model_id": "c10ae2928f8740b7a7b9e374bbde8c79",
       "version_major": 2,
       "version_minor": 0
      },
      "text/plain": [
       "  0%|          | 0/36 [00:00<?, ?it/s]"
      ]
     },
     "metadata": {},
     "output_type": "display_data"
    },
    {
     "data": {
      "text/plain": [
       "0.27"
      ]
     },
     "execution_count": 39,
     "metadata": {},
     "output_type": "execute_result"
    },
    {
     "data": {
      "application/vnd.jupyter.widget-view+json": {
       "model_id": "cda597babccb45b3bc587c248b3b93d3",
       "version_major": 2,
       "version_minor": 0
      },
      "text/plain": [
       "  0%|          | 0/36 [00:00<?, ?it/s]"
      ]
     },
     "metadata": {},
     "output_type": "display_data"
    },
    {
     "name": "stderr",
     "output_type": "stream",
     "text": [
      "/home/debian/Simao/miniconda3/envs/thesis/lib/python3.10/site-packages/sklearn/metrics/_classification.py:1308: UndefinedMetricWarning: Precision is ill-defined and being set to 0.0 in samples with no predicted labels. Use `zero_division` parameter to control this behavior.\n",
      "  _warn_prf(average, modifier, msg_start, len(result))\n"
     ]
    },
    {
     "data": {
      "text/plain": [
       "0.0"
      ]
     },
     "execution_count": 39,
     "metadata": {},
     "output_type": "execute_result"
    },
    {
     "data": {
      "application/vnd.jupyter.widget-view+json": {
       "model_id": "d1e9623c1f3e4f9aa0c5c1c9f415e000",
       "version_major": 2,
       "version_minor": 0
      },
      "text/plain": [
       "  0%|          | 0/36 [00:00<?, ?it/s]"
      ]
     },
     "metadata": {},
     "output_type": "display_data"
    },
    {
     "name": "stderr",
     "output_type": "stream",
     "text": [
      "/home/debian/Simao/miniconda3/envs/thesis/lib/python3.10/site-packages/sklearn/metrics/_classification.py:1308: UndefinedMetricWarning: Precision is ill-defined and being set to 0.0 in samples with no predicted labels. Use `zero_division` parameter to control this behavior.\n",
      "  _warn_prf(average, modifier, msg_start, len(result))\n"
     ]
    }
   ],
   "source": [
    "res2 = []\n",
    "for n in res['avg retrieved']:\n",
    "    n\n",
    "    logits_df,preds_df,golden_df = compute_starting_info_for_confidence_analysis_dataloader(mlp_model,\n",
    "                                                                                        val_dataloader,\n",
    "                                                                                        None,\n",
    "                                                                                        topk=int(n)\n",
    "                                                                                       )\n",
    "    log = dict()\n",
    "    log['recall@avg_retrieved'] = recall_score(golden_df,preds_df,average='samples')\n",
    "    log['precision@avg_retrieved'] = precision_score(golden_df,preds_df,average='samples')\n",
    "    log['f1score@avg_retrieved'] = f1_score(golden_df,preds_df,average='samples')\n",
    "    res2.append(log)\n",
    "res2 = pd.DataFrame(res2)\n",
    "res2.index = res.index"
   ]
  },
  {
   "cell_type": "code",
   "execution_count": 49,
   "id": "a06e9b06-3e0b-4392-89e4-dbca5725c7db",
   "metadata": {},
   "outputs": [
    {
     "name": "stdout",
     "output_type": "stream",
     "text": [
      "\\begin{tabular}{lrrrrrrr}\n",
      "\\toprule\n",
      "{} &  avg retrieved &  f1score &  f1score@avg\\_retrieved &  precision &  precision@avg\\_retrieved &  recall &  recall@avg\\_retrieved \\\\\n",
      "abstention threshold &                &          &                        &            &                          &         &                       \\\\\n",
      "\\midrule\n",
      "0.0                  &          30.00 &     0.39 &                   0.39 &       0.28 &                     0.28 &    0.72 &                  0.72 \\\\\n",
      "0.1                  &          26.40 &     0.41 &                   0.41 &       0.31 &                     0.31 &    0.69 &                  0.68 \\\\\n",
      "0.2                  &          15.03 &     0.46 &                   0.45 &       0.44 &                     0.42 &    0.54 &                  0.55 \\\\\n",
      "0.3                  &           9.61 &     0.46 &                   0.44 &       0.55 &                     0.52 &    0.44 &                  0.43 \\\\\n",
      "0.4                  &           6.78 &     0.43 &                   0.40 &       0.62 &                     0.60 &    0.36 &                  0.34 \\\\\n",
      "0.5                  &           4.86 &     0.37 &                   0.35 &       0.66 &                     0.66 &    0.28 &                  0.26 \\\\\n",
      "0.6                  &           3.42 &     0.31 &                   0.30 &       0.67 &                     0.70 &    0.22 &                  0.21 \\\\\n",
      "0.7                  &           2.14 &     0.22 &                   0.23 &       0.62 &                     0.73 &    0.14 &                  0.15 \\\\\n",
      "0.8                  &           1.02 &     0.12 &                   0.14 &       0.45 &                     0.78 &    0.07 &                  0.09 \\\\\n",
      "0.9                  &           0.27 &     0.03 &                   0.00 &       0.18 &                     0.00 &    0.02 &                  0.00 \\\\\n",
      "1.0                  &           0.00 &     0.00 &                   0.00 &       0.00 &                     0.00 &    0.00 &                  0.00 \\\\\n",
      "\\bottomrule\n",
      "\\end{tabular}\n",
      "\n"
     ]
    },
    {
     "name": "stderr",
     "output_type": "stream",
     "text": [
      "/tmp/ipykernel_19415/1888830344.py:4: FutureWarning: In future versions `DataFrame.to_latex` is expected to utilise the base implementation of `Styler.to_latex` for formatting and rendering. The arguments signature may therefore change. It is recommended instead to use `DataFrame.style.to_latex` which also contains additional functionality.\n",
      "  print(a[cols].to_latex())\n"
     ]
    }
   ],
   "source": [
    "a = pd.concat([res,res2],axis=1).round(2)\n",
    "cols = ['avg retrieved'] + [col for col in a.columns if any([e in col for e in ['recall','precision','f1']])] \n",
    "cols.sort()\n",
    "print(a[cols].to_latex())"
   ]
  },
  {
   "cell_type": "code",
   "execution_count": null,
   "id": "15878980-bc0e-41ff-8b16-fefc61228d4c",
   "metadata": {},
   "outputs": [],
   "source": [
    "res[['TP_change','FP_change']].rename(columns={'FP_change':'False Positives','TP_change':'True Positives'}).plot.bar(figsize=(16,8));\n",
    "plt.ylabel('% reduction',fontsize=12);\n",
    "plt.xlabel('abstention threshold',fontsize=12)\n",
    "plt.savefig('media/confidence_abstention_mlp_top30.png')\n"
   ]
  },
  {
   "cell_type": "code",
   "execution_count": null,
   "id": "02a04d75-bb4a-43ea-9f27-7e759fd7b660",
   "metadata": {},
   "outputs": [],
   "source": [
    "res[['recall','precision','f1score']].plot(figsize=(16,8));\n",
    "plt.ylabel('score',fontsize=12);\n",
    "#plt.xlabel('abstention threshold',fontsize=12)\n",
    "plt.savefig('media/confidence_abstention_mlp_top30_f1_score.png')\n"
   ]
  },
  {
   "cell_type": "markdown",
   "id": "79d16eff-e2a1-4317-9b25-211c6978da4e",
   "metadata": {},
   "source": [
    "### From best f1 threshold"
   ]
  },
  {
   "cell_type": "code",
   "execution_count": null,
   "id": "bdf73aea-2158-4ebd-97d9-c986f9c1b556",
   "metadata": {},
   "outputs": [],
   "source": [
    "ths.best_thresholds.isna()"
   ]
  },
  {
   "cell_type": "code",
   "execution_count": null,
   "id": "98200244-4f9f-4009-bcba-2600b65e1574",
   "metadata": {
    "tags": []
   },
   "outputs": [],
   "source": [
    "ths = compute_thresholds_dataloader(mlp_model,val_dataloader)\n",
    "ths.loc[:,'best_thresholds'] = ths.loc[:,'best_thresholds'].fillna(0.5)"
   ]
  },
  {
   "cell_type": "code",
   "execution_count": null,
   "id": "97fc6bd3-4153-4abd-b496-271e9c56283f",
   "metadata": {},
   "outputs": [],
   "source": [
    "logits_df,preds_df,golden_df = compute_starting_info_for_confidence_analysis_dataloader(mlp_model,\n",
    "                                                                                        val_dataloader,\n",
    "                                                                                        ths.best_thresholds.to_dict(),\n",
    "                                                                                        topk=None\n",
    "                                                                                       )"
   ]
  },
  {
   "cell_type": "code",
   "execution_count": null,
   "id": "f5854a4f-a647-4b00-8002-834eae4f7f50",
   "metadata": {
    "tags": []
   },
   "outputs": [],
   "source": [
    "th = 0.0\n",
    "stats = {}\n",
    "for th in tqdm(np.linspace(0,1,11)):\n",
    "    new_preds = (~logits_df.where((preds_df == 1) & (logits_df > th)).isna()).astype(int)\n",
    "    stats_retrieval = new_preds.sum(axis=1).agg(['mean','std']).to_dict()\n",
    "    TP = ((new_preds == 1) & (golden_df == 1)).sum().sum()\n",
    "    FP = ((new_preds == 1) & (golden_df == 0)).sum().sum()\n",
    "    stats_retrieval['TP'] = TP\n",
    "    stats_retrieval['FP'] = FP\n",
    "    stats_retrieval['recall'] = recall_score(golden_df,new_preds,average='samples')\n",
    "    stats_retrieval['precision'] = precision_score(golden_df,new_preds,average='samples')\n",
    "    stats_retrieval['f1score'] = f1_score(golden_df,new_preds,average='samples')\n",
    "    \n",
    "    stats[round(th,1)] = stats_retrieval\n",
    "res = pd.DataFrame(stats).T.rename_axis(index='abstention threshold')\n",
    "\n",
    "res['FP_change'] = ((res['FP'].iloc[0] - res['FP']) / res['FP'].iloc[0]).round(2)\n",
    "res['TP_change'] = ((res['TP'].iloc[0] - res['TP']) / res['TP'].iloc[0]).round(2)\n",
    "res = res.rename(columns={'mean':'avg retrieved', 'std': 'std retrieved'}).round(2)"
   ]
  },
  {
   "cell_type": "code",
   "execution_count": null,
   "id": "b400ac92-17c7-4317-9c79-cf21b8fcf607",
   "metadata": {},
   "outputs": [],
   "source": [
    "res"
   ]
  },
  {
   "cell_type": "code",
   "execution_count": null,
   "id": "d683d41a-9446-4ce0-8526-a89bfab2c0b4",
   "metadata": {},
   "outputs": [],
   "source": [
    "res[['TP_change','FP_change']].rename(columns={'FP_change':'False Positives','TP_change':'True Positives'}).plot.bar(figsize=(16,8));\n",
    "plt.ylabel('% reduction',fontsize=12);\n",
    "plt.xlabel('abstention threshold',fontsize=12)\n",
    "plt.savefig('media/confidence_abstention_mlp_bestf1.png')\n"
   ]
  },
  {
   "cell_type": "markdown",
   "id": "8bd28425-4cb1-4d85-8f12-ccd35e18eb9b",
   "metadata": {},
   "source": [
    "### minim 0.5 threshold"
   ]
  },
  {
   "cell_type": "code",
   "execution_count": null,
   "id": "1ae6b33f-4670-440d-bdfa-ade97817a4bf",
   "metadata": {
    "tags": []
   },
   "outputs": [],
   "source": [
    "ths = {diag:0.5 for diag in range(n_labels)}"
   ]
  },
  {
   "cell_type": "code",
   "execution_count": null,
   "id": "eed8ef88-099d-4fac-ab46-f3c2ad3eb9c0",
   "metadata": {},
   "outputs": [],
   "source": [
    "logits_df,preds_df,golden_df = compute_starting_info_for_confidence_analysis_dataloader(mlp_model,\n",
    "                                                                                        val_dataloader,\n",
    "                                                                                        ths,\n",
    "                                                                                        topk=None\n",
    "                                                                                       )"
   ]
  },
  {
   "cell_type": "code",
   "execution_count": null,
   "id": "37e84838-b55f-49a7-8ad5-a0b970386189",
   "metadata": {},
   "outputs": [],
   "source": [
    "th = 0.0\n",
    "stats = {}\n",
    "for th in tqdm(np.linspace(0,1,11)):\n",
    "    new_preds = (~logits_df.where((preds_df == 1) & (logits_df > th)).isna()).astype(int)\n",
    "    stats_retrieval = new_preds.sum(axis=1).agg(['mean','std']).to_dict()\n",
    "    TP = ((new_preds == 1) & (golden_df == 1)).sum().sum()\n",
    "    FP = ((new_preds == 1) & (golden_df == 0)).sum().sum()\n",
    "    stats_retrieval['TP'] = TP\n",
    "    stats_retrieval['FP'] = FP\n",
    "    stats[round(th,1)] = stats_retrieval\n",
    "    \n",
    "res = pd.DataFrame(stats).T.rename_axis(index='abstention threshold')\n",
    "res['FP_change'] = (res['FP'].diff(-1) / res['FP']).shift().round(2)\n",
    "res['TP_change'] = (res['TP'].diff(-1) / res['TP']).shift().round(2)\n",
    "res\n",
    "res[['FP_change','TP_change']].plot.bar()"
   ]
  },
  {
   "cell_type": "markdown",
   "id": "4f0eea35-a557-48b0-81e8-d17bbdb77549",
   "metadata": {},
   "source": [
    "# RNN MC dropout"
   ]
  },
  {
   "cell_type": "markdown",
   "id": "233f8368-9ca0-4c10-8df4-48628d6b4774",
   "metadata": {},
   "source": [
    "## Dataset"
   ]
  },
  {
   "cell_type": "code",
   "execution_count": null,
   "id": "b5c410c2-3598-4220-ac6b-c84e11e60b20",
   "metadata": {},
   "outputs": [],
   "source": [
    "dataset_folder = '/home/debian/Simao/master-thesis/data/model_ready_dataset/mimic-iii_dataset.json'\n",
    "dataset_rnn = ICareDataset(dataset_folder,\n",
    "                            ccs_universe,\n",
    "                       input='history',\n",
    "                       target='target',\n",
    "                            grouping=grouping,\n",
    "                           opt_size=0.25\n",
    "                          )\n",
    "n_labels = input_size = dataset.grouping_data['ccs']['n_labels']"
   ]
  },
  {
   "cell_type": "code",
   "execution_count": null,
   "id": "f6bcdd09-f6ce-4ef9-9751-9623a7a3537a",
   "metadata": {},
   "outputs": [],
   "source": [
    "train_dataloader_rnn = DataLoader(dataset_rnn,\n",
    "                            batch_size=batch_size,\n",
    "                            collate_fn=ICareCOLLATE(),\n",
    "                            sampler=SubsetRandomSampler(dataset_rnn.train_indices)\n",
    "                           )\n",
    "\n",
    "test_dataloader_rnn = DataLoader(dataset_rnn,\n",
    "                            batch_size=batch_size,\n",
    "                            collate_fn=ICareCOLLATE(),\n",
    "                            sampler=SubsetRandomSampler(dataset_rnn.test_indices)\n",
    "                           )\n",
    "\n",
    "val_dataloader_rnn = DataLoader(dataset_rnn,\n",
    "                            batch_size=batch_size,\n",
    "                            collate_fn=ICareCOLLATE(),\n",
    "                            sampler=SubsetRandomSampler(dataset_rnn.val_indices)\n",
    "                           )"
   ]
  },
  {
   "cell_type": "markdown",
   "id": "f3ba74dc-59c9-4c2b-834a-dd3e962e5f9d",
   "metadata": {},
   "source": [
    "## Train the model on small batch on different drop rates"
   ]
  },
  {
   "cell_type": "markdown",
   "id": "a6fd4ae2-7c0c-486f-8690-8c5ed2f3ba62",
   "metadata": {},
   "source": [
    "### Choose Metrics"
   ]
  },
  {
   "cell_type": "code",
   "execution_count": null,
   "id": "ad1c138b-980d-4d9e-aa58-70f8426e045d",
   "metadata": {},
   "outputs": [],
   "source": [
    "metrics_factory = {'avgprec':{'func':AveragePrecision,\n",
    "                      'kwargs':dict(num_classes=n_labels,average=None,multiclass=False),\n",
    "                      'extra_pooling':['weighted']\n",
    "                     },\n",
    "                  }\n",
    "\n",
    "selectors = [MaskTimesteps('last'),MaskTimesteps('all')]\n",
    "\n",
    "metrics = MetricsV2(metrics_factory,selectors)"
   ]
  },
  {
   "cell_type": "markdown",
   "id": "6b4a6148-331a-45ff-a36a-e7430a484e0e",
   "metadata": {},
   "source": [
    "### Create overfit batch"
   ]
  },
  {
   "cell_type": "code",
   "execution_count": null,
   "id": "2f483acd-61c8-4992-84f0-5d4cb098e09b",
   "metadata": {},
   "outputs": [],
   "source": [
    "size = 32\n",
    "overfit_batch = create_random_batch(size=size,dataset=dataset_rnn,collate_fn=ICareCOLLATE())"
   ]
  },
  {
   "cell_type": "markdown",
   "id": "df062dda-73d2-4eb4-8c6d-fdb814c0e778",
   "metadata": {},
   "source": [
    "### Show results"
   ]
  },
  {
   "cell_type": "code",
   "execution_count": null,
   "id": "0866f6d2-7d51-42ef-9748-5e84fbd65016",
   "metadata": {},
   "outputs": [],
   "source": [
    "epochs = 30\n",
    "\n",
    "epoch_losses = list()\n",
    "\n",
    "params = [dict(drop_rates=[0,0]),dict(drop_rates=[0,0.3]),dict(drop_rates=[0.1,0.3]),dict(drop_rates=[0.1,0.3])]\n",
    "\n",
    "metrics = MetricsV2(metrics_factory,selectors)\n",
    "for param in tqdm(params):\n",
    "    model = VariationalRNN(input_size=input_size,\n",
    "                           hidden_size=250,\n",
    "                           n_labels=n_labels,\n",
    "                           dropouti = param['drop_rates'][0],\n",
    "                           dropoutw = param['drop_rates'][1],\n",
    "                          )\n",
    "\n",
    "    optimizer = torch.optim.Adam(model.parameters(), lr=5e-3)\n",
    "    criterion = nn.BCEWithLogitsLoss(reduction='mean')\n",
    "\n",
    "    for epoch in tqdm(range(epochs)):\n",
    "        epoch_losses.append(train_model_batch(model,overfit_batch,criterion,optimizer))\n",
    "\n",
    "    ths = {i:0.5 for i in range(n_labels)} #baseline thresholds\n",
    "\n",
    "    plt.plot(epoch_losses[-10:],label=f\"drop_input={param['drop_rates'][0]}, drop_hidden={param['drop_rates'][1]}\");\n",
    "    plt.title('loss of last epochs');\n",
    "\n",
    "    metrics.update_metrics_batch(model,overfit_batch,ths)\n",
    "    res = metrics.compute_metrics()\n",
    "    print('avgprec', res['avgprec']['last']['weighted'])\n",
    "    metrics.reset_metrics()\n",
    "plt.legend()"
   ]
  },
  {
   "cell_type": "markdown",
   "id": "4cd27df0-4e5e-4aba-a1b6-c8ea3152575d",
   "metadata": {},
   "source": [
    "Ok all models can overfit this small batch. dropout models aren't as good on small data"
   ]
  },
  {
   "cell_type": "markdown",
   "id": "32a3a864-b418-4c51-9187-e77454d951b2",
   "metadata": {},
   "source": [
    "## Wandb several models"
   ]
  },
  {
   "cell_type": "markdown",
   "id": "61ee0bb4-0b90-4aff-8d43-76d747f72ef9",
   "metadata": {},
   "source": [
    "### reproducibility"
   ]
  },
  {
   "cell_type": "code",
   "execution_count": null,
   "id": "a067ac38-f7ed-4bb4-b14f-4b092cf501f4",
   "metadata": {},
   "outputs": [],
   "source": [
    "# Reproducibility\n",
    "seed = settings.random_seed\n",
    "\n",
    "np.random.seed(seed)\n",
    "torch.manual_seed(seed)\n",
    "torch.cuda.manual_seed(seed)\n",
    "\n",
    "torch.backends.cudnn.deterministic = True\n",
    "torch.backends.cudnn.benchmark = False"
   ]
  },
  {
   "cell_type": "markdown",
   "id": "70bd1fd8-43f5-47e4-abb9-97dc34fa6881",
   "metadata": {},
   "source": [
    "### Choose Metrics"
   ]
  },
  {
   "cell_type": "code",
   "execution_count": null,
   "id": "7a9bb2ce-395d-43bc-9882-9942fbeff14c",
   "metadata": {},
   "outputs": [],
   "source": [
    "metrics_factory = {'avgprec':{'func':AveragePrecision,\n",
    "                      'kwargs':dict(num_classes=n_labels,average=None,multiclass=False),\n",
    "                      'extra_pooling':['weighted']\n",
    "                     }\n",
    "                  }\n",
    "\n",
    "selectors = [MaskTimesteps('last')]\n",
    "\n",
    "metrics = MetricsV2(metrics_factory,selectors)"
   ]
  },
  {
   "cell_type": "markdown",
   "id": "3b5217ae-ba49-44d9-8d68-15e2be49280b",
   "metadata": {},
   "source": [
    "### Grid Search Space"
   ]
  },
  {
   "cell_type": "code",
   "execution_count": null,
   "id": "606b04f2-a5a6-4582-bcc4-bbea9c057c5c",
   "metadata": {},
   "outputs": [],
   "source": [
    "Uparams = dict(lr=[0.0003,0.0006,0.003,0.006,0.01],\n",
    "               hidden_sizes=[150,50,250],\n",
    "               drop_rates= [[0,0.5],[0,0.3],[0.1,0],[0.2,0],[0.2,0.3],[0.2,0.5],[0.1,0.3],[0.1,0.5]],\n",
    "               batch_size=[4,8,16,32],\n",
    "               weight_decay= [0,1e-5],\n",
    "               model_type=['rnn','gru','lstm']\n",
    "              )\n",
    "\n",
    "params = list(ParameterGrid(Uparams))\n",
    "\n",
    "# random grid search up to <search_space> iterations\n",
    "search_space = 30\n",
    "import random\n",
    "random.shuffle(params)\n",
    "size = len(params)\n",
    "params = params[:search_space]"
   ]
  },
  {
   "cell_type": "markdown",
   "id": "5475ecdc-78da-444b-8de0-4fbf2477c200",
   "metadata": {},
   "source": [
    "### pipeline"
   ]
  },
  {
   "cell_type": "code",
   "execution_count": null,
   "id": "51979ee3-9fb5-429d-86ca-00f3c95da191",
   "metadata": {
    "tags": []
   },
   "outputs": [],
   "source": [
    "assert 1 == 2\n",
    "epochs = 15\n",
    "\n",
    "ths = {i:0.5 for i in range(n_labels)}\n",
    "\n",
    "for param_set in tqdm(params):\n",
    "\n",
    "    config = {\n",
    "          \"batch_size\": param_set['batch_size'],\n",
    "          \"epochs\": epochs,\n",
    "          \"input\":'ccs',\n",
    "          \"output\":'ccs',\n",
    "          \"name\":\"RNN-MC\",\n",
    "          \"manual_seed\":seed,\n",
    "          \"hidden_size\":param_set['hidden_sizes'],\n",
    "          \"drop_input\":param_set['drop_rates'][0],\n",
    "          \"drop_hidden\":param_set['drop_rates'][1],\n",
    "          \"type\":param_set['model_type'],\n",
    "          \"num_layers\":1,\n",
    "          \"lr\":param_set[\"lr\"],\n",
    "        \"weight_decay\": param_set['weight_decay']\n",
    "        }\n",
    "\n",
    "    wandb.init(project=\"mimic-iii-benchmark\", entity=\"snovaisg\",config=config)\n",
    "    \n",
    "    model = RNN_MC(input_size=input_size,\n",
    "                       hidden_size=param_set['hidden_sizes'],\n",
    "                       n_labels=n_labels,\n",
    "                       dropouti=param_set['drop_rates'][0],\n",
    "                       dropoutw=param_set['drop_rates'][1]\n",
    "                          )\n",
    "\n",
    "    optimizer = torch.optim.Adam(model.parameters(), lr=param_set['lr'],weight_decay=param_set['weight_decay'])\n",
    "    criterion = nn.BCEWithLogitsLoss(reduction='mean')\n",
    "\n",
    "    ths = {i:0.5 for i in range(n_labels)}\n",
    "    \n",
    "    train_dataloader = DataLoader(dataset_rnn,\n",
    "                            batch_size=param_set['batch_size'],\n",
    "                            collate_fn=ICareCOLLATE(),\n",
    "                            sampler=SubsetRandomSampler(dataset_rnn.train_indices)\n",
    "                           )\n",
    "    \n",
    "\n",
    "    for epoch in tqdm(range(epochs)):\n",
    "        epoch_loss = train_model_dataloader(model,train_dataloader_rnn,criterion,optimizer)\n",
    "        log = {'loss':epoch_loss}\n",
    "        wandb.log(log)\n",
    "        \n",
    "    mean_predictive = MeanPredictive(model,25)\n",
    "    mean_predictive.train();\n",
    "    \n",
    "    val_loss = compute_loss_dataloader(model, val_dataloader_rnn, criterion)\n",
    "    \n",
    "    metrics.reset_metrics()\n",
    "    metrics.update_metrics_dataloader(model, val_dataloader_rnn,ths)\n",
    "    val_m_off = metrics.compute_metrics()\n",
    "    \n",
    "    metrics.reset_metrics()\n",
    "    metrics.update_metrics_dataloader(mean_predictive,val_dataloader_rnn,ths)\n",
    "    val_m_on = metrics.compute_metrics()\n",
    "    \n",
    "    val_avgprec_off = val_m_off['avgprec']['last']['weighted']\n",
    "    val_avgprec_on = val_m_on['avgprec']['last']['weighted']\n",
    "    \n",
    "    log = {'val_loss':val_loss,\n",
    "           'val_avgprec_off':val_avgprec_off,\n",
    "           'val_avgprec_on':val_avgprec_on\n",
    "          }\n",
    "    wandb.log(log)"
   ]
  },
  {
   "cell_type": "markdown",
   "id": "df18ecdf-a499-4e87-8395-dcc77655c769",
   "metadata": {},
   "source": [
    "## Best wandb model\n",
    "\n",
    "Gotta have non zero dropout probas and one of the highest scores in avgprec but the overfitting can't be very large."
   ]
  },
  {
   "cell_type": "markdown",
   "id": "779f8930-3895-475f-8301-cf9e8e555454",
   "metadata": {},
   "source": [
    "### Choosing Metrics"
   ]
  },
  {
   "cell_type": "code",
   "execution_count": null,
   "id": "8073602d-223f-4d24-930a-805f0e2d63c5",
   "metadata": {},
   "outputs": [],
   "source": [
    "metrics_factory = {'avgprec':{'func':AveragePrecision,\n",
    "                      'kwargs':dict(num_classes=n_labels,average=None,multiclass=False),\n",
    "                      'extra_pooling':['weighted']\n",
    "                     },\n",
    "#                   'recall@30':{'func':Recall,\n",
    "#                                'kwargs':dict(top_k=30,average='samples',num_classes=n_labels),\n",
    "#                                'extra_pooling':[]\n",
    "#                               },\n",
    "#                   'precision@30':{'func':Precision,\n",
    "#                                'kwargs':dict(top_k=30,average='samples',num_classes=n_labels),\n",
    "#                                'extra_pooling':[]\n",
    "#                               }\n",
    "          }\n",
    "\n",
    "selectors = [MaskTimesteps('last')]\n",
    "\n",
    "metrics = MetricsV2(metrics_factory,selectors)"
   ]
  },
  {
   "cell_type": "markdown",
   "id": "708065d2-93f2-4345-854c-b90a61c4b530",
   "metadata": {},
   "source": [
    "### Train"
   ]
  },
  {
   "cell_type": "code",
   "execution_count": null,
   "id": "577549b1-d413-446a-ba44-1f0dfd804024",
   "metadata": {
    "tags": []
   },
   "outputs": [],
   "source": [
    "epochs = 15\n",
    "rnn_mc_model = RNN_MC(input_size=input_size,\n",
    "                      hidden_size=250,\n",
    "                      n_labels=n_labels,\n",
    "                      dropouti=0.2,\n",
    "                      dropoutw=0.5)\n",
    "\n",
    "optimizer = torch.optim.Adam(rnn_mc_model.parameters(), lr=3e-3,weight_decay=0)\n",
    "criterion = nn.BCEWithLogitsLoss(reduction='mean')\n",
    "\n",
    "ths = {i:0.5 for i in range(n_labels)}\n",
    "\n",
    "traindataloader_rnn = DataLoader(dataset_rnn,\n",
    "                        batch_size=32,\n",
    "                        collate_fn=ICareCOLLATE(),\n",
    "                        sampler=SubsetRandomSampler(dataset_rnn.train_no_opt_indices)\n",
    "                       )\n",
    "for _ in tqdm(range(epochs)):\n",
    "    train_model_dataloader(rnn_mc_model,train_dataloader,criterion,optimizer)"
   ]
  },
  {
   "cell_type": "markdown",
   "id": "5ad247ae-f148-46e8-9429-edc7c97c4d79",
   "metadata": {},
   "source": [
    "### Show Metrics (and init mean_predictive)"
   ]
  },
  {
   "cell_type": "code",
   "execution_count": null,
   "id": "dc9dd548-858d-4e98-bc8c-e8ce46cc043f",
   "metadata": {},
   "outputs": [],
   "source": [
    "mean_predictive = MeanPredictive(model,25)"
   ]
  },
  {
   "cell_type": "code",
   "execution_count": null,
   "id": "d846b127-8145-43a1-90e7-691abd14b423",
   "metadata": {},
   "outputs": [],
   "source": [
    "metrics.update_metrics_dataloader(model,train_no_opt_dataloader,ths)\n",
    "train_m = metrics.compute_metrics()\n",
    "\n",
    "metrics.reset_metrics()\n",
    "metrics.update_metrics_dataloader(model,val_dataloader,ths)\n",
    "val_m = metrics.compute_metrics()\n",
    "\n",
    "train_avgprec = train_m['avgprec']['all']['weighted']\n",
    "val_avgprec = val_m['avgprec']['all']['weighted']\n",
    "\n",
    "print('Performance when deactivating dropout')\n",
    "print('train:',train_avgprec)\n",
    "print('val:',val_avgprec)\n",
    "\n",
    "###\n",
    "# now using the mean of the predictive\n",
    "metrics.update_metrics_dataloader(mean_predictive,train_no_opt_dataloader,ths)\n",
    "train_m = metrics.compute_metrics()\n",
    "\n",
    "metrics.reset_metrics()\n",
    "metrics.update_metrics_dataloader(mean_predictive,val_dataloader,ths)\n",
    "val_m = metrics.compute_metrics()\n",
    "\n",
    "train_avgprec = train_m['avgprec']['all']['weighted']\n",
    "val_avgprec = val_m['avgprec']['all']['weighted']\n",
    "\n",
    "print('\\nPerformance when keeping dropout active and using average of the predictive')\n",
    "print('train:',train_avgprec)\n",
    "print('val:',val_avgprec)"
   ]
  },
  {
   "cell_type": "code",
   "execution_count": null,
   "id": "f9897560-d1f9-4445-84c5-134e467ece31",
   "metadata": {},
   "outputs": [],
   "source": [
    "train_m['avgprec']['all'].keys()"
   ]
  },
  {
   "cell_type": "markdown",
   "id": "71528f5e-4f75-4b1c-aeaf-812cb207af12",
   "metadata": {},
   "source": [
    "top 5 diagnostics"
   ]
  },
  {
   "cell_type": "code",
   "execution_count": null,
   "id": "025bc365-ff52-44ef-b82c-81f523e8e99e",
   "metadata": {},
   "outputs": [],
   "source": [
    "val_avgprec_all = pd.Series(val_m['avgprec']['all']['original'],name='normal_dropout')\n",
    "val_avgprec_all.sort_values(ascending=False).head(10)"
   ]
  },
  {
   "cell_type": "markdown",
   "id": "301e5897-8e7f-4c33-b7c4-792ede856175",
   "metadata": {},
   "source": [
    "# MLP MC dropout"
   ]
  },
  {
   "cell_type": "markdown",
   "id": "224e5b99-61ea-4a7f-8f7a-b0dc2b648418",
   "metadata": {},
   "source": [
    "## Train the model on small batch on different drop rates"
   ]
  },
  {
   "cell_type": "markdown",
   "id": "97ff13b0-242c-40ea-a97c-7ece3aaf5ce0",
   "metadata": {},
   "source": [
    "### Choose Metrics"
   ]
  },
  {
   "cell_type": "code",
   "execution_count": null,
   "id": "339b01fc-9c06-4c5c-9464-5e283ab724a2",
   "metadata": {},
   "outputs": [],
   "source": [
    "metrics_factory = {'avgprec':{'func':AveragePrecision,\n",
    "                      'kwargs':dict(num_classes=n_labels,average=None,multiclass=False),\n",
    "                      'extra_pooling':['weighted']\n",
    "                     },\n",
    "                  }\n",
    "\n",
    "selectors = [MaskTimesteps('last'),MaskTimesteps('all')]\n",
    "\n",
    "metrics = MetricsV2(metrics_factory,selectors)"
   ]
  },
  {
   "cell_type": "markdown",
   "id": "011694fb-6793-44d6-a03c-34d851cc10e0",
   "metadata": {},
   "source": [
    "### Create overfit batch"
   ]
  },
  {
   "cell_type": "code",
   "execution_count": null,
   "id": "3a9fbe63-7e6f-4d8f-b8e2-c38c9936b9c4",
   "metadata": {},
   "outputs": [],
   "source": [
    "size = 16\n",
    "overfit_batch = create_random_batch(size=size,dataset=dataset,collate_fn=ICareCOLLATE(input,target))"
   ]
  },
  {
   "cell_type": "markdown",
   "id": "14f955de-3e96-4243-97f4-64377faa5249",
   "metadata": {},
   "source": [
    "### Show results"
   ]
  },
  {
   "cell_type": "code",
   "execution_count": null,
   "id": "95ee5ebe-d4bb-4b89-837a-1a63c76cf1ba",
   "metadata": {},
   "outputs": [],
   "source": [
    "epochs = 50\n",
    "\n",
    "epoch_losses = list()\n",
    "\n",
    "params = [dict(drop_rates=[0,0]),dict(drop_rates=[0,0.2]),dict(drop_rates=[0.2,0.2])]\n",
    "\n",
    "metrics = MetricsV2(metrics_factory,selectors)\n",
    "for param in tqdm(params):\n",
    "    model = MLP_MC(input_size=input_size,\n",
    "                   hidden_sizes=[250],\n",
    "                   drop_rates=param[\"drop_rates\"],\n",
    "                   n_labels=n_labels)\n",
    "\n",
    "    optimizer = torch.optim.Adam(model.parameters(), lr=5e-3)\n",
    "    criterion = nn.BCEWithLogitsLoss(reduction='mean')\n",
    "\n",
    "    for epoch in tqdm(range(epochs)):\n",
    "        epoch_losses.append(train_model_batch(model,overfit_batch,criterion,optimizer))\n",
    "\n",
    "    ths = {i:0.5 for i in range(n_labels)} #baseline thresholds\n",
    "\n",
    "    plt.plot(epoch_losses[-10:],label=f\"drop_input={param['drop_rates'][0]}, drop_hidden={param['drop_rates'][1]}\");\n",
    "    plt.title('loss of last epochs');\n",
    "\n",
    "    metrics.update_metrics_batch(model,overfit_batch,ths)\n",
    "    res = metrics.compute_metrics()\n",
    "    print('avgprec', res['avgprec']['last']['weighted'])\n",
    "    metrics.reset_metrics()\n",
    "plt.legend()"
   ]
  },
  {
   "cell_type": "markdown",
   "id": "0fe6e19a-2297-42df-91bc-ffd2d5fbedd6",
   "metadata": {},
   "source": [
    "Ok all models can overfit this small batch. dropout models aren't as good on small data"
   ]
  },
  {
   "cell_type": "markdown",
   "id": "f2fbd8fb-2ec8-4815-8d0a-131b802345c0",
   "metadata": {},
   "source": [
    "## Wandb several models"
   ]
  },
  {
   "cell_type": "markdown",
   "id": "2127d792-05ec-4e3b-a123-c12b00b12f9a",
   "metadata": {},
   "source": [
    "### reproducibility"
   ]
  },
  {
   "cell_type": "code",
   "execution_count": null,
   "id": "afa15878-45d7-465a-8a7b-cca59fd03f44",
   "metadata": {},
   "outputs": [],
   "source": [
    "# Reproducibility\n",
    "seed = settings.random_seed\n",
    "\n",
    "np.random.seed(seed)\n",
    "torch.manual_seed(seed)\n",
    "torch.cuda.manual_seed(seed)\n",
    "\n",
    "torch.backends.cudnn.deterministic = True\n",
    "torch.backends.cudnn.benchmark = False"
   ]
  },
  {
   "cell_type": "markdown",
   "id": "0dd6e366-555b-467c-938e-94dd3bc3a136",
   "metadata": {},
   "source": [
    "### Choose Metrics"
   ]
  },
  {
   "cell_type": "code",
   "execution_count": null,
   "id": "b5d4be28-574d-4b16-9c13-93f9cfd7340c",
   "metadata": {},
   "outputs": [],
   "source": [
    "metrics_factory = {'avgprec':{'func':AveragePrecision,\n",
    "                      'kwargs':dict(num_classes=n_labels,average=None,multiclass=False),\n",
    "                      'extra_pooling':['weighted']\n",
    "                     }\n",
    "                  }\n",
    "\n",
    "selectors = [MaskTimesteps('last'),MaskTimesteps('all')]\n",
    "\n",
    "metrics = MetricsV2(metrics_factory,selectors)"
   ]
  },
  {
   "cell_type": "markdown",
   "id": "bb7723b9-4ade-4663-a85b-976624b4c461",
   "metadata": {},
   "source": [
    "### Grid Search Space"
   ]
  },
  {
   "cell_type": "code",
   "execution_count": null,
   "id": "51695511-9a56-4b62-903f-d60f85685f3c",
   "metadata": {},
   "outputs": [],
   "source": [
    "Uparams = dict(lr=[0.0003,0.0006,0.003,0.006,0.01],\n",
    "               hidden_sizes=[[150],[50]],\n",
    "               drop_rates= [[0,0.5],[0,0.3],[0.1,0],[0.2,0],[0.2,0.3],[0.2,0.5],[0.1,0.3],[0.1,0.5]],\n",
    "               batch_size=[4,8,16,32],\n",
    "               weight_decay= [0,1e-5]\n",
    "              )\n",
    "\n",
    "params = list(ParameterGrid(Uparams))\n",
    "\n",
    "# random grid search up to <search_space> iterations\n",
    "search_space = 30\n",
    "import random\n",
    "random.shuffle(params)\n",
    "size = len(params)\n",
    "params = params[:search_space]"
   ]
  },
  {
   "cell_type": "markdown",
   "id": "108ba32c-5344-4fca-b9d5-9763fb42e21c",
   "metadata": {},
   "source": [
    "### pipeline"
   ]
  },
  {
   "cell_type": "code",
   "execution_count": null,
   "id": "a81cf21e-5aa2-442d-ad03-ce8ef539ad08",
   "metadata": {
    "tags": []
   },
   "outputs": [],
   "source": [
    "assert 1 == 2\n",
    "epochs = 15\n",
    "\n",
    "ths = {i:0.5 for i in range(n_labels)}\n",
    "\n",
    "for param_set in tqdm(params):\n",
    "\n",
    "    config = {\n",
    "          \"batch_size\": param_set['batch_size'],\n",
    "          \"epochs\": epochs,\n",
    "          \"input\":'ccs',\n",
    "          \"output\":'ccs',\n",
    "          \"name\":\"MLP-MC\",\n",
    "          \"manual_seed\":seed,\n",
    "          \"hidden_size\":param_set['hidden_sizes'],\n",
    "          \"drop_input\":param_set['drop_rates'][0],\n",
    "          \"drop_hidden\":param_set['drop_rates'][1],\n",
    "          \"num_layers\":len(param_set['hidden_sizes']),\n",
    "          \"lr\":param_set[\"lr\"],\n",
    "        \"weight_decay\": param_set['weight_decay']\n",
    "        }\n",
    "\n",
    "    wandb.init(project=\"mimic-iii-benchmark\", entity=\"snovaisg\",config=config)\n",
    "    \n",
    "    model = MLP_MC(input_size=input_size,\n",
    "                   hidden_sizes=param_set['hidden_sizes'],\n",
    "                   n_labels=n_labels,\n",
    "                   drop_rates=param_set['drop_rates'])\n",
    "\n",
    "    optimizer = torch.optim.Adam(model.parameters(), lr=param_set['lr'],weight_decay=param_set['weight_decay'])\n",
    "    criterion = nn.BCEWithLogitsLoss(reduction='mean')\n",
    "\n",
    "    ths = {i:0.5 for i in range(n_labels)}\n",
    "    \n",
    "    train_dataloader = DataLoader(dataset,\n",
    "                            batch_size=param_set['batch_size'],\n",
    "                            collate_fn=ICareCOLLATE(),\n",
    "                            sampler=SubsetRandomSampler(dataset.train_indices)\n",
    "                           )\n",
    "    \n",
    "\n",
    "    for epoch in tqdm(range(epochs)):\n",
    "        epoch_loss = train_model_dataloader(model,train_dataloader,criterion,optimizer)\n",
    "        log = {'loss':epoch_loss}\n",
    "        wandb.log(log)\n",
    "        \n",
    "    mean_predictive = MeanPredictive(model,25)\n",
    "    \n",
    "    val_loss = compute_loss_dataloader(model,val_dataloader,criterion)\n",
    "    \n",
    "    metrics.reset_metrics()\n",
    "    metrics.update_metrics_dataloader(model,val_dataloader,ths)\n",
    "    val_m_off = metrics.compute_metrics()\n",
    "    \n",
    "    metrics.reset_metrics()\n",
    "    metrics.update_metrics_dataloader(mean_predictive,val_dataloader,ths)\n",
    "    val_m_on = metrics.compute_metrics()\n",
    "    \n",
    "    val_avgprec_off = val_m_off['avgprec']['last']['weighted']\n",
    "    val_avgprec_on = val_m_on['avgprec']['last']['weighted']\n",
    "    \n",
    "    log = {'val_loss':val_loss,\n",
    "           'val_avgprec_off':val_avgprec_off,\n",
    "           'val_avgprec_on':val_avgprec_on\n",
    "          }\n",
    "    wandb.log(log)"
   ]
  },
  {
   "cell_type": "markdown",
   "id": "c90a1a9b-a48c-4eba-a973-f12ea6ff2d38",
   "metadata": {},
   "source": [
    "## Best wandb model\n",
    "\n",
    "Gotta have non zero dropout probas and one of the highest scores in avgprec but the overfitting can't be very large."
   ]
  },
  {
   "cell_type": "markdown",
   "id": "7f8144da-36f9-420c-a24f-71b1937a026b",
   "metadata": {},
   "source": [
    "### Choosing Metrics"
   ]
  },
  {
   "cell_type": "code",
   "execution_count": 52,
   "id": "6ba832a4-0593-4df4-9973-1e9c50eabfb1",
   "metadata": {},
   "outputs": [
    {
     "name": "stderr",
     "output_type": "stream",
     "text": [
      "/home/debian/Simao/miniconda3/envs/thesis/lib/python3.10/site-packages/torchmetrics/utilities/prints.py:36: UserWarning: Metric `AveragePrecision` will save all targets and predictions in buffer. For large datasets this may lead to large memory footprint.\n",
      "  warnings.warn(*args, **kwargs)\n"
     ]
    }
   ],
   "source": [
    "metrics_factory = {'avgprec':{'func':AveragePrecision,\n",
    "                      'kwargs':dict(num_classes=n_labels,average=None,multiclass=False),\n",
    "                      'extra_pooling':['weighted']\n",
    "                     },\n",
    "#                   'recall@30':{'func':Recall,\n",
    "#                                'kwargs':dict(top_k=30,average='samples',num_classes=n_labels),\n",
    "#                                'extra_pooling':[]\n",
    "#                               },\n",
    "#                   'precision@30':{'func':Precision,\n",
    "#                                'kwargs':dict(top_k=30,average='samples',num_classes=n_labels),\n",
    "#                                'extra_pooling':[]\n",
    "#                               }\n",
    "          }\n",
    "\n",
    "selectors = [MaskTimesteps('last'),MaskTimesteps('all')]\n",
    "\n",
    "metrics = MetricsV2(metrics_factory,selectors)"
   ]
  },
  {
   "cell_type": "markdown",
   "id": "663910ad-d19e-464c-8370-3a2c3cc3da7d",
   "metadata": {},
   "source": [
    "### Train"
   ]
  },
  {
   "cell_type": "code",
   "execution_count": 53,
   "id": "cf88f54b-bead-4ec9-9038-c110bd65f8f3",
   "metadata": {
    "collapsed": true,
    "jupyter": {
     "outputs_hidden": true
    },
    "tags": []
   },
   "outputs": [
    {
     "data": {
      "application/vnd.jupyter.widget-view+json": {
       "model_id": "f966a322787043d4a52a25de238c8730",
       "version_major": 2,
       "version_minor": 0
      },
      "text/plain": [
       "  0%|          | 0/15 [00:00<?, ?it/s]"
      ]
     },
     "metadata": {},
     "output_type": "display_data"
    },
    {
     "name": "stdout",
     "output_type": "stream",
     "text": [
      "Starting to train each batch\n"
     ]
    },
    {
     "data": {
      "application/vnd.jupyter.widget-view+json": {
       "model_id": "9bb271aeec9d46ea862964ad26c8ed8d",
       "version_major": 2,
       "version_minor": 0
      },
      "text/plain": [
       "  0%|          | 0/1313 [00:00<?, ?it/s]"
      ]
     },
     "metadata": {},
     "output_type": "display_data"
    },
    {
     "data": {
      "text/plain": [
       "0.16319839985472323"
      ]
     },
     "execution_count": 53,
     "metadata": {},
     "output_type": "execute_result"
    },
    {
     "name": "stdout",
     "output_type": "stream",
     "text": [
      "Starting to train each batch\n"
     ]
    },
    {
     "data": {
      "application/vnd.jupyter.widget-view+json": {
       "model_id": "b30370a6241442fbb7b163a81bab9b95",
       "version_major": 2,
       "version_minor": 0
      },
      "text/plain": [
       "  0%|          | 0/1313 [00:00<?, ?it/s]"
      ]
     },
     "metadata": {},
     "output_type": "display_data"
    },
    {
     "data": {
      "text/plain": [
       "0.12142605845790189"
      ]
     },
     "execution_count": 53,
     "metadata": {},
     "output_type": "execute_result"
    },
    {
     "name": "stdout",
     "output_type": "stream",
     "text": [
      "Starting to train each batch\n"
     ]
    },
    {
     "data": {
      "application/vnd.jupyter.widget-view+json": {
       "model_id": "6c15497d60554cff8c7f2294d93f9c45",
       "version_major": 2,
       "version_minor": 0
      },
      "text/plain": [
       "  0%|          | 0/1313 [00:00<?, ?it/s]"
      ]
     },
     "metadata": {},
     "output_type": "display_data"
    },
    {
     "data": {
      "text/plain": [
       "0.1153985990774559"
      ]
     },
     "execution_count": 53,
     "metadata": {},
     "output_type": "execute_result"
    },
    {
     "name": "stdout",
     "output_type": "stream",
     "text": [
      "Starting to train each batch\n"
     ]
    },
    {
     "data": {
      "application/vnd.jupyter.widget-view+json": {
       "model_id": "b501a9eb77a840c8bf1d0380f1383fd0",
       "version_major": 2,
       "version_minor": 0
      },
      "text/plain": [
       "  0%|          | 0/1313 [00:00<?, ?it/s]"
      ]
     },
     "metadata": {},
     "output_type": "display_data"
    },
    {
     "data": {
      "text/plain": [
       "0.11221720269751385"
      ]
     },
     "execution_count": 53,
     "metadata": {},
     "output_type": "execute_result"
    },
    {
     "name": "stdout",
     "output_type": "stream",
     "text": [
      "Starting to train each batch\n"
     ]
    },
    {
     "data": {
      "application/vnd.jupyter.widget-view+json": {
       "model_id": "7122cb9c150d4606a842aa50c4f620c3",
       "version_major": 2,
       "version_minor": 0
      },
      "text/plain": [
       "  0%|          | 0/1313 [00:00<?, ?it/s]"
      ]
     },
     "metadata": {},
     "output_type": "display_data"
    },
    {
     "data": {
      "text/plain": [
       "0.11025542581719201"
      ]
     },
     "execution_count": 53,
     "metadata": {},
     "output_type": "execute_result"
    },
    {
     "name": "stdout",
     "output_type": "stream",
     "text": [
      "Starting to train each batch\n"
     ]
    },
    {
     "data": {
      "application/vnd.jupyter.widget-view+json": {
       "model_id": "c6c357876eb14fd7accdb6183546cf84",
       "version_major": 2,
       "version_minor": 0
      },
      "text/plain": [
       "  0%|          | 0/1313 [00:00<?, ?it/s]"
      ]
     },
     "metadata": {},
     "output_type": "display_data"
    },
    {
     "data": {
      "text/plain": [
       "0.10881872610483384"
      ]
     },
     "execution_count": 53,
     "metadata": {},
     "output_type": "execute_result"
    },
    {
     "name": "stdout",
     "output_type": "stream",
     "text": [
      "Starting to train each batch\n"
     ]
    },
    {
     "data": {
      "application/vnd.jupyter.widget-view+json": {
       "model_id": "c9c5da42f1fa4439b7d0809d579f181b",
       "version_major": 2,
       "version_minor": 0
      },
      "text/plain": [
       "  0%|          | 0/1313 [00:00<?, ?it/s]"
      ]
     },
     "metadata": {},
     "output_type": "display_data"
    },
    {
     "data": {
      "text/plain": [
       "0.10779431669973547"
      ]
     },
     "execution_count": 53,
     "metadata": {},
     "output_type": "execute_result"
    },
    {
     "name": "stdout",
     "output_type": "stream",
     "text": [
      "Starting to train each batch\n"
     ]
    },
    {
     "data": {
      "application/vnd.jupyter.widget-view+json": {
       "model_id": "33896ad4070e47bda3777ca2f487cbf0",
       "version_major": 2,
       "version_minor": 0
      },
      "text/plain": [
       "  0%|          | 0/1313 [00:00<?, ?it/s]"
      ]
     },
     "metadata": {},
     "output_type": "display_data"
    },
    {
     "data": {
      "text/plain": [
       "0.10675758851716197"
      ]
     },
     "execution_count": 53,
     "metadata": {},
     "output_type": "execute_result"
    },
    {
     "name": "stdout",
     "output_type": "stream",
     "text": [
      "Starting to train each batch\n"
     ]
    },
    {
     "data": {
      "application/vnd.jupyter.widget-view+json": {
       "model_id": "3c3a574fb1d74f45bd99046995a3e2f0",
       "version_major": 2,
       "version_minor": 0
      },
      "text/plain": [
       "  0%|          | 0/1313 [00:00<?, ?it/s]"
      ]
     },
     "metadata": {},
     "output_type": "display_data"
    },
    {
     "data": {
      "text/plain": [
       "0.10621308737064897"
      ]
     },
     "execution_count": 53,
     "metadata": {},
     "output_type": "execute_result"
    },
    {
     "name": "stdout",
     "output_type": "stream",
     "text": [
      "Starting to train each batch\n"
     ]
    },
    {
     "data": {
      "application/vnd.jupyter.widget-view+json": {
       "model_id": "b388c3932d7546efab9c76f0ba434084",
       "version_major": 2,
       "version_minor": 0
      },
      "text/plain": [
       "  0%|          | 0/1313 [00:00<?, ?it/s]"
      ]
     },
     "metadata": {},
     "output_type": "display_data"
    },
    {
     "data": {
      "text/plain": [
       "0.10578333324861272"
      ]
     },
     "execution_count": 53,
     "metadata": {},
     "output_type": "execute_result"
    },
    {
     "name": "stdout",
     "output_type": "stream",
     "text": [
      "Starting to train each batch\n"
     ]
    },
    {
     "data": {
      "application/vnd.jupyter.widget-view+json": {
       "model_id": "abf4b355fc0c435f89b5e1658dafb10e",
       "version_major": 2,
       "version_minor": 0
      },
      "text/plain": [
       "  0%|          | 0/1313 [00:00<?, ?it/s]"
      ]
     },
     "metadata": {},
     "output_type": "display_data"
    },
    {
     "data": {
      "text/plain": [
       "0.105058490688099"
      ]
     },
     "execution_count": 53,
     "metadata": {},
     "output_type": "execute_result"
    },
    {
     "name": "stdout",
     "output_type": "stream",
     "text": [
      "Starting to train each batch\n"
     ]
    },
    {
     "data": {
      "application/vnd.jupyter.widget-view+json": {
       "model_id": "ca7b8aa7827b4745b9f2a598bc2bd11d",
       "version_major": 2,
       "version_minor": 0
      },
      "text/plain": [
       "  0%|          | 0/1313 [00:00<?, ?it/s]"
      ]
     },
     "metadata": {},
     "output_type": "display_data"
    },
    {
     "data": {
      "text/plain": [
       "0.1046060380998996"
      ]
     },
     "execution_count": 53,
     "metadata": {},
     "output_type": "execute_result"
    },
    {
     "name": "stdout",
     "output_type": "stream",
     "text": [
      "Starting to train each batch\n"
     ]
    },
    {
     "data": {
      "application/vnd.jupyter.widget-view+json": {
       "model_id": "bc358b2748e240588ec33bd6de845468",
       "version_major": 2,
       "version_minor": 0
      },
      "text/plain": [
       "  0%|          | 0/1313 [00:00<?, ?it/s]"
      ]
     },
     "metadata": {},
     "output_type": "display_data"
    },
    {
     "data": {
      "text/plain": [
       "0.10420179574751073"
      ]
     },
     "execution_count": 53,
     "metadata": {},
     "output_type": "execute_result"
    },
    {
     "name": "stdout",
     "output_type": "stream",
     "text": [
      "Starting to train each batch\n"
     ]
    },
    {
     "data": {
      "application/vnd.jupyter.widget-view+json": {
       "model_id": "130e18fd95fb4036b401faa59757842e",
       "version_major": 2,
       "version_minor": 0
      },
      "text/plain": [
       "  0%|          | 0/1313 [00:00<?, ?it/s]"
      ]
     },
     "metadata": {},
     "output_type": "display_data"
    },
    {
     "data": {
      "text/plain": [
       "0.10407302045722273"
      ]
     },
     "execution_count": 53,
     "metadata": {},
     "output_type": "execute_result"
    },
    {
     "name": "stdout",
     "output_type": "stream",
     "text": [
      "Starting to train each batch\n"
     ]
    },
    {
     "data": {
      "application/vnd.jupyter.widget-view+json": {
       "model_id": "cba5a0d293fb4d7589387c3fe4bd43c1",
       "version_major": 2,
       "version_minor": 0
      },
      "text/plain": [
       "  0%|          | 0/1313 [00:00<?, ?it/s]"
      ]
     },
     "metadata": {},
     "output_type": "display_data"
    },
    {
     "data": {
      "text/plain": [
       "0.10346864971778408"
      ]
     },
     "execution_count": 53,
     "metadata": {},
     "output_type": "execute_result"
    }
   ],
   "source": [
    "epochs = 15\n",
    "mlp_mc_model = MLP_MC(input_size=input_size,\n",
    "            hidden_sizes=[150],\n",
    "            n_labels=n_labels,\n",
    "            drop_rates=[0.10,0.3])\n",
    "\n",
    "optimizer = torch.optim.Adam(mlp_mc_model.parameters(), lr=6e-4,weight_decay=0)\n",
    "criterion = nn.BCEWithLogitsLoss(reduction='mean')\n",
    "\n",
    "ths = {i:0.5 for i in range(n_labels)}\n",
    "\n",
    "train_dataloader = DataLoader(dataset,\n",
    "                        batch_size=4,\n",
    "                        collate_fn=ICareCOLLATE(),\n",
    "                        sampler=SubsetRandomSampler(dataset.train_indices)\n",
    "                       )\n",
    "for _ in tqdm(range(epochs)):\n",
    "    train_model_dataloader(mlp_mc_model,train_dataloader,criterion,optimizer)"
   ]
  },
  {
   "cell_type": "markdown",
   "id": "08275cc3-ef9f-490c-ae85-8304c9898c4e",
   "metadata": {},
   "source": [
    "### Show Metrics (and init mean_predictive)"
   ]
  },
  {
   "cell_type": "code",
   "execution_count": null,
   "id": "acaa370e-8ea1-4d95-81ae-3d3102992447",
   "metadata": {},
   "outputs": [],
   "source": [
    "mean_predictive = MeanPredictive(mlp_mc_model,25)"
   ]
  },
  {
   "cell_type": "code",
   "execution_count": null,
   "id": "613e4d2f-57e0-41b9-bdac-9a21ad7a1a3b",
   "metadata": {},
   "outputs": [],
   "source": [
    "metrics.reset_metrics()\n",
    "metrics.update_metrics_dataloader(mlp_mc_model,train_dataloader,ths)\n",
    "train_m = metrics.compute_metrics()\n",
    "del train_m['avgprec']['last']['original']\n",
    "del train_m['avgprec']['all']['original']\n",
    "\n",
    "metrics.reset_metrics()\n",
    "metrics.update_metrics_dataloader(mlp_mc_model,val_dataloader,ths)\n",
    "val_m = metrics.compute_metrics()\n",
    "del val_m['avgprec']['last']['original']\n",
    "del val_m['avgprec']['all']['original']\n",
    "\n",
    "print('Performance when deactivating dropout')\n",
    "print('train:',train_m)\n",
    "print('val:',val_m)\n",
    "\n",
    "###\n",
    "# now using the mean of the predictive\n",
    "metrics.update_metrics_dataloader(mean_predictive,train_dataloader,ths)\n",
    "train_m = metrics.compute_metrics()\n",
    "del train_m['avgprec']['last']['original']\n",
    "del train_m['avgprec']['all']['original']\n",
    "\n",
    "metrics.reset_metrics()\n",
    "metrics.update_metrics_dataloader(mean_predictive,val_dataloader,ths)\n",
    "val_m = metrics.compute_metrics()\n",
    "del val_m['avgprec']['last']['original']\n",
    "del val_m['avgprec']['all']['original']\n",
    "\n",
    "print('\\nPerformance when keeping dropout active and using average of the predictive')\n",
    "print('train:',train_m)\n",
    "print('val:',val_m)"
   ]
  },
  {
   "cell_type": "code",
   "execution_count": null,
   "id": "dd71f01a-e4c9-4401-a9cb-a4850f172d9e",
   "metadata": {},
   "outputs": [],
   "source": [
    "train_m['avgprec'].keys()"
   ]
  },
  {
   "cell_type": "code",
   "execution_count": null,
   "id": "cc74e59c-2e73-4474-b638-82d1cc59cc35",
   "metadata": {},
   "outputs": [],
   "source": [
    "train_m['avgprec']['all'].keys()"
   ]
  },
  {
   "cell_type": "markdown",
   "id": "b45d7084-2040-41c3-a49d-334d7abc2db4",
   "metadata": {},
   "source": [
    "top 5 diagnostics"
   ]
  },
  {
   "cell_type": "code",
   "execution_count": null,
   "id": "3b07f3a7-c6e8-49ed-8531-5ce65900cae9",
   "metadata": {},
   "outputs": [],
   "source": [
    "val_avgprec_all = pd.Series(val_m['avgprec']['all']['original'],name='normal_dropout')\n",
    "val_avgprec_all.sort_values(ascending=False).head(10)"
   ]
  },
  {
   "cell_type": "markdown",
   "id": "9cf3f198-37e2-4407-ad5d-3d08b0d4a015",
   "metadata": {},
   "source": [
    "## Visualizing True Positives vs False Positives"
   ]
  },
  {
   "cell_type": "markdown",
   "id": "b9da1ab9-3b4d-47aa-b9ce-ad3c58f9e94b",
   "metadata": {},
   "source": [
    "### Top 30"
   ]
  },
  {
   "cell_type": "markdown",
   "id": "01cd2954-3ab2-43fc-aca7-800b4cb32a85",
   "metadata": {},
   "source": [
    "#### Compute predictive statistics on val dataloader"
   ]
  },
  {
   "cell_type": "code",
   "execution_count": null,
   "id": "bdbc2e5b-732a-4a18-80cd-c71f287537b2",
   "metadata": {},
   "outputs": [],
   "source": [
    "mean_predictive = MeanPredictive(mlp_mc_model,25)"
   ]
  },
  {
   "cell_type": "code",
   "execution_count": null,
   "id": "e9ccc610-f806-4edb-8e8a-b6b4eae3c7bc",
   "metadata": {},
   "outputs": [],
   "source": [
    "topk = 30\n",
    "ts = MaskTimesteps('all')"
   ]
  },
  {
   "cell_type": "code",
   "execution_count": null,
   "id": "257f51af-1b14-40aa-927c-800c34e85318",
   "metadata": {},
   "outputs": [],
   "source": [
    "from scipy.stats import skew as compute_skew\n",
    "from scipy.stats import kurtosis as compute_kurtosis\n",
    "\n",
    "def compute_predictive_stats_V3(logits_T):\n",
    "    \"\"\"\n",
    "    logits: shape=(N_passes,sequences_batch,n_labels)\n",
    "    \"\"\"\n",
    "    \n",
    "    #std = torch.sqrt(torch.var(logits_T,axis=0))\n",
    "    mean = torch.mean(logits_T,axis=0)\n",
    "    \n",
    "    median = torch.quantile(logits_T,q=0.5,dim=0)\n",
    "    quant10 = torch.quantile(logits_T,q=0.10,dim=0)\n",
    "    #quant25 = torch.quantile(logits_T,q=0.25,dim=0)\n",
    "    #quant75 = torch.quantile(logits_T,q=0.75,dim=0)\n",
    "    quant90 = torch.quantile(logits_T,q=0.90,dim=0)\n",
    "    skew = torch.Tensor(compute_skew(logits_T.detach(),axis=0))\n",
    "    kurtosis = torch.Tensor(compute_kurtosis(logits_T.detach(),axis=0))\n",
    "    \n",
    "    #q50_10 = median - quant10\n",
    "    #q50_25 = median - quant25\n",
    "    #q50_75 = quant75 - median\n",
    "    q50_90 = quant90 - median\n",
    "    #stats = torch.stack([mean,median,std,quant10,quant25,quant75,quant90,skew,kurtosis,q50_10,q50_25,q50_75,q50_90],dim=1)\n",
    "    stats = torch.stack([mean,skew,kurtosis,q50_90],dim=1)\n",
    "    return dict(stats=stats,stats_names=['mean','skew','kurtosis','iqd_50_90'])\n",
    "\n",
    "def compute_predictive_stats_V2(logits_T):\n",
    "    \"\"\"\n",
    "    logits: shape=(N_passes,sequences_batch,n_labels)\n",
    "    \"\"\"\n",
    "    \n",
    "    std = torch.sqrt(torch.var(logits_T,axis=0))\n",
    "    mean = torch.mean(logits_T,axis=0)\n",
    "    \n",
    "    median = torch.quantile(logits_T,q=0.5,dim=0)\n",
    "    quant10 = torch.quantile(logits_T,q=0.10,dim=0)\n",
    "    quant25 = torch.quantile(logits_T,q=0.25,dim=0)\n",
    "    quant75 = torch.quantile(logits_T,q=0.75,dim=0)\n",
    "    quant90 = torch.quantile(logits_T,q=0.90,dim=0)\n",
    "    skew = torch.Tensor(compute_skew(logits_T.detach(),axis=0))\n",
    "    kurtosis = torch.Tensor(compute_kurtosis(logits_T.detach(),axis=0))\n",
    "    \n",
    "    q50_10 = median - quant10\n",
    "    q50_25 = median - quant25\n",
    "    q50_75 = quant75 - median\n",
    "    q50_90 = quant90 - median\n",
    "    stats = torch.stack([mean,median,std,quant10,quant25,quant75,quant90,skew,kurtosis,q50_10,q50_25,q50_75,q50_90],dim=1)\n",
    "    return dict(stats=stats,stats_names=['mean','median','std','q10','q25','q75','q90','skew','kurtosis','iqd_50_10','iqd_50_25','iqd_50_75','iqd_50_90'])"
   ]
  },
  {
   "cell_type": "code",
   "execution_count": null,
   "id": "aa775699-ee4f-42d7-b33b-888f2f3b4d90",
   "metadata": {},
   "outputs": [],
   "source": [
    "all_stats = list()\n",
    "all_preds = list()\n",
    "all_golden = list()\n",
    "stats_names = None\n",
    "for batch in tqdm(val_dataloader):\n",
    "    logits_T = compute_model_predictive_samples_batch(mlp_mc_model,batch,ts)\n",
    "    stats = compute_predictive_stats_V2(logits_T)\n",
    "    if stats_names is None:\n",
    "        stats_names = stats['stats_names']\n",
    "    all_stats.append(stats['stats'])\n",
    "    preds = compute_model_preds_batch(mean_predictive,batch,thresholds = None,topk=topk,timestep_selector=ts)\n",
    "    golden = batch['target_sequence']\n",
    "    \n",
    "    all_preds.append(preds)\n",
    "    all_golden.append(golden)\n",
    "    \n",
    "stats = torch.vstack(all_stats)\n",
    "preds = torch.vstack(all_preds)\n",
    "golden = torch.vstack(all_golden)"
   ]
  },
  {
   "cell_type": "markdown",
   "id": "9efba072-f69c-4eb0-9b47-45a382c9035d",
   "metadata": {},
   "source": [
    "#### Record True Positives and False Positives"
   ]
  },
  {
   "cell_type": "code",
   "execution_count": null,
   "id": "9e5dddbf-aa03-4627-98aa-768f36736021",
   "metadata": {},
   "outputs": [],
   "source": [
    "TP = (preds == 1) & (golden == 1)\n",
    "FP = (preds == 1) & (golden == 0)\n",
    "\n",
    "TP_flat = TP.detach().numpy().reshape(-1)\n",
    "FP_flat = FP.detach().numpy().reshape(-1)"
   ]
  },
  {
   "cell_type": "markdown",
   "id": "b93042e6-0643-4826-8896-d7b32af76c56",
   "metadata": {},
   "source": [
    "#### Plot linear correlation of all stats"
   ]
  },
  {
   "cell_type": "markdown",
   "id": "aa4b0a23-77bf-42d3-82c1-ea5d502e5893",
   "metadata": {},
   "source": [
    "all"
   ]
  },
  {
   "cell_type": "code",
   "execution_count": null,
   "id": "5c024eda-88e2-4c2b-a910-80a39b2caddd",
   "metadata": {},
   "outputs": [],
   "source": [
    "all_stats = list()\n",
    "for diag in range(n_labels):\n",
    "    stats_df = pd.DataFrame(stats.detach().numpy()[:,:,diag],columns=stats_names)\n",
    "    \n",
    "    all_stats.append(stats_df)\n",
    "res = pd.concat(all_stats,axis=0)\n",
    "res.head(3)\n",
    "res.shape"
   ]
  },
  {
   "cell_type": "code",
   "execution_count": null,
   "id": "4c762599-f437-4603-974b-843575a3d4c6",
   "metadata": {},
   "outputs": [],
   "source": [
    "res2 = res[['mean','skew']].assign(TP=TP_flat)\n",
    "res2.loc[:,'color'] = res2.TP.apply(lambda x: 'red' if x == 0 else 'blue')\n",
    "res2.plot.scatter('mean','skew',c='color',alpha=0.4)"
   ]
  },
  {
   "cell_type": "code",
   "execution_count": null,
   "id": "5f80d6ea-625c-45d9-972b-a7330268b3b0",
   "metadata": {},
   "outputs": [],
   "source": [
    "plt.style.use('classic')\n",
    "_ = plt.figure(figsize=(15,7.5))\n",
    "_ = plt.matshow(res.corr(),fignum=1)\n",
    "_ = plt.xticks(range(len(stats_names)), stats_names, fontsize=10, rotation=45)\n",
    "_ = plt.yticks(range(len(stats_names)), stats_names, fontsize=10, rotation=45)\n",
    "_ = cb = plt.colorbar()\n",
    "plt.savefig('media/linear_corr_stats.png')"
   ]
  },
  {
   "cell_type": "markdown",
   "id": "f4cc1d77-a5e8-4ba3-b734-d015fd39a9dc",
   "metadata": {},
   "source": [
    "#### Stats with lower linear correlation against mean"
   ]
  },
  {
   "cell_type": "code",
   "execution_count": null,
   "id": "eec293a4-cb0b-48c5-b9e4-1c5007505a76",
   "metadata": {},
   "outputs": [],
   "source": [
    "res.corr().loc['mean',:].where(lambda x: np.abs(x) < 0.8).dropna()\n",
    "res.corr().loc['mean',:].where(lambda x: np.abs(x) < 0.8).dropna().index.tolist()"
   ]
  },
  {
   "cell_type": "code",
   "execution_count": null,
   "id": "0fb65f41-45b0-44c7-992c-4a4098bf0e33",
   "metadata": {},
   "outputs": [],
   "source": [
    "res[['mean','skew', 'kurtosis', 'iqd_50_75', 'iqd_50_90']].corr()"
   ]
  },
  {
   "cell_type": "markdown",
   "id": "d345f40c-5354-47d1-81b8-5f3a359b4193",
   "metadata": {},
   "source": [
    "**final:** mean, skew, kurtosis, iqd_50_90"
   ]
  },
  {
   "cell_type": "markdown",
   "id": "85f6a520-3428-44cc-984b-1a0be4bb3a51",
   "metadata": {},
   "source": [
    "#### Plot distribution of each stat"
   ]
  },
  {
   "cell_type": "code",
   "execution_count": null,
   "id": "6d997d3a-8cac-40dd-b45e-cf0e0a1860fd",
   "metadata": {},
   "outputs": [],
   "source": [
    "plt.style.use('default')"
   ]
  },
  {
   "cell_type": "code",
   "execution_count": null,
   "id": "960876fb-cffc-413c-865a-1d7633b24392",
   "metadata": {},
   "outputs": [],
   "source": [
    "# using the variable axs for multiple Axes\n",
    "nrows = 3\n",
    "ncols = 3\n",
    "fig, ax = plt.subplots(nrows, ncols,figsize=(18,12))\n",
    "\n",
    "r = 0\n",
    "c = 0\n",
    "for e in range(stats.shape[1]):\n",
    "    name = stats_names[e]\n",
    "    if name[0] == 'q':\n",
    "        continue\n",
    "        \n",
    "    values = stats[:,e,:].detach().numpy()\n",
    "    values_tp = values[TP]\n",
    "    values_fp = values[FP]\n",
    "    \n",
    "    q1 = np.quantile(values,0.01)\n",
    "    q99 = np.quantile(values,0.99)\n",
    "    bins = np.linspace(q1,q99,21)\n",
    "    \n",
    "    counts, bins = np.histogram(values_tp,bins=bins)\n",
    "    _ = ax[r,c].stairs(counts / max(counts), bins,label='True Positives');\n",
    "    \n",
    "    counts, bins = np.histogram(values_fp,bins=bins)\n",
    "    _ = ax[r,c].stairs(counts / max(counts), bins,label='False Positives');\n",
    "    \n",
    "    _ = ax[r,c].set_title(name);\n",
    "    _ = ax[r,c].legend();\n",
    "    \n",
    "    c +=1\n",
    "    if c ==ncols:\n",
    "        c = 0\n",
    "        r +=1\n",
    "    \n",
    "plt.savefig('media/overall_tp_vs_fp.png')"
   ]
  },
  {
   "cell_type": "code",
   "execution_count": null,
   "id": "51fc6758-3649-4ef5-8e06-411016d8e602",
   "metadata": {},
   "outputs": [],
   "source": [
    "plt.style.use('ggplot')\n",
    "import matplotlib.pyplot as plt\n",
    "import numpy as np\n",
    "import scipy.stats as stats\n",
    "import math\n",
    "plt.figure(figsize=(12,8))\n",
    "mu = 0.7\n",
    "variance = 0.001\n",
    "sigma = math.sqrt(variance)\n",
    "x = np.linspace(mu - 10*sigma, mu + 10*sigma, 1000)\n",
    "plt.plot(x, stats.norm.pdf(x, mu, sigma),color='blue',label='True Positive')\n",
    "variance = 0.01\n",
    "sigma = math.sqrt(variance)\n",
    "x = np.linspace(mu - 10*sigma, mu + 10*sigma, 1000)\n",
    "plt.plot(x, stats.norm.pdf(x, mu, sigma),color='red',label='False Positive')\n",
    "plt.xlim(0.4,1)\n",
    "plt.xlabel('Logit value')\n",
    "plt.ylabel('likelihood')\n",
    "plt.legend()\n",
    "plt.savefig('media/ideal_case_tp_fp.png')"
   ]
  },
  {
   "cell_type": "markdown",
   "id": "47b88632-f4d3-4fd4-baa3-58d34a2ab1e8",
   "metadata": {},
   "source": [
    "### best f1 threshold"
   ]
  },
  {
   "cell_type": "code",
   "execution_count": null,
   "id": "0e2eddf5-f518-405a-832c-b07996f97d5b",
   "metadata": {
    "tags": []
   },
   "outputs": [],
   "source": [
    "ts = MaskTimesteps('all')\n",
    "thresholds_df = compute_thresholds_dataloader(mlp_mc_model,val_dataloader,ts)\n",
    "thresholds = thresholds_df.best_thresholds.to_dict()\n",
    "thresholds = {key:thresholds[key] if thresholds[key] > 0.1 else 0.1  for key in thresholds}"
   ]
  },
  {
   "cell_type": "code",
   "execution_count": null,
   "id": "e4bd6f8e-0b3c-44de-8419-8e3714c932fb",
   "metadata": {},
   "outputs": [],
   "source": [
    "all_stats = list()\n",
    "all_preds = list()\n",
    "all_golden = list()\n",
    "stats_names = None\n",
    "for batch in tqdm(val_dataloader):\n",
    "    logits_T = compute_model_predictive_samples_batch(mlp_mc_model,batch,ts)\n",
    "    stats = compute_predictive_stats_V2(logits_T)\n",
    "    if stats_names is None:\n",
    "        stats_names = stats['stats_names']\n",
    "    all_stats.append(stats['stats'])\n",
    "    preds = compute_model_preds_batch(mean_predictive,batch,thresholds = thresholds,topk=None,timestep_selector=ts)\n",
    "    golden = batch['target_sequence']\n",
    "    \n",
    "    all_preds.append(preds)\n",
    "    all_golden.append(golden)\n",
    "    \n",
    "stats = torch.vstack(all_stats)\n",
    "preds = torch.vstack(all_preds)\n",
    "golden = torch.vstack(all_golden)"
   ]
  },
  {
   "cell_type": "markdown",
   "id": "8026d45a-88bf-435a-af47-5fbd7b369700",
   "metadata": {},
   "source": [
    "#### Record True Positives and False Positives"
   ]
  },
  {
   "cell_type": "code",
   "execution_count": null,
   "id": "6dd2bec7-e641-4c0c-8fc3-393c8e7b4581",
   "metadata": {},
   "outputs": [],
   "source": [
    "TP = (preds == 1) & (golden == 1)\n",
    "FP = (preds == 1) & (golden == 0)"
   ]
  },
  {
   "cell_type": "markdown",
   "id": "88082e8e-c92e-4954-b992-b605aaedb176",
   "metadata": {},
   "source": [
    "#### Plot linear correlation of all stats"
   ]
  },
  {
   "cell_type": "markdown",
   "id": "6ad422c1-dc45-456c-b536-91a4aac4b3e5",
   "metadata": {},
   "source": [
    "all"
   ]
  },
  {
   "cell_type": "code",
   "execution_count": null,
   "id": "bbf650db-6bee-4c69-ac55-599caee2b269",
   "metadata": {},
   "outputs": [],
   "source": [
    "all_stats = list()\n",
    "for diag in range(n_labels):\n",
    "    stats_df = pd.DataFrame(stats.detach().numpy()[:,:,diag],columns=stats_names)\n",
    "    \n",
    "    all_stats.append(stats_df)\n",
    "res = pd.concat(all_stats,axis=0)\n",
    "res.head(3)\n",
    "res.shape"
   ]
  },
  {
   "cell_type": "code",
   "execution_count": null,
   "id": "827d661b-0fe9-45fa-9bdb-2c664b5d3da3",
   "metadata": {},
   "outputs": [],
   "source": [
    "plt.style.use('classic')\n",
    "_ = plt.figure(figsize=(15,7.5))\n",
    "_ = plt.matshow(res.corr(),fignum=1)\n",
    "_ = plt.xticks(range(len(stats_names)), stats_names, fontsize=10, rotation=45)\n",
    "_ = plt.yticks(range(len(stats_names)), stats_names, fontsize=10, rotation=45)\n",
    "_ = cb = plt.colorbar()\n",
    "plt.savefig('media/linear_corr_stats.png')"
   ]
  },
  {
   "cell_type": "markdown",
   "id": "46ce2922-be36-4d95-9031-ed941543f4fa",
   "metadata": {},
   "source": [
    "#### Stats with lower linear correlation against mean"
   ]
  },
  {
   "cell_type": "code",
   "execution_count": null,
   "id": "71168d2a-3360-4ba8-a961-f118e9a7a81a",
   "metadata": {},
   "outputs": [],
   "source": [
    "res.corr().loc['mean',:].where(lambda x: np.abs(x) < 0.8).dropna()\n",
    "res.corr().loc['mean',:].where(lambda x: np.abs(x) < 0.8).dropna().index.tolist()"
   ]
  },
  {
   "cell_type": "code",
   "execution_count": null,
   "id": "3525d9ce-e338-467c-ae5d-9a02cf7eb91a",
   "metadata": {},
   "outputs": [],
   "source": [
    "res[['mean','skew', 'kurtosis', 'iqd_50_75', 'iqd_50_90']].corr()"
   ]
  },
  {
   "cell_type": "markdown",
   "id": "c748b6e0-0872-4a48-899c-0ea5fc011338",
   "metadata": {},
   "source": [
    "**final:** mean, skew, kurtosis, iqd_50_90"
   ]
  },
  {
   "cell_type": "markdown",
   "id": "09f59d0a-3344-4fdd-9aa0-5ac8ec7ccf80",
   "metadata": {},
   "source": [
    "#### Plot distribution of each stat"
   ]
  },
  {
   "cell_type": "code",
   "execution_count": null,
   "id": "bc92e22e-55a7-481e-8814-a8f6e47cc0c3",
   "metadata": {},
   "outputs": [],
   "source": [
    "plt.style.use('default')"
   ]
  },
  {
   "cell_type": "code",
   "execution_count": null,
   "id": "95df06b8-94dd-4916-992e-130b405141e0",
   "metadata": {},
   "outputs": [],
   "source": [
    "# using the variable axs for multiple Axes\n",
    "nrows = 3\n",
    "ncols = 3\n",
    "fig, ax = plt.subplots(nrows, ncols,figsize=(18,12))\n",
    "\n",
    "r = 0\n",
    "c = 0\n",
    "for e in range(stats.shape[1]):\n",
    "    name = stats_names[e]\n",
    "    if name[0] == 'q':\n",
    "        continue\n",
    "        \n",
    "    values = stats[:,e,:].detach().numpy()\n",
    "    values_tp = values[TP]\n",
    "    values_fp = values[FP]\n",
    "    \n",
    "    q1 = np.quantile(values,0.01)\n",
    "    q99 = np.quantile(values,0.99)\n",
    "    bins = np.linspace(q1,q99,21)\n",
    "    \n",
    "    counts, bins = np.histogram(values_tp,bins=bins)\n",
    "    _ = ax[r,c].stairs(counts / max(counts), bins,label='True Positives');\n",
    "    \n",
    "    counts, bins = np.histogram(values_fp,bins=bins)\n",
    "    _ = ax[r,c].stairs(counts / max(counts), bins,label='False Positives');\n",
    "    \n",
    "    _ = ax[r,c].set_title(name);\n",
    "    _ = ax[r,c].legend();\n",
    "    \n",
    "    c +=1\n",
    "    if c ==ncols:\n",
    "        c = 0\n",
    "        r +=1\n",
    "    \n",
    "plt.savefig('media/overall_tp_vs_fp.png')"
   ]
  },
  {
   "cell_type": "markdown",
   "id": "c12f2d7f-2fb1-44c2-80dd-7a8bc3755046",
   "metadata": {},
   "source": [
    "## Predictive distribution to find type 1 errors"
   ]
  },
  {
   "cell_type": "markdown",
   "id": "cccadbb2-6335-417c-bb9c-1b21ac897d84",
   "metadata": {
    "tags": []
   },
   "source": [
    "### Comparing with literature: precision,recall,f1 @ 30 of the dropout model "
   ]
  },
  {
   "cell_type": "code",
   "execution_count": null,
   "id": "b2d30ac4-e887-4a7c-8e42-2fdfe836afd9",
   "metadata": {},
   "outputs": [],
   "source": [
    "metrics_factory = {'f1score@30':{'func':F1Score,\n",
    "                                'kwargs':dict(top_k=30,average='samples',num_classes=n_labels),\n",
    "                                'extra_pooling':[]\n",
    "                               },\n",
    "                   'recall@30':{'func':Recall,\n",
    "                                'kwargs':dict(top_k=30,average='samples',num_classes=n_labels),\n",
    "                                'extra_pooling':[]\n",
    "                               },\n",
    "                   'precision@30':{'func':Precision,\n",
    "                                'kwargs':dict(top_k=30,average='samples',num_classes=n_labels),\n",
    "                                'extra_pooling':[]\n",
    "                               }\n",
    "          }\n",
    "\n",
    "selectors = [MaskTimesteps('last')]\n",
    "\n",
    "metrics = MetricsV2(metrics_factory,selectors)\n",
    "\n",
    "baseline_ths = {diag:0.5 for diag in range(n_labels)}\n",
    "metrics.update_metrics_dataloader(mean_predictive,train_no_opt_dataloader,baseline_ths)"
   ]
  },
  {
   "cell_type": "markdown",
   "id": "71912686-1642-474a-b27a-a380430ca3c9",
   "metadata": {},
   "source": [
    "### Performance with high thresholds only"
   ]
  },
  {
   "cell_type": "code",
   "execution_count": null,
   "id": "cb06383b-c802-4de2-ad57-fd8b8c0998bc",
   "metadata": {},
   "outputs": [],
   "source": [
    "thresholds = {diag:0.8 for diag in range(n_labels)}"
   ]
  },
  {
   "cell_type": "code",
   "execution_count": null,
   "id": "0d869f52-fce4-421a-a5e7-fb8edba69a16",
   "metadata": {},
   "outputs": [],
   "source": [
    "recall = F1Score(average='samples',num_classes=n_labels,multiclass=False)"
   ]
  },
  {
   "cell_type": "code",
   "execution_count": null,
   "id": "2631cbf9-9e2e-49d2-ad6a-0aafdca3c688",
   "metadata": {},
   "outputs": [],
   "source": [
    "thresholds = {diag:0.8 for diag in range(n_labels)}\n",
    "for batch in train_no_opt_dataloader:\n",
    "    logits = compute_model_logits_batch(mean_predictive,batch)\n",
    "    preds = compute_model_preds_batch(mean_predictive,batch,thresholds=thresholds)\n",
    "    target = batch['target_sequence'].int()\n",
    "    break"
   ]
  },
  {
   "cell_type": "code",
   "execution_count": null,
   "id": "449854e6-8c67-4c02-9983-8f3b60080437",
   "metadata": {
    "tags": []
   },
   "outputs": [],
   "source": [
    "recall.update(torch.ones(size=target.shape),target)"
   ]
  },
  {
   "cell_type": "code",
   "execution_count": null,
   "id": "188e7428-9bfc-40b6-aaea-8db6c9876122",
   "metadata": {},
   "outputs": [],
   "source": [
    "thresholds = {diag:0.8 for diag in range(n_labels)}\n",
    "\n",
    "metrics_factory = {'f1score':{'func':F1Score,\n",
    "                                'kwargs':dict(average='samples',num_classes=n_labels,multilabel=False),\n",
    "                                'extra_pooling':[]\n",
    "                               },\n",
    "                   'recall':{'func':Recall,\n",
    "                                'kwargs':dict(average='samples',num_classes=n_labels,multilabel=False),\n",
    "                                'extra_pooling':[]\n",
    "                               },\n",
    "                   'precision':{'func':Precision,\n",
    "                                'kwargs':dict(average='samples',num_classes=n_labels,multilabel=False),\n",
    "                                'extra_pooling':[]\n",
    "                               }\n",
    "          }\n",
    "\n",
    "selectors = [MaskTimesteps('last'),MaskTimesteps('all')]\n",
    "\n",
    "metrics = MetricsV2(metrics_factory,selectors)\n",
    "\n",
    "metrics.update_metrics_dataloader(mean_predictive,train_no_opt_dataloader,thresholds)"
   ]
  },
  {
   "cell_type": "markdown",
   "id": "19037626-76ff-4133-bd34-39b304584af0",
   "metadata": {},
   "source": [
    "### One Model to rule them all"
   ]
  },
  {
   "cell_type": "markdown",
   "id": "cb7b0642-ce33-4e63-861f-7b2e17765bf6",
   "metadata": {},
   "source": [
    "1. Get predictive stats on train set\n",
    "2. record TPs and FPs\n",
    "3. train Logistic Regression on TP vs FP\n",
    "4. evaluate best threshold on val set\n",
    "5. recompute metrics"
   ]
  },
  {
   "cell_type": "markdown",
   "id": "5f433c96-0d73-4734-8078-a4371c47525b",
   "metadata": {},
   "source": [
    "#### Get predictive stats"
   ]
  },
  {
   "cell_type": "code",
   "execution_count": 461,
   "id": "0086363c-3d0d-405e-aa0c-9be99655ab53",
   "metadata": {},
   "outputs": [],
   "source": [
    "topk = 30\n",
    "ts = MaskTimesteps('all')"
   ]
  },
  {
   "cell_type": "code",
   "execution_count": 462,
   "id": "6e3fd9c6-e406-45b1-94d4-178de5eaf6d0",
   "metadata": {},
   "outputs": [
    {
     "data": {
      "application/vnd.jupyter.widget-view+json": {
       "model_id": "cf110ffd1fce4d1bad9d62137efe1605",
       "version_major": 2,
       "version_minor": 0
      },
      "text/plain": [
       "  0%|          | 0/1313 [00:00<?, ?it/s]"
      ]
     },
     "metadata": {},
     "output_type": "display_data"
    },
    {
     "data": {
      "application/vnd.jupyter.widget-view+json": {
       "model_id": "869bf3112bd34ffcb1bc25cd995cbf08",
       "version_major": 2,
       "version_minor": 0
      },
      "text/plain": [
       "  0%|          | 0/36 [00:00<?, ?it/s]"
      ]
     },
     "metadata": {},
     "output_type": "display_data"
    }
   ],
   "source": [
    "# get predictive stats on train set\n",
    "all_stats = list()\n",
    "all_preds = list()\n",
    "all_golden = list()\n",
    "stats_names = None\n",
    "\n",
    "for batch in tqdm(train_dataloader):\n",
    "    lengths = batch['length']\n",
    "    logits_T = compute_model_predictive_samples_batch(mlp_mc_model,batch,ts)\n",
    "    stats = compute_predictive_stats_V3(logits_T)\n",
    "    if stats_names is None:\n",
    "        stats_names = stats['stats_names']\n",
    "    all_stats.append(stats['stats'])\n",
    "    logits = stats['stats'][:,stats_names.index('mean'),:]\n",
    "    preds = logits2preds(logits,None,topk)\n",
    "    golden = batch['target_sequence']\n",
    "    \n",
    "    # timesteps that matter\n",
    "    idx = ts(lengths)\n",
    "    golden = golden[idx,:]\n",
    "    \n",
    "    all_preds.append(preds)\n",
    "    all_golden.append(golden)\n",
    "    \n",
    "stats = torch.vstack(all_stats)\n",
    "preds = torch.vstack(all_preds)\n",
    "golden = torch.vstack(all_golden)\n",
    "\n",
    "TP = ((preds == 1) & (golden == 1)).detach().numpy().reshape(-1)\n",
    "FP = ((preds == 1) & (golden == 0)).detach().numpy().reshape(-1)\n",
    "P = (TP | FP)\n",
    "    \n",
    "\n",
    "X_train = stats.swapaxes(1,2).reshape(-1,4).detach().numpy()\n",
    "X_train = X_train[P,:]\n",
    "y_train = TP[P]\n",
    "\n",
    "##### Val dataset #####\n",
    "\n",
    "# get predictive stats on train set\n",
    "all_stats = list()\n",
    "all_preds = list()\n",
    "all_golden = list()\n",
    "stats_names = None\n",
    "\n",
    "for batch in tqdm(val_dataloader):\n",
    "    lengths = batch['length']\n",
    "    logits_T = compute_model_predictive_samples_batch(mlp_mc_model,batch,ts)\n",
    "    stats = compute_predictive_stats_V3(logits_T)\n",
    "    if stats_names is None:\n",
    "        stats_names = stats['stats_names']\n",
    "    all_stats.append(stats['stats'])\n",
    "    logits = stats['stats'][:,stats_names.index('mean'),:]\n",
    "    preds = logits2preds(logits,None,topk)\n",
    "    golden = batch['target_sequence']\n",
    "    \n",
    "    # timesteps that matter\n",
    "    idx = ts(lengths)\n",
    "    golden = golden[idx,:]\n",
    "    \n",
    "    all_preds.append(preds)\n",
    "    all_golden.append(golden)\n",
    "    \n",
    "stats = torch.vstack(all_stats)\n",
    "preds = torch.vstack(all_preds)\n",
    "golden = torch.vstack(all_golden)\n",
    "\n",
    "TP = ((preds == 1) & (golden == 1)).detach().numpy().reshape(-1)\n",
    "FP = ((preds == 1) & (golden == 0)).detach().numpy().reshape(-1)\n",
    "P = (TP | FP)\n",
    "    \n",
    "\n",
    "X_val = stats.swapaxes(1,2).reshape(-1,4).detach().numpy()\n",
    "X_val = X_val[P,:]\n",
    "y_val = TP[P]"
   ]
  },
  {
   "cell_type": "markdown",
   "id": "9fb1576b-ea85-4012-ab6f-be8aa2f61b9d",
   "metadata": {},
   "source": [
    "#### Train Logistic Regression with hyperparameters"
   ]
  },
  {
   "cell_type": "code",
   "execution_count": 463,
   "id": "0e709b4e-3f6b-4521-80af-24f733422fa6",
   "metadata": {},
   "outputs": [],
   "source": [
    "from sklearn.linear_model import LogisticRegression as LR_sklearn\n",
    "from sklearn.model_selection import GridSearchCV\n",
    "from sklearn.metrics import average_precision_score"
   ]
  },
  {
   "cell_type": "code",
   "execution_count": 464,
   "id": "32e0de59-c9d0-48eb-8126-4e74effacd45",
   "metadata": {
    "collapsed": true,
    "jupyter": {
     "outputs_hidden": true
    },
    "tags": []
   },
   "outputs": [
    {
     "data": {
      "text/plain": [
       "Pipeline(steps=[('standardscaler', StandardScaler()),\n",
       "                ('logisticregression', LogisticRegression(C=0.1))])"
      ]
     },
     "execution_count": 464,
     "metadata": {},
     "output_type": "execute_result"
    },
    {
     "data": {
      "text/plain": [
       "Pipeline(steps=[('standardscaler', StandardScaler()),\n",
       "                ('logisticregression',\n",
       "                 LogisticRegression(C=0.1, class_weight='balanced'))])"
      ]
     },
     "execution_count": 464,
     "metadata": {},
     "output_type": "execute_result"
    },
    {
     "data": {
      "text/plain": [
       "Pipeline(steps=[('standardscaler', StandardScaler()),\n",
       "                ('logisticregression', LogisticRegression(C=0.2))])"
      ]
     },
     "execution_count": 464,
     "metadata": {},
     "output_type": "execute_result"
    },
    {
     "data": {
      "text/plain": [
       "Pipeline(steps=[('standardscaler', StandardScaler()),\n",
       "                ('logisticregression',\n",
       "                 LogisticRegression(C=0.2, class_weight='balanced'))])"
      ]
     },
     "execution_count": 464,
     "metadata": {},
     "output_type": "execute_result"
    },
    {
     "data": {
      "text/plain": [
       "Pipeline(steps=[('standardscaler', StandardScaler()),\n",
       "                ('logisticregression',\n",
       "                 LogisticRegression(C=0.30000000000000004))])"
      ]
     },
     "execution_count": 464,
     "metadata": {},
     "output_type": "execute_result"
    },
    {
     "data": {
      "text/plain": [
       "Pipeline(steps=[('standardscaler', StandardScaler()),\n",
       "                ('logisticregression',\n",
       "                 LogisticRegression(C=0.30000000000000004,\n",
       "                                    class_weight='balanced'))])"
      ]
     },
     "execution_count": 464,
     "metadata": {},
     "output_type": "execute_result"
    },
    {
     "data": {
      "text/plain": [
       "Pipeline(steps=[('standardscaler', StandardScaler()),\n",
       "                ('logisticregression', LogisticRegression(C=0.4))])"
      ]
     },
     "execution_count": 464,
     "metadata": {},
     "output_type": "execute_result"
    },
    {
     "data": {
      "text/plain": [
       "Pipeline(steps=[('standardscaler', StandardScaler()),\n",
       "                ('logisticregression',\n",
       "                 LogisticRegression(C=0.4, class_weight='balanced'))])"
      ]
     },
     "execution_count": 464,
     "metadata": {},
     "output_type": "execute_result"
    },
    {
     "data": {
      "text/plain": [
       "Pipeline(steps=[('standardscaler', StandardScaler()),\n",
       "                ('logisticregression', LogisticRegression(C=0.5))])"
      ]
     },
     "execution_count": 464,
     "metadata": {},
     "output_type": "execute_result"
    },
    {
     "data": {
      "text/plain": [
       "Pipeline(steps=[('standardscaler', StandardScaler()),\n",
       "                ('logisticregression',\n",
       "                 LogisticRegression(C=0.5, class_weight='balanced'))])"
      ]
     },
     "execution_count": 464,
     "metadata": {},
     "output_type": "execute_result"
    },
    {
     "data": {
      "text/plain": [
       "Pipeline(steps=[('standardscaler', StandardScaler()),\n",
       "                ('logisticregression',\n",
       "                 LogisticRegression(C=0.6000000000000001))])"
      ]
     },
     "execution_count": 464,
     "metadata": {},
     "output_type": "execute_result"
    },
    {
     "data": {
      "text/plain": [
       "Pipeline(steps=[('standardscaler', StandardScaler()),\n",
       "                ('logisticregression',\n",
       "                 LogisticRegression(C=0.6000000000000001,\n",
       "                                    class_weight='balanced'))])"
      ]
     },
     "execution_count": 464,
     "metadata": {},
     "output_type": "execute_result"
    },
    {
     "data": {
      "text/plain": [
       "Pipeline(steps=[('standardscaler', StandardScaler()),\n",
       "                ('logisticregression',\n",
       "                 LogisticRegression(C=0.7000000000000001))])"
      ]
     },
     "execution_count": 464,
     "metadata": {},
     "output_type": "execute_result"
    },
    {
     "data": {
      "text/plain": [
       "Pipeline(steps=[('standardscaler', StandardScaler()),\n",
       "                ('logisticregression',\n",
       "                 LogisticRegression(C=0.7000000000000001,\n",
       "                                    class_weight='balanced'))])"
      ]
     },
     "execution_count": 464,
     "metadata": {},
     "output_type": "execute_result"
    },
    {
     "data": {
      "text/plain": [
       "Pipeline(steps=[('standardscaler', StandardScaler()),\n",
       "                ('logisticregression', LogisticRegression(C=0.8))])"
      ]
     },
     "execution_count": 464,
     "metadata": {},
     "output_type": "execute_result"
    },
    {
     "data": {
      "text/plain": [
       "Pipeline(steps=[('standardscaler', StandardScaler()),\n",
       "                ('logisticregression',\n",
       "                 LogisticRegression(C=0.8, class_weight='balanced'))])"
      ]
     },
     "execution_count": 464,
     "metadata": {},
     "output_type": "execute_result"
    },
    {
     "data": {
      "text/plain": [
       "Pipeline(steps=[('standardscaler', StandardScaler()),\n",
       "                ('logisticregression', LogisticRegression(C=0.9))])"
      ]
     },
     "execution_count": 464,
     "metadata": {},
     "output_type": "execute_result"
    },
    {
     "data": {
      "text/plain": [
       "Pipeline(steps=[('standardscaler', StandardScaler()),\n",
       "                ('logisticregression',\n",
       "                 LogisticRegression(C=0.9, class_weight='balanced'))])"
      ]
     },
     "execution_count": 464,
     "metadata": {},
     "output_type": "execute_result"
    },
    {
     "data": {
      "text/plain": [
       "Pipeline(steps=[('standardscaler', StandardScaler()),\n",
       "                ('logisticregression', LogisticRegression())])"
      ]
     },
     "execution_count": 464,
     "metadata": {},
     "output_type": "execute_result"
    },
    {
     "data": {
      "text/plain": [
       "Pipeline(steps=[('standardscaler', StandardScaler()),\n",
       "                ('logisticregression',\n",
       "                 LogisticRegression(class_weight='balanced'))])"
      ]
     },
     "execution_count": 464,
     "metadata": {},
     "output_type": "execute_result"
    },
    {
     "data": {
      "text/html": [
       "<div>\n",
       "<style scoped>\n",
       "    .dataframe tbody tr th:only-of-type {\n",
       "        vertical-align: middle;\n",
       "    }\n",
       "\n",
       "    .dataframe tbody tr th {\n",
       "        vertical-align: top;\n",
       "    }\n",
       "\n",
       "    .dataframe thead th {\n",
       "        text-align: right;\n",
       "    }\n",
       "</style>\n",
       "<table border=\"1\" class=\"dataframe\">\n",
       "  <thead>\n",
       "    <tr style=\"text-align: right;\">\n",
       "      <th></th>\n",
       "      <th>pipeline</th>\n",
       "      <th>val_avgprec</th>\n",
       "      <th>params</th>\n",
       "    </tr>\n",
       "  </thead>\n",
       "  <tbody>\n",
       "    <tr>\n",
       "      <th>0</th>\n",
       "      <td>(StandardScaler(), LogisticRegression(C=0.1))</td>\n",
       "      <td>0.607843</td>\n",
       "      <td>{'C': 0.1, 'class_weight': None}</td>\n",
       "    </tr>\n",
       "    <tr>\n",
       "      <th>1</th>\n",
       "      <td>(StandardScaler(), LogisticRegression(C=0.1, c...</td>\n",
       "      <td>0.607729</td>\n",
       "      <td>{'C': 0.1, 'class_weight': 'balanced'}</td>\n",
       "    </tr>\n",
       "    <tr>\n",
       "      <th>2</th>\n",
       "      <td>(StandardScaler(), LogisticRegression(C=0.2))</td>\n",
       "      <td>0.607849</td>\n",
       "      <td>{'C': 0.2, 'class_weight': None}</td>\n",
       "    </tr>\n",
       "    <tr>\n",
       "      <th>3</th>\n",
       "      <td>(StandardScaler(), LogisticRegression(C=0.2, c...</td>\n",
       "      <td>0.607730</td>\n",
       "      <td>{'C': 0.2, 'class_weight': 'balanced'}</td>\n",
       "    </tr>\n",
       "    <tr>\n",
       "      <th>4</th>\n",
       "      <td>(StandardScaler(), LogisticRegression(C=0.3000...</td>\n",
       "      <td>0.607853</td>\n",
       "      <td>{'C': 0.30000000000000004, 'class_weight': None}</td>\n",
       "    </tr>\n",
       "    <tr>\n",
       "      <th>5</th>\n",
       "      <td>(StandardScaler(), LogisticRegression(C=0.3000...</td>\n",
       "      <td>0.607729</td>\n",
       "      <td>{'C': 0.30000000000000004, 'class_weight': 'ba...</td>\n",
       "    </tr>\n",
       "    <tr>\n",
       "      <th>6</th>\n",
       "      <td>(StandardScaler(), LogisticRegression(C=0.4))</td>\n",
       "      <td>0.607853</td>\n",
       "      <td>{'C': 0.4, 'class_weight': None}</td>\n",
       "    </tr>\n",
       "    <tr>\n",
       "      <th>7</th>\n",
       "      <td>(StandardScaler(), LogisticRegression(C=0.4, c...</td>\n",
       "      <td>0.607730</td>\n",
       "      <td>{'C': 0.4, 'class_weight': 'balanced'}</td>\n",
       "    </tr>\n",
       "    <tr>\n",
       "      <th>8</th>\n",
       "      <td>(StandardScaler(), LogisticRegression(C=0.5))</td>\n",
       "      <td>0.607853</td>\n",
       "      <td>{'C': 0.5, 'class_weight': None}</td>\n",
       "    </tr>\n",
       "    <tr>\n",
       "      <th>9</th>\n",
       "      <td>(StandardScaler(), LogisticRegression(C=0.5, c...</td>\n",
       "      <td>0.607730</td>\n",
       "      <td>{'C': 0.5, 'class_weight': 'balanced'}</td>\n",
       "    </tr>\n",
       "    <tr>\n",
       "      <th>10</th>\n",
       "      <td>(StandardScaler(), LogisticRegression(C=0.6000...</td>\n",
       "      <td>0.607853</td>\n",
       "      <td>{'C': 0.6000000000000001, 'class_weight': None}</td>\n",
       "    </tr>\n",
       "    <tr>\n",
       "      <th>11</th>\n",
       "      <td>(StandardScaler(), LogisticRegression(C=0.6000...</td>\n",
       "      <td>0.607729</td>\n",
       "      <td>{'C': 0.6000000000000001, 'class_weight': 'bal...</td>\n",
       "    </tr>\n",
       "    <tr>\n",
       "      <th>12</th>\n",
       "      <td>(StandardScaler(), LogisticRegression(C=0.7000...</td>\n",
       "      <td>0.607853</td>\n",
       "      <td>{'C': 0.7000000000000001, 'class_weight': None}</td>\n",
       "    </tr>\n",
       "    <tr>\n",
       "      <th>13</th>\n",
       "      <td>(StandardScaler(), LogisticRegression(C=0.7000...</td>\n",
       "      <td>0.607729</td>\n",
       "      <td>{'C': 0.7000000000000001, 'class_weight': 'bal...</td>\n",
       "    </tr>\n",
       "    <tr>\n",
       "      <th>14</th>\n",
       "      <td>(StandardScaler(), LogisticRegression(C=0.8))</td>\n",
       "      <td>0.607852</td>\n",
       "      <td>{'C': 0.8, 'class_weight': None}</td>\n",
       "    </tr>\n",
       "    <tr>\n",
       "      <th>15</th>\n",
       "      <td>(StandardScaler(), LogisticRegression(C=0.8, c...</td>\n",
       "      <td>0.607729</td>\n",
       "      <td>{'C': 0.8, 'class_weight': 'balanced'}</td>\n",
       "    </tr>\n",
       "    <tr>\n",
       "      <th>16</th>\n",
       "      <td>(StandardScaler(), LogisticRegression(C=0.9))</td>\n",
       "      <td>0.607852</td>\n",
       "      <td>{'C': 0.9, 'class_weight': None}</td>\n",
       "    </tr>\n",
       "    <tr>\n",
       "      <th>17</th>\n",
       "      <td>(StandardScaler(), LogisticRegression(C=0.9, c...</td>\n",
       "      <td>0.607729</td>\n",
       "      <td>{'C': 0.9, 'class_weight': 'balanced'}</td>\n",
       "    </tr>\n",
       "    <tr>\n",
       "      <th>18</th>\n",
       "      <td>(StandardScaler(), LogisticRegression())</td>\n",
       "      <td>0.607853</td>\n",
       "      <td>{'C': 1.0, 'class_weight': None}</td>\n",
       "    </tr>\n",
       "    <tr>\n",
       "      <th>19</th>\n",
       "      <td>(StandardScaler(), LogisticRegression(class_we...</td>\n",
       "      <td>0.607729</td>\n",
       "      <td>{'C': 1.0, 'class_weight': 'balanced'}</td>\n",
       "    </tr>\n",
       "  </tbody>\n",
       "</table>\n",
       "</div>"
      ],
      "text/plain": [
       "                                             pipeline  val_avgprec  \\\n",
       "0       (StandardScaler(), LogisticRegression(C=0.1))     0.607843   \n",
       "1   (StandardScaler(), LogisticRegression(C=0.1, c...     0.607729   \n",
       "2       (StandardScaler(), LogisticRegression(C=0.2))     0.607849   \n",
       "3   (StandardScaler(), LogisticRegression(C=0.2, c...     0.607730   \n",
       "4   (StandardScaler(), LogisticRegression(C=0.3000...     0.607853   \n",
       "5   (StandardScaler(), LogisticRegression(C=0.3000...     0.607729   \n",
       "6       (StandardScaler(), LogisticRegression(C=0.4))     0.607853   \n",
       "7   (StandardScaler(), LogisticRegression(C=0.4, c...     0.607730   \n",
       "8       (StandardScaler(), LogisticRegression(C=0.5))     0.607853   \n",
       "9   (StandardScaler(), LogisticRegression(C=0.5, c...     0.607730   \n",
       "10  (StandardScaler(), LogisticRegression(C=0.6000...     0.607853   \n",
       "11  (StandardScaler(), LogisticRegression(C=0.6000...     0.607729   \n",
       "12  (StandardScaler(), LogisticRegression(C=0.7000...     0.607853   \n",
       "13  (StandardScaler(), LogisticRegression(C=0.7000...     0.607729   \n",
       "14      (StandardScaler(), LogisticRegression(C=0.8))     0.607852   \n",
       "15  (StandardScaler(), LogisticRegression(C=0.8, c...     0.607729   \n",
       "16      (StandardScaler(), LogisticRegression(C=0.9))     0.607852   \n",
       "17  (StandardScaler(), LogisticRegression(C=0.9, c...     0.607729   \n",
       "18           (StandardScaler(), LogisticRegression())     0.607853   \n",
       "19  (StandardScaler(), LogisticRegression(class_we...     0.607729   \n",
       "\n",
       "                                               params  \n",
       "0                    {'C': 0.1, 'class_weight': None}  \n",
       "1              {'C': 0.1, 'class_weight': 'balanced'}  \n",
       "2                    {'C': 0.2, 'class_weight': None}  \n",
       "3              {'C': 0.2, 'class_weight': 'balanced'}  \n",
       "4    {'C': 0.30000000000000004, 'class_weight': None}  \n",
       "5   {'C': 0.30000000000000004, 'class_weight': 'ba...  \n",
       "6                    {'C': 0.4, 'class_weight': None}  \n",
       "7              {'C': 0.4, 'class_weight': 'balanced'}  \n",
       "8                    {'C': 0.5, 'class_weight': None}  \n",
       "9              {'C': 0.5, 'class_weight': 'balanced'}  \n",
       "10    {'C': 0.6000000000000001, 'class_weight': None}  \n",
       "11  {'C': 0.6000000000000001, 'class_weight': 'bal...  \n",
       "12    {'C': 0.7000000000000001, 'class_weight': None}  \n",
       "13  {'C': 0.7000000000000001, 'class_weight': 'bal...  \n",
       "14                   {'C': 0.8, 'class_weight': None}  \n",
       "15             {'C': 0.8, 'class_weight': 'balanced'}  \n",
       "16                   {'C': 0.9, 'class_weight': None}  \n",
       "17             {'C': 0.9, 'class_weight': 'balanced'}  \n",
       "18                   {'C': 1.0, 'class_weight': None}  \n",
       "19             {'C': 1.0, 'class_weight': 'balanced'}  "
      ]
     },
     "execution_count": 464,
     "metadata": {},
     "output_type": "execute_result"
    }
   ],
   "source": [
    "Uparams = dict(C=np.linspace(0,1,11)[1:],class_weight=[None,'balanced'])\n",
    "params = ParameterGrid(Uparams)\n",
    "logs = list()\n",
    "for param in params:\n",
    "    pipeline = make_pipeline(StandardScaler(),LogisticRegression(**param))\n",
    "    pipeline.fit(X_train,y_train)\n",
    "    logits = pipeline.predict_proba(X_val)[:,1]\n",
    "    avgprec = average_precision_score(y_val,logits)\n",
    "    log = {'pipeline':pipeline,'val_avgprec':avgprec,'params':param}\n",
    "    logs.append(log)\n",
    "\n",
    "pd.DataFrame(logs)"
   ]
  },
  {
   "cell_type": "markdown",
   "id": "9d7c5a3f-073a-40d2-998f-c078d48419cc",
   "metadata": {},
   "source": [
    "#### full predictive val avgprecision"
   ]
  },
  {
   "cell_type": "code",
   "execution_count": 473,
   "id": "06fdba8f-47b3-438e-98f1-2855ec47a986",
   "metadata": {},
   "outputs": [
    {
     "data": {
      "text/plain": [
       "Pipeline(steps=[('standardscaler', StandardScaler()),\n",
       "                ('logisticregression', LogisticRegression(C=0.4))])"
      ]
     },
     "execution_count": 473,
     "metadata": {},
     "output_type": "execute_result"
    }
   ],
   "source": [
    "best_model = pd.DataFrame(logs).sort_values('val_avgprec').tail(1)\n",
    "best_model['pipeline'].iloc[0]"
   ]
  },
  {
   "cell_type": "markdown",
   "id": "dd357323-bb6e-4337-b79a-bdd0ca523358",
   "metadata": {},
   "source": [
    "#### baseline val avgprec"
   ]
  },
  {
   "cell_type": "code",
   "execution_count": 466,
   "id": "e2a82b72-7087-49ed-85b9-15786dd93767",
   "metadata": {},
   "outputs": [
    {
     "data": {
      "text/plain": [
       "0.6047927733465981"
      ]
     },
     "execution_count": 466,
     "metadata": {},
     "output_type": "execute_result"
    }
   ],
   "source": [
    "average_precision_score(y_val,X_val[:,0])"
   ]
  },
  {
   "cell_type": "markdown",
   "id": "f5df5776-783d-45bf-a020-1e295a941022",
   "metadata": {},
   "source": [
    "#### Build dataset diagnostic wise"
   ]
  },
  {
   "cell_type": "code",
   "execution_count": 467,
   "id": "1cd3ad48-d5b5-4856-848a-59cb49588897",
   "metadata": {
    "collapsed": true,
    "jupyter": {
     "outputs_hidden": true
    },
    "tags": []
   },
   "outputs": [
    {
     "name": "stdout",
     "output_type": "stream",
     "text": [
      "Iterating the dataloader to produce the TP/FP dataset\n"
     ]
    },
    {
     "data": {
      "application/vnd.jupyter.widget-view+json": {
       "model_id": "17375dd5e10c43d9afe7f20bfe32201f",
       "version_major": 2,
       "version_minor": 0
      },
      "text/plain": [
       "  0%|          | 0/1313 [00:00<?, ?it/s]"
      ]
     },
     "metadata": {},
     "output_type": "display_data"
    },
    {
     "name": "stdout",
     "output_type": "stream",
     "text": [
      "Starting to iterate TPFP dataset to compute statistics and original average precision\n"
     ]
    },
    {
     "data": {
      "application/vnd.jupyter.widget-view+json": {
       "model_id": "024ef14802b84f888998a28c7acc93a7",
       "version_major": 2,
       "version_minor": 0
      },
      "text/plain": [
       "  0%|          | 0/283 [00:00<?, ?it/s]"
      ]
     },
     "metadata": {},
     "output_type": "display_data"
    },
    {
     "name": "stdout",
     "output_type": "stream",
     "text": [
      "Iterating the dataloader to produce the TP/FP dataset\n"
     ]
    },
    {
     "data": {
      "application/vnd.jupyter.widget-view+json": {
       "model_id": "9e298b8f0273486c9b37cf6a25cde753",
       "version_major": 2,
       "version_minor": 0
      },
      "text/plain": [
       "  0%|          | 0/36 [00:00<?, ?it/s]"
      ]
     },
     "metadata": {},
     "output_type": "display_data"
    },
    {
     "name": "stdout",
     "output_type": "stream",
     "text": [
      "Starting to iterate TPFP dataset to compute statistics and original average precision\n"
     ]
    },
    {
     "data": {
      "application/vnd.jupyter.widget-view+json": {
       "model_id": "5ca082441c9f4b6c9af6db4496cbf74e",
       "version_major": 2,
       "version_minor": 0
      },
      "text/plain": [
       "  0%|          | 0/283 [00:00<?, ?it/s]"
      ]
     },
     "metadata": {},
     "output_type": "display_data"
    }
   ],
   "source": [
    "dataset_train = build_tp_fp_dataset(mlp_mc_model,train_dataloader,None,topk=topk,stats_fun=compute_predictive_stats_V3)\n",
    "build_tp_fp_statistics(dataset_train)\n",
    "\n",
    "dataset_val = build_tp_fp_dataset(mlp_mc_model,val_dataloader,None,topk=topk,stats_fun=compute_predictive_stats_V3)\n",
    "build_tp_fp_statistics(dataset_val)"
   ]
  },
  {
   "cell_type": "code",
   "execution_count": 162,
   "id": "90e8b536-dcd8-4bcf-b82a-4ed2d645c371",
   "metadata": {},
   "outputs": [
    {
     "data": {
      "text/plain": [
       "dict_keys(['features', 'target', 'size', 'n_positives', 'pos_prevalence', 'avgprec'])"
      ]
     },
     "execution_count": 162,
     "metadata": {},
     "output_type": "execute_result"
    },
    {
     "data": {
      "text/plain": [
       "dict_keys(['original'])"
      ]
     },
     "execution_count": 162,
     "metadata": {},
     "output_type": "execute_result"
    },
    {
     "data": {
      "text/plain": [
       "{'full': 0.848492865159532, 'mean': nan, 'std': nan}"
      ]
     },
     "execution_count": 162,
     "metadata": {},
     "output_type": "execute_result"
    }
   ],
   "source": [
    "dataset_train[0].keys()\n",
    "dataset_train[0]['avgprec'].keys()\n",
    "dataset_train[0]['avgprec']['original']"
   ]
  },
  {
   "cell_type": "markdown",
   "id": "5dac8bbf-86d1-4578-8bbb-2152eff5bdf1",
   "metadata": {},
   "source": [
    "#### compute average precision diagnostic-wise"
   ]
  },
  {
   "cell_type": "code",
   "execution_count": 474,
   "id": "e2566d97-5691-41c4-bc6c-526bc88aac1b",
   "metadata": {
    "collapsed": true,
    "jupyter": {
     "outputs_hidden": true
    },
    "tags": []
   },
   "outputs": [
    {
     "data": {
      "application/vnd.jupyter.widget-view+json": {
       "model_id": "b98b91bad83845d7ad8b90d596b60957",
       "version_major": 2,
       "version_minor": 0
      },
      "text/plain": [
       "  0%|          | 0/283 [00:00<?, ?it/s]"
      ]
     },
     "metadata": {},
     "output_type": "display_data"
    },
    {
     "name": "stderr",
     "output_type": "stream",
     "text": [
      "/home/debian/Simao/miniconda3/envs/thesis/lib/python3.10/site-packages/sklearn/metrics/_ranking.py:864: RuntimeWarning: invalid value encountered in true_divide\n",
      "  recall = tps / tps[-1]\n",
      "/home/debian/Simao/miniconda3/envs/thesis/lib/python3.10/site-packages/sklearn/metrics/_ranking.py:864: RuntimeWarning: invalid value encountered in true_divide\n",
      "  recall = tps / tps[-1]\n",
      "/home/debian/Simao/miniconda3/envs/thesis/lib/python3.10/site-packages/sklearn/metrics/_ranking.py:864: RuntimeWarning: invalid value encountered in true_divide\n",
      "  recall = tps / tps[-1]\n",
      "/home/debian/Simao/miniconda3/envs/thesis/lib/python3.10/site-packages/sklearn/metrics/_ranking.py:864: RuntimeWarning: invalid value encountered in true_divide\n",
      "  recall = tps / tps[-1]\n",
      "/home/debian/Simao/miniconda3/envs/thesis/lib/python3.10/site-packages/sklearn/metrics/_ranking.py:864: RuntimeWarning: invalid value encountered in true_divide\n",
      "  recall = tps / tps[-1]\n",
      "/home/debian/Simao/miniconda3/envs/thesis/lib/python3.10/site-packages/sklearn/metrics/_ranking.py:864: RuntimeWarning: invalid value encountered in true_divide\n",
      "  recall = tps / tps[-1]\n",
      "/home/debian/Simao/miniconda3/envs/thesis/lib/python3.10/site-packages/sklearn/metrics/_ranking.py:864: RuntimeWarning: invalid value encountered in true_divide\n",
      "  recall = tps / tps[-1]\n",
      "/home/debian/Simao/miniconda3/envs/thesis/lib/python3.10/site-packages/sklearn/metrics/_ranking.py:864: RuntimeWarning: invalid value encountered in true_divide\n",
      "  recall = tps / tps[-1]\n",
      "/home/debian/Simao/miniconda3/envs/thesis/lib/python3.10/site-packages/sklearn/metrics/_ranking.py:864: RuntimeWarning: invalid value encountered in true_divide\n",
      "  recall = tps / tps[-1]\n",
      "/home/debian/Simao/miniconda3/envs/thesis/lib/python3.10/site-packages/sklearn/metrics/_ranking.py:864: RuntimeWarning: invalid value encountered in true_divide\n",
      "  recall = tps / tps[-1]\n",
      "/home/debian/Simao/miniconda3/envs/thesis/lib/python3.10/site-packages/sklearn/metrics/_ranking.py:864: RuntimeWarning: invalid value encountered in true_divide\n",
      "  recall = tps / tps[-1]\n",
      "/home/debian/Simao/miniconda3/envs/thesis/lib/python3.10/site-packages/sklearn/metrics/_ranking.py:864: RuntimeWarning: invalid value encountered in true_divide\n",
      "  recall = tps / tps[-1]\n",
      "/home/debian/Simao/miniconda3/envs/thesis/lib/python3.10/site-packages/sklearn/metrics/_ranking.py:864: RuntimeWarning: invalid value encountered in true_divide\n",
      "  recall = tps / tps[-1]\n",
      "/home/debian/Simao/miniconda3/envs/thesis/lib/python3.10/site-packages/sklearn/metrics/_ranking.py:864: RuntimeWarning: invalid value encountered in true_divide\n",
      "  recall = tps / tps[-1]\n",
      "/home/debian/Simao/miniconda3/envs/thesis/lib/python3.10/site-packages/sklearn/metrics/_ranking.py:864: RuntimeWarning: invalid value encountered in true_divide\n",
      "  recall = tps / tps[-1]\n",
      "/home/debian/Simao/miniconda3/envs/thesis/lib/python3.10/site-packages/sklearn/metrics/_ranking.py:864: RuntimeWarning: invalid value encountered in true_divide\n",
      "  recall = tps / tps[-1]\n",
      "/home/debian/Simao/miniconda3/envs/thesis/lib/python3.10/site-packages/sklearn/metrics/_ranking.py:864: RuntimeWarning: invalid value encountered in true_divide\n",
      "  recall = tps / tps[-1]\n",
      "/home/debian/Simao/miniconda3/envs/thesis/lib/python3.10/site-packages/sklearn/metrics/_ranking.py:864: RuntimeWarning: invalid value encountered in true_divide\n",
      "  recall = tps / tps[-1]\n",
      "/home/debian/Simao/miniconda3/envs/thesis/lib/python3.10/site-packages/sklearn/metrics/_ranking.py:864: RuntimeWarning: invalid value encountered in true_divide\n",
      "  recall = tps / tps[-1]\n"
     ]
    }
   ],
   "source": [
    "for diag in tqdm(dataset_train):\n",
    "    dataset_train[diag]['pipeline'] = best_model['pipeline'].iloc[0]\n",
    "    dataset_val[diag]['pipeline'] = best_model['pipeline'].iloc[0]\n",
    "    dataset_val[diag]['avgprec']['full_predictive'] = dict()\n",
    "    dataset_train[diag]['avgprec']['full_predictive'] = dict()\n",
    "    if dataset_val[diag]['size'] > 0:\n",
    "        dataset_val[diag]['avgprec']['full_predictive']['full'] = average_precision_score(dataset_val[diag]['target'],\n",
    "                                                                                          dataset_val[diag]['pipeline'].predict_proba(dataset_val[diag]['features'])[:,1]\n",
    "                                                                                         )\n",
    "    else:\n",
    "        dataset_val[diag]['avgprec']['full_predictive']['full'] = np.nan\n",
    "    if dataset_train[diag]['size'] > 0:\n",
    "        dataset_train[diag]['avgprec']['full_predictive']['full'] = average_precision_score(dataset_train[diag]['target'],\n",
    "                                                                                          dataset_train[diag]['pipeline'].predict_proba(dataset_train[diag]['features'])[:,1]\n",
    "                                                                                         )\n",
    "    else:\n",
    "        dataset_train[diag]['avgprec']['full_predictive']['full'] = np.nan\n",
    "        "
   ]
  },
  {
   "cell_type": "markdown",
   "id": "c96bacab-e78d-440e-afed-b5c0bde1a877",
   "metadata": {},
   "source": [
    "test if we reach the same weighted avg precision"
   ]
  },
  {
   "cell_type": "code",
   "execution_count": 478,
   "id": "ec65836c-f7dc-4825-a7c5-acae253bc5e2",
   "metadata": {},
   "outputs": [
    {
     "data": {
      "text/plain": [
       "0.562797986612788"
      ]
     },
     "execution_count": 478,
     "metadata": {},
     "output_type": "execute_result"
    },
    {
     "data": {
      "text/plain": [
       "0.5636906684167523"
      ]
     },
     "execution_count": 478,
     "metadata": {},
     "output_type": "execute_result"
    }
   ],
   "source": [
    "logs = list()\n",
    "for diag in dataset_val:\n",
    "    log = dict()\n",
    "    log['original_train_avgprec'] = dataset_train[diag]['avgprec']['original']['full']\n",
    "    log['full_predictive_train_avgprec'] = dataset_train[diag]['avgprec']['full_predictive']['full']\n",
    "    log['original_val_avgprec'] = dataset_val[diag]['avgprec']['original']['full']\n",
    "    log['full_predictive_val_avgprec'] = dataset_val[diag]['avgprec']['full_predictive']['full']\n",
    "    log['n_positives_val'] = dataset_val[diag]['n_positives']\n",
    "    log['n_positives_train'] = dataset_train[diag]['n_positives']    \n",
    "    log['pos prevalence'] = dataset_val[diag]['pos_prevalence']\n",
    "    log['size'] = dataset_val[diag]['size']\n",
    "    log['diag'] = diag\n",
    "    logs.append(log)\n",
    "\n",
    "df = pd.DataFrame(logs)\n",
    "df['diff'] = df.full_predictive_val_avgprec - df.original_val_avgprec\n",
    "\n",
    "original_wavgprec = (df.original_val_avgprec * df.n_positives_val).sum() / df.n_positives_val.sum()\n",
    "full_predictive_val_avgprec = (df.full_predictive_val_avgprec * df.n_positives_val).sum() / df.n_positives_val.sum()\n",
    "\n",
    "original_wavgprec\n",
    "full_predictive_val_avgprec"
   ]
  },
  {
   "cell_type": "code",
   "execution_count": 450,
   "id": "79624e7e-1bdf-47df-b439-11968a024569",
   "metadata": {},
   "outputs": [],
   "source": [
    "better_mask = df.full_predictive_val_avgprec > df.original_val_avgprec\n",
    "worse_mask = df.full_predictive_val_avgprec < df.original_val_avgprec\n",
    "better_train_mask = df.full_predictive_train_avgprec > df.original_train_avgprec\n",
    "diff_above_3 = df['diff'] > 0.03\n",
    "diff_below_minus_3 = df['diff'] < -0.03"
   ]
  },
  {
   "cell_type": "code",
   "execution_count": 493,
   "id": "60028b56-dad1-46ad-b80b-59e0ba3f0f7a",
   "metadata": {},
   "outputs": [
    {
     "name": "stdout",
     "output_type": "stream",
     "text": [
      "\\begin{tabular}{lrrrrrrr}\n",
      "\\toprule\n",
      "{} &   min &     5\\% &    25\\% &  50\\% &    75\\% &    95\\% &    max \\\\\n",
      "\\midrule\n",
      "diff & -0.25 & -0.042 & -0.003 &  0.0 &  0.006 &  0.056 &  0.317 \\\\\n",
      "\\bottomrule\n",
      "\\end{tabular}\n",
      "\n"
     ]
    },
    {
     "name": "stderr",
     "output_type": "stream",
     "text": [
      "/tmp/ipykernel_19415/692714521.py:1: FutureWarning: In future versions `DataFrame.to_latex` is expected to utilise the base implementation of `Styler.to_latex` for formatting and rendering. The arguments signature may therefore change. It is recommended instead to use `DataFrame.style.to_latex` which also contains additional functionality.\n",
      "  print(df['diff'].describe(percentiles=[0.05,0.25,0.5,0.75,0.95]).to_frame().T.iloc[:,3:].round(3).to_latex())\n"
     ]
    }
   ],
   "source": [
    "print(df['diff'].describe(percentiles=[0.05,0.25,0.5,0.75,0.95]).to_frame().T.iloc[:,3:].round(3).to_latex())"
   ]
  },
  {
   "cell_type": "code",
   "execution_count": 502,
   "id": "853a5c9d-cce9-4fa4-ab50-1aa2510c25bf",
   "metadata": {},
   "outputs": [
    {
     "data": {
      "text/plain": [
       "0.5652593077888327"
      ]
     },
     "execution_count": 502,
     "metadata": {},
     "output_type": "execute_result"
    }
   ],
   "source": [
    "df['best_val_avgprec'] = np.where(df['full_predictive_val_avgprec'] > df['original_val_avgprec'],df['full_predictive_val_avgprec'],df['original_val_avgprec'])\n",
    "avgprec_best = (df['best_val_avgprec'] * df['n_positives_val']).sum() / df['n_positives_val'].sum()\n",
    "avgprec_best"
   ]
  },
  {
   "cell_type": "code",
   "execution_count": 505,
   "id": "80e3e82d-733f-4e76-9c8e-74237a7e0ed6",
   "metadata": {},
   "outputs": [
    {
     "data": {
      "text/plain": [
       "0.029121242057457985"
      ]
     },
     "execution_count": 505,
     "metadata": {},
     "output_type": "execute_result"
    }
   ],
   "source": [
    "df[df['diff'] > 0]['diff'].mean()"
   ]
  },
  {
   "cell_type": "code",
   "execution_count": 497,
   "id": "0ad5e435-0224-4921-abb7-b9dd8547eb25",
   "metadata": {},
   "outputs": [
    {
     "data": {
      "text/html": [
       "<div>\n",
       "<style scoped>\n",
       "    .dataframe tbody tr th:only-of-type {\n",
       "        vertical-align: middle;\n",
       "    }\n",
       "\n",
       "    .dataframe tbody tr th {\n",
       "        vertical-align: top;\n",
       "    }\n",
       "\n",
       "    .dataframe thead th {\n",
       "        text-align: right;\n",
       "    }\n",
       "</style>\n",
       "<table border=\"1\" class=\"dataframe\">\n",
       "  <thead>\n",
       "    <tr style=\"text-align: right;\">\n",
       "      <th></th>\n",
       "      <th>original_val_avgprec</th>\n",
       "      <th>full_predictive_val_avgprec</th>\n",
       "      <th>pos prevalence</th>\n",
       "      <th>size</th>\n",
       "      <th>diff</th>\n",
       "      <th>ccs description</th>\n",
       "    </tr>\n",
       "    <tr>\n",
       "      <th>ccs</th>\n",
       "      <th></th>\n",
       "      <th></th>\n",
       "      <th></th>\n",
       "      <th></th>\n",
       "      <th></th>\n",
       "      <th></th>\n",
       "    </tr>\n",
       "  </thead>\n",
       "  <tbody>\n",
       "    <tr>\n",
       "      <th>221</th>\n",
       "      <td>0.321</td>\n",
       "      <td>0.577</td>\n",
       "      <td>0.143</td>\n",
       "      <td>14</td>\n",
       "      <td>0.255</td>\n",
       "      <td>Respiratory distress syndrome</td>\n",
       "    </tr>\n",
       "    <tr>\n",
       "      <th>198</th>\n",
       "      <td>0.333</td>\n",
       "      <td>0.500</td>\n",
       "      <td>0.167</td>\n",
       "      <td>6</td>\n",
       "      <td>0.167</td>\n",
       "      <td>Other inflammatory condition of skin</td>\n",
       "    </tr>\n",
       "    <tr>\n",
       "      <th>126</th>\n",
       "      <td>0.167</td>\n",
       "      <td>0.333</td>\n",
       "      <td>0.053</td>\n",
       "      <td>19</td>\n",
       "      <td>0.167</td>\n",
       "      <td>Other upper respiratory infections</td>\n",
       "    </tr>\n",
       "    <tr>\n",
       "      <th>662</th>\n",
       "      <td>0.556</td>\n",
       "      <td>0.722</td>\n",
       "      <td>0.231</td>\n",
       "      <td>13</td>\n",
       "      <td>0.167</td>\n",
       "      <td>Suicide and intentional self-inflicted injury</td>\n",
       "    </tr>\n",
       "    <tr>\n",
       "      <th>121</th>\n",
       "      <td>0.626</td>\n",
       "      <td>0.673</td>\n",
       "      <td>0.250</td>\n",
       "      <td>28</td>\n",
       "      <td>0.048</td>\n",
       "      <td>Other diseases of veins and lymphatics</td>\n",
       "    </tr>\n",
       "    <tr>\n",
       "      <th>135</th>\n",
       "      <td>0.175</td>\n",
       "      <td>0.220</td>\n",
       "      <td>0.100</td>\n",
       "      <td>40</td>\n",
       "      <td>0.045</td>\n",
       "      <td>Intestinal infection</td>\n",
       "    </tr>\n",
       "    <tr>\n",
       "      <th>156</th>\n",
       "      <td>0.461</td>\n",
       "      <td>0.505</td>\n",
       "      <td>0.212</td>\n",
       "      <td>104</td>\n",
       "      <td>0.044</td>\n",
       "      <td>Nephritis; nephrosis; renal sclerosis</td>\n",
       "    </tr>\n",
       "    <tr>\n",
       "      <th>217</th>\n",
       "      <td>0.865</td>\n",
       "      <td>0.903</td>\n",
       "      <td>0.450</td>\n",
       "      <td>20</td>\n",
       "      <td>0.039</td>\n",
       "      <td>Other congenital anomalies</td>\n",
       "    </tr>\n",
       "    <tr>\n",
       "      <th>88</th>\n",
       "      <td>0.904</td>\n",
       "      <td>0.926</td>\n",
       "      <td>0.444</td>\n",
       "      <td>18</td>\n",
       "      <td>0.022</td>\n",
       "      <td>Glaucoma</td>\n",
       "    </tr>\n",
       "    <tr>\n",
       "      <th>7</th>\n",
       "      <td>0.450</td>\n",
       "      <td>0.472</td>\n",
       "      <td>0.278</td>\n",
       "      <td>18</td>\n",
       "      <td>0.022</td>\n",
       "      <td>Viral infection</td>\n",
       "    </tr>\n",
       "  </tbody>\n",
       "</table>\n",
       "</div>"
      ],
      "text/plain": [
       "     original_val_avgprec  full_predictive_val_avgprec  pos prevalence  size  \\\n",
       "ccs                                                                            \n",
       "221                 0.321                        0.577           0.143    14   \n",
       "198                 0.333                        0.500           0.167     6   \n",
       "126                 0.167                        0.333           0.053    19   \n",
       "662                 0.556                        0.722           0.231    13   \n",
       "121                 0.626                        0.673           0.250    28   \n",
       "135                 0.175                        0.220           0.100    40   \n",
       "156                 0.461                        0.505           0.212   104   \n",
       "217                 0.865                        0.903           0.450    20   \n",
       "88                  0.904                        0.926           0.444    18   \n",
       "7                   0.450                        0.472           0.278    18   \n",
       "\n",
       "      diff                                ccs description  \n",
       "ccs                                                        \n",
       "221  0.255                  Respiratory distress syndrome  \n",
       "198  0.167           Other inflammatory condition of skin  \n",
       "126  0.167             Other upper respiratory infections  \n",
       "662  0.167  Suicide and intentional self-inflicted injury  \n",
       "121  0.048         Other diseases of veins and lymphatics  \n",
       "135  0.045                           Intestinal infection  \n",
       "156  0.044          Nephritis; nephrosis; renal sclerosis  \n",
       "217  0.039                     Other congenital anomalies  \n",
       "88   0.022                                       Glaucoma  \n",
       "7    0.022                                Viral infection  "
      ]
     },
     "execution_count": 497,
     "metadata": {},
     "output_type": "execute_result"
    },
    {
     "name": "stdout",
     "output_type": "stream",
     "text": [
      "\\begin{tabular}{lrrrrrl}\n",
      "\\toprule\n",
      "{} &  original\\_val\\_avgprec &  full\\_predictive\\_val\\_avgprec &  pos prevalence &  size &   diff &                                ccs description \\\\\n",
      "ccs &                       &                              &                 &       &        &                                                \\\\\n",
      "\\midrule\n",
      "221 &                 0.321 &                        0.577 &           0.143 &    14 &  0.255 &                  Respiratory distress syndrome \\\\\n",
      "198 &                 0.333 &                        0.500 &           0.167 &     6 &  0.167 &           Other inflammatory condition of skin \\\\\n",
      "126 &                 0.167 &                        0.333 &           0.053 &    19 &  0.167 &             Other upper respiratory infections \\\\\n",
      "662 &                 0.556 &                        0.722 &           0.231 &    13 &  0.167 &  Suicide and intentional self-inflicted injury \\\\\n",
      "121 &                 0.626 &                        0.673 &           0.250 &    28 &  0.048 &         Other diseases of veins and lymphatics \\\\\n",
      "135 &                 0.175 &                        0.220 &           0.100 &    40 &  0.045 &                           Intestinal infection \\\\\n",
      "156 &                 0.461 &                        0.505 &           0.212 &   104 &  0.044 &          Nephritis; nephrosis; renal sclerosis \\\\\n",
      "217 &                 0.865 &                        0.903 &           0.450 &    20 &  0.039 &                     Other congenital anomalies \\\\\n",
      "88  &                 0.904 &                        0.926 &           0.444 &    18 &  0.022 &                                       Glaucoma \\\\\n",
      "7   &                 0.450 &                        0.472 &           0.278 &    18 &  0.022 &                                Viral infection \\\\\n",
      "\\bottomrule\n",
      "\\end{tabular}\n",
      "\n"
     ]
    },
    {
     "name": "stderr",
     "output_type": "stream",
     "text": [
      "/tmp/ipykernel_19415/1104944762.py:7: FutureWarning: In future versions `DataFrame.to_latex` is expected to utilise the base implementation of `Styler.to_latex` for formatting and rendering. The arguments signature may therefore change. It is recommended instead to use `DataFrame.style.to_latex` which also contains additional functionality.\n",
      "  print(a.head(10).round(3).to_latex())\n"
     ]
    }
   ],
   "source": [
    "a = df.loc[better_mask,:].sort_values('diff',ascending=False).drop(columns=['original_train_avgprec','full_predictive_train_avgprec','n_positives_val','n_positives_train']).round(3)\n",
    "\n",
    "a['ccs'] = [dataset.grouping_data['ccs']['int2code'][e] for e in a.index]\n",
    "a['ccs description'] = icdmap.lookup('ccstodescription',a['ccs'])\n",
    "a = a.set_index('ccs').drop(columns='diag')\n",
    "a.head(10)\n",
    "print(a.head(10).round(3).to_latex())"
   ]
  },
  {
   "cell_type": "markdown",
   "id": "f45a93c6-1881-4d69-975d-c15da1d156d8",
   "metadata": {},
   "source": [
    "and where it performed worst"
   ]
  },
  {
   "cell_type": "code",
   "execution_count": 498,
   "id": "a845248e-9fe1-4b08-8d0f-838cde7b56bf",
   "metadata": {},
   "outputs": [
    {
     "data": {
      "text/html": [
       "<div>\n",
       "<style scoped>\n",
       "    .dataframe tbody tr th:only-of-type {\n",
       "        vertical-align: middle;\n",
       "    }\n",
       "\n",
       "    .dataframe tbody tr th {\n",
       "        vertical-align: top;\n",
       "    }\n",
       "\n",
       "    .dataframe thead th {\n",
       "        text-align: right;\n",
       "    }\n",
       "</style>\n",
       "<table border=\"1\" class=\"dataframe\">\n",
       "  <thead>\n",
       "    <tr style=\"text-align: right;\">\n",
       "      <th></th>\n",
       "      <th>original_val_avgprec</th>\n",
       "      <th>full_predictive_val_avgprec</th>\n",
       "      <th>pos prevalence</th>\n",
       "      <th>size</th>\n",
       "      <th>diff</th>\n",
       "      <th>ccs description</th>\n",
       "    </tr>\n",
       "    <tr>\n",
       "      <th>ccs</th>\n",
       "      <th></th>\n",
       "      <th></th>\n",
       "      <th></th>\n",
       "      <th></th>\n",
       "      <th></th>\n",
       "      <th></th>\n",
       "    </tr>\n",
       "  </thead>\n",
       "  <tbody>\n",
       "    <tr>\n",
       "      <th>197</th>\n",
       "      <td>0.583</td>\n",
       "      <td>0.350</td>\n",
       "      <td>0.105</td>\n",
       "      <td>19</td>\n",
       "      <td>-0.233</td>\n",
       "      <td>Skin and subcutaneous tissue infections</td>\n",
       "    </tr>\n",
       "    <tr>\n",
       "      <th>223</th>\n",
       "      <td>0.167</td>\n",
       "      <td>0.111</td>\n",
       "      <td>0.091</td>\n",
       "      <td>11</td>\n",
       "      <td>-0.056</td>\n",
       "      <td>Birth trauma</td>\n",
       "    </tr>\n",
       "    <tr>\n",
       "      <th>4</th>\n",
       "      <td>0.364</td>\n",
       "      <td>0.316</td>\n",
       "      <td>0.129</td>\n",
       "      <td>85</td>\n",
       "      <td>-0.048</td>\n",
       "      <td>Mycoses</td>\n",
       "    </tr>\n",
       "    <tr>\n",
       "      <th>205</th>\n",
       "      <td>0.366</td>\n",
       "      <td>0.322</td>\n",
       "      <td>0.290</td>\n",
       "      <td>69</td>\n",
       "      <td>-0.043</td>\n",
       "      <td>Spondylosis; intervertebral disc disorders; ot...</td>\n",
       "    </tr>\n",
       "    <tr>\n",
       "      <th>143</th>\n",
       "      <td>0.323</td>\n",
       "      <td>0.288</td>\n",
       "      <td>0.172</td>\n",
       "      <td>29</td>\n",
       "      <td>-0.036</td>\n",
       "      <td>Abdominal hernia</td>\n",
       "    </tr>\n",
       "    <tr>\n",
       "      <th>44</th>\n",
       "      <td>0.849</td>\n",
       "      <td>0.816</td>\n",
       "      <td>0.667</td>\n",
       "      <td>33</td>\n",
       "      <td>-0.033</td>\n",
       "      <td>Neoplasms of unspecified nature or uncertain b...</td>\n",
       "    </tr>\n",
       "    <tr>\n",
       "      <th>149</th>\n",
       "      <td>0.496</td>\n",
       "      <td>0.480</td>\n",
       "      <td>0.200</td>\n",
       "      <td>60</td>\n",
       "      <td>-0.016</td>\n",
       "      <td>Biliary tract disease</td>\n",
       "    </tr>\n",
       "    <tr>\n",
       "      <th>163</th>\n",
       "      <td>0.484</td>\n",
       "      <td>0.470</td>\n",
       "      <td>0.255</td>\n",
       "      <td>98</td>\n",
       "      <td>-0.014</td>\n",
       "      <td>Genitourinary symptoms and ill-defined conditions</td>\n",
       "    </tr>\n",
       "    <tr>\n",
       "      <th>54</th>\n",
       "      <td>0.654</td>\n",
       "      <td>0.641</td>\n",
       "      <td>0.322</td>\n",
       "      <td>180</td>\n",
       "      <td>-0.013</td>\n",
       "      <td>Gout and other crystal arthropathies</td>\n",
       "    </tr>\n",
       "    <tr>\n",
       "      <th>105</th>\n",
       "      <td>0.636</td>\n",
       "      <td>0.624</td>\n",
       "      <td>0.311</td>\n",
       "      <td>370</td>\n",
       "      <td>-0.012</td>\n",
       "      <td>Conduction disorders</td>\n",
       "    </tr>\n",
       "  </tbody>\n",
       "</table>\n",
       "</div>"
      ],
      "text/plain": [
       "     original_val_avgprec  full_predictive_val_avgprec  pos prevalence  size  \\\n",
       "ccs                                                                            \n",
       "197                 0.583                        0.350           0.105    19   \n",
       "223                 0.167                        0.111           0.091    11   \n",
       "4                   0.364                        0.316           0.129    85   \n",
       "205                 0.366                        0.322           0.290    69   \n",
       "143                 0.323                        0.288           0.172    29   \n",
       "44                  0.849                        0.816           0.667    33   \n",
       "149                 0.496                        0.480           0.200    60   \n",
       "163                 0.484                        0.470           0.255    98   \n",
       "54                  0.654                        0.641           0.322   180   \n",
       "105                 0.636                        0.624           0.311   370   \n",
       "\n",
       "      diff                                    ccs description  \n",
       "ccs                                                            \n",
       "197 -0.233            Skin and subcutaneous tissue infections  \n",
       "223 -0.056                                       Birth trauma  \n",
       "4   -0.048                                            Mycoses  \n",
       "205 -0.043  Spondylosis; intervertebral disc disorders; ot...  \n",
       "143 -0.036                                   Abdominal hernia  \n",
       "44  -0.033  Neoplasms of unspecified nature or uncertain b...  \n",
       "149 -0.016                              Biliary tract disease  \n",
       "163 -0.014  Genitourinary symptoms and ill-defined conditions  \n",
       "54  -0.013               Gout and other crystal arthropathies  \n",
       "105 -0.012                               Conduction disorders  "
      ]
     },
     "execution_count": 498,
     "metadata": {},
     "output_type": "execute_result"
    },
    {
     "name": "stdout",
     "output_type": "stream",
     "text": [
      "\\begin{tabular}{lrrrrrl}\n",
      "\\toprule\n",
      "{} &  original\\_val\\_avgprec &  full\\_predictive\\_val\\_avgprec &  pos prevalence &  size &   diff &                                    ccs description \\\\\n",
      "ccs &                       &                              &                 &       &        &                                                    \\\\\n",
      "\\midrule\n",
      "197 &                 0.583 &                        0.350 &           0.105 &    19 & -0.233 &            Skin and subcutaneous tissue infections \\\\\n",
      "223 &                 0.167 &                        0.111 &           0.091 &    11 & -0.056 &                                       Birth trauma \\\\\n",
      "4   &                 0.364 &                        0.316 &           0.129 &    85 & -0.048 &                                            Mycoses \\\\\n",
      "205 &                 0.366 &                        0.322 &           0.290 &    69 & -0.043 &  Spondylosis; intervertebral disc disorders; ot... \\\\\n",
      "143 &                 0.323 &                        0.288 &           0.172 &    29 & -0.036 &                                   Abdominal hernia \\\\\n",
      "44  &                 0.849 &                        0.816 &           0.667 &    33 & -0.033 &  Neoplasms of unspecified nature or uncertain b... \\\\\n",
      "149 &                 0.496 &                        0.480 &           0.200 &    60 & -0.016 &                              Biliary tract disease \\\\\n",
      "163 &                 0.484 &                        0.470 &           0.255 &    98 & -0.014 &  Genitourinary symptoms and ill-defined conditions \\\\\n",
      "54  &                 0.654 &                        0.641 &           0.322 &   180 & -0.013 &               Gout and other crystal arthropathies \\\\\n",
      "105 &                 0.636 &                        0.624 &           0.311 &   370 & -0.012 &                               Conduction disorders \\\\\n",
      "\\bottomrule\n",
      "\\end{tabular}\n",
      "\n"
     ]
    },
    {
     "name": "stderr",
     "output_type": "stream",
     "text": [
      "/tmp/ipykernel_19415/3307965435.py:7: FutureWarning: In future versions `DataFrame.to_latex` is expected to utilise the base implementation of `Styler.to_latex` for formatting and rendering. The arguments signature may therefore change. It is recommended instead to use `DataFrame.style.to_latex` which also contains additional functionality.\n",
      "  print(a.head(10).round(3).to_latex())\n"
     ]
    }
   ],
   "source": [
    "a = df.loc[worse_mask,:].sort_values('diff',ascending=True).drop(columns=['original_train_avgprec','full_predictive_train_avgprec','n_positives_val','n_positives_train']).round(3)\n",
    "\n",
    "a['ccs'] = [dataset.grouping_data['ccs']['int2code'][e] for e in a.index]\n",
    "a['ccs description'] = icdmap.lookup('ccstodescription',a['ccs'])\n",
    "a = a.set_index('ccs').drop(columns='diag')\n",
    "a.head(10)\n",
    "print(a.head(10).round(3).to_latex())"
   ]
  },
  {
   "cell_type": "markdown",
   "id": "1aa6a70d-53e4-44a0-89f9-e6f6b9202df3",
   "metadata": {},
   "source": [
    "No difference in the average performance"
   ]
  },
  {
   "cell_type": "code",
   "execution_count": 174,
   "id": "a8143fab-e02f-4e51-bebb-c7e09314b057",
   "metadata": {},
   "outputs": [
    {
     "name": "stdout",
     "output_type": "stream",
     "text": [
      "top10 best diagnostics\n"
     ]
    },
    {
     "data": {
      "text/html": [
       "<div>\n",
       "<style scoped>\n",
       "    .dataframe tbody tr th:only-of-type {\n",
       "        vertical-align: middle;\n",
       "    }\n",
       "\n",
       "    .dataframe tbody tr th {\n",
       "        vertical-align: top;\n",
       "    }\n",
       "\n",
       "    .dataframe thead th {\n",
       "        text-align: right;\n",
       "    }\n",
       "</style>\n",
       "<table border=\"1\" class=\"dataframe\">\n",
       "  <thead>\n",
       "    <tr style=\"text-align: right;\">\n",
       "      <th></th>\n",
       "      <th>original_val_avgprec</th>\n",
       "      <th>full_predictive_val_avgprec</th>\n",
       "      <th>n_positives</th>\n",
       "      <th>size</th>\n",
       "      <th>diag</th>\n",
       "      <th>diff</th>\n",
       "    </tr>\n",
       "  </thead>\n",
       "  <tbody>\n",
       "    <tr>\n",
       "      <th>259</th>\n",
       "      <td>0.638889</td>\n",
       "      <td>0.805556</td>\n",
       "      <td>3</td>\n",
       "      <td>11</td>\n",
       "      <td>259</td>\n",
       "      <td>0.166667</td>\n",
       "    </tr>\n",
       "    <tr>\n",
       "      <th>22</th>\n",
       "      <td>0.638889</td>\n",
       "      <td>0.805556</td>\n",
       "      <td>3</td>\n",
       "      <td>4</td>\n",
       "      <td>22</td>\n",
       "      <td>0.166667</td>\n",
       "    </tr>\n",
       "    <tr>\n",
       "      <th>229</th>\n",
       "      <td>0.291667</td>\n",
       "      <td>0.416667</td>\n",
       "      <td>2</td>\n",
       "      <td>6</td>\n",
       "      <td>229</td>\n",
       "      <td>0.125000</td>\n",
       "    </tr>\n",
       "    <tr>\n",
       "      <th>114</th>\n",
       "      <td>0.142857</td>\n",
       "      <td>0.250000</td>\n",
       "      <td>1</td>\n",
       "      <td>18</td>\n",
       "      <td>114</td>\n",
       "      <td>0.107143</td>\n",
       "    </tr>\n",
       "    <tr>\n",
       "      <th>201</th>\n",
       "      <td>0.309524</td>\n",
       "      <td>0.366667</td>\n",
       "      <td>2</td>\n",
       "      <td>17</td>\n",
       "      <td>201</td>\n",
       "      <td>0.057143</td>\n",
       "    </tr>\n",
       "    <tr>\n",
       "      <th>214</th>\n",
       "      <td>0.678704</td>\n",
       "      <td>0.734259</td>\n",
       "      <td>6</td>\n",
       "      <td>10</td>\n",
       "      <td>214</td>\n",
       "      <td>0.055556</td>\n",
       "    </tr>\n",
       "    <tr>\n",
       "      <th>210</th>\n",
       "      <td>0.200000</td>\n",
       "      <td>0.250000</td>\n",
       "      <td>1</td>\n",
       "      <td>11</td>\n",
       "      <td>210</td>\n",
       "      <td>0.050000</td>\n",
       "    </tr>\n",
       "    <tr>\n",
       "      <th>15</th>\n",
       "      <td>0.788286</td>\n",
       "      <td>0.837623</td>\n",
       "      <td>18</td>\n",
       "      <td>44</td>\n",
       "      <td>15</td>\n",
       "      <td>0.049337</td>\n",
       "    </tr>\n",
       "    <tr>\n",
       "      <th>199</th>\n",
       "      <td>0.249729</td>\n",
       "      <td>0.287338</td>\n",
       "      <td>4</td>\n",
       "      <td>13</td>\n",
       "      <td>199</td>\n",
       "      <td>0.037608</td>\n",
       "    </tr>\n",
       "    <tr>\n",
       "      <th>131</th>\n",
       "      <td>0.234722</td>\n",
       "      <td>0.269571</td>\n",
       "      <td>4</td>\n",
       "      <td>27</td>\n",
       "      <td>131</td>\n",
       "      <td>0.034848</td>\n",
       "    </tr>\n",
       "  </tbody>\n",
       "</table>\n",
       "</div>"
      ],
      "text/plain": [
       "     original_val_avgprec  full_predictive_val_avgprec  n_positives  size  \\\n",
       "259              0.638889                     0.805556            3    11   \n",
       "22               0.638889                     0.805556            3     4   \n",
       "229              0.291667                     0.416667            2     6   \n",
       "114              0.142857                     0.250000            1    18   \n",
       "201              0.309524                     0.366667            2    17   \n",
       "214              0.678704                     0.734259            6    10   \n",
       "210              0.200000                     0.250000            1    11   \n",
       "15               0.788286                     0.837623           18    44   \n",
       "199              0.249729                     0.287338            4    13   \n",
       "131              0.234722                     0.269571            4    27   \n",
       "\n",
       "     diag      diff  \n",
       "259   259  0.166667  \n",
       "22     22  0.166667  \n",
       "229   229  0.125000  \n",
       "114   114  0.107143  \n",
       "201   201  0.057143  \n",
       "214   214  0.055556  \n",
       "210   210  0.050000  \n",
       "15     15  0.049337  \n",
       "199   199  0.037608  \n",
       "131   131  0.034848  "
      ]
     },
     "execution_count": 174,
     "metadata": {},
     "output_type": "execute_result"
    },
    {
     "name": "stdout",
     "output_type": "stream",
     "text": [
      "top10 worst diagnostics\n"
     ]
    },
    {
     "data": {
      "text/html": [
       "<div>\n",
       "<style scoped>\n",
       "    .dataframe tbody tr th:only-of-type {\n",
       "        vertical-align: middle;\n",
       "    }\n",
       "\n",
       "    .dataframe tbody tr th {\n",
       "        vertical-align: top;\n",
       "    }\n",
       "\n",
       "    .dataframe thead th {\n",
       "        text-align: right;\n",
       "    }\n",
       "</style>\n",
       "<table border=\"1\" class=\"dataframe\">\n",
       "  <thead>\n",
       "    <tr style=\"text-align: right;\">\n",
       "      <th></th>\n",
       "      <th>original_val_avgprec</th>\n",
       "      <th>full_predictive_val_avgprec</th>\n",
       "      <th>n_positives</th>\n",
       "      <th>size</th>\n",
       "      <th>diag</th>\n",
       "      <th>diff</th>\n",
       "    </tr>\n",
       "  </thead>\n",
       "  <tbody>\n",
       "    <tr>\n",
       "      <th>184</th>\n",
       "      <td>0.497222</td>\n",
       "      <td>0.370833</td>\n",
       "      <td>4</td>\n",
       "      <td>20</td>\n",
       "      <td>184</td>\n",
       "      <td>-0.126389</td>\n",
       "    </tr>\n",
       "    <tr>\n",
       "      <th>202</th>\n",
       "      <td>0.450000</td>\n",
       "      <td>0.325000</td>\n",
       "      <td>2</td>\n",
       "      <td>24</td>\n",
       "      <td>202</td>\n",
       "      <td>-0.125000</td>\n",
       "    </tr>\n",
       "    <tr>\n",
       "      <th>40</th>\n",
       "      <td>1.000000</td>\n",
       "      <td>0.916667</td>\n",
       "      <td>3</td>\n",
       "      <td>5</td>\n",
       "      <td>40</td>\n",
       "      <td>-0.083333</td>\n",
       "    </tr>\n",
       "    <tr>\n",
       "      <th>200</th>\n",
       "      <td>0.472843</td>\n",
       "      <td>0.435013</td>\n",
       "      <td>6</td>\n",
       "      <td>42</td>\n",
       "      <td>200</td>\n",
       "      <td>-0.037831</td>\n",
       "    </tr>\n",
       "    <tr>\n",
       "      <th>228</th>\n",
       "      <td>0.325000</td>\n",
       "      <td>0.291667</td>\n",
       "      <td>2</td>\n",
       "      <td>7</td>\n",
       "      <td>228</td>\n",
       "      <td>-0.033333</td>\n",
       "    </tr>\n",
       "    <tr>\n",
       "      <th>196</th>\n",
       "      <td>0.942857</td>\n",
       "      <td>0.911111</td>\n",
       "      <td>5</td>\n",
       "      <td>10</td>\n",
       "      <td>196</td>\n",
       "      <td>-0.031746</td>\n",
       "    </tr>\n",
       "    <tr>\n",
       "      <th>62</th>\n",
       "      <td>0.682277</td>\n",
       "      <td>0.652067</td>\n",
       "      <td>11</td>\n",
       "      <td>47</td>\n",
       "      <td>62</td>\n",
       "      <td>-0.030209</td>\n",
       "    </tr>\n",
       "    <tr>\n",
       "      <th>150</th>\n",
       "      <td>0.489979</td>\n",
       "      <td>0.462390</td>\n",
       "      <td>23</td>\n",
       "      <td>98</td>\n",
       "      <td>150</td>\n",
       "      <td>-0.027589</td>\n",
       "    </tr>\n",
       "    <tr>\n",
       "      <th>31</th>\n",
       "      <td>0.854744</td>\n",
       "      <td>0.829332</td>\n",
       "      <td>12</td>\n",
       "      <td>16</td>\n",
       "      <td>31</td>\n",
       "      <td>-0.025412</td>\n",
       "    </tr>\n",
       "    <tr>\n",
       "      <th>13</th>\n",
       "      <td>0.773006</td>\n",
       "      <td>0.752093</td>\n",
       "      <td>30</td>\n",
       "      <td>41</td>\n",
       "      <td>13</td>\n",
       "      <td>-0.020913</td>\n",
       "    </tr>\n",
       "  </tbody>\n",
       "</table>\n",
       "</div>"
      ],
      "text/plain": [
       "     original_val_avgprec  full_predictive_val_avgprec  n_positives  size  \\\n",
       "184              0.497222                     0.370833            4    20   \n",
       "202              0.450000                     0.325000            2    24   \n",
       "40               1.000000                     0.916667            3     5   \n",
       "200              0.472843                     0.435013            6    42   \n",
       "228              0.325000                     0.291667            2     7   \n",
       "196              0.942857                     0.911111            5    10   \n",
       "62               0.682277                     0.652067           11    47   \n",
       "150              0.489979                     0.462390           23    98   \n",
       "31               0.854744                     0.829332           12    16   \n",
       "13               0.773006                     0.752093           30    41   \n",
       "\n",
       "     diag      diff  \n",
       "184   184 -0.126389  \n",
       "202   202 -0.125000  \n",
       "40     40 -0.083333  \n",
       "200   200 -0.037831  \n",
       "228   228 -0.033333  \n",
       "196   196 -0.031746  \n",
       "62     62 -0.030209  \n",
       "150   150 -0.027589  \n",
       "31     31 -0.025412  \n",
       "13     13 -0.020913  "
      ]
     },
     "execution_count": 174,
     "metadata": {},
     "output_type": "execute_result"
    }
   ],
   "source": [
    "df['diff'] = df.full_predictive_val_avgprec - df.original_val_avgprec\n",
    "print('top10 best diagnostics')\n",
    "df.sort_values('diff',ascending=False).head(10)\n",
    "print('top10 worst diagnostics')\n",
    "df.sort_values('diff',ascending=True).head(10)"
   ]
  },
  {
   "cell_type": "code",
   "execution_count": 128,
   "id": "a22e52f6-39e7-4c9e-9c76-9f50e992a12f",
   "metadata": {},
   "outputs": [
    {
     "data": {
      "text/plain": [
       "{'features': array([[ 0.0892 ,  0.5396 , -0.25   ,  0.03375],\n",
       "        [ 0.1361 , -0.3486 , -0.1434 ,  0.04468],\n",
       "        [ 0.3044 , -0.04343, -0.8306 ,  0.0818 ],\n",
       "        ...,\n",
       "        [ 0.2449 ,  0.74   ,  0.681  ,  0.0845 ],\n",
       "        [ 0.0976 ,  0.4414 ,  0.1611 ,  0.01938],\n",
       "        [ 0.08496,  0.1528 , -0.542  ,  0.02753]], dtype=float16),\n",
       " 'target': array([0, 0, 0, ..., 0, 0, 0], dtype=int8),\n",
       " 'size': 1646,\n",
       " 'n_positives': 378,\n",
       " 'pos_prevalence': 0.22965,\n",
       " 'avgprec': {'original': {'full': 0.3965044492457157,\n",
       "   'mean': 0.4048113515662896,\n",
       "   'std': 0.01875236606080831}}}"
      ]
     },
     "execution_count": 128,
     "metadata": {},
     "output_type": "execute_result"
    }
   ],
   "source": [
    "def eval_tpfp_models(train_dataset_tp_fp,val_dataset_tp_fp):\n",
    "    \"\"\"\n",
    "    evalues the pipelines in train_dataset_tp_fp on the dataset val_dataset_tp_fp.\n",
    "    Records results in val_dataset_tp_fp.\n",
    "    \"\"\"\n",
    "    n_splits = 3\n",
    "    print('Starting to iterate dataset to evaluate the LR models on a validation set')\n",
    "    for diag in val_dataset_tp_fp:\n",
    "        if train_dataset_tp_fp[diag]['pipeline'] is np.nan:\n",
    "            avgprec = np.nan\n",
    "        else:\n",
    "            X = val_dataset_tp_fp[diag]['features']\n",
    "            y = val_dataset_tp_fp[diag]['target']\n",
    "\n",
    "            # drop linearly correlated features\n",
    "            features_to_keep = train_dataset_tp_fp[diag]['correlation']['to_keep_idx']\n",
    "            X = X[:,features_to_keep]\n",
    "\n",
    "            pipeline = train_dataset_tp_fp[diag]['pipeline']\n",
    "\n",
    "            logits = pipeline.predict_proba(X)[:,1]\n",
    "            avgprec = average_precision_score(y,logits)\n",
    "        val_dataset_tp_fp[diag]['avgprec']['model'] = dict(full=avgprec)"
   ]
  },
  {
   "cell_type": "markdown",
   "id": "19793196-fba8-43f4-ac1b-f9f7a5ee889a",
   "metadata": {},
   "source": [
    "### Several Models to rule them all"
   ]
  },
  {
   "cell_type": "code",
   "execution_count": null,
   "id": "91e2293d-23c9-4723-82ca-923e4a742160",
   "metadata": {},
   "outputs": [],
   "source": [
    "mean_predictive = MeanPredictive(mlp_mc_model,25)"
   ]
  },
  {
   "cell_type": "markdown",
   "id": "b874f902-7116-4996-9b53-be96b62f3410",
   "metadata": {},
   "source": [
    "Two main ways of creating the dataset:\n",
    "1. Top-30 retrieval\n",
    "2. threshold-based retrieval"
   ]
  },
  {
   "cell_type": "code",
   "execution_count": null,
   "id": "f2d22c7f-c0cf-4f14-a397-af0656f81df8",
   "metadata": {
    "tags": []
   },
   "outputs": [],
   "source": [
    "topk = 30\n",
    "recall=0.70\n",
    "thresholds = compute_thresholds_recall_above_topk_dataloader(mean_predictive,val_dataloader,recall,None)"
   ]
  },
  {
   "cell_type": "code",
   "execution_count": null,
   "id": "764cfece-8836-4ce8-bd8a-1fcac178d7ea",
   "metadata": {},
   "outputs": [],
   "source": [
    "thresholds.threshold.astype(float).describe()#min()#.where(lambda x: x != 0.5).dropna()#.describe()"
   ]
  },
  {
   "cell_type": "markdown",
   "id": "d1b38311-f9d5-41cf-a029-40eb049663ed",
   "metadata": {},
   "source": [
    "#### Build dataset of TP/FP for each diagnostic on train dataloader"
   ]
  },
  {
   "cell_type": "code",
   "execution_count": 506,
   "id": "c0d66c7a-bd78-482b-b280-4736828937e9",
   "metadata": {},
   "outputs": [
    {
     "name": "stdout",
     "output_type": "stream",
     "text": [
      "Iterating the dataloader to produce the TP/FP dataset\n"
     ]
    },
    {
     "data": {
      "application/vnd.jupyter.widget-view+json": {
       "model_id": "b1672258e3cb49608dc4992e8e501ac7",
       "version_major": 2,
       "version_minor": 0
      },
      "text/plain": [
       "  0%|          | 0/1313 [00:00<?, ?it/s]"
      ]
     },
     "metadata": {},
     "output_type": "display_data"
    },
    {
     "name": "stdout",
     "output_type": "stream",
     "text": [
      "Starting to iterate TPFP dataset to compute statistics and original average precision\n"
     ]
    },
    {
     "data": {
      "application/vnd.jupyter.widget-view+json": {
       "model_id": "1413429b2f5946f79043ef53bf6025a0",
       "version_major": 2,
       "version_minor": 0
      },
      "text/plain": [
       "  0%|          | 0/283 [00:00<?, ?it/s]"
      ]
     },
     "metadata": {},
     "output_type": "display_data"
    }
   ],
   "source": [
    "dataset_train = build_tp_fp_dataset(mlp_mc_model,train_dataloader,None,topk=topk,stats_fun=compute_predictive_stats_V2)\n",
    "build_tp_fp_statistics(dataset_train)"
   ]
  },
  {
   "cell_type": "markdown",
   "id": "cf24e788-c9bb-4bdc-975c-af9f724ca36e",
   "metadata": {},
   "source": [
    "#### Build dataset of TP/FP on val dataloader"
   ]
  },
  {
   "cell_type": "code",
   "execution_count": 507,
   "id": "86b35ee5-fbaa-445b-83a6-56055880c79b",
   "metadata": {},
   "outputs": [
    {
     "name": "stdout",
     "output_type": "stream",
     "text": [
      "Iterating the dataloader to produce the TP/FP dataset\n"
     ]
    },
    {
     "data": {
      "application/vnd.jupyter.widget-view+json": {
       "model_id": "8e6919485dff485e94fd0856209e10dc",
       "version_major": 2,
       "version_minor": 0
      },
      "text/plain": [
       "  0%|          | 0/36 [00:00<?, ?it/s]"
      ]
     },
     "metadata": {},
     "output_type": "display_data"
    },
    {
     "name": "stdout",
     "output_type": "stream",
     "text": [
      "Starting to iterate TPFP dataset to compute statistics and original average precision\n"
     ]
    },
    {
     "data": {
      "application/vnd.jupyter.widget-view+json": {
       "model_id": "a469f812841b466db2b1409408916aa8",
       "version_major": 2,
       "version_minor": 0
      },
      "text/plain": [
       "  0%|          | 0/283 [00:00<?, ?it/s]"
      ]
     },
     "metadata": {},
     "output_type": "display_data"
    }
   ],
   "source": [
    "dataset_val = build_tp_fp_dataset(mlp_mc_model,val_dataloader,None,topk=topk,stats_fun=compute_predictive_stats_V2)\n",
    "build_tp_fp_statistics(dataset_val)"
   ]
  },
  {
   "cell_type": "markdown",
   "id": "2abeb16d-9cca-44f8-ac93-a92959c5af56",
   "metadata": {},
   "source": [
    "alguns caminhos a escolher:\n",
    "1. monte carlo sampling to evaluate which diagnoses are unstable\n",
    "2. correlation analysis between instability and prevalence (plot diff vs prevalence)"
   ]
  },
  {
   "cell_type": "code",
   "execution_count": 212,
   "id": "48b792c7-5611-4224-bbf5-4eebe07ff046",
   "metadata": {
    "collapsed": true,
    "jupyter": {
     "outputs_hidden": true
    },
    "tags": []
   },
   "outputs": [
    {
     "data": {
      "text/plain": [
       "dict_keys(['features', 'target', 'feature_names', 'size', 'n_positives', 'pos_prevalence', 'avgprec'])"
      ]
     },
     "execution_count": 212,
     "metadata": {},
     "output_type": "execute_result"
    },
    {
     "data": {
      "text/plain": [
       "{'features': array([[ 0.1301  ,  0.1372  ,  0.06683 ,  0.0441  ,  0.09265 ,  0.1776  ,\n",
       "          0.2142  , -0.003002, -0.5137  ,  0.0931  ,  0.0445  ,  0.0405  ,\n",
       "          0.077   ],\n",
       "        [ 0.1831  ,  0.167   ,  0.094   ,  0.0794  ,  0.1322  ,  0.2303  ,\n",
       "          0.2886  ,  0.5825  ,  0.434   ,  0.0876  ,  0.0347  ,  0.06335 ,\n",
       "          0.1215  ],\n",
       "        [ 0.131   ,  0.10443 ,  0.0789  ,  0.0528  ,  0.07056 ,  0.195   ,\n",
       "          0.2449  ,  0.636   , -0.6255  ,  0.05164 ,  0.03387 ,  0.0905  ,\n",
       "          0.1404  ],\n",
       "        [ 0.1891  ,  0.1705  ,  0.1216  ,  0.0633  ,  0.1076  ,  0.2399  ,\n",
       "          0.3064  ,  1.304   ,  1.496   ,  0.1073  ,  0.063   ,  0.0693  ,\n",
       "          0.1359  ],\n",
       "        [ 0.1698  ,  0.1583  ,  0.0977  ,  0.04498 ,  0.1016  ,  0.2279  ,\n",
       "          0.3093  ,  0.1888  , -0.812   ,  0.11334 ,  0.0567  ,  0.0696  ,\n",
       "          0.151   ],\n",
       "        [ 0.1832  ,  0.1985  ,  0.1241  ,  0.01808 ,  0.0791  ,  0.2542  ,\n",
       "          0.3599  ,  0.2693  , -0.8403  ,  0.1804  ,  0.1194  ,  0.05563 ,\n",
       "          0.1615  ],\n",
       "        [ 0.1288  ,  0.1229  ,  0.05817 ,  0.0583  ,  0.105   ,  0.1582  ,\n",
       "          0.2177  ,  0.3857  , -0.1687  ,  0.06464 ,  0.01794 ,  0.03522 ,\n",
       "          0.0947  ],\n",
       "        [ 0.1818  ,  0.1416  ,  0.1271  ,  0.04608 ,  0.0778  ,  0.26    ,\n",
       "          0.386   ,  0.502   , -0.8857  ,  0.09546 ,  0.0637  ,  0.1184  ,\n",
       "          0.2445  ],\n",
       "        [ 0.175   ,  0.16    ,  0.1079  ,  0.0617  ,  0.09174 ,  0.2228  ,\n",
       "          0.2896  ,  1.01    ,  1.017   ,  0.0984  ,  0.0683  ,  0.0627  ,\n",
       "          0.1295  ],\n",
       "        [ 0.3984  ,  0.402   ,  0.1965  ,  0.1658  ,  0.2139  ,  0.555   ,\n",
       "          0.622   , -0.1223  , -1.069   ,  0.2363  ,  0.1881  ,  0.1531  ,\n",
       "          0.2202  ]], dtype=float16),\n",
       " 'target': array([0, 1, 1, 1, 1, 1, 1, 1, 1, 1], dtype=int8),\n",
       " 'feature_names': ['mean',\n",
       "  'median',\n",
       "  'std',\n",
       "  'q10',\n",
       "  'q25',\n",
       "  'q75',\n",
       "  'q90',\n",
       "  'skew',\n",
       "  'kurtosis',\n",
       "  'iqd_50_10',\n",
       "  'iqd_50_25',\n",
       "  'iqd_50_75',\n",
       "  'iqd_50_90'],\n",
       " 'size': 10,\n",
       " 'n_positives': 9,\n",
       " 'pos_prevalence': 0.9,\n",
       " 'avgprec': {'original': {'full': 0.9888888888888889,\n",
       "   'mean': nan,\n",
       "   'std': nan}}}"
      ]
     },
     "execution_count": 212,
     "metadata": {},
     "output_type": "execute_result"
    }
   ],
   "source": [
    "dataset_train[0].keys()\n",
    "dataset_train[0]"
   ]
  },
  {
   "cell_type": "markdown",
   "id": "4677333f-e871-4fd3-af29-75fd9cbb6daf",
   "metadata": {},
   "source": [
    "#### Train LRs"
   ]
  },
  {
   "cell_type": "code",
   "execution_count": 508,
   "id": "2ad316f4-f166-45bb-8986-a392ebf0873d",
   "metadata": {
    "tags": []
   },
   "outputs": [
    {
     "name": "stdout",
     "output_type": "stream",
     "text": [
      "Starting to iterate tpfp dataset to train Logistic Regressions\n"
     ]
    },
    {
     "data": {
      "application/vnd.jupyter.widget-view+json": {
       "model_id": "d80f12f982ef4db8bf2cc3d76c9fb668",
       "version_major": 2,
       "version_minor": 0
      },
      "text/plain": [
       "  0%|          | 0/283 [00:00<?, ?it/s]"
      ]
     },
     "metadata": {},
     "output_type": "display_data"
    },
    {
     "name": "stdout",
     "output_type": "stream",
     "text": [
      "Starting to iterate dataset to evaluate the LR models on a validation set\n"
     ]
    },
    {
     "name": "stderr",
     "output_type": "stream",
     "text": [
      "/home/debian/Simao/miniconda3/envs/thesis/lib/python3.10/site-packages/sklearn/metrics/_ranking.py:864: RuntimeWarning: invalid value encountered in true_divide\n",
      "  recall = tps / tps[-1]\n",
      "/home/debian/Simao/miniconda3/envs/thesis/lib/python3.10/site-packages/sklearn/metrics/_ranking.py:864: RuntimeWarning: invalid value encountered in true_divide\n",
      "  recall = tps / tps[-1]\n",
      "/home/debian/Simao/miniconda3/envs/thesis/lib/python3.10/site-packages/sklearn/metrics/_ranking.py:864: RuntimeWarning: invalid value encountered in true_divide\n",
      "  recall = tps / tps[-1]\n",
      "/home/debian/Simao/miniconda3/envs/thesis/lib/python3.10/site-packages/sklearn/metrics/_ranking.py:864: RuntimeWarning: invalid value encountered in true_divide\n",
      "  recall = tps / tps[-1]\n",
      "/home/debian/Simao/miniconda3/envs/thesis/lib/python3.10/site-packages/sklearn/metrics/_ranking.py:864: RuntimeWarning: invalid value encountered in true_divide\n",
      "  recall = tps / tps[-1]\n",
      "/home/debian/Simao/miniconda3/envs/thesis/lib/python3.10/site-packages/sklearn/metrics/_ranking.py:864: RuntimeWarning: invalid value encountered in true_divide\n",
      "  recall = tps / tps[-1]\n"
     ]
    }
   ],
   "source": [
    "train_tpfp_models(dataset_train)\n",
    "eval_tpfp_models(dataset_train,dataset_val)"
   ]
  },
  {
   "cell_type": "markdown",
   "id": "4791112f-0612-4748-b579-7da09f06cfce",
   "metadata": {},
   "source": [
    "model seems to improve performance in the train dataset. But does it overfit?"
   ]
  },
  {
   "cell_type": "markdown",
   "id": "0ed63f41-b131-499f-96b2-f2d760541321",
   "metadata": {},
   "source": [
    "Full predictive consistently performs worse on validation than the mean predictive"
   ]
  },
  {
   "cell_type": "markdown",
   "id": "21c5c374-2e11-4398-84dc-425d7de7b2c7",
   "metadata": {},
   "source": [
    "we gotta grid search this. retrain the models and change the regularization and choose the models with best validation score"
   ]
  },
  {
   "cell_type": "markdown",
   "id": "c30b55a6-03ff-489b-9f83-8a9403eae8f4",
   "metadata": {},
   "source": [
    "#### Now grid search to have regularization"
   ]
  },
  {
   "cell_type": "code",
   "execution_count": 509,
   "id": "9e234442-c9f0-48e2-b126-de2e99d8a747",
   "metadata": {
    "tags": []
   },
   "outputs": [
    {
     "name": "stdout",
     "output_type": "stream",
     "text": [
      "Starting to iterate tpfp dataset to train Logistic Regressions\n"
     ]
    },
    {
     "data": {
      "application/vnd.jupyter.widget-view+json": {
       "model_id": "f6efa850704a413ab50df8d457cd754b",
       "version_major": 2,
       "version_minor": 0
      },
      "text/plain": [
       "  0%|          | 0/283 [00:00<?, ?it/s]"
      ]
     },
     "metadata": {},
     "output_type": "display_data"
    }
   ],
   "source": [
    "train_tpfp_modelsSearchOverfit(dataset_train,dataset_val)"
   ]
  },
  {
   "cell_type": "markdown",
   "id": "687c2d71-cdcf-4b91-918c-5464d1a0ba63",
   "metadata": {},
   "source": [
    "### Evaluation"
   ]
  },
  {
   "cell_type": "code",
   "execution_count": 513,
   "id": "7139893a-a5e3-4d91-b501-ed39fd40e455",
   "metadata": {},
   "outputs": [],
   "source": [
    "perfs = list()\n",
    "for diag in dataset_train:\n",
    "    performance = dict(diag=diag,\n",
    "                       original_train_avgprec=dataset_train[diag]['avgprec']['original']['full'],\n",
    "                       original_val_avgprec=dataset_val[diag]['avgprec']['original']['full'],\n",
    "                       model_train_avgprec=dataset_train[diag]['avgprec']['model']['full'],\n",
    "                       model_val_avgprec=dataset_val[diag]['avgprec']['model']['full'],\n",
    "                       regmodel_train_avgprec=dataset_train[diag]['avgprec']['grid_search_model']['train_score'],\n",
    "                       regmodel_val_avgprec=dataset_train[diag]['avgprec']['grid_search_model']['val_score'],\n",
    "                       n_positives=dataset_train[diag]['n_positives'],\n",
    "                       n_positives_val=dataset_val[diag]['n_positives'],\n",
    "                       size=dataset_train[diag]['size'],\n",
    "                       size_val=dataset_val[diag]['size'],\n",
    "                      )\n",
    "    #performance['q95'] = dataset_val[diag]['avgprec']['random'][0.95]\n",
    "    #performance['q99'] = dataset_val[diag]['avgprec']['random'][0.99]\n",
    "    #performance['q50'] = dataset_val[diag]['avgprec']['random'][0.50]\n",
    "    perfs.append(performance)\n",
    "perfs = pd.DataFrame(perfs).set_index('diag').drop(columns=['model_val_avgprec','model_train_avgprec'])[[\"original_train_avgprec\",\"regmodel_train_avgprec\",\"original_val_avgprec\", \"regmodel_val_avgprec\",\"size\",\"n_positives\",\"size_val\",\"n_positives_val\"]]\n",
    "perfs.loc[:,'val_diff'] = perfs.regmodel_val_avgprec - perfs.original_val_avgprec\n",
    "perfs['best_val_avgprec'] = np.where(perfs['regmodel_val_avgprec'] > perfs['original_val_avgprec'],perfs['regmodel_val_avgprec'],perfs['original_val_avgprec'])\n",
    "#train_performances.loc[:,'avg_diff'] = train_performances['mean_model_avgprec'] - train_performances['mean_original_avgprec']"
   ]
  },
  {
   "cell_type": "markdown",
   "id": "02d01f74-05d9-406c-920b-b5916fefd691",
   "metadata": {},
   "source": [
    "#### How many diagnostics were we able to build a model on?"
   ]
  },
  {
   "cell_type": "code",
   "execution_count": 514,
   "id": "53395bf1-b8c3-4b9a-bb68-149777464fcf",
   "metadata": {},
   "outputs": [
    {
     "data": {
      "text/plain": [
       "157"
      ]
     },
     "execution_count": 514,
     "metadata": {},
     "output_type": "execute_result"
    }
   ],
   "source": [
    "(~perfs.regmodel_val_avgprec.isna()).sum()"
   ]
  },
  {
   "cell_type": "markdown",
   "id": "53661ce3-0225-41fd-9d22-c0c730673c81",
   "metadata": {},
   "source": [
    "#### How does the overall avg performance compare now?"
   ]
  },
  {
   "cell_type": "code",
   "execution_count": 519,
   "id": "36d66435-f3af-45e0-93b7-6192caf67358",
   "metadata": {},
   "outputs": [
    {
     "data": {
      "text/plain": [
       "0.5636"
      ]
     },
     "execution_count": 519,
     "metadata": {},
     "output_type": "execute_result"
    },
    {
     "data": {
      "text/plain": [
       "0.566"
      ]
     },
     "execution_count": 519,
     "metadata": {},
     "output_type": "execute_result"
    },
    {
     "data": {
      "text/plain": [
       "0.569"
      ]
     },
     "execution_count": 519,
     "metadata": {},
     "output_type": "execute_result"
    }
   ],
   "source": [
    "original_w_avgprec = ((perfs.original_val_avgprec*perfs.n_positives_val)/perfs.n_positives_val.sum()).sum()\n",
    "model_w_avgprec = ((perfs.regmodel_val_avgprec*perfs.n_positives_val)/perfs.n_positives_val.sum()).sum()\n",
    "best_w_avgprec = ((perfs.best_val_avgprec*perfs.n_positives_val)/perfs.n_positives_val.sum()).sum()\n",
    "round(original_w_avgprec,4)\n",
    "round(model_w_avgprec,3)\n",
    "round(best_w_avgprec,3)"
   ]
  },
  {
   "cell_type": "markdown",
   "id": "5638fc7f-bede-4de0-a0c4-49cf488ae89f",
   "metadata": {},
   "source": [
    "Not any difference in the average performance"
   ]
  },
  {
   "cell_type": "markdown",
   "id": "42072df3-199a-499b-89de-62c5bd73fbe9",
   "metadata": {},
   "source": [
    "#### Diagnostics where new model performed better and worse"
   ]
  },
  {
   "cell_type": "code",
   "execution_count": 523,
   "id": "7cceb59c-96dd-4370-be8c-feeb57550cb2",
   "metadata": {},
   "outputs": [],
   "source": [
    "better_mask = perfs['regmodel_val_avgprec'] > perfs['original_val_avgprec']\n",
    "better_train_mask = perfs['regmodel_train_avgprec'] > perfs['original_train_avgprec']\n",
    "worse_mask = perfs['regmodel_val_avgprec'] < perfs['original_val_avgprec']\n",
    "#reg_above_95_ask = perfs['regmodel_val_avgprec'] >= perfs['q95']"
   ]
  },
  {
   "cell_type": "code",
   "execution_count": 417,
   "id": "d065f8a3-fa25-499e-aa5d-529cb4579213",
   "metadata": {},
   "outputs": [
    {
     "data": {
      "text/html": [
       "<div>\n",
       "<style scoped>\n",
       "    .dataframe tbody tr th:only-of-type {\n",
       "        vertical-align: middle;\n",
       "    }\n",
       "\n",
       "    .dataframe tbody tr th {\n",
       "        vertical-align: top;\n",
       "    }\n",
       "\n",
       "    .dataframe thead th {\n",
       "        text-align: right;\n",
       "    }\n",
       "</style>\n",
       "<table border=\"1\" class=\"dataframe\">\n",
       "  <thead>\n",
       "    <tr style=\"text-align: right;\">\n",
       "      <th></th>\n",
       "      <th>original_train_avgprec</th>\n",
       "      <th>regmodel_train_avgprec</th>\n",
       "      <th>original_val_avgprec</th>\n",
       "      <th>regmodel_val_avgprec</th>\n",
       "      <th>size</th>\n",
       "      <th>n_positives</th>\n",
       "      <th>size_val</th>\n",
       "      <th>n_positives_val</th>\n",
       "      <th>val_diff</th>\n",
       "    </tr>\n",
       "    <tr>\n",
       "      <th>diag</th>\n",
       "      <th></th>\n",
       "      <th></th>\n",
       "      <th></th>\n",
       "      <th></th>\n",
       "      <th></th>\n",
       "      <th></th>\n",
       "      <th></th>\n",
       "      <th></th>\n",
       "      <th></th>\n",
       "    </tr>\n",
       "  </thead>\n",
       "  <tbody>\n",
       "    <tr>\n",
       "      <th>16</th>\n",
       "      <td>0.778860</td>\n",
       "      <td>0.875100</td>\n",
       "      <td>0.679167</td>\n",
       "      <td>0.950000</td>\n",
       "      <td>31</td>\n",
       "      <td>14</td>\n",
       "      <td>7</td>\n",
       "      <td>4</td>\n",
       "      <td>0.270833</td>\n",
       "    </tr>\n",
       "    <tr>\n",
       "      <th>202</th>\n",
       "      <td>0.604723</td>\n",
       "      <td>0.613677</td>\n",
       "      <td>0.450000</td>\n",
       "      <td>0.583333</td>\n",
       "      <td>103</td>\n",
       "      <td>11</td>\n",
       "      <td>24</td>\n",
       "      <td>2</td>\n",
       "      <td>0.133333</td>\n",
       "    </tr>\n",
       "    <tr>\n",
       "      <th>199</th>\n",
       "      <td>0.525679</td>\n",
       "      <td>0.599710</td>\n",
       "      <td>0.345833</td>\n",
       "      <td>0.471465</td>\n",
       "      <td>49</td>\n",
       "      <td>16</td>\n",
       "      <td>11</td>\n",
       "      <td>4</td>\n",
       "      <td>0.125631</td>\n",
       "    </tr>\n",
       "    <tr>\n",
       "      <th>185</th>\n",
       "      <td>0.747983</td>\n",
       "      <td>0.781202</td>\n",
       "      <td>0.250000</td>\n",
       "      <td>0.333333</td>\n",
       "      <td>58</td>\n",
       "      <td>39</td>\n",
       "      <td>6</td>\n",
       "      <td>1</td>\n",
       "      <td>0.083333</td>\n",
       "    </tr>\n",
       "    <tr>\n",
       "      <th>251</th>\n",
       "      <td>0.845091</td>\n",
       "      <td>0.861073</td>\n",
       "      <td>0.585927</td>\n",
       "      <td>0.661409</td>\n",
       "      <td>84</td>\n",
       "      <td>56</td>\n",
       "      <td>16</td>\n",
       "      <td>11</td>\n",
       "      <td>0.075482</td>\n",
       "    </tr>\n",
       "    <tr>\n",
       "      <th>98</th>\n",
       "      <td>0.593358</td>\n",
       "      <td>0.607337</td>\n",
       "      <td>0.296482</td>\n",
       "      <td>0.366407</td>\n",
       "      <td>139</td>\n",
       "      <td>47</td>\n",
       "      <td>29</td>\n",
       "      <td>10</td>\n",
       "      <td>0.069925</td>\n",
       "    </tr>\n",
       "    <tr>\n",
       "      <th>149</th>\n",
       "      <td>0.649767</td>\n",
       "      <td>0.741951</td>\n",
       "      <td>0.568486</td>\n",
       "      <td>0.634448</td>\n",
       "      <td>94</td>\n",
       "      <td>40</td>\n",
       "      <td>24</td>\n",
       "      <td>10</td>\n",
       "      <td>0.065962</td>\n",
       "    </tr>\n",
       "    <tr>\n",
       "      <th>193</th>\n",
       "      <td>0.715997</td>\n",
       "      <td>0.735875</td>\n",
       "      <td>0.698630</td>\n",
       "      <td>0.764238</td>\n",
       "      <td>420</td>\n",
       "      <td>254</td>\n",
       "      <td>86</td>\n",
       "      <td>49</td>\n",
       "      <td>0.065608</td>\n",
       "    </tr>\n",
       "    <tr>\n",
       "      <th>132</th>\n",
       "      <td>0.792967</td>\n",
       "      <td>0.846221</td>\n",
       "      <td>0.878236</td>\n",
       "      <td>0.941490</td>\n",
       "      <td>150</td>\n",
       "      <td>103</td>\n",
       "      <td>23</td>\n",
       "      <td>17</td>\n",
       "      <td>0.063254</td>\n",
       "    </tr>\n",
       "    <tr>\n",
       "      <th>134</th>\n",
       "      <td>0.595811</td>\n",
       "      <td>0.609654</td>\n",
       "      <td>0.159933</td>\n",
       "      <td>0.216833</td>\n",
       "      <td>218</td>\n",
       "      <td>93</td>\n",
       "      <td>38</td>\n",
       "      <td>6</td>\n",
       "      <td>0.056900</td>\n",
       "    </tr>\n",
       "  </tbody>\n",
       "</table>\n",
       "</div>"
      ],
      "text/plain": [
       "      original_train_avgprec  regmodel_train_avgprec  original_val_avgprec  \\\n",
       "diag                                                                         \n",
       "16                  0.778860                0.875100              0.679167   \n",
       "202                 0.604723                0.613677              0.450000   \n",
       "199                 0.525679                0.599710              0.345833   \n",
       "185                 0.747983                0.781202              0.250000   \n",
       "251                 0.845091                0.861073              0.585927   \n",
       "98                  0.593358                0.607337              0.296482   \n",
       "149                 0.649767                0.741951              0.568486   \n",
       "193                 0.715997                0.735875              0.698630   \n",
       "132                 0.792967                0.846221              0.878236   \n",
       "134                 0.595811                0.609654              0.159933   \n",
       "\n",
       "      regmodel_val_avgprec  size  n_positives  size_val  n_positives_val  \\\n",
       "diag                                                                       \n",
       "16                0.950000    31           14         7                4   \n",
       "202               0.583333   103           11        24                2   \n",
       "199               0.471465    49           16        11                4   \n",
       "185               0.333333    58           39         6                1   \n",
       "251               0.661409    84           56        16               11   \n",
       "98                0.366407   139           47        29               10   \n",
       "149               0.634448    94           40        24               10   \n",
       "193               0.764238   420          254        86               49   \n",
       "132               0.941490   150          103        23               17   \n",
       "134               0.216833   218           93        38                6   \n",
       "\n",
       "      val_diff  \n",
       "diag            \n",
       "16    0.270833  \n",
       "202   0.133333  \n",
       "199   0.125631  \n",
       "185   0.083333  \n",
       "251   0.075482  \n",
       "98    0.069925  \n",
       "149   0.065962  \n",
       "193   0.065608  \n",
       "132   0.063254  \n",
       "134   0.056900  "
      ]
     },
     "execution_count": 417,
     "metadata": {},
     "output_type": "execute_result"
    }
   ],
   "source": [
    "perfs.loc[better_mask & better_train_mask,:].sort_values('val_diff',ascending=False).head(10)"
   ]
  },
  {
   "cell_type": "markdown",
   "id": "e6e98505-bd35-4689-987e-f94a7456243d",
   "metadata": {},
   "source": [
    "How many out of 157?"
   ]
  },
  {
   "cell_type": "code",
   "execution_count": 264,
   "id": "f5d25cd4-27b3-4236-a0fa-acf2655daa11",
   "metadata": {},
   "outputs": [
    {
     "data": {
      "text/plain": [
       "79"
      ]
     },
     "execution_count": 264,
     "metadata": {},
     "output_type": "execute_result"
    }
   ],
   "source": [
    "better_mask.sum()"
   ]
  },
  {
   "cell_type": "markdown",
   "id": "e77826c7-396e-418a-afa8-c966af72be70",
   "metadata": {},
   "source": [
    "how much was the increase in performance?"
   ]
  },
  {
   "cell_type": "markdown",
   "id": "40650724-8474-402d-a2ab-e8f3e7af725f",
   "metadata": {},
   "source": [
    "let's write that up for the thesis document"
   ]
  },
  {
   "cell_type": "code",
   "execution_count": 335,
   "id": "c9eddafd-0eca-4444-8c10-903c91e32eac",
   "metadata": {},
   "outputs": [
    {
     "data": {
      "text/plain": [
       "25"
      ]
     },
     "execution_count": 335,
     "metadata": {},
     "output_type": "execute_result"
    }
   ],
   "source": [
    "len(np.where(labels==1)[0])"
   ]
  },
  {
   "cell_type": "code",
   "execution_count": 322,
   "id": "57441489-635b-44ef-a265-6d5745b168b9",
   "metadata": {},
   "outputs": [
    {
     "data": {
      "text/html": [
       "<div>\n",
       "<style scoped>\n",
       "    .dataframe tbody tr th:only-of-type {\n",
       "        vertical-align: middle;\n",
       "    }\n",
       "\n",
       "    .dataframe tbody tr th {\n",
       "        vertical-align: top;\n",
       "    }\n",
       "\n",
       "    .dataframe thead th {\n",
       "        text-align: right;\n",
       "    }\n",
       "</style>\n",
       "<table border=\"1\" class=\"dataframe\">\n",
       "  <thead>\n",
       "    <tr style=\"text-align: right;\">\n",
       "      <th></th>\n",
       "      <th>original_train_avgprec</th>\n",
       "      <th>regmodel_train_avgprec</th>\n",
       "      <th>original_val_avgprec</th>\n",
       "      <th>regmodel_val_avgprec</th>\n",
       "      <th>size</th>\n",
       "      <th>n_positives</th>\n",
       "      <th>size_val</th>\n",
       "      <th>n_positives_val</th>\n",
       "      <th>q50</th>\n",
       "      <th>q95</th>\n",
       "      <th>q99</th>\n",
       "      <th>val_diff</th>\n",
       "      <th>above_99</th>\n",
       "      <th>above_95</th>\n",
       "    </tr>\n",
       "    <tr>\n",
       "      <th>diag</th>\n",
       "      <th></th>\n",
       "      <th></th>\n",
       "      <th></th>\n",
       "      <th></th>\n",
       "      <th></th>\n",
       "      <th></th>\n",
       "      <th></th>\n",
       "      <th></th>\n",
       "      <th></th>\n",
       "      <th></th>\n",
       "      <th></th>\n",
       "      <th></th>\n",
       "      <th></th>\n",
       "      <th></th>\n",
       "    </tr>\n",
       "  </thead>\n",
       "  <tbody>\n",
       "    <tr>\n",
       "      <th>114</th>\n",
       "      <td>0.648810</td>\n",
       "      <td>0.572917</td>\n",
       "      <td>0.500000</td>\n",
       "      <td>1.000000</td>\n",
       "      <td>71</td>\n",
       "      <td>4</td>\n",
       "      <td>20</td>\n",
       "      <td>1</td>\n",
       "      <td>0.125000</td>\n",
       "      <td>0.500000</td>\n",
       "      <td>1.000000</td>\n",
       "      <td>0.500000</td>\n",
       "      <td>True</td>\n",
       "      <td>True</td>\n",
       "    </tr>\n",
       "    <tr>\n",
       "      <th>16</th>\n",
       "      <td>0.778860</td>\n",
       "      <td>0.875100</td>\n",
       "      <td>0.679167</td>\n",
       "      <td>0.950000</td>\n",
       "      <td>31</td>\n",
       "      <td>14</td>\n",
       "      <td>7</td>\n",
       "      <td>4</td>\n",
       "      <td>0.622024</td>\n",
       "      <td>0.918333</td>\n",
       "      <td>1.000000</td>\n",
       "      <td>0.270833</td>\n",
       "      <td>False</td>\n",
       "      <td>True</td>\n",
       "    </tr>\n",
       "    <tr>\n",
       "      <th>202</th>\n",
       "      <td>0.604723</td>\n",
       "      <td>0.613677</td>\n",
       "      <td>0.450000</td>\n",
       "      <td>0.583333</td>\n",
       "      <td>103</td>\n",
       "      <td>11</td>\n",
       "      <td>24</td>\n",
       "      <td>2</td>\n",
       "      <td>0.133929</td>\n",
       "      <td>0.550441</td>\n",
       "      <td>0.750833</td>\n",
       "      <td>0.133333</td>\n",
       "      <td>False</td>\n",
       "      <td>True</td>\n",
       "    </tr>\n",
       "    <tr>\n",
       "      <th>199</th>\n",
       "      <td>0.525679</td>\n",
       "      <td>0.599710</td>\n",
       "      <td>0.345833</td>\n",
       "      <td>0.471465</td>\n",
       "      <td>49</td>\n",
       "      <td>16</td>\n",
       "      <td>11</td>\n",
       "      <td>4</td>\n",
       "      <td>0.457359</td>\n",
       "      <td>0.771935</td>\n",
       "      <td>0.841000</td>\n",
       "      <td>0.125631</td>\n",
       "      <td>False</td>\n",
       "      <td>False</td>\n",
       "    </tr>\n",
       "    <tr>\n",
       "      <th>72</th>\n",
       "      <td>0.570986</td>\n",
       "      <td>0.557263</td>\n",
       "      <td>0.257071</td>\n",
       "      <td>0.370833</td>\n",
       "      <td>122</td>\n",
       "      <td>47</td>\n",
       "      <td>17</td>\n",
       "      <td>4</td>\n",
       "      <td>0.318738</td>\n",
       "      <td>0.558393</td>\n",
       "      <td>0.668220</td>\n",
       "      <td>0.113763</td>\n",
       "      <td>False</td>\n",
       "      <td>False</td>\n",
       "    </tr>\n",
       "    <tr>\n",
       "      <th>185</th>\n",
       "      <td>0.747983</td>\n",
       "      <td>0.781202</td>\n",
       "      <td>0.250000</td>\n",
       "      <td>0.333333</td>\n",
       "      <td>58</td>\n",
       "      <td>39</td>\n",
       "      <td>6</td>\n",
       "      <td>1</td>\n",
       "      <td>0.250000</td>\n",
       "      <td>1.000000</td>\n",
       "      <td>1.000000</td>\n",
       "      <td>0.083333</td>\n",
       "      <td>False</td>\n",
       "      <td>False</td>\n",
       "    </tr>\n",
       "    <tr>\n",
       "      <th>204</th>\n",
       "      <td>0.871816</td>\n",
       "      <td>0.858868</td>\n",
       "      <td>0.792075</td>\n",
       "      <td>0.870811</td>\n",
       "      <td>92</td>\n",
       "      <td>29</td>\n",
       "      <td>25</td>\n",
       "      <td>9</td>\n",
       "      <td>0.425250</td>\n",
       "      <td>0.656459</td>\n",
       "      <td>0.729733</td>\n",
       "      <td>0.078737</td>\n",
       "      <td>True</td>\n",
       "      <td>True</td>\n",
       "    </tr>\n",
       "    <tr>\n",
       "      <th>251</th>\n",
       "      <td>0.845091</td>\n",
       "      <td>0.861073</td>\n",
       "      <td>0.585927</td>\n",
       "      <td>0.661409</td>\n",
       "      <td>84</td>\n",
       "      <td>56</td>\n",
       "      <td>16</td>\n",
       "      <td>11</td>\n",
       "      <td>0.733436</td>\n",
       "      <td>0.888489</td>\n",
       "      <td>0.950127</td>\n",
       "      <td>0.075482</td>\n",
       "      <td>False</td>\n",
       "      <td>False</td>\n",
       "    </tr>\n",
       "    <tr>\n",
       "      <th>98</th>\n",
       "      <td>0.593358</td>\n",
       "      <td>0.607337</td>\n",
       "      <td>0.296482</td>\n",
       "      <td>0.366407</td>\n",
       "      <td>139</td>\n",
       "      <td>47</td>\n",
       "      <td>29</td>\n",
       "      <td>10</td>\n",
       "      <td>0.406353</td>\n",
       "      <td>0.573309</td>\n",
       "      <td>0.667609</td>\n",
       "      <td>0.069925</td>\n",
       "      <td>False</td>\n",
       "      <td>False</td>\n",
       "    </tr>\n",
       "    <tr>\n",
       "      <th>149</th>\n",
       "      <td>0.649767</td>\n",
       "      <td>0.741951</td>\n",
       "      <td>0.568486</td>\n",
       "      <td>0.634448</td>\n",
       "      <td>94</td>\n",
       "      <td>40</td>\n",
       "      <td>24</td>\n",
       "      <td>10</td>\n",
       "      <td>0.491709</td>\n",
       "      <td>0.693144</td>\n",
       "      <td>0.776498</td>\n",
       "      <td>0.065962</td>\n",
       "      <td>False</td>\n",
       "      <td>False</td>\n",
       "    </tr>\n",
       "    <tr>\n",
       "      <th>193</th>\n",
       "      <td>0.715997</td>\n",
       "      <td>0.735875</td>\n",
       "      <td>0.698630</td>\n",
       "      <td>0.764238</td>\n",
       "      <td>420</td>\n",
       "      <td>254</td>\n",
       "      <td>86</td>\n",
       "      <td>49</td>\n",
       "      <td>0.591304</td>\n",
       "      <td>0.681532</td>\n",
       "      <td>0.726546</td>\n",
       "      <td>0.065608</td>\n",
       "      <td>True</td>\n",
       "      <td>True</td>\n",
       "    </tr>\n",
       "    <tr>\n",
       "      <th>132</th>\n",
       "      <td>0.792967</td>\n",
       "      <td>0.846221</td>\n",
       "      <td>0.878236</td>\n",
       "      <td>0.941490</td>\n",
       "      <td>150</td>\n",
       "      <td>103</td>\n",
       "      <td>23</td>\n",
       "      <td>17</td>\n",
       "      <td>0.757579</td>\n",
       "      <td>0.872129</td>\n",
       "      <td>0.893616</td>\n",
       "      <td>0.063254</td>\n",
       "      <td>True</td>\n",
       "      <td>True</td>\n",
       "    </tr>\n",
       "    <tr>\n",
       "      <th>134</th>\n",
       "      <td>0.595811</td>\n",
       "      <td>0.609654</td>\n",
       "      <td>0.159933</td>\n",
       "      <td>0.216833</td>\n",
       "      <td>218</td>\n",
       "      <td>93</td>\n",
       "      <td>38</td>\n",
       "      <td>6</td>\n",
       "      <td>0.201356</td>\n",
       "      <td>0.397621</td>\n",
       "      <td>0.459935</td>\n",
       "      <td>0.056900</td>\n",
       "      <td>False</td>\n",
       "      <td>False</td>\n",
       "    </tr>\n",
       "    <tr>\n",
       "      <th>77</th>\n",
       "      <td>0.695260</td>\n",
       "      <td>0.730388</td>\n",
       "      <td>0.200000</td>\n",
       "      <td>0.250000</td>\n",
       "      <td>43</td>\n",
       "      <td>21</td>\n",
       "      <td>6</td>\n",
       "      <td>1</td>\n",
       "      <td>0.250000</td>\n",
       "      <td>1.000000</td>\n",
       "      <td>1.000000</td>\n",
       "      <td>0.050000</td>\n",
       "      <td>False</td>\n",
       "      <td>False</td>\n",
       "    </tr>\n",
       "    <tr>\n",
       "      <th>151</th>\n",
       "      <td>0.721991</td>\n",
       "      <td>0.732804</td>\n",
       "      <td>0.663515</td>\n",
       "      <td>0.711321</td>\n",
       "      <td>381</td>\n",
       "      <td>187</td>\n",
       "      <td>73</td>\n",
       "      <td>36</td>\n",
       "      <td>0.513052</td>\n",
       "      <td>0.601036</td>\n",
       "      <td>0.663589</td>\n",
       "      <td>0.047806</td>\n",
       "      <td>True</td>\n",
       "      <td>True</td>\n",
       "    </tr>\n",
       "    <tr>\n",
       "      <th>189</th>\n",
       "      <td>0.770418</td>\n",
       "      <td>0.872316</td>\n",
       "      <td>0.718820</td>\n",
       "      <td>0.763146</td>\n",
       "      <td>135</td>\n",
       "      <td>97</td>\n",
       "      <td>37</td>\n",
       "      <td>29</td>\n",
       "      <td>0.799730</td>\n",
       "      <td>0.870158</td>\n",
       "      <td>0.902762</td>\n",
       "      <td>0.044326</td>\n",
       "      <td>False</td>\n",
       "      <td>False</td>\n",
       "    </tr>\n",
       "    <tr>\n",
       "      <th>109</th>\n",
       "      <td>0.615584</td>\n",
       "      <td>0.622448</td>\n",
       "      <td>0.604855</td>\n",
       "      <td>0.647607</td>\n",
       "      <td>121</td>\n",
       "      <td>52</td>\n",
       "      <td>28</td>\n",
       "      <td>7</td>\n",
       "      <td>0.318868</td>\n",
       "      <td>0.477783</td>\n",
       "      <td>0.629397</td>\n",
       "      <td>0.042752</td>\n",
       "      <td>True</td>\n",
       "      <td>True</td>\n",
       "    </tr>\n",
       "    <tr>\n",
       "      <th>21</th>\n",
       "      <td>0.922631</td>\n",
       "      <td>0.953876</td>\n",
       "      <td>0.840410</td>\n",
       "      <td>0.883002</td>\n",
       "      <td>74</td>\n",
       "      <td>57</td>\n",
       "      <td>27</td>\n",
       "      <td>17</td>\n",
       "      <td>0.669203</td>\n",
       "      <td>0.831611</td>\n",
       "      <td>0.863417</td>\n",
       "      <td>0.042592</td>\n",
       "      <td>True</td>\n",
       "      <td>True</td>\n",
       "    </tr>\n",
       "    <tr>\n",
       "      <th>235</th>\n",
       "      <td>0.341083</td>\n",
       "      <td>0.403103</td>\n",
       "      <td>0.588685</td>\n",
       "      <td>0.631046</td>\n",
       "      <td>61</td>\n",
       "      <td>12</td>\n",
       "      <td>18</td>\n",
       "      <td>6</td>\n",
       "      <td>0.442262</td>\n",
       "      <td>0.652349</td>\n",
       "      <td>0.739067</td>\n",
       "      <td>0.042361</td>\n",
       "      <td>False</td>\n",
       "      <td>False</td>\n",
       "    </tr>\n",
       "    <tr>\n",
       "      <th>201</th>\n",
       "      <td>0.727183</td>\n",
       "      <td>0.705737</td>\n",
       "      <td>0.333333</td>\n",
       "      <td>0.375000</td>\n",
       "      <td>87</td>\n",
       "      <td>6</td>\n",
       "      <td>20</td>\n",
       "      <td>2</td>\n",
       "      <td>0.164583</td>\n",
       "      <td>0.591364</td>\n",
       "      <td>1.000000</td>\n",
       "      <td>0.041667</td>\n",
       "      <td>False</td>\n",
       "      <td>False</td>\n",
       "    </tr>\n",
       "  </tbody>\n",
       "</table>\n",
       "</div>"
      ],
      "text/plain": [
       "      original_train_avgprec  regmodel_train_avgprec  original_val_avgprec  \\\n",
       "diag                                                                         \n",
       "114                 0.648810                0.572917              0.500000   \n",
       "16                  0.778860                0.875100              0.679167   \n",
       "202                 0.604723                0.613677              0.450000   \n",
       "199                 0.525679                0.599710              0.345833   \n",
       "72                  0.570986                0.557263              0.257071   \n",
       "185                 0.747983                0.781202              0.250000   \n",
       "204                 0.871816                0.858868              0.792075   \n",
       "251                 0.845091                0.861073              0.585927   \n",
       "98                  0.593358                0.607337              0.296482   \n",
       "149                 0.649767                0.741951              0.568486   \n",
       "193                 0.715997                0.735875              0.698630   \n",
       "132                 0.792967                0.846221              0.878236   \n",
       "134                 0.595811                0.609654              0.159933   \n",
       "77                  0.695260                0.730388              0.200000   \n",
       "151                 0.721991                0.732804              0.663515   \n",
       "189                 0.770418                0.872316              0.718820   \n",
       "109                 0.615584                0.622448              0.604855   \n",
       "21                  0.922631                0.953876              0.840410   \n",
       "235                 0.341083                0.403103              0.588685   \n",
       "201                 0.727183                0.705737              0.333333   \n",
       "\n",
       "      regmodel_val_avgprec  size  n_positives  size_val  n_positives_val  \\\n",
       "diag                                                                       \n",
       "114               1.000000    71            4        20                1   \n",
       "16                0.950000    31           14         7                4   \n",
       "202               0.583333   103           11        24                2   \n",
       "199               0.471465    49           16        11                4   \n",
       "72                0.370833   122           47        17                4   \n",
       "185               0.333333    58           39         6                1   \n",
       "204               0.870811    92           29        25                9   \n",
       "251               0.661409    84           56        16               11   \n",
       "98                0.366407   139           47        29               10   \n",
       "149               0.634448    94           40        24               10   \n",
       "193               0.764238   420          254        86               49   \n",
       "132               0.941490   150          103        23               17   \n",
       "134               0.216833   218           93        38                6   \n",
       "77                0.250000    43           21         6                1   \n",
       "151               0.711321   381          187        73               36   \n",
       "189               0.763146   135           97        37               29   \n",
       "109               0.647607   121           52        28                7   \n",
       "21                0.883002    74           57        27               17   \n",
       "235               0.631046    61           12        18                6   \n",
       "201               0.375000    87            6        20                2   \n",
       "\n",
       "           q50       q95       q99  val_diff  above_99  above_95  \n",
       "diag                                                              \n",
       "114   0.125000  0.500000  1.000000  0.500000      True      True  \n",
       "16    0.622024  0.918333  1.000000  0.270833     False      True  \n",
       "202   0.133929  0.550441  0.750833  0.133333     False      True  \n",
       "199   0.457359  0.771935  0.841000  0.125631     False     False  \n",
       "72    0.318738  0.558393  0.668220  0.113763     False     False  \n",
       "185   0.250000  1.000000  1.000000  0.083333     False     False  \n",
       "204   0.425250  0.656459  0.729733  0.078737      True      True  \n",
       "251   0.733436  0.888489  0.950127  0.075482     False     False  \n",
       "98    0.406353  0.573309  0.667609  0.069925     False     False  \n",
       "149   0.491709  0.693144  0.776498  0.065962     False     False  \n",
       "193   0.591304  0.681532  0.726546  0.065608      True      True  \n",
       "132   0.757579  0.872129  0.893616  0.063254      True      True  \n",
       "134   0.201356  0.397621  0.459935  0.056900     False     False  \n",
       "77    0.250000  1.000000  1.000000  0.050000     False     False  \n",
       "151   0.513052  0.601036  0.663589  0.047806      True      True  \n",
       "189   0.799730  0.870158  0.902762  0.044326     False     False  \n",
       "109   0.318868  0.477783  0.629397  0.042752      True      True  \n",
       "21    0.669203  0.831611  0.863417  0.042592      True      True  \n",
       "235   0.442262  0.652349  0.739067  0.042361     False     False  \n",
       "201   0.164583  0.591364  1.000000  0.041667     False     False  "
      ]
     },
     "execution_count": 322,
     "metadata": {},
     "output_type": "execute_result"
    }
   ],
   "source": [
    "perfs.loc[better_mask,:].sort_values('val_diff',ascending=False).head(20)"
   ]
  },
  {
   "cell_type": "code",
   "execution_count": 524,
   "id": "12259a28-d248-4cab-9a2e-7d09d8a4792d",
   "metadata": {},
   "outputs": [
    {
     "data": {
      "text/html": [
       "<div>\n",
       "<style scoped>\n",
       "    .dataframe tbody tr th:only-of-type {\n",
       "        vertical-align: middle;\n",
       "    }\n",
       "\n",
       "    .dataframe tbody tr th {\n",
       "        vertical-align: top;\n",
       "    }\n",
       "\n",
       "    .dataframe thead th {\n",
       "        text-align: right;\n",
       "    }\n",
       "</style>\n",
       "<table border=\"1\" class=\"dataframe\">\n",
       "  <thead>\n",
       "    <tr style=\"text-align: right;\">\n",
       "      <th></th>\n",
       "      <th>mean predictive val avgprec</th>\n",
       "      <th>full predictive val avgprec</th>\n",
       "      <th>improvement</th>\n",
       "      <th>val size</th>\n",
       "      <th>% positives</th>\n",
       "      <th>ccs description</th>\n",
       "    </tr>\n",
       "    <tr>\n",
       "      <th>ccs</th>\n",
       "      <th></th>\n",
       "      <th></th>\n",
       "      <th></th>\n",
       "      <th></th>\n",
       "      <th></th>\n",
       "      <th></th>\n",
       "    </tr>\n",
       "  </thead>\n",
       "  <tbody>\n",
       "    <tr>\n",
       "      <th>140</th>\n",
       "      <td>0.583</td>\n",
       "      <td>1.000</td>\n",
       "      <td>0.417</td>\n",
       "      <td>6</td>\n",
       "      <td>0.333</td>\n",
       "      <td>Gastritis and duodenitis</td>\n",
       "    </tr>\n",
       "    <tr>\n",
       "      <th>197</th>\n",
       "      <td>0.583</td>\n",
       "      <td>1.000</td>\n",
       "      <td>0.417</td>\n",
       "      <td>20</td>\n",
       "      <td>0.100</td>\n",
       "      <td>Skin and subcutaneous tissue infections</td>\n",
       "    </tr>\n",
       "    <tr>\n",
       "      <th>85</th>\n",
       "      <td>0.583</td>\n",
       "      <td>0.833</td>\n",
       "      <td>0.250</td>\n",
       "      <td>4</td>\n",
       "      <td>0.500</td>\n",
       "      <td>Coma; stupor; and brain damage</td>\n",
       "    </tr>\n",
       "    <tr>\n",
       "      <th>89</th>\n",
       "      <td>0.250</td>\n",
       "      <td>0.500</td>\n",
       "      <td>0.250</td>\n",
       "      <td>4</td>\n",
       "      <td>0.250</td>\n",
       "      <td>Blindness and vision defects</td>\n",
       "    </tr>\n",
       "    <tr>\n",
       "      <th>143</th>\n",
       "      <td>0.356</td>\n",
       "      <td>0.597</td>\n",
       "      <td>0.240</td>\n",
       "      <td>22</td>\n",
       "      <td>0.227</td>\n",
       "      <td>Abdominal hernia</td>\n",
       "    </tr>\n",
       "    <tr>\n",
       "      <th>7</th>\n",
       "      <td>0.503</td>\n",
       "      <td>0.678</td>\n",
       "      <td>0.176</td>\n",
       "      <td>19</td>\n",
       "      <td>0.316</td>\n",
       "      <td>Viral infection</td>\n",
       "    </tr>\n",
       "    <tr>\n",
       "      <th>23</th>\n",
       "      <td>0.833</td>\n",
       "      <td>1.000</td>\n",
       "      <td>0.167</td>\n",
       "      <td>3</td>\n",
       "      <td>0.667</td>\n",
       "      <td>Other non-epithelial cancer of skin</td>\n",
       "    </tr>\n",
       "    <tr>\n",
       "      <th>228</th>\n",
       "      <td>0.417</td>\n",
       "      <td>0.583</td>\n",
       "      <td>0.167</td>\n",
       "      <td>7</td>\n",
       "      <td>0.286</td>\n",
       "      <td>Skull and face fractures</td>\n",
       "    </tr>\n",
       "    <tr>\n",
       "      <th>15</th>\n",
       "      <td>0.760</td>\n",
       "      <td>0.853</td>\n",
       "      <td>0.093</td>\n",
       "      <td>8</td>\n",
       "      <td>0.625</td>\n",
       "      <td>Cancer of rectum and anus</td>\n",
       "    </tr>\n",
       "    <tr>\n",
       "      <th>212</th>\n",
       "      <td>0.294</td>\n",
       "      <td>0.387</td>\n",
       "      <td>0.093</td>\n",
       "      <td>12</td>\n",
       "      <td>0.250</td>\n",
       "      <td>Other bone disease and musculoskeletal deformi...</td>\n",
       "    </tr>\n",
       "  </tbody>\n",
       "</table>\n",
       "</div>"
      ],
      "text/plain": [
       "     mean predictive val avgprec  full predictive val avgprec  improvement  \\\n",
       "ccs                                                                          \n",
       "140                        0.583                        1.000        0.417   \n",
       "197                        0.583                        1.000        0.417   \n",
       "85                         0.583                        0.833        0.250   \n",
       "89                         0.250                        0.500        0.250   \n",
       "143                        0.356                        0.597        0.240   \n",
       "7                          0.503                        0.678        0.176   \n",
       "23                         0.833                        1.000        0.167   \n",
       "228                        0.417                        0.583        0.167   \n",
       "15                         0.760                        0.853        0.093   \n",
       "212                        0.294                        0.387        0.093   \n",
       "\n",
       "     val size  % positives                                    ccs description  \n",
       "ccs                                                                            \n",
       "140         6        0.333                           Gastritis and duodenitis  \n",
       "197        20        0.100            Skin and subcutaneous tissue infections  \n",
       "85          4        0.500                     Coma; stupor; and brain damage  \n",
       "89          4        0.250                       Blindness and vision defects  \n",
       "143        22        0.227                                   Abdominal hernia  \n",
       "7          19        0.316                                    Viral infection  \n",
       "23          3        0.667                Other non-epithelial cancer of skin  \n",
       "228         7        0.286                           Skull and face fractures  \n",
       "15          8        0.625                          Cancer of rectum and anus  \n",
       "212        12        0.250  Other bone disease and musculoskeletal deformi...  "
      ]
     },
     "execution_count": 524,
     "metadata": {},
     "output_type": "execute_result"
    },
    {
     "name": "stdout",
     "output_type": "stream",
     "text": [
      "\\begin{tabular}{lrrrrrl}\n",
      "\\toprule\n",
      "{} &  mean predictive val avgprec &  full predictive val avgprec &  improvement &  val size &  \\% positives &                                    ccs description \\\\\n",
      "ccs &                              &                              &              &           &              &                                                    \\\\\n",
      "\\midrule\n",
      "140 &                        0.583 &                        1.000 &        0.417 &         6 &        0.333 &                           Gastritis and duodenitis \\\\\n",
      "197 &                        0.583 &                        1.000 &        0.417 &        20 &        0.100 &            Skin and subcutaneous tissue infections \\\\\n",
      "85  &                        0.583 &                        0.833 &        0.250 &         4 &        0.500 &                     Coma; stupor; and brain damage \\\\\n",
      "89  &                        0.250 &                        0.500 &        0.250 &         4 &        0.250 &                       Blindness and vision defects \\\\\n",
      "143 &                        0.356 &                        0.597 &        0.240 &        22 &        0.227 &                                   Abdominal hernia \\\\\n",
      "7   &                        0.503 &                        0.678 &        0.176 &        19 &        0.316 &                                    Viral infection \\\\\n",
      "23  &                        0.833 &                        1.000 &        0.167 &         3 &        0.667 &                Other non-epithelial cancer of skin \\\\\n",
      "228 &                        0.417 &                        0.583 &        0.167 &         7 &        0.286 &                           Skull and face fractures \\\\\n",
      "15  &                        0.760 &                        0.853 &        0.093 &         8 &        0.625 &                          Cancer of rectum and anus \\\\\n",
      "212 &                        0.294 &                        0.387 &        0.093 &        12 &        0.250 &  Other bone disease and musculoskeletal deformi... \\\\\n",
      "\\bottomrule\n",
      "\\end{tabular}\n",
      "\n"
     ]
    },
    {
     "name": "stderr",
     "output_type": "stream",
     "text": [
      "/tmp/ipykernel_19415/1902025478.py:19: FutureWarning: In future versions `DataFrame.to_latex` is expected to utilise the base implementation of `Styler.to_latex` for formatting and rendering. The arguments signature may therefore change. It is recommended instead to use `DataFrame.style.to_latex` which also contains additional functionality.\n",
      "  print(a.to_latex())\n"
     ]
    }
   ],
   "source": [
    "# top 10 diagnostics\n",
    "a = (perfs.loc[better_mask,:].sort_values('val_diff',ascending=False).head(10).rename(columns={'original_val_avgprec':'mean predictive val avgprec',\n",
    "                                                                                          'regmodel_val_avgprec':'full predictive val avgprec',\n",
    "                                                                                          'size':'train size',\n",
    "                                                                                          'size_val':'val size',\n",
    "                                                                                           'val_diff':'improvement',\n",
    "                                                                                               'n_positives_val': 'n_positives val'\n",
    "                                                                                         })\n",
    " .loc[:,['mean predictive val avgprec','full predictive val avgprec','improvement','val size','n_positives val']]\n",
    " .round(3)\n",
    ")\n",
    "a['% positives'] = a['n_positives val'] / a['val size']\n",
    "a = a.drop(columns='n_positives val').round(3)\n",
    "\n",
    "a['ccs'] = [dataset.grouping_data['ccs']['int2code'][e] for e in a.index]\n",
    "a['ccs description'] = icdmap.lookup('ccstodescription',a['ccs'])\n",
    "a = a.set_index('ccs')\n",
    "a\n",
    "print(a.to_latex())"
   ]
  },
  {
   "cell_type": "code",
   "execution_count": 532,
   "id": "360aa129-822b-478e-8ea1-b1d8cd54c246",
   "metadata": {},
   "outputs": [
    {
     "data": {
      "text/plain": [
       "0.16666666666666666"
      ]
     },
     "execution_count": 532,
     "metadata": {},
     "output_type": "execute_result"
    },
    {
     "data": {
      "text/plain": [
       "0.2930219841269841"
      ]
     },
     "execution_count": 532,
     "metadata": {},
     "output_type": "execute_result"
    }
   ],
   "source": [
    "a = np.zeros(10)\n",
    "a[-1] = 1\n",
    "avgprecs = list()\n",
    "for e in range(10000):\n",
    "    avgprecs.append(average_precision_score(a,np.random.rand(10)))\n",
    "np.quantile(avgprecs,0.5)\n",
    "np.mean(avgprecs)"
   ]
  },
  {
   "cell_type": "code",
   "execution_count": 525,
   "id": "b9e7ebee-18b7-47e1-bf20-6f0511c4e1ba",
   "metadata": {},
   "outputs": [
    {
     "data": {
      "text/html": [
       "<div>\n",
       "<style scoped>\n",
       "    .dataframe tbody tr th:only-of-type {\n",
       "        vertical-align: middle;\n",
       "    }\n",
       "\n",
       "    .dataframe tbody tr th {\n",
       "        vertical-align: top;\n",
       "    }\n",
       "\n",
       "    .dataframe thead th {\n",
       "        text-align: right;\n",
       "    }\n",
       "</style>\n",
       "<table border=\"1\" class=\"dataframe\">\n",
       "  <thead>\n",
       "    <tr style=\"text-align: right;\">\n",
       "      <th></th>\n",
       "      <th>mean predictive val avgprec</th>\n",
       "      <th>full predictive val avgprec</th>\n",
       "      <th>improvement</th>\n",
       "      <th>val size</th>\n",
       "      <th>% positives</th>\n",
       "      <th>ccs description</th>\n",
       "    </tr>\n",
       "    <tr>\n",
       "      <th>ccs</th>\n",
       "      <th></th>\n",
       "      <th></th>\n",
       "      <th></th>\n",
       "      <th></th>\n",
       "      <th></th>\n",
       "      <th></th>\n",
       "    </tr>\n",
       "  </thead>\n",
       "  <tbody>\n",
       "    <tr>\n",
       "      <th>248</th>\n",
       "      <td>0.727</td>\n",
       "      <td>0.304</td>\n",
       "      <td>-0.423</td>\n",
       "      <td>15</td>\n",
       "      <td>0.267</td>\n",
       "      <td>Gangrene</td>\n",
       "    </tr>\n",
       "    <tr>\n",
       "      <th>27</th>\n",
       "      <td>1.000</td>\n",
       "      <td>0.583</td>\n",
       "      <td>-0.417</td>\n",
       "      <td>3</td>\n",
       "      <td>0.667</td>\n",
       "      <td>Cancer of ovary</td>\n",
       "    </tr>\n",
       "    <tr>\n",
       "      <th>78</th>\n",
       "      <td>0.500</td>\n",
       "      <td>0.333</td>\n",
       "      <td>-0.167</td>\n",
       "      <td>4</td>\n",
       "      <td>0.250</td>\n",
       "      <td>Other CNS infection and poliomyelitis</td>\n",
       "    </tr>\n",
       "    <tr>\n",
       "      <th>209</th>\n",
       "      <td>0.967</td>\n",
       "      <td>0.826</td>\n",
       "      <td>-0.140</td>\n",
       "      <td>9</td>\n",
       "      <td>0.556</td>\n",
       "      <td>Other acquired deformities</td>\n",
       "    </tr>\n",
       "    <tr>\n",
       "      <th>17</th>\n",
       "      <td>0.804</td>\n",
       "      <td>0.679</td>\n",
       "      <td>-0.125</td>\n",
       "      <td>6</td>\n",
       "      <td>0.667</td>\n",
       "      <td>Cancer of pancreas</td>\n",
       "    </tr>\n",
       "    <tr>\n",
       "      <th>2618</th>\n",
       "      <td>0.329</td>\n",
       "      <td>0.250</td>\n",
       "      <td>-0.079</td>\n",
       "      <td>24</td>\n",
       "      <td>0.125</td>\n",
       "      <td>E Codes: Other specified and classifiable</td>\n",
       "    </tr>\n",
       "    <tr>\n",
       "      <th>162</th>\n",
       "      <td>0.592</td>\n",
       "      <td>0.521</td>\n",
       "      <td>-0.071</td>\n",
       "      <td>25</td>\n",
       "      <td>0.440</td>\n",
       "      <td>Other diseases of bladder and urethra</td>\n",
       "    </tr>\n",
       "    <tr>\n",
       "      <th>36</th>\n",
       "      <td>0.976</td>\n",
       "      <td>0.915</td>\n",
       "      <td>-0.061</td>\n",
       "      <td>7</td>\n",
       "      <td>0.857</td>\n",
       "      <td>Cancer of thyroid</td>\n",
       "    </tr>\n",
       "    <tr>\n",
       "      <th>203</th>\n",
       "      <td>0.428</td>\n",
       "      <td>0.371</td>\n",
       "      <td>-0.057</td>\n",
       "      <td>36</td>\n",
       "      <td>0.278</td>\n",
       "      <td>Osteoarthritis</td>\n",
       "    </tr>\n",
       "    <tr>\n",
       "      <th>88</th>\n",
       "      <td>0.906</td>\n",
       "      <td>0.850</td>\n",
       "      <td>-0.056</td>\n",
       "      <td>20</td>\n",
       "      <td>0.400</td>\n",
       "      <td>Glaucoma</td>\n",
       "    </tr>\n",
       "  </tbody>\n",
       "</table>\n",
       "</div>"
      ],
      "text/plain": [
       "      mean predictive val avgprec  full predictive val avgprec  improvement  \\\n",
       "ccs                                                                           \n",
       "248                         0.727                        0.304       -0.423   \n",
       "27                          1.000                        0.583       -0.417   \n",
       "78                          0.500                        0.333       -0.167   \n",
       "209                         0.967                        0.826       -0.140   \n",
       "17                          0.804                        0.679       -0.125   \n",
       "2618                        0.329                        0.250       -0.079   \n",
       "162                         0.592                        0.521       -0.071   \n",
       "36                          0.976                        0.915       -0.061   \n",
       "203                         0.428                        0.371       -0.057   \n",
       "88                          0.906                        0.850       -0.056   \n",
       "\n",
       "      val size  % positives                            ccs description  \n",
       "ccs                                                                     \n",
       "248         15        0.267                                   Gangrene  \n",
       "27           3        0.667                            Cancer of ovary  \n",
       "78           4        0.250      Other CNS infection and poliomyelitis  \n",
       "209          9        0.556                 Other acquired deformities  \n",
       "17           6        0.667                         Cancer of pancreas  \n",
       "2618        24        0.125  E Codes: Other specified and classifiable  \n",
       "162         25        0.440      Other diseases of bladder and urethra  \n",
       "36           7        0.857                          Cancer of thyroid  \n",
       "203         36        0.278                             Osteoarthritis  \n",
       "88          20        0.400                                   Glaucoma  "
      ]
     },
     "execution_count": 525,
     "metadata": {},
     "output_type": "execute_result"
    },
    {
     "name": "stdout",
     "output_type": "stream",
     "text": [
      "\\begin{tabular}{lrrrrrl}\n",
      "\\toprule\n",
      "{} &  mean predictive val avgprec &  full predictive val avgprec &  improvement &  val size &  \\% positives &                            ccs description \\\\\n",
      "ccs  &                              &                              &              &           &              &                                            \\\\\n",
      "\\midrule\n",
      "248  &                        0.727 &                        0.304 &       -0.423 &        15 &        0.267 &                                   Gangrene \\\\\n",
      "27   &                        1.000 &                        0.583 &       -0.417 &         3 &        0.667 &                            Cancer of ovary \\\\\n",
      "78   &                        0.500 &                        0.333 &       -0.167 &         4 &        0.250 &      Other CNS infection and poliomyelitis \\\\\n",
      "209  &                        0.967 &                        0.826 &       -0.140 &         9 &        0.556 &                 Other acquired deformities \\\\\n",
      "17   &                        0.804 &                        0.679 &       -0.125 &         6 &        0.667 &                         Cancer of pancreas \\\\\n",
      "2618 &                        0.329 &                        0.250 &       -0.079 &        24 &        0.125 &  E Codes: Other specified and classifiable \\\\\n",
      "162  &                        0.592 &                        0.521 &       -0.071 &        25 &        0.440 &      Other diseases of bladder and urethra \\\\\n",
      "36   &                        0.976 &                        0.915 &       -0.061 &         7 &        0.857 &                          Cancer of thyroid \\\\\n",
      "203  &                        0.428 &                        0.371 &       -0.057 &        36 &        0.278 &                             Osteoarthritis \\\\\n",
      "88   &                        0.906 &                        0.850 &       -0.056 &        20 &        0.400 &                                   Glaucoma \\\\\n",
      "\\bottomrule\n",
      "\\end{tabular}\n",
      "\n"
     ]
    },
    {
     "name": "stderr",
     "output_type": "stream",
     "text": [
      "/tmp/ipykernel_19415/334259774.py:19: FutureWarning: In future versions `DataFrame.to_latex` is expected to utilise the base implementation of `Styler.to_latex` for formatting and rendering. The arguments signature may therefore change. It is recommended instead to use `DataFrame.style.to_latex` which also contains additional functionality.\n",
      "  print(a.to_latex())\n"
     ]
    }
   ],
   "source": [
    "# Bottom 10 diagnostics\n",
    "a = (perfs.loc[worse_mask,:].sort_values('val_diff',ascending=True).head(10).rename(columns={'original_val_avgprec':'mean predictive val avgprec',\n",
    "                                                                                          'regmodel_val_avgprec':'full predictive val avgprec',\n",
    "                                                                                          'size':'train size',\n",
    "                                                                                          'size_val':'val size',\n",
    "                                                                                           'val_diff':'improvement',\n",
    "                                                                                               'n_positives_val': 'n_positives val'\n",
    "                                                                                         })\n",
    " .loc[:,['mean predictive val avgprec','full predictive val avgprec','improvement','val size','n_positives val']]\n",
    " .round(3)\n",
    ")\n",
    "a['% positives'] = a['n_positives val'] / a['val size']\n",
    "a = a.drop(columns='n_positives val').round(3)\n",
    "\n",
    "a['ccs'] = [dataset.grouping_data['ccs']['int2code'][e] for e in a.index]\n",
    "a['ccs description'] = icdmap.lookup('ccstodescription',a['ccs'])\n",
    "a = a.set_index('ccs')\n",
    "a\n",
    "print(a.to_latex())"
   ]
  },
  {
   "cell_type": "markdown",
   "id": "9b67de8d-3c26-4254-89a1-236b97654680",
   "metadata": {},
   "source": [
    "most of the large variation happens in diagnostics where the dataset is very small"
   ]
  },
  {
   "cell_type": "markdown",
   "id": "5f1825ce-9c71-43ee-b928-9998ef9ac751",
   "metadata": {},
   "source": [
    "Was the change significantly different?"
   ]
  },
  {
   "cell_type": "code",
   "execution_count": 288,
   "id": "d3529d24-1d8a-43fc-81ff-ca5e4b0c915e",
   "metadata": {},
   "outputs": [],
   "source": [
    "diag = 89\n",
    "n_samples = 100\n",
    "#target = dataset_val[diag]['target']\n",
    "target = [0,0,1]\n",
    "#dataset_val[diag]['pos_prevalence']\n",
    "random_logits = np.random.rand(n_samples,len(target))"
   ]
  },
  {
   "cell_type": "code",
   "execution_count": 285,
   "id": "2472731d-858b-4d16-afdd-578d8202cec3",
   "metadata": {},
   "outputs": [
    {
     "data": {
      "text/plain": [
       "0.44251134644478063"
      ]
     },
     "execution_count": 285,
     "metadata": {},
     "output_type": "execute_result"
    }
   ],
   "source": [
    "dataset_val[diag]['target'].sum() / len(dataset_val[diag]['target'])"
   ]
  },
  {
   "cell_type": "code",
   "execution_count": 289,
   "id": "27014884-260c-4ba7-bc89-c6df7bb0cbb0",
   "metadata": {},
   "outputs": [
    {
     "data": {
      "text/plain": [
       "count       100.000000\n",
       "mean          0.601667\n",
       "std           0.277166\n",
       "min           0.333333\n",
       "50%           0.500000\n",
       "95%           1.000000\n",
       "99%           1.000000\n",
       "99.9999%      1.000000\n",
       "max           1.000000\n",
       "dtype: float64"
      ]
     },
     "execution_count": 289,
     "metadata": {},
     "output_type": "execute_result"
    }
   ],
   "source": [
    "random_avgprecs = list()\n",
    "for i in range(random_logits.shape[0]):\n",
    "    avgprec = average_precision_score(target,random_logits[i,:])\n",
    "    random_avgprecs.append(avgprec)\n",
    "pd.Series(random_avgprecs).describe(percentiles=[0.5,0.95,0.99,0.999999])"
   ]
  },
  {
   "cell_type": "code",
   "execution_count": 313,
   "id": "3750c589-a814-4032-b771-e617424f9258",
   "metadata": {},
   "outputs": [],
   "source": [
    "a = np.random.rand(100)"
   ]
  },
  {
   "cell_type": "code",
   "execution_count": 316,
   "id": "c4f39057-c3aa-4e2b-afeb-39cada85a97b",
   "metadata": {},
   "outputs": [
    {
     "data": {
      "text/plain": [
       "0.48401811706582115"
      ]
     },
     "execution_count": 316,
     "metadata": {},
     "output_type": "execute_result"
    },
    {
     "data": {
      "text/plain": [
       "0.010511216211280663"
      ]
     },
     "execution_count": 316,
     "metadata": {},
     "output_type": "execute_result"
    }
   ],
   "source": [
    "np.quantile(a,0.5)\n",
    "np.percentile(a,0.5)"
   ]
  },
  {
   "cell_type": "code",
   "execution_count": 318,
   "id": "0484fb77-6ed8-4196-ac4f-1bd4fdafc272",
   "metadata": {
    "collapsed": true,
    "jupyter": {
     "outputs_hidden": true
    },
    "tags": []
   },
   "outputs": [
    {
     "name": "stdout",
     "output_type": "stream",
     "text": [
      "Starting to iterate the dataloader to compute random average precisions\n"
     ]
    },
    {
     "data": {
      "application/vnd.jupyter.widget-view+json": {
       "model_id": "ae3a41da3d014504a9b785c1e4a04d2d",
       "version_major": 2,
       "version_minor": 0
      },
      "text/plain": [
       "  0%|          | 0/283 [00:00<?, ?it/s]"
      ]
     },
     "metadata": {},
     "output_type": "display_data"
    },
    {
     "name": "stderr",
     "output_type": "stream",
     "text": [
      "/home/debian/Simao/miniconda3/envs/thesis/lib/python3.10/site-packages/sklearn/metrics/_ranking.py:864: RuntimeWarning: invalid value encountered in true_divide\n",
      "  recall = tps / tps[-1]\n",
      "/home/debian/Simao/miniconda3/envs/thesis/lib/python3.10/site-packages/sklearn/metrics/_ranking.py:864: RuntimeWarning: invalid value encountered in true_divide\n",
      "  recall = tps / tps[-1]\n",
      "/home/debian/Simao/miniconda3/envs/thesis/lib/python3.10/site-packages/sklearn/metrics/_ranking.py:864: RuntimeWarning: invalid value encountered in true_divide\n",
      "  recall = tps / tps[-1]\n",
      "/home/debian/Simao/miniconda3/envs/thesis/lib/python3.10/site-packages/sklearn/metrics/_ranking.py:864: RuntimeWarning: invalid value encountered in true_divide\n",
      "  recall = tps / tps[-1]\n",
      "/home/debian/Simao/miniconda3/envs/thesis/lib/python3.10/site-packages/sklearn/metrics/_ranking.py:864: RuntimeWarning: invalid value encountered in true_divide\n",
      "  recall = tps / tps[-1]\n",
      "/home/debian/Simao/miniconda3/envs/thesis/lib/python3.10/site-packages/sklearn/metrics/_ranking.py:864: RuntimeWarning: invalid value encountered in true_divide\n",
      "  recall = tps / tps[-1]\n",
      "/home/debian/Simao/miniconda3/envs/thesis/lib/python3.10/site-packages/sklearn/metrics/_ranking.py:864: RuntimeWarning: invalid value encountered in true_divide\n",
      "  recall = tps / tps[-1]\n",
      "/home/debian/Simao/miniconda3/envs/thesis/lib/python3.10/site-packages/sklearn/metrics/_ranking.py:864: RuntimeWarning: invalid value encountered in true_divide\n",
      "  recall = tps / tps[-1]\n",
      "/home/debian/Simao/miniconda3/envs/thesis/lib/python3.10/site-packages/sklearn/metrics/_ranking.py:864: RuntimeWarning: invalid value encountered in true_divide\n",
      "  recall = tps / tps[-1]\n",
      "/home/debian/Simao/miniconda3/envs/thesis/lib/python3.10/site-packages/sklearn/metrics/_ranking.py:864: RuntimeWarning: invalid value encountered in true_divide\n",
      "  recall = tps / tps[-1]\n",
      "/home/debian/Simao/miniconda3/envs/thesis/lib/python3.10/site-packages/sklearn/metrics/_ranking.py:864: RuntimeWarning: invalid value encountered in true_divide\n",
      "  recall = tps / tps[-1]\n",
      "/home/debian/Simao/miniconda3/envs/thesis/lib/python3.10/site-packages/sklearn/metrics/_ranking.py:864: RuntimeWarning: invalid value encountered in true_divide\n",
      "  recall = tps / tps[-1]\n",
      "/home/debian/Simao/miniconda3/envs/thesis/lib/python3.10/site-packages/sklearn/metrics/_ranking.py:864: RuntimeWarning: invalid value encountered in true_divide\n",
      "  recall = tps / tps[-1]\n",
      "/home/debian/Simao/miniconda3/envs/thesis/lib/python3.10/site-packages/sklearn/metrics/_ranking.py:864: RuntimeWarning: invalid value encountered in true_divide\n",
      "  recall = tps / tps[-1]\n",
      "/home/debian/Simao/miniconda3/envs/thesis/lib/python3.10/site-packages/sklearn/metrics/_ranking.py:864: RuntimeWarning: invalid value encountered in true_divide\n",
      "  recall = tps / tps[-1]\n",
      "/home/debian/Simao/miniconda3/envs/thesis/lib/python3.10/site-packages/sklearn/metrics/_ranking.py:864: RuntimeWarning: invalid value encountered in true_divide\n",
      "  recall = tps / tps[-1]\n",
      "/home/debian/Simao/miniconda3/envs/thesis/lib/python3.10/site-packages/sklearn/metrics/_ranking.py:864: RuntimeWarning: invalid value encountered in true_divide\n",
      "  recall = tps / tps[-1]\n",
      "/home/debian/Simao/miniconda3/envs/thesis/lib/python3.10/site-packages/sklearn/metrics/_ranking.py:864: RuntimeWarning: invalid value encountered in true_divide\n",
      "  recall = tps / tps[-1]\n",
      "/home/debian/Simao/miniconda3/envs/thesis/lib/python3.10/site-packages/sklearn/metrics/_ranking.py:864: RuntimeWarning: invalid value encountered in true_divide\n",
      "  recall = tps / tps[-1]\n",
      "/home/debian/Simao/miniconda3/envs/thesis/lib/python3.10/site-packages/sklearn/metrics/_ranking.py:864: RuntimeWarning: invalid value encountered in true_divide\n",
      "  recall = tps / tps[-1]\n",
      "/home/debian/Simao/miniconda3/envs/thesis/lib/python3.10/site-packages/sklearn/metrics/_ranking.py:864: RuntimeWarning: invalid value encountered in true_divide\n",
      "  recall = tps / tps[-1]\n",
      "/home/debian/Simao/miniconda3/envs/thesis/lib/python3.10/site-packages/sklearn/metrics/_ranking.py:864: RuntimeWarning: invalid value encountered in true_divide\n",
      "  recall = tps / tps[-1]\n",
      "/home/debian/Simao/miniconda3/envs/thesis/lib/python3.10/site-packages/sklearn/metrics/_ranking.py:864: RuntimeWarning: invalid value encountered in true_divide\n",
      "  recall = tps / tps[-1]\n",
      "/home/debian/Simao/miniconda3/envs/thesis/lib/python3.10/site-packages/sklearn/metrics/_ranking.py:864: RuntimeWarning: invalid value encountered in true_divide\n",
      "  recall = tps / tps[-1]\n",
      "/home/debian/Simao/miniconda3/envs/thesis/lib/python3.10/site-packages/sklearn/metrics/_ranking.py:864: RuntimeWarning: invalid value encountered in true_divide\n",
      "  recall = tps / tps[-1]\n",
      "/home/debian/Simao/miniconda3/envs/thesis/lib/python3.10/site-packages/sklearn/metrics/_ranking.py:864: RuntimeWarning: invalid value encountered in true_divide\n",
      "  recall = tps / tps[-1]\n",
      "/home/debian/Simao/miniconda3/envs/thesis/lib/python3.10/site-packages/sklearn/metrics/_ranking.py:864: RuntimeWarning: invalid value encountered in true_divide\n",
      "  recall = tps / tps[-1]\n",
      "/home/debian/Simao/miniconda3/envs/thesis/lib/python3.10/site-packages/sklearn/metrics/_ranking.py:864: RuntimeWarning: invalid value encountered in true_divide\n",
      "  recall = tps / tps[-1]\n",
      "/home/debian/Simao/miniconda3/envs/thesis/lib/python3.10/site-packages/sklearn/metrics/_ranking.py:864: RuntimeWarning: invalid value encountered in true_divide\n",
      "  recall = tps / tps[-1]\n",
      "/home/debian/Simao/miniconda3/envs/thesis/lib/python3.10/site-packages/sklearn/metrics/_ranking.py:864: RuntimeWarning: invalid value encountered in true_divide\n",
      "  recall = tps / tps[-1]\n",
      "/home/debian/Simao/miniconda3/envs/thesis/lib/python3.10/site-packages/sklearn/metrics/_ranking.py:864: RuntimeWarning: invalid value encountered in true_divide\n",
      "  recall = tps / tps[-1]\n",
      "/home/debian/Simao/miniconda3/envs/thesis/lib/python3.10/site-packages/sklearn/metrics/_ranking.py:864: RuntimeWarning: invalid value encountered in true_divide\n",
      "  recall = tps / tps[-1]\n",
      "/home/debian/Simao/miniconda3/envs/thesis/lib/python3.10/site-packages/sklearn/metrics/_ranking.py:864: RuntimeWarning: invalid value encountered in true_divide\n",
      "  recall = tps / tps[-1]\n",
      "/home/debian/Simao/miniconda3/envs/thesis/lib/python3.10/site-packages/sklearn/metrics/_ranking.py:864: RuntimeWarning: invalid value encountered in true_divide\n",
      "  recall = tps / tps[-1]\n",
      "/home/debian/Simao/miniconda3/envs/thesis/lib/python3.10/site-packages/sklearn/metrics/_ranking.py:864: RuntimeWarning: invalid value encountered in true_divide\n",
      "  recall = tps / tps[-1]\n",
      "/home/debian/Simao/miniconda3/envs/thesis/lib/python3.10/site-packages/sklearn/metrics/_ranking.py:864: RuntimeWarning: invalid value encountered in true_divide\n",
      "  recall = tps / tps[-1]\n",
      "/home/debian/Simao/miniconda3/envs/thesis/lib/python3.10/site-packages/sklearn/metrics/_ranking.py:864: RuntimeWarning: invalid value encountered in true_divide\n",
      "  recall = tps / tps[-1]\n",
      "/home/debian/Simao/miniconda3/envs/thesis/lib/python3.10/site-packages/sklearn/metrics/_ranking.py:864: RuntimeWarning: invalid value encountered in true_divide\n",
      "  recall = tps / tps[-1]\n",
      "/home/debian/Simao/miniconda3/envs/thesis/lib/python3.10/site-packages/sklearn/metrics/_ranking.py:864: RuntimeWarning: invalid value encountered in true_divide\n",
      "  recall = tps / tps[-1]\n",
      "/home/debian/Simao/miniconda3/envs/thesis/lib/python3.10/site-packages/sklearn/metrics/_ranking.py:864: RuntimeWarning: invalid value encountered in true_divide\n",
      "  recall = tps / tps[-1]\n",
      "/home/debian/Simao/miniconda3/envs/thesis/lib/python3.10/site-packages/sklearn/metrics/_ranking.py:864: RuntimeWarning: invalid value encountered in true_divide\n",
      "  recall = tps / tps[-1]\n",
      "/home/debian/Simao/miniconda3/envs/thesis/lib/python3.10/site-packages/sklearn/metrics/_ranking.py:864: RuntimeWarning: invalid value encountered in true_divide\n",
      "  recall = tps / tps[-1]\n",
      "/home/debian/Simao/miniconda3/envs/thesis/lib/python3.10/site-packages/sklearn/metrics/_ranking.py:864: RuntimeWarning: invalid value encountered in true_divide\n",
      "  recall = tps / tps[-1]\n",
      "/home/debian/Simao/miniconda3/envs/thesis/lib/python3.10/site-packages/sklearn/metrics/_ranking.py:864: RuntimeWarning: invalid value encountered in true_divide\n",
      "  recall = tps / tps[-1]\n",
      "/home/debian/Simao/miniconda3/envs/thesis/lib/python3.10/site-packages/sklearn/metrics/_ranking.py:864: RuntimeWarning: invalid value encountered in true_divide\n",
      "  recall = tps / tps[-1]\n",
      "/home/debian/Simao/miniconda3/envs/thesis/lib/python3.10/site-packages/sklearn/metrics/_ranking.py:864: RuntimeWarning: invalid value encountered in true_divide\n",
      "  recall = tps / tps[-1]\n",
      "/home/debian/Simao/miniconda3/envs/thesis/lib/python3.10/site-packages/sklearn/metrics/_ranking.py:864: RuntimeWarning: invalid value encountered in true_divide\n",
      "  recall = tps / tps[-1]\n",
      "/home/debian/Simao/miniconda3/envs/thesis/lib/python3.10/site-packages/sklearn/metrics/_ranking.py:864: RuntimeWarning: invalid value encountered in true_divide\n",
      "  recall = tps / tps[-1]\n",
      "/home/debian/Simao/miniconda3/envs/thesis/lib/python3.10/site-packages/sklearn/metrics/_ranking.py:864: RuntimeWarning: invalid value encountered in true_divide\n",
      "  recall = tps / tps[-1]\n",
      "/home/debian/Simao/miniconda3/envs/thesis/lib/python3.10/site-packages/sklearn/metrics/_ranking.py:864: RuntimeWarning: invalid value encountered in true_divide\n",
      "  recall = tps / tps[-1]\n",
      "/home/debian/Simao/miniconda3/envs/thesis/lib/python3.10/site-packages/sklearn/metrics/_ranking.py:864: RuntimeWarning: invalid value encountered in true_divide\n",
      "  recall = tps / tps[-1]\n",
      "/home/debian/Simao/miniconda3/envs/thesis/lib/python3.10/site-packages/sklearn/metrics/_ranking.py:864: RuntimeWarning: invalid value encountered in true_divide\n",
      "  recall = tps / tps[-1]\n",
      "/home/debian/Simao/miniconda3/envs/thesis/lib/python3.10/site-packages/sklearn/metrics/_ranking.py:864: RuntimeWarning: invalid value encountered in true_divide\n",
      "  recall = tps / tps[-1]\n",
      "/home/debian/Simao/miniconda3/envs/thesis/lib/python3.10/site-packages/sklearn/metrics/_ranking.py:864: RuntimeWarning: invalid value encountered in true_divide\n",
      "  recall = tps / tps[-1]\n",
      "/home/debian/Simao/miniconda3/envs/thesis/lib/python3.10/site-packages/sklearn/metrics/_ranking.py:864: RuntimeWarning: invalid value encountered in true_divide\n",
      "  recall = tps / tps[-1]\n",
      "/home/debian/Simao/miniconda3/envs/thesis/lib/python3.10/site-packages/sklearn/metrics/_ranking.py:864: RuntimeWarning: invalid value encountered in true_divide\n",
      "  recall = tps / tps[-1]\n",
      "/home/debian/Simao/miniconda3/envs/thesis/lib/python3.10/site-packages/sklearn/metrics/_ranking.py:864: RuntimeWarning: invalid value encountered in true_divide\n",
      "  recall = tps / tps[-1]\n",
      "/home/debian/Simao/miniconda3/envs/thesis/lib/python3.10/site-packages/sklearn/metrics/_ranking.py:864: RuntimeWarning: invalid value encountered in true_divide\n",
      "  recall = tps / tps[-1]\n",
      "/home/debian/Simao/miniconda3/envs/thesis/lib/python3.10/site-packages/sklearn/metrics/_ranking.py:864: RuntimeWarning: invalid value encountered in true_divide\n",
      "  recall = tps / tps[-1]\n",
      "/home/debian/Simao/miniconda3/envs/thesis/lib/python3.10/site-packages/sklearn/metrics/_ranking.py:864: RuntimeWarning: invalid value encountered in true_divide\n",
      "  recall = tps / tps[-1]\n",
      "/home/debian/Simao/miniconda3/envs/thesis/lib/python3.10/site-packages/sklearn/metrics/_ranking.py:864: RuntimeWarning: invalid value encountered in true_divide\n",
      "  recall = tps / tps[-1]\n",
      "/home/debian/Simao/miniconda3/envs/thesis/lib/python3.10/site-packages/sklearn/metrics/_ranking.py:864: RuntimeWarning: invalid value encountered in true_divide\n",
      "  recall = tps / tps[-1]\n",
      "/home/debian/Simao/miniconda3/envs/thesis/lib/python3.10/site-packages/sklearn/metrics/_ranking.py:864: RuntimeWarning: invalid value encountered in true_divide\n",
      "  recall = tps / tps[-1]\n",
      "/home/debian/Simao/miniconda3/envs/thesis/lib/python3.10/site-packages/sklearn/metrics/_ranking.py:864: RuntimeWarning: invalid value encountered in true_divide\n",
      "  recall = tps / tps[-1]\n",
      "/home/debian/Simao/miniconda3/envs/thesis/lib/python3.10/site-packages/sklearn/metrics/_ranking.py:864: RuntimeWarning: invalid value encountered in true_divide\n",
      "  recall = tps / tps[-1]\n",
      "/home/debian/Simao/miniconda3/envs/thesis/lib/python3.10/site-packages/sklearn/metrics/_ranking.py:864: RuntimeWarning: invalid value encountered in true_divide\n",
      "  recall = tps / tps[-1]\n",
      "/home/debian/Simao/miniconda3/envs/thesis/lib/python3.10/site-packages/sklearn/metrics/_ranking.py:864: RuntimeWarning: invalid value encountered in true_divide\n",
      "  recall = tps / tps[-1]\n",
      "/home/debian/Simao/miniconda3/envs/thesis/lib/python3.10/site-packages/sklearn/metrics/_ranking.py:864: RuntimeWarning: invalid value encountered in true_divide\n",
      "  recall = tps / tps[-1]\n",
      "/home/debian/Simao/miniconda3/envs/thesis/lib/python3.10/site-packages/sklearn/metrics/_ranking.py:864: RuntimeWarning: invalid value encountered in true_divide\n",
      "  recall = tps / tps[-1]\n",
      "/home/debian/Simao/miniconda3/envs/thesis/lib/python3.10/site-packages/sklearn/metrics/_ranking.py:864: RuntimeWarning: invalid value encountered in true_divide\n",
      "  recall = tps / tps[-1]\n",
      "/home/debian/Simao/miniconda3/envs/thesis/lib/python3.10/site-packages/sklearn/metrics/_ranking.py:864: RuntimeWarning: invalid value encountered in true_divide\n",
      "  recall = tps / tps[-1]\n",
      "/home/debian/Simao/miniconda3/envs/thesis/lib/python3.10/site-packages/sklearn/metrics/_ranking.py:864: RuntimeWarning: invalid value encountered in true_divide\n",
      "  recall = tps / tps[-1]\n",
      "/home/debian/Simao/miniconda3/envs/thesis/lib/python3.10/site-packages/sklearn/metrics/_ranking.py:864: RuntimeWarning: invalid value encountered in true_divide\n",
      "  recall = tps / tps[-1]\n",
      "/home/debian/Simao/miniconda3/envs/thesis/lib/python3.10/site-packages/sklearn/metrics/_ranking.py:864: RuntimeWarning: invalid value encountered in true_divide\n",
      "  recall = tps / tps[-1]\n",
      "/home/debian/Simao/miniconda3/envs/thesis/lib/python3.10/site-packages/sklearn/metrics/_ranking.py:864: RuntimeWarning: invalid value encountered in true_divide\n",
      "  recall = tps / tps[-1]\n",
      "/home/debian/Simao/miniconda3/envs/thesis/lib/python3.10/site-packages/sklearn/metrics/_ranking.py:864: RuntimeWarning: invalid value encountered in true_divide\n",
      "  recall = tps / tps[-1]\n",
      "/home/debian/Simao/miniconda3/envs/thesis/lib/python3.10/site-packages/sklearn/metrics/_ranking.py:864: RuntimeWarning: invalid value encountered in true_divide\n",
      "  recall = tps / tps[-1]\n",
      "/home/debian/Simao/miniconda3/envs/thesis/lib/python3.10/site-packages/sklearn/metrics/_ranking.py:864: RuntimeWarning: invalid value encountered in true_divide\n",
      "  recall = tps / tps[-1]\n",
      "/home/debian/Simao/miniconda3/envs/thesis/lib/python3.10/site-packages/sklearn/metrics/_ranking.py:864: RuntimeWarning: invalid value encountered in true_divide\n",
      "  recall = tps / tps[-1]\n",
      "/home/debian/Simao/miniconda3/envs/thesis/lib/python3.10/site-packages/sklearn/metrics/_ranking.py:864: RuntimeWarning: invalid value encountered in true_divide\n",
      "  recall = tps / tps[-1]\n",
      "/home/debian/Simao/miniconda3/envs/thesis/lib/python3.10/site-packages/sklearn/metrics/_ranking.py:864: RuntimeWarning: invalid value encountered in true_divide\n",
      "  recall = tps / tps[-1]\n",
      "/home/debian/Simao/miniconda3/envs/thesis/lib/python3.10/site-packages/sklearn/metrics/_ranking.py:864: RuntimeWarning: invalid value encountered in true_divide\n",
      "  recall = tps / tps[-1]\n",
      "/home/debian/Simao/miniconda3/envs/thesis/lib/python3.10/site-packages/sklearn/metrics/_ranking.py:864: RuntimeWarning: invalid value encountered in true_divide\n",
      "  recall = tps / tps[-1]\n",
      "/home/debian/Simao/miniconda3/envs/thesis/lib/python3.10/site-packages/sklearn/metrics/_ranking.py:864: RuntimeWarning: invalid value encountered in true_divide\n",
      "  recall = tps / tps[-1]\n",
      "/home/debian/Simao/miniconda3/envs/thesis/lib/python3.10/site-packages/sklearn/metrics/_ranking.py:864: RuntimeWarning: invalid value encountered in true_divide\n",
      "  recall = tps / tps[-1]\n",
      "/home/debian/Simao/miniconda3/envs/thesis/lib/python3.10/site-packages/sklearn/metrics/_ranking.py:864: RuntimeWarning: invalid value encountered in true_divide\n",
      "  recall = tps / tps[-1]\n",
      "/home/debian/Simao/miniconda3/envs/thesis/lib/python3.10/site-packages/sklearn/metrics/_ranking.py:864: RuntimeWarning: invalid value encountered in true_divide\n",
      "  recall = tps / tps[-1]\n",
      "/home/debian/Simao/miniconda3/envs/thesis/lib/python3.10/site-packages/sklearn/metrics/_ranking.py:864: RuntimeWarning: invalid value encountered in true_divide\n",
      "  recall = tps / tps[-1]\n",
      "/home/debian/Simao/miniconda3/envs/thesis/lib/python3.10/site-packages/sklearn/metrics/_ranking.py:864: RuntimeWarning: invalid value encountered in true_divide\n",
      "  recall = tps / tps[-1]\n",
      "/home/debian/Simao/miniconda3/envs/thesis/lib/python3.10/site-packages/sklearn/metrics/_ranking.py:864: RuntimeWarning: invalid value encountered in true_divide\n",
      "  recall = tps / tps[-1]\n",
      "/home/debian/Simao/miniconda3/envs/thesis/lib/python3.10/site-packages/sklearn/metrics/_ranking.py:864: RuntimeWarning: invalid value encountered in true_divide\n",
      "  recall = tps / tps[-1]\n",
      "/home/debian/Simao/miniconda3/envs/thesis/lib/python3.10/site-packages/sklearn/metrics/_ranking.py:864: RuntimeWarning: invalid value encountered in true_divide\n",
      "  recall = tps / tps[-1]\n",
      "/home/debian/Simao/miniconda3/envs/thesis/lib/python3.10/site-packages/sklearn/metrics/_ranking.py:864: RuntimeWarning: invalid value encountered in true_divide\n",
      "  recall = tps / tps[-1]\n",
      "/home/debian/Simao/miniconda3/envs/thesis/lib/python3.10/site-packages/sklearn/metrics/_ranking.py:864: RuntimeWarning: invalid value encountered in true_divide\n",
      "  recall = tps / tps[-1]\n",
      "/home/debian/Simao/miniconda3/envs/thesis/lib/python3.10/site-packages/sklearn/metrics/_ranking.py:864: RuntimeWarning: invalid value encountered in true_divide\n",
      "  recall = tps / tps[-1]\n",
      "/home/debian/Simao/miniconda3/envs/thesis/lib/python3.10/site-packages/sklearn/metrics/_ranking.py:864: RuntimeWarning: invalid value encountered in true_divide\n",
      "  recall = tps / tps[-1]\n",
      "/home/debian/Simao/miniconda3/envs/thesis/lib/python3.10/site-packages/sklearn/metrics/_ranking.py:864: RuntimeWarning: invalid value encountered in true_divide\n",
      "  recall = tps / tps[-1]\n",
      "/home/debian/Simao/miniconda3/envs/thesis/lib/python3.10/site-packages/sklearn/metrics/_ranking.py:864: RuntimeWarning: invalid value encountered in true_divide\n",
      "  recall = tps / tps[-1]\n",
      "/home/debian/Simao/miniconda3/envs/thesis/lib/python3.10/site-packages/sklearn/metrics/_ranking.py:864: RuntimeWarning: invalid value encountered in true_divide\n",
      "  recall = tps / tps[-1]\n",
      "/home/debian/Simao/miniconda3/envs/thesis/lib/python3.10/site-packages/sklearn/metrics/_ranking.py:864: RuntimeWarning: invalid value encountered in true_divide\n",
      "  recall = tps / tps[-1]\n",
      "/home/debian/Simao/miniconda3/envs/thesis/lib/python3.10/site-packages/sklearn/metrics/_ranking.py:864: RuntimeWarning: invalid value encountered in true_divide\n",
      "  recall = tps / tps[-1]\n",
      "/home/debian/Simao/miniconda3/envs/thesis/lib/python3.10/site-packages/sklearn/metrics/_ranking.py:864: RuntimeWarning: invalid value encountered in true_divide\n",
      "  recall = tps / tps[-1]\n",
      "/home/debian/Simao/miniconda3/envs/thesis/lib/python3.10/site-packages/sklearn/metrics/_ranking.py:864: RuntimeWarning: invalid value encountered in true_divide\n",
      "  recall = tps / tps[-1]\n",
      "/home/debian/Simao/miniconda3/envs/thesis/lib/python3.10/site-packages/sklearn/metrics/_ranking.py:864: RuntimeWarning: invalid value encountered in true_divide\n",
      "  recall = tps / tps[-1]\n",
      "/home/debian/Simao/miniconda3/envs/thesis/lib/python3.10/site-packages/sklearn/metrics/_ranking.py:864: RuntimeWarning: invalid value encountered in true_divide\n",
      "  recall = tps / tps[-1]\n",
      "/home/debian/Simao/miniconda3/envs/thesis/lib/python3.10/site-packages/sklearn/metrics/_ranking.py:864: RuntimeWarning: invalid value encountered in true_divide\n",
      "  recall = tps / tps[-1]\n",
      "/home/debian/Simao/miniconda3/envs/thesis/lib/python3.10/site-packages/sklearn/metrics/_ranking.py:864: RuntimeWarning: invalid value encountered in true_divide\n",
      "  recall = tps / tps[-1]\n",
      "/home/debian/Simao/miniconda3/envs/thesis/lib/python3.10/site-packages/sklearn/metrics/_ranking.py:864: RuntimeWarning: invalid value encountered in true_divide\n",
      "  recall = tps / tps[-1]\n",
      "/home/debian/Simao/miniconda3/envs/thesis/lib/python3.10/site-packages/sklearn/metrics/_ranking.py:864: RuntimeWarning: invalid value encountered in true_divide\n",
      "  recall = tps / tps[-1]\n",
      "/home/debian/Simao/miniconda3/envs/thesis/lib/python3.10/site-packages/sklearn/metrics/_ranking.py:864: RuntimeWarning: invalid value encountered in true_divide\n",
      "  recall = tps / tps[-1]\n",
      "/home/debian/Simao/miniconda3/envs/thesis/lib/python3.10/site-packages/sklearn/metrics/_ranking.py:864: RuntimeWarning: invalid value encountered in true_divide\n",
      "  recall = tps / tps[-1]\n",
      "/home/debian/Simao/miniconda3/envs/thesis/lib/python3.10/site-packages/sklearn/metrics/_ranking.py:864: RuntimeWarning: invalid value encountered in true_divide\n",
      "  recall = tps / tps[-1]\n",
      "/home/debian/Simao/miniconda3/envs/thesis/lib/python3.10/site-packages/sklearn/metrics/_ranking.py:864: RuntimeWarning: invalid value encountered in true_divide\n",
      "  recall = tps / tps[-1]\n",
      "/home/debian/Simao/miniconda3/envs/thesis/lib/python3.10/site-packages/sklearn/metrics/_ranking.py:864: RuntimeWarning: invalid value encountered in true_divide\n",
      "  recall = tps / tps[-1]\n",
      "/home/debian/Simao/miniconda3/envs/thesis/lib/python3.10/site-packages/sklearn/metrics/_ranking.py:864: RuntimeWarning: invalid value encountered in true_divide\n",
      "  recall = tps / tps[-1]\n",
      "/home/debian/Simao/miniconda3/envs/thesis/lib/python3.10/site-packages/sklearn/metrics/_ranking.py:864: RuntimeWarning: invalid value encountered in true_divide\n",
      "  recall = tps / tps[-1]\n",
      "/home/debian/Simao/miniconda3/envs/thesis/lib/python3.10/site-packages/sklearn/metrics/_ranking.py:864: RuntimeWarning: invalid value encountered in true_divide\n",
      "  recall = tps / tps[-1]\n",
      "/home/debian/Simao/miniconda3/envs/thesis/lib/python3.10/site-packages/sklearn/metrics/_ranking.py:864: RuntimeWarning: invalid value encountered in true_divide\n",
      "  recall = tps / tps[-1]\n",
      "/home/debian/Simao/miniconda3/envs/thesis/lib/python3.10/site-packages/sklearn/metrics/_ranking.py:864: RuntimeWarning: invalid value encountered in true_divide\n",
      "  recall = tps / tps[-1]\n",
      "/home/debian/Simao/miniconda3/envs/thesis/lib/python3.10/site-packages/sklearn/metrics/_ranking.py:864: RuntimeWarning: invalid value encountered in true_divide\n",
      "  recall = tps / tps[-1]\n",
      "/home/debian/Simao/miniconda3/envs/thesis/lib/python3.10/site-packages/sklearn/metrics/_ranking.py:864: RuntimeWarning: invalid value encountered in true_divide\n",
      "  recall = tps / tps[-1]\n",
      "/home/debian/Simao/miniconda3/envs/thesis/lib/python3.10/site-packages/sklearn/metrics/_ranking.py:864: RuntimeWarning: invalid value encountered in true_divide\n",
      "  recall = tps / tps[-1]\n",
      "/home/debian/Simao/miniconda3/envs/thesis/lib/python3.10/site-packages/sklearn/metrics/_ranking.py:864: RuntimeWarning: invalid value encountered in true_divide\n",
      "  recall = tps / tps[-1]\n",
      "/home/debian/Simao/miniconda3/envs/thesis/lib/python3.10/site-packages/sklearn/metrics/_ranking.py:864: RuntimeWarning: invalid value encountered in true_divide\n",
      "  recall = tps / tps[-1]\n",
      "/home/debian/Simao/miniconda3/envs/thesis/lib/python3.10/site-packages/sklearn/metrics/_ranking.py:864: RuntimeWarning: invalid value encountered in true_divide\n",
      "  recall = tps / tps[-1]\n",
      "/home/debian/Simao/miniconda3/envs/thesis/lib/python3.10/site-packages/sklearn/metrics/_ranking.py:864: RuntimeWarning: invalid value encountered in true_divide\n",
      "  recall = tps / tps[-1]\n",
      "/home/debian/Simao/miniconda3/envs/thesis/lib/python3.10/site-packages/sklearn/metrics/_ranking.py:864: RuntimeWarning: invalid value encountered in true_divide\n",
      "  recall = tps / tps[-1]\n",
      "/home/debian/Simao/miniconda3/envs/thesis/lib/python3.10/site-packages/sklearn/metrics/_ranking.py:864: RuntimeWarning: invalid value encountered in true_divide\n",
      "  recall = tps / tps[-1]\n",
      "/home/debian/Simao/miniconda3/envs/thesis/lib/python3.10/site-packages/sklearn/metrics/_ranking.py:864: RuntimeWarning: invalid value encountered in true_divide\n",
      "  recall = tps / tps[-1]\n",
      "/home/debian/Simao/miniconda3/envs/thesis/lib/python3.10/site-packages/sklearn/metrics/_ranking.py:864: RuntimeWarning: invalid value encountered in true_divide\n",
      "  recall = tps / tps[-1]\n",
      "/home/debian/Simao/miniconda3/envs/thesis/lib/python3.10/site-packages/sklearn/metrics/_ranking.py:864: RuntimeWarning: invalid value encountered in true_divide\n",
      "  recall = tps / tps[-1]\n",
      "/home/debian/Simao/miniconda3/envs/thesis/lib/python3.10/site-packages/sklearn/metrics/_ranking.py:864: RuntimeWarning: invalid value encountered in true_divide\n",
      "  recall = tps / tps[-1]\n",
      "/home/debian/Simao/miniconda3/envs/thesis/lib/python3.10/site-packages/sklearn/metrics/_ranking.py:864: RuntimeWarning: invalid value encountered in true_divide\n",
      "  recall = tps / tps[-1]\n",
      "/home/debian/Simao/miniconda3/envs/thesis/lib/python3.10/site-packages/sklearn/metrics/_ranking.py:864: RuntimeWarning: invalid value encountered in true_divide\n",
      "  recall = tps / tps[-1]\n",
      "/home/debian/Simao/miniconda3/envs/thesis/lib/python3.10/site-packages/sklearn/metrics/_ranking.py:864: RuntimeWarning: invalid value encountered in true_divide\n",
      "  recall = tps / tps[-1]\n",
      "/home/debian/Simao/miniconda3/envs/thesis/lib/python3.10/site-packages/sklearn/metrics/_ranking.py:864: RuntimeWarning: invalid value encountered in true_divide\n",
      "  recall = tps / tps[-1]\n",
      "/home/debian/Simao/miniconda3/envs/thesis/lib/python3.10/site-packages/sklearn/metrics/_ranking.py:864: RuntimeWarning: invalid value encountered in true_divide\n",
      "  recall = tps / tps[-1]\n",
      "/home/debian/Simao/miniconda3/envs/thesis/lib/python3.10/site-packages/sklearn/metrics/_ranking.py:864: RuntimeWarning: invalid value encountered in true_divide\n",
      "  recall = tps / tps[-1]\n",
      "/home/debian/Simao/miniconda3/envs/thesis/lib/python3.10/site-packages/sklearn/metrics/_ranking.py:864: RuntimeWarning: invalid value encountered in true_divide\n",
      "  recall = tps / tps[-1]\n",
      "/home/debian/Simao/miniconda3/envs/thesis/lib/python3.10/site-packages/sklearn/metrics/_ranking.py:864: RuntimeWarning: invalid value encountered in true_divide\n",
      "  recall = tps / tps[-1]\n",
      "/home/debian/Simao/miniconda3/envs/thesis/lib/python3.10/site-packages/sklearn/metrics/_ranking.py:864: RuntimeWarning: invalid value encountered in true_divide\n",
      "  recall = tps / tps[-1]\n",
      "/home/debian/Simao/miniconda3/envs/thesis/lib/python3.10/site-packages/sklearn/metrics/_ranking.py:864: RuntimeWarning: invalid value encountered in true_divide\n",
      "  recall = tps / tps[-1]\n",
      "/home/debian/Simao/miniconda3/envs/thesis/lib/python3.10/site-packages/sklearn/metrics/_ranking.py:864: RuntimeWarning: invalid value encountered in true_divide\n",
      "  recall = tps / tps[-1]\n",
      "/home/debian/Simao/miniconda3/envs/thesis/lib/python3.10/site-packages/sklearn/metrics/_ranking.py:864: RuntimeWarning: invalid value encountered in true_divide\n",
      "  recall = tps / tps[-1]\n",
      "/home/debian/Simao/miniconda3/envs/thesis/lib/python3.10/site-packages/sklearn/metrics/_ranking.py:864: RuntimeWarning: invalid value encountered in true_divide\n",
      "  recall = tps / tps[-1]\n",
      "/home/debian/Simao/miniconda3/envs/thesis/lib/python3.10/site-packages/sklearn/metrics/_ranking.py:864: RuntimeWarning: invalid value encountered in true_divide\n",
      "  recall = tps / tps[-1]\n",
      "/home/debian/Simao/miniconda3/envs/thesis/lib/python3.10/site-packages/sklearn/metrics/_ranking.py:864: RuntimeWarning: invalid value encountered in true_divide\n",
      "  recall = tps / tps[-1]\n",
      "/home/debian/Simao/miniconda3/envs/thesis/lib/python3.10/site-packages/sklearn/metrics/_ranking.py:864: RuntimeWarning: invalid value encountered in true_divide\n",
      "  recall = tps / tps[-1]\n",
      "/home/debian/Simao/miniconda3/envs/thesis/lib/python3.10/site-packages/sklearn/metrics/_ranking.py:864: RuntimeWarning: invalid value encountered in true_divide\n",
      "  recall = tps / tps[-1]\n",
      "/home/debian/Simao/miniconda3/envs/thesis/lib/python3.10/site-packages/sklearn/metrics/_ranking.py:864: RuntimeWarning: invalid value encountered in true_divide\n",
      "  recall = tps / tps[-1]\n",
      "/home/debian/Simao/miniconda3/envs/thesis/lib/python3.10/site-packages/sklearn/metrics/_ranking.py:864: RuntimeWarning: invalid value encountered in true_divide\n",
      "  recall = tps / tps[-1]\n",
      "/home/debian/Simao/miniconda3/envs/thesis/lib/python3.10/site-packages/sklearn/metrics/_ranking.py:864: RuntimeWarning: invalid value encountered in true_divide\n",
      "  recall = tps / tps[-1]\n",
      "/home/debian/Simao/miniconda3/envs/thesis/lib/python3.10/site-packages/sklearn/metrics/_ranking.py:864: RuntimeWarning: invalid value encountered in true_divide\n",
      "  recall = tps / tps[-1]\n",
      "/home/debian/Simao/miniconda3/envs/thesis/lib/python3.10/site-packages/sklearn/metrics/_ranking.py:864: RuntimeWarning: invalid value encountered in true_divide\n",
      "  recall = tps / tps[-1]\n",
      "/home/debian/Simao/miniconda3/envs/thesis/lib/python3.10/site-packages/sklearn/metrics/_ranking.py:864: RuntimeWarning: invalid value encountered in true_divide\n",
      "  recall = tps / tps[-1]\n",
      "/home/debian/Simao/miniconda3/envs/thesis/lib/python3.10/site-packages/sklearn/metrics/_ranking.py:864: RuntimeWarning: invalid value encountered in true_divide\n",
      "  recall = tps / tps[-1]\n",
      "/home/debian/Simao/miniconda3/envs/thesis/lib/python3.10/site-packages/sklearn/metrics/_ranking.py:864: RuntimeWarning: invalid value encountered in true_divide\n",
      "  recall = tps / tps[-1]\n",
      "/home/debian/Simao/miniconda3/envs/thesis/lib/python3.10/site-packages/sklearn/metrics/_ranking.py:864: RuntimeWarning: invalid value encountered in true_divide\n",
      "  recall = tps / tps[-1]\n",
      "/home/debian/Simao/miniconda3/envs/thesis/lib/python3.10/site-packages/sklearn/metrics/_ranking.py:864: RuntimeWarning: invalid value encountered in true_divide\n",
      "  recall = tps / tps[-1]\n",
      "/home/debian/Simao/miniconda3/envs/thesis/lib/python3.10/site-packages/sklearn/metrics/_ranking.py:864: RuntimeWarning: invalid value encountered in true_divide\n",
      "  recall = tps / tps[-1]\n",
      "/home/debian/Simao/miniconda3/envs/thesis/lib/python3.10/site-packages/sklearn/metrics/_ranking.py:864: RuntimeWarning: invalid value encountered in true_divide\n",
      "  recall = tps / tps[-1]\n",
      "/home/debian/Simao/miniconda3/envs/thesis/lib/python3.10/site-packages/sklearn/metrics/_ranking.py:864: RuntimeWarning: invalid value encountered in true_divide\n",
      "  recall = tps / tps[-1]\n",
      "/home/debian/Simao/miniconda3/envs/thesis/lib/python3.10/site-packages/sklearn/metrics/_ranking.py:864: RuntimeWarning: invalid value encountered in true_divide\n",
      "  recall = tps / tps[-1]\n",
      "/home/debian/Simao/miniconda3/envs/thesis/lib/python3.10/site-packages/sklearn/metrics/_ranking.py:864: RuntimeWarning: invalid value encountered in true_divide\n",
      "  recall = tps / tps[-1]\n",
      "/home/debian/Simao/miniconda3/envs/thesis/lib/python3.10/site-packages/sklearn/metrics/_ranking.py:864: RuntimeWarning: invalid value encountered in true_divide\n",
      "  recall = tps / tps[-1]\n",
      "/home/debian/Simao/miniconda3/envs/thesis/lib/python3.10/site-packages/sklearn/metrics/_ranking.py:864: RuntimeWarning: invalid value encountered in true_divide\n",
      "  recall = tps / tps[-1]\n",
      "/home/debian/Simao/miniconda3/envs/thesis/lib/python3.10/site-packages/sklearn/metrics/_ranking.py:864: RuntimeWarning: invalid value encountered in true_divide\n",
      "  recall = tps / tps[-1]\n",
      "/home/debian/Simao/miniconda3/envs/thesis/lib/python3.10/site-packages/sklearn/metrics/_ranking.py:864: RuntimeWarning: invalid value encountered in true_divide\n",
      "  recall = tps / tps[-1]\n",
      "/home/debian/Simao/miniconda3/envs/thesis/lib/python3.10/site-packages/sklearn/metrics/_ranking.py:864: RuntimeWarning: invalid value encountered in true_divide\n",
      "  recall = tps / tps[-1]\n",
      "/home/debian/Simao/miniconda3/envs/thesis/lib/python3.10/site-packages/sklearn/metrics/_ranking.py:864: RuntimeWarning: invalid value encountered in true_divide\n",
      "  recall = tps / tps[-1]\n",
      "/home/debian/Simao/miniconda3/envs/thesis/lib/python3.10/site-packages/sklearn/metrics/_ranking.py:864: RuntimeWarning: invalid value encountered in true_divide\n",
      "  recall = tps / tps[-1]\n",
      "/home/debian/Simao/miniconda3/envs/thesis/lib/python3.10/site-packages/sklearn/metrics/_ranking.py:864: RuntimeWarning: invalid value encountered in true_divide\n",
      "  recall = tps / tps[-1]\n",
      "/home/debian/Simao/miniconda3/envs/thesis/lib/python3.10/site-packages/sklearn/metrics/_ranking.py:864: RuntimeWarning: invalid value encountered in true_divide\n",
      "  recall = tps / tps[-1]\n",
      "/home/debian/Simao/miniconda3/envs/thesis/lib/python3.10/site-packages/sklearn/metrics/_ranking.py:864: RuntimeWarning: invalid value encountered in true_divide\n",
      "  recall = tps / tps[-1]\n",
      "/home/debian/Simao/miniconda3/envs/thesis/lib/python3.10/site-packages/sklearn/metrics/_ranking.py:864: RuntimeWarning: invalid value encountered in true_divide\n",
      "  recall = tps / tps[-1]\n",
      "/home/debian/Simao/miniconda3/envs/thesis/lib/python3.10/site-packages/sklearn/metrics/_ranking.py:864: RuntimeWarning: invalid value encountered in true_divide\n",
      "  recall = tps / tps[-1]\n",
      "/home/debian/Simao/miniconda3/envs/thesis/lib/python3.10/site-packages/sklearn/metrics/_ranking.py:864: RuntimeWarning: invalid value encountered in true_divide\n",
      "  recall = tps / tps[-1]\n",
      "/home/debian/Simao/miniconda3/envs/thesis/lib/python3.10/site-packages/sklearn/metrics/_ranking.py:864: RuntimeWarning: invalid value encountered in true_divide\n",
      "  recall = tps / tps[-1]\n",
      "/home/debian/Simao/miniconda3/envs/thesis/lib/python3.10/site-packages/sklearn/metrics/_ranking.py:864: RuntimeWarning: invalid value encountered in true_divide\n",
      "  recall = tps / tps[-1]\n",
      "/home/debian/Simao/miniconda3/envs/thesis/lib/python3.10/site-packages/sklearn/metrics/_ranking.py:864: RuntimeWarning: invalid value encountered in true_divide\n",
      "  recall = tps / tps[-1]\n",
      "/home/debian/Simao/miniconda3/envs/thesis/lib/python3.10/site-packages/sklearn/metrics/_ranking.py:864: RuntimeWarning: invalid value encountered in true_divide\n",
      "  recall = tps / tps[-1]\n",
      "/home/debian/Simao/miniconda3/envs/thesis/lib/python3.10/site-packages/sklearn/metrics/_ranking.py:864: RuntimeWarning: invalid value encountered in true_divide\n",
      "  recall = tps / tps[-1]\n",
      "/home/debian/Simao/miniconda3/envs/thesis/lib/python3.10/site-packages/sklearn/metrics/_ranking.py:864: RuntimeWarning: invalid value encountered in true_divide\n",
      "  recall = tps / tps[-1]\n",
      "/home/debian/Simao/miniconda3/envs/thesis/lib/python3.10/site-packages/sklearn/metrics/_ranking.py:864: RuntimeWarning: invalid value encountered in true_divide\n",
      "  recall = tps / tps[-1]\n",
      "/home/debian/Simao/miniconda3/envs/thesis/lib/python3.10/site-packages/sklearn/metrics/_ranking.py:864: RuntimeWarning: invalid value encountered in true_divide\n",
      "  recall = tps / tps[-1]\n",
      "/home/debian/Simao/miniconda3/envs/thesis/lib/python3.10/site-packages/sklearn/metrics/_ranking.py:864: RuntimeWarning: invalid value encountered in true_divide\n",
      "  recall = tps / tps[-1]\n",
      "/home/debian/Simao/miniconda3/envs/thesis/lib/python3.10/site-packages/sklearn/metrics/_ranking.py:864: RuntimeWarning: invalid value encountered in true_divide\n",
      "  recall = tps / tps[-1]\n",
      "/home/debian/Simao/miniconda3/envs/thesis/lib/python3.10/site-packages/sklearn/metrics/_ranking.py:864: RuntimeWarning: invalid value encountered in true_divide\n",
      "  recall = tps / tps[-1]\n",
      "/home/debian/Simao/miniconda3/envs/thesis/lib/python3.10/site-packages/sklearn/metrics/_ranking.py:864: RuntimeWarning: invalid value encountered in true_divide\n",
      "  recall = tps / tps[-1]\n",
      "/home/debian/Simao/miniconda3/envs/thesis/lib/python3.10/site-packages/sklearn/metrics/_ranking.py:864: RuntimeWarning: invalid value encountered in true_divide\n",
      "  recall = tps / tps[-1]\n",
      "/home/debian/Simao/miniconda3/envs/thesis/lib/python3.10/site-packages/sklearn/metrics/_ranking.py:864: RuntimeWarning: invalid value encountered in true_divide\n",
      "  recall = tps / tps[-1]\n",
      "/home/debian/Simao/miniconda3/envs/thesis/lib/python3.10/site-packages/sklearn/metrics/_ranking.py:864: RuntimeWarning: invalid value encountered in true_divide\n",
      "  recall = tps / tps[-1]\n",
      "/home/debian/Simao/miniconda3/envs/thesis/lib/python3.10/site-packages/sklearn/metrics/_ranking.py:864: RuntimeWarning: invalid value encountered in true_divide\n",
      "  recall = tps / tps[-1]\n",
      "/home/debian/Simao/miniconda3/envs/thesis/lib/python3.10/site-packages/sklearn/metrics/_ranking.py:864: RuntimeWarning: invalid value encountered in true_divide\n",
      "  recall = tps / tps[-1]\n",
      "/home/debian/Simao/miniconda3/envs/thesis/lib/python3.10/site-packages/sklearn/metrics/_ranking.py:864: RuntimeWarning: invalid value encountered in true_divide\n",
      "  recall = tps / tps[-1]\n",
      "/home/debian/Simao/miniconda3/envs/thesis/lib/python3.10/site-packages/sklearn/metrics/_ranking.py:864: RuntimeWarning: invalid value encountered in true_divide\n",
      "  recall = tps / tps[-1]\n",
      "/home/debian/Simao/miniconda3/envs/thesis/lib/python3.10/site-packages/sklearn/metrics/_ranking.py:864: RuntimeWarning: invalid value encountered in true_divide\n",
      "  recall = tps / tps[-1]\n",
      "/home/debian/Simao/miniconda3/envs/thesis/lib/python3.10/site-packages/sklearn/metrics/_ranking.py:864: RuntimeWarning: invalid value encountered in true_divide\n",
      "  recall = tps / tps[-1]\n",
      "/home/debian/Simao/miniconda3/envs/thesis/lib/python3.10/site-packages/sklearn/metrics/_ranking.py:864: RuntimeWarning: invalid value encountered in true_divide\n",
      "  recall = tps / tps[-1]\n",
      "/home/debian/Simao/miniconda3/envs/thesis/lib/python3.10/site-packages/sklearn/metrics/_ranking.py:864: RuntimeWarning: invalid value encountered in true_divide\n",
      "  recall = tps / tps[-1]\n",
      "/home/debian/Simao/miniconda3/envs/thesis/lib/python3.10/site-packages/sklearn/metrics/_ranking.py:864: RuntimeWarning: invalid value encountered in true_divide\n",
      "  recall = tps / tps[-1]\n",
      "/home/debian/Simao/miniconda3/envs/thesis/lib/python3.10/site-packages/sklearn/metrics/_ranking.py:864: RuntimeWarning: invalid value encountered in true_divide\n",
      "  recall = tps / tps[-1]\n",
      "/home/debian/Simao/miniconda3/envs/thesis/lib/python3.10/site-packages/sklearn/metrics/_ranking.py:864: RuntimeWarning: invalid value encountered in true_divide\n",
      "  recall = tps / tps[-1]\n",
      "/home/debian/Simao/miniconda3/envs/thesis/lib/python3.10/site-packages/sklearn/metrics/_ranking.py:864: RuntimeWarning: invalid value encountered in true_divide\n",
      "  recall = tps / tps[-1]\n",
      "/home/debian/Simao/miniconda3/envs/thesis/lib/python3.10/site-packages/sklearn/metrics/_ranking.py:864: RuntimeWarning: invalid value encountered in true_divide\n",
      "  recall = tps / tps[-1]\n",
      "/home/debian/Simao/miniconda3/envs/thesis/lib/python3.10/site-packages/sklearn/metrics/_ranking.py:864: RuntimeWarning: invalid value encountered in true_divide\n",
      "  recall = tps / tps[-1]\n",
      "/home/debian/Simao/miniconda3/envs/thesis/lib/python3.10/site-packages/sklearn/metrics/_ranking.py:864: RuntimeWarning: invalid value encountered in true_divide\n",
      "  recall = tps / tps[-1]\n",
      "/home/debian/Simao/miniconda3/envs/thesis/lib/python3.10/site-packages/sklearn/metrics/_ranking.py:864: RuntimeWarning: invalid value encountered in true_divide\n",
      "  recall = tps / tps[-1]\n",
      "/home/debian/Simao/miniconda3/envs/thesis/lib/python3.10/site-packages/sklearn/metrics/_ranking.py:864: RuntimeWarning: invalid value encountered in true_divide\n",
      "  recall = tps / tps[-1]\n",
      "/home/debian/Simao/miniconda3/envs/thesis/lib/python3.10/site-packages/sklearn/metrics/_ranking.py:864: RuntimeWarning: invalid value encountered in true_divide\n",
      "  recall = tps / tps[-1]\n",
      "/home/debian/Simao/miniconda3/envs/thesis/lib/python3.10/site-packages/sklearn/metrics/_ranking.py:864: RuntimeWarning: invalid value encountered in true_divide\n",
      "  recall = tps / tps[-1]\n",
      "/home/debian/Simao/miniconda3/envs/thesis/lib/python3.10/site-packages/sklearn/metrics/_ranking.py:864: RuntimeWarning: invalid value encountered in true_divide\n",
      "  recall = tps / tps[-1]\n",
      "/home/debian/Simao/miniconda3/envs/thesis/lib/python3.10/site-packages/sklearn/metrics/_ranking.py:864: RuntimeWarning: invalid value encountered in true_divide\n",
      "  recall = tps / tps[-1]\n",
      "/home/debian/Simao/miniconda3/envs/thesis/lib/python3.10/site-packages/sklearn/metrics/_ranking.py:864: RuntimeWarning: invalid value encountered in true_divide\n",
      "  recall = tps / tps[-1]\n",
      "/home/debian/Simao/miniconda3/envs/thesis/lib/python3.10/site-packages/sklearn/metrics/_ranking.py:864: RuntimeWarning: invalid value encountered in true_divide\n",
      "  recall = tps / tps[-1]\n",
      "/home/debian/Simao/miniconda3/envs/thesis/lib/python3.10/site-packages/sklearn/metrics/_ranking.py:864: RuntimeWarning: invalid value encountered in true_divide\n",
      "  recall = tps / tps[-1]\n",
      "/home/debian/Simao/miniconda3/envs/thesis/lib/python3.10/site-packages/sklearn/metrics/_ranking.py:864: RuntimeWarning: invalid value encountered in true_divide\n",
      "  recall = tps / tps[-1]\n",
      "/home/debian/Simao/miniconda3/envs/thesis/lib/python3.10/site-packages/sklearn/metrics/_ranking.py:864: RuntimeWarning: invalid value encountered in true_divide\n",
      "  recall = tps / tps[-1]\n",
      "/home/debian/Simao/miniconda3/envs/thesis/lib/python3.10/site-packages/sklearn/metrics/_ranking.py:864: RuntimeWarning: invalid value encountered in true_divide\n",
      "  recall = tps / tps[-1]\n",
      "/home/debian/Simao/miniconda3/envs/thesis/lib/python3.10/site-packages/sklearn/metrics/_ranking.py:864: RuntimeWarning: invalid value encountered in true_divide\n",
      "  recall = tps / tps[-1]\n",
      "/home/debian/Simao/miniconda3/envs/thesis/lib/python3.10/site-packages/sklearn/metrics/_ranking.py:864: RuntimeWarning: invalid value encountered in true_divide\n",
      "  recall = tps / tps[-1]\n",
      "/home/debian/Simao/miniconda3/envs/thesis/lib/python3.10/site-packages/sklearn/metrics/_ranking.py:864: RuntimeWarning: invalid value encountered in true_divide\n",
      "  recall = tps / tps[-1]\n",
      "/home/debian/Simao/miniconda3/envs/thesis/lib/python3.10/site-packages/sklearn/metrics/_ranking.py:864: RuntimeWarning: invalid value encountered in true_divide\n",
      "  recall = tps / tps[-1]\n",
      "/home/debian/Simao/miniconda3/envs/thesis/lib/python3.10/site-packages/sklearn/metrics/_ranking.py:864: RuntimeWarning: invalid value encountered in true_divide\n",
      "  recall = tps / tps[-1]\n",
      "/home/debian/Simao/miniconda3/envs/thesis/lib/python3.10/site-packages/sklearn/metrics/_ranking.py:864: RuntimeWarning: invalid value encountered in true_divide\n",
      "  recall = tps / tps[-1]\n",
      "/home/debian/Simao/miniconda3/envs/thesis/lib/python3.10/site-packages/sklearn/metrics/_ranking.py:864: RuntimeWarning: invalid value encountered in true_divide\n",
      "  recall = tps / tps[-1]\n",
      "/home/debian/Simao/miniconda3/envs/thesis/lib/python3.10/site-packages/sklearn/metrics/_ranking.py:864: RuntimeWarning: invalid value encountered in true_divide\n",
      "  recall = tps / tps[-1]\n",
      "/home/debian/Simao/miniconda3/envs/thesis/lib/python3.10/site-packages/sklearn/metrics/_ranking.py:864: RuntimeWarning: invalid value encountered in true_divide\n",
      "  recall = tps / tps[-1]\n",
      "/home/debian/Simao/miniconda3/envs/thesis/lib/python3.10/site-packages/sklearn/metrics/_ranking.py:864: RuntimeWarning: invalid value encountered in true_divide\n",
      "  recall = tps / tps[-1]\n",
      "/home/debian/Simao/miniconda3/envs/thesis/lib/python3.10/site-packages/sklearn/metrics/_ranking.py:864: RuntimeWarning: invalid value encountered in true_divide\n",
      "  recall = tps / tps[-1]\n",
      "/home/debian/Simao/miniconda3/envs/thesis/lib/python3.10/site-packages/sklearn/metrics/_ranking.py:864: RuntimeWarning: invalid value encountered in true_divide\n",
      "  recall = tps / tps[-1]\n",
      "/home/debian/Simao/miniconda3/envs/thesis/lib/python3.10/site-packages/sklearn/metrics/_ranking.py:864: RuntimeWarning: invalid value encountered in true_divide\n",
      "  recall = tps / tps[-1]\n",
      "/home/debian/Simao/miniconda3/envs/thesis/lib/python3.10/site-packages/sklearn/metrics/_ranking.py:864: RuntimeWarning: invalid value encountered in true_divide\n",
      "  recall = tps / tps[-1]\n",
      "/home/debian/Simao/miniconda3/envs/thesis/lib/python3.10/site-packages/sklearn/metrics/_ranking.py:864: RuntimeWarning: invalid value encountered in true_divide\n",
      "  recall = tps / tps[-1]\n",
      "/home/debian/Simao/miniconda3/envs/thesis/lib/python3.10/site-packages/sklearn/metrics/_ranking.py:864: RuntimeWarning: invalid value encountered in true_divide\n",
      "  recall = tps / tps[-1]\n",
      "/home/debian/Simao/miniconda3/envs/thesis/lib/python3.10/site-packages/sklearn/metrics/_ranking.py:864: RuntimeWarning: invalid value encountered in true_divide\n",
      "  recall = tps / tps[-1]\n",
      "/home/debian/Simao/miniconda3/envs/thesis/lib/python3.10/site-packages/sklearn/metrics/_ranking.py:864: RuntimeWarning: invalid value encountered in true_divide\n",
      "  recall = tps / tps[-1]\n",
      "/home/debian/Simao/miniconda3/envs/thesis/lib/python3.10/site-packages/sklearn/metrics/_ranking.py:864: RuntimeWarning: invalid value encountered in true_divide\n",
      "  recall = tps / tps[-1]\n",
      "/home/debian/Simao/miniconda3/envs/thesis/lib/python3.10/site-packages/sklearn/metrics/_ranking.py:864: RuntimeWarning: invalid value encountered in true_divide\n",
      "  recall = tps / tps[-1]\n",
      "/home/debian/Simao/miniconda3/envs/thesis/lib/python3.10/site-packages/sklearn/metrics/_ranking.py:864: RuntimeWarning: invalid value encountered in true_divide\n",
      "  recall = tps / tps[-1]\n",
      "/home/debian/Simao/miniconda3/envs/thesis/lib/python3.10/site-packages/sklearn/metrics/_ranking.py:864: RuntimeWarning: invalid value encountered in true_divide\n",
      "  recall = tps / tps[-1]\n",
      "/home/debian/Simao/miniconda3/envs/thesis/lib/python3.10/site-packages/sklearn/metrics/_ranking.py:864: RuntimeWarning: invalid value encountered in true_divide\n",
      "  recall = tps / tps[-1]\n",
      "/home/debian/Simao/miniconda3/envs/thesis/lib/python3.10/site-packages/sklearn/metrics/_ranking.py:864: RuntimeWarning: invalid value encountered in true_divide\n",
      "  recall = tps / tps[-1]\n",
      "/home/debian/Simao/miniconda3/envs/thesis/lib/python3.10/site-packages/sklearn/metrics/_ranking.py:864: RuntimeWarning: invalid value encountered in true_divide\n",
      "  recall = tps / tps[-1]\n",
      "/home/debian/Simao/miniconda3/envs/thesis/lib/python3.10/site-packages/sklearn/metrics/_ranking.py:864: RuntimeWarning: invalid value encountered in true_divide\n",
      "  recall = tps / tps[-1]\n",
      "/home/debian/Simao/miniconda3/envs/thesis/lib/python3.10/site-packages/sklearn/metrics/_ranking.py:864: RuntimeWarning: invalid value encountered in true_divide\n",
      "  recall = tps / tps[-1]\n",
      "/home/debian/Simao/miniconda3/envs/thesis/lib/python3.10/site-packages/sklearn/metrics/_ranking.py:864: RuntimeWarning: invalid value encountered in true_divide\n",
      "  recall = tps / tps[-1]\n",
      "/home/debian/Simao/miniconda3/envs/thesis/lib/python3.10/site-packages/sklearn/metrics/_ranking.py:864: RuntimeWarning: invalid value encountered in true_divide\n",
      "  recall = tps / tps[-1]\n",
      "/home/debian/Simao/miniconda3/envs/thesis/lib/python3.10/site-packages/sklearn/metrics/_ranking.py:864: RuntimeWarning: invalid value encountered in true_divide\n",
      "  recall = tps / tps[-1]\n",
      "/home/debian/Simao/miniconda3/envs/thesis/lib/python3.10/site-packages/sklearn/metrics/_ranking.py:864: RuntimeWarning: invalid value encountered in true_divide\n",
      "  recall = tps / tps[-1]\n",
      "/home/debian/Simao/miniconda3/envs/thesis/lib/python3.10/site-packages/sklearn/metrics/_ranking.py:864: RuntimeWarning: invalid value encountered in true_divide\n",
      "  recall = tps / tps[-1]\n",
      "/home/debian/Simao/miniconda3/envs/thesis/lib/python3.10/site-packages/sklearn/metrics/_ranking.py:864: RuntimeWarning: invalid value encountered in true_divide\n",
      "  recall = tps / tps[-1]\n",
      "/home/debian/Simao/miniconda3/envs/thesis/lib/python3.10/site-packages/sklearn/metrics/_ranking.py:864: RuntimeWarning: invalid value encountered in true_divide\n",
      "  recall = tps / tps[-1]\n",
      "/home/debian/Simao/miniconda3/envs/thesis/lib/python3.10/site-packages/sklearn/metrics/_ranking.py:864: RuntimeWarning: invalid value encountered in true_divide\n",
      "  recall = tps / tps[-1]\n",
      "/home/debian/Simao/miniconda3/envs/thesis/lib/python3.10/site-packages/sklearn/metrics/_ranking.py:864: RuntimeWarning: invalid value encountered in true_divide\n",
      "  recall = tps / tps[-1]\n",
      "/home/debian/Simao/miniconda3/envs/thesis/lib/python3.10/site-packages/sklearn/metrics/_ranking.py:864: RuntimeWarning: invalid value encountered in true_divide\n",
      "  recall = tps / tps[-1]\n",
      "/home/debian/Simao/miniconda3/envs/thesis/lib/python3.10/site-packages/sklearn/metrics/_ranking.py:864: RuntimeWarning: invalid value encountered in true_divide\n",
      "  recall = tps / tps[-1]\n",
      "/home/debian/Simao/miniconda3/envs/thesis/lib/python3.10/site-packages/sklearn/metrics/_ranking.py:864: RuntimeWarning: invalid value encountered in true_divide\n",
      "  recall = tps / tps[-1]\n",
      "/home/debian/Simao/miniconda3/envs/thesis/lib/python3.10/site-packages/sklearn/metrics/_ranking.py:864: RuntimeWarning: invalid value encountered in true_divide\n",
      "  recall = tps / tps[-1]\n",
      "/home/debian/Simao/miniconda3/envs/thesis/lib/python3.10/site-packages/sklearn/metrics/_ranking.py:864: RuntimeWarning: invalid value encountered in true_divide\n",
      "  recall = tps / tps[-1]\n",
      "/home/debian/Simao/miniconda3/envs/thesis/lib/python3.10/site-packages/sklearn/metrics/_ranking.py:864: RuntimeWarning: invalid value encountered in true_divide\n",
      "  recall = tps / tps[-1]\n",
      "/home/debian/Simao/miniconda3/envs/thesis/lib/python3.10/site-packages/sklearn/metrics/_ranking.py:864: RuntimeWarning: invalid value encountered in true_divide\n",
      "  recall = tps / tps[-1]\n",
      "/home/debian/Simao/miniconda3/envs/thesis/lib/python3.10/site-packages/sklearn/metrics/_ranking.py:864: RuntimeWarning: invalid value encountered in true_divide\n",
      "  recall = tps / tps[-1]\n",
      "/home/debian/Simao/miniconda3/envs/thesis/lib/python3.10/site-packages/sklearn/metrics/_ranking.py:864: RuntimeWarning: invalid value encountered in true_divide\n",
      "  recall = tps / tps[-1]\n",
      "/home/debian/Simao/miniconda3/envs/thesis/lib/python3.10/site-packages/sklearn/metrics/_ranking.py:864: RuntimeWarning: invalid value encountered in true_divide\n",
      "  recall = tps / tps[-1]\n",
      "/home/debian/Simao/miniconda3/envs/thesis/lib/python3.10/site-packages/sklearn/metrics/_ranking.py:864: RuntimeWarning: invalid value encountered in true_divide\n",
      "  recall = tps / tps[-1]\n",
      "/home/debian/Simao/miniconda3/envs/thesis/lib/python3.10/site-packages/sklearn/metrics/_ranking.py:864: RuntimeWarning: invalid value encountered in true_divide\n",
      "  recall = tps / tps[-1]\n",
      "/home/debian/Simao/miniconda3/envs/thesis/lib/python3.10/site-packages/sklearn/metrics/_ranking.py:864: RuntimeWarning: invalid value encountered in true_divide\n",
      "  recall = tps / tps[-1]\n",
      "/home/debian/Simao/miniconda3/envs/thesis/lib/python3.10/site-packages/sklearn/metrics/_ranking.py:864: RuntimeWarning: invalid value encountered in true_divide\n",
      "  recall = tps / tps[-1]\n",
      "/home/debian/Simao/miniconda3/envs/thesis/lib/python3.10/site-packages/sklearn/metrics/_ranking.py:864: RuntimeWarning: invalid value encountered in true_divide\n",
      "  recall = tps / tps[-1]\n",
      "/home/debian/Simao/miniconda3/envs/thesis/lib/python3.10/site-packages/sklearn/metrics/_ranking.py:864: RuntimeWarning: invalid value encountered in true_divide\n",
      "  recall = tps / tps[-1]\n",
      "/home/debian/Simao/miniconda3/envs/thesis/lib/python3.10/site-packages/sklearn/metrics/_ranking.py:864: RuntimeWarning: invalid value encountered in true_divide\n",
      "  recall = tps / tps[-1]\n",
      "/home/debian/Simao/miniconda3/envs/thesis/lib/python3.10/site-packages/sklearn/metrics/_ranking.py:864: RuntimeWarning: invalid value encountered in true_divide\n",
      "  recall = tps / tps[-1]\n",
      "/home/debian/Simao/miniconda3/envs/thesis/lib/python3.10/site-packages/sklearn/metrics/_ranking.py:864: RuntimeWarning: invalid value encountered in true_divide\n",
      "  recall = tps / tps[-1]\n",
      "/home/debian/Simao/miniconda3/envs/thesis/lib/python3.10/site-packages/sklearn/metrics/_ranking.py:864: RuntimeWarning: invalid value encountered in true_divide\n",
      "  recall = tps / tps[-1]\n",
      "/home/debian/Simao/miniconda3/envs/thesis/lib/python3.10/site-packages/sklearn/metrics/_ranking.py:864: RuntimeWarning: invalid value encountered in true_divide\n",
      "  recall = tps / tps[-1]\n",
      "/home/debian/Simao/miniconda3/envs/thesis/lib/python3.10/site-packages/sklearn/metrics/_ranking.py:864: RuntimeWarning: invalid value encountered in true_divide\n",
      "  recall = tps / tps[-1]\n",
      "/home/debian/Simao/miniconda3/envs/thesis/lib/python3.10/site-packages/sklearn/metrics/_ranking.py:864: RuntimeWarning: invalid value encountered in true_divide\n",
      "  recall = tps / tps[-1]\n",
      "/home/debian/Simao/miniconda3/envs/thesis/lib/python3.10/site-packages/sklearn/metrics/_ranking.py:864: RuntimeWarning: invalid value encountered in true_divide\n",
      "  recall = tps / tps[-1]\n",
      "/home/debian/Simao/miniconda3/envs/thesis/lib/python3.10/site-packages/sklearn/metrics/_ranking.py:864: RuntimeWarning: invalid value encountered in true_divide\n",
      "  recall = tps / tps[-1]\n",
      "/home/debian/Simao/miniconda3/envs/thesis/lib/python3.10/site-packages/sklearn/metrics/_ranking.py:864: RuntimeWarning: invalid value encountered in true_divide\n",
      "  recall = tps / tps[-1]\n",
      "/home/debian/Simao/miniconda3/envs/thesis/lib/python3.10/site-packages/sklearn/metrics/_ranking.py:864: RuntimeWarning: invalid value encountered in true_divide\n",
      "  recall = tps / tps[-1]\n",
      "/home/debian/Simao/miniconda3/envs/thesis/lib/python3.10/site-packages/sklearn/metrics/_ranking.py:864: RuntimeWarning: invalid value encountered in true_divide\n",
      "  recall = tps / tps[-1]\n",
      "/home/debian/Simao/miniconda3/envs/thesis/lib/python3.10/site-packages/sklearn/metrics/_ranking.py:864: RuntimeWarning: invalid value encountered in true_divide\n",
      "  recall = tps / tps[-1]\n",
      "/home/debian/Simao/miniconda3/envs/thesis/lib/python3.10/site-packages/sklearn/metrics/_ranking.py:864: RuntimeWarning: invalid value encountered in true_divide\n",
      "  recall = tps / tps[-1]\n",
      "/home/debian/Simao/miniconda3/envs/thesis/lib/python3.10/site-packages/sklearn/metrics/_ranking.py:864: RuntimeWarning: invalid value encountered in true_divide\n",
      "  recall = tps / tps[-1]\n",
      "/home/debian/Simao/miniconda3/envs/thesis/lib/python3.10/site-packages/sklearn/metrics/_ranking.py:864: RuntimeWarning: invalid value encountered in true_divide\n",
      "  recall = tps / tps[-1]\n",
      "/home/debian/Simao/miniconda3/envs/thesis/lib/python3.10/site-packages/sklearn/metrics/_ranking.py:864: RuntimeWarning: invalid value encountered in true_divide\n",
      "  recall = tps / tps[-1]\n",
      "/home/debian/Simao/miniconda3/envs/thesis/lib/python3.10/site-packages/sklearn/metrics/_ranking.py:864: RuntimeWarning: invalid value encountered in true_divide\n",
      "  recall = tps / tps[-1]\n",
      "/home/debian/Simao/miniconda3/envs/thesis/lib/python3.10/site-packages/sklearn/metrics/_ranking.py:864: RuntimeWarning: invalid value encountered in true_divide\n",
      "  recall = tps / tps[-1]\n",
      "/home/debian/Simao/miniconda3/envs/thesis/lib/python3.10/site-packages/sklearn/metrics/_ranking.py:864: RuntimeWarning: invalid value encountered in true_divide\n",
      "  recall = tps / tps[-1]\n",
      "/home/debian/Simao/miniconda3/envs/thesis/lib/python3.10/site-packages/sklearn/metrics/_ranking.py:864: RuntimeWarning: invalid value encountered in true_divide\n",
      "  recall = tps / tps[-1]\n",
      "/home/debian/Simao/miniconda3/envs/thesis/lib/python3.10/site-packages/sklearn/metrics/_ranking.py:864: RuntimeWarning: invalid value encountered in true_divide\n",
      "  recall = tps / tps[-1]\n",
      "/home/debian/Simao/miniconda3/envs/thesis/lib/python3.10/site-packages/sklearn/metrics/_ranking.py:864: RuntimeWarning: invalid value encountered in true_divide\n",
      "  recall = tps / tps[-1]\n",
      "/home/debian/Simao/miniconda3/envs/thesis/lib/python3.10/site-packages/sklearn/metrics/_ranking.py:864: RuntimeWarning: invalid value encountered in true_divide\n",
      "  recall = tps / tps[-1]\n",
      "/home/debian/Simao/miniconda3/envs/thesis/lib/python3.10/site-packages/sklearn/metrics/_ranking.py:864: RuntimeWarning: invalid value encountered in true_divide\n",
      "  recall = tps / tps[-1]\n",
      "/home/debian/Simao/miniconda3/envs/thesis/lib/python3.10/site-packages/sklearn/metrics/_ranking.py:864: RuntimeWarning: invalid value encountered in true_divide\n",
      "  recall = tps / tps[-1]\n",
      "/home/debian/Simao/miniconda3/envs/thesis/lib/python3.10/site-packages/sklearn/metrics/_ranking.py:864: RuntimeWarning: invalid value encountered in true_divide\n",
      "  recall = tps / tps[-1]\n",
      "/home/debian/Simao/miniconda3/envs/thesis/lib/python3.10/site-packages/sklearn/metrics/_ranking.py:864: RuntimeWarning: invalid value encountered in true_divide\n",
      "  recall = tps / tps[-1]\n",
      "/home/debian/Simao/miniconda3/envs/thesis/lib/python3.10/site-packages/sklearn/metrics/_ranking.py:864: RuntimeWarning: invalid value encountered in true_divide\n",
      "  recall = tps / tps[-1]\n",
      "/home/debian/Simao/miniconda3/envs/thesis/lib/python3.10/site-packages/sklearn/metrics/_ranking.py:864: RuntimeWarning: invalid value encountered in true_divide\n",
      "  recall = tps / tps[-1]\n",
      "/home/debian/Simao/miniconda3/envs/thesis/lib/python3.10/site-packages/sklearn/metrics/_ranking.py:864: RuntimeWarning: invalid value encountered in true_divide\n",
      "  recall = tps / tps[-1]\n",
      "/home/debian/Simao/miniconda3/envs/thesis/lib/python3.10/site-packages/sklearn/metrics/_ranking.py:864: RuntimeWarning: invalid value encountered in true_divide\n",
      "  recall = tps / tps[-1]\n",
      "/home/debian/Simao/miniconda3/envs/thesis/lib/python3.10/site-packages/sklearn/metrics/_ranking.py:864: RuntimeWarning: invalid value encountered in true_divide\n",
      "  recall = tps / tps[-1]\n",
      "/home/debian/Simao/miniconda3/envs/thesis/lib/python3.10/site-packages/sklearn/metrics/_ranking.py:864: RuntimeWarning: invalid value encountered in true_divide\n",
      "  recall = tps / tps[-1]\n",
      "/home/debian/Simao/miniconda3/envs/thesis/lib/python3.10/site-packages/sklearn/metrics/_ranking.py:864: RuntimeWarning: invalid value encountered in true_divide\n",
      "  recall = tps / tps[-1]\n",
      "/home/debian/Simao/miniconda3/envs/thesis/lib/python3.10/site-packages/sklearn/metrics/_ranking.py:864: RuntimeWarning: invalid value encountered in true_divide\n",
      "  recall = tps / tps[-1]\n",
      "/home/debian/Simao/miniconda3/envs/thesis/lib/python3.10/site-packages/sklearn/metrics/_ranking.py:864: RuntimeWarning: invalid value encountered in true_divide\n",
      "  recall = tps / tps[-1]\n",
      "/home/debian/Simao/miniconda3/envs/thesis/lib/python3.10/site-packages/sklearn/metrics/_ranking.py:864: RuntimeWarning: invalid value encountered in true_divide\n",
      "  recall = tps / tps[-1]\n",
      "/home/debian/Simao/miniconda3/envs/thesis/lib/python3.10/site-packages/sklearn/metrics/_ranking.py:864: RuntimeWarning: invalid value encountered in true_divide\n",
      "  recall = tps / tps[-1]\n",
      "/home/debian/Simao/miniconda3/envs/thesis/lib/python3.10/site-packages/sklearn/metrics/_ranking.py:864: RuntimeWarning: invalid value encountered in true_divide\n",
      "  recall = tps / tps[-1]\n",
      "/home/debian/Simao/miniconda3/envs/thesis/lib/python3.10/site-packages/sklearn/metrics/_ranking.py:864: RuntimeWarning: invalid value encountered in true_divide\n",
      "  recall = tps / tps[-1]\n",
      "/home/debian/Simao/miniconda3/envs/thesis/lib/python3.10/site-packages/sklearn/metrics/_ranking.py:864: RuntimeWarning: invalid value encountered in true_divide\n",
      "  recall = tps / tps[-1]\n",
      "/home/debian/Simao/miniconda3/envs/thesis/lib/python3.10/site-packages/sklearn/metrics/_ranking.py:864: RuntimeWarning: invalid value encountered in true_divide\n",
      "  recall = tps / tps[-1]\n",
      "/home/debian/Simao/miniconda3/envs/thesis/lib/python3.10/site-packages/sklearn/metrics/_ranking.py:864: RuntimeWarning: invalid value encountered in true_divide\n",
      "  recall = tps / tps[-1]\n",
      "/home/debian/Simao/miniconda3/envs/thesis/lib/python3.10/site-packages/sklearn/metrics/_ranking.py:864: RuntimeWarning: invalid value encountered in true_divide\n",
      "  recall = tps / tps[-1]\n",
      "/home/debian/Simao/miniconda3/envs/thesis/lib/python3.10/site-packages/sklearn/metrics/_ranking.py:864: RuntimeWarning: invalid value encountered in true_divide\n",
      "  recall = tps / tps[-1]\n",
      "/home/debian/Simao/miniconda3/envs/thesis/lib/python3.10/site-packages/sklearn/metrics/_ranking.py:864: RuntimeWarning: invalid value encountered in true_divide\n",
      "  recall = tps / tps[-1]\n",
      "/home/debian/Simao/miniconda3/envs/thesis/lib/python3.10/site-packages/sklearn/metrics/_ranking.py:864: RuntimeWarning: invalid value encountered in true_divide\n",
      "  recall = tps / tps[-1]\n",
      "/home/debian/Simao/miniconda3/envs/thesis/lib/python3.10/site-packages/sklearn/metrics/_ranking.py:864: RuntimeWarning: invalid value encountered in true_divide\n",
      "  recall = tps / tps[-1]\n",
      "/home/debian/Simao/miniconda3/envs/thesis/lib/python3.10/site-packages/sklearn/metrics/_ranking.py:864: RuntimeWarning: invalid value encountered in true_divide\n",
      "  recall = tps / tps[-1]\n",
      "/home/debian/Simao/miniconda3/envs/thesis/lib/python3.10/site-packages/sklearn/metrics/_ranking.py:864: RuntimeWarning: invalid value encountered in true_divide\n",
      "  recall = tps / tps[-1]\n",
      "/home/debian/Simao/miniconda3/envs/thesis/lib/python3.10/site-packages/sklearn/metrics/_ranking.py:864: RuntimeWarning: invalid value encountered in true_divide\n",
      "  recall = tps / tps[-1]\n",
      "/home/debian/Simao/miniconda3/envs/thesis/lib/python3.10/site-packages/sklearn/metrics/_ranking.py:864: RuntimeWarning: invalid value encountered in true_divide\n",
      "  recall = tps / tps[-1]\n",
      "/home/debian/Simao/miniconda3/envs/thesis/lib/python3.10/site-packages/sklearn/metrics/_ranking.py:864: RuntimeWarning: invalid value encountered in true_divide\n",
      "  recall = tps / tps[-1]\n",
      "/home/debian/Simao/miniconda3/envs/thesis/lib/python3.10/site-packages/sklearn/metrics/_ranking.py:864: RuntimeWarning: invalid value encountered in true_divide\n",
      "  recall = tps / tps[-1]\n",
      "/home/debian/Simao/miniconda3/envs/thesis/lib/python3.10/site-packages/sklearn/metrics/_ranking.py:864: RuntimeWarning: invalid value encountered in true_divide\n",
      "  recall = tps / tps[-1]\n",
      "/home/debian/Simao/miniconda3/envs/thesis/lib/python3.10/site-packages/sklearn/metrics/_ranking.py:864: RuntimeWarning: invalid value encountered in true_divide\n",
      "  recall = tps / tps[-1]\n",
      "/home/debian/Simao/miniconda3/envs/thesis/lib/python3.10/site-packages/sklearn/metrics/_ranking.py:864: RuntimeWarning: invalid value encountered in true_divide\n",
      "  recall = tps / tps[-1]\n",
      "/home/debian/Simao/miniconda3/envs/thesis/lib/python3.10/site-packages/sklearn/metrics/_ranking.py:864: RuntimeWarning: invalid value encountered in true_divide\n",
      "  recall = tps / tps[-1]\n",
      "/home/debian/Simao/miniconda3/envs/thesis/lib/python3.10/site-packages/sklearn/metrics/_ranking.py:864: RuntimeWarning: invalid value encountered in true_divide\n",
      "  recall = tps / tps[-1]\n",
      "/home/debian/Simao/miniconda3/envs/thesis/lib/python3.10/site-packages/sklearn/metrics/_ranking.py:864: RuntimeWarning: invalid value encountered in true_divide\n",
      "  recall = tps / tps[-1]\n",
      "/home/debian/Simao/miniconda3/envs/thesis/lib/python3.10/site-packages/sklearn/metrics/_ranking.py:864: RuntimeWarning: invalid value encountered in true_divide\n",
      "  recall = tps / tps[-1]\n",
      "/home/debian/Simao/miniconda3/envs/thesis/lib/python3.10/site-packages/sklearn/metrics/_ranking.py:864: RuntimeWarning: invalid value encountered in true_divide\n",
      "  recall = tps / tps[-1]\n",
      "/home/debian/Simao/miniconda3/envs/thesis/lib/python3.10/site-packages/sklearn/metrics/_ranking.py:864: RuntimeWarning: invalid value encountered in true_divide\n",
      "  recall = tps / tps[-1]\n",
      "/home/debian/Simao/miniconda3/envs/thesis/lib/python3.10/site-packages/sklearn/metrics/_ranking.py:864: RuntimeWarning: invalid value encountered in true_divide\n",
      "  recall = tps / tps[-1]\n",
      "/home/debian/Simao/miniconda3/envs/thesis/lib/python3.10/site-packages/sklearn/metrics/_ranking.py:864: RuntimeWarning: invalid value encountered in true_divide\n",
      "  recall = tps / tps[-1]\n",
      "/home/debian/Simao/miniconda3/envs/thesis/lib/python3.10/site-packages/sklearn/metrics/_ranking.py:864: RuntimeWarning: invalid value encountered in true_divide\n",
      "  recall = tps / tps[-1]\n",
      "/home/debian/Simao/miniconda3/envs/thesis/lib/python3.10/site-packages/sklearn/metrics/_ranking.py:864: RuntimeWarning: invalid value encountered in true_divide\n",
      "  recall = tps / tps[-1]\n",
      "/home/debian/Simao/miniconda3/envs/thesis/lib/python3.10/site-packages/sklearn/metrics/_ranking.py:864: RuntimeWarning: invalid value encountered in true_divide\n",
      "  recall = tps / tps[-1]\n",
      "/home/debian/Simao/miniconda3/envs/thesis/lib/python3.10/site-packages/sklearn/metrics/_ranking.py:864: RuntimeWarning: invalid value encountered in true_divide\n",
      "  recall = tps / tps[-1]\n",
      "/home/debian/Simao/miniconda3/envs/thesis/lib/python3.10/site-packages/sklearn/metrics/_ranking.py:864: RuntimeWarning: invalid value encountered in true_divide\n",
      "  recall = tps / tps[-1]\n",
      "/home/debian/Simao/miniconda3/envs/thesis/lib/python3.10/site-packages/sklearn/metrics/_ranking.py:864: RuntimeWarning: invalid value encountered in true_divide\n",
      "  recall = tps / tps[-1]\n",
      "/home/debian/Simao/miniconda3/envs/thesis/lib/python3.10/site-packages/sklearn/metrics/_ranking.py:864: RuntimeWarning: invalid value encountered in true_divide\n",
      "  recall = tps / tps[-1]\n",
      "/home/debian/Simao/miniconda3/envs/thesis/lib/python3.10/site-packages/sklearn/metrics/_ranking.py:864: RuntimeWarning: invalid value encountered in true_divide\n",
      "  recall = tps / tps[-1]\n",
      "/home/debian/Simao/miniconda3/envs/thesis/lib/python3.10/site-packages/sklearn/metrics/_ranking.py:864: RuntimeWarning: invalid value encountered in true_divide\n",
      "  recall = tps / tps[-1]\n",
      "/home/debian/Simao/miniconda3/envs/thesis/lib/python3.10/site-packages/sklearn/metrics/_ranking.py:864: RuntimeWarning: invalid value encountered in true_divide\n",
      "  recall = tps / tps[-1]\n",
      "/home/debian/Simao/miniconda3/envs/thesis/lib/python3.10/site-packages/sklearn/metrics/_ranking.py:864: RuntimeWarning: invalid value encountered in true_divide\n",
      "  recall = tps / tps[-1]\n",
      "/home/debian/Simao/miniconda3/envs/thesis/lib/python3.10/site-packages/sklearn/metrics/_ranking.py:864: RuntimeWarning: invalid value encountered in true_divide\n",
      "  recall = tps / tps[-1]\n",
      "/home/debian/Simao/miniconda3/envs/thesis/lib/python3.10/site-packages/sklearn/metrics/_ranking.py:864: RuntimeWarning: invalid value encountered in true_divide\n",
      "  recall = tps / tps[-1]\n",
      "/home/debian/Simao/miniconda3/envs/thesis/lib/python3.10/site-packages/sklearn/metrics/_ranking.py:864: RuntimeWarning: invalid value encountered in true_divide\n",
      "  recall = tps / tps[-1]\n",
      "/home/debian/Simao/miniconda3/envs/thesis/lib/python3.10/site-packages/sklearn/metrics/_ranking.py:864: RuntimeWarning: invalid value encountered in true_divide\n",
      "  recall = tps / tps[-1]\n",
      "/home/debian/Simao/miniconda3/envs/thesis/lib/python3.10/site-packages/sklearn/metrics/_ranking.py:864: RuntimeWarning: invalid value encountered in true_divide\n",
      "  recall = tps / tps[-1]\n",
      "/home/debian/Simao/miniconda3/envs/thesis/lib/python3.10/site-packages/sklearn/metrics/_ranking.py:864: RuntimeWarning: invalid value encountered in true_divide\n",
      "  recall = tps / tps[-1]\n",
      "/home/debian/Simao/miniconda3/envs/thesis/lib/python3.10/site-packages/sklearn/metrics/_ranking.py:864: RuntimeWarning: invalid value encountered in true_divide\n",
      "  recall = tps / tps[-1]\n",
      "/home/debian/Simao/miniconda3/envs/thesis/lib/python3.10/site-packages/sklearn/metrics/_ranking.py:864: RuntimeWarning: invalid value encountered in true_divide\n",
      "  recall = tps / tps[-1]\n",
      "/home/debian/Simao/miniconda3/envs/thesis/lib/python3.10/site-packages/sklearn/metrics/_ranking.py:864: RuntimeWarning: invalid value encountered in true_divide\n",
      "  recall = tps / tps[-1]\n",
      "/home/debian/Simao/miniconda3/envs/thesis/lib/python3.10/site-packages/sklearn/metrics/_ranking.py:864: RuntimeWarning: invalid value encountered in true_divide\n",
      "  recall = tps / tps[-1]\n",
      "/home/debian/Simao/miniconda3/envs/thesis/lib/python3.10/site-packages/sklearn/metrics/_ranking.py:864: RuntimeWarning: invalid value encountered in true_divide\n",
      "  recall = tps / tps[-1]\n",
      "/home/debian/Simao/miniconda3/envs/thesis/lib/python3.10/site-packages/sklearn/metrics/_ranking.py:864: RuntimeWarning: invalid value encountered in true_divide\n",
      "  recall = tps / tps[-1]\n",
      "/home/debian/Simao/miniconda3/envs/thesis/lib/python3.10/site-packages/sklearn/metrics/_ranking.py:864: RuntimeWarning: invalid value encountered in true_divide\n",
      "  recall = tps / tps[-1]\n",
      "/home/debian/Simao/miniconda3/envs/thesis/lib/python3.10/site-packages/sklearn/metrics/_ranking.py:864: RuntimeWarning: invalid value encountered in true_divide\n",
      "  recall = tps / tps[-1]\n",
      "/home/debian/Simao/miniconda3/envs/thesis/lib/python3.10/site-packages/sklearn/metrics/_ranking.py:864: RuntimeWarning: invalid value encountered in true_divide\n",
      "  recall = tps / tps[-1]\n",
      "/home/debian/Simao/miniconda3/envs/thesis/lib/python3.10/site-packages/sklearn/metrics/_ranking.py:864: RuntimeWarning: invalid value encountered in true_divide\n",
      "  recall = tps / tps[-1]\n",
      "/home/debian/Simao/miniconda3/envs/thesis/lib/python3.10/site-packages/sklearn/metrics/_ranking.py:864: RuntimeWarning: invalid value encountered in true_divide\n",
      "  recall = tps / tps[-1]\n",
      "/home/debian/Simao/miniconda3/envs/thesis/lib/python3.10/site-packages/sklearn/metrics/_ranking.py:864: RuntimeWarning: invalid value encountered in true_divide\n",
      "  recall = tps / tps[-1]\n",
      "/home/debian/Simao/miniconda3/envs/thesis/lib/python3.10/site-packages/sklearn/metrics/_ranking.py:864: RuntimeWarning: invalid value encountered in true_divide\n",
      "  recall = tps / tps[-1]\n",
      "/home/debian/Simao/miniconda3/envs/thesis/lib/python3.10/site-packages/sklearn/metrics/_ranking.py:864: RuntimeWarning: invalid value encountered in true_divide\n",
      "  recall = tps / tps[-1]\n",
      "/home/debian/Simao/miniconda3/envs/thesis/lib/python3.10/site-packages/sklearn/metrics/_ranking.py:864: RuntimeWarning: invalid value encountered in true_divide\n",
      "  recall = tps / tps[-1]\n",
      "/home/debian/Simao/miniconda3/envs/thesis/lib/python3.10/site-packages/sklearn/metrics/_ranking.py:864: RuntimeWarning: invalid value encountered in true_divide\n",
      "  recall = tps / tps[-1]\n",
      "/home/debian/Simao/miniconda3/envs/thesis/lib/python3.10/site-packages/sklearn/metrics/_ranking.py:864: RuntimeWarning: invalid value encountered in true_divide\n",
      "  recall = tps / tps[-1]\n",
      "/home/debian/Simao/miniconda3/envs/thesis/lib/python3.10/site-packages/sklearn/metrics/_ranking.py:864: RuntimeWarning: invalid value encountered in true_divide\n",
      "  recall = tps / tps[-1]\n",
      "/home/debian/Simao/miniconda3/envs/thesis/lib/python3.10/site-packages/sklearn/metrics/_ranking.py:864: RuntimeWarning: invalid value encountered in true_divide\n",
      "  recall = tps / tps[-1]\n",
      "/home/debian/Simao/miniconda3/envs/thesis/lib/python3.10/site-packages/sklearn/metrics/_ranking.py:864: RuntimeWarning: invalid value encountered in true_divide\n",
      "  recall = tps / tps[-1]\n",
      "/home/debian/Simao/miniconda3/envs/thesis/lib/python3.10/site-packages/sklearn/metrics/_ranking.py:864: RuntimeWarning: invalid value encountered in true_divide\n",
      "  recall = tps / tps[-1]\n",
      "/home/debian/Simao/miniconda3/envs/thesis/lib/python3.10/site-packages/sklearn/metrics/_ranking.py:864: RuntimeWarning: invalid value encountered in true_divide\n",
      "  recall = tps / tps[-1]\n",
      "/home/debian/Simao/miniconda3/envs/thesis/lib/python3.10/site-packages/sklearn/metrics/_ranking.py:864: RuntimeWarning: invalid value encountered in true_divide\n",
      "  recall = tps / tps[-1]\n",
      "/home/debian/Simao/miniconda3/envs/thesis/lib/python3.10/site-packages/sklearn/metrics/_ranking.py:864: RuntimeWarning: invalid value encountered in true_divide\n",
      "  recall = tps / tps[-1]\n",
      "/home/debian/Simao/miniconda3/envs/thesis/lib/python3.10/site-packages/sklearn/metrics/_ranking.py:864: RuntimeWarning: invalid value encountered in true_divide\n",
      "  recall = tps / tps[-1]\n",
      "/home/debian/Simao/miniconda3/envs/thesis/lib/python3.10/site-packages/sklearn/metrics/_ranking.py:864: RuntimeWarning: invalid value encountered in true_divide\n",
      "  recall = tps / tps[-1]\n",
      "/home/debian/Simao/miniconda3/envs/thesis/lib/python3.10/site-packages/sklearn/metrics/_ranking.py:864: RuntimeWarning: invalid value encountered in true_divide\n",
      "  recall = tps / tps[-1]\n",
      "/home/debian/Simao/miniconda3/envs/thesis/lib/python3.10/site-packages/sklearn/metrics/_ranking.py:864: RuntimeWarning: invalid value encountered in true_divide\n",
      "  recall = tps / tps[-1]\n",
      "/home/debian/Simao/miniconda3/envs/thesis/lib/python3.10/site-packages/sklearn/metrics/_ranking.py:864: RuntimeWarning: invalid value encountered in true_divide\n",
      "  recall = tps / tps[-1]\n",
      "/home/debian/Simao/miniconda3/envs/thesis/lib/python3.10/site-packages/sklearn/metrics/_ranking.py:864: RuntimeWarning: invalid value encountered in true_divide\n",
      "  recall = tps / tps[-1]\n",
      "/home/debian/Simao/miniconda3/envs/thesis/lib/python3.10/site-packages/sklearn/metrics/_ranking.py:864: RuntimeWarning: invalid value encountered in true_divide\n",
      "  recall = tps / tps[-1]\n",
      "/home/debian/Simao/miniconda3/envs/thesis/lib/python3.10/site-packages/sklearn/metrics/_ranking.py:864: RuntimeWarning: invalid value encountered in true_divide\n",
      "  recall = tps / tps[-1]\n",
      "/home/debian/Simao/miniconda3/envs/thesis/lib/python3.10/site-packages/sklearn/metrics/_ranking.py:864: RuntimeWarning: invalid value encountered in true_divide\n",
      "  recall = tps / tps[-1]\n",
      "/home/debian/Simao/miniconda3/envs/thesis/lib/python3.10/site-packages/sklearn/metrics/_ranking.py:864: RuntimeWarning: invalid value encountered in true_divide\n",
      "  recall = tps / tps[-1]\n",
      "/home/debian/Simao/miniconda3/envs/thesis/lib/python3.10/site-packages/sklearn/metrics/_ranking.py:864: RuntimeWarning: invalid value encountered in true_divide\n",
      "  recall = tps / tps[-1]\n",
      "/home/debian/Simao/miniconda3/envs/thesis/lib/python3.10/site-packages/sklearn/metrics/_ranking.py:864: RuntimeWarning: invalid value encountered in true_divide\n",
      "  recall = tps / tps[-1]\n",
      "/home/debian/Simao/miniconda3/envs/thesis/lib/python3.10/site-packages/sklearn/metrics/_ranking.py:864: RuntimeWarning: invalid value encountered in true_divide\n",
      "  recall = tps / tps[-1]\n",
      "/home/debian/Simao/miniconda3/envs/thesis/lib/python3.10/site-packages/sklearn/metrics/_ranking.py:864: RuntimeWarning: invalid value encountered in true_divide\n",
      "  recall = tps / tps[-1]\n",
      "/home/debian/Simao/miniconda3/envs/thesis/lib/python3.10/site-packages/sklearn/metrics/_ranking.py:864: RuntimeWarning: invalid value encountered in true_divide\n",
      "  recall = tps / tps[-1]\n",
      "/home/debian/Simao/miniconda3/envs/thesis/lib/python3.10/site-packages/sklearn/metrics/_ranking.py:864: RuntimeWarning: invalid value encountered in true_divide\n",
      "  recall = tps / tps[-1]\n",
      "/home/debian/Simao/miniconda3/envs/thesis/lib/python3.10/site-packages/sklearn/metrics/_ranking.py:864: RuntimeWarning: invalid value encountered in true_divide\n",
      "  recall = tps / tps[-1]\n",
      "/home/debian/Simao/miniconda3/envs/thesis/lib/python3.10/site-packages/sklearn/metrics/_ranking.py:864: RuntimeWarning: invalid value encountered in true_divide\n",
      "  recall = tps / tps[-1]\n",
      "/home/debian/Simao/miniconda3/envs/thesis/lib/python3.10/site-packages/sklearn/metrics/_ranking.py:864: RuntimeWarning: invalid value encountered in true_divide\n",
      "  recall = tps / tps[-1]\n",
      "/home/debian/Simao/miniconda3/envs/thesis/lib/python3.10/site-packages/sklearn/metrics/_ranking.py:864: RuntimeWarning: invalid value encountered in true_divide\n",
      "  recall = tps / tps[-1]\n",
      "/home/debian/Simao/miniconda3/envs/thesis/lib/python3.10/site-packages/sklearn/metrics/_ranking.py:864: RuntimeWarning: invalid value encountered in true_divide\n",
      "  recall = tps / tps[-1]\n",
      "/home/debian/Simao/miniconda3/envs/thesis/lib/python3.10/site-packages/sklearn/metrics/_ranking.py:864: RuntimeWarning: invalid value encountered in true_divide\n",
      "  recall = tps / tps[-1]\n"
     ]
    },
    {
     "name": "stdout",
     "output_type": "stream",
     "text": [
      "Starting to iterate the dataloader to compute random average precisions\n"
     ]
    },
    {
     "data": {
      "application/vnd.jupyter.widget-view+json": {
       "model_id": "b33b3f5f8df6430fb225c95e7734aee3",
       "version_major": 2,
       "version_minor": 0
      },
      "text/plain": [
       "  0%|          | 0/283 [00:00<?, ?it/s]"
      ]
     },
     "metadata": {},
     "output_type": "display_data"
    },
    {
     "name": "stderr",
     "output_type": "stream",
     "text": [
      "/home/debian/Simao/miniconda3/envs/thesis/lib/python3.10/site-packages/sklearn/metrics/_ranking.py:864: RuntimeWarning: invalid value encountered in true_divide\n",
      "  recall = tps / tps[-1]\n",
      "/home/debian/Simao/miniconda3/envs/thesis/lib/python3.10/site-packages/sklearn/metrics/_ranking.py:864: RuntimeWarning: invalid value encountered in true_divide\n",
      "  recall = tps / tps[-1]\n",
      "/home/debian/Simao/miniconda3/envs/thesis/lib/python3.10/site-packages/sklearn/metrics/_ranking.py:864: RuntimeWarning: invalid value encountered in true_divide\n",
      "  recall = tps / tps[-1]\n",
      "/home/debian/Simao/miniconda3/envs/thesis/lib/python3.10/site-packages/sklearn/metrics/_ranking.py:864: RuntimeWarning: invalid value encountered in true_divide\n",
      "  recall = tps / tps[-1]\n",
      "/home/debian/Simao/miniconda3/envs/thesis/lib/python3.10/site-packages/sklearn/metrics/_ranking.py:864: RuntimeWarning: invalid value encountered in true_divide\n",
      "  recall = tps / tps[-1]\n",
      "/home/debian/Simao/miniconda3/envs/thesis/lib/python3.10/site-packages/sklearn/metrics/_ranking.py:864: RuntimeWarning: invalid value encountered in true_divide\n",
      "  recall = tps / tps[-1]\n",
      "/home/debian/Simao/miniconda3/envs/thesis/lib/python3.10/site-packages/sklearn/metrics/_ranking.py:864: RuntimeWarning: invalid value encountered in true_divide\n",
      "  recall = tps / tps[-1]\n",
      "/home/debian/Simao/miniconda3/envs/thesis/lib/python3.10/site-packages/sklearn/metrics/_ranking.py:864: RuntimeWarning: invalid value encountered in true_divide\n",
      "  recall = tps / tps[-1]\n",
      "/home/debian/Simao/miniconda3/envs/thesis/lib/python3.10/site-packages/sklearn/metrics/_ranking.py:864: RuntimeWarning: invalid value encountered in true_divide\n",
      "  recall = tps / tps[-1]\n",
      "/home/debian/Simao/miniconda3/envs/thesis/lib/python3.10/site-packages/sklearn/metrics/_ranking.py:864: RuntimeWarning: invalid value encountered in true_divide\n",
      "  recall = tps / tps[-1]\n",
      "/home/debian/Simao/miniconda3/envs/thesis/lib/python3.10/site-packages/sklearn/metrics/_ranking.py:864: RuntimeWarning: invalid value encountered in true_divide\n",
      "  recall = tps / tps[-1]\n",
      "/home/debian/Simao/miniconda3/envs/thesis/lib/python3.10/site-packages/sklearn/metrics/_ranking.py:864: RuntimeWarning: invalid value encountered in true_divide\n",
      "  recall = tps / tps[-1]\n",
      "/home/debian/Simao/miniconda3/envs/thesis/lib/python3.10/site-packages/sklearn/metrics/_ranking.py:864: RuntimeWarning: invalid value encountered in true_divide\n",
      "  recall = tps / tps[-1]\n",
      "/home/debian/Simao/miniconda3/envs/thesis/lib/python3.10/site-packages/sklearn/metrics/_ranking.py:864: RuntimeWarning: invalid value encountered in true_divide\n",
      "  recall = tps / tps[-1]\n",
      "/home/debian/Simao/miniconda3/envs/thesis/lib/python3.10/site-packages/sklearn/metrics/_ranking.py:864: RuntimeWarning: invalid value encountered in true_divide\n",
      "  recall = tps / tps[-1]\n",
      "/home/debian/Simao/miniconda3/envs/thesis/lib/python3.10/site-packages/sklearn/metrics/_ranking.py:864: RuntimeWarning: invalid value encountered in true_divide\n",
      "  recall = tps / tps[-1]\n",
      "/home/debian/Simao/miniconda3/envs/thesis/lib/python3.10/site-packages/sklearn/metrics/_ranking.py:864: RuntimeWarning: invalid value encountered in true_divide\n",
      "  recall = tps / tps[-1]\n",
      "/home/debian/Simao/miniconda3/envs/thesis/lib/python3.10/site-packages/sklearn/metrics/_ranking.py:864: RuntimeWarning: invalid value encountered in true_divide\n",
      "  recall = tps / tps[-1]\n",
      "/home/debian/Simao/miniconda3/envs/thesis/lib/python3.10/site-packages/sklearn/metrics/_ranking.py:864: RuntimeWarning: invalid value encountered in true_divide\n",
      "  recall = tps / tps[-1]\n",
      "/home/debian/Simao/miniconda3/envs/thesis/lib/python3.10/site-packages/sklearn/metrics/_ranking.py:864: RuntimeWarning: invalid value encountered in true_divide\n",
      "  recall = tps / tps[-1]\n",
      "/home/debian/Simao/miniconda3/envs/thesis/lib/python3.10/site-packages/sklearn/metrics/_ranking.py:864: RuntimeWarning: invalid value encountered in true_divide\n",
      "  recall = tps / tps[-1]\n",
      "/home/debian/Simao/miniconda3/envs/thesis/lib/python3.10/site-packages/sklearn/metrics/_ranking.py:864: RuntimeWarning: invalid value encountered in true_divide\n",
      "  recall = tps / tps[-1]\n",
      "/home/debian/Simao/miniconda3/envs/thesis/lib/python3.10/site-packages/sklearn/metrics/_ranking.py:864: RuntimeWarning: invalid value encountered in true_divide\n",
      "  recall = tps / tps[-1]\n",
      "/home/debian/Simao/miniconda3/envs/thesis/lib/python3.10/site-packages/sklearn/metrics/_ranking.py:864: RuntimeWarning: invalid value encountered in true_divide\n",
      "  recall = tps / tps[-1]\n",
      "/home/debian/Simao/miniconda3/envs/thesis/lib/python3.10/site-packages/sklearn/metrics/_ranking.py:864: RuntimeWarning: invalid value encountered in true_divide\n",
      "  recall = tps / tps[-1]\n",
      "/home/debian/Simao/miniconda3/envs/thesis/lib/python3.10/site-packages/sklearn/metrics/_ranking.py:864: RuntimeWarning: invalid value encountered in true_divide\n",
      "  recall = tps / tps[-1]\n",
      "/home/debian/Simao/miniconda3/envs/thesis/lib/python3.10/site-packages/sklearn/metrics/_ranking.py:864: RuntimeWarning: invalid value encountered in true_divide\n",
      "  recall = tps / tps[-1]\n",
      "/home/debian/Simao/miniconda3/envs/thesis/lib/python3.10/site-packages/sklearn/metrics/_ranking.py:864: RuntimeWarning: invalid value encountered in true_divide\n",
      "  recall = tps / tps[-1]\n",
      "/home/debian/Simao/miniconda3/envs/thesis/lib/python3.10/site-packages/sklearn/metrics/_ranking.py:864: RuntimeWarning: invalid value encountered in true_divide\n",
      "  recall = tps / tps[-1]\n",
      "/home/debian/Simao/miniconda3/envs/thesis/lib/python3.10/site-packages/sklearn/metrics/_ranking.py:864: RuntimeWarning: invalid value encountered in true_divide\n",
      "  recall = tps / tps[-1]\n",
      "/home/debian/Simao/miniconda3/envs/thesis/lib/python3.10/site-packages/sklearn/metrics/_ranking.py:864: RuntimeWarning: invalid value encountered in true_divide\n",
      "  recall = tps / tps[-1]\n",
      "/home/debian/Simao/miniconda3/envs/thesis/lib/python3.10/site-packages/sklearn/metrics/_ranking.py:864: RuntimeWarning: invalid value encountered in true_divide\n",
      "  recall = tps / tps[-1]\n",
      "/home/debian/Simao/miniconda3/envs/thesis/lib/python3.10/site-packages/sklearn/metrics/_ranking.py:864: RuntimeWarning: invalid value encountered in true_divide\n",
      "  recall = tps / tps[-1]\n",
      "/home/debian/Simao/miniconda3/envs/thesis/lib/python3.10/site-packages/sklearn/metrics/_ranking.py:864: RuntimeWarning: invalid value encountered in true_divide\n",
      "  recall = tps / tps[-1]\n",
      "/home/debian/Simao/miniconda3/envs/thesis/lib/python3.10/site-packages/sklearn/metrics/_ranking.py:864: RuntimeWarning: invalid value encountered in true_divide\n",
      "  recall = tps / tps[-1]\n",
      "/home/debian/Simao/miniconda3/envs/thesis/lib/python3.10/site-packages/sklearn/metrics/_ranking.py:864: RuntimeWarning: invalid value encountered in true_divide\n",
      "  recall = tps / tps[-1]\n",
      "/home/debian/Simao/miniconda3/envs/thesis/lib/python3.10/site-packages/sklearn/metrics/_ranking.py:864: RuntimeWarning: invalid value encountered in true_divide\n",
      "  recall = tps / tps[-1]\n",
      "/home/debian/Simao/miniconda3/envs/thesis/lib/python3.10/site-packages/sklearn/metrics/_ranking.py:864: RuntimeWarning: invalid value encountered in true_divide\n",
      "  recall = tps / tps[-1]\n",
      "/home/debian/Simao/miniconda3/envs/thesis/lib/python3.10/site-packages/sklearn/metrics/_ranking.py:864: RuntimeWarning: invalid value encountered in true_divide\n",
      "  recall = tps / tps[-1]\n",
      "/home/debian/Simao/miniconda3/envs/thesis/lib/python3.10/site-packages/sklearn/metrics/_ranking.py:864: RuntimeWarning: invalid value encountered in true_divide\n",
      "  recall = tps / tps[-1]\n",
      "/home/debian/Simao/miniconda3/envs/thesis/lib/python3.10/site-packages/sklearn/metrics/_ranking.py:864: RuntimeWarning: invalid value encountered in true_divide\n",
      "  recall = tps / tps[-1]\n",
      "/home/debian/Simao/miniconda3/envs/thesis/lib/python3.10/site-packages/sklearn/metrics/_ranking.py:864: RuntimeWarning: invalid value encountered in true_divide\n",
      "  recall = tps / tps[-1]\n",
      "/home/debian/Simao/miniconda3/envs/thesis/lib/python3.10/site-packages/sklearn/metrics/_ranking.py:864: RuntimeWarning: invalid value encountered in true_divide\n",
      "  recall = tps / tps[-1]\n",
      "/home/debian/Simao/miniconda3/envs/thesis/lib/python3.10/site-packages/sklearn/metrics/_ranking.py:864: RuntimeWarning: invalid value encountered in true_divide\n",
      "  recall = tps / tps[-1]\n",
      "/home/debian/Simao/miniconda3/envs/thesis/lib/python3.10/site-packages/sklearn/metrics/_ranking.py:864: RuntimeWarning: invalid value encountered in true_divide\n",
      "  recall = tps / tps[-1]\n",
      "/home/debian/Simao/miniconda3/envs/thesis/lib/python3.10/site-packages/sklearn/metrics/_ranking.py:864: RuntimeWarning: invalid value encountered in true_divide\n",
      "  recall = tps / tps[-1]\n",
      "/home/debian/Simao/miniconda3/envs/thesis/lib/python3.10/site-packages/sklearn/metrics/_ranking.py:864: RuntimeWarning: invalid value encountered in true_divide\n",
      "  recall = tps / tps[-1]\n",
      "/home/debian/Simao/miniconda3/envs/thesis/lib/python3.10/site-packages/sklearn/metrics/_ranking.py:864: RuntimeWarning: invalid value encountered in true_divide\n",
      "  recall = tps / tps[-1]\n",
      "/home/debian/Simao/miniconda3/envs/thesis/lib/python3.10/site-packages/sklearn/metrics/_ranking.py:864: RuntimeWarning: invalid value encountered in true_divide\n",
      "  recall = tps / tps[-1]\n",
      "/home/debian/Simao/miniconda3/envs/thesis/lib/python3.10/site-packages/sklearn/metrics/_ranking.py:864: RuntimeWarning: invalid value encountered in true_divide\n",
      "  recall = tps / tps[-1]\n",
      "/home/debian/Simao/miniconda3/envs/thesis/lib/python3.10/site-packages/sklearn/metrics/_ranking.py:864: RuntimeWarning: invalid value encountered in true_divide\n",
      "  recall = tps / tps[-1]\n",
      "/home/debian/Simao/miniconda3/envs/thesis/lib/python3.10/site-packages/sklearn/metrics/_ranking.py:864: RuntimeWarning: invalid value encountered in true_divide\n",
      "  recall = tps / tps[-1]\n",
      "/home/debian/Simao/miniconda3/envs/thesis/lib/python3.10/site-packages/sklearn/metrics/_ranking.py:864: RuntimeWarning: invalid value encountered in true_divide\n",
      "  recall = tps / tps[-1]\n",
      "/home/debian/Simao/miniconda3/envs/thesis/lib/python3.10/site-packages/sklearn/metrics/_ranking.py:864: RuntimeWarning: invalid value encountered in true_divide\n",
      "  recall = tps / tps[-1]\n",
      "/home/debian/Simao/miniconda3/envs/thesis/lib/python3.10/site-packages/sklearn/metrics/_ranking.py:864: RuntimeWarning: invalid value encountered in true_divide\n",
      "  recall = tps / tps[-1]\n",
      "/home/debian/Simao/miniconda3/envs/thesis/lib/python3.10/site-packages/sklearn/metrics/_ranking.py:864: RuntimeWarning: invalid value encountered in true_divide\n",
      "  recall = tps / tps[-1]\n",
      "/home/debian/Simao/miniconda3/envs/thesis/lib/python3.10/site-packages/sklearn/metrics/_ranking.py:864: RuntimeWarning: invalid value encountered in true_divide\n",
      "  recall = tps / tps[-1]\n",
      "/home/debian/Simao/miniconda3/envs/thesis/lib/python3.10/site-packages/sklearn/metrics/_ranking.py:864: RuntimeWarning: invalid value encountered in true_divide\n",
      "  recall = tps / tps[-1]\n",
      "/home/debian/Simao/miniconda3/envs/thesis/lib/python3.10/site-packages/sklearn/metrics/_ranking.py:864: RuntimeWarning: invalid value encountered in true_divide\n",
      "  recall = tps / tps[-1]\n",
      "/home/debian/Simao/miniconda3/envs/thesis/lib/python3.10/site-packages/sklearn/metrics/_ranking.py:864: RuntimeWarning: invalid value encountered in true_divide\n",
      "  recall = tps / tps[-1]\n",
      "/home/debian/Simao/miniconda3/envs/thesis/lib/python3.10/site-packages/sklearn/metrics/_ranking.py:864: RuntimeWarning: invalid value encountered in true_divide\n",
      "  recall = tps / tps[-1]\n",
      "/home/debian/Simao/miniconda3/envs/thesis/lib/python3.10/site-packages/sklearn/metrics/_ranking.py:864: RuntimeWarning: invalid value encountered in true_divide\n",
      "  recall = tps / tps[-1]\n",
      "/home/debian/Simao/miniconda3/envs/thesis/lib/python3.10/site-packages/sklearn/metrics/_ranking.py:864: RuntimeWarning: invalid value encountered in true_divide\n",
      "  recall = tps / tps[-1]\n",
      "/home/debian/Simao/miniconda3/envs/thesis/lib/python3.10/site-packages/sklearn/metrics/_ranking.py:864: RuntimeWarning: invalid value encountered in true_divide\n",
      "  recall = tps / tps[-1]\n",
      "/home/debian/Simao/miniconda3/envs/thesis/lib/python3.10/site-packages/sklearn/metrics/_ranking.py:864: RuntimeWarning: invalid value encountered in true_divide\n",
      "  recall = tps / tps[-1]\n",
      "/home/debian/Simao/miniconda3/envs/thesis/lib/python3.10/site-packages/sklearn/metrics/_ranking.py:864: RuntimeWarning: invalid value encountered in true_divide\n",
      "  recall = tps / tps[-1]\n",
      "/home/debian/Simao/miniconda3/envs/thesis/lib/python3.10/site-packages/sklearn/metrics/_ranking.py:864: RuntimeWarning: invalid value encountered in true_divide\n",
      "  recall = tps / tps[-1]\n",
      "/home/debian/Simao/miniconda3/envs/thesis/lib/python3.10/site-packages/sklearn/metrics/_ranking.py:864: RuntimeWarning: invalid value encountered in true_divide\n",
      "  recall = tps / tps[-1]\n",
      "/home/debian/Simao/miniconda3/envs/thesis/lib/python3.10/site-packages/sklearn/metrics/_ranking.py:864: RuntimeWarning: invalid value encountered in true_divide\n",
      "  recall = tps / tps[-1]\n",
      "/home/debian/Simao/miniconda3/envs/thesis/lib/python3.10/site-packages/sklearn/metrics/_ranking.py:864: RuntimeWarning: invalid value encountered in true_divide\n",
      "  recall = tps / tps[-1]\n",
      "/home/debian/Simao/miniconda3/envs/thesis/lib/python3.10/site-packages/sklearn/metrics/_ranking.py:864: RuntimeWarning: invalid value encountered in true_divide\n",
      "  recall = tps / tps[-1]\n",
      "/home/debian/Simao/miniconda3/envs/thesis/lib/python3.10/site-packages/sklearn/metrics/_ranking.py:864: RuntimeWarning: invalid value encountered in true_divide\n",
      "  recall = tps / tps[-1]\n",
      "/home/debian/Simao/miniconda3/envs/thesis/lib/python3.10/site-packages/sklearn/metrics/_ranking.py:864: RuntimeWarning: invalid value encountered in true_divide\n",
      "  recall = tps / tps[-1]\n",
      "/home/debian/Simao/miniconda3/envs/thesis/lib/python3.10/site-packages/sklearn/metrics/_ranking.py:864: RuntimeWarning: invalid value encountered in true_divide\n",
      "  recall = tps / tps[-1]\n",
      "/home/debian/Simao/miniconda3/envs/thesis/lib/python3.10/site-packages/sklearn/metrics/_ranking.py:864: RuntimeWarning: invalid value encountered in true_divide\n",
      "  recall = tps / tps[-1]\n",
      "/home/debian/Simao/miniconda3/envs/thesis/lib/python3.10/site-packages/sklearn/metrics/_ranking.py:864: RuntimeWarning: invalid value encountered in true_divide\n",
      "  recall = tps / tps[-1]\n",
      "/home/debian/Simao/miniconda3/envs/thesis/lib/python3.10/site-packages/sklearn/metrics/_ranking.py:864: RuntimeWarning: invalid value encountered in true_divide\n",
      "  recall = tps / tps[-1]\n",
      "/home/debian/Simao/miniconda3/envs/thesis/lib/python3.10/site-packages/sklearn/metrics/_ranking.py:864: RuntimeWarning: invalid value encountered in true_divide\n",
      "  recall = tps / tps[-1]\n",
      "/home/debian/Simao/miniconda3/envs/thesis/lib/python3.10/site-packages/sklearn/metrics/_ranking.py:864: RuntimeWarning: invalid value encountered in true_divide\n",
      "  recall = tps / tps[-1]\n",
      "/home/debian/Simao/miniconda3/envs/thesis/lib/python3.10/site-packages/sklearn/metrics/_ranking.py:864: RuntimeWarning: invalid value encountered in true_divide\n",
      "  recall = tps / tps[-1]\n",
      "/home/debian/Simao/miniconda3/envs/thesis/lib/python3.10/site-packages/sklearn/metrics/_ranking.py:864: RuntimeWarning: invalid value encountered in true_divide\n",
      "  recall = tps / tps[-1]\n",
      "/home/debian/Simao/miniconda3/envs/thesis/lib/python3.10/site-packages/sklearn/metrics/_ranking.py:864: RuntimeWarning: invalid value encountered in true_divide\n",
      "  recall = tps / tps[-1]\n",
      "/home/debian/Simao/miniconda3/envs/thesis/lib/python3.10/site-packages/sklearn/metrics/_ranking.py:864: RuntimeWarning: invalid value encountered in true_divide\n",
      "  recall = tps / tps[-1]\n",
      "/home/debian/Simao/miniconda3/envs/thesis/lib/python3.10/site-packages/sklearn/metrics/_ranking.py:864: RuntimeWarning: invalid value encountered in true_divide\n",
      "  recall = tps / tps[-1]\n",
      "/home/debian/Simao/miniconda3/envs/thesis/lib/python3.10/site-packages/sklearn/metrics/_ranking.py:864: RuntimeWarning: invalid value encountered in true_divide\n",
      "  recall = tps / tps[-1]\n",
      "/home/debian/Simao/miniconda3/envs/thesis/lib/python3.10/site-packages/sklearn/metrics/_ranking.py:864: RuntimeWarning: invalid value encountered in true_divide\n",
      "  recall = tps / tps[-1]\n",
      "/home/debian/Simao/miniconda3/envs/thesis/lib/python3.10/site-packages/sklearn/metrics/_ranking.py:864: RuntimeWarning: invalid value encountered in true_divide\n",
      "  recall = tps / tps[-1]\n",
      "/home/debian/Simao/miniconda3/envs/thesis/lib/python3.10/site-packages/sklearn/metrics/_ranking.py:864: RuntimeWarning: invalid value encountered in true_divide\n",
      "  recall = tps / tps[-1]\n",
      "/home/debian/Simao/miniconda3/envs/thesis/lib/python3.10/site-packages/sklearn/metrics/_ranking.py:864: RuntimeWarning: invalid value encountered in true_divide\n",
      "  recall = tps / tps[-1]\n",
      "/home/debian/Simao/miniconda3/envs/thesis/lib/python3.10/site-packages/sklearn/metrics/_ranking.py:864: RuntimeWarning: invalid value encountered in true_divide\n",
      "  recall = tps / tps[-1]\n",
      "/home/debian/Simao/miniconda3/envs/thesis/lib/python3.10/site-packages/sklearn/metrics/_ranking.py:864: RuntimeWarning: invalid value encountered in true_divide\n",
      "  recall = tps / tps[-1]\n",
      "/home/debian/Simao/miniconda3/envs/thesis/lib/python3.10/site-packages/sklearn/metrics/_ranking.py:864: RuntimeWarning: invalid value encountered in true_divide\n",
      "  recall = tps / tps[-1]\n",
      "/home/debian/Simao/miniconda3/envs/thesis/lib/python3.10/site-packages/sklearn/metrics/_ranking.py:864: RuntimeWarning: invalid value encountered in true_divide\n",
      "  recall = tps / tps[-1]\n",
      "/home/debian/Simao/miniconda3/envs/thesis/lib/python3.10/site-packages/sklearn/metrics/_ranking.py:864: RuntimeWarning: invalid value encountered in true_divide\n",
      "  recall = tps / tps[-1]\n",
      "/home/debian/Simao/miniconda3/envs/thesis/lib/python3.10/site-packages/sklearn/metrics/_ranking.py:864: RuntimeWarning: invalid value encountered in true_divide\n",
      "  recall = tps / tps[-1]\n",
      "/home/debian/Simao/miniconda3/envs/thesis/lib/python3.10/site-packages/sklearn/metrics/_ranking.py:864: RuntimeWarning: invalid value encountered in true_divide\n",
      "  recall = tps / tps[-1]\n",
      "/home/debian/Simao/miniconda3/envs/thesis/lib/python3.10/site-packages/sklearn/metrics/_ranking.py:864: RuntimeWarning: invalid value encountered in true_divide\n",
      "  recall = tps / tps[-1]\n",
      "/home/debian/Simao/miniconda3/envs/thesis/lib/python3.10/site-packages/sklearn/metrics/_ranking.py:864: RuntimeWarning: invalid value encountered in true_divide\n",
      "  recall = tps / tps[-1]\n",
      "/home/debian/Simao/miniconda3/envs/thesis/lib/python3.10/site-packages/sklearn/metrics/_ranking.py:864: RuntimeWarning: invalid value encountered in true_divide\n",
      "  recall = tps / tps[-1]\n",
      "/home/debian/Simao/miniconda3/envs/thesis/lib/python3.10/site-packages/sklearn/metrics/_ranking.py:864: RuntimeWarning: invalid value encountered in true_divide\n",
      "  recall = tps / tps[-1]\n",
      "/home/debian/Simao/miniconda3/envs/thesis/lib/python3.10/site-packages/sklearn/metrics/_ranking.py:864: RuntimeWarning: invalid value encountered in true_divide\n",
      "  recall = tps / tps[-1]\n",
      "/home/debian/Simao/miniconda3/envs/thesis/lib/python3.10/site-packages/sklearn/metrics/_ranking.py:864: RuntimeWarning: invalid value encountered in true_divide\n",
      "  recall = tps / tps[-1]\n",
      "/home/debian/Simao/miniconda3/envs/thesis/lib/python3.10/site-packages/sklearn/metrics/_ranking.py:864: RuntimeWarning: invalid value encountered in true_divide\n",
      "  recall = tps / tps[-1]\n",
      "/home/debian/Simao/miniconda3/envs/thesis/lib/python3.10/site-packages/sklearn/metrics/_ranking.py:864: RuntimeWarning: invalid value encountered in true_divide\n",
      "  recall = tps / tps[-1]\n",
      "/home/debian/Simao/miniconda3/envs/thesis/lib/python3.10/site-packages/sklearn/metrics/_ranking.py:864: RuntimeWarning: invalid value encountered in true_divide\n",
      "  recall = tps / tps[-1]\n",
      "/home/debian/Simao/miniconda3/envs/thesis/lib/python3.10/site-packages/sklearn/metrics/_ranking.py:864: RuntimeWarning: invalid value encountered in true_divide\n",
      "  recall = tps / tps[-1]\n",
      "/home/debian/Simao/miniconda3/envs/thesis/lib/python3.10/site-packages/sklearn/metrics/_ranking.py:864: RuntimeWarning: invalid value encountered in true_divide\n",
      "  recall = tps / tps[-1]\n",
      "/home/debian/Simao/miniconda3/envs/thesis/lib/python3.10/site-packages/sklearn/metrics/_ranking.py:864: RuntimeWarning: invalid value encountered in true_divide\n",
      "  recall = tps / tps[-1]\n",
      "/home/debian/Simao/miniconda3/envs/thesis/lib/python3.10/site-packages/sklearn/metrics/_ranking.py:864: RuntimeWarning: invalid value encountered in true_divide\n",
      "  recall = tps / tps[-1]\n",
      "/home/debian/Simao/miniconda3/envs/thesis/lib/python3.10/site-packages/sklearn/metrics/_ranking.py:864: RuntimeWarning: invalid value encountered in true_divide\n",
      "  recall = tps / tps[-1]\n",
      "/home/debian/Simao/miniconda3/envs/thesis/lib/python3.10/site-packages/sklearn/metrics/_ranking.py:864: RuntimeWarning: invalid value encountered in true_divide\n",
      "  recall = tps / tps[-1]\n",
      "/home/debian/Simao/miniconda3/envs/thesis/lib/python3.10/site-packages/sklearn/metrics/_ranking.py:864: RuntimeWarning: invalid value encountered in true_divide\n",
      "  recall = tps / tps[-1]\n",
      "/home/debian/Simao/miniconda3/envs/thesis/lib/python3.10/site-packages/sklearn/metrics/_ranking.py:864: RuntimeWarning: invalid value encountered in true_divide\n",
      "  recall = tps / tps[-1]\n",
      "/home/debian/Simao/miniconda3/envs/thesis/lib/python3.10/site-packages/sklearn/metrics/_ranking.py:864: RuntimeWarning: invalid value encountered in true_divide\n",
      "  recall = tps / tps[-1]\n",
      "/home/debian/Simao/miniconda3/envs/thesis/lib/python3.10/site-packages/sklearn/metrics/_ranking.py:864: RuntimeWarning: invalid value encountered in true_divide\n",
      "  recall = tps / tps[-1]\n",
      "/home/debian/Simao/miniconda3/envs/thesis/lib/python3.10/site-packages/sklearn/metrics/_ranking.py:864: RuntimeWarning: invalid value encountered in true_divide\n",
      "  recall = tps / tps[-1]\n",
      "/home/debian/Simao/miniconda3/envs/thesis/lib/python3.10/site-packages/sklearn/metrics/_ranking.py:864: RuntimeWarning: invalid value encountered in true_divide\n",
      "  recall = tps / tps[-1]\n",
      "/home/debian/Simao/miniconda3/envs/thesis/lib/python3.10/site-packages/sklearn/metrics/_ranking.py:864: RuntimeWarning: invalid value encountered in true_divide\n",
      "  recall = tps / tps[-1]\n",
      "/home/debian/Simao/miniconda3/envs/thesis/lib/python3.10/site-packages/sklearn/metrics/_ranking.py:864: RuntimeWarning: invalid value encountered in true_divide\n",
      "  recall = tps / tps[-1]\n",
      "/home/debian/Simao/miniconda3/envs/thesis/lib/python3.10/site-packages/sklearn/metrics/_ranking.py:864: RuntimeWarning: invalid value encountered in true_divide\n",
      "  recall = tps / tps[-1]\n",
      "/home/debian/Simao/miniconda3/envs/thesis/lib/python3.10/site-packages/sklearn/metrics/_ranking.py:864: RuntimeWarning: invalid value encountered in true_divide\n",
      "  recall = tps / tps[-1]\n",
      "/home/debian/Simao/miniconda3/envs/thesis/lib/python3.10/site-packages/sklearn/metrics/_ranking.py:864: RuntimeWarning: invalid value encountered in true_divide\n",
      "  recall = tps / tps[-1]\n",
      "/home/debian/Simao/miniconda3/envs/thesis/lib/python3.10/site-packages/sklearn/metrics/_ranking.py:864: RuntimeWarning: invalid value encountered in true_divide\n",
      "  recall = tps / tps[-1]\n",
      "/home/debian/Simao/miniconda3/envs/thesis/lib/python3.10/site-packages/sklearn/metrics/_ranking.py:864: RuntimeWarning: invalid value encountered in true_divide\n",
      "  recall = tps / tps[-1]\n",
      "/home/debian/Simao/miniconda3/envs/thesis/lib/python3.10/site-packages/sklearn/metrics/_ranking.py:864: RuntimeWarning: invalid value encountered in true_divide\n",
      "  recall = tps / tps[-1]\n",
      "/home/debian/Simao/miniconda3/envs/thesis/lib/python3.10/site-packages/sklearn/metrics/_ranking.py:864: RuntimeWarning: invalid value encountered in true_divide\n",
      "  recall = tps / tps[-1]\n",
      "/home/debian/Simao/miniconda3/envs/thesis/lib/python3.10/site-packages/sklearn/metrics/_ranking.py:864: RuntimeWarning: invalid value encountered in true_divide\n",
      "  recall = tps / tps[-1]\n",
      "/home/debian/Simao/miniconda3/envs/thesis/lib/python3.10/site-packages/sklearn/metrics/_ranking.py:864: RuntimeWarning: invalid value encountered in true_divide\n",
      "  recall = tps / tps[-1]\n",
      "/home/debian/Simao/miniconda3/envs/thesis/lib/python3.10/site-packages/sklearn/metrics/_ranking.py:864: RuntimeWarning: invalid value encountered in true_divide\n",
      "  recall = tps / tps[-1]\n",
      "/home/debian/Simao/miniconda3/envs/thesis/lib/python3.10/site-packages/sklearn/metrics/_ranking.py:864: RuntimeWarning: invalid value encountered in true_divide\n",
      "  recall = tps / tps[-1]\n",
      "/home/debian/Simao/miniconda3/envs/thesis/lib/python3.10/site-packages/sklearn/metrics/_ranking.py:864: RuntimeWarning: invalid value encountered in true_divide\n",
      "  recall = tps / tps[-1]\n",
      "/home/debian/Simao/miniconda3/envs/thesis/lib/python3.10/site-packages/sklearn/metrics/_ranking.py:864: RuntimeWarning: invalid value encountered in true_divide\n",
      "  recall = tps / tps[-1]\n",
      "/home/debian/Simao/miniconda3/envs/thesis/lib/python3.10/site-packages/sklearn/metrics/_ranking.py:864: RuntimeWarning: invalid value encountered in true_divide\n",
      "  recall = tps / tps[-1]\n",
      "/home/debian/Simao/miniconda3/envs/thesis/lib/python3.10/site-packages/sklearn/metrics/_ranking.py:864: RuntimeWarning: invalid value encountered in true_divide\n",
      "  recall = tps / tps[-1]\n",
      "/home/debian/Simao/miniconda3/envs/thesis/lib/python3.10/site-packages/sklearn/metrics/_ranking.py:864: RuntimeWarning: invalid value encountered in true_divide\n",
      "  recall = tps / tps[-1]\n",
      "/home/debian/Simao/miniconda3/envs/thesis/lib/python3.10/site-packages/sklearn/metrics/_ranking.py:864: RuntimeWarning: invalid value encountered in true_divide\n",
      "  recall = tps / tps[-1]\n",
      "/home/debian/Simao/miniconda3/envs/thesis/lib/python3.10/site-packages/sklearn/metrics/_ranking.py:864: RuntimeWarning: invalid value encountered in true_divide\n",
      "  recall = tps / tps[-1]\n",
      "/home/debian/Simao/miniconda3/envs/thesis/lib/python3.10/site-packages/sklearn/metrics/_ranking.py:864: RuntimeWarning: invalid value encountered in true_divide\n",
      "  recall = tps / tps[-1]\n",
      "/home/debian/Simao/miniconda3/envs/thesis/lib/python3.10/site-packages/sklearn/metrics/_ranking.py:864: RuntimeWarning: invalid value encountered in true_divide\n",
      "  recall = tps / tps[-1]\n",
      "/home/debian/Simao/miniconda3/envs/thesis/lib/python3.10/site-packages/sklearn/metrics/_ranking.py:864: RuntimeWarning: invalid value encountered in true_divide\n",
      "  recall = tps / tps[-1]\n",
      "/home/debian/Simao/miniconda3/envs/thesis/lib/python3.10/site-packages/sklearn/metrics/_ranking.py:864: RuntimeWarning: invalid value encountered in true_divide\n",
      "  recall = tps / tps[-1]\n",
      "/home/debian/Simao/miniconda3/envs/thesis/lib/python3.10/site-packages/sklearn/metrics/_ranking.py:864: RuntimeWarning: invalid value encountered in true_divide\n",
      "  recall = tps / tps[-1]\n",
      "/home/debian/Simao/miniconda3/envs/thesis/lib/python3.10/site-packages/sklearn/metrics/_ranking.py:864: RuntimeWarning: invalid value encountered in true_divide\n",
      "  recall = tps / tps[-1]\n",
      "/home/debian/Simao/miniconda3/envs/thesis/lib/python3.10/site-packages/sklearn/metrics/_ranking.py:864: RuntimeWarning: invalid value encountered in true_divide\n",
      "  recall = tps / tps[-1]\n",
      "/home/debian/Simao/miniconda3/envs/thesis/lib/python3.10/site-packages/sklearn/metrics/_ranking.py:864: RuntimeWarning: invalid value encountered in true_divide\n",
      "  recall = tps / tps[-1]\n",
      "/home/debian/Simao/miniconda3/envs/thesis/lib/python3.10/site-packages/sklearn/metrics/_ranking.py:864: RuntimeWarning: invalid value encountered in true_divide\n",
      "  recall = tps / tps[-1]\n",
      "/home/debian/Simao/miniconda3/envs/thesis/lib/python3.10/site-packages/sklearn/metrics/_ranking.py:864: RuntimeWarning: invalid value encountered in true_divide\n",
      "  recall = tps / tps[-1]\n",
      "/home/debian/Simao/miniconda3/envs/thesis/lib/python3.10/site-packages/sklearn/metrics/_ranking.py:864: RuntimeWarning: invalid value encountered in true_divide\n",
      "  recall = tps / tps[-1]\n",
      "/home/debian/Simao/miniconda3/envs/thesis/lib/python3.10/site-packages/sklearn/metrics/_ranking.py:864: RuntimeWarning: invalid value encountered in true_divide\n",
      "  recall = tps / tps[-1]\n",
      "/home/debian/Simao/miniconda3/envs/thesis/lib/python3.10/site-packages/sklearn/metrics/_ranking.py:864: RuntimeWarning: invalid value encountered in true_divide\n",
      "  recall = tps / tps[-1]\n",
      "/home/debian/Simao/miniconda3/envs/thesis/lib/python3.10/site-packages/sklearn/metrics/_ranking.py:864: RuntimeWarning: invalid value encountered in true_divide\n",
      "  recall = tps / tps[-1]\n",
      "/home/debian/Simao/miniconda3/envs/thesis/lib/python3.10/site-packages/sklearn/metrics/_ranking.py:864: RuntimeWarning: invalid value encountered in true_divide\n",
      "  recall = tps / tps[-1]\n",
      "/home/debian/Simao/miniconda3/envs/thesis/lib/python3.10/site-packages/sklearn/metrics/_ranking.py:864: RuntimeWarning: invalid value encountered in true_divide\n",
      "  recall = tps / tps[-1]\n",
      "/home/debian/Simao/miniconda3/envs/thesis/lib/python3.10/site-packages/sklearn/metrics/_ranking.py:864: RuntimeWarning: invalid value encountered in true_divide\n",
      "  recall = tps / tps[-1]\n",
      "/home/debian/Simao/miniconda3/envs/thesis/lib/python3.10/site-packages/sklearn/metrics/_ranking.py:864: RuntimeWarning: invalid value encountered in true_divide\n",
      "  recall = tps / tps[-1]\n",
      "/home/debian/Simao/miniconda3/envs/thesis/lib/python3.10/site-packages/sklearn/metrics/_ranking.py:864: RuntimeWarning: invalid value encountered in true_divide\n",
      "  recall = tps / tps[-1]\n",
      "/home/debian/Simao/miniconda3/envs/thesis/lib/python3.10/site-packages/sklearn/metrics/_ranking.py:864: RuntimeWarning: invalid value encountered in true_divide\n",
      "  recall = tps / tps[-1]\n",
      "/home/debian/Simao/miniconda3/envs/thesis/lib/python3.10/site-packages/sklearn/metrics/_ranking.py:864: RuntimeWarning: invalid value encountered in true_divide\n",
      "  recall = tps / tps[-1]\n",
      "/home/debian/Simao/miniconda3/envs/thesis/lib/python3.10/site-packages/sklearn/metrics/_ranking.py:864: RuntimeWarning: invalid value encountered in true_divide\n",
      "  recall = tps / tps[-1]\n",
      "/home/debian/Simao/miniconda3/envs/thesis/lib/python3.10/site-packages/sklearn/metrics/_ranking.py:864: RuntimeWarning: invalid value encountered in true_divide\n",
      "  recall = tps / tps[-1]\n",
      "/home/debian/Simao/miniconda3/envs/thesis/lib/python3.10/site-packages/sklearn/metrics/_ranking.py:864: RuntimeWarning: invalid value encountered in true_divide\n",
      "  recall = tps / tps[-1]\n",
      "/home/debian/Simao/miniconda3/envs/thesis/lib/python3.10/site-packages/sklearn/metrics/_ranking.py:864: RuntimeWarning: invalid value encountered in true_divide\n",
      "  recall = tps / tps[-1]\n",
      "/home/debian/Simao/miniconda3/envs/thesis/lib/python3.10/site-packages/sklearn/metrics/_ranking.py:864: RuntimeWarning: invalid value encountered in true_divide\n",
      "  recall = tps / tps[-1]\n",
      "/home/debian/Simao/miniconda3/envs/thesis/lib/python3.10/site-packages/sklearn/metrics/_ranking.py:864: RuntimeWarning: invalid value encountered in true_divide\n",
      "  recall = tps / tps[-1]\n",
      "/home/debian/Simao/miniconda3/envs/thesis/lib/python3.10/site-packages/sklearn/metrics/_ranking.py:864: RuntimeWarning: invalid value encountered in true_divide\n",
      "  recall = tps / tps[-1]\n",
      "/home/debian/Simao/miniconda3/envs/thesis/lib/python3.10/site-packages/sklearn/metrics/_ranking.py:864: RuntimeWarning: invalid value encountered in true_divide\n",
      "  recall = tps / tps[-1]\n",
      "/home/debian/Simao/miniconda3/envs/thesis/lib/python3.10/site-packages/sklearn/metrics/_ranking.py:864: RuntimeWarning: invalid value encountered in true_divide\n",
      "  recall = tps / tps[-1]\n",
      "/home/debian/Simao/miniconda3/envs/thesis/lib/python3.10/site-packages/sklearn/metrics/_ranking.py:864: RuntimeWarning: invalid value encountered in true_divide\n",
      "  recall = tps / tps[-1]\n",
      "/home/debian/Simao/miniconda3/envs/thesis/lib/python3.10/site-packages/sklearn/metrics/_ranking.py:864: RuntimeWarning: invalid value encountered in true_divide\n",
      "  recall = tps / tps[-1]\n",
      "/home/debian/Simao/miniconda3/envs/thesis/lib/python3.10/site-packages/sklearn/metrics/_ranking.py:864: RuntimeWarning: invalid value encountered in true_divide\n",
      "  recall = tps / tps[-1]\n",
      "/home/debian/Simao/miniconda3/envs/thesis/lib/python3.10/site-packages/sklearn/metrics/_ranking.py:864: RuntimeWarning: invalid value encountered in true_divide\n",
      "  recall = tps / tps[-1]\n",
      "/home/debian/Simao/miniconda3/envs/thesis/lib/python3.10/site-packages/sklearn/metrics/_ranking.py:864: RuntimeWarning: invalid value encountered in true_divide\n",
      "  recall = tps / tps[-1]\n",
      "/home/debian/Simao/miniconda3/envs/thesis/lib/python3.10/site-packages/sklearn/metrics/_ranking.py:864: RuntimeWarning: invalid value encountered in true_divide\n",
      "  recall = tps / tps[-1]\n",
      "/home/debian/Simao/miniconda3/envs/thesis/lib/python3.10/site-packages/sklearn/metrics/_ranking.py:864: RuntimeWarning: invalid value encountered in true_divide\n",
      "  recall = tps / tps[-1]\n",
      "/home/debian/Simao/miniconda3/envs/thesis/lib/python3.10/site-packages/sklearn/metrics/_ranking.py:864: RuntimeWarning: invalid value encountered in true_divide\n",
      "  recall = tps / tps[-1]\n",
      "/home/debian/Simao/miniconda3/envs/thesis/lib/python3.10/site-packages/sklearn/metrics/_ranking.py:864: RuntimeWarning: invalid value encountered in true_divide\n",
      "  recall = tps / tps[-1]\n",
      "/home/debian/Simao/miniconda3/envs/thesis/lib/python3.10/site-packages/sklearn/metrics/_ranking.py:864: RuntimeWarning: invalid value encountered in true_divide\n",
      "  recall = tps / tps[-1]\n",
      "/home/debian/Simao/miniconda3/envs/thesis/lib/python3.10/site-packages/sklearn/metrics/_ranking.py:864: RuntimeWarning: invalid value encountered in true_divide\n",
      "  recall = tps / tps[-1]\n",
      "/home/debian/Simao/miniconda3/envs/thesis/lib/python3.10/site-packages/sklearn/metrics/_ranking.py:864: RuntimeWarning: invalid value encountered in true_divide\n",
      "  recall = tps / tps[-1]\n",
      "/home/debian/Simao/miniconda3/envs/thesis/lib/python3.10/site-packages/sklearn/metrics/_ranking.py:864: RuntimeWarning: invalid value encountered in true_divide\n",
      "  recall = tps / tps[-1]\n",
      "/home/debian/Simao/miniconda3/envs/thesis/lib/python3.10/site-packages/sklearn/metrics/_ranking.py:864: RuntimeWarning: invalid value encountered in true_divide\n",
      "  recall = tps / tps[-1]\n",
      "/home/debian/Simao/miniconda3/envs/thesis/lib/python3.10/site-packages/sklearn/metrics/_ranking.py:864: RuntimeWarning: invalid value encountered in true_divide\n",
      "  recall = tps / tps[-1]\n",
      "/home/debian/Simao/miniconda3/envs/thesis/lib/python3.10/site-packages/sklearn/metrics/_ranking.py:864: RuntimeWarning: invalid value encountered in true_divide\n",
      "  recall = tps / tps[-1]\n",
      "/home/debian/Simao/miniconda3/envs/thesis/lib/python3.10/site-packages/sklearn/metrics/_ranking.py:864: RuntimeWarning: invalid value encountered in true_divide\n",
      "  recall = tps / tps[-1]\n",
      "/home/debian/Simao/miniconda3/envs/thesis/lib/python3.10/site-packages/sklearn/metrics/_ranking.py:864: RuntimeWarning: invalid value encountered in true_divide\n",
      "  recall = tps / tps[-1]\n",
      "/home/debian/Simao/miniconda3/envs/thesis/lib/python3.10/site-packages/sklearn/metrics/_ranking.py:864: RuntimeWarning: invalid value encountered in true_divide\n",
      "  recall = tps / tps[-1]\n",
      "/home/debian/Simao/miniconda3/envs/thesis/lib/python3.10/site-packages/sklearn/metrics/_ranking.py:864: RuntimeWarning: invalid value encountered in true_divide\n",
      "  recall = tps / tps[-1]\n",
      "/home/debian/Simao/miniconda3/envs/thesis/lib/python3.10/site-packages/sklearn/metrics/_ranking.py:864: RuntimeWarning: invalid value encountered in true_divide\n",
      "  recall = tps / tps[-1]\n",
      "/home/debian/Simao/miniconda3/envs/thesis/lib/python3.10/site-packages/sklearn/metrics/_ranking.py:864: RuntimeWarning: invalid value encountered in true_divide\n",
      "  recall = tps / tps[-1]\n",
      "/home/debian/Simao/miniconda3/envs/thesis/lib/python3.10/site-packages/sklearn/metrics/_ranking.py:864: RuntimeWarning: invalid value encountered in true_divide\n",
      "  recall = tps / tps[-1]\n",
      "/home/debian/Simao/miniconda3/envs/thesis/lib/python3.10/site-packages/sklearn/metrics/_ranking.py:864: RuntimeWarning: invalid value encountered in true_divide\n",
      "  recall = tps / tps[-1]\n",
      "/home/debian/Simao/miniconda3/envs/thesis/lib/python3.10/site-packages/sklearn/metrics/_ranking.py:864: RuntimeWarning: invalid value encountered in true_divide\n",
      "  recall = tps / tps[-1]\n",
      "/home/debian/Simao/miniconda3/envs/thesis/lib/python3.10/site-packages/sklearn/metrics/_ranking.py:864: RuntimeWarning: invalid value encountered in true_divide\n",
      "  recall = tps / tps[-1]\n",
      "/home/debian/Simao/miniconda3/envs/thesis/lib/python3.10/site-packages/sklearn/metrics/_ranking.py:864: RuntimeWarning: invalid value encountered in true_divide\n",
      "  recall = tps / tps[-1]\n",
      "/home/debian/Simao/miniconda3/envs/thesis/lib/python3.10/site-packages/sklearn/metrics/_ranking.py:864: RuntimeWarning: invalid value encountered in true_divide\n",
      "  recall = tps / tps[-1]\n",
      "/home/debian/Simao/miniconda3/envs/thesis/lib/python3.10/site-packages/sklearn/metrics/_ranking.py:864: RuntimeWarning: invalid value encountered in true_divide\n",
      "  recall = tps / tps[-1]\n",
      "/home/debian/Simao/miniconda3/envs/thesis/lib/python3.10/site-packages/sklearn/metrics/_ranking.py:864: RuntimeWarning: invalid value encountered in true_divide\n",
      "  recall = tps / tps[-1]\n",
      "/home/debian/Simao/miniconda3/envs/thesis/lib/python3.10/site-packages/sklearn/metrics/_ranking.py:864: RuntimeWarning: invalid value encountered in true_divide\n",
      "  recall = tps / tps[-1]\n",
      "/home/debian/Simao/miniconda3/envs/thesis/lib/python3.10/site-packages/sklearn/metrics/_ranking.py:864: RuntimeWarning: invalid value encountered in true_divide\n",
      "  recall = tps / tps[-1]\n",
      "/home/debian/Simao/miniconda3/envs/thesis/lib/python3.10/site-packages/sklearn/metrics/_ranking.py:864: RuntimeWarning: invalid value encountered in true_divide\n",
      "  recall = tps / tps[-1]\n",
      "/home/debian/Simao/miniconda3/envs/thesis/lib/python3.10/site-packages/sklearn/metrics/_ranking.py:864: RuntimeWarning: invalid value encountered in true_divide\n",
      "  recall = tps / tps[-1]\n",
      "/home/debian/Simao/miniconda3/envs/thesis/lib/python3.10/site-packages/sklearn/metrics/_ranking.py:864: RuntimeWarning: invalid value encountered in true_divide\n",
      "  recall = tps / tps[-1]\n",
      "/home/debian/Simao/miniconda3/envs/thesis/lib/python3.10/site-packages/sklearn/metrics/_ranking.py:864: RuntimeWarning: invalid value encountered in true_divide\n",
      "  recall = tps / tps[-1]\n",
      "/home/debian/Simao/miniconda3/envs/thesis/lib/python3.10/site-packages/sklearn/metrics/_ranking.py:864: RuntimeWarning: invalid value encountered in true_divide\n",
      "  recall = tps / tps[-1]\n",
      "/home/debian/Simao/miniconda3/envs/thesis/lib/python3.10/site-packages/sklearn/metrics/_ranking.py:864: RuntimeWarning: invalid value encountered in true_divide\n",
      "  recall = tps / tps[-1]\n",
      "/home/debian/Simao/miniconda3/envs/thesis/lib/python3.10/site-packages/sklearn/metrics/_ranking.py:864: RuntimeWarning: invalid value encountered in true_divide\n",
      "  recall = tps / tps[-1]\n",
      "/home/debian/Simao/miniconda3/envs/thesis/lib/python3.10/site-packages/sklearn/metrics/_ranking.py:864: RuntimeWarning: invalid value encountered in true_divide\n",
      "  recall = tps / tps[-1]\n",
      "/home/debian/Simao/miniconda3/envs/thesis/lib/python3.10/site-packages/sklearn/metrics/_ranking.py:864: RuntimeWarning: invalid value encountered in true_divide\n",
      "  recall = tps / tps[-1]\n",
      "/home/debian/Simao/miniconda3/envs/thesis/lib/python3.10/site-packages/sklearn/metrics/_ranking.py:864: RuntimeWarning: invalid value encountered in true_divide\n",
      "  recall = tps / tps[-1]\n",
      "/home/debian/Simao/miniconda3/envs/thesis/lib/python3.10/site-packages/sklearn/metrics/_ranking.py:864: RuntimeWarning: invalid value encountered in true_divide\n",
      "  recall = tps / tps[-1]\n",
      "/home/debian/Simao/miniconda3/envs/thesis/lib/python3.10/site-packages/sklearn/metrics/_ranking.py:864: RuntimeWarning: invalid value encountered in true_divide\n",
      "  recall = tps / tps[-1]\n",
      "/home/debian/Simao/miniconda3/envs/thesis/lib/python3.10/site-packages/sklearn/metrics/_ranking.py:864: RuntimeWarning: invalid value encountered in true_divide\n",
      "  recall = tps / tps[-1]\n",
      "/home/debian/Simao/miniconda3/envs/thesis/lib/python3.10/site-packages/sklearn/metrics/_ranking.py:864: RuntimeWarning: invalid value encountered in true_divide\n",
      "  recall = tps / tps[-1]\n",
      "/home/debian/Simao/miniconda3/envs/thesis/lib/python3.10/site-packages/sklearn/metrics/_ranking.py:864: RuntimeWarning: invalid value encountered in true_divide\n",
      "  recall = tps / tps[-1]\n",
      "/home/debian/Simao/miniconda3/envs/thesis/lib/python3.10/site-packages/sklearn/metrics/_ranking.py:864: RuntimeWarning: invalid value encountered in true_divide\n",
      "  recall = tps / tps[-1]\n",
      "/home/debian/Simao/miniconda3/envs/thesis/lib/python3.10/site-packages/sklearn/metrics/_ranking.py:864: RuntimeWarning: invalid value encountered in true_divide\n",
      "  recall = tps / tps[-1]\n",
      "/home/debian/Simao/miniconda3/envs/thesis/lib/python3.10/site-packages/sklearn/metrics/_ranking.py:864: RuntimeWarning: invalid value encountered in true_divide\n",
      "  recall = tps / tps[-1]\n",
      "/home/debian/Simao/miniconda3/envs/thesis/lib/python3.10/site-packages/sklearn/metrics/_ranking.py:864: RuntimeWarning: invalid value encountered in true_divide\n",
      "  recall = tps / tps[-1]\n",
      "/home/debian/Simao/miniconda3/envs/thesis/lib/python3.10/site-packages/sklearn/metrics/_ranking.py:864: RuntimeWarning: invalid value encountered in true_divide\n",
      "  recall = tps / tps[-1]\n",
      "/home/debian/Simao/miniconda3/envs/thesis/lib/python3.10/site-packages/sklearn/metrics/_ranking.py:864: RuntimeWarning: invalid value encountered in true_divide\n",
      "  recall = tps / tps[-1]\n",
      "/home/debian/Simao/miniconda3/envs/thesis/lib/python3.10/site-packages/sklearn/metrics/_ranking.py:864: RuntimeWarning: invalid value encountered in true_divide\n",
      "  recall = tps / tps[-1]\n",
      "/home/debian/Simao/miniconda3/envs/thesis/lib/python3.10/site-packages/sklearn/metrics/_ranking.py:864: RuntimeWarning: invalid value encountered in true_divide\n",
      "  recall = tps / tps[-1]\n",
      "/home/debian/Simao/miniconda3/envs/thesis/lib/python3.10/site-packages/sklearn/metrics/_ranking.py:864: RuntimeWarning: invalid value encountered in true_divide\n",
      "  recall = tps / tps[-1]\n",
      "/home/debian/Simao/miniconda3/envs/thesis/lib/python3.10/site-packages/sklearn/metrics/_ranking.py:864: RuntimeWarning: invalid value encountered in true_divide\n",
      "  recall = tps / tps[-1]\n",
      "/home/debian/Simao/miniconda3/envs/thesis/lib/python3.10/site-packages/sklearn/metrics/_ranking.py:864: RuntimeWarning: invalid value encountered in true_divide\n",
      "  recall = tps / tps[-1]\n",
      "/home/debian/Simao/miniconda3/envs/thesis/lib/python3.10/site-packages/sklearn/metrics/_ranking.py:864: RuntimeWarning: invalid value encountered in true_divide\n",
      "  recall = tps / tps[-1]\n",
      "/home/debian/Simao/miniconda3/envs/thesis/lib/python3.10/site-packages/sklearn/metrics/_ranking.py:864: RuntimeWarning: invalid value encountered in true_divide\n",
      "  recall = tps / tps[-1]\n",
      "/home/debian/Simao/miniconda3/envs/thesis/lib/python3.10/site-packages/sklearn/metrics/_ranking.py:864: RuntimeWarning: invalid value encountered in true_divide\n",
      "  recall = tps / tps[-1]\n",
      "/home/debian/Simao/miniconda3/envs/thesis/lib/python3.10/site-packages/sklearn/metrics/_ranking.py:864: RuntimeWarning: invalid value encountered in true_divide\n",
      "  recall = tps / tps[-1]\n",
      "/home/debian/Simao/miniconda3/envs/thesis/lib/python3.10/site-packages/sklearn/metrics/_ranking.py:864: RuntimeWarning: invalid value encountered in true_divide\n",
      "  recall = tps / tps[-1]\n",
      "/home/debian/Simao/miniconda3/envs/thesis/lib/python3.10/site-packages/sklearn/metrics/_ranking.py:864: RuntimeWarning: invalid value encountered in true_divide\n",
      "  recall = tps / tps[-1]\n",
      "/home/debian/Simao/miniconda3/envs/thesis/lib/python3.10/site-packages/sklearn/metrics/_ranking.py:864: RuntimeWarning: invalid value encountered in true_divide\n",
      "  recall = tps / tps[-1]\n",
      "/home/debian/Simao/miniconda3/envs/thesis/lib/python3.10/site-packages/sklearn/metrics/_ranking.py:864: RuntimeWarning: invalid value encountered in true_divide\n",
      "  recall = tps / tps[-1]\n",
      "/home/debian/Simao/miniconda3/envs/thesis/lib/python3.10/site-packages/sklearn/metrics/_ranking.py:864: RuntimeWarning: invalid value encountered in true_divide\n",
      "  recall = tps / tps[-1]\n",
      "/home/debian/Simao/miniconda3/envs/thesis/lib/python3.10/site-packages/sklearn/metrics/_ranking.py:864: RuntimeWarning: invalid value encountered in true_divide\n",
      "  recall = tps / tps[-1]\n",
      "/home/debian/Simao/miniconda3/envs/thesis/lib/python3.10/site-packages/sklearn/metrics/_ranking.py:864: RuntimeWarning: invalid value encountered in true_divide\n",
      "  recall = tps / tps[-1]\n",
      "/home/debian/Simao/miniconda3/envs/thesis/lib/python3.10/site-packages/sklearn/metrics/_ranking.py:864: RuntimeWarning: invalid value encountered in true_divide\n",
      "  recall = tps / tps[-1]\n",
      "/home/debian/Simao/miniconda3/envs/thesis/lib/python3.10/site-packages/sklearn/metrics/_ranking.py:864: RuntimeWarning: invalid value encountered in true_divide\n",
      "  recall = tps / tps[-1]\n",
      "/home/debian/Simao/miniconda3/envs/thesis/lib/python3.10/site-packages/sklearn/metrics/_ranking.py:864: RuntimeWarning: invalid value encountered in true_divide\n",
      "  recall = tps / tps[-1]\n",
      "/home/debian/Simao/miniconda3/envs/thesis/lib/python3.10/site-packages/sklearn/metrics/_ranking.py:864: RuntimeWarning: invalid value encountered in true_divide\n",
      "  recall = tps / tps[-1]\n",
      "/home/debian/Simao/miniconda3/envs/thesis/lib/python3.10/site-packages/sklearn/metrics/_ranking.py:864: RuntimeWarning: invalid value encountered in true_divide\n",
      "  recall = tps / tps[-1]\n",
      "/home/debian/Simao/miniconda3/envs/thesis/lib/python3.10/site-packages/sklearn/metrics/_ranking.py:864: RuntimeWarning: invalid value encountered in true_divide\n",
      "  recall = tps / tps[-1]\n",
      "/home/debian/Simao/miniconda3/envs/thesis/lib/python3.10/site-packages/sklearn/metrics/_ranking.py:864: RuntimeWarning: invalid value encountered in true_divide\n",
      "  recall = tps / tps[-1]\n",
      "/home/debian/Simao/miniconda3/envs/thesis/lib/python3.10/site-packages/sklearn/metrics/_ranking.py:864: RuntimeWarning: invalid value encountered in true_divide\n",
      "  recall = tps / tps[-1]\n",
      "/home/debian/Simao/miniconda3/envs/thesis/lib/python3.10/site-packages/sklearn/metrics/_ranking.py:864: RuntimeWarning: invalid value encountered in true_divide\n",
      "  recall = tps / tps[-1]\n",
      "/home/debian/Simao/miniconda3/envs/thesis/lib/python3.10/site-packages/sklearn/metrics/_ranking.py:864: RuntimeWarning: invalid value encountered in true_divide\n",
      "  recall = tps / tps[-1]\n",
      "/home/debian/Simao/miniconda3/envs/thesis/lib/python3.10/site-packages/sklearn/metrics/_ranking.py:864: RuntimeWarning: invalid value encountered in true_divide\n",
      "  recall = tps / tps[-1]\n",
      "/home/debian/Simao/miniconda3/envs/thesis/lib/python3.10/site-packages/sklearn/metrics/_ranking.py:864: RuntimeWarning: invalid value encountered in true_divide\n",
      "  recall = tps / tps[-1]\n",
      "/home/debian/Simao/miniconda3/envs/thesis/lib/python3.10/site-packages/sklearn/metrics/_ranking.py:864: RuntimeWarning: invalid value encountered in true_divide\n",
      "  recall = tps / tps[-1]\n",
      "/home/debian/Simao/miniconda3/envs/thesis/lib/python3.10/site-packages/sklearn/metrics/_ranking.py:864: RuntimeWarning: invalid value encountered in true_divide\n",
      "  recall = tps / tps[-1]\n",
      "/home/debian/Simao/miniconda3/envs/thesis/lib/python3.10/site-packages/sklearn/metrics/_ranking.py:864: RuntimeWarning: invalid value encountered in true_divide\n",
      "  recall = tps / tps[-1]\n",
      "/home/debian/Simao/miniconda3/envs/thesis/lib/python3.10/site-packages/sklearn/metrics/_ranking.py:864: RuntimeWarning: invalid value encountered in true_divide\n",
      "  recall = tps / tps[-1]\n",
      "/home/debian/Simao/miniconda3/envs/thesis/lib/python3.10/site-packages/sklearn/metrics/_ranking.py:864: RuntimeWarning: invalid value encountered in true_divide\n",
      "  recall = tps / tps[-1]\n",
      "/home/debian/Simao/miniconda3/envs/thesis/lib/python3.10/site-packages/sklearn/metrics/_ranking.py:864: RuntimeWarning: invalid value encountered in true_divide\n",
      "  recall = tps / tps[-1]\n",
      "/home/debian/Simao/miniconda3/envs/thesis/lib/python3.10/site-packages/sklearn/metrics/_ranking.py:864: RuntimeWarning: invalid value encountered in true_divide\n",
      "  recall = tps / tps[-1]\n",
      "/home/debian/Simao/miniconda3/envs/thesis/lib/python3.10/site-packages/sklearn/metrics/_ranking.py:864: RuntimeWarning: invalid value encountered in true_divide\n",
      "  recall = tps / tps[-1]\n",
      "/home/debian/Simao/miniconda3/envs/thesis/lib/python3.10/site-packages/sklearn/metrics/_ranking.py:864: RuntimeWarning: invalid value encountered in true_divide\n",
      "  recall = tps / tps[-1]\n",
      "/home/debian/Simao/miniconda3/envs/thesis/lib/python3.10/site-packages/sklearn/metrics/_ranking.py:864: RuntimeWarning: invalid value encountered in true_divide\n",
      "  recall = tps / tps[-1]\n",
      "/home/debian/Simao/miniconda3/envs/thesis/lib/python3.10/site-packages/sklearn/metrics/_ranking.py:864: RuntimeWarning: invalid value encountered in true_divide\n",
      "  recall = tps / tps[-1]\n",
      "/home/debian/Simao/miniconda3/envs/thesis/lib/python3.10/site-packages/sklearn/metrics/_ranking.py:864: RuntimeWarning: invalid value encountered in true_divide\n",
      "  recall = tps / tps[-1]\n",
      "/home/debian/Simao/miniconda3/envs/thesis/lib/python3.10/site-packages/sklearn/metrics/_ranking.py:864: RuntimeWarning: invalid value encountered in true_divide\n",
      "  recall = tps / tps[-1]\n",
      "/home/debian/Simao/miniconda3/envs/thesis/lib/python3.10/site-packages/sklearn/metrics/_ranking.py:864: RuntimeWarning: invalid value encountered in true_divide\n",
      "  recall = tps / tps[-1]\n",
      "/home/debian/Simao/miniconda3/envs/thesis/lib/python3.10/site-packages/sklearn/metrics/_ranking.py:864: RuntimeWarning: invalid value encountered in true_divide\n",
      "  recall = tps / tps[-1]\n",
      "/home/debian/Simao/miniconda3/envs/thesis/lib/python3.10/site-packages/sklearn/metrics/_ranking.py:864: RuntimeWarning: invalid value encountered in true_divide\n",
      "  recall = tps / tps[-1]\n",
      "/home/debian/Simao/miniconda3/envs/thesis/lib/python3.10/site-packages/sklearn/metrics/_ranking.py:864: RuntimeWarning: invalid value encountered in true_divide\n",
      "  recall = tps / tps[-1]\n",
      "/home/debian/Simao/miniconda3/envs/thesis/lib/python3.10/site-packages/sklearn/metrics/_ranking.py:864: RuntimeWarning: invalid value encountered in true_divide\n",
      "  recall = tps / tps[-1]\n",
      "/home/debian/Simao/miniconda3/envs/thesis/lib/python3.10/site-packages/sklearn/metrics/_ranking.py:864: RuntimeWarning: invalid value encountered in true_divide\n",
      "  recall = tps / tps[-1]\n",
      "/home/debian/Simao/miniconda3/envs/thesis/lib/python3.10/site-packages/sklearn/metrics/_ranking.py:864: RuntimeWarning: invalid value encountered in true_divide\n",
      "  recall = tps / tps[-1]\n",
      "/home/debian/Simao/miniconda3/envs/thesis/lib/python3.10/site-packages/sklearn/metrics/_ranking.py:864: RuntimeWarning: invalid value encountered in true_divide\n",
      "  recall = tps / tps[-1]\n",
      "/home/debian/Simao/miniconda3/envs/thesis/lib/python3.10/site-packages/sklearn/metrics/_ranking.py:864: RuntimeWarning: invalid value encountered in true_divide\n",
      "  recall = tps / tps[-1]\n",
      "/home/debian/Simao/miniconda3/envs/thesis/lib/python3.10/site-packages/sklearn/metrics/_ranking.py:864: RuntimeWarning: invalid value encountered in true_divide\n",
      "  recall = tps / tps[-1]\n",
      "/home/debian/Simao/miniconda3/envs/thesis/lib/python3.10/site-packages/sklearn/metrics/_ranking.py:864: RuntimeWarning: invalid value encountered in true_divide\n",
      "  recall = tps / tps[-1]\n",
      "/home/debian/Simao/miniconda3/envs/thesis/lib/python3.10/site-packages/sklearn/metrics/_ranking.py:864: RuntimeWarning: invalid value encountered in true_divide\n",
      "  recall = tps / tps[-1]\n",
      "/home/debian/Simao/miniconda3/envs/thesis/lib/python3.10/site-packages/sklearn/metrics/_ranking.py:864: RuntimeWarning: invalid value encountered in true_divide\n",
      "  recall = tps / tps[-1]\n",
      "/home/debian/Simao/miniconda3/envs/thesis/lib/python3.10/site-packages/sklearn/metrics/_ranking.py:864: RuntimeWarning: invalid value encountered in true_divide\n",
      "  recall = tps / tps[-1]\n",
      "/home/debian/Simao/miniconda3/envs/thesis/lib/python3.10/site-packages/sklearn/metrics/_ranking.py:864: RuntimeWarning: invalid value encountered in true_divide\n",
      "  recall = tps / tps[-1]\n",
      "/home/debian/Simao/miniconda3/envs/thesis/lib/python3.10/site-packages/sklearn/metrics/_ranking.py:864: RuntimeWarning: invalid value encountered in true_divide\n",
      "  recall = tps / tps[-1]\n",
      "/home/debian/Simao/miniconda3/envs/thesis/lib/python3.10/site-packages/sklearn/metrics/_ranking.py:864: RuntimeWarning: invalid value encountered in true_divide\n",
      "  recall = tps / tps[-1]\n",
      "/home/debian/Simao/miniconda3/envs/thesis/lib/python3.10/site-packages/sklearn/metrics/_ranking.py:864: RuntimeWarning: invalid value encountered in true_divide\n",
      "  recall = tps / tps[-1]\n",
      "/home/debian/Simao/miniconda3/envs/thesis/lib/python3.10/site-packages/sklearn/metrics/_ranking.py:864: RuntimeWarning: invalid value encountered in true_divide\n",
      "  recall = tps / tps[-1]\n",
      "/home/debian/Simao/miniconda3/envs/thesis/lib/python3.10/site-packages/sklearn/metrics/_ranking.py:864: RuntimeWarning: invalid value encountered in true_divide\n",
      "  recall = tps / tps[-1]\n",
      "/home/debian/Simao/miniconda3/envs/thesis/lib/python3.10/site-packages/sklearn/metrics/_ranking.py:864: RuntimeWarning: invalid value encountered in true_divide\n",
      "  recall = tps / tps[-1]\n",
      "/home/debian/Simao/miniconda3/envs/thesis/lib/python3.10/site-packages/sklearn/metrics/_ranking.py:864: RuntimeWarning: invalid value encountered in true_divide\n",
      "  recall = tps / tps[-1]\n",
      "/home/debian/Simao/miniconda3/envs/thesis/lib/python3.10/site-packages/sklearn/metrics/_ranking.py:864: RuntimeWarning: invalid value encountered in true_divide\n",
      "  recall = tps / tps[-1]\n",
      "/home/debian/Simao/miniconda3/envs/thesis/lib/python3.10/site-packages/sklearn/metrics/_ranking.py:864: RuntimeWarning: invalid value encountered in true_divide\n",
      "  recall = tps / tps[-1]\n",
      "/home/debian/Simao/miniconda3/envs/thesis/lib/python3.10/site-packages/sklearn/metrics/_ranking.py:864: RuntimeWarning: invalid value encountered in true_divide\n",
      "  recall = tps / tps[-1]\n",
      "/home/debian/Simao/miniconda3/envs/thesis/lib/python3.10/site-packages/sklearn/metrics/_ranking.py:864: RuntimeWarning: invalid value encountered in true_divide\n",
      "  recall = tps / tps[-1]\n",
      "/home/debian/Simao/miniconda3/envs/thesis/lib/python3.10/site-packages/sklearn/metrics/_ranking.py:864: RuntimeWarning: invalid value encountered in true_divide\n",
      "  recall = tps / tps[-1]\n",
      "/home/debian/Simao/miniconda3/envs/thesis/lib/python3.10/site-packages/sklearn/metrics/_ranking.py:864: RuntimeWarning: invalid value encountered in true_divide\n",
      "  recall = tps / tps[-1]\n",
      "/home/debian/Simao/miniconda3/envs/thesis/lib/python3.10/site-packages/sklearn/metrics/_ranking.py:864: RuntimeWarning: invalid value encountered in true_divide\n",
      "  recall = tps / tps[-1]\n",
      "/home/debian/Simao/miniconda3/envs/thesis/lib/python3.10/site-packages/sklearn/metrics/_ranking.py:864: RuntimeWarning: invalid value encountered in true_divide\n",
      "  recall = tps / tps[-1]\n",
      "/home/debian/Simao/miniconda3/envs/thesis/lib/python3.10/site-packages/sklearn/metrics/_ranking.py:864: RuntimeWarning: invalid value encountered in true_divide\n",
      "  recall = tps / tps[-1]\n",
      "/home/debian/Simao/miniconda3/envs/thesis/lib/python3.10/site-packages/sklearn/metrics/_ranking.py:864: RuntimeWarning: invalid value encountered in true_divide\n",
      "  recall = tps / tps[-1]\n",
      "/home/debian/Simao/miniconda3/envs/thesis/lib/python3.10/site-packages/sklearn/metrics/_ranking.py:864: RuntimeWarning: invalid value encountered in true_divide\n",
      "  recall = tps / tps[-1]\n",
      "/home/debian/Simao/miniconda3/envs/thesis/lib/python3.10/site-packages/sklearn/metrics/_ranking.py:864: RuntimeWarning: invalid value encountered in true_divide\n",
      "  recall = tps / tps[-1]\n",
      "/home/debian/Simao/miniconda3/envs/thesis/lib/python3.10/site-packages/sklearn/metrics/_ranking.py:864: RuntimeWarning: invalid value encountered in true_divide\n",
      "  recall = tps / tps[-1]\n",
      "/home/debian/Simao/miniconda3/envs/thesis/lib/python3.10/site-packages/sklearn/metrics/_ranking.py:864: RuntimeWarning: invalid value encountered in true_divide\n",
      "  recall = tps / tps[-1]\n",
      "/home/debian/Simao/miniconda3/envs/thesis/lib/python3.10/site-packages/sklearn/metrics/_ranking.py:864: RuntimeWarning: invalid value encountered in true_divide\n",
      "  recall = tps / tps[-1]\n",
      "/home/debian/Simao/miniconda3/envs/thesis/lib/python3.10/site-packages/sklearn/metrics/_ranking.py:864: RuntimeWarning: invalid value encountered in true_divide\n",
      "  recall = tps / tps[-1]\n",
      "/home/debian/Simao/miniconda3/envs/thesis/lib/python3.10/site-packages/sklearn/metrics/_ranking.py:864: RuntimeWarning: invalid value encountered in true_divide\n",
      "  recall = tps / tps[-1]\n",
      "/home/debian/Simao/miniconda3/envs/thesis/lib/python3.10/site-packages/sklearn/metrics/_ranking.py:864: RuntimeWarning: invalid value encountered in true_divide\n",
      "  recall = tps / tps[-1]\n",
      "/home/debian/Simao/miniconda3/envs/thesis/lib/python3.10/site-packages/sklearn/metrics/_ranking.py:864: RuntimeWarning: invalid value encountered in true_divide\n",
      "  recall = tps / tps[-1]\n",
      "/home/debian/Simao/miniconda3/envs/thesis/lib/python3.10/site-packages/sklearn/metrics/_ranking.py:864: RuntimeWarning: invalid value encountered in true_divide\n",
      "  recall = tps / tps[-1]\n",
      "/home/debian/Simao/miniconda3/envs/thesis/lib/python3.10/site-packages/sklearn/metrics/_ranking.py:864: RuntimeWarning: invalid value encountered in true_divide\n",
      "  recall = tps / tps[-1]\n",
      "/home/debian/Simao/miniconda3/envs/thesis/lib/python3.10/site-packages/sklearn/metrics/_ranking.py:864: RuntimeWarning: invalid value encountered in true_divide\n",
      "  recall = tps / tps[-1]\n",
      "/home/debian/Simao/miniconda3/envs/thesis/lib/python3.10/site-packages/sklearn/metrics/_ranking.py:864: RuntimeWarning: invalid value encountered in true_divide\n",
      "  recall = tps / tps[-1]\n",
      "/home/debian/Simao/miniconda3/envs/thesis/lib/python3.10/site-packages/sklearn/metrics/_ranking.py:864: RuntimeWarning: invalid value encountered in true_divide\n",
      "  recall = tps / tps[-1]\n",
      "/home/debian/Simao/miniconda3/envs/thesis/lib/python3.10/site-packages/sklearn/metrics/_ranking.py:864: RuntimeWarning: invalid value encountered in true_divide\n",
      "  recall = tps / tps[-1]\n",
      "/home/debian/Simao/miniconda3/envs/thesis/lib/python3.10/site-packages/sklearn/metrics/_ranking.py:864: RuntimeWarning: invalid value encountered in true_divide\n",
      "  recall = tps / tps[-1]\n",
      "/home/debian/Simao/miniconda3/envs/thesis/lib/python3.10/site-packages/sklearn/metrics/_ranking.py:864: RuntimeWarning: invalid value encountered in true_divide\n",
      "  recall = tps / tps[-1]\n",
      "/home/debian/Simao/miniconda3/envs/thesis/lib/python3.10/site-packages/sklearn/metrics/_ranking.py:864: RuntimeWarning: invalid value encountered in true_divide\n",
      "  recall = tps / tps[-1]\n",
      "/home/debian/Simao/miniconda3/envs/thesis/lib/python3.10/site-packages/sklearn/metrics/_ranking.py:864: RuntimeWarning: invalid value encountered in true_divide\n",
      "  recall = tps / tps[-1]\n",
      "/home/debian/Simao/miniconda3/envs/thesis/lib/python3.10/site-packages/sklearn/metrics/_ranking.py:864: RuntimeWarning: invalid value encountered in true_divide\n",
      "  recall = tps / tps[-1]\n",
      "/home/debian/Simao/miniconda3/envs/thesis/lib/python3.10/site-packages/sklearn/metrics/_ranking.py:864: RuntimeWarning: invalid value encountered in true_divide\n",
      "  recall = tps / tps[-1]\n",
      "/home/debian/Simao/miniconda3/envs/thesis/lib/python3.10/site-packages/sklearn/metrics/_ranking.py:864: RuntimeWarning: invalid value encountered in true_divide\n",
      "  recall = tps / tps[-1]\n",
      "/home/debian/Simao/miniconda3/envs/thesis/lib/python3.10/site-packages/sklearn/metrics/_ranking.py:864: RuntimeWarning: invalid value encountered in true_divide\n",
      "  recall = tps / tps[-1]\n",
      "/home/debian/Simao/miniconda3/envs/thesis/lib/python3.10/site-packages/sklearn/metrics/_ranking.py:864: RuntimeWarning: invalid value encountered in true_divide\n",
      "  recall = tps / tps[-1]\n",
      "/home/debian/Simao/miniconda3/envs/thesis/lib/python3.10/site-packages/sklearn/metrics/_ranking.py:864: RuntimeWarning: invalid value encountered in true_divide\n",
      "  recall = tps / tps[-1]\n",
      "/home/debian/Simao/miniconda3/envs/thesis/lib/python3.10/site-packages/sklearn/metrics/_ranking.py:864: RuntimeWarning: invalid value encountered in true_divide\n",
      "  recall = tps / tps[-1]\n",
      "/home/debian/Simao/miniconda3/envs/thesis/lib/python3.10/site-packages/sklearn/metrics/_ranking.py:864: RuntimeWarning: invalid value encountered in true_divide\n",
      "  recall = tps / tps[-1]\n",
      "/home/debian/Simao/miniconda3/envs/thesis/lib/python3.10/site-packages/sklearn/metrics/_ranking.py:864: RuntimeWarning: invalid value encountered in true_divide\n",
      "  recall = tps / tps[-1]\n",
      "/home/debian/Simao/miniconda3/envs/thesis/lib/python3.10/site-packages/sklearn/metrics/_ranking.py:864: RuntimeWarning: invalid value encountered in true_divide\n",
      "  recall = tps / tps[-1]\n",
      "/home/debian/Simao/miniconda3/envs/thesis/lib/python3.10/site-packages/sklearn/metrics/_ranking.py:864: RuntimeWarning: invalid value encountered in true_divide\n",
      "  recall = tps / tps[-1]\n",
      "/home/debian/Simao/miniconda3/envs/thesis/lib/python3.10/site-packages/sklearn/metrics/_ranking.py:864: RuntimeWarning: invalid value encountered in true_divide\n",
      "  recall = tps / tps[-1]\n",
      "/home/debian/Simao/miniconda3/envs/thesis/lib/python3.10/site-packages/sklearn/metrics/_ranking.py:864: RuntimeWarning: invalid value encountered in true_divide\n",
      "  recall = tps / tps[-1]\n",
      "/home/debian/Simao/miniconda3/envs/thesis/lib/python3.10/site-packages/sklearn/metrics/_ranking.py:864: RuntimeWarning: invalid value encountered in true_divide\n",
      "  recall = tps / tps[-1]\n",
      "/home/debian/Simao/miniconda3/envs/thesis/lib/python3.10/site-packages/sklearn/metrics/_ranking.py:864: RuntimeWarning: invalid value encountered in true_divide\n",
      "  recall = tps / tps[-1]\n",
      "/home/debian/Simao/miniconda3/envs/thesis/lib/python3.10/site-packages/sklearn/metrics/_ranking.py:864: RuntimeWarning: invalid value encountered in true_divide\n",
      "  recall = tps / tps[-1]\n",
      "/home/debian/Simao/miniconda3/envs/thesis/lib/python3.10/site-packages/sklearn/metrics/_ranking.py:864: RuntimeWarning: invalid value encountered in true_divide\n",
      "  recall = tps / tps[-1]\n",
      "/home/debian/Simao/miniconda3/envs/thesis/lib/python3.10/site-packages/sklearn/metrics/_ranking.py:864: RuntimeWarning: invalid value encountered in true_divide\n",
      "  recall = tps / tps[-1]\n",
      "/home/debian/Simao/miniconda3/envs/thesis/lib/python3.10/site-packages/sklearn/metrics/_ranking.py:864: RuntimeWarning: invalid value encountered in true_divide\n",
      "  recall = tps / tps[-1]\n",
      "/home/debian/Simao/miniconda3/envs/thesis/lib/python3.10/site-packages/sklearn/metrics/_ranking.py:864: RuntimeWarning: invalid value encountered in true_divide\n",
      "  recall = tps / tps[-1]\n",
      "/home/debian/Simao/miniconda3/envs/thesis/lib/python3.10/site-packages/sklearn/metrics/_ranking.py:864: RuntimeWarning: invalid value encountered in true_divide\n",
      "  recall = tps / tps[-1]\n",
      "/home/debian/Simao/miniconda3/envs/thesis/lib/python3.10/site-packages/sklearn/metrics/_ranking.py:864: RuntimeWarning: invalid value encountered in true_divide\n",
      "  recall = tps / tps[-1]\n",
      "/home/debian/Simao/miniconda3/envs/thesis/lib/python3.10/site-packages/sklearn/metrics/_ranking.py:864: RuntimeWarning: invalid value encountered in true_divide\n",
      "  recall = tps / tps[-1]\n",
      "/home/debian/Simao/miniconda3/envs/thesis/lib/python3.10/site-packages/sklearn/metrics/_ranking.py:864: RuntimeWarning: invalid value encountered in true_divide\n",
      "  recall = tps / tps[-1]\n",
      "/home/debian/Simao/miniconda3/envs/thesis/lib/python3.10/site-packages/sklearn/metrics/_ranking.py:864: RuntimeWarning: invalid value encountered in true_divide\n",
      "  recall = tps / tps[-1]\n",
      "/home/debian/Simao/miniconda3/envs/thesis/lib/python3.10/site-packages/sklearn/metrics/_ranking.py:864: RuntimeWarning: invalid value encountered in true_divide\n",
      "  recall = tps / tps[-1]\n",
      "/home/debian/Simao/miniconda3/envs/thesis/lib/python3.10/site-packages/sklearn/metrics/_ranking.py:864: RuntimeWarning: invalid value encountered in true_divide\n",
      "  recall = tps / tps[-1]\n",
      "/home/debian/Simao/miniconda3/envs/thesis/lib/python3.10/site-packages/sklearn/metrics/_ranking.py:864: RuntimeWarning: invalid value encountered in true_divide\n",
      "  recall = tps / tps[-1]\n",
      "/home/debian/Simao/miniconda3/envs/thesis/lib/python3.10/site-packages/sklearn/metrics/_ranking.py:864: RuntimeWarning: invalid value encountered in true_divide\n",
      "  recall = tps / tps[-1]\n",
      "/home/debian/Simao/miniconda3/envs/thesis/lib/python3.10/site-packages/sklearn/metrics/_ranking.py:864: RuntimeWarning: invalid value encountered in true_divide\n",
      "  recall = tps / tps[-1]\n",
      "/home/debian/Simao/miniconda3/envs/thesis/lib/python3.10/site-packages/sklearn/metrics/_ranking.py:864: RuntimeWarning: invalid value encountered in true_divide\n",
      "  recall = tps / tps[-1]\n",
      "/home/debian/Simao/miniconda3/envs/thesis/lib/python3.10/site-packages/sklearn/metrics/_ranking.py:864: RuntimeWarning: invalid value encountered in true_divide\n",
      "  recall = tps / tps[-1]\n",
      "/home/debian/Simao/miniconda3/envs/thesis/lib/python3.10/site-packages/sklearn/metrics/_ranking.py:864: RuntimeWarning: invalid value encountered in true_divide\n",
      "  recall = tps / tps[-1]\n",
      "/home/debian/Simao/miniconda3/envs/thesis/lib/python3.10/site-packages/sklearn/metrics/_ranking.py:864: RuntimeWarning: invalid value encountered in true_divide\n",
      "  recall = tps / tps[-1]\n",
      "/home/debian/Simao/miniconda3/envs/thesis/lib/python3.10/site-packages/sklearn/metrics/_ranking.py:864: RuntimeWarning: invalid value encountered in true_divide\n",
      "  recall = tps / tps[-1]\n",
      "/home/debian/Simao/miniconda3/envs/thesis/lib/python3.10/site-packages/sklearn/metrics/_ranking.py:864: RuntimeWarning: invalid value encountered in true_divide\n",
      "  recall = tps / tps[-1]\n",
      "/home/debian/Simao/miniconda3/envs/thesis/lib/python3.10/site-packages/sklearn/metrics/_ranking.py:864: RuntimeWarning: invalid value encountered in true_divide\n",
      "  recall = tps / tps[-1]\n",
      "/home/debian/Simao/miniconda3/envs/thesis/lib/python3.10/site-packages/sklearn/metrics/_ranking.py:864: RuntimeWarning: invalid value encountered in true_divide\n",
      "  recall = tps / tps[-1]\n",
      "/home/debian/Simao/miniconda3/envs/thesis/lib/python3.10/site-packages/sklearn/metrics/_ranking.py:864: RuntimeWarning: invalid value encountered in true_divide\n",
      "  recall = tps / tps[-1]\n",
      "/home/debian/Simao/miniconda3/envs/thesis/lib/python3.10/site-packages/sklearn/metrics/_ranking.py:864: RuntimeWarning: invalid value encountered in true_divide\n",
      "  recall = tps / tps[-1]\n",
      "/home/debian/Simao/miniconda3/envs/thesis/lib/python3.10/site-packages/sklearn/metrics/_ranking.py:864: RuntimeWarning: invalid value encountered in true_divide\n",
      "  recall = tps / tps[-1]\n",
      "/home/debian/Simao/miniconda3/envs/thesis/lib/python3.10/site-packages/sklearn/metrics/_ranking.py:864: RuntimeWarning: invalid value encountered in true_divide\n",
      "  recall = tps / tps[-1]\n",
      "/home/debian/Simao/miniconda3/envs/thesis/lib/python3.10/site-packages/sklearn/metrics/_ranking.py:864: RuntimeWarning: invalid value encountered in true_divide\n",
      "  recall = tps / tps[-1]\n",
      "/home/debian/Simao/miniconda3/envs/thesis/lib/python3.10/site-packages/sklearn/metrics/_ranking.py:864: RuntimeWarning: invalid value encountered in true_divide\n",
      "  recall = tps / tps[-1]\n",
      "/home/debian/Simao/miniconda3/envs/thesis/lib/python3.10/site-packages/sklearn/metrics/_ranking.py:864: RuntimeWarning: invalid value encountered in true_divide\n",
      "  recall = tps / tps[-1]\n",
      "/home/debian/Simao/miniconda3/envs/thesis/lib/python3.10/site-packages/sklearn/metrics/_ranking.py:864: RuntimeWarning: invalid value encountered in true_divide\n",
      "  recall = tps / tps[-1]\n",
      "/home/debian/Simao/miniconda3/envs/thesis/lib/python3.10/site-packages/sklearn/metrics/_ranking.py:864: RuntimeWarning: invalid value encountered in true_divide\n",
      "  recall = tps / tps[-1]\n",
      "/home/debian/Simao/miniconda3/envs/thesis/lib/python3.10/site-packages/sklearn/metrics/_ranking.py:864: RuntimeWarning: invalid value encountered in true_divide\n",
      "  recall = tps / tps[-1]\n",
      "/home/debian/Simao/miniconda3/envs/thesis/lib/python3.10/site-packages/sklearn/metrics/_ranking.py:864: RuntimeWarning: invalid value encountered in true_divide\n",
      "  recall = tps / tps[-1]\n",
      "/home/debian/Simao/miniconda3/envs/thesis/lib/python3.10/site-packages/sklearn/metrics/_ranking.py:864: RuntimeWarning: invalid value encountered in true_divide\n",
      "  recall = tps / tps[-1]\n",
      "/home/debian/Simao/miniconda3/envs/thesis/lib/python3.10/site-packages/sklearn/metrics/_ranking.py:864: RuntimeWarning: invalid value encountered in true_divide\n",
      "  recall = tps / tps[-1]\n",
      "/home/debian/Simao/miniconda3/envs/thesis/lib/python3.10/site-packages/sklearn/metrics/_ranking.py:864: RuntimeWarning: invalid value encountered in true_divide\n",
      "  recall = tps / tps[-1]\n",
      "/home/debian/Simao/miniconda3/envs/thesis/lib/python3.10/site-packages/sklearn/metrics/_ranking.py:864: RuntimeWarning: invalid value encountered in true_divide\n",
      "  recall = tps / tps[-1]\n",
      "/home/debian/Simao/miniconda3/envs/thesis/lib/python3.10/site-packages/sklearn/metrics/_ranking.py:864: RuntimeWarning: invalid value encountered in true_divide\n",
      "  recall = tps / tps[-1]\n",
      "/home/debian/Simao/miniconda3/envs/thesis/lib/python3.10/site-packages/sklearn/metrics/_ranking.py:864: RuntimeWarning: invalid value encountered in true_divide\n",
      "  recall = tps / tps[-1]\n",
      "/home/debian/Simao/miniconda3/envs/thesis/lib/python3.10/site-packages/sklearn/metrics/_ranking.py:864: RuntimeWarning: invalid value encountered in true_divide\n",
      "  recall = tps / tps[-1]\n",
      "/home/debian/Simao/miniconda3/envs/thesis/lib/python3.10/site-packages/sklearn/metrics/_ranking.py:864: RuntimeWarning: invalid value encountered in true_divide\n",
      "  recall = tps / tps[-1]\n",
      "/home/debian/Simao/miniconda3/envs/thesis/lib/python3.10/site-packages/sklearn/metrics/_ranking.py:864: RuntimeWarning: invalid value encountered in true_divide\n",
      "  recall = tps / tps[-1]\n",
      "/home/debian/Simao/miniconda3/envs/thesis/lib/python3.10/site-packages/sklearn/metrics/_ranking.py:864: RuntimeWarning: invalid value encountered in true_divide\n",
      "  recall = tps / tps[-1]\n",
      "/home/debian/Simao/miniconda3/envs/thesis/lib/python3.10/site-packages/sklearn/metrics/_ranking.py:864: RuntimeWarning: invalid value encountered in true_divide\n",
      "  recall = tps / tps[-1]\n",
      "/home/debian/Simao/miniconda3/envs/thesis/lib/python3.10/site-packages/sklearn/metrics/_ranking.py:864: RuntimeWarning: invalid value encountered in true_divide\n",
      "  recall = tps / tps[-1]\n",
      "/home/debian/Simao/miniconda3/envs/thesis/lib/python3.10/site-packages/sklearn/metrics/_ranking.py:864: RuntimeWarning: invalid value encountered in true_divide\n",
      "  recall = tps / tps[-1]\n",
      "/home/debian/Simao/miniconda3/envs/thesis/lib/python3.10/site-packages/sklearn/metrics/_ranking.py:864: RuntimeWarning: invalid value encountered in true_divide\n",
      "  recall = tps / tps[-1]\n",
      "/home/debian/Simao/miniconda3/envs/thesis/lib/python3.10/site-packages/sklearn/metrics/_ranking.py:864: RuntimeWarning: invalid value encountered in true_divide\n",
      "  recall = tps / tps[-1]\n",
      "/home/debian/Simao/miniconda3/envs/thesis/lib/python3.10/site-packages/sklearn/metrics/_ranking.py:864: RuntimeWarning: invalid value encountered in true_divide\n",
      "  recall = tps / tps[-1]\n",
      "/home/debian/Simao/miniconda3/envs/thesis/lib/python3.10/site-packages/sklearn/metrics/_ranking.py:864: RuntimeWarning: invalid value encountered in true_divide\n",
      "  recall = tps / tps[-1]\n",
      "/home/debian/Simao/miniconda3/envs/thesis/lib/python3.10/site-packages/sklearn/metrics/_ranking.py:864: RuntimeWarning: invalid value encountered in true_divide\n",
      "  recall = tps / tps[-1]\n",
      "/home/debian/Simao/miniconda3/envs/thesis/lib/python3.10/site-packages/sklearn/metrics/_ranking.py:864: RuntimeWarning: invalid value encountered in true_divide\n",
      "  recall = tps / tps[-1]\n",
      "/home/debian/Simao/miniconda3/envs/thesis/lib/python3.10/site-packages/sklearn/metrics/_ranking.py:864: RuntimeWarning: invalid value encountered in true_divide\n",
      "  recall = tps / tps[-1]\n",
      "/home/debian/Simao/miniconda3/envs/thesis/lib/python3.10/site-packages/sklearn/metrics/_ranking.py:864: RuntimeWarning: invalid value encountered in true_divide\n",
      "  recall = tps / tps[-1]\n",
      "/home/debian/Simao/miniconda3/envs/thesis/lib/python3.10/site-packages/sklearn/metrics/_ranking.py:864: RuntimeWarning: invalid value encountered in true_divide\n",
      "  recall = tps / tps[-1]\n",
      "/home/debian/Simao/miniconda3/envs/thesis/lib/python3.10/site-packages/sklearn/metrics/_ranking.py:864: RuntimeWarning: invalid value encountered in true_divide\n",
      "  recall = tps / tps[-1]\n",
      "/home/debian/Simao/miniconda3/envs/thesis/lib/python3.10/site-packages/sklearn/metrics/_ranking.py:864: RuntimeWarning: invalid value encountered in true_divide\n",
      "  recall = tps / tps[-1]\n",
      "/home/debian/Simao/miniconda3/envs/thesis/lib/python3.10/site-packages/sklearn/metrics/_ranking.py:864: RuntimeWarning: invalid value encountered in true_divide\n",
      "  recall = tps / tps[-1]\n",
      "/home/debian/Simao/miniconda3/envs/thesis/lib/python3.10/site-packages/sklearn/metrics/_ranking.py:864: RuntimeWarning: invalid value encountered in true_divide\n",
      "  recall = tps / tps[-1]\n",
      "/home/debian/Simao/miniconda3/envs/thesis/lib/python3.10/site-packages/sklearn/metrics/_ranking.py:864: RuntimeWarning: invalid value encountered in true_divide\n",
      "  recall = tps / tps[-1]\n",
      "/home/debian/Simao/miniconda3/envs/thesis/lib/python3.10/site-packages/sklearn/metrics/_ranking.py:864: RuntimeWarning: invalid value encountered in true_divide\n",
      "  recall = tps / tps[-1]\n",
      "/home/debian/Simao/miniconda3/envs/thesis/lib/python3.10/site-packages/sklearn/metrics/_ranking.py:864: RuntimeWarning: invalid value encountered in true_divide\n",
      "  recall = tps / tps[-1]\n",
      "/home/debian/Simao/miniconda3/envs/thesis/lib/python3.10/site-packages/sklearn/metrics/_ranking.py:864: RuntimeWarning: invalid value encountered in true_divide\n",
      "  recall = tps / tps[-1]\n",
      "/home/debian/Simao/miniconda3/envs/thesis/lib/python3.10/site-packages/sklearn/metrics/_ranking.py:864: RuntimeWarning: invalid value encountered in true_divide\n",
      "  recall = tps / tps[-1]\n",
      "/home/debian/Simao/miniconda3/envs/thesis/lib/python3.10/site-packages/sklearn/metrics/_ranking.py:864: RuntimeWarning: invalid value encountered in true_divide\n",
      "  recall = tps / tps[-1]\n",
      "/home/debian/Simao/miniconda3/envs/thesis/lib/python3.10/site-packages/sklearn/metrics/_ranking.py:864: RuntimeWarning: invalid value encountered in true_divide\n",
      "  recall = tps / tps[-1]\n",
      "/home/debian/Simao/miniconda3/envs/thesis/lib/python3.10/site-packages/sklearn/metrics/_ranking.py:864: RuntimeWarning: invalid value encountered in true_divide\n",
      "  recall = tps / tps[-1]\n",
      "/home/debian/Simao/miniconda3/envs/thesis/lib/python3.10/site-packages/sklearn/metrics/_ranking.py:864: RuntimeWarning: invalid value encountered in true_divide\n",
      "  recall = tps / tps[-1]\n",
      "/home/debian/Simao/miniconda3/envs/thesis/lib/python3.10/site-packages/sklearn/metrics/_ranking.py:864: RuntimeWarning: invalid value encountered in true_divide\n",
      "  recall = tps / tps[-1]\n",
      "/home/debian/Simao/miniconda3/envs/thesis/lib/python3.10/site-packages/sklearn/metrics/_ranking.py:864: RuntimeWarning: invalid value encountered in true_divide\n",
      "  recall = tps / tps[-1]\n",
      "/home/debian/Simao/miniconda3/envs/thesis/lib/python3.10/site-packages/sklearn/metrics/_ranking.py:864: RuntimeWarning: invalid value encountered in true_divide\n",
      "  recall = tps / tps[-1]\n",
      "/home/debian/Simao/miniconda3/envs/thesis/lib/python3.10/site-packages/sklearn/metrics/_ranking.py:864: RuntimeWarning: invalid value encountered in true_divide\n",
      "  recall = tps / tps[-1]\n",
      "/home/debian/Simao/miniconda3/envs/thesis/lib/python3.10/site-packages/sklearn/metrics/_ranking.py:864: RuntimeWarning: invalid value encountered in true_divide\n",
      "  recall = tps / tps[-1]\n",
      "/home/debian/Simao/miniconda3/envs/thesis/lib/python3.10/site-packages/sklearn/metrics/_ranking.py:864: RuntimeWarning: invalid value encountered in true_divide\n",
      "  recall = tps / tps[-1]\n",
      "/home/debian/Simao/miniconda3/envs/thesis/lib/python3.10/site-packages/sklearn/metrics/_ranking.py:864: RuntimeWarning: invalid value encountered in true_divide\n",
      "  recall = tps / tps[-1]\n",
      "/home/debian/Simao/miniconda3/envs/thesis/lib/python3.10/site-packages/sklearn/metrics/_ranking.py:864: RuntimeWarning: invalid value encountered in true_divide\n",
      "  recall = tps / tps[-1]\n",
      "/home/debian/Simao/miniconda3/envs/thesis/lib/python3.10/site-packages/sklearn/metrics/_ranking.py:864: RuntimeWarning: invalid value encountered in true_divide\n",
      "  recall = tps / tps[-1]\n",
      "/home/debian/Simao/miniconda3/envs/thesis/lib/python3.10/site-packages/sklearn/metrics/_ranking.py:864: RuntimeWarning: invalid value encountered in true_divide\n",
      "  recall = tps / tps[-1]\n",
      "/home/debian/Simao/miniconda3/envs/thesis/lib/python3.10/site-packages/sklearn/metrics/_ranking.py:864: RuntimeWarning: invalid value encountered in true_divide\n",
      "  recall = tps / tps[-1]\n",
      "/home/debian/Simao/miniconda3/envs/thesis/lib/python3.10/site-packages/sklearn/metrics/_ranking.py:864: RuntimeWarning: invalid value encountered in true_divide\n",
      "  recall = tps / tps[-1]\n",
      "/home/debian/Simao/miniconda3/envs/thesis/lib/python3.10/site-packages/sklearn/metrics/_ranking.py:864: RuntimeWarning: invalid value encountered in true_divide\n",
      "  recall = tps / tps[-1]\n",
      "/home/debian/Simao/miniconda3/envs/thesis/lib/python3.10/site-packages/sklearn/metrics/_ranking.py:864: RuntimeWarning: invalid value encountered in true_divide\n",
      "  recall = tps / tps[-1]\n",
      "/home/debian/Simao/miniconda3/envs/thesis/lib/python3.10/site-packages/sklearn/metrics/_ranking.py:864: RuntimeWarning: invalid value encountered in true_divide\n",
      "  recall = tps / tps[-1]\n",
      "/home/debian/Simao/miniconda3/envs/thesis/lib/python3.10/site-packages/sklearn/metrics/_ranking.py:864: RuntimeWarning: invalid value encountered in true_divide\n",
      "  recall = tps / tps[-1]\n",
      "/home/debian/Simao/miniconda3/envs/thesis/lib/python3.10/site-packages/sklearn/metrics/_ranking.py:864: RuntimeWarning: invalid value encountered in true_divide\n",
      "  recall = tps / tps[-1]\n",
      "/home/debian/Simao/miniconda3/envs/thesis/lib/python3.10/site-packages/sklearn/metrics/_ranking.py:864: RuntimeWarning: invalid value encountered in true_divide\n",
      "  recall = tps / tps[-1]\n",
      "/home/debian/Simao/miniconda3/envs/thesis/lib/python3.10/site-packages/sklearn/metrics/_ranking.py:864: RuntimeWarning: invalid value encountered in true_divide\n",
      "  recall = tps / tps[-1]\n",
      "/home/debian/Simao/miniconda3/envs/thesis/lib/python3.10/site-packages/sklearn/metrics/_ranking.py:864: RuntimeWarning: invalid value encountered in true_divide\n",
      "  recall = tps / tps[-1]\n",
      "/home/debian/Simao/miniconda3/envs/thesis/lib/python3.10/site-packages/sklearn/metrics/_ranking.py:864: RuntimeWarning: invalid value encountered in true_divide\n",
      "  recall = tps / tps[-1]\n",
      "/home/debian/Simao/miniconda3/envs/thesis/lib/python3.10/site-packages/sklearn/metrics/_ranking.py:864: RuntimeWarning: invalid value encountered in true_divide\n",
      "  recall = tps / tps[-1]\n",
      "/home/debian/Simao/miniconda3/envs/thesis/lib/python3.10/site-packages/sklearn/metrics/_ranking.py:864: RuntimeWarning: invalid value encountered in true_divide\n",
      "  recall = tps / tps[-1]\n",
      "/home/debian/Simao/miniconda3/envs/thesis/lib/python3.10/site-packages/sklearn/metrics/_ranking.py:864: RuntimeWarning: invalid value encountered in true_divide\n",
      "  recall = tps / tps[-1]\n",
      "/home/debian/Simao/miniconda3/envs/thesis/lib/python3.10/site-packages/sklearn/metrics/_ranking.py:864: RuntimeWarning: invalid value encountered in true_divide\n",
      "  recall = tps / tps[-1]\n",
      "/home/debian/Simao/miniconda3/envs/thesis/lib/python3.10/site-packages/sklearn/metrics/_ranking.py:864: RuntimeWarning: invalid value encountered in true_divide\n",
      "  recall = tps / tps[-1]\n",
      "/home/debian/Simao/miniconda3/envs/thesis/lib/python3.10/site-packages/sklearn/metrics/_ranking.py:864: RuntimeWarning: invalid value encountered in true_divide\n",
      "  recall = tps / tps[-1]\n",
      "/home/debian/Simao/miniconda3/envs/thesis/lib/python3.10/site-packages/sklearn/metrics/_ranking.py:864: RuntimeWarning: invalid value encountered in true_divide\n",
      "  recall = tps / tps[-1]\n",
      "/home/debian/Simao/miniconda3/envs/thesis/lib/python3.10/site-packages/sklearn/metrics/_ranking.py:864: RuntimeWarning: invalid value encountered in true_divide\n",
      "  recall = tps / tps[-1]\n",
      "/home/debian/Simao/miniconda3/envs/thesis/lib/python3.10/site-packages/sklearn/metrics/_ranking.py:864: RuntimeWarning: invalid value encountered in true_divide\n",
      "  recall = tps / tps[-1]\n",
      "/home/debian/Simao/miniconda3/envs/thesis/lib/python3.10/site-packages/sklearn/metrics/_ranking.py:864: RuntimeWarning: invalid value encountered in true_divide\n",
      "  recall = tps / tps[-1]\n",
      "/home/debian/Simao/miniconda3/envs/thesis/lib/python3.10/site-packages/sklearn/metrics/_ranking.py:864: RuntimeWarning: invalid value encountered in true_divide\n",
      "  recall = tps / tps[-1]\n",
      "/home/debian/Simao/miniconda3/envs/thesis/lib/python3.10/site-packages/sklearn/metrics/_ranking.py:864: RuntimeWarning: invalid value encountered in true_divide\n",
      "  recall = tps / tps[-1]\n",
      "/home/debian/Simao/miniconda3/envs/thesis/lib/python3.10/site-packages/sklearn/metrics/_ranking.py:864: RuntimeWarning: invalid value encountered in true_divide\n",
      "  recall = tps / tps[-1]\n",
      "/home/debian/Simao/miniconda3/envs/thesis/lib/python3.10/site-packages/sklearn/metrics/_ranking.py:864: RuntimeWarning: invalid value encountered in true_divide\n",
      "  recall = tps / tps[-1]\n",
      "/home/debian/Simao/miniconda3/envs/thesis/lib/python3.10/site-packages/sklearn/metrics/_ranking.py:864: RuntimeWarning: invalid value encountered in true_divide\n",
      "  recall = tps / tps[-1]\n",
      "/home/debian/Simao/miniconda3/envs/thesis/lib/python3.10/site-packages/sklearn/metrics/_ranking.py:864: RuntimeWarning: invalid value encountered in true_divide\n",
      "  recall = tps / tps[-1]\n",
      "/home/debian/Simao/miniconda3/envs/thesis/lib/python3.10/site-packages/sklearn/metrics/_ranking.py:864: RuntimeWarning: invalid value encountered in true_divide\n",
      "  recall = tps / tps[-1]\n",
      "/home/debian/Simao/miniconda3/envs/thesis/lib/python3.10/site-packages/sklearn/metrics/_ranking.py:864: RuntimeWarning: invalid value encountered in true_divide\n",
      "  recall = tps / tps[-1]\n",
      "/home/debian/Simao/miniconda3/envs/thesis/lib/python3.10/site-packages/sklearn/metrics/_ranking.py:864: RuntimeWarning: invalid value encountered in true_divide\n",
      "  recall = tps / tps[-1]\n",
      "/home/debian/Simao/miniconda3/envs/thesis/lib/python3.10/site-packages/sklearn/metrics/_ranking.py:864: RuntimeWarning: invalid value encountered in true_divide\n",
      "  recall = tps / tps[-1]\n",
      "/home/debian/Simao/miniconda3/envs/thesis/lib/python3.10/site-packages/sklearn/metrics/_ranking.py:864: RuntimeWarning: invalid value encountered in true_divide\n",
      "  recall = tps / tps[-1]\n",
      "/home/debian/Simao/miniconda3/envs/thesis/lib/python3.10/site-packages/sklearn/metrics/_ranking.py:864: RuntimeWarning: invalid value encountered in true_divide\n",
      "  recall = tps / tps[-1]\n",
      "/home/debian/Simao/miniconda3/envs/thesis/lib/python3.10/site-packages/sklearn/metrics/_ranking.py:864: RuntimeWarning: invalid value encountered in true_divide\n",
      "  recall = tps / tps[-1]\n",
      "/home/debian/Simao/miniconda3/envs/thesis/lib/python3.10/site-packages/sklearn/metrics/_ranking.py:864: RuntimeWarning: invalid value encountered in true_divide\n",
      "  recall = tps / tps[-1]\n",
      "/home/debian/Simao/miniconda3/envs/thesis/lib/python3.10/site-packages/sklearn/metrics/_ranking.py:864: RuntimeWarning: invalid value encountered in true_divide\n",
      "  recall = tps / tps[-1]\n",
      "/home/debian/Simao/miniconda3/envs/thesis/lib/python3.10/site-packages/sklearn/metrics/_ranking.py:864: RuntimeWarning: invalid value encountered in true_divide\n",
      "  recall = tps / tps[-1]\n",
      "/home/debian/Simao/miniconda3/envs/thesis/lib/python3.10/site-packages/sklearn/metrics/_ranking.py:864: RuntimeWarning: invalid value encountered in true_divide\n",
      "  recall = tps / tps[-1]\n",
      "/home/debian/Simao/miniconda3/envs/thesis/lib/python3.10/site-packages/sklearn/metrics/_ranking.py:864: RuntimeWarning: invalid value encountered in true_divide\n",
      "  recall = tps / tps[-1]\n",
      "/home/debian/Simao/miniconda3/envs/thesis/lib/python3.10/site-packages/sklearn/metrics/_ranking.py:864: RuntimeWarning: invalid value encountered in true_divide\n",
      "  recall = tps / tps[-1]\n",
      "/home/debian/Simao/miniconda3/envs/thesis/lib/python3.10/site-packages/sklearn/metrics/_ranking.py:864: RuntimeWarning: invalid value encountered in true_divide\n",
      "  recall = tps / tps[-1]\n",
      "/home/debian/Simao/miniconda3/envs/thesis/lib/python3.10/site-packages/sklearn/metrics/_ranking.py:864: RuntimeWarning: invalid value encountered in true_divide\n",
      "  recall = tps / tps[-1]\n",
      "/home/debian/Simao/miniconda3/envs/thesis/lib/python3.10/site-packages/sklearn/metrics/_ranking.py:864: RuntimeWarning: invalid value encountered in true_divide\n",
      "  recall = tps / tps[-1]\n",
      "/home/debian/Simao/miniconda3/envs/thesis/lib/python3.10/site-packages/sklearn/metrics/_ranking.py:864: RuntimeWarning: invalid value encountered in true_divide\n",
      "  recall = tps / tps[-1]\n",
      "/home/debian/Simao/miniconda3/envs/thesis/lib/python3.10/site-packages/sklearn/metrics/_ranking.py:864: RuntimeWarning: invalid value encountered in true_divide\n",
      "  recall = tps / tps[-1]\n",
      "/home/debian/Simao/miniconda3/envs/thesis/lib/python3.10/site-packages/sklearn/metrics/_ranking.py:864: RuntimeWarning: invalid value encountered in true_divide\n",
      "  recall = tps / tps[-1]\n",
      "/home/debian/Simao/miniconda3/envs/thesis/lib/python3.10/site-packages/sklearn/metrics/_ranking.py:864: RuntimeWarning: invalid value encountered in true_divide\n",
      "  recall = tps / tps[-1]\n",
      "/home/debian/Simao/miniconda3/envs/thesis/lib/python3.10/site-packages/sklearn/metrics/_ranking.py:864: RuntimeWarning: invalid value encountered in true_divide\n",
      "  recall = tps / tps[-1]\n",
      "/home/debian/Simao/miniconda3/envs/thesis/lib/python3.10/site-packages/sklearn/metrics/_ranking.py:864: RuntimeWarning: invalid value encountered in true_divide\n",
      "  recall = tps / tps[-1]\n",
      "/home/debian/Simao/miniconda3/envs/thesis/lib/python3.10/site-packages/sklearn/metrics/_ranking.py:864: RuntimeWarning: invalid value encountered in true_divide\n",
      "  recall = tps / tps[-1]\n",
      "/home/debian/Simao/miniconda3/envs/thesis/lib/python3.10/site-packages/sklearn/metrics/_ranking.py:864: RuntimeWarning: invalid value encountered in true_divide\n",
      "  recall = tps / tps[-1]\n",
      "/home/debian/Simao/miniconda3/envs/thesis/lib/python3.10/site-packages/sklearn/metrics/_ranking.py:864: RuntimeWarning: invalid value encountered in true_divide\n",
      "  recall = tps / tps[-1]\n",
      "/home/debian/Simao/miniconda3/envs/thesis/lib/python3.10/site-packages/sklearn/metrics/_ranking.py:864: RuntimeWarning: invalid value encountered in true_divide\n",
      "  recall = tps / tps[-1]\n",
      "/home/debian/Simao/miniconda3/envs/thesis/lib/python3.10/site-packages/sklearn/metrics/_ranking.py:864: RuntimeWarning: invalid value encountered in true_divide\n",
      "  recall = tps / tps[-1]\n",
      "/home/debian/Simao/miniconda3/envs/thesis/lib/python3.10/site-packages/sklearn/metrics/_ranking.py:864: RuntimeWarning: invalid value encountered in true_divide\n",
      "  recall = tps / tps[-1]\n",
      "/home/debian/Simao/miniconda3/envs/thesis/lib/python3.10/site-packages/sklearn/metrics/_ranking.py:864: RuntimeWarning: invalid value encountered in true_divide\n",
      "  recall = tps / tps[-1]\n",
      "/home/debian/Simao/miniconda3/envs/thesis/lib/python3.10/site-packages/sklearn/metrics/_ranking.py:864: RuntimeWarning: invalid value encountered in true_divide\n",
      "  recall = tps / tps[-1]\n",
      "/home/debian/Simao/miniconda3/envs/thesis/lib/python3.10/site-packages/sklearn/metrics/_ranking.py:864: RuntimeWarning: invalid value encountered in true_divide\n",
      "  recall = tps / tps[-1]\n",
      "/home/debian/Simao/miniconda3/envs/thesis/lib/python3.10/site-packages/sklearn/metrics/_ranking.py:864: RuntimeWarning: invalid value encountered in true_divide\n",
      "  recall = tps / tps[-1]\n",
      "/home/debian/Simao/miniconda3/envs/thesis/lib/python3.10/site-packages/sklearn/metrics/_ranking.py:864: RuntimeWarning: invalid value encountered in true_divide\n",
      "  recall = tps / tps[-1]\n",
      "/home/debian/Simao/miniconda3/envs/thesis/lib/python3.10/site-packages/sklearn/metrics/_ranking.py:864: RuntimeWarning: invalid value encountered in true_divide\n",
      "  recall = tps / tps[-1]\n",
      "/home/debian/Simao/miniconda3/envs/thesis/lib/python3.10/site-packages/sklearn/metrics/_ranking.py:864: RuntimeWarning: invalid value encountered in true_divide\n",
      "  recall = tps / tps[-1]\n",
      "/home/debian/Simao/miniconda3/envs/thesis/lib/python3.10/site-packages/sklearn/metrics/_ranking.py:864: RuntimeWarning: invalid value encountered in true_divide\n",
      "  recall = tps / tps[-1]\n",
      "/home/debian/Simao/miniconda3/envs/thesis/lib/python3.10/site-packages/sklearn/metrics/_ranking.py:864: RuntimeWarning: invalid value encountered in true_divide\n",
      "  recall = tps / tps[-1]\n",
      "/home/debian/Simao/miniconda3/envs/thesis/lib/python3.10/site-packages/sklearn/metrics/_ranking.py:864: RuntimeWarning: invalid value encountered in true_divide\n",
      "  recall = tps / tps[-1]\n",
      "/home/debian/Simao/miniconda3/envs/thesis/lib/python3.10/site-packages/sklearn/metrics/_ranking.py:864: RuntimeWarning: invalid value encountered in true_divide\n",
      "  recall = tps / tps[-1]\n",
      "/home/debian/Simao/miniconda3/envs/thesis/lib/python3.10/site-packages/sklearn/metrics/_ranking.py:864: RuntimeWarning: invalid value encountered in true_divide\n",
      "  recall = tps / tps[-1]\n",
      "/home/debian/Simao/miniconda3/envs/thesis/lib/python3.10/site-packages/sklearn/metrics/_ranking.py:864: RuntimeWarning: invalid value encountered in true_divide\n",
      "  recall = tps / tps[-1]\n",
      "/home/debian/Simao/miniconda3/envs/thesis/lib/python3.10/site-packages/sklearn/metrics/_ranking.py:864: RuntimeWarning: invalid value encountered in true_divide\n",
      "  recall = tps / tps[-1]\n",
      "/home/debian/Simao/miniconda3/envs/thesis/lib/python3.10/site-packages/sklearn/metrics/_ranking.py:864: RuntimeWarning: invalid value encountered in true_divide\n",
      "  recall = tps / tps[-1]\n",
      "/home/debian/Simao/miniconda3/envs/thesis/lib/python3.10/site-packages/sklearn/metrics/_ranking.py:864: RuntimeWarning: invalid value encountered in true_divide\n",
      "  recall = tps / tps[-1]\n",
      "/home/debian/Simao/miniconda3/envs/thesis/lib/python3.10/site-packages/sklearn/metrics/_ranking.py:864: RuntimeWarning: invalid value encountered in true_divide\n",
      "  recall = tps / tps[-1]\n",
      "/home/debian/Simao/miniconda3/envs/thesis/lib/python3.10/site-packages/sklearn/metrics/_ranking.py:864: RuntimeWarning: invalid value encountered in true_divide\n",
      "  recall = tps / tps[-1]\n",
      "/home/debian/Simao/miniconda3/envs/thesis/lib/python3.10/site-packages/sklearn/metrics/_ranking.py:864: RuntimeWarning: invalid value encountered in true_divide\n",
      "  recall = tps / tps[-1]\n",
      "/home/debian/Simao/miniconda3/envs/thesis/lib/python3.10/site-packages/sklearn/metrics/_ranking.py:864: RuntimeWarning: invalid value encountered in true_divide\n",
      "  recall = tps / tps[-1]\n",
      "/home/debian/Simao/miniconda3/envs/thesis/lib/python3.10/site-packages/sklearn/metrics/_ranking.py:864: RuntimeWarning: invalid value encountered in true_divide\n",
      "  recall = tps / tps[-1]\n",
      "/home/debian/Simao/miniconda3/envs/thesis/lib/python3.10/site-packages/sklearn/metrics/_ranking.py:864: RuntimeWarning: invalid value encountered in true_divide\n",
      "  recall = tps / tps[-1]\n",
      "/home/debian/Simao/miniconda3/envs/thesis/lib/python3.10/site-packages/sklearn/metrics/_ranking.py:864: RuntimeWarning: invalid value encountered in true_divide\n",
      "  recall = tps / tps[-1]\n",
      "/home/debian/Simao/miniconda3/envs/thesis/lib/python3.10/site-packages/sklearn/metrics/_ranking.py:864: RuntimeWarning: invalid value encountered in true_divide\n",
      "  recall = tps / tps[-1]\n",
      "/home/debian/Simao/miniconda3/envs/thesis/lib/python3.10/site-packages/sklearn/metrics/_ranking.py:864: RuntimeWarning: invalid value encountered in true_divide\n",
      "  recall = tps / tps[-1]\n",
      "/home/debian/Simao/miniconda3/envs/thesis/lib/python3.10/site-packages/sklearn/metrics/_ranking.py:864: RuntimeWarning: invalid value encountered in true_divide\n",
      "  recall = tps / tps[-1]\n",
      "/home/debian/Simao/miniconda3/envs/thesis/lib/python3.10/site-packages/sklearn/metrics/_ranking.py:864: RuntimeWarning: invalid value encountered in true_divide\n",
      "  recall = tps / tps[-1]\n",
      "/home/debian/Simao/miniconda3/envs/thesis/lib/python3.10/site-packages/sklearn/metrics/_ranking.py:864: RuntimeWarning: invalid value encountered in true_divide\n",
      "  recall = tps / tps[-1]\n",
      "/home/debian/Simao/miniconda3/envs/thesis/lib/python3.10/site-packages/sklearn/metrics/_ranking.py:864: RuntimeWarning: invalid value encountered in true_divide\n",
      "  recall = tps / tps[-1]\n",
      "/home/debian/Simao/miniconda3/envs/thesis/lib/python3.10/site-packages/sklearn/metrics/_ranking.py:864: RuntimeWarning: invalid value encountered in true_divide\n",
      "  recall = tps / tps[-1]\n",
      "/home/debian/Simao/miniconda3/envs/thesis/lib/python3.10/site-packages/sklearn/metrics/_ranking.py:864: RuntimeWarning: invalid value encountered in true_divide\n",
      "  recall = tps / tps[-1]\n",
      "/home/debian/Simao/miniconda3/envs/thesis/lib/python3.10/site-packages/sklearn/metrics/_ranking.py:864: RuntimeWarning: invalid value encountered in true_divide\n",
      "  recall = tps / tps[-1]\n",
      "/home/debian/Simao/miniconda3/envs/thesis/lib/python3.10/site-packages/sklearn/metrics/_ranking.py:864: RuntimeWarning: invalid value encountered in true_divide\n",
      "  recall = tps / tps[-1]\n",
      "/home/debian/Simao/miniconda3/envs/thesis/lib/python3.10/site-packages/sklearn/metrics/_ranking.py:864: RuntimeWarning: invalid value encountered in true_divide\n",
      "  recall = tps / tps[-1]\n",
      "/home/debian/Simao/miniconda3/envs/thesis/lib/python3.10/site-packages/sklearn/metrics/_ranking.py:864: RuntimeWarning: invalid value encountered in true_divide\n",
      "  recall = tps / tps[-1]\n",
      "/home/debian/Simao/miniconda3/envs/thesis/lib/python3.10/site-packages/sklearn/metrics/_ranking.py:864: RuntimeWarning: invalid value encountered in true_divide\n",
      "  recall = tps / tps[-1]\n",
      "/home/debian/Simao/miniconda3/envs/thesis/lib/python3.10/site-packages/sklearn/metrics/_ranking.py:864: RuntimeWarning: invalid value encountered in true_divide\n",
      "  recall = tps / tps[-1]\n",
      "/home/debian/Simao/miniconda3/envs/thesis/lib/python3.10/site-packages/sklearn/metrics/_ranking.py:864: RuntimeWarning: invalid value encountered in true_divide\n",
      "  recall = tps / tps[-1]\n",
      "/home/debian/Simao/miniconda3/envs/thesis/lib/python3.10/site-packages/sklearn/metrics/_ranking.py:864: RuntimeWarning: invalid value encountered in true_divide\n",
      "  recall = tps / tps[-1]\n",
      "/home/debian/Simao/miniconda3/envs/thesis/lib/python3.10/site-packages/sklearn/metrics/_ranking.py:864: RuntimeWarning: invalid value encountered in true_divide\n",
      "  recall = tps / tps[-1]\n",
      "/home/debian/Simao/miniconda3/envs/thesis/lib/python3.10/site-packages/sklearn/metrics/_ranking.py:864: RuntimeWarning: invalid value encountered in true_divide\n",
      "  recall = tps / tps[-1]\n",
      "/home/debian/Simao/miniconda3/envs/thesis/lib/python3.10/site-packages/sklearn/metrics/_ranking.py:864: RuntimeWarning: invalid value encountered in true_divide\n",
      "  recall = tps / tps[-1]\n",
      "/home/debian/Simao/miniconda3/envs/thesis/lib/python3.10/site-packages/sklearn/metrics/_ranking.py:864: RuntimeWarning: invalid value encountered in true_divide\n",
      "  recall = tps / tps[-1]\n",
      "/home/debian/Simao/miniconda3/envs/thesis/lib/python3.10/site-packages/sklearn/metrics/_ranking.py:864: RuntimeWarning: invalid value encountered in true_divide\n",
      "  recall = tps / tps[-1]\n",
      "/home/debian/Simao/miniconda3/envs/thesis/lib/python3.10/site-packages/sklearn/metrics/_ranking.py:864: RuntimeWarning: invalid value encountered in true_divide\n",
      "  recall = tps / tps[-1]\n",
      "/home/debian/Simao/miniconda3/envs/thesis/lib/python3.10/site-packages/sklearn/metrics/_ranking.py:864: RuntimeWarning: invalid value encountered in true_divide\n",
      "  recall = tps / tps[-1]\n",
      "/home/debian/Simao/miniconda3/envs/thesis/lib/python3.10/site-packages/sklearn/metrics/_ranking.py:864: RuntimeWarning: invalid value encountered in true_divide\n",
      "  recall = tps / tps[-1]\n",
      "/home/debian/Simao/miniconda3/envs/thesis/lib/python3.10/site-packages/sklearn/metrics/_ranking.py:864: RuntimeWarning: invalid value encountered in true_divide\n",
      "  recall = tps / tps[-1]\n",
      "/home/debian/Simao/miniconda3/envs/thesis/lib/python3.10/site-packages/sklearn/metrics/_ranking.py:864: RuntimeWarning: invalid value encountered in true_divide\n",
      "  recall = tps / tps[-1]\n",
      "/home/debian/Simao/miniconda3/envs/thesis/lib/python3.10/site-packages/sklearn/metrics/_ranking.py:864: RuntimeWarning: invalid value encountered in true_divide\n",
      "  recall = tps / tps[-1]\n",
      "/home/debian/Simao/miniconda3/envs/thesis/lib/python3.10/site-packages/sklearn/metrics/_ranking.py:864: RuntimeWarning: invalid value encountered in true_divide\n",
      "  recall = tps / tps[-1]\n",
      "/home/debian/Simao/miniconda3/envs/thesis/lib/python3.10/site-packages/sklearn/metrics/_ranking.py:864: RuntimeWarning: invalid value encountered in true_divide\n",
      "  recall = tps / tps[-1]\n",
      "/home/debian/Simao/miniconda3/envs/thesis/lib/python3.10/site-packages/sklearn/metrics/_ranking.py:864: RuntimeWarning: invalid value encountered in true_divide\n",
      "  recall = tps / tps[-1]\n",
      "/home/debian/Simao/miniconda3/envs/thesis/lib/python3.10/site-packages/sklearn/metrics/_ranking.py:864: RuntimeWarning: invalid value encountered in true_divide\n",
      "  recall = tps / tps[-1]\n",
      "/home/debian/Simao/miniconda3/envs/thesis/lib/python3.10/site-packages/sklearn/metrics/_ranking.py:864: RuntimeWarning: invalid value encountered in true_divide\n",
      "  recall = tps / tps[-1]\n",
      "/home/debian/Simao/miniconda3/envs/thesis/lib/python3.10/site-packages/sklearn/metrics/_ranking.py:864: RuntimeWarning: invalid value encountered in true_divide\n",
      "  recall = tps / tps[-1]\n",
      "/home/debian/Simao/miniconda3/envs/thesis/lib/python3.10/site-packages/sklearn/metrics/_ranking.py:864: RuntimeWarning: invalid value encountered in true_divide\n",
      "  recall = tps / tps[-1]\n",
      "/home/debian/Simao/miniconda3/envs/thesis/lib/python3.10/site-packages/sklearn/metrics/_ranking.py:864: RuntimeWarning: invalid value encountered in true_divide\n",
      "  recall = tps / tps[-1]\n",
      "/home/debian/Simao/miniconda3/envs/thesis/lib/python3.10/site-packages/sklearn/metrics/_ranking.py:864: RuntimeWarning: invalid value encountered in true_divide\n",
      "  recall = tps / tps[-1]\n",
      "/home/debian/Simao/miniconda3/envs/thesis/lib/python3.10/site-packages/sklearn/metrics/_ranking.py:864: RuntimeWarning: invalid value encountered in true_divide\n",
      "  recall = tps / tps[-1]\n",
      "/home/debian/Simao/miniconda3/envs/thesis/lib/python3.10/site-packages/sklearn/metrics/_ranking.py:864: RuntimeWarning: invalid value encountered in true_divide\n",
      "  recall = tps / tps[-1]\n",
      "/home/debian/Simao/miniconda3/envs/thesis/lib/python3.10/site-packages/sklearn/metrics/_ranking.py:864: RuntimeWarning: invalid value encountered in true_divide\n",
      "  recall = tps / tps[-1]\n",
      "/home/debian/Simao/miniconda3/envs/thesis/lib/python3.10/site-packages/sklearn/metrics/_ranking.py:864: RuntimeWarning: invalid value encountered in true_divide\n",
      "  recall = tps / tps[-1]\n",
      "/home/debian/Simao/miniconda3/envs/thesis/lib/python3.10/site-packages/sklearn/metrics/_ranking.py:864: RuntimeWarning: invalid value encountered in true_divide\n",
      "  recall = tps / tps[-1]\n",
      "/home/debian/Simao/miniconda3/envs/thesis/lib/python3.10/site-packages/sklearn/metrics/_ranking.py:864: RuntimeWarning: invalid value encountered in true_divide\n",
      "  recall = tps / tps[-1]\n",
      "/home/debian/Simao/miniconda3/envs/thesis/lib/python3.10/site-packages/sklearn/metrics/_ranking.py:864: RuntimeWarning: invalid value encountered in true_divide\n",
      "  recall = tps / tps[-1]\n",
      "/home/debian/Simao/miniconda3/envs/thesis/lib/python3.10/site-packages/sklearn/metrics/_ranking.py:864: RuntimeWarning: invalid value encountered in true_divide\n",
      "  recall = tps / tps[-1]\n",
      "/home/debian/Simao/miniconda3/envs/thesis/lib/python3.10/site-packages/sklearn/metrics/_ranking.py:864: RuntimeWarning: invalid value encountered in true_divide\n",
      "  recall = tps / tps[-1]\n",
      "/home/debian/Simao/miniconda3/envs/thesis/lib/python3.10/site-packages/sklearn/metrics/_ranking.py:864: RuntimeWarning: invalid value encountered in true_divide\n",
      "  recall = tps / tps[-1]\n",
      "/home/debian/Simao/miniconda3/envs/thesis/lib/python3.10/site-packages/sklearn/metrics/_ranking.py:864: RuntimeWarning: invalid value encountered in true_divide\n",
      "  recall = tps / tps[-1]\n",
      "/home/debian/Simao/miniconda3/envs/thesis/lib/python3.10/site-packages/sklearn/metrics/_ranking.py:864: RuntimeWarning: invalid value encountered in true_divide\n",
      "  recall = tps / tps[-1]\n",
      "/home/debian/Simao/miniconda3/envs/thesis/lib/python3.10/site-packages/sklearn/metrics/_ranking.py:864: RuntimeWarning: invalid value encountered in true_divide\n",
      "  recall = tps / tps[-1]\n",
      "/home/debian/Simao/miniconda3/envs/thesis/lib/python3.10/site-packages/sklearn/metrics/_ranking.py:864: RuntimeWarning: invalid value encountered in true_divide\n",
      "  recall = tps / tps[-1]\n",
      "/home/debian/Simao/miniconda3/envs/thesis/lib/python3.10/site-packages/sklearn/metrics/_ranking.py:864: RuntimeWarning: invalid value encountered in true_divide\n",
      "  recall = tps / tps[-1]\n",
      "/home/debian/Simao/miniconda3/envs/thesis/lib/python3.10/site-packages/sklearn/metrics/_ranking.py:864: RuntimeWarning: invalid value encountered in true_divide\n",
      "  recall = tps / tps[-1]\n",
      "/home/debian/Simao/miniconda3/envs/thesis/lib/python3.10/site-packages/sklearn/metrics/_ranking.py:864: RuntimeWarning: invalid value encountered in true_divide\n",
      "  recall = tps / tps[-1]\n",
      "/home/debian/Simao/miniconda3/envs/thesis/lib/python3.10/site-packages/sklearn/metrics/_ranking.py:864: RuntimeWarning: invalid value encountered in true_divide\n",
      "  recall = tps / tps[-1]\n",
      "/home/debian/Simao/miniconda3/envs/thesis/lib/python3.10/site-packages/sklearn/metrics/_ranking.py:864: RuntimeWarning: invalid value encountered in true_divide\n",
      "  recall = tps / tps[-1]\n",
      "/home/debian/Simao/miniconda3/envs/thesis/lib/python3.10/site-packages/sklearn/metrics/_ranking.py:864: RuntimeWarning: invalid value encountered in true_divide\n",
      "  recall = tps / tps[-1]\n",
      "/home/debian/Simao/miniconda3/envs/thesis/lib/python3.10/site-packages/sklearn/metrics/_ranking.py:864: RuntimeWarning: invalid value encountered in true_divide\n",
      "  recall = tps / tps[-1]\n",
      "/home/debian/Simao/miniconda3/envs/thesis/lib/python3.10/site-packages/sklearn/metrics/_ranking.py:864: RuntimeWarning: invalid value encountered in true_divide\n",
      "  recall = tps / tps[-1]\n",
      "/home/debian/Simao/miniconda3/envs/thesis/lib/python3.10/site-packages/sklearn/metrics/_ranking.py:864: RuntimeWarning: invalid value encountered in true_divide\n",
      "  recall = tps / tps[-1]\n",
      "/home/debian/Simao/miniconda3/envs/thesis/lib/python3.10/site-packages/sklearn/metrics/_ranking.py:864: RuntimeWarning: invalid value encountered in true_divide\n",
      "  recall = tps / tps[-1]\n",
      "/home/debian/Simao/miniconda3/envs/thesis/lib/python3.10/site-packages/sklearn/metrics/_ranking.py:864: RuntimeWarning: invalid value encountered in true_divide\n",
      "  recall = tps / tps[-1]\n",
      "/home/debian/Simao/miniconda3/envs/thesis/lib/python3.10/site-packages/sklearn/metrics/_ranking.py:864: RuntimeWarning: invalid value encountered in true_divide\n",
      "  recall = tps / tps[-1]\n",
      "/home/debian/Simao/miniconda3/envs/thesis/lib/python3.10/site-packages/sklearn/metrics/_ranking.py:864: RuntimeWarning: invalid value encountered in true_divide\n",
      "  recall = tps / tps[-1]\n",
      "/home/debian/Simao/miniconda3/envs/thesis/lib/python3.10/site-packages/sklearn/metrics/_ranking.py:864: RuntimeWarning: invalid value encountered in true_divide\n",
      "  recall = tps / tps[-1]\n",
      "/home/debian/Simao/miniconda3/envs/thesis/lib/python3.10/site-packages/sklearn/metrics/_ranking.py:864: RuntimeWarning: invalid value encountered in true_divide\n",
      "  recall = tps / tps[-1]\n",
      "/home/debian/Simao/miniconda3/envs/thesis/lib/python3.10/site-packages/sklearn/metrics/_ranking.py:864: RuntimeWarning: invalid value encountered in true_divide\n",
      "  recall = tps / tps[-1]\n",
      "/home/debian/Simao/miniconda3/envs/thesis/lib/python3.10/site-packages/sklearn/metrics/_ranking.py:864: RuntimeWarning: invalid value encountered in true_divide\n",
      "  recall = tps / tps[-1]\n",
      "/home/debian/Simao/miniconda3/envs/thesis/lib/python3.10/site-packages/sklearn/metrics/_ranking.py:864: RuntimeWarning: invalid value encountered in true_divide\n",
      "  recall = tps / tps[-1]\n",
      "/home/debian/Simao/miniconda3/envs/thesis/lib/python3.10/site-packages/sklearn/metrics/_ranking.py:864: RuntimeWarning: invalid value encountered in true_divide\n",
      "  recall = tps / tps[-1]\n",
      "/home/debian/Simao/miniconda3/envs/thesis/lib/python3.10/site-packages/sklearn/metrics/_ranking.py:864: RuntimeWarning: invalid value encountered in true_divide\n",
      "  recall = tps / tps[-1]\n",
      "/home/debian/Simao/miniconda3/envs/thesis/lib/python3.10/site-packages/sklearn/metrics/_ranking.py:864: RuntimeWarning: invalid value encountered in true_divide\n",
      "  recall = tps / tps[-1]\n",
      "/home/debian/Simao/miniconda3/envs/thesis/lib/python3.10/site-packages/sklearn/metrics/_ranking.py:864: RuntimeWarning: invalid value encountered in true_divide\n",
      "  recall = tps / tps[-1]\n",
      "/home/debian/Simao/miniconda3/envs/thesis/lib/python3.10/site-packages/sklearn/metrics/_ranking.py:864: RuntimeWarning: invalid value encountered in true_divide\n",
      "  recall = tps / tps[-1]\n",
      "/home/debian/Simao/miniconda3/envs/thesis/lib/python3.10/site-packages/sklearn/metrics/_ranking.py:864: RuntimeWarning: invalid value encountered in true_divide\n",
      "  recall = tps / tps[-1]\n",
      "/home/debian/Simao/miniconda3/envs/thesis/lib/python3.10/site-packages/sklearn/metrics/_ranking.py:864: RuntimeWarning: invalid value encountered in true_divide\n",
      "  recall = tps / tps[-1]\n",
      "/home/debian/Simao/miniconda3/envs/thesis/lib/python3.10/site-packages/sklearn/metrics/_ranking.py:864: RuntimeWarning: invalid value encountered in true_divide\n",
      "  recall = tps / tps[-1]\n",
      "/home/debian/Simao/miniconda3/envs/thesis/lib/python3.10/site-packages/sklearn/metrics/_ranking.py:864: RuntimeWarning: invalid value encountered in true_divide\n",
      "  recall = tps / tps[-1]\n",
      "/home/debian/Simao/miniconda3/envs/thesis/lib/python3.10/site-packages/sklearn/metrics/_ranking.py:864: RuntimeWarning: invalid value encountered in true_divide\n",
      "  recall = tps / tps[-1]\n",
      "/home/debian/Simao/miniconda3/envs/thesis/lib/python3.10/site-packages/sklearn/metrics/_ranking.py:864: RuntimeWarning: invalid value encountered in true_divide\n",
      "  recall = tps / tps[-1]\n",
      "/home/debian/Simao/miniconda3/envs/thesis/lib/python3.10/site-packages/sklearn/metrics/_ranking.py:864: RuntimeWarning: invalid value encountered in true_divide\n",
      "  recall = tps / tps[-1]\n",
      "/home/debian/Simao/miniconda3/envs/thesis/lib/python3.10/site-packages/sklearn/metrics/_ranking.py:864: RuntimeWarning: invalid value encountered in true_divide\n",
      "  recall = tps / tps[-1]\n",
      "/home/debian/Simao/miniconda3/envs/thesis/lib/python3.10/site-packages/sklearn/metrics/_ranking.py:864: RuntimeWarning: invalid value encountered in true_divide\n",
      "  recall = tps / tps[-1]\n",
      "/home/debian/Simao/miniconda3/envs/thesis/lib/python3.10/site-packages/sklearn/metrics/_ranking.py:864: RuntimeWarning: invalid value encountered in true_divide\n",
      "  recall = tps / tps[-1]\n",
      "/home/debian/Simao/miniconda3/envs/thesis/lib/python3.10/site-packages/sklearn/metrics/_ranking.py:864: RuntimeWarning: invalid value encountered in true_divide\n",
      "  recall = tps / tps[-1]\n",
      "/home/debian/Simao/miniconda3/envs/thesis/lib/python3.10/site-packages/sklearn/metrics/_ranking.py:864: RuntimeWarning: invalid value encountered in true_divide\n",
      "  recall = tps / tps[-1]\n",
      "/home/debian/Simao/miniconda3/envs/thesis/lib/python3.10/site-packages/sklearn/metrics/_ranking.py:864: RuntimeWarning: invalid value encountered in true_divide\n",
      "  recall = tps / tps[-1]\n",
      "/home/debian/Simao/miniconda3/envs/thesis/lib/python3.10/site-packages/sklearn/metrics/_ranking.py:864: RuntimeWarning: invalid value encountered in true_divide\n",
      "  recall = tps / tps[-1]\n",
      "/home/debian/Simao/miniconda3/envs/thesis/lib/python3.10/site-packages/sklearn/metrics/_ranking.py:864: RuntimeWarning: invalid value encountered in true_divide\n",
      "  recall = tps / tps[-1]\n",
      "/home/debian/Simao/miniconda3/envs/thesis/lib/python3.10/site-packages/sklearn/metrics/_ranking.py:864: RuntimeWarning: invalid value encountered in true_divide\n",
      "  recall = tps / tps[-1]\n",
      "/home/debian/Simao/miniconda3/envs/thesis/lib/python3.10/site-packages/sklearn/metrics/_ranking.py:864: RuntimeWarning: invalid value encountered in true_divide\n",
      "  recall = tps / tps[-1]\n",
      "/home/debian/Simao/miniconda3/envs/thesis/lib/python3.10/site-packages/sklearn/metrics/_ranking.py:864: RuntimeWarning: invalid value encountered in true_divide\n",
      "  recall = tps / tps[-1]\n",
      "/home/debian/Simao/miniconda3/envs/thesis/lib/python3.10/site-packages/sklearn/metrics/_ranking.py:864: RuntimeWarning: invalid value encountered in true_divide\n",
      "  recall = tps / tps[-1]\n",
      "/home/debian/Simao/miniconda3/envs/thesis/lib/python3.10/site-packages/sklearn/metrics/_ranking.py:864: RuntimeWarning: invalid value encountered in true_divide\n",
      "  recall = tps / tps[-1]\n",
      "/home/debian/Simao/miniconda3/envs/thesis/lib/python3.10/site-packages/sklearn/metrics/_ranking.py:864: RuntimeWarning: invalid value encountered in true_divide\n",
      "  recall = tps / tps[-1]\n",
      "/home/debian/Simao/miniconda3/envs/thesis/lib/python3.10/site-packages/sklearn/metrics/_ranking.py:864: RuntimeWarning: invalid value encountered in true_divide\n",
      "  recall = tps / tps[-1]\n",
      "/home/debian/Simao/miniconda3/envs/thesis/lib/python3.10/site-packages/sklearn/metrics/_ranking.py:864: RuntimeWarning: invalid value encountered in true_divide\n",
      "  recall = tps / tps[-1]\n",
      "/home/debian/Simao/miniconda3/envs/thesis/lib/python3.10/site-packages/sklearn/metrics/_ranking.py:864: RuntimeWarning: invalid value encountered in true_divide\n",
      "  recall = tps / tps[-1]\n",
      "/home/debian/Simao/miniconda3/envs/thesis/lib/python3.10/site-packages/sklearn/metrics/_ranking.py:864: RuntimeWarning: invalid value encountered in true_divide\n",
      "  recall = tps / tps[-1]\n",
      "/home/debian/Simao/miniconda3/envs/thesis/lib/python3.10/site-packages/sklearn/metrics/_ranking.py:864: RuntimeWarning: invalid value encountered in true_divide\n",
      "  recall = tps / tps[-1]\n",
      "/home/debian/Simao/miniconda3/envs/thesis/lib/python3.10/site-packages/sklearn/metrics/_ranking.py:864: RuntimeWarning: invalid value encountered in true_divide\n",
      "  recall = tps / tps[-1]\n",
      "/home/debian/Simao/miniconda3/envs/thesis/lib/python3.10/site-packages/sklearn/metrics/_ranking.py:864: RuntimeWarning: invalid value encountered in true_divide\n",
      "  recall = tps / tps[-1]\n",
      "/home/debian/Simao/miniconda3/envs/thesis/lib/python3.10/site-packages/sklearn/metrics/_ranking.py:864: RuntimeWarning: invalid value encountered in true_divide\n",
      "  recall = tps / tps[-1]\n",
      "/home/debian/Simao/miniconda3/envs/thesis/lib/python3.10/site-packages/sklearn/metrics/_ranking.py:864: RuntimeWarning: invalid value encountered in true_divide\n",
      "  recall = tps / tps[-1]\n",
      "/home/debian/Simao/miniconda3/envs/thesis/lib/python3.10/site-packages/sklearn/metrics/_ranking.py:864: RuntimeWarning: invalid value encountered in true_divide\n",
      "  recall = tps / tps[-1]\n",
      "/home/debian/Simao/miniconda3/envs/thesis/lib/python3.10/site-packages/sklearn/metrics/_ranking.py:864: RuntimeWarning: invalid value encountered in true_divide\n",
      "  recall = tps / tps[-1]\n",
      "/home/debian/Simao/miniconda3/envs/thesis/lib/python3.10/site-packages/sklearn/metrics/_ranking.py:864: RuntimeWarning: invalid value encountered in true_divide\n",
      "  recall = tps / tps[-1]\n",
      "/home/debian/Simao/miniconda3/envs/thesis/lib/python3.10/site-packages/sklearn/metrics/_ranking.py:864: RuntimeWarning: invalid value encountered in true_divide\n",
      "  recall = tps / tps[-1]\n",
      "/home/debian/Simao/miniconda3/envs/thesis/lib/python3.10/site-packages/sklearn/metrics/_ranking.py:864: RuntimeWarning: invalid value encountered in true_divide\n",
      "  recall = tps / tps[-1]\n",
      "/home/debian/Simao/miniconda3/envs/thesis/lib/python3.10/site-packages/sklearn/metrics/_ranking.py:864: RuntimeWarning: invalid value encountered in true_divide\n",
      "  recall = tps / tps[-1]\n",
      "/home/debian/Simao/miniconda3/envs/thesis/lib/python3.10/site-packages/sklearn/metrics/_ranking.py:864: RuntimeWarning: invalid value encountered in true_divide\n",
      "  recall = tps / tps[-1]\n",
      "/home/debian/Simao/miniconda3/envs/thesis/lib/python3.10/site-packages/sklearn/metrics/_ranking.py:864: RuntimeWarning: invalid value encountered in true_divide\n",
      "  recall = tps / tps[-1]\n",
      "/home/debian/Simao/miniconda3/envs/thesis/lib/python3.10/site-packages/sklearn/metrics/_ranking.py:864: RuntimeWarning: invalid value encountered in true_divide\n",
      "  recall = tps / tps[-1]\n",
      "/home/debian/Simao/miniconda3/envs/thesis/lib/python3.10/site-packages/sklearn/metrics/_ranking.py:864: RuntimeWarning: invalid value encountered in true_divide\n",
      "  recall = tps / tps[-1]\n",
      "/home/debian/Simao/miniconda3/envs/thesis/lib/python3.10/site-packages/sklearn/metrics/_ranking.py:864: RuntimeWarning: invalid value encountered in true_divide\n",
      "  recall = tps / tps[-1]\n",
      "/home/debian/Simao/miniconda3/envs/thesis/lib/python3.10/site-packages/sklearn/metrics/_ranking.py:864: RuntimeWarning: invalid value encountered in true_divide\n",
      "  recall = tps / tps[-1]\n",
      "/home/debian/Simao/miniconda3/envs/thesis/lib/python3.10/site-packages/sklearn/metrics/_ranking.py:864: RuntimeWarning: invalid value encountered in true_divide\n",
      "  recall = tps / tps[-1]\n",
      "/home/debian/Simao/miniconda3/envs/thesis/lib/python3.10/site-packages/sklearn/metrics/_ranking.py:864: RuntimeWarning: invalid value encountered in true_divide\n",
      "  recall = tps / tps[-1]\n",
      "/home/debian/Simao/miniconda3/envs/thesis/lib/python3.10/site-packages/sklearn/metrics/_ranking.py:864: RuntimeWarning: invalid value encountered in true_divide\n",
      "  recall = tps / tps[-1]\n",
      "/home/debian/Simao/miniconda3/envs/thesis/lib/python3.10/site-packages/sklearn/metrics/_ranking.py:864: RuntimeWarning: invalid value encountered in true_divide\n",
      "  recall = tps / tps[-1]\n",
      "/home/debian/Simao/miniconda3/envs/thesis/lib/python3.10/site-packages/sklearn/metrics/_ranking.py:864: RuntimeWarning: invalid value encountered in true_divide\n",
      "  recall = tps / tps[-1]\n",
      "/home/debian/Simao/miniconda3/envs/thesis/lib/python3.10/site-packages/sklearn/metrics/_ranking.py:864: RuntimeWarning: invalid value encountered in true_divide\n",
      "  recall = tps / tps[-1]\n",
      "/home/debian/Simao/miniconda3/envs/thesis/lib/python3.10/site-packages/sklearn/metrics/_ranking.py:864: RuntimeWarning: invalid value encountered in true_divide\n",
      "  recall = tps / tps[-1]\n",
      "/home/debian/Simao/miniconda3/envs/thesis/lib/python3.10/site-packages/sklearn/metrics/_ranking.py:864: RuntimeWarning: invalid value encountered in true_divide\n",
      "  recall = tps / tps[-1]\n",
      "/home/debian/Simao/miniconda3/envs/thesis/lib/python3.10/site-packages/sklearn/metrics/_ranking.py:864: RuntimeWarning: invalid value encountered in true_divide\n",
      "  recall = tps / tps[-1]\n",
      "/home/debian/Simao/miniconda3/envs/thesis/lib/python3.10/site-packages/sklearn/metrics/_ranking.py:864: RuntimeWarning: invalid value encountered in true_divide\n",
      "  recall = tps / tps[-1]\n",
      "/home/debian/Simao/miniconda3/envs/thesis/lib/python3.10/site-packages/sklearn/metrics/_ranking.py:864: RuntimeWarning: invalid value encountered in true_divide\n",
      "  recall = tps / tps[-1]\n",
      "/home/debian/Simao/miniconda3/envs/thesis/lib/python3.10/site-packages/sklearn/metrics/_ranking.py:864: RuntimeWarning: invalid value encountered in true_divide\n",
      "  recall = tps / tps[-1]\n",
      "/home/debian/Simao/miniconda3/envs/thesis/lib/python3.10/site-packages/sklearn/metrics/_ranking.py:864: RuntimeWarning: invalid value encountered in true_divide\n",
      "  recall = tps / tps[-1]\n",
      "/home/debian/Simao/miniconda3/envs/thesis/lib/python3.10/site-packages/sklearn/metrics/_ranking.py:864: RuntimeWarning: invalid value encountered in true_divide\n",
      "  recall = tps / tps[-1]\n",
      "/home/debian/Simao/miniconda3/envs/thesis/lib/python3.10/site-packages/sklearn/metrics/_ranking.py:864: RuntimeWarning: invalid value encountered in true_divide\n",
      "  recall = tps / tps[-1]\n",
      "/home/debian/Simao/miniconda3/envs/thesis/lib/python3.10/site-packages/sklearn/metrics/_ranking.py:864: RuntimeWarning: invalid value encountered in true_divide\n",
      "  recall = tps / tps[-1]\n",
      "/home/debian/Simao/miniconda3/envs/thesis/lib/python3.10/site-packages/sklearn/metrics/_ranking.py:864: RuntimeWarning: invalid value encountered in true_divide\n",
      "  recall = tps / tps[-1]\n",
      "/home/debian/Simao/miniconda3/envs/thesis/lib/python3.10/site-packages/sklearn/metrics/_ranking.py:864: RuntimeWarning: invalid value encountered in true_divide\n",
      "  recall = tps / tps[-1]\n",
      "/home/debian/Simao/miniconda3/envs/thesis/lib/python3.10/site-packages/sklearn/metrics/_ranking.py:864: RuntimeWarning: invalid value encountered in true_divide\n",
      "  recall = tps / tps[-1]\n",
      "/home/debian/Simao/miniconda3/envs/thesis/lib/python3.10/site-packages/sklearn/metrics/_ranking.py:864: RuntimeWarning: invalid value encountered in true_divide\n",
      "  recall = tps / tps[-1]\n",
      "/home/debian/Simao/miniconda3/envs/thesis/lib/python3.10/site-packages/sklearn/metrics/_ranking.py:864: RuntimeWarning: invalid value encountered in true_divide\n",
      "  recall = tps / tps[-1]\n",
      "/home/debian/Simao/miniconda3/envs/thesis/lib/python3.10/site-packages/sklearn/metrics/_ranking.py:864: RuntimeWarning: invalid value encountered in true_divide\n",
      "  recall = tps / tps[-1]\n",
      "/home/debian/Simao/miniconda3/envs/thesis/lib/python3.10/site-packages/sklearn/metrics/_ranking.py:864: RuntimeWarning: invalid value encountered in true_divide\n",
      "  recall = tps / tps[-1]\n",
      "/home/debian/Simao/miniconda3/envs/thesis/lib/python3.10/site-packages/sklearn/metrics/_ranking.py:864: RuntimeWarning: invalid value encountered in true_divide\n",
      "  recall = tps / tps[-1]\n",
      "/home/debian/Simao/miniconda3/envs/thesis/lib/python3.10/site-packages/sklearn/metrics/_ranking.py:864: RuntimeWarning: invalid value encountered in true_divide\n",
      "  recall = tps / tps[-1]\n",
      "/home/debian/Simao/miniconda3/envs/thesis/lib/python3.10/site-packages/sklearn/metrics/_ranking.py:864: RuntimeWarning: invalid value encountered in true_divide\n",
      "  recall = tps / tps[-1]\n",
      "/home/debian/Simao/miniconda3/envs/thesis/lib/python3.10/site-packages/sklearn/metrics/_ranking.py:864: RuntimeWarning: invalid value encountered in true_divide\n",
      "  recall = tps / tps[-1]\n",
      "/home/debian/Simao/miniconda3/envs/thesis/lib/python3.10/site-packages/sklearn/metrics/_ranking.py:864: RuntimeWarning: invalid value encountered in true_divide\n",
      "  recall = tps / tps[-1]\n",
      "/home/debian/Simao/miniconda3/envs/thesis/lib/python3.10/site-packages/sklearn/metrics/_ranking.py:864: RuntimeWarning: invalid value encountered in true_divide\n",
      "  recall = tps / tps[-1]\n",
      "/home/debian/Simao/miniconda3/envs/thesis/lib/python3.10/site-packages/sklearn/metrics/_ranking.py:864: RuntimeWarning: invalid value encountered in true_divide\n",
      "  recall = tps / tps[-1]\n",
      "/home/debian/Simao/miniconda3/envs/thesis/lib/python3.10/site-packages/sklearn/metrics/_ranking.py:864: RuntimeWarning: invalid value encountered in true_divide\n",
      "  recall = tps / tps[-1]\n",
      "/home/debian/Simao/miniconda3/envs/thesis/lib/python3.10/site-packages/sklearn/metrics/_ranking.py:864: RuntimeWarning: invalid value encountered in true_divide\n",
      "  recall = tps / tps[-1]\n",
      "/home/debian/Simao/miniconda3/envs/thesis/lib/python3.10/site-packages/sklearn/metrics/_ranking.py:864: RuntimeWarning: invalid value encountered in true_divide\n",
      "  recall = tps / tps[-1]\n",
      "/home/debian/Simao/miniconda3/envs/thesis/lib/python3.10/site-packages/sklearn/metrics/_ranking.py:864: RuntimeWarning: invalid value encountered in true_divide\n",
      "  recall = tps / tps[-1]\n",
      "/home/debian/Simao/miniconda3/envs/thesis/lib/python3.10/site-packages/sklearn/metrics/_ranking.py:864: RuntimeWarning: invalid value encountered in true_divide\n",
      "  recall = tps / tps[-1]\n",
      "/home/debian/Simao/miniconda3/envs/thesis/lib/python3.10/site-packages/sklearn/metrics/_ranking.py:864: RuntimeWarning: invalid value encountered in true_divide\n",
      "  recall = tps / tps[-1]\n",
      "/home/debian/Simao/miniconda3/envs/thesis/lib/python3.10/site-packages/sklearn/metrics/_ranking.py:864: RuntimeWarning: invalid value encountered in true_divide\n",
      "  recall = tps / tps[-1]\n",
      "/home/debian/Simao/miniconda3/envs/thesis/lib/python3.10/site-packages/sklearn/metrics/_ranking.py:864: RuntimeWarning: invalid value encountered in true_divide\n",
      "  recall = tps / tps[-1]\n",
      "/home/debian/Simao/miniconda3/envs/thesis/lib/python3.10/site-packages/sklearn/metrics/_ranking.py:864: RuntimeWarning: invalid value encountered in true_divide\n",
      "  recall = tps / tps[-1]\n",
      "/home/debian/Simao/miniconda3/envs/thesis/lib/python3.10/site-packages/sklearn/metrics/_ranking.py:864: RuntimeWarning: invalid value encountered in true_divide\n",
      "  recall = tps / tps[-1]\n",
      "/home/debian/Simao/miniconda3/envs/thesis/lib/python3.10/site-packages/sklearn/metrics/_ranking.py:864: RuntimeWarning: invalid value encountered in true_divide\n",
      "  recall = tps / tps[-1]\n",
      "/home/debian/Simao/miniconda3/envs/thesis/lib/python3.10/site-packages/sklearn/metrics/_ranking.py:864: RuntimeWarning: invalid value encountered in true_divide\n",
      "  recall = tps / tps[-1]\n",
      "/home/debian/Simao/miniconda3/envs/thesis/lib/python3.10/site-packages/sklearn/metrics/_ranking.py:864: RuntimeWarning: invalid value encountered in true_divide\n",
      "  recall = tps / tps[-1]\n",
      "/home/debian/Simao/miniconda3/envs/thesis/lib/python3.10/site-packages/sklearn/metrics/_ranking.py:864: RuntimeWarning: invalid value encountered in true_divide\n",
      "  recall = tps / tps[-1]\n",
      "/home/debian/Simao/miniconda3/envs/thesis/lib/python3.10/site-packages/sklearn/metrics/_ranking.py:864: RuntimeWarning: invalid value encountered in true_divide\n",
      "  recall = tps / tps[-1]\n",
      "/home/debian/Simao/miniconda3/envs/thesis/lib/python3.10/site-packages/sklearn/metrics/_ranking.py:864: RuntimeWarning: invalid value encountered in true_divide\n",
      "  recall = tps / tps[-1]\n",
      "/home/debian/Simao/miniconda3/envs/thesis/lib/python3.10/site-packages/sklearn/metrics/_ranking.py:864: RuntimeWarning: invalid value encountered in true_divide\n",
      "  recall = tps / tps[-1]\n",
      "/home/debian/Simao/miniconda3/envs/thesis/lib/python3.10/site-packages/sklearn/metrics/_ranking.py:864: RuntimeWarning: invalid value encountered in true_divide\n",
      "  recall = tps / tps[-1]\n",
      "/home/debian/Simao/miniconda3/envs/thesis/lib/python3.10/site-packages/sklearn/metrics/_ranking.py:864: RuntimeWarning: invalid value encountered in true_divide\n",
      "  recall = tps / tps[-1]\n",
      "/home/debian/Simao/miniconda3/envs/thesis/lib/python3.10/site-packages/sklearn/metrics/_ranking.py:864: RuntimeWarning: invalid value encountered in true_divide\n",
      "  recall = tps / tps[-1]\n",
      "/home/debian/Simao/miniconda3/envs/thesis/lib/python3.10/site-packages/sklearn/metrics/_ranking.py:864: RuntimeWarning: invalid value encountered in true_divide\n",
      "  recall = tps / tps[-1]\n",
      "/home/debian/Simao/miniconda3/envs/thesis/lib/python3.10/site-packages/sklearn/metrics/_ranking.py:864: RuntimeWarning: invalid value encountered in true_divide\n",
      "  recall = tps / tps[-1]\n",
      "/home/debian/Simao/miniconda3/envs/thesis/lib/python3.10/site-packages/sklearn/metrics/_ranking.py:864: RuntimeWarning: invalid value encountered in true_divide\n",
      "  recall = tps / tps[-1]\n",
      "/home/debian/Simao/miniconda3/envs/thesis/lib/python3.10/site-packages/sklearn/metrics/_ranking.py:864: RuntimeWarning: invalid value encountered in true_divide\n",
      "  recall = tps / tps[-1]\n",
      "/home/debian/Simao/miniconda3/envs/thesis/lib/python3.10/site-packages/sklearn/metrics/_ranking.py:864: RuntimeWarning: invalid value encountered in true_divide\n",
      "  recall = tps / tps[-1]\n",
      "/home/debian/Simao/miniconda3/envs/thesis/lib/python3.10/site-packages/sklearn/metrics/_ranking.py:864: RuntimeWarning: invalid value encountered in true_divide\n",
      "  recall = tps / tps[-1]\n",
      "/home/debian/Simao/miniconda3/envs/thesis/lib/python3.10/site-packages/sklearn/metrics/_ranking.py:864: RuntimeWarning: invalid value encountered in true_divide\n",
      "  recall = tps / tps[-1]\n",
      "/home/debian/Simao/miniconda3/envs/thesis/lib/python3.10/site-packages/sklearn/metrics/_ranking.py:864: RuntimeWarning: invalid value encountered in true_divide\n",
      "  recall = tps / tps[-1]\n",
      "/home/debian/Simao/miniconda3/envs/thesis/lib/python3.10/site-packages/sklearn/metrics/_ranking.py:864: RuntimeWarning: invalid value encountered in true_divide\n",
      "  recall = tps / tps[-1]\n",
      "/home/debian/Simao/miniconda3/envs/thesis/lib/python3.10/site-packages/sklearn/metrics/_ranking.py:864: RuntimeWarning: invalid value encountered in true_divide\n",
      "  recall = tps / tps[-1]\n",
      "/home/debian/Simao/miniconda3/envs/thesis/lib/python3.10/site-packages/sklearn/metrics/_ranking.py:864: RuntimeWarning: invalid value encountered in true_divide\n",
      "  recall = tps / tps[-1]\n",
      "/home/debian/Simao/miniconda3/envs/thesis/lib/python3.10/site-packages/sklearn/metrics/_ranking.py:864: RuntimeWarning: invalid value encountered in true_divide\n",
      "  recall = tps / tps[-1]\n",
      "/home/debian/Simao/miniconda3/envs/thesis/lib/python3.10/site-packages/sklearn/metrics/_ranking.py:864: RuntimeWarning: invalid value encountered in true_divide\n",
      "  recall = tps / tps[-1]\n",
      "/home/debian/Simao/miniconda3/envs/thesis/lib/python3.10/site-packages/sklearn/metrics/_ranking.py:864: RuntimeWarning: invalid value encountered in true_divide\n",
      "  recall = tps / tps[-1]\n",
      "/home/debian/Simao/miniconda3/envs/thesis/lib/python3.10/site-packages/sklearn/metrics/_ranking.py:864: RuntimeWarning: invalid value encountered in true_divide\n",
      "  recall = tps / tps[-1]\n",
      "/home/debian/Simao/miniconda3/envs/thesis/lib/python3.10/site-packages/sklearn/metrics/_ranking.py:864: RuntimeWarning: invalid value encountered in true_divide\n",
      "  recall = tps / tps[-1]\n",
      "/home/debian/Simao/miniconda3/envs/thesis/lib/python3.10/site-packages/sklearn/metrics/_ranking.py:864: RuntimeWarning: invalid value encountered in true_divide\n",
      "  recall = tps / tps[-1]\n",
      "/home/debian/Simao/miniconda3/envs/thesis/lib/python3.10/site-packages/sklearn/metrics/_ranking.py:864: RuntimeWarning: invalid value encountered in true_divide\n",
      "  recall = tps / tps[-1]\n",
      "/home/debian/Simao/miniconda3/envs/thesis/lib/python3.10/site-packages/sklearn/metrics/_ranking.py:864: RuntimeWarning: invalid value encountered in true_divide\n",
      "  recall = tps / tps[-1]\n",
      "/home/debian/Simao/miniconda3/envs/thesis/lib/python3.10/site-packages/sklearn/metrics/_ranking.py:864: RuntimeWarning: invalid value encountered in true_divide\n",
      "  recall = tps / tps[-1]\n",
      "/home/debian/Simao/miniconda3/envs/thesis/lib/python3.10/site-packages/sklearn/metrics/_ranking.py:864: RuntimeWarning: invalid value encountered in true_divide\n",
      "  recall = tps / tps[-1]\n",
      "/home/debian/Simao/miniconda3/envs/thesis/lib/python3.10/site-packages/sklearn/metrics/_ranking.py:864: RuntimeWarning: invalid value encountered in true_divide\n",
      "  recall = tps / tps[-1]\n",
      "/home/debian/Simao/miniconda3/envs/thesis/lib/python3.10/site-packages/sklearn/metrics/_ranking.py:864: RuntimeWarning: invalid value encountered in true_divide\n",
      "  recall = tps / tps[-1]\n",
      "/home/debian/Simao/miniconda3/envs/thesis/lib/python3.10/site-packages/sklearn/metrics/_ranking.py:864: RuntimeWarning: invalid value encountered in true_divide\n",
      "  recall = tps / tps[-1]\n",
      "/home/debian/Simao/miniconda3/envs/thesis/lib/python3.10/site-packages/sklearn/metrics/_ranking.py:864: RuntimeWarning: invalid value encountered in true_divide\n",
      "  recall = tps / tps[-1]\n",
      "/home/debian/Simao/miniconda3/envs/thesis/lib/python3.10/site-packages/sklearn/metrics/_ranking.py:864: RuntimeWarning: invalid value encountered in true_divide\n",
      "  recall = tps / tps[-1]\n",
      "/home/debian/Simao/miniconda3/envs/thesis/lib/python3.10/site-packages/sklearn/metrics/_ranking.py:864: RuntimeWarning: invalid value encountered in true_divide\n",
      "  recall = tps / tps[-1]\n",
      "/home/debian/Simao/miniconda3/envs/thesis/lib/python3.10/site-packages/sklearn/metrics/_ranking.py:864: RuntimeWarning: invalid value encountered in true_divide\n",
      "  recall = tps / tps[-1]\n",
      "/home/debian/Simao/miniconda3/envs/thesis/lib/python3.10/site-packages/sklearn/metrics/_ranking.py:864: RuntimeWarning: invalid value encountered in true_divide\n",
      "  recall = tps / tps[-1]\n",
      "/home/debian/Simao/miniconda3/envs/thesis/lib/python3.10/site-packages/sklearn/metrics/_ranking.py:864: RuntimeWarning: invalid value encountered in true_divide\n",
      "  recall = tps / tps[-1]\n",
      "/home/debian/Simao/miniconda3/envs/thesis/lib/python3.10/site-packages/sklearn/metrics/_ranking.py:864: RuntimeWarning: invalid value encountered in true_divide\n",
      "  recall = tps / tps[-1]\n",
      "/home/debian/Simao/miniconda3/envs/thesis/lib/python3.10/site-packages/sklearn/metrics/_ranking.py:864: RuntimeWarning: invalid value encountered in true_divide\n",
      "  recall = tps / tps[-1]\n",
      "/home/debian/Simao/miniconda3/envs/thesis/lib/python3.10/site-packages/sklearn/metrics/_ranking.py:864: RuntimeWarning: invalid value encountered in true_divide\n",
      "  recall = tps / tps[-1]\n",
      "/home/debian/Simao/miniconda3/envs/thesis/lib/python3.10/site-packages/sklearn/metrics/_ranking.py:864: RuntimeWarning: invalid value encountered in true_divide\n",
      "  recall = tps / tps[-1]\n",
      "/home/debian/Simao/miniconda3/envs/thesis/lib/python3.10/site-packages/sklearn/metrics/_ranking.py:864: RuntimeWarning: invalid value encountered in true_divide\n",
      "  recall = tps / tps[-1]\n",
      "/home/debian/Simao/miniconda3/envs/thesis/lib/python3.10/site-packages/sklearn/metrics/_ranking.py:864: RuntimeWarning: invalid value encountered in true_divide\n",
      "  recall = tps / tps[-1]\n",
      "/home/debian/Simao/miniconda3/envs/thesis/lib/python3.10/site-packages/sklearn/metrics/_ranking.py:864: RuntimeWarning: invalid value encountered in true_divide\n",
      "  recall = tps / tps[-1]\n",
      "/home/debian/Simao/miniconda3/envs/thesis/lib/python3.10/site-packages/sklearn/metrics/_ranking.py:864: RuntimeWarning: invalid value encountered in true_divide\n",
      "  recall = tps / tps[-1]\n",
      "/home/debian/Simao/miniconda3/envs/thesis/lib/python3.10/site-packages/sklearn/metrics/_ranking.py:864: RuntimeWarning: invalid value encountered in true_divide\n",
      "  recall = tps / tps[-1]\n",
      "/home/debian/Simao/miniconda3/envs/thesis/lib/python3.10/site-packages/sklearn/metrics/_ranking.py:864: RuntimeWarning: invalid value encountered in true_divide\n",
      "  recall = tps / tps[-1]\n",
      "/home/debian/Simao/miniconda3/envs/thesis/lib/python3.10/site-packages/sklearn/metrics/_ranking.py:864: RuntimeWarning: invalid value encountered in true_divide\n",
      "  recall = tps / tps[-1]\n",
      "/home/debian/Simao/miniconda3/envs/thesis/lib/python3.10/site-packages/sklearn/metrics/_ranking.py:864: RuntimeWarning: invalid value encountered in true_divide\n",
      "  recall = tps / tps[-1]\n",
      "/home/debian/Simao/miniconda3/envs/thesis/lib/python3.10/site-packages/sklearn/metrics/_ranking.py:864: RuntimeWarning: invalid value encountered in true_divide\n",
      "  recall = tps / tps[-1]\n",
      "/home/debian/Simao/miniconda3/envs/thesis/lib/python3.10/site-packages/sklearn/metrics/_ranking.py:864: RuntimeWarning: invalid value encountered in true_divide\n",
      "  recall = tps / tps[-1]\n",
      "/home/debian/Simao/miniconda3/envs/thesis/lib/python3.10/site-packages/sklearn/metrics/_ranking.py:864: RuntimeWarning: invalid value encountered in true_divide\n",
      "  recall = tps / tps[-1]\n",
      "/home/debian/Simao/miniconda3/envs/thesis/lib/python3.10/site-packages/sklearn/metrics/_ranking.py:864: RuntimeWarning: invalid value encountered in true_divide\n",
      "  recall = tps / tps[-1]\n",
      "/home/debian/Simao/miniconda3/envs/thesis/lib/python3.10/site-packages/sklearn/metrics/_ranking.py:864: RuntimeWarning: invalid value encountered in true_divide\n",
      "  recall = tps / tps[-1]\n",
      "/home/debian/Simao/miniconda3/envs/thesis/lib/python3.10/site-packages/sklearn/metrics/_ranking.py:864: RuntimeWarning: invalid value encountered in true_divide\n",
      "  recall = tps / tps[-1]\n",
      "/home/debian/Simao/miniconda3/envs/thesis/lib/python3.10/site-packages/sklearn/metrics/_ranking.py:864: RuntimeWarning: invalid value encountered in true_divide\n",
      "  recall = tps / tps[-1]\n",
      "/home/debian/Simao/miniconda3/envs/thesis/lib/python3.10/site-packages/sklearn/metrics/_ranking.py:864: RuntimeWarning: invalid value encountered in true_divide\n",
      "  recall = tps / tps[-1]\n",
      "/home/debian/Simao/miniconda3/envs/thesis/lib/python3.10/site-packages/sklearn/metrics/_ranking.py:864: RuntimeWarning: invalid value encountered in true_divide\n",
      "  recall = tps / tps[-1]\n",
      "/home/debian/Simao/miniconda3/envs/thesis/lib/python3.10/site-packages/sklearn/metrics/_ranking.py:864: RuntimeWarning: invalid value encountered in true_divide\n",
      "  recall = tps / tps[-1]\n",
      "/home/debian/Simao/miniconda3/envs/thesis/lib/python3.10/site-packages/sklearn/metrics/_ranking.py:864: RuntimeWarning: invalid value encountered in true_divide\n",
      "  recall = tps / tps[-1]\n",
      "/home/debian/Simao/miniconda3/envs/thesis/lib/python3.10/site-packages/sklearn/metrics/_ranking.py:864: RuntimeWarning: invalid value encountered in true_divide\n",
      "  recall = tps / tps[-1]\n",
      "/home/debian/Simao/miniconda3/envs/thesis/lib/python3.10/site-packages/sklearn/metrics/_ranking.py:864: RuntimeWarning: invalid value encountered in true_divide\n",
      "  recall = tps / tps[-1]\n",
      "/home/debian/Simao/miniconda3/envs/thesis/lib/python3.10/site-packages/sklearn/metrics/_ranking.py:864: RuntimeWarning: invalid value encountered in true_divide\n",
      "  recall = tps / tps[-1]\n",
      "/home/debian/Simao/miniconda3/envs/thesis/lib/python3.10/site-packages/sklearn/metrics/_ranking.py:864: RuntimeWarning: invalid value encountered in true_divide\n",
      "  recall = tps / tps[-1]\n",
      "/home/debian/Simao/miniconda3/envs/thesis/lib/python3.10/site-packages/sklearn/metrics/_ranking.py:864: RuntimeWarning: invalid value encountered in true_divide\n",
      "  recall = tps / tps[-1]\n",
      "/home/debian/Simao/miniconda3/envs/thesis/lib/python3.10/site-packages/sklearn/metrics/_ranking.py:864: RuntimeWarning: invalid value encountered in true_divide\n",
      "  recall = tps / tps[-1]\n",
      "/home/debian/Simao/miniconda3/envs/thesis/lib/python3.10/site-packages/sklearn/metrics/_ranking.py:864: RuntimeWarning: invalid value encountered in true_divide\n",
      "  recall = tps / tps[-1]\n",
      "/home/debian/Simao/miniconda3/envs/thesis/lib/python3.10/site-packages/sklearn/metrics/_ranking.py:864: RuntimeWarning: invalid value encountered in true_divide\n",
      "  recall = tps / tps[-1]\n",
      "/home/debian/Simao/miniconda3/envs/thesis/lib/python3.10/site-packages/sklearn/metrics/_ranking.py:864: RuntimeWarning: invalid value encountered in true_divide\n",
      "  recall = tps / tps[-1]\n",
      "/home/debian/Simao/miniconda3/envs/thesis/lib/python3.10/site-packages/sklearn/metrics/_ranking.py:864: RuntimeWarning: invalid value encountered in true_divide\n",
      "  recall = tps / tps[-1]\n",
      "/home/debian/Simao/miniconda3/envs/thesis/lib/python3.10/site-packages/sklearn/metrics/_ranking.py:864: RuntimeWarning: invalid value encountered in true_divide\n",
      "  recall = tps / tps[-1]\n",
      "/home/debian/Simao/miniconda3/envs/thesis/lib/python3.10/site-packages/sklearn/metrics/_ranking.py:864: RuntimeWarning: invalid value encountered in true_divide\n",
      "  recall = tps / tps[-1]\n",
      "/home/debian/Simao/miniconda3/envs/thesis/lib/python3.10/site-packages/sklearn/metrics/_ranking.py:864: RuntimeWarning: invalid value encountered in true_divide\n",
      "  recall = tps / tps[-1]\n",
      "/home/debian/Simao/miniconda3/envs/thesis/lib/python3.10/site-packages/sklearn/metrics/_ranking.py:864: RuntimeWarning: invalid value encountered in true_divide\n",
      "  recall = tps / tps[-1]\n",
      "/home/debian/Simao/miniconda3/envs/thesis/lib/python3.10/site-packages/sklearn/metrics/_ranking.py:864: RuntimeWarning: invalid value encountered in true_divide\n",
      "  recall = tps / tps[-1]\n",
      "/home/debian/Simao/miniconda3/envs/thesis/lib/python3.10/site-packages/sklearn/metrics/_ranking.py:864: RuntimeWarning: invalid value encountered in true_divide\n",
      "  recall = tps / tps[-1]\n",
      "/home/debian/Simao/miniconda3/envs/thesis/lib/python3.10/site-packages/sklearn/metrics/_ranking.py:864: RuntimeWarning: invalid value encountered in true_divide\n",
      "  recall = tps / tps[-1]\n",
      "/home/debian/Simao/miniconda3/envs/thesis/lib/python3.10/site-packages/sklearn/metrics/_ranking.py:864: RuntimeWarning: invalid value encountered in true_divide\n",
      "  recall = tps / tps[-1]\n",
      "/home/debian/Simao/miniconda3/envs/thesis/lib/python3.10/site-packages/sklearn/metrics/_ranking.py:864: RuntimeWarning: invalid value encountered in true_divide\n",
      "  recall = tps / tps[-1]\n",
      "/home/debian/Simao/miniconda3/envs/thesis/lib/python3.10/site-packages/sklearn/metrics/_ranking.py:864: RuntimeWarning: invalid value encountered in true_divide\n",
      "  recall = tps / tps[-1]\n",
      "/home/debian/Simao/miniconda3/envs/thesis/lib/python3.10/site-packages/sklearn/metrics/_ranking.py:864: RuntimeWarning: invalid value encountered in true_divide\n",
      "  recall = tps / tps[-1]\n",
      "/home/debian/Simao/miniconda3/envs/thesis/lib/python3.10/site-packages/sklearn/metrics/_ranking.py:864: RuntimeWarning: invalid value encountered in true_divide\n",
      "  recall = tps / tps[-1]\n",
      "/home/debian/Simao/miniconda3/envs/thesis/lib/python3.10/site-packages/sklearn/metrics/_ranking.py:864: RuntimeWarning: invalid value encountered in true_divide\n",
      "  recall = tps / tps[-1]\n",
      "/home/debian/Simao/miniconda3/envs/thesis/lib/python3.10/site-packages/sklearn/metrics/_ranking.py:864: RuntimeWarning: invalid value encountered in true_divide\n",
      "  recall = tps / tps[-1]\n",
      "/home/debian/Simao/miniconda3/envs/thesis/lib/python3.10/site-packages/sklearn/metrics/_ranking.py:864: RuntimeWarning: invalid value encountered in true_divide\n",
      "  recall = tps / tps[-1]\n",
      "/home/debian/Simao/miniconda3/envs/thesis/lib/python3.10/site-packages/sklearn/metrics/_ranking.py:864: RuntimeWarning: invalid value encountered in true_divide\n",
      "  recall = tps / tps[-1]\n",
      "/home/debian/Simao/miniconda3/envs/thesis/lib/python3.10/site-packages/sklearn/metrics/_ranking.py:864: RuntimeWarning: invalid value encountered in true_divide\n",
      "  recall = tps / tps[-1]\n",
      "/home/debian/Simao/miniconda3/envs/thesis/lib/python3.10/site-packages/sklearn/metrics/_ranking.py:864: RuntimeWarning: invalid value encountered in true_divide\n",
      "  recall = tps / tps[-1]\n",
      "/home/debian/Simao/miniconda3/envs/thesis/lib/python3.10/site-packages/sklearn/metrics/_ranking.py:864: RuntimeWarning: invalid value encountered in true_divide\n",
      "  recall = tps / tps[-1]\n",
      "/home/debian/Simao/miniconda3/envs/thesis/lib/python3.10/site-packages/sklearn/metrics/_ranking.py:864: RuntimeWarning: invalid value encountered in true_divide\n",
      "  recall = tps / tps[-1]\n",
      "/home/debian/Simao/miniconda3/envs/thesis/lib/python3.10/site-packages/sklearn/metrics/_ranking.py:864: RuntimeWarning: invalid value encountered in true_divide\n",
      "  recall = tps / tps[-1]\n",
      "/home/debian/Simao/miniconda3/envs/thesis/lib/python3.10/site-packages/sklearn/metrics/_ranking.py:864: RuntimeWarning: invalid value encountered in true_divide\n",
      "  recall = tps / tps[-1]\n",
      "/home/debian/Simao/miniconda3/envs/thesis/lib/python3.10/site-packages/sklearn/metrics/_ranking.py:864: RuntimeWarning: invalid value encountered in true_divide\n",
      "  recall = tps / tps[-1]\n",
      "/home/debian/Simao/miniconda3/envs/thesis/lib/python3.10/site-packages/sklearn/metrics/_ranking.py:864: RuntimeWarning: invalid value encountered in true_divide\n",
      "  recall = tps / tps[-1]\n",
      "/home/debian/Simao/miniconda3/envs/thesis/lib/python3.10/site-packages/sklearn/metrics/_ranking.py:864: RuntimeWarning: invalid value encountered in true_divide\n",
      "  recall = tps / tps[-1]\n",
      "/home/debian/Simao/miniconda3/envs/thesis/lib/python3.10/site-packages/sklearn/metrics/_ranking.py:864: RuntimeWarning: invalid value encountered in true_divide\n",
      "  recall = tps / tps[-1]\n",
      "/home/debian/Simao/miniconda3/envs/thesis/lib/python3.10/site-packages/sklearn/metrics/_ranking.py:864: RuntimeWarning: invalid value encountered in true_divide\n",
      "  recall = tps / tps[-1]\n",
      "/home/debian/Simao/miniconda3/envs/thesis/lib/python3.10/site-packages/sklearn/metrics/_ranking.py:864: RuntimeWarning: invalid value encountered in true_divide\n",
      "  recall = tps / tps[-1]\n",
      "/home/debian/Simao/miniconda3/envs/thesis/lib/python3.10/site-packages/sklearn/metrics/_ranking.py:864: RuntimeWarning: invalid value encountered in true_divide\n",
      "  recall = tps / tps[-1]\n",
      "/home/debian/Simao/miniconda3/envs/thesis/lib/python3.10/site-packages/sklearn/metrics/_ranking.py:864: RuntimeWarning: invalid value encountered in true_divide\n",
      "  recall = tps / tps[-1]\n",
      "/home/debian/Simao/miniconda3/envs/thesis/lib/python3.10/site-packages/sklearn/metrics/_ranking.py:864: RuntimeWarning: invalid value encountered in true_divide\n",
      "  recall = tps / tps[-1]\n",
      "/home/debian/Simao/miniconda3/envs/thesis/lib/python3.10/site-packages/sklearn/metrics/_ranking.py:864: RuntimeWarning: invalid value encountered in true_divide\n",
      "  recall = tps / tps[-1]\n",
      "/home/debian/Simao/miniconda3/envs/thesis/lib/python3.10/site-packages/sklearn/metrics/_ranking.py:864: RuntimeWarning: invalid value encountered in true_divide\n",
      "  recall = tps / tps[-1]\n",
      "/home/debian/Simao/miniconda3/envs/thesis/lib/python3.10/site-packages/sklearn/metrics/_ranking.py:864: RuntimeWarning: invalid value encountered in true_divide\n",
      "  recall = tps / tps[-1]\n",
      "/home/debian/Simao/miniconda3/envs/thesis/lib/python3.10/site-packages/sklearn/metrics/_ranking.py:864: RuntimeWarning: invalid value encountered in true_divide\n",
      "  recall = tps / tps[-1]\n",
      "/home/debian/Simao/miniconda3/envs/thesis/lib/python3.10/site-packages/sklearn/metrics/_ranking.py:864: RuntimeWarning: invalid value encountered in true_divide\n",
      "  recall = tps / tps[-1]\n",
      "/home/debian/Simao/miniconda3/envs/thesis/lib/python3.10/site-packages/sklearn/metrics/_ranking.py:864: RuntimeWarning: invalid value encountered in true_divide\n",
      "  recall = tps / tps[-1]\n",
      "/home/debian/Simao/miniconda3/envs/thesis/lib/python3.10/site-packages/sklearn/metrics/_ranking.py:864: RuntimeWarning: invalid value encountered in true_divide\n",
      "  recall = tps / tps[-1]\n",
      "/home/debian/Simao/miniconda3/envs/thesis/lib/python3.10/site-packages/sklearn/metrics/_ranking.py:864: RuntimeWarning: invalid value encountered in true_divide\n",
      "  recall = tps / tps[-1]\n",
      "/home/debian/Simao/miniconda3/envs/thesis/lib/python3.10/site-packages/sklearn/metrics/_ranking.py:864: RuntimeWarning: invalid value encountered in true_divide\n",
      "  recall = tps / tps[-1]\n",
      "/home/debian/Simao/miniconda3/envs/thesis/lib/python3.10/site-packages/sklearn/metrics/_ranking.py:864: RuntimeWarning: invalid value encountered in true_divide\n",
      "  recall = tps / tps[-1]\n",
      "/home/debian/Simao/miniconda3/envs/thesis/lib/python3.10/site-packages/sklearn/metrics/_ranking.py:864: RuntimeWarning: invalid value encountered in true_divide\n",
      "  recall = tps / tps[-1]\n",
      "/home/debian/Simao/miniconda3/envs/thesis/lib/python3.10/site-packages/sklearn/metrics/_ranking.py:864: RuntimeWarning: invalid value encountered in true_divide\n",
      "  recall = tps / tps[-1]\n",
      "/home/debian/Simao/miniconda3/envs/thesis/lib/python3.10/site-packages/sklearn/metrics/_ranking.py:864: RuntimeWarning: invalid value encountered in true_divide\n",
      "  recall = tps / tps[-1]\n",
      "/home/debian/Simao/miniconda3/envs/thesis/lib/python3.10/site-packages/sklearn/metrics/_ranking.py:864: RuntimeWarning: invalid value encountered in true_divide\n",
      "  recall = tps / tps[-1]\n",
      "/home/debian/Simao/miniconda3/envs/thesis/lib/python3.10/site-packages/sklearn/metrics/_ranking.py:864: RuntimeWarning: invalid value encountered in true_divide\n",
      "  recall = tps / tps[-1]\n",
      "/home/debian/Simao/miniconda3/envs/thesis/lib/python3.10/site-packages/sklearn/metrics/_ranking.py:864: RuntimeWarning: invalid value encountered in true_divide\n",
      "  recall = tps / tps[-1]\n",
      "/home/debian/Simao/miniconda3/envs/thesis/lib/python3.10/site-packages/sklearn/metrics/_ranking.py:864: RuntimeWarning: invalid value encountered in true_divide\n",
      "  recall = tps / tps[-1]\n",
      "/home/debian/Simao/miniconda3/envs/thesis/lib/python3.10/site-packages/sklearn/metrics/_ranking.py:864: RuntimeWarning: invalid value encountered in true_divide\n",
      "  recall = tps / tps[-1]\n",
      "/home/debian/Simao/miniconda3/envs/thesis/lib/python3.10/site-packages/sklearn/metrics/_ranking.py:864: RuntimeWarning: invalid value encountered in true_divide\n",
      "  recall = tps / tps[-1]\n",
      "/home/debian/Simao/miniconda3/envs/thesis/lib/python3.10/site-packages/sklearn/metrics/_ranking.py:864: RuntimeWarning: invalid value encountered in true_divide\n",
      "  recall = tps / tps[-1]\n",
      "/home/debian/Simao/miniconda3/envs/thesis/lib/python3.10/site-packages/sklearn/metrics/_ranking.py:864: RuntimeWarning: invalid value encountered in true_divide\n",
      "  recall = tps / tps[-1]\n",
      "/home/debian/Simao/miniconda3/envs/thesis/lib/python3.10/site-packages/sklearn/metrics/_ranking.py:864: RuntimeWarning: invalid value encountered in true_divide\n",
      "  recall = tps / tps[-1]\n",
      "/home/debian/Simao/miniconda3/envs/thesis/lib/python3.10/site-packages/sklearn/metrics/_ranking.py:864: RuntimeWarning: invalid value encountered in true_divide\n",
      "  recall = tps / tps[-1]\n",
      "/home/debian/Simao/miniconda3/envs/thesis/lib/python3.10/site-packages/sklearn/metrics/_ranking.py:864: RuntimeWarning: invalid value encountered in true_divide\n",
      "  recall = tps / tps[-1]\n",
      "/home/debian/Simao/miniconda3/envs/thesis/lib/python3.10/site-packages/sklearn/metrics/_ranking.py:864: RuntimeWarning: invalid value encountered in true_divide\n",
      "  recall = tps / tps[-1]\n",
      "/home/debian/Simao/miniconda3/envs/thesis/lib/python3.10/site-packages/sklearn/metrics/_ranking.py:864: RuntimeWarning: invalid value encountered in true_divide\n",
      "  recall = tps / tps[-1]\n",
      "/home/debian/Simao/miniconda3/envs/thesis/lib/python3.10/site-packages/sklearn/metrics/_ranking.py:864: RuntimeWarning: invalid value encountered in true_divide\n",
      "  recall = tps / tps[-1]\n",
      "/home/debian/Simao/miniconda3/envs/thesis/lib/python3.10/site-packages/sklearn/metrics/_ranking.py:864: RuntimeWarning: invalid value encountered in true_divide\n",
      "  recall = tps / tps[-1]\n",
      "/home/debian/Simao/miniconda3/envs/thesis/lib/python3.10/site-packages/sklearn/metrics/_ranking.py:864: RuntimeWarning: invalid value encountered in true_divide\n",
      "  recall = tps / tps[-1]\n",
      "/home/debian/Simao/miniconda3/envs/thesis/lib/python3.10/site-packages/sklearn/metrics/_ranking.py:864: RuntimeWarning: invalid value encountered in true_divide\n",
      "  recall = tps / tps[-1]\n",
      "/home/debian/Simao/miniconda3/envs/thesis/lib/python3.10/site-packages/sklearn/metrics/_ranking.py:864: RuntimeWarning: invalid value encountered in true_divide\n",
      "  recall = tps / tps[-1]\n",
      "/home/debian/Simao/miniconda3/envs/thesis/lib/python3.10/site-packages/sklearn/metrics/_ranking.py:864: RuntimeWarning: invalid value encountered in true_divide\n",
      "  recall = tps / tps[-1]\n",
      "/home/debian/Simao/miniconda3/envs/thesis/lib/python3.10/site-packages/sklearn/metrics/_ranking.py:864: RuntimeWarning: invalid value encountered in true_divide\n",
      "  recall = tps / tps[-1]\n",
      "/home/debian/Simao/miniconda3/envs/thesis/lib/python3.10/site-packages/sklearn/metrics/_ranking.py:864: RuntimeWarning: invalid value encountered in true_divide\n",
      "  recall = tps / tps[-1]\n",
      "/home/debian/Simao/miniconda3/envs/thesis/lib/python3.10/site-packages/sklearn/metrics/_ranking.py:864: RuntimeWarning: invalid value encountered in true_divide\n",
      "  recall = tps / tps[-1]\n",
      "/home/debian/Simao/miniconda3/envs/thesis/lib/python3.10/site-packages/sklearn/metrics/_ranking.py:864: RuntimeWarning: invalid value encountered in true_divide\n",
      "  recall = tps / tps[-1]\n",
      "/home/debian/Simao/miniconda3/envs/thesis/lib/python3.10/site-packages/sklearn/metrics/_ranking.py:864: RuntimeWarning: invalid value encountered in true_divide\n",
      "  recall = tps / tps[-1]\n",
      "/home/debian/Simao/miniconda3/envs/thesis/lib/python3.10/site-packages/sklearn/metrics/_ranking.py:864: RuntimeWarning: invalid value encountered in true_divide\n",
      "  recall = tps / tps[-1]\n",
      "/home/debian/Simao/miniconda3/envs/thesis/lib/python3.10/site-packages/sklearn/metrics/_ranking.py:864: RuntimeWarning: invalid value encountered in true_divide\n",
      "  recall = tps / tps[-1]\n",
      "/home/debian/Simao/miniconda3/envs/thesis/lib/python3.10/site-packages/sklearn/metrics/_ranking.py:864: RuntimeWarning: invalid value encountered in true_divide\n",
      "  recall = tps / tps[-1]\n",
      "/home/debian/Simao/miniconda3/envs/thesis/lib/python3.10/site-packages/sklearn/metrics/_ranking.py:864: RuntimeWarning: invalid value encountered in true_divide\n",
      "  recall = tps / tps[-1]\n",
      "/home/debian/Simao/miniconda3/envs/thesis/lib/python3.10/site-packages/sklearn/metrics/_ranking.py:864: RuntimeWarning: invalid value encountered in true_divide\n",
      "  recall = tps / tps[-1]\n",
      "/home/debian/Simao/miniconda3/envs/thesis/lib/python3.10/site-packages/sklearn/metrics/_ranking.py:864: RuntimeWarning: invalid value encountered in true_divide\n",
      "  recall = tps / tps[-1]\n",
      "/home/debian/Simao/miniconda3/envs/thesis/lib/python3.10/site-packages/sklearn/metrics/_ranking.py:864: RuntimeWarning: invalid value encountered in true_divide\n",
      "  recall = tps / tps[-1]\n",
      "/home/debian/Simao/miniconda3/envs/thesis/lib/python3.10/site-packages/sklearn/metrics/_ranking.py:864: RuntimeWarning: invalid value encountered in true_divide\n",
      "  recall = tps / tps[-1]\n",
      "/home/debian/Simao/miniconda3/envs/thesis/lib/python3.10/site-packages/sklearn/metrics/_ranking.py:864: RuntimeWarning: invalid value encountered in true_divide\n",
      "  recall = tps / tps[-1]\n",
      "/home/debian/Simao/miniconda3/envs/thesis/lib/python3.10/site-packages/sklearn/metrics/_ranking.py:864: RuntimeWarning: invalid value encountered in true_divide\n",
      "  recall = tps / tps[-1]\n",
      "/home/debian/Simao/miniconda3/envs/thesis/lib/python3.10/site-packages/sklearn/metrics/_ranking.py:864: RuntimeWarning: invalid value encountered in true_divide\n",
      "  recall = tps / tps[-1]\n",
      "/home/debian/Simao/miniconda3/envs/thesis/lib/python3.10/site-packages/sklearn/metrics/_ranking.py:864: RuntimeWarning: invalid value encountered in true_divide\n",
      "  recall = tps / tps[-1]\n",
      "/home/debian/Simao/miniconda3/envs/thesis/lib/python3.10/site-packages/sklearn/metrics/_ranking.py:864: RuntimeWarning: invalid value encountered in true_divide\n",
      "  recall = tps / tps[-1]\n",
      "/home/debian/Simao/miniconda3/envs/thesis/lib/python3.10/site-packages/sklearn/metrics/_ranking.py:864: RuntimeWarning: invalid value encountered in true_divide\n",
      "  recall = tps / tps[-1]\n",
      "/home/debian/Simao/miniconda3/envs/thesis/lib/python3.10/site-packages/sklearn/metrics/_ranking.py:864: RuntimeWarning: invalid value encountered in true_divide\n",
      "  recall = tps / tps[-1]\n",
      "/home/debian/Simao/miniconda3/envs/thesis/lib/python3.10/site-packages/sklearn/metrics/_ranking.py:864: RuntimeWarning: invalid value encountered in true_divide\n",
      "  recall = tps / tps[-1]\n",
      "/home/debian/Simao/miniconda3/envs/thesis/lib/python3.10/site-packages/sklearn/metrics/_ranking.py:864: RuntimeWarning: invalid value encountered in true_divide\n",
      "  recall = tps / tps[-1]\n",
      "/home/debian/Simao/miniconda3/envs/thesis/lib/python3.10/site-packages/sklearn/metrics/_ranking.py:864: RuntimeWarning: invalid value encountered in true_divide\n",
      "  recall = tps / tps[-1]\n",
      "/home/debian/Simao/miniconda3/envs/thesis/lib/python3.10/site-packages/sklearn/metrics/_ranking.py:864: RuntimeWarning: invalid value encountered in true_divide\n",
      "  recall = tps / tps[-1]\n",
      "/home/debian/Simao/miniconda3/envs/thesis/lib/python3.10/site-packages/sklearn/metrics/_ranking.py:864: RuntimeWarning: invalid value encountered in true_divide\n",
      "  recall = tps / tps[-1]\n",
      "/home/debian/Simao/miniconda3/envs/thesis/lib/python3.10/site-packages/sklearn/metrics/_ranking.py:864: RuntimeWarning: invalid value encountered in true_divide\n",
      "  recall = tps / tps[-1]\n",
      "/home/debian/Simao/miniconda3/envs/thesis/lib/python3.10/site-packages/sklearn/metrics/_ranking.py:864: RuntimeWarning: invalid value encountered in true_divide\n",
      "  recall = tps / tps[-1]\n",
      "/home/debian/Simao/miniconda3/envs/thesis/lib/python3.10/site-packages/sklearn/metrics/_ranking.py:864: RuntimeWarning: invalid value encountered in true_divide\n",
      "  recall = tps / tps[-1]\n",
      "/home/debian/Simao/miniconda3/envs/thesis/lib/python3.10/site-packages/sklearn/metrics/_ranking.py:864: RuntimeWarning: invalid value encountered in true_divide\n",
      "  recall = tps / tps[-1]\n",
      "/home/debian/Simao/miniconda3/envs/thesis/lib/python3.10/site-packages/sklearn/metrics/_ranking.py:864: RuntimeWarning: invalid value encountered in true_divide\n",
      "  recall = tps / tps[-1]\n",
      "/home/debian/Simao/miniconda3/envs/thesis/lib/python3.10/site-packages/sklearn/metrics/_ranking.py:864: RuntimeWarning: invalid value encountered in true_divide\n",
      "  recall = tps / tps[-1]\n",
      "/home/debian/Simao/miniconda3/envs/thesis/lib/python3.10/site-packages/sklearn/metrics/_ranking.py:864: RuntimeWarning: invalid value encountered in true_divide\n",
      "  recall = tps / tps[-1]\n",
      "/home/debian/Simao/miniconda3/envs/thesis/lib/python3.10/site-packages/sklearn/metrics/_ranking.py:864: RuntimeWarning: invalid value encountered in true_divide\n",
      "  recall = tps / tps[-1]\n",
      "/home/debian/Simao/miniconda3/envs/thesis/lib/python3.10/site-packages/sklearn/metrics/_ranking.py:864: RuntimeWarning: invalid value encountered in true_divide\n",
      "  recall = tps / tps[-1]\n",
      "/home/debian/Simao/miniconda3/envs/thesis/lib/python3.10/site-packages/sklearn/metrics/_ranking.py:864: RuntimeWarning: invalid value encountered in true_divide\n",
      "  recall = tps / tps[-1]\n",
      "/home/debian/Simao/miniconda3/envs/thesis/lib/python3.10/site-packages/sklearn/metrics/_ranking.py:864: RuntimeWarning: invalid value encountered in true_divide\n",
      "  recall = tps / tps[-1]\n",
      "/home/debian/Simao/miniconda3/envs/thesis/lib/python3.10/site-packages/sklearn/metrics/_ranking.py:864: RuntimeWarning: invalid value encountered in true_divide\n",
      "  recall = tps / tps[-1]\n",
      "/home/debian/Simao/miniconda3/envs/thesis/lib/python3.10/site-packages/sklearn/metrics/_ranking.py:864: RuntimeWarning: invalid value encountered in true_divide\n",
      "  recall = tps / tps[-1]\n",
      "/home/debian/Simao/miniconda3/envs/thesis/lib/python3.10/site-packages/sklearn/metrics/_ranking.py:864: RuntimeWarning: invalid value encountered in true_divide\n",
      "  recall = tps / tps[-1]\n",
      "/home/debian/Simao/miniconda3/envs/thesis/lib/python3.10/site-packages/sklearn/metrics/_ranking.py:864: RuntimeWarning: invalid value encountered in true_divide\n",
      "  recall = tps / tps[-1]\n",
      "/home/debian/Simao/miniconda3/envs/thesis/lib/python3.10/site-packages/sklearn/metrics/_ranking.py:864: RuntimeWarning: invalid value encountered in true_divide\n",
      "  recall = tps / tps[-1]\n",
      "/home/debian/Simao/miniconda3/envs/thesis/lib/python3.10/site-packages/sklearn/metrics/_ranking.py:864: RuntimeWarning: invalid value encountered in true_divide\n",
      "  recall = tps / tps[-1]\n",
      "/home/debian/Simao/miniconda3/envs/thesis/lib/python3.10/site-packages/sklearn/metrics/_ranking.py:864: RuntimeWarning: invalid value encountered in true_divide\n",
      "  recall = tps / tps[-1]\n",
      "/home/debian/Simao/miniconda3/envs/thesis/lib/python3.10/site-packages/sklearn/metrics/_ranking.py:864: RuntimeWarning: invalid value encountered in true_divide\n",
      "  recall = tps / tps[-1]\n",
      "/home/debian/Simao/miniconda3/envs/thesis/lib/python3.10/site-packages/sklearn/metrics/_ranking.py:864: RuntimeWarning: invalid value encountered in true_divide\n",
      "  recall = tps / tps[-1]\n",
      "/home/debian/Simao/miniconda3/envs/thesis/lib/python3.10/site-packages/sklearn/metrics/_ranking.py:864: RuntimeWarning: invalid value encountered in true_divide\n",
      "  recall = tps / tps[-1]\n",
      "/home/debian/Simao/miniconda3/envs/thesis/lib/python3.10/site-packages/sklearn/metrics/_ranking.py:864: RuntimeWarning: invalid value encountered in true_divide\n",
      "  recall = tps / tps[-1]\n",
      "/home/debian/Simao/miniconda3/envs/thesis/lib/python3.10/site-packages/sklearn/metrics/_ranking.py:864: RuntimeWarning: invalid value encountered in true_divide\n",
      "  recall = tps / tps[-1]\n",
      "/home/debian/Simao/miniconda3/envs/thesis/lib/python3.10/site-packages/sklearn/metrics/_ranking.py:864: RuntimeWarning: invalid value encountered in true_divide\n",
      "  recall = tps / tps[-1]\n",
      "/home/debian/Simao/miniconda3/envs/thesis/lib/python3.10/site-packages/sklearn/metrics/_ranking.py:864: RuntimeWarning: invalid value encountered in true_divide\n",
      "  recall = tps / tps[-1]\n",
      "/home/debian/Simao/miniconda3/envs/thesis/lib/python3.10/site-packages/sklearn/metrics/_ranking.py:864: RuntimeWarning: invalid value encountered in true_divide\n",
      "  recall = tps / tps[-1]\n",
      "/home/debian/Simao/miniconda3/envs/thesis/lib/python3.10/site-packages/sklearn/metrics/_ranking.py:864: RuntimeWarning: invalid value encountered in true_divide\n",
      "  recall = tps / tps[-1]\n",
      "/home/debian/Simao/miniconda3/envs/thesis/lib/python3.10/site-packages/sklearn/metrics/_ranking.py:864: RuntimeWarning: invalid value encountered in true_divide\n",
      "  recall = tps / tps[-1]\n",
      "/home/debian/Simao/miniconda3/envs/thesis/lib/python3.10/site-packages/sklearn/metrics/_ranking.py:864: RuntimeWarning: invalid value encountered in true_divide\n",
      "  recall = tps / tps[-1]\n",
      "/home/debian/Simao/miniconda3/envs/thesis/lib/python3.10/site-packages/sklearn/metrics/_ranking.py:864: RuntimeWarning: invalid value encountered in true_divide\n",
      "  recall = tps / tps[-1]\n",
      "/home/debian/Simao/miniconda3/envs/thesis/lib/python3.10/site-packages/sklearn/metrics/_ranking.py:864: RuntimeWarning: invalid value encountered in true_divide\n",
      "  recall = tps / tps[-1]\n",
      "/home/debian/Simao/miniconda3/envs/thesis/lib/python3.10/site-packages/sklearn/metrics/_ranking.py:864: RuntimeWarning: invalid value encountered in true_divide\n",
      "  recall = tps / tps[-1]\n",
      "/home/debian/Simao/miniconda3/envs/thesis/lib/python3.10/site-packages/sklearn/metrics/_ranking.py:864: RuntimeWarning: invalid value encountered in true_divide\n",
      "  recall = tps / tps[-1]\n",
      "/home/debian/Simao/miniconda3/envs/thesis/lib/python3.10/site-packages/sklearn/metrics/_ranking.py:864: RuntimeWarning: invalid value encountered in true_divide\n",
      "  recall = tps / tps[-1]\n",
      "/home/debian/Simao/miniconda3/envs/thesis/lib/python3.10/site-packages/sklearn/metrics/_ranking.py:864: RuntimeWarning: invalid value encountered in true_divide\n",
      "  recall = tps / tps[-1]\n",
      "/home/debian/Simao/miniconda3/envs/thesis/lib/python3.10/site-packages/sklearn/metrics/_ranking.py:864: RuntimeWarning: invalid value encountered in true_divide\n",
      "  recall = tps / tps[-1]\n",
      "/home/debian/Simao/miniconda3/envs/thesis/lib/python3.10/site-packages/sklearn/metrics/_ranking.py:864: RuntimeWarning: invalid value encountered in true_divide\n",
      "  recall = tps / tps[-1]\n",
      "/home/debian/Simao/miniconda3/envs/thesis/lib/python3.10/site-packages/sklearn/metrics/_ranking.py:864: RuntimeWarning: invalid value encountered in true_divide\n",
      "  recall = tps / tps[-1]\n",
      "/home/debian/Simao/miniconda3/envs/thesis/lib/python3.10/site-packages/sklearn/metrics/_ranking.py:864: RuntimeWarning: invalid value encountered in true_divide\n",
      "  recall = tps / tps[-1]\n",
      "/home/debian/Simao/miniconda3/envs/thesis/lib/python3.10/site-packages/sklearn/metrics/_ranking.py:864: RuntimeWarning: invalid value encountered in true_divide\n",
      "  recall = tps / tps[-1]\n",
      "/home/debian/Simao/miniconda3/envs/thesis/lib/python3.10/site-packages/sklearn/metrics/_ranking.py:864: RuntimeWarning: invalid value encountered in true_divide\n",
      "  recall = tps / tps[-1]\n",
      "/home/debian/Simao/miniconda3/envs/thesis/lib/python3.10/site-packages/sklearn/metrics/_ranking.py:864: RuntimeWarning: invalid value encountered in true_divide\n",
      "  recall = tps / tps[-1]\n",
      "/home/debian/Simao/miniconda3/envs/thesis/lib/python3.10/site-packages/sklearn/metrics/_ranking.py:864: RuntimeWarning: invalid value encountered in true_divide\n",
      "  recall = tps / tps[-1]\n",
      "/home/debian/Simao/miniconda3/envs/thesis/lib/python3.10/site-packages/sklearn/metrics/_ranking.py:864: RuntimeWarning: invalid value encountered in true_divide\n",
      "  recall = tps / tps[-1]\n",
      "/home/debian/Simao/miniconda3/envs/thesis/lib/python3.10/site-packages/sklearn/metrics/_ranking.py:864: RuntimeWarning: invalid value encountered in true_divide\n",
      "  recall = tps / tps[-1]\n",
      "/home/debian/Simao/miniconda3/envs/thesis/lib/python3.10/site-packages/sklearn/metrics/_ranking.py:864: RuntimeWarning: invalid value encountered in true_divide\n",
      "  recall = tps / tps[-1]\n",
      "/home/debian/Simao/miniconda3/envs/thesis/lib/python3.10/site-packages/sklearn/metrics/_ranking.py:864: RuntimeWarning: invalid value encountered in true_divide\n",
      "  recall = tps / tps[-1]\n",
      "/home/debian/Simao/miniconda3/envs/thesis/lib/python3.10/site-packages/sklearn/metrics/_ranking.py:864: RuntimeWarning: invalid value encountered in true_divide\n",
      "  recall = tps / tps[-1]\n",
      "/home/debian/Simao/miniconda3/envs/thesis/lib/python3.10/site-packages/sklearn/metrics/_ranking.py:864: RuntimeWarning: invalid value encountered in true_divide\n",
      "  recall = tps / tps[-1]\n",
      "/home/debian/Simao/miniconda3/envs/thesis/lib/python3.10/site-packages/sklearn/metrics/_ranking.py:864: RuntimeWarning: invalid value encountered in true_divide\n",
      "  recall = tps / tps[-1]\n",
      "/home/debian/Simao/miniconda3/envs/thesis/lib/python3.10/site-packages/sklearn/metrics/_ranking.py:864: RuntimeWarning: invalid value encountered in true_divide\n",
      "  recall = tps / tps[-1]\n",
      "/home/debian/Simao/miniconda3/envs/thesis/lib/python3.10/site-packages/sklearn/metrics/_ranking.py:864: RuntimeWarning: invalid value encountered in true_divide\n",
      "  recall = tps / tps[-1]\n",
      "/home/debian/Simao/miniconda3/envs/thesis/lib/python3.10/site-packages/sklearn/metrics/_ranking.py:864: RuntimeWarning: invalid value encountered in true_divide\n",
      "  recall = tps / tps[-1]\n",
      "/home/debian/Simao/miniconda3/envs/thesis/lib/python3.10/site-packages/sklearn/metrics/_ranking.py:864: RuntimeWarning: invalid value encountered in true_divide\n",
      "  recall = tps / tps[-1]\n",
      "/home/debian/Simao/miniconda3/envs/thesis/lib/python3.10/site-packages/sklearn/metrics/_ranking.py:864: RuntimeWarning: invalid value encountered in true_divide\n",
      "  recall = tps / tps[-1]\n",
      "/home/debian/Simao/miniconda3/envs/thesis/lib/python3.10/site-packages/sklearn/metrics/_ranking.py:864: RuntimeWarning: invalid value encountered in true_divide\n",
      "  recall = tps / tps[-1]\n",
      "/home/debian/Simao/miniconda3/envs/thesis/lib/python3.10/site-packages/sklearn/metrics/_ranking.py:864: RuntimeWarning: invalid value encountered in true_divide\n",
      "  recall = tps / tps[-1]\n",
      "/home/debian/Simao/miniconda3/envs/thesis/lib/python3.10/site-packages/sklearn/metrics/_ranking.py:864: RuntimeWarning: invalid value encountered in true_divide\n",
      "  recall = tps / tps[-1]\n",
      "/home/debian/Simao/miniconda3/envs/thesis/lib/python3.10/site-packages/sklearn/metrics/_ranking.py:864: RuntimeWarning: invalid value encountered in true_divide\n",
      "  recall = tps / tps[-1]\n",
      "/home/debian/Simao/miniconda3/envs/thesis/lib/python3.10/site-packages/sklearn/metrics/_ranking.py:864: RuntimeWarning: invalid value encountered in true_divide\n",
      "  recall = tps / tps[-1]\n",
      "/home/debian/Simao/miniconda3/envs/thesis/lib/python3.10/site-packages/sklearn/metrics/_ranking.py:864: RuntimeWarning: invalid value encountered in true_divide\n",
      "  recall = tps / tps[-1]\n",
      "/home/debian/Simao/miniconda3/envs/thesis/lib/python3.10/site-packages/sklearn/metrics/_ranking.py:864: RuntimeWarning: invalid value encountered in true_divide\n",
      "  recall = tps / tps[-1]\n",
      "/home/debian/Simao/miniconda3/envs/thesis/lib/python3.10/site-packages/sklearn/metrics/_ranking.py:864: RuntimeWarning: invalid value encountered in true_divide\n",
      "  recall = tps / tps[-1]\n",
      "/home/debian/Simao/miniconda3/envs/thesis/lib/python3.10/site-packages/sklearn/metrics/_ranking.py:864: RuntimeWarning: invalid value encountered in true_divide\n",
      "  recall = tps / tps[-1]\n",
      "/home/debian/Simao/miniconda3/envs/thesis/lib/python3.10/site-packages/sklearn/metrics/_ranking.py:864: RuntimeWarning: invalid value encountered in true_divide\n",
      "  recall = tps / tps[-1]\n",
      "/home/debian/Simao/miniconda3/envs/thesis/lib/python3.10/site-packages/sklearn/metrics/_ranking.py:864: RuntimeWarning: invalid value encountered in true_divide\n",
      "  recall = tps / tps[-1]\n",
      "/home/debian/Simao/miniconda3/envs/thesis/lib/python3.10/site-packages/sklearn/metrics/_ranking.py:864: RuntimeWarning: invalid value encountered in true_divide\n",
      "  recall = tps / tps[-1]\n",
      "/home/debian/Simao/miniconda3/envs/thesis/lib/python3.10/site-packages/sklearn/metrics/_ranking.py:864: RuntimeWarning: invalid value encountered in true_divide\n",
      "  recall = tps / tps[-1]\n",
      "/home/debian/Simao/miniconda3/envs/thesis/lib/python3.10/site-packages/sklearn/metrics/_ranking.py:864: RuntimeWarning: invalid value encountered in true_divide\n",
      "  recall = tps / tps[-1]\n",
      "/home/debian/Simao/miniconda3/envs/thesis/lib/python3.10/site-packages/sklearn/metrics/_ranking.py:864: RuntimeWarning: invalid value encountered in true_divide\n",
      "  recall = tps / tps[-1]\n",
      "/home/debian/Simao/miniconda3/envs/thesis/lib/python3.10/site-packages/sklearn/metrics/_ranking.py:864: RuntimeWarning: invalid value encountered in true_divide\n",
      "  recall = tps / tps[-1]\n",
      "/home/debian/Simao/miniconda3/envs/thesis/lib/python3.10/site-packages/sklearn/metrics/_ranking.py:864: RuntimeWarning: invalid value encountered in true_divide\n",
      "  recall = tps / tps[-1]\n",
      "/home/debian/Simao/miniconda3/envs/thesis/lib/python3.10/site-packages/sklearn/metrics/_ranking.py:864: RuntimeWarning: invalid value encountered in true_divide\n",
      "  recall = tps / tps[-1]\n",
      "/home/debian/Simao/miniconda3/envs/thesis/lib/python3.10/site-packages/sklearn/metrics/_ranking.py:864: RuntimeWarning: invalid value encountered in true_divide\n",
      "  recall = tps / tps[-1]\n",
      "/home/debian/Simao/miniconda3/envs/thesis/lib/python3.10/site-packages/sklearn/metrics/_ranking.py:864: RuntimeWarning: invalid value encountered in true_divide\n",
      "  recall = tps / tps[-1]\n",
      "/home/debian/Simao/miniconda3/envs/thesis/lib/python3.10/site-packages/sklearn/metrics/_ranking.py:864: RuntimeWarning: invalid value encountered in true_divide\n",
      "  recall = tps / tps[-1]\n",
      "/home/debian/Simao/miniconda3/envs/thesis/lib/python3.10/site-packages/sklearn/metrics/_ranking.py:864: RuntimeWarning: invalid value encountered in true_divide\n",
      "  recall = tps / tps[-1]\n",
      "/home/debian/Simao/miniconda3/envs/thesis/lib/python3.10/site-packages/sklearn/metrics/_ranking.py:864: RuntimeWarning: invalid value encountered in true_divide\n",
      "  recall = tps / tps[-1]\n",
      "/home/debian/Simao/miniconda3/envs/thesis/lib/python3.10/site-packages/sklearn/metrics/_ranking.py:864: RuntimeWarning: invalid value encountered in true_divide\n",
      "  recall = tps / tps[-1]\n",
      "/home/debian/Simao/miniconda3/envs/thesis/lib/python3.10/site-packages/sklearn/metrics/_ranking.py:864: RuntimeWarning: invalid value encountered in true_divide\n",
      "  recall = tps / tps[-1]\n",
      "/home/debian/Simao/miniconda3/envs/thesis/lib/python3.10/site-packages/sklearn/metrics/_ranking.py:864: RuntimeWarning: invalid value encountered in true_divide\n",
      "  recall = tps / tps[-1]\n",
      "/home/debian/Simao/miniconda3/envs/thesis/lib/python3.10/site-packages/sklearn/metrics/_ranking.py:864: RuntimeWarning: invalid value encountered in true_divide\n",
      "  recall = tps / tps[-1]\n",
      "/home/debian/Simao/miniconda3/envs/thesis/lib/python3.10/site-packages/sklearn/metrics/_ranking.py:864: RuntimeWarning: invalid value encountered in true_divide\n",
      "  recall = tps / tps[-1]\n",
      "/home/debian/Simao/miniconda3/envs/thesis/lib/python3.10/site-packages/sklearn/metrics/_ranking.py:864: RuntimeWarning: invalid value encountered in true_divide\n",
      "  recall = tps / tps[-1]\n",
      "/home/debian/Simao/miniconda3/envs/thesis/lib/python3.10/site-packages/sklearn/metrics/_ranking.py:864: RuntimeWarning: invalid value encountered in true_divide\n",
      "  recall = tps / tps[-1]\n",
      "/home/debian/Simao/miniconda3/envs/thesis/lib/python3.10/site-packages/sklearn/metrics/_ranking.py:864: RuntimeWarning: invalid value encountered in true_divide\n",
      "  recall = tps / tps[-1]\n",
      "/home/debian/Simao/miniconda3/envs/thesis/lib/python3.10/site-packages/sklearn/metrics/_ranking.py:864: RuntimeWarning: invalid value encountered in true_divide\n",
      "  recall = tps / tps[-1]\n",
      "/home/debian/Simao/miniconda3/envs/thesis/lib/python3.10/site-packages/sklearn/metrics/_ranking.py:864: RuntimeWarning: invalid value encountered in true_divide\n",
      "  recall = tps / tps[-1]\n",
      "/home/debian/Simao/miniconda3/envs/thesis/lib/python3.10/site-packages/sklearn/metrics/_ranking.py:864: RuntimeWarning: invalid value encountered in true_divide\n",
      "  recall = tps / tps[-1]\n",
      "/home/debian/Simao/miniconda3/envs/thesis/lib/python3.10/site-packages/sklearn/metrics/_ranking.py:864: RuntimeWarning: invalid value encountered in true_divide\n",
      "  recall = tps / tps[-1]\n",
      "/home/debian/Simao/miniconda3/envs/thesis/lib/python3.10/site-packages/sklearn/metrics/_ranking.py:864: RuntimeWarning: invalid value encountered in true_divide\n",
      "  recall = tps / tps[-1]\n",
      "/home/debian/Simao/miniconda3/envs/thesis/lib/python3.10/site-packages/sklearn/metrics/_ranking.py:864: RuntimeWarning: invalid value encountered in true_divide\n",
      "  recall = tps / tps[-1]\n",
      "/home/debian/Simao/miniconda3/envs/thesis/lib/python3.10/site-packages/sklearn/metrics/_ranking.py:864: RuntimeWarning: invalid value encountered in true_divide\n",
      "  recall = tps / tps[-1]\n",
      "/home/debian/Simao/miniconda3/envs/thesis/lib/python3.10/site-packages/sklearn/metrics/_ranking.py:864: RuntimeWarning: invalid value encountered in true_divide\n",
      "  recall = tps / tps[-1]\n",
      "/home/debian/Simao/miniconda3/envs/thesis/lib/python3.10/site-packages/sklearn/metrics/_ranking.py:864: RuntimeWarning: invalid value encountered in true_divide\n",
      "  recall = tps / tps[-1]\n",
      "/home/debian/Simao/miniconda3/envs/thesis/lib/python3.10/site-packages/sklearn/metrics/_ranking.py:864: RuntimeWarning: invalid value encountered in true_divide\n",
      "  recall = tps / tps[-1]\n",
      "/home/debian/Simao/miniconda3/envs/thesis/lib/python3.10/site-packages/sklearn/metrics/_ranking.py:864: RuntimeWarning: invalid value encountered in true_divide\n",
      "  recall = tps / tps[-1]\n",
      "/home/debian/Simao/miniconda3/envs/thesis/lib/python3.10/site-packages/sklearn/metrics/_ranking.py:864: RuntimeWarning: invalid value encountered in true_divide\n",
      "  recall = tps / tps[-1]\n",
      "/home/debian/Simao/miniconda3/envs/thesis/lib/python3.10/site-packages/sklearn/metrics/_ranking.py:864: RuntimeWarning: invalid value encountered in true_divide\n",
      "  recall = tps / tps[-1]\n",
      "/home/debian/Simao/miniconda3/envs/thesis/lib/python3.10/site-packages/sklearn/metrics/_ranking.py:864: RuntimeWarning: invalid value encountered in true_divide\n",
      "  recall = tps / tps[-1]\n",
      "/home/debian/Simao/miniconda3/envs/thesis/lib/python3.10/site-packages/sklearn/metrics/_ranking.py:864: RuntimeWarning: invalid value encountered in true_divide\n",
      "  recall = tps / tps[-1]\n",
      "/home/debian/Simao/miniconda3/envs/thesis/lib/python3.10/site-packages/sklearn/metrics/_ranking.py:864: RuntimeWarning: invalid value encountered in true_divide\n",
      "  recall = tps / tps[-1]\n",
      "/home/debian/Simao/miniconda3/envs/thesis/lib/python3.10/site-packages/sklearn/metrics/_ranking.py:864: RuntimeWarning: invalid value encountered in true_divide\n",
      "  recall = tps / tps[-1]\n",
      "/home/debian/Simao/miniconda3/envs/thesis/lib/python3.10/site-packages/sklearn/metrics/_ranking.py:864: RuntimeWarning: invalid value encountered in true_divide\n",
      "  recall = tps / tps[-1]\n",
      "/home/debian/Simao/miniconda3/envs/thesis/lib/python3.10/site-packages/sklearn/metrics/_ranking.py:864: RuntimeWarning: invalid value encountered in true_divide\n",
      "  recall = tps / tps[-1]\n",
      "/home/debian/Simao/miniconda3/envs/thesis/lib/python3.10/site-packages/sklearn/metrics/_ranking.py:864: RuntimeWarning: invalid value encountered in true_divide\n",
      "  recall = tps / tps[-1]\n",
      "/home/debian/Simao/miniconda3/envs/thesis/lib/python3.10/site-packages/sklearn/metrics/_ranking.py:864: RuntimeWarning: invalid value encountered in true_divide\n",
      "  recall = tps / tps[-1]\n",
      "/home/debian/Simao/miniconda3/envs/thesis/lib/python3.10/site-packages/sklearn/metrics/_ranking.py:864: RuntimeWarning: invalid value encountered in true_divide\n",
      "  recall = tps / tps[-1]\n",
      "/home/debian/Simao/miniconda3/envs/thesis/lib/python3.10/site-packages/sklearn/metrics/_ranking.py:864: RuntimeWarning: invalid value encountered in true_divide\n",
      "  recall = tps / tps[-1]\n",
      "/home/debian/Simao/miniconda3/envs/thesis/lib/python3.10/site-packages/sklearn/metrics/_ranking.py:864: RuntimeWarning: invalid value encountered in true_divide\n",
      "  recall = tps / tps[-1]\n",
      "/home/debian/Simao/miniconda3/envs/thesis/lib/python3.10/site-packages/sklearn/metrics/_ranking.py:864: RuntimeWarning: invalid value encountered in true_divide\n",
      "  recall = tps / tps[-1]\n",
      "/home/debian/Simao/miniconda3/envs/thesis/lib/python3.10/site-packages/sklearn/metrics/_ranking.py:864: RuntimeWarning: invalid value encountered in true_divide\n",
      "  recall = tps / tps[-1]\n",
      "/home/debian/Simao/miniconda3/envs/thesis/lib/python3.10/site-packages/sklearn/metrics/_ranking.py:864: RuntimeWarning: invalid value encountered in true_divide\n",
      "  recall = tps / tps[-1]\n",
      "/home/debian/Simao/miniconda3/envs/thesis/lib/python3.10/site-packages/sklearn/metrics/_ranking.py:864: RuntimeWarning: invalid value encountered in true_divide\n",
      "  recall = tps / tps[-1]\n",
      "/home/debian/Simao/miniconda3/envs/thesis/lib/python3.10/site-packages/sklearn/metrics/_ranking.py:864: RuntimeWarning: invalid value encountered in true_divide\n",
      "  recall = tps / tps[-1]\n",
      "/home/debian/Simao/miniconda3/envs/thesis/lib/python3.10/site-packages/sklearn/metrics/_ranking.py:864: RuntimeWarning: invalid value encountered in true_divide\n",
      "  recall = tps / tps[-1]\n",
      "/home/debian/Simao/miniconda3/envs/thesis/lib/python3.10/site-packages/sklearn/metrics/_ranking.py:864: RuntimeWarning: invalid value encountered in true_divide\n",
      "  recall = tps / tps[-1]\n",
      "/home/debian/Simao/miniconda3/envs/thesis/lib/python3.10/site-packages/sklearn/metrics/_ranking.py:864: RuntimeWarning: invalid value encountered in true_divide\n",
      "  recall = tps / tps[-1]\n",
      "/home/debian/Simao/miniconda3/envs/thesis/lib/python3.10/site-packages/sklearn/metrics/_ranking.py:864: RuntimeWarning: invalid value encountered in true_divide\n",
      "  recall = tps / tps[-1]\n",
      "/home/debian/Simao/miniconda3/envs/thesis/lib/python3.10/site-packages/sklearn/metrics/_ranking.py:864: RuntimeWarning: invalid value encountered in true_divide\n",
      "  recall = tps / tps[-1]\n",
      "/home/debian/Simao/miniconda3/envs/thesis/lib/python3.10/site-packages/sklearn/metrics/_ranking.py:864: RuntimeWarning: invalid value encountered in true_divide\n",
      "  recall = tps / tps[-1]\n",
      "/home/debian/Simao/miniconda3/envs/thesis/lib/python3.10/site-packages/sklearn/metrics/_ranking.py:864: RuntimeWarning: invalid value encountered in true_divide\n",
      "  recall = tps / tps[-1]\n",
      "/home/debian/Simao/miniconda3/envs/thesis/lib/python3.10/site-packages/sklearn/metrics/_ranking.py:864: RuntimeWarning: invalid value encountered in true_divide\n",
      "  recall = tps / tps[-1]\n",
      "/home/debian/Simao/miniconda3/envs/thesis/lib/python3.10/site-packages/sklearn/metrics/_ranking.py:864: RuntimeWarning: invalid value encountered in true_divide\n",
      "  recall = tps / tps[-1]\n",
      "/home/debian/Simao/miniconda3/envs/thesis/lib/python3.10/site-packages/sklearn/metrics/_ranking.py:864: RuntimeWarning: invalid value encountered in true_divide\n",
      "  recall = tps / tps[-1]\n",
      "/home/debian/Simao/miniconda3/envs/thesis/lib/python3.10/site-packages/sklearn/metrics/_ranking.py:864: RuntimeWarning: invalid value encountered in true_divide\n",
      "  recall = tps / tps[-1]\n",
      "/home/debian/Simao/miniconda3/envs/thesis/lib/python3.10/site-packages/sklearn/metrics/_ranking.py:864: RuntimeWarning: invalid value encountered in true_divide\n",
      "  recall = tps / tps[-1]\n",
      "/home/debian/Simao/miniconda3/envs/thesis/lib/python3.10/site-packages/sklearn/metrics/_ranking.py:864: RuntimeWarning: invalid value encountered in true_divide\n",
      "  recall = tps / tps[-1]\n",
      "/home/debian/Simao/miniconda3/envs/thesis/lib/python3.10/site-packages/sklearn/metrics/_ranking.py:864: RuntimeWarning: invalid value encountered in true_divide\n",
      "  recall = tps / tps[-1]\n",
      "/home/debian/Simao/miniconda3/envs/thesis/lib/python3.10/site-packages/sklearn/metrics/_ranking.py:864: RuntimeWarning: invalid value encountered in true_divide\n",
      "  recall = tps / tps[-1]\n",
      "/home/debian/Simao/miniconda3/envs/thesis/lib/python3.10/site-packages/sklearn/metrics/_ranking.py:864: RuntimeWarning: invalid value encountered in true_divide\n",
      "  recall = tps / tps[-1]\n",
      "/home/debian/Simao/miniconda3/envs/thesis/lib/python3.10/site-packages/sklearn/metrics/_ranking.py:864: RuntimeWarning: invalid value encountered in true_divide\n",
      "  recall = tps / tps[-1]\n",
      "/home/debian/Simao/miniconda3/envs/thesis/lib/python3.10/site-packages/sklearn/metrics/_ranking.py:864: RuntimeWarning: invalid value encountered in true_divide\n",
      "  recall = tps / tps[-1]\n",
      "/home/debian/Simao/miniconda3/envs/thesis/lib/python3.10/site-packages/sklearn/metrics/_ranking.py:864: RuntimeWarning: invalid value encountered in true_divide\n",
      "  recall = tps / tps[-1]\n",
      "/home/debian/Simao/miniconda3/envs/thesis/lib/python3.10/site-packages/sklearn/metrics/_ranking.py:864: RuntimeWarning: invalid value encountered in true_divide\n",
      "  recall = tps / tps[-1]\n",
      "/home/debian/Simao/miniconda3/envs/thesis/lib/python3.10/site-packages/sklearn/metrics/_ranking.py:864: RuntimeWarning: invalid value encountered in true_divide\n",
      "  recall = tps / tps[-1]\n",
      "/home/debian/Simao/miniconda3/envs/thesis/lib/python3.10/site-packages/sklearn/metrics/_ranking.py:864: RuntimeWarning: invalid value encountered in true_divide\n",
      "  recall = tps / tps[-1]\n",
      "/home/debian/Simao/miniconda3/envs/thesis/lib/python3.10/site-packages/sklearn/metrics/_ranking.py:864: RuntimeWarning: invalid value encountered in true_divide\n",
      "  recall = tps / tps[-1]\n",
      "/home/debian/Simao/miniconda3/envs/thesis/lib/python3.10/site-packages/sklearn/metrics/_ranking.py:864: RuntimeWarning: invalid value encountered in true_divide\n",
      "  recall = tps / tps[-1]\n",
      "/home/debian/Simao/miniconda3/envs/thesis/lib/python3.10/site-packages/sklearn/metrics/_ranking.py:864: RuntimeWarning: invalid value encountered in true_divide\n",
      "  recall = tps / tps[-1]\n",
      "/home/debian/Simao/miniconda3/envs/thesis/lib/python3.10/site-packages/sklearn/metrics/_ranking.py:864: RuntimeWarning: invalid value encountered in true_divide\n",
      "  recall = tps / tps[-1]\n",
      "/home/debian/Simao/miniconda3/envs/thesis/lib/python3.10/site-packages/sklearn/metrics/_ranking.py:864: RuntimeWarning: invalid value encountered in true_divide\n",
      "  recall = tps / tps[-1]\n",
      "/home/debian/Simao/miniconda3/envs/thesis/lib/python3.10/site-packages/sklearn/metrics/_ranking.py:864: RuntimeWarning: invalid value encountered in true_divide\n",
      "  recall = tps / tps[-1]\n",
      "/home/debian/Simao/miniconda3/envs/thesis/lib/python3.10/site-packages/sklearn/metrics/_ranking.py:864: RuntimeWarning: invalid value encountered in true_divide\n",
      "  recall = tps / tps[-1]\n",
      "/home/debian/Simao/miniconda3/envs/thesis/lib/python3.10/site-packages/sklearn/metrics/_ranking.py:864: RuntimeWarning: invalid value encountered in true_divide\n",
      "  recall = tps / tps[-1]\n",
      "/home/debian/Simao/miniconda3/envs/thesis/lib/python3.10/site-packages/sklearn/metrics/_ranking.py:864: RuntimeWarning: invalid value encountered in true_divide\n",
      "  recall = tps / tps[-1]\n",
      "/home/debian/Simao/miniconda3/envs/thesis/lib/python3.10/site-packages/sklearn/metrics/_ranking.py:864: RuntimeWarning: invalid value encountered in true_divide\n",
      "  recall = tps / tps[-1]\n",
      "/home/debian/Simao/miniconda3/envs/thesis/lib/python3.10/site-packages/sklearn/metrics/_ranking.py:864: RuntimeWarning: invalid value encountered in true_divide\n",
      "  recall = tps / tps[-1]\n",
      "/home/debian/Simao/miniconda3/envs/thesis/lib/python3.10/site-packages/sklearn/metrics/_ranking.py:864: RuntimeWarning: invalid value encountered in true_divide\n",
      "  recall = tps / tps[-1]\n",
      "/home/debian/Simao/miniconda3/envs/thesis/lib/python3.10/site-packages/sklearn/metrics/_ranking.py:864: RuntimeWarning: invalid value encountered in true_divide\n",
      "  recall = tps / tps[-1]\n",
      "/home/debian/Simao/miniconda3/envs/thesis/lib/python3.10/site-packages/sklearn/metrics/_ranking.py:864: RuntimeWarning: invalid value encountered in true_divide\n",
      "  recall = tps / tps[-1]\n",
      "/home/debian/Simao/miniconda3/envs/thesis/lib/python3.10/site-packages/sklearn/metrics/_ranking.py:864: RuntimeWarning: invalid value encountered in true_divide\n",
      "  recall = tps / tps[-1]\n",
      "/home/debian/Simao/miniconda3/envs/thesis/lib/python3.10/site-packages/sklearn/metrics/_ranking.py:864: RuntimeWarning: invalid value encountered in true_divide\n",
      "  recall = tps / tps[-1]\n",
      "/home/debian/Simao/miniconda3/envs/thesis/lib/python3.10/site-packages/sklearn/metrics/_ranking.py:864: RuntimeWarning: invalid value encountered in true_divide\n",
      "  recall = tps / tps[-1]\n",
      "/home/debian/Simao/miniconda3/envs/thesis/lib/python3.10/site-packages/sklearn/metrics/_ranking.py:864: RuntimeWarning: invalid value encountered in true_divide\n",
      "  recall = tps / tps[-1]\n",
      "/home/debian/Simao/miniconda3/envs/thesis/lib/python3.10/site-packages/sklearn/metrics/_ranking.py:864: RuntimeWarning: invalid value encountered in true_divide\n",
      "  recall = tps / tps[-1]\n",
      "/home/debian/Simao/miniconda3/envs/thesis/lib/python3.10/site-packages/sklearn/metrics/_ranking.py:864: RuntimeWarning: invalid value encountered in true_divide\n",
      "  recall = tps / tps[-1]\n",
      "/home/debian/Simao/miniconda3/envs/thesis/lib/python3.10/site-packages/sklearn/metrics/_ranking.py:864: RuntimeWarning: invalid value encountered in true_divide\n",
      "  recall = tps / tps[-1]\n",
      "/home/debian/Simao/miniconda3/envs/thesis/lib/python3.10/site-packages/sklearn/metrics/_ranking.py:864: RuntimeWarning: invalid value encountered in true_divide\n",
      "  recall = tps / tps[-1]\n",
      "/home/debian/Simao/miniconda3/envs/thesis/lib/python3.10/site-packages/sklearn/metrics/_ranking.py:864: RuntimeWarning: invalid value encountered in true_divide\n",
      "  recall = tps / tps[-1]\n",
      "/home/debian/Simao/miniconda3/envs/thesis/lib/python3.10/site-packages/sklearn/metrics/_ranking.py:864: RuntimeWarning: invalid value encountered in true_divide\n",
      "  recall = tps / tps[-1]\n",
      "/home/debian/Simao/miniconda3/envs/thesis/lib/python3.10/site-packages/sklearn/metrics/_ranking.py:864: RuntimeWarning: invalid value encountered in true_divide\n",
      "  recall = tps / tps[-1]\n",
      "/home/debian/Simao/miniconda3/envs/thesis/lib/python3.10/site-packages/sklearn/metrics/_ranking.py:864: RuntimeWarning: invalid value encountered in true_divide\n",
      "  recall = tps / tps[-1]\n",
      "/home/debian/Simao/miniconda3/envs/thesis/lib/python3.10/site-packages/sklearn/metrics/_ranking.py:864: RuntimeWarning: invalid value encountered in true_divide\n",
      "  recall = tps / tps[-1]\n",
      "/home/debian/Simao/miniconda3/envs/thesis/lib/python3.10/site-packages/sklearn/metrics/_ranking.py:864: RuntimeWarning: invalid value encountered in true_divide\n",
      "  recall = tps / tps[-1]\n",
      "/home/debian/Simao/miniconda3/envs/thesis/lib/python3.10/site-packages/sklearn/metrics/_ranking.py:864: RuntimeWarning: invalid value encountered in true_divide\n",
      "  recall = tps / tps[-1]\n",
      "/home/debian/Simao/miniconda3/envs/thesis/lib/python3.10/site-packages/sklearn/metrics/_ranking.py:864: RuntimeWarning: invalid value encountered in true_divide\n",
      "  recall = tps / tps[-1]\n",
      "/home/debian/Simao/miniconda3/envs/thesis/lib/python3.10/site-packages/sklearn/metrics/_ranking.py:864: RuntimeWarning: invalid value encountered in true_divide\n",
      "  recall = tps / tps[-1]\n",
      "/home/debian/Simao/miniconda3/envs/thesis/lib/python3.10/site-packages/sklearn/metrics/_ranking.py:864: RuntimeWarning: invalid value encountered in true_divide\n",
      "  recall = tps / tps[-1]\n",
      "/home/debian/Simao/miniconda3/envs/thesis/lib/python3.10/site-packages/sklearn/metrics/_ranking.py:864: RuntimeWarning: invalid value encountered in true_divide\n",
      "  recall = tps / tps[-1]\n",
      "/home/debian/Simao/miniconda3/envs/thesis/lib/python3.10/site-packages/sklearn/metrics/_ranking.py:864: RuntimeWarning: invalid value encountered in true_divide\n",
      "  recall = tps / tps[-1]\n",
      "/home/debian/Simao/miniconda3/envs/thesis/lib/python3.10/site-packages/sklearn/metrics/_ranking.py:864: RuntimeWarning: invalid value encountered in true_divide\n",
      "  recall = tps / tps[-1]\n",
      "/home/debian/Simao/miniconda3/envs/thesis/lib/python3.10/site-packages/sklearn/metrics/_ranking.py:864: RuntimeWarning: invalid value encountered in true_divide\n",
      "  recall = tps / tps[-1]\n",
      "/home/debian/Simao/miniconda3/envs/thesis/lib/python3.10/site-packages/sklearn/metrics/_ranking.py:864: RuntimeWarning: invalid value encountered in true_divide\n",
      "  recall = tps / tps[-1]\n",
      "/home/debian/Simao/miniconda3/envs/thesis/lib/python3.10/site-packages/sklearn/metrics/_ranking.py:864: RuntimeWarning: invalid value encountered in true_divide\n",
      "  recall = tps / tps[-1]\n",
      "/home/debian/Simao/miniconda3/envs/thesis/lib/python3.10/site-packages/sklearn/metrics/_ranking.py:864: RuntimeWarning: invalid value encountered in true_divide\n",
      "  recall = tps / tps[-1]\n",
      "/home/debian/Simao/miniconda3/envs/thesis/lib/python3.10/site-packages/sklearn/metrics/_ranking.py:864: RuntimeWarning: invalid value encountered in true_divide\n",
      "  recall = tps / tps[-1]\n",
      "/home/debian/Simao/miniconda3/envs/thesis/lib/python3.10/site-packages/sklearn/metrics/_ranking.py:864: RuntimeWarning: invalid value encountered in true_divide\n",
      "  recall = tps / tps[-1]\n",
      "/home/debian/Simao/miniconda3/envs/thesis/lib/python3.10/site-packages/sklearn/metrics/_ranking.py:864: RuntimeWarning: invalid value encountered in true_divide\n",
      "  recall = tps / tps[-1]\n",
      "/home/debian/Simao/miniconda3/envs/thesis/lib/python3.10/site-packages/sklearn/metrics/_ranking.py:864: RuntimeWarning: invalid value encountered in true_divide\n",
      "  recall = tps / tps[-1]\n",
      "/home/debian/Simao/miniconda3/envs/thesis/lib/python3.10/site-packages/sklearn/metrics/_ranking.py:864: RuntimeWarning: invalid value encountered in true_divide\n",
      "  recall = tps / tps[-1]\n",
      "/home/debian/Simao/miniconda3/envs/thesis/lib/python3.10/site-packages/sklearn/metrics/_ranking.py:864: RuntimeWarning: invalid value encountered in true_divide\n",
      "  recall = tps / tps[-1]\n",
      "/home/debian/Simao/miniconda3/envs/thesis/lib/python3.10/site-packages/sklearn/metrics/_ranking.py:864: RuntimeWarning: invalid value encountered in true_divide\n",
      "  recall = tps / tps[-1]\n",
      "/home/debian/Simao/miniconda3/envs/thesis/lib/python3.10/site-packages/sklearn/metrics/_ranking.py:864: RuntimeWarning: invalid value encountered in true_divide\n",
      "  recall = tps / tps[-1]\n",
      "/home/debian/Simao/miniconda3/envs/thesis/lib/python3.10/site-packages/sklearn/metrics/_ranking.py:864: RuntimeWarning: invalid value encountered in true_divide\n",
      "  recall = tps / tps[-1]\n",
      "/home/debian/Simao/miniconda3/envs/thesis/lib/python3.10/site-packages/sklearn/metrics/_ranking.py:864: RuntimeWarning: invalid value encountered in true_divide\n",
      "  recall = tps / tps[-1]\n",
      "/home/debian/Simao/miniconda3/envs/thesis/lib/python3.10/site-packages/sklearn/metrics/_ranking.py:864: RuntimeWarning: invalid value encountered in true_divide\n",
      "  recall = tps / tps[-1]\n",
      "/home/debian/Simao/miniconda3/envs/thesis/lib/python3.10/site-packages/sklearn/metrics/_ranking.py:864: RuntimeWarning: invalid value encountered in true_divide\n",
      "  recall = tps / tps[-1]\n",
      "/home/debian/Simao/miniconda3/envs/thesis/lib/python3.10/site-packages/sklearn/metrics/_ranking.py:864: RuntimeWarning: invalid value encountered in true_divide\n",
      "  recall = tps / tps[-1]\n",
      "/home/debian/Simao/miniconda3/envs/thesis/lib/python3.10/site-packages/sklearn/metrics/_ranking.py:864: RuntimeWarning: invalid value encountered in true_divide\n",
      "  recall = tps / tps[-1]\n",
      "/home/debian/Simao/miniconda3/envs/thesis/lib/python3.10/site-packages/sklearn/metrics/_ranking.py:864: RuntimeWarning: invalid value encountered in true_divide\n",
      "  recall = tps / tps[-1]\n",
      "/home/debian/Simao/miniconda3/envs/thesis/lib/python3.10/site-packages/sklearn/metrics/_ranking.py:864: RuntimeWarning: invalid value encountered in true_divide\n",
      "  recall = tps / tps[-1]\n",
      "/home/debian/Simao/miniconda3/envs/thesis/lib/python3.10/site-packages/sklearn/metrics/_ranking.py:864: RuntimeWarning: invalid value encountered in true_divide\n",
      "  recall = tps / tps[-1]\n",
      "/home/debian/Simao/miniconda3/envs/thesis/lib/python3.10/site-packages/sklearn/metrics/_ranking.py:864: RuntimeWarning: invalid value encountered in true_divide\n",
      "  recall = tps / tps[-1]\n",
      "/home/debian/Simao/miniconda3/envs/thesis/lib/python3.10/site-packages/sklearn/metrics/_ranking.py:864: RuntimeWarning: invalid value encountered in true_divide\n",
      "  recall = tps / tps[-1]\n",
      "/home/debian/Simao/miniconda3/envs/thesis/lib/python3.10/site-packages/sklearn/metrics/_ranking.py:864: RuntimeWarning: invalid value encountered in true_divide\n",
      "  recall = tps / tps[-1]\n",
      "/home/debian/Simao/miniconda3/envs/thesis/lib/python3.10/site-packages/sklearn/metrics/_ranking.py:864: RuntimeWarning: invalid value encountered in true_divide\n",
      "  recall = tps / tps[-1]\n",
      "/home/debian/Simao/miniconda3/envs/thesis/lib/python3.10/site-packages/sklearn/metrics/_ranking.py:864: RuntimeWarning: invalid value encountered in true_divide\n",
      "  recall = tps / tps[-1]\n",
      "/home/debian/Simao/miniconda3/envs/thesis/lib/python3.10/site-packages/sklearn/metrics/_ranking.py:864: RuntimeWarning: invalid value encountered in true_divide\n",
      "  recall = tps / tps[-1]\n",
      "/home/debian/Simao/miniconda3/envs/thesis/lib/python3.10/site-packages/sklearn/metrics/_ranking.py:864: RuntimeWarning: invalid value encountered in true_divide\n",
      "  recall = tps / tps[-1]\n",
      "/home/debian/Simao/miniconda3/envs/thesis/lib/python3.10/site-packages/sklearn/metrics/_ranking.py:864: RuntimeWarning: invalid value encountered in true_divide\n",
      "  recall = tps / tps[-1]\n",
      "/home/debian/Simao/miniconda3/envs/thesis/lib/python3.10/site-packages/sklearn/metrics/_ranking.py:864: RuntimeWarning: invalid value encountered in true_divide\n",
      "  recall = tps / tps[-1]\n",
      "/home/debian/Simao/miniconda3/envs/thesis/lib/python3.10/site-packages/sklearn/metrics/_ranking.py:864: RuntimeWarning: invalid value encountered in true_divide\n",
      "  recall = tps / tps[-1]\n",
      "/home/debian/Simao/miniconda3/envs/thesis/lib/python3.10/site-packages/sklearn/metrics/_ranking.py:864: RuntimeWarning: invalid value encountered in true_divide\n",
      "  recall = tps / tps[-1]\n",
      "/home/debian/Simao/miniconda3/envs/thesis/lib/python3.10/site-packages/sklearn/metrics/_ranking.py:864: RuntimeWarning: invalid value encountered in true_divide\n",
      "  recall = tps / tps[-1]\n",
      "/home/debian/Simao/miniconda3/envs/thesis/lib/python3.10/site-packages/sklearn/metrics/_ranking.py:864: RuntimeWarning: invalid value encountered in true_divide\n",
      "  recall = tps / tps[-1]\n",
      "/home/debian/Simao/miniconda3/envs/thesis/lib/python3.10/site-packages/sklearn/metrics/_ranking.py:864: RuntimeWarning: invalid value encountered in true_divide\n",
      "  recall = tps / tps[-1]\n",
      "/home/debian/Simao/miniconda3/envs/thesis/lib/python3.10/site-packages/sklearn/metrics/_ranking.py:864: RuntimeWarning: invalid value encountered in true_divide\n",
      "  recall = tps / tps[-1]\n",
      "/home/debian/Simao/miniconda3/envs/thesis/lib/python3.10/site-packages/sklearn/metrics/_ranking.py:864: RuntimeWarning: invalid value encountered in true_divide\n",
      "  recall = tps / tps[-1]\n",
      "/home/debian/Simao/miniconda3/envs/thesis/lib/python3.10/site-packages/sklearn/metrics/_ranking.py:864: RuntimeWarning: invalid value encountered in true_divide\n",
      "  recall = tps / tps[-1]\n",
      "/home/debian/Simao/miniconda3/envs/thesis/lib/python3.10/site-packages/sklearn/metrics/_ranking.py:864: RuntimeWarning: invalid value encountered in true_divide\n",
      "  recall = tps / tps[-1]\n",
      "/home/debian/Simao/miniconda3/envs/thesis/lib/python3.10/site-packages/sklearn/metrics/_ranking.py:864: RuntimeWarning: invalid value encountered in true_divide\n",
      "  recall = tps / tps[-1]\n",
      "/home/debian/Simao/miniconda3/envs/thesis/lib/python3.10/site-packages/sklearn/metrics/_ranking.py:864: RuntimeWarning: invalid value encountered in true_divide\n",
      "  recall = tps / tps[-1]\n",
      "/home/debian/Simao/miniconda3/envs/thesis/lib/python3.10/site-packages/sklearn/metrics/_ranking.py:864: RuntimeWarning: invalid value encountered in true_divide\n",
      "  recall = tps / tps[-1]\n",
      "/home/debian/Simao/miniconda3/envs/thesis/lib/python3.10/site-packages/sklearn/metrics/_ranking.py:864: RuntimeWarning: invalid value encountered in true_divide\n",
      "  recall = tps / tps[-1]\n",
      "/home/debian/Simao/miniconda3/envs/thesis/lib/python3.10/site-packages/sklearn/metrics/_ranking.py:864: RuntimeWarning: invalid value encountered in true_divide\n",
      "  recall = tps / tps[-1]\n",
      "/home/debian/Simao/miniconda3/envs/thesis/lib/python3.10/site-packages/sklearn/metrics/_ranking.py:864: RuntimeWarning: invalid value encountered in true_divide\n",
      "  recall = tps / tps[-1]\n",
      "/home/debian/Simao/miniconda3/envs/thesis/lib/python3.10/site-packages/sklearn/metrics/_ranking.py:864: RuntimeWarning: invalid value encountered in true_divide\n",
      "  recall = tps / tps[-1]\n",
      "/home/debian/Simao/miniconda3/envs/thesis/lib/python3.10/site-packages/sklearn/metrics/_ranking.py:864: RuntimeWarning: invalid value encountered in true_divide\n",
      "  recall = tps / tps[-1]\n",
      "/home/debian/Simao/miniconda3/envs/thesis/lib/python3.10/site-packages/sklearn/metrics/_ranking.py:864: RuntimeWarning: invalid value encountered in true_divide\n",
      "  recall = tps / tps[-1]\n",
      "/home/debian/Simao/miniconda3/envs/thesis/lib/python3.10/site-packages/sklearn/metrics/_ranking.py:864: RuntimeWarning: invalid value encountered in true_divide\n",
      "  recall = tps / tps[-1]\n",
      "/home/debian/Simao/miniconda3/envs/thesis/lib/python3.10/site-packages/sklearn/metrics/_ranking.py:864: RuntimeWarning: invalid value encountered in true_divide\n",
      "  recall = tps / tps[-1]\n",
      "/home/debian/Simao/miniconda3/envs/thesis/lib/python3.10/site-packages/sklearn/metrics/_ranking.py:864: RuntimeWarning: invalid value encountered in true_divide\n",
      "  recall = tps / tps[-1]\n",
      "/home/debian/Simao/miniconda3/envs/thesis/lib/python3.10/site-packages/sklearn/metrics/_ranking.py:864: RuntimeWarning: invalid value encountered in true_divide\n",
      "  recall = tps / tps[-1]\n",
      "/home/debian/Simao/miniconda3/envs/thesis/lib/python3.10/site-packages/sklearn/metrics/_ranking.py:864: RuntimeWarning: invalid value encountered in true_divide\n",
      "  recall = tps / tps[-1]\n",
      "/home/debian/Simao/miniconda3/envs/thesis/lib/python3.10/site-packages/sklearn/metrics/_ranking.py:864: RuntimeWarning: invalid value encountered in true_divide\n",
      "  recall = tps / tps[-1]\n",
      "/home/debian/Simao/miniconda3/envs/thesis/lib/python3.10/site-packages/sklearn/metrics/_ranking.py:864: RuntimeWarning: invalid value encountered in true_divide\n",
      "  recall = tps / tps[-1]\n",
      "/home/debian/Simao/miniconda3/envs/thesis/lib/python3.10/site-packages/sklearn/metrics/_ranking.py:864: RuntimeWarning: invalid value encountered in true_divide\n",
      "  recall = tps / tps[-1]\n",
      "/home/debian/Simao/miniconda3/envs/thesis/lib/python3.10/site-packages/sklearn/metrics/_ranking.py:864: RuntimeWarning: invalid value encountered in true_divide\n",
      "  recall = tps / tps[-1]\n",
      "/home/debian/Simao/miniconda3/envs/thesis/lib/python3.10/site-packages/sklearn/metrics/_ranking.py:864: RuntimeWarning: invalid value encountered in true_divide\n",
      "  recall = tps / tps[-1]\n",
      "/home/debian/Simao/miniconda3/envs/thesis/lib/python3.10/site-packages/sklearn/metrics/_ranking.py:864: RuntimeWarning: invalid value encountered in true_divide\n",
      "  recall = tps / tps[-1]\n",
      "/home/debian/Simao/miniconda3/envs/thesis/lib/python3.10/site-packages/sklearn/metrics/_ranking.py:864: RuntimeWarning: invalid value encountered in true_divide\n",
      "  recall = tps / tps[-1]\n",
      "/home/debian/Simao/miniconda3/envs/thesis/lib/python3.10/site-packages/sklearn/metrics/_ranking.py:864: RuntimeWarning: invalid value encountered in true_divide\n",
      "  recall = tps / tps[-1]\n",
      "/home/debian/Simao/miniconda3/envs/thesis/lib/python3.10/site-packages/sklearn/metrics/_ranking.py:864: RuntimeWarning: invalid value encountered in true_divide\n",
      "  recall = tps / tps[-1]\n",
      "/home/debian/Simao/miniconda3/envs/thesis/lib/python3.10/site-packages/sklearn/metrics/_ranking.py:864: RuntimeWarning: invalid value encountered in true_divide\n",
      "  recall = tps / tps[-1]\n",
      "/home/debian/Simao/miniconda3/envs/thesis/lib/python3.10/site-packages/sklearn/metrics/_ranking.py:864: RuntimeWarning: invalid value encountered in true_divide\n",
      "  recall = tps / tps[-1]\n",
      "/home/debian/Simao/miniconda3/envs/thesis/lib/python3.10/site-packages/sklearn/metrics/_ranking.py:864: RuntimeWarning: invalid value encountered in true_divide\n",
      "  recall = tps / tps[-1]\n",
      "/home/debian/Simao/miniconda3/envs/thesis/lib/python3.10/site-packages/sklearn/metrics/_ranking.py:864: RuntimeWarning: invalid value encountered in true_divide\n",
      "  recall = tps / tps[-1]\n",
      "/home/debian/Simao/miniconda3/envs/thesis/lib/python3.10/site-packages/sklearn/metrics/_ranking.py:864: RuntimeWarning: invalid value encountered in true_divide\n",
      "  recall = tps / tps[-1]\n",
      "/home/debian/Simao/miniconda3/envs/thesis/lib/python3.10/site-packages/sklearn/metrics/_ranking.py:864: RuntimeWarning: invalid value encountered in true_divide\n",
      "  recall = tps / tps[-1]\n",
      "/home/debian/Simao/miniconda3/envs/thesis/lib/python3.10/site-packages/sklearn/metrics/_ranking.py:864: RuntimeWarning: invalid value encountered in true_divide\n",
      "  recall = tps / tps[-1]\n",
      "/home/debian/Simao/miniconda3/envs/thesis/lib/python3.10/site-packages/sklearn/metrics/_ranking.py:864: RuntimeWarning: invalid value encountered in true_divide\n",
      "  recall = tps / tps[-1]\n",
      "/home/debian/Simao/miniconda3/envs/thesis/lib/python3.10/site-packages/sklearn/metrics/_ranking.py:864: RuntimeWarning: invalid value encountered in true_divide\n",
      "  recall = tps / tps[-1]\n",
      "/home/debian/Simao/miniconda3/envs/thesis/lib/python3.10/site-packages/sklearn/metrics/_ranking.py:864: RuntimeWarning: invalid value encountered in true_divide\n",
      "  recall = tps / tps[-1]\n",
      "/home/debian/Simao/miniconda3/envs/thesis/lib/python3.10/site-packages/sklearn/metrics/_ranking.py:864: RuntimeWarning: invalid value encountered in true_divide\n",
      "  recall = tps / tps[-1]\n",
      "/home/debian/Simao/miniconda3/envs/thesis/lib/python3.10/site-packages/sklearn/metrics/_ranking.py:864: RuntimeWarning: invalid value encountered in true_divide\n",
      "  recall = tps / tps[-1]\n",
      "/home/debian/Simao/miniconda3/envs/thesis/lib/python3.10/site-packages/sklearn/metrics/_ranking.py:864: RuntimeWarning: invalid value encountered in true_divide\n",
      "  recall = tps / tps[-1]\n",
      "/home/debian/Simao/miniconda3/envs/thesis/lib/python3.10/site-packages/sklearn/metrics/_ranking.py:864: RuntimeWarning: invalid value encountered in true_divide\n",
      "  recall = tps / tps[-1]\n",
      "/home/debian/Simao/miniconda3/envs/thesis/lib/python3.10/site-packages/sklearn/metrics/_ranking.py:864: RuntimeWarning: invalid value encountered in true_divide\n",
      "  recall = tps / tps[-1]\n",
      "/home/debian/Simao/miniconda3/envs/thesis/lib/python3.10/site-packages/sklearn/metrics/_ranking.py:864: RuntimeWarning: invalid value encountered in true_divide\n",
      "  recall = tps / tps[-1]\n",
      "/home/debian/Simao/miniconda3/envs/thesis/lib/python3.10/site-packages/sklearn/metrics/_ranking.py:864: RuntimeWarning: invalid value encountered in true_divide\n",
      "  recall = tps / tps[-1]\n",
      "/home/debian/Simao/miniconda3/envs/thesis/lib/python3.10/site-packages/sklearn/metrics/_ranking.py:864: RuntimeWarning: invalid value encountered in true_divide\n",
      "  recall = tps / tps[-1]\n",
      "/home/debian/Simao/miniconda3/envs/thesis/lib/python3.10/site-packages/sklearn/metrics/_ranking.py:864: RuntimeWarning: invalid value encountered in true_divide\n",
      "  recall = tps / tps[-1]\n",
      "/home/debian/Simao/miniconda3/envs/thesis/lib/python3.10/site-packages/sklearn/metrics/_ranking.py:864: RuntimeWarning: invalid value encountered in true_divide\n",
      "  recall = tps / tps[-1]\n",
      "/home/debian/Simao/miniconda3/envs/thesis/lib/python3.10/site-packages/sklearn/metrics/_ranking.py:864: RuntimeWarning: invalid value encountered in true_divide\n",
      "  recall = tps / tps[-1]\n",
      "/home/debian/Simao/miniconda3/envs/thesis/lib/python3.10/site-packages/sklearn/metrics/_ranking.py:864: RuntimeWarning: invalid value encountered in true_divide\n",
      "  recall = tps / tps[-1]\n",
      "/home/debian/Simao/miniconda3/envs/thesis/lib/python3.10/site-packages/sklearn/metrics/_ranking.py:864: RuntimeWarning: invalid value encountered in true_divide\n",
      "  recall = tps / tps[-1]\n",
      "/home/debian/Simao/miniconda3/envs/thesis/lib/python3.10/site-packages/sklearn/metrics/_ranking.py:864: RuntimeWarning: invalid value encountered in true_divide\n",
      "  recall = tps / tps[-1]\n",
      "/home/debian/Simao/miniconda3/envs/thesis/lib/python3.10/site-packages/sklearn/metrics/_ranking.py:864: RuntimeWarning: invalid value encountered in true_divide\n",
      "  recall = tps / tps[-1]\n",
      "/home/debian/Simao/miniconda3/envs/thesis/lib/python3.10/site-packages/sklearn/metrics/_ranking.py:864: RuntimeWarning: invalid value encountered in true_divide\n",
      "  recall = tps / tps[-1]\n",
      "/home/debian/Simao/miniconda3/envs/thesis/lib/python3.10/site-packages/sklearn/metrics/_ranking.py:864: RuntimeWarning: invalid value encountered in true_divide\n",
      "  recall = tps / tps[-1]\n",
      "/home/debian/Simao/miniconda3/envs/thesis/lib/python3.10/site-packages/sklearn/metrics/_ranking.py:864: RuntimeWarning: invalid value encountered in true_divide\n",
      "  recall = tps / tps[-1]\n",
      "/home/debian/Simao/miniconda3/envs/thesis/lib/python3.10/site-packages/sklearn/metrics/_ranking.py:864: RuntimeWarning: invalid value encountered in true_divide\n",
      "  recall = tps / tps[-1]\n",
      "/home/debian/Simao/miniconda3/envs/thesis/lib/python3.10/site-packages/sklearn/metrics/_ranking.py:864: RuntimeWarning: invalid value encountered in true_divide\n",
      "  recall = tps / tps[-1]\n",
      "/home/debian/Simao/miniconda3/envs/thesis/lib/python3.10/site-packages/sklearn/metrics/_ranking.py:864: RuntimeWarning: invalid value encountered in true_divide\n",
      "  recall = tps / tps[-1]\n",
      "/home/debian/Simao/miniconda3/envs/thesis/lib/python3.10/site-packages/sklearn/metrics/_ranking.py:864: RuntimeWarning: invalid value encountered in true_divide\n",
      "  recall = tps / tps[-1]\n",
      "/home/debian/Simao/miniconda3/envs/thesis/lib/python3.10/site-packages/sklearn/metrics/_ranking.py:864: RuntimeWarning: invalid value encountered in true_divide\n",
      "  recall = tps / tps[-1]\n",
      "/home/debian/Simao/miniconda3/envs/thesis/lib/python3.10/site-packages/sklearn/metrics/_ranking.py:864: RuntimeWarning: invalid value encountered in true_divide\n",
      "  recall = tps / tps[-1]\n",
      "/home/debian/Simao/miniconda3/envs/thesis/lib/python3.10/site-packages/sklearn/metrics/_ranking.py:864: RuntimeWarning: invalid value encountered in true_divide\n",
      "  recall = tps / tps[-1]\n",
      "/home/debian/Simao/miniconda3/envs/thesis/lib/python3.10/site-packages/sklearn/metrics/_ranking.py:864: RuntimeWarning: invalid value encountered in true_divide\n",
      "  recall = tps / tps[-1]\n",
      "/home/debian/Simao/miniconda3/envs/thesis/lib/python3.10/site-packages/sklearn/metrics/_ranking.py:864: RuntimeWarning: invalid value encountered in true_divide\n",
      "  recall = tps / tps[-1]\n",
      "/home/debian/Simao/miniconda3/envs/thesis/lib/python3.10/site-packages/sklearn/metrics/_ranking.py:864: RuntimeWarning: invalid value encountered in true_divide\n",
      "  recall = tps / tps[-1]\n",
      "/home/debian/Simao/miniconda3/envs/thesis/lib/python3.10/site-packages/sklearn/metrics/_ranking.py:864: RuntimeWarning: invalid value encountered in true_divide\n",
      "  recall = tps / tps[-1]\n",
      "/home/debian/Simao/miniconda3/envs/thesis/lib/python3.10/site-packages/sklearn/metrics/_ranking.py:864: RuntimeWarning: invalid value encountered in true_divide\n",
      "  recall = tps / tps[-1]\n",
      "/home/debian/Simao/miniconda3/envs/thesis/lib/python3.10/site-packages/sklearn/metrics/_ranking.py:864: RuntimeWarning: invalid value encountered in true_divide\n",
      "  recall = tps / tps[-1]\n",
      "/home/debian/Simao/miniconda3/envs/thesis/lib/python3.10/site-packages/sklearn/metrics/_ranking.py:864: RuntimeWarning: invalid value encountered in true_divide\n",
      "  recall = tps / tps[-1]\n",
      "/home/debian/Simao/miniconda3/envs/thesis/lib/python3.10/site-packages/sklearn/metrics/_ranking.py:864: RuntimeWarning: invalid value encountered in true_divide\n",
      "  recall = tps / tps[-1]\n",
      "/home/debian/Simao/miniconda3/envs/thesis/lib/python3.10/site-packages/sklearn/metrics/_ranking.py:864: RuntimeWarning: invalid value encountered in true_divide\n",
      "  recall = tps / tps[-1]\n",
      "/home/debian/Simao/miniconda3/envs/thesis/lib/python3.10/site-packages/sklearn/metrics/_ranking.py:864: RuntimeWarning: invalid value encountered in true_divide\n",
      "  recall = tps / tps[-1]\n",
      "/home/debian/Simao/miniconda3/envs/thesis/lib/python3.10/site-packages/sklearn/metrics/_ranking.py:864: RuntimeWarning: invalid value encountered in true_divide\n",
      "  recall = tps / tps[-1]\n",
      "/home/debian/Simao/miniconda3/envs/thesis/lib/python3.10/site-packages/sklearn/metrics/_ranking.py:864: RuntimeWarning: invalid value encountered in true_divide\n",
      "  recall = tps / tps[-1]\n",
      "/home/debian/Simao/miniconda3/envs/thesis/lib/python3.10/site-packages/sklearn/metrics/_ranking.py:864: RuntimeWarning: invalid value encountered in true_divide\n",
      "  recall = tps / tps[-1]\n",
      "/home/debian/Simao/miniconda3/envs/thesis/lib/python3.10/site-packages/sklearn/metrics/_ranking.py:864: RuntimeWarning: invalid value encountered in true_divide\n",
      "  recall = tps / tps[-1]\n",
      "/home/debian/Simao/miniconda3/envs/thesis/lib/python3.10/site-packages/sklearn/metrics/_ranking.py:864: RuntimeWarning: invalid value encountered in true_divide\n",
      "  recall = tps / tps[-1]\n",
      "/home/debian/Simao/miniconda3/envs/thesis/lib/python3.10/site-packages/sklearn/metrics/_ranking.py:864: RuntimeWarning: invalid value encountered in true_divide\n",
      "  recall = tps / tps[-1]\n",
      "/home/debian/Simao/miniconda3/envs/thesis/lib/python3.10/site-packages/sklearn/metrics/_ranking.py:864: RuntimeWarning: invalid value encountered in true_divide\n",
      "  recall = tps / tps[-1]\n",
      "/home/debian/Simao/miniconda3/envs/thesis/lib/python3.10/site-packages/sklearn/metrics/_ranking.py:864: RuntimeWarning: invalid value encountered in true_divide\n",
      "  recall = tps / tps[-1]\n",
      "/home/debian/Simao/miniconda3/envs/thesis/lib/python3.10/site-packages/sklearn/metrics/_ranking.py:864: RuntimeWarning: invalid value encountered in true_divide\n",
      "  recall = tps / tps[-1]\n",
      "/home/debian/Simao/miniconda3/envs/thesis/lib/python3.10/site-packages/sklearn/metrics/_ranking.py:864: RuntimeWarning: invalid value encountered in true_divide\n",
      "  recall = tps / tps[-1]\n",
      "/home/debian/Simao/miniconda3/envs/thesis/lib/python3.10/site-packages/sklearn/metrics/_ranking.py:864: RuntimeWarning: invalid value encountered in true_divide\n",
      "  recall = tps / tps[-1]\n",
      "/home/debian/Simao/miniconda3/envs/thesis/lib/python3.10/site-packages/sklearn/metrics/_ranking.py:864: RuntimeWarning: invalid value encountered in true_divide\n",
      "  recall = tps / tps[-1]\n",
      "/home/debian/Simao/miniconda3/envs/thesis/lib/python3.10/site-packages/sklearn/metrics/_ranking.py:864: RuntimeWarning: invalid value encountered in true_divide\n",
      "  recall = tps / tps[-1]\n",
      "/home/debian/Simao/miniconda3/envs/thesis/lib/python3.10/site-packages/sklearn/metrics/_ranking.py:864: RuntimeWarning: invalid value encountered in true_divide\n",
      "  recall = tps / tps[-1]\n",
      "/home/debian/Simao/miniconda3/envs/thesis/lib/python3.10/site-packages/sklearn/metrics/_ranking.py:864: RuntimeWarning: invalid value encountered in true_divide\n",
      "  recall = tps / tps[-1]\n",
      "/home/debian/Simao/miniconda3/envs/thesis/lib/python3.10/site-packages/sklearn/metrics/_ranking.py:864: RuntimeWarning: invalid value encountered in true_divide\n",
      "  recall = tps / tps[-1]\n",
      "/home/debian/Simao/miniconda3/envs/thesis/lib/python3.10/site-packages/sklearn/metrics/_ranking.py:864: RuntimeWarning: invalid value encountered in true_divide\n",
      "  recall = tps / tps[-1]\n",
      "/home/debian/Simao/miniconda3/envs/thesis/lib/python3.10/site-packages/sklearn/metrics/_ranking.py:864: RuntimeWarning: invalid value encountered in true_divide\n",
      "  recall = tps / tps[-1]\n",
      "/home/debian/Simao/miniconda3/envs/thesis/lib/python3.10/site-packages/sklearn/metrics/_ranking.py:864: RuntimeWarning: invalid value encountered in true_divide\n",
      "  recall = tps / tps[-1]\n",
      "/home/debian/Simao/miniconda3/envs/thesis/lib/python3.10/site-packages/sklearn/metrics/_ranking.py:864: RuntimeWarning: invalid value encountered in true_divide\n",
      "  recall = tps / tps[-1]\n",
      "/home/debian/Simao/miniconda3/envs/thesis/lib/python3.10/site-packages/sklearn/metrics/_ranking.py:864: RuntimeWarning: invalid value encountered in true_divide\n",
      "  recall = tps / tps[-1]\n",
      "/home/debian/Simao/miniconda3/envs/thesis/lib/python3.10/site-packages/sklearn/metrics/_ranking.py:864: RuntimeWarning: invalid value encountered in true_divide\n",
      "  recall = tps / tps[-1]\n",
      "/home/debian/Simao/miniconda3/envs/thesis/lib/python3.10/site-packages/sklearn/metrics/_ranking.py:864: RuntimeWarning: invalid value encountered in true_divide\n",
      "  recall = tps / tps[-1]\n",
      "/home/debian/Simao/miniconda3/envs/thesis/lib/python3.10/site-packages/sklearn/metrics/_ranking.py:864: RuntimeWarning: invalid value encountered in true_divide\n",
      "  recall = tps / tps[-1]\n",
      "/home/debian/Simao/miniconda3/envs/thesis/lib/python3.10/site-packages/sklearn/metrics/_ranking.py:864: RuntimeWarning: invalid value encountered in true_divide\n",
      "  recall = tps / tps[-1]\n",
      "/home/debian/Simao/miniconda3/envs/thesis/lib/python3.10/site-packages/sklearn/metrics/_ranking.py:864: RuntimeWarning: invalid value encountered in true_divide\n",
      "  recall = tps / tps[-1]\n",
      "/home/debian/Simao/miniconda3/envs/thesis/lib/python3.10/site-packages/sklearn/metrics/_ranking.py:864: RuntimeWarning: invalid value encountered in true_divide\n",
      "  recall = tps / tps[-1]\n",
      "/home/debian/Simao/miniconda3/envs/thesis/lib/python3.10/site-packages/sklearn/metrics/_ranking.py:864: RuntimeWarning: invalid value encountered in true_divide\n",
      "  recall = tps / tps[-1]\n",
      "/home/debian/Simao/miniconda3/envs/thesis/lib/python3.10/site-packages/sklearn/metrics/_ranking.py:864: RuntimeWarning: invalid value encountered in true_divide\n",
      "  recall = tps / tps[-1]\n",
      "/home/debian/Simao/miniconda3/envs/thesis/lib/python3.10/site-packages/sklearn/metrics/_ranking.py:864: RuntimeWarning: invalid value encountered in true_divide\n",
      "  recall = tps / tps[-1]\n",
      "/home/debian/Simao/miniconda3/envs/thesis/lib/python3.10/site-packages/sklearn/metrics/_ranking.py:864: RuntimeWarning: invalid value encountered in true_divide\n",
      "  recall = tps / tps[-1]\n",
      "/home/debian/Simao/miniconda3/envs/thesis/lib/python3.10/site-packages/sklearn/metrics/_ranking.py:864: RuntimeWarning: invalid value encountered in true_divide\n",
      "  recall = tps / tps[-1]\n",
      "/home/debian/Simao/miniconda3/envs/thesis/lib/python3.10/site-packages/sklearn/metrics/_ranking.py:864: RuntimeWarning: invalid value encountered in true_divide\n",
      "  recall = tps / tps[-1]\n",
      "/home/debian/Simao/miniconda3/envs/thesis/lib/python3.10/site-packages/sklearn/metrics/_ranking.py:864: RuntimeWarning: invalid value encountered in true_divide\n",
      "  recall = tps / tps[-1]\n",
      "/home/debian/Simao/miniconda3/envs/thesis/lib/python3.10/site-packages/sklearn/metrics/_ranking.py:864: RuntimeWarning: invalid value encountered in true_divide\n",
      "  recall = tps / tps[-1]\n",
      "/home/debian/Simao/miniconda3/envs/thesis/lib/python3.10/site-packages/sklearn/metrics/_ranking.py:864: RuntimeWarning: invalid value encountered in true_divide\n",
      "  recall = tps / tps[-1]\n",
      "/home/debian/Simao/miniconda3/envs/thesis/lib/python3.10/site-packages/sklearn/metrics/_ranking.py:864: RuntimeWarning: invalid value encountered in true_divide\n",
      "  recall = tps / tps[-1]\n",
      "/home/debian/Simao/miniconda3/envs/thesis/lib/python3.10/site-packages/sklearn/metrics/_ranking.py:864: RuntimeWarning: invalid value encountered in true_divide\n",
      "  recall = tps / tps[-1]\n",
      "/home/debian/Simao/miniconda3/envs/thesis/lib/python3.10/site-packages/sklearn/metrics/_ranking.py:864: RuntimeWarning: invalid value encountered in true_divide\n",
      "  recall = tps / tps[-1]\n",
      "/home/debian/Simao/miniconda3/envs/thesis/lib/python3.10/site-packages/sklearn/metrics/_ranking.py:864: RuntimeWarning: invalid value encountered in true_divide\n",
      "  recall = tps / tps[-1]\n",
      "/home/debian/Simao/miniconda3/envs/thesis/lib/python3.10/site-packages/sklearn/metrics/_ranking.py:864: RuntimeWarning: invalid value encountered in true_divide\n",
      "  recall = tps / tps[-1]\n",
      "/home/debian/Simao/miniconda3/envs/thesis/lib/python3.10/site-packages/sklearn/metrics/_ranking.py:864: RuntimeWarning: invalid value encountered in true_divide\n",
      "  recall = tps / tps[-1]\n",
      "/home/debian/Simao/miniconda3/envs/thesis/lib/python3.10/site-packages/sklearn/metrics/_ranking.py:864: RuntimeWarning: invalid value encountered in true_divide\n",
      "  recall = tps / tps[-1]\n",
      "/home/debian/Simao/miniconda3/envs/thesis/lib/python3.10/site-packages/sklearn/metrics/_ranking.py:864: RuntimeWarning: invalid value encountered in true_divide\n",
      "  recall = tps / tps[-1]\n",
      "/home/debian/Simao/miniconda3/envs/thesis/lib/python3.10/site-packages/sklearn/metrics/_ranking.py:864: RuntimeWarning: invalid value encountered in true_divide\n",
      "  recall = tps / tps[-1]\n",
      "/home/debian/Simao/miniconda3/envs/thesis/lib/python3.10/site-packages/sklearn/metrics/_ranking.py:864: RuntimeWarning: invalid value encountered in true_divide\n",
      "  recall = tps / tps[-1]\n",
      "/home/debian/Simao/miniconda3/envs/thesis/lib/python3.10/site-packages/sklearn/metrics/_ranking.py:864: RuntimeWarning: invalid value encountered in true_divide\n",
      "  recall = tps / tps[-1]\n",
      "/home/debian/Simao/miniconda3/envs/thesis/lib/python3.10/site-packages/sklearn/metrics/_ranking.py:864: RuntimeWarning: invalid value encountered in true_divide\n",
      "  recall = tps / tps[-1]\n",
      "/home/debian/Simao/miniconda3/envs/thesis/lib/python3.10/site-packages/sklearn/metrics/_ranking.py:864: RuntimeWarning: invalid value encountered in true_divide\n",
      "  recall = tps / tps[-1]\n",
      "/home/debian/Simao/miniconda3/envs/thesis/lib/python3.10/site-packages/sklearn/metrics/_ranking.py:864: RuntimeWarning: invalid value encountered in true_divide\n",
      "  recall = tps / tps[-1]\n",
      "/home/debian/Simao/miniconda3/envs/thesis/lib/python3.10/site-packages/sklearn/metrics/_ranking.py:864: RuntimeWarning: invalid value encountered in true_divide\n",
      "  recall = tps / tps[-1]\n",
      "/home/debian/Simao/miniconda3/envs/thesis/lib/python3.10/site-packages/sklearn/metrics/_ranking.py:864: RuntimeWarning: invalid value encountered in true_divide\n",
      "  recall = tps / tps[-1]\n",
      "/home/debian/Simao/miniconda3/envs/thesis/lib/python3.10/site-packages/sklearn/metrics/_ranking.py:864: RuntimeWarning: invalid value encountered in true_divide\n",
      "  recall = tps / tps[-1]\n",
      "/home/debian/Simao/miniconda3/envs/thesis/lib/python3.10/site-packages/sklearn/metrics/_ranking.py:864: RuntimeWarning: invalid value encountered in true_divide\n",
      "  recall = tps / tps[-1]\n",
      "/home/debian/Simao/miniconda3/envs/thesis/lib/python3.10/site-packages/sklearn/metrics/_ranking.py:864: RuntimeWarning: invalid value encountered in true_divide\n",
      "  recall = tps / tps[-1]\n",
      "/home/debian/Simao/miniconda3/envs/thesis/lib/python3.10/site-packages/sklearn/metrics/_ranking.py:864: RuntimeWarning: invalid value encountered in true_divide\n",
      "  recall = tps / tps[-1]\n",
      "/home/debian/Simao/miniconda3/envs/thesis/lib/python3.10/site-packages/sklearn/metrics/_ranking.py:864: RuntimeWarning: invalid value encountered in true_divide\n",
      "  recall = tps / tps[-1]\n",
      "/home/debian/Simao/miniconda3/envs/thesis/lib/python3.10/site-packages/sklearn/metrics/_ranking.py:864: RuntimeWarning: invalid value encountered in true_divide\n",
      "  recall = tps / tps[-1]\n",
      "/home/debian/Simao/miniconda3/envs/thesis/lib/python3.10/site-packages/sklearn/metrics/_ranking.py:864: RuntimeWarning: invalid value encountered in true_divide\n",
      "  recall = tps / tps[-1]\n",
      "/home/debian/Simao/miniconda3/envs/thesis/lib/python3.10/site-packages/sklearn/metrics/_ranking.py:864: RuntimeWarning: invalid value encountered in true_divide\n",
      "  recall = tps / tps[-1]\n",
      "/home/debian/Simao/miniconda3/envs/thesis/lib/python3.10/site-packages/sklearn/metrics/_ranking.py:864: RuntimeWarning: invalid value encountered in true_divide\n",
      "  recall = tps / tps[-1]\n",
      "/home/debian/Simao/miniconda3/envs/thesis/lib/python3.10/site-packages/sklearn/metrics/_ranking.py:864: RuntimeWarning: invalid value encountered in true_divide\n",
      "  recall = tps / tps[-1]\n",
      "/home/debian/Simao/miniconda3/envs/thesis/lib/python3.10/site-packages/sklearn/metrics/_ranking.py:864: RuntimeWarning: invalid value encountered in true_divide\n",
      "  recall = tps / tps[-1]\n",
      "/home/debian/Simao/miniconda3/envs/thesis/lib/python3.10/site-packages/sklearn/metrics/_ranking.py:864: RuntimeWarning: invalid value encountered in true_divide\n",
      "  recall = tps / tps[-1]\n",
      "/home/debian/Simao/miniconda3/envs/thesis/lib/python3.10/site-packages/sklearn/metrics/_ranking.py:864: RuntimeWarning: invalid value encountered in true_divide\n",
      "  recall = tps / tps[-1]\n",
      "/home/debian/Simao/miniconda3/envs/thesis/lib/python3.10/site-packages/sklearn/metrics/_ranking.py:864: RuntimeWarning: invalid value encountered in true_divide\n",
      "  recall = tps / tps[-1]\n",
      "/home/debian/Simao/miniconda3/envs/thesis/lib/python3.10/site-packages/sklearn/metrics/_ranking.py:864: RuntimeWarning: invalid value encountered in true_divide\n",
      "  recall = tps / tps[-1]\n",
      "/home/debian/Simao/miniconda3/envs/thesis/lib/python3.10/site-packages/sklearn/metrics/_ranking.py:864: RuntimeWarning: invalid value encountered in true_divide\n",
      "  recall = tps / tps[-1]\n",
      "/home/debian/Simao/miniconda3/envs/thesis/lib/python3.10/site-packages/sklearn/metrics/_ranking.py:864: RuntimeWarning: invalid value encountered in true_divide\n",
      "  recall = tps / tps[-1]\n",
      "/home/debian/Simao/miniconda3/envs/thesis/lib/python3.10/site-packages/sklearn/metrics/_ranking.py:864: RuntimeWarning: invalid value encountered in true_divide\n",
      "  recall = tps / tps[-1]\n",
      "/home/debian/Simao/miniconda3/envs/thesis/lib/python3.10/site-packages/sklearn/metrics/_ranking.py:864: RuntimeWarning: invalid value encountered in true_divide\n",
      "  recall = tps / tps[-1]\n",
      "/home/debian/Simao/miniconda3/envs/thesis/lib/python3.10/site-packages/sklearn/metrics/_ranking.py:864: RuntimeWarning: invalid value encountered in true_divide\n",
      "  recall = tps / tps[-1]\n",
      "/home/debian/Simao/miniconda3/envs/thesis/lib/python3.10/site-packages/sklearn/metrics/_ranking.py:864: RuntimeWarning: invalid value encountered in true_divide\n",
      "  recall = tps / tps[-1]\n",
      "/home/debian/Simao/miniconda3/envs/thesis/lib/python3.10/site-packages/sklearn/metrics/_ranking.py:864: RuntimeWarning: invalid value encountered in true_divide\n",
      "  recall = tps / tps[-1]\n",
      "/home/debian/Simao/miniconda3/envs/thesis/lib/python3.10/site-packages/sklearn/metrics/_ranking.py:864: RuntimeWarning: invalid value encountered in true_divide\n",
      "  recall = tps / tps[-1]\n",
      "/home/debian/Simao/miniconda3/envs/thesis/lib/python3.10/site-packages/sklearn/metrics/_ranking.py:864: RuntimeWarning: invalid value encountered in true_divide\n",
      "  recall = tps / tps[-1]\n",
      "/home/debian/Simao/miniconda3/envs/thesis/lib/python3.10/site-packages/sklearn/metrics/_ranking.py:864: RuntimeWarning: invalid value encountered in true_divide\n",
      "  recall = tps / tps[-1]\n",
      "/home/debian/Simao/miniconda3/envs/thesis/lib/python3.10/site-packages/sklearn/metrics/_ranking.py:864: RuntimeWarning: invalid value encountered in true_divide\n",
      "  recall = tps / tps[-1]\n",
      "/home/debian/Simao/miniconda3/envs/thesis/lib/python3.10/site-packages/sklearn/metrics/_ranking.py:864: RuntimeWarning: invalid value encountered in true_divide\n",
      "  recall = tps / tps[-1]\n",
      "/home/debian/Simao/miniconda3/envs/thesis/lib/python3.10/site-packages/sklearn/metrics/_ranking.py:864: RuntimeWarning: invalid value encountered in true_divide\n",
      "  recall = tps / tps[-1]\n",
      "/home/debian/Simao/miniconda3/envs/thesis/lib/python3.10/site-packages/sklearn/metrics/_ranking.py:864: RuntimeWarning: invalid value encountered in true_divide\n",
      "  recall = tps / tps[-1]\n",
      "/home/debian/Simao/miniconda3/envs/thesis/lib/python3.10/site-packages/sklearn/metrics/_ranking.py:864: RuntimeWarning: invalid value encountered in true_divide\n",
      "  recall = tps / tps[-1]\n",
      "/home/debian/Simao/miniconda3/envs/thesis/lib/python3.10/site-packages/sklearn/metrics/_ranking.py:864: RuntimeWarning: invalid value encountered in true_divide\n",
      "  recall = tps / tps[-1]\n",
      "/home/debian/Simao/miniconda3/envs/thesis/lib/python3.10/site-packages/sklearn/metrics/_ranking.py:864: RuntimeWarning: invalid value encountered in true_divide\n",
      "  recall = tps / tps[-1]\n",
      "/home/debian/Simao/miniconda3/envs/thesis/lib/python3.10/site-packages/sklearn/metrics/_ranking.py:864: RuntimeWarning: invalid value encountered in true_divide\n",
      "  recall = tps / tps[-1]\n",
      "/home/debian/Simao/miniconda3/envs/thesis/lib/python3.10/site-packages/sklearn/metrics/_ranking.py:864: RuntimeWarning: invalid value encountered in true_divide\n",
      "  recall = tps / tps[-1]\n",
      "/home/debian/Simao/miniconda3/envs/thesis/lib/python3.10/site-packages/sklearn/metrics/_ranking.py:864: RuntimeWarning: invalid value encountered in true_divide\n",
      "  recall = tps / tps[-1]\n",
      "/home/debian/Simao/miniconda3/envs/thesis/lib/python3.10/site-packages/sklearn/metrics/_ranking.py:864: RuntimeWarning: invalid value encountered in true_divide\n",
      "  recall = tps / tps[-1]\n",
      "/home/debian/Simao/miniconda3/envs/thesis/lib/python3.10/site-packages/sklearn/metrics/_ranking.py:864: RuntimeWarning: invalid value encountered in true_divide\n",
      "  recall = tps / tps[-1]\n",
      "/home/debian/Simao/miniconda3/envs/thesis/lib/python3.10/site-packages/sklearn/metrics/_ranking.py:864: RuntimeWarning: invalid value encountered in true_divide\n",
      "  recall = tps / tps[-1]\n",
      "/home/debian/Simao/miniconda3/envs/thesis/lib/python3.10/site-packages/sklearn/metrics/_ranking.py:864: RuntimeWarning: invalid value encountered in true_divide\n",
      "  recall = tps / tps[-1]\n",
      "/home/debian/Simao/miniconda3/envs/thesis/lib/python3.10/site-packages/sklearn/metrics/_ranking.py:864: RuntimeWarning: invalid value encountered in true_divide\n",
      "  recall = tps / tps[-1]\n",
      "/home/debian/Simao/miniconda3/envs/thesis/lib/python3.10/site-packages/sklearn/metrics/_ranking.py:864: RuntimeWarning: invalid value encountered in true_divide\n",
      "  recall = tps / tps[-1]\n",
      "/home/debian/Simao/miniconda3/envs/thesis/lib/python3.10/site-packages/sklearn/metrics/_ranking.py:864: RuntimeWarning: invalid value encountered in true_divide\n",
      "  recall = tps / tps[-1]\n",
      "/home/debian/Simao/miniconda3/envs/thesis/lib/python3.10/site-packages/sklearn/metrics/_ranking.py:864: RuntimeWarning: invalid value encountered in true_divide\n",
      "  recall = tps / tps[-1]\n",
      "/home/debian/Simao/miniconda3/envs/thesis/lib/python3.10/site-packages/sklearn/metrics/_ranking.py:864: RuntimeWarning: invalid value encountered in true_divide\n",
      "  recall = tps / tps[-1]\n",
      "/home/debian/Simao/miniconda3/envs/thesis/lib/python3.10/site-packages/sklearn/metrics/_ranking.py:864: RuntimeWarning: invalid value encountered in true_divide\n",
      "  recall = tps / tps[-1]\n",
      "/home/debian/Simao/miniconda3/envs/thesis/lib/python3.10/site-packages/sklearn/metrics/_ranking.py:864: RuntimeWarning: invalid value encountered in true_divide\n",
      "  recall = tps / tps[-1]\n",
      "/home/debian/Simao/miniconda3/envs/thesis/lib/python3.10/site-packages/sklearn/metrics/_ranking.py:864: RuntimeWarning: invalid value encountered in true_divide\n",
      "  recall = tps / tps[-1]\n",
      "/home/debian/Simao/miniconda3/envs/thesis/lib/python3.10/site-packages/sklearn/metrics/_ranking.py:864: RuntimeWarning: invalid value encountered in true_divide\n",
      "  recall = tps / tps[-1]\n",
      "/home/debian/Simao/miniconda3/envs/thesis/lib/python3.10/site-packages/sklearn/metrics/_ranking.py:864: RuntimeWarning: invalid value encountered in true_divide\n",
      "  recall = tps / tps[-1]\n",
      "/home/debian/Simao/miniconda3/envs/thesis/lib/python3.10/site-packages/sklearn/metrics/_ranking.py:864: RuntimeWarning: invalid value encountered in true_divide\n",
      "  recall = tps / tps[-1]\n",
      "/home/debian/Simao/miniconda3/envs/thesis/lib/python3.10/site-packages/sklearn/metrics/_ranking.py:864: RuntimeWarning: invalid value encountered in true_divide\n",
      "  recall = tps / tps[-1]\n",
      "/home/debian/Simao/miniconda3/envs/thesis/lib/python3.10/site-packages/sklearn/metrics/_ranking.py:864: RuntimeWarning: invalid value encountered in true_divide\n",
      "  recall = tps / tps[-1]\n",
      "/home/debian/Simao/miniconda3/envs/thesis/lib/python3.10/site-packages/sklearn/metrics/_ranking.py:864: RuntimeWarning: invalid value encountered in true_divide\n",
      "  recall = tps / tps[-1]\n",
      "/home/debian/Simao/miniconda3/envs/thesis/lib/python3.10/site-packages/sklearn/metrics/_ranking.py:864: RuntimeWarning: invalid value encountered in true_divide\n",
      "  recall = tps / tps[-1]\n",
      "/home/debian/Simao/miniconda3/envs/thesis/lib/python3.10/site-packages/sklearn/metrics/_ranking.py:864: RuntimeWarning: invalid value encountered in true_divide\n",
      "  recall = tps / tps[-1]\n",
      "/home/debian/Simao/miniconda3/envs/thesis/lib/python3.10/site-packages/sklearn/metrics/_ranking.py:864: RuntimeWarning: invalid value encountered in true_divide\n",
      "  recall = tps / tps[-1]\n",
      "/home/debian/Simao/miniconda3/envs/thesis/lib/python3.10/site-packages/sklearn/metrics/_ranking.py:864: RuntimeWarning: invalid value encountered in true_divide\n",
      "  recall = tps / tps[-1]\n",
      "/home/debian/Simao/miniconda3/envs/thesis/lib/python3.10/site-packages/sklearn/metrics/_ranking.py:864: RuntimeWarning: invalid value encountered in true_divide\n",
      "  recall = tps / tps[-1]\n",
      "/home/debian/Simao/miniconda3/envs/thesis/lib/python3.10/site-packages/sklearn/metrics/_ranking.py:864: RuntimeWarning: invalid value encountered in true_divide\n",
      "  recall = tps / tps[-1]\n",
      "/home/debian/Simao/miniconda3/envs/thesis/lib/python3.10/site-packages/sklearn/metrics/_ranking.py:864: RuntimeWarning: invalid value encountered in true_divide\n",
      "  recall = tps / tps[-1]\n",
      "/home/debian/Simao/miniconda3/envs/thesis/lib/python3.10/site-packages/sklearn/metrics/_ranking.py:864: RuntimeWarning: invalid value encountered in true_divide\n",
      "  recall = tps / tps[-1]\n",
      "/home/debian/Simao/miniconda3/envs/thesis/lib/python3.10/site-packages/sklearn/metrics/_ranking.py:864: RuntimeWarning: invalid value encountered in true_divide\n",
      "  recall = tps / tps[-1]\n",
      "/home/debian/Simao/miniconda3/envs/thesis/lib/python3.10/site-packages/sklearn/metrics/_ranking.py:864: RuntimeWarning: invalid value encountered in true_divide\n",
      "  recall = tps / tps[-1]\n",
      "/home/debian/Simao/miniconda3/envs/thesis/lib/python3.10/site-packages/sklearn/metrics/_ranking.py:864: RuntimeWarning: invalid value encountered in true_divide\n",
      "  recall = tps / tps[-1]\n",
      "/home/debian/Simao/miniconda3/envs/thesis/lib/python3.10/site-packages/sklearn/metrics/_ranking.py:864: RuntimeWarning: invalid value encountered in true_divide\n",
      "  recall = tps / tps[-1]\n",
      "/home/debian/Simao/miniconda3/envs/thesis/lib/python3.10/site-packages/sklearn/metrics/_ranking.py:864: RuntimeWarning: invalid value encountered in true_divide\n",
      "  recall = tps / tps[-1]\n",
      "/home/debian/Simao/miniconda3/envs/thesis/lib/python3.10/site-packages/sklearn/metrics/_ranking.py:864: RuntimeWarning: invalid value encountered in true_divide\n",
      "  recall = tps / tps[-1]\n",
      "/home/debian/Simao/miniconda3/envs/thesis/lib/python3.10/site-packages/sklearn/metrics/_ranking.py:864: RuntimeWarning: invalid value encountered in true_divide\n",
      "  recall = tps / tps[-1]\n",
      "/home/debian/Simao/miniconda3/envs/thesis/lib/python3.10/site-packages/sklearn/metrics/_ranking.py:864: RuntimeWarning: invalid value encountered in true_divide\n",
      "  recall = tps / tps[-1]\n",
      "/home/debian/Simao/miniconda3/envs/thesis/lib/python3.10/site-packages/sklearn/metrics/_ranking.py:864: RuntimeWarning: invalid value encountered in true_divide\n",
      "  recall = tps / tps[-1]\n",
      "/home/debian/Simao/miniconda3/envs/thesis/lib/python3.10/site-packages/sklearn/metrics/_ranking.py:864: RuntimeWarning: invalid value encountered in true_divide\n",
      "  recall = tps / tps[-1]\n",
      "/home/debian/Simao/miniconda3/envs/thesis/lib/python3.10/site-packages/sklearn/metrics/_ranking.py:864: RuntimeWarning: invalid value encountered in true_divide\n",
      "  recall = tps / tps[-1]\n",
      "/home/debian/Simao/miniconda3/envs/thesis/lib/python3.10/site-packages/sklearn/metrics/_ranking.py:864: RuntimeWarning: invalid value encountered in true_divide\n",
      "  recall = tps / tps[-1]\n",
      "/home/debian/Simao/miniconda3/envs/thesis/lib/python3.10/site-packages/sklearn/metrics/_ranking.py:864: RuntimeWarning: invalid value encountered in true_divide\n",
      "  recall = tps / tps[-1]\n",
      "/home/debian/Simao/miniconda3/envs/thesis/lib/python3.10/site-packages/sklearn/metrics/_ranking.py:864: RuntimeWarning: invalid value encountered in true_divide\n",
      "  recall = tps / tps[-1]\n",
      "/home/debian/Simao/miniconda3/envs/thesis/lib/python3.10/site-packages/sklearn/metrics/_ranking.py:864: RuntimeWarning: invalid value encountered in true_divide\n",
      "  recall = tps / tps[-1]\n",
      "/home/debian/Simao/miniconda3/envs/thesis/lib/python3.10/site-packages/sklearn/metrics/_ranking.py:864: RuntimeWarning: invalid value encountered in true_divide\n",
      "  recall = tps / tps[-1]\n",
      "/home/debian/Simao/miniconda3/envs/thesis/lib/python3.10/site-packages/sklearn/metrics/_ranking.py:864: RuntimeWarning: invalid value encountered in true_divide\n",
      "  recall = tps / tps[-1]\n",
      "/home/debian/Simao/miniconda3/envs/thesis/lib/python3.10/site-packages/sklearn/metrics/_ranking.py:864: RuntimeWarning: invalid value encountered in true_divide\n",
      "  recall = tps / tps[-1]\n",
      "/home/debian/Simao/miniconda3/envs/thesis/lib/python3.10/site-packages/sklearn/metrics/_ranking.py:864: RuntimeWarning: invalid value encountered in true_divide\n",
      "  recall = tps / tps[-1]\n",
      "/home/debian/Simao/miniconda3/envs/thesis/lib/python3.10/site-packages/sklearn/metrics/_ranking.py:864: RuntimeWarning: invalid value encountered in true_divide\n",
      "  recall = tps / tps[-1]\n",
      "/home/debian/Simao/miniconda3/envs/thesis/lib/python3.10/site-packages/sklearn/metrics/_ranking.py:864: RuntimeWarning: invalid value encountered in true_divide\n",
      "  recall = tps / tps[-1]\n",
      "/home/debian/Simao/miniconda3/envs/thesis/lib/python3.10/site-packages/sklearn/metrics/_ranking.py:864: RuntimeWarning: invalid value encountered in true_divide\n",
      "  recall = tps / tps[-1]\n",
      "/home/debian/Simao/miniconda3/envs/thesis/lib/python3.10/site-packages/sklearn/metrics/_ranking.py:864: RuntimeWarning: invalid value encountered in true_divide\n",
      "  recall = tps / tps[-1]\n",
      "/home/debian/Simao/miniconda3/envs/thesis/lib/python3.10/site-packages/sklearn/metrics/_ranking.py:864: RuntimeWarning: invalid value encountered in true_divide\n",
      "  recall = tps / tps[-1]\n",
      "/home/debian/Simao/miniconda3/envs/thesis/lib/python3.10/site-packages/sklearn/metrics/_ranking.py:864: RuntimeWarning: invalid value encountered in true_divide\n",
      "  recall = tps / tps[-1]\n",
      "/home/debian/Simao/miniconda3/envs/thesis/lib/python3.10/site-packages/sklearn/metrics/_ranking.py:864: RuntimeWarning: invalid value encountered in true_divide\n",
      "  recall = tps / tps[-1]\n",
      "/home/debian/Simao/miniconda3/envs/thesis/lib/python3.10/site-packages/sklearn/metrics/_ranking.py:864: RuntimeWarning: invalid value encountered in true_divide\n",
      "  recall = tps / tps[-1]\n",
      "/home/debian/Simao/miniconda3/envs/thesis/lib/python3.10/site-packages/sklearn/metrics/_ranking.py:864: RuntimeWarning: invalid value encountered in true_divide\n",
      "  recall = tps / tps[-1]\n",
      "/home/debian/Simao/miniconda3/envs/thesis/lib/python3.10/site-packages/sklearn/metrics/_ranking.py:864: RuntimeWarning: invalid value encountered in true_divide\n",
      "  recall = tps / tps[-1]\n",
      "/home/debian/Simao/miniconda3/envs/thesis/lib/python3.10/site-packages/sklearn/metrics/_ranking.py:864: RuntimeWarning: invalid value encountered in true_divide\n",
      "  recall = tps / tps[-1]\n",
      "/home/debian/Simao/miniconda3/envs/thesis/lib/python3.10/site-packages/sklearn/metrics/_ranking.py:864: RuntimeWarning: invalid value encountered in true_divide\n",
      "  recall = tps / tps[-1]\n",
      "/home/debian/Simao/miniconda3/envs/thesis/lib/python3.10/site-packages/sklearn/metrics/_ranking.py:864: RuntimeWarning: invalid value encountered in true_divide\n",
      "  recall = tps / tps[-1]\n",
      "/home/debian/Simao/miniconda3/envs/thesis/lib/python3.10/site-packages/sklearn/metrics/_ranking.py:864: RuntimeWarning: invalid value encountered in true_divide\n",
      "  recall = tps / tps[-1]\n",
      "/home/debian/Simao/miniconda3/envs/thesis/lib/python3.10/site-packages/sklearn/metrics/_ranking.py:864: RuntimeWarning: invalid value encountered in true_divide\n",
      "  recall = tps / tps[-1]\n",
      "/home/debian/Simao/miniconda3/envs/thesis/lib/python3.10/site-packages/sklearn/metrics/_ranking.py:864: RuntimeWarning: invalid value encountered in true_divide\n",
      "  recall = tps / tps[-1]\n",
      "/home/debian/Simao/miniconda3/envs/thesis/lib/python3.10/site-packages/sklearn/metrics/_ranking.py:864: RuntimeWarning: invalid value encountered in true_divide\n",
      "  recall = tps / tps[-1]\n",
      "/home/debian/Simao/miniconda3/envs/thesis/lib/python3.10/site-packages/sklearn/metrics/_ranking.py:864: RuntimeWarning: invalid value encountered in true_divide\n",
      "  recall = tps / tps[-1]\n",
      "/home/debian/Simao/miniconda3/envs/thesis/lib/python3.10/site-packages/sklearn/metrics/_ranking.py:864: RuntimeWarning: invalid value encountered in true_divide\n",
      "  recall = tps / tps[-1]\n",
      "/home/debian/Simao/miniconda3/envs/thesis/lib/python3.10/site-packages/sklearn/metrics/_ranking.py:864: RuntimeWarning: invalid value encountered in true_divide\n",
      "  recall = tps / tps[-1]\n",
      "/home/debian/Simao/miniconda3/envs/thesis/lib/python3.10/site-packages/sklearn/metrics/_ranking.py:864: RuntimeWarning: invalid value encountered in true_divide\n",
      "  recall = tps / tps[-1]\n",
      "/home/debian/Simao/miniconda3/envs/thesis/lib/python3.10/site-packages/sklearn/metrics/_ranking.py:864: RuntimeWarning: invalid value encountered in true_divide\n",
      "  recall = tps / tps[-1]\n",
      "/home/debian/Simao/miniconda3/envs/thesis/lib/python3.10/site-packages/sklearn/metrics/_ranking.py:864: RuntimeWarning: invalid value encountered in true_divide\n",
      "  recall = tps / tps[-1]\n",
      "/home/debian/Simao/miniconda3/envs/thesis/lib/python3.10/site-packages/sklearn/metrics/_ranking.py:864: RuntimeWarning: invalid value encountered in true_divide\n",
      "  recall = tps / tps[-1]\n",
      "/home/debian/Simao/miniconda3/envs/thesis/lib/python3.10/site-packages/sklearn/metrics/_ranking.py:864: RuntimeWarning: invalid value encountered in true_divide\n",
      "  recall = tps / tps[-1]\n",
      "/home/debian/Simao/miniconda3/envs/thesis/lib/python3.10/site-packages/sklearn/metrics/_ranking.py:864: RuntimeWarning: invalid value encountered in true_divide\n",
      "  recall = tps / tps[-1]\n",
      "/home/debian/Simao/miniconda3/envs/thesis/lib/python3.10/site-packages/sklearn/metrics/_ranking.py:864: RuntimeWarning: invalid value encountered in true_divide\n",
      "  recall = tps / tps[-1]\n",
      "/home/debian/Simao/miniconda3/envs/thesis/lib/python3.10/site-packages/sklearn/metrics/_ranking.py:864: RuntimeWarning: invalid value encountered in true_divide\n",
      "  recall = tps / tps[-1]\n",
      "/home/debian/Simao/miniconda3/envs/thesis/lib/python3.10/site-packages/sklearn/metrics/_ranking.py:864: RuntimeWarning: invalid value encountered in true_divide\n",
      "  recall = tps / tps[-1]\n",
      "/home/debian/Simao/miniconda3/envs/thesis/lib/python3.10/site-packages/sklearn/metrics/_ranking.py:864: RuntimeWarning: invalid value encountered in true_divide\n",
      "  recall = tps / tps[-1]\n",
      "/home/debian/Simao/miniconda3/envs/thesis/lib/python3.10/site-packages/sklearn/metrics/_ranking.py:864: RuntimeWarning: invalid value encountered in true_divide\n",
      "  recall = tps / tps[-1]\n",
      "/home/debian/Simao/miniconda3/envs/thesis/lib/python3.10/site-packages/sklearn/metrics/_ranking.py:864: RuntimeWarning: invalid value encountered in true_divide\n",
      "  recall = tps / tps[-1]\n",
      "/home/debian/Simao/miniconda3/envs/thesis/lib/python3.10/site-packages/sklearn/metrics/_ranking.py:864: RuntimeWarning: invalid value encountered in true_divide\n",
      "  recall = tps / tps[-1]\n",
      "/home/debian/Simao/miniconda3/envs/thesis/lib/python3.10/site-packages/sklearn/metrics/_ranking.py:864: RuntimeWarning: invalid value encountered in true_divide\n",
      "  recall = tps / tps[-1]\n",
      "/home/debian/Simao/miniconda3/envs/thesis/lib/python3.10/site-packages/sklearn/metrics/_ranking.py:864: RuntimeWarning: invalid value encountered in true_divide\n",
      "  recall = tps / tps[-1]\n",
      "/home/debian/Simao/miniconda3/envs/thesis/lib/python3.10/site-packages/sklearn/metrics/_ranking.py:864: RuntimeWarning: invalid value encountered in true_divide\n",
      "  recall = tps / tps[-1]\n",
      "/home/debian/Simao/miniconda3/envs/thesis/lib/python3.10/site-packages/sklearn/metrics/_ranking.py:864: RuntimeWarning: invalid value encountered in true_divide\n",
      "  recall = tps / tps[-1]\n",
      "/home/debian/Simao/miniconda3/envs/thesis/lib/python3.10/site-packages/sklearn/metrics/_ranking.py:864: RuntimeWarning: invalid value encountered in true_divide\n",
      "  recall = tps / tps[-1]\n",
      "/home/debian/Simao/miniconda3/envs/thesis/lib/python3.10/site-packages/sklearn/metrics/_ranking.py:864: RuntimeWarning: invalid value encountered in true_divide\n",
      "  recall = tps / tps[-1]\n",
      "/home/debian/Simao/miniconda3/envs/thesis/lib/python3.10/site-packages/sklearn/metrics/_ranking.py:864: RuntimeWarning: invalid value encountered in true_divide\n",
      "  recall = tps / tps[-1]\n",
      "/home/debian/Simao/miniconda3/envs/thesis/lib/python3.10/site-packages/sklearn/metrics/_ranking.py:864: RuntimeWarning: invalid value encountered in true_divide\n",
      "  recall = tps / tps[-1]\n",
      "/home/debian/Simao/miniconda3/envs/thesis/lib/python3.10/site-packages/sklearn/metrics/_ranking.py:864: RuntimeWarning: invalid value encountered in true_divide\n",
      "  recall = tps / tps[-1]\n",
      "/home/debian/Simao/miniconda3/envs/thesis/lib/python3.10/site-packages/sklearn/metrics/_ranking.py:864: RuntimeWarning: invalid value encountered in true_divide\n",
      "  recall = tps / tps[-1]\n",
      "/home/debian/Simao/miniconda3/envs/thesis/lib/python3.10/site-packages/sklearn/metrics/_ranking.py:864: RuntimeWarning: invalid value encountered in true_divide\n",
      "  recall = tps / tps[-1]\n",
      "/home/debian/Simao/miniconda3/envs/thesis/lib/python3.10/site-packages/sklearn/metrics/_ranking.py:864: RuntimeWarning: invalid value encountered in true_divide\n",
      "  recall = tps / tps[-1]\n",
      "/home/debian/Simao/miniconda3/envs/thesis/lib/python3.10/site-packages/sklearn/metrics/_ranking.py:864: RuntimeWarning: invalid value encountered in true_divide\n",
      "  recall = tps / tps[-1]\n",
      "/home/debian/Simao/miniconda3/envs/thesis/lib/python3.10/site-packages/sklearn/metrics/_ranking.py:864: RuntimeWarning: invalid value encountered in true_divide\n",
      "  recall = tps / tps[-1]\n",
      "/home/debian/Simao/miniconda3/envs/thesis/lib/python3.10/site-packages/sklearn/metrics/_ranking.py:864: RuntimeWarning: invalid value encountered in true_divide\n",
      "  recall = tps / tps[-1]\n",
      "/home/debian/Simao/miniconda3/envs/thesis/lib/python3.10/site-packages/sklearn/metrics/_ranking.py:864: RuntimeWarning: invalid value encountered in true_divide\n",
      "  recall = tps / tps[-1]\n",
      "/home/debian/Simao/miniconda3/envs/thesis/lib/python3.10/site-packages/sklearn/metrics/_ranking.py:864: RuntimeWarning: invalid value encountered in true_divide\n",
      "  recall = tps / tps[-1]\n",
      "/home/debian/Simao/miniconda3/envs/thesis/lib/python3.10/site-packages/sklearn/metrics/_ranking.py:864: RuntimeWarning: invalid value encountered in true_divide\n",
      "  recall = tps / tps[-1]\n",
      "/home/debian/Simao/miniconda3/envs/thesis/lib/python3.10/site-packages/sklearn/metrics/_ranking.py:864: RuntimeWarning: invalid value encountered in true_divide\n",
      "  recall = tps / tps[-1]\n",
      "/home/debian/Simao/miniconda3/envs/thesis/lib/python3.10/site-packages/sklearn/metrics/_ranking.py:864: RuntimeWarning: invalid value encountered in true_divide\n",
      "  recall = tps / tps[-1]\n",
      "/home/debian/Simao/miniconda3/envs/thesis/lib/python3.10/site-packages/sklearn/metrics/_ranking.py:864: RuntimeWarning: invalid value encountered in true_divide\n",
      "  recall = tps / tps[-1]\n",
      "/home/debian/Simao/miniconda3/envs/thesis/lib/python3.10/site-packages/sklearn/metrics/_ranking.py:864: RuntimeWarning: invalid value encountered in true_divide\n",
      "  recall = tps / tps[-1]\n",
      "/home/debian/Simao/miniconda3/envs/thesis/lib/python3.10/site-packages/sklearn/metrics/_ranking.py:864: RuntimeWarning: invalid value encountered in true_divide\n",
      "  recall = tps / tps[-1]\n",
      "/home/debian/Simao/miniconda3/envs/thesis/lib/python3.10/site-packages/sklearn/metrics/_ranking.py:864: RuntimeWarning: invalid value encountered in true_divide\n",
      "  recall = tps / tps[-1]\n",
      "/home/debian/Simao/miniconda3/envs/thesis/lib/python3.10/site-packages/sklearn/metrics/_ranking.py:864: RuntimeWarning: invalid value encountered in true_divide\n",
      "  recall = tps / tps[-1]\n",
      "/home/debian/Simao/miniconda3/envs/thesis/lib/python3.10/site-packages/sklearn/metrics/_ranking.py:864: RuntimeWarning: invalid value encountered in true_divide\n",
      "  recall = tps / tps[-1]\n",
      "/home/debian/Simao/miniconda3/envs/thesis/lib/python3.10/site-packages/sklearn/metrics/_ranking.py:864: RuntimeWarning: invalid value encountered in true_divide\n",
      "  recall = tps / tps[-1]\n",
      "/home/debian/Simao/miniconda3/envs/thesis/lib/python3.10/site-packages/sklearn/metrics/_ranking.py:864: RuntimeWarning: invalid value encountered in true_divide\n",
      "  recall = tps / tps[-1]\n",
      "/home/debian/Simao/miniconda3/envs/thesis/lib/python3.10/site-packages/sklearn/metrics/_ranking.py:864: RuntimeWarning: invalid value encountered in true_divide\n",
      "  recall = tps / tps[-1]\n",
      "/home/debian/Simao/miniconda3/envs/thesis/lib/python3.10/site-packages/sklearn/metrics/_ranking.py:864: RuntimeWarning: invalid value encountered in true_divide\n",
      "  recall = tps / tps[-1]\n",
      "/home/debian/Simao/miniconda3/envs/thesis/lib/python3.10/site-packages/sklearn/metrics/_ranking.py:864: RuntimeWarning: invalid value encountered in true_divide\n",
      "  recall = tps / tps[-1]\n",
      "/home/debian/Simao/miniconda3/envs/thesis/lib/python3.10/site-packages/sklearn/metrics/_ranking.py:864: RuntimeWarning: invalid value encountered in true_divide\n",
      "  recall = tps / tps[-1]\n",
      "/home/debian/Simao/miniconda3/envs/thesis/lib/python3.10/site-packages/sklearn/metrics/_ranking.py:864: RuntimeWarning: invalid value encountered in true_divide\n",
      "  recall = tps / tps[-1]\n",
      "/home/debian/Simao/miniconda3/envs/thesis/lib/python3.10/site-packages/sklearn/metrics/_ranking.py:864: RuntimeWarning: invalid value encountered in true_divide\n",
      "  recall = tps / tps[-1]\n",
      "/home/debian/Simao/miniconda3/envs/thesis/lib/python3.10/site-packages/sklearn/metrics/_ranking.py:864: RuntimeWarning: invalid value encountered in true_divide\n",
      "  recall = tps / tps[-1]\n",
      "/home/debian/Simao/miniconda3/envs/thesis/lib/python3.10/site-packages/sklearn/metrics/_ranking.py:864: RuntimeWarning: invalid value encountered in true_divide\n",
      "  recall = tps / tps[-1]\n",
      "/home/debian/Simao/miniconda3/envs/thesis/lib/python3.10/site-packages/sklearn/metrics/_ranking.py:864: RuntimeWarning: invalid value encountered in true_divide\n",
      "  recall = tps / tps[-1]\n",
      "/home/debian/Simao/miniconda3/envs/thesis/lib/python3.10/site-packages/sklearn/metrics/_ranking.py:864: RuntimeWarning: invalid value encountered in true_divide\n",
      "  recall = tps / tps[-1]\n",
      "/home/debian/Simao/miniconda3/envs/thesis/lib/python3.10/site-packages/sklearn/metrics/_ranking.py:864: RuntimeWarning: invalid value encountered in true_divide\n",
      "  recall = tps / tps[-1]\n",
      "/home/debian/Simao/miniconda3/envs/thesis/lib/python3.10/site-packages/sklearn/metrics/_ranking.py:864: RuntimeWarning: invalid value encountered in true_divide\n",
      "  recall = tps / tps[-1]\n",
      "/home/debian/Simao/miniconda3/envs/thesis/lib/python3.10/site-packages/sklearn/metrics/_ranking.py:864: RuntimeWarning: invalid value encountered in true_divide\n",
      "  recall = tps / tps[-1]\n",
      "/home/debian/Simao/miniconda3/envs/thesis/lib/python3.10/site-packages/sklearn/metrics/_ranking.py:864: RuntimeWarning: invalid value encountered in true_divide\n",
      "  recall = tps / tps[-1]\n",
      "/home/debian/Simao/miniconda3/envs/thesis/lib/python3.10/site-packages/sklearn/metrics/_ranking.py:864: RuntimeWarning: invalid value encountered in true_divide\n",
      "  recall = tps / tps[-1]\n",
      "/home/debian/Simao/miniconda3/envs/thesis/lib/python3.10/site-packages/sklearn/metrics/_ranking.py:864: RuntimeWarning: invalid value encountered in true_divide\n",
      "  recall = tps / tps[-1]\n",
      "/home/debian/Simao/miniconda3/envs/thesis/lib/python3.10/site-packages/sklearn/metrics/_ranking.py:864: RuntimeWarning: invalid value encountered in true_divide\n",
      "  recall = tps / tps[-1]\n",
      "/home/debian/Simao/miniconda3/envs/thesis/lib/python3.10/site-packages/sklearn/metrics/_ranking.py:864: RuntimeWarning: invalid value encountered in true_divide\n",
      "  recall = tps / tps[-1]\n",
      "/home/debian/Simao/miniconda3/envs/thesis/lib/python3.10/site-packages/sklearn/metrics/_ranking.py:864: RuntimeWarning: invalid value encountered in true_divide\n",
      "  recall = tps / tps[-1]\n",
      "/home/debian/Simao/miniconda3/envs/thesis/lib/python3.10/site-packages/sklearn/metrics/_ranking.py:864: RuntimeWarning: invalid value encountered in true_divide\n",
      "  recall = tps / tps[-1]\n",
      "/home/debian/Simao/miniconda3/envs/thesis/lib/python3.10/site-packages/sklearn/metrics/_ranking.py:864: RuntimeWarning: invalid value encountered in true_divide\n",
      "  recall = tps / tps[-1]\n",
      "/home/debian/Simao/miniconda3/envs/thesis/lib/python3.10/site-packages/sklearn/metrics/_ranking.py:864: RuntimeWarning: invalid value encountered in true_divide\n",
      "  recall = tps / tps[-1]\n",
      "/home/debian/Simao/miniconda3/envs/thesis/lib/python3.10/site-packages/sklearn/metrics/_ranking.py:864: RuntimeWarning: invalid value encountered in true_divide\n",
      "  recall = tps / tps[-1]\n",
      "/home/debian/Simao/miniconda3/envs/thesis/lib/python3.10/site-packages/sklearn/metrics/_ranking.py:864: RuntimeWarning: invalid value encountered in true_divide\n",
      "  recall = tps / tps[-1]\n",
      "/home/debian/Simao/miniconda3/envs/thesis/lib/python3.10/site-packages/sklearn/metrics/_ranking.py:864: RuntimeWarning: invalid value encountered in true_divide\n",
      "  recall = tps / tps[-1]\n",
      "/home/debian/Simao/miniconda3/envs/thesis/lib/python3.10/site-packages/sklearn/metrics/_ranking.py:864: RuntimeWarning: invalid value encountered in true_divide\n",
      "  recall = tps / tps[-1]\n",
      "/home/debian/Simao/miniconda3/envs/thesis/lib/python3.10/site-packages/sklearn/metrics/_ranking.py:864: RuntimeWarning: invalid value encountered in true_divide\n",
      "  recall = tps / tps[-1]\n",
      "/home/debian/Simao/miniconda3/envs/thesis/lib/python3.10/site-packages/sklearn/metrics/_ranking.py:864: RuntimeWarning: invalid value encountered in true_divide\n",
      "  recall = tps / tps[-1]\n",
      "/home/debian/Simao/miniconda3/envs/thesis/lib/python3.10/site-packages/sklearn/metrics/_ranking.py:864: RuntimeWarning: invalid value encountered in true_divide\n",
      "  recall = tps / tps[-1]\n",
      "/home/debian/Simao/miniconda3/envs/thesis/lib/python3.10/site-packages/sklearn/metrics/_ranking.py:864: RuntimeWarning: invalid value encountered in true_divide\n",
      "  recall = tps / tps[-1]\n",
      "/home/debian/Simao/miniconda3/envs/thesis/lib/python3.10/site-packages/sklearn/metrics/_ranking.py:864: RuntimeWarning: invalid value encountered in true_divide\n",
      "  recall = tps / tps[-1]\n",
      "/home/debian/Simao/miniconda3/envs/thesis/lib/python3.10/site-packages/sklearn/metrics/_ranking.py:864: RuntimeWarning: invalid value encountered in true_divide\n",
      "  recall = tps / tps[-1]\n",
      "/home/debian/Simao/miniconda3/envs/thesis/lib/python3.10/site-packages/sklearn/metrics/_ranking.py:864: RuntimeWarning: invalid value encountered in true_divide\n",
      "  recall = tps / tps[-1]\n",
      "/home/debian/Simao/miniconda3/envs/thesis/lib/python3.10/site-packages/sklearn/metrics/_ranking.py:864: RuntimeWarning: invalid value encountered in true_divide\n",
      "  recall = tps / tps[-1]\n",
      "/home/debian/Simao/miniconda3/envs/thesis/lib/python3.10/site-packages/sklearn/metrics/_ranking.py:864: RuntimeWarning: invalid value encountered in true_divide\n",
      "  recall = tps / tps[-1]\n",
      "/home/debian/Simao/miniconda3/envs/thesis/lib/python3.10/site-packages/sklearn/metrics/_ranking.py:864: RuntimeWarning: invalid value encountered in true_divide\n",
      "  recall = tps / tps[-1]\n",
      "/home/debian/Simao/miniconda3/envs/thesis/lib/python3.10/site-packages/sklearn/metrics/_ranking.py:864: RuntimeWarning: invalid value encountered in true_divide\n",
      "  recall = tps / tps[-1]\n",
      "/home/debian/Simao/miniconda3/envs/thesis/lib/python3.10/site-packages/sklearn/metrics/_ranking.py:864: RuntimeWarning: invalid value encountered in true_divide\n",
      "  recall = tps / tps[-1]\n",
      "/home/debian/Simao/miniconda3/envs/thesis/lib/python3.10/site-packages/sklearn/metrics/_ranking.py:864: RuntimeWarning: invalid value encountered in true_divide\n",
      "  recall = tps / tps[-1]\n",
      "/home/debian/Simao/miniconda3/envs/thesis/lib/python3.10/site-packages/sklearn/metrics/_ranking.py:864: RuntimeWarning: invalid value encountered in true_divide\n",
      "  recall = tps / tps[-1]\n",
      "/home/debian/Simao/miniconda3/envs/thesis/lib/python3.10/site-packages/sklearn/metrics/_ranking.py:864: RuntimeWarning: invalid value encountered in true_divide\n",
      "  recall = tps / tps[-1]\n",
      "/home/debian/Simao/miniconda3/envs/thesis/lib/python3.10/site-packages/sklearn/metrics/_ranking.py:864: RuntimeWarning: invalid value encountered in true_divide\n",
      "  recall = tps / tps[-1]\n",
      "/home/debian/Simao/miniconda3/envs/thesis/lib/python3.10/site-packages/sklearn/metrics/_ranking.py:864: RuntimeWarning: invalid value encountered in true_divide\n",
      "  recall = tps / tps[-1]\n",
      "/home/debian/Simao/miniconda3/envs/thesis/lib/python3.10/site-packages/sklearn/metrics/_ranking.py:864: RuntimeWarning: invalid value encountered in true_divide\n",
      "  recall = tps / tps[-1]\n",
      "/home/debian/Simao/miniconda3/envs/thesis/lib/python3.10/site-packages/sklearn/metrics/_ranking.py:864: RuntimeWarning: invalid value encountered in true_divide\n",
      "  recall = tps / tps[-1]\n",
      "/home/debian/Simao/miniconda3/envs/thesis/lib/python3.10/site-packages/sklearn/metrics/_ranking.py:864: RuntimeWarning: invalid value encountered in true_divide\n",
      "  recall = tps / tps[-1]\n",
      "/home/debian/Simao/miniconda3/envs/thesis/lib/python3.10/site-packages/sklearn/metrics/_ranking.py:864: RuntimeWarning: invalid value encountered in true_divide\n",
      "  recall = tps / tps[-1]\n",
      "/home/debian/Simao/miniconda3/envs/thesis/lib/python3.10/site-packages/sklearn/metrics/_ranking.py:864: RuntimeWarning: invalid value encountered in true_divide\n",
      "  recall = tps / tps[-1]\n",
      "/home/debian/Simao/miniconda3/envs/thesis/lib/python3.10/site-packages/sklearn/metrics/_ranking.py:864: RuntimeWarning: invalid value encountered in true_divide\n",
      "  recall = tps / tps[-1]\n",
      "/home/debian/Simao/miniconda3/envs/thesis/lib/python3.10/site-packages/sklearn/metrics/_ranking.py:864: RuntimeWarning: invalid value encountered in true_divide\n",
      "  recall = tps / tps[-1]\n",
      "/home/debian/Simao/miniconda3/envs/thesis/lib/python3.10/site-packages/sklearn/metrics/_ranking.py:864: RuntimeWarning: invalid value encountered in true_divide\n",
      "  recall = tps / tps[-1]\n",
      "/home/debian/Simao/miniconda3/envs/thesis/lib/python3.10/site-packages/sklearn/metrics/_ranking.py:864: RuntimeWarning: invalid value encountered in true_divide\n",
      "  recall = tps / tps[-1]\n",
      "/home/debian/Simao/miniconda3/envs/thesis/lib/python3.10/site-packages/sklearn/metrics/_ranking.py:864: RuntimeWarning: invalid value encountered in true_divide\n",
      "  recall = tps / tps[-1]\n",
      "/home/debian/Simao/miniconda3/envs/thesis/lib/python3.10/site-packages/sklearn/metrics/_ranking.py:864: RuntimeWarning: invalid value encountered in true_divide\n",
      "  recall = tps / tps[-1]\n",
      "/home/debian/Simao/miniconda3/envs/thesis/lib/python3.10/site-packages/sklearn/metrics/_ranking.py:864: RuntimeWarning: invalid value encountered in true_divide\n",
      "  recall = tps / tps[-1]\n",
      "/home/debian/Simao/miniconda3/envs/thesis/lib/python3.10/site-packages/sklearn/metrics/_ranking.py:864: RuntimeWarning: invalid value encountered in true_divide\n",
      "  recall = tps / tps[-1]\n",
      "/home/debian/Simao/miniconda3/envs/thesis/lib/python3.10/site-packages/sklearn/metrics/_ranking.py:864: RuntimeWarning: invalid value encountered in true_divide\n",
      "  recall = tps / tps[-1]\n",
      "/home/debian/Simao/miniconda3/envs/thesis/lib/python3.10/site-packages/sklearn/metrics/_ranking.py:864: RuntimeWarning: invalid value encountered in true_divide\n",
      "  recall = tps / tps[-1]\n",
      "/home/debian/Simao/miniconda3/envs/thesis/lib/python3.10/site-packages/sklearn/metrics/_ranking.py:864: RuntimeWarning: invalid value encountered in true_divide\n",
      "  recall = tps / tps[-1]\n",
      "/home/debian/Simao/miniconda3/envs/thesis/lib/python3.10/site-packages/sklearn/metrics/_ranking.py:864: RuntimeWarning: invalid value encountered in true_divide\n",
      "  recall = tps / tps[-1]\n",
      "/home/debian/Simao/miniconda3/envs/thesis/lib/python3.10/site-packages/sklearn/metrics/_ranking.py:864: RuntimeWarning: invalid value encountered in true_divide\n",
      "  recall = tps / tps[-1]\n",
      "/home/debian/Simao/miniconda3/envs/thesis/lib/python3.10/site-packages/sklearn/metrics/_ranking.py:864: RuntimeWarning: invalid value encountered in true_divide\n",
      "  recall = tps / tps[-1]\n",
      "/home/debian/Simao/miniconda3/envs/thesis/lib/python3.10/site-packages/sklearn/metrics/_ranking.py:864: RuntimeWarning: invalid value encountered in true_divide\n",
      "  recall = tps / tps[-1]\n",
      "/home/debian/Simao/miniconda3/envs/thesis/lib/python3.10/site-packages/sklearn/metrics/_ranking.py:864: RuntimeWarning: invalid value encountered in true_divide\n",
      "  recall = tps / tps[-1]\n",
      "/home/debian/Simao/miniconda3/envs/thesis/lib/python3.10/site-packages/sklearn/metrics/_ranking.py:864: RuntimeWarning: invalid value encountered in true_divide\n",
      "  recall = tps / tps[-1]\n",
      "/home/debian/Simao/miniconda3/envs/thesis/lib/python3.10/site-packages/sklearn/metrics/_ranking.py:864: RuntimeWarning: invalid value encountered in true_divide\n",
      "  recall = tps / tps[-1]\n",
      "/home/debian/Simao/miniconda3/envs/thesis/lib/python3.10/site-packages/sklearn/metrics/_ranking.py:864: RuntimeWarning: invalid value encountered in true_divide\n",
      "  recall = tps / tps[-1]\n",
      "/home/debian/Simao/miniconda3/envs/thesis/lib/python3.10/site-packages/sklearn/metrics/_ranking.py:864: RuntimeWarning: invalid value encountered in true_divide\n",
      "  recall = tps / tps[-1]\n",
      "/home/debian/Simao/miniconda3/envs/thesis/lib/python3.10/site-packages/sklearn/metrics/_ranking.py:864: RuntimeWarning: invalid value encountered in true_divide\n",
      "  recall = tps / tps[-1]\n",
      "/home/debian/Simao/miniconda3/envs/thesis/lib/python3.10/site-packages/sklearn/metrics/_ranking.py:864: RuntimeWarning: invalid value encountered in true_divide\n",
      "  recall = tps / tps[-1]\n",
      "/home/debian/Simao/miniconda3/envs/thesis/lib/python3.10/site-packages/sklearn/metrics/_ranking.py:864: RuntimeWarning: invalid value encountered in true_divide\n",
      "  recall = tps / tps[-1]\n",
      "/home/debian/Simao/miniconda3/envs/thesis/lib/python3.10/site-packages/sklearn/metrics/_ranking.py:864: RuntimeWarning: invalid value encountered in true_divide\n",
      "  recall = tps / tps[-1]\n",
      "/home/debian/Simao/miniconda3/envs/thesis/lib/python3.10/site-packages/sklearn/metrics/_ranking.py:864: RuntimeWarning: invalid value encountered in true_divide\n",
      "  recall = tps / tps[-1]\n",
      "/home/debian/Simao/miniconda3/envs/thesis/lib/python3.10/site-packages/sklearn/metrics/_ranking.py:864: RuntimeWarning: invalid value encountered in true_divide\n",
      "  recall = tps / tps[-1]\n",
      "/home/debian/Simao/miniconda3/envs/thesis/lib/python3.10/site-packages/sklearn/metrics/_ranking.py:864: RuntimeWarning: invalid value encountered in true_divide\n",
      "  recall = tps / tps[-1]\n",
      "/home/debian/Simao/miniconda3/envs/thesis/lib/python3.10/site-packages/sklearn/metrics/_ranking.py:864: RuntimeWarning: invalid value encountered in true_divide\n",
      "  recall = tps / tps[-1]\n",
      "/home/debian/Simao/miniconda3/envs/thesis/lib/python3.10/site-packages/sklearn/metrics/_ranking.py:864: RuntimeWarning: invalid value encountered in true_divide\n",
      "  recall = tps / tps[-1]\n",
      "/home/debian/Simao/miniconda3/envs/thesis/lib/python3.10/site-packages/sklearn/metrics/_ranking.py:864: RuntimeWarning: invalid value encountered in true_divide\n",
      "  recall = tps / tps[-1]\n",
      "/home/debian/Simao/miniconda3/envs/thesis/lib/python3.10/site-packages/sklearn/metrics/_ranking.py:864: RuntimeWarning: invalid value encountered in true_divide\n",
      "  recall = tps / tps[-1]\n",
      "/home/debian/Simao/miniconda3/envs/thesis/lib/python3.10/site-packages/sklearn/metrics/_ranking.py:864: RuntimeWarning: invalid value encountered in true_divide\n",
      "  recall = tps / tps[-1]\n",
      "/home/debian/Simao/miniconda3/envs/thesis/lib/python3.10/site-packages/sklearn/metrics/_ranking.py:864: RuntimeWarning: invalid value encountered in true_divide\n",
      "  recall = tps / tps[-1]\n",
      "/home/debian/Simao/miniconda3/envs/thesis/lib/python3.10/site-packages/sklearn/metrics/_ranking.py:864: RuntimeWarning: invalid value encountered in true_divide\n",
      "  recall = tps / tps[-1]\n",
      "/home/debian/Simao/miniconda3/envs/thesis/lib/python3.10/site-packages/sklearn/metrics/_ranking.py:864: RuntimeWarning: invalid value encountered in true_divide\n",
      "  recall = tps / tps[-1]\n",
      "/home/debian/Simao/miniconda3/envs/thesis/lib/python3.10/site-packages/sklearn/metrics/_ranking.py:864: RuntimeWarning: invalid value encountered in true_divide\n",
      "  recall = tps / tps[-1]\n",
      "/home/debian/Simao/miniconda3/envs/thesis/lib/python3.10/site-packages/sklearn/metrics/_ranking.py:864: RuntimeWarning: invalid value encountered in true_divide\n",
      "  recall = tps / tps[-1]\n",
      "/home/debian/Simao/miniconda3/envs/thesis/lib/python3.10/site-packages/sklearn/metrics/_ranking.py:864: RuntimeWarning: invalid value encountered in true_divide\n",
      "  recall = tps / tps[-1]\n",
      "/home/debian/Simao/miniconda3/envs/thesis/lib/python3.10/site-packages/sklearn/metrics/_ranking.py:864: RuntimeWarning: invalid value encountered in true_divide\n",
      "  recall = tps / tps[-1]\n",
      "/home/debian/Simao/miniconda3/envs/thesis/lib/python3.10/site-packages/sklearn/metrics/_ranking.py:864: RuntimeWarning: invalid value encountered in true_divide\n",
      "  recall = tps / tps[-1]\n",
      "/home/debian/Simao/miniconda3/envs/thesis/lib/python3.10/site-packages/sklearn/metrics/_ranking.py:864: RuntimeWarning: invalid value encountered in true_divide\n",
      "  recall = tps / tps[-1]\n",
      "/home/debian/Simao/miniconda3/envs/thesis/lib/python3.10/site-packages/sklearn/metrics/_ranking.py:864: RuntimeWarning: invalid value encountered in true_divide\n",
      "  recall = tps / tps[-1]\n",
      "/home/debian/Simao/miniconda3/envs/thesis/lib/python3.10/site-packages/sklearn/metrics/_ranking.py:864: RuntimeWarning: invalid value encountered in true_divide\n",
      "  recall = tps / tps[-1]\n",
      "/home/debian/Simao/miniconda3/envs/thesis/lib/python3.10/site-packages/sklearn/metrics/_ranking.py:864: RuntimeWarning: invalid value encountered in true_divide\n",
      "  recall = tps / tps[-1]\n",
      "/home/debian/Simao/miniconda3/envs/thesis/lib/python3.10/site-packages/sklearn/metrics/_ranking.py:864: RuntimeWarning: invalid value encountered in true_divide\n",
      "  recall = tps / tps[-1]\n",
      "/home/debian/Simao/miniconda3/envs/thesis/lib/python3.10/site-packages/sklearn/metrics/_ranking.py:864: RuntimeWarning: invalid value encountered in true_divide\n",
      "  recall = tps / tps[-1]\n",
      "/home/debian/Simao/miniconda3/envs/thesis/lib/python3.10/site-packages/sklearn/metrics/_ranking.py:864: RuntimeWarning: invalid value encountered in true_divide\n",
      "  recall = tps / tps[-1]\n",
      "/home/debian/Simao/miniconda3/envs/thesis/lib/python3.10/site-packages/sklearn/metrics/_ranking.py:864: RuntimeWarning: invalid value encountered in true_divide\n",
      "  recall = tps / tps[-1]\n",
      "/home/debian/Simao/miniconda3/envs/thesis/lib/python3.10/site-packages/sklearn/metrics/_ranking.py:864: RuntimeWarning: invalid value encountered in true_divide\n",
      "  recall = tps / tps[-1]\n",
      "/home/debian/Simao/miniconda3/envs/thesis/lib/python3.10/site-packages/sklearn/metrics/_ranking.py:864: RuntimeWarning: invalid value encountered in true_divide\n",
      "  recall = tps / tps[-1]\n",
      "/home/debian/Simao/miniconda3/envs/thesis/lib/python3.10/site-packages/sklearn/metrics/_ranking.py:864: RuntimeWarning: invalid value encountered in true_divide\n",
      "  recall = tps / tps[-1]\n",
      "/home/debian/Simao/miniconda3/envs/thesis/lib/python3.10/site-packages/sklearn/metrics/_ranking.py:864: RuntimeWarning: invalid value encountered in true_divide\n",
      "  recall = tps / tps[-1]\n",
      "/home/debian/Simao/miniconda3/envs/thesis/lib/python3.10/site-packages/sklearn/metrics/_ranking.py:864: RuntimeWarning: invalid value encountered in true_divide\n",
      "  recall = tps / tps[-1]\n",
      "/home/debian/Simao/miniconda3/envs/thesis/lib/python3.10/site-packages/sklearn/metrics/_ranking.py:864: RuntimeWarning: invalid value encountered in true_divide\n",
      "  recall = tps / tps[-1]\n",
      "/home/debian/Simao/miniconda3/envs/thesis/lib/python3.10/site-packages/sklearn/metrics/_ranking.py:864: RuntimeWarning: invalid value encountered in true_divide\n",
      "  recall = tps / tps[-1]\n",
      "/home/debian/Simao/miniconda3/envs/thesis/lib/python3.10/site-packages/sklearn/metrics/_ranking.py:864: RuntimeWarning: invalid value encountered in true_divide\n",
      "  recall = tps / tps[-1]\n",
      "/home/debian/Simao/miniconda3/envs/thesis/lib/python3.10/site-packages/sklearn/metrics/_ranking.py:864: RuntimeWarning: invalid value encountered in true_divide\n",
      "  recall = tps / tps[-1]\n",
      "/home/debian/Simao/miniconda3/envs/thesis/lib/python3.10/site-packages/sklearn/metrics/_ranking.py:864: RuntimeWarning: invalid value encountered in true_divide\n",
      "  recall = tps / tps[-1]\n",
      "/home/debian/Simao/miniconda3/envs/thesis/lib/python3.10/site-packages/sklearn/metrics/_ranking.py:864: RuntimeWarning: invalid value encountered in true_divide\n",
      "  recall = tps / tps[-1]\n",
      "/home/debian/Simao/miniconda3/envs/thesis/lib/python3.10/site-packages/sklearn/metrics/_ranking.py:864: RuntimeWarning: invalid value encountered in true_divide\n",
      "  recall = tps / tps[-1]\n",
      "/home/debian/Simao/miniconda3/envs/thesis/lib/python3.10/site-packages/sklearn/metrics/_ranking.py:864: RuntimeWarning: invalid value encountered in true_divide\n",
      "  recall = tps / tps[-1]\n",
      "/home/debian/Simao/miniconda3/envs/thesis/lib/python3.10/site-packages/sklearn/metrics/_ranking.py:864: RuntimeWarning: invalid value encountered in true_divide\n",
      "  recall = tps / tps[-1]\n",
      "/home/debian/Simao/miniconda3/envs/thesis/lib/python3.10/site-packages/sklearn/metrics/_ranking.py:864: RuntimeWarning: invalid value encountered in true_divide\n",
      "  recall = tps / tps[-1]\n",
      "/home/debian/Simao/miniconda3/envs/thesis/lib/python3.10/site-packages/sklearn/metrics/_ranking.py:864: RuntimeWarning: invalid value encountered in true_divide\n",
      "  recall = tps / tps[-1]\n",
      "/home/debian/Simao/miniconda3/envs/thesis/lib/python3.10/site-packages/sklearn/metrics/_ranking.py:864: RuntimeWarning: invalid value encountered in true_divide\n",
      "  recall = tps / tps[-1]\n",
      "/home/debian/Simao/miniconda3/envs/thesis/lib/python3.10/site-packages/sklearn/metrics/_ranking.py:864: RuntimeWarning: invalid value encountered in true_divide\n",
      "  recall = tps / tps[-1]\n",
      "/home/debian/Simao/miniconda3/envs/thesis/lib/python3.10/site-packages/sklearn/metrics/_ranking.py:864: RuntimeWarning: invalid value encountered in true_divide\n",
      "  recall = tps / tps[-1]\n",
      "/home/debian/Simao/miniconda3/envs/thesis/lib/python3.10/site-packages/sklearn/metrics/_ranking.py:864: RuntimeWarning: invalid value encountered in true_divide\n",
      "  recall = tps / tps[-1]\n",
      "/home/debian/Simao/miniconda3/envs/thesis/lib/python3.10/site-packages/sklearn/metrics/_ranking.py:864: RuntimeWarning: invalid value encountered in true_divide\n",
      "  recall = tps / tps[-1]\n",
      "/home/debian/Simao/miniconda3/envs/thesis/lib/python3.10/site-packages/sklearn/metrics/_ranking.py:864: RuntimeWarning: invalid value encountered in true_divide\n",
      "  recall = tps / tps[-1]\n",
      "/home/debian/Simao/miniconda3/envs/thesis/lib/python3.10/site-packages/sklearn/metrics/_ranking.py:864: RuntimeWarning: invalid value encountered in true_divide\n",
      "  recall = tps / tps[-1]\n",
      "/home/debian/Simao/miniconda3/envs/thesis/lib/python3.10/site-packages/sklearn/metrics/_ranking.py:864: RuntimeWarning: invalid value encountered in true_divide\n",
      "  recall = tps / tps[-1]\n",
      "/home/debian/Simao/miniconda3/envs/thesis/lib/python3.10/site-packages/sklearn/metrics/_ranking.py:864: RuntimeWarning: invalid value encountered in true_divide\n",
      "  recall = tps / tps[-1]\n",
      "/home/debian/Simao/miniconda3/envs/thesis/lib/python3.10/site-packages/sklearn/metrics/_ranking.py:864: RuntimeWarning: invalid value encountered in true_divide\n",
      "  recall = tps / tps[-1]\n",
      "/home/debian/Simao/miniconda3/envs/thesis/lib/python3.10/site-packages/sklearn/metrics/_ranking.py:864: RuntimeWarning: invalid value encountered in true_divide\n",
      "  recall = tps / tps[-1]\n",
      "/home/debian/Simao/miniconda3/envs/thesis/lib/python3.10/site-packages/sklearn/metrics/_ranking.py:864: RuntimeWarning: invalid value encountered in true_divide\n",
      "  recall = tps / tps[-1]\n",
      "/home/debian/Simao/miniconda3/envs/thesis/lib/python3.10/site-packages/sklearn/metrics/_ranking.py:864: RuntimeWarning: invalid value encountered in true_divide\n",
      "  recall = tps / tps[-1]\n",
      "/home/debian/Simao/miniconda3/envs/thesis/lib/python3.10/site-packages/sklearn/metrics/_ranking.py:864: RuntimeWarning: invalid value encountered in true_divide\n",
      "  recall = tps / tps[-1]\n",
      "/home/debian/Simao/miniconda3/envs/thesis/lib/python3.10/site-packages/sklearn/metrics/_ranking.py:864: RuntimeWarning: invalid value encountered in true_divide\n",
      "  recall = tps / tps[-1]\n",
      "/home/debian/Simao/miniconda3/envs/thesis/lib/python3.10/site-packages/sklearn/metrics/_ranking.py:864: RuntimeWarning: invalid value encountered in true_divide\n",
      "  recall = tps / tps[-1]\n",
      "/home/debian/Simao/miniconda3/envs/thesis/lib/python3.10/site-packages/sklearn/metrics/_ranking.py:864: RuntimeWarning: invalid value encountered in true_divide\n",
      "  recall = tps / tps[-1]\n",
      "/home/debian/Simao/miniconda3/envs/thesis/lib/python3.10/site-packages/sklearn/metrics/_ranking.py:864: RuntimeWarning: invalid value encountered in true_divide\n",
      "  recall = tps / tps[-1]\n",
      "/home/debian/Simao/miniconda3/envs/thesis/lib/python3.10/site-packages/sklearn/metrics/_ranking.py:864: RuntimeWarning: invalid value encountered in true_divide\n",
      "  recall = tps / tps[-1]\n",
      "/home/debian/Simao/miniconda3/envs/thesis/lib/python3.10/site-packages/sklearn/metrics/_ranking.py:864: RuntimeWarning: invalid value encountered in true_divide\n",
      "  recall = tps / tps[-1]\n",
      "/home/debian/Simao/miniconda3/envs/thesis/lib/python3.10/site-packages/sklearn/metrics/_ranking.py:864: RuntimeWarning: invalid value encountered in true_divide\n",
      "  recall = tps / tps[-1]\n",
      "/home/debian/Simao/miniconda3/envs/thesis/lib/python3.10/site-packages/sklearn/metrics/_ranking.py:864: RuntimeWarning: invalid value encountered in true_divide\n",
      "  recall = tps / tps[-1]\n",
      "/home/debian/Simao/miniconda3/envs/thesis/lib/python3.10/site-packages/sklearn/metrics/_ranking.py:864: RuntimeWarning: invalid value encountered in true_divide\n",
      "  recall = tps / tps[-1]\n",
      "/home/debian/Simao/miniconda3/envs/thesis/lib/python3.10/site-packages/sklearn/metrics/_ranking.py:864: RuntimeWarning: invalid value encountered in true_divide\n",
      "  recall = tps / tps[-1]\n",
      "/home/debian/Simao/miniconda3/envs/thesis/lib/python3.10/site-packages/sklearn/metrics/_ranking.py:864: RuntimeWarning: invalid value encountered in true_divide\n",
      "  recall = tps / tps[-1]\n",
      "/home/debian/Simao/miniconda3/envs/thesis/lib/python3.10/site-packages/sklearn/metrics/_ranking.py:864: RuntimeWarning: invalid value encountered in true_divide\n",
      "  recall = tps / tps[-1]\n",
      "/home/debian/Simao/miniconda3/envs/thesis/lib/python3.10/site-packages/sklearn/metrics/_ranking.py:864: RuntimeWarning: invalid value encountered in true_divide\n",
      "  recall = tps / tps[-1]\n",
      "/home/debian/Simao/miniconda3/envs/thesis/lib/python3.10/site-packages/sklearn/metrics/_ranking.py:864: RuntimeWarning: invalid value encountered in true_divide\n",
      "  recall = tps / tps[-1]\n",
      "/home/debian/Simao/miniconda3/envs/thesis/lib/python3.10/site-packages/sklearn/metrics/_ranking.py:864: RuntimeWarning: invalid value encountered in true_divide\n",
      "  recall = tps / tps[-1]\n",
      "/home/debian/Simao/miniconda3/envs/thesis/lib/python3.10/site-packages/sklearn/metrics/_ranking.py:864: RuntimeWarning: invalid value encountered in true_divide\n",
      "  recall = tps / tps[-1]\n",
      "/home/debian/Simao/miniconda3/envs/thesis/lib/python3.10/site-packages/sklearn/metrics/_ranking.py:864: RuntimeWarning: invalid value encountered in true_divide\n",
      "  recall = tps / tps[-1]\n",
      "/home/debian/Simao/miniconda3/envs/thesis/lib/python3.10/site-packages/sklearn/metrics/_ranking.py:864: RuntimeWarning: invalid value encountered in true_divide\n",
      "  recall = tps / tps[-1]\n",
      "/home/debian/Simao/miniconda3/envs/thesis/lib/python3.10/site-packages/sklearn/metrics/_ranking.py:864: RuntimeWarning: invalid value encountered in true_divide\n",
      "  recall = tps / tps[-1]\n",
      "/home/debian/Simao/miniconda3/envs/thesis/lib/python3.10/site-packages/sklearn/metrics/_ranking.py:864: RuntimeWarning: invalid value encountered in true_divide\n",
      "  recall = tps / tps[-1]\n",
      "/home/debian/Simao/miniconda3/envs/thesis/lib/python3.10/site-packages/sklearn/metrics/_ranking.py:864: RuntimeWarning: invalid value encountered in true_divide\n",
      "  recall = tps / tps[-1]\n",
      "/home/debian/Simao/miniconda3/envs/thesis/lib/python3.10/site-packages/sklearn/metrics/_ranking.py:864: RuntimeWarning: invalid value encountered in true_divide\n",
      "  recall = tps / tps[-1]\n",
      "/home/debian/Simao/miniconda3/envs/thesis/lib/python3.10/site-packages/sklearn/metrics/_ranking.py:864: RuntimeWarning: invalid value encountered in true_divide\n",
      "  recall = tps / tps[-1]\n",
      "/home/debian/Simao/miniconda3/envs/thesis/lib/python3.10/site-packages/sklearn/metrics/_ranking.py:864: RuntimeWarning: invalid value encountered in true_divide\n",
      "  recall = tps / tps[-1]\n",
      "/home/debian/Simao/miniconda3/envs/thesis/lib/python3.10/site-packages/sklearn/metrics/_ranking.py:864: RuntimeWarning: invalid value encountered in true_divide\n",
      "  recall = tps / tps[-1]\n",
      "/home/debian/Simao/miniconda3/envs/thesis/lib/python3.10/site-packages/sklearn/metrics/_ranking.py:864: RuntimeWarning: invalid value encountered in true_divide\n",
      "  recall = tps / tps[-1]\n",
      "/home/debian/Simao/miniconda3/envs/thesis/lib/python3.10/site-packages/sklearn/metrics/_ranking.py:864: RuntimeWarning: invalid value encountered in true_divide\n",
      "  recall = tps / tps[-1]\n",
      "/home/debian/Simao/miniconda3/envs/thesis/lib/python3.10/site-packages/sklearn/metrics/_ranking.py:864: RuntimeWarning: invalid value encountered in true_divide\n",
      "  recall = tps / tps[-1]\n",
      "/home/debian/Simao/miniconda3/envs/thesis/lib/python3.10/site-packages/sklearn/metrics/_ranking.py:864: RuntimeWarning: invalid value encountered in true_divide\n",
      "  recall = tps / tps[-1]\n",
      "/home/debian/Simao/miniconda3/envs/thesis/lib/python3.10/site-packages/sklearn/metrics/_ranking.py:864: RuntimeWarning: invalid value encountered in true_divide\n",
      "  recall = tps / tps[-1]\n",
      "/home/debian/Simao/miniconda3/envs/thesis/lib/python3.10/site-packages/sklearn/metrics/_ranking.py:864: RuntimeWarning: invalid value encountered in true_divide\n",
      "  recall = tps / tps[-1]\n",
      "/home/debian/Simao/miniconda3/envs/thesis/lib/python3.10/site-packages/sklearn/metrics/_ranking.py:864: RuntimeWarning: invalid value encountered in true_divide\n",
      "  recall = tps / tps[-1]\n",
      "/home/debian/Simao/miniconda3/envs/thesis/lib/python3.10/site-packages/sklearn/metrics/_ranking.py:864: RuntimeWarning: invalid value encountered in true_divide\n",
      "  recall = tps / tps[-1]\n",
      "/home/debian/Simao/miniconda3/envs/thesis/lib/python3.10/site-packages/sklearn/metrics/_ranking.py:864: RuntimeWarning: invalid value encountered in true_divide\n",
      "  recall = tps / tps[-1]\n",
      "/home/debian/Simao/miniconda3/envs/thesis/lib/python3.10/site-packages/sklearn/metrics/_ranking.py:864: RuntimeWarning: invalid value encountered in true_divide\n",
      "  recall = tps / tps[-1]\n",
      "/home/debian/Simao/miniconda3/envs/thesis/lib/python3.10/site-packages/sklearn/metrics/_ranking.py:864: RuntimeWarning: invalid value encountered in true_divide\n",
      "  recall = tps / tps[-1]\n",
      "/home/debian/Simao/miniconda3/envs/thesis/lib/python3.10/site-packages/sklearn/metrics/_ranking.py:864: RuntimeWarning: invalid value encountered in true_divide\n",
      "  recall = tps / tps[-1]\n",
      "/home/debian/Simao/miniconda3/envs/thesis/lib/python3.10/site-packages/sklearn/metrics/_ranking.py:864: RuntimeWarning: invalid value encountered in true_divide\n",
      "  recall = tps / tps[-1]\n",
      "/home/debian/Simao/miniconda3/envs/thesis/lib/python3.10/site-packages/sklearn/metrics/_ranking.py:864: RuntimeWarning: invalid value encountered in true_divide\n",
      "  recall = tps / tps[-1]\n",
      "/home/debian/Simao/miniconda3/envs/thesis/lib/python3.10/site-packages/sklearn/metrics/_ranking.py:864: RuntimeWarning: invalid value encountered in true_divide\n",
      "  recall = tps / tps[-1]\n",
      "/home/debian/Simao/miniconda3/envs/thesis/lib/python3.10/site-packages/sklearn/metrics/_ranking.py:864: RuntimeWarning: invalid value encountered in true_divide\n",
      "  recall = tps / tps[-1]\n",
      "/home/debian/Simao/miniconda3/envs/thesis/lib/python3.10/site-packages/sklearn/metrics/_ranking.py:864: RuntimeWarning: invalid value encountered in true_divide\n",
      "  recall = tps / tps[-1]\n",
      "/home/debian/Simao/miniconda3/envs/thesis/lib/python3.10/site-packages/sklearn/metrics/_ranking.py:864: RuntimeWarning: invalid value encountered in true_divide\n",
      "  recall = tps / tps[-1]\n",
      "/home/debian/Simao/miniconda3/envs/thesis/lib/python3.10/site-packages/sklearn/metrics/_ranking.py:864: RuntimeWarning: invalid value encountered in true_divide\n",
      "  recall = tps / tps[-1]\n",
      "/home/debian/Simao/miniconda3/envs/thesis/lib/python3.10/site-packages/sklearn/metrics/_ranking.py:864: RuntimeWarning: invalid value encountered in true_divide\n",
      "  recall = tps / tps[-1]\n",
      "/home/debian/Simao/miniconda3/envs/thesis/lib/python3.10/site-packages/sklearn/metrics/_ranking.py:864: RuntimeWarning: invalid value encountered in true_divide\n",
      "  recall = tps / tps[-1]\n",
      "/home/debian/Simao/miniconda3/envs/thesis/lib/python3.10/site-packages/sklearn/metrics/_ranking.py:864: RuntimeWarning: invalid value encountered in true_divide\n",
      "  recall = tps / tps[-1]\n",
      "/home/debian/Simao/miniconda3/envs/thesis/lib/python3.10/site-packages/sklearn/metrics/_ranking.py:864: RuntimeWarning: invalid value encountered in true_divide\n",
      "  recall = tps / tps[-1]\n",
      "/home/debian/Simao/miniconda3/envs/thesis/lib/python3.10/site-packages/sklearn/metrics/_ranking.py:864: RuntimeWarning: invalid value encountered in true_divide\n",
      "  recall = tps / tps[-1]\n",
      "/home/debian/Simao/miniconda3/envs/thesis/lib/python3.10/site-packages/sklearn/metrics/_ranking.py:864: RuntimeWarning: invalid value encountered in true_divide\n",
      "  recall = tps / tps[-1]\n",
      "/home/debian/Simao/miniconda3/envs/thesis/lib/python3.10/site-packages/sklearn/metrics/_ranking.py:864: RuntimeWarning: invalid value encountered in true_divide\n",
      "  recall = tps / tps[-1]\n",
      "/home/debian/Simao/miniconda3/envs/thesis/lib/python3.10/site-packages/sklearn/metrics/_ranking.py:864: RuntimeWarning: invalid value encountered in true_divide\n",
      "  recall = tps / tps[-1]\n",
      "/home/debian/Simao/miniconda3/envs/thesis/lib/python3.10/site-packages/sklearn/metrics/_ranking.py:864: RuntimeWarning: invalid value encountered in true_divide\n",
      "  recall = tps / tps[-1]\n",
      "/home/debian/Simao/miniconda3/envs/thesis/lib/python3.10/site-packages/sklearn/metrics/_ranking.py:864: RuntimeWarning: invalid value encountered in true_divide\n",
      "  recall = tps / tps[-1]\n",
      "/home/debian/Simao/miniconda3/envs/thesis/lib/python3.10/site-packages/sklearn/metrics/_ranking.py:864: RuntimeWarning: invalid value encountered in true_divide\n",
      "  recall = tps / tps[-1]\n",
      "/home/debian/Simao/miniconda3/envs/thesis/lib/python3.10/site-packages/sklearn/metrics/_ranking.py:864: RuntimeWarning: invalid value encountered in true_divide\n",
      "  recall = tps / tps[-1]\n",
      "/home/debian/Simao/miniconda3/envs/thesis/lib/python3.10/site-packages/sklearn/metrics/_ranking.py:864: RuntimeWarning: invalid value encountered in true_divide\n",
      "  recall = tps / tps[-1]\n",
      "/home/debian/Simao/miniconda3/envs/thesis/lib/python3.10/site-packages/sklearn/metrics/_ranking.py:864: RuntimeWarning: invalid value encountered in true_divide\n",
      "  recall = tps / tps[-1]\n",
      "/home/debian/Simao/miniconda3/envs/thesis/lib/python3.10/site-packages/sklearn/metrics/_ranking.py:864: RuntimeWarning: invalid value encountered in true_divide\n",
      "  recall = tps / tps[-1]\n",
      "/home/debian/Simao/miniconda3/envs/thesis/lib/python3.10/site-packages/sklearn/metrics/_ranking.py:864: RuntimeWarning: invalid value encountered in true_divide\n",
      "  recall = tps / tps[-1]\n",
      "/home/debian/Simao/miniconda3/envs/thesis/lib/python3.10/site-packages/sklearn/metrics/_ranking.py:864: RuntimeWarning: invalid value encountered in true_divide\n",
      "  recall = tps / tps[-1]\n",
      "/home/debian/Simao/miniconda3/envs/thesis/lib/python3.10/site-packages/sklearn/metrics/_ranking.py:864: RuntimeWarning: invalid value encountered in true_divide\n",
      "  recall = tps / tps[-1]\n",
      "/home/debian/Simao/miniconda3/envs/thesis/lib/python3.10/site-packages/sklearn/metrics/_ranking.py:864: RuntimeWarning: invalid value encountered in true_divide\n",
      "  recall = tps / tps[-1]\n",
      "/home/debian/Simao/miniconda3/envs/thesis/lib/python3.10/site-packages/sklearn/metrics/_ranking.py:864: RuntimeWarning: invalid value encountered in true_divide\n",
      "  recall = tps / tps[-1]\n",
      "/home/debian/Simao/miniconda3/envs/thesis/lib/python3.10/site-packages/sklearn/metrics/_ranking.py:864: RuntimeWarning: invalid value encountered in true_divide\n",
      "  recall = tps / tps[-1]\n",
      "/home/debian/Simao/miniconda3/envs/thesis/lib/python3.10/site-packages/sklearn/metrics/_ranking.py:864: RuntimeWarning: invalid value encountered in true_divide\n",
      "  recall = tps / tps[-1]\n",
      "/home/debian/Simao/miniconda3/envs/thesis/lib/python3.10/site-packages/sklearn/metrics/_ranking.py:864: RuntimeWarning: invalid value encountered in true_divide\n",
      "  recall = tps / tps[-1]\n",
      "/home/debian/Simao/miniconda3/envs/thesis/lib/python3.10/site-packages/sklearn/metrics/_ranking.py:864: RuntimeWarning: invalid value encountered in true_divide\n",
      "  recall = tps / tps[-1]\n",
      "/home/debian/Simao/miniconda3/envs/thesis/lib/python3.10/site-packages/sklearn/metrics/_ranking.py:864: RuntimeWarning: invalid value encountered in true_divide\n",
      "  recall = tps / tps[-1]\n",
      "/home/debian/Simao/miniconda3/envs/thesis/lib/python3.10/site-packages/sklearn/metrics/_ranking.py:864: RuntimeWarning: invalid value encountered in true_divide\n",
      "  recall = tps / tps[-1]\n",
      "/home/debian/Simao/miniconda3/envs/thesis/lib/python3.10/site-packages/sklearn/metrics/_ranking.py:864: RuntimeWarning: invalid value encountered in true_divide\n",
      "  recall = tps / tps[-1]\n",
      "/home/debian/Simao/miniconda3/envs/thesis/lib/python3.10/site-packages/sklearn/metrics/_ranking.py:864: RuntimeWarning: invalid value encountered in true_divide\n",
      "  recall = tps / tps[-1]\n",
      "/home/debian/Simao/miniconda3/envs/thesis/lib/python3.10/site-packages/sklearn/metrics/_ranking.py:864: RuntimeWarning: invalid value encountered in true_divide\n",
      "  recall = tps / tps[-1]\n",
      "/home/debian/Simao/miniconda3/envs/thesis/lib/python3.10/site-packages/sklearn/metrics/_ranking.py:864: RuntimeWarning: invalid value encountered in true_divide\n",
      "  recall = tps / tps[-1]\n",
      "/home/debian/Simao/miniconda3/envs/thesis/lib/python3.10/site-packages/sklearn/metrics/_ranking.py:864: RuntimeWarning: invalid value encountered in true_divide\n",
      "  recall = tps / tps[-1]\n",
      "/home/debian/Simao/miniconda3/envs/thesis/lib/python3.10/site-packages/sklearn/metrics/_ranking.py:864: RuntimeWarning: invalid value encountered in true_divide\n",
      "  recall = tps / tps[-1]\n",
      "/home/debian/Simao/miniconda3/envs/thesis/lib/python3.10/site-packages/sklearn/metrics/_ranking.py:864: RuntimeWarning: invalid value encountered in true_divide\n",
      "  recall = tps / tps[-1]\n",
      "/home/debian/Simao/miniconda3/envs/thesis/lib/python3.10/site-packages/sklearn/metrics/_ranking.py:864: RuntimeWarning: invalid value encountered in true_divide\n",
      "  recall = tps / tps[-1]\n",
      "/home/debian/Simao/miniconda3/envs/thesis/lib/python3.10/site-packages/sklearn/metrics/_ranking.py:864: RuntimeWarning: invalid value encountered in true_divide\n",
      "  recall = tps / tps[-1]\n",
      "/home/debian/Simao/miniconda3/envs/thesis/lib/python3.10/site-packages/sklearn/metrics/_ranking.py:864: RuntimeWarning: invalid value encountered in true_divide\n",
      "  recall = tps / tps[-1]\n",
      "/home/debian/Simao/miniconda3/envs/thesis/lib/python3.10/site-packages/sklearn/metrics/_ranking.py:864: RuntimeWarning: invalid value encountered in true_divide\n",
      "  recall = tps / tps[-1]\n",
      "/home/debian/Simao/miniconda3/envs/thesis/lib/python3.10/site-packages/sklearn/metrics/_ranking.py:864: RuntimeWarning: invalid value encountered in true_divide\n",
      "  recall = tps / tps[-1]\n",
      "/home/debian/Simao/miniconda3/envs/thesis/lib/python3.10/site-packages/sklearn/metrics/_ranking.py:864: RuntimeWarning: invalid value encountered in true_divide\n",
      "  recall = tps / tps[-1]\n",
      "/home/debian/Simao/miniconda3/envs/thesis/lib/python3.10/site-packages/sklearn/metrics/_ranking.py:864: RuntimeWarning: invalid value encountered in true_divide\n",
      "  recall = tps / tps[-1]\n",
      "/home/debian/Simao/miniconda3/envs/thesis/lib/python3.10/site-packages/sklearn/metrics/_ranking.py:864: RuntimeWarning: invalid value encountered in true_divide\n",
      "  recall = tps / tps[-1]\n",
      "/home/debian/Simao/miniconda3/envs/thesis/lib/python3.10/site-packages/sklearn/metrics/_ranking.py:864: RuntimeWarning: invalid value encountered in true_divide\n",
      "  recall = tps / tps[-1]\n",
      "/home/debian/Simao/miniconda3/envs/thesis/lib/python3.10/site-packages/sklearn/metrics/_ranking.py:864: RuntimeWarning: invalid value encountered in true_divide\n",
      "  recall = tps / tps[-1]\n",
      "/home/debian/Simao/miniconda3/envs/thesis/lib/python3.10/site-packages/sklearn/metrics/_ranking.py:864: RuntimeWarning: invalid value encountered in true_divide\n",
      "  recall = tps / tps[-1]\n",
      "/home/debian/Simao/miniconda3/envs/thesis/lib/python3.10/site-packages/sklearn/metrics/_ranking.py:864: RuntimeWarning: invalid value encountered in true_divide\n",
      "  recall = tps / tps[-1]\n",
      "/home/debian/Simao/miniconda3/envs/thesis/lib/python3.10/site-packages/sklearn/metrics/_ranking.py:864: RuntimeWarning: invalid value encountered in true_divide\n",
      "  recall = tps / tps[-1]\n",
      "/home/debian/Simao/miniconda3/envs/thesis/lib/python3.10/site-packages/sklearn/metrics/_ranking.py:864: RuntimeWarning: invalid value encountered in true_divide\n",
      "  recall = tps / tps[-1]\n",
      "/home/debian/Simao/miniconda3/envs/thesis/lib/python3.10/site-packages/sklearn/metrics/_ranking.py:864: RuntimeWarning: invalid value encountered in true_divide\n",
      "  recall = tps / tps[-1]\n",
      "/home/debian/Simao/miniconda3/envs/thesis/lib/python3.10/site-packages/sklearn/metrics/_ranking.py:864: RuntimeWarning: invalid value encountered in true_divide\n",
      "  recall = tps / tps[-1]\n",
      "/home/debian/Simao/miniconda3/envs/thesis/lib/python3.10/site-packages/sklearn/metrics/_ranking.py:864: RuntimeWarning: invalid value encountered in true_divide\n",
      "  recall = tps / tps[-1]\n",
      "/home/debian/Simao/miniconda3/envs/thesis/lib/python3.10/site-packages/sklearn/metrics/_ranking.py:864: RuntimeWarning: invalid value encountered in true_divide\n",
      "  recall = tps / tps[-1]\n",
      "/home/debian/Simao/miniconda3/envs/thesis/lib/python3.10/site-packages/sklearn/metrics/_ranking.py:864: RuntimeWarning: invalid value encountered in true_divide\n",
      "  recall = tps / tps[-1]\n",
      "/home/debian/Simao/miniconda3/envs/thesis/lib/python3.10/site-packages/sklearn/metrics/_ranking.py:864: RuntimeWarning: invalid value encountered in true_divide\n",
      "  recall = tps / tps[-1]\n",
      "/home/debian/Simao/miniconda3/envs/thesis/lib/python3.10/site-packages/sklearn/metrics/_ranking.py:864: RuntimeWarning: invalid value encountered in true_divide\n",
      "  recall = tps / tps[-1]\n",
      "/home/debian/Simao/miniconda3/envs/thesis/lib/python3.10/site-packages/sklearn/metrics/_ranking.py:864: RuntimeWarning: invalid value encountered in true_divide\n",
      "  recall = tps / tps[-1]\n",
      "/home/debian/Simao/miniconda3/envs/thesis/lib/python3.10/site-packages/sklearn/metrics/_ranking.py:864: RuntimeWarning: invalid value encountered in true_divide\n",
      "  recall = tps / tps[-1]\n",
      "/home/debian/Simao/miniconda3/envs/thesis/lib/python3.10/site-packages/sklearn/metrics/_ranking.py:864: RuntimeWarning: invalid value encountered in true_divide\n",
      "  recall = tps / tps[-1]\n",
      "/home/debian/Simao/miniconda3/envs/thesis/lib/python3.10/site-packages/sklearn/metrics/_ranking.py:864: RuntimeWarning: invalid value encountered in true_divide\n",
      "  recall = tps / tps[-1]\n",
      "/home/debian/Simao/miniconda3/envs/thesis/lib/python3.10/site-packages/sklearn/metrics/_ranking.py:864: RuntimeWarning: invalid value encountered in true_divide\n",
      "  recall = tps / tps[-1]\n",
      "/home/debian/Simao/miniconda3/envs/thesis/lib/python3.10/site-packages/sklearn/metrics/_ranking.py:864: RuntimeWarning: invalid value encountered in true_divide\n",
      "  recall = tps / tps[-1]\n",
      "/home/debian/Simao/miniconda3/envs/thesis/lib/python3.10/site-packages/sklearn/metrics/_ranking.py:864: RuntimeWarning: invalid value encountered in true_divide\n",
      "  recall = tps / tps[-1]\n",
      "/home/debian/Simao/miniconda3/envs/thesis/lib/python3.10/site-packages/sklearn/metrics/_ranking.py:864: RuntimeWarning: invalid value encountered in true_divide\n",
      "  recall = tps / tps[-1]\n",
      "/home/debian/Simao/miniconda3/envs/thesis/lib/python3.10/site-packages/sklearn/metrics/_ranking.py:864: RuntimeWarning: invalid value encountered in true_divide\n",
      "  recall = tps / tps[-1]\n",
      "/home/debian/Simao/miniconda3/envs/thesis/lib/python3.10/site-packages/sklearn/metrics/_ranking.py:864: RuntimeWarning: invalid value encountered in true_divide\n",
      "  recall = tps / tps[-1]\n",
      "/home/debian/Simao/miniconda3/envs/thesis/lib/python3.10/site-packages/sklearn/metrics/_ranking.py:864: RuntimeWarning: invalid value encountered in true_divide\n",
      "  recall = tps / tps[-1]\n",
      "/home/debian/Simao/miniconda3/envs/thesis/lib/python3.10/site-packages/sklearn/metrics/_ranking.py:864: RuntimeWarning: invalid value encountered in true_divide\n",
      "  recall = tps / tps[-1]\n",
      "/home/debian/Simao/miniconda3/envs/thesis/lib/python3.10/site-packages/sklearn/metrics/_ranking.py:864: RuntimeWarning: invalid value encountered in true_divide\n",
      "  recall = tps / tps[-1]\n",
      "/home/debian/Simao/miniconda3/envs/thesis/lib/python3.10/site-packages/sklearn/metrics/_ranking.py:864: RuntimeWarning: invalid value encountered in true_divide\n",
      "  recall = tps / tps[-1]\n",
      "/home/debian/Simao/miniconda3/envs/thesis/lib/python3.10/site-packages/sklearn/metrics/_ranking.py:864: RuntimeWarning: invalid value encountered in true_divide\n",
      "  recall = tps / tps[-1]\n",
      "/home/debian/Simao/miniconda3/envs/thesis/lib/python3.10/site-packages/sklearn/metrics/_ranking.py:864: RuntimeWarning: invalid value encountered in true_divide\n",
      "  recall = tps / tps[-1]\n",
      "/home/debian/Simao/miniconda3/envs/thesis/lib/python3.10/site-packages/sklearn/metrics/_ranking.py:864: RuntimeWarning: invalid value encountered in true_divide\n",
      "  recall = tps / tps[-1]\n",
      "/home/debian/Simao/miniconda3/envs/thesis/lib/python3.10/site-packages/sklearn/metrics/_ranking.py:864: RuntimeWarning: invalid value encountered in true_divide\n",
      "  recall = tps / tps[-1]\n",
      "/home/debian/Simao/miniconda3/envs/thesis/lib/python3.10/site-packages/sklearn/metrics/_ranking.py:864: RuntimeWarning: invalid value encountered in true_divide\n",
      "  recall = tps / tps[-1]\n",
      "/home/debian/Simao/miniconda3/envs/thesis/lib/python3.10/site-packages/sklearn/metrics/_ranking.py:864: RuntimeWarning: invalid value encountered in true_divide\n",
      "  recall = tps / tps[-1]\n",
      "/home/debian/Simao/miniconda3/envs/thesis/lib/python3.10/site-packages/sklearn/metrics/_ranking.py:864: RuntimeWarning: invalid value encountered in true_divide\n",
      "  recall = tps / tps[-1]\n",
      "/home/debian/Simao/miniconda3/envs/thesis/lib/python3.10/site-packages/sklearn/metrics/_ranking.py:864: RuntimeWarning: invalid value encountered in true_divide\n",
      "  recall = tps / tps[-1]\n",
      "/home/debian/Simao/miniconda3/envs/thesis/lib/python3.10/site-packages/sklearn/metrics/_ranking.py:864: RuntimeWarning: invalid value encountered in true_divide\n",
      "  recall = tps / tps[-1]\n",
      "/home/debian/Simao/miniconda3/envs/thesis/lib/python3.10/site-packages/sklearn/metrics/_ranking.py:864: RuntimeWarning: invalid value encountered in true_divide\n",
      "  recall = tps / tps[-1]\n",
      "/home/debian/Simao/miniconda3/envs/thesis/lib/python3.10/site-packages/sklearn/metrics/_ranking.py:864: RuntimeWarning: invalid value encountered in true_divide\n",
      "  recall = tps / tps[-1]\n",
      "/home/debian/Simao/miniconda3/envs/thesis/lib/python3.10/site-packages/sklearn/metrics/_ranking.py:864: RuntimeWarning: invalid value encountered in true_divide\n",
      "  recall = tps / tps[-1]\n",
      "/home/debian/Simao/miniconda3/envs/thesis/lib/python3.10/site-packages/sklearn/metrics/_ranking.py:864: RuntimeWarning: invalid value encountered in true_divide\n",
      "  recall = tps / tps[-1]\n",
      "/home/debian/Simao/miniconda3/envs/thesis/lib/python3.10/site-packages/sklearn/metrics/_ranking.py:864: RuntimeWarning: invalid value encountered in true_divide\n",
      "  recall = tps / tps[-1]\n",
      "/home/debian/Simao/miniconda3/envs/thesis/lib/python3.10/site-packages/sklearn/metrics/_ranking.py:864: RuntimeWarning: invalid value encountered in true_divide\n",
      "  recall = tps / tps[-1]\n",
      "/home/debian/Simao/miniconda3/envs/thesis/lib/python3.10/site-packages/sklearn/metrics/_ranking.py:864: RuntimeWarning: invalid value encountered in true_divide\n",
      "  recall = tps / tps[-1]\n",
      "/home/debian/Simao/miniconda3/envs/thesis/lib/python3.10/site-packages/sklearn/metrics/_ranking.py:864: RuntimeWarning: invalid value encountered in true_divide\n",
      "  recall = tps / tps[-1]\n",
      "/home/debian/Simao/miniconda3/envs/thesis/lib/python3.10/site-packages/sklearn/metrics/_ranking.py:864: RuntimeWarning: invalid value encountered in true_divide\n",
      "  recall = tps / tps[-1]\n",
      "/home/debian/Simao/miniconda3/envs/thesis/lib/python3.10/site-packages/sklearn/metrics/_ranking.py:864: RuntimeWarning: invalid value encountered in true_divide\n",
      "  recall = tps / tps[-1]\n",
      "/home/debian/Simao/miniconda3/envs/thesis/lib/python3.10/site-packages/sklearn/metrics/_ranking.py:864: RuntimeWarning: invalid value encountered in true_divide\n",
      "  recall = tps / tps[-1]\n",
      "/home/debian/Simao/miniconda3/envs/thesis/lib/python3.10/site-packages/sklearn/metrics/_ranking.py:864: RuntimeWarning: invalid value encountered in true_divide\n",
      "  recall = tps / tps[-1]\n",
      "/home/debian/Simao/miniconda3/envs/thesis/lib/python3.10/site-packages/sklearn/metrics/_ranking.py:864: RuntimeWarning: invalid value encountered in true_divide\n",
      "  recall = tps / tps[-1]\n",
      "/home/debian/Simao/miniconda3/envs/thesis/lib/python3.10/site-packages/sklearn/metrics/_ranking.py:864: RuntimeWarning: invalid value encountered in true_divide\n",
      "  recall = tps / tps[-1]\n",
      "/home/debian/Simao/miniconda3/envs/thesis/lib/python3.10/site-packages/sklearn/metrics/_ranking.py:864: RuntimeWarning: invalid value encountered in true_divide\n",
      "  recall = tps / tps[-1]\n",
      "/home/debian/Simao/miniconda3/envs/thesis/lib/python3.10/site-packages/sklearn/metrics/_ranking.py:864: RuntimeWarning: invalid value encountered in true_divide\n",
      "  recall = tps / tps[-1]\n",
      "/home/debian/Simao/miniconda3/envs/thesis/lib/python3.10/site-packages/sklearn/metrics/_ranking.py:864: RuntimeWarning: invalid value encountered in true_divide\n",
      "  recall = tps / tps[-1]\n",
      "/home/debian/Simao/miniconda3/envs/thesis/lib/python3.10/site-packages/sklearn/metrics/_ranking.py:864: RuntimeWarning: invalid value encountered in true_divide\n",
      "  recall = tps / tps[-1]\n",
      "/home/debian/Simao/miniconda3/envs/thesis/lib/python3.10/site-packages/sklearn/metrics/_ranking.py:864: RuntimeWarning: invalid value encountered in true_divide\n",
      "  recall = tps / tps[-1]\n",
      "/home/debian/Simao/miniconda3/envs/thesis/lib/python3.10/site-packages/sklearn/metrics/_ranking.py:864: RuntimeWarning: invalid value encountered in true_divide\n",
      "  recall = tps / tps[-1]\n",
      "/home/debian/Simao/miniconda3/envs/thesis/lib/python3.10/site-packages/sklearn/metrics/_ranking.py:864: RuntimeWarning: invalid value encountered in true_divide\n",
      "  recall = tps / tps[-1]\n",
      "/home/debian/Simao/miniconda3/envs/thesis/lib/python3.10/site-packages/sklearn/metrics/_ranking.py:864: RuntimeWarning: invalid value encountered in true_divide\n",
      "  recall = tps / tps[-1]\n",
      "/home/debian/Simao/miniconda3/envs/thesis/lib/python3.10/site-packages/sklearn/metrics/_ranking.py:864: RuntimeWarning: invalid value encountered in true_divide\n",
      "  recall = tps / tps[-1]\n",
      "/home/debian/Simao/miniconda3/envs/thesis/lib/python3.10/site-packages/sklearn/metrics/_ranking.py:864: RuntimeWarning: invalid value encountered in true_divide\n",
      "  recall = tps / tps[-1]\n",
      "/home/debian/Simao/miniconda3/envs/thesis/lib/python3.10/site-packages/sklearn/metrics/_ranking.py:864: RuntimeWarning: invalid value encountered in true_divide\n",
      "  recall = tps / tps[-1]\n",
      "/home/debian/Simao/miniconda3/envs/thesis/lib/python3.10/site-packages/sklearn/metrics/_ranking.py:864: RuntimeWarning: invalid value encountered in true_divide\n",
      "  recall = tps / tps[-1]\n",
      "/home/debian/Simao/miniconda3/envs/thesis/lib/python3.10/site-packages/sklearn/metrics/_ranking.py:864: RuntimeWarning: invalid value encountered in true_divide\n",
      "  recall = tps / tps[-1]\n",
      "/home/debian/Simao/miniconda3/envs/thesis/lib/python3.10/site-packages/sklearn/metrics/_ranking.py:864: RuntimeWarning: invalid value encountered in true_divide\n",
      "  recall = tps / tps[-1]\n",
      "/home/debian/Simao/miniconda3/envs/thesis/lib/python3.10/site-packages/sklearn/metrics/_ranking.py:864: RuntimeWarning: invalid value encountered in true_divide\n",
      "  recall = tps / tps[-1]\n",
      "/home/debian/Simao/miniconda3/envs/thesis/lib/python3.10/site-packages/sklearn/metrics/_ranking.py:864: RuntimeWarning: invalid value encountered in true_divide\n",
      "  recall = tps / tps[-1]\n",
      "/home/debian/Simao/miniconda3/envs/thesis/lib/python3.10/site-packages/sklearn/metrics/_ranking.py:864: RuntimeWarning: invalid value encountered in true_divide\n",
      "  recall = tps / tps[-1]\n",
      "/home/debian/Simao/miniconda3/envs/thesis/lib/python3.10/site-packages/sklearn/metrics/_ranking.py:864: RuntimeWarning: invalid value encountered in true_divide\n",
      "  recall = tps / tps[-1]\n",
      "/home/debian/Simao/miniconda3/envs/thesis/lib/python3.10/site-packages/sklearn/metrics/_ranking.py:864: RuntimeWarning: invalid value encountered in true_divide\n",
      "  recall = tps / tps[-1]\n",
      "/home/debian/Simao/miniconda3/envs/thesis/lib/python3.10/site-packages/sklearn/metrics/_ranking.py:864: RuntimeWarning: invalid value encountered in true_divide\n",
      "  recall = tps / tps[-1]\n",
      "/home/debian/Simao/miniconda3/envs/thesis/lib/python3.10/site-packages/sklearn/metrics/_ranking.py:864: RuntimeWarning: invalid value encountered in true_divide\n",
      "  recall = tps / tps[-1]\n",
      "/home/debian/Simao/miniconda3/envs/thesis/lib/python3.10/site-packages/sklearn/metrics/_ranking.py:864: RuntimeWarning: invalid value encountered in true_divide\n",
      "  recall = tps / tps[-1]\n",
      "/home/debian/Simao/miniconda3/envs/thesis/lib/python3.10/site-packages/sklearn/metrics/_ranking.py:864: RuntimeWarning: invalid value encountered in true_divide\n",
      "  recall = tps / tps[-1]\n",
      "/home/debian/Simao/miniconda3/envs/thesis/lib/python3.10/site-packages/sklearn/metrics/_ranking.py:864: RuntimeWarning: invalid value encountered in true_divide\n",
      "  recall = tps / tps[-1]\n",
      "/home/debian/Simao/miniconda3/envs/thesis/lib/python3.10/site-packages/sklearn/metrics/_ranking.py:864: RuntimeWarning: invalid value encountered in true_divide\n",
      "  recall = tps / tps[-1]\n",
      "/home/debian/Simao/miniconda3/envs/thesis/lib/python3.10/site-packages/sklearn/metrics/_ranking.py:864: RuntimeWarning: invalid value encountered in true_divide\n",
      "  recall = tps / tps[-1]\n",
      "/home/debian/Simao/miniconda3/envs/thesis/lib/python3.10/site-packages/sklearn/metrics/_ranking.py:864: RuntimeWarning: invalid value encountered in true_divide\n",
      "  recall = tps / tps[-1]\n",
      "/home/debian/Simao/miniconda3/envs/thesis/lib/python3.10/site-packages/sklearn/metrics/_ranking.py:864: RuntimeWarning: invalid value encountered in true_divide\n",
      "  recall = tps / tps[-1]\n",
      "/home/debian/Simao/miniconda3/envs/thesis/lib/python3.10/site-packages/sklearn/metrics/_ranking.py:864: RuntimeWarning: invalid value encountered in true_divide\n",
      "  recall = tps / tps[-1]\n",
      "/home/debian/Simao/miniconda3/envs/thesis/lib/python3.10/site-packages/sklearn/metrics/_ranking.py:864: RuntimeWarning: invalid value encountered in true_divide\n",
      "  recall = tps / tps[-1]\n",
      "/home/debian/Simao/miniconda3/envs/thesis/lib/python3.10/site-packages/sklearn/metrics/_ranking.py:864: RuntimeWarning: invalid value encountered in true_divide\n",
      "  recall = tps / tps[-1]\n",
      "/home/debian/Simao/miniconda3/envs/thesis/lib/python3.10/site-packages/sklearn/metrics/_ranking.py:864: RuntimeWarning: invalid value encountered in true_divide\n",
      "  recall = tps / tps[-1]\n",
      "/home/debian/Simao/miniconda3/envs/thesis/lib/python3.10/site-packages/sklearn/metrics/_ranking.py:864: RuntimeWarning: invalid value encountered in true_divide\n",
      "  recall = tps / tps[-1]\n",
      "/home/debian/Simao/miniconda3/envs/thesis/lib/python3.10/site-packages/sklearn/metrics/_ranking.py:864: RuntimeWarning: invalid value encountered in true_divide\n",
      "  recall = tps / tps[-1]\n",
      "/home/debian/Simao/miniconda3/envs/thesis/lib/python3.10/site-packages/sklearn/metrics/_ranking.py:864: RuntimeWarning: invalid value encountered in true_divide\n",
      "  recall = tps / tps[-1]\n",
      "/home/debian/Simao/miniconda3/envs/thesis/lib/python3.10/site-packages/sklearn/metrics/_ranking.py:864: RuntimeWarning: invalid value encountered in true_divide\n",
      "  recall = tps / tps[-1]\n",
      "/home/debian/Simao/miniconda3/envs/thesis/lib/python3.10/site-packages/sklearn/metrics/_ranking.py:864: RuntimeWarning: invalid value encountered in true_divide\n",
      "  recall = tps / tps[-1]\n",
      "/home/debian/Simao/miniconda3/envs/thesis/lib/python3.10/site-packages/sklearn/metrics/_ranking.py:864: RuntimeWarning: invalid value encountered in true_divide\n",
      "  recall = tps / tps[-1]\n",
      "/home/debian/Simao/miniconda3/envs/thesis/lib/python3.10/site-packages/sklearn/metrics/_ranking.py:864: RuntimeWarning: invalid value encountered in true_divide\n",
      "  recall = tps / tps[-1]\n",
      "/home/debian/Simao/miniconda3/envs/thesis/lib/python3.10/site-packages/sklearn/metrics/_ranking.py:864: RuntimeWarning: invalid value encountered in true_divide\n",
      "  recall = tps / tps[-1]\n",
      "/home/debian/Simao/miniconda3/envs/thesis/lib/python3.10/site-packages/sklearn/metrics/_ranking.py:864: RuntimeWarning: invalid value encountered in true_divide\n",
      "  recall = tps / tps[-1]\n",
      "/home/debian/Simao/miniconda3/envs/thesis/lib/python3.10/site-packages/sklearn/metrics/_ranking.py:864: RuntimeWarning: invalid value encountered in true_divide\n",
      "  recall = tps / tps[-1]\n",
      "/home/debian/Simao/miniconda3/envs/thesis/lib/python3.10/site-packages/sklearn/metrics/_ranking.py:864: RuntimeWarning: invalid value encountered in true_divide\n",
      "  recall = tps / tps[-1]\n",
      "/home/debian/Simao/miniconda3/envs/thesis/lib/python3.10/site-packages/sklearn/metrics/_ranking.py:864: RuntimeWarning: invalid value encountered in true_divide\n",
      "  recall = tps / tps[-1]\n",
      "/home/debian/Simao/miniconda3/envs/thesis/lib/python3.10/site-packages/sklearn/metrics/_ranking.py:864: RuntimeWarning: invalid value encountered in true_divide\n",
      "  recall = tps / tps[-1]\n",
      "/home/debian/Simao/miniconda3/envs/thesis/lib/python3.10/site-packages/sklearn/metrics/_ranking.py:864: RuntimeWarning: invalid value encountered in true_divide\n",
      "  recall = tps / tps[-1]\n",
      "/home/debian/Simao/miniconda3/envs/thesis/lib/python3.10/site-packages/sklearn/metrics/_ranking.py:864: RuntimeWarning: invalid value encountered in true_divide\n",
      "  recall = tps / tps[-1]\n",
      "/home/debian/Simao/miniconda3/envs/thesis/lib/python3.10/site-packages/sklearn/metrics/_ranking.py:864: RuntimeWarning: invalid value encountered in true_divide\n",
      "  recall = tps / tps[-1]\n",
      "/home/debian/Simao/miniconda3/envs/thesis/lib/python3.10/site-packages/sklearn/metrics/_ranking.py:864: RuntimeWarning: invalid value encountered in true_divide\n",
      "  recall = tps / tps[-1]\n",
      "/home/debian/Simao/miniconda3/envs/thesis/lib/python3.10/site-packages/sklearn/metrics/_ranking.py:864: RuntimeWarning: invalid value encountered in true_divide\n",
      "  recall = tps / tps[-1]\n",
      "/home/debian/Simao/miniconda3/envs/thesis/lib/python3.10/site-packages/sklearn/metrics/_ranking.py:864: RuntimeWarning: invalid value encountered in true_divide\n",
      "  recall = tps / tps[-1]\n",
      "/home/debian/Simao/miniconda3/envs/thesis/lib/python3.10/site-packages/sklearn/metrics/_ranking.py:864: RuntimeWarning: invalid value encountered in true_divide\n",
      "  recall = tps / tps[-1]\n",
      "/home/debian/Simao/miniconda3/envs/thesis/lib/python3.10/site-packages/sklearn/metrics/_ranking.py:864: RuntimeWarning: invalid value encountered in true_divide\n",
      "  recall = tps / tps[-1]\n",
      "/home/debian/Simao/miniconda3/envs/thesis/lib/python3.10/site-packages/sklearn/metrics/_ranking.py:864: RuntimeWarning: invalid value encountered in true_divide\n",
      "  recall = tps / tps[-1]\n",
      "/home/debian/Simao/miniconda3/envs/thesis/lib/python3.10/site-packages/sklearn/metrics/_ranking.py:864: RuntimeWarning: invalid value encountered in true_divide\n",
      "  recall = tps / tps[-1]\n",
      "/home/debian/Simao/miniconda3/envs/thesis/lib/python3.10/site-packages/sklearn/metrics/_ranking.py:864: RuntimeWarning: invalid value encountered in true_divide\n",
      "  recall = tps / tps[-1]\n",
      "/home/debian/Simao/miniconda3/envs/thesis/lib/python3.10/site-packages/sklearn/metrics/_ranking.py:864: RuntimeWarning: invalid value encountered in true_divide\n",
      "  recall = tps / tps[-1]\n",
      "/home/debian/Simao/miniconda3/envs/thesis/lib/python3.10/site-packages/sklearn/metrics/_ranking.py:864: RuntimeWarning: invalid value encountered in true_divide\n",
      "  recall = tps / tps[-1]\n",
      "/home/debian/Simao/miniconda3/envs/thesis/lib/python3.10/site-packages/sklearn/metrics/_ranking.py:864: RuntimeWarning: invalid value encountered in true_divide\n",
      "  recall = tps / tps[-1]\n",
      "/home/debian/Simao/miniconda3/envs/thesis/lib/python3.10/site-packages/sklearn/metrics/_ranking.py:864: RuntimeWarning: invalid value encountered in true_divide\n",
      "  recall = tps / tps[-1]\n",
      "/home/debian/Simao/miniconda3/envs/thesis/lib/python3.10/site-packages/sklearn/metrics/_ranking.py:864: RuntimeWarning: invalid value encountered in true_divide\n",
      "  recall = tps / tps[-1]\n",
      "/home/debian/Simao/miniconda3/envs/thesis/lib/python3.10/site-packages/sklearn/metrics/_ranking.py:864: RuntimeWarning: invalid value encountered in true_divide\n",
      "  recall = tps / tps[-1]\n",
      "/home/debian/Simao/miniconda3/envs/thesis/lib/python3.10/site-packages/sklearn/metrics/_ranking.py:864: RuntimeWarning: invalid value encountered in true_divide\n",
      "  recall = tps / tps[-1]\n",
      "/home/debian/Simao/miniconda3/envs/thesis/lib/python3.10/site-packages/sklearn/metrics/_ranking.py:864: RuntimeWarning: invalid value encountered in true_divide\n",
      "  recall = tps / tps[-1]\n",
      "/home/debian/Simao/miniconda3/envs/thesis/lib/python3.10/site-packages/sklearn/metrics/_ranking.py:864: RuntimeWarning: invalid value encountered in true_divide\n",
      "  recall = tps / tps[-1]\n",
      "/home/debian/Simao/miniconda3/envs/thesis/lib/python3.10/site-packages/sklearn/metrics/_ranking.py:864: RuntimeWarning: invalid value encountered in true_divide\n",
      "  recall = tps / tps[-1]\n",
      "/home/debian/Simao/miniconda3/envs/thesis/lib/python3.10/site-packages/sklearn/metrics/_ranking.py:864: RuntimeWarning: invalid value encountered in true_divide\n",
      "  recall = tps / tps[-1]\n"
     ]
    }
   ],
   "source": [
    "def record_random_ranks_tpfp_dataset(tpfp_dataset,n_samples = 100,quantiles = [0.01,0.5,0.75,0.9,0.95,0.99]):\n",
    "    n_samples = 100\n",
    "    print('Starting to iterate the dataloader to compute random average precisions')\n",
    "    for diag in tqdm(tpfp_dataset):\n",
    "        if tpfp_dataset[diag]['size'] > 0:\n",
    "            target = tpfp_dataset[diag]['target']\n",
    "            random_logits = np.random.rand(n_samples,len(target))\n",
    "            random_avgprecs = list()\n",
    "            for i in range(random_logits.shape[0]):\n",
    "                avgprec = average_precision_score(target,random_logits[i,:])\n",
    "                random_avgprecs.append(avgprec)\n",
    "\n",
    "            quantile_values = np.quantile(random_avgprecs,quantiles)\n",
    "            tpfp_dataset[diag]['avgprec']['random'] = dict()\n",
    "            for i in range(len(quantiles)):\n",
    "                tpfp_dataset[diag]['avgprec']['random'][quantiles[i]] = quantile_values[i]\n",
    "        else:\n",
    "            tpfp_dataset[diag]['avgprec']['random'] = {e:np.nan for e in quantiles}\n",
    "record_random_ranks_tpfp_dataset(dataset_train)\n",
    "record_random_ranks_tpfp_dataset(dataset_val)"
   ]
  },
  {
   "cell_type": "code",
   "execution_count": 251,
   "id": "f60d4156-989f-4b70-a78c-c778217b9550",
   "metadata": {},
   "outputs": [
    {
     "data": {
      "text/plain": [
       "dict_keys(['train_score', 'val_score', 'best_params'])"
      ]
     },
     "execution_count": 251,
     "metadata": {},
     "output_type": "execute_result"
    }
   ],
   "source": [
    "dataset_val[diag]['avgprec']['grid_search_model'].keys()"
   ]
  },
  {
   "cell_type": "code",
   "execution_count": 259,
   "id": "6c733dba-d40f-4406-93cd-5e537c890fc9",
   "metadata": {},
   "outputs": [
    {
     "data": {
      "text/html": [
       "<div>\n",
       "<style scoped>\n",
       "    .dataframe tbody tr th:only-of-type {\n",
       "        vertical-align: middle;\n",
       "    }\n",
       "\n",
       "    .dataframe tbody tr th {\n",
       "        vertical-align: top;\n",
       "    }\n",
       "\n",
       "    .dataframe thead th {\n",
       "        text-align: right;\n",
       "    }\n",
       "</style>\n",
       "<table border=\"1\" class=\"dataframe\">\n",
       "  <thead>\n",
       "    <tr style=\"text-align: right;\">\n",
       "      <th></th>\n",
       "      <th>diag</th>\n",
       "      <th>q95</th>\n",
       "      <th>regmodel_avgprec</th>\n",
       "    </tr>\n",
       "  </thead>\n",
       "  <tbody>\n",
       "    <tr>\n",
       "      <th>0</th>\n",
       "      <td>0</td>\n",
       "      <td>NaN</td>\n",
       "      <td>NaN</td>\n",
       "    </tr>\n",
       "    <tr>\n",
       "      <th>1</th>\n",
       "      <td>1</td>\n",
       "      <td>0.214713</td>\n",
       "      <td>0.390711</td>\n",
       "    </tr>\n",
       "    <tr>\n",
       "      <th>2</th>\n",
       "      <td>2</td>\n",
       "      <td>0.172385</td>\n",
       "      <td>0.273730</td>\n",
       "    </tr>\n",
       "    <tr>\n",
       "      <th>3</th>\n",
       "      <td>3</td>\n",
       "      <td>0.087946</td>\n",
       "      <td>0.414983</td>\n",
       "    </tr>\n",
       "    <tr>\n",
       "      <th>4</th>\n",
       "      <td>4</td>\n",
       "      <td>0.792874</td>\n",
       "      <td>1.000000</td>\n",
       "    </tr>\n",
       "    <tr>\n",
       "      <th>...</th>\n",
       "      <td>...</td>\n",
       "      <td>...</td>\n",
       "      <td>...</td>\n",
       "    </tr>\n",
       "    <tr>\n",
       "      <th>278</th>\n",
       "      <td>278</td>\n",
       "      <td>0.118361</td>\n",
       "      <td>0.267881</td>\n",
       "    </tr>\n",
       "    <tr>\n",
       "      <th>279</th>\n",
       "      <td>279</td>\n",
       "      <td>0.146597</td>\n",
       "      <td>0.315966</td>\n",
       "    </tr>\n",
       "    <tr>\n",
       "      <th>280</th>\n",
       "      <td>280</td>\n",
       "      <td>NaN</td>\n",
       "      <td>NaN</td>\n",
       "    </tr>\n",
       "    <tr>\n",
       "      <th>281</th>\n",
       "      <td>281</td>\n",
       "      <td>NaN</td>\n",
       "      <td>NaN</td>\n",
       "    </tr>\n",
       "    <tr>\n",
       "      <th>282</th>\n",
       "      <td>282</td>\n",
       "      <td>0.111111</td>\n",
       "      <td>0.125000</td>\n",
       "    </tr>\n",
       "  </tbody>\n",
       "</table>\n",
       "<p>283 rows × 3 columns</p>\n",
       "</div>"
      ],
      "text/plain": [
       "     diag       q95  regmodel_avgprec\n",
       "0       0       NaN               NaN\n",
       "1       1  0.214713          0.390711\n",
       "2       2  0.172385          0.273730\n",
       "3       3  0.087946          0.414983\n",
       "4       4  0.792874          1.000000\n",
       "..    ...       ...               ...\n",
       "278   278  0.118361          0.267881\n",
       "279   279  0.146597          0.315966\n",
       "280   280       NaN               NaN\n",
       "281   281       NaN               NaN\n",
       "282   282  0.111111          0.125000\n",
       "\n",
       "[283 rows x 3 columns]"
      ]
     },
     "execution_count": 259,
     "metadata": {},
     "output_type": "execute_result"
    }
   ],
   "source": [
    "logs = list()\n",
    "for diag in dataset_val:\n",
    "    log = dict()\n",
    "    log['diag'] = diag\n",
    "    log['q95'] = dataset_val[diag]['avgprec']['random'][0.95]\n",
    "    log['regmodel_avgprec'] = dataset_val[diag]['avgprec']['grid_search_model']['val_score']\n",
    "    logs.append(log)\n",
    "\n",
    "logs = pd.DataFrame(logs)\n",
    "logs"
   ]
  },
  {
   "cell_type": "markdown",
   "id": "aec4f7f2-d0ef-4cda-8ae1-3e9543ba4db1",
   "metadata": {},
   "source": [
    "### Implementing the full thing now"
   ]
  },
  {
   "cell_type": "markdown",
   "id": "092081d7-79d3-43c4-a62a-d167277de623",
   "metadata": {},
   "source": [
    "We now have a model that better separates FP's from TPs, how do we show this?\n",
    "\n",
    "One way is to see if the ordering of the diagnostics inside each top30 improved. let's try that"
   ]
  },
  {
   "cell_type": "markdown",
   "id": "b7c9bb9d-3f57-4910-ae96-cb86a13061d1",
   "metadata": {},
   "source": [
    "1. iterate dataloader\n",
    "2. predict using top30\n",
    "4. get predictive stats of those top30\n",
    "5. get avgprec of that list\n",
    "6. recompute logits using latest pipeline\n",
    "7. get avgprec again\n",
    "8. compare\n",
    "9. profit"
   ]
  },
  {
   "cell_type": "code",
   "execution_count": null,
   "id": "07dcc5da-3b38-48ec-892b-95bd0aad6101",
   "metadata": {},
   "outputs": [],
   "source": [
    "ts = MaskTimesteps('all')\n",
    "topk=30"
   ]
  },
  {
   "cell_type": "code",
   "execution_count": null,
   "id": "7e0bd7d0-3c4f-4266-bf75-6d8079af0e6a",
   "metadata": {
    "tags": []
   },
   "outputs": [],
   "source": [
    "a = b = 0 # count n times\n",
    "for diag in dataset_val:\n",
    "    logits_original = dataset_val[diag]['features'][:,0]\n",
    "    logits = logits_original\n",
    "    golden = dataset_val[diag]['target']\n",
    "    threshold_info_original = compute_best_f1_threshold(golden,logits)\n",
    "    avgprec_original = dataset_val[diag]['avgprec']['original']['full']\n",
    "    avgprec_best = avgprec_original# dataset_val[diag]['avgprec']['grid_search_model']['val_score']\n",
    "    threshold_info_new_pipeline = dict(threshold=np.nan,f1_score=np.nan,avgprec=np.nan)\n",
    "    \n",
    "    if (dataset_val[diag]['avgprec']['grid_search_model']['val_score'] is not np.nan) and \\\n",
    "       (dataset_val[diag]['avgprec']['grid_search_model']['val_score'] > dataset_val[diag]['avgprec']['original']['full']):\n",
    "        X = dataset_val[diag]['features'][:,dataset_train[diag]['correlation']['to_keep_idx']]\n",
    "        logits = dataset_val[diag]['grid_search_pipeline'].predict_proba(X)[:,1]\n",
    "        threshold_info_new_pipeline = compute_best_f1_threshold(golden,logits)\n",
    "        avgprec_best = dataset_val[diag]['avgprec']['grid_search_model']['val_score']\n",
    "    \n",
    "    threshold_info_final = compute_best_f1_threshold(golden,logits)\n",
    "    dataset_val[diag]['threshold'] = {'final':threshold_info_final,'original':threshold_info_original,'new_pipeline':threshold_info_new_pipeline}\n",
    "    dataset_val[diag]['avgprec']['best'] = {'full':avgprec_best}"
   ]
  },
  {
   "cell_type": "code",
   "execution_count": null,
   "id": "ee1242e4-a62c-471d-8656-36efc94d2fc9",
   "metadata": {
    "tags": []
   },
   "outputs": [],
   "source": [
    "original_logits = list()\n",
    "original_golden = list()\n",
    "all_diagnostic_pos_preds = list()\n",
    "\n",
    "for batch in tqdm(val_dataloader):\n",
    "    logits_T = compute_model_predictive_samples_batch(mlp_mc_model,batch,ts,25)\n",
    "    predictive_stats = compute_predictive_stats_V2(logits_T)\n",
    "    logits = predictive_stats['stats'][:,0,:]\n",
    "    preds = logits2preds(logits,None,topk)\n",
    "    n_samples = logits.shape[0]\n",
    "    \n",
    "    diagnostic_pos_preds_stacked = torch.where(preds==1)[1]\n",
    "    diagnostic_pos_preds = [diagnostic_pos_preds_stacked[i*topk:i*topk+topk].detach().numpy() for i in range(n_samples)]\n",
    "    all_diagnostic_pos_preds.extend(diagnostic_pos_preds)\n",
    "    \n",
    "    predictive_stats_np = predictive_stats['stats'].detach().numpy()\n",
    "    \n",
    "    for n in range(n_samples):\n",
    "        original_logits.append(logits[n,diagnostic_pos_preds[n]])\n",
    "        original_golden.append(batch['target_sequence'][n,diagnostic_pos_preds[n]])\n",
    "        \n",
    "        new_logits = list()\n",
    "        for diag in all_diagnostic_pos_preds[n]:\n",
    "            features_to_keep = dataset_train[diag]['correlation']['to_keep_idx']\n",
    "            X = predictive_stats_np[n,features_to_keep,diag].reshape(1,-1)\n",
    "            proba = dataset_train[diag]['grid_search_pipeline'].predict_proba(X)[:,1][0]\n",
    "            new_logits.append(proba)\n",
    "            break\n",
    "        break\n",
    "    break\n",
    "\n",
    "original_logits = torch.stack(original_logits)\n",
    "original_golden = torch.stack(original_golden)"
   ]
  },
  {
   "cell_type": "code",
   "execution_count": null,
   "id": "f4400f85-35c9-4f73-9c56-61a1ce7c6352",
   "metadata": {},
   "outputs": [],
   "source": [
    "proba[0]"
   ]
  },
  {
   "cell_type": "code",
   "execution_count": null,
   "id": "04df4b93-63de-4538-a69c-ac0733f0f093",
   "metadata": {},
   "outputs": [],
   "source": [
    "diagnostic_pos_preds_stacked = torch.where(preds==1)[1]\n",
    "diagnostic_pos_preds = [diagnostic_pos_preds_stacked[i*topk:i*topk+topk] for i in range(n_samples)]"
   ]
  },
  {
   "cell_type": "code",
   "execution_count": null,
   "id": "c18cc601-bc83-4af7-a85d-4d7c0b386e50",
   "metadata": {},
   "outputs": [],
   "source": [
    "diagnostic_pos_preds[0]"
   ]
  },
  {
   "cell_type": "code",
   "execution_count": null,
   "id": "649691be-8e04-4d09-8c85-26a7d27aeb0d",
   "metadata": {},
   "outputs": [],
   "source": [
    "# logits of first sample\n",
    "original_logits = logits[0,diagnostic_pos_preds[0]]\n",
    "original_golden = batch['target_sequence'][0,diagnostic_pos_preds[0]]\n",
    "#diagnostic_pos_preds"
   ]
  },
  {
   "cell_type": "code",
   "execution_count": null,
   "id": "f1ad3012-eee3-4c72-87df-55497d31170c",
   "metadata": {},
   "outputs": [],
   "source": [
    "original_golden"
   ]
  },
  {
   "cell_type": "markdown",
   "id": "3ed5462c-9de8-485e-8127-8c93360b4498",
   "metadata": {},
   "source": [
    "----"
   ]
  },
  {
   "cell_type": "markdown",
   "id": "9cbd5962-a8e1-4397-b2eb-4a4ff74d09b3",
   "metadata": {},
   "source": [
    "Seems to improve overall (on train set at least)"
   ]
  },
  {
   "cell_type": "markdown",
   "id": "c7ab4ed8-115f-45f6-aba4-7f1226a9afcf",
   "metadata": {},
   "source": [
    "#### Test on val"
   ]
  },
  {
   "cell_type": "code",
   "execution_count": null,
   "id": "7d9368c6-a0ac-4a90-b5dd-cb4085a87d70",
   "metadata": {},
   "outputs": [],
   "source": [
    "eval_tpfp_models(dataset_train,dataset_val)"
   ]
  },
  {
   "cell_type": "markdown",
   "id": "4354635d-70d8-4271-9172-ee1348a00572",
   "metadata": {},
   "source": [
    "Ok let's see"
   ]
  },
  {
   "cell_type": "code",
   "execution_count": null,
   "id": "69c0b22f-37cd-4cd7-aaf9-243ae4a6ec6c",
   "metadata": {},
   "outputs": [],
   "source": [
    "train_performances = list()\n",
    "for diag in dataset_train:\n",
    "    performance = dict(diag=diag,\n",
    "                       original_avgprec=dataset_train[diag]['avgprec']['original']['full'],\n",
    "                       model_avgprec=dataset_train[diag]['avgprec']['model']['full'],\n",
    "                       original_val_avgprec = dataset_val[diag]['avgprec']['original']['full'],\n",
    "                       model_val_avgprec = dataset_val[diag]['avgprec']['model']['full'],\n",
    "                       std_original=dataset_train[diag]['avgprec']['original']['std'],\n",
    "                       std_model=dataset_train[diag]['avgprec']['model']['std'],\n",
    "                       n_positives_train=dataset_train[diag]['n_positives'],\n",
    "                       n_positives_val=dataset_val[diag]['n_positives']\n",
    "                      )\n",
    "    train_performances.append(performance)\n",
    "train_performances = pd.DataFrame(train_performances).set_index('diag')\n",
    "train_performances.loc[:,'diff_train_avgprec'] = train_performances['model_avgprec'] - train_performances['original_avgprec']\n",
    "train_performances.loc[:,'diff_val_avgprec'] = train_performances['model_val_avgprec'] - train_performances['original_val_avgprec']"
   ]
  },
  {
   "cell_type": "code",
   "execution_count": null,
   "id": "86286a91-a2fd-4133-9a33-fdd0aeb7430e",
   "metadata": {},
   "outputs": [],
   "source": [
    "performance = train_performances.copy()"
   ]
  },
  {
   "cell_type": "code",
   "execution_count": null,
   "id": "c56234ef-9809-4a97-a4ce-5129ca715fe3",
   "metadata": {},
   "outputs": [],
   "source": [
    "performance."
   ]
  },
  {
   "cell_type": "code",
   "execution_count": null,
   "id": "aef6d397-dfb2-488b-af2c-e0890115235c",
   "metadata": {},
   "outputs": [],
   "source": [
    "train_performances.diff_val_avgprec.describe(percentiles=[0.1,0.25,0.5,0.75,0.9])"
   ]
  },
  {
   "cell_type": "markdown",
   "id": "66793971-5859-46da-9103-a5e790c65fd4",
   "metadata": {},
   "source": [
    "No improvement on val dataloader"
   ]
  },
  {
   "cell_type": "markdown",
   "id": "27177c97-9fff-4f3f-b82c-e867ec140a16",
   "metadata": {},
   "source": [
    "### some statistics about the features kept"
   ]
  },
  {
   "cell_type": "code",
   "execution_count": null,
   "id": "fa9b6372-9a24-4960-b115-3f0f9d0933e0",
   "metadata": {},
   "outputs": [],
   "source": [
    "diag\n",
    "dataset_train[diag]['correlation'].keys()"
   ]
  },
  {
   "cell_type": "code",
   "execution_count": null,
   "id": "868ed452-f3f1-491b-b9b0-55c3e3ad93de",
   "metadata": {},
   "outputs": [],
   "source": [
    "from collections import Counter\n",
    "c = Counter()\n",
    "for diag in dataset_train:\n",
    "    c.update(dataset_train[diag]['correlation']['to_keep'])"
   ]
  },
  {
   "cell_type": "code",
   "execution_count": null,
   "id": "10d00547-e147-4a01-8542-d9ac7a6eca83",
   "metadata": {},
   "outputs": [],
   "source": [
    "pd.Series(dict(c)).sort_values(ascending=False).plot.bar(figsize=(10,8));\n",
    "plt.xlabel('features');\n",
    "plt.ylabel('Count');\n",
    "plt.xticks(rotation=25);\n",
    "plt.savefig('media/correlated_features_mimic.png')"
   ]
  },
  {
   "cell_type": "markdown",
   "id": "627d1c09-b665-4ac9-9e06-fbda0ac2753d",
   "metadata": {},
   "source": [
    "### Rerank top-30 sample wise"
   ]
  },
  {
   "cell_type": "markdown",
   "id": "6bb61b35-686c-462b-89a6-518f6095c7da",
   "metadata": {},
   "source": [
    "two ways to go about it:\n",
    "\n",
    "1: diagnostic wise: create a dataset of TP/FPs for each diagnostic and train a LR <br>\n",
    "2: sample wise: create a dataset of TP/FPs for each admission"
   ]
  },
  {
   "cell_type": "markdown",
   "id": "c4def481-573f-4b54-81d6-befc13ef9183",
   "metadata": {},
   "source": [
    "#### Diagnostic wise"
   ]
  },
  {
   "cell_type": "code",
   "execution_count": null,
   "id": "b7f4ad7f-cbd6-4421-9f41-40a5c0af000a",
   "metadata": {},
   "outputs": [],
   "source": [
    "topk=30"
   ]
  },
  {
   "cell_type": "markdown",
   "id": "94f6904f-b710-4fe7-a9f0-a4e5c44a93ab",
   "metadata": {},
   "source": [
    "##### Build dataset of TP/FP for each diagnostic on train dataloader\n",
    "on samples where that diagnostic was present in top-30"
   ]
  },
  {
   "cell_type": "code",
   "execution_count": null,
   "id": "41449281-e8a8-4dd6-8104-4ef3d3b75499",
   "metadata": {},
   "outputs": [],
   "source": [
    "all_preds = list()\n",
    "dataset_train = {diag:{'features':list(),'TP':list(),'FP':list()} for diag in range(n_labels)}\n",
    "print('Iterating the dataloader to produce the TP/FP dataset')\n",
    "for batch in tqdm(train_dataloader):\n",
    "    \n",
    "    # compute logits and stats of the posterior predictive\n",
    "    logits_T = compute_model_predictive_samples_batch(model,batch,MaskTimesteps('all'),T=25)\n",
    "    predictive_stats = compute_predictive_stats(logits_T)\n",
    "    \n",
    "    # get the mean of logits\n",
    "    mean_pos = predictive_stats['stats_names'].index('mean')\n",
    "    mean_logits = predictive_stats['stats'][:,mean_pos,:]\n",
    "    \n",
    "    # get top30 logits as predictions\n",
    "    preds = logits2preds(mean_logits,None,topk)\n",
    "    all_preds.append(preds)\n",
    "    \n",
    "    # get labels\n",
    "    P = preds == 1\n",
    "    TP = P & (batch['target_sequence'] == 1) # True positives\n",
    "    #FP = P & (batch['target_sequence'] == 0) # False positives\n",
    "    \n",
    "    # save only datapoints from positives\n",
    "    for diag in range(logits_T.shape[-1]):\n",
    "        dataset_train[diag]['features'].append(predictive_stats['stats'][P[:,diag],:,diag])\n",
    "        dataset_train[diag]['TP'].append(TP[P[:,diag],diag].int().view(-1,1))\n",
    "        dataset_train[diag]['FP'].append((~TP[P[:,diag],diag]).int().view(-1,1))\n",
    "        \n",
    "for diag in dataset_train:\n",
    "    dataset_train[diag]['features'] = torch.vstack(dataset_train[diag]['features'])\n",
    "    dataset_train[diag]['TP'] = torch.vstack(dataset_train[diag]['TP'])\n",
    "    dataset_train[diag]['FP'] = torch.vstack(dataset_train[diag]['FP'])"
   ]
  },
  {
   "cell_type": "markdown",
   "id": "490a253d-575d-4c95-a590-79e1cbf1b050",
   "metadata": {},
   "source": [
    "##### dataset statistics"
   ]
  },
  {
   "cell_type": "code",
   "execution_count": null,
   "id": "7bd7bcab-3a4d-4c4b-8669-26849b610c2e",
   "metadata": {},
   "outputs": [],
   "source": [
    "for diag in tqdm(dataset_train):\n",
    "    dataset_train[diag]['size'] = len(dataset_train[diag]['TP'])\n",
    "    \n",
    "    TP_dist = pd.Series(dataset_train[diag]['TP'].flatten()).value_counts()\n",
    "    if any([e not in TP_dist for e in [0,1]]): # target does not has zero TPs or FPs\n",
    "        dataset_train[diag]['pos_prevalence'] = np.nan\n",
    "        dataset_train[diag]['target'] = np.nan\n",
    "        continue\n",
    "    else: # Target has has both TPs and FPs\n",
    "        # decide what the target is based on the rarest class\n",
    "        if TP_dist.loc[0] < TP_dist.loc[1]:\n",
    "            dataset_train[diag]['positive_class'] = 'False Positives'\n",
    "            dataset_train[diag]['target'] = dataset_train[diag]['FP']\n",
    "        else:\n",
    "            dataset_train[diag]['target'] = dataset_train[diag]['TP']\n",
    "            dataset_train[diag]['positive_class'] = 'True Positives'\n",
    "        \n",
    "    if len(dataset_train[diag]['features']) == 0:\n",
    "        pos_prevalence = np.nan\n",
    "    else:\n",
    "        try:\n",
    "            pos_prevalence = pd.Series(dataset_train[diag]['target'].detach().numpy().flatten()).value_counts(normalize=True).loc[1].round(2)\n",
    "        except: #sometimes there are no positive examples (i.e. there are only True positives\n",
    "            pos_prevalence = 0\n",
    "    dataset_train[diag]['pos_prevalence'] = pos_prevalence\n",
    "    dataset_train[diag]['size'] = len(dataset_train[diag]['target'])\n",
    "    \n",
    "    dataset_train[diag]['n_positives'] = sum(dataset_train[diag]['target']==1)\n",
    "    if type(dataset_train[diag]['n_positives']) == torch.Tensor:\n",
    "        dataset_train[diag]['n_positives'] = dataset_train[diag]['n_positives'][0].item()\n",
    "    dataset_train[diag]['n_negatives'] = sum(dataset_train[diag]['target']==0)\n",
    "    if type(dataset_train[diag]['n_negatives']) == torch.Tensor:\n",
    "        dataset_train[diag]['n_negatives'] = dataset_train[diag]['n_negatives'][0].item()"
   ]
  },
  {
   "cell_type": "code",
   "execution_count": null,
   "id": "8172f2cc-0f2a-4051-9c8d-36d4b29fb2d9",
   "metadata": {},
   "outputs": [],
   "source": [
    "dataset_train_stats = pd.DataFrame(dataset_train).T.drop(columns=['features','TP','FP','target'])\n",
    "dataset_train_stats.head(3)\n",
    "dataset_train_stats.shape"
   ]
  },
  {
   "cell_type": "code",
   "execution_count": null,
   "id": "9ceff041-c019-4077-960b-107b04535ef4",
   "metadata": {},
   "outputs": [],
   "source": [
    "dataset_train_stats.sort_values('n_positives',ascending=False).head(10)"
   ]
  },
  {
   "cell_type": "code",
   "execution_count": null,
   "id": "10e41a17-343f-4444-8149-26253ca0514d",
   "metadata": {},
   "outputs": [],
   "source": [
    "dataset_train_stats.loc[~dataset_train_stats.pos_prevalence.isna(),:]"
   ]
  },
  {
   "cell_type": "code",
   "execution_count": null,
   "id": "430a65b3-7d33-4cb7-b36d-adc7a0484753",
   "metadata": {},
   "outputs": [],
   "source": [
    "dataset_train_stats.pos_prevalence.plot.hist()\n",
    "plt.title('Distribution of positive % across all diagnostics');"
   ]
  },
  {
   "cell_type": "markdown",
   "id": "55c29179-5c30-43d5-b779-71d146fd6a2e",
   "metadata": {},
   "source": [
    "##### Build dataset of TP/FP for each diagnostic on val dataloader"
   ]
  },
  {
   "cell_type": "code",
   "execution_count": null,
   "id": "c4fa8d31-59ce-4b69-bc2b-c9b59e9bfad0",
   "metadata": {},
   "outputs": [],
   "source": [
    "all_preds = list()\n",
    "dataset_val = {diag:{'features':list(),'TP':list(),'FP':list()} for diag in range(n_labels)}\n",
    "print('Iterating the dataloader to produce the TP/FP dataset')\n",
    "for batch in tqdm(val_dataloader):\n",
    "    \n",
    "    # compute logits and stats of the posterior predictive\n",
    "    logits_T = compute_model_predictive_samples_batch(model,batch,MaskTimesteps('all'),T=25)\n",
    "    predictive_stats = compute_predictive_stats(logits_T)\n",
    "    \n",
    "    # get the mean of logits\n",
    "    mean_pos = predictive_stats['stats_names'].index('mean')\n",
    "    mean_logits = predictive_stats['stats'][:,mean_pos,:]\n",
    "    \n",
    "    # get top30 logits as predictions\n",
    "    preds = logits2preds(mean_logits,None,topk)\n",
    "    all_preds.append(preds)\n",
    "    \n",
    "    # get labels\n",
    "    P = preds == 1\n",
    "    TP = P & (batch['target_sequence'] == 1) # True positives\n",
    "    #FP = P & (batch['target_sequence'] == 0) # False positives\n",
    "    \n",
    "    # save only datapoints from positives\n",
    "    for diag in range(logits_T.shape[-1]):\n",
    "        dataset_val[diag]['features'].append(predictive_stats['stats'][P[:,diag],:,diag])\n",
    "        dataset_val[diag]['TP'].append(TP[P[:,diag],diag].int().view(-1,1))\n",
    "        dataset_val[diag]['FP'].append((~TP[P[:,diag],diag]).int().view(-1,1))\n",
    "        \n",
    "for diag in dataset_val:\n",
    "    dataset_val[diag]['features'] = torch.vstack(dataset_val[diag]['features'])\n",
    "    dataset_val[diag]['TP'] = torch.vstack(dataset_val[diag]['TP'])\n",
    "    dataset_val[diag]['FP'] = torch.vstack(dataset_val[diag]['FP'])"
   ]
  },
  {
   "cell_type": "markdown",
   "id": "5d397044-9605-4188-abbf-4d8d803525c2",
   "metadata": {},
   "source": [
    "##### dataset statistics"
   ]
  },
  {
   "cell_type": "code",
   "execution_count": null,
   "id": "c7ccec28-46d4-403f-853f-e5562b9a49ce",
   "metadata": {},
   "outputs": [],
   "source": [
    "for diag in tqdm(dataset_val):\n",
    "    dataset_val[diag]['size'] = len(dataset_val[diag]['TP'])\n",
    "    \n",
    "    TP_dist = pd.Series(dataset_val[diag]['TP'].flatten()).value_counts()\n",
    "    if any([e not in TP_dist for e in [0,1]]): # target does not has zero TPs or FPs\n",
    "        dataset_val[diag]['pos_prevalence'] = np.nan\n",
    "        dataset_val[diag]['target'] = np.nan\n",
    "        continue\n",
    "    else: # Target has has both TPs and FPs\n",
    "        # decide what the target is based on the rarest class\n",
    "        if TP_dist.loc[0] < TP_dist.loc[1]:\n",
    "            dataset_val[diag]['positive_class'] = 'False Positives'\n",
    "            dataset_val[diag]['target'] = dataset_val[diag]['FP']\n",
    "        else:\n",
    "            dataset_val[diag]['target'] = dataset_val[diag]['TP']\n",
    "            dataset_val[diag]['positive_class'] = 'True Positives'\n",
    "        \n",
    "    if len(dataset_val[diag]['features']) == 0:\n",
    "        pos_prevalence = np.nan\n",
    "    else:\n",
    "        try:\n",
    "            pos_prevalence = pd.Series(dataset_val[diag]['target'].detach().numpy().flatten()).value_counts(normalize=True).loc[1].round(2)\n",
    "        except: #sometimes there are no positive examples (i.e. there are only True positives\n",
    "            pos_prevalence = 0\n",
    "    dataset_val[diag]['pos_prevalence'] = pos_prevalence\n",
    "    dataset_val[diag]['size'] = len(dataset_val[diag]['target'])\n",
    "    \n",
    "    dataset_val[diag]['n_positives'] = sum(dataset_val[diag]['target']==1)\n",
    "    if type(dataset_val[diag]['n_positives']) == torch.Tensor:\n",
    "        dataset_val[diag]['n_positives'] = dataset_val[diag]['n_positives'][0].item()\n",
    "    dataset_val[diag]['n_negatives'] = sum(dataset_val[diag]['target']==0)\n",
    "    if type(dataset_val[diag]['n_negatives']) == torch.Tensor:\n",
    "        dataset_val[diag]['n_negatives'] = dataset_val[diag]['n_negatives'][0].item()"
   ]
  },
  {
   "cell_type": "code",
   "execution_count": null,
   "id": "6978b72d-d851-49fd-9ad1-6950b3172661",
   "metadata": {},
   "outputs": [],
   "source": [
    "dataset_val_stats = pd.DataFrame(dataset_val).T.drop(columns=['features','TP','FP','target'])\n",
    "dataset_val_stats.head(3)\n",
    "dataset_val_stats.shape"
   ]
  },
  {
   "cell_type": "code",
   "execution_count": null,
   "id": "406f70d4-33bf-4463-9eaa-5a65b65d2812",
   "metadata": {},
   "outputs": [],
   "source": [
    "dataset_val_stats.pos_prevalence.plot.hist()\n",
    "plt.title('Distribution of positive examples across all diagnostics');"
   ]
  },
  {
   "cell_type": "markdown",
   "id": "54686124-2a0d-41c9-aa48-b1651132ba3a",
   "metadata": {},
   "source": [
    "##### Comparing the 2 dataset distributions"
   ]
  },
  {
   "cell_type": "code",
   "execution_count": null,
   "id": "5866a98c-374d-4389-aae3-4fe7297bd557",
   "metadata": {},
   "outputs": [],
   "source": [
    "a = pd.concat([dataset_train_stats.sort_values('n_positives',ascending=False).head(20).pos_prevalence,\n",
    "dataset_val_stats.sort_values('n_positives',ascending=False).head(20).pos_prevalence,\n",
    "              ],axis=1)\n",
    "a.columns = ['train','val']\n",
    "a.head(3)\n",
    "a.plot.bar()\n",
    "plt.title('TP% out of all P')"
   ]
  },
  {
   "cell_type": "markdown",
   "id": "eb5c2308-fae7-46fa-a874-2b8e3acccbe7",
   "metadata": {},
   "source": [
    "Both splits have the same distribution, nice!"
   ]
  },
  {
   "cell_type": "markdown",
   "id": "5668d89b-09ae-4f2f-b2f9-5ec9b2e96f9b",
   "metadata": {},
   "source": [
    "____"
   ]
  },
  {
   "cell_type": "markdown",
   "id": "9b888623-eb99-4d29-91f8-88b4d4d66b7c",
   "metadata": {},
   "source": [
    "##### Train Logistic Regressions on the posterior predictive distribution of each diagnostic"
   ]
  },
  {
   "cell_type": "code",
   "execution_count": null,
   "id": "f0bd6c83-e230-44e5-9d70-7e09e8d7e69e",
   "metadata": {},
   "outputs": [],
   "source": [
    "from sklearn.model_selection import cross_val_score"
   ]
  },
  {
   "cell_type": "code",
   "execution_count": null,
   "id": "423d1ab3-f520-4d12-872f-94ee560db608",
   "metadata": {
    "tags": []
   },
   "outputs": [],
   "source": [
    "cv_splits = 3\n",
    "for diag in tqdm(dataset_train):\n",
    "    if dataset_train[diag]['pos_prevalence'] in [np.nan,0,1] or dataset_train[diag]['n_positives'] + dataset_train[diag]['n_negatives'] < 10:\n",
    "        pipeline = np.nan\n",
    "        mean = np.nan\n",
    "        std = np.nan\n",
    "    else:\n",
    "        X = dataset_train[diag]['features'].detach().numpy()\n",
    "        y = dataset_train[diag]['target'].detach().numpy()\n",
    "        \n",
    "        pipeline = make_pipeline(StandardScaler(),LogisticRegression())\n",
    "        scores = cross_val_score(pipeline, X, y, cv=cv_splits, scoring='average_precision')\n",
    "        mean = np.mean(scores)\n",
    "        std = np.std(scores)\n",
    "        pipeline.fit(X,y)\n",
    "    dataset_train[diag]['pipeline'] = pipeline\n",
    "    dataset_train[diag]['mean_cv_score'] = mean\n",
    "    dataset_train[diag]['std_cv_score'] = std"
   ]
  },
  {
   "cell_type": "code",
   "execution_count": null,
   "id": "326bd6d2-54ef-4ff3-bb09-8e8e620fbb66",
   "metadata": {},
   "outputs": [],
   "source": [
    "res = pd.DataFrame(dataset_train).T.drop(columns=['features','TP','FP','target'])\n",
    "res.sort_values('mean_cv_score',ascending=False)"
   ]
  },
  {
   "cell_type": "markdown",
   "id": "269eeb8f-0b27-44f1-a405-b9f8276802fa",
   "metadata": {},
   "source": [
    "##### Sort the top-30 predictions on the validation set"
   ]
  },
  {
   "cell_type": "code",
   "execution_count": null,
   "id": "ed0d434a-10cf-403a-b9c3-ca4b7b7c7b3d",
   "metadata": {},
   "outputs": [],
   "source": [
    "all_relevant_stats = list()\n",
    "all_preds = list()\n",
    "all_targets = list()\n",
    "all_original_order = list()\n",
    "all_original_order_labels = list()\n",
    "all_new_order = list()\n",
    "all_new_order_labels = list()\n",
    "all_labels = None\n",
    "for batch in tqdm(val_dataloader):\n",
    "    all_targets.append(batch['target_sequence'])\n",
    "    logits_T = compute_model_predictive_samples_batch(model,batch,MaskTimesteps('all'),T=25)\n",
    "    predictive_stats = compute_predictive_stats(logits_T)\n",
    "    \n",
    "    # get the mean of logits\n",
    "    mean_pos = predictive_stats['stats_names'].index('mean')\n",
    "    mean_logits = predictive_stats['stats'][:,mean_pos,:]\n",
    "    \n",
    "    # true labels\n",
    "    a,b = torch.where(batch['target_sequence'] == 1)\n",
    "    a = a.detach().numpy()\n",
    "    b = b.detach().numpy()\n",
    "    labels = pd.DataFrame([a,b],index=['row','value']).T.groupby('row').value.apply(lambda x: list(x))\n",
    "    if all_labels is None:\n",
    "        all_labels = labels\n",
    "    else:\n",
    "        all_labels = pd.concat([all_labels,labels])\n",
    "    labels = labels.to_dict()\n",
    "    # baseline ordering\n",
    "    original_order = torch.argsort(mean_logits,dim=-1,descending=True)[:,:30]\n",
    "    original_order_labels = [ [int(diag.item() in labels[sample_idx]) for diag in original_order[sample_idx,:]] for sample_idx in range(original_order.shape[0])]\n",
    "    \n",
    "    all_original_order.append(original_order)\n",
    "    all_original_order_labels.append(original_order_labels)\n",
    "    \n",
    "    # Now reorder with my method\n",
    "    for sample_idx in range(predictive_stats['stats'].shape[0]):\n",
    "        new_order = {}\n",
    "        for diag in original_order[sample_idx,:]:\n",
    "            if dataset_train[diag.item()]['pipeline'] is not np.nan:\n",
    "                x = predictive_stats['stats'][sample_idx,:,diag.item()].detach().numpy().reshape(1,-1)\n",
    "                proba_diag = dataset_train[diag.item()]['pipeline'].predict_proba(x)[0][1]\n",
    "                if dataset_train[diag.item()]['positive_class'] == 'False Positives':\n",
    "                    proba_diag = 1 - proba_diag\n",
    "            else:\n",
    "                proba_diag = mean_logits[sample_idx,diag.item()].item()\n",
    "            new_order[diag.item()] = proba_diag\n",
    "        new_order = pd.Series(new_order).sort_values().index.tolist()\n",
    "        new_order_labels = [int(diag in labels[sample_idx]) for diag in new_order]\n",
    "        all_new_order_labels.append(new_order_labels)\n",
    "        all_new_order.append(new_order)\n",
    "        \n",
    "all_original_order_labels = np.vstack(all_original_order_labels)\n",
    "all_new_order_labels = np.array(all_new_order_labels)"
   ]
  },
  {
   "cell_type": "markdown",
   "id": "72fb47a7-e65f-4af4-abc7-9c2e33783865",
   "metadata": {},
   "source": [
    "Comparing original ordering with new one"
   ]
  },
  {
   "cell_type": "code",
   "execution_count": null,
   "id": "8afc7394-00eb-4c62-82df-6620975ebea9",
   "metadata": {
    "tags": []
   },
   "outputs": [],
   "source": [
    "# original are sorted descending\n",
    "scores_original = np.array([ np.linspace(1,0,num=topk) for sample_idx in range(all_original_order_labels.shape[0])])\n",
    "# new are sorted ascending\n",
    "scores_new = np.array([ np.linspace(0,1,num=topk) for sample_idx in range(all_original_order_labels.shape[0])])\n",
    "\n",
    "original = average_precision_score(all_original_order_labels.T,scores_original.T,average=None)\n",
    "new = average_precision_score(all_new_order_labels.T,scores_new.T,average=None)\n",
    "\n",
    "a = pd.concat([pd.Series(original,name='original'),\n",
    "           pd.Series(new,name='new')\n",
    "          ],axis=1\n",
    "         )"
   ]
  },
  {
   "cell_type": "code",
   "execution_count": null,
   "id": "08e46699-7bd8-4b9e-8dae-cb07e7e97181",
   "metadata": {},
   "outputs": [],
   "source": [
    "a.describe().loc[['25%','50%','75%']]"
   ]
  },
  {
   "cell_type": "markdown",
   "id": "385430f5-6824-4223-a23b-402d6d3b2835",
   "metadata": {},
   "source": [
    "improves avgprec by ~2% on average"
   ]
  },
  {
   "cell_type": "markdown",
   "id": "f7bac122-ef5d-4eb9-9894-b927459dafd8",
   "metadata": {},
   "source": [
    "#### sample wise"
   ]
  },
  {
   "cell_type": "code",
   "execution_count": null,
   "id": "9734376f-5bfc-4518-8256-cdfb62fff7fb",
   "metadata": {},
   "outputs": [],
   "source": [
    "topk=30"
   ]
  },
  {
   "cell_type": "markdown",
   "id": "39e07667-7de4-4d20-ae4a-7cc4319f74f2",
   "metadata": {},
   "source": [
    "##### Build dataset of TP/FP diagnostic-agnostic on train dataloader"
   ]
  },
  {
   "cell_type": "code",
   "execution_count": null,
   "id": "879a764b-0d59-4c08-a570-8a1264cf601a",
   "metadata": {},
   "outputs": [],
   "source": [
    "all_preds = list()\n",
    "dataset_train = {'features':list(),'TP':list(),'FP':list()}\n",
    "print('Iterating the dataloader to produce the TP/FP dataset')\n",
    "for batch in tqdm(train_dataloader):\n",
    "    \n",
    "    n_samples = batch['target_sequence'].shape[0]\n",
    "    \n",
    "    # compute logits and stats of the posterior predictive\n",
    "    logits_T = compute_model_predictive_samples_batch(model,batch,MaskTimesteps('all'),T=25)\n",
    "    predictive_stats = compute_predictive_stats(logits_T)\n",
    "    \n",
    "    # get the mean of logits\n",
    "    mean_pos = predictive_stats['stats_names'].index('mean')\n",
    "    mean_logits = predictive_stats['stats'][:,mean_pos,:]\n",
    "    \n",
    "    # get top30 logits as predictions\n",
    "    preds = logits2preds(mean_logits,None,topk)\n",
    "    all_preds.append(preds)\n",
    "    \n",
    "    # get labels\n",
    "    P = preds == 1\n",
    "    TP = P & (batch['target_sequence'] == 1) # True positives\n",
    "    #FP = P & (batch['target_sequence'] == 0) # False positives\n",
    "    \n",
    "    diagnostic_pos_preds_stacked = torch.where(preds==1)[1]\n",
    "    diagnostic_pos_preds = [diagnostic_pos_preds_stacked[i*topk:i*topk+topk] for i in range(n_samples)]\n",
    "\n",
    "    # save only datapoints from positives\n",
    "    for sample in range(n_samples):\n",
    "        dataset_train['features'].append(predictive_stats['stats'][sample,:,diagnostic_pos_preds[sample]].detach().numpy())\n",
    "        dataset_train['TP'].append(TP[sample,P[sample,:]].int().view(-1,1).detach().numpy())\n",
    "        dataset_train['FP'].append((~TP[sample,P[sample,:]]).int().view(-1,1).detach().numpy())\n",
    "    \n",
    "dataset_train['features'] = np.hstack(dataset_train['features'])\n",
    "dataset_train['TP'] = np.vstack(dataset_train['TP'])\n",
    "dataset_train['FP'] = np.vstack(dataset_train['FP'])\n",
    "\n",
    "# randomize datapoints\n",
    "#idx = list(range(dataset_train['features'].shape[1]))\n",
    "#random.shuffle(idx)\n",
    "#dataset_train['features'] = dataset_train['features'][:,idx]\n",
    "#dataset_train['TP'] = dataset_train['TP'][idx,:]\n",
    "#dataset_train['FP'] = dataset_train['FP'][idx,:]"
   ]
  },
  {
   "cell_type": "code",
   "execution_count": null,
   "id": "8f0c57ea-b1c0-431e-b817-1bac3d4d03cc",
   "metadata": {},
   "outputs": [],
   "source": [
    "dataset_train"
   ]
  },
  {
   "cell_type": "markdown",
   "id": "cb98e9dc-6b56-48a1-8984-8cae02e61227",
   "metadata": {},
   "source": [
    "##### dataset statistics"
   ]
  },
  {
   "cell_type": "code",
   "execution_count": null,
   "id": "b54a2023-c8e0-4d5c-9368-6250896f3077",
   "metadata": {},
   "outputs": [],
   "source": [
    "dataset_train['size'] = len(dataset_train['TP'])\n",
    "    \n",
    "TP_dist = pd.Series(dataset_train['TP'].flatten()).value_counts()\n",
    "if any([e not in TP_dist for e in [0,1]]): # target does not has zero TPs or FPs\n",
    "    dataset_train['pos_prevalence'] = np.nan\n",
    "    dataset_train['target'] = np.nan\n",
    "else: # Target has has both TPs and FPs\n",
    "    # decide what the target is based on the rarest class\n",
    "    if TP_dist.loc[0] < TP_dist.loc[1]:\n",
    "        dataset_train['positive_class'] = 'False Positives'\n",
    "        dataset_train['target'] = dataset_train['FP']\n",
    "    else:\n",
    "        dataset_train['target'] = dataset_train['TP']\n",
    "        dataset_train['positive_class'] = 'True Positives'\n",
    "\n",
    "if len(dataset_train['features']) == 0:\n",
    "    pos_prevalence = np.nan\n",
    "else:\n",
    "    try:\n",
    "        pos_prevalence = pd.Series(dataset_train['target'].detach().numpy().flatten()).value_counts(normalize=True).loc[1].round(2)\n",
    "    except: #sometimes there are no positive examples (i.e. there are only True positives\n",
    "        pos_prevalence = 0\n",
    "dataset_train['pos_prevalence'] = pos_prevalence\n",
    "\n",
    "dataset_train['n_positives'] = sum(dataset_train['target']==1)\n",
    "if type(dataset_train['n_positives']) == torch.Tensor:\n",
    "    dataset_train['n_positives'] = dataset_train['n_positives'][0].item()\n",
    "dataset_train['n_negatives'] = sum(dataset_train['target']==0)\n",
    "if type(dataset_train['n_negatives']) == torch.Tensor:\n",
    "    dataset_train['n_negatives'] = dataset_train['n_negatives'][0].item()"
   ]
  },
  {
   "cell_type": "code",
   "execution_count": null,
   "id": "338eb933-6173-4df4-9c3c-5e33b58ac29f",
   "metadata": {},
   "outputs": [],
   "source": [
    "dataset_train"
   ]
  },
  {
   "cell_type": "markdown",
   "id": "9fa96035-6972-438b-b655-15d7e6570f53",
   "metadata": {},
   "source": [
    "##### Build dataset of TP/FP diagnostic-agnostic on val dataloader"
   ]
  },
  {
   "cell_type": "code",
   "execution_count": null,
   "id": "54f07a67-b3d1-4bc8-b920-0d108ee29718",
   "metadata": {},
   "outputs": [],
   "source": [
    "predictive_stats['stats'].shape"
   ]
  },
  {
   "cell_type": "code",
   "execution_count": null,
   "id": "28fee3a0-0cb4-4d5c-b4e5-a70e6ac46579",
   "metadata": {},
   "outputs": [],
   "source": [
    "all_preds = list()\n",
    "dataset_val = {'features':list(),'TP':list(),'FP':list()}\n",
    "print('Iterating the dataloader to produce the TP/FP dataset')\n",
    "for batch in tqdm(val_dataloader):\n",
    "    \n",
    "    n_samples = batch['target_sequence'].shape[0]\n",
    "    \n",
    "    # compute logits and stats of the posterior predictive\n",
    "    logits_T = compute_model_predictive_samples_batch(model,batch,MaskTimesteps('all'),T=25)\n",
    "    predictive_stats = compute_predictive_stats(logits_T)\n",
    "    \n",
    "    # get the mean of logits\n",
    "    mean_pos = predictive_stats['stats_names'].index('mean')\n",
    "    mean_logits = predictive_stats['stats'][:,mean_pos,:]\n",
    "    \n",
    "    # get top30 logits as predictions\n",
    "    preds = logits2preds(mean_logits,None,topk)\n",
    "    all_preds.append(preds)\n",
    "    \n",
    "    # get labels\n",
    "    P = preds == 1\n",
    "    TP = P & (batch['target_sequence'] == 1) # True positives\n",
    "    #FP = P & (batch['target_sequence'] == 0) # False positives\n",
    "    \n",
    "    diagnostic_pos_preds_stacked = torch.where(preds==1)[1]\n",
    "    diagnostic_pos_preds = [diagnostic_pos_preds_stacked[i*topk:i*topk+topk] for i in range(n_samples)]\n",
    "\n",
    "    # save only datapoints from positives\n",
    "    for sample in range(n_samples):\n",
    "        dataset_val['features'].append(predictive_stats['stats'][sample,:,diagnostic_pos_preds[sample]].detach().numpy())\n",
    "        dataset_val['TP'].append(TP[sample,P[sample,:]].int().view(-1,1).detach().numpy())\n",
    "        dataset_val['FP'].append((~TP[sample,P[sample,:]]).int().view(-1,1).detach().numpy())\n",
    "    \n",
    "dataset_val['features'] = np.hstack(dataset_val['features'])\n",
    "dataset_val['TP'] = np.vstack(dataset_val['TP'])\n",
    "dataset_val['FP'] = np.vstack(dataset_val['FP'])\n",
    "\n",
    "# randomize datapoints\n",
    "idx = list(range(dataset_val['features'].shape[1]))\n",
    "random.shuffle(idx)\n",
    "dataset_val['features'] = dataset_val['features'][:,idx]\n",
    "dataset_val['TP'] = dataset_val['TP'][idx,:]\n",
    "dataset_val['FP'] = dataset_val['FP'][idx,:]"
   ]
  },
  {
   "cell_type": "markdown",
   "id": "1a76c6e5-417e-4146-ae47-3fe177bb4bf9",
   "metadata": {},
   "source": [
    "##### dataset statistics"
   ]
  },
  {
   "cell_type": "code",
   "execution_count": null,
   "id": "07e0119a-9877-40ad-a6e4-40db14044cc0",
   "metadata": {},
   "outputs": [],
   "source": [
    "dataset_val['size'] = len(dataset_val['TP'])\n",
    "    \n",
    "TP_dist = pd.Series(dataset_val['TP'].flatten()).value_counts()\n",
    "if any([e not in TP_dist for e in [0,1]]): # target does not has zero TPs or FPs\n",
    "    dataset_val['pos_prevalence'] = np.nan\n",
    "    dataset_val['target'] = np.nan\n",
    "else: # Target has has both TPs and FPs\n",
    "    # decide what the target is based on the rarest class\n",
    "    if TP_dist.loc[0] < TP_dist.loc[1]:\n",
    "        dataset_val['positive_class'] = 'False Positives'\n",
    "        dataset_val['target'] = dataset_val['FP']\n",
    "    else:\n",
    "        dataset_val['target'] = dataset_val['TP']\n",
    "        dataset_val['positive_class'] = 'True Positives'\n",
    "\n",
    "if len(dataset_val['features']) == 0:\n",
    "    pos_prevalence = np.nan\n",
    "else:\n",
    "    try:\n",
    "        pos_prevalence = pd.Series(dataset_val['target'].detach().numpy().flatten()).value_counts(normalize=True).loc[1].round(2)\n",
    "    except: #sometimes there are no positive examples (i.e. there are only True positives\n",
    "        pos_prevalence = 0\n",
    "dataset_val['pos_prevalence'] = pos_prevalence\n",
    "\n",
    "dataset_val['n_positives'] = sum(dataset_val['target']==1)\n",
    "if type(dataset_val['n_positives']) == torch.Tensor:\n",
    "    dataset_val['n_positives'] = dataset_val['n_positives'][0].item()\n",
    "dataset_val['n_negatives'] = sum(dataset_val['target']==0)\n",
    "if type(dataset_val['n_negatives']) == torch.Tensor:\n",
    "    dataset_val['n_negatives'] = dataset_val['n_negatives'][0].item()"
   ]
  },
  {
   "cell_type": "code",
   "execution_count": null,
   "id": "23ba06ae-b589-46d2-8c02-93230a56e794",
   "metadata": {},
   "outputs": [],
   "source": [
    "dataset_val"
   ]
  },
  {
   "cell_type": "markdown",
   "id": "19111707-d995-4e0f-a5fc-fcde3cf93cfd",
   "metadata": {},
   "source": [
    "##### Train Logistic Regressions on the posterior predictive distribution"
   ]
  },
  {
   "cell_type": "code",
   "execution_count": null,
   "id": "53e04240-f392-4624-9469-6ff479385fa3",
   "metadata": {
    "tags": []
   },
   "outputs": [],
   "source": [
    "cv_splits = 2\n",
    "res = {}\n",
    "pipeline = make_pipeline(StandardScaler(),LogisticRegression())\n",
    "\n",
    "X = dataset_train['features'].T\n",
    "y = dataset_train['target']\n",
    "\n",
    "scores = cross_val_score(pipeline, X, y, cv=cv_splits, scoring='average_precision')\n",
    "mean = np.mean(scores)\n",
    "std = np.std(scores)\n",
    "pipeline.fit(X,y)\n",
    "\n",
    "dataset_train['pipeline'] = pipeline\n",
    "dataset_train['mean_cv_score'] = mean\n",
    "dataset_train['std_cv_score'] = std"
   ]
  },
  {
   "cell_type": "code",
   "execution_count": null,
   "id": "f1484eef-82e3-4ece-8624-57d0965a5ce3",
   "metadata": {},
   "outputs": [],
   "source": [
    "pd.Series(dataset_train).drop(['features','TP','FP','target']).to_frame()"
   ]
  },
  {
   "cell_type": "markdown",
   "id": "6712b4ea-38f4-4521-b386-1415f26533ad",
   "metadata": {},
   "source": [
    "##### Conclusions"
   ]
  },
  {
   "cell_type": "markdown",
   "id": "b9a48963-8a82-4642-b54d-ed505c1caecc",
   "metadata": {},
   "source": [
    "Worse than baseline. Probably because there's no relationship between posterior predictives of multiple diagnostics and their correctness. It may make more sense to consider one diagnostic at a time"
   ]
  },
  {
   "cell_type": "markdown",
   "id": "741bd90b-bd2b-4e53-a74b-8bafdbfd5567",
   "metadata": {},
   "source": [
    "### Now using thresholds"
   ]
  },
  {
   "cell_type": "code",
   "execution_count": null,
   "id": "99b1821e-1c6b-4dfe-a10c-70b95c98419b",
   "metadata": {},
   "outputs": [],
   "source": [
    "a = compute_thresholds_posterior_predictive(dataset_val,dataset_train)"
   ]
  },
  {
   "cell_type": "markdown",
   "id": "b1447b76-743b-47f6-a93e-e955155b4b86",
   "metadata": {},
   "source": [
    "load the entire dataloader\n",
    "compute best threshold for each diagnostic\n",
    "turn 1s to 0s according to thresholds for each diagnostic\n",
    "compute metrics again: recall/prec/f1 and avgprec"
   ]
  },
  {
   "cell_type": "code",
   "execution_count": null,
   "id": "3ec4ceee-1950-4982-bf82-ef936d95823c",
   "metadata": {},
   "outputs": [],
   "source": [
    "all_topk_preds_hot = list()\n",
    "all_predictive_stats = list()\n",
    "for batch in tqdm(val_dataloader):\n",
    "    all_targets.append(batch['target_sequence'])\n",
    "    logits_T = compute_model_predictive_samples_batch(model,batch,MaskTimesteps('all'),T=25)\n",
    "    predictive_stats = compute_predictive_stats(logits_T)\n",
    "    all_predictive_stats.append(predictive_stats['stats'])\n",
    "    \n",
    "    # get the mean of logits\n",
    "    mean_pos = predictive_stats['stats_names'].index('mean')\n",
    "    mean_logits = predictive_stats['stats'][:,mean_pos,:]\n",
    "    \n",
    "    topk_preds = torch.argsort(mean_logits,dim=-1,descending=True)[:,:topk]\n",
    "    topk_preds_hot = torch.nn.functional.one_hot(topk_preds,num_classes=n_labels).sum(axis=1)\n",
    "    all_topk_preds_hot.append(topk_preds_hot)\n",
    "\n",
    "all_topk_preds_hot = torch.vstack(all_topk_preds_hot)\n",
    "all_predictive_stats = torch.vstack(all_predictive_stats)"
   ]
  },
  {
   "cell_type": "markdown",
   "id": "6f13dfd2-8d2f-43bf-8ed4-0c192f0dad72",
   "metadata": {},
   "source": [
    "#### Validate and pray"
   ]
  },
  {
   "cell_type": "code",
   "execution_count": null,
   "id": "07d6c9ea-3bf9-4374-a322-4f823bec4c8f",
   "metadata": {},
   "outputs": [],
   "source": [
    "for diag in tqdm(dataset_val):\n",
    "    if dataset_val[diag]['pos_prevalence'] in [np.nan,0,1]:\n",
    "        score = np.nan\n",
    "    else:\n",
    "        probas = dataset[diag]['pipeline'].predict_proba(dataset_val[diag]['features'].detach().numpy())[:,1]\n",
    "        y_val = dataset_val[diag]['target'].detach().numpy()\n",
    "\n",
    "        score = average_precision_score(y_val,probas)\n",
    "    dataset_val[diag]['score'] = score"
   ]
  },
  {
   "cell_type": "code",
   "execution_count": null,
   "id": "f164553a-daf2-4a11-9645-cfec31f9fffd",
   "metadata": {
    "tags": []
   },
   "outputs": [],
   "source": [
    "pd.Series({diag:dataset_val[diag]['score'] for diag in dataset}).describe()"
   ]
  },
  {
   "cell_type": "markdown",
   "id": "afa5125c-3c68-4100-aec5-64fef04a7f01",
   "metadata": {},
   "source": [
    "Some overfit, all quantiles seem to be 0.05 points lower in validation than in train. but all good"
   ]
  },
  {
   "cell_type": "markdown",
   "id": "15377d4b-b016-49df-af2f-bf71f32e331c",
   "metadata": {},
   "source": [
    "#### Compute thresholds on train set"
   ]
  },
  {
   "cell_type": "code",
   "execution_count": null,
   "id": "e2a1306c-77cc-4e68-8bc9-025d83d901bc",
   "metadata": {
    "tags": []
   },
   "outputs": [],
   "source": [
    "ths = compute_thresholds_posterior_predictive(dataset)"
   ]
  },
  {
   "cell_type": "markdown",
   "id": "d9afd221-ed0b-4037-a8df-348efd3398b3",
   "metadata": {},
   "source": [
    "#### Evaluate thresholds on validation set"
   ]
  },
  {
   "cell_type": "code",
   "execution_count": null,
   "id": "267f4467-8f71-48ad-b628-238dc132a22a",
   "metadata": {},
   "outputs": [],
   "source": [
    "res = {}\n",
    "for diag in tqdm(dataset_val):\n",
    "    if len(dataset_val[diag]['target']) > 0:\n",
    "        X = dataset_val[diag]['features'].detach().numpy()\n",
    "        y = dataset_val[diag]['target'].detach().numpy()\n",
    "        probas = dataset[diag]['pipeline'].predict_proba(X)[:,1]\n",
    "        preds = (probas > ths.loc[diag,'best_thresholds']).astype(int)\n",
    "        score = f1_score(y,preds)\n",
    "    else:\n",
    "        score = np.nan\n",
    "    res[diag] = score"
   ]
  },
  {
   "cell_type": "code",
   "execution_count": null,
   "id": "278cfff2-2e0a-4595-80d5-00a949d3bdc1",
   "metadata": {},
   "outputs": [],
   "source": [
    "pd.Series(res,name='f1_score_validation').describe()"
   ]
  },
  {
   "cell_type": "markdown",
   "id": "adc1ffe8-cf3a-4880-a845-68020116f830",
   "metadata": {},
   "source": [
    "#### Compare original performance with abstention from the logistic regressions"
   ]
  },
  {
   "cell_type": "code",
   "execution_count": null,
   "id": "027872bf-4d5c-4f01-8692-e1707f329a42",
   "metadata": {},
   "outputs": [],
   "source": [
    "all_relevant_stats = list()\n",
    "all_preds = list()\n",
    "all_targets = list()\n",
    "for batch in tqdm(val_dataloader):\n",
    "    all_targets.append(batch['target_sequence'])\n",
    "    logits_T = compute_model_predictive_samples_batch(model,batch,MaskTimesteps('all'),T=25)\n",
    "    predictive_stats = compute_predictive_stats(logits_T)\n",
    "    \n",
    "    # get the mean of logits\n",
    "    mean_pos = predictive_stats['stats_names'].index('mean')\n",
    "    mean_logits = predictive_stats['stats'][:,mean_pos,:]\n",
    "    \n",
    "    # compute predictions using the best_f1 thresholds\n",
    "    preds = logits2preds(mean_logits,thresholds.best_thresholds.tolist())\n",
    "    all_preds.append(preds)\n",
    "    \n",
    "    all_relevant_stats.append(predictive_stats['stats'])\n",
    "    \n",
    "all_relevant_stats = torch.vstack(all_relevant_stats)\n",
    "all_preds = torch.vstack(all_preds)\n",
    "all_targets = torch.vstack(all_targets).detach().numpy()\n",
    "\n",
    "# get predictions of TP/FP for all datapoints (including Negative predictions, which is redundant but easier to manage the matrices this way)\n",
    "all_predictive_preds = list()\n",
    "for diag in tqdm(range(n_labels)):\n",
    "    probas_diag = dataset[diag]['pipeline'].predict_proba(all_relevant_stats[:,:,diag].detach().numpy())[:,1]\n",
    "    #preds = (probas_diag > ths.loc[diag,'best_thresholds']).astype(int)\n",
    "    preds = (probas_diag > 0.9).astype(int)\n",
    "    all_predictive_preds.append(preds)\n",
    "all_predictive_preds = np.vstack(all_predictive_preds).T\n",
    "all_predictive_preds_complement = (~all_predictive_preds.astype(bool)).astype(int)\n",
    "\n",
    "# substitute Positive predictions according to the TP/FP model\n",
    "new_preds = np.where(all_preds.detach().numpy() == 1, all_predictive_preds_complement,0)\n",
    "#all_preds = torch.vstack(all_preds)"
   ]
  }
 ],
 "metadata": {
  "kernelspec": {
   "display_name": "Python (simao thesis)",
   "language": "python",
   "name": "simao_thesis"
  },
  "language_info": {
   "codemirror_mode": {
    "name": "ipython",
    "version": 3
   },
   "file_extension": ".py",
   "mimetype": "text/x-python",
   "name": "python",
   "nbconvert_exporter": "python",
   "pygments_lexer": "ipython3",
   "version": "3.10.4"
  },
  "toc-autonumbering": true,
  "toc-showcode": false,
  "toc-showmarkdowntxt": false,
  "toc-showtags": false
 },
 "nbformat": 4,
 "nbformat_minor": 5
}
