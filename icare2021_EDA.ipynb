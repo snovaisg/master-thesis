{
 "cells": [
  {
   "cell_type": "code",
   "execution_count": 1,
   "id": "e8e0ded2-04af-4c2a-a0fc-e6a63c66b4bd",
   "metadata": {},
   "outputs": [],
   "source": [
    "from IPython.core.interactiveshell import InteractiveShell\n",
    "InteractiveShell.ast_node_interactivity = \"all\"\n",
    "%matplotlib inline"
   ]
  },
  {
   "cell_type": "code",
   "execution_count": 2,
   "id": "4c7f36c6-046e-4337-a9e5-79a4756fcfd2",
   "metadata": {},
   "outputs": [],
   "source": [
    "import pandas as pd\n",
    "pd.options.display.max_columns = None\n",
    "\n",
    "import numpy as np\n",
    "import os\n",
    "\n",
    "import matplotlib.pyplot as plt\n",
    "from tqdm.notebook import tqdm"
   ]
  },
  {
   "cell_type": "code",
   "execution_count": 3,
   "id": "e12dac82-4783-4530-855d-1a0245dffc95",
   "metadata": {},
   "outputs": [],
   "source": [
    "class Icare:\n",
    "    def __init__(self,data_folder):\n",
    "        self.data_folder = data_folder\n",
    "        self.diagnoses_path = 'LS_ANALYTICS.ICARE_CLINICO_DIAGNOSTICOS/index.csv'\n",
    "        self.atividade_path = 'LS_ANALYTICS.ICARE_ATIVIDADE_HOSPITALAR/index.csv'\n",
    "        \n",
    "    \n",
    "    def _read_diagnoses(self):\n",
    "        print('Reading diagnostics table...')\n",
    "        diagnoses_file = os.path.join(self.data_folder,self.diagnoses_path)\n",
    "        \n",
    "        df = pd.read_csv(diagnoses_file,sep='\\t')\n",
    "        \n",
    "        print('begining: ',round(df.memory_usage(index=True).sum() / 1_000_000,1),'Mb') #Mbytes\n",
    "        \n",
    "        df = df.drop(columns='UNIDADE')\n",
    "        #print('drop UNIDADE:',df.memory_usage(index=True).sum() / 1_000_000) #Mbytes\n",
    "        \n",
    "        df = df.drop(columns='DATA_FIM')\n",
    "        #print('drop date_end:',df.memory_usage(index=True).sum() / 1_000_000) #Mbytes\n",
    "        \n",
    "        df.loc[:,'PRIORIDADE_DIAGNOSTICO'] = df.PRIORIDADE_DIAGNOSTICO.astype('category')\n",
    "        #print('PRIORIDADE_DIAGNOSTICO to category:',df.memory_usage(index=True).sum() / 1_000_000) #Mbytes\n",
    "        \n",
    "        df = df.drop(columns=['ICD9_DESCRICAO'])\n",
    "        #print('drop icd9_descricao:',df.memory_usage(index=True).sum() / 1_000_000) #Mbytes\n",
    "        \n",
    "        df.loc[:,'DIAGNOSTICO_PRINCIPAL'] = df.DIAGNOSTICO_PRINCIPAL.map({'S':True,'N':False})        \n",
    "        #print('DIAGNOSTICO_PRINCIPAL to boolean:',df.memory_usage(index=True).sum() / 1_000_000) #Mbytes\n",
    "        \n",
    "        # a single row with the year 9064 ruins pd.to_datetime (overflow since pandas uses miliseconds in dates)\n",
    "        # tldr:  we will remove that row\n",
    "        nrows_before = df.shape[0]\n",
    "        df = df.drop(df.DATA_INICIO.apply(lambda x: x[:4] if x is not np.nan else x).astype(float).where(lambda x: x==9064.0).dropna().index[0])\n",
    "        nrows_after = df.shape[0]\n",
    "        assert nrows_before == nrows_after + 1, 'Ooops, expecting to drop exactly 1 row. maybe dataset changed.'\n",
    "        \n",
    "        df.loc[:,'DATA_INICIO'] = pd.to_datetime(df.DATA_INICIO,format='%Y-%m-%d %H:%M:%S')\n",
    "        #print('DATA_INICIO to datetime:',df.memory_usage(index=True).sum() / 1_000_000) #Mbytes\n",
    "        \n",
    "        df = df.drop_duplicates()\n",
    "        #print('drop duplicates:',df.memory_usage(index=True).sum() / 1_000_000) #Mbytes\n",
    "        \n",
    "        # last row is trash\n",
    "        df = df.iloc[:-1]\n",
    "        \n",
    "        print('end: ',round(df.memory_usage(index=True).sum() / 1_000_000),'Mb') #Mbytes\n",
    "        print('Done')\n",
    "        return df\n",
    "        "
   ]
  },
  {
   "cell_type": "code",
   "execution_count": 4,
   "id": "cbbbeb72-c064-46dd-b64c-99fbc963bc73",
   "metadata": {},
   "outputs": [
    {
     "name": "stdout",
     "output_type": "stream",
     "text": [
      "Reading diagnostics table...\n"
     ]
    },
    {
     "name": "stderr",
     "output_type": "stream",
     "text": [
      "/tmp/ipykernel_4232/365396413.py:12: DtypeWarning: Columns (8) have mixed types. Specify dtype option on import or set low_memory=False.\n",
      "  df = pd.read_csv(diagnoses_file,sep='\\t')\n"
     ]
    },
    {
     "name": "stdout",
     "output_type": "stream",
     "text": [
      "begining:  178.9 Mb\n",
      "end:  117 Mb\n",
      "Done\n"
     ]
    },
    {
     "data": {
      "text/html": [
       "<div>\n",
       "<style scoped>\n",
       "    .dataframe tbody tr th:only-of-type {\n",
       "        vertical-align: middle;\n",
       "    }\n",
       "\n",
       "    .dataframe tbody tr th {\n",
       "        vertical-align: top;\n",
       "    }\n",
       "\n",
       "    .dataframe thead th {\n",
       "        text-align: right;\n",
       "    }\n",
       "</style>\n",
       "<table border=\"1\" class=\"dataframe\">\n",
       "  <thead>\n",
       "    <tr style=\"text-align: right;\">\n",
       "      <th></th>\n",
       "      <th>EPISODIO</th>\n",
       "      <th>NHC</th>\n",
       "      <th>PRIORIDADE_DIAGNOSTICO</th>\n",
       "      <th>ICD9</th>\n",
       "      <th>DIAGNOSTICO_PRINCIPAL</th>\n",
       "      <th>DATA_INICIO</th>\n",
       "    </tr>\n",
       "  </thead>\n",
       "  <tbody>\n",
       "    <tr>\n",
       "      <th>0</th>\n",
       "      <td>9B91F36DDC2E5D45</td>\n",
       "      <td>7E0717CE88F09A1EB9B7CB48F3520501</td>\n",
       "      <td>ASAP</td>\n",
       "      <td>2578</td>\n",
       "      <td>True</td>\n",
       "      <td>2016-10-19 17:40:00</td>\n",
       "    </tr>\n",
       "  </tbody>\n",
       "</table>\n",
       "</div>"
      ],
      "text/plain": [
       "           EPISODIO                               NHC PRIORIDADE_DIAGNOSTICO  \\\n",
       "0  9B91F36DDC2E5D45  7E0717CE88F09A1EB9B7CB48F3520501                   ASAP   \n",
       "\n",
       "   ICD9 DIAGNOSTICO_PRINCIPAL         DATA_INICIO  \n",
       "0  2578                  True 2016-10-19 17:40:00  "
      ]
     },
     "execution_count": 4,
     "metadata": {},
     "output_type": "execute_result"
    }
   ],
   "source": [
    "icare = Icare('../../icare-dataset_2021-08')\n",
    "df = icare._read_diagnoses()\n",
    "df.head(1)"
   ]
  },
  {
   "cell_type": "code",
   "execution_count": 5,
   "id": "3b6ca3f1-d5f1-4a1d-8c18-76eed832a793",
   "metadata": {},
   "outputs": [
    {
     "data": {
      "text/plain": [
       "2155787"
      ]
     },
     "execution_count": 5,
     "metadata": {},
     "output_type": "execute_result"
    }
   ],
   "source": [
    "df.EPISODIO.nunique()"
   ]
  },
  {
   "cell_type": "code",
   "execution_count": 5,
   "id": "813b717f-2a53-4209-93bc-5dbd19c9be73",
   "metadata": {},
   "outputs": [
    {
     "data": {
      "text/plain": [
       "count    439108.000000\n",
       "mean          4.909473\n",
       "std           7.249056\n",
       "min           1.000000\n",
       "25%           1.000000\n",
       "50%           2.000000\n",
       "75%           5.000000\n",
       "max         250.000000\n",
       "Name: Nº episodes per patient, dtype: float64"
      ]
     },
     "execution_count": 5,
     "metadata": {},
     "output_type": "execute_result"
    }
   ],
   "source": [
    "(df\n",
    " .groupby('NHC')\n",
    " .EPISODIO\n",
    " .nunique()\n",
    " .describe()\n",
    " .rename('Nº episodes per patient')\n",
    ")"
   ]
  },
  {
   "cell_type": "code",
   "execution_count": 6,
   "id": "32e4aa68-11a7-44bb-8e5a-c2459f1824c0",
   "metadata": {},
   "outputs": [
    {
     "data": {
      "text/plain": [
       "count    439103.000000\n",
       "mean         19.434433\n",
       "std          27.319838\n",
       "min           0.000000\n",
       "25%           0.000000\n",
       "50%           3.000000\n",
       "75%          35.000000\n",
       "max         307.000000\n",
       "Name: timeline of appearance in data per patient (in months), dtype: float64"
      ]
     },
     "execution_count": 6,
     "metadata": {},
     "output_type": "execute_result"
    }
   ],
   "source": [
    "((df\n",
    " .groupby('NHC')\n",
    " .DATA_INICIO\n",
    " .agg([max,min])\n",
    " .diff(periods=-1,axis=1)['max']\n",
    " .dt.days / 30)\n",
    " .round()\n",
    " .describe()\n",
    " .rename('timeline of appearance in data per patient (in months)')\n",
    ")"
   ]
  },
  {
   "cell_type": "code",
   "execution_count": 45,
   "id": "a8d315c0-2b59-4722-b920-c9e7941f468d",
   "metadata": {},
   "outputs": [
    {
     "data": {
      "text/html": [
       "<div>\n",
       "<style scoped>\n",
       "    .dataframe tbody tr th:only-of-type {\n",
       "        vertical-align: middle;\n",
       "    }\n",
       "\n",
       "    .dataframe tbody tr th {\n",
       "        vertical-align: top;\n",
       "    }\n",
       "\n",
       "    .dataframe thead th {\n",
       "        text-align: right;\n",
       "    }\n",
       "</style>\n",
       "<table border=\"1\" class=\"dataframe\">\n",
       "  <thead>\n",
       "    <tr style=\"text-align: right;\">\n",
       "      <th></th>\n",
       "      <th>Count</th>\n",
       "      <th>Freq</th>\n",
       "    </tr>\n",
       "    <tr>\n",
       "      <th>Diagnostics per episode</th>\n",
       "      <th></th>\n",
       "      <th></th>\n",
       "    </tr>\n",
       "  </thead>\n",
       "  <tbody>\n",
       "    <tr>\n",
       "      <th>1</th>\n",
       "      <td>1995192</td>\n",
       "      <td>0.93</td>\n",
       "    </tr>\n",
       "    <tr>\n",
       "      <th>2</th>\n",
       "      <td>117879</td>\n",
       "      <td>0.05</td>\n",
       "    </tr>\n",
       "    <tr>\n",
       "      <th>3</th>\n",
       "      <td>26146</td>\n",
       "      <td>0.01</td>\n",
       "    </tr>\n",
       "    <tr>\n",
       "      <th>4</th>\n",
       "      <td>8950</td>\n",
       "      <td>0.00</td>\n",
       "    </tr>\n",
       "    <tr>\n",
       "      <th>5</th>\n",
       "      <td>3913</td>\n",
       "      <td>0.00</td>\n",
       "    </tr>\n",
       "    <tr>\n",
       "      <th>6</th>\n",
       "      <td>1901</td>\n",
       "      <td>0.00</td>\n",
       "    </tr>\n",
       "    <tr>\n",
       "      <th>7</th>\n",
       "      <td>1004</td>\n",
       "      <td>0.00</td>\n",
       "    </tr>\n",
       "    <tr>\n",
       "      <th>8</th>\n",
       "      <td>414</td>\n",
       "      <td>0.00</td>\n",
       "    </tr>\n",
       "    <tr>\n",
       "      <th>9</th>\n",
       "      <td>203</td>\n",
       "      <td>0.00</td>\n",
       "    </tr>\n",
       "    <tr>\n",
       "      <th>10</th>\n",
       "      <td>91</td>\n",
       "      <td>0.00</td>\n",
       "    </tr>\n",
       "    <tr>\n",
       "      <th>11</th>\n",
       "      <td>47</td>\n",
       "      <td>0.00</td>\n",
       "    </tr>\n",
       "    <tr>\n",
       "      <th>12</th>\n",
       "      <td>27</td>\n",
       "      <td>0.00</td>\n",
       "    </tr>\n",
       "    <tr>\n",
       "      <th>13</th>\n",
       "      <td>7</td>\n",
       "      <td>0.00</td>\n",
       "    </tr>\n",
       "    <tr>\n",
       "      <th>14</th>\n",
       "      <td>7</td>\n",
       "      <td>0.00</td>\n",
       "    </tr>\n",
       "    <tr>\n",
       "      <th>16</th>\n",
       "      <td>3</td>\n",
       "      <td>0.00</td>\n",
       "    </tr>\n",
       "    <tr>\n",
       "      <th>19</th>\n",
       "      <td>1</td>\n",
       "      <td>0.00</td>\n",
       "    </tr>\n",
       "    <tr>\n",
       "      <th>15</th>\n",
       "      <td>1</td>\n",
       "      <td>0.00</td>\n",
       "    </tr>\n",
       "    <tr>\n",
       "      <th>22</th>\n",
       "      <td>1</td>\n",
       "      <td>0.00</td>\n",
       "    </tr>\n",
       "  </tbody>\n",
       "</table>\n",
       "</div>"
      ],
      "text/plain": [
       "                           Count  Freq\n",
       "Diagnostics per episode               \n",
       "1                        1995192  0.93\n",
       "2                         117879  0.05\n",
       "3                          26146  0.01\n",
       "4                           8950  0.00\n",
       "5                           3913  0.00\n",
       "6                           1901  0.00\n",
       "7                           1004  0.00\n",
       "8                            414  0.00\n",
       "9                            203  0.00\n",
       "10                            91  0.00\n",
       "11                            47  0.00\n",
       "12                            27  0.00\n",
       "13                             7  0.00\n",
       "14                             7  0.00\n",
       "16                             3  0.00\n",
       "19                             1  0.00\n",
       "15                             1  0.00\n",
       "22                             1  0.00"
      ]
     },
     "execution_count": 45,
     "metadata": {},
     "output_type": "execute_result"
    }
   ],
   "source": [
    "(pd.concat([df.EPISODIO.value_counts().value_counts().rename('Count'),\n",
    "           df.EPISODIO.value_counts().value_counts(normalize=True).rename('Freq')\n",
    "          ], axis=1\n",
    "         )\n",
    " .round(2)\n",
    " .rename_axis('Diagnostics per episode')\n",
    ")"
   ]
  },
  {
   "cell_type": "markdown",
   "id": "6320b811-6847-490c-a4f0-0380491f34e1",
   "metadata": {},
   "source": [
    "## Findings\n",
    "\n",
    "- Most episodes have only one diagnostic (93%)"
   ]
  },
  {
   "cell_type": "code",
   "execution_count": 32,
   "id": "f22776d8-ca9c-4a7d-98eb-5a099b193d3a",
   "metadata": {},
   "outputs": [
    {
     "data": {
      "text/plain": [
       "<Figure size 864x288 with 0 Axes>"
      ]
     },
     "execution_count": 32,
     "metadata": {},
     "output_type": "execute_result"
    },
    {
     "data": {
      "text/plain": [
       "<AxesSubplot:title={'center':'Nº diagnósticos atribuidos ao longo do tempo'}, xlabel='DATA_INICIO'>"
      ]
     },
     "execution_count": 32,
     "metadata": {},
     "output_type": "execute_result"
    },
    {
     "data": {
      "image/png": "[encoded data removed]",
      "text/plain": [
       "<Figure size 864x288 with 1 Axes>"
      ]
     },
     "metadata": {
      "needs_background": "light"
     },
     "output_type": "display_data"
    }
   ],
   "source": [
    "plt.figure(figsize=(12,4))\n",
    "(df[~df.DATA_INICIO.isna()]\n",
    " .set_index('DATA_INICIO')\n",
    " .sort_index()\n",
    " .resample('30D')\n",
    " .size()\n",
    " .plot(title='Nº diagnósticos atribuidos ao longo do tempo')\n",
    ")"
   ]
  },
  {
   "cell_type": "markdown",
   "id": "3e2e4a86-445f-406a-a65e-68223a42f0d2",
   "metadata": {},
   "source": [
    "# Findings\n",
    "\n",
    "- A lot more diagnostics are registered after 2016"
   ]
  },
  {
   "cell_type": "code",
   "execution_count": 7,
   "id": "8aacdc4d-ac8e-46a0-af0c-843c46fb1848",
   "metadata": {},
   "outputs": [],
   "source": [
    "assert 1 == 2, 'Preventing myself to run this cell by accident'\n",
    "\n",
    "all_res = pd.read_csv(\n",
    "    'important_data/all_res.csv',\n",
    "    sep='\\t',\n",
    "    dtype={'PRIORIDADE_DIAGNOSTICO':'category',\n",
    "           'GENERO':'category',\n",
    "           'TIPO_EPISODIO':'category',\n",
    "           'ICD9':str},\n",
    "    parse_dates=['DATA_HORA_ADMISSAO'],\n",
    "    date_parser= lambda x: pd.to_datetime(x,format='%Y-%m-%d %H:%M:%S')\n",
    ")\n",
    "# convert this column to boolean\n",
    "all_res['DIAGNOSTICO_PRINCIPAL'] = (all_res['DIAGNOSTICO_PRINCIPAL'] == 'True')"
   ]
  },
  {
   "cell_type": "code",
   "execution_count": 8,
   "id": "bea7c795-a058-4b38-bdda-0eaa50c4d946",
   "metadata": {},
   "outputs": [
    {
     "data": {
      "text/plain": [
       "(9402523, 11)"
      ]
     },
     "execution_count": 8,
     "metadata": {},
     "output_type": "execute_result"
    }
   ],
   "source": [
    "all_res.shape"
   ]
  },
  {
   "cell_type": "markdown",
   "id": "15f866af-3ffb-43f1-94a3-79f0c0fc3f18",
   "metadata": {},
   "source": [
    "## Code to read atividade hospitalar"
   ]
  },
  {
   "cell_type": "code",
   "execution_count": 146,
   "id": "270e0107-9831-4648-aed8-4a5274acdd9c",
   "metadata": {},
   "outputs": [
    {
     "data": {
      "application/vnd.jupyter.widget-view+json": {
       "model_id": "93411a82ab5f418d8ca52381baa015b1",
       "version_major": 2,
       "version_minor": 0
      },
      "text/plain": [
       "0it [00:00, ?it/s]"
      ]
     },
     "metadata": {},
     "output_type": "display_data"
    }
   ],
   "source": [
    "#assert 1 == 2, 'Preventing myself to run this cell by accident'\n",
    "\n",
    "file = '../../icare-dataset_2021-08/LS_ANALYTICS.ICARE_ATIVIDADE_HOSPITALAR/index.csv'\n",
    "all_res = None\n",
    "i = 0 # to test a couple of chunks\n",
    "count_hora_admissao_na = 0\n",
    "with pd.read_csv(file,\n",
    "                 sep='\\t',\n",
    "                 chunksize=1_000_000,\n",
    "                 usecols=[0,2,3,4,5,7,8,13],\n",
    "                 dtype={'UNIDADE':'category',\n",
    "                        'GENERO':'category',\n",
    "                        'TIPO_EPISODIO':'category',\n",
    "                        'NHC':str,\n",
    "                        'EPISODIO_INTERNAMENTO':str\n",
    "                       },\n",
    "                 parse_dates=['DATA_HORA_ADMISSAO'],\n",
    "                 date_parser= lambda x: pd.to_datetime(x,format='%Y-%m-%d %H:%M:%S')\n",
    "                ) as reader:\n",
    "    for chunk in tqdm(reader):\n",
    "        res = pd.merge(df,chunk,left_on='EPISODIO',right_on='EPISODIO',how='right',suffixes=('_drop',''))\n",
    "        res = res.drop(columns=res.filter(like='_drop').columns)\n",
    "        res = res.drop_duplicates()\n",
    "        \n",
    "        mask_hora_admissao_na = res.DATA_HORA_ADMISSAO.isna()\n",
    "        count_hora_admissao_na += mask_hora_admissao_na.sum()\n",
    "        res = res[~mask_hora_admissao_na]\n",
    "        \n",
    "        all_res = res if all_res is None else pd.concat([all_res,res])\n",
    "        i +=1\n",
    "        \n",
    "        #if i >= 10:\n",
    "        #    break\n",
    "    all_res = all_res.drop_duplicates() # found out that some duplicates are created in between chunks"
   ]
  },
  {
   "cell_type": "code",
   "execution_count": 148,
   "id": "4ab7ea47-9a9b-412f-9c0b-50498fef4fe7",
   "metadata": {},
   "outputs": [
    {
     "data": {
      "text/plain": [
       "780.409697"
      ]
     },
     "execution_count": 148,
     "metadata": {},
     "output_type": "execute_result"
    }
   ],
   "source": [
    "all_res.memory_usage(index=True).sum() / 1_000_000"
   ]
  },
  {
   "cell_type": "markdown",
   "id": "3049c3e2-4131-4fa6-98be-f9ad8140cf66",
   "metadata": {},
   "source": [
    "From 15Gb to 780Mb"
   ]
  },
  {
   "cell_type": "code",
   "execution_count": 36,
   "id": "0da5e935-0cef-4b31-9ba4-a0110f0a85d9",
   "metadata": {},
   "outputs": [
    {
     "data": {
      "text/plain": [
       "{0: 'UNIDADE',\n",
       " 1: 'DATA_ATIVIDADE',\n",
       " 2: 'DATA_HORA_ADMISSAO',\n",
       " 3: 'EPISODIO',\n",
       " 4: 'EPISODIO_INTERNAMENTO',\n",
       " 5: 'NHC',\n",
       " 6: 'MPI',\n",
       " 7: 'IDADE',\n",
       " 8: 'GENERO',\n",
       " 9: 'SERVICO_EPISODIO',\n",
       " 10: 'ESPECIALIDADE',\n",
       " 11: 'CODIGO_ATO_ARTIGO',\n",
       " 12: 'DESCRICAO_ATO_ARTIGO',\n",
       " 13: 'TIPO_EPISODIO',\n",
       " 14: 'CODIGO_CLASSIFICADOR_BI',\n",
       " 15: 'CLASSIFICADOR_BI',\n",
       " 16: 'ESTADO_ACTO',\n",
       " 17: 'OBITO',\n",
       " 18: 'QUANTIDADE'}"
      ]
     },
     "execution_count": 36,
     "metadata": {},
     "output_type": "execute_result"
    }
   ],
   "source": [
    "{i:chunk.columns[i] for i in range(len(chunk.columns))}"
   ]
  },
  {
   "cell_type": "code",
   "execution_count": 34,
   "id": "0351ac77-f4e7-4c13-921b-88fc8bc993e9",
   "metadata": {},
   "outputs": [
    {
     "data": {
      "image/png": "[encoded data removed]",
      "text/plain": [
       "<Figure size 864x288 with 1 Axes>"
      ]
     },
     "metadata": {
      "needs_background": "light"
     },
     "output_type": "display_data"
    },
    {
     "data": {
      "image/png": "[encoded data removed]",
      "text/plain": [
       "<Figure size 864x288 with 1 Axes>"
      ]
     },
     "metadata": {
      "needs_background": "light"
     },
     "output_type": "display_data"
    }
   ],
   "source": [
    "resampled = all_res.set_index(['DATA_HORA_ADMISSAO']).sort_index().resample('15D')\n",
    "plt.figure(figsize=(12,4));\n",
    "resampled.apply(lambda subdf: subdf[~subdf.ICD9.isna()].shape[0]).plot(title='episodes with diagnostics');\n",
    "plt.show();\n",
    "\n",
    "plt.figure(figsize=(12,4));\n",
    "resampled.apply(lambda subdf:subdf.shape[0])['EPISODIO'].plot(title='all_episodes');\n",
    "plt.show();"
   ]
  },
  {
   "cell_type": "markdown",
   "id": "ee7ac3b7-87c6-47f3-b354-9e1b46f5a691",
   "metadata": {},
   "source": [
    "----"
   ]
  }
 ],
 "metadata": {
  "kernelspec": {
   "display_name": "Python (simao thesis)",
   "language": "python",
   "name": "simao_thesis"
  },
  "language_info": {
   "codemirror_mode": {
    "name": "ipython",
    "version": 3
   },
   "file_extension": ".py",
   "mimetype": "text/x-python",
   "name": "python",
   "nbconvert_exporter": "python",
   "pygments_lexer": "ipython3",
   "version": "3.10.4"
  }
 },
 "nbformat": 4,
 "nbformat_minor": 5
}
