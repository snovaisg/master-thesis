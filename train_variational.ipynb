{
 "cells": [
  {
   "cell_type": "code",
   "execution_count": 1,
   "metadata": {},
   "outputs": [],
   "source": [
    "from torch import nn\n",
    "import torch\n",
    "from torch.nn.utils.rnn import pack_padded_sequence, pad_packed_sequence, pad_sequence, pack_sequence"
   ]
  },
  {
   "cell_type": "code",
   "execution_count": 2,
   "metadata": {},
   "outputs": [],
   "source": [
    "import os\n",
    "cwd = os.getcwd()\n",
    "\n",
    "# protection against running this cell multiple times\n",
    "assert os.path.dirname(cwd).split('/')[-1] == 'master-thesis','Oops, directory already changed previously as indended. Ignoring...'\n",
    "\n",
    "# change working directory (if assert passed)\n",
    "new_cwd = os.path.dirname(cwd) # parent directory\n",
    "os.chdir(new_cwd)"
   ]
  },
  {
   "cell_type": "code",
   "execution_count": 311,
   "metadata": {},
   "outputs": [
    {
     "ename": "ImportError",
     "evalue": "cannot import name 'outs2df_mc' from 'rnn_utils' (/Users/simaonovais/Documents/GitHub/master-thesis/rnn_utils.py)",
     "output_type": "error",
     "traceback": [
      "\u001b[0;31m---------------------------------------------------------------------------\u001b[0m",
      "\u001b[0;31mImportError\u001b[0m                               Traceback (most recent call last)",
      "Input \u001b[0;32mIn [311]\u001b[0m, in \u001b[0;36m<cell line: 8>\u001b[0;34m()\u001b[0m\n\u001b[1;32m      5\u001b[0m     sys\u001b[38;5;241m.\u001b[39mpath\u001b[38;5;241m.\u001b[39mappend(this_dir)\n\u001b[1;32m      7\u001b[0m \u001b[38;5;28;01mfrom\u001b[39;00m \u001b[38;5;21;01mrnn_utils\u001b[39;00m \u001b[38;5;28;01mimport\u001b[39;00m DiagnosesDataset, split_dataset, MYCOLLATE\n\u001b[0;32m----> 8\u001b[0m \u001b[38;5;28;01mfrom\u001b[39;00m \u001b[38;5;21;01mrnn_utils\u001b[39;00m \u001b[38;5;28;01mimport\u001b[39;00m train_one_epoch, eval_model, outs2df_mc\n\u001b[1;32m     10\u001b[0m \u001b[38;5;28;01mfrom\u001b[39;00m \u001b[38;5;21;01mmourga_variational\u001b[39;00m\u001b[38;5;21;01m.\u001b[39;00m\u001b[38;5;21;01mvariational_rnn\u001b[39;00m \u001b[38;5;28;01mimport\u001b[39;00m VariationalRNN\n\u001b[1;32m     12\u001b[0m \u001b[38;5;28;01mimport\u001b[39;00m \u001b[38;5;21;01mtorch\u001b[39;00m\n",
      "\u001b[0;31mImportError\u001b[0m: cannot import name 'outs2df_mc' from 'rnn_utils' (/Users/simaonovais/Documents/GitHub/master-thesis/rnn_utils.py)"
     ]
    }
   ],
   "source": [
    "import sys\n",
    "import os\n",
    "this_dir = \"..\"\n",
    "if this_dir not in sys.path:\n",
    "    sys.path.append(this_dir)\n",
    "\n",
    "from rnn_utils import DiagnosesDataset, split_dataset, MYCOLLATE\n",
    "from rnn_utils import train_one_epoch, eval_model, outs2df_mc\n",
    "\n",
    "from mourga_variational.variational_rnn import VariationalRNN\n",
    "\n",
    "import torch\n",
    "from torch.utils.data import Dataset, DataLoader, random_split\n",
    "\n",
    "from sklearn.model_selection import ParameterGrid, ParameterSampler\n",
    "\n",
    "import numpy as np\n",
    "import pandas as pd\n",
    "\n",
    "from config import Settings; settings = Settings()\n",
    "\n",
    "import wandb"
   ]
  },
  {
   "cell_type": "code",
   "execution_count": 4,
   "metadata": {},
   "outputs": [
    {
     "data": {
      "text/plain": [
       "<torch._C.Generator at 0x109ff8b90>"
      ]
     },
     "execution_count": 4,
     "metadata": {},
     "output_type": "execute_result"
    }
   ],
   "source": [
    "# Reproducibility\n",
    "seed = settings.random_seed\n",
    "\n",
    "np.random.seed(seed)\n",
    "torch.manual_seed(seed)\n",
    "torch.cuda.manual_seed(seed)"
   ]
  },
  {
   "cell_type": "code",
   "execution_count": 5,
   "metadata": {},
   "outputs": [],
   "source": [
    "dataset_id = 'diag_only'\n",
    "grouping = 'ccs'\n",
    "batch_size=64"
   ]
  },
  {
   "cell_type": "code",
   "execution_count": 6,
   "metadata": {},
   "outputs": [
    {
     "name": "stdout",
     "output_type": "stream",
     "text": [
      "dataset at data/model_ready_dataset/diag_only\n"
     ]
    },
    {
     "data": {
      "text/plain": [
       "5249"
      ]
     },
     "execution_count": 6,
     "metadata": {},
     "output_type": "execute_result"
    },
    {
     "data": {
      "text/plain": [
       "1125"
      ]
     },
     "execution_count": 6,
     "metadata": {},
     "output_type": "execute_result"
    },
    {
     "data": {
      "text/plain": [
       "1125"
      ]
     },
     "execution_count": 6,
     "metadata": {},
     "output_type": "execute_result"
    }
   ],
   "source": [
    "dataset_folder = os.path.join(settings.data_base,settings.model_ready_dataset_folder,dataset_id)\n",
    "print('dataset at',dataset_folder)\n",
    "\n",
    "dataset = DiagnosesDataset(os.path.join(dataset_folder,'dataset.json'),grouping)\n",
    "\n",
    "train_dataset = DiagnosesDataset(os.path.join(dataset_folder,'train_subset.json'),grouping)\n",
    "val_dataset = DiagnosesDataset(os.path.join(dataset_folder,'val_subset.json'),grouping)\n",
    "test_dataset = DiagnosesDataset(os.path.join(dataset_folder,'test_subset.json'),grouping)\n",
    "\n",
    "\n",
    "len(train_dataset)\n",
    "len(val_dataset)\n",
    "len(test_dataset)\n",
    "\n",
    "\n",
    "train_dataloader = DataLoader(train_dataset,batch_size=batch_size,collate_fn=MYCOLLATE(dataset),shuffle=True)\n",
    "val_dataloader = DataLoader(val_dataset,batch_size=batch_size,collate_fn=MYCOLLATE(dataset)) #batch_size here is arbitrary and doesn't affect total validation speed\n",
    "test_dataloader = DataLoader(test_dataset,batch_size=batch_size,collate_fn=MYCOLLATE(dataset))"
   ]
  },
  {
   "cell_type": "code",
   "execution_count": 7,
   "metadata": {},
   "outputs": [],
   "source": [
    "input_size = next(iter(train_dataloader))['target_sequences']['sequence'].shape[2]\n",
    "hidden_size = 100\n",
    "num_layers = 1\n",
    "n_labels = input_size\n",
    "model_type = 'gru'"
   ]
  },
  {
   "cell_type": "code",
   "execution_count": 8,
   "metadata": {},
   "outputs": [],
   "source": [
    "dropout = 0.2\n",
    "dropouti = dropout\n",
    "dropoutw = dropout\n",
    "dropouto = dropout"
   ]
  },
  {
   "cell_type": "code",
   "execution_count": 9,
   "metadata": {},
   "outputs": [],
   "source": [
    "model = VariationalRNN(input_size=input_size,\n",
    "                       hidden_size=hidden_size,\n",
    "                       n_labels=n_labels,\n",
    "                       num_layers=num_layers,\n",
    "                       rnn_type=model_type,\n",
    "                       dropouti=dropouti,\n",
    "                       dropoutw=dropoutw,\n",
    "                       dropouto=dropouto\n",
    "                      )"
   ]
  },
  {
   "cell_type": "code",
   "execution_count": 10,
   "metadata": {},
   "outputs": [],
   "source": [
    "opt = torch.optim.Adam(model.parameters(), lr=0.01)\n",
    "criterion = torch.nn.BCEWithLogitsLoss(reduction='none')\n",
    "epochs = 10"
   ]
  },
  {
   "cell_type": "code",
   "execution_count": 11,
   "metadata": {
    "tags": []
   },
   "outputs": [
    {
     "data": {
      "text/plain": [
       "0.09338595837009094"
      ]
     },
     "execution_count": 11,
     "metadata": {},
     "output_type": "execute_result"
    },
    {
     "name": "stdout",
     "output_type": "stream",
     "text": [
      "epoch: 1 | loss: 0.1768575266721737\n"
     ]
    },
    {
     "data": {
      "text/plain": [
       "0.5978395954393771"
      ]
     },
     "execution_count": 11,
     "metadata": {},
     "output_type": "execute_result"
    },
    {
     "name": "stdout",
     "output_type": "stream",
     "text": [
      "epoch: 2 | loss: 0.12670961363487934\n"
     ]
    },
    {
     "data": {
      "text/plain": [
       "0.6468799973735518"
      ]
     },
     "execution_count": 11,
     "metadata": {},
     "output_type": "execute_result"
    },
    {
     "name": "stdout",
     "output_type": "stream",
     "text": [
      "epoch: 3 | loss: 0.12123737924070244\n"
     ]
    },
    {
     "data": {
      "text/plain": [
       "0.6683152002844288"
      ]
     },
     "execution_count": 11,
     "metadata": {},
     "output_type": "execute_result"
    },
    {
     "name": "stdout",
     "output_type": "stream",
     "text": [
      "epoch: 4 | loss: 0.11769239712192352\n"
     ]
    },
    {
     "data": {
      "text/plain": [
       "0.6644883834566765"
      ]
     },
     "execution_count": 11,
     "metadata": {},
     "output_type": "execute_result"
    },
    {
     "name": "stdout",
     "output_type": "stream",
     "text": [
      "epoch: 5 | loss: 0.114641822695014\n"
     ]
    },
    {
     "data": {
      "text/plain": [
       "0.6796602510058005"
      ]
     },
     "execution_count": 11,
     "metadata": {},
     "output_type": "execute_result"
    },
    {
     "name": "stdout",
     "output_type": "stream",
     "text": [
      "epoch: 6 | loss: 0.1127079840166023\n"
     ]
    },
    {
     "data": {
      "text/plain": [
       "0.692805877349853"
      ]
     },
     "execution_count": 11,
     "metadata": {},
     "output_type": "execute_result"
    },
    {
     "name": "stdout",
     "output_type": "stream",
     "text": [
      "epoch: 7 | loss: 0.11075322985290045\n"
     ]
    },
    {
     "data": {
      "text/plain": [
       "0.7030957856054423"
      ]
     },
     "execution_count": 11,
     "metadata": {},
     "output_type": "execute_result"
    },
    {
     "name": "stdout",
     "output_type": "stream",
     "text": [
      "epoch: 8 | loss: 0.10890622885830431\n"
     ]
    },
    {
     "data": {
      "text/plain": [
       "0.7053674280792359"
      ]
     },
     "execution_count": 11,
     "metadata": {},
     "output_type": "execute_result"
    },
    {
     "name": "stdout",
     "output_type": "stream",
     "text": [
      "epoch: 9 | loss: 0.10731690341090581\n"
     ]
    },
    {
     "data": {
      "text/plain": [
       "0.6965423997021247"
      ]
     },
     "execution_count": 11,
     "metadata": {},
     "output_type": "execute_result"
    },
    {
     "name": "stdout",
     "output_type": "stream",
     "text": [
      "epoch: 10 | loss: 0.10692487639116954\n"
     ]
    }
   ],
   "source": [
    "losses = []\n",
    "for epoch in range(epochs):\n",
    "    eval_model(model,val_dataloader,dataset,['recall@30'])[1]['recall@30_adm']\n",
    "    loss = train_one_epoch(model,train_dataloader,epoch,criterion,opt)\n",
    "    losses.append(loss)\n",
    "    print(f'epoch: {epoch+1} | loss: {loss}')"
   ]
  },
  {
   "cell_type": "code",
   "execution_count": 85,
   "metadata": {},
   "outputs": [],
   "source": [
    "relevant_outs,col_names,tpids,outs = outs2df_mc(model,val_dataloader,dataset)"
   ]
  },
  {
   "cell_type": "code",
   "execution_count": 86,
   "metadata": {},
   "outputs": [
    {
     "data": {
      "text/plain": [
       "(15, 129, 272)"
      ]
     },
     "execution_count": 86,
     "metadata": {},
     "output_type": "execute_result"
    },
    {
     "data": {
      "text/plain": [
       "torch.Size([15, 64, 33, 272])"
      ]
     },
     "execution_count": 86,
     "metadata": {},
     "output_type": "execute_result"
    }
   ],
   "source": [
    "relevant_outs.shape\n",
    "outs.shape"
   ]
  },
  {
   "cell_type": "code",
   "execution_count": 90,
   "metadata": {},
   "outputs": [
    {
     "data": {
      "text/plain": [
       "array([2.9948898e-04, 4.7340724e-01, 3.7745050e-01], dtype=float32)"
      ]
     },
     "execution_count": 90,
     "metadata": {},
     "output_type": "execute_result"
    },
    {
     "data": {
      "text/plain": [
       "array([0.00155328, 0.28718367, 0.3400149 ], dtype=float32)"
      ]
     },
     "execution_count": 90,
     "metadata": {},
     "output_type": "execute_result"
    }
   ],
   "source": [
    "relevant_outs[0,0,:3]\n",
    "relevant_outs[0,1,:3]"
   ]
  },
  {
   "cell_type": "code",
   "execution_count": 91,
   "metadata": {},
   "outputs": [
    {
     "data": {
      "text/plain": [
       "array([2.9948898e-04, 4.7340724e-01, 3.7745050e-01], dtype=float32)"
      ]
     },
     "execution_count": 91,
     "metadata": {},
     "output_type": "execute_result"
    },
    {
     "data": {
      "text/plain": [
       "array([0.00155328, 0.28718367, 0.3400149 ], dtype=float32)"
      ]
     },
     "execution_count": 91,
     "metadata": {},
     "output_type": "execute_result"
    }
   ],
   "source": [
    "reshape = relevant_outs.reshape((-1,relevant_outs.shape[-1]),order='C')\n",
    "reshape[0,:3]\n",
    "reshape[1,:3]"
   ]
  },
  {
   "cell_type": "code",
   "execution_count": 99,
   "metadata": {},
   "outputs": [],
   "source": [
    "full_df = None\n",
    "for i in range(relevant_outs.shape[0]):\n",
    "    df = pd.DataFrame(relevant_outs[i,:,:],columns=col_names)\n",
    "    df = df.assign(n_pass=i+1,pat_id=tpids)\n",
    "    full_df = df if full_df is None else pd.concat([full_df,df])\n",
    "    "
   ]
  },
  {
   "cell_type": "code",
   "execution_count": 105,
   "metadata": {},
   "outputs": [
    {
     "data": {
      "text/plain": [
       "1     64.0\n",
       "2     18.0\n",
       "3     10.0\n",
       "4      5.0\n",
       "5      3.0\n",
       "6      2.0\n",
       "26     1.0\n",
       "22     1.0\n",
       "23     1.0\n",
       "24     1.0\n",
       "25     1.0\n",
       "29     1.0\n",
       "27     1.0\n",
       "28     1.0\n",
       "20     1.0\n",
       "30     1.0\n",
       "31     1.0\n",
       "32     1.0\n",
       "21     1.0\n",
       "17     1.0\n",
       "19     1.0\n",
       "18     1.0\n",
       "16     1.0\n",
       "15     1.0\n",
       "14     1.0\n",
       "13     1.0\n",
       "12     1.0\n",
       "11     1.0\n",
       "10     1.0\n",
       "9      1.0\n",
       "8      1.0\n",
       "7      1.0\n",
       "33     1.0\n",
       "dtype: float64"
      ]
     },
     "execution_count": 105,
     "metadata": {},
     "output_type": "execute_result"
    }
   ],
   "source": [
    "a = full_df.groupby(['pat_id','n_pass']).cumcount()+1\n",
    "a.value_counts() / 15"
   ]
  },
  {
   "cell_type": "code",
   "execution_count": 95,
   "metadata": {},
   "outputs": [
    {
     "data": {
      "text/html": [
       "<div>\n",
       "<style scoped>\n",
       "    .dataframe tbody tr th:only-of-type {\n",
       "        vertical-align: middle;\n",
       "    }\n",
       "\n",
       "    .dataframe tbody tr th {\n",
       "        vertical-align: top;\n",
       "    }\n",
       "\n",
       "    .dataframe thead th {\n",
       "        text-align: right;\n",
       "    }\n",
       "</style>\n",
       "<table border=\"1\" class=\"dataframe\">\n",
       "  <thead>\n",
       "    <tr style=\"text-align: right;\">\n",
       "      <th></th>\n",
       "      <th>diag_0</th>\n",
       "      <th>diag_1</th>\n",
       "      <th>diag_2</th>\n",
       "      <th>diag_3</th>\n",
       "      <th>diag_4</th>\n",
       "      <th>diag_5</th>\n",
       "      <th>diag_6</th>\n",
       "      <th>diag_7</th>\n",
       "      <th>diag_8</th>\n",
       "      <th>diag_9</th>\n",
       "      <th>...</th>\n",
       "      <th>diag_263</th>\n",
       "      <th>diag_264</th>\n",
       "      <th>diag_265</th>\n",
       "      <th>diag_266</th>\n",
       "      <th>diag_267</th>\n",
       "      <th>diag_268</th>\n",
       "      <th>diag_269</th>\n",
       "      <th>diag_270</th>\n",
       "      <th>diag_271</th>\n",
       "      <th>pid</th>\n",
       "    </tr>\n",
       "  </thead>\n",
       "  <tbody>\n",
       "    <tr>\n",
       "      <th>0</th>\n",
       "      <td>0.000299</td>\n",
       "      <td>0.473407</td>\n",
       "      <td>0.377450</td>\n",
       "      <td>0.083815</td>\n",
       "      <td>0.000143</td>\n",
       "      <td>0.004440</td>\n",
       "      <td>0.00322</td>\n",
       "      <td>0.000226</td>\n",
       "      <td>0.001236</td>\n",
       "      <td>0.014055</td>\n",
       "      <td>...</td>\n",
       "      <td>0.012492</td>\n",
       "      <td>0.000678</td>\n",
       "      <td>0.011414</td>\n",
       "      <td>0.311724</td>\n",
       "      <td>0.118583</td>\n",
       "      <td>0.007116</td>\n",
       "      <td>0.001708</td>\n",
       "      <td>0.002212</td>\n",
       "      <td>0.040012</td>\n",
       "      <td>21</td>\n",
       "    </tr>\n",
       "    <tr>\n",
       "      <th>1</th>\n",
       "      <td>0.001553</td>\n",
       "      <td>0.287184</td>\n",
       "      <td>0.340015</td>\n",
       "      <td>0.056402</td>\n",
       "      <td>0.002303</td>\n",
       "      <td>0.007843</td>\n",
       "      <td>0.01485</td>\n",
       "      <td>0.001098</td>\n",
       "      <td>0.006551</td>\n",
       "      <td>0.015139</td>\n",
       "      <td>...</td>\n",
       "      <td>0.001254</td>\n",
       "      <td>0.001542</td>\n",
       "      <td>0.008112</td>\n",
       "      <td>0.550274</td>\n",
       "      <td>0.262596</td>\n",
       "      <td>0.002852</td>\n",
       "      <td>0.003681</td>\n",
       "      <td>0.015141</td>\n",
       "      <td>0.050112</td>\n",
       "      <td>23</td>\n",
       "    </tr>\n",
       "  </tbody>\n",
       "</table>\n",
       "<p>2 rows × 273 columns</p>\n",
       "</div>"
      ],
      "text/plain": [
       "     diag_0    diag_1    diag_2    diag_3    diag_4    diag_5   diag_6  \\\n",
       "0  0.000299  0.473407  0.377450  0.083815  0.000143  0.004440  0.00322   \n",
       "1  0.001553  0.287184  0.340015  0.056402  0.002303  0.007843  0.01485   \n",
       "\n",
       "     diag_7    diag_8    diag_9  ...  diag_263  diag_264  diag_265  diag_266  \\\n",
       "0  0.000226  0.001236  0.014055  ...  0.012492  0.000678  0.011414  0.311724   \n",
       "1  0.001098  0.006551  0.015139  ...  0.001254  0.001542  0.008112  0.550274   \n",
       "\n",
       "   diag_267  diag_268  diag_269  diag_270  diag_271  pid  \n",
       "0  0.118583  0.007116  0.001708  0.002212  0.040012   21  \n",
       "1  0.262596  0.002852  0.003681  0.015141  0.050112   23  \n",
       "\n",
       "[2 rows x 273 columns]"
      ]
     },
     "execution_count": 95,
     "metadata": {},
     "output_type": "execute_result"
    }
   ],
   "source": [
    "df = pd.DataFrame(reshape,columns=col_names).assign(pid=tpids*15)\n",
    "df.head(2)"
   ]
  },
  {
   "cell_type": "code",
   "execution_count": null,
   "metadata": {},
   "outputs": [],
   "source": []
  },
  {
   "cell_type": "code",
   "execution_count": 29,
   "metadata": {},
   "outputs": [],
   "source": [
    "flatten_list = lambda x: [item for sublist in x for item in sublist]\n",
    "_,lengths = pad_packed_sequence(res['inputs'],batch_first=True)\n",
    "relevant_positions = [[i+idx*max(lengths) for i in range(e)] for idx,e in enumerate(lengths)]\n",
    "relevant_positions = flatten_list(relevant_positions)"
   ]
  },
  {
   "cell_type": "code",
   "execution_count": 33,
   "metadata": {},
   "outputs": [
    {
     "data": {
      "text/plain": [
       "torch.Size([15, 64, 33, 272])"
      ]
     },
     "execution_count": 33,
     "metadata": {},
     "output_type": "execute_result"
    }
   ],
   "source": [
    "res['outs'].size()\n",
    "outs = res['outs']"
   ]
  },
  {
   "cell_type": "code",
   "execution_count": 34,
   "metadata": {},
   "outputs": [],
   "source": [
    "outs_flattened = outs.view(15,1,-1,outs.size()[3])"
   ]
  },
  {
   "cell_type": "code",
   "execution_count": 19,
   "metadata": {},
   "outputs": [],
   "source": [
    "res = outs2df_mc(model,val_dataloader,dataset)"
   ]
  },
  {
   "cell_type": "code",
   "execution_count": 22,
   "metadata": {},
   "outputs": [
    {
     "data": {
      "text/html": [
       "<div>\n",
       "<style scoped>\n",
       "    .dataframe tbody tr th:only-of-type {\n",
       "        vertical-align: middle;\n",
       "    }\n",
       "\n",
       "    .dataframe tbody tr th {\n",
       "        vertical-align: top;\n",
       "    }\n",
       "\n",
       "    .dataframe thead th {\n",
       "        text-align: right;\n",
       "    }\n",
       "</style>\n",
       "<table border=\"1\" class=\"dataframe\">\n",
       "  <thead>\n",
       "    <tr style=\"text-align: right;\">\n",
       "      <th></th>\n",
       "      <th></th>\n",
       "      <th></th>\n",
       "      <th>diag_0</th>\n",
       "      <th>diag_1</th>\n",
       "      <th>diag_2</th>\n",
       "      <th>diag_3</th>\n",
       "      <th>diag_4</th>\n",
       "      <th>diag_5</th>\n",
       "      <th>diag_6</th>\n",
       "      <th>diag_7</th>\n",
       "      <th>diag_8</th>\n",
       "      <th>diag_9</th>\n",
       "      <th>...</th>\n",
       "      <th>diag_262</th>\n",
       "      <th>diag_263</th>\n",
       "      <th>diag_264</th>\n",
       "      <th>diag_265</th>\n",
       "      <th>diag_266</th>\n",
       "      <th>diag_267</th>\n",
       "      <th>diag_268</th>\n",
       "      <th>diag_269</th>\n",
       "      <th>diag_270</th>\n",
       "      <th>diag_271</th>\n",
       "    </tr>\n",
       "    <tr>\n",
       "      <th>pat_id</th>\n",
       "      <th>adm_index</th>\n",
       "      <th>n_pass</th>\n",
       "      <th></th>\n",
       "      <th></th>\n",
       "      <th></th>\n",
       "      <th></th>\n",
       "      <th></th>\n",
       "      <th></th>\n",
       "      <th></th>\n",
       "      <th></th>\n",
       "      <th></th>\n",
       "      <th></th>\n",
       "      <th></th>\n",
       "      <th></th>\n",
       "      <th></th>\n",
       "      <th></th>\n",
       "      <th></th>\n",
       "      <th></th>\n",
       "      <th></th>\n",
       "      <th></th>\n",
       "      <th></th>\n",
       "      <th></th>\n",
       "      <th></th>\n",
       "    </tr>\n",
       "  </thead>\n",
       "  <tbody>\n",
       "    <tr>\n",
       "      <th>93900</th>\n",
       "      <th>1</th>\n",
       "      <th>1</th>\n",
       "      <td>0.150945</td>\n",
       "      <td>0.321342</td>\n",
       "      <td>0.142524</td>\n",
       "      <td>0.216501</td>\n",
       "      <td>0.00475</td>\n",
       "      <td>0.033394</td>\n",
       "      <td>0.007169</td>\n",
       "      <td>0.004182</td>\n",
       "      <td>0.000807</td>\n",
       "      <td>0.011241</td>\n",
       "      <td>...</td>\n",
       "      <td>0.000511</td>\n",
       "      <td>0.002802</td>\n",
       "      <td>0.000095</td>\n",
       "      <td>0.004301</td>\n",
       "      <td>0.111915</td>\n",
       "      <td>0.152679</td>\n",
       "      <td>0.002311</td>\n",
       "      <td>0.001637</td>\n",
       "      <td>0.00729</td>\n",
       "      <td>0.010546</td>\n",
       "    </tr>\n",
       "  </tbody>\n",
       "</table>\n",
       "<p>1 rows × 272 columns</p>\n",
       "</div>"
      ],
      "text/plain": [
       "                           diag_0    diag_1    diag_2    diag_3   diag_4  \\\n",
       "pat_id adm_index n_pass                                                    \n",
       "93900  1         1       0.150945  0.321342  0.142524  0.216501  0.00475   \n",
       "\n",
       "                           diag_5    diag_6    diag_7    diag_8    diag_9  \\\n",
       "pat_id adm_index n_pass                                                     \n",
       "93900  1         1       0.033394  0.007169  0.004182  0.000807  0.011241   \n",
       "\n",
       "                         ...  diag_262  diag_263  diag_264  diag_265  \\\n",
       "pat_id adm_index n_pass  ...                                           \n",
       "93900  1         1       ...  0.000511  0.002802  0.000095  0.004301   \n",
       "\n",
       "                         diag_266  diag_267  diag_268  diag_269  diag_270  \\\n",
       "pat_id adm_index n_pass                                                     \n",
       "93900  1         1       0.111915  0.152679  0.002311  0.001637   0.00729   \n",
       "\n",
       "                         diag_271  \n",
       "pat_id adm_index n_pass            \n",
       "93900  1         1       0.010546  \n",
       "\n",
       "[1 rows x 272 columns]"
      ]
     },
     "execution_count": 22,
     "metadata": {},
     "output_type": "execute_result"
    }
   ],
   "source": [
    "res.loc[93900,1,:]"
   ]
  },
  {
   "cell_type": "code",
   "execution_count": 21,
   "metadata": {},
   "outputs": [
    {
     "data": {
      "text/html": [
       "<div>\n",
       "<style scoped>\n",
       "    .dataframe tbody tr th:only-of-type {\n",
       "        vertical-align: middle;\n",
       "    }\n",
       "\n",
       "    .dataframe tbody tr th {\n",
       "        vertical-align: top;\n",
       "    }\n",
       "\n",
       "    .dataframe thead th {\n",
       "        text-align: right;\n",
       "    }\n",
       "</style>\n",
       "<table border=\"1\" class=\"dataframe\">\n",
       "  <thead>\n",
       "    <tr style=\"text-align: right;\">\n",
       "      <th></th>\n",
       "      <th></th>\n",
       "      <th></th>\n",
       "      <th>diag_0</th>\n",
       "      <th>diag_1</th>\n",
       "      <th>diag_2</th>\n",
       "      <th>diag_3</th>\n",
       "      <th>diag_4</th>\n",
       "      <th>diag_5</th>\n",
       "      <th>diag_6</th>\n",
       "      <th>diag_7</th>\n",
       "      <th>diag_8</th>\n",
       "      <th>diag_9</th>\n",
       "      <th>...</th>\n",
       "      <th>diag_262</th>\n",
       "      <th>diag_263</th>\n",
       "      <th>diag_264</th>\n",
       "      <th>diag_265</th>\n",
       "      <th>diag_266</th>\n",
       "      <th>diag_267</th>\n",
       "      <th>diag_268</th>\n",
       "      <th>diag_269</th>\n",
       "      <th>diag_270</th>\n",
       "      <th>diag_271</th>\n",
       "    </tr>\n",
       "    <tr>\n",
       "      <th>pat_id</th>\n",
       "      <th>adm_index</th>\n",
       "      <th>n_pass</th>\n",
       "      <th></th>\n",
       "      <th></th>\n",
       "      <th></th>\n",
       "      <th></th>\n",
       "      <th></th>\n",
       "      <th></th>\n",
       "      <th></th>\n",
       "      <th></th>\n",
       "      <th></th>\n",
       "      <th></th>\n",
       "      <th></th>\n",
       "      <th></th>\n",
       "      <th></th>\n",
       "      <th></th>\n",
       "      <th></th>\n",
       "      <th></th>\n",
       "      <th></th>\n",
       "      <th></th>\n",
       "      <th></th>\n",
       "      <th></th>\n",
       "      <th></th>\n",
       "    </tr>\n",
       "  </thead>\n",
       "  <tbody>\n",
       "    <tr>\n",
       "      <th rowspan=\"5\" valign=\"top\">93900</th>\n",
       "      <th>1</th>\n",
       "      <th>1</th>\n",
       "      <td>0.150945</td>\n",
       "      <td>0.321342</td>\n",
       "      <td>0.142524</td>\n",
       "      <td>0.216501</td>\n",
       "      <td>0.004750</td>\n",
       "      <td>0.033394</td>\n",
       "      <td>0.007169</td>\n",
       "      <td>0.004182</td>\n",
       "      <td>0.000807</td>\n",
       "      <td>0.011241</td>\n",
       "      <td>...</td>\n",
       "      <td>0.000511</td>\n",
       "      <td>0.002802</td>\n",
       "      <td>0.000095</td>\n",
       "      <td>0.004301</td>\n",
       "      <td>0.111915</td>\n",
       "      <td>0.152679</td>\n",
       "      <td>0.002311</td>\n",
       "      <td>0.001637</td>\n",
       "      <td>0.007290</td>\n",
       "      <td>0.010546</td>\n",
       "    </tr>\n",
       "    <tr>\n",
       "      <th>2</th>\n",
       "      <th>1</th>\n",
       "      <td>0.093866</td>\n",
       "      <td>0.234289</td>\n",
       "      <td>0.189880</td>\n",
       "      <td>0.194848</td>\n",
       "      <td>0.000316</td>\n",
       "      <td>0.055939</td>\n",
       "      <td>0.003441</td>\n",
       "      <td>0.003561</td>\n",
       "      <td>0.001317</td>\n",
       "      <td>0.057578</td>\n",
       "      <td>...</td>\n",
       "      <td>0.001233</td>\n",
       "      <td>0.014509</td>\n",
       "      <td>0.000311</td>\n",
       "      <td>0.023370</td>\n",
       "      <td>0.116717</td>\n",
       "      <td>0.138742</td>\n",
       "      <td>0.005906</td>\n",
       "      <td>0.004169</td>\n",
       "      <td>0.045667</td>\n",
       "      <td>0.019108</td>\n",
       "    </tr>\n",
       "    <tr>\n",
       "      <th>3</th>\n",
       "      <th>1</th>\n",
       "      <td>0.037203</td>\n",
       "      <td>0.164649</td>\n",
       "      <td>0.142297</td>\n",
       "      <td>0.177512</td>\n",
       "      <td>0.000130</td>\n",
       "      <td>0.043687</td>\n",
       "      <td>0.001893</td>\n",
       "      <td>0.003107</td>\n",
       "      <td>0.000848</td>\n",
       "      <td>0.017861</td>\n",
       "      <td>...</td>\n",
       "      <td>0.000477</td>\n",
       "      <td>0.005153</td>\n",
       "      <td>0.000131</td>\n",
       "      <td>0.010751</td>\n",
       "      <td>0.175521</td>\n",
       "      <td>0.095177</td>\n",
       "      <td>0.002099</td>\n",
       "      <td>0.000924</td>\n",
       "      <td>0.024274</td>\n",
       "      <td>0.019977</td>\n",
       "    </tr>\n",
       "    <tr>\n",
       "      <th>4</th>\n",
       "      <th>2</th>\n",
       "      <td>0.025154</td>\n",
       "      <td>0.222276</td>\n",
       "      <td>0.189821</td>\n",
       "      <td>0.109926</td>\n",
       "      <td>0.000614</td>\n",
       "      <td>0.015292</td>\n",
       "      <td>0.002618</td>\n",
       "      <td>0.002260</td>\n",
       "      <td>0.000977</td>\n",
       "      <td>0.068694</td>\n",
       "      <td>...</td>\n",
       "      <td>0.000139</td>\n",
       "      <td>0.003046</td>\n",
       "      <td>0.000042</td>\n",
       "      <td>0.007660</td>\n",
       "      <td>0.206475</td>\n",
       "      <td>0.050309</td>\n",
       "      <td>0.007982</td>\n",
       "      <td>0.003581</td>\n",
       "      <td>0.005064</td>\n",
       "      <td>0.029030</td>\n",
       "    </tr>\n",
       "    <tr>\n",
       "      <th>5</th>\n",
       "      <th>2</th>\n",
       "      <td>0.015191</td>\n",
       "      <td>0.120062</td>\n",
       "      <td>0.097605</td>\n",
       "      <td>0.049162</td>\n",
       "      <td>0.000964</td>\n",
       "      <td>0.033977</td>\n",
       "      <td>0.001629</td>\n",
       "      <td>0.001443</td>\n",
       "      <td>0.000214</td>\n",
       "      <td>0.085978</td>\n",
       "      <td>...</td>\n",
       "      <td>0.000083</td>\n",
       "      <td>0.002630</td>\n",
       "      <td>0.000024</td>\n",
       "      <td>0.006139</td>\n",
       "      <td>0.128479</td>\n",
       "      <td>0.039098</td>\n",
       "      <td>0.002801</td>\n",
       "      <td>0.002173</td>\n",
       "      <td>0.004739</td>\n",
       "      <td>0.018096</td>\n",
       "    </tr>\n",
       "    <tr>\n",
       "      <th>...</th>\n",
       "      <th>...</th>\n",
       "      <th>...</th>\n",
       "      <td>...</td>\n",
       "      <td>...</td>\n",
       "      <td>...</td>\n",
       "      <td>...</td>\n",
       "      <td>...</td>\n",
       "      <td>...</td>\n",
       "      <td>...</td>\n",
       "      <td>...</td>\n",
       "      <td>...</td>\n",
       "      <td>...</td>\n",
       "      <td>...</td>\n",
       "      <td>...</td>\n",
       "      <td>...</td>\n",
       "      <td>...</td>\n",
       "      <td>...</td>\n",
       "      <td>...</td>\n",
       "      <td>...</td>\n",
       "      <td>...</td>\n",
       "      <td>...</td>\n",
       "      <td>...</td>\n",
       "      <td>...</td>\n",
       "    </tr>\n",
       "    <tr>\n",
       "      <th rowspan=\"5\" valign=\"top\">99756</th>\n",
       "      <th>26</th>\n",
       "      <th>13</th>\n",
       "      <td>0.002165</td>\n",
       "      <td>0.044662</td>\n",
       "      <td>0.066959</td>\n",
       "      <td>0.054407</td>\n",
       "      <td>0.000255</td>\n",
       "      <td>0.005807</td>\n",
       "      <td>0.014281</td>\n",
       "      <td>0.013029</td>\n",
       "      <td>0.000775</td>\n",
       "      <td>0.056812</td>\n",
       "      <td>...</td>\n",
       "      <td>0.000538</td>\n",
       "      <td>0.026045</td>\n",
       "      <td>0.000454</td>\n",
       "      <td>0.003698</td>\n",
       "      <td>0.104684</td>\n",
       "      <td>0.065463</td>\n",
       "      <td>0.010299</td>\n",
       "      <td>0.002955</td>\n",
       "      <td>0.006544</td>\n",
       "      <td>0.050681</td>\n",
       "    </tr>\n",
       "    <tr>\n",
       "      <th>27</th>\n",
       "      <th>14</th>\n",
       "      <td>0.031242</td>\n",
       "      <td>0.148587</td>\n",
       "      <td>0.170318</td>\n",
       "      <td>0.200187</td>\n",
       "      <td>0.010490</td>\n",
       "      <td>0.696831</td>\n",
       "      <td>0.048622</td>\n",
       "      <td>0.197584</td>\n",
       "      <td>0.004054</td>\n",
       "      <td>0.310313</td>\n",
       "      <td>...</td>\n",
       "      <td>0.012251</td>\n",
       "      <td>0.217895</td>\n",
       "      <td>0.010549</td>\n",
       "      <td>0.043749</td>\n",
       "      <td>0.242031</td>\n",
       "      <td>0.327795</td>\n",
       "      <td>0.050682</td>\n",
       "      <td>0.114249</td>\n",
       "      <td>0.109062</td>\n",
       "      <td>0.179881</td>\n",
       "    </tr>\n",
       "    <tr>\n",
       "      <th>28</th>\n",
       "      <th>14</th>\n",
       "      <td>0.013533</td>\n",
       "      <td>0.112761</td>\n",
       "      <td>0.106941</td>\n",
       "      <td>0.109278</td>\n",
       "      <td>0.027379</td>\n",
       "      <td>0.575033</td>\n",
       "      <td>0.030195</td>\n",
       "      <td>0.086115</td>\n",
       "      <td>0.000828</td>\n",
       "      <td>0.153722</td>\n",
       "      <td>...</td>\n",
       "      <td>0.003153</td>\n",
       "      <td>0.094190</td>\n",
       "      <td>0.002156</td>\n",
       "      <td>0.011619</td>\n",
       "      <td>0.189372</td>\n",
       "      <td>0.281381</td>\n",
       "      <td>0.010898</td>\n",
       "      <td>0.016342</td>\n",
       "      <td>0.058351</td>\n",
       "      <td>0.117959</td>\n",
       "    </tr>\n",
       "    <tr>\n",
       "      <th>29</th>\n",
       "      <th>15</th>\n",
       "      <td>0.007244</td>\n",
       "      <td>0.066402</td>\n",
       "      <td>0.054298</td>\n",
       "      <td>0.081918</td>\n",
       "      <td>0.009042</td>\n",
       "      <td>0.433625</td>\n",
       "      <td>0.014034</td>\n",
       "      <td>0.164654</td>\n",
       "      <td>0.005430</td>\n",
       "      <td>0.220037</td>\n",
       "      <td>...</td>\n",
       "      <td>0.000683</td>\n",
       "      <td>0.006867</td>\n",
       "      <td>0.000282</td>\n",
       "      <td>0.000498</td>\n",
       "      <td>0.386076</td>\n",
       "      <td>0.093742</td>\n",
       "      <td>0.000679</td>\n",
       "      <td>0.001955</td>\n",
       "      <td>0.003955</td>\n",
       "      <td>0.050406</td>\n",
       "    </tr>\n",
       "    <tr>\n",
       "      <th>30</th>\n",
       "      <th>15</th>\n",
       "      <td>0.011288</td>\n",
       "      <td>0.050706</td>\n",
       "      <td>0.047058</td>\n",
       "      <td>0.045859</td>\n",
       "      <td>0.015758</td>\n",
       "      <td>0.220220</td>\n",
       "      <td>0.006702</td>\n",
       "      <td>0.086263</td>\n",
       "      <td>0.003689</td>\n",
       "      <td>0.075128</td>\n",
       "      <td>...</td>\n",
       "      <td>0.000312</td>\n",
       "      <td>0.007497</td>\n",
       "      <td>0.000124</td>\n",
       "      <td>0.000103</td>\n",
       "      <td>0.159617</td>\n",
       "      <td>0.081663</td>\n",
       "      <td>0.000475</td>\n",
       "      <td>0.000676</td>\n",
       "      <td>0.002386</td>\n",
       "      <td>0.025184</td>\n",
       "    </tr>\n",
       "  </tbody>\n",
       "</table>\n",
       "<p>1140 rows × 272 columns</p>\n",
       "</div>"
      ],
      "text/plain": [
       "                           diag_0    diag_1    diag_2    diag_3    diag_4  \\\n",
       "pat_id adm_index n_pass                                                     \n",
       "93900  1         1       0.150945  0.321342  0.142524  0.216501  0.004750   \n",
       "       2         1       0.093866  0.234289  0.189880  0.194848  0.000316   \n",
       "       3         1       0.037203  0.164649  0.142297  0.177512  0.000130   \n",
       "       4         2       0.025154  0.222276  0.189821  0.109926  0.000614   \n",
       "       5         2       0.015191  0.120062  0.097605  0.049162  0.000964   \n",
       "...                           ...       ...       ...       ...       ...   \n",
       "99756  26        13      0.002165  0.044662  0.066959  0.054407  0.000255   \n",
       "       27        14      0.031242  0.148587  0.170318  0.200187  0.010490   \n",
       "       28        14      0.013533  0.112761  0.106941  0.109278  0.027379   \n",
       "       29        15      0.007244  0.066402  0.054298  0.081918  0.009042   \n",
       "       30        15      0.011288  0.050706  0.047058  0.045859  0.015758   \n",
       "\n",
       "                           diag_5    diag_6    diag_7    diag_8    diag_9  \\\n",
       "pat_id adm_index n_pass                                                     \n",
       "93900  1         1       0.033394  0.007169  0.004182  0.000807  0.011241   \n",
       "       2         1       0.055939  0.003441  0.003561  0.001317  0.057578   \n",
       "       3         1       0.043687  0.001893  0.003107  0.000848  0.017861   \n",
       "       4         2       0.015292  0.002618  0.002260  0.000977  0.068694   \n",
       "       5         2       0.033977  0.001629  0.001443  0.000214  0.085978   \n",
       "...                           ...       ...       ...       ...       ...   \n",
       "99756  26        13      0.005807  0.014281  0.013029  0.000775  0.056812   \n",
       "       27        14      0.696831  0.048622  0.197584  0.004054  0.310313   \n",
       "       28        14      0.575033  0.030195  0.086115  0.000828  0.153722   \n",
       "       29        15      0.433625  0.014034  0.164654  0.005430  0.220037   \n",
       "       30        15      0.220220  0.006702  0.086263  0.003689  0.075128   \n",
       "\n",
       "                         ...  diag_262  diag_263  diag_264  diag_265  \\\n",
       "pat_id adm_index n_pass  ...                                           \n",
       "93900  1         1       ...  0.000511  0.002802  0.000095  0.004301   \n",
       "       2         1       ...  0.001233  0.014509  0.000311  0.023370   \n",
       "       3         1       ...  0.000477  0.005153  0.000131  0.010751   \n",
       "       4         2       ...  0.000139  0.003046  0.000042  0.007660   \n",
       "       5         2       ...  0.000083  0.002630  0.000024  0.006139   \n",
       "...                      ...       ...       ...       ...       ...   \n",
       "99756  26        13      ...  0.000538  0.026045  0.000454  0.003698   \n",
       "       27        14      ...  0.012251  0.217895  0.010549  0.043749   \n",
       "       28        14      ...  0.003153  0.094190  0.002156  0.011619   \n",
       "       29        15      ...  0.000683  0.006867  0.000282  0.000498   \n",
       "       30        15      ...  0.000312  0.007497  0.000124  0.000103   \n",
       "\n",
       "                         diag_266  diag_267  diag_268  diag_269  diag_270  \\\n",
       "pat_id adm_index n_pass                                                     \n",
       "93900  1         1       0.111915  0.152679  0.002311  0.001637  0.007290   \n",
       "       2         1       0.116717  0.138742  0.005906  0.004169  0.045667   \n",
       "       3         1       0.175521  0.095177  0.002099  0.000924  0.024274   \n",
       "       4         2       0.206475  0.050309  0.007982  0.003581  0.005064   \n",
       "       5         2       0.128479  0.039098  0.002801  0.002173  0.004739   \n",
       "...                           ...       ...       ...       ...       ...   \n",
       "99756  26        13      0.104684  0.065463  0.010299  0.002955  0.006544   \n",
       "       27        14      0.242031  0.327795  0.050682  0.114249  0.109062   \n",
       "       28        14      0.189372  0.281381  0.010898  0.016342  0.058351   \n",
       "       29        15      0.386076  0.093742  0.000679  0.001955  0.003955   \n",
       "       30        15      0.159617  0.081663  0.000475  0.000676  0.002386   \n",
       "\n",
       "                         diag_271  \n",
       "pat_id adm_index n_pass            \n",
       "93900  1         1       0.010546  \n",
       "       2         1       0.019108  \n",
       "       3         1       0.019977  \n",
       "       4         2       0.029030  \n",
       "       5         2       0.018096  \n",
       "...                           ...  \n",
       "99756  26        13      0.050681  \n",
       "       27        14      0.179881  \n",
       "       28        14      0.117959  \n",
       "       29        15      0.050406  \n",
       "       30        15      0.025184  \n",
       "\n",
       "[1140 rows x 272 columns]"
      ]
     },
     "execution_count": 21,
     "metadata": {},
     "output_type": "execute_result"
    }
   ],
   "source": [
    "res.sort_index()"
   ]
  },
  {
   "cell_type": "code",
   "execution_count": 122,
   "metadata": {},
   "outputs": [],
   "source": [
    "def outs2df_mc(model,dataloader,dataset,return_golden=False):\n",
    "    \"\"\"\n",
    "    Generates model outputs on a dataloader and returns as a pd.DataFrame.\n",
    "    \n",
    "    If <return_golden> is True, also returns a dataframe with the golden labels.\n",
    "    \"\"\"\n",
    "    model.train() # needs to be active for mc_dropout\n",
    "    \n",
    "     # eg:: ccs, icd9, etc..\n",
    "    code_type = dataset.grouping\n",
    "    \n",
    "    int2code = dataset.grouping_data[code_type]['int2code']\n",
    "    n_labels = len(int2code)\n",
    "    \n",
    "    col_names = ['diag_' + str(code) for code in int2code.keys()]\n",
    "    \n",
    "    sigmoid = nn.Sigmoid()\n",
    "    \n",
    "    flatten_list = lambda x: [item for sublist in x for item in sublist]\n",
    "    \n",
    "    full_df = full_golden = None\n",
    "    for i, batch in enumerate(iter(dataloader)):\n",
    "\n",
    "        inputs, targets = batch['train_sequences']['sequence'],batch['target_sequences']['sequence']\n",
    "        outs = model(inputs,take_mc_average=False)\n",
    "\n",
    "        # Turn to pandas to store the <model_output> data\n",
    "\n",
    "        # we want to ignore the padded sequences\n",
    "        _,lengths = pad_packed_sequence(inputs,batch_first=True)\n",
    "        relevant_positions = [[i+idx*max(lengths) for i in range(e)] for idx,e in enumerate(lengths)]\n",
    "        relevant_positions = flatten_list(relevant_positions)\n",
    "\n",
    "        outs_flattened = outs.view(outs.size()[0],1,-1,outs.size()[-1])\n",
    "        relevant_outs = outs_flattened[:,:,relevant_positions,:]\n",
    "        relevant_outs = sigmoid(relevant_outs).detach().numpy()[:,0,:]\n",
    "        \n",
    "        # merge the N passes\n",
    "        full_df_npass = None\n",
    "        for i in range(relevant_outs.shape[0]):\n",
    "            df = pd.DataFrame(relevant_outs[i,:,:],columns=col_names)\n",
    "            df = df.assign(n_pass=i+1,pat_id=batch['target_pids'])\n",
    "            full_df_npass = df if full_df_npass is None else pd.concat([full_df_npass,df])\n",
    "        \n",
    "        full_df = full_df_npass if full_df is None else pd.concat([full_df,full_df_npass])\n",
    "\n",
    "        if return_golden:\n",
    "            targets_flattened = targets.view(1,-1,targets.size()[2])\n",
    "            relevant_targets = targets_flattened[:,relevant_positions,:].detach().numpy()[0,:,:]\n",
    "            golden_df = (pd.DataFrame(relevant_targets,\n",
    "                                    columns=col_names)\n",
    "                         .assign(pat_id=batch['target_pids'])\n",
    "                        )\n",
    "            full_golden = golden_df if full_golden is None else pd.concat([full_golden,golden_df])\n",
    "\n",
    "    full_df['adm_index'] = full_df.groupby(['pat_id','n_pass']).cumcount()+1\n",
    "    full_df = full_df.reset_index(drop=True)\n",
    "    full_df[['pat_id','adm_index']] = full_df[['pat_id','adm_index']].astype(int)\n",
    "    # reorder columns\n",
    "    full_df = full_df.set_index(['pat_id','adm_index','n_pass']).sort_index()\n",
    "\n",
    "    if return_golden:\n",
    "        full_golden['adm_index'] = full_golden.groupby(['pat_id']).cumcount()+1\n",
    "        full_golden = full_golden.reset_index(drop=True)\n",
    "        full_golden[['pat_id','adm_index']] = full_golden[['pat_id','adm_index']].astype(int)\n",
    "        # reorder columns\n",
    "        full_golden = full_golden.set_index(['pat_id','adm_index']).sort_index()\n",
    "\n",
    "        return full_df,full_golden\n",
    "    return full_df"
   ]
  },
  {
   "cell_type": "code",
   "execution_count": 59,
   "metadata": {},
   "outputs": [
    {
     "data": {
      "text/plain": [
       "(15, 129, 272)"
      ]
     },
     "metadata": {},
     "output_type": "display_data"
    },
    {
     "data": {
      "text/plain": [
       "(15, 127, 272)"
      ]
     },
     "metadata": {},
     "output_type": "display_data"
    },
    {
     "data": {
      "text/plain": [
       "(15, 118, 272)"
      ]
     },
     "metadata": {},
     "output_type": "display_data"
    },
    {
     "data": {
      "text/plain": [
       "(15, 130, 272)"
      ]
     },
     "metadata": {},
     "output_type": "display_data"
    },
    {
     "data": {
      "text/plain": [
       "(15, 107, 272)"
      ]
     },
     "metadata": {},
     "output_type": "display_data"
    },
    {
     "data": {
      "text/plain": [
       "(15, 95, 272)"
      ]
     },
     "metadata": {},
     "output_type": "display_data"
    },
    {
     "data": {
      "text/plain": [
       "(15, 108, 272)"
      ]
     },
     "metadata": {},
     "output_type": "display_data"
    },
    {
     "data": {
      "text/plain": [
       "(15, 131, 272)"
      ]
     },
     "metadata": {},
     "output_type": "display_data"
    },
    {
     "data": {
      "text/plain": [
       "(15, 113, 272)"
      ]
     },
     "metadata": {},
     "output_type": "display_data"
    },
    {
     "data": {
      "text/plain": [
       "(15, 129, 272)"
      ]
     },
     "metadata": {},
     "output_type": "display_data"
    },
    {
     "data": {
      "text/plain": [
       "(15, 107, 272)"
      ]
     },
     "metadata": {},
     "output_type": "display_data"
    },
    {
     "data": {
      "text/plain": [
       "(15, 96, 272)"
      ]
     },
     "metadata": {},
     "output_type": "display_data"
    },
    {
     "data": {
      "text/plain": [
       "(15, 107, 272)"
      ]
     },
     "metadata": {},
     "output_type": "display_data"
    },
    {
     "data": {
      "text/plain": [
       "(15, 100, 272)"
      ]
     },
     "metadata": {},
     "output_type": "display_data"
    },
    {
     "data": {
      "text/plain": [
       "(15, 86, 272)"
      ]
     },
     "metadata": {},
     "output_type": "display_data"
    },
    {
     "data": {
      "text/plain": [
       "(15, 80, 272)"
      ]
     },
     "metadata": {},
     "output_type": "display_data"
    },
    {
     "data": {
      "text/plain": [
       "(15, 104, 272)"
      ]
     },
     "metadata": {},
     "output_type": "display_data"
    },
    {
     "data": {
      "text/plain": [
       "(15, 76, 272)"
      ]
     },
     "metadata": {},
     "output_type": "display_data"
    },
    {
     "data": {
      "text/html": [
       "<div>\n",
       "<style scoped>\n",
       "    .dataframe tbody tr th:only-of-type {\n",
       "        vertical-align: middle;\n",
       "    }\n",
       "\n",
       "    .dataframe tbody tr th {\n",
       "        vertical-align: top;\n",
       "    }\n",
       "\n",
       "    .dataframe thead th {\n",
       "        text-align: right;\n",
       "    }\n",
       "</style>\n",
       "<table border=\"1\" class=\"dataframe\">\n",
       "  <thead>\n",
       "    <tr style=\"text-align: right;\">\n",
       "      <th></th>\n",
       "      <th></th>\n",
       "      <th></th>\n",
       "      <th>diag_0</th>\n",
       "      <th>diag_1</th>\n",
       "      <th>diag_2</th>\n",
       "      <th>diag_3</th>\n",
       "      <th>diag_4</th>\n",
       "      <th>diag_5</th>\n",
       "      <th>diag_6</th>\n",
       "      <th>diag_7</th>\n",
       "      <th>diag_8</th>\n",
       "      <th>diag_9</th>\n",
       "      <th>...</th>\n",
       "      <th>diag_262</th>\n",
       "      <th>diag_263</th>\n",
       "      <th>diag_264</th>\n",
       "      <th>diag_265</th>\n",
       "      <th>diag_266</th>\n",
       "      <th>diag_267</th>\n",
       "      <th>diag_268</th>\n",
       "      <th>diag_269</th>\n",
       "      <th>diag_270</th>\n",
       "      <th>diag_271</th>\n",
       "    </tr>\n",
       "    <tr>\n",
       "      <th>pat_id</th>\n",
       "      <th>adm_index</th>\n",
       "      <th>n_pass</th>\n",
       "      <th></th>\n",
       "      <th></th>\n",
       "      <th></th>\n",
       "      <th></th>\n",
       "      <th></th>\n",
       "      <th></th>\n",
       "      <th></th>\n",
       "      <th></th>\n",
       "      <th></th>\n",
       "      <th></th>\n",
       "      <th></th>\n",
       "      <th></th>\n",
       "      <th></th>\n",
       "      <th></th>\n",
       "      <th></th>\n",
       "      <th></th>\n",
       "      <th></th>\n",
       "      <th></th>\n",
       "      <th></th>\n",
       "      <th></th>\n",
       "      <th></th>\n",
       "    </tr>\n",
       "  </thead>\n",
       "  <tbody>\n",
       "    <tr>\n",
       "      <th rowspan=\"5\" valign=\"top\">21</th>\n",
       "      <th rowspan=\"5\" valign=\"top\">1</th>\n",
       "      <th>1</th>\n",
       "      <td>0.032539</td>\n",
       "      <td>0.242594</td>\n",
       "      <td>0.169882</td>\n",
       "      <td>0.167440</td>\n",
       "      <td>0.023404</td>\n",
       "      <td>0.058049</td>\n",
       "      <td>0.026044</td>\n",
       "      <td>0.001310</td>\n",
       "      <td>0.005399</td>\n",
       "      <td>0.121698</td>\n",
       "      <td>...</td>\n",
       "      <td>0.000615</td>\n",
       "      <td>0.003921</td>\n",
       "      <td>0.000233</td>\n",
       "      <td>0.016892</td>\n",
       "      <td>0.211880</td>\n",
       "      <td>0.195146</td>\n",
       "      <td>0.003629</td>\n",
       "      <td>0.004870</td>\n",
       "      <td>0.005443</td>\n",
       "      <td>0.079044</td>\n",
       "    </tr>\n",
       "    <tr>\n",
       "      <th>2</th>\n",
       "      <td>0.002497</td>\n",
       "      <td>0.162189</td>\n",
       "      <td>0.043052</td>\n",
       "      <td>0.042609</td>\n",
       "      <td>0.000035</td>\n",
       "      <td>0.011330</td>\n",
       "      <td>0.009462</td>\n",
       "      <td>0.001221</td>\n",
       "      <td>0.001304</td>\n",
       "      <td>0.013655</td>\n",
       "      <td>...</td>\n",
       "      <td>0.000092</td>\n",
       "      <td>0.001542</td>\n",
       "      <td>0.000097</td>\n",
       "      <td>0.001383</td>\n",
       "      <td>0.091234</td>\n",
       "      <td>0.065028</td>\n",
       "      <td>0.002128</td>\n",
       "      <td>0.001901</td>\n",
       "      <td>0.001478</td>\n",
       "      <td>0.030642</td>\n",
       "    </tr>\n",
       "    <tr>\n",
       "      <th>3</th>\n",
       "      <td>0.123530</td>\n",
       "      <td>0.166680</td>\n",
       "      <td>0.096426</td>\n",
       "      <td>0.130095</td>\n",
       "      <td>0.006716</td>\n",
       "      <td>0.045917</td>\n",
       "      <td>0.002916</td>\n",
       "      <td>0.002710</td>\n",
       "      <td>0.001379</td>\n",
       "      <td>0.199120</td>\n",
       "      <td>...</td>\n",
       "      <td>0.000375</td>\n",
       "      <td>0.007049</td>\n",
       "      <td>0.000098</td>\n",
       "      <td>0.019225</td>\n",
       "      <td>0.071668</td>\n",
       "      <td>0.110959</td>\n",
       "      <td>0.004320</td>\n",
       "      <td>0.003060</td>\n",
       "      <td>0.000525</td>\n",
       "      <td>0.037897</td>\n",
       "    </tr>\n",
       "    <tr>\n",
       "      <th>4</th>\n",
       "      <td>0.012353</td>\n",
       "      <td>0.115188</td>\n",
       "      <td>0.079149</td>\n",
       "      <td>0.070948</td>\n",
       "      <td>0.000103</td>\n",
       "      <td>0.002479</td>\n",
       "      <td>0.002044</td>\n",
       "      <td>0.002383</td>\n",
       "      <td>0.000764</td>\n",
       "      <td>0.107383</td>\n",
       "      <td>...</td>\n",
       "      <td>0.000399</td>\n",
       "      <td>0.001090</td>\n",
       "      <td>0.000267</td>\n",
       "      <td>0.008366</td>\n",
       "      <td>0.091769</td>\n",
       "      <td>0.080935</td>\n",
       "      <td>0.000838</td>\n",
       "      <td>0.001303</td>\n",
       "      <td>0.002496</td>\n",
       "      <td>0.026199</td>\n",
       "    </tr>\n",
       "    <tr>\n",
       "      <th>5</th>\n",
       "      <td>0.001298</td>\n",
       "      <td>0.394419</td>\n",
       "      <td>0.103910</td>\n",
       "      <td>0.110775</td>\n",
       "      <td>0.000408</td>\n",
       "      <td>0.008996</td>\n",
       "      <td>0.004477</td>\n",
       "      <td>0.008242</td>\n",
       "      <td>0.001130</td>\n",
       "      <td>0.050175</td>\n",
       "      <td>...</td>\n",
       "      <td>0.000198</td>\n",
       "      <td>0.004136</td>\n",
       "      <td>0.000102</td>\n",
       "      <td>0.001630</td>\n",
       "      <td>0.165625</td>\n",
       "      <td>0.022450</td>\n",
       "      <td>0.006177</td>\n",
       "      <td>0.001745</td>\n",
       "      <td>0.001523</td>\n",
       "      <td>0.024375</td>\n",
       "    </tr>\n",
       "    <tr>\n",
       "      <th>...</th>\n",
       "      <th>...</th>\n",
       "      <th>...</th>\n",
       "      <td>...</td>\n",
       "      <td>...</td>\n",
       "      <td>...</td>\n",
       "      <td>...</td>\n",
       "      <td>...</td>\n",
       "      <td>...</td>\n",
       "      <td>...</td>\n",
       "      <td>...</td>\n",
       "      <td>...</td>\n",
       "      <td>...</td>\n",
       "      <td>...</td>\n",
       "      <td>...</td>\n",
       "      <td>...</td>\n",
       "      <td>...</td>\n",
       "      <td>...</td>\n",
       "      <td>...</td>\n",
       "      <td>...</td>\n",
       "      <td>...</td>\n",
       "      <td>...</td>\n",
       "      <td>...</td>\n",
       "      <td>...</td>\n",
       "    </tr>\n",
       "    <tr>\n",
       "      <th rowspan=\"5\" valign=\"top\">99756</th>\n",
       "      <th rowspan=\"5\" valign=\"top\">2</th>\n",
       "      <th>11</th>\n",
       "      <td>0.012420</td>\n",
       "      <td>0.090209</td>\n",
       "      <td>0.175551</td>\n",
       "      <td>0.079750</td>\n",
       "      <td>0.015177</td>\n",
       "      <td>0.260487</td>\n",
       "      <td>0.097329</td>\n",
       "      <td>0.076201</td>\n",
       "      <td>0.007032</td>\n",
       "      <td>0.139333</td>\n",
       "      <td>...</td>\n",
       "      <td>0.005610</td>\n",
       "      <td>0.072918</td>\n",
       "      <td>0.005971</td>\n",
       "      <td>0.003473</td>\n",
       "      <td>0.102012</td>\n",
       "      <td>0.181597</td>\n",
       "      <td>0.026447</td>\n",
       "      <td>0.013044</td>\n",
       "      <td>0.097084</td>\n",
       "      <td>0.038923</td>\n",
       "    </tr>\n",
       "    <tr>\n",
       "      <th>12</th>\n",
       "      <td>0.002756</td>\n",
       "      <td>0.218797</td>\n",
       "      <td>0.066115</td>\n",
       "      <td>0.082487</td>\n",
       "      <td>0.000059</td>\n",
       "      <td>0.072757</td>\n",
       "      <td>0.016201</td>\n",
       "      <td>0.086022</td>\n",
       "      <td>0.000292</td>\n",
       "      <td>0.141744</td>\n",
       "      <td>...</td>\n",
       "      <td>0.001387</td>\n",
       "      <td>0.006461</td>\n",
       "      <td>0.001029</td>\n",
       "      <td>0.004221</td>\n",
       "      <td>0.093471</td>\n",
       "      <td>0.095394</td>\n",
       "      <td>0.004561</td>\n",
       "      <td>0.011953</td>\n",
       "      <td>0.008212</td>\n",
       "      <td>0.036896</td>\n",
       "    </tr>\n",
       "    <tr>\n",
       "      <th>13</th>\n",
       "      <td>0.003925</td>\n",
       "      <td>0.101160</td>\n",
       "      <td>0.208187</td>\n",
       "      <td>0.169326</td>\n",
       "      <td>0.008033</td>\n",
       "      <td>0.525002</td>\n",
       "      <td>0.028517</td>\n",
       "      <td>0.302174</td>\n",
       "      <td>0.001704</td>\n",
       "      <td>0.248651</td>\n",
       "      <td>...</td>\n",
       "      <td>0.003009</td>\n",
       "      <td>0.060098</td>\n",
       "      <td>0.001286</td>\n",
       "      <td>0.008310</td>\n",
       "      <td>0.268445</td>\n",
       "      <td>0.138418</td>\n",
       "      <td>0.012677</td>\n",
       "      <td>0.006711</td>\n",
       "      <td>0.023276</td>\n",
       "      <td>0.134179</td>\n",
       "    </tr>\n",
       "    <tr>\n",
       "      <th>14</th>\n",
       "      <td>0.000478</td>\n",
       "      <td>0.255018</td>\n",
       "      <td>0.172330</td>\n",
       "      <td>0.133123</td>\n",
       "      <td>0.000064</td>\n",
       "      <td>0.049835</td>\n",
       "      <td>0.018143</td>\n",
       "      <td>0.006289</td>\n",
       "      <td>0.000451</td>\n",
       "      <td>0.098977</td>\n",
       "      <td>...</td>\n",
       "      <td>0.000631</td>\n",
       "      <td>0.005159</td>\n",
       "      <td>0.000157</td>\n",
       "      <td>0.009730</td>\n",
       "      <td>0.179465</td>\n",
       "      <td>0.110899</td>\n",
       "      <td>0.005338</td>\n",
       "      <td>0.002518</td>\n",
       "      <td>0.015530</td>\n",
       "      <td>0.034285</td>\n",
       "    </tr>\n",
       "    <tr>\n",
       "      <th>15</th>\n",
       "      <td>0.003342</td>\n",
       "      <td>0.152576</td>\n",
       "      <td>0.150813</td>\n",
       "      <td>0.061259</td>\n",
       "      <td>0.000304</td>\n",
       "      <td>0.034989</td>\n",
       "      <td>0.020145</td>\n",
       "      <td>0.040717</td>\n",
       "      <td>0.001295</td>\n",
       "      <td>0.013196</td>\n",
       "      <td>...</td>\n",
       "      <td>0.001288</td>\n",
       "      <td>0.014527</td>\n",
       "      <td>0.003363</td>\n",
       "      <td>0.006992</td>\n",
       "      <td>0.139108</td>\n",
       "      <td>0.117732</td>\n",
       "      <td>0.015525</td>\n",
       "      <td>0.009349</td>\n",
       "      <td>0.084496</td>\n",
       "      <td>0.069815</td>\n",
       "    </tr>\n",
       "  </tbody>\n",
       "</table>\n",
       "<p>29145 rows × 272 columns</p>\n",
       "</div>"
      ],
      "text/plain": [
       "                           diag_0    diag_1    diag_2    diag_3    diag_4  \\\n",
       "pat_id adm_index n_pass                                                     \n",
       "21     1         1       0.032539  0.242594  0.169882  0.167440  0.023404   \n",
       "                 2       0.002497  0.162189  0.043052  0.042609  0.000035   \n",
       "                 3       0.123530  0.166680  0.096426  0.130095  0.006716   \n",
       "                 4       0.012353  0.115188  0.079149  0.070948  0.000103   \n",
       "                 5       0.001298  0.394419  0.103910  0.110775  0.000408   \n",
       "...                           ...       ...       ...       ...       ...   \n",
       "99756  2         11      0.012420  0.090209  0.175551  0.079750  0.015177   \n",
       "                 12      0.002756  0.218797  0.066115  0.082487  0.000059   \n",
       "                 13      0.003925  0.101160  0.208187  0.169326  0.008033   \n",
       "                 14      0.000478  0.255018  0.172330  0.133123  0.000064   \n",
       "                 15      0.003342  0.152576  0.150813  0.061259  0.000304   \n",
       "\n",
       "                           diag_5    diag_6    diag_7    diag_8    diag_9  \\\n",
       "pat_id adm_index n_pass                                                     \n",
       "21     1         1       0.058049  0.026044  0.001310  0.005399  0.121698   \n",
       "                 2       0.011330  0.009462  0.001221  0.001304  0.013655   \n",
       "                 3       0.045917  0.002916  0.002710  0.001379  0.199120   \n",
       "                 4       0.002479  0.002044  0.002383  0.000764  0.107383   \n",
       "                 5       0.008996  0.004477  0.008242  0.001130  0.050175   \n",
       "...                           ...       ...       ...       ...       ...   \n",
       "99756  2         11      0.260487  0.097329  0.076201  0.007032  0.139333   \n",
       "                 12      0.072757  0.016201  0.086022  0.000292  0.141744   \n",
       "                 13      0.525002  0.028517  0.302174  0.001704  0.248651   \n",
       "                 14      0.049835  0.018143  0.006289  0.000451  0.098977   \n",
       "                 15      0.034989  0.020145  0.040717  0.001295  0.013196   \n",
       "\n",
       "                         ...  diag_262  diag_263  diag_264  diag_265  \\\n",
       "pat_id adm_index n_pass  ...                                           \n",
       "21     1         1       ...  0.000615  0.003921  0.000233  0.016892   \n",
       "                 2       ...  0.000092  0.001542  0.000097  0.001383   \n",
       "                 3       ...  0.000375  0.007049  0.000098  0.019225   \n",
       "                 4       ...  0.000399  0.001090  0.000267  0.008366   \n",
       "                 5       ...  0.000198  0.004136  0.000102  0.001630   \n",
       "...                      ...       ...       ...       ...       ...   \n",
       "99756  2         11      ...  0.005610  0.072918  0.005971  0.003473   \n",
       "                 12      ...  0.001387  0.006461  0.001029  0.004221   \n",
       "                 13      ...  0.003009  0.060098  0.001286  0.008310   \n",
       "                 14      ...  0.000631  0.005159  0.000157  0.009730   \n",
       "                 15      ...  0.001288  0.014527  0.003363  0.006992   \n",
       "\n",
       "                         diag_266  diag_267  diag_268  diag_269  diag_270  \\\n",
       "pat_id adm_index n_pass                                                     \n",
       "21     1         1       0.211880  0.195146  0.003629  0.004870  0.005443   \n",
       "                 2       0.091234  0.065028  0.002128  0.001901  0.001478   \n",
       "                 3       0.071668  0.110959  0.004320  0.003060  0.000525   \n",
       "                 4       0.091769  0.080935  0.000838  0.001303  0.002496   \n",
       "                 5       0.165625  0.022450  0.006177  0.001745  0.001523   \n",
       "...                           ...       ...       ...       ...       ...   \n",
       "99756  2         11      0.102012  0.181597  0.026447  0.013044  0.097084   \n",
       "                 12      0.093471  0.095394  0.004561  0.011953  0.008212   \n",
       "                 13      0.268445  0.138418  0.012677  0.006711  0.023276   \n",
       "                 14      0.179465  0.110899  0.005338  0.002518  0.015530   \n",
       "                 15      0.139108  0.117732  0.015525  0.009349  0.084496   \n",
       "\n",
       "                         diag_271  \n",
       "pat_id adm_index n_pass            \n",
       "21     1         1       0.079044  \n",
       "                 2       0.030642  \n",
       "                 3       0.037897  \n",
       "                 4       0.026199  \n",
       "                 5       0.024375  \n",
       "...                           ...  \n",
       "99756  2         11      0.038923  \n",
       "                 12      0.036896  \n",
       "                 13      0.134179  \n",
       "                 14      0.034285  \n",
       "                 15      0.069815  \n",
       "\n",
       "[29145 rows x 272 columns]"
      ]
     },
     "execution_count": 59,
     "metadata": {},
     "output_type": "execute_result"
    }
   ],
   "source": [
    "res,golden = outs2df_mc(model,val_dataloader,dataset,return_golden=True)\n",
    "res"
   ]
  },
  {
   "cell_type": "code",
   "execution_count": 35,
   "metadata": {},
   "outputs": [
    {
     "data": {
      "text/html": [
       "<div>\n",
       "<style scoped>\n",
       "    .dataframe tbody tr th:only-of-type {\n",
       "        vertical-align: middle;\n",
       "    }\n",
       "\n",
       "    .dataframe tbody tr th {\n",
       "        vertical-align: top;\n",
       "    }\n",
       "\n",
       "    .dataframe thead tr th {\n",
       "        text-align: left;\n",
       "    }\n",
       "\n",
       "    .dataframe thead tr:last-of-type th {\n",
       "        text-align: right;\n",
       "    }\n",
       "</style>\n",
       "<table border=\"1\" class=\"dataframe\">\n",
       "  <thead>\n",
       "    <tr>\n",
       "      <th></th>\n",
       "      <th></th>\n",
       "      <th colspan=\"2\" halign=\"left\">diag_0</th>\n",
       "      <th colspan=\"2\" halign=\"left\">diag_1</th>\n",
       "      <th colspan=\"2\" halign=\"left\">diag_2</th>\n",
       "      <th colspan=\"2\" halign=\"left\">diag_3</th>\n",
       "      <th colspan=\"2\" halign=\"left\">diag_4</th>\n",
       "      <th>...</th>\n",
       "      <th colspan=\"2\" halign=\"left\">diag_267</th>\n",
       "      <th colspan=\"2\" halign=\"left\">diag_268</th>\n",
       "      <th colspan=\"2\" halign=\"left\">diag_269</th>\n",
       "      <th colspan=\"2\" halign=\"left\">diag_270</th>\n",
       "      <th colspan=\"2\" halign=\"left\">diag_271</th>\n",
       "    </tr>\n",
       "    <tr>\n",
       "      <th></th>\n",
       "      <th></th>\n",
       "      <th>mean</th>\n",
       "      <th>var</th>\n",
       "      <th>mean</th>\n",
       "      <th>var</th>\n",
       "      <th>mean</th>\n",
       "      <th>var</th>\n",
       "      <th>mean</th>\n",
       "      <th>var</th>\n",
       "      <th>mean</th>\n",
       "      <th>var</th>\n",
       "      <th>...</th>\n",
       "      <th>mean</th>\n",
       "      <th>var</th>\n",
       "      <th>mean</th>\n",
       "      <th>var</th>\n",
       "      <th>mean</th>\n",
       "      <th>var</th>\n",
       "      <th>mean</th>\n",
       "      <th>var</th>\n",
       "      <th>mean</th>\n",
       "      <th>var</th>\n",
       "    </tr>\n",
       "    <tr>\n",
       "      <th>pat_id</th>\n",
       "      <th>adm_index</th>\n",
       "      <th></th>\n",
       "      <th></th>\n",
       "      <th></th>\n",
       "      <th></th>\n",
       "      <th></th>\n",
       "      <th></th>\n",
       "      <th></th>\n",
       "      <th></th>\n",
       "      <th></th>\n",
       "      <th></th>\n",
       "      <th></th>\n",
       "      <th></th>\n",
       "      <th></th>\n",
       "      <th></th>\n",
       "      <th></th>\n",
       "      <th></th>\n",
       "      <th></th>\n",
       "      <th></th>\n",
       "      <th></th>\n",
       "      <th></th>\n",
       "      <th></th>\n",
       "    </tr>\n",
       "  </thead>\n",
       "  <tbody>\n",
       "    <tr>\n",
       "      <th>21</th>\n",
       "      <th>1</th>\n",
       "      <td>0.042819</td>\n",
       "      <td>0.005386</td>\n",
       "      <td>0.296443</td>\n",
       "      <td>0.013124</td>\n",
       "      <td>0.132763</td>\n",
       "      <td>0.005358</td>\n",
       "      <td>0.142982</td>\n",
       "      <td>0.005878</td>\n",
       "      <td>0.014196</td>\n",
       "      <td>0.000522</td>\n",
       "      <td>...</td>\n",
       "      <td>0.112774</td>\n",
       "      <td>0.003515</td>\n",
       "      <td>0.004854</td>\n",
       "      <td>0.000033</td>\n",
       "      <td>0.002460</td>\n",
       "      <td>4.677378e-06</td>\n",
       "      <td>0.003000</td>\n",
       "      <td>0.000010</td>\n",
       "      <td>0.041823</td>\n",
       "      <td>0.001140</td>\n",
       "    </tr>\n",
       "    <tr>\n",
       "      <th>23</th>\n",
       "      <th>1</th>\n",
       "      <td>0.002569</td>\n",
       "      <td>0.000005</td>\n",
       "      <td>0.135196</td>\n",
       "      <td>0.006378</td>\n",
       "      <td>0.090153</td>\n",
       "      <td>0.001808</td>\n",
       "      <td>0.040959</td>\n",
       "      <td>0.000376</td>\n",
       "      <td>0.004982</td>\n",
       "      <td>0.000039</td>\n",
       "      <td>...</td>\n",
       "      <td>0.061166</td>\n",
       "      <td>0.000525</td>\n",
       "      <td>0.006482</td>\n",
       "      <td>0.000016</td>\n",
       "      <td>0.000678</td>\n",
       "      <td>6.065529e-07</td>\n",
       "      <td>0.014133</td>\n",
       "      <td>0.000053</td>\n",
       "      <td>0.050168</td>\n",
       "      <td>0.001309</td>\n",
       "    </tr>\n",
       "    <tr>\n",
       "      <th>61</th>\n",
       "      <th>1</th>\n",
       "      <td>0.005366</td>\n",
       "      <td>0.000052</td>\n",
       "      <td>0.153172</td>\n",
       "      <td>0.006460</td>\n",
       "      <td>0.056106</td>\n",
       "      <td>0.000944</td>\n",
       "      <td>0.105047</td>\n",
       "      <td>0.002437</td>\n",
       "      <td>0.015053</td>\n",
       "      <td>0.000774</td>\n",
       "      <td>...</td>\n",
       "      <td>0.085513</td>\n",
       "      <td>0.001540</td>\n",
       "      <td>0.006851</td>\n",
       "      <td>0.000043</td>\n",
       "      <td>0.000843</td>\n",
       "      <td>7.420928e-07</td>\n",
       "      <td>0.009249</td>\n",
       "      <td>0.000048</td>\n",
       "      <td>0.019389</td>\n",
       "      <td>0.000075</td>\n",
       "    </tr>\n",
       "  </tbody>\n",
       "</table>\n",
       "<p>3 rows × 544 columns</p>\n",
       "</div>"
      ],
      "text/plain": [
       "                    diag_0              diag_1              diag_2            \\\n",
       "                      mean       var      mean       var      mean       var   \n",
       "pat_id adm_index                                                               \n",
       "21     1          0.042819  0.005386  0.296443  0.013124  0.132763  0.005358   \n",
       "23     1          0.002569  0.000005  0.135196  0.006378  0.090153  0.001808   \n",
       "61     1          0.005366  0.000052  0.153172  0.006460  0.056106  0.000944   \n",
       "\n",
       "                    diag_3              diag_4            ...  diag_267  \\\n",
       "                      mean       var      mean       var  ...      mean   \n",
       "pat_id adm_index                                          ...             \n",
       "21     1          0.142982  0.005878  0.014196  0.000522  ...  0.112774   \n",
       "23     1          0.040959  0.000376  0.004982  0.000039  ...  0.061166   \n",
       "61     1          0.105047  0.002437  0.015053  0.000774  ...  0.085513   \n",
       "\n",
       "                            diag_268            diag_269                \\\n",
       "                       var      mean       var      mean           var   \n",
       "pat_id adm_index                                                         \n",
       "21     1          0.003515  0.004854  0.000033  0.002460  4.677378e-06   \n",
       "23     1          0.000525  0.006482  0.000016  0.000678  6.065529e-07   \n",
       "61     1          0.001540  0.006851  0.000043  0.000843  7.420928e-07   \n",
       "\n",
       "                  diag_270            diag_271            \n",
       "                      mean       var      mean       var  \n",
       "pat_id adm_index                                          \n",
       "21     1          0.003000  0.000010  0.041823  0.001140  \n",
       "23     1          0.014133  0.000053  0.050168  0.001309  \n",
       "61     1          0.009249  0.000048  0.019389  0.000075  \n",
       "\n",
       "[3 rows x 544 columns]"
      ]
     },
     "execution_count": 35,
     "metadata": {},
     "output_type": "execute_result"
    }
   ],
   "source": [
    "stats_res = res.groupby(['pat_id','adm_index']).agg(['mean','var'])\n",
    "stats_res.head(3)"
   ]
  },
  {
   "cell_type": "code",
   "execution_count": 37,
   "metadata": {},
   "outputs": [
    {
     "data": {
      "text/plain": [
       "diag_0      0.042819\n",
       "diag_1      0.296443\n",
       "diag_2      0.132763\n",
       "diag_3      0.142982\n",
       "diag_4      0.014196\n",
       "              ...   \n",
       "diag_267    0.112774\n",
       "diag_268    0.004854\n",
       "diag_269    0.002460\n",
       "diag_270    0.003000\n",
       "diag_271    0.041823\n",
       "Name: (21, 1), Length: 272, dtype: float32"
      ]
     },
     "execution_count": 37,
     "metadata": {},
     "output_type": "execute_result"
    }
   ],
   "source": [
    "idx = pd.IndexSlice\n",
    "stats_res.iloc[0].loc[idx[:,'mean']]"
   ]
  },
  {
   "cell_type": "code",
   "execution_count": 50,
   "metadata": {},
   "outputs": [],
   "source": [
    "k = 30\n",
    "topk_outputs = stats_res.apply(lambda row: row.loc[idx[:,'mean']].nlargest(k),axis=1)\n",
    "\n",
    "# fix missing columns from previous operation\n",
    "original_class_columns = stats_res.columns.get_level_values(0).unique()\n",
    "missing_cols = [col for col in original_class_columns if col not in topk_outputs.columns]\n",
    "topk_outputs_all_cols = pd.concat([topk_outputs,pd.DataFrame(columns=missing_cols)])\n",
    "topk_outputs_all_cols = topk_outputs_all_cols[original_class_columns]"
   ]
  },
  {
   "cell_type": "code",
   "execution_count": 53,
   "metadata": {},
   "outputs": [
    {
     "data": {
      "text/html": [
       "<div>\n",
       "<style scoped>\n",
       "    .dataframe tbody tr th:only-of-type {\n",
       "        vertical-align: middle;\n",
       "    }\n",
       "\n",
       "    .dataframe tbody tr th {\n",
       "        vertical-align: top;\n",
       "    }\n",
       "\n",
       "    .dataframe thead th {\n",
       "        text-align: right;\n",
       "    }\n",
       "</style>\n",
       "<table border=\"1\" class=\"dataframe\">\n",
       "  <thead>\n",
       "    <tr style=\"text-align: right;\">\n",
       "      <th></th>\n",
       "      <th></th>\n",
       "      <th>diag_0</th>\n",
       "      <th>diag_1</th>\n",
       "      <th>diag_2</th>\n",
       "      <th>diag_3</th>\n",
       "      <th>diag_4</th>\n",
       "      <th>diag_5</th>\n",
       "      <th>diag_6</th>\n",
       "      <th>diag_7</th>\n",
       "      <th>diag_8</th>\n",
       "      <th>diag_9</th>\n",
       "      <th>...</th>\n",
       "      <th>diag_262</th>\n",
       "      <th>diag_263</th>\n",
       "      <th>diag_264</th>\n",
       "      <th>diag_265</th>\n",
       "      <th>diag_266</th>\n",
       "      <th>diag_267</th>\n",
       "      <th>diag_268</th>\n",
       "      <th>diag_269</th>\n",
       "      <th>diag_270</th>\n",
       "      <th>diag_271</th>\n",
       "    </tr>\n",
       "    <tr>\n",
       "      <th>pat_id</th>\n",
       "      <th>adm_index</th>\n",
       "      <th></th>\n",
       "      <th></th>\n",
       "      <th></th>\n",
       "      <th></th>\n",
       "      <th></th>\n",
       "      <th></th>\n",
       "      <th></th>\n",
       "      <th></th>\n",
       "      <th></th>\n",
       "      <th></th>\n",
       "      <th></th>\n",
       "      <th></th>\n",
       "      <th></th>\n",
       "      <th></th>\n",
       "      <th></th>\n",
       "      <th></th>\n",
       "      <th></th>\n",
       "      <th></th>\n",
       "      <th></th>\n",
       "      <th></th>\n",
       "      <th></th>\n",
       "    </tr>\n",
       "  </thead>\n",
       "  <tbody>\n",
       "    <tr>\n",
       "      <th>21</th>\n",
       "      <th>1</th>\n",
       "      <td>NaN</td>\n",
       "      <td>0.296443</td>\n",
       "      <td>NaN</td>\n",
       "      <td>NaN</td>\n",
       "      <td>NaN</td>\n",
       "      <td>NaN</td>\n",
       "      <td>NaN</td>\n",
       "      <td>NaN</td>\n",
       "      <td>NaN</td>\n",
       "      <td>NaN</td>\n",
       "      <td>...</td>\n",
       "      <td>NaN</td>\n",
       "      <td>NaN</td>\n",
       "      <td>NaN</td>\n",
       "      <td>NaN</td>\n",
       "      <td>NaN</td>\n",
       "      <td>NaN</td>\n",
       "      <td>NaN</td>\n",
       "      <td>NaN</td>\n",
       "      <td>NaN</td>\n",
       "      <td>NaN</td>\n",
       "    </tr>\n",
       "    <tr>\n",
       "      <th>23</th>\n",
       "      <th>1</th>\n",
       "      <td>NaN</td>\n",
       "      <td>0.135196</td>\n",
       "      <td>NaN</td>\n",
       "      <td>NaN</td>\n",
       "      <td>NaN</td>\n",
       "      <td>NaN</td>\n",
       "      <td>NaN</td>\n",
       "      <td>NaN</td>\n",
       "      <td>NaN</td>\n",
       "      <td>NaN</td>\n",
       "      <td>...</td>\n",
       "      <td>NaN</td>\n",
       "      <td>NaN</td>\n",
       "      <td>NaN</td>\n",
       "      <td>NaN</td>\n",
       "      <td>0.195936</td>\n",
       "      <td>NaN</td>\n",
       "      <td>NaN</td>\n",
       "      <td>NaN</td>\n",
       "      <td>NaN</td>\n",
       "      <td>NaN</td>\n",
       "    </tr>\n",
       "    <tr>\n",
       "      <th>61</th>\n",
       "      <th>1</th>\n",
       "      <td>NaN</td>\n",
       "      <td>0.153172</td>\n",
       "      <td>NaN</td>\n",
       "      <td>0.105047</td>\n",
       "      <td>NaN</td>\n",
       "      <td>NaN</td>\n",
       "      <td>NaN</td>\n",
       "      <td>NaN</td>\n",
       "      <td>NaN</td>\n",
       "      <td>NaN</td>\n",
       "      <td>...</td>\n",
       "      <td>NaN</td>\n",
       "      <td>NaN</td>\n",
       "      <td>NaN</td>\n",
       "      <td>NaN</td>\n",
       "      <td>0.131463</td>\n",
       "      <td>0.085513</td>\n",
       "      <td>NaN</td>\n",
       "      <td>NaN</td>\n",
       "      <td>NaN</td>\n",
       "      <td>NaN</td>\n",
       "    </tr>\n",
       "  </tbody>\n",
       "</table>\n",
       "<p>3 rows × 272 columns</p>\n",
       "</div>"
      ],
      "text/plain": [
       "                  diag_0    diag_1  diag_2    diag_3  diag_4  diag_5  diag_6  \\\n",
       "pat_id adm_index                                                               \n",
       "21     1             NaN  0.296443     NaN       NaN     NaN     NaN     NaN   \n",
       "23     1             NaN  0.135196     NaN       NaN     NaN     NaN     NaN   \n",
       "61     1             NaN  0.153172     NaN  0.105047     NaN     NaN     NaN   \n",
       "\n",
       "                  diag_7 diag_8  diag_9  ...  diag_262  diag_263  diag_264  \\\n",
       "pat_id adm_index                         ...                                 \n",
       "21     1             NaN    NaN     NaN  ...       NaN       NaN       NaN   \n",
       "23     1             NaN    NaN     NaN  ...       NaN       NaN       NaN   \n",
       "61     1             NaN    NaN     NaN  ...       NaN       NaN       NaN   \n",
       "\n",
       "                  diag_265  diag_266  diag_267  diag_268  diag_269  diag_270  \\\n",
       "pat_id adm_index                                                               \n",
       "21     1               NaN       NaN       NaN       NaN       NaN       NaN   \n",
       "23     1               NaN  0.195936       NaN       NaN       NaN       NaN   \n",
       "61     1               NaN  0.131463  0.085513       NaN       NaN       NaN   \n",
       "\n",
       "                 diag_271  \n",
       "pat_id adm_index           \n",
       "21     1              NaN  \n",
       "23     1              NaN  \n",
       "61     1              NaN  \n",
       "\n",
       "[3 rows x 272 columns]"
      ]
     },
     "execution_count": 53,
     "metadata": {},
     "output_type": "execute_result"
    }
   ],
   "source": [
    "topk_outputs_all_cols.head(3)"
   ]
  },
  {
   "cell_type": "code",
   "execution_count": 57,
   "metadata": {},
   "outputs": [
    {
     "data": {
      "text/html": [
       "<div>\n",
       "<style scoped>\n",
       "    .dataframe tbody tr th:only-of-type {\n",
       "        vertical-align: middle;\n",
       "    }\n",
       "\n",
       "    .dataframe tbody tr th {\n",
       "        vertical-align: top;\n",
       "    }\n",
       "\n",
       "    .dataframe thead th {\n",
       "        text-align: right;\n",
       "    }\n",
       "</style>\n",
       "<table border=\"1\" class=\"dataframe\">\n",
       "  <thead>\n",
       "    <tr style=\"text-align: right;\">\n",
       "      <th></th>\n",
       "      <th></th>\n",
       "      <th>diag_0</th>\n",
       "      <th>diag_1</th>\n",
       "      <th>diag_2</th>\n",
       "      <th>diag_3</th>\n",
       "      <th>diag_4</th>\n",
       "      <th>diag_5</th>\n",
       "      <th>diag_6</th>\n",
       "      <th>diag_7</th>\n",
       "      <th>diag_8</th>\n",
       "      <th>diag_9</th>\n",
       "      <th>...</th>\n",
       "      <th>diag_262</th>\n",
       "      <th>diag_263</th>\n",
       "      <th>diag_264</th>\n",
       "      <th>diag_265</th>\n",
       "      <th>diag_266</th>\n",
       "      <th>diag_267</th>\n",
       "      <th>diag_268</th>\n",
       "      <th>diag_269</th>\n",
       "      <th>diag_270</th>\n",
       "      <th>diag_271</th>\n",
       "    </tr>\n",
       "    <tr>\n",
       "      <th>pat_id</th>\n",
       "      <th>adm_index</th>\n",
       "      <th></th>\n",
       "      <th></th>\n",
       "      <th></th>\n",
       "      <th></th>\n",
       "      <th></th>\n",
       "      <th></th>\n",
       "      <th></th>\n",
       "      <th></th>\n",
       "      <th></th>\n",
       "      <th></th>\n",
       "      <th></th>\n",
       "      <th></th>\n",
       "      <th></th>\n",
       "      <th></th>\n",
       "      <th></th>\n",
       "      <th></th>\n",
       "      <th></th>\n",
       "      <th></th>\n",
       "      <th></th>\n",
       "      <th></th>\n",
       "      <th></th>\n",
       "    </tr>\n",
       "  </thead>\n",
       "  <tbody>\n",
       "    <tr>\n",
       "      <th>21</th>\n",
       "      <th>1</th>\n",
       "      <td>0</td>\n",
       "      <td>1</td>\n",
       "      <td>0</td>\n",
       "      <td>0</td>\n",
       "      <td>0</td>\n",
       "      <td>0</td>\n",
       "      <td>0</td>\n",
       "      <td>0</td>\n",
       "      <td>0</td>\n",
       "      <td>0</td>\n",
       "      <td>...</td>\n",
       "      <td>0</td>\n",
       "      <td>0</td>\n",
       "      <td>0</td>\n",
       "      <td>0</td>\n",
       "      <td>0</td>\n",
       "      <td>0</td>\n",
       "      <td>0</td>\n",
       "      <td>0</td>\n",
       "      <td>0</td>\n",
       "      <td>0</td>\n",
       "    </tr>\n",
       "    <tr>\n",
       "      <th>23</th>\n",
       "      <th>1</th>\n",
       "      <td>0</td>\n",
       "      <td>1</td>\n",
       "      <td>0</td>\n",
       "      <td>0</td>\n",
       "      <td>0</td>\n",
       "      <td>0</td>\n",
       "      <td>0</td>\n",
       "      <td>0</td>\n",
       "      <td>0</td>\n",
       "      <td>0</td>\n",
       "      <td>...</td>\n",
       "      <td>0</td>\n",
       "      <td>0</td>\n",
       "      <td>0</td>\n",
       "      <td>0</td>\n",
       "      <td>1</td>\n",
       "      <td>0</td>\n",
       "      <td>0</td>\n",
       "      <td>0</td>\n",
       "      <td>0</td>\n",
       "      <td>0</td>\n",
       "    </tr>\n",
       "    <tr>\n",
       "      <th>61</th>\n",
       "      <th>1</th>\n",
       "      <td>0</td>\n",
       "      <td>1</td>\n",
       "      <td>0</td>\n",
       "      <td>1</td>\n",
       "      <td>0</td>\n",
       "      <td>0</td>\n",
       "      <td>0</td>\n",
       "      <td>0</td>\n",
       "      <td>0</td>\n",
       "      <td>0</td>\n",
       "      <td>...</td>\n",
       "      <td>0</td>\n",
       "      <td>0</td>\n",
       "      <td>0</td>\n",
       "      <td>0</td>\n",
       "      <td>1</td>\n",
       "      <td>1</td>\n",
       "      <td>0</td>\n",
       "      <td>0</td>\n",
       "      <td>0</td>\n",
       "      <td>0</td>\n",
       "    </tr>\n",
       "  </tbody>\n",
       "</table>\n",
       "<p>3 rows × 272 columns</p>\n",
       "</div>"
      ],
      "text/plain": [
       "                  diag_0  diag_1  diag_2  diag_3  diag_4  diag_5  diag_6  \\\n",
       "pat_id adm_index                                                           \n",
       "21     1               0       1       0       0       0       0       0   \n",
       "23     1               0       1       0       0       0       0       0   \n",
       "61     1               0       1       0       1       0       0       0   \n",
       "\n",
       "                  diag_7  diag_8  diag_9  ...  diag_262  diag_263  diag_264  \\\n",
       "pat_id adm_index                          ...                                 \n",
       "21     1               0       0       0  ...         0         0         0   \n",
       "23     1               0       0       0  ...         0         0         0   \n",
       "61     1               0       0       0  ...         0         0         0   \n",
       "\n",
       "                  diag_265  diag_266  diag_267  diag_268  diag_269  diag_270  \\\n",
       "pat_id adm_index                                                               \n",
       "21     1                 0         0         0         0         0         0   \n",
       "23     1                 0         1         0         0         0         0   \n",
       "61     1                 0         1         1         0         0         0   \n",
       "\n",
       "                  diag_271  \n",
       "pat_id adm_index            \n",
       "21     1                 0  \n",
       "23     1                 0  \n",
       "61     1                 0  \n",
       "\n",
       "[3 rows x 272 columns]"
      ]
     },
     "execution_count": 57,
     "metadata": {},
     "output_type": "execute_result"
    }
   ],
   "source": [
    "topk_predictions = np.where(topk_outputs_all_cols.isna(),0,1)\n",
    "topk_predictions = pd.DataFrame(data=topk_predictions,columns=original_class_columns,index=stats_res.index)\n",
    "topk_predictions.head(3)"
   ]
  },
  {
   "cell_type": "code",
   "execution_count": 60,
   "metadata": {},
   "outputs": [],
   "source": [
    "TP = (topk_predictions == 1) & (golden == 1)\n",
    "FP = (topk_predictions == 1) & (golden == 0)"
   ]
  },
  {
   "cell_type": "code",
   "execution_count": 67,
   "metadata": {},
   "outputs": [
    {
     "data": {
      "text/html": [
       "<div>\n",
       "<style scoped>\n",
       "    .dataframe tbody tr th:only-of-type {\n",
       "        vertical-align: middle;\n",
       "    }\n",
       "\n",
       "    .dataframe tbody tr th {\n",
       "        vertical-align: top;\n",
       "    }\n",
       "\n",
       "    .dataframe thead th {\n",
       "        text-align: right;\n",
       "    }\n",
       "</style>\n",
       "<table border=\"1\" class=\"dataframe\">\n",
       "  <thead>\n",
       "    <tr style=\"text-align: right;\">\n",
       "      <th></th>\n",
       "      <th></th>\n",
       "      <th>diag_0</th>\n",
       "      <th>diag_1</th>\n",
       "      <th>diag_2</th>\n",
       "      <th>diag_3</th>\n",
       "      <th>diag_4</th>\n",
       "      <th>diag_5</th>\n",
       "      <th>diag_6</th>\n",
       "      <th>diag_7</th>\n",
       "      <th>diag_8</th>\n",
       "      <th>diag_9</th>\n",
       "      <th>...</th>\n",
       "      <th>diag_262</th>\n",
       "      <th>diag_263</th>\n",
       "      <th>diag_264</th>\n",
       "      <th>diag_265</th>\n",
       "      <th>diag_266</th>\n",
       "      <th>diag_267</th>\n",
       "      <th>diag_268</th>\n",
       "      <th>diag_269</th>\n",
       "      <th>diag_270</th>\n",
       "      <th>diag_271</th>\n",
       "    </tr>\n",
       "    <tr>\n",
       "      <th>pat_id</th>\n",
       "      <th>adm_index</th>\n",
       "      <th></th>\n",
       "      <th></th>\n",
       "      <th></th>\n",
       "      <th></th>\n",
       "      <th></th>\n",
       "      <th></th>\n",
       "      <th></th>\n",
       "      <th></th>\n",
       "      <th></th>\n",
       "      <th></th>\n",
       "      <th></th>\n",
       "      <th></th>\n",
       "      <th></th>\n",
       "      <th></th>\n",
       "      <th></th>\n",
       "      <th></th>\n",
       "      <th></th>\n",
       "      <th></th>\n",
       "      <th></th>\n",
       "      <th></th>\n",
       "      <th></th>\n",
       "    </tr>\n",
       "  </thead>\n",
       "  <tbody>\n",
       "    <tr>\n",
       "      <th>21</th>\n",
       "      <th>1</th>\n",
       "      <td>0.005386</td>\n",
       "      <td>0.013124</td>\n",
       "      <td>0.005358</td>\n",
       "      <td>0.005878</td>\n",
       "      <td>0.000522</td>\n",
       "      <td>0.000694</td>\n",
       "      <td>0.000123</td>\n",
       "      <td>0.000072</td>\n",
       "      <td>2.740558e-06</td>\n",
       "      <td>0.001616</td>\n",
       "      <td>...</td>\n",
       "      <td>6.732586e-08</td>\n",
       "      <td>0.000024</td>\n",
       "      <td>1.453951e-08</td>\n",
       "      <td>0.000098</td>\n",
       "      <td>0.004375</td>\n",
       "      <td>0.003515</td>\n",
       "      <td>0.000033</td>\n",
       "      <td>4.677378e-06</td>\n",
       "      <td>0.000010</td>\n",
       "      <td>0.001140</td>\n",
       "    </tr>\n",
       "    <tr>\n",
       "      <th>23</th>\n",
       "      <th>1</th>\n",
       "      <td>0.000005</td>\n",
       "      <td>0.006378</td>\n",
       "      <td>0.001808</td>\n",
       "      <td>0.000376</td>\n",
       "      <td>0.000039</td>\n",
       "      <td>0.000047</td>\n",
       "      <td>0.000324</td>\n",
       "      <td>0.000018</td>\n",
       "      <td>6.956041e-06</td>\n",
       "      <td>0.000981</td>\n",
       "      <td>...</td>\n",
       "      <td>2.044335e-07</td>\n",
       "      <td>0.000008</td>\n",
       "      <td>6.073514e-07</td>\n",
       "      <td>0.000003</td>\n",
       "      <td>0.010382</td>\n",
       "      <td>0.000525</td>\n",
       "      <td>0.000016</td>\n",
       "      <td>6.065529e-07</td>\n",
       "      <td>0.000053</td>\n",
       "      <td>0.001309</td>\n",
       "    </tr>\n",
       "    <tr>\n",
       "      <th>61</th>\n",
       "      <th>1</th>\n",
       "      <td>0.000052</td>\n",
       "      <td>0.006460</td>\n",
       "      <td>0.000944</td>\n",
       "      <td>0.002437</td>\n",
       "      <td>0.000774</td>\n",
       "      <td>0.000486</td>\n",
       "      <td>0.004798</td>\n",
       "      <td>0.000109</td>\n",
       "      <td>5.114800e-07</td>\n",
       "      <td>0.000838</td>\n",
       "      <td>...</td>\n",
       "      <td>1.855225e-07</td>\n",
       "      <td>0.000003</td>\n",
       "      <td>4.349718e-08</td>\n",
       "      <td>0.000005</td>\n",
       "      <td>0.003392</td>\n",
       "      <td>0.001540</td>\n",
       "      <td>0.000043</td>\n",
       "      <td>7.420928e-07</td>\n",
       "      <td>0.000048</td>\n",
       "      <td>0.000075</td>\n",
       "    </tr>\n",
       "  </tbody>\n",
       "</table>\n",
       "<p>3 rows × 272 columns</p>\n",
       "</div>"
      ],
      "text/plain": [
       "                    diag_0    diag_1    diag_2    diag_3    diag_4    diag_5  \\\n",
       "pat_id adm_index                                                               \n",
       "21     1          0.005386  0.013124  0.005358  0.005878  0.000522  0.000694   \n",
       "23     1          0.000005  0.006378  0.001808  0.000376  0.000039  0.000047   \n",
       "61     1          0.000052  0.006460  0.000944  0.002437  0.000774  0.000486   \n",
       "\n",
       "                    diag_6    diag_7        diag_8    diag_9  ...  \\\n",
       "pat_id adm_index                                              ...   \n",
       "21     1          0.000123  0.000072  2.740558e-06  0.001616  ...   \n",
       "23     1          0.000324  0.000018  6.956041e-06  0.000981  ...   \n",
       "61     1          0.004798  0.000109  5.114800e-07  0.000838  ...   \n",
       "\n",
       "                      diag_262  diag_263      diag_264  diag_265  diag_266  \\\n",
       "pat_id adm_index                                                             \n",
       "21     1          6.732586e-08  0.000024  1.453951e-08  0.000098  0.004375   \n",
       "23     1          2.044335e-07  0.000008  6.073514e-07  0.000003  0.010382   \n",
       "61     1          1.855225e-07  0.000003  4.349718e-08  0.000005  0.003392   \n",
       "\n",
       "                  diag_267  diag_268      diag_269  diag_270  diag_271  \n",
       "pat_id adm_index                                                        \n",
       "21     1          0.003515  0.000033  4.677378e-06  0.000010  0.001140  \n",
       "23     1          0.000525  0.000016  6.065529e-07  0.000053  0.001309  \n",
       "61     1          0.001540  0.000043  7.420928e-07  0.000048  0.000075  \n",
       "\n",
       "[3 rows x 272 columns]"
      ]
     },
     "execution_count": 67,
     "metadata": {},
     "output_type": "execute_result"
    }
   ],
   "source": [
    "variances = stats_res.loc[idx[:,:],idx[:,'var']]\n",
    "variances.columns = variances.columns.get_level_values(0)\n",
    "variances.head(3)"
   ]
  },
  {
   "cell_type": "code",
   "execution_count": 93,
   "metadata": {},
   "outputs": [
    {
     "data": {
      "text/html": [
       "<div>\n",
       "<style scoped>\n",
       "    .dataframe tbody tr th:only-of-type {\n",
       "        vertical-align: middle;\n",
       "    }\n",
       "\n",
       "    .dataframe tbody tr th {\n",
       "        vertical-align: top;\n",
       "    }\n",
       "\n",
       "    .dataframe thead th {\n",
       "        text-align: right;\n",
       "    }\n",
       "</style>\n",
       "<table border=\"1\" class=\"dataframe\">\n",
       "  <thead>\n",
       "    <tr style=\"text-align: right;\">\n",
       "      <th></th>\n",
       "      <th></th>\n",
       "      <th>diag_0</th>\n",
       "      <th>diag_1</th>\n",
       "      <th>diag_2</th>\n",
       "      <th>diag_3</th>\n",
       "      <th>diag_4</th>\n",
       "      <th>diag_5</th>\n",
       "      <th>diag_6</th>\n",
       "      <th>diag_7</th>\n",
       "      <th>diag_8</th>\n",
       "      <th>diag_9</th>\n",
       "      <th>...</th>\n",
       "      <th>diag_262</th>\n",
       "      <th>diag_263</th>\n",
       "      <th>diag_264</th>\n",
       "      <th>diag_265</th>\n",
       "      <th>diag_266</th>\n",
       "      <th>diag_267</th>\n",
       "      <th>diag_268</th>\n",
       "      <th>diag_269</th>\n",
       "      <th>diag_270</th>\n",
       "      <th>diag_271</th>\n",
       "    </tr>\n",
       "    <tr>\n",
       "      <th>pat_id</th>\n",
       "      <th>adm_index</th>\n",
       "      <th></th>\n",
       "      <th></th>\n",
       "      <th></th>\n",
       "      <th></th>\n",
       "      <th></th>\n",
       "      <th></th>\n",
       "      <th></th>\n",
       "      <th></th>\n",
       "      <th></th>\n",
       "      <th></th>\n",
       "      <th></th>\n",
       "      <th></th>\n",
       "      <th></th>\n",
       "      <th></th>\n",
       "      <th></th>\n",
       "      <th></th>\n",
       "      <th></th>\n",
       "      <th></th>\n",
       "      <th></th>\n",
       "      <th></th>\n",
       "      <th></th>\n",
       "    </tr>\n",
       "  </thead>\n",
       "  <tbody>\n",
       "    <tr>\n",
       "      <th>21</th>\n",
       "      <th>1</th>\n",
       "      <td>0.042819</td>\n",
       "      <td>0.296443</td>\n",
       "      <td>0.132763</td>\n",
       "      <td>0.142982</td>\n",
       "      <td>0.014196</td>\n",
       "      <td>0.030856</td>\n",
       "      <td>0.009698</td>\n",
       "      <td>0.005205</td>\n",
       "      <td>0.001681</td>\n",
       "      <td>0.051541</td>\n",
       "      <td>...</td>\n",
       "      <td>0.000346</td>\n",
       "      <td>0.006615</td>\n",
       "      <td>0.000143</td>\n",
       "      <td>0.010109</td>\n",
       "      <td>0.108961</td>\n",
       "      <td>0.112774</td>\n",
       "      <td>0.004854</td>\n",
       "      <td>0.002460</td>\n",
       "      <td>0.003000</td>\n",
       "      <td>0.041823</td>\n",
       "    </tr>\n",
       "    <tr>\n",
       "      <th>23</th>\n",
       "      <th>1</th>\n",
       "      <td>0.002569</td>\n",
       "      <td>0.135196</td>\n",
       "      <td>0.090153</td>\n",
       "      <td>0.040959</td>\n",
       "      <td>0.004982</td>\n",
       "      <td>0.005615</td>\n",
       "      <td>0.026959</td>\n",
       "      <td>0.003318</td>\n",
       "      <td>0.002684</td>\n",
       "      <td>0.029185</td>\n",
       "      <td>...</td>\n",
       "      <td>0.000491</td>\n",
       "      <td>0.002535</td>\n",
       "      <td>0.000753</td>\n",
       "      <td>0.001931</td>\n",
       "      <td>0.195936</td>\n",
       "      <td>0.061166</td>\n",
       "      <td>0.006482</td>\n",
       "      <td>0.000678</td>\n",
       "      <td>0.014133</td>\n",
       "      <td>0.050168</td>\n",
       "    </tr>\n",
       "    <tr>\n",
       "      <th>61</th>\n",
       "      <th>1</th>\n",
       "      <td>0.005366</td>\n",
       "      <td>0.153172</td>\n",
       "      <td>0.056106</td>\n",
       "      <td>0.105047</td>\n",
       "      <td>0.015053</td>\n",
       "      <td>0.018926</td>\n",
       "      <td>0.061867</td>\n",
       "      <td>0.012876</td>\n",
       "      <td>0.000856</td>\n",
       "      <td>0.036997</td>\n",
       "      <td>...</td>\n",
       "      <td>0.000474</td>\n",
       "      <td>0.002399</td>\n",
       "      <td>0.000243</td>\n",
       "      <td>0.001746</td>\n",
       "      <td>0.131463</td>\n",
       "      <td>0.085513</td>\n",
       "      <td>0.006851</td>\n",
       "      <td>0.000843</td>\n",
       "      <td>0.009249</td>\n",
       "      <td>0.019389</td>\n",
       "    </tr>\n",
       "  </tbody>\n",
       "</table>\n",
       "<p>3 rows × 272 columns</p>\n",
       "</div>"
      ],
      "text/plain": [
       "                    diag_0    diag_1    diag_2    diag_3    diag_4    diag_5  \\\n",
       "pat_id adm_index                                                               \n",
       "21     1          0.042819  0.296443  0.132763  0.142982  0.014196  0.030856   \n",
       "23     1          0.002569  0.135196  0.090153  0.040959  0.004982  0.005615   \n",
       "61     1          0.005366  0.153172  0.056106  0.105047  0.015053  0.018926   \n",
       "\n",
       "                    diag_6    diag_7    diag_8    diag_9  ...  diag_262  \\\n",
       "pat_id adm_index                                          ...             \n",
       "21     1          0.009698  0.005205  0.001681  0.051541  ...  0.000346   \n",
       "23     1          0.026959  0.003318  0.002684  0.029185  ...  0.000491   \n",
       "61     1          0.061867  0.012876  0.000856  0.036997  ...  0.000474   \n",
       "\n",
       "                  diag_263  diag_264  diag_265  diag_266  diag_267  diag_268  \\\n",
       "pat_id adm_index                                                               \n",
       "21     1          0.006615  0.000143  0.010109  0.108961  0.112774  0.004854   \n",
       "23     1          0.002535  0.000753  0.001931  0.195936  0.061166  0.006482   \n",
       "61     1          0.002399  0.000243  0.001746  0.131463  0.085513  0.006851   \n",
       "\n",
       "                  diag_269  diag_270  diag_271  \n",
       "pat_id adm_index                                \n",
       "21     1          0.002460  0.003000  0.041823  \n",
       "23     1          0.000678  0.014133  0.050168  \n",
       "61     1          0.000843  0.009249  0.019389  \n",
       "\n",
       "[3 rows x 272 columns]"
      ]
     },
     "execution_count": 93,
     "metadata": {},
     "output_type": "execute_result"
    }
   ],
   "source": [
    "means = stats_res.loc[idx[:,:],idx[:,'mean']]\n",
    "means.columns = means.columns.get_level_values(0)\n",
    "means.head(3)"
   ]
  },
  {
   "cell_type": "code",
   "execution_count": 94,
   "metadata": {},
   "outputs": [],
   "source": [
    "tp_variances = variances.where(TP,np.nan)\n",
    "fp_variances = variances.where(FP,np.nan)\n",
    "\n",
    "tp_means = means.where(TP,np.nan)\n",
    "fp_means = means.where(FP,np.nan)"
   ]
  },
  {
   "cell_type": "code",
   "execution_count": 103,
   "metadata": {},
   "outputs": [
    {
     "data": {
      "text/plain": [
       "<AxesSubplot:>"
      ]
     },
     "execution_count": 103,
     "metadata": {},
     "output_type": "execute_result"
    },
    {
     "data": {
      "image/png": "[encoded data removed]",
      "text/plain": [
       "<Figure size 432x288 with 1 Axes>"
      ]
     },
     "metadata": {
      "needs_background": "light"
     },
     "output_type": "display_data"
    }
   ],
   "source": [
    "plt.subplot(1,2,1)"
   ]
  },
  {
   "cell_type": "code",
   "execution_count": 118,
   "metadata": {},
   "outputs": [
    {
     "data": {
      "image/png": "[encoded data removed]",
      "text/plain": [
       "<Figure size 432x288 with 2 Axes>"
      ]
     },
     "metadata": {
      "needs_background": "light"
     },
     "output_type": "display_data"
    }
   ],
   "source": [
    "#parameter\n",
    "diag = 137\n",
    "\n",
    "\n",
    "diag_col = f'diag_{diag}'\n",
    "plt.subplot(1,2,1)\n",
    "tp_means[diag_col].plot.kde(label='True positives');\n",
    "fp_means[diag_col].plot.kde(label='False positives');\n",
    "plt.title(f'distribution in mean forward_pass of diag {diag}');\n",
    "plt.legend();\n",
    "#plt.show();\n",
    "plt.subplots_adjust(right=2) \n",
    "plt.subplot(1,2,2)\n",
    "tp_variances[diag_col].plot.kde(label='True positives');\n",
    "fp_variances[diag_col].plot.kde(label='False positives');\n",
    "plt.title(f'distribution in variance of the forward_pass of diag {diag}');\n",
    "plt.legend();"
   ]
  },
  {
   "cell_type": "markdown",
   "metadata": {},
   "source": [
    "# Model whether a prediction will be FP or TP"
   ]
  },
  {
   "cell_type": "markdown",
   "metadata": {},
   "source": [
    "# Dumb classifier\n",
    "\n",
    "since some diagnostics won't have enough data to train a model on, we will use 'dumb' classifiers to keep the pipeline consistent. These classifiers will always predict the positive class"
   ]
  },
  {
   "cell_type": "code",
   "execution_count": 248,
   "metadata": {},
   "outputs": [
    {
     "data": {
      "text/plain": [
       "Pipeline(steps=[('dumbclassifier', DumbClassifier())])"
      ]
     },
     "execution_count": 248,
     "metadata": {},
     "output_type": "execute_result"
    },
    {
     "data": {
      "text/plain": [
       "array([0, 0, 0, 0, 0])"
      ]
     },
     "execution_count": 248,
     "metadata": {},
     "output_type": "execute_result"
    }
   ],
   "source": [
    "from sklearn.base import BaseEstimator, ClassifierMixin\n",
    "from sklearn.utils.validation import check_X_y, check_array, check_is_fitted\n",
    "from sklearn.utils.multiclass import unique_labels\n",
    "\n",
    "class DumbClassifier(BaseEstimator, ClassifierMixin):\n",
    "\n",
    "    def __init__(self):\n",
    "        pass\n",
    "    def fit(self, X, y):\n",
    "        # Check that X and y have correct shape\n",
    "        #X, y = check_X_y(X, y)\n",
    "        # Store the classes seen during fit\n",
    "        #self.classes_ = unique_labels(y)\n",
    "        #self.X_ = X\n",
    "        #self.y_ = y\n",
    "        # Return the classifier\n",
    "        return self\n",
    "\n",
    "    def predict(self, X):\n",
    "         # Check if fit has been called\n",
    "        #check_is_fitted(self)\n",
    "        \n",
    "        # Input validation\n",
    "        #X = check_array(X)\n",
    "        y = np.zeros(shape=(X.shape[0],),dtype=int)\n",
    "        return y\n",
    "\n",
    "# test this out\n",
    "from sklearn.pipeline import make_pipeline\n",
    "\n",
    "X = np.ones(shape=(5,5))\n",
    "y = np.random.randint(0,2,size=(5,))\n",
    "\n",
    "pipe = make_pipeline(DumbClassifier())\n",
    "\n",
    "pipe.fit(X,y)\n",
    "pipe.predict(X) # Expecting all ones"
   ]
  },
  {
   "cell_type": "markdown",
   "metadata": {},
   "source": [
    "# Build dataset\n",
    "\n",
    "we shall build the dataset using the validation set (from the original train-val-test split).\n",
    "\n",
    "We need:\n",
    "1. obtain predictions on the validation set\n",
    "2. gather all TP and FP examples\n",
    "3. construct N tabular datasets (one for each diagnostic)\n",
    "4. split each into train-test\n",
    "5. train and test classifier\n",
    "    1. metric should be precision, recall and f1"
   ]
  },
  {
   "cell_type": "code",
   "execution_count": 249,
   "metadata": {},
   "outputs": [],
   "source": [
    "outs, golden = outs2df_mc(model,val_dataloader,dataset,return_golden=True)"
   ]
  },
  {
   "cell_type": "code",
   "execution_count": 250,
   "metadata": {},
   "outputs": [
    {
     "data": {
      "text/html": [
       "<div>\n",
       "<style scoped>\n",
       "    .dataframe tbody tr th:only-of-type {\n",
       "        vertical-align: middle;\n",
       "    }\n",
       "\n",
       "    .dataframe tbody tr th {\n",
       "        vertical-align: top;\n",
       "    }\n",
       "\n",
       "    .dataframe thead th {\n",
       "        text-align: right;\n",
       "    }\n",
       "</style>\n",
       "<table border=\"1\" class=\"dataframe\">\n",
       "  <thead>\n",
       "    <tr style=\"text-align: right;\">\n",
       "      <th></th>\n",
       "      <th></th>\n",
       "      <th>diag_0</th>\n",
       "      <th>diag_1</th>\n",
       "      <th>diag_2</th>\n",
       "      <th>diag_3</th>\n",
       "      <th>diag_4</th>\n",
       "      <th>diag_5</th>\n",
       "      <th>diag_6</th>\n",
       "      <th>diag_7</th>\n",
       "      <th>diag_8</th>\n",
       "      <th>diag_9</th>\n",
       "      <th>...</th>\n",
       "      <th>diag_262</th>\n",
       "      <th>diag_263</th>\n",
       "      <th>diag_264</th>\n",
       "      <th>diag_265</th>\n",
       "      <th>diag_266</th>\n",
       "      <th>diag_267</th>\n",
       "      <th>diag_268</th>\n",
       "      <th>diag_269</th>\n",
       "      <th>diag_270</th>\n",
       "      <th>diag_271</th>\n",
       "    </tr>\n",
       "    <tr>\n",
       "      <th>pat_id</th>\n",
       "      <th>adm_index</th>\n",
       "      <th></th>\n",
       "      <th></th>\n",
       "      <th></th>\n",
       "      <th></th>\n",
       "      <th></th>\n",
       "      <th></th>\n",
       "      <th></th>\n",
       "      <th></th>\n",
       "      <th></th>\n",
       "      <th></th>\n",
       "      <th></th>\n",
       "      <th></th>\n",
       "      <th></th>\n",
       "      <th></th>\n",
       "      <th></th>\n",
       "      <th></th>\n",
       "      <th></th>\n",
       "      <th></th>\n",
       "      <th></th>\n",
       "      <th></th>\n",
       "      <th></th>\n",
       "    </tr>\n",
       "  </thead>\n",
       "  <tbody>\n",
       "    <tr>\n",
       "      <th>21</th>\n",
       "      <th>1</th>\n",
       "      <td>0.041914</td>\n",
       "      <td>0.31054</td>\n",
       "      <td>0.161384</td>\n",
       "      <td>0.175384</td>\n",
       "      <td>0.043563</td>\n",
       "      <td>0.091752</td>\n",
       "      <td>0.013618</td>\n",
       "      <td>0.008234</td>\n",
       "      <td>0.00364</td>\n",
       "      <td>0.058517</td>\n",
       "      <td>...</td>\n",
       "      <td>0.000841</td>\n",
       "      <td>0.013482</td>\n",
       "      <td>0.000462</td>\n",
       "      <td>0.013974</td>\n",
       "      <td>0.121939</td>\n",
       "      <td>0.132394</td>\n",
       "      <td>0.007967</td>\n",
       "      <td>0.008295</td>\n",
       "      <td>0.004178</td>\n",
       "      <td>0.04441</td>\n",
       "    </tr>\n",
       "  </tbody>\n",
       "</table>\n",
       "<p>1 rows × 272 columns</p>\n",
       "</div>"
      ],
      "text/plain": [
       "                    diag_0   diag_1    diag_2    diag_3    diag_4    diag_5  \\\n",
       "pat_id adm_index                                                              \n",
       "21     1          0.041914  0.31054  0.161384  0.175384  0.043563  0.091752   \n",
       "\n",
       "                    diag_6    diag_7   diag_8    diag_9  ...  diag_262  \\\n",
       "pat_id adm_index                                         ...             \n",
       "21     1          0.013618  0.008234  0.00364  0.058517  ...  0.000841   \n",
       "\n",
       "                  diag_263  diag_264  diag_265  diag_266  diag_267  diag_268  \\\n",
       "pat_id adm_index                                                               \n",
       "21     1          0.013482  0.000462  0.013974  0.121939  0.132394  0.007967   \n",
       "\n",
       "                  diag_269  diag_270  diag_271  \n",
       "pat_id adm_index                                \n",
       "21     1          0.008295  0.004178   0.04441  \n",
       "\n",
       "[1 rows x 272 columns]"
      ]
     },
     "execution_count": 250,
     "metadata": {},
     "output_type": "execute_result"
    }
   ],
   "source": [
    "stats_outs = outs.groupby(['pat_id','adm_index']).agg(['mean','var'])\n",
    "\n",
    "k = 30\n",
    "topk_outputs = stats_outs.apply(lambda row: row.loc[idx[:,'mean']].nlargest(k),axis=1)\n",
    "\n",
    "# fix missing columns from previous operation\n",
    "original_class_columns = stats_outs.columns.get_level_values(0).unique()\n",
    "missing_cols = [col for col in original_class_columns if col not in topk_outputs.columns]\n",
    "topk_outputs_all_cols = pd.concat([topk_outputs,pd.DataFrame(columns=missing_cols)])\n",
    "topk_outputs_all_cols = topk_outputs_all_cols[original_class_columns]\n",
    "\n",
    "topk_predictions = np.where(topk_outputs_all_cols.isna(),0,1)\n",
    "topk_predictions = pd.DataFrame(data=topk_predictions,columns=original_class_columns,index=stats_outs.index)\n",
    "#topk_predictions.head(1)\n",
    "\n",
    "TP = (topk_predictions == 1) & (golden == 1)\n",
    "FP = (topk_predictions == 1) & (golden == 0)\n",
    "\n",
    "variances = stats_outs.loc[idx[:,:],idx[:,'var']]\n",
    "variances.columns = variances.columns.get_level_values(0)\n",
    "#variances.head(1)\n",
    "\n",
    "means = stats_outs.loc[idx[:,:],idx[:,'mean']]\n",
    "means.columns = means.columns.get_level_values(0)\n",
    "means.head(1)\n",
    "\n",
    "tp_variances = variances.where(TP,np.nan)\n",
    "fp_variances = variances.where(FP,np.nan)\n",
    "\n",
    "tp_means = means.where(TP,np.nan)\n",
    "fp_means = means.where(FP,np.nan)"
   ]
  },
  {
   "cell_type": "code",
   "execution_count": 251,
   "metadata": {},
   "outputs": [],
   "source": [
    "from sklearn.model_selection import train_test_split\n",
    "from sklearn.metrics import recall_score,precision_score,f1_score"
   ]
  },
  {
   "cell_type": "code",
   "execution_count": 253,
   "metadata": {
    "collapsed": true,
    "jupyter": {
     "outputs_hidden": true
    },
    "tags": []
   },
   "outputs": [
    {
     "data": {
      "text/plain": [
       "LogisticRegression(class_weight='balanced')"
      ]
     },
     "execution_count": 253,
     "metadata": {},
     "output_type": "execute_result"
    },
    {
     "data": {
      "text/plain": [
       "LogisticRegression(class_weight='balanced')"
      ]
     },
     "execution_count": 253,
     "metadata": {},
     "output_type": "execute_result"
    },
    {
     "data": {
      "text/plain": [
       "LogisticRegression(class_weight='balanced')"
      ]
     },
     "execution_count": 253,
     "metadata": {},
     "output_type": "execute_result"
    },
    {
     "data": {
      "text/plain": [
       "LogisticRegression(class_weight='balanced')"
      ]
     },
     "execution_count": 253,
     "metadata": {},
     "output_type": "execute_result"
    },
    {
     "data": {
      "text/plain": [
       "LogisticRegression(class_weight='balanced')"
      ]
     },
     "execution_count": 253,
     "metadata": {},
     "output_type": "execute_result"
    },
    {
     "data": {
      "text/plain": [
       "LogisticRegression(class_weight='balanced')"
      ]
     },
     "execution_count": 253,
     "metadata": {},
     "output_type": "execute_result"
    },
    {
     "data": {
      "text/plain": [
       "LogisticRegression(class_weight='balanced')"
      ]
     },
     "execution_count": 253,
     "metadata": {},
     "output_type": "execute_result"
    },
    {
     "data": {
      "text/plain": [
       "LogisticRegression(class_weight='balanced')"
      ]
     },
     "execution_count": 253,
     "metadata": {},
     "output_type": "execute_result"
    },
    {
     "data": {
      "text/plain": [
       "LogisticRegression(class_weight='balanced')"
      ]
     },
     "execution_count": 253,
     "metadata": {},
     "output_type": "execute_result"
    },
    {
     "data": {
      "text/plain": [
       "LogisticRegression(class_weight='balanced')"
      ]
     },
     "execution_count": 253,
     "metadata": {},
     "output_type": "execute_result"
    },
    {
     "data": {
      "text/plain": [
       "LogisticRegression(class_weight='balanced')"
      ]
     },
     "execution_count": 253,
     "metadata": {},
     "output_type": "execute_result"
    },
    {
     "data": {
      "text/plain": [
       "LogisticRegression(class_weight='balanced')"
      ]
     },
     "execution_count": 253,
     "metadata": {},
     "output_type": "execute_result"
    },
    {
     "data": {
      "text/plain": [
       "LogisticRegression(class_weight='balanced')"
      ]
     },
     "execution_count": 253,
     "metadata": {},
     "output_type": "execute_result"
    },
    {
     "data": {
      "text/plain": [
       "LogisticRegression(class_weight='balanced')"
      ]
     },
     "execution_count": 253,
     "metadata": {},
     "output_type": "execute_result"
    },
    {
     "data": {
      "text/plain": [
       "LogisticRegression(class_weight='balanced')"
      ]
     },
     "execution_count": 253,
     "metadata": {},
     "output_type": "execute_result"
    },
    {
     "data": {
      "text/plain": [
       "LogisticRegression(class_weight='balanced')"
      ]
     },
     "execution_count": 253,
     "metadata": {},
     "output_type": "execute_result"
    },
    {
     "data": {
      "text/plain": [
       "LogisticRegression(class_weight='balanced')"
      ]
     },
     "execution_count": 253,
     "metadata": {},
     "output_type": "execute_result"
    },
    {
     "data": {
      "text/plain": [
       "LogisticRegression(class_weight='balanced')"
      ]
     },
     "execution_count": 253,
     "metadata": {},
     "output_type": "execute_result"
    },
    {
     "data": {
      "text/plain": [
       "LogisticRegression(class_weight='balanced')"
      ]
     },
     "execution_count": 253,
     "metadata": {},
     "output_type": "execute_result"
    },
    {
     "data": {
      "text/plain": [
       "LogisticRegression(class_weight='balanced')"
      ]
     },
     "execution_count": 253,
     "metadata": {},
     "output_type": "execute_result"
    },
    {
     "data": {
      "text/plain": [
       "LogisticRegression(class_weight='balanced')"
      ]
     },
     "execution_count": 253,
     "metadata": {},
     "output_type": "execute_result"
    },
    {
     "data": {
      "text/plain": [
       "LogisticRegression(class_weight='balanced')"
      ]
     },
     "execution_count": 253,
     "metadata": {},
     "output_type": "execute_result"
    },
    {
     "data": {
      "text/plain": [
       "LogisticRegression(class_weight='balanced')"
      ]
     },
     "execution_count": 253,
     "metadata": {},
     "output_type": "execute_result"
    },
    {
     "data": {
      "text/plain": [
       "LogisticRegression(class_weight='balanced')"
      ]
     },
     "execution_count": 253,
     "metadata": {},
     "output_type": "execute_result"
    },
    {
     "data": {
      "text/plain": [
       "LogisticRegression(class_weight='balanced')"
      ]
     },
     "execution_count": 253,
     "metadata": {},
     "output_type": "execute_result"
    },
    {
     "data": {
      "text/plain": [
       "LogisticRegression(class_weight='balanced')"
      ]
     },
     "execution_count": 253,
     "metadata": {},
     "output_type": "execute_result"
    },
    {
     "data": {
      "text/plain": [
       "LogisticRegression(class_weight='balanced')"
      ]
     },
     "execution_count": 253,
     "metadata": {},
     "output_type": "execute_result"
    },
    {
     "data": {
      "text/plain": [
       "LogisticRegression(class_weight='balanced')"
      ]
     },
     "execution_count": 253,
     "metadata": {},
     "output_type": "execute_result"
    },
    {
     "data": {
      "text/plain": [
       "LogisticRegression(class_weight='balanced')"
      ]
     },
     "execution_count": 253,
     "metadata": {},
     "output_type": "execute_result"
    },
    {
     "data": {
      "text/plain": [
       "LogisticRegression(class_weight='balanced')"
      ]
     },
     "execution_count": 253,
     "metadata": {},
     "output_type": "execute_result"
    },
    {
     "data": {
      "text/plain": [
       "LogisticRegression(class_weight='balanced')"
      ]
     },
     "execution_count": 253,
     "metadata": {},
     "output_type": "execute_result"
    },
    {
     "data": {
      "text/plain": [
       "LogisticRegression(class_weight='balanced')"
      ]
     },
     "execution_count": 253,
     "metadata": {},
     "output_type": "execute_result"
    },
    {
     "data": {
      "text/plain": [
       "LogisticRegression(class_weight='balanced')"
      ]
     },
     "execution_count": 253,
     "metadata": {},
     "output_type": "execute_result"
    },
    {
     "data": {
      "text/plain": [
       "LogisticRegression(class_weight='balanced')"
      ]
     },
     "execution_count": 253,
     "metadata": {},
     "output_type": "execute_result"
    },
    {
     "data": {
      "text/plain": [
       "LogisticRegression(class_weight='balanced')"
      ]
     },
     "execution_count": 253,
     "metadata": {},
     "output_type": "execute_result"
    },
    {
     "data": {
      "text/plain": [
       "LogisticRegression(class_weight='balanced')"
      ]
     },
     "execution_count": 253,
     "metadata": {},
     "output_type": "execute_result"
    },
    {
     "data": {
      "text/plain": [
       "LogisticRegression(class_weight='balanced')"
      ]
     },
     "execution_count": 253,
     "metadata": {},
     "output_type": "execute_result"
    },
    {
     "data": {
      "text/plain": [
       "LogisticRegression(class_weight='balanced')"
      ]
     },
     "execution_count": 253,
     "metadata": {},
     "output_type": "execute_result"
    },
    {
     "data": {
      "text/plain": [
       "LogisticRegression(class_weight='balanced')"
      ]
     },
     "execution_count": 253,
     "metadata": {},
     "output_type": "execute_result"
    },
    {
     "data": {
      "text/plain": [
       "LogisticRegression(class_weight='balanced')"
      ]
     },
     "execution_count": 253,
     "metadata": {},
     "output_type": "execute_result"
    },
    {
     "data": {
      "text/plain": [
       "LogisticRegression(class_weight='balanced')"
      ]
     },
     "execution_count": 253,
     "metadata": {},
     "output_type": "execute_result"
    },
    {
     "data": {
      "text/plain": [
       "LogisticRegression(class_weight='balanced')"
      ]
     },
     "execution_count": 253,
     "metadata": {},
     "output_type": "execute_result"
    },
    {
     "data": {
      "text/plain": [
       "LogisticRegression(class_weight='balanced')"
      ]
     },
     "execution_count": 253,
     "metadata": {},
     "output_type": "execute_result"
    },
    {
     "data": {
      "text/plain": [
       "LogisticRegression(class_weight='balanced')"
      ]
     },
     "execution_count": 253,
     "metadata": {},
     "output_type": "execute_result"
    },
    {
     "data": {
      "text/plain": [
       "LogisticRegression(class_weight='balanced')"
      ]
     },
     "execution_count": 253,
     "metadata": {},
     "output_type": "execute_result"
    },
    {
     "data": {
      "text/plain": [
       "LogisticRegression(class_weight='balanced')"
      ]
     },
     "execution_count": 253,
     "metadata": {},
     "output_type": "execute_result"
    },
    {
     "data": {
      "text/plain": [
       "LogisticRegression(class_weight='balanced')"
      ]
     },
     "execution_count": 253,
     "metadata": {},
     "output_type": "execute_result"
    },
    {
     "data": {
      "text/plain": [
       "LogisticRegression(class_weight='balanced')"
      ]
     },
     "execution_count": 253,
     "metadata": {},
     "output_type": "execute_result"
    },
    {
     "data": {
      "text/plain": [
       "LogisticRegression(class_weight='balanced')"
      ]
     },
     "execution_count": 253,
     "metadata": {},
     "output_type": "execute_result"
    },
    {
     "data": {
      "text/plain": [
       "LogisticRegression(class_weight='balanced')"
      ]
     },
     "execution_count": 253,
     "metadata": {},
     "output_type": "execute_result"
    },
    {
     "data": {
      "text/plain": [
       "LogisticRegression(class_weight='balanced')"
      ]
     },
     "execution_count": 253,
     "metadata": {},
     "output_type": "execute_result"
    },
    {
     "data": {
      "text/plain": [
       "LogisticRegression(class_weight='balanced')"
      ]
     },
     "execution_count": 253,
     "metadata": {},
     "output_type": "execute_result"
    },
    {
     "data": {
      "text/plain": [
       "LogisticRegression(class_weight='balanced')"
      ]
     },
     "execution_count": 253,
     "metadata": {},
     "output_type": "execute_result"
    },
    {
     "data": {
      "text/plain": [
       "LogisticRegression(class_weight='balanced')"
      ]
     },
     "execution_count": 253,
     "metadata": {},
     "output_type": "execute_result"
    },
    {
     "data": {
      "text/plain": [
       "LogisticRegression(class_weight='balanced')"
      ]
     },
     "execution_count": 253,
     "metadata": {},
     "output_type": "execute_result"
    },
    {
     "data": {
      "text/plain": [
       "LogisticRegression(class_weight='balanced')"
      ]
     },
     "execution_count": 253,
     "metadata": {},
     "output_type": "execute_result"
    },
    {
     "data": {
      "text/plain": [
       "LogisticRegression(class_weight='balanced')"
      ]
     },
     "execution_count": 253,
     "metadata": {},
     "output_type": "execute_result"
    },
    {
     "data": {
      "text/plain": [
       "LogisticRegression(class_weight='balanced')"
      ]
     },
     "execution_count": 253,
     "metadata": {},
     "output_type": "execute_result"
    },
    {
     "data": {
      "text/plain": [
       "LogisticRegression(class_weight='balanced')"
      ]
     },
     "execution_count": 253,
     "metadata": {},
     "output_type": "execute_result"
    },
    {
     "data": {
      "text/plain": [
       "LogisticRegression(class_weight='balanced')"
      ]
     },
     "execution_count": 253,
     "metadata": {},
     "output_type": "execute_result"
    },
    {
     "data": {
      "text/plain": [
       "LogisticRegression(class_weight='balanced')"
      ]
     },
     "execution_count": 253,
     "metadata": {},
     "output_type": "execute_result"
    },
    {
     "data": {
      "text/plain": [
       "LogisticRegression(class_weight='balanced')"
      ]
     },
     "execution_count": 253,
     "metadata": {},
     "output_type": "execute_result"
    },
    {
     "data": {
      "text/plain": [
       "LogisticRegression(class_weight='balanced')"
      ]
     },
     "execution_count": 253,
     "metadata": {},
     "output_type": "execute_result"
    },
    {
     "data": {
      "text/plain": [
       "LogisticRegression(class_weight='balanced')"
      ]
     },
     "execution_count": 253,
     "metadata": {},
     "output_type": "execute_result"
    },
    {
     "data": {
      "text/plain": [
       "LogisticRegression(class_weight='balanced')"
      ]
     },
     "execution_count": 253,
     "metadata": {},
     "output_type": "execute_result"
    },
    {
     "data": {
      "text/plain": [
       "LogisticRegression(class_weight='balanced')"
      ]
     },
     "execution_count": 253,
     "metadata": {},
     "output_type": "execute_result"
    },
    {
     "data": {
      "text/plain": [
       "LogisticRegression(class_weight='balanced')"
      ]
     },
     "execution_count": 253,
     "metadata": {},
     "output_type": "execute_result"
    },
    {
     "data": {
      "text/plain": [
       "LogisticRegression(class_weight='balanced')"
      ]
     },
     "execution_count": 253,
     "metadata": {},
     "output_type": "execute_result"
    },
    {
     "data": {
      "text/plain": [
       "LogisticRegression(class_weight='balanced')"
      ]
     },
     "execution_count": 253,
     "metadata": {},
     "output_type": "execute_result"
    },
    {
     "data": {
      "text/plain": [
       "LogisticRegression(class_weight='balanced')"
      ]
     },
     "execution_count": 253,
     "metadata": {},
     "output_type": "execute_result"
    },
    {
     "data": {
      "text/plain": [
       "LogisticRegression(class_weight='balanced')"
      ]
     },
     "execution_count": 253,
     "metadata": {},
     "output_type": "execute_result"
    },
    {
     "data": {
      "text/plain": [
       "LogisticRegression(class_weight='balanced')"
      ]
     },
     "execution_count": 253,
     "metadata": {},
     "output_type": "execute_result"
    },
    {
     "data": {
      "text/plain": [
       "LogisticRegression(class_weight='balanced')"
      ]
     },
     "execution_count": 253,
     "metadata": {},
     "output_type": "execute_result"
    },
    {
     "data": {
      "text/plain": [
       "LogisticRegression(class_weight='balanced')"
      ]
     },
     "execution_count": 253,
     "metadata": {},
     "output_type": "execute_result"
    },
    {
     "data": {
      "text/plain": [
       "LogisticRegression(class_weight='balanced')"
      ]
     },
     "execution_count": 253,
     "metadata": {},
     "output_type": "execute_result"
    },
    {
     "data": {
      "text/plain": [
       "LogisticRegression(class_weight='balanced')"
      ]
     },
     "execution_count": 253,
     "metadata": {},
     "output_type": "execute_result"
    },
    {
     "data": {
      "text/plain": [
       "LogisticRegression(class_weight='balanced')"
      ]
     },
     "execution_count": 253,
     "metadata": {},
     "output_type": "execute_result"
    },
    {
     "data": {
      "text/plain": [
       "LogisticRegression(class_weight='balanced')"
      ]
     },
     "execution_count": 253,
     "metadata": {},
     "output_type": "execute_result"
    },
    {
     "data": {
      "text/plain": [
       "LogisticRegression(class_weight='balanced')"
      ]
     },
     "execution_count": 253,
     "metadata": {},
     "output_type": "execute_result"
    },
    {
     "data": {
      "text/plain": [
       "LogisticRegression(class_weight='balanced')"
      ]
     },
     "execution_count": 253,
     "metadata": {},
     "output_type": "execute_result"
    },
    {
     "data": {
      "text/plain": [
       "LogisticRegression(class_weight='balanced')"
      ]
     },
     "execution_count": 253,
     "metadata": {},
     "output_type": "execute_result"
    },
    {
     "data": {
      "text/plain": [
       "LogisticRegression(class_weight='balanced')"
      ]
     },
     "execution_count": 253,
     "metadata": {},
     "output_type": "execute_result"
    },
    {
     "data": {
      "text/plain": [
       "LogisticRegression(class_weight='balanced')"
      ]
     },
     "execution_count": 253,
     "metadata": {},
     "output_type": "execute_result"
    },
    {
     "data": {
      "text/plain": [
       "LogisticRegression(class_weight='balanced')"
      ]
     },
     "execution_count": 253,
     "metadata": {},
     "output_type": "execute_result"
    },
    {
     "data": {
      "text/plain": [
       "LogisticRegression(class_weight='balanced')"
      ]
     },
     "execution_count": 253,
     "metadata": {},
     "output_type": "execute_result"
    },
    {
     "data": {
      "text/plain": [
       "LogisticRegression(class_weight='balanced')"
      ]
     },
     "execution_count": 253,
     "metadata": {},
     "output_type": "execute_result"
    },
    {
     "data": {
      "text/plain": [
       "LogisticRegression(class_weight='balanced')"
      ]
     },
     "execution_count": 253,
     "metadata": {},
     "output_type": "execute_result"
    },
    {
     "data": {
      "text/plain": [
       "LogisticRegression(class_weight='balanced')"
      ]
     },
     "execution_count": 253,
     "metadata": {},
     "output_type": "execute_result"
    },
    {
     "data": {
      "text/plain": [
       "LogisticRegression(class_weight='balanced')"
      ]
     },
     "execution_count": 253,
     "metadata": {},
     "output_type": "execute_result"
    },
    {
     "data": {
      "text/plain": [
       "LogisticRegression(class_weight='balanced')"
      ]
     },
     "execution_count": 253,
     "metadata": {},
     "output_type": "execute_result"
    },
    {
     "data": {
      "text/plain": [
       "LogisticRegression(class_weight='balanced')"
      ]
     },
     "execution_count": 253,
     "metadata": {},
     "output_type": "execute_result"
    },
    {
     "data": {
      "text/plain": [
       "LogisticRegression(class_weight='balanced')"
      ]
     },
     "execution_count": 253,
     "metadata": {},
     "output_type": "execute_result"
    },
    {
     "data": {
      "text/plain": [
       "LogisticRegression(class_weight='balanced')"
      ]
     },
     "execution_count": 253,
     "metadata": {},
     "output_type": "execute_result"
    },
    {
     "data": {
      "text/plain": [
       "LogisticRegression(class_weight='balanced')"
      ]
     },
     "execution_count": 253,
     "metadata": {},
     "output_type": "execute_result"
    },
    {
     "data": {
      "text/plain": [
       "LogisticRegression(class_weight='balanced')"
      ]
     },
     "execution_count": 253,
     "metadata": {},
     "output_type": "execute_result"
    },
    {
     "data": {
      "text/plain": [
       "LogisticRegression(class_weight='balanced')"
      ]
     },
     "execution_count": 253,
     "metadata": {},
     "output_type": "execute_result"
    },
    {
     "data": {
      "text/plain": [
       "LogisticRegression(class_weight='balanced')"
      ]
     },
     "execution_count": 253,
     "metadata": {},
     "output_type": "execute_result"
    },
    {
     "data": {
      "text/plain": [
       "LogisticRegression(class_weight='balanced')"
      ]
     },
     "execution_count": 253,
     "metadata": {},
     "output_type": "execute_result"
    },
    {
     "data": {
      "text/plain": [
       "LogisticRegression(class_weight='balanced')"
      ]
     },
     "execution_count": 253,
     "metadata": {},
     "output_type": "execute_result"
    },
    {
     "data": {
      "text/plain": [
       "LogisticRegression(class_weight='balanced')"
      ]
     },
     "execution_count": 253,
     "metadata": {},
     "output_type": "execute_result"
    },
    {
     "data": {
      "text/plain": [
       "LogisticRegression(class_weight='balanced')"
      ]
     },
     "execution_count": 253,
     "metadata": {},
     "output_type": "execute_result"
    },
    {
     "data": {
      "text/plain": [
       "LogisticRegression(class_weight='balanced')"
      ]
     },
     "execution_count": 253,
     "metadata": {},
     "output_type": "execute_result"
    },
    {
     "data": {
      "text/plain": [
       "LogisticRegression(class_weight='balanced')"
      ]
     },
     "execution_count": 253,
     "metadata": {},
     "output_type": "execute_result"
    },
    {
     "data": {
      "text/plain": [
       "LogisticRegression(class_weight='balanced')"
      ]
     },
     "execution_count": 253,
     "metadata": {},
     "output_type": "execute_result"
    },
    {
     "data": {
      "text/plain": [
       "LogisticRegression(class_weight='balanced')"
      ]
     },
     "execution_count": 253,
     "metadata": {},
     "output_type": "execute_result"
    },
    {
     "data": {
      "text/plain": [
       "LogisticRegression(class_weight='balanced')"
      ]
     },
     "execution_count": 253,
     "metadata": {},
     "output_type": "execute_result"
    },
    {
     "data": {
      "text/plain": [
       "LogisticRegression(class_weight='balanced')"
      ]
     },
     "execution_count": 253,
     "metadata": {},
     "output_type": "execute_result"
    },
    {
     "data": {
      "text/plain": [
       "LogisticRegression(class_weight='balanced')"
      ]
     },
     "execution_count": 253,
     "metadata": {},
     "output_type": "execute_result"
    },
    {
     "data": {
      "text/plain": [
       "LogisticRegression(class_weight='balanced')"
      ]
     },
     "execution_count": 253,
     "metadata": {},
     "output_type": "execute_result"
    },
    {
     "data": {
      "text/plain": [
       "LogisticRegression(class_weight='balanced')"
      ]
     },
     "execution_count": 253,
     "metadata": {},
     "output_type": "execute_result"
    },
    {
     "data": {
      "text/plain": [
       "LogisticRegression(class_weight='balanced')"
      ]
     },
     "execution_count": 253,
     "metadata": {},
     "output_type": "execute_result"
    },
    {
     "data": {
      "text/plain": [
       "LogisticRegression(class_weight='balanced')"
      ]
     },
     "execution_count": 253,
     "metadata": {},
     "output_type": "execute_result"
    },
    {
     "data": {
      "text/plain": [
       "LogisticRegression(class_weight='balanced')"
      ]
     },
     "execution_count": 253,
     "metadata": {},
     "output_type": "execute_result"
    },
    {
     "data": {
      "text/plain": [
       "LogisticRegression(class_weight='balanced')"
      ]
     },
     "execution_count": 253,
     "metadata": {},
     "output_type": "execute_result"
    },
    {
     "data": {
      "text/plain": [
       "LogisticRegression(class_weight='balanced')"
      ]
     },
     "execution_count": 253,
     "metadata": {},
     "output_type": "execute_result"
    },
    {
     "data": {
      "text/plain": [
       "LogisticRegression(class_weight='balanced')"
      ]
     },
     "execution_count": 253,
     "metadata": {},
     "output_type": "execute_result"
    },
    {
     "data": {
      "text/plain": [
       "LogisticRegression(class_weight='balanced')"
      ]
     },
     "execution_count": 253,
     "metadata": {},
     "output_type": "execute_result"
    },
    {
     "data": {
      "text/plain": [
       "LogisticRegression(class_weight='balanced')"
      ]
     },
     "execution_count": 253,
     "metadata": {},
     "output_type": "execute_result"
    },
    {
     "data": {
      "text/plain": [
       "LogisticRegression(class_weight='balanced')"
      ]
     },
     "execution_count": 253,
     "metadata": {},
     "output_type": "execute_result"
    },
    {
     "data": {
      "text/plain": [
       "LogisticRegression(class_weight='balanced')"
      ]
     },
     "execution_count": 253,
     "metadata": {},
     "output_type": "execute_result"
    },
    {
     "data": {
      "text/plain": [
       "LogisticRegression(class_weight='balanced')"
      ]
     },
     "execution_count": 253,
     "metadata": {},
     "output_type": "execute_result"
    },
    {
     "data": {
      "text/plain": [
       "LogisticRegression(class_weight='balanced')"
      ]
     },
     "execution_count": 253,
     "metadata": {},
     "output_type": "execute_result"
    },
    {
     "data": {
      "text/plain": [
       "LogisticRegression(class_weight='balanced')"
      ]
     },
     "execution_count": 253,
     "metadata": {},
     "output_type": "execute_result"
    },
    {
     "data": {
      "text/plain": [
       "LogisticRegression(class_weight='balanced')"
      ]
     },
     "execution_count": 253,
     "metadata": {},
     "output_type": "execute_result"
    },
    {
     "data": {
      "text/plain": [
       "LogisticRegression(class_weight='balanced')"
      ]
     },
     "execution_count": 253,
     "metadata": {},
     "output_type": "execute_result"
    },
    {
     "data": {
      "text/plain": [
       "LogisticRegression(class_weight='balanced')"
      ]
     },
     "execution_count": 253,
     "metadata": {},
     "output_type": "execute_result"
    },
    {
     "data": {
      "text/plain": [
       "LogisticRegression(class_weight='balanced')"
      ]
     },
     "execution_count": 253,
     "metadata": {},
     "output_type": "execute_result"
    },
    {
     "data": {
      "text/plain": [
       "LogisticRegression(class_weight='balanced')"
      ]
     },
     "execution_count": 253,
     "metadata": {},
     "output_type": "execute_result"
    },
    {
     "data": {
      "text/plain": [
       "LogisticRegression(class_weight='balanced')"
      ]
     },
     "execution_count": 253,
     "metadata": {},
     "output_type": "execute_result"
    },
    {
     "data": {
      "text/plain": [
       "LogisticRegression(class_weight='balanced')"
      ]
     },
     "execution_count": 253,
     "metadata": {},
     "output_type": "execute_result"
    },
    {
     "data": {
      "text/plain": [
       "LogisticRegression(class_weight='balanced')"
      ]
     },
     "execution_count": 253,
     "metadata": {},
     "output_type": "execute_result"
    },
    {
     "data": {
      "text/plain": [
       "LogisticRegression(class_weight='balanced')"
      ]
     },
     "execution_count": 253,
     "metadata": {},
     "output_type": "execute_result"
    }
   ],
   "source": [
    "# need two conditions to decide wether to use the dumb classifier or not\n",
    "# 1) threhsold on the number of examples\n",
    "# 2) and there must be examples of both classes\n",
    "\n",
    "df_metrics = pd.DataFrame(columns=['diag','precision','recall','f1','clf','type'])\n",
    "\n",
    "clf_party = {}\n",
    "threshold = 20\n",
    "for diag in outs.columns:\n",
    "    \n",
    "    n_TP = (TP[diag] == True).sum()\n",
    "    n_FP = (FP[diag] == True).sum()\n",
    "    \n",
    "    total_n = n_TP + n_FP\n",
    "    \n",
    "    if total_n < threshold or n_TP < 5 or n_FP < 5:\n",
    "        #use dumb classifier\n",
    "        clf = DumbClassifier()\n",
    "        df_metrics = df_metrics.append({'diag':diag,'precision':np.nan,'recall':np.nan,'f1':np.nan,'clf':clf,'type':'dumb'},ignore_index=True)\n",
    "    else:\n",
    "        #use logistic regression\n",
    "        \n",
    "        ## create dataset\n",
    "        mean_tp = means[diag][TP[diag]].to_frame('mean')\n",
    "        mean_fp = means[diag][FP[diag]].to_frame('mean')\n",
    "        \n",
    "        var_tp = variances[diag][TP[diag]].to_frame('var')\n",
    "        var_fp = variances[diag][FP[diag]].to_frame('var')\n",
    "        \n",
    "        df_tp = pd.concat([mean_tp,var_tp],axis=1).assign(label=0).reset_index(drop=True)\n",
    "        df_fp = pd.concat([mean_fp,var_fp],axis=1).assign(label=1).reset_index(drop=True)\n",
    "        \n",
    "        df = pd.concat([df_tp,df_fp],ignore_index=True).sample(frac=1.0)\n",
    "        \n",
    "        ## split into train-test\n",
    "        \n",
    "        X_train,X_test,y_train,y_test = train_test_split(df[['mean','var']],df['label'],stratify=df['label'])\n",
    "        \n",
    "        ## train\n",
    "        clf = LogisticRegression(class_weight=\"balanced\");\n",
    "        clf.fit(X_train,y_train);\n",
    "        \n",
    "        ## evaluate\n",
    "        preds = clf.predict(X_test);\n",
    "        \n",
    "        precision = precision_score(y_test,preds)\n",
    "        recall = recall_score(y_test,preds)\n",
    "        f1 = f1_score(y_test,preds)\n",
    "        \n",
    "        df_metrics = df_metrics.append({'diag':diag,'precision':precision,'recall':recall,'f1':f1,'clf':clf,'type':'model'},ignore_index=True)\n",
    "    \n",
    "    clf_party[diag] = clf\n",
    "    "
   ]
  },
  {
   "cell_type": "code",
   "execution_count": 254,
   "metadata": {},
   "outputs": [
    {
     "data": {
      "text/plain": [
       "count    132.000000\n",
       "mean       0.787429\n",
       "std        0.123074\n",
       "min        0.166667\n",
       "25%        0.727273\n",
       "50%        0.799202\n",
       "75%        0.857143\n",
       "max        1.000000\n",
       "Name: f1, dtype: float64"
      ]
     },
     "execution_count": 254,
     "metadata": {},
     "output_type": "execute_result"
    }
   ],
   "source": [
    "df_metrics.f1.describe()"
   ]
  },
  {
   "cell_type": "code",
   "execution_count": 255,
   "metadata": {},
   "outputs": [
    {
     "data": {
      "text/html": [
       "<div>\n",
       "<style scoped>\n",
       "    .dataframe tbody tr th:only-of-type {\n",
       "        vertical-align: middle;\n",
       "    }\n",
       "\n",
       "    .dataframe tbody tr th {\n",
       "        vertical-align: top;\n",
       "    }\n",
       "\n",
       "    .dataframe thead th {\n",
       "        text-align: right;\n",
       "    }\n",
       "</style>\n",
       "<table border=\"1\" class=\"dataframe\">\n",
       "  <thead>\n",
       "    <tr style=\"text-align: right;\">\n",
       "      <th></th>\n",
       "      <th>precision</th>\n",
       "      <th>recall</th>\n",
       "      <th>f1</th>\n",
       "      <th>clf</th>\n",
       "      <th>type</th>\n",
       "    </tr>\n",
       "    <tr>\n",
       "      <th>diag</th>\n",
       "      <th></th>\n",
       "      <th></th>\n",
       "      <th></th>\n",
       "      <th></th>\n",
       "      <th></th>\n",
       "    </tr>\n",
       "  </thead>\n",
       "  <tbody>\n",
       "    <tr>\n",
       "      <th>diag_0</th>\n",
       "      <td>NaN</td>\n",
       "      <td>NaN</td>\n",
       "      <td>NaN</td>\n",
       "      <td>DumbClassifier()</td>\n",
       "      <td>dumb</td>\n",
       "    </tr>\n",
       "    <tr>\n",
       "      <th>diag_1</th>\n",
       "      <td>0.862944</td>\n",
       "      <td>0.696721</td>\n",
       "      <td>0.770975</td>\n",
       "      <td>LogisticRegression(class_weight='balanced')</td>\n",
       "      <td>model</td>\n",
       "    </tr>\n",
       "  </tbody>\n",
       "</table>\n",
       "</div>"
      ],
      "text/plain": [
       "        precision    recall        f1  \\\n",
       "diag                                    \n",
       "diag_0        NaN       NaN       NaN   \n",
       "diag_1   0.862944  0.696721  0.770975   \n",
       "\n",
       "                                                clf   type  \n",
       "diag                                                        \n",
       "diag_0                             DumbClassifier()   dumb  \n",
       "diag_1  LogisticRegression(class_weight='balanced')  model  "
      ]
     },
     "execution_count": 255,
     "metadata": {},
     "output_type": "execute_result"
    }
   ],
   "source": [
    "df_metrics = df_metrics.set_index('diag')\n",
    "df_metrics.head(2)"
   ]
  },
  {
   "cell_type": "markdown",
   "metadata": {},
   "source": [
    "## Classifiers are trained. Now we need to apply them"
   ]
  },
  {
   "cell_type": "code",
   "execution_count": 285,
   "metadata": {},
   "outputs": [],
   "source": [
    "outs, golden = outs2df_mc(model,test_dataloader,dataset,return_golden=True)"
   ]
  },
  {
   "cell_type": "code",
   "execution_count": 286,
   "metadata": {},
   "outputs": [
    {
     "data": {
      "text/html": [
       "<div>\n",
       "<style scoped>\n",
       "    .dataframe tbody tr th:only-of-type {\n",
       "        vertical-align: middle;\n",
       "    }\n",
       "\n",
       "    .dataframe tbody tr th {\n",
       "        vertical-align: top;\n",
       "    }\n",
       "\n",
       "    .dataframe thead tr th {\n",
       "        text-align: left;\n",
       "    }\n",
       "\n",
       "    .dataframe thead tr:last-of-type th {\n",
       "        text-align: right;\n",
       "    }\n",
       "</style>\n",
       "<table border=\"1\" class=\"dataframe\">\n",
       "  <thead>\n",
       "    <tr>\n",
       "      <th></th>\n",
       "      <th></th>\n",
       "      <th colspan=\"2\" halign=\"left\">diag_0</th>\n",
       "      <th colspan=\"2\" halign=\"left\">diag_1</th>\n",
       "      <th colspan=\"2\" halign=\"left\">diag_2</th>\n",
       "      <th colspan=\"2\" halign=\"left\">diag_3</th>\n",
       "      <th colspan=\"2\" halign=\"left\">diag_4</th>\n",
       "      <th>...</th>\n",
       "      <th colspan=\"2\" halign=\"left\">diag_267</th>\n",
       "      <th colspan=\"2\" halign=\"left\">diag_268</th>\n",
       "      <th colspan=\"2\" halign=\"left\">diag_269</th>\n",
       "      <th colspan=\"2\" halign=\"left\">diag_270</th>\n",
       "      <th colspan=\"2\" halign=\"left\">diag_271</th>\n",
       "    </tr>\n",
       "    <tr>\n",
       "      <th></th>\n",
       "      <th></th>\n",
       "      <th>mean</th>\n",
       "      <th>var</th>\n",
       "      <th>mean</th>\n",
       "      <th>var</th>\n",
       "      <th>mean</th>\n",
       "      <th>var</th>\n",
       "      <th>mean</th>\n",
       "      <th>var</th>\n",
       "      <th>mean</th>\n",
       "      <th>var</th>\n",
       "      <th>...</th>\n",
       "      <th>mean</th>\n",
       "      <th>var</th>\n",
       "      <th>mean</th>\n",
       "      <th>var</th>\n",
       "      <th>mean</th>\n",
       "      <th>var</th>\n",
       "      <th>mean</th>\n",
       "      <th>var</th>\n",
       "      <th>mean</th>\n",
       "      <th>var</th>\n",
       "    </tr>\n",
       "    <tr>\n",
       "      <th>pat_id</th>\n",
       "      <th>adm_index</th>\n",
       "      <th></th>\n",
       "      <th></th>\n",
       "      <th></th>\n",
       "      <th></th>\n",
       "      <th></th>\n",
       "      <th></th>\n",
       "      <th></th>\n",
       "      <th></th>\n",
       "      <th></th>\n",
       "      <th></th>\n",
       "      <th></th>\n",
       "      <th></th>\n",
       "      <th></th>\n",
       "      <th></th>\n",
       "      <th></th>\n",
       "      <th></th>\n",
       "      <th></th>\n",
       "      <th></th>\n",
       "      <th></th>\n",
       "      <th></th>\n",
       "      <th></th>\n",
       "    </tr>\n",
       "  </thead>\n",
       "  <tbody>\n",
       "    <tr>\n",
       "      <th>111</th>\n",
       "      <th>1</th>\n",
       "      <td>0.007347</td>\n",
       "      <td>0.000059</td>\n",
       "      <td>0.095935</td>\n",
       "      <td>0.001939</td>\n",
       "      <td>0.054314</td>\n",
       "      <td>0.000623</td>\n",
       "      <td>0.091747</td>\n",
       "      <td>0.003034</td>\n",
       "      <td>0.002875</td>\n",
       "      <td>0.000017</td>\n",
       "      <td>...</td>\n",
       "      <td>0.077534</td>\n",
       "      <td>0.002375</td>\n",
       "      <td>0.005107</td>\n",
       "      <td>0.000012</td>\n",
       "      <td>0.000833</td>\n",
       "      <td>4.116630e-07</td>\n",
       "      <td>0.010200</td>\n",
       "      <td>0.000046</td>\n",
       "      <td>0.028682</td>\n",
       "      <td>0.000205</td>\n",
       "    </tr>\n",
       "    <tr>\n",
       "      <th>145</th>\n",
       "      <th>1</th>\n",
       "      <td>0.002079</td>\n",
       "      <td>0.000003</td>\n",
       "      <td>0.466393</td>\n",
       "      <td>0.018681</td>\n",
       "      <td>0.164556</td>\n",
       "      <td>0.004913</td>\n",
       "      <td>0.097382</td>\n",
       "      <td>0.001239</td>\n",
       "      <td>0.001913</td>\n",
       "      <td>0.000012</td>\n",
       "      <td>...</td>\n",
       "      <td>0.112730</td>\n",
       "      <td>0.002911</td>\n",
       "      <td>0.010506</td>\n",
       "      <td>0.000069</td>\n",
       "      <td>0.001139</td>\n",
       "      <td>3.693598e-07</td>\n",
       "      <td>0.012641</td>\n",
       "      <td>0.000034</td>\n",
       "      <td>0.039479</td>\n",
       "      <td>0.000316</td>\n",
       "    </tr>\n",
       "    <tr>\n",
       "      <th>199</th>\n",
       "      <th>1</th>\n",
       "      <td>0.011444</td>\n",
       "      <td>0.000142</td>\n",
       "      <td>0.086913</td>\n",
       "      <td>0.002136</td>\n",
       "      <td>0.057785</td>\n",
       "      <td>0.000624</td>\n",
       "      <td>0.049028</td>\n",
       "      <td>0.000401</td>\n",
       "      <td>0.005940</td>\n",
       "      <td>0.000190</td>\n",
       "      <td>...</td>\n",
       "      <td>0.081583</td>\n",
       "      <td>0.000585</td>\n",
       "      <td>0.005190</td>\n",
       "      <td>0.000016</td>\n",
       "      <td>0.003351</td>\n",
       "      <td>7.213809e-06</td>\n",
       "      <td>0.007857</td>\n",
       "      <td>0.000015</td>\n",
       "      <td>0.019741</td>\n",
       "      <td>0.000171</td>\n",
       "    </tr>\n",
       "  </tbody>\n",
       "</table>\n",
       "<p>3 rows × 544 columns</p>\n",
       "</div>"
      ],
      "text/plain": [
       "                    diag_0              diag_1              diag_2            \\\n",
       "                      mean       var      mean       var      mean       var   \n",
       "pat_id adm_index                                                               \n",
       "111    1          0.007347  0.000059  0.095935  0.001939  0.054314  0.000623   \n",
       "145    1          0.002079  0.000003  0.466393  0.018681  0.164556  0.004913   \n",
       "199    1          0.011444  0.000142  0.086913  0.002136  0.057785  0.000624   \n",
       "\n",
       "                    diag_3              diag_4            ...  diag_267  \\\n",
       "                      mean       var      mean       var  ...      mean   \n",
       "pat_id adm_index                                          ...             \n",
       "111    1          0.091747  0.003034  0.002875  0.000017  ...  0.077534   \n",
       "145    1          0.097382  0.001239  0.001913  0.000012  ...  0.112730   \n",
       "199    1          0.049028  0.000401  0.005940  0.000190  ...  0.081583   \n",
       "\n",
       "                            diag_268            diag_269                \\\n",
       "                       var      mean       var      mean           var   \n",
       "pat_id adm_index                                                         \n",
       "111    1          0.002375  0.005107  0.000012  0.000833  4.116630e-07   \n",
       "145    1          0.002911  0.010506  0.000069  0.001139  3.693598e-07   \n",
       "199    1          0.000585  0.005190  0.000016  0.003351  7.213809e-06   \n",
       "\n",
       "                  diag_270            diag_271            \n",
       "                      mean       var      mean       var  \n",
       "pat_id adm_index                                          \n",
       "111    1          0.010200  0.000046  0.028682  0.000205  \n",
       "145    1          0.012641  0.000034  0.039479  0.000316  \n",
       "199    1          0.007857  0.000015  0.019741  0.000171  \n",
       "\n",
       "[3 rows x 544 columns]"
      ]
     },
     "execution_count": 286,
     "metadata": {},
     "output_type": "execute_result"
    }
   ],
   "source": [
    "stats_outs = outs.groupby(['pat_id','adm_index']).agg(['mean','var'])\n",
    "stats_outs.head(3)"
   ]
  },
  {
   "cell_type": "code",
   "execution_count": 287,
   "metadata": {},
   "outputs": [],
   "source": [
    "k = 30\n",
    "topk_outputs = stats_outs.apply(lambda row: row.loc[idx[:,'mean']].nlargest(k),axis=1)\n",
    "\n",
    "# fix missing columns from previous operation\n",
    "original_class_columns = stats_outs.columns.get_level_values(0).unique()\n",
    "missing_cols = [col for col in original_class_columns if col not in topk_outputs.columns]\n",
    "topk_outputs_all_cols = pd.concat([topk_outputs,pd.DataFrame(columns=missing_cols)])\n",
    "topk_outputs_all_cols = topk_outputs_all_cols[original_class_columns]\n",
    "\n",
    "topk_predictions = np.where(topk_outputs_all_cols.isna(),0,1)\n",
    "topk_predictions = pd.DataFrame(data=topk_predictions,columns=original_class_columns,index=stats_outs.index)"
   ]
  },
  {
   "cell_type": "code",
   "execution_count": 288,
   "metadata": {},
   "outputs": [],
   "source": [
    "def abstain(row,df_metrics,stats_outs):\n",
    "    new_row = row.copy()\n",
    "    admission_forward_stats = stats_outs.loc[row.name,:]\n",
    "    for index,elem in row.iteritems():\n",
    "        if elem == 1:\n",
    "            datapoint = admission_forward_stats[index].to_numpy()\n",
    "            clf = df_metrics.loc[index,'clf']\n",
    "            pred = clf.predict(datapoint.reshape((-1,2)))\n",
    "            \n",
    "            if pred == 1: #abstain\n",
    "                new_row[index] = 0\n",
    "    return new_row"
   ]
  },
  {
   "cell_type": "code",
   "execution_count": 289,
   "metadata": {},
   "outputs": [],
   "source": [
    "top_k_predictions_abstained = topk_predictions.apply(lambda row: abstain(row,df_metrics,stats_outs),axis=1)"
   ]
  },
  {
   "cell_type": "code",
   "execution_count": 290,
   "metadata": {},
   "outputs": [],
   "source": [
    "from rnn_utils import compute_metrics"
   ]
  },
  {
   "cell_type": "code",
   "execution_count": 304,
   "metadata": {},
   "outputs": [],
   "source": [
    "metrics_normal = compute_metrics(topk_outputs_all_cols.fillna(0),topk_predictions,golden,['precision@30','recall@30','f1@30'])"
   ]
  },
  {
   "cell_type": "code",
   "execution_count": 301,
   "metadata": {},
   "outputs": [],
   "source": [
    "topk_outputs_all_cols_after_abstention = topk_outputs_all_cols.fillna(0).mask(top_k_predictions_abstained == 0,0)"
   ]
  },
  {
   "cell_type": "code",
   "execution_count": 303,
   "metadata": {},
   "outputs": [],
   "source": [
    "metrics_w_abstention = compute_metrics(topk_outputs_all_cols_after_abstention,top_k_predictions_abstained,golden,['precision@30','recall@30','f1@30'])"
   ]
  },
  {
   "cell_type": "code",
   "execution_count": 305,
   "metadata": {},
   "outputs": [],
   "source": [
    "metrics_normal.name = 'initial top 30'\n",
    "metrics_w_abstention.name = 'top 30 + abstention through MC dropout'"
   ]
  },
  {
   "cell_type": "code",
   "execution_count": 310,
   "metadata": {},
   "outputs": [
    {
     "data": {
      "text/html": [
       "<div>\n",
       "<style scoped>\n",
       "    .dataframe tbody tr th:only-of-type {\n",
       "        vertical-align: middle;\n",
       "    }\n",
       "\n",
       "    .dataframe tbody tr th {\n",
       "        vertical-align: top;\n",
       "    }\n",
       "\n",
       "    .dataframe thead th {\n",
       "        text-align: right;\n",
       "    }\n",
       "</style>\n",
       "<table border=\"1\" class=\"dataframe\">\n",
       "  <thead>\n",
       "    <tr style=\"text-align: right;\">\n",
       "      <th></th>\n",
       "      <th>initial top 30</th>\n",
       "      <th>top 30 + abstention through MC dropout</th>\n",
       "    </tr>\n",
       "    <tr>\n",
       "      <th>metrics</th>\n",
       "      <th></th>\n",
       "      <th></th>\n",
       "    </tr>\n",
       "  </thead>\n",
       "  <tbody>\n",
       "    <tr>\n",
       "      <th>precision@30_adm</th>\n",
       "      <td>0.275293</td>\n",
       "      <td>0.472482</td>\n",
       "    </tr>\n",
       "    <tr>\n",
       "      <th>recall@30_adm</th>\n",
       "      <td>0.700669</td>\n",
       "      <td>0.449377</td>\n",
       "    </tr>\n",
       "    <tr>\n",
       "      <th>f1@30_adm</th>\n",
       "      <td>0.378810</td>\n",
       "      <td>0.432183</td>\n",
       "    </tr>\n",
       "  </tbody>\n",
       "</table>\n",
       "</div>"
      ],
      "text/plain": [
       "                  initial top 30  top 30 + abstention through MC dropout\n",
       "metrics                                                                 \n",
       "precision@30_adm        0.275293                                0.472482\n",
       "recall@30_adm           0.700669                                0.449377\n",
       "f1@30_adm               0.378810                                0.432183"
      ]
     },
     "execution_count": 310,
     "metadata": {},
     "output_type": "execute_result"
    }
   ],
   "source": [
    "pd.concat([metrics_normal,metrics_w_abstention],axis=1).iloc[3:]"
   ]
  },
  {
   "cell_type": "code",
   "execution_count": null,
   "metadata": {},
   "outputs": [],
   "source": []
  },
  {
   "cell_type": "code",
   "execution_count": null,
   "metadata": {},
   "outputs": [],
   "source": []
  },
  {
   "cell_type": "markdown",
   "metadata": {},
   "source": [
    "-----"
   ]
  },
  {
   "cell_type": "code",
   "execution_count": 119,
   "metadata": {},
   "outputs": [],
   "source": [
    "from sklearn.linear_model import LogisticRegression"
   ]
  },
  {
   "cell_type": "code",
   "execution_count": 120,
   "metadata": {},
   "outputs": [],
   "source": [
    "clf = LogisticRegression()"
   ]
  },
  {
   "cell_type": "code",
   "execution_count": null,
   "metadata": {},
   "outputs": [],
   "source": []
  },
  {
   "cell_type": "code",
   "execution_count": 92,
   "metadata": {},
   "outputs": [
    {
     "data": {
      "text/plain": [
       "<AxesSubplot:ylabel='Density'>"
      ]
     },
     "execution_count": 92,
     "metadata": {},
     "output_type": "execute_result"
    },
    {
     "data": {
      "text/plain": [
       "<AxesSubplot:ylabel='Density'>"
      ]
     },
     "execution_count": 92,
     "metadata": {},
     "output_type": "execute_result"
    },
    {
     "data": {
      "text/plain": [
       "<matplotlib.legend.Legend at 0x13bc30610>"
      ]
     },
     "execution_count": 92,
     "metadata": {},
     "output_type": "execute_result"
    },
    {
     "data": {
      "image/png": "[encoded data removed]",
      "text/plain": [
       "<Figure size 432x288 with 1 Axes>"
      ]
     },
     "metadata": {
      "needs_background": "light"
     },
     "output_type": "display_data"
    }
   ],
   "source": [
    "tp_variances.diag_137.plot.kde(label='True positives')\n",
    "fp_variances.diag_137.plot.kde(label='False positives')\n",
    "plt.legend()"
   ]
  },
  {
   "cell_type": "code",
   "execution_count": 86,
   "metadata": {},
   "outputs": [
    {
     "data": {
      "text/plain": [
       "diag_53     104.0\n",
       "diag_51     111.0\n",
       "diag_149    111.0\n",
       "diag_239    112.0\n",
       "diag_122    119.0\n",
       "diag_5      129.0\n",
       "diag_101    138.0\n",
       "diag_246    140.0\n",
       "diag_120    142.0\n",
       "diag_221    143.0\n",
       "diag_116    146.0\n",
       "diag_115    147.0\n",
       "diag_92     155.0\n",
       "diag_87     156.0\n",
       "diag_90     167.0\n",
       "diag_58     168.0\n",
       "diag_70     171.0\n",
       "diag_121    175.0\n",
       "diag_226    176.0\n",
       "diag_267    178.0\n",
       "diag_137    183.0\n",
       "diag_176    188.0\n",
       "diag_188    188.0\n",
       "diag_139    200.0\n",
       "diag_117    207.0\n",
       "diag_84     208.0\n",
       "diag_249    218.0\n",
       "diag_105    228.0\n",
       "diag_47     237.0\n",
       "diag_56     237.0\n",
       "diag_60     242.0\n",
       "diag_104    262.0\n",
       "diag_2      268.0\n",
       "diag_266    285.0\n",
       "diag_49     287.0\n",
       "diag_243    288.0\n",
       "diag_214    316.0\n",
       "diag_83     320.0\n",
       "diag_141    333.0\n",
       "diag_145    335.0\n",
       "diag_125    339.0\n",
       "diag_109    341.0\n",
       "diag_114    346.0\n",
       "diag_82     363.0\n",
       "diag_48     377.0\n",
       "diag_1      382.0\n",
       "diag_233    421.0\n",
       "diag_86     423.0\n",
       "diag_144    467.0\n",
       "diag_215    471.0\n",
       "diag_52     525.0\n",
       "diag_235    526.0\n",
       "diag_143    531.0\n",
       "diag_118    532.0\n",
       "diag_57     598.0\n",
       "diag_88     663.0\n",
       "diag_54     680.0\n",
       "diag_93     691.0\n",
       "diag_85     710.0\n",
       "diag_95     758.0\n",
       "dtype: float32"
      ]
     },
     "execution_count": 86,
     "metadata": {},
     "output_type": "execute_result"
    }
   ],
   "source": [
    "golden.sum(axis=0).sort_values().where(lambda x: x > 100).dropna()"
   ]
  },
  {
   "cell_type": "code",
   "execution_count": null,
   "metadata": {},
   "outputs": [],
   "source": [
    "k = 30\n",
    "topk_outputs = res.apply(lambda row: row.loc[idx[:,'mean']].nlargest(k),axis=1)\n",
    "\n",
    "# fix missing columns from previous operation\n",
    "missing_cols = [col for col in model_outputs.columns if col not in topk_outputs.columns]\n",
    "topk_outputs_all_cols = pd.concat([topk_outputs,pd.DataFrame(columns=missing_cols)])\n",
    "topk_outputs_all_cols = topk_outputs_all_cols[model_outputs.columns]\n",
    "\n",
    "## sometimes k > (#logits>0) so we will turn all 0 logits into nan so that the following lines don't convert them to predictions\n",
    "topk_outputs_all_cols = topk_outputs_all_cols.mask(topk_outputs_all_cols == 0,np.nan)\n",
    "# done, continuing...\n",
    "\n",
    "topk_predictions = np.where(topk_outputs_all_cols.isna(),0,1)\n",
    "topk_predictions = pd.DataFrame(data=topk_predictions,columns=model_predictions.columns,index=model_predictions.index)"
   ]
  },
  {
   "cell_type": "code",
   "execution_count": 20,
   "metadata": {},
   "outputs": [],
   "source": [
    "def train_multiple_epochs(**kwargs):\n",
    "    n_epochs = kwargs.get('n_epochs',15)\n",
    "    \n",
    "    \n",
    "    model = VariationalRNN(kwargs.get('input_size'),\n",
    "                           kwargs.get('hidden_size'),\n",
    "                           kwargs.get('n_labels'),\n",
    "                           kwargs.get('num_layers'),\n",
    "                           kwargs.get('rnn_type'),\n",
    "                           kwargs.get('dropoutii'),\n",
    "                           kwargs.get('dropoutww'),\n",
    "                           kwargs.get('dropoutoo'))\n",
    "    \n",
    "    opt = torch.optim.Adam(model.parameters(), lr=0.01)\n",
    "    criterion = torch.nn.BCEWithLogitsLoss()\n",
    "    \n",
    "    for epoch in range(n_epochs):\n",
    "        train_one_epoch(model,train_dataloader,epoch,criterion,opt)\n",
    "    \n",
    "    res = eval_model(model,val_dataloader,dataset,criterion,'all','eval',False,'last adm',30)\n",
    "    return res['last adm']['recall30']['mean']\n",
    "func = lambda dropoutii,dropoutww,dropoutoo: train_multiple_epochs(n_epochs=10,\n",
    "                                                                input_size=input_size,\n",
    "                                                                hidden_size=hidden_size,\n",
    "                                                                n_labels=n_labels,\n",
    "                                                                num_layers=num_layers,\n",
    "                                                                rnn_type=model_type,\n",
    "                                                                dropoutii=dropoutii,\n",
    "                                                                dropoutww=dropoutww,\n",
    "                                                                dropoutoo=dropoutoo)"
   ]
  },
  {
   "cell_type": "code",
   "execution_count": 13,
   "metadata": {},
   "outputs": [
    {
     "name": "stdout",
     "output_type": "stream",
     "text": [
      "|   iter    |  target   | dropoutii | dropoutoo | dropoutww |\n",
      "-------------------------------------------------------------\n",
      "| \u001b[0m 1       \u001b[0m | \u001b[0m 0.6002  \u001b[0m | \u001b[0m 0.3919  \u001b[0m | \u001b[0m 0.6042  \u001b[0m | \u001b[0m 0.1001  \u001b[0m |\n",
      "| \u001b[0m 2       \u001b[0m | \u001b[0m 0.5985  \u001b[0m | \u001b[0m 0.3116  \u001b[0m | \u001b[0m 0.2027  \u001b[0m | \u001b[0m 0.1646  \u001b[0m |\n",
      "| \u001b[95m 3       \u001b[0m | \u001b[95m 0.6059  \u001b[0m | \u001b[95m 0.2304  \u001b[0m | \u001b[95m 0.3419  \u001b[0m | \u001b[95m 0.3777  \u001b[0m |\n",
      "| \u001b[0m 4       \u001b[0m | \u001b[0m 0.5755  \u001b[0m | \u001b[0m 0.4772  \u001b[0m | \u001b[0m 0.3934  \u001b[0m | \u001b[0m 0.5797  \u001b[0m |\n",
      "| \u001b[0m 5       \u001b[0m | \u001b[0m 0.5895  \u001b[0m | \u001b[0m 0.2431  \u001b[0m | \u001b[0m 0.7147  \u001b[0m | \u001b[0m 0.1192  \u001b[0m |\n",
      "| \u001b[0m 6       \u001b[0m | \u001b[0m 0.5383  \u001b[0m | \u001b[0m 0.3631  \u001b[0m | \u001b[0m 0.6529  \u001b[0m | \u001b[0m 0.6421  \u001b[0m |\n",
      "| \u001b[95m 7       \u001b[0m | \u001b[95m 0.6168  \u001b[0m | \u001b[95m 0.1     \u001b[0m | \u001b[95m 0.1     \u001b[0m | \u001b[95m 0.4499  \u001b[0m |\n",
      "| \u001b[0m 8       \u001b[0m | \u001b[0m 0.5568  \u001b[0m | \u001b[0m 0.1     \u001b[0m | \u001b[0m 0.1     \u001b[0m | \u001b[0m 0.8     \u001b[0m |\n",
      "| \u001b[0m 9       \u001b[0m | \u001b[0m 0.5687  \u001b[0m | \u001b[0m 0.2593  \u001b[0m | \u001b[0m 0.2089  \u001b[0m | \u001b[0m 0.7631  \u001b[0m |\n",
      "| \u001b[0m 10      \u001b[0m | \u001b[0m 0.5874  \u001b[0m | \u001b[0m 0.6084  \u001b[0m | \u001b[0m 0.61    \u001b[0m | \u001b[0m 0.2363  \u001b[0m |\n",
      "| \u001b[95m 11      \u001b[0m | \u001b[95m 0.6287  \u001b[0m | \u001b[95m 0.1     \u001b[0m | \u001b[95m 0.1     \u001b[0m | \u001b[95m 0.242   \u001b[0m |\n",
      "| \u001b[0m 12      \u001b[0m | \u001b[0m 0.5682  \u001b[0m | \u001b[0m 0.7688  \u001b[0m | \u001b[0m 0.5648  \u001b[0m | \u001b[0m 0.4295  \u001b[0m |\n"
     ]
    },
    {
     "ename": "KeyboardInterrupt",
     "evalue": "",
     "output_type": "error",
     "traceback": [
      "\u001b[0;31m---------------------------------------------------------------------------\u001b[0m",
      "\u001b[0;31mKeyError\u001b[0m                                  Traceback (most recent call last)",
      "\u001b[0;32m~/opt/miniconda3/envs/thesis/lib/python3.9/site-packages/bayes_opt/target_space.py\u001b[0m in \u001b[0;36mprobe\u001b[0;34m(self, params)\u001b[0m\n\u001b[1;32m    190\u001b[0m         \u001b[0;32mtry\u001b[0m\u001b[0;34m:\u001b[0m\u001b[0;34m\u001b[0m\u001b[0;34m\u001b[0m\u001b[0m\n\u001b[0;32m--> 191\u001b[0;31m             \u001b[0mtarget\u001b[0m \u001b[0;34m=\u001b[0m \u001b[0mself\u001b[0m\u001b[0;34m.\u001b[0m\u001b[0m_cache\u001b[0m\u001b[0;34m[\u001b[0m\u001b[0m_hashable\u001b[0m\u001b[0;34m(\u001b[0m\u001b[0mx\u001b[0m\u001b[0;34m)\u001b[0m\u001b[0;34m]\u001b[0m\u001b[0;34m\u001b[0m\u001b[0;34m\u001b[0m\u001b[0m\n\u001b[0m\u001b[1;32m    192\u001b[0m         \u001b[0;32mexcept\u001b[0m \u001b[0mKeyError\u001b[0m\u001b[0;34m:\u001b[0m\u001b[0;34m\u001b[0m\u001b[0;34m\u001b[0m\u001b[0m\n",
      "\u001b[0;31mKeyError\u001b[0m: (0.4421129060123973, 0.6888250716125918, 0.7853479068552041)",
      "\nDuring handling of the above exception, another exception occurred:\n",
      "\u001b[0;31mKeyboardInterrupt\u001b[0m                         Traceback (most recent call last)",
      "\u001b[0;32m/var/folders/__/lcwlgwm95q9_vf5ypxxn3d7c0000gn/T/ipykernel_23217/970594063.py\u001b[0m in \u001b[0;36m<module>\u001b[0;34m\u001b[0m\n\u001b[1;32m     13\u001b[0m     \u001b[0mrandom_state\u001b[0m\u001b[0;34m=\u001b[0m\u001b[0;36m1\u001b[0m\u001b[0;34m,\u001b[0m\u001b[0;34m\u001b[0m\u001b[0;34m\u001b[0m\u001b[0m\n\u001b[1;32m     14\u001b[0m )\n\u001b[0;32m---> 15\u001b[0;31m \u001b[0moptimizer\u001b[0m\u001b[0;34m.\u001b[0m\u001b[0mmaximize\u001b[0m\u001b[0;34m(\u001b[0m\u001b[0minit_points\u001b[0m\u001b[0;34m=\u001b[0m\u001b[0;36m5\u001b[0m\u001b[0;34m,\u001b[0m\u001b[0mn_iter\u001b[0m\u001b[0;34m=\u001b[0m\u001b[0;36m15\u001b[0m\u001b[0;34m)\u001b[0m\u001b[0;34m\u001b[0m\u001b[0;34m\u001b[0m\u001b[0m\n\u001b[0m",
      "\u001b[0;32m~/opt/miniconda3/envs/thesis/lib/python3.9/site-packages/bayes_opt/bayesian_optimization.py\u001b[0m in \u001b[0;36mmaximize\u001b[0;34m(self, init_points, n_iter, acq, kappa, xi, **gp_params)\u001b[0m\n\u001b[1;32m    172\u001b[0m                 \u001b[0miteration\u001b[0m \u001b[0;34m+=\u001b[0m \u001b[0;36m1\u001b[0m\u001b[0;34m\u001b[0m\u001b[0;34m\u001b[0m\u001b[0m\n\u001b[1;32m    173\u001b[0m \u001b[0;34m\u001b[0m\u001b[0m\n\u001b[0;32m--> 174\u001b[0;31m             \u001b[0mself\u001b[0m\u001b[0;34m.\u001b[0m\u001b[0mprobe\u001b[0m\u001b[0;34m(\u001b[0m\u001b[0mx_probe\u001b[0m\u001b[0;34m,\u001b[0m \u001b[0mlazy\u001b[0m\u001b[0;34m=\u001b[0m\u001b[0;32mFalse\u001b[0m\u001b[0;34m)\u001b[0m\u001b[0;34m\u001b[0m\u001b[0;34m\u001b[0m\u001b[0m\n\u001b[0m\u001b[1;32m    175\u001b[0m \u001b[0;34m\u001b[0m\u001b[0m\n\u001b[1;32m    176\u001b[0m         \u001b[0mself\u001b[0m\u001b[0;34m.\u001b[0m\u001b[0mdispatch\u001b[0m\u001b[0;34m(\u001b[0m\u001b[0mEvents\u001b[0m\u001b[0;34m.\u001b[0m\u001b[0mOPTIMIZATION_END\u001b[0m\u001b[0;34m)\u001b[0m\u001b[0;34m\u001b[0m\u001b[0;34m\u001b[0m\u001b[0m\n",
      "\u001b[0;32m~/opt/miniconda3/envs/thesis/lib/python3.9/site-packages/bayes_opt/bayesian_optimization.py\u001b[0m in \u001b[0;36mprobe\u001b[0;34m(self, params, lazy)\u001b[0m\n\u001b[1;32m    110\u001b[0m             \u001b[0mself\u001b[0m\u001b[0;34m.\u001b[0m\u001b[0m_queue\u001b[0m\u001b[0;34m.\u001b[0m\u001b[0madd\u001b[0m\u001b[0;34m(\u001b[0m\u001b[0mparams\u001b[0m\u001b[0;34m)\u001b[0m\u001b[0;34m\u001b[0m\u001b[0;34m\u001b[0m\u001b[0m\n\u001b[1;32m    111\u001b[0m         \u001b[0;32melse\u001b[0m\u001b[0;34m:\u001b[0m\u001b[0;34m\u001b[0m\u001b[0;34m\u001b[0m\u001b[0m\n\u001b[0;32m--> 112\u001b[0;31m             \u001b[0mself\u001b[0m\u001b[0;34m.\u001b[0m\u001b[0m_space\u001b[0m\u001b[0;34m.\u001b[0m\u001b[0mprobe\u001b[0m\u001b[0;34m(\u001b[0m\u001b[0mparams\u001b[0m\u001b[0;34m)\u001b[0m\u001b[0;34m\u001b[0m\u001b[0;34m\u001b[0m\u001b[0m\n\u001b[0m\u001b[1;32m    113\u001b[0m             \u001b[0mself\u001b[0m\u001b[0;34m.\u001b[0m\u001b[0mdispatch\u001b[0m\u001b[0;34m(\u001b[0m\u001b[0mEvents\u001b[0m\u001b[0;34m.\u001b[0m\u001b[0mOPTIMIZATION_STEP\u001b[0m\u001b[0;34m)\u001b[0m\u001b[0;34m\u001b[0m\u001b[0;34m\u001b[0m\u001b[0m\n\u001b[1;32m    114\u001b[0m \u001b[0;34m\u001b[0m\u001b[0m\n",
      "\u001b[0;32m~/opt/miniconda3/envs/thesis/lib/python3.9/site-packages/bayes_opt/target_space.py\u001b[0m in \u001b[0;36mprobe\u001b[0;34m(self, params)\u001b[0m\n\u001b[1;32m    192\u001b[0m         \u001b[0;32mexcept\u001b[0m \u001b[0mKeyError\u001b[0m\u001b[0;34m:\u001b[0m\u001b[0;34m\u001b[0m\u001b[0;34m\u001b[0m\u001b[0m\n\u001b[1;32m    193\u001b[0m             \u001b[0mparams\u001b[0m \u001b[0;34m=\u001b[0m \u001b[0mdict\u001b[0m\u001b[0;34m(\u001b[0m\u001b[0mzip\u001b[0m\u001b[0;34m(\u001b[0m\u001b[0mself\u001b[0m\u001b[0;34m.\u001b[0m\u001b[0m_keys\u001b[0m\u001b[0;34m,\u001b[0m \u001b[0mx\u001b[0m\u001b[0;34m)\u001b[0m\u001b[0;34m)\u001b[0m\u001b[0;34m\u001b[0m\u001b[0;34m\u001b[0m\u001b[0m\n\u001b[0;32m--> 194\u001b[0;31m             \u001b[0mtarget\u001b[0m \u001b[0;34m=\u001b[0m \u001b[0mself\u001b[0m\u001b[0;34m.\u001b[0m\u001b[0mtarget_func\u001b[0m\u001b[0;34m(\u001b[0m\u001b[0;34m**\u001b[0m\u001b[0mparams\u001b[0m\u001b[0;34m)\u001b[0m\u001b[0;34m\u001b[0m\u001b[0;34m\u001b[0m\u001b[0m\n\u001b[0m\u001b[1;32m    195\u001b[0m             \u001b[0mself\u001b[0m\u001b[0;34m.\u001b[0m\u001b[0mregister\u001b[0m\u001b[0;34m(\u001b[0m\u001b[0mx\u001b[0m\u001b[0;34m,\u001b[0m \u001b[0mtarget\u001b[0m\u001b[0;34m)\u001b[0m\u001b[0;34m\u001b[0m\u001b[0;34m\u001b[0m\u001b[0m\n\u001b[1;32m    196\u001b[0m         \u001b[0;32mreturn\u001b[0m \u001b[0mtarget\u001b[0m\u001b[0;34m\u001b[0m\u001b[0;34m\u001b[0m\u001b[0m\n",
      "\u001b[0;32m/var/folders/__/lcwlgwm95q9_vf5ypxxn3d7c0000gn/T/ipykernel_23217/1400149000.py\u001b[0m in \u001b[0;36m<lambda>\u001b[0;34m(dropoutii, dropoutww, dropoutoo)\u001b[0m\n\u001b[1;32m     20\u001b[0m     \u001b[0mres\u001b[0m \u001b[0;34m=\u001b[0m \u001b[0meval_model\u001b[0m\u001b[0;34m(\u001b[0m\u001b[0mmodel\u001b[0m\u001b[0;34m,\u001b[0m\u001b[0mval_dataloader\u001b[0m\u001b[0;34m,\u001b[0m\u001b[0mdataset\u001b[0m\u001b[0;34m,\u001b[0m\u001b[0mcriterion\u001b[0m\u001b[0;34m,\u001b[0m\u001b[0;34m'all'\u001b[0m\u001b[0;34m,\u001b[0m\u001b[0;34m'eval'\u001b[0m\u001b[0;34m,\u001b[0m\u001b[0;32mFalse\u001b[0m\u001b[0;34m,\u001b[0m\u001b[0;34m'last adm'\u001b[0m\u001b[0;34m,\u001b[0m\u001b[0;36m30\u001b[0m\u001b[0;34m)\u001b[0m\u001b[0;34m\u001b[0m\u001b[0;34m\u001b[0m\u001b[0m\n\u001b[1;32m     21\u001b[0m     \u001b[0;32mreturn\u001b[0m \u001b[0mres\u001b[0m\u001b[0;34m[\u001b[0m\u001b[0;34m'last adm'\u001b[0m\u001b[0;34m]\u001b[0m\u001b[0;34m[\u001b[0m\u001b[0;34m'recall30'\u001b[0m\u001b[0;34m]\u001b[0m\u001b[0;34m[\u001b[0m\u001b[0;34m'mean'\u001b[0m\u001b[0;34m]\u001b[0m\u001b[0;34m\u001b[0m\u001b[0;34m\u001b[0m\u001b[0m\n\u001b[0;32m---> 22\u001b[0;31m func = lambda dropoutii,dropoutww,dropoutoo: train_multiple_epochs(n_epochs=15,\n\u001b[0m\u001b[1;32m     23\u001b[0m                                                                 \u001b[0minput_size\u001b[0m\u001b[0;34m=\u001b[0m\u001b[0minput_size\u001b[0m\u001b[0;34m,\u001b[0m\u001b[0;34m\u001b[0m\u001b[0;34m\u001b[0m\u001b[0m\n\u001b[1;32m     24\u001b[0m                                                                 \u001b[0mhidden_size\u001b[0m\u001b[0;34m=\u001b[0m\u001b[0mhidden_size\u001b[0m\u001b[0;34m,\u001b[0m\u001b[0;34m\u001b[0m\u001b[0;34m\u001b[0m\u001b[0m\n",
      "\u001b[0;32m/var/folders/__/lcwlgwm95q9_vf5ypxxn3d7c0000gn/T/ipykernel_23217/1400149000.py\u001b[0m in \u001b[0;36mtrain_multiple_epochs\u001b[0;34m(**kwargs)\u001b[0m\n\u001b[1;32m     16\u001b[0m \u001b[0;34m\u001b[0m\u001b[0m\n\u001b[1;32m     17\u001b[0m     \u001b[0;32mfor\u001b[0m \u001b[0mepoch\u001b[0m \u001b[0;32min\u001b[0m \u001b[0mrange\u001b[0m\u001b[0;34m(\u001b[0m\u001b[0mn_epochs\u001b[0m\u001b[0;34m)\u001b[0m\u001b[0;34m:\u001b[0m\u001b[0;34m\u001b[0m\u001b[0;34m\u001b[0m\u001b[0m\n\u001b[0;32m---> 18\u001b[0;31m         \u001b[0mtrain_one_epoch\u001b[0m\u001b[0;34m(\u001b[0m\u001b[0mmodel\u001b[0m\u001b[0;34m,\u001b[0m\u001b[0mtrain_dataloader\u001b[0m\u001b[0;34m,\u001b[0m\u001b[0mepoch\u001b[0m\u001b[0;34m,\u001b[0m\u001b[0mcriterion\u001b[0m\u001b[0;34m,\u001b[0m\u001b[0mopt\u001b[0m\u001b[0;34m)\u001b[0m\u001b[0;34m\u001b[0m\u001b[0;34m\u001b[0m\u001b[0m\n\u001b[0m\u001b[1;32m     19\u001b[0m \u001b[0;34m\u001b[0m\u001b[0m\n\u001b[1;32m     20\u001b[0m     \u001b[0mres\u001b[0m \u001b[0;34m=\u001b[0m \u001b[0meval_model\u001b[0m\u001b[0;34m(\u001b[0m\u001b[0mmodel\u001b[0m\u001b[0;34m,\u001b[0m\u001b[0mval_dataloader\u001b[0m\u001b[0;34m,\u001b[0m\u001b[0mdataset\u001b[0m\u001b[0;34m,\u001b[0m\u001b[0mcriterion\u001b[0m\u001b[0;34m,\u001b[0m\u001b[0;34m'all'\u001b[0m\u001b[0;34m,\u001b[0m\u001b[0;34m'eval'\u001b[0m\u001b[0;34m,\u001b[0m\u001b[0;32mFalse\u001b[0m\u001b[0;34m,\u001b[0m\u001b[0;34m'last adm'\u001b[0m\u001b[0;34m,\u001b[0m\u001b[0;36m30\u001b[0m\u001b[0;34m)\u001b[0m\u001b[0;34m\u001b[0m\u001b[0;34m\u001b[0m\u001b[0m\n",
      "\u001b[0;32m~/Documents/GitHub/master-thesis/mourga_variational/../rnn_utils.py\u001b[0m in \u001b[0;36mtrain_one_epoch\u001b[0;34m(model, train_loader, epoch, criterion, optimizer)\u001b[0m\n\u001b[1;32m    337\u001b[0m         \u001b[0;31m# forward + backward + optimize\u001b[0m\u001b[0;34m\u001b[0m\u001b[0;34m\u001b[0m\u001b[0m\n\u001b[1;32m    338\u001b[0m \u001b[0;34m\u001b[0m\u001b[0m\n\u001b[0;32m--> 339\u001b[0;31m         \u001b[0mouts\u001b[0m \u001b[0;34m=\u001b[0m \u001b[0mmodel\u001b[0m\u001b[0;34m(\u001b[0m\u001b[0mhistory_sequences\u001b[0m\u001b[0;34m[\u001b[0m\u001b[0;34m'sequence'\u001b[0m\u001b[0;34m]\u001b[0m\u001b[0;34m)\u001b[0m\u001b[0;34m\u001b[0m\u001b[0;34m\u001b[0m\u001b[0m\n\u001b[0m\u001b[1;32m    340\u001b[0m \u001b[0;34m\u001b[0m\u001b[0m\n\u001b[1;32m    341\u001b[0m         \u001b[0mloss\u001b[0m \u001b[0;34m=\u001b[0m \u001b[0mcriterion\u001b[0m\u001b[0;34m(\u001b[0m\u001b[0mouts\u001b[0m\u001b[0;34m,\u001b[0m \u001b[0mtarget_sequences\u001b[0m\u001b[0;34m[\u001b[0m\u001b[0;34m'sequence'\u001b[0m\u001b[0;34m]\u001b[0m\u001b[0;34m)\u001b[0m\u001b[0;34m\u001b[0m\u001b[0;34m\u001b[0m\u001b[0m\n",
      "\u001b[0;32m~/opt/miniconda3/envs/thesis/lib/python3.9/site-packages/torch/nn/modules/module.py\u001b[0m in \u001b[0;36m_call_impl\u001b[0;34m(self, *input, **kwargs)\u001b[0m\n\u001b[1;32m   1049\u001b[0m         if not (self._backward_hooks or self._forward_hooks or self._forward_pre_hooks or _global_backward_hooks\n\u001b[1;32m   1050\u001b[0m                 or _global_forward_hooks or _global_forward_pre_hooks):\n\u001b[0;32m-> 1051\u001b[0;31m             \u001b[0;32mreturn\u001b[0m \u001b[0mforward_call\u001b[0m\u001b[0;34m(\u001b[0m\u001b[0;34m*\u001b[0m\u001b[0minput\u001b[0m\u001b[0;34m,\u001b[0m \u001b[0;34m**\u001b[0m\u001b[0mkwargs\u001b[0m\u001b[0;34m)\u001b[0m\u001b[0;34m\u001b[0m\u001b[0;34m\u001b[0m\u001b[0m\n\u001b[0m\u001b[1;32m   1052\u001b[0m         \u001b[0;31m# Do not call functions when jit is used\u001b[0m\u001b[0;34m\u001b[0m\u001b[0;34m\u001b[0m\u001b[0m\n\u001b[1;32m   1053\u001b[0m         \u001b[0mfull_backward_hooks\u001b[0m\u001b[0;34m,\u001b[0m \u001b[0mnon_full_backward_hooks\u001b[0m \u001b[0;34m=\u001b[0m \u001b[0;34m[\u001b[0m\u001b[0;34m]\u001b[0m\u001b[0;34m,\u001b[0m \u001b[0;34m[\u001b[0m\u001b[0;34m]\u001b[0m\u001b[0;34m\u001b[0m\u001b[0;34m\u001b[0m\u001b[0m\n",
      "\u001b[0;32m~/Documents/GitHub/master-thesis/mourga_variational/variational_rnn.py\u001b[0m in \u001b[0;36mforward\u001b[0;34m(self, batch)\u001b[0m\n\u001b[1;32m     96\u001b[0m         \u001b[0;32mfor\u001b[0m \u001b[0ml\u001b[0m\u001b[0;34m,\u001b[0m \u001b[0mrnn\u001b[0m \u001b[0;32min\u001b[0m \u001b[0menumerate\u001b[0m\u001b[0;34m(\u001b[0m\u001b[0mself\u001b[0m\u001b[0;34m.\u001b[0m\u001b[0mrnns\u001b[0m\u001b[0;34m)\u001b[0m\u001b[0;34m:\u001b[0m\u001b[0;34m\u001b[0m\u001b[0;34m\u001b[0m\u001b[0m\n\u001b[1;32m     97\u001b[0m             \u001b[0;31m# calculate hidden states and output from the l RNN layer\u001b[0m\u001b[0;34m\u001b[0m\u001b[0;34m\u001b[0m\u001b[0m\n\u001b[0;32m---> 98\u001b[0;31m             \u001b[0mout\u001b[0m\u001b[0;34m,\u001b[0m \u001b[0m_\u001b[0m \u001b[0;34m=\u001b[0m \u001b[0mrnn\u001b[0m\u001b[0;34m(\u001b[0m\u001b[0mout\u001b[0m\u001b[0;34m)\u001b[0m\u001b[0;34m\u001b[0m\u001b[0;34m\u001b[0m\u001b[0m\n\u001b[0m\u001b[1;32m     99\u001b[0m \u001b[0;34m\u001b[0m\u001b[0m\n\u001b[1;32m    100\u001b[0m             \u001b[0;31m# apply dropout to the output of the l-th RNN layer (dropouto)\u001b[0m\u001b[0;34m\u001b[0m\u001b[0;34m\u001b[0m\u001b[0m\n",
      "\u001b[0;32m~/opt/miniconda3/envs/thesis/lib/python3.9/site-packages/torch/nn/modules/module.py\u001b[0m in \u001b[0;36m_call_impl\u001b[0;34m(self, *input, **kwargs)\u001b[0m\n\u001b[1;32m   1049\u001b[0m         if not (self._backward_hooks or self._forward_hooks or self._forward_pre_hooks or _global_backward_hooks\n\u001b[1;32m   1050\u001b[0m                 or _global_forward_hooks or _global_forward_pre_hooks):\n\u001b[0;32m-> 1051\u001b[0;31m             \u001b[0;32mreturn\u001b[0m \u001b[0mforward_call\u001b[0m\u001b[0;34m(\u001b[0m\u001b[0;34m*\u001b[0m\u001b[0minput\u001b[0m\u001b[0;34m,\u001b[0m \u001b[0;34m**\u001b[0m\u001b[0mkwargs\u001b[0m\u001b[0;34m)\u001b[0m\u001b[0;34m\u001b[0m\u001b[0;34m\u001b[0m\u001b[0m\n\u001b[0m\u001b[1;32m   1052\u001b[0m         \u001b[0;31m# Do not call functions when jit is used\u001b[0m\u001b[0;34m\u001b[0m\u001b[0;34m\u001b[0m\u001b[0m\n\u001b[1;32m   1053\u001b[0m         \u001b[0mfull_backward_hooks\u001b[0m\u001b[0;34m,\u001b[0m \u001b[0mnon_full_backward_hooks\u001b[0m \u001b[0;34m=\u001b[0m \u001b[0;34m[\u001b[0m\u001b[0;34m]\u001b[0m\u001b[0;34m,\u001b[0m \u001b[0;34m[\u001b[0m\u001b[0;34m]\u001b[0m\u001b[0;34m\u001b[0m\u001b[0;34m\u001b[0m\u001b[0m\n",
      "\u001b[0;32m~/Documents/GitHub/master-thesis/mourga_variational/weight_drop.py\u001b[0m in \u001b[0;36mforward\u001b[0;34m(self, *args)\u001b[0m\n\u001b[1;32m     91\u001b[0m         \u001b[0;32mif\u001b[0m \u001b[0mself\u001b[0m\u001b[0;34m.\u001b[0m\u001b[0mtraining\u001b[0m\u001b[0;34m:\u001b[0m\u001b[0;34m\u001b[0m\u001b[0;34m\u001b[0m\u001b[0m\n\u001b[1;32m     92\u001b[0m             \u001b[0mself\u001b[0m\u001b[0;34m.\u001b[0m\u001b[0m_setweights\u001b[0m\u001b[0;34m(\u001b[0m\u001b[0;34m)\u001b[0m\u001b[0;34m\u001b[0m\u001b[0;34m\u001b[0m\u001b[0m\n\u001b[0;32m---> 93\u001b[0;31m         \u001b[0;32mreturn\u001b[0m \u001b[0mself\u001b[0m\u001b[0;34m.\u001b[0m\u001b[0mmodule\u001b[0m\u001b[0;34m.\u001b[0m\u001b[0mforward\u001b[0m\u001b[0;34m(\u001b[0m\u001b[0;34m*\u001b[0m\u001b[0margs\u001b[0m\u001b[0;34m)\u001b[0m\u001b[0;34m\u001b[0m\u001b[0;34m\u001b[0m\u001b[0m\n\u001b[0m\u001b[1;32m     94\u001b[0m \u001b[0;34m\u001b[0m\u001b[0m\n\u001b[1;32m     95\u001b[0m \u001b[0;34m\u001b[0m\u001b[0m\n",
      "\u001b[0;32m~/opt/miniconda3/envs/thesis/lib/python3.9/site-packages/torch/nn/modules/rnn.py\u001b[0m in \u001b[0;36mforward\u001b[0;34m(self, input, hx)\u001b[0m\n\u001b[1;32m    269\u001b[0m                            self.dropout, self.training, self.bidirectional, self.batch_first)\n\u001b[1;32m    270\u001b[0m         \u001b[0;32melse\u001b[0m\u001b[0;34m:\u001b[0m\u001b[0;34m\u001b[0m\u001b[0;34m\u001b[0m\u001b[0m\n\u001b[0;32m--> 271\u001b[0;31m             result = _impl(input, batch_sizes, hx, self._flat_weights, self.bias,\n\u001b[0m\u001b[1;32m    272\u001b[0m                            self.num_layers, self.dropout, self.training, self.bidirectional)\n\u001b[1;32m    273\u001b[0m \u001b[0;34m\u001b[0m\u001b[0m\n",
      "\u001b[0;31mKeyboardInterrupt\u001b[0m: "
     ]
    }
   ],
   "source": [
    "# bayesian optimization\n",
    "\n",
    "## bounds of parameter search\n",
    "pbounds = {'dropoutii': (0.1,0.8), \n",
    "           'dropoutww': (0.1,0.8),\n",
    "           'dropoutoo': (0.1,0.8)\n",
    "          }\n",
    "\n",
    "## parameter search\n",
    "optimizer = BayesianOptimization(\n",
    "    f=func,\n",
    "    pbounds=pbounds,\n",
    "    random_state=1,\n",
    ")\n",
    "optimizer.maximize(init_points=5,n_iter=15)"
   ]
  },
  {
   "cell_type": "code",
   "execution_count": 16,
   "metadata": {},
   "outputs": [
    {
     "data": {
      "text/plain": [
       "{'target': 0.6287178853774116,\n",
       " 'params': {'dropoutii': 0.1,\n",
       "  'dropoutoo': 0.1,\n",
       "  'dropoutww': 0.2419500529180941}}"
      ]
     },
     "execution_count": 16,
     "metadata": {},
     "output_type": "execute_result"
    }
   ],
   "source": [
    "#best_params_1st_run = optimizer.max\n",
    "#best_params_1st_run\n",
    "\n",
    "best_params = optimizer.max\n",
    "best_params"
   ]
  }
 ],
 "metadata": {
  "kernelspec": {
   "display_name": "Python (mthesis)",
   "language": "python",
   "name": "mthesis"
  },
  "language_info": {
   "codemirror_mode": {
    "name": "ipython",
    "version": 3
   },
   "file_extension": ".py",
   "mimetype": "text/x-python",
   "name": "python",
   "nbconvert_exporter": "python",
   "pygments_lexer": "ipython3",
   "version": "3.9.12"
  }
 },
 "nbformat": 4,
 "nbformat_minor": 4
}
