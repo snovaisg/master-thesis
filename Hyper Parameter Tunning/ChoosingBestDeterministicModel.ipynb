{
 "cells": [
  {
   "cell_type": "code",
   "execution_count": 1,
   "metadata": {},
   "outputs": [],
   "source": [
    "import os\n",
    "cwd = os.getcwd()\n",
    "\n",
    "# protection against running this cell multiple times\n",
    "assert os.path.dirname(cwd).split('/')[-1] == 'master-thesis','Oops, directory already changed previously as indended. Ignoring...'\n",
    "\n",
    "# change working directory (if assert passed)\n",
    "new_cwd = os.path.dirname(cwd) # parent directory\n",
    "os.chdir(new_cwd)"
   ]
  },
  {
   "cell_type": "code",
   "execution_count": 1,
   "metadata": {},
   "outputs": [],
   "source": [
    "import os\n",
    "from rnn_utils import DiagnosesDataset, split_dataset, MYCOLLATE\n",
    "from rnn_utils import RNN, train_one_epoch, train_one_epochV2, eval_model\n",
    "\n",
    "import torch\n",
    "from torch.utils.data import Dataset, DataLoader, random_split\n",
    "\n",
    "from sklearn.model_selection import ParameterGrid, ParameterSampler\n",
    "\n",
    "import numpy as np\n",
    "\n",
    "from config import Settings; settings = Settings()\n",
    "\n",
    "import wandb"
   ]
  },
  {
   "cell_type": "markdown",
   "metadata": {},
   "source": [
    "# Parameters"
   ]
  },
  {
   "cell_type": "code",
   "execution_count": 2,
   "metadata": {},
   "outputs": [],
   "source": [
    "dataset_id = 'diag_only'\n",
    "\n",
    "# model\n",
    "grouping = 'ccs'\n",
    "batch_size=64"
   ]
  },
  {
   "cell_type": "markdown",
   "metadata": {},
   "source": [
    "# Reproducibility"
   ]
  },
  {
   "cell_type": "code",
   "execution_count": 3,
   "metadata": {},
   "outputs": [
    {
     "data": {
      "text/plain": [
       "<torch._C.Generator at 0x112d34710>"
      ]
     },
     "execution_count": 3,
     "metadata": {},
     "output_type": "execute_result"
    }
   ],
   "source": [
    "# Reproducibility\n",
    "seed = settings.random_seed\n",
    "\n",
    "np.random.seed(seed)\n",
    "torch.manual_seed(seed)\n",
    "torch.cuda.manual_seed(seed)\n",
    "\n",
    "torch.backends.cudnn.deterministic = True\n",
    "torch.backends.cudnn.benchmark = False"
   ]
  },
  {
   "cell_type": "markdown",
   "metadata": {},
   "source": [
    "# Create dataset"
   ]
  },
  {
   "cell_type": "code",
   "execution_count": 4,
   "metadata": {},
   "outputs": [
    {
     "name": "stdout",
     "output_type": "stream",
     "text": [
      "dataset at data/model_ready_dataset/diag_only\n"
     ]
    }
   ],
   "source": [
    "dataset_folder = os.path.join(settings.data_base,settings.model_ready_dataset_folder,dataset_id)\n",
    "print('dataset at',dataset_folder)"
   ]
  },
  {
   "cell_type": "code",
   "execution_count": 5,
   "metadata": {},
   "outputs": [
    {
     "data": {
      "text/plain": [
       "5249"
      ]
     },
     "execution_count": 5,
     "metadata": {},
     "output_type": "execute_result"
    },
    {
     "data": {
      "text/plain": [
       "1125"
      ]
     },
     "execution_count": 5,
     "metadata": {},
     "output_type": "execute_result"
    },
    {
     "data": {
      "text/plain": [
       "1125"
      ]
     },
     "execution_count": 5,
     "metadata": {},
     "output_type": "execute_result"
    }
   ],
   "source": [
    "dataset = DiagnosesDataset(os.path.join(dataset_folder,'dataset.json'),grouping)\n",
    "\n",
    "train_dataset = DiagnosesDataset(os.path.join(dataset_folder,'train_subset.json'),grouping)\n",
    "val_dataset = DiagnosesDataset(os.path.join(dataset_folder,'val_subset.json'),grouping)\n",
    "test_dataset = DiagnosesDataset(os.path.join(dataset_folder,'test_subset.json'),grouping)\n",
    "\n",
    "\n",
    "len(train_dataset)\n",
    "len(val_dataset)\n",
    "len(test_dataset)\n",
    "\n",
    "\n",
    "train_dataloader = DataLoader(train_dataset,batch_size=batch_size,collate_fn=MYCOLLATE(dataset),shuffle=True)\n",
    "val_dataloader = DataLoader(val_dataset,batch_size=batch_size,collate_fn=MYCOLLATE(dataset)) #batch_size here is arbitrary and doesn't affect total validation speed\n",
    "test_dataloader = DataLoader(test_dataset,batch_size=batch_size,collate_fn=MYCOLLATE(dataset))"
   ]
  },
  {
   "cell_type": "markdown",
   "metadata": {},
   "source": [
    "# wandb"
   ]
  },
  {
   "cell_type": "code",
   "execution_count": 6,
   "metadata": {},
   "outputs": [
    {
     "name": "stderr",
     "output_type": "stream",
     "text": [
      "\u001b[34m\u001b[1mwandb\u001b[0m: Currently logged in as: \u001b[33msnovaisg\u001b[0m (use `wandb login --relogin` to force relogin)\n"
     ]
    },
    {
     "data": {
      "text/plain": [
       "True"
      ]
     },
     "execution_count": 6,
     "metadata": {},
     "output_type": "execute_result"
    }
   ],
   "source": [
    "wandb.login()"
   ]
  },
  {
   "cell_type": "markdown",
   "metadata": {},
   "source": [
    "## Define data and train conditions"
   ]
  },
  {
   "cell_type": "code",
   "execution_count": 7,
   "metadata": {},
   "outputs": [],
   "source": [
    "n_labels = input_size = next(iter(train_dataloader))['target_sequences']['sequence'].shape[2]\n",
    "\n",
    "criterion = torch.nn.BCEWithLogitsLoss(reduction='none')"
   ]
  },
  {
   "cell_type": "markdown",
   "metadata": {},
   "source": [
    "## Define search space"
   ]
  },
  {
   "cell_type": "code",
   "execution_count": 8,
   "metadata": {},
   "outputs": [
    {
     "name": "stdout",
     "output_type": "stream",
     "text": [
      "params: 72\n"
     ]
    }
   ],
   "source": [
    "hyperparameters = {\n",
    "    'hidden_size':[25,50,100,150], #-1 is to have the same as input size\n",
    "    'num_layers':[1,2],\n",
    "    'lr':[0.01,0.02,0.03],\n",
    "    'model':['rnn','gru','lstm']\n",
    "    \n",
    "}\n",
    "meta_parameters = {\n",
    "    'epochs':15\n",
    "}\n",
    "\n",
    "params = ParameterGrid(hyperparameters)\n",
    "print(f'params:',len(params))\n",
    "\n",
    "#random_params = ParameterSampler(params.param_grid,n_iter=len(params)-1,random_state=231)\n",
    "#next(iter(random_params))"
   ]
  },
  {
   "cell_type": "markdown",
   "metadata": {},
   "source": [
    "## Run models"
   ]
  },
  {
   "cell_type": "code",
   "execution_count": 9,
   "metadata": {},
   "outputs": [
    {
     "name": "stderr",
     "output_type": "stream",
     "text": [
      "\u001b[34m\u001b[1mwandb\u001b[0m: wandb version 0.12.11 is available!  To upgrade, please run:\n",
      "\u001b[34m\u001b[1mwandb\u001b[0m:  $ pip install wandb --upgrade\n"
     ]
    },
    {
     "data": {
      "text/html": [
       "\n",
       "                Tracking run with wandb version 0.12.1<br/>\n",
       "                Syncing run <strong style=\"color:#cdcd00\">peach-glitter-10</strong> to <a href=\"https://wandb.ai\" target=\"_blank\">Weights & Biases</a> <a href=\"https://docs.wandb.com/integrations/jupyter.html\" target=\"_blank\">(Documentation)</a>.<br/>\n",
       "                Project page: <a href=\"https://wandb.ai/snovaisg/thesis_basic_deterministic_model_tunning\" target=\"_blank\">https://wandb.ai/snovaisg/thesis_basic_deterministic_model_tunning</a><br/>\n",
       "                Run page: <a href=\"https://wandb.ai/snovaisg/thesis_basic_deterministic_model_tunning/runs/2ddv9doh\" target=\"_blank\">https://wandb.ai/snovaisg/thesis_basic_deterministic_model_tunning/runs/2ddv9doh</a><br/>\n",
       "                Run data is saved locally in <code>/Users/simaonovais/Documents/GitHub/master-thesis/wandb/run-20220308_124212-2ddv9doh</code><br/><br/>\n",
       "            "
      ],
      "text/plain": [
       "<IPython.core.display.HTML object>"
      ]
     },
     "metadata": {},
     "output_type": "display_data"
    },
    {
     "data": {
      "text/html": [
       "<h1>Run(2ddv9doh)</h1><iframe src=\"https://wandb.ai/snovaisg/thesis_basic_deterministic_model_tunning/runs/2ddv9doh\" style=\"border:none;width:100%;height:400px\"></iframe>"
      ],
      "text/plain": [
       "<wandb.sdk.wandb_run.Run at 0x1305c1dc0>"
      ]
     },
     "execution_count": 9,
     "metadata": {},
     "output_type": "execute_result"
    },
    {
     "name": "stderr",
     "output_type": "stream",
     "text": [
      "/Users/simaonovais/opt/miniconda3/envs/thesis/lib/python3.9/site-packages/numpy/core/fromnumeric.py:3440: RuntimeWarning: Mean of empty slice.\n",
      "  return _methods._mean(a, axis=axis, dtype=dtype,\n",
      "/Users/simaonovais/opt/miniconda3/envs/thesis/lib/python3.9/site-packages/numpy/core/_methods.py:189: RuntimeWarning: invalid value encountered in double_scalars\n",
      "  ret = ret.dtype.type(ret / rcount)\n",
      "/Users/simaonovais/opt/miniconda3/envs/thesis/lib/python3.9/site-packages/numpy/core/_methods.py:262: RuntimeWarning: Degrees of freedom <= 0 for slice\n",
      "  ret = _var(a, axis=axis, dtype=dtype, out=out, ddof=ddof,\n",
      "/Users/simaonovais/opt/miniconda3/envs/thesis/lib/python3.9/site-packages/numpy/core/_methods.py:222: RuntimeWarning: invalid value encountered in true_divide\n",
      "  arrmean = um.true_divide(arrmean, div, out=arrmean, casting='unsafe',\n",
      "/Users/simaonovais/opt/miniconda3/envs/thesis/lib/python3.9/site-packages/numpy/core/_methods.py:254: RuntimeWarning: invalid value encountered in double_scalars\n",
      "  ret = ret.dtype.type(ret / rcount)\n"
     ]
    },
    {
     "data": {
      "text/html": [
       "Finishing last run (ID:2ddv9doh) before initializing another..."
      ],
      "text/plain": [
       "<IPython.core.display.HTML object>"
      ]
     },
     "metadata": {},
     "output_type": "display_data"
    },
    {
     "data": {
      "text/html": [
       "<br/>Waiting for W&B process to finish, PID 17980<br/>Program ended successfully."
      ],
      "text/plain": [
       "<IPython.core.display.HTML object>"
      ]
     },
     "metadata": {},
     "output_type": "display_data"
    },
    {
     "data": {
      "text/html": [
       "Find user logs for this run at: <code>/Users/simaonovais/Documents/GitHub/master-thesis/wandb/run-20220308_124212-2ddv9doh/logs/debug.log</code>"
      ],
      "text/plain": [
       "<IPython.core.display.HTML object>"
      ]
     },
     "metadata": {},
     "output_type": "display_data"
    },
    {
     "data": {
      "text/html": [
       "Find internal logs for this run at: <code>/Users/simaonovais/Documents/GitHub/master-thesis/wandb/run-20220308_124212-2ddv9doh/logs/debug-internal.log</code>"
      ],
      "text/plain": [
       "<IPython.core.display.HTML object>"
      ]
     },
     "metadata": {},
     "output_type": "display_data"
    },
    {
     "data": {
      "text/html": [
       "<h3>Run summary:</h3><br/><style>\n",
       "    table.wandb td:nth-child(1) { padding: 0 10px; text-align: right }\n",
       "    </style><table class=\"wandb\">\n",
       "<tr><td>loss</td><td>0.12129</td></tr><tr><td>_runtime</td><td>23</td></tr><tr><td>_timestamp</td><td>1646743355</td></tr><tr><td>_step</td><td>15</td></tr><tr><td>train_loss</td><td>0.1201</td></tr><tr><td>train_recall@30</td><td>0.65726</td></tr><tr><td>val_loss</td><td>0.12063</td></tr><tr><td>recall@10</td><td>0.37645</td></tr><tr><td>recall@20</td><td>0.54677</td></tr><tr><td>recall@30</td><td>0.6594</td></tr></table>"
      ],
      "text/plain": [
       "<IPython.core.display.HTML object>"
      ]
     },
     "metadata": {},
     "output_type": "display_data"
    },
    {
     "data": {
      "text/html": [
       "<h3>Run history:</h3><br/><style>\n",
       "    table.wandb td:nth-child(1) { padding: 0 10px; text-align: right }\n",
       "    </style><table class=\"wandb\">\n",
       "<tr><td>loss</td><td>█▃▂▂▂▂▂▁▁▁▁▁▁▁▁</td></tr><tr><td>_runtime</td><td>▁▁▂▂▃▃▃▄▄▅▅▅▅▆▆█</td></tr><tr><td>_timestamp</td><td>▁▁▂▂▃▃▃▄▄▅▅▅▅▆▆█</td></tr><tr><td>_step</td><td>▁▁▂▂▃▃▄▄▅▅▆▆▇▇██</td></tr><tr><td>train_loss</td><td>▁</td></tr><tr><td>train_recall@30</td><td>▁</td></tr><tr><td>val_loss</td><td>▁</td></tr><tr><td>recall@10</td><td>▁</td></tr><tr><td>recall@20</td><td>▁</td></tr><tr><td>recall@30</td><td>▁</td></tr></table><br/>"
      ],
      "text/plain": [
       "<IPython.core.display.HTML object>"
      ]
     },
     "metadata": {},
     "output_type": "display_data"
    },
    {
     "data": {
      "text/html": [
       "Synced 7 W&B file(s), 0 media file(s), 2 artifact file(s) and 1 other file(s)"
      ],
      "text/plain": [
       "<IPython.core.display.HTML object>"
      ]
     },
     "metadata": {},
     "output_type": "display_data"
    },
    {
     "data": {
      "text/html": [
       "\n",
       "                    <br/>Synced <strong style=\"color:#cdcd00\">peach-glitter-10</strong>: <a href=\"https://wandb.ai/snovaisg/thesis_basic_deterministic_model_tunning/runs/2ddv9doh\" target=\"_blank\">https://wandb.ai/snovaisg/thesis_basic_deterministic_model_tunning/runs/2ddv9doh</a><br/>\n",
       "                "
      ],
      "text/plain": [
       "<IPython.core.display.HTML object>"
      ]
     },
     "metadata": {},
     "output_type": "display_data"
    },
    {
     "data": {
      "text/html": [
       "...Successfully finished last run (ID:2ddv9doh). Initializing new run:<br/><br/>"
      ],
      "text/plain": [
       "<IPython.core.display.HTML object>"
      ]
     },
     "metadata": {},
     "output_type": "display_data"
    },
    {
     "name": "stderr",
     "output_type": "stream",
     "text": [
      "\u001b[34m\u001b[1mwandb\u001b[0m: wandb version 0.12.11 is available!  To upgrade, please run:\n",
      "\u001b[34m\u001b[1mwandb\u001b[0m:  $ pip install wandb --upgrade\n"
     ]
    },
    {
     "data": {
      "text/html": [
       "\n",
       "                Tracking run with wandb version 0.12.1<br/>\n",
       "                Syncing run <strong style=\"color:#cdcd00\">giddy-pond-11</strong> to <a href=\"https://wandb.ai\" target=\"_blank\">Weights & Biases</a> <a href=\"https://docs.wandb.com/integrations/jupyter.html\" target=\"_blank\">(Documentation)</a>.<br/>\n",
       "                Project page: <a href=\"https://wandb.ai/snovaisg/thesis_basic_deterministic_model_tunning\" target=\"_blank\">https://wandb.ai/snovaisg/thesis_basic_deterministic_model_tunning</a><br/>\n",
       "                Run page: <a href=\"https://wandb.ai/snovaisg/thesis_basic_deterministic_model_tunning/runs/2n49cmsn\" target=\"_blank\">https://wandb.ai/snovaisg/thesis_basic_deterministic_model_tunning/runs/2n49cmsn</a><br/>\n",
       "                Run data is saved locally in <code>/Users/simaonovais/Documents/GitHub/master-thesis/wandb/run-20220308_124235-2n49cmsn</code><br/><br/>\n",
       "            "
      ],
      "text/plain": [
       "<IPython.core.display.HTML object>"
      ]
     },
     "metadata": {},
     "output_type": "display_data"
    },
    {
     "data": {
      "text/html": [
       "<h1>Run(2n49cmsn)</h1><iframe src=\"https://wandb.ai/snovaisg/thesis_basic_deterministic_model_tunning/runs/2n49cmsn\" style=\"border:none;width:100%;height:400px\"></iframe>"
      ],
      "text/plain": [
       "<wandb.sdk.wandb_run.Run at 0x13074e220>"
      ]
     },
     "execution_count": 9,
     "metadata": {},
     "output_type": "execute_result"
    },
    {
     "data": {
      "text/html": [
       "Finishing last run (ID:2n49cmsn) before initializing another..."
      ],
      "text/plain": [
       "<IPython.core.display.HTML object>"
      ]
     },
     "metadata": {},
     "output_type": "display_data"
    },
    {
     "data": {
      "text/html": [
       "<br/>Waiting for W&B process to finish, PID 17998<br/>Program ended successfully."
      ],
      "text/plain": [
       "<IPython.core.display.HTML object>"
      ]
     },
     "metadata": {},
     "output_type": "display_data"
    },
    {
     "data": {
      "text/html": [
       "Find user logs for this run at: <code>/Users/simaonovais/Documents/GitHub/master-thesis/wandb/run-20220308_124235-2n49cmsn/logs/debug.log</code>"
      ],
      "text/plain": [
       "<IPython.core.display.HTML object>"
      ]
     },
     "metadata": {},
     "output_type": "display_data"
    },
    {
     "data": {
      "text/html": [
       "Find internal logs for this run at: <code>/Users/simaonovais/Documents/GitHub/master-thesis/wandb/run-20220308_124235-2n49cmsn/logs/debug-internal.log</code>"
      ],
      "text/plain": [
       "<IPython.core.display.HTML object>"
      ]
     },
     "metadata": {},
     "output_type": "display_data"
    },
    {
     "data": {
      "text/html": [
       "<h3>Run summary:</h3><br/><style>\n",
       "    table.wandb td:nth-child(1) { padding: 0 10px; text-align: right }\n",
       "    </style><table class=\"wandb\">\n",
       "<tr><td>loss</td><td>0.12792</td></tr><tr><td>_runtime</td><td>24</td></tr><tr><td>_timestamp</td><td>1646743386</td></tr><tr><td>_step</td><td>15</td></tr><tr><td>train_loss</td><td>0.12735</td></tr><tr><td>train_recall@30</td><td>0.61355</td></tr><tr><td>val_loss</td><td>0.1274</td></tr><tr><td>recall@10</td><td>0.33414</td></tr><tr><td>recall@20</td><td>0.50147</td></tr><tr><td>recall@30</td><td>0.60962</td></tr></table>"
      ],
      "text/plain": [
       "<IPython.core.display.HTML object>"
      ]
     },
     "metadata": {},
     "output_type": "display_data"
    },
    {
     "data": {
      "text/html": [
       "<h3>Run history:</h3><br/><style>\n",
       "    table.wandb td:nth-child(1) { padding: 0 10px; text-align: right }\n",
       "    </style><table class=\"wandb\">\n",
       "<tr><td>loss</td><td>█▂▂▂▂▂▂▂▂▂▁▁▁▁▁</td></tr><tr><td>_runtime</td><td>▁▂▂▂▃▃▃▄▄▅▅▅▆▆▆█</td></tr><tr><td>_timestamp</td><td>▁▂▂▂▃▃▃▄▄▅▅▅▆▆▆█</td></tr><tr><td>_step</td><td>▁▁▂▂▃▃▄▄▅▅▆▆▇▇██</td></tr><tr><td>train_loss</td><td>▁</td></tr><tr><td>train_recall@30</td><td>▁</td></tr><tr><td>val_loss</td><td>▁</td></tr><tr><td>recall@10</td><td>▁</td></tr><tr><td>recall@20</td><td>▁</td></tr><tr><td>recall@30</td><td>▁</td></tr></table><br/>"
      ],
      "text/plain": [
       "<IPython.core.display.HTML object>"
      ]
     },
     "metadata": {},
     "output_type": "display_data"
    },
    {
     "data": {
      "text/html": [
       "Synced 6 W&B file(s), 0 media file(s), 0 artifact file(s) and 0 other file(s)"
      ],
      "text/plain": [
       "<IPython.core.display.HTML object>"
      ]
     },
     "metadata": {},
     "output_type": "display_data"
    },
    {
     "data": {
      "text/html": [
       "\n",
       "                    <br/>Synced <strong style=\"color:#cdcd00\">giddy-pond-11</strong>: <a href=\"https://wandb.ai/snovaisg/thesis_basic_deterministic_model_tunning/runs/2n49cmsn\" target=\"_blank\">https://wandb.ai/snovaisg/thesis_basic_deterministic_model_tunning/runs/2n49cmsn</a><br/>\n",
       "                "
      ],
      "text/plain": [
       "<IPython.core.display.HTML object>"
      ]
     },
     "metadata": {},
     "output_type": "display_data"
    },
    {
     "data": {
      "text/html": [
       "...Successfully finished last run (ID:2n49cmsn). Initializing new run:<br/><br/>"
      ],
      "text/plain": [
       "<IPython.core.display.HTML object>"
      ]
     },
     "metadata": {},
     "output_type": "display_data"
    },
    {
     "name": "stderr",
     "output_type": "stream",
     "text": [
      "\u001b[34m\u001b[1mwandb\u001b[0m: wandb version 0.12.11 is available!  To upgrade, please run:\n",
      "\u001b[34m\u001b[1mwandb\u001b[0m:  $ pip install wandb --upgrade\n"
     ]
    },
    {
     "data": {
      "text/html": [
       "\n",
       "                Tracking run with wandb version 0.12.1<br/>\n",
       "                Syncing run <strong style=\"color:#cdcd00\">glad-pine-12</strong> to <a href=\"https://wandb.ai\" target=\"_blank\">Weights & Biases</a> <a href=\"https://docs.wandb.com/integrations/jupyter.html\" target=\"_blank\">(Documentation)</a>.<br/>\n",
       "                Project page: <a href=\"https://wandb.ai/snovaisg/thesis_basic_deterministic_model_tunning\" target=\"_blank\">https://wandb.ai/snovaisg/thesis_basic_deterministic_model_tunning</a><br/>\n",
       "                Run page: <a href=\"https://wandb.ai/snovaisg/thesis_basic_deterministic_model_tunning/runs/20p86ffm\" target=\"_blank\">https://wandb.ai/snovaisg/thesis_basic_deterministic_model_tunning/runs/20p86ffm</a><br/>\n",
       "                Run data is saved locally in <code>/Users/simaonovais/Documents/GitHub/master-thesis/wandb/run-20220308_124306-20p86ffm</code><br/><br/>\n",
       "            "
      ],
      "text/plain": [
       "<IPython.core.display.HTML object>"
      ]
     },
     "metadata": {},
     "output_type": "display_data"
    },
    {
     "data": {
      "text/html": [
       "<h1>Run(20p86ffm)</h1><iframe src=\"https://wandb.ai/snovaisg/thesis_basic_deterministic_model_tunning/runs/20p86ffm\" style=\"border:none;width:100%;height:400px\"></iframe>"
      ],
      "text/plain": [
       "<wandb.sdk.wandb_run.Run at 0x13077f4f0>"
      ]
     },
     "execution_count": 9,
     "metadata": {},
     "output_type": "execute_result"
    },
    {
     "data": {
      "text/html": [
       "Finishing last run (ID:20p86ffm) before initializing another..."
      ],
      "text/plain": [
       "<IPython.core.display.HTML object>"
      ]
     },
     "metadata": {},
     "output_type": "display_data"
    },
    {
     "data": {
      "text/html": [
       "<br/>Waiting for W&B process to finish, PID 18014<br/>Program ended successfully."
      ],
      "text/plain": [
       "<IPython.core.display.HTML object>"
      ]
     },
     "metadata": {},
     "output_type": "display_data"
    },
    {
     "data": {
      "text/html": [
       "Find user logs for this run at: <code>/Users/simaonovais/Documents/GitHub/master-thesis/wandb/run-20220308_124306-20p86ffm/logs/debug.log</code>"
      ],
      "text/plain": [
       "<IPython.core.display.HTML object>"
      ]
     },
     "metadata": {},
     "output_type": "display_data"
    },
    {
     "data": {
      "text/html": [
       "Find internal logs for this run at: <code>/Users/simaonovais/Documents/GitHub/master-thesis/wandb/run-20220308_124306-20p86ffm/logs/debug-internal.log</code>"
      ],
      "text/plain": [
       "<IPython.core.display.HTML object>"
      ]
     },
     "metadata": {},
     "output_type": "display_data"
    },
    {
     "data": {
      "text/html": [
       "<h3>Run summary:</h3><br/><style>\n",
       "    table.wandb td:nth-child(1) { padding: 0 10px; text-align: right }\n",
       "    </style><table class=\"wandb\">\n",
       "<tr><td>loss</td><td>0.11837</td></tr><tr><td>_runtime</td><td>30</td></tr><tr><td>_timestamp</td><td>1646743420</td></tr><tr><td>_step</td><td>15</td></tr><tr><td>train_loss</td><td>0.11711</td></tr><tr><td>train_recall@30</td><td>0.67282</td></tr><tr><td>val_loss</td><td>0.11914</td></tr><tr><td>recall@10</td><td>0.38382</td></tr><tr><td>recall@20</td><td>0.55502</td></tr><tr><td>recall@30</td><td>0.66722</td></tr></table>"
      ],
      "text/plain": [
       "<IPython.core.display.HTML object>"
      ]
     },
     "metadata": {},
     "output_type": "display_data"
    },
    {
     "data": {
      "text/html": [
       "<h3>Run history:</h3><br/><style>\n",
       "    table.wandb td:nth-child(1) { padding: 0 10px; text-align: right }\n",
       "    </style><table class=\"wandb\">\n",
       "<tr><td>loss</td><td>█▂▂▂▂▂▂▁▁▁▁▁▁▁▁</td></tr><tr><td>_runtime</td><td>▁▁▂▂▂▃▃▄▄▄▅▅▅▆▆█</td></tr><tr><td>_timestamp</td><td>▁▁▂▂▂▃▃▄▄▄▅▅▅▆▆█</td></tr><tr><td>_step</td><td>▁▁▂▂▃▃▄▄▅▅▆▆▇▇██</td></tr><tr><td>train_loss</td><td>▁</td></tr><tr><td>train_recall@30</td><td>▁</td></tr><tr><td>val_loss</td><td>▁</td></tr><tr><td>recall@10</td><td>▁</td></tr><tr><td>recall@20</td><td>▁</td></tr><tr><td>recall@30</td><td>▁</td></tr></table><br/>"
      ],
      "text/plain": [
       "<IPython.core.display.HTML object>"
      ]
     },
     "metadata": {},
     "output_type": "display_data"
    },
    {
     "data": {
      "text/html": [
       "Synced 6 W&B file(s), 0 media file(s), 2 artifact file(s) and 1 other file(s)"
      ],
      "text/plain": [
       "<IPython.core.display.HTML object>"
      ]
     },
     "metadata": {},
     "output_type": "display_data"
    },
    {
     "data": {
      "text/html": [
       "\n",
       "                    <br/>Synced <strong style=\"color:#cdcd00\">glad-pine-12</strong>: <a href=\"https://wandb.ai/snovaisg/thesis_basic_deterministic_model_tunning/runs/20p86ffm\" target=\"_blank\">https://wandb.ai/snovaisg/thesis_basic_deterministic_model_tunning/runs/20p86ffm</a><br/>\n",
       "                "
      ],
      "text/plain": [
       "<IPython.core.display.HTML object>"
      ]
     },
     "metadata": {},
     "output_type": "display_data"
    },
    {
     "data": {
      "text/html": [
       "...Successfully finished last run (ID:20p86ffm). Initializing new run:<br/><br/>"
      ],
      "text/plain": [
       "<IPython.core.display.HTML object>"
      ]
     },
     "metadata": {},
     "output_type": "display_data"
    },
    {
     "name": "stderr",
     "output_type": "stream",
     "text": [
      "\u001b[34m\u001b[1mwandb\u001b[0m: wandb version 0.12.11 is available!  To upgrade, please run:\n",
      "\u001b[34m\u001b[1mwandb\u001b[0m:  $ pip install wandb --upgrade\n"
     ]
    },
    {
     "data": {
      "text/html": [
       "\n",
       "                Tracking run with wandb version 0.12.1<br/>\n",
       "                Syncing run <strong style=\"color:#cdcd00\">glad-mountain-13</strong> to <a href=\"https://wandb.ai\" target=\"_blank\">Weights & Biases</a> <a href=\"https://docs.wandb.com/integrations/jupyter.html\" target=\"_blank\">(Documentation)</a>.<br/>\n",
       "                Project page: <a href=\"https://wandb.ai/snovaisg/thesis_basic_deterministic_model_tunning\" target=\"_blank\">https://wandb.ai/snovaisg/thesis_basic_deterministic_model_tunning</a><br/>\n",
       "                Run page: <a href=\"https://wandb.ai/snovaisg/thesis_basic_deterministic_model_tunning/runs/1s0ngc15\" target=\"_blank\">https://wandb.ai/snovaisg/thesis_basic_deterministic_model_tunning/runs/1s0ngc15</a><br/>\n",
       "                Run data is saved locally in <code>/Users/simaonovais/Documents/GitHub/master-thesis/wandb/run-20220308_124340-1s0ngc15</code><br/><br/>\n",
       "            "
      ],
      "text/plain": [
       "<IPython.core.display.HTML object>"
      ]
     },
     "metadata": {},
     "output_type": "display_data"
    },
    {
     "data": {
      "text/html": [
       "<h1>Run(1s0ngc15)</h1><iframe src=\"https://wandb.ai/snovaisg/thesis_basic_deterministic_model_tunning/runs/1s0ngc15\" style=\"border:none;width:100%;height:400px\"></iframe>"
      ],
      "text/plain": [
       "<wandb.sdk.wandb_run.Run at 0x1306ece50>"
      ]
     },
     "execution_count": 9,
     "metadata": {},
     "output_type": "execute_result"
    },
    {
     "data": {
      "text/html": [
       "Finishing last run (ID:1s0ngc15) before initializing another..."
      ],
      "text/plain": [
       "<IPython.core.display.HTML object>"
      ]
     },
     "metadata": {},
     "output_type": "display_data"
    },
    {
     "data": {
      "text/html": [
       "<br/>Waiting for W&B process to finish, PID 18032<br/>Program ended successfully."
      ],
      "text/plain": [
       "<IPython.core.display.HTML object>"
      ]
     },
     "metadata": {},
     "output_type": "display_data"
    },
    {
     "data": {
      "text/html": [
       "Find user logs for this run at: <code>/Users/simaonovais/Documents/GitHub/master-thesis/wandb/run-20220308_124340-1s0ngc15/logs/debug.log</code>"
      ],
      "text/plain": [
       "<IPython.core.display.HTML object>"
      ]
     },
     "metadata": {},
     "output_type": "display_data"
    },
    {
     "data": {
      "text/html": [
       "Find internal logs for this run at: <code>/Users/simaonovais/Documents/GitHub/master-thesis/wandb/run-20220308_124340-1s0ngc15/logs/debug-internal.log</code>"
      ],
      "text/plain": [
       "<IPython.core.display.HTML object>"
      ]
     },
     "metadata": {},
     "output_type": "display_data"
    },
    {
     "data": {
      "text/html": [
       "<h3>Run summary:</h3><br/><style>\n",
       "    table.wandb td:nth-child(1) { padding: 0 10px; text-align: right }\n",
       "    </style><table class=\"wandb\">\n",
       "<tr><td>loss</td><td>0.127</td></tr><tr><td>_runtime</td><td>30</td></tr><tr><td>_timestamp</td><td>1646743457</td></tr><tr><td>_step</td><td>15</td></tr><tr><td>train_loss</td><td>0.12585</td></tr><tr><td>train_recall@30</td><td>0.61311</td></tr><tr><td>val_loss</td><td>0.1267</td></tr><tr><td>recall@10</td><td>0.33086</td></tr><tr><td>recall@20</td><td>0.49565</td></tr><tr><td>recall@30</td><td>0.60695</td></tr></table>"
      ],
      "text/plain": [
       "<IPython.core.display.HTML object>"
      ]
     },
     "metadata": {},
     "output_type": "display_data"
    },
    {
     "data": {
      "text/html": [
       "<h3>Run history:</h3><br/><style>\n",
       "    table.wandb td:nth-child(1) { padding: 0 10px; text-align: right }\n",
       "    </style><table class=\"wandb\">\n",
       "<tr><td>loss</td><td>█▂▂▂▂▂▂▂▂▁▁▁▁▁▁</td></tr><tr><td>_runtime</td><td>▁▁▂▂▂▃▃▄▄▅▅▅▆▆▆█</td></tr><tr><td>_timestamp</td><td>▁▁▂▂▂▃▃▄▄▅▅▅▆▆▆█</td></tr><tr><td>_step</td><td>▁▁▂▂▃▃▄▄▅▅▆▆▇▇██</td></tr><tr><td>train_loss</td><td>▁</td></tr><tr><td>train_recall@30</td><td>▁</td></tr><tr><td>val_loss</td><td>▁</td></tr><tr><td>recall@10</td><td>▁</td></tr><tr><td>recall@20</td><td>▁</td></tr><tr><td>recall@30</td><td>▁</td></tr></table><br/>"
      ],
      "text/plain": [
       "<IPython.core.display.HTML object>"
      ]
     },
     "metadata": {},
     "output_type": "display_data"
    },
    {
     "data": {
      "text/html": [
       "Synced 6 W&B file(s), 0 media file(s), 0 artifact file(s) and 0 other file(s)"
      ],
      "text/plain": [
       "<IPython.core.display.HTML object>"
      ]
     },
     "metadata": {},
     "output_type": "display_data"
    },
    {
     "data": {
      "text/html": [
       "\n",
       "                    <br/>Synced <strong style=\"color:#cdcd00\">glad-mountain-13</strong>: <a href=\"https://wandb.ai/snovaisg/thesis_basic_deterministic_model_tunning/runs/1s0ngc15\" target=\"_blank\">https://wandb.ai/snovaisg/thesis_basic_deterministic_model_tunning/runs/1s0ngc15</a><br/>\n",
       "                "
      ],
      "text/plain": [
       "<IPython.core.display.HTML object>"
      ]
     },
     "metadata": {},
     "output_type": "display_data"
    },
    {
     "data": {
      "text/html": [
       "...Successfully finished last run (ID:1s0ngc15). Initializing new run:<br/><br/>"
      ],
      "text/plain": [
       "<IPython.core.display.HTML object>"
      ]
     },
     "metadata": {},
     "output_type": "display_data"
    },
    {
     "name": "stderr",
     "output_type": "stream",
     "text": [
      "\u001b[34m\u001b[1mwandb\u001b[0m: wandb version 0.12.11 is available!  To upgrade, please run:\n",
      "\u001b[34m\u001b[1mwandb\u001b[0m:  $ pip install wandb --upgrade\n"
     ]
    },
    {
     "data": {
      "text/html": [
       "\n",
       "                Tracking run with wandb version 0.12.1<br/>\n",
       "                Syncing run <strong style=\"color:#cdcd00\">curious-mountain-14</strong> to <a href=\"https://wandb.ai\" target=\"_blank\">Weights & Biases</a> <a href=\"https://docs.wandb.com/integrations/jupyter.html\" target=\"_blank\">(Documentation)</a>.<br/>\n",
       "                Project page: <a href=\"https://wandb.ai/snovaisg/thesis_basic_deterministic_model_tunning\" target=\"_blank\">https://wandb.ai/snovaisg/thesis_basic_deterministic_model_tunning</a><br/>\n",
       "                Run page: <a href=\"https://wandb.ai/snovaisg/thesis_basic_deterministic_model_tunning/runs/2ig63lco\" target=\"_blank\">https://wandb.ai/snovaisg/thesis_basic_deterministic_model_tunning/runs/2ig63lco</a><br/>\n",
       "                Run data is saved locally in <code>/Users/simaonovais/Documents/GitHub/master-thesis/wandb/run-20220308_124417-2ig63lco</code><br/><br/>\n",
       "            "
      ],
      "text/plain": [
       "<IPython.core.display.HTML object>"
      ]
     },
     "metadata": {},
     "output_type": "display_data"
    },
    {
     "data": {
      "text/html": [
       "<h1>Run(2ig63lco)</h1><iframe src=\"https://wandb.ai/snovaisg/thesis_basic_deterministic_model_tunning/runs/2ig63lco\" style=\"border:none;width:100%;height:400px\"></iframe>"
      ],
      "text/plain": [
       "<wandb.sdk.wandb_run.Run at 0x1306cbc40>"
      ]
     },
     "execution_count": 9,
     "metadata": {},
     "output_type": "execute_result"
    },
    {
     "data": {
      "text/html": [
       "Finishing last run (ID:2ig63lco) before initializing another..."
      ],
      "text/plain": [
       "<IPython.core.display.HTML object>"
      ]
     },
     "metadata": {},
     "output_type": "display_data"
    },
    {
     "data": {
      "text/html": [
       "<br/>Waiting for W&B process to finish, PID 18052<br/>Program ended successfully."
      ],
      "text/plain": [
       "<IPython.core.display.HTML object>"
      ]
     },
     "metadata": {},
     "output_type": "display_data"
    },
    {
     "data": {
      "text/html": [
       "Find user logs for this run at: <code>/Users/simaonovais/Documents/GitHub/master-thesis/wandb/run-20220308_124417-2ig63lco/logs/debug.log</code>"
      ],
      "text/plain": [
       "<IPython.core.display.HTML object>"
      ]
     },
     "metadata": {},
     "output_type": "display_data"
    },
    {
     "data": {
      "text/html": [
       "Find internal logs for this run at: <code>/Users/simaonovais/Documents/GitHub/master-thesis/wandb/run-20220308_124417-2ig63lco/logs/debug-internal.log</code>"
      ],
      "text/plain": [
       "<IPython.core.display.HTML object>"
      ]
     },
     "metadata": {},
     "output_type": "display_data"
    },
    {
     "data": {
      "text/html": [
       "<h3>Run summary:</h3><br/><style>\n",
       "    table.wandb td:nth-child(1) { padding: 0 10px; text-align: right }\n",
       "    </style><table class=\"wandb\">\n",
       "<tr><td>loss</td><td>0.11828</td></tr><tr><td>_runtime</td><td>25</td></tr><tr><td>_timestamp</td><td>1646743486</td></tr><tr><td>_step</td><td>15</td></tr><tr><td>train_loss</td><td>0.11751</td></tr><tr><td>train_recall@30</td><td>0.66839</td></tr><tr><td>val_loss</td><td>0.11967</td></tr><tr><td>recall@10</td><td>0.38057</td></tr><tr><td>recall@20</td><td>0.55244</td></tr><tr><td>recall@30</td><td>0.66427</td></tr></table>"
      ],
      "text/plain": [
       "<IPython.core.display.HTML object>"
      ]
     },
     "metadata": {},
     "output_type": "display_data"
    },
    {
     "data": {
      "text/html": [
       "<h3>Run history:</h3><br/><style>\n",
       "    table.wandb td:nth-child(1) { padding: 0 10px; text-align: right }\n",
       "    </style><table class=\"wandb\">\n",
       "<tr><td>loss</td><td>█▂▂▂▂▂▂▁▁▁▁▁▁▁▁</td></tr><tr><td>_runtime</td><td>▁▁▂▂▂▃▃▃▄▄▅▅▆▆▆█</td></tr><tr><td>_timestamp</td><td>▁▁▂▂▂▃▃▃▄▄▅▅▆▆▆█</td></tr><tr><td>_step</td><td>▁▁▂▂▃▃▄▄▅▅▆▆▇▇██</td></tr><tr><td>train_loss</td><td>▁</td></tr><tr><td>train_recall@30</td><td>▁</td></tr><tr><td>val_loss</td><td>▁</td></tr><tr><td>recall@10</td><td>▁</td></tr><tr><td>recall@20</td><td>▁</td></tr><tr><td>recall@30</td><td>▁</td></tr></table><br/>"
      ],
      "text/plain": [
       "<IPython.core.display.HTML object>"
      ]
     },
     "metadata": {},
     "output_type": "display_data"
    },
    {
     "data": {
      "text/html": [
       "Synced 6 W&B file(s), 0 media file(s), 2 artifact file(s) and 1 other file(s)"
      ],
      "text/plain": [
       "<IPython.core.display.HTML object>"
      ]
     },
     "metadata": {},
     "output_type": "display_data"
    },
    {
     "data": {
      "text/html": [
       "\n",
       "                    <br/>Synced <strong style=\"color:#cdcd00\">curious-mountain-14</strong>: <a href=\"https://wandb.ai/snovaisg/thesis_basic_deterministic_model_tunning/runs/2ig63lco\" target=\"_blank\">https://wandb.ai/snovaisg/thesis_basic_deterministic_model_tunning/runs/2ig63lco</a><br/>\n",
       "                "
      ],
      "text/plain": [
       "<IPython.core.display.HTML object>"
      ]
     },
     "metadata": {},
     "output_type": "display_data"
    },
    {
     "data": {
      "text/html": [
       "...Successfully finished last run (ID:2ig63lco). Initializing new run:<br/><br/>"
      ],
      "text/plain": [
       "<IPython.core.display.HTML object>"
      ]
     },
     "metadata": {},
     "output_type": "display_data"
    },
    {
     "name": "stderr",
     "output_type": "stream",
     "text": [
      "\u001b[34m\u001b[1mwandb\u001b[0m: wandb version 0.12.11 is available!  To upgrade, please run:\n",
      "\u001b[34m\u001b[1mwandb\u001b[0m:  $ pip install wandb --upgrade\n"
     ]
    },
    {
     "data": {
      "text/html": [
       "\n",
       "                Tracking run with wandb version 0.12.1<br/>\n",
       "                Syncing run <strong style=\"color:#cdcd00\">driven-resonance-15</strong> to <a href=\"https://wandb.ai\" target=\"_blank\">Weights & Biases</a> <a href=\"https://docs.wandb.com/integrations/jupyter.html\" target=\"_blank\">(Documentation)</a>.<br/>\n",
       "                Project page: <a href=\"https://wandb.ai/snovaisg/thesis_basic_deterministic_model_tunning\" target=\"_blank\">https://wandb.ai/snovaisg/thesis_basic_deterministic_model_tunning</a><br/>\n",
       "                Run page: <a href=\"https://wandb.ai/snovaisg/thesis_basic_deterministic_model_tunning/runs/1erq3i26\" target=\"_blank\">https://wandb.ai/snovaisg/thesis_basic_deterministic_model_tunning/runs/1erq3i26</a><br/>\n",
       "                Run data is saved locally in <code>/Users/simaonovais/Documents/GitHub/master-thesis/wandb/run-20220308_124446-1erq3i26</code><br/><br/>\n",
       "            "
      ],
      "text/plain": [
       "<IPython.core.display.HTML object>"
      ]
     },
     "metadata": {},
     "output_type": "display_data"
    },
    {
     "data": {
      "text/html": [
       "<h1>Run(1erq3i26)</h1><iframe src=\"https://wandb.ai/snovaisg/thesis_basic_deterministic_model_tunning/runs/1erq3i26\" style=\"border:none;width:100%;height:400px\"></iframe>"
      ],
      "text/plain": [
       "<wandb.sdk.wandb_run.Run at 0x1306f5f70>"
      ]
     },
     "execution_count": 9,
     "metadata": {},
     "output_type": "execute_result"
    },
    {
     "data": {
      "text/html": [
       "Finishing last run (ID:1erq3i26) before initializing another..."
      ],
      "text/plain": [
       "<IPython.core.display.HTML object>"
      ]
     },
     "metadata": {},
     "output_type": "display_data"
    },
    {
     "data": {
      "text/html": [
       "<br/>Waiting for W&B process to finish, PID 18070<br/>Program ended successfully."
      ],
      "text/plain": [
       "<IPython.core.display.HTML object>"
      ]
     },
     "metadata": {},
     "output_type": "display_data"
    },
    {
     "data": {
      "text/html": [
       "Find user logs for this run at: <code>/Users/simaonovais/Documents/GitHub/master-thesis/wandb/run-20220308_124446-1erq3i26/logs/debug.log</code>"
      ],
      "text/plain": [
       "<IPython.core.display.HTML object>"
      ]
     },
     "metadata": {},
     "output_type": "display_data"
    },
    {
     "data": {
      "text/html": [
       "Find internal logs for this run at: <code>/Users/simaonovais/Documents/GitHub/master-thesis/wandb/run-20220308_124446-1erq3i26/logs/debug-internal.log</code>"
      ],
      "text/plain": [
       "<IPython.core.display.HTML object>"
      ]
     },
     "metadata": {},
     "output_type": "display_data"
    },
    {
     "data": {
      "text/html": [
       "<h3>Run summary:</h3><br/><style>\n",
       "    table.wandb td:nth-child(1) { padding: 0 10px; text-align: right }\n",
       "    </style><table class=\"wandb\">\n",
       "<tr><td>loss</td><td>0.12998</td></tr><tr><td>_runtime</td><td>27</td></tr><tr><td>_timestamp</td><td>1646743528</td></tr><tr><td>_step</td><td>15</td></tr><tr><td>train_loss</td><td>0.12893</td></tr><tr><td>train_recall@30</td><td>0.59567</td></tr><tr><td>val_loss</td><td>0.12849</td></tr><tr><td>recall@10</td><td>0.31058</td></tr><tr><td>recall@20</td><td>0.4807</td></tr><tr><td>recall@30</td><td>0.5956</td></tr></table>"
      ],
      "text/plain": [
       "<IPython.core.display.HTML object>"
      ]
     },
     "metadata": {},
     "output_type": "display_data"
    },
    {
     "data": {
      "text/html": [
       "<h3>Run history:</h3><br/><style>\n",
       "    table.wandb td:nth-child(1) { padding: 0 10px; text-align: right }\n",
       "    </style><table class=\"wandb\">\n",
       "<tr><td>loss</td><td>█▂▂▁▁▁▁▁▁▁▁▁▁▁▁</td></tr><tr><td>_runtime</td><td>▁▁▂▂▃▃▃▄▄▄▅▅▅▆▆█</td></tr><tr><td>_timestamp</td><td>▁▁▂▂▃▃▃▄▄▄▅▅▅▆▆█</td></tr><tr><td>_step</td><td>▁▁▂▂▃▃▄▄▅▅▆▆▇▇██</td></tr><tr><td>train_loss</td><td>▁</td></tr><tr><td>train_recall@30</td><td>▁</td></tr><tr><td>val_loss</td><td>▁</td></tr><tr><td>recall@10</td><td>▁</td></tr><tr><td>recall@20</td><td>▁</td></tr><tr><td>recall@30</td><td>▁</td></tr></table><br/>"
      ],
      "text/plain": [
       "<IPython.core.display.HTML object>"
      ]
     },
     "metadata": {},
     "output_type": "display_data"
    },
    {
     "data": {
      "text/html": [
       "Synced 6 W&B file(s), 0 media file(s), 0 artifact file(s) and 0 other file(s)"
      ],
      "text/plain": [
       "<IPython.core.display.HTML object>"
      ]
     },
     "metadata": {},
     "output_type": "display_data"
    },
    {
     "data": {
      "text/html": [
       "\n",
       "                    <br/>Synced <strong style=\"color:#cdcd00\">driven-resonance-15</strong>: <a href=\"https://wandb.ai/snovaisg/thesis_basic_deterministic_model_tunning/runs/1erq3i26\" target=\"_blank\">https://wandb.ai/snovaisg/thesis_basic_deterministic_model_tunning/runs/1erq3i26</a><br/>\n",
       "                "
      ],
      "text/plain": [
       "<IPython.core.display.HTML object>"
      ]
     },
     "metadata": {},
     "output_type": "display_data"
    },
    {
     "data": {
      "text/html": [
       "...Successfully finished last run (ID:1erq3i26). Initializing new run:<br/><br/>"
      ],
      "text/plain": [
       "<IPython.core.display.HTML object>"
      ]
     },
     "metadata": {},
     "output_type": "display_data"
    },
    {
     "name": "stderr",
     "output_type": "stream",
     "text": [
      "\u001b[34m\u001b[1mwandb\u001b[0m: wandb version 0.12.11 is available!  To upgrade, please run:\n",
      "\u001b[34m\u001b[1mwandb\u001b[0m:  $ pip install wandb --upgrade\n"
     ]
    },
    {
     "data": {
      "text/html": [
       "\n",
       "                Tracking run with wandb version 0.12.1<br/>\n",
       "                Syncing run <strong style=\"color:#cdcd00\">soft-moon-16</strong> to <a href=\"https://wandb.ai\" target=\"_blank\">Weights & Biases</a> <a href=\"https://docs.wandb.com/integrations/jupyter.html\" target=\"_blank\">(Documentation)</a>.<br/>\n",
       "                Project page: <a href=\"https://wandb.ai/snovaisg/thesis_basic_deterministic_model_tunning\" target=\"_blank\">https://wandb.ai/snovaisg/thesis_basic_deterministic_model_tunning</a><br/>\n",
       "                Run page: <a href=\"https://wandb.ai/snovaisg/thesis_basic_deterministic_model_tunning/runs/1pzywjol\" target=\"_blank\">https://wandb.ai/snovaisg/thesis_basic_deterministic_model_tunning/runs/1pzywjol</a><br/>\n",
       "                Run data is saved locally in <code>/Users/simaonovais/Documents/GitHub/master-thesis/wandb/run-20220308_124528-1pzywjol</code><br/><br/>\n",
       "            "
      ],
      "text/plain": [
       "<IPython.core.display.HTML object>"
      ]
     },
     "metadata": {},
     "output_type": "display_data"
    },
    {
     "data": {
      "text/html": [
       "<h1>Run(1pzywjol)</h1><iframe src=\"https://wandb.ai/snovaisg/thesis_basic_deterministic_model_tunning/runs/1pzywjol\" style=\"border:none;width:100%;height:400px\"></iframe>"
      ],
      "text/plain": [
       "<wandb.sdk.wandb_run.Run at 0x1307d5880>"
      ]
     },
     "execution_count": 9,
     "metadata": {},
     "output_type": "execute_result"
    },
    {
     "data": {
      "text/html": [
       "Finishing last run (ID:1pzywjol) before initializing another..."
      ],
      "text/plain": [
       "<IPython.core.display.HTML object>"
      ]
     },
     "metadata": {},
     "output_type": "display_data"
    },
    {
     "data": {
      "text/html": [
       "<br/>Waiting for W&B process to finish, PID 18095<br/>Program ended successfully."
      ],
      "text/plain": [
       "<IPython.core.display.HTML object>"
      ]
     },
     "metadata": {},
     "output_type": "display_data"
    },
    {
     "data": {
      "text/html": [
       "Find user logs for this run at: <code>/Users/simaonovais/Documents/GitHub/master-thesis/wandb/run-20220308_124528-1pzywjol/logs/debug.log</code>"
      ],
      "text/plain": [
       "<IPython.core.display.HTML object>"
      ]
     },
     "metadata": {},
     "output_type": "display_data"
    },
    {
     "data": {
      "text/html": [
       "Find internal logs for this run at: <code>/Users/simaonovais/Documents/GitHub/master-thesis/wandb/run-20220308_124528-1pzywjol/logs/debug-internal.log</code>"
      ],
      "text/plain": [
       "<IPython.core.display.HTML object>"
      ]
     },
     "metadata": {},
     "output_type": "display_data"
    },
    {
     "data": {
      "text/html": [
       "<h3>Run summary:</h3><br/><style>\n",
       "    table.wandb td:nth-child(1) { padding: 0 10px; text-align: right }\n",
       "    </style><table class=\"wandb\">\n",
       "<tr><td>loss</td><td>0.11738</td></tr><tr><td>_runtime</td><td>24</td></tr><tr><td>_timestamp</td><td>1646743557</td></tr><tr><td>_step</td><td>15</td></tr><tr><td>train_loss</td><td>0.11566</td></tr><tr><td>train_recall@30</td><td>0.6853</td></tr><tr><td>val_loss</td><td>0.11871</td></tr><tr><td>recall@10</td><td>0.393</td></tr><tr><td>recall@20</td><td>0.56055</td></tr><tr><td>recall@30</td><td>0.67211</td></tr></table>"
      ],
      "text/plain": [
       "<IPython.core.display.HTML object>"
      ]
     },
     "metadata": {},
     "output_type": "display_data"
    },
    {
     "data": {
      "text/html": [
       "<h3>Run history:</h3><br/><style>\n",
       "    table.wandb td:nth-child(1) { padding: 0 10px; text-align: right }\n",
       "    </style><table class=\"wandb\">\n",
       "<tr><td>loss</td><td>█▃▃▂▂▂▂▁▁▁▁▁▁▁▁</td></tr><tr><td>_runtime</td><td>▁▁▂▂▂▃▃▃▄▄▄▅▅▅▆█</td></tr><tr><td>_timestamp</td><td>▁▁▂▂▂▃▃▃▄▄▄▅▅▅▆█</td></tr><tr><td>_step</td><td>▁▁▂▂▃▃▄▄▅▅▆▆▇▇██</td></tr><tr><td>train_loss</td><td>▁</td></tr><tr><td>train_recall@30</td><td>▁</td></tr><tr><td>val_loss</td><td>▁</td></tr><tr><td>recall@10</td><td>▁</td></tr><tr><td>recall@20</td><td>▁</td></tr><tr><td>recall@30</td><td>▁</td></tr></table><br/>"
      ],
      "text/plain": [
       "<IPython.core.display.HTML object>"
      ]
     },
     "metadata": {},
     "output_type": "display_data"
    },
    {
     "data": {
      "text/html": [
       "Synced 6 W&B file(s), 0 media file(s), 2 artifact file(s) and 1 other file(s)"
      ],
      "text/plain": [
       "<IPython.core.display.HTML object>"
      ]
     },
     "metadata": {},
     "output_type": "display_data"
    },
    {
     "data": {
      "text/html": [
       "\n",
       "                    <br/>Synced <strong style=\"color:#cdcd00\">soft-moon-16</strong>: <a href=\"https://wandb.ai/snovaisg/thesis_basic_deterministic_model_tunning/runs/1pzywjol\" target=\"_blank\">https://wandb.ai/snovaisg/thesis_basic_deterministic_model_tunning/runs/1pzywjol</a><br/>\n",
       "                "
      ],
      "text/plain": [
       "<IPython.core.display.HTML object>"
      ]
     },
     "metadata": {},
     "output_type": "display_data"
    },
    {
     "data": {
      "text/html": [
       "...Successfully finished last run (ID:1pzywjol). Initializing new run:<br/><br/>"
      ],
      "text/plain": [
       "<IPython.core.display.HTML object>"
      ]
     },
     "metadata": {},
     "output_type": "display_data"
    },
    {
     "name": "stderr",
     "output_type": "stream",
     "text": [
      "\u001b[34m\u001b[1mwandb\u001b[0m: wandb version 0.12.11 is available!  To upgrade, please run:\n",
      "\u001b[34m\u001b[1mwandb\u001b[0m:  $ pip install wandb --upgrade\n"
     ]
    },
    {
     "data": {
      "text/html": [
       "\n",
       "                Tracking run with wandb version 0.12.1<br/>\n",
       "                Syncing run <strong style=\"color:#cdcd00\">worthy-bush-17</strong> to <a href=\"https://wandb.ai\" target=\"_blank\">Weights & Biases</a> <a href=\"https://docs.wandb.com/integrations/jupyter.html\" target=\"_blank\">(Documentation)</a>.<br/>\n",
       "                Project page: <a href=\"https://wandb.ai/snovaisg/thesis_basic_deterministic_model_tunning\" target=\"_blank\">https://wandb.ai/snovaisg/thesis_basic_deterministic_model_tunning</a><br/>\n",
       "                Run page: <a href=\"https://wandb.ai/snovaisg/thesis_basic_deterministic_model_tunning/runs/2jmlz8b1\" target=\"_blank\">https://wandb.ai/snovaisg/thesis_basic_deterministic_model_tunning/runs/2jmlz8b1</a><br/>\n",
       "                Run data is saved locally in <code>/Users/simaonovais/Documents/GitHub/master-thesis/wandb/run-20220308_124557-2jmlz8b1</code><br/><br/>\n",
       "            "
      ],
      "text/plain": [
       "<IPython.core.display.HTML object>"
      ]
     },
     "metadata": {},
     "output_type": "display_data"
    },
    {
     "data": {
      "text/html": [
       "<h1>Run(2jmlz8b1)</h1><iframe src=\"https://wandb.ai/snovaisg/thesis_basic_deterministic_model_tunning/runs/2jmlz8b1\" style=\"border:none;width:100%;height:400px\"></iframe>"
      ],
      "text/plain": [
       "<wandb.sdk.wandb_run.Run at 0x1306dcf40>"
      ]
     },
     "execution_count": 9,
     "metadata": {},
     "output_type": "execute_result"
    },
    {
     "data": {
      "text/html": [
       "Finishing last run (ID:2jmlz8b1) before initializing another..."
      ],
      "text/plain": [
       "<IPython.core.display.HTML object>"
      ]
     },
     "metadata": {},
     "output_type": "display_data"
    },
    {
     "data": {
      "text/html": [
       "<br/>Waiting for W&B process to finish, PID 18113<br/>Program ended successfully."
      ],
      "text/plain": [
       "<IPython.core.display.HTML object>"
      ]
     },
     "metadata": {},
     "output_type": "display_data"
    },
    {
     "data": {
      "text/html": [
       "Find user logs for this run at: <code>/Users/simaonovais/Documents/GitHub/master-thesis/wandb/run-20220308_124557-2jmlz8b1/logs/debug.log</code>"
      ],
      "text/plain": [
       "<IPython.core.display.HTML object>"
      ]
     },
     "metadata": {},
     "output_type": "display_data"
    },
    {
     "data": {
      "text/html": [
       "Find internal logs for this run at: <code>/Users/simaonovais/Documents/GitHub/master-thesis/wandb/run-20220308_124557-2jmlz8b1/logs/debug-internal.log</code>"
      ],
      "text/plain": [
       "<IPython.core.display.HTML object>"
      ]
     },
     "metadata": {},
     "output_type": "display_data"
    },
    {
     "data": {
      "text/html": [
       "<h3>Run summary:</h3><br/><style>\n",
       "    table.wandb td:nth-child(1) { padding: 0 10px; text-align: right }\n",
       "    </style><table class=\"wandb\">\n",
       "<tr><td>loss</td><td>0.12711</td></tr><tr><td>_runtime</td><td>24</td></tr><tr><td>_timestamp</td><td>1646743587</td></tr><tr><td>_step</td><td>15</td></tr><tr><td>train_loss</td><td>0.12721</td></tr><tr><td>train_recall@30</td><td>0.61651</td></tr><tr><td>val_loss</td><td>0.12822</td></tr><tr><td>recall@10</td><td>0.33127</td></tr><tr><td>recall@20</td><td>0.50553</td></tr><tr><td>recall@30</td><td>0.61184</td></tr></table>"
      ],
      "text/plain": [
       "<IPython.core.display.HTML object>"
      ]
     },
     "metadata": {},
     "output_type": "display_data"
    },
    {
     "data": {
      "text/html": [
       "<h3>Run history:</h3><br/><style>\n",
       "    table.wandb td:nth-child(1) { padding: 0 10px; text-align: right }\n",
       "    </style><table class=\"wandb\">\n",
       "<tr><td>loss</td><td>█▂▂▂▂▂▂▁▁▂▁▁▁▁▁</td></tr><tr><td>_runtime</td><td>▁▁▂▂▂▃▃▄▄▄▅▅▅▆▆█</td></tr><tr><td>_timestamp</td><td>▁▁▂▂▂▃▃▄▄▄▅▅▅▆▆█</td></tr><tr><td>_step</td><td>▁▁▂▂▃▃▄▄▅▅▆▆▇▇██</td></tr><tr><td>train_loss</td><td>▁</td></tr><tr><td>train_recall@30</td><td>▁</td></tr><tr><td>val_loss</td><td>▁</td></tr><tr><td>recall@10</td><td>▁</td></tr><tr><td>recall@20</td><td>▁</td></tr><tr><td>recall@30</td><td>▁</td></tr></table><br/>"
      ],
      "text/plain": [
       "<IPython.core.display.HTML object>"
      ]
     },
     "metadata": {},
     "output_type": "display_data"
    },
    {
     "data": {
      "text/html": [
       "Synced 6 W&B file(s), 0 media file(s), 0 artifact file(s) and 0 other file(s)"
      ],
      "text/plain": [
       "<IPython.core.display.HTML object>"
      ]
     },
     "metadata": {},
     "output_type": "display_data"
    },
    {
     "data": {
      "text/html": [
       "\n",
       "                    <br/>Synced <strong style=\"color:#cdcd00\">worthy-bush-17</strong>: <a href=\"https://wandb.ai/snovaisg/thesis_basic_deterministic_model_tunning/runs/2jmlz8b1\" target=\"_blank\">https://wandb.ai/snovaisg/thesis_basic_deterministic_model_tunning/runs/2jmlz8b1</a><br/>\n",
       "                "
      ],
      "text/plain": [
       "<IPython.core.display.HTML object>"
      ]
     },
     "metadata": {},
     "output_type": "display_data"
    },
    {
     "data": {
      "text/html": [
       "...Successfully finished last run (ID:2jmlz8b1). Initializing new run:<br/><br/>"
      ],
      "text/plain": [
       "<IPython.core.display.HTML object>"
      ]
     },
     "metadata": {},
     "output_type": "display_data"
    },
    {
     "name": "stderr",
     "output_type": "stream",
     "text": [
      "\u001b[34m\u001b[1mwandb\u001b[0m: wandb version 0.12.11 is available!  To upgrade, please run:\n",
      "\u001b[34m\u001b[1mwandb\u001b[0m:  $ pip install wandb --upgrade\n"
     ]
    },
    {
     "data": {
      "text/html": [
       "\n",
       "                Tracking run with wandb version 0.12.1<br/>\n",
       "                Syncing run <strong style=\"color:#cdcd00\">skilled-blaze-18</strong> to <a href=\"https://wandb.ai\" target=\"_blank\">Weights & Biases</a> <a href=\"https://docs.wandb.com/integrations/jupyter.html\" target=\"_blank\">(Documentation)</a>.<br/>\n",
       "                Project page: <a href=\"https://wandb.ai/snovaisg/thesis_basic_deterministic_model_tunning\" target=\"_blank\">https://wandb.ai/snovaisg/thesis_basic_deterministic_model_tunning</a><br/>\n",
       "                Run page: <a href=\"https://wandb.ai/snovaisg/thesis_basic_deterministic_model_tunning/runs/vocqtn4o\" target=\"_blank\">https://wandb.ai/snovaisg/thesis_basic_deterministic_model_tunning/runs/vocqtn4o</a><br/>\n",
       "                Run data is saved locally in <code>/Users/simaonovais/Documents/GitHub/master-thesis/wandb/run-20220308_124628-vocqtn4o</code><br/><br/>\n",
       "            "
      ],
      "text/plain": [
       "<IPython.core.display.HTML object>"
      ]
     },
     "metadata": {},
     "output_type": "display_data"
    },
    {
     "data": {
      "text/html": [
       "<h1>Run(vocqtn4o)</h1><iframe src=\"https://wandb.ai/snovaisg/thesis_basic_deterministic_model_tunning/runs/vocqtn4o\" style=\"border:none;width:100%;height:400px\"></iframe>"
      ],
      "text/plain": [
       "<wandb.sdk.wandb_run.Run at 0x1307dda90>"
      ]
     },
     "execution_count": 9,
     "metadata": {},
     "output_type": "execute_result"
    },
    {
     "data": {
      "text/html": [
       "Finishing last run (ID:vocqtn4o) before initializing another..."
      ],
      "text/plain": [
       "<IPython.core.display.HTML object>"
      ]
     },
     "metadata": {},
     "output_type": "display_data"
    },
    {
     "data": {
      "text/html": [
       "<br/>Waiting for W&B process to finish, PID 18129<br/>Program ended successfully."
      ],
      "text/plain": [
       "<IPython.core.display.HTML object>"
      ]
     },
     "metadata": {},
     "output_type": "display_data"
    },
    {
     "data": {
      "text/html": [
       "Find user logs for this run at: <code>/Users/simaonovais/Documents/GitHub/master-thesis/wandb/run-20220308_124628-vocqtn4o/logs/debug.log</code>"
      ],
      "text/plain": [
       "<IPython.core.display.HTML object>"
      ]
     },
     "metadata": {},
     "output_type": "display_data"
    },
    {
     "data": {
      "text/html": [
       "Find internal logs for this run at: <code>/Users/simaonovais/Documents/GitHub/master-thesis/wandb/run-20220308_124628-vocqtn4o/logs/debug-internal.log</code>"
      ],
      "text/plain": [
       "<IPython.core.display.HTML object>"
      ]
     },
     "metadata": {},
     "output_type": "display_data"
    },
    {
     "data": {
      "text/html": [
       "<h3>Run summary:</h3><br/><style>\n",
       "    table.wandb td:nth-child(1) { padding: 0 10px; text-align: right }\n",
       "    </style><table class=\"wandb\">\n",
       "<tr><td>loss</td><td>0.11434</td></tr><tr><td>_runtime</td><td>25</td></tr><tr><td>_timestamp</td><td>1646743617</td></tr><tr><td>_step</td><td>15</td></tr><tr><td>train_loss</td><td>0.11272</td></tr><tr><td>train_recall@30</td><td>0.70266</td></tr><tr><td>val_loss</td><td>0.11811</td></tr><tr><td>recall@10</td><td>0.39712</td></tr><tr><td>recall@20</td><td>0.56934</td></tr><tr><td>recall@30</td><td>0.67757</td></tr></table>"
      ],
      "text/plain": [
       "<IPython.core.display.HTML object>"
      ]
     },
     "metadata": {},
     "output_type": "display_data"
    },
    {
     "data": {
      "text/html": [
       "<h3>Run history:</h3><br/><style>\n",
       "    table.wandb td:nth-child(1) { padding: 0 10px; text-align: right }\n",
       "    </style><table class=\"wandb\">\n",
       "<tr><td>loss</td><td>█▃▂▂▂▂▂▂▁▁▁▁▁▁▁</td></tr><tr><td>_runtime</td><td>▁▁▂▂▃▃▃▄▄▄▅▅▆▆▆█</td></tr><tr><td>_timestamp</td><td>▁▁▂▂▃▃▃▄▄▄▅▅▆▆▆█</td></tr><tr><td>_step</td><td>▁▁▂▂▃▃▄▄▅▅▆▆▇▇██</td></tr><tr><td>train_loss</td><td>▁</td></tr><tr><td>train_recall@30</td><td>▁</td></tr><tr><td>val_loss</td><td>▁</td></tr><tr><td>recall@10</td><td>▁</td></tr><tr><td>recall@20</td><td>▁</td></tr><tr><td>recall@30</td><td>▁</td></tr></table><br/>"
      ],
      "text/plain": [
       "<IPython.core.display.HTML object>"
      ]
     },
     "metadata": {},
     "output_type": "display_data"
    },
    {
     "data": {
      "text/html": [
       "Synced 6 W&B file(s), 0 media file(s), 2 artifact file(s) and 1 other file(s)"
      ],
      "text/plain": [
       "<IPython.core.display.HTML object>"
      ]
     },
     "metadata": {},
     "output_type": "display_data"
    },
    {
     "data": {
      "text/html": [
       "\n",
       "                    <br/>Synced <strong style=\"color:#cdcd00\">skilled-blaze-18</strong>: <a href=\"https://wandb.ai/snovaisg/thesis_basic_deterministic_model_tunning/runs/vocqtn4o\" target=\"_blank\">https://wandb.ai/snovaisg/thesis_basic_deterministic_model_tunning/runs/vocqtn4o</a><br/>\n",
       "                "
      ],
      "text/plain": [
       "<IPython.core.display.HTML object>"
      ]
     },
     "metadata": {},
     "output_type": "display_data"
    },
    {
     "data": {
      "text/html": [
       "...Successfully finished last run (ID:vocqtn4o). Initializing new run:<br/><br/>"
      ],
      "text/plain": [
       "<IPython.core.display.HTML object>"
      ]
     },
     "metadata": {},
     "output_type": "display_data"
    },
    {
     "data": {
      "text/html": [
       "\n",
       "                Tracking run with wandb version 0.12.1<br/>\n",
       "                Syncing run <strong style=\"color:#cdcd00\">denim-breeze-19</strong> to <a href=\"https://wandb.ai\" target=\"_blank\">Weights & Biases</a> <a href=\"https://docs.wandb.com/integrations/jupyter.html\" target=\"_blank\">(Documentation)</a>.<br/>\n",
       "                Project page: <a href=\"https://wandb.ai/snovaisg/thesis_basic_deterministic_model_tunning\" target=\"_blank\">https://wandb.ai/snovaisg/thesis_basic_deterministic_model_tunning</a><br/>\n",
       "                Run page: <a href=\"https://wandb.ai/snovaisg/thesis_basic_deterministic_model_tunning/runs/3ubr9vyv\" target=\"_blank\">https://wandb.ai/snovaisg/thesis_basic_deterministic_model_tunning/runs/3ubr9vyv</a><br/>\n",
       "                Run data is saved locally in <code>/Users/simaonovais/Documents/GitHub/master-thesis/wandb/run-20220308_124657-3ubr9vyv</code><br/><br/>\n",
       "            "
      ],
      "text/plain": [
       "<IPython.core.display.HTML object>"
      ]
     },
     "metadata": {},
     "output_type": "display_data"
    },
    {
     "data": {
      "text/html": [
       "<h1>Run(3ubr9vyv)</h1><iframe src=\"https://wandb.ai/snovaisg/thesis_basic_deterministic_model_tunning/runs/3ubr9vyv\" style=\"border:none;width:100%;height:400px\"></iframe>"
      ],
      "text/plain": [
       "<wandb.sdk.wandb_run.Run at 0x1307f4e20>"
      ]
     },
     "execution_count": 9,
     "metadata": {},
     "output_type": "execute_result"
    },
    {
     "data": {
      "text/html": [
       "Finishing last run (ID:3ubr9vyv) before initializing another..."
      ],
      "text/plain": [
       "<IPython.core.display.HTML object>"
      ]
     },
     "metadata": {},
     "output_type": "display_data"
    },
    {
     "data": {
      "text/html": [
       "<br/>Waiting for W&B process to finish, PID 18147<br/>Program ended successfully."
      ],
      "text/plain": [
       "<IPython.core.display.HTML object>"
      ]
     },
     "metadata": {},
     "output_type": "display_data"
    },
    {
     "data": {
      "text/html": [
       "Find user logs for this run at: <code>/Users/simaonovais/Documents/GitHub/master-thesis/wandb/run-20220308_124657-3ubr9vyv/logs/debug.log</code>"
      ],
      "text/plain": [
       "<IPython.core.display.HTML object>"
      ]
     },
     "metadata": {},
     "output_type": "display_data"
    },
    {
     "data": {
      "text/html": [
       "Find internal logs for this run at: <code>/Users/simaonovais/Documents/GitHub/master-thesis/wandb/run-20220308_124657-3ubr9vyv/logs/debug-internal.log</code>"
      ],
      "text/plain": [
       "<IPython.core.display.HTML object>"
      ]
     },
     "metadata": {},
     "output_type": "display_data"
    },
    {
     "data": {
      "text/html": [
       "<h3>Run summary:</h3><br/><style>\n",
       "    table.wandb td:nth-child(1) { padding: 0 10px; text-align: right }\n",
       "    </style><table class=\"wandb\">\n",
       "<tr><td>loss</td><td>0.12267</td></tr><tr><td>_runtime</td><td>55</td></tr><tr><td>_timestamp</td><td>1646743678</td></tr><tr><td>_step</td><td>15</td></tr><tr><td>train_loss</td><td>0.12085</td></tr><tr><td>train_recall@30</td><td>0.64948</td></tr><tr><td>val_loss</td><td>0.12388</td></tr><tr><td>recall@10</td><td>0.35654</td></tr><tr><td>recall@20</td><td>0.52512</td></tr><tr><td>recall@30</td><td>0.6351</td></tr></table>"
      ],
      "text/plain": [
       "<IPython.core.display.HTML object>"
      ]
     },
     "metadata": {},
     "output_type": "display_data"
    },
    {
     "data": {
      "text/html": [
       "<h3>Run history:</h3><br/><style>\n",
       "    table.wandb td:nth-child(1) { padding: 0 10px; text-align: right }\n",
       "    </style><table class=\"wandb\">\n",
       "<tr><td>loss</td><td>█▃▃▂▂▂▂▂▂▂▂▁▁▁▁</td></tr><tr><td>_runtime</td><td>▁▁▂▂▃▃▃▄▄▄▅▅▅▆▆█</td></tr><tr><td>_timestamp</td><td>▁▁▂▂▃▃▃▄▄▄▅▅▅▆▆█</td></tr><tr><td>_step</td><td>▁▁▂▂▃▃▄▄▅▅▆▆▇▇██</td></tr><tr><td>train_loss</td><td>▁</td></tr><tr><td>train_recall@30</td><td>▁</td></tr><tr><td>val_loss</td><td>▁</td></tr><tr><td>recall@10</td><td>▁</td></tr><tr><td>recall@20</td><td>▁</td></tr><tr><td>recall@30</td><td>▁</td></tr></table><br/>"
      ],
      "text/plain": [
       "<IPython.core.display.HTML object>"
      ]
     },
     "metadata": {},
     "output_type": "display_data"
    },
    {
     "data": {
      "text/html": [
       "Synced 6 W&B file(s), 0 media file(s), 0 artifact file(s) and 0 other file(s)"
      ],
      "text/plain": [
       "<IPython.core.display.HTML object>"
      ]
     },
     "metadata": {},
     "output_type": "display_data"
    },
    {
     "data": {
      "text/html": [
       "\n",
       "                    <br/>Synced <strong style=\"color:#cdcd00\">denim-breeze-19</strong>: <a href=\"https://wandb.ai/snovaisg/thesis_basic_deterministic_model_tunning/runs/3ubr9vyv\" target=\"_blank\">https://wandb.ai/snovaisg/thesis_basic_deterministic_model_tunning/runs/3ubr9vyv</a><br/>\n",
       "                "
      ],
      "text/plain": [
       "<IPython.core.display.HTML object>"
      ]
     },
     "metadata": {},
     "output_type": "display_data"
    },
    {
     "data": {
      "text/html": [
       "...Successfully finished last run (ID:3ubr9vyv). Initializing new run:<br/><br/>"
      ],
      "text/plain": [
       "<IPython.core.display.HTML object>"
      ]
     },
     "metadata": {},
     "output_type": "display_data"
    },
    {
     "name": "stderr",
     "output_type": "stream",
     "text": [
      "\u001b[34m\u001b[1mwandb\u001b[0m: wandb version 0.12.11 is available!  To upgrade, please run:\n",
      "\u001b[34m\u001b[1mwandb\u001b[0m:  $ pip install wandb --upgrade\n"
     ]
    },
    {
     "data": {
      "text/html": [
       "\n",
       "                Tracking run with wandb version 0.12.1<br/>\n",
       "                Syncing run <strong style=\"color:#cdcd00\">efficient-wildflower-20</strong> to <a href=\"https://wandb.ai\" target=\"_blank\">Weights & Biases</a> <a href=\"https://docs.wandb.com/integrations/jupyter.html\" target=\"_blank\">(Documentation)</a>.<br/>\n",
       "                Project page: <a href=\"https://wandb.ai/snovaisg/thesis_basic_deterministic_model_tunning\" target=\"_blank\">https://wandb.ai/snovaisg/thesis_basic_deterministic_model_tunning</a><br/>\n",
       "                Run page: <a href=\"https://wandb.ai/snovaisg/thesis_basic_deterministic_model_tunning/runs/39z8k5lx\" target=\"_blank\">https://wandb.ai/snovaisg/thesis_basic_deterministic_model_tunning/runs/39z8k5lx</a><br/>\n",
       "                Run data is saved locally in <code>/Users/simaonovais/Documents/GitHub/master-thesis/wandb/run-20220308_124758-39z8k5lx</code><br/><br/>\n",
       "            "
      ],
      "text/plain": [
       "<IPython.core.display.HTML object>"
      ]
     },
     "metadata": {},
     "output_type": "display_data"
    },
    {
     "data": {
      "text/html": [
       "<h1>Run(39z8k5lx)</h1><iframe src=\"https://wandb.ai/snovaisg/thesis_basic_deterministic_model_tunning/runs/39z8k5lx\" style=\"border:none;width:100%;height:400px\"></iframe>"
      ],
      "text/plain": [
       "<wandb.sdk.wandb_run.Run at 0x1307d8640>"
      ]
     },
     "execution_count": 9,
     "metadata": {},
     "output_type": "execute_result"
    },
    {
     "data": {
      "text/html": [
       "Finishing last run (ID:39z8k5lx) before initializing another..."
      ],
      "text/plain": [
       "<IPython.core.display.HTML object>"
      ]
     },
     "metadata": {},
     "output_type": "display_data"
    },
    {
     "data": {
      "text/html": [
       "<br/>Waiting for W&B process to finish, PID 18163<br/>Program ended successfully."
      ],
      "text/plain": [
       "<IPython.core.display.HTML object>"
      ]
     },
     "metadata": {},
     "output_type": "display_data"
    },
    {
     "data": {
      "text/html": [
       "Find user logs for this run at: <code>/Users/simaonovais/Documents/GitHub/master-thesis/wandb/run-20220308_124758-39z8k5lx/logs/debug.log</code>"
      ],
      "text/plain": [
       "<IPython.core.display.HTML object>"
      ]
     },
     "metadata": {},
     "output_type": "display_data"
    },
    {
     "data": {
      "text/html": [
       "Find internal logs for this run at: <code>/Users/simaonovais/Documents/GitHub/master-thesis/wandb/run-20220308_124758-39z8k5lx/logs/debug-internal.log</code>"
      ],
      "text/plain": [
       "<IPython.core.display.HTML object>"
      ]
     },
     "metadata": {},
     "output_type": "display_data"
    },
    {
     "data": {
      "text/html": [
       "<h3>Run summary:</h3><br/><style>\n",
       "    table.wandb td:nth-child(1) { padding: 0 10px; text-align: right }\n",
       "    </style><table class=\"wandb\">\n",
       "<tr><td>loss</td><td>0.11323</td></tr><tr><td>_runtime</td><td>24</td></tr><tr><td>_timestamp</td><td>1646743706</td></tr><tr><td>_step</td><td>15</td></tr><tr><td>train_loss</td><td>0.11219</td></tr><tr><td>train_recall@30</td><td>0.70239</td></tr><tr><td>val_loss</td><td>0.11778</td></tr><tr><td>recall@10</td><td>0.39575</td></tr><tr><td>recall@20</td><td>0.56995</td></tr><tr><td>recall@30</td><td>0.68033</td></tr></table>"
      ],
      "text/plain": [
       "<IPython.core.display.HTML object>"
      ]
     },
     "metadata": {},
     "output_type": "display_data"
    },
    {
     "data": {
      "text/html": [
       "<h3>Run history:</h3><br/><style>\n",
       "    table.wandb td:nth-child(1) { padding: 0 10px; text-align: right }\n",
       "    </style><table class=\"wandb\">\n",
       "<tr><td>loss</td><td>█▃▂▂▂▂▂▂▂▁▁▁▁▁▁</td></tr><tr><td>_runtime</td><td>▁▁▂▂▂▃▃▃▄▄▅▅▅▆▆█</td></tr><tr><td>_timestamp</td><td>▁▁▂▂▂▃▃▃▄▄▅▅▅▆▆█</td></tr><tr><td>_step</td><td>▁▁▂▂▃▃▄▄▅▅▆▆▇▇██</td></tr><tr><td>train_loss</td><td>▁</td></tr><tr><td>train_recall@30</td><td>▁</td></tr><tr><td>val_loss</td><td>▁</td></tr><tr><td>recall@10</td><td>▁</td></tr><tr><td>recall@20</td><td>▁</td></tr><tr><td>recall@30</td><td>▁</td></tr></table><br/>"
      ],
      "text/plain": [
       "<IPython.core.display.HTML object>"
      ]
     },
     "metadata": {},
     "output_type": "display_data"
    },
    {
     "data": {
      "text/html": [
       "Synced 6 W&B file(s), 0 media file(s), 2 artifact file(s) and 1 other file(s)"
      ],
      "text/plain": [
       "<IPython.core.display.HTML object>"
      ]
     },
     "metadata": {},
     "output_type": "display_data"
    },
    {
     "data": {
      "text/html": [
       "\n",
       "                    <br/>Synced <strong style=\"color:#cdcd00\">efficient-wildflower-20</strong>: <a href=\"https://wandb.ai/snovaisg/thesis_basic_deterministic_model_tunning/runs/39z8k5lx\" target=\"_blank\">https://wandb.ai/snovaisg/thesis_basic_deterministic_model_tunning/runs/39z8k5lx</a><br/>\n",
       "                "
      ],
      "text/plain": [
       "<IPython.core.display.HTML object>"
      ]
     },
     "metadata": {},
     "output_type": "display_data"
    },
    {
     "data": {
      "text/html": [
       "...Successfully finished last run (ID:39z8k5lx). Initializing new run:<br/><br/>"
      ],
      "text/plain": [
       "<IPython.core.display.HTML object>"
      ]
     },
     "metadata": {},
     "output_type": "display_data"
    },
    {
     "name": "stderr",
     "output_type": "stream",
     "text": [
      "\u001b[34m\u001b[1mwandb\u001b[0m: wandb version 0.12.11 is available!  To upgrade, please run:\n",
      "\u001b[34m\u001b[1mwandb\u001b[0m:  $ pip install wandb --upgrade\n"
     ]
    },
    {
     "data": {
      "text/html": [
       "\n",
       "                Tracking run with wandb version 0.12.1<br/>\n",
       "                Syncing run <strong style=\"color:#cdcd00\">treasured-cosmos-21</strong> to <a href=\"https://wandb.ai\" target=\"_blank\">Weights & Biases</a> <a href=\"https://docs.wandb.com/integrations/jupyter.html\" target=\"_blank\">(Documentation)</a>.<br/>\n",
       "                Project page: <a href=\"https://wandb.ai/snovaisg/thesis_basic_deterministic_model_tunning\" target=\"_blank\">https://wandb.ai/snovaisg/thesis_basic_deterministic_model_tunning</a><br/>\n",
       "                Run page: <a href=\"https://wandb.ai/snovaisg/thesis_basic_deterministic_model_tunning/runs/jg0mexek\" target=\"_blank\">https://wandb.ai/snovaisg/thesis_basic_deterministic_model_tunning/runs/jg0mexek</a><br/>\n",
       "                Run data is saved locally in <code>/Users/simaonovais/Documents/GitHub/master-thesis/wandb/run-20220308_124826-jg0mexek</code><br/><br/>\n",
       "            "
      ],
      "text/plain": [
       "<IPython.core.display.HTML object>"
      ]
     },
     "metadata": {},
     "output_type": "display_data"
    },
    {
     "data": {
      "text/html": [
       "<h1>Run(jg0mexek)</h1><iframe src=\"https://wandb.ai/snovaisg/thesis_basic_deterministic_model_tunning/runs/jg0mexek\" style=\"border:none;width:100%;height:400px\"></iframe>"
      ],
      "text/plain": [
       "<wandb.sdk.wandb_run.Run at 0x1308244c0>"
      ]
     },
     "execution_count": 9,
     "metadata": {},
     "output_type": "execute_result"
    },
    {
     "name": "stderr",
     "output_type": "stream",
     "text": [
      "wandb: Network error (ReadTimeout), entering retry loop.\n"
     ]
    },
    {
     "data": {
      "text/html": [
       "Finishing last run (ID:jg0mexek) before initializing another..."
      ],
      "text/plain": [
       "<IPython.core.display.HTML object>"
      ]
     },
     "metadata": {},
     "output_type": "display_data"
    },
    {
     "data": {
      "text/html": [
       "<br/>Waiting for W&B process to finish, PID 18179<br/>Program ended successfully."
      ],
      "text/plain": [
       "<IPython.core.display.HTML object>"
      ]
     },
     "metadata": {},
     "output_type": "display_data"
    },
    {
     "name": "stderr",
     "output_type": "stream",
     "text": [
      "\u001b[34m\u001b[1mwandb\u001b[0m: Network error resolved after 0:00:26.174516, resuming normal operation.\n"
     ]
    },
    {
     "data": {
      "text/html": [
       "Find user logs for this run at: <code>/Users/simaonovais/Documents/GitHub/master-thesis/wandb/run-20220308_124826-jg0mexek/logs/debug.log</code>"
      ],
      "text/plain": [
       "<IPython.core.display.HTML object>"
      ]
     },
     "metadata": {},
     "output_type": "display_data"
    },
    {
     "data": {
      "text/html": [
       "Find internal logs for this run at: <code>/Users/simaonovais/Documents/GitHub/master-thesis/wandb/run-20220308_124826-jg0mexek/logs/debug-internal.log</code>"
      ],
      "text/plain": [
       "<IPython.core.display.HTML object>"
      ]
     },
     "metadata": {},
     "output_type": "display_data"
    },
    {
     "data": {
      "text/html": [
       "<h3>Run summary:</h3><br/><style>\n",
       "    table.wandb td:nth-child(1) { padding: 0 10px; text-align: right }\n",
       "    </style><table class=\"wandb\">\n",
       "<tr><td>loss</td><td>0.12586</td></tr><tr><td>_runtime</td><td>27</td></tr><tr><td>_timestamp</td><td>1646743742</td></tr><tr><td>_step</td><td>15</td></tr><tr><td>train_loss</td><td>0.12519</td></tr><tr><td>train_recall@30</td><td>0.62174</td></tr><tr><td>val_loss</td><td>0.12703</td></tr><tr><td>recall@10</td><td>0.33168</td></tr><tr><td>recall@20</td><td>0.50211</td></tr><tr><td>recall@30</td><td>0.61184</td></tr></table>"
      ],
      "text/plain": [
       "<IPython.core.display.HTML object>"
      ]
     },
     "metadata": {},
     "output_type": "display_data"
    },
    {
     "data": {
      "text/html": [
       "<h3>Run history:</h3><br/><style>\n",
       "    table.wandb td:nth-child(1) { padding: 0 10px; text-align: right }\n",
       "    </style><table class=\"wandb\">\n",
       "<tr><td>loss</td><td>█▂▂▂▂▂▂▂▁▁▁▁▁▁▁</td></tr><tr><td>_runtime</td><td>▁▁▂▂▃▃▃▄▄▅▅▅▆▆▆█</td></tr><tr><td>_timestamp</td><td>▁▁▂▂▃▃▃▄▄▅▅▅▆▆▆█</td></tr><tr><td>_step</td><td>▁▁▂▂▃▃▄▄▅▅▆▆▇▇██</td></tr><tr><td>train_loss</td><td>▁</td></tr><tr><td>train_recall@30</td><td>▁</td></tr><tr><td>val_loss</td><td>▁</td></tr><tr><td>recall@10</td><td>▁</td></tr><tr><td>recall@20</td><td>▁</td></tr><tr><td>recall@30</td><td>▁</td></tr></table><br/>"
      ],
      "text/plain": [
       "<IPython.core.display.HTML object>"
      ]
     },
     "metadata": {},
     "output_type": "display_data"
    },
    {
     "data": {
      "text/html": [
       "Synced 7 W&B file(s), 0 media file(s), 0 artifact file(s) and 0 other file(s)"
      ],
      "text/plain": [
       "<IPython.core.display.HTML object>"
      ]
     },
     "metadata": {},
     "output_type": "display_data"
    },
    {
     "data": {
      "text/html": [
       "\n",
       "                    <br/>Synced <strong style=\"color:#cdcd00\">treasured-cosmos-21</strong>: <a href=\"https://wandb.ai/snovaisg/thesis_basic_deterministic_model_tunning/runs/jg0mexek\" target=\"_blank\">https://wandb.ai/snovaisg/thesis_basic_deterministic_model_tunning/runs/jg0mexek</a><br/>\n",
       "                "
      ],
      "text/plain": [
       "<IPython.core.display.HTML object>"
      ]
     },
     "metadata": {},
     "output_type": "display_data"
    },
    {
     "data": {
      "text/html": [
       "...Successfully finished last run (ID:jg0mexek). Initializing new run:<br/><br/>"
      ],
      "text/plain": [
       "<IPython.core.display.HTML object>"
      ]
     },
     "metadata": {},
     "output_type": "display_data"
    },
    {
     "name": "stderr",
     "output_type": "stream",
     "text": [
      "\u001b[34m\u001b[1mwandb\u001b[0m: wandb version 0.12.11 is available!  To upgrade, please run:\n",
      "\u001b[34m\u001b[1mwandb\u001b[0m:  $ pip install wandb --upgrade\n"
     ]
    },
    {
     "data": {
      "text/html": [
       "\n",
       "                Tracking run with wandb version 0.12.1<br/>\n",
       "                Syncing run <strong style=\"color:#cdcd00\">graceful-dust-22</strong> to <a href=\"https://wandb.ai\" target=\"_blank\">Weights & Biases</a> <a href=\"https://docs.wandb.com/integrations/jupyter.html\" target=\"_blank\">(Documentation)</a>.<br/>\n",
       "                Project page: <a href=\"https://wandb.ai/snovaisg/thesis_basic_deterministic_model_tunning\" target=\"_blank\">https://wandb.ai/snovaisg/thesis_basic_deterministic_model_tunning</a><br/>\n",
       "                Run page: <a href=\"https://wandb.ai/snovaisg/thesis_basic_deterministic_model_tunning/runs/3vs1mmag\" target=\"_blank\">https://wandb.ai/snovaisg/thesis_basic_deterministic_model_tunning/runs/3vs1mmag</a><br/>\n",
       "                Run data is saved locally in <code>/Users/simaonovais/Documents/GitHub/master-thesis/wandb/run-20220308_124902-3vs1mmag</code><br/><br/>\n",
       "            "
      ],
      "text/plain": [
       "<IPython.core.display.HTML object>"
      ]
     },
     "metadata": {},
     "output_type": "display_data"
    },
    {
     "data": {
      "text/html": [
       "<h1>Run(3vs1mmag)</h1><iframe src=\"https://wandb.ai/snovaisg/thesis_basic_deterministic_model_tunning/runs/3vs1mmag\" style=\"border:none;width:100%;height:400px\"></iframe>"
      ],
      "text/plain": [
       "<wandb.sdk.wandb_run.Run at 0x130822be0>"
      ]
     },
     "execution_count": 9,
     "metadata": {},
     "output_type": "execute_result"
    },
    {
     "data": {
      "text/html": [
       "Finishing last run (ID:3vs1mmag) before initializing another..."
      ],
      "text/plain": [
       "<IPython.core.display.HTML object>"
      ]
     },
     "metadata": {},
     "output_type": "display_data"
    },
    {
     "data": {
      "text/html": [
       "<br/>Waiting for W&B process to finish, PID 18206<br/>Program ended successfully."
      ],
      "text/plain": [
       "<IPython.core.display.HTML object>"
      ]
     },
     "metadata": {},
     "output_type": "display_data"
    },
    {
     "data": {
      "text/html": [
       "Find user logs for this run at: <code>/Users/simaonovais/Documents/GitHub/master-thesis/wandb/run-20220308_124902-3vs1mmag/logs/debug.log</code>"
      ],
      "text/plain": [
       "<IPython.core.display.HTML object>"
      ]
     },
     "metadata": {},
     "output_type": "display_data"
    },
    {
     "data": {
      "text/html": [
       "Find internal logs for this run at: <code>/Users/simaonovais/Documents/GitHub/master-thesis/wandb/run-20220308_124902-3vs1mmag/logs/debug-internal.log</code>"
      ],
      "text/plain": [
       "<IPython.core.display.HTML object>"
      ]
     },
     "metadata": {},
     "output_type": "display_data"
    },
    {
     "data": {
      "text/html": [
       "<h3>Run summary:</h3><br/><style>\n",
       "    table.wandb td:nth-child(1) { padding: 0 10px; text-align: right }\n",
       "    </style><table class=\"wandb\">\n",
       "<tr><td>loss</td><td>0.1187</td></tr><tr><td>_runtime</td><td>22</td></tr><tr><td>_timestamp</td><td>1646743813</td></tr><tr><td>_step</td><td>15</td></tr><tr><td>train_loss</td><td>0.11782</td></tr><tr><td>train_recall@30</td><td>0.67386</td></tr><tr><td>val_loss</td><td>0.12138</td></tr><tr><td>recall@10</td><td>0.37382</td></tr><tr><td>recall@20</td><td>0.54997</td></tr><tr><td>recall@30</td><td>0.66401</td></tr></table>"
      ],
      "text/plain": [
       "<IPython.core.display.HTML object>"
      ]
     },
     "metadata": {},
     "output_type": "display_data"
    },
    {
     "data": {
      "text/html": [
       "<h3>Run history:</h3><br/><style>\n",
       "    table.wandb td:nth-child(1) { padding: 0 10px; text-align: right }\n",
       "    </style><table class=\"wandb\">\n",
       "<tr><td>loss</td><td>█▃▂▂▂▁▁▁▁▁▁▁▁▁▁</td></tr><tr><td>_runtime</td><td>▁▁▂▂▃▃▃▃▄▄▅▅▆▆▆█</td></tr><tr><td>_timestamp</td><td>▁▁▂▂▃▃▃▃▄▄▅▅▆▆▆█</td></tr><tr><td>_step</td><td>▁▁▂▂▃▃▄▄▅▅▆▆▇▇██</td></tr><tr><td>train_loss</td><td>▁</td></tr><tr><td>train_recall@30</td><td>▁</td></tr><tr><td>val_loss</td><td>▁</td></tr><tr><td>recall@10</td><td>▁</td></tr><tr><td>recall@20</td><td>▁</td></tr><tr><td>recall@30</td><td>▁</td></tr></table><br/>"
      ],
      "text/plain": [
       "<IPython.core.display.HTML object>"
      ]
     },
     "metadata": {},
     "output_type": "display_data"
    },
    {
     "data": {
      "text/html": [
       "Synced 6 W&B file(s), 0 media file(s), 2 artifact file(s) and 1 other file(s)"
      ],
      "text/plain": [
       "<IPython.core.display.HTML object>"
      ]
     },
     "metadata": {},
     "output_type": "display_data"
    },
    {
     "data": {
      "text/html": [
       "\n",
       "                    <br/>Synced <strong style=\"color:#cdcd00\">graceful-dust-22</strong>: <a href=\"https://wandb.ai/snovaisg/thesis_basic_deterministic_model_tunning/runs/3vs1mmag\" target=\"_blank\">https://wandb.ai/snovaisg/thesis_basic_deterministic_model_tunning/runs/3vs1mmag</a><br/>\n",
       "                "
      ],
      "text/plain": [
       "<IPython.core.display.HTML object>"
      ]
     },
     "metadata": {},
     "output_type": "display_data"
    },
    {
     "data": {
      "text/html": [
       "...Successfully finished last run (ID:3vs1mmag). Initializing new run:<br/><br/>"
      ],
      "text/plain": [
       "<IPython.core.display.HTML object>"
      ]
     },
     "metadata": {},
     "output_type": "display_data"
    },
    {
     "name": "stderr",
     "output_type": "stream",
     "text": [
      "\u001b[34m\u001b[1mwandb\u001b[0m: wandb version 0.12.11 is available!  To upgrade, please run:\n",
      "\u001b[34m\u001b[1mwandb\u001b[0m:  $ pip install wandb --upgrade\n"
     ]
    },
    {
     "data": {
      "text/html": [
       "\n",
       "                Tracking run with wandb version 0.12.1<br/>\n",
       "                Syncing run <strong style=\"color:#cdcd00\">drawn-night-23</strong> to <a href=\"https://wandb.ai\" target=\"_blank\">Weights & Biases</a> <a href=\"https://docs.wandb.com/integrations/jupyter.html\" target=\"_blank\">(Documentation)</a>.<br/>\n",
       "                Project page: <a href=\"https://wandb.ai/snovaisg/thesis_basic_deterministic_model_tunning\" target=\"_blank\">https://wandb.ai/snovaisg/thesis_basic_deterministic_model_tunning</a><br/>\n",
       "                Run page: <a href=\"https://wandb.ai/snovaisg/thesis_basic_deterministic_model_tunning/runs/3dvsto66\" target=\"_blank\">https://wandb.ai/snovaisg/thesis_basic_deterministic_model_tunning/runs/3dvsto66</a><br/>\n",
       "                Run data is saved locally in <code>/Users/simaonovais/Documents/GitHub/master-thesis/wandb/run-20220308_125013-3dvsto66</code><br/><br/>\n",
       "            "
      ],
      "text/plain": [
       "<IPython.core.display.HTML object>"
      ]
     },
     "metadata": {},
     "output_type": "display_data"
    },
    {
     "data": {
      "text/html": [
       "<h1>Run(3dvsto66)</h1><iframe src=\"https://wandb.ai/snovaisg/thesis_basic_deterministic_model_tunning/runs/3dvsto66\" style=\"border:none;width:100%;height:400px\"></iframe>"
      ],
      "text/plain": [
       "<wandb.sdk.wandb_run.Run at 0x1307c63a0>"
      ]
     },
     "execution_count": 9,
     "metadata": {},
     "output_type": "execute_result"
    },
    {
     "data": {
      "text/html": [
       "Finishing last run (ID:3dvsto66) before initializing another..."
      ],
      "text/plain": [
       "<IPython.core.display.HTML object>"
      ]
     },
     "metadata": {},
     "output_type": "display_data"
    },
    {
     "data": {
      "text/html": [
       "<br/>Waiting for W&B process to finish, PID 18222<br/>Program ended successfully."
      ],
      "text/plain": [
       "<IPython.core.display.HTML object>"
      ]
     },
     "metadata": {},
     "output_type": "display_data"
    },
    {
     "data": {
      "text/html": [
       "Find user logs for this run at: <code>/Users/simaonovais/Documents/GitHub/master-thesis/wandb/run-20220308_125013-3dvsto66/logs/debug.log</code>"
      ],
      "text/plain": [
       "<IPython.core.display.HTML object>"
      ]
     },
     "metadata": {},
     "output_type": "display_data"
    },
    {
     "data": {
      "text/html": [
       "Find internal logs for this run at: <code>/Users/simaonovais/Documents/GitHub/master-thesis/wandb/run-20220308_125013-3dvsto66/logs/debug-internal.log</code>"
      ],
      "text/plain": [
       "<IPython.core.display.HTML object>"
      ]
     },
     "metadata": {},
     "output_type": "display_data"
    },
    {
     "data": {
      "text/html": [
       "<h3>Run summary:</h3><br/><style>\n",
       "    table.wandb td:nth-child(1) { padding: 0 10px; text-align: right }\n",
       "    </style><table class=\"wandb\">\n",
       "<tr><td>loss</td><td>0.12743</td></tr><tr><td>_runtime</td><td>24</td></tr><tr><td>_timestamp</td><td>1646743843</td></tr><tr><td>_step</td><td>15</td></tr><tr><td>train_loss</td><td>0.12809</td></tr><tr><td>train_recall@30</td><td>0.61497</td></tr><tr><td>val_loss</td><td>0.13017</td></tr><tr><td>recall@10</td><td>0.31815</td></tr><tr><td>recall@20</td><td>0.48677</td></tr><tr><td>recall@30</td><td>0.60717</td></tr></table>"
      ],
      "text/plain": [
       "<IPython.core.display.HTML object>"
      ]
     },
     "metadata": {},
     "output_type": "display_data"
    },
    {
     "data": {
      "text/html": [
       "<h3>Run history:</h3><br/><style>\n",
       "    table.wandb td:nth-child(1) { padding: 0 10px; text-align: right }\n",
       "    </style><table class=\"wandb\">\n",
       "<tr><td>loss</td><td>█▃▂▂▂▁▁▁▁▁▁▁▁▂▁</td></tr><tr><td>_runtime</td><td>▁▁▂▂▂▃▃▄▄▄▅▅▅▆▆█</td></tr><tr><td>_timestamp</td><td>▁▁▂▂▂▃▃▄▄▄▅▅▅▆▆█</td></tr><tr><td>_step</td><td>▁▁▂▂▃▃▄▄▅▅▆▆▇▇██</td></tr><tr><td>train_loss</td><td>▁</td></tr><tr><td>train_recall@30</td><td>▁</td></tr><tr><td>val_loss</td><td>▁</td></tr><tr><td>recall@10</td><td>▁</td></tr><tr><td>recall@20</td><td>▁</td></tr><tr><td>recall@30</td><td>▁</td></tr></table><br/>"
      ],
      "text/plain": [
       "<IPython.core.display.HTML object>"
      ]
     },
     "metadata": {},
     "output_type": "display_data"
    },
    {
     "data": {
      "text/html": [
       "Synced 6 W&B file(s), 0 media file(s), 0 artifact file(s) and 0 other file(s)"
      ],
      "text/plain": [
       "<IPython.core.display.HTML object>"
      ]
     },
     "metadata": {},
     "output_type": "display_data"
    },
    {
     "data": {
      "text/html": [
       "\n",
       "                    <br/>Synced <strong style=\"color:#cdcd00\">drawn-night-23</strong>: <a href=\"https://wandb.ai/snovaisg/thesis_basic_deterministic_model_tunning/runs/3dvsto66\" target=\"_blank\">https://wandb.ai/snovaisg/thesis_basic_deterministic_model_tunning/runs/3dvsto66</a><br/>\n",
       "                "
      ],
      "text/plain": [
       "<IPython.core.display.HTML object>"
      ]
     },
     "metadata": {},
     "output_type": "display_data"
    },
    {
     "data": {
      "text/html": [
       "...Successfully finished last run (ID:3dvsto66). Initializing new run:<br/><br/>"
      ],
      "text/plain": [
       "<IPython.core.display.HTML object>"
      ]
     },
     "metadata": {},
     "output_type": "display_data"
    },
    {
     "name": "stderr",
     "output_type": "stream",
     "text": [
      "\u001b[34m\u001b[1mwandb\u001b[0m: wandb version 0.12.11 is available!  To upgrade, please run:\n",
      "\u001b[34m\u001b[1mwandb\u001b[0m:  $ pip install wandb --upgrade\n"
     ]
    },
    {
     "data": {
      "text/html": [
       "\n",
       "                Tracking run with wandb version 0.12.1<br/>\n",
       "                Syncing run <strong style=\"color:#cdcd00\">woven-wave-24</strong> to <a href=\"https://wandb.ai\" target=\"_blank\">Weights & Biases</a> <a href=\"https://docs.wandb.com/integrations/jupyter.html\" target=\"_blank\">(Documentation)</a>.<br/>\n",
       "                Project page: <a href=\"https://wandb.ai/snovaisg/thesis_basic_deterministic_model_tunning\" target=\"_blank\">https://wandb.ai/snovaisg/thesis_basic_deterministic_model_tunning</a><br/>\n",
       "                Run page: <a href=\"https://wandb.ai/snovaisg/thesis_basic_deterministic_model_tunning/runs/3f7xmrk7\" target=\"_blank\">https://wandb.ai/snovaisg/thesis_basic_deterministic_model_tunning/runs/3f7xmrk7</a><br/>\n",
       "                Run data is saved locally in <code>/Users/simaonovais/Documents/GitHub/master-thesis/wandb/run-20220308_125043-3f7xmrk7</code><br/><br/>\n",
       "            "
      ],
      "text/plain": [
       "<IPython.core.display.HTML object>"
      ]
     },
     "metadata": {},
     "output_type": "display_data"
    },
    {
     "data": {
      "text/html": [
       "<h1>Run(3f7xmrk7)</h1><iframe src=\"https://wandb.ai/snovaisg/thesis_basic_deterministic_model_tunning/runs/3f7xmrk7\" style=\"border:none;width:100%;height:400px\"></iframe>"
      ],
      "text/plain": [
       "<wandb.sdk.wandb_run.Run at 0x13078ba00>"
      ]
     },
     "execution_count": 9,
     "metadata": {},
     "output_type": "execute_result"
    },
    {
     "data": {
      "text/html": [
       "Finishing last run (ID:3f7xmrk7) before initializing another..."
      ],
      "text/plain": [
       "<IPython.core.display.HTML object>"
      ]
     },
     "metadata": {},
     "output_type": "display_data"
    },
    {
     "data": {
      "text/html": [
       "<br/>Waiting for W&B process to finish, PID 18238<br/>Program ended successfully."
      ],
      "text/plain": [
       "<IPython.core.display.HTML object>"
      ]
     },
     "metadata": {},
     "output_type": "display_data"
    },
    {
     "data": {
      "text/html": [
       "Find user logs for this run at: <code>/Users/simaonovais/Documents/GitHub/master-thesis/wandb/run-20220308_125043-3f7xmrk7/logs/debug.log</code>"
      ],
      "text/plain": [
       "<IPython.core.display.HTML object>"
      ]
     },
     "metadata": {},
     "output_type": "display_data"
    },
    {
     "data": {
      "text/html": [
       "Find internal logs for this run at: <code>/Users/simaonovais/Documents/GitHub/master-thesis/wandb/run-20220308_125043-3f7xmrk7/logs/debug-internal.log</code>"
      ],
      "text/plain": [
       "<IPython.core.display.HTML object>"
      ]
     },
     "metadata": {},
     "output_type": "display_data"
    },
    {
     "data": {
      "text/html": [
       "<h3>Run summary:</h3><br/><style>\n",
       "    table.wandb td:nth-child(1) { padding: 0 10px; text-align: right }\n",
       "    </style><table class=\"wandb\">\n",
       "<tr><td>loss</td><td>0.113</td></tr><tr><td>_runtime</td><td>23</td></tr><tr><td>_timestamp</td><td>1646743871</td></tr><tr><td>_step</td><td>15</td></tr><tr><td>train_loss</td><td>0.11157</td></tr><tr><td>train_recall@30</td><td>0.70545</td></tr><tr><td>val_loss</td><td>0.11934</td></tr><tr><td>recall@10</td><td>0.39562</td></tr><tr><td>recall@20</td><td>0.5649</td></tr><tr><td>recall@30</td><td>0.67315</td></tr></table>"
      ],
      "text/plain": [
       "<IPython.core.display.HTML object>"
      ]
     },
     "metadata": {},
     "output_type": "display_data"
    },
    {
     "data": {
      "text/html": [
       "<h3>Run history:</h3><br/><style>\n",
       "    table.wandb td:nth-child(1) { padding: 0 10px; text-align: right }\n",
       "    </style><table class=\"wandb\">\n",
       "<tr><td>loss</td><td>█▃▂▂▂▂▂▁▁▁▁▁▁▁▁</td></tr><tr><td>_runtime</td><td>▁▁▂▂▂▃▃▄▄▄▅▅▅▆▆█</td></tr><tr><td>_timestamp</td><td>▁▁▂▂▂▃▃▄▄▄▅▅▅▆▆█</td></tr><tr><td>_step</td><td>▁▁▂▂▃▃▄▄▅▅▆▆▇▇██</td></tr><tr><td>train_loss</td><td>▁</td></tr><tr><td>train_recall@30</td><td>▁</td></tr><tr><td>val_loss</td><td>▁</td></tr><tr><td>recall@10</td><td>▁</td></tr><tr><td>recall@20</td><td>▁</td></tr><tr><td>recall@30</td><td>▁</td></tr></table><br/>"
      ],
      "text/plain": [
       "<IPython.core.display.HTML object>"
      ]
     },
     "metadata": {},
     "output_type": "display_data"
    },
    {
     "data": {
      "text/html": [
       "Synced 6 W&B file(s), 0 media file(s), 2 artifact file(s) and 1 other file(s)"
      ],
      "text/plain": [
       "<IPython.core.display.HTML object>"
      ]
     },
     "metadata": {},
     "output_type": "display_data"
    },
    {
     "data": {
      "text/html": [
       "\n",
       "                    <br/>Synced <strong style=\"color:#cdcd00\">woven-wave-24</strong>: <a href=\"https://wandb.ai/snovaisg/thesis_basic_deterministic_model_tunning/runs/3f7xmrk7\" target=\"_blank\">https://wandb.ai/snovaisg/thesis_basic_deterministic_model_tunning/runs/3f7xmrk7</a><br/>\n",
       "                "
      ],
      "text/plain": [
       "<IPython.core.display.HTML object>"
      ]
     },
     "metadata": {},
     "output_type": "display_data"
    },
    {
     "data": {
      "text/html": [
       "...Successfully finished last run (ID:3f7xmrk7). Initializing new run:<br/><br/>"
      ],
      "text/plain": [
       "<IPython.core.display.HTML object>"
      ]
     },
     "metadata": {},
     "output_type": "display_data"
    },
    {
     "name": "stderr",
     "output_type": "stream",
     "text": [
      "\u001b[34m\u001b[1mwandb\u001b[0m: wandb version 0.12.11 is available!  To upgrade, please run:\n",
      "\u001b[34m\u001b[1mwandb\u001b[0m:  $ pip install wandb --upgrade\n"
     ]
    },
    {
     "data": {
      "text/html": [
       "\n",
       "                Tracking run with wandb version 0.12.1<br/>\n",
       "                Syncing run <strong style=\"color:#cdcd00\">valiant-plasma-25</strong> to <a href=\"https://wandb.ai\" target=\"_blank\">Weights & Biases</a> <a href=\"https://docs.wandb.com/integrations/jupyter.html\" target=\"_blank\">(Documentation)</a>.<br/>\n",
       "                Project page: <a href=\"https://wandb.ai/snovaisg/thesis_basic_deterministic_model_tunning\" target=\"_blank\">https://wandb.ai/snovaisg/thesis_basic_deterministic_model_tunning</a><br/>\n",
       "                Run page: <a href=\"https://wandb.ai/snovaisg/thesis_basic_deterministic_model_tunning/runs/2vfkr8ox\" target=\"_blank\">https://wandb.ai/snovaisg/thesis_basic_deterministic_model_tunning/runs/2vfkr8ox</a><br/>\n",
       "                Run data is saved locally in <code>/Users/simaonovais/Documents/GitHub/master-thesis/wandb/run-20220308_125111-2vfkr8ox</code><br/><br/>\n",
       "            "
      ],
      "text/plain": [
       "<IPython.core.display.HTML object>"
      ]
     },
     "metadata": {},
     "output_type": "display_data"
    },
    {
     "data": {
      "text/html": [
       "<h1>Run(2vfkr8ox)</h1><iframe src=\"https://wandb.ai/snovaisg/thesis_basic_deterministic_model_tunning/runs/2vfkr8ox\" style=\"border:none;width:100%;height:400px\"></iframe>"
      ],
      "text/plain": [
       "<wandb.sdk.wandb_run.Run at 0x1307945b0>"
      ]
     },
     "execution_count": 9,
     "metadata": {},
     "output_type": "execute_result"
    },
    {
     "data": {
      "text/html": [
       "Finishing last run (ID:2vfkr8ox) before initializing another..."
      ],
      "text/plain": [
       "<IPython.core.display.HTML object>"
      ]
     },
     "metadata": {},
     "output_type": "display_data"
    },
    {
     "data": {
      "text/html": [
       "<br/>Waiting for W&B process to finish, PID 18256<br/>Program ended successfully."
      ],
      "text/plain": [
       "<IPython.core.display.HTML object>"
      ]
     },
     "metadata": {},
     "output_type": "display_data"
    },
    {
     "data": {
      "text/html": [
       "Find user logs for this run at: <code>/Users/simaonovais/Documents/GitHub/master-thesis/wandb/run-20220308_125111-2vfkr8ox/logs/debug.log</code>"
      ],
      "text/plain": [
       "<IPython.core.display.HTML object>"
      ]
     },
     "metadata": {},
     "output_type": "display_data"
    },
    {
     "data": {
      "text/html": [
       "Find internal logs for this run at: <code>/Users/simaonovais/Documents/GitHub/master-thesis/wandb/run-20220308_125111-2vfkr8ox/logs/debug-internal.log</code>"
      ],
      "text/plain": [
       "<IPython.core.display.HTML object>"
      ]
     },
     "metadata": {},
     "output_type": "display_data"
    },
    {
     "data": {
      "text/html": [
       "<h3>Run summary:</h3><br/><style>\n",
       "    table.wandb td:nth-child(1) { padding: 0 10px; text-align: right }\n",
       "    </style><table class=\"wandb\">\n",
       "<tr><td>loss</td><td>0.11941</td></tr><tr><td>_runtime</td><td>29</td></tr><tr><td>_timestamp</td><td>1646743931</td></tr><tr><td>_step</td><td>15</td></tr><tr><td>train_loss</td><td>0.11861</td></tr><tr><td>train_recall@30</td><td>0.66348</td></tr><tr><td>val_loss</td><td>0.1236</td></tr><tr><td>recall@10</td><td>0.36644</td></tr><tr><td>recall@20</td><td>0.5379</td></tr><tr><td>recall@30</td><td>0.64439</td></tr></table>"
      ],
      "text/plain": [
       "<IPython.core.display.HTML object>"
      ]
     },
     "metadata": {},
     "output_type": "display_data"
    },
    {
     "data": {
      "text/html": [
       "<h3>Run history:</h3><br/><style>\n",
       "    table.wandb td:nth-child(1) { padding: 0 10px; text-align: right }\n",
       "    </style><table class=\"wandb\">\n",
       "<tr><td>loss</td><td>█▄▃▃▃▂▂▂▂▂▂▁▁▁▁</td></tr><tr><td>_runtime</td><td>▁▂▂▂▂▃▃▄▄▄▅▅▅▆▆█</td></tr><tr><td>_timestamp</td><td>▁▂▂▂▂▃▃▄▄▄▅▅▅▆▆█</td></tr><tr><td>_step</td><td>▁▁▂▂▃▃▄▄▅▅▆▆▇▇██</td></tr><tr><td>train_loss</td><td>▁</td></tr><tr><td>train_recall@30</td><td>▁</td></tr><tr><td>val_loss</td><td>▁</td></tr><tr><td>recall@10</td><td>▁</td></tr><tr><td>recall@20</td><td>▁</td></tr><tr><td>recall@30</td><td>▁</td></tr></table><br/>"
      ],
      "text/plain": [
       "<IPython.core.display.HTML object>"
      ]
     },
     "metadata": {},
     "output_type": "display_data"
    },
    {
     "data": {
      "text/html": [
       "Synced 6 W&B file(s), 0 media file(s), 0 artifact file(s) and 0 other file(s)"
      ],
      "text/plain": [
       "<IPython.core.display.HTML object>"
      ]
     },
     "metadata": {},
     "output_type": "display_data"
    },
    {
     "data": {
      "text/html": [
       "\n",
       "                    <br/>Synced <strong style=\"color:#cdcd00\">valiant-plasma-25</strong>: <a href=\"https://wandb.ai/snovaisg/thesis_basic_deterministic_model_tunning/runs/2vfkr8ox\" target=\"_blank\">https://wandb.ai/snovaisg/thesis_basic_deterministic_model_tunning/runs/2vfkr8ox</a><br/>\n",
       "                "
      ],
      "text/plain": [
       "<IPython.core.display.HTML object>"
      ]
     },
     "metadata": {},
     "output_type": "display_data"
    },
    {
     "data": {
      "text/html": [
       "...Successfully finished last run (ID:2vfkr8ox). Initializing new run:<br/><br/>"
      ],
      "text/plain": [
       "<IPython.core.display.HTML object>"
      ]
     },
     "metadata": {},
     "output_type": "display_data"
    },
    {
     "name": "stderr",
     "output_type": "stream",
     "text": [
      "\u001b[34m\u001b[1mwandb\u001b[0m: wandb version 0.12.11 is available!  To upgrade, please run:\n",
      "\u001b[34m\u001b[1mwandb\u001b[0m:  $ pip install wandb --upgrade\n"
     ]
    },
    {
     "data": {
      "text/html": [
       "\n",
       "                Tracking run with wandb version 0.12.1<br/>\n",
       "                Syncing run <strong style=\"color:#cdcd00\">amber-bird-26</strong> to <a href=\"https://wandb.ai\" target=\"_blank\">Weights & Biases</a> <a href=\"https://docs.wandb.com/integrations/jupyter.html\" target=\"_blank\">(Documentation)</a>.<br/>\n",
       "                Project page: <a href=\"https://wandb.ai/snovaisg/thesis_basic_deterministic_model_tunning\" target=\"_blank\">https://wandb.ai/snovaisg/thesis_basic_deterministic_model_tunning</a><br/>\n",
       "                Run page: <a href=\"https://wandb.ai/snovaisg/thesis_basic_deterministic_model_tunning/runs/1z5wdpfd\" target=\"_blank\">https://wandb.ai/snovaisg/thesis_basic_deterministic_model_tunning/runs/1z5wdpfd</a><br/>\n",
       "                Run data is saved locally in <code>/Users/simaonovais/Documents/GitHub/master-thesis/wandb/run-20220308_125211-1z5wdpfd</code><br/><br/>\n",
       "            "
      ],
      "text/plain": [
       "<IPython.core.display.HTML object>"
      ]
     },
     "metadata": {},
     "output_type": "display_data"
    },
    {
     "data": {
      "text/html": [
       "<h1>Run(1z5wdpfd)</h1><iframe src=\"https://wandb.ai/snovaisg/thesis_basic_deterministic_model_tunning/runs/1z5wdpfd\" style=\"border:none;width:100%;height:400px\"></iframe>"
      ],
      "text/plain": [
       "<wandb.sdk.wandb_run.Run at 0x130845b80>"
      ]
     },
     "execution_count": 9,
     "metadata": {},
     "output_type": "execute_result"
    },
    {
     "data": {
      "text/html": [
       "Finishing last run (ID:1z5wdpfd) before initializing another..."
      ],
      "text/plain": [
       "<IPython.core.display.HTML object>"
      ]
     },
     "metadata": {},
     "output_type": "display_data"
    },
    {
     "data": {
      "text/html": [
       "<br/>Waiting for W&B process to finish, PID 18272<br/>Program ended successfully."
      ],
      "text/plain": [
       "<IPython.core.display.HTML object>"
      ]
     },
     "metadata": {},
     "output_type": "display_data"
    },
    {
     "data": {
      "text/html": [
       "Find user logs for this run at: <code>/Users/simaonovais/Documents/GitHub/master-thesis/wandb/run-20220308_125211-1z5wdpfd/logs/debug.log</code>"
      ],
      "text/plain": [
       "<IPython.core.display.HTML object>"
      ]
     },
     "metadata": {},
     "output_type": "display_data"
    },
    {
     "data": {
      "text/html": [
       "Find internal logs for this run at: <code>/Users/simaonovais/Documents/GitHub/master-thesis/wandb/run-20220308_125211-1z5wdpfd/logs/debug-internal.log</code>"
      ],
      "text/plain": [
       "<IPython.core.display.HTML object>"
      ]
     },
     "metadata": {},
     "output_type": "display_data"
    },
    {
     "data": {
      "text/html": [
       "<h3>Run summary:</h3><br/><style>\n",
       "    table.wandb td:nth-child(1) { padding: 0 10px; text-align: right }\n",
       "    </style><table class=\"wandb\">\n",
       "<tr><td>loss</td><td>0.11243</td></tr><tr><td>_runtime</td><td>24</td></tr><tr><td>_timestamp</td><td>1646743968</td></tr><tr><td>_step</td><td>15</td></tr><tr><td>train_loss</td><td>0.11061</td></tr><tr><td>train_recall@30</td><td>0.7102</td></tr><tr><td>val_loss</td><td>0.11805</td></tr><tr><td>recall@10</td><td>0.40009</td></tr><tr><td>recall@20</td><td>0.57198</td></tr><tr><td>recall@30</td><td>0.68239</td></tr></table>"
      ],
      "text/plain": [
       "<IPython.core.display.HTML object>"
      ]
     },
     "metadata": {},
     "output_type": "display_data"
    },
    {
     "data": {
      "text/html": [
       "<h3>Run history:</h3><br/><style>\n",
       "    table.wandb td:nth-child(1) { padding: 0 10px; text-align: right }\n",
       "    </style><table class=\"wandb\">\n",
       "<tr><td>loss</td><td>█▃▂▂▂▂▂▂▂▁▁▁▁▁▁</td></tr><tr><td>_runtime</td><td>▁▁▂▂▂▃▃▄▄▅▅▅▆▆▆█</td></tr><tr><td>_timestamp</td><td>▁▁▂▂▂▃▃▄▄▅▅▅▆▆▆█</td></tr><tr><td>_step</td><td>▁▁▂▂▃▃▄▄▅▅▆▆▇▇██</td></tr><tr><td>train_loss</td><td>▁</td></tr><tr><td>train_recall@30</td><td>▁</td></tr><tr><td>val_loss</td><td>▁</td></tr><tr><td>recall@10</td><td>▁</td></tr><tr><td>recall@20</td><td>▁</td></tr><tr><td>recall@30</td><td>▁</td></tr></table><br/>"
      ],
      "text/plain": [
       "<IPython.core.display.HTML object>"
      ]
     },
     "metadata": {},
     "output_type": "display_data"
    },
    {
     "data": {
      "text/html": [
       "Synced 6 W&B file(s), 0 media file(s), 2 artifact file(s) and 1 other file(s)"
      ],
      "text/plain": [
       "<IPython.core.display.HTML object>"
      ]
     },
     "metadata": {},
     "output_type": "display_data"
    },
    {
     "data": {
      "text/html": [
       "\n",
       "                    <br/>Synced <strong style=\"color:#cdcd00\">amber-bird-26</strong>: <a href=\"https://wandb.ai/snovaisg/thesis_basic_deterministic_model_tunning/runs/1z5wdpfd\" target=\"_blank\">https://wandb.ai/snovaisg/thesis_basic_deterministic_model_tunning/runs/1z5wdpfd</a><br/>\n",
       "                "
      ],
      "text/plain": [
       "<IPython.core.display.HTML object>"
      ]
     },
     "metadata": {},
     "output_type": "display_data"
    },
    {
     "data": {
      "text/html": [
       "...Successfully finished last run (ID:1z5wdpfd). Initializing new run:<br/><br/>"
      ],
      "text/plain": [
       "<IPython.core.display.HTML object>"
      ]
     },
     "metadata": {},
     "output_type": "display_data"
    },
    {
     "name": "stderr",
     "output_type": "stream",
     "text": [
      "\u001b[34m\u001b[1mwandb\u001b[0m: wandb version 0.12.11 is available!  To upgrade, please run:\n",
      "\u001b[34m\u001b[1mwandb\u001b[0m:  $ pip install wandb --upgrade\n"
     ]
    },
    {
     "data": {
      "text/html": [
       "\n",
       "                Tracking run with wandb version 0.12.1<br/>\n",
       "                Syncing run <strong style=\"color:#cdcd00\">good-wood-27</strong> to <a href=\"https://wandb.ai\" target=\"_blank\">Weights & Biases</a> <a href=\"https://docs.wandb.com/integrations/jupyter.html\" target=\"_blank\">(Documentation)</a>.<br/>\n",
       "                Project page: <a href=\"https://wandb.ai/snovaisg/thesis_basic_deterministic_model_tunning\" target=\"_blank\">https://wandb.ai/snovaisg/thesis_basic_deterministic_model_tunning</a><br/>\n",
       "                Run page: <a href=\"https://wandb.ai/snovaisg/thesis_basic_deterministic_model_tunning/runs/1qbwzx1c\" target=\"_blank\">https://wandb.ai/snovaisg/thesis_basic_deterministic_model_tunning/runs/1qbwzx1c</a><br/>\n",
       "                Run data is saved locally in <code>/Users/simaonovais/Documents/GitHub/master-thesis/wandb/run-20220308_125248-1qbwzx1c</code><br/><br/>\n",
       "            "
      ],
      "text/plain": [
       "<IPython.core.display.HTML object>"
      ]
     },
     "metadata": {},
     "output_type": "display_data"
    },
    {
     "data": {
      "text/html": [
       "<h1>Run(1qbwzx1c)</h1><iframe src=\"https://wandb.ai/snovaisg/thesis_basic_deterministic_model_tunning/runs/1qbwzx1c\" style=\"border:none;width:100%;height:400px\"></iframe>"
      ],
      "text/plain": [
       "<wandb.sdk.wandb_run.Run at 0x1307a5ee0>"
      ]
     },
     "execution_count": 9,
     "metadata": {},
     "output_type": "execute_result"
    },
    {
     "data": {
      "text/html": [
       "Finishing last run (ID:1qbwzx1c) before initializing another..."
      ],
      "text/plain": [
       "<IPython.core.display.HTML object>"
      ]
     },
     "metadata": {},
     "output_type": "display_data"
    },
    {
     "data": {
      "text/html": [
       "<br/>Waiting for W&B process to finish, PID 18292<br/>Program ended successfully."
      ],
      "text/plain": [
       "<IPython.core.display.HTML object>"
      ]
     },
     "metadata": {},
     "output_type": "display_data"
    },
    {
     "data": {
      "text/html": [
       "Find user logs for this run at: <code>/Users/simaonovais/Documents/GitHub/master-thesis/wandb/run-20220308_125248-1qbwzx1c/logs/debug.log</code>"
      ],
      "text/plain": [
       "<IPython.core.display.HTML object>"
      ]
     },
     "metadata": {},
     "output_type": "display_data"
    },
    {
     "data": {
      "text/html": [
       "Find internal logs for this run at: <code>/Users/simaonovais/Documents/GitHub/master-thesis/wandb/run-20220308_125248-1qbwzx1c/logs/debug-internal.log</code>"
      ],
      "text/plain": [
       "<IPython.core.display.HTML object>"
      ]
     },
     "metadata": {},
     "output_type": "display_data"
    },
    {
     "data": {
      "text/html": [
       "<h3>Run summary:</h3><br/><style>\n",
       "    table.wandb td:nth-child(1) { padding: 0 10px; text-align: right }\n",
       "    </style><table class=\"wandb\">\n",
       "<tr><td>loss</td><td>0.12207</td></tr><tr><td>_runtime</td><td>24</td></tr><tr><td>_timestamp</td><td>1646744017</td></tr><tr><td>_step</td><td>15</td></tr><tr><td>train_loss</td><td>0.12069</td></tr><tr><td>train_recall@30</td><td>0.65309</td></tr><tr><td>val_loss</td><td>0.12482</td></tr><tr><td>recall@10</td><td>0.35726</td></tr><tr><td>recall@20</td><td>0.52972</td></tr><tr><td>recall@30</td><td>0.63507</td></tr></table>"
      ],
      "text/plain": [
       "<IPython.core.display.HTML object>"
      ]
     },
     "metadata": {},
     "output_type": "display_data"
    },
    {
     "data": {
      "text/html": [
       "<h3>Run history:</h3><br/><style>\n",
       "    table.wandb td:nth-child(1) { padding: 0 10px; text-align: right }\n",
       "    </style><table class=\"wandb\">\n",
       "<tr><td>loss</td><td>█▃▃▂▂▂▂▂▂▂▁▁▁▁▁</td></tr><tr><td>_runtime</td><td>▁▁▂▂▃▃▃▄▄▅▅▆▆▆▇█</td></tr><tr><td>_timestamp</td><td>▁▁▂▂▃▃▃▄▄▅▅▆▆▆▇█</td></tr><tr><td>_step</td><td>▁▁▂▂▃▃▄▄▅▅▆▆▇▇██</td></tr><tr><td>train_loss</td><td>▁</td></tr><tr><td>train_recall@30</td><td>▁</td></tr><tr><td>val_loss</td><td>▁</td></tr><tr><td>recall@10</td><td>▁</td></tr><tr><td>recall@20</td><td>▁</td></tr><tr><td>recall@30</td><td>▁</td></tr></table><br/>"
      ],
      "text/plain": [
       "<IPython.core.display.HTML object>"
      ]
     },
     "metadata": {},
     "output_type": "display_data"
    },
    {
     "data": {
      "text/html": [
       "Synced 6 W&B file(s), 0 media file(s), 0 artifact file(s) and 0 other file(s)"
      ],
      "text/plain": [
       "<IPython.core.display.HTML object>"
      ]
     },
     "metadata": {},
     "output_type": "display_data"
    },
    {
     "data": {
      "text/html": [
       "\n",
       "                    <br/>Synced <strong style=\"color:#cdcd00\">good-wood-27</strong>: <a href=\"https://wandb.ai/snovaisg/thesis_basic_deterministic_model_tunning/runs/1qbwzx1c\" target=\"_blank\">https://wandb.ai/snovaisg/thesis_basic_deterministic_model_tunning/runs/1qbwzx1c</a><br/>\n",
       "                "
      ],
      "text/plain": [
       "<IPython.core.display.HTML object>"
      ]
     },
     "metadata": {},
     "output_type": "display_data"
    },
    {
     "data": {
      "text/html": [
       "...Successfully finished last run (ID:1qbwzx1c). Initializing new run:<br/><br/>"
      ],
      "text/plain": [
       "<IPython.core.display.HTML object>"
      ]
     },
     "metadata": {},
     "output_type": "display_data"
    },
    {
     "name": "stderr",
     "output_type": "stream",
     "text": [
      "\u001b[34m\u001b[1mwandb\u001b[0m: wandb version 0.12.11 is available!  To upgrade, please run:\n",
      "\u001b[34m\u001b[1mwandb\u001b[0m:  $ pip install wandb --upgrade\n"
     ]
    },
    {
     "data": {
      "text/html": [
       "\n",
       "                Tracking run with wandb version 0.12.1<br/>\n",
       "                Syncing run <strong style=\"color:#cdcd00\">snowy-sun-28</strong> to <a href=\"https://wandb.ai\" target=\"_blank\">Weights & Biases</a> <a href=\"https://docs.wandb.com/integrations/jupyter.html\" target=\"_blank\">(Documentation)</a>.<br/>\n",
       "                Project page: <a href=\"https://wandb.ai/snovaisg/thesis_basic_deterministic_model_tunning\" target=\"_blank\">https://wandb.ai/snovaisg/thesis_basic_deterministic_model_tunning</a><br/>\n",
       "                Run page: <a href=\"https://wandb.ai/snovaisg/thesis_basic_deterministic_model_tunning/runs/1xeu38kk\" target=\"_blank\">https://wandb.ai/snovaisg/thesis_basic_deterministic_model_tunning/runs/1xeu38kk</a><br/>\n",
       "                Run data is saved locally in <code>/Users/simaonovais/Documents/GitHub/master-thesis/wandb/run-20220308_125337-1xeu38kk</code><br/><br/>\n",
       "            "
      ],
      "text/plain": [
       "<IPython.core.display.HTML object>"
      ]
     },
     "metadata": {},
     "output_type": "display_data"
    },
    {
     "data": {
      "text/html": [
       "<h1>Run(1xeu38kk)</h1><iframe src=\"https://wandb.ai/snovaisg/thesis_basic_deterministic_model_tunning/runs/1xeu38kk\" style=\"border:none;width:100%;height:400px\"></iframe>"
      ],
      "text/plain": [
       "<wandb.sdk.wandb_run.Run at 0x13085aca0>"
      ]
     },
     "execution_count": 9,
     "metadata": {},
     "output_type": "execute_result"
    },
    {
     "data": {
      "text/html": [
       "Finishing last run (ID:1xeu38kk) before initializing another..."
      ],
      "text/plain": [
       "<IPython.core.display.HTML object>"
      ]
     },
     "metadata": {},
     "output_type": "display_data"
    },
    {
     "data": {
      "text/html": [
       "<br/>Waiting for W&B process to finish, PID 18308<br/>Program ended successfully."
      ],
      "text/plain": [
       "<IPython.core.display.HTML object>"
      ]
     },
     "metadata": {},
     "output_type": "display_data"
    },
    {
     "data": {
      "text/html": [
       "Find user logs for this run at: <code>/Users/simaonovais/Documents/GitHub/master-thesis/wandb/run-20220308_125337-1xeu38kk/logs/debug.log</code>"
      ],
      "text/plain": [
       "<IPython.core.display.HTML object>"
      ]
     },
     "metadata": {},
     "output_type": "display_data"
    },
    {
     "data": {
      "text/html": [
       "Find internal logs for this run at: <code>/Users/simaonovais/Documents/GitHub/master-thesis/wandb/run-20220308_125337-1xeu38kk/logs/debug-internal.log</code>"
      ],
      "text/plain": [
       "<IPython.core.display.HTML object>"
      ]
     },
     "metadata": {},
     "output_type": "display_data"
    },
    {
     "data": {
      "text/html": [
       "<h3>Run summary:</h3><br/><style>\n",
       "    table.wandb td:nth-child(1) { padding: 0 10px; text-align: right }\n",
       "    </style><table class=\"wandb\">\n",
       "<tr><td>loss</td><td>0.10976</td></tr><tr><td>_runtime</td><td>21</td></tr><tr><td>_timestamp</td><td>1646744063</td></tr><tr><td>_step</td><td>15</td></tr><tr><td>train_loss</td><td>0.10793</td></tr><tr><td>train_recall@30</td><td>0.72975</td></tr><tr><td>val_loss</td><td>0.11403</td></tr><tr><td>recall@10</td><td>0.43195</td></tr><tr><td>recall@20</td><td>0.59868</td></tr><tr><td>recall@30</td><td>0.70049</td></tr></table>"
      ],
      "text/plain": [
       "<IPython.core.display.HTML object>"
      ]
     },
     "metadata": {},
     "output_type": "display_data"
    },
    {
     "data": {
      "text/html": [
       "<h3>Run history:</h3><br/><style>\n",
       "    table.wandb td:nth-child(1) { padding: 0 10px; text-align: right }\n",
       "    </style><table class=\"wandb\">\n",
       "<tr><td>loss</td><td>█▃▃▃▂▂▂▂▂▁▁▁▁▁▁</td></tr><tr><td>_runtime</td><td>▁▁▂▂▂▃▃▃▄▄▅▅▆▆▆█</td></tr><tr><td>_timestamp</td><td>▁▁▂▂▂▃▃▃▄▄▅▅▆▆▆█</td></tr><tr><td>_step</td><td>▁▁▂▂▃▃▄▄▅▅▆▆▇▇██</td></tr><tr><td>train_loss</td><td>▁</td></tr><tr><td>train_recall@30</td><td>▁</td></tr><tr><td>val_loss</td><td>▁</td></tr><tr><td>recall@10</td><td>▁</td></tr><tr><td>recall@20</td><td>▁</td></tr><tr><td>recall@30</td><td>▁</td></tr></table><br/>"
      ],
      "text/plain": [
       "<IPython.core.display.HTML object>"
      ]
     },
     "metadata": {},
     "output_type": "display_data"
    },
    {
     "data": {
      "text/html": [
       "Synced 6 W&B file(s), 0 media file(s), 2 artifact file(s) and 1 other file(s)"
      ],
      "text/plain": [
       "<IPython.core.display.HTML object>"
      ]
     },
     "metadata": {},
     "output_type": "display_data"
    },
    {
     "data": {
      "text/html": [
       "\n",
       "                    <br/>Synced <strong style=\"color:#cdcd00\">snowy-sun-28</strong>: <a href=\"https://wandb.ai/snovaisg/thesis_basic_deterministic_model_tunning/runs/1xeu38kk\" target=\"_blank\">https://wandb.ai/snovaisg/thesis_basic_deterministic_model_tunning/runs/1xeu38kk</a><br/>\n",
       "                "
      ],
      "text/plain": [
       "<IPython.core.display.HTML object>"
      ]
     },
     "metadata": {},
     "output_type": "display_data"
    },
    {
     "data": {
      "text/html": [
       "...Successfully finished last run (ID:1xeu38kk). Initializing new run:<br/><br/>"
      ],
      "text/plain": [
       "<IPython.core.display.HTML object>"
      ]
     },
     "metadata": {},
     "output_type": "display_data"
    },
    {
     "name": "stderr",
     "output_type": "stream",
     "text": [
      "\u001b[34m\u001b[1mwandb\u001b[0m: wandb version 0.12.11 is available!  To upgrade, please run:\n",
      "\u001b[34m\u001b[1mwandb\u001b[0m:  $ pip install wandb --upgrade\n"
     ]
    },
    {
     "data": {
      "text/html": [
       "\n",
       "                Tracking run with wandb version 0.12.1<br/>\n",
       "                Syncing run <strong style=\"color:#cdcd00\">lemon-spaceship-29</strong> to <a href=\"https://wandb.ai\" target=\"_blank\">Weights & Biases</a> <a href=\"https://docs.wandb.com/integrations/jupyter.html\" target=\"_blank\">(Documentation)</a>.<br/>\n",
       "                Project page: <a href=\"https://wandb.ai/snovaisg/thesis_basic_deterministic_model_tunning\" target=\"_blank\">https://wandb.ai/snovaisg/thesis_basic_deterministic_model_tunning</a><br/>\n",
       "                Run page: <a href=\"https://wandb.ai/snovaisg/thesis_basic_deterministic_model_tunning/runs/2scko3e3\" target=\"_blank\">https://wandb.ai/snovaisg/thesis_basic_deterministic_model_tunning/runs/2scko3e3</a><br/>\n",
       "                Run data is saved locally in <code>/Users/simaonovais/Documents/GitHub/master-thesis/wandb/run-20220308_125423-2scko3e3</code><br/><br/>\n",
       "            "
      ],
      "text/plain": [
       "<IPython.core.display.HTML object>"
      ]
     },
     "metadata": {},
     "output_type": "display_data"
    },
    {
     "data": {
      "text/html": [
       "<h1>Run(2scko3e3)</h1><iframe src=\"https://wandb.ai/snovaisg/thesis_basic_deterministic_model_tunning/runs/2scko3e3\" style=\"border:none;width:100%;height:400px\"></iframe>"
      ],
      "text/plain": [
       "<wandb.sdk.wandb_run.Run at 0x1307a5e20>"
      ]
     },
     "execution_count": 9,
     "metadata": {},
     "output_type": "execute_result"
    },
    {
     "data": {
      "text/html": [
       "Finishing last run (ID:2scko3e3) before initializing another..."
      ],
      "text/plain": [
       "<IPython.core.display.HTML object>"
      ]
     },
     "metadata": {},
     "output_type": "display_data"
    },
    {
     "data": {
      "text/html": [
       "<br/>Waiting for W&B process to finish, PID 18324<br/>Program ended successfully."
      ],
      "text/plain": [
       "<IPython.core.display.HTML object>"
      ]
     },
     "metadata": {},
     "output_type": "display_data"
    },
    {
     "data": {
      "text/html": [
       "Find user logs for this run at: <code>/Users/simaonovais/Documents/GitHub/master-thesis/wandb/run-20220308_125423-2scko3e3/logs/debug.log</code>"
      ],
      "text/plain": [
       "<IPython.core.display.HTML object>"
      ]
     },
     "metadata": {},
     "output_type": "display_data"
    },
    {
     "data": {
      "text/html": [
       "Find internal logs for this run at: <code>/Users/simaonovais/Documents/GitHub/master-thesis/wandb/run-20220308_125423-2scko3e3/logs/debug-internal.log</code>"
      ],
      "text/plain": [
       "<IPython.core.display.HTML object>"
      ]
     },
     "metadata": {},
     "output_type": "display_data"
    },
    {
     "data": {
      "text/html": [
       "<h3>Run summary:</h3><br/><style>\n",
       "    table.wandb td:nth-child(1) { padding: 0 10px; text-align: right }\n",
       "    </style><table class=\"wandb\">\n",
       "<tr><td>loss</td><td>0.12252</td></tr><tr><td>_runtime</td><td>26</td></tr><tr><td>_timestamp</td><td>1646744099</td></tr><tr><td>_step</td><td>15</td></tr><tr><td>train_loss</td><td>0.12049</td></tr><tr><td>train_recall@30</td><td>0.65957</td></tr><tr><td>val_loss</td><td>0.1231</td></tr><tr><td>recall@10</td><td>0.35985</td></tr><tr><td>recall@20</td><td>0.53036</td></tr><tr><td>recall@30</td><td>0.64313</td></tr></table>"
      ],
      "text/plain": [
       "<IPython.core.display.HTML object>"
      ]
     },
     "metadata": {},
     "output_type": "display_data"
    },
    {
     "data": {
      "text/html": [
       "<h3>Run history:</h3><br/><style>\n",
       "    table.wandb td:nth-child(1) { padding: 0 10px; text-align: right }\n",
       "    </style><table class=\"wandb\">\n",
       "<tr><td>loss</td><td>█▃▃▂▂▂▂▂▂▁▁▁▁▁▁</td></tr><tr><td>_runtime</td><td>▁▁▂▂▂▃▃▃▄▄▅▅▅▆▆█</td></tr><tr><td>_timestamp</td><td>▁▁▂▂▂▃▃▃▄▄▅▅▅▆▆█</td></tr><tr><td>_step</td><td>▁▁▂▂▃▃▄▄▅▅▆▆▇▇██</td></tr><tr><td>train_loss</td><td>▁</td></tr><tr><td>train_recall@30</td><td>▁</td></tr><tr><td>val_loss</td><td>▁</td></tr><tr><td>recall@10</td><td>▁</td></tr><tr><td>recall@20</td><td>▁</td></tr><tr><td>recall@30</td><td>▁</td></tr></table><br/>"
      ],
      "text/plain": [
       "<IPython.core.display.HTML object>"
      ]
     },
     "metadata": {},
     "output_type": "display_data"
    },
    {
     "data": {
      "text/html": [
       "Synced 6 W&B file(s), 0 media file(s), 0 artifact file(s) and 0 other file(s)"
      ],
      "text/plain": [
       "<IPython.core.display.HTML object>"
      ]
     },
     "metadata": {},
     "output_type": "display_data"
    },
    {
     "data": {
      "text/html": [
       "\n",
       "                    <br/>Synced <strong style=\"color:#cdcd00\">lemon-spaceship-29</strong>: <a href=\"https://wandb.ai/snovaisg/thesis_basic_deterministic_model_tunning/runs/2scko3e3\" target=\"_blank\">https://wandb.ai/snovaisg/thesis_basic_deterministic_model_tunning/runs/2scko3e3</a><br/>\n",
       "                "
      ],
      "text/plain": [
       "<IPython.core.display.HTML object>"
      ]
     },
     "metadata": {},
     "output_type": "display_data"
    },
    {
     "data": {
      "text/html": [
       "...Successfully finished last run (ID:2scko3e3). Initializing new run:<br/><br/>"
      ],
      "text/plain": [
       "<IPython.core.display.HTML object>"
      ]
     },
     "metadata": {},
     "output_type": "display_data"
    },
    {
     "name": "stderr",
     "output_type": "stream",
     "text": [
      "\u001b[34m\u001b[1mwandb\u001b[0m: wandb version 0.12.11 is available!  To upgrade, please run:\n",
      "\u001b[34m\u001b[1mwandb\u001b[0m:  $ pip install wandb --upgrade\n"
     ]
    },
    {
     "data": {
      "text/html": [
       "\n",
       "                Tracking run with wandb version 0.12.1<br/>\n",
       "                Syncing run <strong style=\"color:#cdcd00\">scarlet-bee-30</strong> to <a href=\"https://wandb.ai\" target=\"_blank\">Weights & Biases</a> <a href=\"https://docs.wandb.com/integrations/jupyter.html\" target=\"_blank\">(Documentation)</a>.<br/>\n",
       "                Project page: <a href=\"https://wandb.ai/snovaisg/thesis_basic_deterministic_model_tunning\" target=\"_blank\">https://wandb.ai/snovaisg/thesis_basic_deterministic_model_tunning</a><br/>\n",
       "                Run page: <a href=\"https://wandb.ai/snovaisg/thesis_basic_deterministic_model_tunning/runs/dxmmyn14\" target=\"_blank\">https://wandb.ai/snovaisg/thesis_basic_deterministic_model_tunning/runs/dxmmyn14</a><br/>\n",
       "                Run data is saved locally in <code>/Users/simaonovais/Documents/GitHub/master-thesis/wandb/run-20220308_125459-dxmmyn14</code><br/><br/>\n",
       "            "
      ],
      "text/plain": [
       "<IPython.core.display.HTML object>"
      ]
     },
     "metadata": {},
     "output_type": "display_data"
    },
    {
     "data": {
      "text/html": [
       "<h1>Run(dxmmyn14)</h1><iframe src=\"https://wandb.ai/snovaisg/thesis_basic_deterministic_model_tunning/runs/dxmmyn14\" style=\"border:none;width:100%;height:400px\"></iframe>"
      ],
      "text/plain": [
       "<wandb.sdk.wandb_run.Run at 0x13088b8b0>"
      ]
     },
     "execution_count": 9,
     "metadata": {},
     "output_type": "execute_result"
    },
    {
     "data": {
      "text/html": [
       "Finishing last run (ID:dxmmyn14) before initializing another..."
      ],
      "text/plain": [
       "<IPython.core.display.HTML object>"
      ]
     },
     "metadata": {},
     "output_type": "display_data"
    },
    {
     "data": {
      "text/html": [
       "<br/>Waiting for W&B process to finish, PID 18350<br/>Program ended successfully."
      ],
      "text/plain": [
       "<IPython.core.display.HTML object>"
      ]
     },
     "metadata": {},
     "output_type": "display_data"
    },
    {
     "data": {
      "text/html": [
       "Find user logs for this run at: <code>/Users/simaonovais/Documents/GitHub/master-thesis/wandb/run-20220308_125459-dxmmyn14/logs/debug.log</code>"
      ],
      "text/plain": [
       "<IPython.core.display.HTML object>"
      ]
     },
     "metadata": {},
     "output_type": "display_data"
    },
    {
     "data": {
      "text/html": [
       "Find internal logs for this run at: <code>/Users/simaonovais/Documents/GitHub/master-thesis/wandb/run-20220308_125459-dxmmyn14/logs/debug-internal.log</code>"
      ],
      "text/plain": [
       "<IPython.core.display.HTML object>"
      ]
     },
     "metadata": {},
     "output_type": "display_data"
    },
    {
     "data": {
      "text/html": [
       "<h3>Run summary:</h3><br/><style>\n",
       "    table.wandb td:nth-child(1) { padding: 0 10px; text-align: right }\n",
       "    </style><table class=\"wandb\">\n",
       "<tr><td>loss</td><td>0.10716</td></tr><tr><td>_runtime</td><td>26</td></tr><tr><td>_timestamp</td><td>1646744138</td></tr><tr><td>_step</td><td>15</td></tr><tr><td>train_loss</td><td>0.10585</td></tr><tr><td>train_recall@30</td><td>0.73697</td></tr><tr><td>val_loss</td><td>0.11438</td></tr><tr><td>recall@10</td><td>0.43199</td></tr><tr><td>recall@20</td><td>0.59752</td></tr><tr><td>recall@30</td><td>0.70094</td></tr></table>"
      ],
      "text/plain": [
       "<IPython.core.display.HTML object>"
      ]
     },
     "metadata": {},
     "output_type": "display_data"
    },
    {
     "data": {
      "text/html": [
       "<h3>Run history:</h3><br/><style>\n",
       "    table.wandb td:nth-child(1) { padding: 0 10px; text-align: right }\n",
       "    </style><table class=\"wandb\">\n",
       "<tr><td>loss</td><td>█▃▃▂▂▂▂▂▂▁▁▁▁▁▁</td></tr><tr><td>_runtime</td><td>▁▁▂▂▂▃▃▄▄▄▅▅▅▆▆█</td></tr><tr><td>_timestamp</td><td>▁▁▂▂▂▃▃▄▄▄▅▅▅▆▆█</td></tr><tr><td>_step</td><td>▁▁▂▂▃▃▄▄▅▅▆▆▇▇██</td></tr><tr><td>train_loss</td><td>▁</td></tr><tr><td>train_recall@30</td><td>▁</td></tr><tr><td>val_loss</td><td>▁</td></tr><tr><td>recall@10</td><td>▁</td></tr><tr><td>recall@20</td><td>▁</td></tr><tr><td>recall@30</td><td>▁</td></tr></table><br/>"
      ],
      "text/plain": [
       "<IPython.core.display.HTML object>"
      ]
     },
     "metadata": {},
     "output_type": "display_data"
    },
    {
     "data": {
      "text/html": [
       "Synced 6 W&B file(s), 0 media file(s), 2 artifact file(s) and 1 other file(s)"
      ],
      "text/plain": [
       "<IPython.core.display.HTML object>"
      ]
     },
     "metadata": {},
     "output_type": "display_data"
    },
    {
     "data": {
      "text/html": [
       "\n",
       "                    <br/>Synced <strong style=\"color:#cdcd00\">scarlet-bee-30</strong>: <a href=\"https://wandb.ai/snovaisg/thesis_basic_deterministic_model_tunning/runs/dxmmyn14\" target=\"_blank\">https://wandb.ai/snovaisg/thesis_basic_deterministic_model_tunning/runs/dxmmyn14</a><br/>\n",
       "                "
      ],
      "text/plain": [
       "<IPython.core.display.HTML object>"
      ]
     },
     "metadata": {},
     "output_type": "display_data"
    },
    {
     "data": {
      "text/html": [
       "...Successfully finished last run (ID:dxmmyn14). Initializing new run:<br/><br/>"
      ],
      "text/plain": [
       "<IPython.core.display.HTML object>"
      ]
     },
     "metadata": {},
     "output_type": "display_data"
    },
    {
     "name": "stderr",
     "output_type": "stream",
     "text": [
      "\u001b[34m\u001b[1mwandb\u001b[0m: wandb version 0.12.11 is available!  To upgrade, please run:\n",
      "\u001b[34m\u001b[1mwandb\u001b[0m:  $ pip install wandb --upgrade\n"
     ]
    },
    {
     "data": {
      "text/html": [
       "\n",
       "                Tracking run with wandb version 0.12.1<br/>\n",
       "                Syncing run <strong style=\"color:#cdcd00\">mild-cosmos-31</strong> to <a href=\"https://wandb.ai\" target=\"_blank\">Weights & Biases</a> <a href=\"https://docs.wandb.com/integrations/jupyter.html\" target=\"_blank\">(Documentation)</a>.<br/>\n",
       "                Project page: <a href=\"https://wandb.ai/snovaisg/thesis_basic_deterministic_model_tunning\" target=\"_blank\">https://wandb.ai/snovaisg/thesis_basic_deterministic_model_tunning</a><br/>\n",
       "                Run page: <a href=\"https://wandb.ai/snovaisg/thesis_basic_deterministic_model_tunning/runs/1yrn2az0\" target=\"_blank\">https://wandb.ai/snovaisg/thesis_basic_deterministic_model_tunning/runs/1yrn2az0</a><br/>\n",
       "                Run data is saved locally in <code>/Users/simaonovais/Documents/GitHub/master-thesis/wandb/run-20220308_125538-1yrn2az0</code><br/><br/>\n",
       "            "
      ],
      "text/plain": [
       "<IPython.core.display.HTML object>"
      ]
     },
     "metadata": {},
     "output_type": "display_data"
    },
    {
     "data": {
      "text/html": [
       "<h1>Run(1yrn2az0)</h1><iframe src=\"https://wandb.ai/snovaisg/thesis_basic_deterministic_model_tunning/runs/1yrn2az0\" style=\"border:none;width:100%;height:400px\"></iframe>"
      ],
      "text/plain": [
       "<wandb.sdk.wandb_run.Run at 0x1308acf10>"
      ]
     },
     "execution_count": 9,
     "metadata": {},
     "output_type": "execute_result"
    },
    {
     "data": {
      "text/html": [
       "Finishing last run (ID:1yrn2az0) before initializing another..."
      ],
      "text/plain": [
       "<IPython.core.display.HTML object>"
      ]
     },
     "metadata": {},
     "output_type": "display_data"
    },
    {
     "data": {
      "text/html": [
       "<br/>Waiting for W&B process to finish, PID 18372<br/>Program ended successfully."
      ],
      "text/plain": [
       "<IPython.core.display.HTML object>"
      ]
     },
     "metadata": {},
     "output_type": "display_data"
    },
    {
     "data": {
      "text/html": [
       "Find user logs for this run at: <code>/Users/simaonovais/Documents/GitHub/master-thesis/wandb/run-20220308_125538-1yrn2az0/logs/debug.log</code>"
      ],
      "text/plain": [
       "<IPython.core.display.HTML object>"
      ]
     },
     "metadata": {},
     "output_type": "display_data"
    },
    {
     "data": {
      "text/html": [
       "Find internal logs for this run at: <code>/Users/simaonovais/Documents/GitHub/master-thesis/wandb/run-20220308_125538-1yrn2az0/logs/debug-internal.log</code>"
      ],
      "text/plain": [
       "<IPython.core.display.HTML object>"
      ]
     },
     "metadata": {},
     "output_type": "display_data"
    },
    {
     "data": {
      "text/html": [
       "<h3>Run summary:</h3><br/><style>\n",
       "    table.wandb td:nth-child(1) { padding: 0 10px; text-align: right }\n",
       "    </style><table class=\"wandb\">\n",
       "<tr><td>loss</td><td>0.11963</td></tr><tr><td>_runtime</td><td>29</td></tr><tr><td>_timestamp</td><td>1646744174</td></tr><tr><td>_step</td><td>15</td></tr><tr><td>train_loss</td><td>0.11817</td></tr><tr><td>train_recall@30</td><td>0.66365</td></tr><tr><td>val_loss</td><td>0.12312</td></tr><tr><td>recall@10</td><td>0.36512</td></tr><tr><td>recall@20</td><td>0.53054</td></tr><tr><td>recall@30</td><td>0.64317</td></tr></table>"
      ],
      "text/plain": [
       "<IPython.core.display.HTML object>"
      ]
     },
     "metadata": {},
     "output_type": "display_data"
    },
    {
     "data": {
      "text/html": [
       "<h3>Run history:</h3><br/><style>\n",
       "    table.wandb td:nth-child(1) { padding: 0 10px; text-align: right }\n",
       "    </style><table class=\"wandb\">\n",
       "<tr><td>loss</td><td>█▃▃▃▂▂▂▂▂▂▂▂▁▁▁</td></tr><tr><td>_runtime</td><td>▁▂▂▂▂▃▃▄▄▅▅▅▆▆▇█</td></tr><tr><td>_timestamp</td><td>▁▂▂▂▂▃▃▄▄▅▅▅▆▆▇█</td></tr><tr><td>_step</td><td>▁▁▂▂▃▃▄▄▅▅▆▆▇▇██</td></tr><tr><td>train_loss</td><td>▁</td></tr><tr><td>train_recall@30</td><td>▁</td></tr><tr><td>val_loss</td><td>▁</td></tr><tr><td>recall@10</td><td>▁</td></tr><tr><td>recall@20</td><td>▁</td></tr><tr><td>recall@30</td><td>▁</td></tr></table><br/>"
      ],
      "text/plain": [
       "<IPython.core.display.HTML object>"
      ]
     },
     "metadata": {},
     "output_type": "display_data"
    },
    {
     "data": {
      "text/html": [
       "Synced 6 W&B file(s), 0 media file(s), 0 artifact file(s) and 0 other file(s)"
      ],
      "text/plain": [
       "<IPython.core.display.HTML object>"
      ]
     },
     "metadata": {},
     "output_type": "display_data"
    },
    {
     "data": {
      "text/html": [
       "\n",
       "                    <br/>Synced <strong style=\"color:#cdcd00\">mild-cosmos-31</strong>: <a href=\"https://wandb.ai/snovaisg/thesis_basic_deterministic_model_tunning/runs/1yrn2az0\" target=\"_blank\">https://wandb.ai/snovaisg/thesis_basic_deterministic_model_tunning/runs/1yrn2az0</a><br/>\n",
       "                "
      ],
      "text/plain": [
       "<IPython.core.display.HTML object>"
      ]
     },
     "metadata": {},
     "output_type": "display_data"
    },
    {
     "data": {
      "text/html": [
       "...Successfully finished last run (ID:1yrn2az0). Initializing new run:<br/><br/>"
      ],
      "text/plain": [
       "<IPython.core.display.HTML object>"
      ]
     },
     "metadata": {},
     "output_type": "display_data"
    },
    {
     "name": "stderr",
     "output_type": "stream",
     "text": [
      "\u001b[34m\u001b[1mwandb\u001b[0m: wandb version 0.12.11 is available!  To upgrade, please run:\n",
      "\u001b[34m\u001b[1mwandb\u001b[0m:  $ pip install wandb --upgrade\n"
     ]
    },
    {
     "data": {
      "text/html": [
       "\n",
       "                Tracking run with wandb version 0.12.1<br/>\n",
       "                Syncing run <strong style=\"color:#cdcd00\">rare-grass-32</strong> to <a href=\"https://wandb.ai\" target=\"_blank\">Weights & Biases</a> <a href=\"https://docs.wandb.com/integrations/jupyter.html\" target=\"_blank\">(Documentation)</a>.<br/>\n",
       "                Project page: <a href=\"https://wandb.ai/snovaisg/thesis_basic_deterministic_model_tunning\" target=\"_blank\">https://wandb.ai/snovaisg/thesis_basic_deterministic_model_tunning</a><br/>\n",
       "                Run page: <a href=\"https://wandb.ai/snovaisg/thesis_basic_deterministic_model_tunning/runs/1ypyhh4h\" target=\"_blank\">https://wandb.ai/snovaisg/thesis_basic_deterministic_model_tunning/runs/1ypyhh4h</a><br/>\n",
       "                Run data is saved locally in <code>/Users/simaonovais/Documents/GitHub/master-thesis/wandb/run-20220308_125614-1ypyhh4h</code><br/><br/>\n",
       "            "
      ],
      "text/plain": [
       "<IPython.core.display.HTML object>"
      ]
     },
     "metadata": {},
     "output_type": "display_data"
    },
    {
     "data": {
      "text/html": [
       "<h1>Run(1ypyhh4h)</h1><iframe src=\"https://wandb.ai/snovaisg/thesis_basic_deterministic_model_tunning/runs/1ypyhh4h\" style=\"border:none;width:100%;height:400px\"></iframe>"
      ],
      "text/plain": [
       "<wandb.sdk.wandb_run.Run at 0x1309430a0>"
      ]
     },
     "execution_count": 9,
     "metadata": {},
     "output_type": "execute_result"
    },
    {
     "data": {
      "text/html": [
       "Finishing last run (ID:1ypyhh4h) before initializing another..."
      ],
      "text/plain": [
       "<IPython.core.display.HTML object>"
      ]
     },
     "metadata": {},
     "output_type": "display_data"
    },
    {
     "data": {
      "text/html": [
       "<br/>Waiting for W&B process to finish, PID 18388<br/>Program ended successfully."
      ],
      "text/plain": [
       "<IPython.core.display.HTML object>"
      ]
     },
     "metadata": {},
     "output_type": "display_data"
    },
    {
     "data": {
      "text/html": [
       "Find user logs for this run at: <code>/Users/simaonovais/Documents/GitHub/master-thesis/wandb/run-20220308_125614-1ypyhh4h/logs/debug.log</code>"
      ],
      "text/plain": [
       "<IPython.core.display.HTML object>"
      ]
     },
     "metadata": {},
     "output_type": "display_data"
    },
    {
     "data": {
      "text/html": [
       "Find internal logs for this run at: <code>/Users/simaonovais/Documents/GitHub/master-thesis/wandb/run-20220308_125614-1ypyhh4h/logs/debug-internal.log</code>"
      ],
      "text/plain": [
       "<IPython.core.display.HTML object>"
      ]
     },
     "metadata": {},
     "output_type": "display_data"
    },
    {
     "data": {
      "text/html": [
       "<h3>Run summary:</h3><br/><style>\n",
       "    table.wandb td:nth-child(1) { padding: 0 10px; text-align: right }\n",
       "    </style><table class=\"wandb\">\n",
       "<tr><td>loss</td><td>0.10763</td></tr><tr><td>_runtime</td><td>27</td></tr><tr><td>_timestamp</td><td>1646744205</td></tr><tr><td>_step</td><td>15</td></tr><tr><td>train_loss</td><td>0.10608</td></tr><tr><td>train_recall@30</td><td>0.73776</td></tr><tr><td>val_loss</td><td>0.11261</td></tr><tr><td>recall@10</td><td>0.43285</td></tr><tr><td>recall@20</td><td>0.60488</td></tr><tr><td>recall@30</td><td>0.71008</td></tr></table>"
      ],
      "text/plain": [
       "<IPython.core.display.HTML object>"
      ]
     },
     "metadata": {},
     "output_type": "display_data"
    },
    {
     "data": {
      "text/html": [
       "<h3>Run history:</h3><br/><style>\n",
       "    table.wandb td:nth-child(1) { padding: 0 10px; text-align: right }\n",
       "    </style><table class=\"wandb\">\n",
       "<tr><td>loss</td><td>█▃▃▂▂▂▂▂▂▁▁▁▁▁▁</td></tr><tr><td>_runtime</td><td>▁▁▂▂▂▃▃▄▄▅▅▅▅▆▆█</td></tr><tr><td>_timestamp</td><td>▁▁▂▂▂▃▃▄▄▅▅▅▅▆▆█</td></tr><tr><td>_step</td><td>▁▁▂▂▃▃▄▄▅▅▆▆▇▇██</td></tr><tr><td>train_loss</td><td>▁</td></tr><tr><td>train_recall@30</td><td>▁</td></tr><tr><td>val_loss</td><td>▁</td></tr><tr><td>recall@10</td><td>▁</td></tr><tr><td>recall@20</td><td>▁</td></tr><tr><td>recall@30</td><td>▁</td></tr></table><br/>"
      ],
      "text/plain": [
       "<IPython.core.display.HTML object>"
      ]
     },
     "metadata": {},
     "output_type": "display_data"
    },
    {
     "data": {
      "text/html": [
       "Synced 6 W&B file(s), 0 media file(s), 2 artifact file(s) and 1 other file(s)"
      ],
      "text/plain": [
       "<IPython.core.display.HTML object>"
      ]
     },
     "metadata": {},
     "output_type": "display_data"
    },
    {
     "data": {
      "text/html": [
       "\n",
       "                    <br/>Synced <strong style=\"color:#cdcd00\">rare-grass-32</strong>: <a href=\"https://wandb.ai/snovaisg/thesis_basic_deterministic_model_tunning/runs/1ypyhh4h\" target=\"_blank\">https://wandb.ai/snovaisg/thesis_basic_deterministic_model_tunning/runs/1ypyhh4h</a><br/>\n",
       "                "
      ],
      "text/plain": [
       "<IPython.core.display.HTML object>"
      ]
     },
     "metadata": {},
     "output_type": "display_data"
    },
    {
     "data": {
      "text/html": [
       "...Successfully finished last run (ID:1ypyhh4h). Initializing new run:<br/><br/>"
      ],
      "text/plain": [
       "<IPython.core.display.HTML object>"
      ]
     },
     "metadata": {},
     "output_type": "display_data"
    },
    {
     "name": "stderr",
     "output_type": "stream",
     "text": [
      "\u001b[34m\u001b[1mwandb\u001b[0m: wandb version 0.12.11 is available!  To upgrade, please run:\n",
      "\u001b[34m\u001b[1mwandb\u001b[0m:  $ pip install wandb --upgrade\n"
     ]
    },
    {
     "data": {
      "text/html": [
       "\n",
       "                Tracking run with wandb version 0.12.1<br/>\n",
       "                Syncing run <strong style=\"color:#cdcd00\">upbeat-glitter-33</strong> to <a href=\"https://wandb.ai\" target=\"_blank\">Weights & Biases</a> <a href=\"https://docs.wandb.com/integrations/jupyter.html\" target=\"_blank\">(Documentation)</a>.<br/>\n",
       "                Project page: <a href=\"https://wandb.ai/snovaisg/thesis_basic_deterministic_model_tunning\" target=\"_blank\">https://wandb.ai/snovaisg/thesis_basic_deterministic_model_tunning</a><br/>\n",
       "                Run page: <a href=\"https://wandb.ai/snovaisg/thesis_basic_deterministic_model_tunning/runs/1rx1hum0\" target=\"_blank\">https://wandb.ai/snovaisg/thesis_basic_deterministic_model_tunning/runs/1rx1hum0</a><br/>\n",
       "                Run data is saved locally in <code>/Users/simaonovais/Documents/GitHub/master-thesis/wandb/run-20220308_125645-1rx1hum0</code><br/><br/>\n",
       "            "
      ],
      "text/plain": [
       "<IPython.core.display.HTML object>"
      ]
     },
     "metadata": {},
     "output_type": "display_data"
    },
    {
     "data": {
      "text/html": [
       "<h1>Run(1rx1hum0)</h1><iframe src=\"https://wandb.ai/snovaisg/thesis_basic_deterministic_model_tunning/runs/1rx1hum0\" style=\"border:none;width:100%;height:400px\"></iframe>"
      ],
      "text/plain": [
       "<wandb.sdk.wandb_run.Run at 0x130884f40>"
      ]
     },
     "execution_count": 9,
     "metadata": {},
     "output_type": "execute_result"
    },
    {
     "data": {
      "text/html": [
       "Finishing last run (ID:1rx1hum0) before initializing another..."
      ],
      "text/plain": [
       "<IPython.core.display.HTML object>"
      ]
     },
     "metadata": {},
     "output_type": "display_data"
    },
    {
     "data": {
      "text/html": [
       "<br/>Waiting for W&B process to finish, PID 18406<br/>Program ended successfully."
      ],
      "text/plain": [
       "<IPython.core.display.HTML object>"
      ]
     },
     "metadata": {},
     "output_type": "display_data"
    },
    {
     "data": {
      "text/html": [
       "Find user logs for this run at: <code>/Users/simaonovais/Documents/GitHub/master-thesis/wandb/run-20220308_125645-1rx1hum0/logs/debug.log</code>"
      ],
      "text/plain": [
       "<IPython.core.display.HTML object>"
      ]
     },
     "metadata": {},
     "output_type": "display_data"
    },
    {
     "data": {
      "text/html": [
       "Find internal logs for this run at: <code>/Users/simaonovais/Documents/GitHub/master-thesis/wandb/run-20220308_125645-1rx1hum0/logs/debug-internal.log</code>"
      ],
      "text/plain": [
       "<IPython.core.display.HTML object>"
      ]
     },
     "metadata": {},
     "output_type": "display_data"
    },
    {
     "data": {
      "text/html": [
       "<h3>Run summary:</h3><br/><style>\n",
       "    table.wandb td:nth-child(1) { padding: 0 10px; text-align: right }\n",
       "    </style><table class=\"wandb\">\n",
       "<tr><td>loss</td><td>0.125</td></tr><tr><td>_runtime</td><td>35</td></tr><tr><td>_timestamp</td><td>1646744247</td></tr><tr><td>_step</td><td>15</td></tr><tr><td>train_loss</td><td>0.12354</td></tr><tr><td>train_recall@30</td><td>0.6311</td></tr><tr><td>val_loss</td><td>0.12521</td></tr><tr><td>recall@10</td><td>0.34089</td></tr><tr><td>recall@20</td><td>0.50694</td></tr><tr><td>recall@30</td><td>0.62378</td></tr></table>"
      ],
      "text/plain": [
       "<IPython.core.display.HTML object>"
      ]
     },
     "metadata": {},
     "output_type": "display_data"
    },
    {
     "data": {
      "text/html": [
       "<h3>Run history:</h3><br/><style>\n",
       "    table.wandb td:nth-child(1) { padding: 0 10px; text-align: right }\n",
       "    </style><table class=\"wandb\">\n",
       "<tr><td>loss</td><td>█▂▂▂▂▂▂▂▁▁▁▁▁▁▁</td></tr><tr><td>_runtime</td><td>▁▁▂▂▃▃▃▄▄▅▅▅▆▆▇█</td></tr><tr><td>_timestamp</td><td>▁▁▂▂▃▃▃▄▄▅▅▅▆▆▇█</td></tr><tr><td>_step</td><td>▁▁▂▂▃▃▄▄▅▅▆▆▇▇██</td></tr><tr><td>train_loss</td><td>▁</td></tr><tr><td>train_recall@30</td><td>▁</td></tr><tr><td>val_loss</td><td>▁</td></tr><tr><td>recall@10</td><td>▁</td></tr><tr><td>recall@20</td><td>▁</td></tr><tr><td>recall@30</td><td>▁</td></tr></table><br/>"
      ],
      "text/plain": [
       "<IPython.core.display.HTML object>"
      ]
     },
     "metadata": {},
     "output_type": "display_data"
    },
    {
     "data": {
      "text/html": [
       "Synced 6 W&B file(s), 0 media file(s), 0 artifact file(s) and 0 other file(s)"
      ],
      "text/plain": [
       "<IPython.core.display.HTML object>"
      ]
     },
     "metadata": {},
     "output_type": "display_data"
    },
    {
     "data": {
      "text/html": [
       "\n",
       "                    <br/>Synced <strong style=\"color:#cdcd00\">upbeat-glitter-33</strong>: <a href=\"https://wandb.ai/snovaisg/thesis_basic_deterministic_model_tunning/runs/1rx1hum0\" target=\"_blank\">https://wandb.ai/snovaisg/thesis_basic_deterministic_model_tunning/runs/1rx1hum0</a><br/>\n",
       "                "
      ],
      "text/plain": [
       "<IPython.core.display.HTML object>"
      ]
     },
     "metadata": {},
     "output_type": "display_data"
    },
    {
     "data": {
      "text/html": [
       "...Successfully finished last run (ID:1rx1hum0). Initializing new run:<br/><br/>"
      ],
      "text/plain": [
       "<IPython.core.display.HTML object>"
      ]
     },
     "metadata": {},
     "output_type": "display_data"
    },
    {
     "name": "stderr",
     "output_type": "stream",
     "text": [
      "\u001b[34m\u001b[1mwandb\u001b[0m: wandb version 0.12.11 is available!  To upgrade, please run:\n",
      "\u001b[34m\u001b[1mwandb\u001b[0m:  $ pip install wandb --upgrade\n"
     ]
    },
    {
     "data": {
      "text/html": [
       "\n",
       "                Tracking run with wandb version 0.12.1<br/>\n",
       "                Syncing run <strong style=\"color:#cdcd00\">dulcet-music-34</strong> to <a href=\"https://wandb.ai\" target=\"_blank\">Weights & Biases</a> <a href=\"https://docs.wandb.com/integrations/jupyter.html\" target=\"_blank\">(Documentation)</a>.<br/>\n",
       "                Project page: <a href=\"https://wandb.ai/snovaisg/thesis_basic_deterministic_model_tunning\" target=\"_blank\">https://wandb.ai/snovaisg/thesis_basic_deterministic_model_tunning</a><br/>\n",
       "                Run page: <a href=\"https://wandb.ai/snovaisg/thesis_basic_deterministic_model_tunning/runs/1ay9r1c4\" target=\"_blank\">https://wandb.ai/snovaisg/thesis_basic_deterministic_model_tunning/runs/1ay9r1c4</a><br/>\n",
       "                Run data is saved locally in <code>/Users/simaonovais/Documents/GitHub/master-thesis/wandb/run-20220308_125727-1ay9r1c4</code><br/><br/>\n",
       "            "
      ],
      "text/plain": [
       "<IPython.core.display.HTML object>"
      ]
     },
     "metadata": {},
     "output_type": "display_data"
    },
    {
     "data": {
      "text/html": [
       "<h1>Run(1ay9r1c4)</h1><iframe src=\"https://wandb.ai/snovaisg/thesis_basic_deterministic_model_tunning/runs/1ay9r1c4\" style=\"border:none;width:100%;height:400px\"></iframe>"
      ],
      "text/plain": [
       "<wandb.sdk.wandb_run.Run at 0x1309460a0>"
      ]
     },
     "execution_count": 9,
     "metadata": {},
     "output_type": "execute_result"
    },
    {
     "data": {
      "text/html": [
       "Finishing last run (ID:1ay9r1c4) before initializing another..."
      ],
      "text/plain": [
       "<IPython.core.display.HTML object>"
      ]
     },
     "metadata": {},
     "output_type": "display_data"
    },
    {
     "data": {
      "text/html": [
       "<br/>Waiting for W&B process to finish, PID 18430<br/>Program ended successfully."
      ],
      "text/plain": [
       "<IPython.core.display.HTML object>"
      ]
     },
     "metadata": {},
     "output_type": "display_data"
    },
    {
     "data": {
      "text/html": [
       "Find user logs for this run at: <code>/Users/simaonovais/Documents/GitHub/master-thesis/wandb/run-20220308_125727-1ay9r1c4/logs/debug.log</code>"
      ],
      "text/plain": [
       "<IPython.core.display.HTML object>"
      ]
     },
     "metadata": {},
     "output_type": "display_data"
    },
    {
     "data": {
      "text/html": [
       "Find internal logs for this run at: <code>/Users/simaonovais/Documents/GitHub/master-thesis/wandb/run-20220308_125727-1ay9r1c4/logs/debug-internal.log</code>"
      ],
      "text/plain": [
       "<IPython.core.display.HTML object>"
      ]
     },
     "metadata": {},
     "output_type": "display_data"
    },
    {
     "data": {
      "text/html": [
       "<h3>Run summary:</h3><br/><style>\n",
       "    table.wandb td:nth-child(1) { padding: 0 10px; text-align: right }\n",
       "    </style><table class=\"wandb\">\n",
       "<tr><td>loss</td><td>0.11073</td></tr><tr><td>_runtime</td><td>25</td></tr><tr><td>_timestamp</td><td>1646744276</td></tr><tr><td>_step</td><td>15</td></tr><tr><td>train_loss</td><td>0.1086</td></tr><tr><td>train_recall@30</td><td>0.73018</td></tr><tr><td>val_loss</td><td>0.11737</td></tr><tr><td>recall@10</td><td>0.41779</td></tr><tr><td>recall@20</td><td>0.58652</td></tr><tr><td>recall@30</td><td>0.68937</td></tr></table>"
      ],
      "text/plain": [
       "<IPython.core.display.HTML object>"
      ]
     },
     "metadata": {},
     "output_type": "display_data"
    },
    {
     "data": {
      "text/html": [
       "<h3>Run history:</h3><br/><style>\n",
       "    table.wandb td:nth-child(1) { padding: 0 10px; text-align: right }\n",
       "    </style><table class=\"wandb\">\n",
       "<tr><td>loss</td><td>█▃▃▂▂▂▂▂▂▁▁▁▁▁▁</td></tr><tr><td>_runtime</td><td>▁▁▂▂▂▃▃▃▄▄▅▅▅▆▆█</td></tr><tr><td>_timestamp</td><td>▁▁▂▂▂▃▃▃▄▄▅▅▅▆▆█</td></tr><tr><td>_step</td><td>▁▁▂▂▃▃▄▄▅▅▆▆▇▇██</td></tr><tr><td>train_loss</td><td>▁</td></tr><tr><td>train_recall@30</td><td>▁</td></tr><tr><td>val_loss</td><td>▁</td></tr><tr><td>recall@10</td><td>▁</td></tr><tr><td>recall@20</td><td>▁</td></tr><tr><td>recall@30</td><td>▁</td></tr></table><br/>"
      ],
      "text/plain": [
       "<IPython.core.display.HTML object>"
      ]
     },
     "metadata": {},
     "output_type": "display_data"
    },
    {
     "data": {
      "text/html": [
       "Synced 6 W&B file(s), 0 media file(s), 2 artifact file(s) and 1 other file(s)"
      ],
      "text/plain": [
       "<IPython.core.display.HTML object>"
      ]
     },
     "metadata": {},
     "output_type": "display_data"
    },
    {
     "data": {
      "text/html": [
       "\n",
       "                    <br/>Synced <strong style=\"color:#cdcd00\">dulcet-music-34</strong>: <a href=\"https://wandb.ai/snovaisg/thesis_basic_deterministic_model_tunning/runs/1ay9r1c4\" target=\"_blank\">https://wandb.ai/snovaisg/thesis_basic_deterministic_model_tunning/runs/1ay9r1c4</a><br/>\n",
       "                "
      ],
      "text/plain": [
       "<IPython.core.display.HTML object>"
      ]
     },
     "metadata": {},
     "output_type": "display_data"
    },
    {
     "data": {
      "text/html": [
       "...Successfully finished last run (ID:1ay9r1c4). Initializing new run:<br/><br/>"
      ],
      "text/plain": [
       "<IPython.core.display.HTML object>"
      ]
     },
     "metadata": {},
     "output_type": "display_data"
    },
    {
     "name": "stderr",
     "output_type": "stream",
     "text": [
      "\u001b[34m\u001b[1mwandb\u001b[0m: wandb version 0.12.11 is available!  To upgrade, please run:\n",
      "\u001b[34m\u001b[1mwandb\u001b[0m:  $ pip install wandb --upgrade\n"
     ]
    },
    {
     "data": {
      "text/html": [
       "\n",
       "                Tracking run with wandb version 0.12.1<br/>\n",
       "                Syncing run <strong style=\"color:#cdcd00\">magic-dragon-35</strong> to <a href=\"https://wandb.ai\" target=\"_blank\">Weights & Biases</a> <a href=\"https://docs.wandb.com/integrations/jupyter.html\" target=\"_blank\">(Documentation)</a>.<br/>\n",
       "                Project page: <a href=\"https://wandb.ai/snovaisg/thesis_basic_deterministic_model_tunning\" target=\"_blank\">https://wandb.ai/snovaisg/thesis_basic_deterministic_model_tunning</a><br/>\n",
       "                Run page: <a href=\"https://wandb.ai/snovaisg/thesis_basic_deterministic_model_tunning/runs/1sv2fak3\" target=\"_blank\">https://wandb.ai/snovaisg/thesis_basic_deterministic_model_tunning/runs/1sv2fak3</a><br/>\n",
       "                Run data is saved locally in <code>/Users/simaonovais/Documents/GitHub/master-thesis/wandb/run-20220308_125756-1sv2fak3</code><br/><br/>\n",
       "            "
      ],
      "text/plain": [
       "<IPython.core.display.HTML object>"
      ]
     },
     "metadata": {},
     "output_type": "display_data"
    },
    {
     "data": {
      "text/html": [
       "<h1>Run(1sv2fak3)</h1><iframe src=\"https://wandb.ai/snovaisg/thesis_basic_deterministic_model_tunning/runs/1sv2fak3\" style=\"border:none;width:100%;height:400px\"></iframe>"
      ],
      "text/plain": [
       "<wandb.sdk.wandb_run.Run at 0x1309554f0>"
      ]
     },
     "execution_count": 9,
     "metadata": {},
     "output_type": "execute_result"
    },
    {
     "data": {
      "text/html": [
       "Finishing last run (ID:1sv2fak3) before initializing another..."
      ],
      "text/plain": [
       "<IPython.core.display.HTML object>"
      ]
     },
     "metadata": {},
     "output_type": "display_data"
    },
    {
     "data": {
      "text/html": [
       "<br/>Waiting for W&B process to finish, PID 18446<br/>Program ended successfully."
      ],
      "text/plain": [
       "<IPython.core.display.HTML object>"
      ]
     },
     "metadata": {},
     "output_type": "display_data"
    },
    {
     "data": {
      "text/html": [
       "Find user logs for this run at: <code>/Users/simaonovais/Documents/GitHub/master-thesis/wandb/run-20220308_125756-1sv2fak3/logs/debug.log</code>"
      ],
      "text/plain": [
       "<IPython.core.display.HTML object>"
      ]
     },
     "metadata": {},
     "output_type": "display_data"
    },
    {
     "data": {
      "text/html": [
       "Find internal logs for this run at: <code>/Users/simaonovais/Documents/GitHub/master-thesis/wandb/run-20220308_125756-1sv2fak3/logs/debug-internal.log</code>"
      ],
      "text/plain": [
       "<IPython.core.display.HTML object>"
      ]
     },
     "metadata": {},
     "output_type": "display_data"
    },
    {
     "data": {
      "text/html": [
       "<h3>Run summary:</h3><br/><style>\n",
       "    table.wandb td:nth-child(1) { padding: 0 10px; text-align: right }\n",
       "    </style><table class=\"wandb\">\n",
       "<tr><td>loss</td><td>0.12746</td></tr><tr><td>_runtime</td><td>25</td></tr><tr><td>_timestamp</td><td>1646744308</td></tr><tr><td>_step</td><td>15</td></tr><tr><td>train_loss</td><td>0.12795</td></tr><tr><td>train_recall@30</td><td>0.61577</td></tr><tr><td>val_loss</td><td>0.13022</td></tr><tr><td>recall@10</td><td>0.33104</td></tr><tr><td>recall@20</td><td>0.48193</td></tr><tr><td>recall@30</td><td>0.6009</td></tr></table>"
      ],
      "text/plain": [
       "<IPython.core.display.HTML object>"
      ]
     },
     "metadata": {},
     "output_type": "display_data"
    },
    {
     "data": {
      "text/html": [
       "<h3>Run history:</h3><br/><style>\n",
       "    table.wandb td:nth-child(1) { padding: 0 10px; text-align: right }\n",
       "    </style><table class=\"wandb\">\n",
       "<tr><td>loss</td><td>█▃▃▂▂▂▂▁▂▂▁▁▁▁▁</td></tr><tr><td>_runtime</td><td>▁▁▂▂▂▃▃▃▄▄▅▅▅▆▆█</td></tr><tr><td>_timestamp</td><td>▁▁▂▂▂▃▃▃▄▄▅▅▅▆▆█</td></tr><tr><td>_step</td><td>▁▁▂▂▃▃▄▄▅▅▆▆▇▇██</td></tr><tr><td>train_loss</td><td>▁</td></tr><tr><td>train_recall@30</td><td>▁</td></tr><tr><td>val_loss</td><td>▁</td></tr><tr><td>recall@10</td><td>▁</td></tr><tr><td>recall@20</td><td>▁</td></tr><tr><td>recall@30</td><td>▁</td></tr></table><br/>"
      ],
      "text/plain": [
       "<IPython.core.display.HTML object>"
      ]
     },
     "metadata": {},
     "output_type": "display_data"
    },
    {
     "data": {
      "text/html": [
       "Synced 6 W&B file(s), 0 media file(s), 0 artifact file(s) and 0 other file(s)"
      ],
      "text/plain": [
       "<IPython.core.display.HTML object>"
      ]
     },
     "metadata": {},
     "output_type": "display_data"
    },
    {
     "data": {
      "text/html": [
       "\n",
       "                    <br/>Synced <strong style=\"color:#cdcd00\">magic-dragon-35</strong>: <a href=\"https://wandb.ai/snovaisg/thesis_basic_deterministic_model_tunning/runs/1sv2fak3\" target=\"_blank\">https://wandb.ai/snovaisg/thesis_basic_deterministic_model_tunning/runs/1sv2fak3</a><br/>\n",
       "                "
      ],
      "text/plain": [
       "<IPython.core.display.HTML object>"
      ]
     },
     "metadata": {},
     "output_type": "display_data"
    },
    {
     "data": {
      "text/html": [
       "...Successfully finished last run (ID:1sv2fak3). Initializing new run:<br/><br/>"
      ],
      "text/plain": [
       "<IPython.core.display.HTML object>"
      ]
     },
     "metadata": {},
     "output_type": "display_data"
    },
    {
     "name": "stderr",
     "output_type": "stream",
     "text": [
      "\u001b[34m\u001b[1mwandb\u001b[0m: wandb version 0.12.11 is available!  To upgrade, please run:\n",
      "\u001b[34m\u001b[1mwandb\u001b[0m:  $ pip install wandb --upgrade\n"
     ]
    },
    {
     "data": {
      "text/html": [
       "\n",
       "                Tracking run with wandb version 0.12.1<br/>\n",
       "                Syncing run <strong style=\"color:#cdcd00\">earnest-cosmos-36</strong> to <a href=\"https://wandb.ai\" target=\"_blank\">Weights & Biases</a> <a href=\"https://docs.wandb.com/integrations/jupyter.html\" target=\"_blank\">(Documentation)</a>.<br/>\n",
       "                Project page: <a href=\"https://wandb.ai/snovaisg/thesis_basic_deterministic_model_tunning\" target=\"_blank\">https://wandb.ai/snovaisg/thesis_basic_deterministic_model_tunning</a><br/>\n",
       "                Run page: <a href=\"https://wandb.ai/snovaisg/thesis_basic_deterministic_model_tunning/runs/7hbggb6d\" target=\"_blank\">https://wandb.ai/snovaisg/thesis_basic_deterministic_model_tunning/runs/7hbggb6d</a><br/>\n",
       "                Run data is saved locally in <code>/Users/simaonovais/Documents/GitHub/master-thesis/wandb/run-20220308_125828-7hbggb6d</code><br/><br/>\n",
       "            "
      ],
      "text/plain": [
       "<IPython.core.display.HTML object>"
      ]
     },
     "metadata": {},
     "output_type": "display_data"
    },
    {
     "data": {
      "text/html": [
       "<h1>Run(7hbggb6d)</h1><iframe src=\"https://wandb.ai/snovaisg/thesis_basic_deterministic_model_tunning/runs/7hbggb6d\" style=\"border:none;width:100%;height:400px\"></iframe>"
      ],
      "text/plain": [
       "<wandb.sdk.wandb_run.Run at 0x130942040>"
      ]
     },
     "execution_count": 9,
     "metadata": {},
     "output_type": "execute_result"
    },
    {
     "data": {
      "text/html": [
       "Finishing last run (ID:7hbggb6d) before initializing another..."
      ],
      "text/plain": [
       "<IPython.core.display.HTML object>"
      ]
     },
     "metadata": {},
     "output_type": "display_data"
    },
    {
     "data": {
      "text/html": [
       "<br/>Waiting for W&B process to finish, PID 18462<br/>Program ended successfully."
      ],
      "text/plain": [
       "<IPython.core.display.HTML object>"
      ]
     },
     "metadata": {},
     "output_type": "display_data"
    },
    {
     "data": {
      "text/html": [
       "Find user logs for this run at: <code>/Users/simaonovais/Documents/GitHub/master-thesis/wandb/run-20220308_125828-7hbggb6d/logs/debug.log</code>"
      ],
      "text/plain": [
       "<IPython.core.display.HTML object>"
      ]
     },
     "metadata": {},
     "output_type": "display_data"
    },
    {
     "data": {
      "text/html": [
       "Find internal logs for this run at: <code>/Users/simaonovais/Documents/GitHub/master-thesis/wandb/run-20220308_125828-7hbggb6d/logs/debug-internal.log</code>"
      ],
      "text/plain": [
       "<IPython.core.display.HTML object>"
      ]
     },
     "metadata": {},
     "output_type": "display_data"
    },
    {
     "data": {
      "text/html": [
       "<h3>Run summary:</h3><br/><style>\n",
       "    table.wandb td:nth-child(1) { padding: 0 10px; text-align: right }\n",
       "    </style><table class=\"wandb\">\n",
       "<tr><td>loss</td><td>0.10286</td></tr><tr><td>_runtime</td><td>24</td></tr><tr><td>_timestamp</td><td>1646744336</td></tr><tr><td>_step</td><td>15</td></tr><tr><td>train_loss</td><td>0.10025</td></tr><tr><td>train_recall@30</td><td>0.76282</td></tr><tr><td>val_loss</td><td>0.11639</td></tr><tr><td>recall@10</td><td>0.4335</td></tr><tr><td>recall@20</td><td>0.59589</td></tr><tr><td>recall@30</td><td>0.69915</td></tr></table>"
      ],
      "text/plain": [
       "<IPython.core.display.HTML object>"
      ]
     },
     "metadata": {},
     "output_type": "display_data"
    },
    {
     "data": {
      "text/html": [
       "<h3>Run history:</h3><br/><style>\n",
       "    table.wandb td:nth-child(1) { padding: 0 10px; text-align: right }\n",
       "    </style><table class=\"wandb\">\n",
       "<tr><td>loss</td><td>█▄▃▃▂▂▂▂▂▁▂▁▁▁▁</td></tr><tr><td>_runtime</td><td>▁▁▂▂▃▃▃▄▄▅▅▅▆▆▆█</td></tr><tr><td>_timestamp</td><td>▁▁▂▂▃▃▃▄▄▅▅▅▆▆▆█</td></tr><tr><td>_step</td><td>▁▁▂▂▃▃▄▄▅▅▆▆▇▇██</td></tr><tr><td>train_loss</td><td>▁</td></tr><tr><td>train_recall@30</td><td>▁</td></tr><tr><td>val_loss</td><td>▁</td></tr><tr><td>recall@10</td><td>▁</td></tr><tr><td>recall@20</td><td>▁</td></tr><tr><td>recall@30</td><td>▁</td></tr></table><br/>"
      ],
      "text/plain": [
       "<IPython.core.display.HTML object>"
      ]
     },
     "metadata": {},
     "output_type": "display_data"
    },
    {
     "data": {
      "text/html": [
       "Synced 6 W&B file(s), 0 media file(s), 2 artifact file(s) and 1 other file(s)"
      ],
      "text/plain": [
       "<IPython.core.display.HTML object>"
      ]
     },
     "metadata": {},
     "output_type": "display_data"
    },
    {
     "data": {
      "text/html": [
       "\n",
       "                    <br/>Synced <strong style=\"color:#cdcd00\">earnest-cosmos-36</strong>: <a href=\"https://wandb.ai/snovaisg/thesis_basic_deterministic_model_tunning/runs/7hbggb6d\" target=\"_blank\">https://wandb.ai/snovaisg/thesis_basic_deterministic_model_tunning/runs/7hbggb6d</a><br/>\n",
       "                "
      ],
      "text/plain": [
       "<IPython.core.display.HTML object>"
      ]
     },
     "metadata": {},
     "output_type": "display_data"
    },
    {
     "data": {
      "text/html": [
       "...Successfully finished last run (ID:7hbggb6d). Initializing new run:<br/><br/>"
      ],
      "text/plain": [
       "<IPython.core.display.HTML object>"
      ]
     },
     "metadata": {},
     "output_type": "display_data"
    },
    {
     "name": "stderr",
     "output_type": "stream",
     "text": [
      "\u001b[34m\u001b[1mwandb\u001b[0m: wandb version 0.12.11 is available!  To upgrade, please run:\n",
      "\u001b[34m\u001b[1mwandb\u001b[0m:  $ pip install wandb --upgrade\n"
     ]
    },
    {
     "data": {
      "text/html": [
       "\n",
       "                Tracking run with wandb version 0.12.1<br/>\n",
       "                Syncing run <strong style=\"color:#cdcd00\">lively-leaf-37</strong> to <a href=\"https://wandb.ai\" target=\"_blank\">Weights & Biases</a> <a href=\"https://docs.wandb.com/integrations/jupyter.html\" target=\"_blank\">(Documentation)</a>.<br/>\n",
       "                Project page: <a href=\"https://wandb.ai/snovaisg/thesis_basic_deterministic_model_tunning\" target=\"_blank\">https://wandb.ai/snovaisg/thesis_basic_deterministic_model_tunning</a><br/>\n",
       "                Run page: <a href=\"https://wandb.ai/snovaisg/thesis_basic_deterministic_model_tunning/runs/1bmuib9a\" target=\"_blank\">https://wandb.ai/snovaisg/thesis_basic_deterministic_model_tunning/runs/1bmuib9a</a><br/>\n",
       "                Run data is saved locally in <code>/Users/simaonovais/Documents/GitHub/master-thesis/wandb/run-20220308_125856-1bmuib9a</code><br/><br/>\n",
       "            "
      ],
      "text/plain": [
       "<IPython.core.display.HTML object>"
      ]
     },
     "metadata": {},
     "output_type": "display_data"
    },
    {
     "data": {
      "text/html": [
       "<h1>Run(1bmuib9a)</h1><iframe src=\"https://wandb.ai/snovaisg/thesis_basic_deterministic_model_tunning/runs/1bmuib9a\" style=\"border:none;width:100%;height:400px\"></iframe>"
      ],
      "text/plain": [
       "<wandb.sdk.wandb_run.Run at 0x1308c5190>"
      ]
     },
     "execution_count": 9,
     "metadata": {},
     "output_type": "execute_result"
    },
    {
     "data": {
      "text/html": [
       "Finishing last run (ID:1bmuib9a) before initializing another..."
      ],
      "text/plain": [
       "<IPython.core.display.HTML object>"
      ]
     },
     "metadata": {},
     "output_type": "display_data"
    },
    {
     "data": {
      "text/html": [
       "<br/>Waiting for W&B process to finish, PID 18483<br/>Program ended successfully."
      ],
      "text/plain": [
       "<IPython.core.display.HTML object>"
      ]
     },
     "metadata": {},
     "output_type": "display_data"
    },
    {
     "data": {
      "text/html": [
       "Find user logs for this run at: <code>/Users/simaonovais/Documents/GitHub/master-thesis/wandb/run-20220308_125856-1bmuib9a/logs/debug.log</code>"
      ],
      "text/plain": [
       "<IPython.core.display.HTML object>"
      ]
     },
     "metadata": {},
     "output_type": "display_data"
    },
    {
     "data": {
      "text/html": [
       "Find internal logs for this run at: <code>/Users/simaonovais/Documents/GitHub/master-thesis/wandb/run-20220308_125856-1bmuib9a/logs/debug-internal.log</code>"
      ],
      "text/plain": [
       "<IPython.core.display.HTML object>"
      ]
     },
     "metadata": {},
     "output_type": "display_data"
    },
    {
     "data": {
      "text/html": [
       "<h3>Run summary:</h3><br/><style>\n",
       "    table.wandb td:nth-child(1) { padding: 0 10px; text-align: right }\n",
       "    </style><table class=\"wandb\">\n",
       "<tr><td>loss</td><td>0.11891</td></tr><tr><td>_runtime</td><td>31</td></tr><tr><td>_timestamp</td><td>1646744374</td></tr><tr><td>_step</td><td>15</td></tr><tr><td>train_loss</td><td>0.11731</td></tr><tr><td>train_recall@30</td><td>0.67032</td></tr><tr><td>val_loss</td><td>0.12468</td></tr><tr><td>recall@10</td><td>0.35918</td></tr><tr><td>recall@20</td><td>0.5308</td></tr><tr><td>recall@30</td><td>0.63757</td></tr></table>"
      ],
      "text/plain": [
       "<IPython.core.display.HTML object>"
      ]
     },
     "metadata": {},
     "output_type": "display_data"
    },
    {
     "data": {
      "text/html": [
       "<h3>Run history:</h3><br/><style>\n",
       "    table.wandb td:nth-child(1) { padding: 0 10px; text-align: right }\n",
       "    </style><table class=\"wandb\">\n",
       "<tr><td>loss</td><td>█▄▃▃▃▃▃▂▂▂▂▂▂▁▁</td></tr><tr><td>_runtime</td><td>▁▁▂▂▂▃▃▃▄▄▅▅▅▆▆█</td></tr><tr><td>_timestamp</td><td>▁▁▂▂▂▃▃▃▄▄▅▅▅▆▆█</td></tr><tr><td>_step</td><td>▁▁▂▂▃▃▄▄▅▅▆▆▇▇██</td></tr><tr><td>train_loss</td><td>▁</td></tr><tr><td>train_recall@30</td><td>▁</td></tr><tr><td>val_loss</td><td>▁</td></tr><tr><td>recall@10</td><td>▁</td></tr><tr><td>recall@20</td><td>▁</td></tr><tr><td>recall@30</td><td>▁</td></tr></table><br/>"
      ],
      "text/plain": [
       "<IPython.core.display.HTML object>"
      ]
     },
     "metadata": {},
     "output_type": "display_data"
    },
    {
     "data": {
      "text/html": [
       "Synced 6 W&B file(s), 0 media file(s), 0 artifact file(s) and 0 other file(s)"
      ],
      "text/plain": [
       "<IPython.core.display.HTML object>"
      ]
     },
     "metadata": {},
     "output_type": "display_data"
    },
    {
     "data": {
      "text/html": [
       "\n",
       "                    <br/>Synced <strong style=\"color:#cdcd00\">lively-leaf-37</strong>: <a href=\"https://wandb.ai/snovaisg/thesis_basic_deterministic_model_tunning/runs/1bmuib9a\" target=\"_blank\">https://wandb.ai/snovaisg/thesis_basic_deterministic_model_tunning/runs/1bmuib9a</a><br/>\n",
       "                "
      ],
      "text/plain": [
       "<IPython.core.display.HTML object>"
      ]
     },
     "metadata": {},
     "output_type": "display_data"
    },
    {
     "data": {
      "text/html": [
       "...Successfully finished last run (ID:1bmuib9a). Initializing new run:<br/><br/>"
      ],
      "text/plain": [
       "<IPython.core.display.HTML object>"
      ]
     },
     "metadata": {},
     "output_type": "display_data"
    },
    {
     "name": "stderr",
     "output_type": "stream",
     "text": [
      "\u001b[34m\u001b[1mwandb\u001b[0m: wandb version 0.12.11 is available!  To upgrade, please run:\n",
      "\u001b[34m\u001b[1mwandb\u001b[0m:  $ pip install wandb --upgrade\n"
     ]
    },
    {
     "data": {
      "text/html": [
       "\n",
       "                Tracking run with wandb version 0.12.1<br/>\n",
       "                Syncing run <strong style=\"color:#cdcd00\">fearless-moon-38</strong> to <a href=\"https://wandb.ai\" target=\"_blank\">Weights & Biases</a> <a href=\"https://docs.wandb.com/integrations/jupyter.html\" target=\"_blank\">(Documentation)</a>.<br/>\n",
       "                Project page: <a href=\"https://wandb.ai/snovaisg/thesis_basic_deterministic_model_tunning\" target=\"_blank\">https://wandb.ai/snovaisg/thesis_basic_deterministic_model_tunning</a><br/>\n",
       "                Run page: <a href=\"https://wandb.ai/snovaisg/thesis_basic_deterministic_model_tunning/runs/22e9qxth\" target=\"_blank\">https://wandb.ai/snovaisg/thesis_basic_deterministic_model_tunning/runs/22e9qxth</a><br/>\n",
       "                Run data is saved locally in <code>/Users/simaonovais/Documents/GitHub/master-thesis/wandb/run-20220308_125934-22e9qxth</code><br/><br/>\n",
       "            "
      ],
      "text/plain": [
       "<IPython.core.display.HTML object>"
      ]
     },
     "metadata": {},
     "output_type": "display_data"
    },
    {
     "data": {
      "text/html": [
       "<h1>Run(22e9qxth)</h1><iframe src=\"https://wandb.ai/snovaisg/thesis_basic_deterministic_model_tunning/runs/22e9qxth\" style=\"border:none;width:100%;height:400px\"></iframe>"
      ],
      "text/plain": [
       "<wandb.sdk.wandb_run.Run at 0x1308df9a0>"
      ]
     },
     "execution_count": 9,
     "metadata": {},
     "output_type": "execute_result"
    },
    {
     "data": {
      "text/html": [
       "Finishing last run (ID:22e9qxth) before initializing another..."
      ],
      "text/plain": [
       "<IPython.core.display.HTML object>"
      ]
     },
     "metadata": {},
     "output_type": "display_data"
    },
    {
     "data": {
      "text/html": [
       "<br/>Waiting for W&B process to finish, PID 18499<br/>Program ended successfully."
      ],
      "text/plain": [
       "<IPython.core.display.HTML object>"
      ]
     },
     "metadata": {},
     "output_type": "display_data"
    },
    {
     "data": {
      "text/html": [
       "Find user logs for this run at: <code>/Users/simaonovais/Documents/GitHub/master-thesis/wandb/run-20220308_125934-22e9qxth/logs/debug.log</code>"
      ],
      "text/plain": [
       "<IPython.core.display.HTML object>"
      ]
     },
     "metadata": {},
     "output_type": "display_data"
    },
    {
     "data": {
      "text/html": [
       "Find internal logs for this run at: <code>/Users/simaonovais/Documents/GitHub/master-thesis/wandb/run-20220308_125934-22e9qxth/logs/debug-internal.log</code>"
      ],
      "text/plain": [
       "<IPython.core.display.HTML object>"
      ]
     },
     "metadata": {},
     "output_type": "display_data"
    },
    {
     "data": {
      "text/html": [
       "<h3>Run summary:</h3><br/><style>\n",
       "    table.wandb td:nth-child(1) { padding: 0 10px; text-align: right }\n",
       "    </style><table class=\"wandb\">\n",
       "<tr><td>loss</td><td>0.10195</td></tr><tr><td>_runtime</td><td>27</td></tr><tr><td>_timestamp</td><td>1646744404</td></tr><tr><td>_step</td><td>15</td></tr><tr><td>train_loss</td><td>0.09885</td></tr><tr><td>train_recall@30</td><td>0.76982</td></tr><tr><td>val_loss</td><td>0.11519</td></tr><tr><td>recall@10</td><td>0.43225</td></tr><tr><td>recall@20</td><td>0.59951</td></tr><tr><td>recall@30</td><td>0.70439</td></tr></table>"
      ],
      "text/plain": [
       "<IPython.core.display.HTML object>"
      ]
     },
     "metadata": {},
     "output_type": "display_data"
    },
    {
     "data": {
      "text/html": [
       "<h3>Run history:</h3><br/><style>\n",
       "    table.wandb td:nth-child(1) { padding: 0 10px; text-align: right }\n",
       "    </style><table class=\"wandb\">\n",
       "<tr><td>loss</td><td>█▃▃▃▂▂▂▂▂▁▁▁▁▁▁</td></tr><tr><td>_runtime</td><td>▁▁▂▂▃▃▃▄▄▅▅▅▆▆▆█</td></tr><tr><td>_timestamp</td><td>▁▁▂▂▃▃▃▄▄▅▅▅▆▆▆█</td></tr><tr><td>_step</td><td>▁▁▂▂▃▃▄▄▅▅▆▆▇▇██</td></tr><tr><td>train_loss</td><td>▁</td></tr><tr><td>train_recall@30</td><td>▁</td></tr><tr><td>val_loss</td><td>▁</td></tr><tr><td>recall@10</td><td>▁</td></tr><tr><td>recall@20</td><td>▁</td></tr><tr><td>recall@30</td><td>▁</td></tr></table><br/>"
      ],
      "text/plain": [
       "<IPython.core.display.HTML object>"
      ]
     },
     "metadata": {},
     "output_type": "display_data"
    },
    {
     "data": {
      "text/html": [
       "Synced 6 W&B file(s), 0 media file(s), 2 artifact file(s) and 1 other file(s)"
      ],
      "text/plain": [
       "<IPython.core.display.HTML object>"
      ]
     },
     "metadata": {},
     "output_type": "display_data"
    },
    {
     "data": {
      "text/html": [
       "\n",
       "                    <br/>Synced <strong style=\"color:#cdcd00\">fearless-moon-38</strong>: <a href=\"https://wandb.ai/snovaisg/thesis_basic_deterministic_model_tunning/runs/22e9qxth\" target=\"_blank\">https://wandb.ai/snovaisg/thesis_basic_deterministic_model_tunning/runs/22e9qxth</a><br/>\n",
       "                "
      ],
      "text/plain": [
       "<IPython.core.display.HTML object>"
      ]
     },
     "metadata": {},
     "output_type": "display_data"
    },
    {
     "data": {
      "text/html": [
       "...Successfully finished last run (ID:22e9qxth). Initializing new run:<br/><br/>"
      ],
      "text/plain": [
       "<IPython.core.display.HTML object>"
      ]
     },
     "metadata": {},
     "output_type": "display_data"
    },
    {
     "name": "stderr",
     "output_type": "stream",
     "text": [
      "\u001b[34m\u001b[1mwandb\u001b[0m: wandb version 0.12.11 is available!  To upgrade, please run:\n",
      "\u001b[34m\u001b[1mwandb\u001b[0m:  $ pip install wandb --upgrade\n"
     ]
    },
    {
     "data": {
      "text/html": [
       "\n",
       "                Tracking run with wandb version 0.12.1<br/>\n",
       "                Syncing run <strong style=\"color:#cdcd00\">autumn-fog-39</strong> to <a href=\"https://wandb.ai\" target=\"_blank\">Weights & Biases</a> <a href=\"https://docs.wandb.com/integrations/jupyter.html\" target=\"_blank\">(Documentation)</a>.<br/>\n",
       "                Project page: <a href=\"https://wandb.ai/snovaisg/thesis_basic_deterministic_model_tunning\" target=\"_blank\">https://wandb.ai/snovaisg/thesis_basic_deterministic_model_tunning</a><br/>\n",
       "                Run page: <a href=\"https://wandb.ai/snovaisg/thesis_basic_deterministic_model_tunning/runs/2xsn4gyx\" target=\"_blank\">https://wandb.ai/snovaisg/thesis_basic_deterministic_model_tunning/runs/2xsn4gyx</a><br/>\n",
       "                Run data is saved locally in <code>/Users/simaonovais/Documents/GitHub/master-thesis/wandb/run-20220308_130004-2xsn4gyx</code><br/><br/>\n",
       "            "
      ],
      "text/plain": [
       "<IPython.core.display.HTML object>"
      ]
     },
     "metadata": {},
     "output_type": "display_data"
    },
    {
     "data": {
      "text/html": [
       "<h1>Run(2xsn4gyx)</h1><iframe src=\"https://wandb.ai/snovaisg/thesis_basic_deterministic_model_tunning/runs/2xsn4gyx\" style=\"border:none;width:100%;height:400px\"></iframe>"
      ],
      "text/plain": [
       "<wandb.sdk.wandb_run.Run at 0x1308c5340>"
      ]
     },
     "execution_count": 9,
     "metadata": {},
     "output_type": "execute_result"
    },
    {
     "data": {
      "text/html": [
       "Finishing last run (ID:2xsn4gyx) before initializing another..."
      ],
      "text/plain": [
       "<IPython.core.display.HTML object>"
      ]
     },
     "metadata": {},
     "output_type": "display_data"
    },
    {
     "data": {
      "text/html": [
       "<br/>Waiting for W&B process to finish, PID 18532<br/>Program ended successfully."
      ],
      "text/plain": [
       "<IPython.core.display.HTML object>"
      ]
     },
     "metadata": {},
     "output_type": "display_data"
    },
    {
     "data": {
      "text/html": [
       "Find user logs for this run at: <code>/Users/simaonovais/Documents/GitHub/master-thesis/wandb/run-20220308_130004-2xsn4gyx/logs/debug.log</code>"
      ],
      "text/plain": [
       "<IPython.core.display.HTML object>"
      ]
     },
     "metadata": {},
     "output_type": "display_data"
    },
    {
     "data": {
      "text/html": [
       "Find internal logs for this run at: <code>/Users/simaonovais/Documents/GitHub/master-thesis/wandb/run-20220308_130004-2xsn4gyx/logs/debug-internal.log</code>"
      ],
      "text/plain": [
       "<IPython.core.display.HTML object>"
      ]
     },
     "metadata": {},
     "output_type": "display_data"
    },
    {
     "data": {
      "text/html": [
       "<h3>Run summary:</h3><br/><style>\n",
       "    table.wandb td:nth-child(1) { padding: 0 10px; text-align: right }\n",
       "    </style><table class=\"wandb\">\n",
       "<tr><td>loss</td><td>0.1165</td></tr><tr><td>_runtime</td><td>30</td></tr><tr><td>_timestamp</td><td>1646744441</td></tr><tr><td>_step</td><td>15</td></tr><tr><td>train_loss</td><td>0.11459</td></tr><tr><td>train_recall@30</td><td>0.68713</td></tr><tr><td>val_loss</td><td>0.12197</td></tr><tr><td>recall@10</td><td>0.37854</td></tr><tr><td>recall@20</td><td>0.54653</td></tr><tr><td>recall@30</td><td>0.65343</td></tr></table>"
      ],
      "text/plain": [
       "<IPython.core.display.HTML object>"
      ]
     },
     "metadata": {},
     "output_type": "display_data"
    },
    {
     "data": {
      "text/html": [
       "<h3>Run history:</h3><br/><style>\n",
       "    table.wandb td:nth-child(1) { padding: 0 10px; text-align: right }\n",
       "    </style><table class=\"wandb\">\n",
       "<tr><td>loss</td><td>█▃▃▃▃▂▂▂▂▂▂▂▁▁▁</td></tr><tr><td>_runtime</td><td>▁▁▂▂▂▃▃▄▄▅▅▅▆▆▇█</td></tr><tr><td>_timestamp</td><td>▁▁▂▂▂▃▃▄▄▅▅▅▆▆▇█</td></tr><tr><td>_step</td><td>▁▁▂▂▃▃▄▄▅▅▆▆▇▇██</td></tr><tr><td>train_loss</td><td>▁</td></tr><tr><td>train_recall@30</td><td>▁</td></tr><tr><td>val_loss</td><td>▁</td></tr><tr><td>recall@10</td><td>▁</td></tr><tr><td>recall@20</td><td>▁</td></tr><tr><td>recall@30</td><td>▁</td></tr></table><br/>"
      ],
      "text/plain": [
       "<IPython.core.display.HTML object>"
      ]
     },
     "metadata": {},
     "output_type": "display_data"
    },
    {
     "data": {
      "text/html": [
       "Synced 6 W&B file(s), 0 media file(s), 0 artifact file(s) and 0 other file(s)"
      ],
      "text/plain": [
       "<IPython.core.display.HTML object>"
      ]
     },
     "metadata": {},
     "output_type": "display_data"
    },
    {
     "data": {
      "text/html": [
       "\n",
       "                    <br/>Synced <strong style=\"color:#cdcd00\">autumn-fog-39</strong>: <a href=\"https://wandb.ai/snovaisg/thesis_basic_deterministic_model_tunning/runs/2xsn4gyx\" target=\"_blank\">https://wandb.ai/snovaisg/thesis_basic_deterministic_model_tunning/runs/2xsn4gyx</a><br/>\n",
       "                "
      ],
      "text/plain": [
       "<IPython.core.display.HTML object>"
      ]
     },
     "metadata": {},
     "output_type": "display_data"
    },
    {
     "data": {
      "text/html": [
       "...Successfully finished last run (ID:2xsn4gyx). Initializing new run:<br/><br/>"
      ],
      "text/plain": [
       "<IPython.core.display.HTML object>"
      ]
     },
     "metadata": {},
     "output_type": "display_data"
    },
    {
     "name": "stderr",
     "output_type": "stream",
     "text": [
      "\u001b[34m\u001b[1mwandb\u001b[0m: wandb version 0.12.11 is available!  To upgrade, please run:\n",
      "\u001b[34m\u001b[1mwandb\u001b[0m:  $ pip install wandb --upgrade\n"
     ]
    },
    {
     "data": {
      "text/html": [
       "\n",
       "                Tracking run with wandb version 0.12.1<br/>\n",
       "                Syncing run <strong style=\"color:#cdcd00\">drawn-puddle-40</strong> to <a href=\"https://wandb.ai\" target=\"_blank\">Weights & Biases</a> <a href=\"https://docs.wandb.com/integrations/jupyter.html\" target=\"_blank\">(Documentation)</a>.<br/>\n",
       "                Project page: <a href=\"https://wandb.ai/snovaisg/thesis_basic_deterministic_model_tunning\" target=\"_blank\">https://wandb.ai/snovaisg/thesis_basic_deterministic_model_tunning</a><br/>\n",
       "                Run page: <a href=\"https://wandb.ai/snovaisg/thesis_basic_deterministic_model_tunning/runs/1yks304n\" target=\"_blank\">https://wandb.ai/snovaisg/thesis_basic_deterministic_model_tunning/runs/1yks304n</a><br/>\n",
       "                Run data is saved locally in <code>/Users/simaonovais/Documents/GitHub/master-thesis/wandb/run-20220308_130041-1yks304n</code><br/><br/>\n",
       "            "
      ],
      "text/plain": [
       "<IPython.core.display.HTML object>"
      ]
     },
     "metadata": {},
     "output_type": "display_data"
    },
    {
     "data": {
      "text/html": [
       "<h1>Run(1yks304n)</h1><iframe src=\"https://wandb.ai/snovaisg/thesis_basic_deterministic_model_tunning/runs/1yks304n\" style=\"border:none;width:100%;height:400px\"></iframe>"
      ],
      "text/plain": [
       "<wandb.sdk.wandb_run.Run at 0x13099bd90>"
      ]
     },
     "execution_count": 9,
     "metadata": {},
     "output_type": "execute_result"
    },
    {
     "data": {
      "text/html": [
       "Finishing last run (ID:1yks304n) before initializing another..."
      ],
      "text/plain": [
       "<IPython.core.display.HTML object>"
      ]
     },
     "metadata": {},
     "output_type": "display_data"
    },
    {
     "data": {
      "text/html": [
       "<br/>Waiting for W&B process to finish, PID 18555<br/>Program ended successfully."
      ],
      "text/plain": [
       "<IPython.core.display.HTML object>"
      ]
     },
     "metadata": {},
     "output_type": "display_data"
    },
    {
     "data": {
      "text/html": [
       "Find user logs for this run at: <code>/Users/simaonovais/Documents/GitHub/master-thesis/wandb/run-20220308_130041-1yks304n/logs/debug.log</code>"
      ],
      "text/plain": [
       "<IPython.core.display.HTML object>"
      ]
     },
     "metadata": {},
     "output_type": "display_data"
    },
    {
     "data": {
      "text/html": [
       "Find internal logs for this run at: <code>/Users/simaonovais/Documents/GitHub/master-thesis/wandb/run-20220308_130041-1yks304n/logs/debug-internal.log</code>"
      ],
      "text/plain": [
       "<IPython.core.display.HTML object>"
      ]
     },
     "metadata": {},
     "output_type": "display_data"
    },
    {
     "data": {
      "text/html": [
       "<h3>Run summary:</h3><br/><style>\n",
       "    table.wandb td:nth-child(1) { padding: 0 10px; text-align: right }\n",
       "    </style><table class=\"wandb\">\n",
       "<tr><td>loss</td><td>0.11313</td></tr><tr><td>_runtime</td><td>25</td></tr><tr><td>_timestamp</td><td>1646744470</td></tr><tr><td>_step</td><td>15</td></tr><tr><td>train_loss</td><td>0.10998</td></tr><tr><td>train_recall@30</td><td>0.72072</td></tr><tr><td>val_loss</td><td>0.12001</td></tr><tr><td>recall@10</td><td>0.41025</td></tr><tr><td>recall@20</td><td>0.57937</td></tr><tr><td>recall@30</td><td>0.68448</td></tr></table>"
      ],
      "text/plain": [
       "<IPython.core.display.HTML object>"
      ]
     },
     "metadata": {},
     "output_type": "display_data"
    },
    {
     "data": {
      "text/html": [
       "<h3>Run history:</h3><br/><style>\n",
       "    table.wandb td:nth-child(1) { padding: 0 10px; text-align: right }\n",
       "    </style><table class=\"wandb\">\n",
       "<tr><td>loss</td><td>█▄▃▃▂▂▂▂▂▂▂▂▁▁▁</td></tr><tr><td>_runtime</td><td>▁▁▂▂▂▃▃▃▄▄▅▅▅▆▆█</td></tr><tr><td>_timestamp</td><td>▁▁▂▂▂▃▃▃▄▄▅▅▅▆▆█</td></tr><tr><td>_step</td><td>▁▁▂▂▃▃▄▄▅▅▆▆▇▇██</td></tr><tr><td>train_loss</td><td>▁</td></tr><tr><td>train_recall@30</td><td>▁</td></tr><tr><td>val_loss</td><td>▁</td></tr><tr><td>recall@10</td><td>▁</td></tr><tr><td>recall@20</td><td>▁</td></tr><tr><td>recall@30</td><td>▁</td></tr></table><br/>"
      ],
      "text/plain": [
       "<IPython.core.display.HTML object>"
      ]
     },
     "metadata": {},
     "output_type": "display_data"
    },
    {
     "data": {
      "text/html": [
       "Synced 6 W&B file(s), 0 media file(s), 2 artifact file(s) and 1 other file(s)"
      ],
      "text/plain": [
       "<IPython.core.display.HTML object>"
      ]
     },
     "metadata": {},
     "output_type": "display_data"
    },
    {
     "data": {
      "text/html": [
       "\n",
       "                    <br/>Synced <strong style=\"color:#cdcd00\">drawn-puddle-40</strong>: <a href=\"https://wandb.ai/snovaisg/thesis_basic_deterministic_model_tunning/runs/1yks304n\" target=\"_blank\">https://wandb.ai/snovaisg/thesis_basic_deterministic_model_tunning/runs/1yks304n</a><br/>\n",
       "                "
      ],
      "text/plain": [
       "<IPython.core.display.HTML object>"
      ]
     },
     "metadata": {},
     "output_type": "display_data"
    },
    {
     "data": {
      "text/html": [
       "...Successfully finished last run (ID:1yks304n). Initializing new run:<br/><br/>"
      ],
      "text/plain": [
       "<IPython.core.display.HTML object>"
      ]
     },
     "metadata": {},
     "output_type": "display_data"
    },
    {
     "name": "stderr",
     "output_type": "stream",
     "text": [
      "\u001b[34m\u001b[1mwandb\u001b[0m: wandb version 0.12.11 is available!  To upgrade, please run:\n",
      "\u001b[34m\u001b[1mwandb\u001b[0m:  $ pip install wandb --upgrade\n"
     ]
    },
    {
     "data": {
      "text/html": [
       "\n",
       "                Tracking run with wandb version 0.12.1<br/>\n",
       "                Syncing run <strong style=\"color:#cdcd00\">wise-smoke-41</strong> to <a href=\"https://wandb.ai\" target=\"_blank\">Weights & Biases</a> <a href=\"https://docs.wandb.com/integrations/jupyter.html\" target=\"_blank\">(Documentation)</a>.<br/>\n",
       "                Project page: <a href=\"https://wandb.ai/snovaisg/thesis_basic_deterministic_model_tunning\" target=\"_blank\">https://wandb.ai/snovaisg/thesis_basic_deterministic_model_tunning</a><br/>\n",
       "                Run page: <a href=\"https://wandb.ai/snovaisg/thesis_basic_deterministic_model_tunning/runs/jgi6ft0a\" target=\"_blank\">https://wandb.ai/snovaisg/thesis_basic_deterministic_model_tunning/runs/jgi6ft0a</a><br/>\n",
       "                Run data is saved locally in <code>/Users/simaonovais/Documents/GitHub/master-thesis/wandb/run-20220308_130110-jgi6ft0a</code><br/><br/>\n",
       "            "
      ],
      "text/plain": [
       "<IPython.core.display.HTML object>"
      ]
     },
     "metadata": {},
     "output_type": "display_data"
    },
    {
     "data": {
      "text/html": [
       "<h1>Run(jgi6ft0a)</h1><iframe src=\"https://wandb.ai/snovaisg/thesis_basic_deterministic_model_tunning/runs/jgi6ft0a\" style=\"border:none;width:100%;height:400px\"></iframe>"
      ],
      "text/plain": [
       "<wandb.sdk.wandb_run.Run at 0x130794070>"
      ]
     },
     "execution_count": 9,
     "metadata": {},
     "output_type": "execute_result"
    },
    {
     "data": {
      "text/html": [
       "Finishing last run (ID:jgi6ft0a) before initializing another..."
      ],
      "text/plain": [
       "<IPython.core.display.HTML object>"
      ]
     },
     "metadata": {},
     "output_type": "display_data"
    },
    {
     "data": {
      "text/html": [
       "<br/>Waiting for W&B process to finish, PID 18573<br/>Program ended successfully."
      ],
      "text/plain": [
       "<IPython.core.display.HTML object>"
      ]
     },
     "metadata": {},
     "output_type": "display_data"
    },
    {
     "data": {
      "text/html": [
       "Find user logs for this run at: <code>/Users/simaonovais/Documents/GitHub/master-thesis/wandb/run-20220308_130110-jgi6ft0a/logs/debug.log</code>"
      ],
      "text/plain": [
       "<IPython.core.display.HTML object>"
      ]
     },
     "metadata": {},
     "output_type": "display_data"
    },
    {
     "data": {
      "text/html": [
       "Find internal logs for this run at: <code>/Users/simaonovais/Documents/GitHub/master-thesis/wandb/run-20220308_130110-jgi6ft0a/logs/debug-internal.log</code>"
      ],
      "text/plain": [
       "<IPython.core.display.HTML object>"
      ]
     },
     "metadata": {},
     "output_type": "display_data"
    },
    {
     "data": {
      "text/html": [
       "<h3>Run summary:</h3><br/><style>\n",
       "    table.wandb td:nth-child(1) { padding: 0 10px; text-align: right }\n",
       "    </style><table class=\"wandb\">\n",
       "<tr><td>loss</td><td>0.12936</td></tr><tr><td>_runtime</td><td>27</td></tr><tr><td>_timestamp</td><td>1646744505</td></tr><tr><td>_step</td><td>15</td></tr><tr><td>train_loss</td><td>0.13588</td></tr><tr><td>train_recall@30</td><td>0.59036</td></tr><tr><td>val_loss</td><td>0.1384</td></tr><tr><td>recall@10</td><td>0.27428</td></tr><tr><td>recall@20</td><td>0.44846</td></tr><tr><td>recall@30</td><td>0.57902</td></tr></table>"
      ],
      "text/plain": [
       "<IPython.core.display.HTML object>"
      ]
     },
     "metadata": {},
     "output_type": "display_data"
    },
    {
     "data": {
      "text/html": [
       "<h3>Run history:</h3><br/><style>\n",
       "    table.wandb td:nth-child(1) { padding: 0 10px; text-align: right }\n",
       "    </style><table class=\"wandb\">\n",
       "<tr><td>loss</td><td>█▃▃▂▂▃▂▂▂▂▂▂▁▁▁</td></tr><tr><td>_runtime</td><td>▁▁▂▂▂▃▃▃▄▄▅▅▅▅▆█</td></tr><tr><td>_timestamp</td><td>▁▁▂▂▂▃▃▃▄▄▅▅▅▅▆█</td></tr><tr><td>_step</td><td>▁▁▂▂▃▃▄▄▅▅▆▆▇▇██</td></tr><tr><td>train_loss</td><td>▁</td></tr><tr><td>train_recall@30</td><td>▁</td></tr><tr><td>val_loss</td><td>▁</td></tr><tr><td>recall@10</td><td>▁</td></tr><tr><td>recall@20</td><td>▁</td></tr><tr><td>recall@30</td><td>▁</td></tr></table><br/>"
      ],
      "text/plain": [
       "<IPython.core.display.HTML object>"
      ]
     },
     "metadata": {},
     "output_type": "display_data"
    },
    {
     "data": {
      "text/html": [
       "Synced 6 W&B file(s), 0 media file(s), 0 artifact file(s) and 0 other file(s)"
      ],
      "text/plain": [
       "<IPython.core.display.HTML object>"
      ]
     },
     "metadata": {},
     "output_type": "display_data"
    },
    {
     "data": {
      "text/html": [
       "\n",
       "                    <br/>Synced <strong style=\"color:#cdcd00\">wise-smoke-41</strong>: <a href=\"https://wandb.ai/snovaisg/thesis_basic_deterministic_model_tunning/runs/jgi6ft0a\" target=\"_blank\">https://wandb.ai/snovaisg/thesis_basic_deterministic_model_tunning/runs/jgi6ft0a</a><br/>\n",
       "                "
      ],
      "text/plain": [
       "<IPython.core.display.HTML object>"
      ]
     },
     "metadata": {},
     "output_type": "display_data"
    },
    {
     "data": {
      "text/html": [
       "...Successfully finished last run (ID:jgi6ft0a). Initializing new run:<br/><br/>"
      ],
      "text/plain": [
       "<IPython.core.display.HTML object>"
      ]
     },
     "metadata": {},
     "output_type": "display_data"
    },
    {
     "name": "stderr",
     "output_type": "stream",
     "text": [
      "\u001b[34m\u001b[1mwandb\u001b[0m: wandb version 0.12.11 is available!  To upgrade, please run:\n",
      "\u001b[34m\u001b[1mwandb\u001b[0m:  $ pip install wandb --upgrade\n"
     ]
    },
    {
     "data": {
      "text/html": [
       "\n",
       "                Tracking run with wandb version 0.12.1<br/>\n",
       "                Syncing run <strong style=\"color:#cdcd00\">young-salad-42</strong> to <a href=\"https://wandb.ai\" target=\"_blank\">Weights & Biases</a> <a href=\"https://docs.wandb.com/integrations/jupyter.html\" target=\"_blank\">(Documentation)</a>.<br/>\n",
       "                Project page: <a href=\"https://wandb.ai/snovaisg/thesis_basic_deterministic_model_tunning\" target=\"_blank\">https://wandb.ai/snovaisg/thesis_basic_deterministic_model_tunning</a><br/>\n",
       "                Run page: <a href=\"https://wandb.ai/snovaisg/thesis_basic_deterministic_model_tunning/runs/2rwh6r5b\" target=\"_blank\">https://wandb.ai/snovaisg/thesis_basic_deterministic_model_tunning/runs/2rwh6r5b</a><br/>\n",
       "                Run data is saved locally in <code>/Users/simaonovais/Documents/GitHub/master-thesis/wandb/run-20220308_130145-2rwh6r5b</code><br/><br/>\n",
       "            "
      ],
      "text/plain": [
       "<IPython.core.display.HTML object>"
      ]
     },
     "metadata": {},
     "output_type": "display_data"
    },
    {
     "data": {
      "text/html": [
       "<h1>Run(2rwh6r5b)</h1><iframe src=\"https://wandb.ai/snovaisg/thesis_basic_deterministic_model_tunning/runs/2rwh6r5b\" style=\"border:none;width:100%;height:400px\"></iframe>"
      ],
      "text/plain": [
       "<wandb.sdk.wandb_run.Run at 0x13087e130>"
      ]
     },
     "execution_count": 9,
     "metadata": {},
     "output_type": "execute_result"
    },
    {
     "data": {
      "text/html": [
       "Finishing last run (ID:2rwh6r5b) before initializing another..."
      ],
      "text/plain": [
       "<IPython.core.display.HTML object>"
      ]
     },
     "metadata": {},
     "output_type": "display_data"
    },
    {
     "data": {
      "text/html": [
       "<br/>Waiting for W&B process to finish, PID 18589<br/>Program ended successfully."
      ],
      "text/plain": [
       "<IPython.core.display.HTML object>"
      ]
     },
     "metadata": {},
     "output_type": "display_data"
    },
    {
     "data": {
      "text/html": [
       "Find user logs for this run at: <code>/Users/simaonovais/Documents/GitHub/master-thesis/wandb/run-20220308_130145-2rwh6r5b/logs/debug.log</code>"
      ],
      "text/plain": [
       "<IPython.core.display.HTML object>"
      ]
     },
     "metadata": {},
     "output_type": "display_data"
    },
    {
     "data": {
      "text/html": [
       "Find internal logs for this run at: <code>/Users/simaonovais/Documents/GitHub/master-thesis/wandb/run-20220308_130145-2rwh6r5b/logs/debug-internal.log</code>"
      ],
      "text/plain": [
       "<IPython.core.display.HTML object>"
      ]
     },
     "metadata": {},
     "output_type": "display_data"
    },
    {
     "data": {
      "text/html": [
       "<h3>Run summary:</h3><br/><style>\n",
       "    table.wandb td:nth-child(1) { padding: 0 10px; text-align: right }\n",
       "    </style><table class=\"wandb\">\n",
       "<tr><td>loss</td><td>0.10289</td></tr><tr><td>_runtime</td><td>27</td></tr><tr><td>_timestamp</td><td>1646744536</td></tr><tr><td>_step</td><td>15</td></tr><tr><td>train_loss</td><td>0.10018</td></tr><tr><td>train_recall@30</td><td>0.76474</td></tr><tr><td>val_loss</td><td>0.12122</td></tr><tr><td>recall@10</td><td>0.41362</td></tr><tr><td>recall@20</td><td>0.58113</td></tr><tr><td>recall@30</td><td>0.68673</td></tr></table>"
      ],
      "text/plain": [
       "<IPython.core.display.HTML object>"
      ]
     },
     "metadata": {},
     "output_type": "display_data"
    },
    {
     "data": {
      "text/html": [
       "<h3>Run history:</h3><br/><style>\n",
       "    table.wandb td:nth-child(1) { padding: 0 10px; text-align: right }\n",
       "    </style><table class=\"wandb\">\n",
       "<tr><td>loss</td><td>█▄▃▃▂▂▂▂▁▁▁▁▁▁▁</td></tr><tr><td>_runtime</td><td>▁▁▂▂▃▃▃▄▄▄▅▅▅▆▆█</td></tr><tr><td>_timestamp</td><td>▁▁▂▂▃▃▃▄▄▄▅▅▅▆▆█</td></tr><tr><td>_step</td><td>▁▁▂▂▃▃▄▄▅▅▆▆▇▇██</td></tr><tr><td>train_loss</td><td>▁</td></tr><tr><td>train_recall@30</td><td>▁</td></tr><tr><td>val_loss</td><td>▁</td></tr><tr><td>recall@10</td><td>▁</td></tr><tr><td>recall@20</td><td>▁</td></tr><tr><td>recall@30</td><td>▁</td></tr></table><br/>"
      ],
      "text/plain": [
       "<IPython.core.display.HTML object>"
      ]
     },
     "metadata": {},
     "output_type": "display_data"
    },
    {
     "data": {
      "text/html": [
       "Synced 6 W&B file(s), 0 media file(s), 2 artifact file(s) and 1 other file(s)"
      ],
      "text/plain": [
       "<IPython.core.display.HTML object>"
      ]
     },
     "metadata": {},
     "output_type": "display_data"
    },
    {
     "data": {
      "text/html": [
       "\n",
       "                    <br/>Synced <strong style=\"color:#cdcd00\">young-salad-42</strong>: <a href=\"https://wandb.ai/snovaisg/thesis_basic_deterministic_model_tunning/runs/2rwh6r5b\" target=\"_blank\">https://wandb.ai/snovaisg/thesis_basic_deterministic_model_tunning/runs/2rwh6r5b</a><br/>\n",
       "                "
      ],
      "text/plain": [
       "<IPython.core.display.HTML object>"
      ]
     },
     "metadata": {},
     "output_type": "display_data"
    },
    {
     "data": {
      "text/html": [
       "...Successfully finished last run (ID:2rwh6r5b). Initializing new run:<br/><br/>"
      ],
      "text/plain": [
       "<IPython.core.display.HTML object>"
      ]
     },
     "metadata": {},
     "output_type": "display_data"
    },
    {
     "name": "stderr",
     "output_type": "stream",
     "text": [
      "\u001b[34m\u001b[1mwandb\u001b[0m: wandb version 0.12.11 is available!  To upgrade, please run:\n",
      "\u001b[34m\u001b[1mwandb\u001b[0m:  $ pip install wandb --upgrade\n"
     ]
    },
    {
     "data": {
      "text/html": [
       "\n",
       "                Tracking run with wandb version 0.12.1<br/>\n",
       "                Syncing run <strong style=\"color:#cdcd00\">sweet-puddle-43</strong> to <a href=\"https://wandb.ai\" target=\"_blank\">Weights & Biases</a> <a href=\"https://docs.wandb.com/integrations/jupyter.html\" target=\"_blank\">(Documentation)</a>.<br/>\n",
       "                Project page: <a href=\"https://wandb.ai/snovaisg/thesis_basic_deterministic_model_tunning\" target=\"_blank\">https://wandb.ai/snovaisg/thesis_basic_deterministic_model_tunning</a><br/>\n",
       "                Run page: <a href=\"https://wandb.ai/snovaisg/thesis_basic_deterministic_model_tunning/runs/29ni9qsw\" target=\"_blank\">https://wandb.ai/snovaisg/thesis_basic_deterministic_model_tunning/runs/29ni9qsw</a><br/>\n",
       "                Run data is saved locally in <code>/Users/simaonovais/Documents/GitHub/master-thesis/wandb/run-20220308_130216-29ni9qsw</code><br/><br/>\n",
       "            "
      ],
      "text/plain": [
       "<IPython.core.display.HTML object>"
      ]
     },
     "metadata": {},
     "output_type": "display_data"
    },
    {
     "data": {
      "text/html": [
       "<h1>Run(29ni9qsw)</h1><iframe src=\"https://wandb.ai/snovaisg/thesis_basic_deterministic_model_tunning/runs/29ni9qsw\" style=\"border:none;width:100%;height:400px\"></iframe>"
      ],
      "text/plain": [
       "<wandb.sdk.wandb_run.Run at 0x1309003d0>"
      ]
     },
     "execution_count": 9,
     "metadata": {},
     "output_type": "execute_result"
    },
    {
     "data": {
      "text/html": [
       "Finishing last run (ID:29ni9qsw) before initializing another..."
      ],
      "text/plain": [
       "<IPython.core.display.HTML object>"
      ]
     },
     "metadata": {},
     "output_type": "display_data"
    },
    {
     "data": {
      "text/html": [
       "<br/>Waiting for W&B process to finish, PID 18607<br/>Program ended successfully."
      ],
      "text/plain": [
       "<IPython.core.display.HTML object>"
      ]
     },
     "metadata": {},
     "output_type": "display_data"
    },
    {
     "data": {
      "text/html": [
       "Find user logs for this run at: <code>/Users/simaonovais/Documents/GitHub/master-thesis/wandb/run-20220308_130216-29ni9qsw/logs/debug.log</code>"
      ],
      "text/plain": [
       "<IPython.core.display.HTML object>"
      ]
     },
     "metadata": {},
     "output_type": "display_data"
    },
    {
     "data": {
      "text/html": [
       "Find internal logs for this run at: <code>/Users/simaonovais/Documents/GitHub/master-thesis/wandb/run-20220308_130216-29ni9qsw/logs/debug-internal.log</code>"
      ],
      "text/plain": [
       "<IPython.core.display.HTML object>"
      ]
     },
     "metadata": {},
     "output_type": "display_data"
    },
    {
     "data": {
      "text/html": [
       "<h3>Run summary:</h3><br/><style>\n",
       "    table.wandb td:nth-child(1) { padding: 0 10px; text-align: right }\n",
       "    </style><table class=\"wandb\">\n",
       "<tr><td>loss</td><td>0.12051</td></tr><tr><td>_runtime</td><td>28</td></tr><tr><td>_timestamp</td><td>1646744571</td></tr><tr><td>_step</td><td>15</td></tr><tr><td>train_loss</td><td>0.11703</td></tr><tr><td>train_recall@30</td><td>0.66856</td></tr><tr><td>val_loss</td><td>0.12533</td></tr><tr><td>recall@10</td><td>0.36423</td></tr><tr><td>recall@20</td><td>0.52547</td></tr><tr><td>recall@30</td><td>0.63498</td></tr></table>"
      ],
      "text/plain": [
       "<IPython.core.display.HTML object>"
      ]
     },
     "metadata": {},
     "output_type": "display_data"
    },
    {
     "data": {
      "text/html": [
       "<h3>Run history:</h3><br/><style>\n",
       "    table.wandb td:nth-child(1) { padding: 0 10px; text-align: right }\n",
       "    </style><table class=\"wandb\">\n",
       "<tr><td>loss</td><td>█▄▃▃▃▃▃▂▂▂▂▂▁▁▁</td></tr><tr><td>_runtime</td><td>▁▁▂▂▃▃▃▄▄▅▅▅▆▆▆█</td></tr><tr><td>_timestamp</td><td>▁▁▂▂▃▃▃▄▄▅▅▅▆▆▆█</td></tr><tr><td>_step</td><td>▁▁▂▂▃▃▄▄▅▅▆▆▇▇██</td></tr><tr><td>train_loss</td><td>▁</td></tr><tr><td>train_recall@30</td><td>▁</td></tr><tr><td>val_loss</td><td>▁</td></tr><tr><td>recall@10</td><td>▁</td></tr><tr><td>recall@20</td><td>▁</td></tr><tr><td>recall@30</td><td>▁</td></tr></table><br/>"
      ],
      "text/plain": [
       "<IPython.core.display.HTML object>"
      ]
     },
     "metadata": {},
     "output_type": "display_data"
    },
    {
     "data": {
      "text/html": [
       "Synced 6 W&B file(s), 0 media file(s), 0 artifact file(s) and 0 other file(s)"
      ],
      "text/plain": [
       "<IPython.core.display.HTML object>"
      ]
     },
     "metadata": {},
     "output_type": "display_data"
    },
    {
     "data": {
      "text/html": [
       "\n",
       "                    <br/>Synced <strong style=\"color:#cdcd00\">sweet-puddle-43</strong>: <a href=\"https://wandb.ai/snovaisg/thesis_basic_deterministic_model_tunning/runs/29ni9qsw\" target=\"_blank\">https://wandb.ai/snovaisg/thesis_basic_deterministic_model_tunning/runs/29ni9qsw</a><br/>\n",
       "                "
      ],
      "text/plain": [
       "<IPython.core.display.HTML object>"
      ]
     },
     "metadata": {},
     "output_type": "display_data"
    },
    {
     "data": {
      "text/html": [
       "...Successfully finished last run (ID:29ni9qsw). Initializing new run:<br/><br/>"
      ],
      "text/plain": [
       "<IPython.core.display.HTML object>"
      ]
     },
     "metadata": {},
     "output_type": "display_data"
    },
    {
     "name": "stderr",
     "output_type": "stream",
     "text": [
      "\u001b[34m\u001b[1mwandb\u001b[0m: wandb version 0.12.11 is available!  To upgrade, please run:\n",
      "\u001b[34m\u001b[1mwandb\u001b[0m:  $ pip install wandb --upgrade\n"
     ]
    },
    {
     "data": {
      "text/html": [
       "\n",
       "                Tracking run with wandb version 0.12.1<br/>\n",
       "                Syncing run <strong style=\"color:#cdcd00\">devoted-dragon-44</strong> to <a href=\"https://wandb.ai\" target=\"_blank\">Weights & Biases</a> <a href=\"https://docs.wandb.com/integrations/jupyter.html\" target=\"_blank\">(Documentation)</a>.<br/>\n",
       "                Project page: <a href=\"https://wandb.ai/snovaisg/thesis_basic_deterministic_model_tunning\" target=\"_blank\">https://wandb.ai/snovaisg/thesis_basic_deterministic_model_tunning</a><br/>\n",
       "                Run page: <a href=\"https://wandb.ai/snovaisg/thesis_basic_deterministic_model_tunning/runs/eonklgx9\" target=\"_blank\">https://wandb.ai/snovaisg/thesis_basic_deterministic_model_tunning/runs/eonklgx9</a><br/>\n",
       "                Run data is saved locally in <code>/Users/simaonovais/Documents/GitHub/master-thesis/wandb/run-20220308_130251-eonklgx9</code><br/><br/>\n",
       "            "
      ],
      "text/plain": [
       "<IPython.core.display.HTML object>"
      ]
     },
     "metadata": {},
     "output_type": "display_data"
    },
    {
     "data": {
      "text/html": [
       "<h1>Run(eonklgx9)</h1><iframe src=\"https://wandb.ai/snovaisg/thesis_basic_deterministic_model_tunning/runs/eonklgx9\" style=\"border:none;width:100%;height:400px\"></iframe>"
      ],
      "text/plain": [
       "<wandb.sdk.wandb_run.Run at 0x1308d8bb0>"
      ]
     },
     "execution_count": 9,
     "metadata": {},
     "output_type": "execute_result"
    },
    {
     "data": {
      "text/html": [
       "Finishing last run (ID:eonklgx9) before initializing another..."
      ],
      "text/plain": [
       "<IPython.core.display.HTML object>"
      ]
     },
     "metadata": {},
     "output_type": "display_data"
    },
    {
     "data": {
      "text/html": [
       "<br/>Waiting for W&B process to finish, PID 18623<br/>Program ended successfully."
      ],
      "text/plain": [
       "<IPython.core.display.HTML object>"
      ]
     },
     "metadata": {},
     "output_type": "display_data"
    },
    {
     "data": {
      "text/html": [
       "Find user logs for this run at: <code>/Users/simaonovais/Documents/GitHub/master-thesis/wandb/run-20220308_130251-eonklgx9/logs/debug.log</code>"
      ],
      "text/plain": [
       "<IPython.core.display.HTML object>"
      ]
     },
     "metadata": {},
     "output_type": "display_data"
    },
    {
     "data": {
      "text/html": [
       "Find internal logs for this run at: <code>/Users/simaonovais/Documents/GitHub/master-thesis/wandb/run-20220308_130251-eonklgx9/logs/debug-internal.log</code>"
      ],
      "text/plain": [
       "<IPython.core.display.HTML object>"
      ]
     },
     "metadata": {},
     "output_type": "display_data"
    },
    {
     "data": {
      "text/html": [
       "<h3>Run summary:</h3><br/><style>\n",
       "    table.wandb td:nth-child(1) { padding: 0 10px; text-align: right }\n",
       "    </style><table class=\"wandb\">\n",
       "<tr><td>loss</td><td>0.10131</td></tr><tr><td>_runtime</td><td>28</td></tr><tr><td>_timestamp</td><td>1646744603</td></tr><tr><td>_step</td><td>15</td></tr><tr><td>train_loss</td><td>0.09821</td></tr><tr><td>train_recall@30</td><td>0.7735</td></tr><tr><td>val_loss</td><td>0.11816</td></tr><tr><td>recall@10</td><td>0.42506</td></tr><tr><td>recall@20</td><td>0.58941</td></tr><tr><td>recall@30</td><td>0.6901</td></tr></table>"
      ],
      "text/plain": [
       "<IPython.core.display.HTML object>"
      ]
     },
     "metadata": {},
     "output_type": "display_data"
    },
    {
     "data": {
      "text/html": [
       "<h3>Run history:</h3><br/><style>\n",
       "    table.wandb td:nth-child(1) { padding: 0 10px; text-align: right }\n",
       "    </style><table class=\"wandb\">\n",
       "<tr><td>loss</td><td>█▄▃▃▃▂▂▂▂▂▂▁▁▁▁</td></tr><tr><td>_runtime</td><td>▁▁▂▂▃▃▄▄▄▅▅▅▅▆▆█</td></tr><tr><td>_timestamp</td><td>▁▁▂▂▃▃▄▄▄▅▅▅▅▆▆█</td></tr><tr><td>_step</td><td>▁▁▂▂▃▃▄▄▅▅▆▆▇▇██</td></tr><tr><td>train_loss</td><td>▁</td></tr><tr><td>train_recall@30</td><td>▁</td></tr><tr><td>val_loss</td><td>▁</td></tr><tr><td>recall@10</td><td>▁</td></tr><tr><td>recall@20</td><td>▁</td></tr><tr><td>recall@30</td><td>▁</td></tr></table><br/>"
      ],
      "text/plain": [
       "<IPython.core.display.HTML object>"
      ]
     },
     "metadata": {},
     "output_type": "display_data"
    },
    {
     "data": {
      "text/html": [
       "Synced 6 W&B file(s), 0 media file(s), 2 artifact file(s) and 1 other file(s)"
      ],
      "text/plain": [
       "<IPython.core.display.HTML object>"
      ]
     },
     "metadata": {},
     "output_type": "display_data"
    },
    {
     "data": {
      "text/html": [
       "\n",
       "                    <br/>Synced <strong style=\"color:#cdcd00\">devoted-dragon-44</strong>: <a href=\"https://wandb.ai/snovaisg/thesis_basic_deterministic_model_tunning/runs/eonklgx9\" target=\"_blank\">https://wandb.ai/snovaisg/thesis_basic_deterministic_model_tunning/runs/eonklgx9</a><br/>\n",
       "                "
      ],
      "text/plain": [
       "<IPython.core.display.HTML object>"
      ]
     },
     "metadata": {},
     "output_type": "display_data"
    },
    {
     "data": {
      "text/html": [
       "...Successfully finished last run (ID:eonklgx9). Initializing new run:<br/><br/>"
      ],
      "text/plain": [
       "<IPython.core.display.HTML object>"
      ]
     },
     "metadata": {},
     "output_type": "display_data"
    },
    {
     "name": "stderr",
     "output_type": "stream",
     "text": [
      "\u001b[34m\u001b[1mwandb\u001b[0m: wandb version 0.12.11 is available!  To upgrade, please run:\n",
      "\u001b[34m\u001b[1mwandb\u001b[0m:  $ pip install wandb --upgrade\n"
     ]
    },
    {
     "data": {
      "text/html": [
       "\n",
       "                Tracking run with wandb version 0.12.1<br/>\n",
       "                Syncing run <strong style=\"color:#cdcd00\">whole-snowflake-45</strong> to <a href=\"https://wandb.ai\" target=\"_blank\">Weights & Biases</a> <a href=\"https://docs.wandb.com/integrations/jupyter.html\" target=\"_blank\">(Documentation)</a>.<br/>\n",
       "                Project page: <a href=\"https://wandb.ai/snovaisg/thesis_basic_deterministic_model_tunning\" target=\"_blank\">https://wandb.ai/snovaisg/thesis_basic_deterministic_model_tunning</a><br/>\n",
       "                Run page: <a href=\"https://wandb.ai/snovaisg/thesis_basic_deterministic_model_tunning/runs/1eiuxo3x\" target=\"_blank\">https://wandb.ai/snovaisg/thesis_basic_deterministic_model_tunning/runs/1eiuxo3x</a><br/>\n",
       "                Run data is saved locally in <code>/Users/simaonovais/Documents/GitHub/master-thesis/wandb/run-20220308_130323-1eiuxo3x</code><br/><br/>\n",
       "            "
      ],
      "text/plain": [
       "<IPython.core.display.HTML object>"
      ]
     },
     "metadata": {},
     "output_type": "display_data"
    },
    {
     "data": {
      "text/html": [
       "<h1>Run(1eiuxo3x)</h1><iframe src=\"https://wandb.ai/snovaisg/thesis_basic_deterministic_model_tunning/runs/1eiuxo3x\" style=\"border:none;width:100%;height:400px\"></iframe>"
      ],
      "text/plain": [
       "<wandb.sdk.wandb_run.Run at 0x1307cc5e0>"
      ]
     },
     "execution_count": 9,
     "metadata": {},
     "output_type": "execute_result"
    },
    {
     "data": {
      "text/html": [
       "Finishing last run (ID:1eiuxo3x) before initializing another..."
      ],
      "text/plain": [
       "<IPython.core.display.HTML object>"
      ]
     },
     "metadata": {},
     "output_type": "display_data"
    },
    {
     "data": {
      "text/html": [
       "<br/>Waiting for W&B process to finish, PID 18643<br/>Program ended successfully."
      ],
      "text/plain": [
       "<IPython.core.display.HTML object>"
      ]
     },
     "metadata": {},
     "output_type": "display_data"
    },
    {
     "data": {
      "text/html": [
       "Find user logs for this run at: <code>/Users/simaonovais/Documents/GitHub/master-thesis/wandb/run-20220308_130323-1eiuxo3x/logs/debug.log</code>"
      ],
      "text/plain": [
       "<IPython.core.display.HTML object>"
      ]
     },
     "metadata": {},
     "output_type": "display_data"
    },
    {
     "data": {
      "text/html": [
       "Find internal logs for this run at: <code>/Users/simaonovais/Documents/GitHub/master-thesis/wandb/run-20220308_130323-1eiuxo3x/logs/debug-internal.log</code>"
      ],
      "text/plain": [
       "<IPython.core.display.HTML object>"
      ]
     },
     "metadata": {},
     "output_type": "display_data"
    },
    {
     "data": {
      "text/html": [
       "<h3>Run summary:</h3><br/><style>\n",
       "    table.wandb td:nth-child(1) { padding: 0 10px; text-align: right }\n",
       "    </style><table class=\"wandb\">\n",
       "<tr><td>loss</td><td>0.11926</td></tr><tr><td>_runtime</td><td>27</td></tr><tr><td>_timestamp</td><td>1646744646</td></tr><tr><td>_step</td><td>15</td></tr><tr><td>train_loss</td><td>0.11675</td></tr><tr><td>train_recall@30</td><td>0.67628</td></tr><tr><td>val_loss</td><td>0.12282</td></tr><tr><td>recall@10</td><td>0.37054</td></tr><tr><td>recall@20</td><td>0.5396</td></tr><tr><td>recall@30</td><td>0.65356</td></tr></table>"
      ],
      "text/plain": [
       "<IPython.core.display.HTML object>"
      ]
     },
     "metadata": {},
     "output_type": "display_data"
    },
    {
     "data": {
      "text/html": [
       "<h3>Run history:</h3><br/><style>\n",
       "    table.wandb td:nth-child(1) { padding: 0 10px; text-align: right }\n",
       "    </style><table class=\"wandb\">\n",
       "<tr><td>loss</td><td>█▄▃▃▃▃▃▂▂▂▂▂▂▁▁</td></tr><tr><td>_runtime</td><td>▁▁▂▂▃▃▃▄▄▅▅▅▆▆▆█</td></tr><tr><td>_timestamp</td><td>▁▁▂▂▃▃▃▄▄▅▅▅▆▆▆█</td></tr><tr><td>_step</td><td>▁▁▂▂▃▃▄▄▅▅▆▆▇▇██</td></tr><tr><td>train_loss</td><td>▁</td></tr><tr><td>train_recall@30</td><td>▁</td></tr><tr><td>val_loss</td><td>▁</td></tr><tr><td>recall@10</td><td>▁</td></tr><tr><td>recall@20</td><td>▁</td></tr><tr><td>recall@30</td><td>▁</td></tr></table><br/>"
      ],
      "text/plain": [
       "<IPython.core.display.HTML object>"
      ]
     },
     "metadata": {},
     "output_type": "display_data"
    },
    {
     "data": {
      "text/html": [
       "Synced 6 W&B file(s), 0 media file(s), 0 artifact file(s) and 0 other file(s)"
      ],
      "text/plain": [
       "<IPython.core.display.HTML object>"
      ]
     },
     "metadata": {},
     "output_type": "display_data"
    },
    {
     "data": {
      "text/html": [
       "\n",
       "                    <br/>Synced <strong style=\"color:#cdcd00\">whole-snowflake-45</strong>: <a href=\"https://wandb.ai/snovaisg/thesis_basic_deterministic_model_tunning/runs/1eiuxo3x\" target=\"_blank\">https://wandb.ai/snovaisg/thesis_basic_deterministic_model_tunning/runs/1eiuxo3x</a><br/>\n",
       "                "
      ],
      "text/plain": [
       "<IPython.core.display.HTML object>"
      ]
     },
     "metadata": {},
     "output_type": "display_data"
    },
    {
     "data": {
      "text/html": [
       "...Successfully finished last run (ID:1eiuxo3x). Initializing new run:<br/><br/>"
      ],
      "text/plain": [
       "<IPython.core.display.HTML object>"
      ]
     },
     "metadata": {},
     "output_type": "display_data"
    },
    {
     "name": "stderr",
     "output_type": "stream",
     "text": [
      "\u001b[34m\u001b[1mwandb\u001b[0m: wandb version 0.12.11 is available!  To upgrade, please run:\n",
      "\u001b[34m\u001b[1mwandb\u001b[0m:  $ pip install wandb --upgrade\n"
     ]
    },
    {
     "data": {
      "text/html": [
       "\n",
       "                Tracking run with wandb version 0.12.1<br/>\n",
       "                Syncing run <strong style=\"color:#cdcd00\">laced-voice-46</strong> to <a href=\"https://wandb.ai\" target=\"_blank\">Weights & Biases</a> <a href=\"https://docs.wandb.com/integrations/jupyter.html\" target=\"_blank\">(Documentation)</a>.<br/>\n",
       "                Project page: <a href=\"https://wandb.ai/snovaisg/thesis_basic_deterministic_model_tunning\" target=\"_blank\">https://wandb.ai/snovaisg/thesis_basic_deterministic_model_tunning</a><br/>\n",
       "                Run page: <a href=\"https://wandb.ai/snovaisg/thesis_basic_deterministic_model_tunning/runs/1votzxnm\" target=\"_blank\">https://wandb.ai/snovaisg/thesis_basic_deterministic_model_tunning/runs/1votzxnm</a><br/>\n",
       "                Run data is saved locally in <code>/Users/simaonovais/Documents/GitHub/master-thesis/wandb/run-20220308_130406-1votzxnm</code><br/><br/>\n",
       "            "
      ],
      "text/plain": [
       "<IPython.core.display.HTML object>"
      ]
     },
     "metadata": {},
     "output_type": "display_data"
    },
    {
     "data": {
      "text/html": [
       "<h1>Run(1votzxnm)</h1><iframe src=\"https://wandb.ai/snovaisg/thesis_basic_deterministic_model_tunning/runs/1votzxnm\" style=\"border:none;width:100%;height:400px\"></iframe>"
      ],
      "text/plain": [
       "<wandb.sdk.wandb_run.Run at 0x13088bd60>"
      ]
     },
     "execution_count": 9,
     "metadata": {},
     "output_type": "execute_result"
    },
    {
     "data": {
      "text/html": [
       "Finishing last run (ID:1votzxnm) before initializing another..."
      ],
      "text/plain": [
       "<IPython.core.display.HTML object>"
      ]
     },
     "metadata": {},
     "output_type": "display_data"
    },
    {
     "data": {
      "text/html": [
       "<br/>Waiting for W&B process to finish, PID 18673<br/>Program ended successfully."
      ],
      "text/plain": [
       "<IPython.core.display.HTML object>"
      ]
     },
     "metadata": {},
     "output_type": "display_data"
    },
    {
     "data": {
      "text/html": [
       "Find user logs for this run at: <code>/Users/simaonovais/Documents/GitHub/master-thesis/wandb/run-20220308_130406-1votzxnm/logs/debug.log</code>"
      ],
      "text/plain": [
       "<IPython.core.display.HTML object>"
      ]
     },
     "metadata": {},
     "output_type": "display_data"
    },
    {
     "data": {
      "text/html": [
       "Find internal logs for this run at: <code>/Users/simaonovais/Documents/GitHub/master-thesis/wandb/run-20220308_130406-1votzxnm/logs/debug-internal.log</code>"
      ],
      "text/plain": [
       "<IPython.core.display.HTML object>"
      ]
     },
     "metadata": {},
     "output_type": "display_data"
    },
    {
     "data": {
      "text/html": [
       "<h3>Run summary:</h3><br/><style>\n",
       "    table.wandb td:nth-child(1) { padding: 0 10px; text-align: right }\n",
       "    </style><table class=\"wandb\">\n",
       "<tr><td>loss</td><td>0.10417</td></tr><tr><td>_runtime</td><td>26</td></tr><tr><td>_timestamp</td><td>1646744747</td></tr><tr><td>_step</td><td>15</td></tr><tr><td>train_loss</td><td>0.10099</td></tr><tr><td>train_recall@30</td><td>0.76696</td></tr><tr><td>val_loss</td><td>0.11607</td></tr><tr><td>recall@10</td><td>0.43566</td></tr><tr><td>recall@20</td><td>0.60523</td></tr><tr><td>recall@30</td><td>0.70425</td></tr></table>"
      ],
      "text/plain": [
       "<IPython.core.display.HTML object>"
      ]
     },
     "metadata": {},
     "output_type": "display_data"
    },
    {
     "data": {
      "text/html": [
       "<h3>Run history:</h3><br/><style>\n",
       "    table.wandb td:nth-child(1) { padding: 0 10px; text-align: right }\n",
       "    </style><table class=\"wandb\">\n",
       "<tr><td>loss</td><td>█▄▃▃▂▂▂▂▂▁▁▁▁▁▁</td></tr><tr><td>_runtime</td><td>▁▁▂▂▂▃▃▃▄▄▅▅▅▆▆█</td></tr><tr><td>_timestamp</td><td>▁▁▂▂▂▃▃▃▄▄▅▅▅▆▆█</td></tr><tr><td>_step</td><td>▁▁▂▂▃▃▄▄▅▅▆▆▇▇██</td></tr><tr><td>train_loss</td><td>▁</td></tr><tr><td>train_recall@30</td><td>▁</td></tr><tr><td>val_loss</td><td>▁</td></tr><tr><td>recall@10</td><td>▁</td></tr><tr><td>recall@20</td><td>▁</td></tr><tr><td>recall@30</td><td>▁</td></tr></table><br/>"
      ],
      "text/plain": [
       "<IPython.core.display.HTML object>"
      ]
     },
     "metadata": {},
     "output_type": "display_data"
    },
    {
     "data": {
      "text/html": [
       "Synced 6 W&B file(s), 0 media file(s), 2 artifact file(s) and 1 other file(s)"
      ],
      "text/plain": [
       "<IPython.core.display.HTML object>"
      ]
     },
     "metadata": {},
     "output_type": "display_data"
    },
    {
     "data": {
      "text/html": [
       "\n",
       "                    <br/>Synced <strong style=\"color:#cdcd00\">laced-voice-46</strong>: <a href=\"https://wandb.ai/snovaisg/thesis_basic_deterministic_model_tunning/runs/1votzxnm\" target=\"_blank\">https://wandb.ai/snovaisg/thesis_basic_deterministic_model_tunning/runs/1votzxnm</a><br/>\n",
       "                "
      ],
      "text/plain": [
       "<IPython.core.display.HTML object>"
      ]
     },
     "metadata": {},
     "output_type": "display_data"
    },
    {
     "data": {
      "text/html": [
       "...Successfully finished last run (ID:1votzxnm). Initializing new run:<br/><br/>"
      ],
      "text/plain": [
       "<IPython.core.display.HTML object>"
      ]
     },
     "metadata": {},
     "output_type": "display_data"
    },
    {
     "name": "stderr",
     "output_type": "stream",
     "text": [
      "\u001b[34m\u001b[1mwandb\u001b[0m: wandb version 0.12.11 is available!  To upgrade, please run:\n",
      "\u001b[34m\u001b[1mwandb\u001b[0m:  $ pip install wandb --upgrade\n"
     ]
    },
    {
     "data": {
      "text/html": [
       "\n",
       "                Tracking run with wandb version 0.12.1<br/>\n",
       "                Syncing run <strong style=\"color:#cdcd00\">swept-elevator-47</strong> to <a href=\"https://wandb.ai\" target=\"_blank\">Weights & Biases</a> <a href=\"https://docs.wandb.com/integrations/jupyter.html\" target=\"_blank\">(Documentation)</a>.<br/>\n",
       "                Project page: <a href=\"https://wandb.ai/snovaisg/thesis_basic_deterministic_model_tunning\" target=\"_blank\">https://wandb.ai/snovaisg/thesis_basic_deterministic_model_tunning</a><br/>\n",
       "                Run page: <a href=\"https://wandb.ai/snovaisg/thesis_basic_deterministic_model_tunning/runs/2pyqkern\" target=\"_blank\">https://wandb.ai/snovaisg/thesis_basic_deterministic_model_tunning/runs/2pyqkern</a><br/>\n",
       "                Run data is saved locally in <code>/Users/simaonovais/Documents/GitHub/master-thesis/wandb/run-20220308_130547-2pyqkern</code><br/><br/>\n",
       "            "
      ],
      "text/plain": [
       "<IPython.core.display.HTML object>"
      ]
     },
     "metadata": {},
     "output_type": "display_data"
    },
    {
     "data": {
      "text/html": [
       "<h1>Run(2pyqkern)</h1><iframe src=\"https://wandb.ai/snovaisg/thesis_basic_deterministic_model_tunning/runs/2pyqkern\" style=\"border:none;width:100%;height:400px\"></iframe>"
      ],
      "text/plain": [
       "<wandb.sdk.wandb_run.Run at 0x13099ba90>"
      ]
     },
     "execution_count": 9,
     "metadata": {},
     "output_type": "execute_result"
    },
    {
     "data": {
      "text/html": [
       "Finishing last run (ID:2pyqkern) before initializing another..."
      ],
      "text/plain": [
       "<IPython.core.display.HTML object>"
      ]
     },
     "metadata": {},
     "output_type": "display_data"
    },
    {
     "data": {
      "text/html": [
       "<br/>Waiting for W&B process to finish, PID 18691<br/>Program ended successfully."
      ],
      "text/plain": [
       "<IPython.core.display.HTML object>"
      ]
     },
     "metadata": {},
     "output_type": "display_data"
    },
    {
     "data": {
      "text/html": [
       "Find user logs for this run at: <code>/Users/simaonovais/Documents/GitHub/master-thesis/wandb/run-20220308_130547-2pyqkern/logs/debug.log</code>"
      ],
      "text/plain": [
       "<IPython.core.display.HTML object>"
      ]
     },
     "metadata": {},
     "output_type": "display_data"
    },
    {
     "data": {
      "text/html": [
       "Find internal logs for this run at: <code>/Users/simaonovais/Documents/GitHub/master-thesis/wandb/run-20220308_130547-2pyqkern/logs/debug-internal.log</code>"
      ],
      "text/plain": [
       "<IPython.core.display.HTML object>"
      ]
     },
     "metadata": {},
     "output_type": "display_data"
    },
    {
     "data": {
      "text/html": [
       "<h3>Run summary:</h3><br/><style>\n",
       "    table.wandb td:nth-child(1) { padding: 0 10px; text-align: right }\n",
       "    </style><table class=\"wandb\">\n",
       "<tr><td>loss</td><td>0.11792</td></tr><tr><td>_runtime</td><td>26</td></tr><tr><td>_timestamp</td><td>1646744781</td></tr><tr><td>_step</td><td>15</td></tr><tr><td>train_loss</td><td>0.11566</td></tr><tr><td>train_recall@30</td><td>0.69438</td></tr><tr><td>val_loss</td><td>0.12303</td></tr><tr><td>recall@10</td><td>0.38325</td></tr><tr><td>recall@20</td><td>0.55496</td></tr><tr><td>recall@30</td><td>0.66643</td></tr></table>"
      ],
      "text/plain": [
       "<IPython.core.display.HTML object>"
      ]
     },
     "metadata": {},
     "output_type": "display_data"
    },
    {
     "data": {
      "text/html": [
       "<h3>Run history:</h3><br/><style>\n",
       "    table.wandb td:nth-child(1) { padding: 0 10px; text-align: right }\n",
       "    </style><table class=\"wandb\">\n",
       "<tr><td>loss</td><td>█▄▃▃▃▃▂▂▂▂▂▁▁▁▁</td></tr><tr><td>_runtime</td><td>▁▁▂▂▃▃▃▄▄▅▅▅▅▆▆█</td></tr><tr><td>_timestamp</td><td>▁▁▂▂▃▃▃▄▄▅▅▅▅▆▆█</td></tr><tr><td>_step</td><td>▁▁▂▂▃▃▄▄▅▅▆▆▇▇██</td></tr><tr><td>train_loss</td><td>▁</td></tr><tr><td>train_recall@30</td><td>▁</td></tr><tr><td>val_loss</td><td>▁</td></tr><tr><td>recall@10</td><td>▁</td></tr><tr><td>recall@20</td><td>▁</td></tr><tr><td>recall@30</td><td>▁</td></tr></table><br/>"
      ],
      "text/plain": [
       "<IPython.core.display.HTML object>"
      ]
     },
     "metadata": {},
     "output_type": "display_data"
    },
    {
     "data": {
      "text/html": [
       "Synced 6 W&B file(s), 0 media file(s), 0 artifact file(s) and 0 other file(s)"
      ],
      "text/plain": [
       "<IPython.core.display.HTML object>"
      ]
     },
     "metadata": {},
     "output_type": "display_data"
    },
    {
     "data": {
      "text/html": [
       "\n",
       "                    <br/>Synced <strong style=\"color:#cdcd00\">swept-elevator-47</strong>: <a href=\"https://wandb.ai/snovaisg/thesis_basic_deterministic_model_tunning/runs/2pyqkern\" target=\"_blank\">https://wandb.ai/snovaisg/thesis_basic_deterministic_model_tunning/runs/2pyqkern</a><br/>\n",
       "                "
      ],
      "text/plain": [
       "<IPython.core.display.HTML object>"
      ]
     },
     "metadata": {},
     "output_type": "display_data"
    },
    {
     "data": {
      "text/html": [
       "...Successfully finished last run (ID:2pyqkern). Initializing new run:<br/><br/>"
      ],
      "text/plain": [
       "<IPython.core.display.HTML object>"
      ]
     },
     "metadata": {},
     "output_type": "display_data"
    },
    {
     "name": "stderr",
     "output_type": "stream",
     "text": [
      "\u001b[34m\u001b[1mwandb\u001b[0m: wandb version 0.12.11 is available!  To upgrade, please run:\n",
      "\u001b[34m\u001b[1mwandb\u001b[0m:  $ pip install wandb --upgrade\n"
     ]
    },
    {
     "data": {
      "text/html": [
       "\n",
       "                Tracking run with wandb version 0.12.1<br/>\n",
       "                Syncing run <strong style=\"color:#cdcd00\">vocal-dust-48</strong> to <a href=\"https://wandb.ai\" target=\"_blank\">Weights & Biases</a> <a href=\"https://docs.wandb.com/integrations/jupyter.html\" target=\"_blank\">(Documentation)</a>.<br/>\n",
       "                Project page: <a href=\"https://wandb.ai/snovaisg/thesis_basic_deterministic_model_tunning\" target=\"_blank\">https://wandb.ai/snovaisg/thesis_basic_deterministic_model_tunning</a><br/>\n",
       "                Run page: <a href=\"https://wandb.ai/snovaisg/thesis_basic_deterministic_model_tunning/runs/e3m5j378\" target=\"_blank\">https://wandb.ai/snovaisg/thesis_basic_deterministic_model_tunning/runs/e3m5j378</a><br/>\n",
       "                Run data is saved locally in <code>/Users/simaonovais/Documents/GitHub/master-thesis/wandb/run-20220308_130621-e3m5j378</code><br/><br/>\n",
       "            "
      ],
      "text/plain": [
       "<IPython.core.display.HTML object>"
      ]
     },
     "metadata": {},
     "output_type": "display_data"
    },
    {
     "data": {
      "text/html": [
       "<h1>Run(e3m5j378)</h1><iframe src=\"https://wandb.ai/snovaisg/thesis_basic_deterministic_model_tunning/runs/e3m5j378\" style=\"border:none;width:100%;height:400px\"></iframe>"
      ],
      "text/plain": [
       "<wandb.sdk.wandb_run.Run at 0x13092e880>"
      ]
     },
     "execution_count": 9,
     "metadata": {},
     "output_type": "execute_result"
    },
    {
     "data": {
      "text/html": [
       "Finishing last run (ID:e3m5j378) before initializing another..."
      ],
      "text/plain": [
       "<IPython.core.display.HTML object>"
      ]
     },
     "metadata": {},
     "output_type": "display_data"
    },
    {
     "data": {
      "text/html": [
       "<br/>Waiting for W&B process to finish, PID 18711<br/>Program ended successfully."
      ],
      "text/plain": [
       "<IPython.core.display.HTML object>"
      ]
     },
     "metadata": {},
     "output_type": "display_data"
    },
    {
     "data": {
      "text/html": [
       "Find user logs for this run at: <code>/Users/simaonovais/Documents/GitHub/master-thesis/wandb/run-20220308_130621-e3m5j378/logs/debug.log</code>"
      ],
      "text/plain": [
       "<IPython.core.display.HTML object>"
      ]
     },
     "metadata": {},
     "output_type": "display_data"
    },
    {
     "data": {
      "text/html": [
       "Find internal logs for this run at: <code>/Users/simaonovais/Documents/GitHub/master-thesis/wandb/run-20220308_130621-e3m5j378/logs/debug-internal.log</code>"
      ],
      "text/plain": [
       "<IPython.core.display.HTML object>"
      ]
     },
     "metadata": {},
     "output_type": "display_data"
    },
    {
     "data": {
      "text/html": [
       "<h3>Run summary:</h3><br/><style>\n",
       "    table.wandb td:nth-child(1) { padding: 0 10px; text-align: right }\n",
       "    </style><table class=\"wandb\">\n",
       "<tr><td>loss</td><td>0.09627</td></tr><tr><td>_runtime</td><td>27</td></tr><tr><td>_timestamp</td><td>1646744838</td></tr><tr><td>_step</td><td>15</td></tr><tr><td>train_loss</td><td>0.09336</td></tr><tr><td>train_recall@30</td><td>0.79566</td></tr><tr><td>val_loss</td><td>0.11503</td></tr><tr><td>recall@10</td><td>0.4473</td></tr><tr><td>recall@20</td><td>0.60705</td></tr><tr><td>recall@30</td><td>0.71382</td></tr></table>"
      ],
      "text/plain": [
       "<IPython.core.display.HTML object>"
      ]
     },
     "metadata": {},
     "output_type": "display_data"
    },
    {
     "data": {
      "text/html": [
       "<h3>Run history:</h3><br/><style>\n",
       "    table.wandb td:nth-child(1) { padding: 0 10px; text-align: right }\n",
       "    </style><table class=\"wandb\">\n",
       "<tr><td>loss</td><td>█▄▃▃▂▂▂▂▂▂▁▁▁▁▁</td></tr><tr><td>_runtime</td><td>▁▁▂▂▃▃▃▄▄▅▅▅▆▆▆█</td></tr><tr><td>_timestamp</td><td>▁▁▂▂▃▃▃▄▄▅▅▅▆▆▆█</td></tr><tr><td>_step</td><td>▁▁▂▂▃▃▄▄▅▅▆▆▇▇██</td></tr><tr><td>train_loss</td><td>▁</td></tr><tr><td>train_recall@30</td><td>▁</td></tr><tr><td>val_loss</td><td>▁</td></tr><tr><td>recall@10</td><td>▁</td></tr><tr><td>recall@20</td><td>▁</td></tr><tr><td>recall@30</td><td>▁</td></tr></table><br/>"
      ],
      "text/plain": [
       "<IPython.core.display.HTML object>"
      ]
     },
     "metadata": {},
     "output_type": "display_data"
    },
    {
     "data": {
      "text/html": [
       "Synced 6 W&B file(s), 0 media file(s), 2 artifact file(s) and 1 other file(s)"
      ],
      "text/plain": [
       "<IPython.core.display.HTML object>"
      ]
     },
     "metadata": {},
     "output_type": "display_data"
    },
    {
     "data": {
      "text/html": [
       "\n",
       "                    <br/>Synced <strong style=\"color:#cdcd00\">vocal-dust-48</strong>: <a href=\"https://wandb.ai/snovaisg/thesis_basic_deterministic_model_tunning/runs/e3m5j378\" target=\"_blank\">https://wandb.ai/snovaisg/thesis_basic_deterministic_model_tunning/runs/e3m5j378</a><br/>\n",
       "                "
      ],
      "text/plain": [
       "<IPython.core.display.HTML object>"
      ]
     },
     "metadata": {},
     "output_type": "display_data"
    },
    {
     "data": {
      "text/html": [
       "...Successfully finished last run (ID:e3m5j378). Initializing new run:<br/><br/>"
      ],
      "text/plain": [
       "<IPython.core.display.HTML object>"
      ]
     },
     "metadata": {},
     "output_type": "display_data"
    },
    {
     "name": "stderr",
     "output_type": "stream",
     "text": [
      "\u001b[34m\u001b[1mwandb\u001b[0m: wandb version 0.12.11 is available!  To upgrade, please run:\n",
      "\u001b[34m\u001b[1mwandb\u001b[0m:  $ pip install wandb --upgrade\n"
     ]
    },
    {
     "data": {
      "text/html": [
       "\n",
       "                Tracking run with wandb version 0.12.1<br/>\n",
       "                Syncing run <strong style=\"color:#cdcd00\">trim-universe-49</strong> to <a href=\"https://wandb.ai\" target=\"_blank\">Weights & Biases</a> <a href=\"https://docs.wandb.com/integrations/jupyter.html\" target=\"_blank\">(Documentation)</a>.<br/>\n",
       "                Project page: <a href=\"https://wandb.ai/snovaisg/thesis_basic_deterministic_model_tunning\" target=\"_blank\">https://wandb.ai/snovaisg/thesis_basic_deterministic_model_tunning</a><br/>\n",
       "                Run page: <a href=\"https://wandb.ai/snovaisg/thesis_basic_deterministic_model_tunning/runs/2mf6e2y4\" target=\"_blank\">https://wandb.ai/snovaisg/thesis_basic_deterministic_model_tunning/runs/2mf6e2y4</a><br/>\n",
       "                Run data is saved locally in <code>/Users/simaonovais/Documents/GitHub/master-thesis/wandb/run-20220308_130718-2mf6e2y4</code><br/><br/>\n",
       "            "
      ],
      "text/plain": [
       "<IPython.core.display.HTML object>"
      ]
     },
     "metadata": {},
     "output_type": "display_data"
    },
    {
     "data": {
      "text/html": [
       "<h1>Run(2mf6e2y4)</h1><iframe src=\"https://wandb.ai/snovaisg/thesis_basic_deterministic_model_tunning/runs/2mf6e2y4\" style=\"border:none;width:100%;height:400px\"></iframe>"
      ],
      "text/plain": [
       "<wandb.sdk.wandb_run.Run at 0x130994100>"
      ]
     },
     "execution_count": 9,
     "metadata": {},
     "output_type": "execute_result"
    },
    {
     "data": {
      "text/html": [
       "Finishing last run (ID:2mf6e2y4) before initializing another..."
      ],
      "text/plain": [
       "<IPython.core.display.HTML object>"
      ]
     },
     "metadata": {},
     "output_type": "display_data"
    },
    {
     "data": {
      "text/html": [
       "<br/>Waiting for W&B process to finish, PID 18729<br/>Program ended successfully."
      ],
      "text/plain": [
       "<IPython.core.display.HTML object>"
      ]
     },
     "metadata": {},
     "output_type": "display_data"
    },
    {
     "data": {
      "text/html": [
       "Find user logs for this run at: <code>/Users/simaonovais/Documents/GitHub/master-thesis/wandb/run-20220308_130718-2mf6e2y4/logs/debug.log</code>"
      ],
      "text/plain": [
       "<IPython.core.display.HTML object>"
      ]
     },
     "metadata": {},
     "output_type": "display_data"
    },
    {
     "data": {
      "text/html": [
       "Find internal logs for this run at: <code>/Users/simaonovais/Documents/GitHub/master-thesis/wandb/run-20220308_130718-2mf6e2y4/logs/debug-internal.log</code>"
      ],
      "text/plain": [
       "<IPython.core.display.HTML object>"
      ]
     },
     "metadata": {},
     "output_type": "display_data"
    },
    {
     "data": {
      "text/html": [
       "<h3>Run summary:</h3><br/><style>\n",
       "    table.wandb td:nth-child(1) { padding: 0 10px; text-align: right }\n",
       "    </style><table class=\"wandb\">\n",
       "<tr><td>loss</td><td>0.11039</td></tr><tr><td>_runtime</td><td>31</td></tr><tr><td>_timestamp</td><td>1646744876</td></tr><tr><td>_step</td><td>15</td></tr><tr><td>train_loss</td><td>0.10771</td></tr><tr><td>train_recall@30</td><td>0.72296</td></tr><tr><td>val_loss</td><td>0.11953</td></tr><tr><td>recall@10</td><td>0.40085</td></tr><tr><td>recall@20</td><td>0.5704</td></tr><tr><td>recall@30</td><td>0.67656</td></tr></table>"
      ],
      "text/plain": [
       "<IPython.core.display.HTML object>"
      ]
     },
     "metadata": {},
     "output_type": "display_data"
    },
    {
     "data": {
      "text/html": [
       "<h3>Run history:</h3><br/><style>\n",
       "    table.wandb td:nth-child(1) { padding: 0 10px; text-align: right }\n",
       "    </style><table class=\"wandb\">\n",
       "<tr><td>loss</td><td>█▄▃▃▃▃▃▂▂▂▂▂▁▁▁</td></tr><tr><td>_runtime</td><td>▁▂▂▂▃▃▃▄▄▅▅▅▆▆▆█</td></tr><tr><td>_timestamp</td><td>▁▂▂▂▃▃▃▄▄▅▅▅▆▆▆█</td></tr><tr><td>_step</td><td>▁▁▂▂▃▃▄▄▅▅▆▆▇▇██</td></tr><tr><td>train_loss</td><td>▁</td></tr><tr><td>train_recall@30</td><td>▁</td></tr><tr><td>val_loss</td><td>▁</td></tr><tr><td>recall@10</td><td>▁</td></tr><tr><td>recall@20</td><td>▁</td></tr><tr><td>recall@30</td><td>▁</td></tr></table><br/>"
      ],
      "text/plain": [
       "<IPython.core.display.HTML object>"
      ]
     },
     "metadata": {},
     "output_type": "display_data"
    },
    {
     "data": {
      "text/html": [
       "Synced 6 W&B file(s), 0 media file(s), 0 artifact file(s) and 0 other file(s)"
      ],
      "text/plain": [
       "<IPython.core.display.HTML object>"
      ]
     },
     "metadata": {},
     "output_type": "display_data"
    },
    {
     "data": {
      "text/html": [
       "\n",
       "                    <br/>Synced <strong style=\"color:#cdcd00\">trim-universe-49</strong>: <a href=\"https://wandb.ai/snovaisg/thesis_basic_deterministic_model_tunning/runs/2mf6e2y4\" target=\"_blank\">https://wandb.ai/snovaisg/thesis_basic_deterministic_model_tunning/runs/2mf6e2y4</a><br/>\n",
       "                "
      ],
      "text/plain": [
       "<IPython.core.display.HTML object>"
      ]
     },
     "metadata": {},
     "output_type": "display_data"
    },
    {
     "data": {
      "text/html": [
       "...Successfully finished last run (ID:2mf6e2y4). Initializing new run:<br/><br/>"
      ],
      "text/plain": [
       "<IPython.core.display.HTML object>"
      ]
     },
     "metadata": {},
     "output_type": "display_data"
    },
    {
     "name": "stderr",
     "output_type": "stream",
     "text": [
      "\u001b[34m\u001b[1mwandb\u001b[0m: wandb version 0.12.11 is available!  To upgrade, please run:\n",
      "\u001b[34m\u001b[1mwandb\u001b[0m:  $ pip install wandb --upgrade\n"
     ]
    },
    {
     "data": {
      "text/html": [
       "\n",
       "                Tracking run with wandb version 0.12.1<br/>\n",
       "                Syncing run <strong style=\"color:#cdcd00\">pleasant-music-50</strong> to <a href=\"https://wandb.ai\" target=\"_blank\">Weights & Biases</a> <a href=\"https://docs.wandb.com/integrations/jupyter.html\" target=\"_blank\">(Documentation)</a>.<br/>\n",
       "                Project page: <a href=\"https://wandb.ai/snovaisg/thesis_basic_deterministic_model_tunning\" target=\"_blank\">https://wandb.ai/snovaisg/thesis_basic_deterministic_model_tunning</a><br/>\n",
       "                Run page: <a href=\"https://wandb.ai/snovaisg/thesis_basic_deterministic_model_tunning/runs/128xebku\" target=\"_blank\">https://wandb.ai/snovaisg/thesis_basic_deterministic_model_tunning/runs/128xebku</a><br/>\n",
       "                Run data is saved locally in <code>/Users/simaonovais/Documents/GitHub/master-thesis/wandb/run-20220308_130756-128xebku</code><br/><br/>\n",
       "            "
      ],
      "text/plain": [
       "<IPython.core.display.HTML object>"
      ]
     },
     "metadata": {},
     "output_type": "display_data"
    },
    {
     "data": {
      "text/html": [
       "<h1>Run(128xebku)</h1><iframe src=\"https://wandb.ai/snovaisg/thesis_basic_deterministic_model_tunning/runs/128xebku\" style=\"border:none;width:100%;height:400px\"></iframe>"
      ],
      "text/plain": [
       "<wandb.sdk.wandb_run.Run at 0x130a9af70>"
      ]
     },
     "execution_count": 9,
     "metadata": {},
     "output_type": "execute_result"
    },
    {
     "data": {
      "text/html": [
       "Finishing last run (ID:128xebku) before initializing another..."
      ],
      "text/plain": [
       "<IPython.core.display.HTML object>"
      ]
     },
     "metadata": {},
     "output_type": "display_data"
    },
    {
     "data": {
      "text/html": [
       "<br/>Waiting for W&B process to finish, PID 18747<br/>Program ended successfully."
      ],
      "text/plain": [
       "<IPython.core.display.HTML object>"
      ]
     },
     "metadata": {},
     "output_type": "display_data"
    },
    {
     "data": {
      "text/html": [
       "Find user logs for this run at: <code>/Users/simaonovais/Documents/GitHub/master-thesis/wandb/run-20220308_130756-128xebku/logs/debug.log</code>"
      ],
      "text/plain": [
       "<IPython.core.display.HTML object>"
      ]
     },
     "metadata": {},
     "output_type": "display_data"
    },
    {
     "data": {
      "text/html": [
       "Find internal logs for this run at: <code>/Users/simaonovais/Documents/GitHub/master-thesis/wandb/run-20220308_130756-128xebku/logs/debug-internal.log</code>"
      ],
      "text/plain": [
       "<IPython.core.display.HTML object>"
      ]
     },
     "metadata": {},
     "output_type": "display_data"
    },
    {
     "data": {
      "text/html": [
       "<h3>Run summary:</h3><br/><style>\n",
       "    table.wandb td:nth-child(1) { padding: 0 10px; text-align: right }\n",
       "    </style><table class=\"wandb\">\n",
       "<tr><td>loss</td><td>0.09593</td></tr><tr><td>_runtime</td><td>29</td></tr><tr><td>_timestamp</td><td>1646744908</td></tr><tr><td>_step</td><td>15</td></tr><tr><td>train_loss</td><td>0.09313</td></tr><tr><td>train_recall@30</td><td>0.79649</td></tr><tr><td>val_loss</td><td>0.11249</td></tr><tr><td>recall@10</td><td>0.45141</td></tr><tr><td>recall@20</td><td>0.61744</td></tr><tr><td>recall@30</td><td>0.72081</td></tr></table>"
      ],
      "text/plain": [
       "<IPython.core.display.HTML object>"
      ]
     },
     "metadata": {},
     "output_type": "display_data"
    },
    {
     "data": {
      "text/html": [
       "<h3>Run history:</h3><br/><style>\n",
       "    table.wandb td:nth-child(1) { padding: 0 10px; text-align: right }\n",
       "    </style><table class=\"wandb\">\n",
       "<tr><td>loss</td><td>█▄▃▃▂▂▂▂▂▂▁▁▁▁▁</td></tr><tr><td>_runtime</td><td>▁▁▂▂▂▃▃▃▄▄▅▅▆▆▆█</td></tr><tr><td>_timestamp</td><td>▁▁▂▂▂▃▃▃▄▄▅▅▆▆▆█</td></tr><tr><td>_step</td><td>▁▁▂▂▃▃▄▄▅▅▆▆▇▇██</td></tr><tr><td>train_loss</td><td>▁</td></tr><tr><td>train_recall@30</td><td>▁</td></tr><tr><td>val_loss</td><td>▁</td></tr><tr><td>recall@10</td><td>▁</td></tr><tr><td>recall@20</td><td>▁</td></tr><tr><td>recall@30</td><td>▁</td></tr></table><br/>"
      ],
      "text/plain": [
       "<IPython.core.display.HTML object>"
      ]
     },
     "metadata": {},
     "output_type": "display_data"
    },
    {
     "data": {
      "text/html": [
       "Synced 6 W&B file(s), 0 media file(s), 2 artifact file(s) and 1 other file(s)"
      ],
      "text/plain": [
       "<IPython.core.display.HTML object>"
      ]
     },
     "metadata": {},
     "output_type": "display_data"
    },
    {
     "data": {
      "text/html": [
       "\n",
       "                    <br/>Synced <strong style=\"color:#cdcd00\">pleasant-music-50</strong>: <a href=\"https://wandb.ai/snovaisg/thesis_basic_deterministic_model_tunning/runs/128xebku\" target=\"_blank\">https://wandb.ai/snovaisg/thesis_basic_deterministic_model_tunning/runs/128xebku</a><br/>\n",
       "                "
      ],
      "text/plain": [
       "<IPython.core.display.HTML object>"
      ]
     },
     "metadata": {},
     "output_type": "display_data"
    },
    {
     "data": {
      "text/html": [
       "...Successfully finished last run (ID:128xebku). Initializing new run:<br/><br/>"
      ],
      "text/plain": [
       "<IPython.core.display.HTML object>"
      ]
     },
     "metadata": {},
     "output_type": "display_data"
    },
    {
     "name": "stderr",
     "output_type": "stream",
     "text": [
      "\u001b[34m\u001b[1mwandb\u001b[0m: wandb version 0.12.11 is available!  To upgrade, please run:\n",
      "\u001b[34m\u001b[1mwandb\u001b[0m:  $ pip install wandb --upgrade\n"
     ]
    },
    {
     "data": {
      "text/html": [
       "\n",
       "                Tracking run with wandb version 0.12.1<br/>\n",
       "                Syncing run <strong style=\"color:#cdcd00\">fresh-disco-51</strong> to <a href=\"https://wandb.ai\" target=\"_blank\">Weights & Biases</a> <a href=\"https://docs.wandb.com/integrations/jupyter.html\" target=\"_blank\">(Documentation)</a>.<br/>\n",
       "                Project page: <a href=\"https://wandb.ai/snovaisg/thesis_basic_deterministic_model_tunning\" target=\"_blank\">https://wandb.ai/snovaisg/thesis_basic_deterministic_model_tunning</a><br/>\n",
       "                Run page: <a href=\"https://wandb.ai/snovaisg/thesis_basic_deterministic_model_tunning/runs/12iaiyk5\" target=\"_blank\">https://wandb.ai/snovaisg/thesis_basic_deterministic_model_tunning/runs/12iaiyk5</a><br/>\n",
       "                Run data is saved locally in <code>/Users/simaonovais/Documents/GitHub/master-thesis/wandb/run-20220308_130828-12iaiyk5</code><br/><br/>\n",
       "            "
      ],
      "text/plain": [
       "<IPython.core.display.HTML object>"
      ]
     },
     "metadata": {},
     "output_type": "display_data"
    },
    {
     "data": {
      "text/html": [
       "<h1>Run(12iaiyk5)</h1><iframe src=\"https://wandb.ai/snovaisg/thesis_basic_deterministic_model_tunning/runs/12iaiyk5\" style=\"border:none;width:100%;height:400px\"></iframe>"
      ],
      "text/plain": [
       "<wandb.sdk.wandb_run.Run at 0x130a9abb0>"
      ]
     },
     "execution_count": 9,
     "metadata": {},
     "output_type": "execute_result"
    },
    {
     "data": {
      "text/html": [
       "Finishing last run (ID:12iaiyk5) before initializing another..."
      ],
      "text/plain": [
       "<IPython.core.display.HTML object>"
      ]
     },
     "metadata": {},
     "output_type": "display_data"
    },
    {
     "data": {
      "text/html": [
       "<br/>Waiting for W&B process to finish, PID 18908<br/>Program ended successfully."
      ],
      "text/plain": [
       "<IPython.core.display.HTML object>"
      ]
     },
     "metadata": {},
     "output_type": "display_data"
    },
    {
     "data": {
      "text/html": [
       "Find user logs for this run at: <code>/Users/simaonovais/Documents/GitHub/master-thesis/wandb/run-20220308_130828-12iaiyk5/logs/debug.log</code>"
      ],
      "text/plain": [
       "<IPython.core.display.HTML object>"
      ]
     },
     "metadata": {},
     "output_type": "display_data"
    },
    {
     "data": {
      "text/html": [
       "Find internal logs for this run at: <code>/Users/simaonovais/Documents/GitHub/master-thesis/wandb/run-20220308_130828-12iaiyk5/logs/debug-internal.log</code>"
      ],
      "text/plain": [
       "<IPython.core.display.HTML object>"
      ]
     },
     "metadata": {},
     "output_type": "display_data"
    },
    {
     "data": {
      "text/html": [
       "<h3>Run summary:</h3><br/><style>\n",
       "    table.wandb td:nth-child(1) { padding: 0 10px; text-align: right }\n",
       "    </style><table class=\"wandb\">\n",
       "<tr><td>loss</td><td>0.11261</td></tr><tr><td>_runtime</td><td>34</td></tr><tr><td>_timestamp</td><td>1646744950</td></tr><tr><td>_step</td><td>15</td></tr><tr><td>train_loss</td><td>0.11041</td></tr><tr><td>train_recall@30</td><td>0.71027</td></tr><tr><td>val_loss</td><td>0.11937</td></tr><tr><td>recall@10</td><td>0.39634</td></tr><tr><td>recall@20</td><td>0.5649</td></tr><tr><td>recall@30</td><td>0.67238</td></tr></table>"
      ],
      "text/plain": [
       "<IPython.core.display.HTML object>"
      ]
     },
     "metadata": {},
     "output_type": "display_data"
    },
    {
     "data": {
      "text/html": [
       "<h3>Run history:</h3><br/><style>\n",
       "    table.wandb td:nth-child(1) { padding: 0 10px; text-align: right }\n",
       "    </style><table class=\"wandb\">\n",
       "<tr><td>loss</td><td>█▃▃▃▃▃▃▂▂▂▂▂▁▁▁</td></tr><tr><td>_runtime</td><td>▁▁▂▂▃▃▃▄▄▅▅▅▆▆▇█</td></tr><tr><td>_timestamp</td><td>▁▁▂▂▃▃▃▄▄▅▅▅▆▆▇█</td></tr><tr><td>_step</td><td>▁▁▂▂▃▃▄▄▅▅▆▆▇▇██</td></tr><tr><td>train_loss</td><td>▁</td></tr><tr><td>train_recall@30</td><td>▁</td></tr><tr><td>val_loss</td><td>▁</td></tr><tr><td>recall@10</td><td>▁</td></tr><tr><td>recall@20</td><td>▁</td></tr><tr><td>recall@30</td><td>▁</td></tr></table><br/>"
      ],
      "text/plain": [
       "<IPython.core.display.HTML object>"
      ]
     },
     "metadata": {},
     "output_type": "display_data"
    },
    {
     "data": {
      "text/html": [
       "Synced 6 W&B file(s), 0 media file(s), 0 artifact file(s) and 0 other file(s)"
      ],
      "text/plain": [
       "<IPython.core.display.HTML object>"
      ]
     },
     "metadata": {},
     "output_type": "display_data"
    },
    {
     "data": {
      "text/html": [
       "\n",
       "                    <br/>Synced <strong style=\"color:#cdcd00\">fresh-disco-51</strong>: <a href=\"https://wandb.ai/snovaisg/thesis_basic_deterministic_model_tunning/runs/12iaiyk5\" target=\"_blank\">https://wandb.ai/snovaisg/thesis_basic_deterministic_model_tunning/runs/12iaiyk5</a><br/>\n",
       "                "
      ],
      "text/plain": [
       "<IPython.core.display.HTML object>"
      ]
     },
     "metadata": {},
     "output_type": "display_data"
    },
    {
     "data": {
      "text/html": [
       "...Successfully finished last run (ID:12iaiyk5). Initializing new run:<br/><br/>"
      ],
      "text/plain": [
       "<IPython.core.display.HTML object>"
      ]
     },
     "metadata": {},
     "output_type": "display_data"
    },
    {
     "name": "stderr",
     "output_type": "stream",
     "text": [
      "\u001b[34m\u001b[1mwandb\u001b[0m: wandb version 0.12.11 is available!  To upgrade, please run:\n",
      "\u001b[34m\u001b[1mwandb\u001b[0m:  $ pip install wandb --upgrade\n"
     ]
    },
    {
     "data": {
      "text/html": [
       "\n",
       "                Tracking run with wandb version 0.12.1<br/>\n",
       "                Syncing run <strong style=\"color:#cdcd00\">rich-firefly-52</strong> to <a href=\"https://wandb.ai\" target=\"_blank\">Weights & Biases</a> <a href=\"https://docs.wandb.com/integrations/jupyter.html\" target=\"_blank\">(Documentation)</a>.<br/>\n",
       "                Project page: <a href=\"https://wandb.ai/snovaisg/thesis_basic_deterministic_model_tunning\" target=\"_blank\">https://wandb.ai/snovaisg/thesis_basic_deterministic_model_tunning</a><br/>\n",
       "                Run page: <a href=\"https://wandb.ai/snovaisg/thesis_basic_deterministic_model_tunning/runs/1r8ilw8o\" target=\"_blank\">https://wandb.ai/snovaisg/thesis_basic_deterministic_model_tunning/runs/1r8ilw8o</a><br/>\n",
       "                Run data is saved locally in <code>/Users/simaonovais/Documents/GitHub/master-thesis/wandb/run-20220308_130910-1r8ilw8o</code><br/><br/>\n",
       "            "
      ],
      "text/plain": [
       "<IPython.core.display.HTML object>"
      ]
     },
     "metadata": {},
     "output_type": "display_data"
    },
    {
     "data": {
      "text/html": [
       "<h1>Run(1r8ilw8o)</h1><iframe src=\"https://wandb.ai/snovaisg/thesis_basic_deterministic_model_tunning/runs/1r8ilw8o\" style=\"border:none;width:100%;height:400px\"></iframe>"
      ],
      "text/plain": [
       "<wandb.sdk.wandb_run.Run at 0x130a2e670>"
      ]
     },
     "execution_count": 9,
     "metadata": {},
     "output_type": "execute_result"
    },
    {
     "data": {
      "text/html": [
       "Finishing last run (ID:1r8ilw8o) before initializing another..."
      ],
      "text/plain": [
       "<IPython.core.display.HTML object>"
      ]
     },
     "metadata": {},
     "output_type": "display_data"
    },
    {
     "data": {
      "text/html": [
       "<br/>Waiting for W&B process to finish, PID 18955<br/>Program ended successfully."
      ],
      "text/plain": [
       "<IPython.core.display.HTML object>"
      ]
     },
     "metadata": {},
     "output_type": "display_data"
    },
    {
     "data": {
      "text/html": [
       "Find user logs for this run at: <code>/Users/simaonovais/Documents/GitHub/master-thesis/wandb/run-20220308_130910-1r8ilw8o/logs/debug.log</code>"
      ],
      "text/plain": [
       "<IPython.core.display.HTML object>"
      ]
     },
     "metadata": {},
     "output_type": "display_data"
    },
    {
     "data": {
      "text/html": [
       "Find internal logs for this run at: <code>/Users/simaonovais/Documents/GitHub/master-thesis/wandb/run-20220308_130910-1r8ilw8o/logs/debug-internal.log</code>"
      ],
      "text/plain": [
       "<IPython.core.display.HTML object>"
      ]
     },
     "metadata": {},
     "output_type": "display_data"
    },
    {
     "data": {
      "text/html": [
       "<h3>Run summary:</h3><br/><style>\n",
       "    table.wandb td:nth-child(1) { padding: 0 10px; text-align: right }\n",
       "    </style><table class=\"wandb\">\n",
       "<tr><td>loss</td><td>0.11515</td></tr><tr><td>_runtime</td><td>27</td></tr><tr><td>_timestamp</td><td>1646744980</td></tr><tr><td>_step</td><td>15</td></tr><tr><td>train_loss</td><td>0.11421</td></tr><tr><td>train_recall@30</td><td>0.71623</td></tr><tr><td>val_loss</td><td>0.12837</td></tr><tr><td>recall@10</td><td>0.38473</td></tr><tr><td>recall@20</td><td>0.54686</td></tr><tr><td>recall@30</td><td>0.65551</td></tr></table>"
      ],
      "text/plain": [
       "<IPython.core.display.HTML object>"
      ]
     },
     "metadata": {},
     "output_type": "display_data"
    },
    {
     "data": {
      "text/html": [
       "<h3>Run history:</h3><br/><style>\n",
       "    table.wandb td:nth-child(1) { padding: 0 10px; text-align: right }\n",
       "    </style><table class=\"wandb\">\n",
       "<tr><td>loss</td><td>█▄▃▂▂▂▂▂▁▁▁▁▁▂▂</td></tr><tr><td>_runtime</td><td>▁▁▂▂▃▃▄▄▄▅▅▅▅▆▆█</td></tr><tr><td>_timestamp</td><td>▁▁▂▂▃▃▄▄▄▅▅▅▅▆▆█</td></tr><tr><td>_step</td><td>▁▁▂▂▃▃▄▄▅▅▆▆▇▇██</td></tr><tr><td>train_loss</td><td>▁</td></tr><tr><td>train_recall@30</td><td>▁</td></tr><tr><td>val_loss</td><td>▁</td></tr><tr><td>recall@10</td><td>▁</td></tr><tr><td>recall@20</td><td>▁</td></tr><tr><td>recall@30</td><td>▁</td></tr></table><br/>"
      ],
      "text/plain": [
       "<IPython.core.display.HTML object>"
      ]
     },
     "metadata": {},
     "output_type": "display_data"
    },
    {
     "data": {
      "text/html": [
       "Synced 6 W&B file(s), 0 media file(s), 2 artifact file(s) and 1 other file(s)"
      ],
      "text/plain": [
       "<IPython.core.display.HTML object>"
      ]
     },
     "metadata": {},
     "output_type": "display_data"
    },
    {
     "data": {
      "text/html": [
       "\n",
       "                    <br/>Synced <strong style=\"color:#cdcd00\">rich-firefly-52</strong>: <a href=\"https://wandb.ai/snovaisg/thesis_basic_deterministic_model_tunning/runs/1r8ilw8o\" target=\"_blank\">https://wandb.ai/snovaisg/thesis_basic_deterministic_model_tunning/runs/1r8ilw8o</a><br/>\n",
       "                "
      ],
      "text/plain": [
       "<IPython.core.display.HTML object>"
      ]
     },
     "metadata": {},
     "output_type": "display_data"
    },
    {
     "data": {
      "text/html": [
       "...Successfully finished last run (ID:1r8ilw8o). Initializing new run:<br/><br/>"
      ],
      "text/plain": [
       "<IPython.core.display.HTML object>"
      ]
     },
     "metadata": {},
     "output_type": "display_data"
    },
    {
     "name": "stderr",
     "output_type": "stream",
     "text": [
      "\u001b[34m\u001b[1mwandb\u001b[0m: wandb version 0.12.11 is available!  To upgrade, please run:\n",
      "\u001b[34m\u001b[1mwandb\u001b[0m:  $ pip install wandb --upgrade\n"
     ]
    },
    {
     "data": {
      "text/html": [
       "\n",
       "                Tracking run with wandb version 0.12.1<br/>\n",
       "                Syncing run <strong style=\"color:#cdcd00\">polar-breeze-53</strong> to <a href=\"https://wandb.ai\" target=\"_blank\">Weights & Biases</a> <a href=\"https://docs.wandb.com/integrations/jupyter.html\" target=\"_blank\">(Documentation)</a>.<br/>\n",
       "                Project page: <a href=\"https://wandb.ai/snovaisg/thesis_basic_deterministic_model_tunning\" target=\"_blank\">https://wandb.ai/snovaisg/thesis_basic_deterministic_model_tunning</a><br/>\n",
       "                Run page: <a href=\"https://wandb.ai/snovaisg/thesis_basic_deterministic_model_tunning/runs/2j1eqfx7\" target=\"_blank\">https://wandb.ai/snovaisg/thesis_basic_deterministic_model_tunning/runs/2j1eqfx7</a><br/>\n",
       "                Run data is saved locally in <code>/Users/simaonovais/Documents/GitHub/master-thesis/wandb/run-20220308_130940-2j1eqfx7</code><br/><br/>\n",
       "            "
      ],
      "text/plain": [
       "<IPython.core.display.HTML object>"
      ]
     },
     "metadata": {},
     "output_type": "display_data"
    },
    {
     "data": {
      "text/html": [
       "<h1>Run(2j1eqfx7)</h1><iframe src=\"https://wandb.ai/snovaisg/thesis_basic_deterministic_model_tunning/runs/2j1eqfx7\" style=\"border:none;width:100%;height:400px\"></iframe>"
      ],
      "text/plain": [
       "<wandb.sdk.wandb_run.Run at 0x130aa4370>"
      ]
     },
     "execution_count": 9,
     "metadata": {},
     "output_type": "execute_result"
    },
    {
     "data": {
      "text/html": [
       "Finishing last run (ID:2j1eqfx7) before initializing another..."
      ],
      "text/plain": [
       "<IPython.core.display.HTML object>"
      ]
     },
     "metadata": {},
     "output_type": "display_data"
    },
    {
     "data": {
      "text/html": [
       "<br/>Waiting for W&B process to finish, PID 18972<br/>Program ended successfully."
      ],
      "text/plain": [
       "<IPython.core.display.HTML object>"
      ]
     },
     "metadata": {},
     "output_type": "display_data"
    },
    {
     "data": {
      "text/html": [
       "Find user logs for this run at: <code>/Users/simaonovais/Documents/GitHub/master-thesis/wandb/run-20220308_130940-2j1eqfx7/logs/debug.log</code>"
      ],
      "text/plain": [
       "<IPython.core.display.HTML object>"
      ]
     },
     "metadata": {},
     "output_type": "display_data"
    },
    {
     "data": {
      "text/html": [
       "Find internal logs for this run at: <code>/Users/simaonovais/Documents/GitHub/master-thesis/wandb/run-20220308_130940-2j1eqfx7/logs/debug-internal.log</code>"
      ],
      "text/plain": [
       "<IPython.core.display.HTML object>"
      ]
     },
     "metadata": {},
     "output_type": "display_data"
    },
    {
     "data": {
      "text/html": [
       "<h3>Run summary:</h3><br/><style>\n",
       "    table.wandb td:nth-child(1) { padding: 0 10px; text-align: right }\n",
       "    </style><table class=\"wandb\">\n",
       "<tr><td>loss</td><td>0.12961</td></tr><tr><td>_runtime</td><td>29</td></tr><tr><td>_timestamp</td><td>1646745020</td></tr><tr><td>_step</td><td>15</td></tr><tr><td>train_loss</td><td>0.12995</td></tr><tr><td>train_recall@30</td><td>0.63113</td></tr><tr><td>val_loss</td><td>0.13452</td></tr><tr><td>recall@10</td><td>0.32149</td></tr><tr><td>recall@20</td><td>0.48776</td></tr><tr><td>recall@30</td><td>0.61041</td></tr></table>"
      ],
      "text/plain": [
       "<IPython.core.display.HTML object>"
      ]
     },
     "metadata": {},
     "output_type": "display_data"
    },
    {
     "data": {
      "text/html": [
       "<h3>Run history:</h3><br/><style>\n",
       "    table.wandb td:nth-child(1) { padding: 0 10px; text-align: right }\n",
       "    </style><table class=\"wandb\">\n",
       "<tr><td>loss</td><td>█▄▄▃▃▃▂▃▂▂▂▁▁▁▁</td></tr><tr><td>_runtime</td><td>▁▁▂▂▂▃▃▄▄▄▅▅▅▆▆█</td></tr><tr><td>_timestamp</td><td>▁▁▂▂▂▃▃▄▄▄▅▅▅▆▆█</td></tr><tr><td>_step</td><td>▁▁▂▂▃▃▄▄▅▅▆▆▇▇██</td></tr><tr><td>train_loss</td><td>▁</td></tr><tr><td>train_recall@30</td><td>▁</td></tr><tr><td>val_loss</td><td>▁</td></tr><tr><td>recall@10</td><td>▁</td></tr><tr><td>recall@20</td><td>▁</td></tr><tr><td>recall@30</td><td>▁</td></tr></table><br/>"
      ],
      "text/plain": [
       "<IPython.core.display.HTML object>"
      ]
     },
     "metadata": {},
     "output_type": "display_data"
    },
    {
     "data": {
      "text/html": [
       "Synced 6 W&B file(s), 0 media file(s), 0 artifact file(s) and 0 other file(s)"
      ],
      "text/plain": [
       "<IPython.core.display.HTML object>"
      ]
     },
     "metadata": {},
     "output_type": "display_data"
    },
    {
     "data": {
      "text/html": [
       "\n",
       "                    <br/>Synced <strong style=\"color:#cdcd00\">polar-breeze-53</strong>: <a href=\"https://wandb.ai/snovaisg/thesis_basic_deterministic_model_tunning/runs/2j1eqfx7\" target=\"_blank\">https://wandb.ai/snovaisg/thesis_basic_deterministic_model_tunning/runs/2j1eqfx7</a><br/>\n",
       "                "
      ],
      "text/plain": [
       "<IPython.core.display.HTML object>"
      ]
     },
     "metadata": {},
     "output_type": "display_data"
    },
    {
     "data": {
      "text/html": [
       "...Successfully finished last run (ID:2j1eqfx7). Initializing new run:<br/><br/>"
      ],
      "text/plain": [
       "<IPython.core.display.HTML object>"
      ]
     },
     "metadata": {},
     "output_type": "display_data"
    },
    {
     "name": "stderr",
     "output_type": "stream",
     "text": [
      "\u001b[34m\u001b[1mwandb\u001b[0m: wandb version 0.12.11 is available!  To upgrade, please run:\n",
      "\u001b[34m\u001b[1mwandb\u001b[0m:  $ pip install wandb --upgrade\n"
     ]
    },
    {
     "data": {
      "text/html": [
       "\n",
       "                Tracking run with wandb version 0.12.1<br/>\n",
       "                Syncing run <strong style=\"color:#cdcd00\">royal-pine-54</strong> to <a href=\"https://wandb.ai\" target=\"_blank\">Weights & Biases</a> <a href=\"https://docs.wandb.com/integrations/jupyter.html\" target=\"_blank\">(Documentation)</a>.<br/>\n",
       "                Project page: <a href=\"https://wandb.ai/snovaisg/thesis_basic_deterministic_model_tunning\" target=\"_blank\">https://wandb.ai/snovaisg/thesis_basic_deterministic_model_tunning</a><br/>\n",
       "                Run page: <a href=\"https://wandb.ai/snovaisg/thesis_basic_deterministic_model_tunning/runs/ab7ua8i8\" target=\"_blank\">https://wandb.ai/snovaisg/thesis_basic_deterministic_model_tunning/runs/ab7ua8i8</a><br/>\n",
       "                Run data is saved locally in <code>/Users/simaonovais/Documents/GitHub/master-thesis/wandb/run-20220308_131020-ab7ua8i8</code><br/><br/>\n",
       "            "
      ],
      "text/plain": [
       "<IPython.core.display.HTML object>"
      ]
     },
     "metadata": {},
     "output_type": "display_data"
    },
    {
     "data": {
      "text/html": [
       "<h1>Run(ab7ua8i8)</h1><iframe src=\"https://wandb.ai/snovaisg/thesis_basic_deterministic_model_tunning/runs/ab7ua8i8\" style=\"border:none;width:100%;height:400px\"></iframe>"
      ],
      "text/plain": [
       "<wandb.sdk.wandb_run.Run at 0x130a23b50>"
      ]
     },
     "execution_count": 9,
     "metadata": {},
     "output_type": "execute_result"
    },
    {
     "data": {
      "text/html": [
       "Finishing last run (ID:ab7ua8i8) before initializing another..."
      ],
      "text/plain": [
       "<IPython.core.display.HTML object>"
      ]
     },
     "metadata": {},
     "output_type": "display_data"
    },
    {
     "data": {
      "text/html": [
       "<br/>Waiting for W&B process to finish, PID 18991<br/>Program ended successfully."
      ],
      "text/plain": [
       "<IPython.core.display.HTML object>"
      ]
     },
     "metadata": {},
     "output_type": "display_data"
    },
    {
     "data": {
      "text/html": [
       "Find user logs for this run at: <code>/Users/simaonovais/Documents/GitHub/master-thesis/wandb/run-20220308_131020-ab7ua8i8/logs/debug.log</code>"
      ],
      "text/plain": [
       "<IPython.core.display.HTML object>"
      ]
     },
     "metadata": {},
     "output_type": "display_data"
    },
    {
     "data": {
      "text/html": [
       "Find internal logs for this run at: <code>/Users/simaonovais/Documents/GitHub/master-thesis/wandb/run-20220308_131020-ab7ua8i8/logs/debug-internal.log</code>"
      ],
      "text/plain": [
       "<IPython.core.display.HTML object>"
      ]
     },
     "metadata": {},
     "output_type": "display_data"
    },
    {
     "data": {
      "text/html": [
       "<h3>Run summary:</h3><br/><style>\n",
       "    table.wandb td:nth-child(1) { padding: 0 10px; text-align: right }\n",
       "    </style><table class=\"wandb\">\n",
       "<tr><td>loss</td><td>0.09162</td></tr><tr><td>_runtime</td><td>29</td></tr><tr><td>_timestamp</td><td>1646745054</td></tr><tr><td>_step</td><td>15</td></tr><tr><td>train_loss</td><td>0.08698</td></tr><tr><td>train_recall@30</td><td>0.82428</td></tr><tr><td>val_loss</td><td>0.12446</td></tr><tr><td>recall@10</td><td>0.42569</td></tr><tr><td>recall@20</td><td>0.58408</td></tr><tr><td>recall@30</td><td>0.68849</td></tr></table>"
      ],
      "text/plain": [
       "<IPython.core.display.HTML object>"
      ]
     },
     "metadata": {},
     "output_type": "display_data"
    },
    {
     "data": {
      "text/html": [
       "<h3>Run history:</h3><br/><style>\n",
       "    table.wandb td:nth-child(1) { padding: 0 10px; text-align: right }\n",
       "    </style><table class=\"wandb\">\n",
       "<tr><td>loss</td><td>█▄▃▃▃▂▂▂▂▂▁▁▁▁▁</td></tr><tr><td>_runtime</td><td>▁▁▂▂▂▃▃▃▄▄▅▅▅▆▆█</td></tr><tr><td>_timestamp</td><td>▁▁▂▂▂▃▃▃▄▄▅▅▅▆▆█</td></tr><tr><td>_step</td><td>▁▁▂▂▃▃▄▄▅▅▆▆▇▇██</td></tr><tr><td>train_loss</td><td>▁</td></tr><tr><td>train_recall@30</td><td>▁</td></tr><tr><td>val_loss</td><td>▁</td></tr><tr><td>recall@10</td><td>▁</td></tr><tr><td>recall@20</td><td>▁</td></tr><tr><td>recall@30</td><td>▁</td></tr></table><br/>"
      ],
      "text/plain": [
       "<IPython.core.display.HTML object>"
      ]
     },
     "metadata": {},
     "output_type": "display_data"
    },
    {
     "data": {
      "text/html": [
       "Synced 6 W&B file(s), 0 media file(s), 2 artifact file(s) and 1 other file(s)"
      ],
      "text/plain": [
       "<IPython.core.display.HTML object>"
      ]
     },
     "metadata": {},
     "output_type": "display_data"
    },
    {
     "data": {
      "text/html": [
       "\n",
       "                    <br/>Synced <strong style=\"color:#cdcd00\">royal-pine-54</strong>: <a href=\"https://wandb.ai/snovaisg/thesis_basic_deterministic_model_tunning/runs/ab7ua8i8\" target=\"_blank\">https://wandb.ai/snovaisg/thesis_basic_deterministic_model_tunning/runs/ab7ua8i8</a><br/>\n",
       "                "
      ],
      "text/plain": [
       "<IPython.core.display.HTML object>"
      ]
     },
     "metadata": {},
     "output_type": "display_data"
    },
    {
     "data": {
      "text/html": [
       "...Successfully finished last run (ID:ab7ua8i8). Initializing new run:<br/><br/>"
      ],
      "text/plain": [
       "<IPython.core.display.HTML object>"
      ]
     },
     "metadata": {},
     "output_type": "display_data"
    },
    {
     "name": "stderr",
     "output_type": "stream",
     "text": [
      "\u001b[34m\u001b[1mwandb\u001b[0m: wandb version 0.12.11 is available!  To upgrade, please run:\n",
      "\u001b[34m\u001b[1mwandb\u001b[0m:  $ pip install wandb --upgrade\n"
     ]
    },
    {
     "data": {
      "text/html": [
       "\n",
       "                Tracking run with wandb version 0.12.1<br/>\n",
       "                Syncing run <strong style=\"color:#cdcd00\">stoic-silence-55</strong> to <a href=\"https://wandb.ai\" target=\"_blank\">Weights & Biases</a> <a href=\"https://docs.wandb.com/integrations/jupyter.html\" target=\"_blank\">(Documentation)</a>.<br/>\n",
       "                Project page: <a href=\"https://wandb.ai/snovaisg/thesis_basic_deterministic_model_tunning\" target=\"_blank\">https://wandb.ai/snovaisg/thesis_basic_deterministic_model_tunning</a><br/>\n",
       "                Run page: <a href=\"https://wandb.ai/snovaisg/thesis_basic_deterministic_model_tunning/runs/qqzp0dno\" target=\"_blank\">https://wandb.ai/snovaisg/thesis_basic_deterministic_model_tunning/runs/qqzp0dno</a><br/>\n",
       "                Run data is saved locally in <code>/Users/simaonovais/Documents/GitHub/master-thesis/wandb/run-20220308_131054-qqzp0dno</code><br/><br/>\n",
       "            "
      ],
      "text/plain": [
       "<IPython.core.display.HTML object>"
      ]
     },
     "metadata": {},
     "output_type": "display_data"
    },
    {
     "data": {
      "text/html": [
       "<h1>Run(qqzp0dno)</h1><iframe src=\"https://wandb.ai/snovaisg/thesis_basic_deterministic_model_tunning/runs/qqzp0dno\" style=\"border:none;width:100%;height:400px\"></iframe>"
      ],
      "text/plain": [
       "<wandb.sdk.wandb_run.Run at 0x130a04670>"
      ]
     },
     "execution_count": 9,
     "metadata": {},
     "output_type": "execute_result"
    },
    {
     "data": {
      "text/html": [
       "Finishing last run (ID:qqzp0dno) before initializing another..."
      ],
      "text/plain": [
       "<IPython.core.display.HTML object>"
      ]
     },
     "metadata": {},
     "output_type": "display_data"
    },
    {
     "data": {
      "text/html": [
       "<br/>Waiting for W&B process to finish, PID 19009<br/>Program ended successfully."
      ],
      "text/plain": [
       "<IPython.core.display.HTML object>"
      ]
     },
     "metadata": {},
     "output_type": "display_data"
    },
    {
     "data": {
      "text/html": [
       "Find user logs for this run at: <code>/Users/simaonovais/Documents/GitHub/master-thesis/wandb/run-20220308_131054-qqzp0dno/logs/debug.log</code>"
      ],
      "text/plain": [
       "<IPython.core.display.HTML object>"
      ]
     },
     "metadata": {},
     "output_type": "display_data"
    },
    {
     "data": {
      "text/html": [
       "Find internal logs for this run at: <code>/Users/simaonovais/Documents/GitHub/master-thesis/wandb/run-20220308_131054-qqzp0dno/logs/debug-internal.log</code>"
      ],
      "text/plain": [
       "<IPython.core.display.HTML object>"
      ]
     },
     "metadata": {},
     "output_type": "display_data"
    },
    {
     "data": {
      "text/html": [
       "<h3>Run summary:</h3><br/><style>\n",
       "    table.wandb td:nth-child(1) { padding: 0 10px; text-align: right }\n",
       "    </style><table class=\"wandb\">\n",
       "<tr><td>loss</td><td>0.10425</td></tr><tr><td>_runtime</td><td>33</td></tr><tr><td>_timestamp</td><td>1646745094</td></tr><tr><td>_step</td><td>15</td></tr><tr><td>train_loss</td><td>0.1004</td></tr><tr><td>train_recall@30</td><td>0.76185</td></tr><tr><td>val_loss</td><td>0.12429</td></tr><tr><td>recall@10</td><td>0.39721</td></tr><tr><td>recall@20</td><td>0.56362</td></tr><tr><td>recall@30</td><td>0.66663</td></tr></table>"
      ],
      "text/plain": [
       "<IPython.core.display.HTML object>"
      ]
     },
     "metadata": {},
     "output_type": "display_data"
    },
    {
     "data": {
      "text/html": [
       "<h3>Run history:</h3><br/><style>\n",
       "    table.wandb td:nth-child(1) { padding: 0 10px; text-align: right }\n",
       "    </style><table class=\"wandb\">\n",
       "<tr><td>loss</td><td>█▅▄▄▄▄▃▃▃▂▂▂▁▁▁</td></tr><tr><td>_runtime</td><td>▁▂▂▂▃▃▃▄▄▅▅▅▆▆▆█</td></tr><tr><td>_timestamp</td><td>▁▂▂▂▃▃▃▄▄▅▅▅▆▆▆█</td></tr><tr><td>_step</td><td>▁▁▂▂▃▃▄▄▅▅▆▆▇▇██</td></tr><tr><td>train_loss</td><td>▁</td></tr><tr><td>train_recall@30</td><td>▁</td></tr><tr><td>val_loss</td><td>▁</td></tr><tr><td>recall@10</td><td>▁</td></tr><tr><td>recall@20</td><td>▁</td></tr><tr><td>recall@30</td><td>▁</td></tr></table><br/>"
      ],
      "text/plain": [
       "<IPython.core.display.HTML object>"
      ]
     },
     "metadata": {},
     "output_type": "display_data"
    },
    {
     "data": {
      "text/html": [
       "Synced 6 W&B file(s), 0 media file(s), 0 artifact file(s) and 0 other file(s)"
      ],
      "text/plain": [
       "<IPython.core.display.HTML object>"
      ]
     },
     "metadata": {},
     "output_type": "display_data"
    },
    {
     "data": {
      "text/html": [
       "\n",
       "                    <br/>Synced <strong style=\"color:#cdcd00\">stoic-silence-55</strong>: <a href=\"https://wandb.ai/snovaisg/thesis_basic_deterministic_model_tunning/runs/qqzp0dno\" target=\"_blank\">https://wandb.ai/snovaisg/thesis_basic_deterministic_model_tunning/runs/qqzp0dno</a><br/>\n",
       "                "
      ],
      "text/plain": [
       "<IPython.core.display.HTML object>"
      ]
     },
     "metadata": {},
     "output_type": "display_data"
    },
    {
     "data": {
      "text/html": [
       "...Successfully finished last run (ID:qqzp0dno). Initializing new run:<br/><br/>"
      ],
      "text/plain": [
       "<IPython.core.display.HTML object>"
      ]
     },
     "metadata": {},
     "output_type": "display_data"
    },
    {
     "name": "stderr",
     "output_type": "stream",
     "text": [
      "\u001b[34m\u001b[1mwandb\u001b[0m: wandb version 0.12.11 is available!  To upgrade, please run:\n",
      "\u001b[34m\u001b[1mwandb\u001b[0m:  $ pip install wandb --upgrade\n"
     ]
    },
    {
     "data": {
      "text/html": [
       "\n",
       "                Tracking run with wandb version 0.12.1<br/>\n",
       "                Syncing run <strong style=\"color:#cdcd00\">drawn-waterfall-56</strong> to <a href=\"https://wandb.ai\" target=\"_blank\">Weights & Biases</a> <a href=\"https://docs.wandb.com/integrations/jupyter.html\" target=\"_blank\">(Documentation)</a>.<br/>\n",
       "                Project page: <a href=\"https://wandb.ai/snovaisg/thesis_basic_deterministic_model_tunning\" target=\"_blank\">https://wandb.ai/snovaisg/thesis_basic_deterministic_model_tunning</a><br/>\n",
       "                Run page: <a href=\"https://wandb.ai/snovaisg/thesis_basic_deterministic_model_tunning/runs/2rye4ky2\" target=\"_blank\">https://wandb.ai/snovaisg/thesis_basic_deterministic_model_tunning/runs/2rye4ky2</a><br/>\n",
       "                Run data is saved locally in <code>/Users/simaonovais/Documents/GitHub/master-thesis/wandb/run-20220308_131134-2rye4ky2</code><br/><br/>\n",
       "            "
      ],
      "text/plain": [
       "<IPython.core.display.HTML object>"
      ]
     },
     "metadata": {},
     "output_type": "display_data"
    },
    {
     "data": {
      "text/html": [
       "<h1>Run(2rye4ky2)</h1><iframe src=\"https://wandb.ai/snovaisg/thesis_basic_deterministic_model_tunning/runs/2rye4ky2\" style=\"border:none;width:100%;height:400px\"></iframe>"
      ],
      "text/plain": [
       "<wandb.sdk.wandb_run.Run at 0x1309e07f0>"
      ]
     },
     "execution_count": 9,
     "metadata": {},
     "output_type": "execute_result"
    },
    {
     "data": {
      "text/html": [
       "Finishing last run (ID:2rye4ky2) before initializing another..."
      ],
      "text/plain": [
       "<IPython.core.display.HTML object>"
      ]
     },
     "metadata": {},
     "output_type": "display_data"
    },
    {
     "data": {
      "text/html": [
       "<br/>Waiting for W&B process to finish, PID 19029<br/>Program ended successfully."
      ],
      "text/plain": [
       "<IPython.core.display.HTML object>"
      ]
     },
     "metadata": {},
     "output_type": "display_data"
    },
    {
     "data": {
      "text/html": [
       "Find user logs for this run at: <code>/Users/simaonovais/Documents/GitHub/master-thesis/wandb/run-20220308_131134-2rye4ky2/logs/debug.log</code>"
      ],
      "text/plain": [
       "<IPython.core.display.HTML object>"
      ]
     },
     "metadata": {},
     "output_type": "display_data"
    },
    {
     "data": {
      "text/html": [
       "Find internal logs for this run at: <code>/Users/simaonovais/Documents/GitHub/master-thesis/wandb/run-20220308_131134-2rye4ky2/logs/debug-internal.log</code>"
      ],
      "text/plain": [
       "<IPython.core.display.HTML object>"
      ]
     },
     "metadata": {},
     "output_type": "display_data"
    },
    {
     "data": {
      "text/html": [
       "<h3>Run summary:</h3><br/><style>\n",
       "    table.wandb td:nth-child(1) { padding: 0 10px; text-align: right }\n",
       "    </style><table class=\"wandb\">\n",
       "<tr><td>loss</td><td>0.08821</td></tr><tr><td>_runtime</td><td>26</td></tr><tr><td>_timestamp</td><td>1646745123</td></tr><tr><td>_step</td><td>15</td></tr><tr><td>train_loss</td><td>0.08397</td></tr><tr><td>train_recall@30</td><td>0.84028</td></tr><tr><td>val_loss</td><td>0.12287</td></tr><tr><td>recall@10</td><td>0.42548</td></tr><tr><td>recall@20</td><td>0.58555</td></tr><tr><td>recall@30</td><td>0.68474</td></tr></table>"
      ],
      "text/plain": [
       "<IPython.core.display.HTML object>"
      ]
     },
     "metadata": {},
     "output_type": "display_data"
    },
    {
     "data": {
      "text/html": [
       "<h3>Run history:</h3><br/><style>\n",
       "    table.wandb td:nth-child(1) { padding: 0 10px; text-align: right }\n",
       "    </style><table class=\"wandb\">\n",
       "<tr><td>loss</td><td>█▄▄▃▃▃▂▂▂▂▂▁▁▁▁</td></tr><tr><td>_runtime</td><td>▁▁▂▂▂▃▃▄▄▄▅▅▅▆▆█</td></tr><tr><td>_timestamp</td><td>▁▁▂▂▂▃▃▄▄▄▅▅▅▆▆█</td></tr><tr><td>_step</td><td>▁▁▂▂▃▃▄▄▅▅▆▆▇▇██</td></tr><tr><td>train_loss</td><td>▁</td></tr><tr><td>train_recall@30</td><td>▁</td></tr><tr><td>val_loss</td><td>▁</td></tr><tr><td>recall@10</td><td>▁</td></tr><tr><td>recall@20</td><td>▁</td></tr><tr><td>recall@30</td><td>▁</td></tr></table><br/>"
      ],
      "text/plain": [
       "<IPython.core.display.HTML object>"
      ]
     },
     "metadata": {},
     "output_type": "display_data"
    },
    {
     "data": {
      "text/html": [
       "Synced 6 W&B file(s), 0 media file(s), 2 artifact file(s) and 1 other file(s)"
      ],
      "text/plain": [
       "<IPython.core.display.HTML object>"
      ]
     },
     "metadata": {},
     "output_type": "display_data"
    },
    {
     "data": {
      "text/html": [
       "\n",
       "                    <br/>Synced <strong style=\"color:#cdcd00\">drawn-waterfall-56</strong>: <a href=\"https://wandb.ai/snovaisg/thesis_basic_deterministic_model_tunning/runs/2rye4ky2\" target=\"_blank\">https://wandb.ai/snovaisg/thesis_basic_deterministic_model_tunning/runs/2rye4ky2</a><br/>\n",
       "                "
      ],
      "text/plain": [
       "<IPython.core.display.HTML object>"
      ]
     },
     "metadata": {},
     "output_type": "display_data"
    },
    {
     "data": {
      "text/html": [
       "...Successfully finished last run (ID:2rye4ky2). Initializing new run:<br/><br/>"
      ],
      "text/plain": [
       "<IPython.core.display.HTML object>"
      ]
     },
     "metadata": {},
     "output_type": "display_data"
    },
    {
     "name": "stderr",
     "output_type": "stream",
     "text": [
      "\u001b[34m\u001b[1mwandb\u001b[0m: wandb version 0.12.11 is available!  To upgrade, please run:\n",
      "\u001b[34m\u001b[1mwandb\u001b[0m:  $ pip install wandb --upgrade\n"
     ]
    },
    {
     "data": {
      "text/html": [
       "\n",
       "                Tracking run with wandb version 0.12.1<br/>\n",
       "                Syncing run <strong style=\"color:#cdcd00\">proud-leaf-57</strong> to <a href=\"https://wandb.ai\" target=\"_blank\">Weights & Biases</a> <a href=\"https://docs.wandb.com/integrations/jupyter.html\" target=\"_blank\">(Documentation)</a>.<br/>\n",
       "                Project page: <a href=\"https://wandb.ai/snovaisg/thesis_basic_deterministic_model_tunning\" target=\"_blank\">https://wandb.ai/snovaisg/thesis_basic_deterministic_model_tunning</a><br/>\n",
       "                Run page: <a href=\"https://wandb.ai/snovaisg/thesis_basic_deterministic_model_tunning/runs/haj0jf91\" target=\"_blank\">https://wandb.ai/snovaisg/thesis_basic_deterministic_model_tunning/runs/haj0jf91</a><br/>\n",
       "                Run data is saved locally in <code>/Users/simaonovais/Documents/GitHub/master-thesis/wandb/run-20220308_131203-haj0jf91</code><br/><br/>\n",
       "            "
      ],
      "text/plain": [
       "<IPython.core.display.HTML object>"
      ]
     },
     "metadata": {},
     "output_type": "display_data"
    },
    {
     "data": {
      "text/html": [
       "<h1>Run(haj0jf91)</h1><iframe src=\"https://wandb.ai/snovaisg/thesis_basic_deterministic_model_tunning/runs/haj0jf91\" style=\"border:none;width:100%;height:400px\"></iframe>"
      ],
      "text/plain": [
       "<wandb.sdk.wandb_run.Run at 0x130a05ee0>"
      ]
     },
     "execution_count": 9,
     "metadata": {},
     "output_type": "execute_result"
    },
    {
     "data": {
      "text/html": [
       "Finishing last run (ID:haj0jf91) before initializing another..."
      ],
      "text/plain": [
       "<IPython.core.display.HTML object>"
      ]
     },
     "metadata": {},
     "output_type": "display_data"
    },
    {
     "data": {
      "text/html": [
       "<br/>Waiting for W&B process to finish, PID 19045<br/>Program ended successfully."
      ],
      "text/plain": [
       "<IPython.core.display.HTML object>"
      ]
     },
     "metadata": {},
     "output_type": "display_data"
    },
    {
     "data": {
      "text/html": [
       "Find user logs for this run at: <code>/Users/simaonovais/Documents/GitHub/master-thesis/wandb/run-20220308_131203-haj0jf91/logs/debug.log</code>"
      ],
      "text/plain": [
       "<IPython.core.display.HTML object>"
      ]
     },
     "metadata": {},
     "output_type": "display_data"
    },
    {
     "data": {
      "text/html": [
       "Find internal logs for this run at: <code>/Users/simaonovais/Documents/GitHub/master-thesis/wandb/run-20220308_131203-haj0jf91/logs/debug-internal.log</code>"
      ],
      "text/plain": [
       "<IPython.core.display.HTML object>"
      ]
     },
     "metadata": {},
     "output_type": "display_data"
    },
    {
     "data": {
      "text/html": [
       "<h3>Run summary:</h3><br/><style>\n",
       "    table.wandb td:nth-child(1) { padding: 0 10px; text-align: right }\n",
       "    </style><table class=\"wandb\">\n",
       "<tr><td>loss</td><td>0.10984</td></tr><tr><td>_runtime</td><td>30</td></tr><tr><td>_timestamp</td><td>1646745159</td></tr><tr><td>_step</td><td>15</td></tr><tr><td>train_loss</td><td>0.10721</td></tr><tr><td>train_recall@30</td><td>0.73239</td></tr><tr><td>val_loss</td><td>0.12223</td></tr><tr><td>recall@10</td><td>0.38547</td></tr><tr><td>recall@20</td><td>0.55381</td></tr><tr><td>recall@30</td><td>0.66929</td></tr></table>"
      ],
      "text/plain": [
       "<IPython.core.display.HTML object>"
      ]
     },
     "metadata": {},
     "output_type": "display_data"
    },
    {
     "data": {
      "text/html": [
       "<h3>Run history:</h3><br/><style>\n",
       "    table.wandb td:nth-child(1) { padding: 0 10px; text-align: right }\n",
       "    </style><table class=\"wandb\">\n",
       "<tr><td>loss</td><td>█▄▄▄▄▃▃▃▃▃▂▂▂▁▁</td></tr><tr><td>_runtime</td><td>▁▁▂▂▃▃▃▄▄▅▅▅▆▆▇█</td></tr><tr><td>_timestamp</td><td>▁▁▂▂▃▃▃▄▄▅▅▅▆▆▇█</td></tr><tr><td>_step</td><td>▁▁▂▂▃▃▄▄▅▅▆▆▇▇██</td></tr><tr><td>train_loss</td><td>▁</td></tr><tr><td>train_recall@30</td><td>▁</td></tr><tr><td>val_loss</td><td>▁</td></tr><tr><td>recall@10</td><td>▁</td></tr><tr><td>recall@20</td><td>▁</td></tr><tr><td>recall@30</td><td>▁</td></tr></table><br/>"
      ],
      "text/plain": [
       "<IPython.core.display.HTML object>"
      ]
     },
     "metadata": {},
     "output_type": "display_data"
    },
    {
     "data": {
      "text/html": [
       "Synced 6 W&B file(s), 0 media file(s), 0 artifact file(s) and 0 other file(s)"
      ],
      "text/plain": [
       "<IPython.core.display.HTML object>"
      ]
     },
     "metadata": {},
     "output_type": "display_data"
    },
    {
     "data": {
      "text/html": [
       "\n",
       "                    <br/>Synced <strong style=\"color:#cdcd00\">proud-leaf-57</strong>: <a href=\"https://wandb.ai/snovaisg/thesis_basic_deterministic_model_tunning/runs/haj0jf91\" target=\"_blank\">https://wandb.ai/snovaisg/thesis_basic_deterministic_model_tunning/runs/haj0jf91</a><br/>\n",
       "                "
      ],
      "text/plain": [
       "<IPython.core.display.HTML object>"
      ]
     },
     "metadata": {},
     "output_type": "display_data"
    },
    {
     "data": {
      "text/html": [
       "...Successfully finished last run (ID:haj0jf91). Initializing new run:<br/><br/>"
      ],
      "text/plain": [
       "<IPython.core.display.HTML object>"
      ]
     },
     "metadata": {},
     "output_type": "display_data"
    },
    {
     "name": "stderr",
     "output_type": "stream",
     "text": [
      "\u001b[34m\u001b[1mwandb\u001b[0m: wandb version 0.12.11 is available!  To upgrade, please run:\n",
      "\u001b[34m\u001b[1mwandb\u001b[0m:  $ pip install wandb --upgrade\n"
     ]
    },
    {
     "data": {
      "text/html": [
       "\n",
       "                Tracking run with wandb version 0.12.1<br/>\n",
       "                Syncing run <strong style=\"color:#cdcd00\">dashing-cloud-58</strong> to <a href=\"https://wandb.ai\" target=\"_blank\">Weights & Biases</a> <a href=\"https://docs.wandb.com/integrations/jupyter.html\" target=\"_blank\">(Documentation)</a>.<br/>\n",
       "                Project page: <a href=\"https://wandb.ai/snovaisg/thesis_basic_deterministic_model_tunning\" target=\"_blank\">https://wandb.ai/snovaisg/thesis_basic_deterministic_model_tunning</a><br/>\n",
       "                Run page: <a href=\"https://wandb.ai/snovaisg/thesis_basic_deterministic_model_tunning/runs/2kyvm2yf\" target=\"_blank\">https://wandb.ai/snovaisg/thesis_basic_deterministic_model_tunning/runs/2kyvm2yf</a><br/>\n",
       "                Run data is saved locally in <code>/Users/simaonovais/Documents/GitHub/master-thesis/wandb/run-20220308_131239-2kyvm2yf</code><br/><br/>\n",
       "            "
      ],
      "text/plain": [
       "<IPython.core.display.HTML object>"
      ]
     },
     "metadata": {},
     "output_type": "display_data"
    },
    {
     "data": {
      "text/html": [
       "<h1>Run(2kyvm2yf)</h1><iframe src=\"https://wandb.ai/snovaisg/thesis_basic_deterministic_model_tunning/runs/2kyvm2yf\" style=\"border:none;width:100%;height:400px\"></iframe>"
      ],
      "text/plain": [
       "<wandb.sdk.wandb_run.Run at 0x1309c2760>"
      ]
     },
     "execution_count": 9,
     "metadata": {},
     "output_type": "execute_result"
    },
    {
     "data": {
      "text/html": [
       "Finishing last run (ID:2kyvm2yf) before initializing another..."
      ],
      "text/plain": [
       "<IPython.core.display.HTML object>"
      ]
     },
     "metadata": {},
     "output_type": "display_data"
    },
    {
     "data": {
      "text/html": [
       "<br/>Waiting for W&B process to finish, PID 19061<br/>Program ended successfully."
      ],
      "text/plain": [
       "<IPython.core.display.HTML object>"
      ]
     },
     "metadata": {},
     "output_type": "display_data"
    },
    {
     "data": {
      "text/html": [
       "Find user logs for this run at: <code>/Users/simaonovais/Documents/GitHub/master-thesis/wandb/run-20220308_131239-2kyvm2yf/logs/debug.log</code>"
      ],
      "text/plain": [
       "<IPython.core.display.HTML object>"
      ]
     },
     "metadata": {},
     "output_type": "display_data"
    },
    {
     "data": {
      "text/html": [
       "Find internal logs for this run at: <code>/Users/simaonovais/Documents/GitHub/master-thesis/wandb/run-20220308_131239-2kyvm2yf/logs/debug-internal.log</code>"
      ],
      "text/plain": [
       "<IPython.core.display.HTML object>"
      ]
     },
     "metadata": {},
     "output_type": "display_data"
    },
    {
     "data": {
      "text/html": [
       "<h3>Run summary:</h3><br/><style>\n",
       "    table.wandb td:nth-child(1) { padding: 0 10px; text-align: right }\n",
       "    </style><table class=\"wandb\">\n",
       "<tr><td>loss</td><td>0.11676</td></tr><tr><td>_runtime</td><td>28</td></tr><tr><td>_timestamp</td><td>1646745190</td></tr><tr><td>_step</td><td>15</td></tr><tr><td>train_loss</td><td>0.11481</td></tr><tr><td>train_recall@30</td><td>0.71164</td></tr><tr><td>val_loss</td><td>0.13078</td></tr><tr><td>recall@10</td><td>0.38076</td></tr><tr><td>recall@20</td><td>0.53634</td></tr><tr><td>recall@30</td><td>0.65339</td></tr></table>"
      ],
      "text/plain": [
       "<IPython.core.display.HTML object>"
      ]
     },
     "metadata": {},
     "output_type": "display_data"
    },
    {
     "data": {
      "text/html": [
       "<h3>Run history:</h3><br/><style>\n",
       "    table.wandb td:nth-child(1) { padding: 0 10px; text-align: right }\n",
       "    </style><table class=\"wandb\">\n",
       "<tr><td>loss</td><td>█▄▃▃▃▂▂▂▁▂▁▂▁▂▁</td></tr><tr><td>_runtime</td><td>▁▁▂▂▃▃▃▄▄▄▅▅▆▆▆█</td></tr><tr><td>_timestamp</td><td>▁▁▂▂▃▃▃▄▄▄▅▅▆▆▆█</td></tr><tr><td>_step</td><td>▁▁▂▂▃▃▄▄▅▅▆▆▇▇██</td></tr><tr><td>train_loss</td><td>▁</td></tr><tr><td>train_recall@30</td><td>▁</td></tr><tr><td>val_loss</td><td>▁</td></tr><tr><td>recall@10</td><td>▁</td></tr><tr><td>recall@20</td><td>▁</td></tr><tr><td>recall@30</td><td>▁</td></tr></table><br/>"
      ],
      "text/plain": [
       "<IPython.core.display.HTML object>"
      ]
     },
     "metadata": {},
     "output_type": "display_data"
    },
    {
     "data": {
      "text/html": [
       "Synced 6 W&B file(s), 0 media file(s), 2 artifact file(s) and 1 other file(s)"
      ],
      "text/plain": [
       "<IPython.core.display.HTML object>"
      ]
     },
     "metadata": {},
     "output_type": "display_data"
    },
    {
     "data": {
      "text/html": [
       "\n",
       "                    <br/>Synced <strong style=\"color:#cdcd00\">dashing-cloud-58</strong>: <a href=\"https://wandb.ai/snovaisg/thesis_basic_deterministic_model_tunning/runs/2kyvm2yf\" target=\"_blank\">https://wandb.ai/snovaisg/thesis_basic_deterministic_model_tunning/runs/2kyvm2yf</a><br/>\n",
       "                "
      ],
      "text/plain": [
       "<IPython.core.display.HTML object>"
      ]
     },
     "metadata": {},
     "output_type": "display_data"
    },
    {
     "data": {
      "text/html": [
       "...Successfully finished last run (ID:2kyvm2yf). Initializing new run:<br/><br/>"
      ],
      "text/plain": [
       "<IPython.core.display.HTML object>"
      ]
     },
     "metadata": {},
     "output_type": "display_data"
    },
    {
     "name": "stderr",
     "output_type": "stream",
     "text": [
      "\u001b[34m\u001b[1mwandb\u001b[0m: wandb version 0.12.11 is available!  To upgrade, please run:\n",
      "\u001b[34m\u001b[1mwandb\u001b[0m:  $ pip install wandb --upgrade\n"
     ]
    },
    {
     "data": {
      "text/html": [
       "\n",
       "                Tracking run with wandb version 0.12.1<br/>\n",
       "                Syncing run <strong style=\"color:#cdcd00\">icy-frost-59</strong> to <a href=\"https://wandb.ai\" target=\"_blank\">Weights & Biases</a> <a href=\"https://docs.wandb.com/integrations/jupyter.html\" target=\"_blank\">(Documentation)</a>.<br/>\n",
       "                Project page: <a href=\"https://wandb.ai/snovaisg/thesis_basic_deterministic_model_tunning\" target=\"_blank\">https://wandb.ai/snovaisg/thesis_basic_deterministic_model_tunning</a><br/>\n",
       "                Run page: <a href=\"https://wandb.ai/snovaisg/thesis_basic_deterministic_model_tunning/runs/1agh07da\" target=\"_blank\">https://wandb.ai/snovaisg/thesis_basic_deterministic_model_tunning/runs/1agh07da</a><br/>\n",
       "                Run data is saved locally in <code>/Users/simaonovais/Documents/GitHub/master-thesis/wandb/run-20220308_131310-1agh07da</code><br/><br/>\n",
       "            "
      ],
      "text/plain": [
       "<IPython.core.display.HTML object>"
      ]
     },
     "metadata": {},
     "output_type": "display_data"
    },
    {
     "data": {
      "text/html": [
       "<h1>Run(1agh07da)</h1><iframe src=\"https://wandb.ai/snovaisg/thesis_basic_deterministic_model_tunning/runs/1agh07da\" style=\"border:none;width:100%;height:400px\"></iframe>"
      ],
      "text/plain": [
       "<wandb.sdk.wandb_run.Run at 0x1309ea880>"
      ]
     },
     "execution_count": 9,
     "metadata": {},
     "output_type": "execute_result"
    },
    {
     "data": {
      "text/html": [
       "Finishing last run (ID:1agh07da) before initializing another..."
      ],
      "text/plain": [
       "<IPython.core.display.HTML object>"
      ]
     },
     "metadata": {},
     "output_type": "display_data"
    },
    {
     "data": {
      "text/html": [
       "<br/>Waiting for W&B process to finish, PID 19083<br/>Program ended successfully."
      ],
      "text/plain": [
       "<IPython.core.display.HTML object>"
      ]
     },
     "metadata": {},
     "output_type": "display_data"
    },
    {
     "data": {
      "text/html": [
       "Find user logs for this run at: <code>/Users/simaonovais/Documents/GitHub/master-thesis/wandb/run-20220308_131310-1agh07da/logs/debug.log</code>"
      ],
      "text/plain": [
       "<IPython.core.display.HTML object>"
      ]
     },
     "metadata": {},
     "output_type": "display_data"
    },
    {
     "data": {
      "text/html": [
       "Find internal logs for this run at: <code>/Users/simaonovais/Documents/GitHub/master-thesis/wandb/run-20220308_131310-1agh07da/logs/debug-internal.log</code>"
      ],
      "text/plain": [
       "<IPython.core.display.HTML object>"
      ]
     },
     "metadata": {},
     "output_type": "display_data"
    },
    {
     "data": {
      "text/html": [
       "<h3>Run summary:</h3><br/><style>\n",
       "    table.wandb td:nth-child(1) { padding: 0 10px; text-align: right }\n",
       "    </style><table class=\"wandb\">\n",
       "<tr><td>loss</td><td>0.13036</td></tr><tr><td>_runtime</td><td>28</td></tr><tr><td>_timestamp</td><td>1646745224</td></tr><tr><td>_step</td><td>15</td></tr><tr><td>train_loss</td><td>0.13914</td></tr><tr><td>train_recall@30</td><td>0.60694</td></tr><tr><td>val_loss</td><td>0.14595</td></tr><tr><td>recall@10</td><td>0.28268</td></tr><tr><td>recall@20</td><td>0.44757</td></tr><tr><td>recall@30</td><td>0.57131</td></tr></table>"
      ],
      "text/plain": [
       "<IPython.core.display.HTML object>"
      ]
     },
     "metadata": {},
     "output_type": "display_data"
    },
    {
     "data": {
      "text/html": [
       "<h3>Run history:</h3><br/><style>\n",
       "    table.wandb td:nth-child(1) { padding: 0 10px; text-align: right }\n",
       "    </style><table class=\"wandb\">\n",
       "<tr><td>loss</td><td>█▄▄▃▄▄▃▃▃▃▂▂▂▂▁</td></tr><tr><td>_runtime</td><td>▁▁▂▂▃▃▃▄▄▄▅▅▅▆▆█</td></tr><tr><td>_timestamp</td><td>▁▁▂▂▃▃▃▄▄▄▅▅▅▆▆█</td></tr><tr><td>_step</td><td>▁▁▂▂▃▃▄▄▅▅▆▆▇▇██</td></tr><tr><td>train_loss</td><td>▁</td></tr><tr><td>train_recall@30</td><td>▁</td></tr><tr><td>val_loss</td><td>▁</td></tr><tr><td>recall@10</td><td>▁</td></tr><tr><td>recall@20</td><td>▁</td></tr><tr><td>recall@30</td><td>▁</td></tr></table><br/>"
      ],
      "text/plain": [
       "<IPython.core.display.HTML object>"
      ]
     },
     "metadata": {},
     "output_type": "display_data"
    },
    {
     "data": {
      "text/html": [
       "Synced 6 W&B file(s), 0 media file(s), 0 artifact file(s) and 0 other file(s)"
      ],
      "text/plain": [
       "<IPython.core.display.HTML object>"
      ]
     },
     "metadata": {},
     "output_type": "display_data"
    },
    {
     "data": {
      "text/html": [
       "\n",
       "                    <br/>Synced <strong style=\"color:#cdcd00\">icy-frost-59</strong>: <a href=\"https://wandb.ai/snovaisg/thesis_basic_deterministic_model_tunning/runs/1agh07da\" target=\"_blank\">https://wandb.ai/snovaisg/thesis_basic_deterministic_model_tunning/runs/1agh07da</a><br/>\n",
       "                "
      ],
      "text/plain": [
       "<IPython.core.display.HTML object>"
      ]
     },
     "metadata": {},
     "output_type": "display_data"
    },
    {
     "data": {
      "text/html": [
       "...Successfully finished last run (ID:1agh07da). Initializing new run:<br/><br/>"
      ],
      "text/plain": [
       "<IPython.core.display.HTML object>"
      ]
     },
     "metadata": {},
     "output_type": "display_data"
    },
    {
     "name": "stderr",
     "output_type": "stream",
     "text": [
      "\u001b[34m\u001b[1mwandb\u001b[0m: wandb version 0.12.11 is available!  To upgrade, please run:\n",
      "\u001b[34m\u001b[1mwandb\u001b[0m:  $ pip install wandb --upgrade\n"
     ]
    },
    {
     "data": {
      "text/html": [
       "\n",
       "                Tracking run with wandb version 0.12.1<br/>\n",
       "                Syncing run <strong style=\"color:#cdcd00\">mild-microwave-60</strong> to <a href=\"https://wandb.ai\" target=\"_blank\">Weights & Biases</a> <a href=\"https://docs.wandb.com/integrations/jupyter.html\" target=\"_blank\">(Documentation)</a>.<br/>\n",
       "                Project page: <a href=\"https://wandb.ai/snovaisg/thesis_basic_deterministic_model_tunning\" target=\"_blank\">https://wandb.ai/snovaisg/thesis_basic_deterministic_model_tunning</a><br/>\n",
       "                Run page: <a href=\"https://wandb.ai/snovaisg/thesis_basic_deterministic_model_tunning/runs/2to4hlcl\" target=\"_blank\">https://wandb.ai/snovaisg/thesis_basic_deterministic_model_tunning/runs/2to4hlcl</a><br/>\n",
       "                Run data is saved locally in <code>/Users/simaonovais/Documents/GitHub/master-thesis/wandb/run-20220308_131344-2to4hlcl</code><br/><br/>\n",
       "            "
      ],
      "text/plain": [
       "<IPython.core.display.HTML object>"
      ]
     },
     "metadata": {},
     "output_type": "display_data"
    },
    {
     "data": {
      "text/html": [
       "<h1>Run(2to4hlcl)</h1><iframe src=\"https://wandb.ai/snovaisg/thesis_basic_deterministic_model_tunning/runs/2to4hlcl\" style=\"border:none;width:100%;height:400px\"></iframe>"
      ],
      "text/plain": [
       "<wandb.sdk.wandb_run.Run at 0x130a5f5e0>"
      ]
     },
     "execution_count": 9,
     "metadata": {},
     "output_type": "execute_result"
    },
    {
     "data": {
      "text/html": [
       "Finishing last run (ID:2to4hlcl) before initializing another..."
      ],
      "text/plain": [
       "<IPython.core.display.HTML object>"
      ]
     },
     "metadata": {},
     "output_type": "display_data"
    },
    {
     "data": {
      "text/html": [
       "<br/>Waiting for W&B process to finish, PID 19099<br/>Program ended successfully."
      ],
      "text/plain": [
       "<IPython.core.display.HTML object>"
      ]
     },
     "metadata": {},
     "output_type": "display_data"
    },
    {
     "data": {
      "text/html": [
       "Find user logs for this run at: <code>/Users/simaonovais/Documents/GitHub/master-thesis/wandb/run-20220308_131344-2to4hlcl/logs/debug.log</code>"
      ],
      "text/plain": [
       "<IPython.core.display.HTML object>"
      ]
     },
     "metadata": {},
     "output_type": "display_data"
    },
    {
     "data": {
      "text/html": [
       "Find internal logs for this run at: <code>/Users/simaonovais/Documents/GitHub/master-thesis/wandb/run-20220308_131344-2to4hlcl/logs/debug-internal.log</code>"
      ],
      "text/plain": [
       "<IPython.core.display.HTML object>"
      ]
     },
     "metadata": {},
     "output_type": "display_data"
    },
    {
     "data": {
      "text/html": [
       "<h3>Run summary:</h3><br/><style>\n",
       "    table.wandb td:nth-child(1) { padding: 0 10px; text-align: right }\n",
       "    </style><table class=\"wandb\">\n",
       "<tr><td>loss</td><td>0.09342</td></tr><tr><td>_runtime</td><td>26</td></tr><tr><td>_timestamp</td><td>1646745253</td></tr><tr><td>_step</td><td>15</td></tr><tr><td>train_loss</td><td>0.08884</td></tr><tr><td>train_recall@30</td><td>0.81653</td></tr><tr><td>val_loss</td><td>0.12965</td></tr><tr><td>recall@10</td><td>0.40932</td></tr><tr><td>recall@20</td><td>0.56923</td></tr><tr><td>recall@30</td><td>0.66788</td></tr></table>"
      ],
      "text/plain": [
       "<IPython.core.display.HTML object>"
      ]
     },
     "metadata": {},
     "output_type": "display_data"
    },
    {
     "data": {
      "text/html": [
       "<h3>Run history:</h3><br/><style>\n",
       "    table.wandb td:nth-child(1) { padding: 0 10px; text-align: right }\n",
       "    </style><table class=\"wandb\">\n",
       "<tr><td>loss</td><td>█▄▃▃▃▂▂▂▂▂▁▁▁▁▁</td></tr><tr><td>_runtime</td><td>▁▁▂▂▃▃▃▄▄▄▅▅▆▆▆█</td></tr><tr><td>_timestamp</td><td>▁▁▂▂▃▃▃▄▄▄▅▅▆▆▆█</td></tr><tr><td>_step</td><td>▁▁▂▂▃▃▄▄▅▅▆▆▇▇██</td></tr><tr><td>train_loss</td><td>▁</td></tr><tr><td>train_recall@30</td><td>▁</td></tr><tr><td>val_loss</td><td>▁</td></tr><tr><td>recall@10</td><td>▁</td></tr><tr><td>recall@20</td><td>▁</td></tr><tr><td>recall@30</td><td>▁</td></tr></table><br/>"
      ],
      "text/plain": [
       "<IPython.core.display.HTML object>"
      ]
     },
     "metadata": {},
     "output_type": "display_data"
    },
    {
     "data": {
      "text/html": [
       "Synced 6 W&B file(s), 0 media file(s), 2 artifact file(s) and 1 other file(s)"
      ],
      "text/plain": [
       "<IPython.core.display.HTML object>"
      ]
     },
     "metadata": {},
     "output_type": "display_data"
    },
    {
     "data": {
      "text/html": [
       "\n",
       "                    <br/>Synced <strong style=\"color:#cdcd00\">mild-microwave-60</strong>: <a href=\"https://wandb.ai/snovaisg/thesis_basic_deterministic_model_tunning/runs/2to4hlcl\" target=\"_blank\">https://wandb.ai/snovaisg/thesis_basic_deterministic_model_tunning/runs/2to4hlcl</a><br/>\n",
       "                "
      ],
      "text/plain": [
       "<IPython.core.display.HTML object>"
      ]
     },
     "metadata": {},
     "output_type": "display_data"
    },
    {
     "data": {
      "text/html": [
       "...Successfully finished last run (ID:2to4hlcl). Initializing new run:<br/><br/>"
      ],
      "text/plain": [
       "<IPython.core.display.HTML object>"
      ]
     },
     "metadata": {},
     "output_type": "display_data"
    },
    {
     "name": "stderr",
     "output_type": "stream",
     "text": [
      "\u001b[34m\u001b[1mwandb\u001b[0m: wandb version 0.12.11 is available!  To upgrade, please run:\n",
      "\u001b[34m\u001b[1mwandb\u001b[0m:  $ pip install wandb --upgrade\n"
     ]
    },
    {
     "data": {
      "text/html": [
       "\n",
       "                Tracking run with wandb version 0.12.1<br/>\n",
       "                Syncing run <strong style=\"color:#cdcd00\">gentle-aardvark-61</strong> to <a href=\"https://wandb.ai\" target=\"_blank\">Weights & Biases</a> <a href=\"https://docs.wandb.com/integrations/jupyter.html\" target=\"_blank\">(Documentation)</a>.<br/>\n",
       "                Project page: <a href=\"https://wandb.ai/snovaisg/thesis_basic_deterministic_model_tunning\" target=\"_blank\">https://wandb.ai/snovaisg/thesis_basic_deterministic_model_tunning</a><br/>\n",
       "                Run page: <a href=\"https://wandb.ai/snovaisg/thesis_basic_deterministic_model_tunning/runs/2rkclfpw\" target=\"_blank\">https://wandb.ai/snovaisg/thesis_basic_deterministic_model_tunning/runs/2rkclfpw</a><br/>\n",
       "                Run data is saved locally in <code>/Users/simaonovais/Documents/GitHub/master-thesis/wandb/run-20220308_131413-2rkclfpw</code><br/><br/>\n",
       "            "
      ],
      "text/plain": [
       "<IPython.core.display.HTML object>"
      ]
     },
     "metadata": {},
     "output_type": "display_data"
    },
    {
     "data": {
      "text/html": [
       "<h1>Run(2rkclfpw)</h1><iframe src=\"https://wandb.ai/snovaisg/thesis_basic_deterministic_model_tunning/runs/2rkclfpw\" style=\"border:none;width:100%;height:400px\"></iframe>"
      ],
      "text/plain": [
       "<wandb.sdk.wandb_run.Run at 0x130a49310>"
      ]
     },
     "execution_count": 9,
     "metadata": {},
     "output_type": "execute_result"
    },
    {
     "data": {
      "text/html": [
       "Finishing last run (ID:2rkclfpw) before initializing another..."
      ],
      "text/plain": [
       "<IPython.core.display.HTML object>"
      ]
     },
     "metadata": {},
     "output_type": "display_data"
    },
    {
     "data": {
      "text/html": [
       "<br/>Waiting for W&B process to finish, PID 19115<br/>Program ended successfully."
      ],
      "text/plain": [
       "<IPython.core.display.HTML object>"
      ]
     },
     "metadata": {},
     "output_type": "display_data"
    },
    {
     "data": {
      "text/html": [
       "Find user logs for this run at: <code>/Users/simaonovais/Documents/GitHub/master-thesis/wandb/run-20220308_131413-2rkclfpw/logs/debug.log</code>"
      ],
      "text/plain": [
       "<IPython.core.display.HTML object>"
      ]
     },
     "metadata": {},
     "output_type": "display_data"
    },
    {
     "data": {
      "text/html": [
       "Find internal logs for this run at: <code>/Users/simaonovais/Documents/GitHub/master-thesis/wandb/run-20220308_131413-2rkclfpw/logs/debug-internal.log</code>"
      ],
      "text/plain": [
       "<IPython.core.display.HTML object>"
      ]
     },
     "metadata": {},
     "output_type": "display_data"
    },
    {
     "data": {
      "text/html": [
       "<h3>Run summary:</h3><br/><style>\n",
       "    table.wandb td:nth-child(1) { padding: 0 10px; text-align: right }\n",
       "    </style><table class=\"wandb\">\n",
       "<tr><td>loss</td><td>0.10891</td></tr><tr><td>_runtime</td><td>31</td></tr><tr><td>_timestamp</td><td>1646745291</td></tr><tr><td>_step</td><td>15</td></tr><tr><td>train_loss</td><td>0.10546</td></tr><tr><td>train_recall@30</td><td>0.73743</td></tr><tr><td>val_loss</td><td>0.12412</td></tr><tr><td>recall@10</td><td>0.39572</td></tr><tr><td>recall@20</td><td>0.55371</td></tr><tr><td>recall@30</td><td>0.66195</td></tr></table>"
      ],
      "text/plain": [
       "<IPython.core.display.HTML object>"
      ]
     },
     "metadata": {},
     "output_type": "display_data"
    },
    {
     "data": {
      "text/html": [
       "<h3>Run history:</h3><br/><style>\n",
       "    table.wandb td:nth-child(1) { padding: 0 10px; text-align: right }\n",
       "    </style><table class=\"wandb\">\n",
       "<tr><td>loss</td><td>█▅▄▄▄▄▃▃▃▂▂▂▁▁▁</td></tr><tr><td>_runtime</td><td>▁▁▂▂▂▃▃▄▄▅▅▅▆▆▆█</td></tr><tr><td>_timestamp</td><td>▁▁▂▂▂▃▃▄▄▅▅▅▆▆▆█</td></tr><tr><td>_step</td><td>▁▁▂▂▃▃▄▄▅▅▆▆▇▇██</td></tr><tr><td>train_loss</td><td>▁</td></tr><tr><td>train_recall@30</td><td>▁</td></tr><tr><td>val_loss</td><td>▁</td></tr><tr><td>recall@10</td><td>▁</td></tr><tr><td>recall@20</td><td>▁</td></tr><tr><td>recall@30</td><td>▁</td></tr></table><br/>"
      ],
      "text/plain": [
       "<IPython.core.display.HTML object>"
      ]
     },
     "metadata": {},
     "output_type": "display_data"
    },
    {
     "data": {
      "text/html": [
       "Synced 6 W&B file(s), 0 media file(s), 0 artifact file(s) and 0 other file(s)"
      ],
      "text/plain": [
       "<IPython.core.display.HTML object>"
      ]
     },
     "metadata": {},
     "output_type": "display_data"
    },
    {
     "data": {
      "text/html": [
       "\n",
       "                    <br/>Synced <strong style=\"color:#cdcd00\">gentle-aardvark-61</strong>: <a href=\"https://wandb.ai/snovaisg/thesis_basic_deterministic_model_tunning/runs/2rkclfpw\" target=\"_blank\">https://wandb.ai/snovaisg/thesis_basic_deterministic_model_tunning/runs/2rkclfpw</a><br/>\n",
       "                "
      ],
      "text/plain": [
       "<IPython.core.display.HTML object>"
      ]
     },
     "metadata": {},
     "output_type": "display_data"
    },
    {
     "data": {
      "text/html": [
       "...Successfully finished last run (ID:2rkclfpw). Initializing new run:<br/><br/>"
      ],
      "text/plain": [
       "<IPython.core.display.HTML object>"
      ]
     },
     "metadata": {},
     "output_type": "display_data"
    },
    {
     "name": "stderr",
     "output_type": "stream",
     "text": [
      "\u001b[34m\u001b[1mwandb\u001b[0m: wandb version 0.12.11 is available!  To upgrade, please run:\n",
      "\u001b[34m\u001b[1mwandb\u001b[0m:  $ pip install wandb --upgrade\n"
     ]
    },
    {
     "data": {
      "text/html": [
       "\n",
       "                Tracking run with wandb version 0.12.1<br/>\n",
       "                Syncing run <strong style=\"color:#cdcd00\">ethereal-violet-62</strong> to <a href=\"https://wandb.ai\" target=\"_blank\">Weights & Biases</a> <a href=\"https://docs.wandb.com/integrations/jupyter.html\" target=\"_blank\">(Documentation)</a>.<br/>\n",
       "                Project page: <a href=\"https://wandb.ai/snovaisg/thesis_basic_deterministic_model_tunning\" target=\"_blank\">https://wandb.ai/snovaisg/thesis_basic_deterministic_model_tunning</a><br/>\n",
       "                Run page: <a href=\"https://wandb.ai/snovaisg/thesis_basic_deterministic_model_tunning/runs/5c0aio79\" target=\"_blank\">https://wandb.ai/snovaisg/thesis_basic_deterministic_model_tunning/runs/5c0aio79</a><br/>\n",
       "                Run data is saved locally in <code>/Users/simaonovais/Documents/GitHub/master-thesis/wandb/run-20220308_131451-5c0aio79</code><br/><br/>\n",
       "            "
      ],
      "text/plain": [
       "<IPython.core.display.HTML object>"
      ]
     },
     "metadata": {},
     "output_type": "display_data"
    },
    {
     "data": {
      "text/html": [
       "<h1>Run(5c0aio79)</h1><iframe src=\"https://wandb.ai/snovaisg/thesis_basic_deterministic_model_tunning/runs/5c0aio79\" style=\"border:none;width:100%;height:400px\"></iframe>"
      ],
      "text/plain": [
       "<wandb.sdk.wandb_run.Run at 0x130a420d0>"
      ]
     },
     "execution_count": 9,
     "metadata": {},
     "output_type": "execute_result"
    },
    {
     "data": {
      "text/html": [
       "Finishing last run (ID:5c0aio79) before initializing another..."
      ],
      "text/plain": [
       "<IPython.core.display.HTML object>"
      ]
     },
     "metadata": {},
     "output_type": "display_data"
    },
    {
     "data": {
      "text/html": [
       "<br/>Waiting for W&B process to finish, PID 19131<br/>Program ended successfully."
      ],
      "text/plain": [
       "<IPython.core.display.HTML object>"
      ]
     },
     "metadata": {},
     "output_type": "display_data"
    },
    {
     "data": {
      "text/html": [
       "Find user logs for this run at: <code>/Users/simaonovais/Documents/GitHub/master-thesis/wandb/run-20220308_131451-5c0aio79/logs/debug.log</code>"
      ],
      "text/plain": [
       "<IPython.core.display.HTML object>"
      ]
     },
     "metadata": {},
     "output_type": "display_data"
    },
    {
     "data": {
      "text/html": [
       "Find internal logs for this run at: <code>/Users/simaonovais/Documents/GitHub/master-thesis/wandb/run-20220308_131451-5c0aio79/logs/debug-internal.log</code>"
      ],
      "text/plain": [
       "<IPython.core.display.HTML object>"
      ]
     },
     "metadata": {},
     "output_type": "display_data"
    },
    {
     "data": {
      "text/html": [
       "<h3>Run summary:</h3><br/><style>\n",
       "    table.wandb td:nth-child(1) { padding: 0 10px; text-align: right }\n",
       "    </style><table class=\"wandb\">\n",
       "<tr><td>loss</td><td>0.0877</td></tr><tr><td>_runtime</td><td>26</td></tr><tr><td>_timestamp</td><td>1646745320</td></tr><tr><td>_step</td><td>15</td></tr><tr><td>train_loss</td><td>0.08382</td></tr><tr><td>train_recall@30</td><td>0.84344</td></tr><tr><td>val_loss</td><td>0.12716</td></tr><tr><td>recall@10</td><td>0.41369</td></tr><tr><td>recall@20</td><td>0.5735</td></tr><tr><td>recall@30</td><td>0.67551</td></tr></table>"
      ],
      "text/plain": [
       "<IPython.core.display.HTML object>"
      ]
     },
     "metadata": {},
     "output_type": "display_data"
    },
    {
     "data": {
      "text/html": [
       "<h3>Run history:</h3><br/><style>\n",
       "    table.wandb td:nth-child(1) { padding: 0 10px; text-align: right }\n",
       "    </style><table class=\"wandb\">\n",
       "<tr><td>loss</td><td>█▅▄▃▃▃▂▂▂▂▂▁▁▁▁</td></tr><tr><td>_runtime</td><td>▁▁▂▂▂▃▃▄▄▄▅▅▆▆▆█</td></tr><tr><td>_timestamp</td><td>▁▁▂▂▂▃▃▄▄▄▅▅▆▆▆█</td></tr><tr><td>_step</td><td>▁▁▂▂▃▃▄▄▅▅▆▆▇▇██</td></tr><tr><td>train_loss</td><td>▁</td></tr><tr><td>train_recall@30</td><td>▁</td></tr><tr><td>val_loss</td><td>▁</td></tr><tr><td>recall@10</td><td>▁</td></tr><tr><td>recall@20</td><td>▁</td></tr><tr><td>recall@30</td><td>▁</td></tr></table><br/>"
      ],
      "text/plain": [
       "<IPython.core.display.HTML object>"
      ]
     },
     "metadata": {},
     "output_type": "display_data"
    },
    {
     "data": {
      "text/html": [
       "Synced 6 W&B file(s), 0 media file(s), 2 artifact file(s) and 1 other file(s)"
      ],
      "text/plain": [
       "<IPython.core.display.HTML object>"
      ]
     },
     "metadata": {},
     "output_type": "display_data"
    },
    {
     "data": {
      "text/html": [
       "\n",
       "                    <br/>Synced <strong style=\"color:#cdcd00\">ethereal-violet-62</strong>: <a href=\"https://wandb.ai/snovaisg/thesis_basic_deterministic_model_tunning/runs/5c0aio79\" target=\"_blank\">https://wandb.ai/snovaisg/thesis_basic_deterministic_model_tunning/runs/5c0aio79</a><br/>\n",
       "                "
      ],
      "text/plain": [
       "<IPython.core.display.HTML object>"
      ]
     },
     "metadata": {},
     "output_type": "display_data"
    },
    {
     "data": {
      "text/html": [
       "...Successfully finished last run (ID:5c0aio79). Initializing new run:<br/><br/>"
      ],
      "text/plain": [
       "<IPython.core.display.HTML object>"
      ]
     },
     "metadata": {},
     "output_type": "display_data"
    },
    {
     "name": "stderr",
     "output_type": "stream",
     "text": [
      "\u001b[34m\u001b[1mwandb\u001b[0m: wandb version 0.12.11 is available!  To upgrade, please run:\n",
      "\u001b[34m\u001b[1mwandb\u001b[0m:  $ pip install wandb --upgrade\n"
     ]
    },
    {
     "data": {
      "text/html": [
       "\n",
       "                Tracking run with wandb version 0.12.1<br/>\n",
       "                Syncing run <strong style=\"color:#cdcd00\">bumbling-cherry-63</strong> to <a href=\"https://wandb.ai\" target=\"_blank\">Weights & Biases</a> <a href=\"https://docs.wandb.com/integrations/jupyter.html\" target=\"_blank\">(Documentation)</a>.<br/>\n",
       "                Project page: <a href=\"https://wandb.ai/snovaisg/thesis_basic_deterministic_model_tunning\" target=\"_blank\">https://wandb.ai/snovaisg/thesis_basic_deterministic_model_tunning</a><br/>\n",
       "                Run page: <a href=\"https://wandb.ai/snovaisg/thesis_basic_deterministic_model_tunning/runs/cxmukexu\" target=\"_blank\">https://wandb.ai/snovaisg/thesis_basic_deterministic_model_tunning/runs/cxmukexu</a><br/>\n",
       "                Run data is saved locally in <code>/Users/simaonovais/Documents/GitHub/master-thesis/wandb/run-20220308_131520-cxmukexu</code><br/><br/>\n",
       "            "
      ],
      "text/plain": [
       "<IPython.core.display.HTML object>"
      ]
     },
     "metadata": {},
     "output_type": "display_data"
    },
    {
     "data": {
      "text/html": [
       "<h1>Run(cxmukexu)</h1><iframe src=\"https://wandb.ai/snovaisg/thesis_basic_deterministic_model_tunning/runs/cxmukexu\" style=\"border:none;width:100%;height:400px\"></iframe>"
      ],
      "text/plain": [
       "<wandb.sdk.wandb_run.Run at 0x130b20640>"
      ]
     },
     "execution_count": 9,
     "metadata": {},
     "output_type": "execute_result"
    },
    {
     "data": {
      "text/html": [
       "Finishing last run (ID:cxmukexu) before initializing another..."
      ],
      "text/plain": [
       "<IPython.core.display.HTML object>"
      ]
     },
     "metadata": {},
     "output_type": "display_data"
    },
    {
     "data": {
      "text/html": [
       "<br/>Waiting for W&B process to finish, PID 19154<br/>Program ended successfully."
      ],
      "text/plain": [
       "<IPython.core.display.HTML object>"
      ]
     },
     "metadata": {},
     "output_type": "display_data"
    },
    {
     "data": {
      "text/html": [
       "Find user logs for this run at: <code>/Users/simaonovais/Documents/GitHub/master-thesis/wandb/run-20220308_131520-cxmukexu/logs/debug.log</code>"
      ],
      "text/plain": [
       "<IPython.core.display.HTML object>"
      ]
     },
     "metadata": {},
     "output_type": "display_data"
    },
    {
     "data": {
      "text/html": [
       "Find internal logs for this run at: <code>/Users/simaonovais/Documents/GitHub/master-thesis/wandb/run-20220308_131520-cxmukexu/logs/debug-internal.log</code>"
      ],
      "text/plain": [
       "<IPython.core.display.HTML object>"
      ]
     },
     "metadata": {},
     "output_type": "display_data"
    },
    {
     "data": {
      "text/html": [
       "<h3>Run summary:</h3><br/><style>\n",
       "    table.wandb td:nth-child(1) { padding: 0 10px; text-align: right }\n",
       "    </style><table class=\"wandb\">\n",
       "<tr><td>loss</td><td>0.11127</td></tr><tr><td>_runtime</td><td>31</td></tr><tr><td>_timestamp</td><td>1646745358</td></tr><tr><td>_step</td><td>15</td></tr><tr><td>train_loss</td><td>0.10796</td></tr><tr><td>train_recall@30</td><td>0.72625</td></tr><tr><td>val_loss</td><td>0.12371</td></tr><tr><td>recall@10</td><td>0.38593</td></tr><tr><td>recall@20</td><td>0.54595</td></tr><tr><td>recall@30</td><td>0.65479</td></tr></table>"
      ],
      "text/plain": [
       "<IPython.core.display.HTML object>"
      ]
     },
     "metadata": {},
     "output_type": "display_data"
    },
    {
     "data": {
      "text/html": [
       "<h3>Run history:</h3><br/><style>\n",
       "    table.wandb td:nth-child(1) { padding: 0 10px; text-align: right }\n",
       "    </style><table class=\"wandb\">\n",
       "<tr><td>loss</td><td>█▄▄▄▄▄▄▃▃▃▂▂▂▁▁</td></tr><tr><td>_runtime</td><td>▁▂▂▂▃▃▄▄▄▅▅▅▆▆▇█</td></tr><tr><td>_timestamp</td><td>▁▂▂▂▃▃▄▄▄▅▅▅▆▆▇█</td></tr><tr><td>_step</td><td>▁▁▂▂▃▃▄▄▅▅▆▆▇▇██</td></tr><tr><td>train_loss</td><td>▁</td></tr><tr><td>train_recall@30</td><td>▁</td></tr><tr><td>val_loss</td><td>▁</td></tr><tr><td>recall@10</td><td>▁</td></tr><tr><td>recall@20</td><td>▁</td></tr><tr><td>recall@30</td><td>▁</td></tr></table><br/>"
      ],
      "text/plain": [
       "<IPython.core.display.HTML object>"
      ]
     },
     "metadata": {},
     "output_type": "display_data"
    },
    {
     "data": {
      "text/html": [
       "Synced 6 W&B file(s), 0 media file(s), 0 artifact file(s) and 0 other file(s)"
      ],
      "text/plain": [
       "<IPython.core.display.HTML object>"
      ]
     },
     "metadata": {},
     "output_type": "display_data"
    },
    {
     "data": {
      "text/html": [
       "\n",
       "                    <br/>Synced <strong style=\"color:#cdcd00\">bumbling-cherry-63</strong>: <a href=\"https://wandb.ai/snovaisg/thesis_basic_deterministic_model_tunning/runs/cxmukexu\" target=\"_blank\">https://wandb.ai/snovaisg/thesis_basic_deterministic_model_tunning/runs/cxmukexu</a><br/>\n",
       "                "
      ],
      "text/plain": [
       "<IPython.core.display.HTML object>"
      ]
     },
     "metadata": {},
     "output_type": "display_data"
    },
    {
     "data": {
      "text/html": [
       "...Successfully finished last run (ID:cxmukexu). Initializing new run:<br/><br/>"
      ],
      "text/plain": [
       "<IPython.core.display.HTML object>"
      ]
     },
     "metadata": {},
     "output_type": "display_data"
    },
    {
     "name": "stderr",
     "output_type": "stream",
     "text": [
      "\u001b[34m\u001b[1mwandb\u001b[0m: wandb version 0.12.11 is available!  To upgrade, please run:\n",
      "\u001b[34m\u001b[1mwandb\u001b[0m:  $ pip install wandb --upgrade\n"
     ]
    },
    {
     "data": {
      "text/html": [
       "\n",
       "                Tracking run with wandb version 0.12.1<br/>\n",
       "                Syncing run <strong style=\"color:#cdcd00\">rural-plant-64</strong> to <a href=\"https://wandb.ai\" target=\"_blank\">Weights & Biases</a> <a href=\"https://docs.wandb.com/integrations/jupyter.html\" target=\"_blank\">(Documentation)</a>.<br/>\n",
       "                Project page: <a href=\"https://wandb.ai/snovaisg/thesis_basic_deterministic_model_tunning\" target=\"_blank\">https://wandb.ai/snovaisg/thesis_basic_deterministic_model_tunning</a><br/>\n",
       "                Run page: <a href=\"https://wandb.ai/snovaisg/thesis_basic_deterministic_model_tunning/runs/39jq8a3o\" target=\"_blank\">https://wandb.ai/snovaisg/thesis_basic_deterministic_model_tunning/runs/39jq8a3o</a><br/>\n",
       "                Run data is saved locally in <code>/Users/simaonovais/Documents/GitHub/master-thesis/wandb/run-20220308_131558-39jq8a3o</code><br/><br/>\n",
       "            "
      ],
      "text/plain": [
       "<IPython.core.display.HTML object>"
      ]
     },
     "metadata": {},
     "output_type": "display_data"
    },
    {
     "data": {
      "text/html": [
       "<h1>Run(39jq8a3o)</h1><iframe src=\"https://wandb.ai/snovaisg/thesis_basic_deterministic_model_tunning/runs/39jq8a3o\" style=\"border:none;width:100%;height:400px\"></iframe>"
      ],
      "text/plain": [
       "<wandb.sdk.wandb_run.Run at 0x130b2e100>"
      ]
     },
     "execution_count": 9,
     "metadata": {},
     "output_type": "execute_result"
    },
    {
     "data": {
      "text/html": [
       "Finishing last run (ID:39jq8a3o) before initializing another..."
      ],
      "text/plain": [
       "<IPython.core.display.HTML object>"
      ]
     },
     "metadata": {},
     "output_type": "display_data"
    },
    {
     "data": {
      "text/html": [
       "<br/>Waiting for W&B process to finish, PID 19170<br/>Program ended successfully."
      ],
      "text/plain": [
       "<IPython.core.display.HTML object>"
      ]
     },
     "metadata": {},
     "output_type": "display_data"
    },
    {
     "data": {
      "text/html": [
       "Find user logs for this run at: <code>/Users/simaonovais/Documents/GitHub/master-thesis/wandb/run-20220308_131558-39jq8a3o/logs/debug.log</code>"
      ],
      "text/plain": [
       "<IPython.core.display.HTML object>"
      ]
     },
     "metadata": {},
     "output_type": "display_data"
    },
    {
     "data": {
      "text/html": [
       "Find internal logs for this run at: <code>/Users/simaonovais/Documents/GitHub/master-thesis/wandb/run-20220308_131558-39jq8a3o/logs/debug-internal.log</code>"
      ],
      "text/plain": [
       "<IPython.core.display.HTML object>"
      ]
     },
     "metadata": {},
     "output_type": "display_data"
    },
    {
     "data": {
      "text/html": [
       "<h3>Run summary:</h3><br/><style>\n",
       "    table.wandb td:nth-child(1) { padding: 0 10px; text-align: right }\n",
       "    </style><table class=\"wandb\">\n",
       "<tr><td>loss</td><td>0.10417</td></tr><tr><td>_runtime</td><td>25</td></tr><tr><td>_timestamp</td><td>1646745387</td></tr><tr><td>_step</td><td>15</td></tr><tr><td>train_loss</td><td>0.09842</td></tr><tr><td>train_recall@30</td><td>0.784</td></tr><tr><td>val_loss</td><td>0.11882</td></tr><tr><td>recall@10</td><td>0.43633</td></tr><tr><td>recall@20</td><td>0.59438</td></tr><tr><td>recall@30</td><td>0.69777</td></tr></table>"
      ],
      "text/plain": [
       "<IPython.core.display.HTML object>"
      ]
     },
     "metadata": {},
     "output_type": "display_data"
    },
    {
     "data": {
      "text/html": [
       "<h3>Run history:</h3><br/><style>\n",
       "    table.wandb td:nth-child(1) { padding: 0 10px; text-align: right }\n",
       "    </style><table class=\"wandb\">\n",
       "<tr><td>loss</td><td>█▄▃▃▂▂▂▂▁▁▁▁▁▁▁</td></tr><tr><td>_runtime</td><td>▁▁▂▂▂▃▃▄▄▄▅▅▆▆▆█</td></tr><tr><td>_timestamp</td><td>▁▁▂▂▂▃▃▄▄▄▅▅▆▆▆█</td></tr><tr><td>_step</td><td>▁▁▂▂▃▃▄▄▅▅▆▆▇▇██</td></tr><tr><td>train_loss</td><td>▁</td></tr><tr><td>train_recall@30</td><td>▁</td></tr><tr><td>val_loss</td><td>▁</td></tr><tr><td>recall@10</td><td>▁</td></tr><tr><td>recall@20</td><td>▁</td></tr><tr><td>recall@30</td><td>▁</td></tr></table><br/>"
      ],
      "text/plain": [
       "<IPython.core.display.HTML object>"
      ]
     },
     "metadata": {},
     "output_type": "display_data"
    },
    {
     "data": {
      "text/html": [
       "Synced 6 W&B file(s), 0 media file(s), 2 artifact file(s) and 1 other file(s)"
      ],
      "text/plain": [
       "<IPython.core.display.HTML object>"
      ]
     },
     "metadata": {},
     "output_type": "display_data"
    },
    {
     "data": {
      "text/html": [
       "\n",
       "                    <br/>Synced <strong style=\"color:#cdcd00\">rural-plant-64</strong>: <a href=\"https://wandb.ai/snovaisg/thesis_basic_deterministic_model_tunning/runs/39jq8a3o\" target=\"_blank\">https://wandb.ai/snovaisg/thesis_basic_deterministic_model_tunning/runs/39jq8a3o</a><br/>\n",
       "                "
      ],
      "text/plain": [
       "<IPython.core.display.HTML object>"
      ]
     },
     "metadata": {},
     "output_type": "display_data"
    },
    {
     "data": {
      "text/html": [
       "...Successfully finished last run (ID:39jq8a3o). Initializing new run:<br/><br/>"
      ],
      "text/plain": [
       "<IPython.core.display.HTML object>"
      ]
     },
     "metadata": {},
     "output_type": "display_data"
    },
    {
     "name": "stderr",
     "output_type": "stream",
     "text": [
      "\u001b[34m\u001b[1mwandb\u001b[0m: wandb version 0.12.11 is available!  To upgrade, please run:\n",
      "\u001b[34m\u001b[1mwandb\u001b[0m:  $ pip install wandb --upgrade\n"
     ]
    },
    {
     "data": {
      "text/html": [
       "\n",
       "                Tracking run with wandb version 0.12.1<br/>\n",
       "                Syncing run <strong style=\"color:#cdcd00\">comic-yogurt-65</strong> to <a href=\"https://wandb.ai\" target=\"_blank\">Weights & Biases</a> <a href=\"https://docs.wandb.com/integrations/jupyter.html\" target=\"_blank\">(Documentation)</a>.<br/>\n",
       "                Project page: <a href=\"https://wandb.ai/snovaisg/thesis_basic_deterministic_model_tunning\" target=\"_blank\">https://wandb.ai/snovaisg/thesis_basic_deterministic_model_tunning</a><br/>\n",
       "                Run page: <a href=\"https://wandb.ai/snovaisg/thesis_basic_deterministic_model_tunning/runs/130lakws\" target=\"_blank\">https://wandb.ai/snovaisg/thesis_basic_deterministic_model_tunning/runs/130lakws</a><br/>\n",
       "                Run data is saved locally in <code>/Users/simaonovais/Documents/GitHub/master-thesis/wandb/run-20220308_131627-130lakws</code><br/><br/>\n",
       "            "
      ],
      "text/plain": [
       "<IPython.core.display.HTML object>"
      ]
     },
     "metadata": {},
     "output_type": "display_data"
    },
    {
     "data": {
      "text/html": [
       "<h1>Run(130lakws)</h1><iframe src=\"https://wandb.ai/snovaisg/thesis_basic_deterministic_model_tunning/runs/130lakws\" style=\"border:none;width:100%;height:400px\"></iframe>"
      ],
      "text/plain": [
       "<wandb.sdk.wandb_run.Run at 0x130b06eb0>"
      ]
     },
     "execution_count": 9,
     "metadata": {},
     "output_type": "execute_result"
    },
    {
     "data": {
      "text/html": [
       "Finishing last run (ID:130lakws) before initializing another..."
      ],
      "text/plain": [
       "<IPython.core.display.HTML object>"
      ]
     },
     "metadata": {},
     "output_type": "display_data"
    },
    {
     "data": {
      "text/html": [
       "<br/>Waiting for W&B process to finish, PID 19186<br/>Program ended successfully."
      ],
      "text/plain": [
       "<IPython.core.display.HTML object>"
      ]
     },
     "metadata": {},
     "output_type": "display_data"
    },
    {
     "data": {
      "text/html": [
       "Find user logs for this run at: <code>/Users/simaonovais/Documents/GitHub/master-thesis/wandb/run-20220308_131627-130lakws/logs/debug.log</code>"
      ],
      "text/plain": [
       "<IPython.core.display.HTML object>"
      ]
     },
     "metadata": {},
     "output_type": "display_data"
    },
    {
     "data": {
      "text/html": [
       "Find internal logs for this run at: <code>/Users/simaonovais/Documents/GitHub/master-thesis/wandb/run-20220308_131627-130lakws/logs/debug-internal.log</code>"
      ],
      "text/plain": [
       "<IPython.core.display.HTML object>"
      ]
     },
     "metadata": {},
     "output_type": "display_data"
    },
    {
     "data": {
      "text/html": [
       "<h3>Run summary:</h3><br/><style>\n",
       "    table.wandb td:nth-child(1) { padding: 0 10px; text-align: right }\n",
       "    </style><table class=\"wandb\">\n",
       "<tr><td>loss</td><td>0.12157</td></tr><tr><td>_runtime</td><td>30</td></tr><tr><td>_timestamp</td><td>1646745423</td></tr><tr><td>_step</td><td>15</td></tr><tr><td>train_loss</td><td>0.12029</td></tr><tr><td>train_recall@30</td><td>0.68103</td></tr><tr><td>val_loss</td><td>0.12861</td></tr><tr><td>recall@10</td><td>0.35908</td></tr><tr><td>recall@20</td><td>0.5226</td></tr><tr><td>recall@30</td><td>0.63662</td></tr></table>"
      ],
      "text/plain": [
       "<IPython.core.display.HTML object>"
      ]
     },
     "metadata": {},
     "output_type": "display_data"
    },
    {
     "data": {
      "text/html": [
       "<h3>Run history:</h3><br/><style>\n",
       "    table.wandb td:nth-child(1) { padding: 0 10px; text-align: right }\n",
       "    </style><table class=\"wandb\">\n",
       "<tr><td>loss</td><td>█▄▄▃▃▄▃▂▂▂▂▂▁▁▁</td></tr><tr><td>_runtime</td><td>▁▁▂▂▂▃▃▃▄▄▅▅▅▅▆█</td></tr><tr><td>_timestamp</td><td>▁▁▂▂▂▃▃▃▄▄▅▅▅▅▆█</td></tr><tr><td>_step</td><td>▁▁▂▂▃▃▄▄▅▅▆▆▇▇██</td></tr><tr><td>train_loss</td><td>▁</td></tr><tr><td>train_recall@30</td><td>▁</td></tr><tr><td>val_loss</td><td>▁</td></tr><tr><td>recall@10</td><td>▁</td></tr><tr><td>recall@20</td><td>▁</td></tr><tr><td>recall@30</td><td>▁</td></tr></table><br/>"
      ],
      "text/plain": [
       "<IPython.core.display.HTML object>"
      ]
     },
     "metadata": {},
     "output_type": "display_data"
    },
    {
     "data": {
      "text/html": [
       "Synced 6 W&B file(s), 0 media file(s), 0 artifact file(s) and 0 other file(s)"
      ],
      "text/plain": [
       "<IPython.core.display.HTML object>"
      ]
     },
     "metadata": {},
     "output_type": "display_data"
    },
    {
     "data": {
      "text/html": [
       "\n",
       "                    <br/>Synced <strong style=\"color:#cdcd00\">comic-yogurt-65</strong>: <a href=\"https://wandb.ai/snovaisg/thesis_basic_deterministic_model_tunning/runs/130lakws\" target=\"_blank\">https://wandb.ai/snovaisg/thesis_basic_deterministic_model_tunning/runs/130lakws</a><br/>\n",
       "                "
      ],
      "text/plain": [
       "<IPython.core.display.HTML object>"
      ]
     },
     "metadata": {},
     "output_type": "display_data"
    },
    {
     "data": {
      "text/html": [
       "...Successfully finished last run (ID:130lakws). Initializing new run:<br/><br/>"
      ],
      "text/plain": [
       "<IPython.core.display.HTML object>"
      ]
     },
     "metadata": {},
     "output_type": "display_data"
    },
    {
     "name": "stderr",
     "output_type": "stream",
     "text": [
      "\u001b[34m\u001b[1mwandb\u001b[0m: wandb version 0.12.11 is available!  To upgrade, please run:\n",
      "\u001b[34m\u001b[1mwandb\u001b[0m:  $ pip install wandb --upgrade\n"
     ]
    },
    {
     "data": {
      "text/html": [
       "\n",
       "                Tracking run with wandb version 0.12.1<br/>\n",
       "                Syncing run <strong style=\"color:#cdcd00\">solar-valley-66</strong> to <a href=\"https://wandb.ai\" target=\"_blank\">Weights & Biases</a> <a href=\"https://docs.wandb.com/integrations/jupyter.html\" target=\"_blank\">(Documentation)</a>.<br/>\n",
       "                Project page: <a href=\"https://wandb.ai/snovaisg/thesis_basic_deterministic_model_tunning\" target=\"_blank\">https://wandb.ai/snovaisg/thesis_basic_deterministic_model_tunning</a><br/>\n",
       "                Run page: <a href=\"https://wandb.ai/snovaisg/thesis_basic_deterministic_model_tunning/runs/32ovg8db\" target=\"_blank\">https://wandb.ai/snovaisg/thesis_basic_deterministic_model_tunning/runs/32ovg8db</a><br/>\n",
       "                Run data is saved locally in <code>/Users/simaonovais/Documents/GitHub/master-thesis/wandb/run-20220308_131703-32ovg8db</code><br/><br/>\n",
       "            "
      ],
      "text/plain": [
       "<IPython.core.display.HTML object>"
      ]
     },
     "metadata": {},
     "output_type": "display_data"
    },
    {
     "data": {
      "text/html": [
       "<h1>Run(32ovg8db)</h1><iframe src=\"https://wandb.ai/snovaisg/thesis_basic_deterministic_model_tunning/runs/32ovg8db\" style=\"border:none;width:100%;height:400px\"></iframe>"
      ],
      "text/plain": [
       "<wandb.sdk.wandb_run.Run at 0x130b00b50>"
      ]
     },
     "execution_count": 9,
     "metadata": {},
     "output_type": "execute_result"
    },
    {
     "data": {
      "text/html": [
       "Finishing last run (ID:32ovg8db) before initializing another..."
      ],
      "text/plain": [
       "<IPython.core.display.HTML object>"
      ]
     },
     "metadata": {},
     "output_type": "display_data"
    },
    {
     "data": {
      "text/html": [
       "<br/>Waiting for W&B process to finish, PID 19206<br/>Program ended successfully."
      ],
      "text/plain": [
       "<IPython.core.display.HTML object>"
      ]
     },
     "metadata": {},
     "output_type": "display_data"
    },
    {
     "data": {
      "text/html": [
       "Find user logs for this run at: <code>/Users/simaonovais/Documents/GitHub/master-thesis/wandb/run-20220308_131703-32ovg8db/logs/debug.log</code>"
      ],
      "text/plain": [
       "<IPython.core.display.HTML object>"
      ]
     },
     "metadata": {},
     "output_type": "display_data"
    },
    {
     "data": {
      "text/html": [
       "Find internal logs for this run at: <code>/Users/simaonovais/Documents/GitHub/master-thesis/wandb/run-20220308_131703-32ovg8db/logs/debug-internal.log</code>"
      ],
      "text/plain": [
       "<IPython.core.display.HTML object>"
      ]
     },
     "metadata": {},
     "output_type": "display_data"
    },
    {
     "data": {
      "text/html": [
       "<h3>Run summary:</h3><br/><style>\n",
       "    table.wandb td:nth-child(1) { padding: 0 10px; text-align: right }\n",
       "    </style><table class=\"wandb\">\n",
       "<tr><td>loss</td><td>0.08957</td></tr><tr><td>_runtime</td><td>32</td></tr><tr><td>_timestamp</td><td>1646745459</td></tr><tr><td>_step</td><td>15</td></tr><tr><td>train_loss</td><td>0.08544</td></tr><tr><td>train_recall@30</td><td>0.83029</td></tr><tr><td>val_loss</td><td>0.11876</td></tr><tr><td>recall@10</td><td>0.4387</td></tr><tr><td>recall@20</td><td>0.60336</td></tr><tr><td>recall@30</td><td>0.70423</td></tr></table>"
      ],
      "text/plain": [
       "<IPython.core.display.HTML object>"
      ]
     },
     "metadata": {},
     "output_type": "display_data"
    },
    {
     "data": {
      "text/html": [
       "<h3>Run history:</h3><br/><style>\n",
       "    table.wandb td:nth-child(1) { padding: 0 10px; text-align: right }\n",
       "    </style><table class=\"wandb\">\n",
       "<tr><td>loss</td><td>█▄▃▃▂▂▂▂▂▂▁▁▁▁▁</td></tr><tr><td>_runtime</td><td>▁▂▂▂▃▃▃▄▄▅▅▅▆▆▆█</td></tr><tr><td>_timestamp</td><td>▁▂▂▂▃▃▃▄▄▅▅▅▆▆▆█</td></tr><tr><td>_step</td><td>▁▁▂▂▃▃▄▄▅▅▆▆▇▇██</td></tr><tr><td>train_loss</td><td>▁</td></tr><tr><td>train_recall@30</td><td>▁</td></tr><tr><td>val_loss</td><td>▁</td></tr><tr><td>recall@10</td><td>▁</td></tr><tr><td>recall@20</td><td>▁</td></tr><tr><td>recall@30</td><td>▁</td></tr></table><br/>"
      ],
      "text/plain": [
       "<IPython.core.display.HTML object>"
      ]
     },
     "metadata": {},
     "output_type": "display_data"
    },
    {
     "data": {
      "text/html": [
       "Synced 6 W&B file(s), 0 media file(s), 2 artifact file(s) and 1 other file(s)"
      ],
      "text/plain": [
       "<IPython.core.display.HTML object>"
      ]
     },
     "metadata": {},
     "output_type": "display_data"
    },
    {
     "data": {
      "text/html": [
       "\n",
       "                    <br/>Synced <strong style=\"color:#cdcd00\">solar-valley-66</strong>: <a href=\"https://wandb.ai/snovaisg/thesis_basic_deterministic_model_tunning/runs/32ovg8db\" target=\"_blank\">https://wandb.ai/snovaisg/thesis_basic_deterministic_model_tunning/runs/32ovg8db</a><br/>\n",
       "                "
      ],
      "text/plain": [
       "<IPython.core.display.HTML object>"
      ]
     },
     "metadata": {},
     "output_type": "display_data"
    },
    {
     "data": {
      "text/html": [
       "...Successfully finished last run (ID:32ovg8db). Initializing new run:<br/><br/>"
      ],
      "text/plain": [
       "<IPython.core.display.HTML object>"
      ]
     },
     "metadata": {},
     "output_type": "display_data"
    },
    {
     "name": "stderr",
     "output_type": "stream",
     "text": [
      "\u001b[34m\u001b[1mwandb\u001b[0m: wandb version 0.12.11 is available!  To upgrade, please run:\n",
      "\u001b[34m\u001b[1mwandb\u001b[0m:  $ pip install wandb --upgrade\n"
     ]
    },
    {
     "data": {
      "text/html": [
       "\n",
       "                Tracking run with wandb version 0.12.1<br/>\n",
       "                Syncing run <strong style=\"color:#cdcd00\">valiant-pyramid-67</strong> to <a href=\"https://wandb.ai\" target=\"_blank\">Weights & Biases</a> <a href=\"https://docs.wandb.com/integrations/jupyter.html\" target=\"_blank\">(Documentation)</a>.<br/>\n",
       "                Project page: <a href=\"https://wandb.ai/snovaisg/thesis_basic_deterministic_model_tunning\" target=\"_blank\">https://wandb.ai/snovaisg/thesis_basic_deterministic_model_tunning</a><br/>\n",
       "                Run page: <a href=\"https://wandb.ai/snovaisg/thesis_basic_deterministic_model_tunning/runs/3kicshau\" target=\"_blank\">https://wandb.ai/snovaisg/thesis_basic_deterministic_model_tunning/runs/3kicshau</a><br/>\n",
       "                Run data is saved locally in <code>/Users/simaonovais/Documents/GitHub/master-thesis/wandb/run-20220308_131739-3kicshau</code><br/><br/>\n",
       "            "
      ],
      "text/plain": [
       "<IPython.core.display.HTML object>"
      ]
     },
     "metadata": {},
     "output_type": "display_data"
    },
    {
     "data": {
      "text/html": [
       "<h1>Run(3kicshau)</h1><iframe src=\"https://wandb.ai/snovaisg/thesis_basic_deterministic_model_tunning/runs/3kicshau\" style=\"border:none;width:100%;height:400px\"></iframe>"
      ],
      "text/plain": [
       "<wandb.sdk.wandb_run.Run at 0x130b33850>"
      ]
     },
     "execution_count": 9,
     "metadata": {},
     "output_type": "execute_result"
    },
    {
     "data": {
      "text/html": [
       "Finishing last run (ID:3kicshau) before initializing another..."
      ],
      "text/plain": [
       "<IPython.core.display.HTML object>"
      ]
     },
     "metadata": {},
     "output_type": "display_data"
    },
    {
     "data": {
      "text/html": [
       "<br/>Waiting for W&B process to finish, PID 19248<br/>Program ended successfully."
      ],
      "text/plain": [
       "<IPython.core.display.HTML object>"
      ]
     },
     "metadata": {},
     "output_type": "display_data"
    },
    {
     "data": {
      "text/html": [
       "Find user logs for this run at: <code>/Users/simaonovais/Documents/GitHub/master-thesis/wandb/run-20220308_131739-3kicshau/logs/debug.log</code>"
      ],
      "text/plain": [
       "<IPython.core.display.HTML object>"
      ]
     },
     "metadata": {},
     "output_type": "display_data"
    },
    {
     "data": {
      "text/html": [
       "Find internal logs for this run at: <code>/Users/simaonovais/Documents/GitHub/master-thesis/wandb/run-20220308_131739-3kicshau/logs/debug-internal.log</code>"
      ],
      "text/plain": [
       "<IPython.core.display.HTML object>"
      ]
     },
     "metadata": {},
     "output_type": "display_data"
    },
    {
     "data": {
      "text/html": [
       "<h3>Run summary:</h3><br/><style>\n",
       "    table.wandb td:nth-child(1) { padding: 0 10px; text-align: right }\n",
       "    </style><table class=\"wandb\">\n",
       "<tr><td>loss</td><td>0.10659</td></tr><tr><td>_runtime</td><td>43</td></tr><tr><td>_timestamp</td><td>1646745509</td></tr><tr><td>_step</td><td>15</td></tr><tr><td>train_loss</td><td>0.10244</td></tr><tr><td>train_recall@30</td><td>0.75006</td></tr><tr><td>val_loss</td><td>0.12061</td></tr><tr><td>recall@10</td><td>0.40599</td></tr><tr><td>recall@20</td><td>0.56907</td></tr><tr><td>recall@30</td><td>0.67565</td></tr></table>"
      ],
      "text/plain": [
       "<IPython.core.display.HTML object>"
      ]
     },
     "metadata": {},
     "output_type": "display_data"
    },
    {
     "data": {
      "text/html": [
       "<h3>Run history:</h3><br/><style>\n",
       "    table.wandb td:nth-child(1) { padding: 0 10px; text-align: right }\n",
       "    </style><table class=\"wandb\">\n",
       "<tr><td>loss</td><td>█▄▄▄▄▃▃▃▃▂▂▂▁▁▁</td></tr><tr><td>_runtime</td><td>▁▁▂▂▂▂▃▃▄▄▅▅▆▆▇█</td></tr><tr><td>_timestamp</td><td>▁▁▂▂▂▂▃▃▄▄▅▅▆▆▇█</td></tr><tr><td>_step</td><td>▁▁▂▂▃▃▄▄▅▅▆▆▇▇██</td></tr><tr><td>train_loss</td><td>▁</td></tr><tr><td>train_recall@30</td><td>▁</td></tr><tr><td>val_loss</td><td>▁</td></tr><tr><td>recall@10</td><td>▁</td></tr><tr><td>recall@20</td><td>▁</td></tr><tr><td>recall@30</td><td>▁</td></tr></table><br/>"
      ],
      "text/plain": [
       "<IPython.core.display.HTML object>"
      ]
     },
     "metadata": {},
     "output_type": "display_data"
    },
    {
     "data": {
      "text/html": [
       "Synced 6 W&B file(s), 0 media file(s), 0 artifact file(s) and 0 other file(s)"
      ],
      "text/plain": [
       "<IPython.core.display.HTML object>"
      ]
     },
     "metadata": {},
     "output_type": "display_data"
    },
    {
     "data": {
      "text/html": [
       "\n",
       "                    <br/>Synced <strong style=\"color:#cdcd00\">valiant-pyramid-67</strong>: <a href=\"https://wandb.ai/snovaisg/thesis_basic_deterministic_model_tunning/runs/3kicshau\" target=\"_blank\">https://wandb.ai/snovaisg/thesis_basic_deterministic_model_tunning/runs/3kicshau</a><br/>\n",
       "                "
      ],
      "text/plain": [
       "<IPython.core.display.HTML object>"
      ]
     },
     "metadata": {},
     "output_type": "display_data"
    },
    {
     "data": {
      "text/html": [
       "...Successfully finished last run (ID:3kicshau). Initializing new run:<br/><br/>"
      ],
      "text/plain": [
       "<IPython.core.display.HTML object>"
      ]
     },
     "metadata": {},
     "output_type": "display_data"
    },
    {
     "name": "stderr",
     "output_type": "stream",
     "text": [
      "\u001b[34m\u001b[1mwandb\u001b[0m: wandb version 0.12.11 is available!  To upgrade, please run:\n",
      "\u001b[34m\u001b[1mwandb\u001b[0m:  $ pip install wandb --upgrade\n"
     ]
    },
    {
     "data": {
      "text/html": [
       "\n",
       "                Tracking run with wandb version 0.12.1<br/>\n",
       "                Syncing run <strong style=\"color:#cdcd00\">wild-blaze-68</strong> to <a href=\"https://wandb.ai\" target=\"_blank\">Weights & Biases</a> <a href=\"https://docs.wandb.com/integrations/jupyter.html\" target=\"_blank\">(Documentation)</a>.<br/>\n",
       "                Project page: <a href=\"https://wandb.ai/snovaisg/thesis_basic_deterministic_model_tunning\" target=\"_blank\">https://wandb.ai/snovaisg/thesis_basic_deterministic_model_tunning</a><br/>\n",
       "                Run page: <a href=\"https://wandb.ai/snovaisg/thesis_basic_deterministic_model_tunning/runs/3iobjr7m\" target=\"_blank\">https://wandb.ai/snovaisg/thesis_basic_deterministic_model_tunning/runs/3iobjr7m</a><br/>\n",
       "                Run data is saved locally in <code>/Users/simaonovais/Documents/GitHub/master-thesis/wandb/run-20220308_131829-3iobjr7m</code><br/><br/>\n",
       "            "
      ],
      "text/plain": [
       "<IPython.core.display.HTML object>"
      ]
     },
     "metadata": {},
     "output_type": "display_data"
    },
    {
     "data": {
      "text/html": [
       "<h1>Run(3iobjr7m)</h1><iframe src=\"https://wandb.ai/snovaisg/thesis_basic_deterministic_model_tunning/runs/3iobjr7m\" style=\"border:none;width:100%;height:400px\"></iframe>"
      ],
      "text/plain": [
       "<wandb.sdk.wandb_run.Run at 0x130ac3760>"
      ]
     },
     "execution_count": 9,
     "metadata": {},
     "output_type": "execute_result"
    },
    {
     "data": {
      "text/html": [
       "Finishing last run (ID:3iobjr7m) before initializing another..."
      ],
      "text/plain": [
       "<IPython.core.display.HTML object>"
      ]
     },
     "metadata": {},
     "output_type": "display_data"
    },
    {
     "data": {
      "text/html": [
       "<br/>Waiting for W&B process to finish, PID 19286<br/>Program ended successfully."
      ],
      "text/plain": [
       "<IPython.core.display.HTML object>"
      ]
     },
     "metadata": {},
     "output_type": "display_data"
    },
    {
     "data": {
      "text/html": [
       "Find user logs for this run at: <code>/Users/simaonovais/Documents/GitHub/master-thesis/wandb/run-20220308_131829-3iobjr7m/logs/debug.log</code>"
      ],
      "text/plain": [
       "<IPython.core.display.HTML object>"
      ]
     },
     "metadata": {},
     "output_type": "display_data"
    },
    {
     "data": {
      "text/html": [
       "Find internal logs for this run at: <code>/Users/simaonovais/Documents/GitHub/master-thesis/wandb/run-20220308_131829-3iobjr7m/logs/debug-internal.log</code>"
      ],
      "text/plain": [
       "<IPython.core.display.HTML object>"
      ]
     },
     "metadata": {},
     "output_type": "display_data"
    },
    {
     "data": {
      "text/html": [
       "<h3>Run summary:</h3><br/><style>\n",
       "    table.wandb td:nth-child(1) { padding: 0 10px; text-align: right }\n",
       "    </style><table class=\"wandb\">\n",
       "<tr><td>loss</td><td>0.08846</td></tr><tr><td>_runtime</td><td>34</td></tr><tr><td>_timestamp</td><td>1646745547</td></tr><tr><td>_step</td><td>15</td></tr><tr><td>train_loss</td><td>0.08506</td></tr><tr><td>train_recall@30</td><td>0.83233</td></tr><tr><td>val_loss</td><td>0.11637</td></tr><tr><td>recall@10</td><td>0.44321</td></tr><tr><td>recall@20</td><td>0.60568</td></tr><tr><td>recall@30</td><td>0.70849</td></tr></table>"
      ],
      "text/plain": [
       "<IPython.core.display.HTML object>"
      ]
     },
     "metadata": {},
     "output_type": "display_data"
    },
    {
     "data": {
      "text/html": [
       "<h3>Run history:</h3><br/><style>\n",
       "    table.wandb td:nth-child(1) { padding: 0 10px; text-align: right }\n",
       "    </style><table class=\"wandb\">\n",
       "<tr><td>loss</td><td>█▄▃▃▃▂▂▂▂▂▂▁▁▁▁</td></tr><tr><td>_runtime</td><td>▁▁▂▂▃▃▃▄▄▅▅▅▆▆▇█</td></tr><tr><td>_timestamp</td><td>▁▁▂▂▃▃▃▄▄▅▅▅▆▆▇█</td></tr><tr><td>_step</td><td>▁▁▂▂▃▃▄▄▅▅▆▆▇▇██</td></tr><tr><td>train_loss</td><td>▁</td></tr><tr><td>train_recall@30</td><td>▁</td></tr><tr><td>val_loss</td><td>▁</td></tr><tr><td>recall@10</td><td>▁</td></tr><tr><td>recall@20</td><td>▁</td></tr><tr><td>recall@30</td><td>▁</td></tr></table><br/>"
      ],
      "text/plain": [
       "<IPython.core.display.HTML object>"
      ]
     },
     "metadata": {},
     "output_type": "display_data"
    },
    {
     "data": {
      "text/html": [
       "Synced 6 W&B file(s), 0 media file(s), 2 artifact file(s) and 1 other file(s)"
      ],
      "text/plain": [
       "<IPython.core.display.HTML object>"
      ]
     },
     "metadata": {},
     "output_type": "display_data"
    },
    {
     "data": {
      "text/html": [
       "\n",
       "                    <br/>Synced <strong style=\"color:#cdcd00\">wild-blaze-68</strong>: <a href=\"https://wandb.ai/snovaisg/thesis_basic_deterministic_model_tunning/runs/3iobjr7m\" target=\"_blank\">https://wandb.ai/snovaisg/thesis_basic_deterministic_model_tunning/runs/3iobjr7m</a><br/>\n",
       "                "
      ],
      "text/plain": [
       "<IPython.core.display.HTML object>"
      ]
     },
     "metadata": {},
     "output_type": "display_data"
    },
    {
     "data": {
      "text/html": [
       "...Successfully finished last run (ID:3iobjr7m). Initializing new run:<br/><br/>"
      ],
      "text/plain": [
       "<IPython.core.display.HTML object>"
      ]
     },
     "metadata": {},
     "output_type": "display_data"
    },
    {
     "name": "stderr",
     "output_type": "stream",
     "text": [
      "\u001b[34m\u001b[1mwandb\u001b[0m: wandb version 0.12.11 is available!  To upgrade, please run:\n",
      "\u001b[34m\u001b[1mwandb\u001b[0m:  $ pip install wandb --upgrade\n"
     ]
    },
    {
     "data": {
      "text/html": [
       "\n",
       "                Tracking run with wandb version 0.12.1<br/>\n",
       "                Syncing run <strong style=\"color:#cdcd00\">youthful-vortex-69</strong> to <a href=\"https://wandb.ai\" target=\"_blank\">Weights & Biases</a> <a href=\"https://docs.wandb.com/integrations/jupyter.html\" target=\"_blank\">(Documentation)</a>.<br/>\n",
       "                Project page: <a href=\"https://wandb.ai/snovaisg/thesis_basic_deterministic_model_tunning\" target=\"_blank\">https://wandb.ai/snovaisg/thesis_basic_deterministic_model_tunning</a><br/>\n",
       "                Run page: <a href=\"https://wandb.ai/snovaisg/thesis_basic_deterministic_model_tunning/runs/24513oey\" target=\"_blank\">https://wandb.ai/snovaisg/thesis_basic_deterministic_model_tunning/runs/24513oey</a><br/>\n",
       "                Run data is saved locally in <code>/Users/simaonovais/Documents/GitHub/master-thesis/wandb/run-20220308_131907-24513oey</code><br/><br/>\n",
       "            "
      ],
      "text/plain": [
       "<IPython.core.display.HTML object>"
      ]
     },
     "metadata": {},
     "output_type": "display_data"
    },
    {
     "data": {
      "text/html": [
       "<h1>Run(24513oey)</h1><iframe src=\"https://wandb.ai/snovaisg/thesis_basic_deterministic_model_tunning/runs/24513oey\" style=\"border:none;width:100%;height:400px\"></iframe>"
      ],
      "text/plain": [
       "<wandb.sdk.wandb_run.Run at 0x130acf730>"
      ]
     },
     "execution_count": 9,
     "metadata": {},
     "output_type": "execute_result"
    },
    {
     "data": {
      "text/html": [
       "Finishing last run (ID:24513oey) before initializing another..."
      ],
      "text/plain": [
       "<IPython.core.display.HTML object>"
      ]
     },
     "metadata": {},
     "output_type": "display_data"
    },
    {
     "data": {
      "text/html": [
       "<br/>Waiting for W&B process to finish, PID 19312<br/>Program ended successfully."
      ],
      "text/plain": [
       "<IPython.core.display.HTML object>"
      ]
     },
     "metadata": {},
     "output_type": "display_data"
    },
    {
     "data": {
      "text/html": [
       "Find user logs for this run at: <code>/Users/simaonovais/Documents/GitHub/master-thesis/wandb/run-20220308_131907-24513oey/logs/debug.log</code>"
      ],
      "text/plain": [
       "<IPython.core.display.HTML object>"
      ]
     },
     "metadata": {},
     "output_type": "display_data"
    },
    {
     "data": {
      "text/html": [
       "Find internal logs for this run at: <code>/Users/simaonovais/Documents/GitHub/master-thesis/wandb/run-20220308_131907-24513oey/logs/debug-internal.log</code>"
      ],
      "text/plain": [
       "<IPython.core.display.HTML object>"
      ]
     },
     "metadata": {},
     "output_type": "display_data"
    },
    {
     "data": {
      "text/html": [
       "<h3>Run summary:</h3><br/><style>\n",
       "    table.wandb td:nth-child(1) { padding: 0 10px; text-align: right }\n",
       "    </style><table class=\"wandb\">\n",
       "<tr><td>loss</td><td>0.10664</td></tr><tr><td>_runtime</td><td>34</td></tr><tr><td>_timestamp</td><td>1646745587</td></tr><tr><td>_step</td><td>15</td></tr><tr><td>train_loss</td><td>0.10333</td></tr><tr><td>train_recall@30</td><td>0.74915</td></tr><tr><td>val_loss</td><td>0.11807</td></tr><tr><td>recall@10</td><td>0.41024</td></tr><tr><td>recall@20</td><td>0.57675</td></tr><tr><td>recall@30</td><td>0.68188</td></tr></table>"
      ],
      "text/plain": [
       "<IPython.core.display.HTML object>"
      ]
     },
     "metadata": {},
     "output_type": "display_data"
    },
    {
     "data": {
      "text/html": [
       "<h3>Run history:</h3><br/><style>\n",
       "    table.wandb td:nth-child(1) { padding: 0 10px; text-align: right }\n",
       "    </style><table class=\"wandb\">\n",
       "<tr><td>loss</td><td>█▄▄▄▃▃▃▃▃▂▂▂▂▁▁</td></tr><tr><td>_runtime</td><td>▁▂▂▂▃▃▄▄▄▅▅▅▆▆▇█</td></tr><tr><td>_timestamp</td><td>▁▂▂▂▃▃▄▄▄▅▅▅▆▆▇█</td></tr><tr><td>_step</td><td>▁▁▂▂▃▃▄▄▅▅▆▆▇▇██</td></tr><tr><td>train_loss</td><td>▁</td></tr><tr><td>train_recall@30</td><td>▁</td></tr><tr><td>val_loss</td><td>▁</td></tr><tr><td>recall@10</td><td>▁</td></tr><tr><td>recall@20</td><td>▁</td></tr><tr><td>recall@30</td><td>▁</td></tr></table><br/>"
      ],
      "text/plain": [
       "<IPython.core.display.HTML object>"
      ]
     },
     "metadata": {},
     "output_type": "display_data"
    },
    {
     "data": {
      "text/html": [
       "Synced 6 W&B file(s), 0 media file(s), 0 artifact file(s) and 0 other file(s)"
      ],
      "text/plain": [
       "<IPython.core.display.HTML object>"
      ]
     },
     "metadata": {},
     "output_type": "display_data"
    },
    {
     "data": {
      "text/html": [
       "\n",
       "                    <br/>Synced <strong style=\"color:#cdcd00\">youthful-vortex-69</strong>: <a href=\"https://wandb.ai/snovaisg/thesis_basic_deterministic_model_tunning/runs/24513oey\" target=\"_blank\">https://wandb.ai/snovaisg/thesis_basic_deterministic_model_tunning/runs/24513oey</a><br/>\n",
       "                "
      ],
      "text/plain": [
       "<IPython.core.display.HTML object>"
      ]
     },
     "metadata": {},
     "output_type": "display_data"
    },
    {
     "data": {
      "text/html": [
       "...Successfully finished last run (ID:24513oey). Initializing new run:<br/><br/>"
      ],
      "text/plain": [
       "<IPython.core.display.HTML object>"
      ]
     },
     "metadata": {},
     "output_type": "display_data"
    },
    {
     "name": "stderr",
     "output_type": "stream",
     "text": [
      "\u001b[34m\u001b[1mwandb\u001b[0m: wandb version 0.12.11 is available!  To upgrade, please run:\n",
      "\u001b[34m\u001b[1mwandb\u001b[0m:  $ pip install wandb --upgrade\n"
     ]
    },
    {
     "data": {
      "text/html": [
       "\n",
       "                Tracking run with wandb version 0.12.1<br/>\n",
       "                Syncing run <strong style=\"color:#cdcd00\">stilted-glitter-70</strong> to <a href=\"https://wandb.ai\" target=\"_blank\">Weights & Biases</a> <a href=\"https://docs.wandb.com/integrations/jupyter.html\" target=\"_blank\">(Documentation)</a>.<br/>\n",
       "                Project page: <a href=\"https://wandb.ai/snovaisg/thesis_basic_deterministic_model_tunning\" target=\"_blank\">https://wandb.ai/snovaisg/thesis_basic_deterministic_model_tunning</a><br/>\n",
       "                Run page: <a href=\"https://wandb.ai/snovaisg/thesis_basic_deterministic_model_tunning/runs/uu3rzcxw\" target=\"_blank\">https://wandb.ai/snovaisg/thesis_basic_deterministic_model_tunning/runs/uu3rzcxw</a><br/>\n",
       "                Run data is saved locally in <code>/Users/simaonovais/Documents/GitHub/master-thesis/wandb/run-20220308_131947-uu3rzcxw</code><br/><br/>\n",
       "            "
      ],
      "text/plain": [
       "<IPython.core.display.HTML object>"
      ]
     },
     "metadata": {},
     "output_type": "display_data"
    },
    {
     "data": {
      "text/html": [
       "<h1>Run(uu3rzcxw)</h1><iframe src=\"https://wandb.ai/snovaisg/thesis_basic_deterministic_model_tunning/runs/uu3rzcxw\" style=\"border:none;width:100%;height:400px\"></iframe>"
      ],
      "text/plain": [
       "<wandb.sdk.wandb_run.Run at 0x130b837c0>"
      ]
     },
     "execution_count": 9,
     "metadata": {},
     "output_type": "execute_result"
    },
    {
     "data": {
      "text/html": [
       "Finishing last run (ID:uu3rzcxw) before initializing another..."
      ],
      "text/plain": [
       "<IPython.core.display.HTML object>"
      ]
     },
     "metadata": {},
     "output_type": "display_data"
    },
    {
     "data": {
      "text/html": [
       "<br/>Waiting for W&B process to finish, PID 19328<br/>Program ended successfully."
      ],
      "text/plain": [
       "<IPython.core.display.HTML object>"
      ]
     },
     "metadata": {},
     "output_type": "display_data"
    },
    {
     "data": {
      "text/html": [
       "Find user logs for this run at: <code>/Users/simaonovais/Documents/GitHub/master-thesis/wandb/run-20220308_131947-uu3rzcxw/logs/debug.log</code>"
      ],
      "text/plain": [
       "<IPython.core.display.HTML object>"
      ]
     },
     "metadata": {},
     "output_type": "display_data"
    },
    {
     "data": {
      "text/html": [
       "Find internal logs for this run at: <code>/Users/simaonovais/Documents/GitHub/master-thesis/wandb/run-20220308_131947-uu3rzcxw/logs/debug-internal.log</code>"
      ],
      "text/plain": [
       "<IPython.core.display.HTML object>"
      ]
     },
     "metadata": {},
     "output_type": "display_data"
    },
    {
     "data": {
      "text/html": [
       "<h3>Run summary:</h3><br/><style>\n",
       "    table.wandb td:nth-child(1) { padding: 0 10px; text-align: right }\n",
       "    </style><table class=\"wandb\">\n",
       "<tr><td>loss</td><td>0.11574</td></tr><tr><td>_runtime</td><td>23</td></tr><tr><td>_timestamp</td><td>1646745614</td></tr><tr><td>_step</td><td>15</td></tr><tr><td>train_loss</td><td>0.10908</td></tr><tr><td>train_recall@30</td><td>0.74685</td></tr><tr><td>val_loss</td><td>0.13038</td></tr><tr><td>recall@10</td><td>0.39273</td></tr><tr><td>recall@20</td><td>0.55586</td></tr><tr><td>recall@30</td><td>0.66239</td></tr></table>"
      ],
      "text/plain": [
       "<IPython.core.display.HTML object>"
      ]
     },
     "metadata": {},
     "output_type": "display_data"
    },
    {
     "data": {
      "text/html": [
       "<h3>Run history:</h3><br/><style>\n",
       "    table.wandb td:nth-child(1) { padding: 0 10px; text-align: right }\n",
       "    </style><table class=\"wandb\">\n",
       "<tr><td>loss</td><td>█▄▃▂▂▂▂▂▂▁▁▁▁▁▁</td></tr><tr><td>_runtime</td><td>▁▁▂▂▂▃▃▄▄▄▅▅▅▆▆█</td></tr><tr><td>_timestamp</td><td>▁▁▂▂▂▃▃▄▄▄▅▅▅▆▆█</td></tr><tr><td>_step</td><td>▁▁▂▂▃▃▄▄▅▅▆▆▇▇██</td></tr><tr><td>train_loss</td><td>▁</td></tr><tr><td>train_recall@30</td><td>▁</td></tr><tr><td>val_loss</td><td>▁</td></tr><tr><td>recall@10</td><td>▁</td></tr><tr><td>recall@20</td><td>▁</td></tr><tr><td>recall@30</td><td>▁</td></tr></table><br/>"
      ],
      "text/plain": [
       "<IPython.core.display.HTML object>"
      ]
     },
     "metadata": {},
     "output_type": "display_data"
    },
    {
     "data": {
      "text/html": [
       "Synced 6 W&B file(s), 0 media file(s), 2 artifact file(s) and 1 other file(s)"
      ],
      "text/plain": [
       "<IPython.core.display.HTML object>"
      ]
     },
     "metadata": {},
     "output_type": "display_data"
    },
    {
     "data": {
      "text/html": [
       "\n",
       "                    <br/>Synced <strong style=\"color:#cdcd00\">stilted-glitter-70</strong>: <a href=\"https://wandb.ai/snovaisg/thesis_basic_deterministic_model_tunning/runs/uu3rzcxw\" target=\"_blank\">https://wandb.ai/snovaisg/thesis_basic_deterministic_model_tunning/runs/uu3rzcxw</a><br/>\n",
       "                "
      ],
      "text/plain": [
       "<IPython.core.display.HTML object>"
      ]
     },
     "metadata": {},
     "output_type": "display_data"
    },
    {
     "data": {
      "text/html": [
       "...Successfully finished last run (ID:uu3rzcxw). Initializing new run:<br/><br/>"
      ],
      "text/plain": [
       "<IPython.core.display.HTML object>"
      ]
     },
     "metadata": {},
     "output_type": "display_data"
    },
    {
     "name": "stderr",
     "output_type": "stream",
     "text": [
      "\u001b[34m\u001b[1mwandb\u001b[0m: wandb version 0.12.11 is available!  To upgrade, please run:\n",
      "\u001b[34m\u001b[1mwandb\u001b[0m:  $ pip install wandb --upgrade\n"
     ]
    },
    {
     "data": {
      "text/html": [
       "\n",
       "                Tracking run with wandb version 0.12.1<br/>\n",
       "                Syncing run <strong style=\"color:#cdcd00\">ethereal-durian-71</strong> to <a href=\"https://wandb.ai\" target=\"_blank\">Weights & Biases</a> <a href=\"https://docs.wandb.com/integrations/jupyter.html\" target=\"_blank\">(Documentation)</a>.<br/>\n",
       "                Project page: <a href=\"https://wandb.ai/snovaisg/thesis_basic_deterministic_model_tunning\" target=\"_blank\">https://wandb.ai/snovaisg/thesis_basic_deterministic_model_tunning</a><br/>\n",
       "                Run page: <a href=\"https://wandb.ai/snovaisg/thesis_basic_deterministic_model_tunning/runs/4vnlwn40\" target=\"_blank\">https://wandb.ai/snovaisg/thesis_basic_deterministic_model_tunning/runs/4vnlwn40</a><br/>\n",
       "                Run data is saved locally in <code>/Users/simaonovais/Documents/GitHub/master-thesis/wandb/run-20220308_132014-4vnlwn40</code><br/><br/>\n",
       "            "
      ],
      "text/plain": [
       "<IPython.core.display.HTML object>"
      ]
     },
     "metadata": {},
     "output_type": "display_data"
    },
    {
     "data": {
      "text/html": [
       "<h1>Run(4vnlwn40)</h1><iframe src=\"https://wandb.ai/snovaisg/thesis_basic_deterministic_model_tunning/runs/4vnlwn40\" style=\"border:none;width:100%;height:400px\"></iframe>"
      ],
      "text/plain": [
       "<wandb.sdk.wandb_run.Run at 0x130b83820>"
      ]
     },
     "execution_count": 9,
     "metadata": {},
     "output_type": "execute_result"
    },
    {
     "data": {
      "text/html": [
       "Finishing last run (ID:4vnlwn40) before initializing another..."
      ],
      "text/plain": [
       "<IPython.core.display.HTML object>"
      ]
     },
     "metadata": {},
     "output_type": "display_data"
    },
    {
     "data": {
      "text/html": [
       "<br/>Waiting for W&B process to finish, PID 19344<br/>Program ended successfully."
      ],
      "text/plain": [
       "<IPython.core.display.HTML object>"
      ]
     },
     "metadata": {},
     "output_type": "display_data"
    },
    {
     "data": {
      "text/html": [
       "Find user logs for this run at: <code>/Users/simaonovais/Documents/GitHub/master-thesis/wandb/run-20220308_132014-4vnlwn40/logs/debug.log</code>"
      ],
      "text/plain": [
       "<IPython.core.display.HTML object>"
      ]
     },
     "metadata": {},
     "output_type": "display_data"
    },
    {
     "data": {
      "text/html": [
       "Find internal logs for this run at: <code>/Users/simaonovais/Documents/GitHub/master-thesis/wandb/run-20220308_132014-4vnlwn40/logs/debug-internal.log</code>"
      ],
      "text/plain": [
       "<IPython.core.display.HTML object>"
      ]
     },
     "metadata": {},
     "output_type": "display_data"
    },
    {
     "data": {
      "text/html": [
       "<h3>Run summary:</h3><br/><style>\n",
       "    table.wandb td:nth-child(1) { padding: 0 10px; text-align: right }\n",
       "    </style><table class=\"wandb\">\n",
       "<tr><td>loss</td><td>0.12753</td></tr><tr><td>_runtime</td><td>26</td></tr><tr><td>_timestamp</td><td>1646745646</td></tr><tr><td>_step</td><td>15</td></tr><tr><td>train_loss</td><td>0.12632</td></tr><tr><td>train_recall@30</td><td>0.66885</td></tr><tr><td>val_loss</td><td>0.13497</td></tr><tr><td>recall@10</td><td>0.34752</td></tr><tr><td>recall@20</td><td>0.51178</td></tr><tr><td>recall@30</td><td>0.63031</td></tr></table>"
      ],
      "text/plain": [
       "<IPython.core.display.HTML object>"
      ]
     },
     "metadata": {},
     "output_type": "display_data"
    },
    {
     "data": {
      "text/html": [
       "<h3>Run history:</h3><br/><style>\n",
       "    table.wandb td:nth-child(1) { padding: 0 10px; text-align: right }\n",
       "    </style><table class=\"wandb\">\n",
       "<tr><td>loss</td><td>█▄▄▄▃▃▄▃▅▃▂▂▂▂▁</td></tr><tr><td>_runtime</td><td>▁▁▂▂▂▃▃▄▄▄▅▅▅▆▆█</td></tr><tr><td>_timestamp</td><td>▁▁▂▂▂▃▃▄▄▄▅▅▅▆▆█</td></tr><tr><td>_step</td><td>▁▁▂▂▃▃▄▄▅▅▆▆▇▇██</td></tr><tr><td>train_loss</td><td>▁</td></tr><tr><td>train_recall@30</td><td>▁</td></tr><tr><td>val_loss</td><td>▁</td></tr><tr><td>recall@10</td><td>▁</td></tr><tr><td>recall@20</td><td>▁</td></tr><tr><td>recall@30</td><td>▁</td></tr></table><br/>"
      ],
      "text/plain": [
       "<IPython.core.display.HTML object>"
      ]
     },
     "metadata": {},
     "output_type": "display_data"
    },
    {
     "data": {
      "text/html": [
       "Synced 6 W&B file(s), 0 media file(s), 0 artifact file(s) and 0 other file(s)"
      ],
      "text/plain": [
       "<IPython.core.display.HTML object>"
      ]
     },
     "metadata": {},
     "output_type": "display_data"
    },
    {
     "data": {
      "text/html": [
       "\n",
       "                    <br/>Synced <strong style=\"color:#cdcd00\">ethereal-durian-71</strong>: <a href=\"https://wandb.ai/snovaisg/thesis_basic_deterministic_model_tunning/runs/4vnlwn40\" target=\"_blank\">https://wandb.ai/snovaisg/thesis_basic_deterministic_model_tunning/runs/4vnlwn40</a><br/>\n",
       "                "
      ],
      "text/plain": [
       "<IPython.core.display.HTML object>"
      ]
     },
     "metadata": {},
     "output_type": "display_data"
    },
    {
     "data": {
      "text/html": [
       "...Successfully finished last run (ID:4vnlwn40). Initializing new run:<br/><br/>"
      ],
      "text/plain": [
       "<IPython.core.display.HTML object>"
      ]
     },
     "metadata": {},
     "output_type": "display_data"
    },
    {
     "name": "stderr",
     "output_type": "stream",
     "text": [
      "\u001b[34m\u001b[1mwandb\u001b[0m: wandb version 0.12.11 is available!  To upgrade, please run:\n",
      "\u001b[34m\u001b[1mwandb\u001b[0m:  $ pip install wandb --upgrade\n"
     ]
    },
    {
     "data": {
      "text/html": [
       "\n",
       "                Tracking run with wandb version 0.12.1<br/>\n",
       "                Syncing run <strong style=\"color:#cdcd00\">northern-gorge-72</strong> to <a href=\"https://wandb.ai\" target=\"_blank\">Weights & Biases</a> <a href=\"https://docs.wandb.com/integrations/jupyter.html\" target=\"_blank\">(Documentation)</a>.<br/>\n",
       "                Project page: <a href=\"https://wandb.ai/snovaisg/thesis_basic_deterministic_model_tunning\" target=\"_blank\">https://wandb.ai/snovaisg/thesis_basic_deterministic_model_tunning</a><br/>\n",
       "                Run page: <a href=\"https://wandb.ai/snovaisg/thesis_basic_deterministic_model_tunning/runs/35ofh65b\" target=\"_blank\">https://wandb.ai/snovaisg/thesis_basic_deterministic_model_tunning/runs/35ofh65b</a><br/>\n",
       "                Run data is saved locally in <code>/Users/simaonovais/Documents/GitHub/master-thesis/wandb/run-20220308_132046-35ofh65b</code><br/><br/>\n",
       "            "
      ],
      "text/plain": [
       "<IPython.core.display.HTML object>"
      ]
     },
     "metadata": {},
     "output_type": "display_data"
    },
    {
     "data": {
      "text/html": [
       "<h1>Run(35ofh65b)</h1><iframe src=\"https://wandb.ai/snovaisg/thesis_basic_deterministic_model_tunning/runs/35ofh65b\" style=\"border:none;width:100%;height:400px\"></iframe>"
      ],
      "text/plain": [
       "<wandb.sdk.wandb_run.Run at 0x130b94ca0>"
      ]
     },
     "execution_count": 9,
     "metadata": {},
     "output_type": "execute_result"
    },
    {
     "data": {
      "text/html": [
       "Finishing last run (ID:35ofh65b) before initializing another..."
      ],
      "text/plain": [
       "<IPython.core.display.HTML object>"
      ]
     },
     "metadata": {},
     "output_type": "display_data"
    },
    {
     "data": {
      "text/html": [
       "<br/>Waiting for W&B process to finish, PID 19360<br/>Program ended successfully."
      ],
      "text/plain": [
       "<IPython.core.display.HTML object>"
      ]
     },
     "metadata": {},
     "output_type": "display_data"
    },
    {
     "data": {
      "text/html": [
       "Find user logs for this run at: <code>/Users/simaonovais/Documents/GitHub/master-thesis/wandb/run-20220308_132046-35ofh65b/logs/debug.log</code>"
      ],
      "text/plain": [
       "<IPython.core.display.HTML object>"
      ]
     },
     "metadata": {},
     "output_type": "display_data"
    },
    {
     "data": {
      "text/html": [
       "Find internal logs for this run at: <code>/Users/simaonovais/Documents/GitHub/master-thesis/wandb/run-20220308_132046-35ofh65b/logs/debug-internal.log</code>"
      ],
      "text/plain": [
       "<IPython.core.display.HTML object>"
      ]
     },
     "metadata": {},
     "output_type": "display_data"
    },
    {
     "data": {
      "text/html": [
       "<h3>Run summary:</h3><br/><style>\n",
       "    table.wandb td:nth-child(1) { padding: 0 10px; text-align: right }\n",
       "    </style><table class=\"wandb\">\n",
       "<tr><td>loss</td><td>0.08273</td></tr><tr><td>_runtime</td><td>26</td></tr><tr><td>_timestamp</td><td>1646745676</td></tr><tr><td>_step</td><td>15</td></tr><tr><td>train_loss</td><td>0.07873</td></tr><tr><td>train_recall@30</td><td>0.86487</td></tr><tr><td>val_loss</td><td>0.13355</td></tr><tr><td>recall@10</td><td>0.41345</td></tr><tr><td>recall@20</td><td>0.57098</td></tr><tr><td>recall@30</td><td>0.67099</td></tr></table>"
      ],
      "text/plain": [
       "<IPython.core.display.HTML object>"
      ]
     },
     "metadata": {},
     "output_type": "display_data"
    },
    {
     "data": {
      "text/html": [
       "<h3>Run history:</h3><br/><style>\n",
       "    table.wandb td:nth-child(1) { padding: 0 10px; text-align: right }\n",
       "    </style><table class=\"wandb\">\n",
       "<tr><td>loss</td><td>█▄▄▃▃▃▃▂▂▂▂▂▁▁▁</td></tr><tr><td>_runtime</td><td>▁▁▂▂▃▃▃▄▄▅▅▅▆▆▆█</td></tr><tr><td>_timestamp</td><td>▁▁▂▂▃▃▃▄▄▅▅▅▆▆▆█</td></tr><tr><td>_step</td><td>▁▁▂▂▃▃▄▄▅▅▆▆▇▇██</td></tr><tr><td>train_loss</td><td>▁</td></tr><tr><td>train_recall@30</td><td>▁</td></tr><tr><td>val_loss</td><td>▁</td></tr><tr><td>recall@10</td><td>▁</td></tr><tr><td>recall@20</td><td>▁</td></tr><tr><td>recall@30</td><td>▁</td></tr></table><br/>"
      ],
      "text/plain": [
       "<IPython.core.display.HTML object>"
      ]
     },
     "metadata": {},
     "output_type": "display_data"
    },
    {
     "data": {
      "text/html": [
       "Synced 6 W&B file(s), 0 media file(s), 2 artifact file(s) and 1 other file(s)"
      ],
      "text/plain": [
       "<IPython.core.display.HTML object>"
      ]
     },
     "metadata": {},
     "output_type": "display_data"
    },
    {
     "data": {
      "text/html": [
       "\n",
       "                    <br/>Synced <strong style=\"color:#cdcd00\">northern-gorge-72</strong>: <a href=\"https://wandb.ai/snovaisg/thesis_basic_deterministic_model_tunning/runs/35ofh65b\" target=\"_blank\">https://wandb.ai/snovaisg/thesis_basic_deterministic_model_tunning/runs/35ofh65b</a><br/>\n",
       "                "
      ],
      "text/plain": [
       "<IPython.core.display.HTML object>"
      ]
     },
     "metadata": {},
     "output_type": "display_data"
    },
    {
     "data": {
      "text/html": [
       "...Successfully finished last run (ID:35ofh65b). Initializing new run:<br/><br/>"
      ],
      "text/plain": [
       "<IPython.core.display.HTML object>"
      ]
     },
     "metadata": {},
     "output_type": "display_data"
    },
    {
     "name": "stderr",
     "output_type": "stream",
     "text": [
      "\u001b[34m\u001b[1mwandb\u001b[0m: wandb version 0.12.11 is available!  To upgrade, please run:\n",
      "\u001b[34m\u001b[1mwandb\u001b[0m:  $ pip install wandb --upgrade\n"
     ]
    },
    {
     "data": {
      "text/html": [
       "\n",
       "                Tracking run with wandb version 0.12.1<br/>\n",
       "                Syncing run <strong style=\"color:#cdcd00\">dark-wave-73</strong> to <a href=\"https://wandb.ai\" target=\"_blank\">Weights & Biases</a> <a href=\"https://docs.wandb.com/integrations/jupyter.html\" target=\"_blank\">(Documentation)</a>.<br/>\n",
       "                Project page: <a href=\"https://wandb.ai/snovaisg/thesis_basic_deterministic_model_tunning\" target=\"_blank\">https://wandb.ai/snovaisg/thesis_basic_deterministic_model_tunning</a><br/>\n",
       "                Run page: <a href=\"https://wandb.ai/snovaisg/thesis_basic_deterministic_model_tunning/runs/3eyiaf20\" target=\"_blank\">https://wandb.ai/snovaisg/thesis_basic_deterministic_model_tunning/runs/3eyiaf20</a><br/>\n",
       "                Run data is saved locally in <code>/Users/simaonovais/Documents/GitHub/master-thesis/wandb/run-20220308_132116-3eyiaf20</code><br/><br/>\n",
       "            "
      ],
      "text/plain": [
       "<IPython.core.display.HTML object>"
      ]
     },
     "metadata": {},
     "output_type": "display_data"
    },
    {
     "data": {
      "text/html": [
       "<h1>Run(3eyiaf20)</h1><iframe src=\"https://wandb.ai/snovaisg/thesis_basic_deterministic_model_tunning/runs/3eyiaf20\" style=\"border:none;width:100%;height:400px\"></iframe>"
      ],
      "text/plain": [
       "<wandb.sdk.wandb_run.Run at 0x130af76d0>"
      ]
     },
     "execution_count": 9,
     "metadata": {},
     "output_type": "execute_result"
    },
    {
     "data": {
      "text/html": [
       "Finishing last run (ID:3eyiaf20) before initializing another..."
      ],
      "text/plain": [
       "<IPython.core.display.HTML object>"
      ]
     },
     "metadata": {},
     "output_type": "display_data"
    },
    {
     "data": {
      "text/html": [
       "<br/>Waiting for W&B process to finish, PID 19378<br/>Program ended successfully."
      ],
      "text/plain": [
       "<IPython.core.display.HTML object>"
      ]
     },
     "metadata": {},
     "output_type": "display_data"
    },
    {
     "data": {
      "text/html": [
       "Find user logs for this run at: <code>/Users/simaonovais/Documents/GitHub/master-thesis/wandb/run-20220308_132116-3eyiaf20/logs/debug.log</code>"
      ],
      "text/plain": [
       "<IPython.core.display.HTML object>"
      ]
     },
     "metadata": {},
     "output_type": "display_data"
    },
    {
     "data": {
      "text/html": [
       "Find internal logs for this run at: <code>/Users/simaonovais/Documents/GitHub/master-thesis/wandb/run-20220308_132116-3eyiaf20/logs/debug-internal.log</code>"
      ],
      "text/plain": [
       "<IPython.core.display.HTML object>"
      ]
     },
     "metadata": {},
     "output_type": "display_data"
    },
    {
     "data": {
      "text/html": [
       "<h3>Run summary:</h3><br/><style>\n",
       "    table.wandb td:nth-child(1) { padding: 0 10px; text-align: right }\n",
       "    </style><table class=\"wandb\">\n",
       "<tr><td>loss</td><td>0.10412</td></tr><tr><td>_runtime</td><td>31</td></tr><tr><td>_timestamp</td><td>1646745714</td></tr><tr><td>_step</td><td>15</td></tr><tr><td>train_loss</td><td>0.10058</td></tr><tr><td>train_recall@30</td><td>0.76018</td></tr><tr><td>val_loss</td><td>0.12447</td></tr><tr><td>recall@10</td><td>0.39236</td></tr><tr><td>recall@20</td><td>0.55909</td></tr><tr><td>recall@30</td><td>0.66674</td></tr></table>"
      ],
      "text/plain": [
       "<IPython.core.display.HTML object>"
      ]
     },
     "metadata": {},
     "output_type": "display_data"
    },
    {
     "data": {
      "text/html": [
       "<h3>Run history:</h3><br/><style>\n",
       "    table.wandb td:nth-child(1) { padding: 0 10px; text-align: right }\n",
       "    </style><table class=\"wandb\">\n",
       "<tr><td>loss</td><td>█▅▅▄▄▄▃▃▃▂▂▂▂▁▁</td></tr><tr><td>_runtime</td><td>▁▂▂▂▃▃▃▄▄▅▅▅▆▆▇█</td></tr><tr><td>_timestamp</td><td>▁▂▂▂▃▃▃▄▄▅▅▅▆▆▇█</td></tr><tr><td>_step</td><td>▁▁▂▂▃▃▄▄▅▅▆▆▇▇██</td></tr><tr><td>train_loss</td><td>▁</td></tr><tr><td>train_recall@30</td><td>▁</td></tr><tr><td>val_loss</td><td>▁</td></tr><tr><td>recall@10</td><td>▁</td></tr><tr><td>recall@20</td><td>▁</td></tr><tr><td>recall@30</td><td>▁</td></tr></table><br/>"
      ],
      "text/plain": [
       "<IPython.core.display.HTML object>"
      ]
     },
     "metadata": {},
     "output_type": "display_data"
    },
    {
     "data": {
      "text/html": [
       "Synced 6 W&B file(s), 0 media file(s), 0 artifact file(s) and 0 other file(s)"
      ],
      "text/plain": [
       "<IPython.core.display.HTML object>"
      ]
     },
     "metadata": {},
     "output_type": "display_data"
    },
    {
     "data": {
      "text/html": [
       "\n",
       "                    <br/>Synced <strong style=\"color:#cdcd00\">dark-wave-73</strong>: <a href=\"https://wandb.ai/snovaisg/thesis_basic_deterministic_model_tunning/runs/3eyiaf20\" target=\"_blank\">https://wandb.ai/snovaisg/thesis_basic_deterministic_model_tunning/runs/3eyiaf20</a><br/>\n",
       "                "
      ],
      "text/plain": [
       "<IPython.core.display.HTML object>"
      ]
     },
     "metadata": {},
     "output_type": "display_data"
    },
    {
     "data": {
      "text/html": [
       "...Successfully finished last run (ID:3eyiaf20). Initializing new run:<br/><br/>"
      ],
      "text/plain": [
       "<IPython.core.display.HTML object>"
      ]
     },
     "metadata": {},
     "output_type": "display_data"
    },
    {
     "name": "stderr",
     "output_type": "stream",
     "text": [
      "\u001b[34m\u001b[1mwandb\u001b[0m: wandb version 0.12.11 is available!  To upgrade, please run:\n",
      "\u001b[34m\u001b[1mwandb\u001b[0m:  $ pip install wandb --upgrade\n"
     ]
    },
    {
     "data": {
      "text/html": [
       "\n",
       "                Tracking run with wandb version 0.12.1<br/>\n",
       "                Syncing run <strong style=\"color:#cdcd00\">volcanic-pond-74</strong> to <a href=\"https://wandb.ai\" target=\"_blank\">Weights & Biases</a> <a href=\"https://docs.wandb.com/integrations/jupyter.html\" target=\"_blank\">(Documentation)</a>.<br/>\n",
       "                Project page: <a href=\"https://wandb.ai/snovaisg/thesis_basic_deterministic_model_tunning\" target=\"_blank\">https://wandb.ai/snovaisg/thesis_basic_deterministic_model_tunning</a><br/>\n",
       "                Run page: <a href=\"https://wandb.ai/snovaisg/thesis_basic_deterministic_model_tunning/runs/23ievgjn\" target=\"_blank\">https://wandb.ai/snovaisg/thesis_basic_deterministic_model_tunning/runs/23ievgjn</a><br/>\n",
       "                Run data is saved locally in <code>/Users/simaonovais/Documents/GitHub/master-thesis/wandb/run-20220308_132154-23ievgjn</code><br/><br/>\n",
       "            "
      ],
      "text/plain": [
       "<IPython.core.display.HTML object>"
      ]
     },
     "metadata": {},
     "output_type": "display_data"
    },
    {
     "data": {
      "text/html": [
       "<h1>Run(23ievgjn)</h1><iframe src=\"https://wandb.ai/snovaisg/thesis_basic_deterministic_model_tunning/runs/23ievgjn\" style=\"border:none;width:100%;height:400px\"></iframe>"
      ],
      "text/plain": [
       "<wandb.sdk.wandb_run.Run at 0x130c60ee0>"
      ]
     },
     "execution_count": 9,
     "metadata": {},
     "output_type": "execute_result"
    },
    {
     "data": {
      "text/html": [
       "Finishing last run (ID:23ievgjn) before initializing another..."
      ],
      "text/plain": [
       "<IPython.core.display.HTML object>"
      ]
     },
     "metadata": {},
     "output_type": "display_data"
    },
    {
     "data": {
      "text/html": [
       "<br/>Waiting for W&B process to finish, PID 19394<br/>Program ended successfully."
      ],
      "text/plain": [
       "<IPython.core.display.HTML object>"
      ]
     },
     "metadata": {},
     "output_type": "display_data"
    },
    {
     "data": {
      "text/html": [
       "Find user logs for this run at: <code>/Users/simaonovais/Documents/GitHub/master-thesis/wandb/run-20220308_132154-23ievgjn/logs/debug.log</code>"
      ],
      "text/plain": [
       "<IPython.core.display.HTML object>"
      ]
     },
     "metadata": {},
     "output_type": "display_data"
    },
    {
     "data": {
      "text/html": [
       "Find internal logs for this run at: <code>/Users/simaonovais/Documents/GitHub/master-thesis/wandb/run-20220308_132154-23ievgjn/logs/debug-internal.log</code>"
      ],
      "text/plain": [
       "<IPython.core.display.HTML object>"
      ]
     },
     "metadata": {},
     "output_type": "display_data"
    },
    {
     "data": {
      "text/html": [
       "<h3>Run summary:</h3><br/><style>\n",
       "    table.wandb td:nth-child(1) { padding: 0 10px; text-align: right }\n",
       "    </style><table class=\"wandb\">\n",
       "<tr><td>loss</td><td>0.07911</td></tr><tr><td>_runtime</td><td>27</td></tr><tr><td>_timestamp</td><td>1646745749</td></tr><tr><td>_step</td><td>15</td></tr><tr><td>train_loss</td><td>0.07364</td></tr><tr><td>train_recall@30</td><td>0.88024</td></tr><tr><td>val_loss</td><td>0.13054</td></tr><tr><td>recall@10</td><td>0.41393</td></tr><tr><td>recall@20</td><td>0.57343</td></tr><tr><td>recall@30</td><td>0.67466</td></tr></table>"
      ],
      "text/plain": [
       "<IPython.core.display.HTML object>"
      ]
     },
     "metadata": {},
     "output_type": "display_data"
    },
    {
     "data": {
      "text/html": [
       "<h3>Run history:</h3><br/><style>\n",
       "    table.wandb td:nth-child(1) { padding: 0 10px; text-align: right }\n",
       "    </style><table class=\"wandb\">\n",
       "<tr><td>loss</td><td>█▅▄▄▃▃▃▂▂▂▂▂▁▁▁</td></tr><tr><td>_runtime</td><td>▁▂▂▂▃▃▃▄▄▅▅▅▆▆▆█</td></tr><tr><td>_timestamp</td><td>▁▂▂▂▃▃▃▄▄▅▅▅▆▆▆█</td></tr><tr><td>_step</td><td>▁▁▂▂▃▃▄▄▅▅▆▆▇▇██</td></tr><tr><td>train_loss</td><td>▁</td></tr><tr><td>train_recall@30</td><td>▁</td></tr><tr><td>val_loss</td><td>▁</td></tr><tr><td>recall@10</td><td>▁</td></tr><tr><td>recall@20</td><td>▁</td></tr><tr><td>recall@30</td><td>▁</td></tr></table><br/>"
      ],
      "text/plain": [
       "<IPython.core.display.HTML object>"
      ]
     },
     "metadata": {},
     "output_type": "display_data"
    },
    {
     "data": {
      "text/html": [
       "Synced 6 W&B file(s), 0 media file(s), 2 artifact file(s) and 1 other file(s)"
      ],
      "text/plain": [
       "<IPython.core.display.HTML object>"
      ]
     },
     "metadata": {},
     "output_type": "display_data"
    },
    {
     "data": {
      "text/html": [
       "\n",
       "                    <br/>Synced <strong style=\"color:#cdcd00\">volcanic-pond-74</strong>: <a href=\"https://wandb.ai/snovaisg/thesis_basic_deterministic_model_tunning/runs/23ievgjn\" target=\"_blank\">https://wandb.ai/snovaisg/thesis_basic_deterministic_model_tunning/runs/23ievgjn</a><br/>\n",
       "                "
      ],
      "text/plain": [
       "<IPython.core.display.HTML object>"
      ]
     },
     "metadata": {},
     "output_type": "display_data"
    },
    {
     "data": {
      "text/html": [
       "...Successfully finished last run (ID:23ievgjn). Initializing new run:<br/><br/>"
      ],
      "text/plain": [
       "<IPython.core.display.HTML object>"
      ]
     },
     "metadata": {},
     "output_type": "display_data"
    },
    {
     "name": "stderr",
     "output_type": "stream",
     "text": [
      "\u001b[34m\u001b[1mwandb\u001b[0m: wandb version 0.12.11 is available!  To upgrade, please run:\n",
      "\u001b[34m\u001b[1mwandb\u001b[0m:  $ pip install wandb --upgrade\n"
     ]
    },
    {
     "data": {
      "text/html": [
       "\n",
       "                Tracking run with wandb version 0.12.1<br/>\n",
       "                Syncing run <strong style=\"color:#cdcd00\">sunny-moon-75</strong> to <a href=\"https://wandb.ai\" target=\"_blank\">Weights & Biases</a> <a href=\"https://docs.wandb.com/integrations/jupyter.html\" target=\"_blank\">(Documentation)</a>.<br/>\n",
       "                Project page: <a href=\"https://wandb.ai/snovaisg/thesis_basic_deterministic_model_tunning\" target=\"_blank\">https://wandb.ai/snovaisg/thesis_basic_deterministic_model_tunning</a><br/>\n",
       "                Run page: <a href=\"https://wandb.ai/snovaisg/thesis_basic_deterministic_model_tunning/runs/1jtndivu\" target=\"_blank\">https://wandb.ai/snovaisg/thesis_basic_deterministic_model_tunning/runs/1jtndivu</a><br/>\n",
       "                Run data is saved locally in <code>/Users/simaonovais/Documents/GitHub/master-thesis/wandb/run-20220308_132229-1jtndivu</code><br/><br/>\n",
       "            "
      ],
      "text/plain": [
       "<IPython.core.display.HTML object>"
      ]
     },
     "metadata": {},
     "output_type": "display_data"
    },
    {
     "data": {
      "text/html": [
       "<h1>Run(1jtndivu)</h1><iframe src=\"https://wandb.ai/snovaisg/thesis_basic_deterministic_model_tunning/runs/1jtndivu\" style=\"border:none;width:100%;height:400px\"></iframe>"
      ],
      "text/plain": [
       "<wandb.sdk.wandb_run.Run at 0x130c65130>"
      ]
     },
     "execution_count": 9,
     "metadata": {},
     "output_type": "execute_result"
    },
    {
     "data": {
      "text/html": [
       "Finishing last run (ID:1jtndivu) before initializing another..."
      ],
      "text/plain": [
       "<IPython.core.display.HTML object>"
      ]
     },
     "metadata": {},
     "output_type": "display_data"
    },
    {
     "data": {
      "text/html": [
       "<br/>Waiting for W&B process to finish, PID 19410<br/>Program ended successfully."
      ],
      "text/plain": [
       "<IPython.core.display.HTML object>"
      ]
     },
     "metadata": {},
     "output_type": "display_data"
    },
    {
     "data": {
      "text/html": [
       "Find user logs for this run at: <code>/Users/simaonovais/Documents/GitHub/master-thesis/wandb/run-20220308_132229-1jtndivu/logs/debug.log</code>"
      ],
      "text/plain": [
       "<IPython.core.display.HTML object>"
      ]
     },
     "metadata": {},
     "output_type": "display_data"
    },
    {
     "data": {
      "text/html": [
       "Find internal logs for this run at: <code>/Users/simaonovais/Documents/GitHub/master-thesis/wandb/run-20220308_132229-1jtndivu/logs/debug-internal.log</code>"
      ],
      "text/plain": [
       "<IPython.core.display.HTML object>"
      ]
     },
     "metadata": {},
     "output_type": "display_data"
    },
    {
     "data": {
      "text/html": [
       "<h3>Run summary:</h3><br/><style>\n",
       "    table.wandb td:nth-child(1) { padding: 0 10px; text-align: right }\n",
       "    </style><table class=\"wandb\">\n",
       "<tr><td>loss</td><td>0.10884</td></tr><tr><td>_runtime</td><td>33</td></tr><tr><td>_timestamp</td><td>1646745788</td></tr><tr><td>_step</td><td>15</td></tr><tr><td>train_loss</td><td>0.10509</td></tr><tr><td>train_recall@30</td><td>0.74394</td></tr><tr><td>val_loss</td><td>0.12269</td></tr><tr><td>recall@10</td><td>0.39165</td></tr><tr><td>recall@20</td><td>0.56003</td></tr><tr><td>recall@30</td><td>0.66786</td></tr></table>"
      ],
      "text/plain": [
       "<IPython.core.display.HTML object>"
      ]
     },
     "metadata": {},
     "output_type": "display_data"
    },
    {
     "data": {
      "text/html": [
       "<h3>Run history:</h3><br/><style>\n",
       "    table.wandb td:nth-child(1) { padding: 0 10px; text-align: right }\n",
       "    </style><table class=\"wandb\">\n",
       "<tr><td>loss</td><td>█▅▄▄▄▄▃▃▃▃▂▂▂▁▁</td></tr><tr><td>_runtime</td><td>▁▁▂▂▃▃▃▄▅▅▅▅▆▆▇█</td></tr><tr><td>_timestamp</td><td>▁▁▂▂▃▃▃▄▅▅▅▅▆▆▇█</td></tr><tr><td>_step</td><td>▁▁▂▂▃▃▄▄▅▅▆▆▇▇██</td></tr><tr><td>train_loss</td><td>▁</td></tr><tr><td>train_recall@30</td><td>▁</td></tr><tr><td>val_loss</td><td>▁</td></tr><tr><td>recall@10</td><td>▁</td></tr><tr><td>recall@20</td><td>▁</td></tr><tr><td>recall@30</td><td>▁</td></tr></table><br/>"
      ],
      "text/plain": [
       "<IPython.core.display.HTML object>"
      ]
     },
     "metadata": {},
     "output_type": "display_data"
    },
    {
     "data": {
      "text/html": [
       "Synced 6 W&B file(s), 0 media file(s), 0 artifact file(s) and 0 other file(s)"
      ],
      "text/plain": [
       "<IPython.core.display.HTML object>"
      ]
     },
     "metadata": {},
     "output_type": "display_data"
    },
    {
     "data": {
      "text/html": [
       "\n",
       "                    <br/>Synced <strong style=\"color:#cdcd00\">sunny-moon-75</strong>: <a href=\"https://wandb.ai/snovaisg/thesis_basic_deterministic_model_tunning/runs/1jtndivu\" target=\"_blank\">https://wandb.ai/snovaisg/thesis_basic_deterministic_model_tunning/runs/1jtndivu</a><br/>\n",
       "                "
      ],
      "text/plain": [
       "<IPython.core.display.HTML object>"
      ]
     },
     "metadata": {},
     "output_type": "display_data"
    },
    {
     "data": {
      "text/html": [
       "...Successfully finished last run (ID:1jtndivu). Initializing new run:<br/><br/>"
      ],
      "text/plain": [
       "<IPython.core.display.HTML object>"
      ]
     },
     "metadata": {},
     "output_type": "display_data"
    },
    {
     "name": "stderr",
     "output_type": "stream",
     "text": [
      "\u001b[34m\u001b[1mwandb\u001b[0m: wandb version 0.12.11 is available!  To upgrade, please run:\n",
      "\u001b[34m\u001b[1mwandb\u001b[0m:  $ pip install wandb --upgrade\n"
     ]
    },
    {
     "data": {
      "text/html": [
       "\n",
       "                Tracking run with wandb version 0.12.1<br/>\n",
       "                Syncing run <strong style=\"color:#cdcd00\">mild-pine-76</strong> to <a href=\"https://wandb.ai\" target=\"_blank\">Weights & Biases</a> <a href=\"https://docs.wandb.com/integrations/jupyter.html\" target=\"_blank\">(Documentation)</a>.<br/>\n",
       "                Project page: <a href=\"https://wandb.ai/snovaisg/thesis_basic_deterministic_model_tunning\" target=\"_blank\">https://wandb.ai/snovaisg/thesis_basic_deterministic_model_tunning</a><br/>\n",
       "                Run page: <a href=\"https://wandb.ai/snovaisg/thesis_basic_deterministic_model_tunning/runs/2fmwdd40\" target=\"_blank\">https://wandb.ai/snovaisg/thesis_basic_deterministic_model_tunning/runs/2fmwdd40</a><br/>\n",
       "                Run data is saved locally in <code>/Users/simaonovais/Documents/GitHub/master-thesis/wandb/run-20220308_132308-2fmwdd40</code><br/><br/>\n",
       "            "
      ],
      "text/plain": [
       "<IPython.core.display.HTML object>"
      ]
     },
     "metadata": {},
     "output_type": "display_data"
    },
    {
     "data": {
      "text/html": [
       "<h1>Run(2fmwdd40)</h1><iframe src=\"https://wandb.ai/snovaisg/thesis_basic_deterministic_model_tunning/runs/2fmwdd40\" style=\"border:none;width:100%;height:400px\"></iframe>"
      ],
      "text/plain": [
       "<wandb.sdk.wandb_run.Run at 0x130b70ca0>"
      ]
     },
     "execution_count": 9,
     "metadata": {},
     "output_type": "execute_result"
    },
    {
     "data": {
      "text/html": [
       "Finishing last run (ID:2fmwdd40) before initializing another..."
      ],
      "text/plain": [
       "<IPython.core.display.HTML object>"
      ]
     },
     "metadata": {},
     "output_type": "display_data"
    },
    {
     "data": {
      "text/html": [
       "<br/>Waiting for W&B process to finish, PID 19428<br/>Program ended successfully."
      ],
      "text/plain": [
       "<IPython.core.display.HTML object>"
      ]
     },
     "metadata": {},
     "output_type": "display_data"
    },
    {
     "data": {
      "text/html": [
       "Find user logs for this run at: <code>/Users/simaonovais/Documents/GitHub/master-thesis/wandb/run-20220308_132308-2fmwdd40/logs/debug.log</code>"
      ],
      "text/plain": [
       "<IPython.core.display.HTML object>"
      ]
     },
     "metadata": {},
     "output_type": "display_data"
    },
    {
     "data": {
      "text/html": [
       "Find internal logs for this run at: <code>/Users/simaonovais/Documents/GitHub/master-thesis/wandb/run-20220308_132308-2fmwdd40/logs/debug-internal.log</code>"
      ],
      "text/plain": [
       "<IPython.core.display.HTML object>"
      ]
     },
     "metadata": {},
     "output_type": "display_data"
    },
    {
     "data": {
      "text/html": [
       "<h3>Run summary:</h3><br/><style>\n",
       "    table.wandb td:nth-child(1) { padding: 0 10px; text-align: right }\n",
       "    </style><table class=\"wandb\">\n",
       "<tr><td>loss</td><td>0.12637</td></tr><tr><td>_runtime</td><td>23</td></tr><tr><td>_timestamp</td><td>1646745815</td></tr><tr><td>_step</td><td>15</td></tr><tr><td>train_loss</td><td>0.12452</td></tr><tr><td>train_recall@30</td><td>0.69296</td></tr><tr><td>val_loss</td><td>0.14217</td></tr><tr><td>recall@10</td><td>0.34854</td></tr><tr><td>recall@20</td><td>0.51714</td></tr><tr><td>recall@30</td><td>0.62906</td></tr></table>"
      ],
      "text/plain": [
       "<IPython.core.display.HTML object>"
      ]
     },
     "metadata": {},
     "output_type": "display_data"
    },
    {
     "data": {
      "text/html": [
       "<h3>Run history:</h3><br/><style>\n",
       "    table.wandb td:nth-child(1) { padding: 0 10px; text-align: right }\n",
       "    </style><table class=\"wandb\">\n",
       "<tr><td>loss</td><td>█▄▃▂▂▂▂▁▂▁▁▁▂▂▂</td></tr><tr><td>_runtime</td><td>▁▁▂▂▂▃▃▄▄▄▅▅▅▆▆█</td></tr><tr><td>_timestamp</td><td>▁▁▂▂▂▃▃▄▄▄▅▅▅▆▆█</td></tr><tr><td>_step</td><td>▁▁▂▂▃▃▄▄▅▅▆▆▇▇██</td></tr><tr><td>train_loss</td><td>▁</td></tr><tr><td>train_recall@30</td><td>▁</td></tr><tr><td>val_loss</td><td>▁</td></tr><tr><td>recall@10</td><td>▁</td></tr><tr><td>recall@20</td><td>▁</td></tr><tr><td>recall@30</td><td>▁</td></tr></table><br/>"
      ],
      "text/plain": [
       "<IPython.core.display.HTML object>"
      ]
     },
     "metadata": {},
     "output_type": "display_data"
    },
    {
     "data": {
      "text/html": [
       "Synced 6 W&B file(s), 0 media file(s), 2 artifact file(s) and 1 other file(s)"
      ],
      "text/plain": [
       "<IPython.core.display.HTML object>"
      ]
     },
     "metadata": {},
     "output_type": "display_data"
    },
    {
     "data": {
      "text/html": [
       "\n",
       "                    <br/>Synced <strong style=\"color:#cdcd00\">mild-pine-76</strong>: <a href=\"https://wandb.ai/snovaisg/thesis_basic_deterministic_model_tunning/runs/2fmwdd40\" target=\"_blank\">https://wandb.ai/snovaisg/thesis_basic_deterministic_model_tunning/runs/2fmwdd40</a><br/>\n",
       "                "
      ],
      "text/plain": [
       "<IPython.core.display.HTML object>"
      ]
     },
     "metadata": {},
     "output_type": "display_data"
    },
    {
     "data": {
      "text/html": [
       "...Successfully finished last run (ID:2fmwdd40). Initializing new run:<br/><br/>"
      ],
      "text/plain": [
       "<IPython.core.display.HTML object>"
      ]
     },
     "metadata": {},
     "output_type": "display_data"
    },
    {
     "name": "stderr",
     "output_type": "stream",
     "text": [
      "\u001b[34m\u001b[1mwandb\u001b[0m: wandb version 0.12.11 is available!  To upgrade, please run:\n",
      "\u001b[34m\u001b[1mwandb\u001b[0m:  $ pip install wandb --upgrade\n"
     ]
    },
    {
     "data": {
      "text/html": [
       "\n",
       "                Tracking run with wandb version 0.12.1<br/>\n",
       "                Syncing run <strong style=\"color:#cdcd00\">hardy-field-77</strong> to <a href=\"https://wandb.ai\" target=\"_blank\">Weights & Biases</a> <a href=\"https://docs.wandb.com/integrations/jupyter.html\" target=\"_blank\">(Documentation)</a>.<br/>\n",
       "                Project page: <a href=\"https://wandb.ai/snovaisg/thesis_basic_deterministic_model_tunning\" target=\"_blank\">https://wandb.ai/snovaisg/thesis_basic_deterministic_model_tunning</a><br/>\n",
       "                Run page: <a href=\"https://wandb.ai/snovaisg/thesis_basic_deterministic_model_tunning/runs/2masiam8\" target=\"_blank\">https://wandb.ai/snovaisg/thesis_basic_deterministic_model_tunning/runs/2masiam8</a><br/>\n",
       "                Run data is saved locally in <code>/Users/simaonovais/Documents/GitHub/master-thesis/wandb/run-20220308_132335-2masiam8</code><br/><br/>\n",
       "            "
      ],
      "text/plain": [
       "<IPython.core.display.HTML object>"
      ]
     },
     "metadata": {},
     "output_type": "display_data"
    },
    {
     "data": {
      "text/html": [
       "<h1>Run(2masiam8)</h1><iframe src=\"https://wandb.ai/snovaisg/thesis_basic_deterministic_model_tunning/runs/2masiam8\" style=\"border:none;width:100%;height:400px\"></iframe>"
      ],
      "text/plain": [
       "<wandb.sdk.wandb_run.Run at 0x130c66e50>"
      ]
     },
     "execution_count": 9,
     "metadata": {},
     "output_type": "execute_result"
    },
    {
     "data": {
      "text/html": [
       "Finishing last run (ID:2masiam8) before initializing another..."
      ],
      "text/plain": [
       "<IPython.core.display.HTML object>"
      ]
     },
     "metadata": {},
     "output_type": "display_data"
    },
    {
     "data": {
      "text/html": [
       "<br/>Waiting for W&B process to finish, PID 19444<br/>Program ended successfully."
      ],
      "text/plain": [
       "<IPython.core.display.HTML object>"
      ]
     },
     "metadata": {},
     "output_type": "display_data"
    },
    {
     "data": {
      "text/html": [
       "Find user logs for this run at: <code>/Users/simaonovais/Documents/GitHub/master-thesis/wandb/run-20220308_132335-2masiam8/logs/debug.log</code>"
      ],
      "text/plain": [
       "<IPython.core.display.HTML object>"
      ]
     },
     "metadata": {},
     "output_type": "display_data"
    },
    {
     "data": {
      "text/html": [
       "Find internal logs for this run at: <code>/Users/simaonovais/Documents/GitHub/master-thesis/wandb/run-20220308_132335-2masiam8/logs/debug-internal.log</code>"
      ],
      "text/plain": [
       "<IPython.core.display.HTML object>"
      ]
     },
     "metadata": {},
     "output_type": "display_data"
    },
    {
     "data": {
      "text/html": [
       "<h3>Run summary:</h3><br/><style>\n",
       "    table.wandb td:nth-child(1) { padding: 0 10px; text-align: right }\n",
       "    </style><table class=\"wandb\">\n",
       "<tr><td>loss</td><td>0.13776</td></tr><tr><td>_runtime</td><td>25</td></tr><tr><td>_timestamp</td><td>1646745847</td></tr><tr><td>_step</td><td>15</td></tr><tr><td>train_loss</td><td>0.16299</td></tr><tr><td>train_recall@30</td><td>0.59652</td></tr><tr><td>val_loss</td><td>0.16798</td></tr><tr><td>recall@10</td><td>0.26648</td></tr><tr><td>recall@20</td><td>0.44407</td></tr><tr><td>recall@30</td><td>0.57158</td></tr></table>"
      ],
      "text/plain": [
       "<IPython.core.display.HTML object>"
      ]
     },
     "metadata": {},
     "output_type": "display_data"
    },
    {
     "data": {
      "text/html": [
       "<h3>Run history:</h3><br/><style>\n",
       "    table.wandb td:nth-child(1) { padding: 0 10px; text-align: right }\n",
       "    </style><table class=\"wandb\">\n",
       "<tr><td>loss</td><td>█▃▃▃▅▅▂▃▄▃▃▁▄▁▁</td></tr><tr><td>_runtime</td><td>▁▁▂▂▃▃▃▄▄▅▅▅▆▆▆█</td></tr><tr><td>_timestamp</td><td>▁▁▂▂▃▃▃▄▄▅▅▅▆▆▆█</td></tr><tr><td>_step</td><td>▁▁▂▂▃▃▄▄▅▅▆▆▇▇██</td></tr><tr><td>train_loss</td><td>▁</td></tr><tr><td>train_recall@30</td><td>▁</td></tr><tr><td>val_loss</td><td>▁</td></tr><tr><td>recall@10</td><td>▁</td></tr><tr><td>recall@20</td><td>▁</td></tr><tr><td>recall@30</td><td>▁</td></tr></table><br/>"
      ],
      "text/plain": [
       "<IPython.core.display.HTML object>"
      ]
     },
     "metadata": {},
     "output_type": "display_data"
    },
    {
     "data": {
      "text/html": [
       "Synced 6 W&B file(s), 0 media file(s), 0 artifact file(s) and 0 other file(s)"
      ],
      "text/plain": [
       "<IPython.core.display.HTML object>"
      ]
     },
     "metadata": {},
     "output_type": "display_data"
    },
    {
     "data": {
      "text/html": [
       "\n",
       "                    <br/>Synced <strong style=\"color:#cdcd00\">hardy-field-77</strong>: <a href=\"https://wandb.ai/snovaisg/thesis_basic_deterministic_model_tunning/runs/2masiam8\" target=\"_blank\">https://wandb.ai/snovaisg/thesis_basic_deterministic_model_tunning/runs/2masiam8</a><br/>\n",
       "                "
      ],
      "text/plain": [
       "<IPython.core.display.HTML object>"
      ]
     },
     "metadata": {},
     "output_type": "display_data"
    },
    {
     "data": {
      "text/html": [
       "...Successfully finished last run (ID:2masiam8). Initializing new run:<br/><br/>"
      ],
      "text/plain": [
       "<IPython.core.display.HTML object>"
      ]
     },
     "metadata": {},
     "output_type": "display_data"
    },
    {
     "name": "stderr",
     "output_type": "stream",
     "text": [
      "\u001b[34m\u001b[1mwandb\u001b[0m: wandb version 0.12.11 is available!  To upgrade, please run:\n",
      "\u001b[34m\u001b[1mwandb\u001b[0m:  $ pip install wandb --upgrade\n"
     ]
    },
    {
     "data": {
      "text/html": [
       "\n",
       "                Tracking run with wandb version 0.12.1<br/>\n",
       "                Syncing run <strong style=\"color:#cdcd00\">likely-gorge-78</strong> to <a href=\"https://wandb.ai\" target=\"_blank\">Weights & Biases</a> <a href=\"https://docs.wandb.com/integrations/jupyter.html\" target=\"_blank\">(Documentation)</a>.<br/>\n",
       "                Project page: <a href=\"https://wandb.ai/snovaisg/thesis_basic_deterministic_model_tunning\" target=\"_blank\">https://wandb.ai/snovaisg/thesis_basic_deterministic_model_tunning</a><br/>\n",
       "                Run page: <a href=\"https://wandb.ai/snovaisg/thesis_basic_deterministic_model_tunning/runs/3q9pkd49\" target=\"_blank\">https://wandb.ai/snovaisg/thesis_basic_deterministic_model_tunning/runs/3q9pkd49</a><br/>\n",
       "                Run data is saved locally in <code>/Users/simaonovais/Documents/GitHub/master-thesis/wandb/run-20220308_132407-3q9pkd49</code><br/><br/>\n",
       "            "
      ],
      "text/plain": [
       "<IPython.core.display.HTML object>"
      ]
     },
     "metadata": {},
     "output_type": "display_data"
    },
    {
     "data": {
      "text/html": [
       "<h1>Run(3q9pkd49)</h1><iframe src=\"https://wandb.ai/snovaisg/thesis_basic_deterministic_model_tunning/runs/3q9pkd49\" style=\"border:none;width:100%;height:400px\"></iframe>"
      ],
      "text/plain": [
       "<wandb.sdk.wandb_run.Run at 0x130b67490>"
      ]
     },
     "execution_count": 9,
     "metadata": {},
     "output_type": "execute_result"
    },
    {
     "data": {
      "text/html": [
       "Finishing last run (ID:3q9pkd49) before initializing another..."
      ],
      "text/plain": [
       "<IPython.core.display.HTML object>"
      ]
     },
     "metadata": {},
     "output_type": "display_data"
    },
    {
     "data": {
      "text/html": [
       "<br/>Waiting for W&B process to finish, PID 19460<br/>Program ended successfully."
      ],
      "text/plain": [
       "<IPython.core.display.HTML object>"
      ]
     },
     "metadata": {},
     "output_type": "display_data"
    },
    {
     "data": {
      "text/html": [
       "Find user logs for this run at: <code>/Users/simaonovais/Documents/GitHub/master-thesis/wandb/run-20220308_132407-3q9pkd49/logs/debug.log</code>"
      ],
      "text/plain": [
       "<IPython.core.display.HTML object>"
      ]
     },
     "metadata": {},
     "output_type": "display_data"
    },
    {
     "data": {
      "text/html": [
       "Find internal logs for this run at: <code>/Users/simaonovais/Documents/GitHub/master-thesis/wandb/run-20220308_132407-3q9pkd49/logs/debug-internal.log</code>"
      ],
      "text/plain": [
       "<IPython.core.display.HTML object>"
      ]
     },
     "metadata": {},
     "output_type": "display_data"
    },
    {
     "data": {
      "text/html": [
       "<h3>Run summary:</h3><br/><style>\n",
       "    table.wandb td:nth-child(1) { padding: 0 10px; text-align: right }\n",
       "    </style><table class=\"wandb\">\n",
       "<tr><td>loss</td><td>0.08637</td></tr><tr><td>_runtime</td><td>26</td></tr><tr><td>_timestamp</td><td>1646745877</td></tr><tr><td>_step</td><td>15</td></tr><tr><td>train_loss</td><td>0.08017</td></tr><tr><td>train_recall@30</td><td>0.86186</td></tr><tr><td>val_loss</td><td>0.1384</td></tr><tr><td>recall@10</td><td>0.38954</td></tr><tr><td>recall@20</td><td>0.54961</td></tr><tr><td>recall@30</td><td>0.65619</td></tr></table>"
      ],
      "text/plain": [
       "<IPython.core.display.HTML object>"
      ]
     },
     "metadata": {},
     "output_type": "display_data"
    },
    {
     "data": {
      "text/html": [
       "<h3>Run history:</h3><br/><style>\n",
       "    table.wandb td:nth-child(1) { padding: 0 10px; text-align: right }\n",
       "    </style><table class=\"wandb\">\n",
       "<tr><td>loss</td><td>█▄▄▃▃▃▂▂▂▂▂▁▁▁▁</td></tr><tr><td>_runtime</td><td>▁▁▂▂▂▃▃▄▄▄▅▅▆▆▆█</td></tr><tr><td>_timestamp</td><td>▁▁▂▂▂▃▃▄▄▄▅▅▆▆▆█</td></tr><tr><td>_step</td><td>▁▁▂▂▃▃▄▄▅▅▆▆▇▇██</td></tr><tr><td>train_loss</td><td>▁</td></tr><tr><td>train_recall@30</td><td>▁</td></tr><tr><td>val_loss</td><td>▁</td></tr><tr><td>recall@10</td><td>▁</td></tr><tr><td>recall@20</td><td>▁</td></tr><tr><td>recall@30</td><td>▁</td></tr></table><br/>"
      ],
      "text/plain": [
       "<IPython.core.display.HTML object>"
      ]
     },
     "metadata": {},
     "output_type": "display_data"
    },
    {
     "data": {
      "text/html": [
       "Synced 6 W&B file(s), 0 media file(s), 2 artifact file(s) and 1 other file(s)"
      ],
      "text/plain": [
       "<IPython.core.display.HTML object>"
      ]
     },
     "metadata": {},
     "output_type": "display_data"
    },
    {
     "data": {
      "text/html": [
       "\n",
       "                    <br/>Synced <strong style=\"color:#cdcd00\">likely-gorge-78</strong>: <a href=\"https://wandb.ai/snovaisg/thesis_basic_deterministic_model_tunning/runs/3q9pkd49\" target=\"_blank\">https://wandb.ai/snovaisg/thesis_basic_deterministic_model_tunning/runs/3q9pkd49</a><br/>\n",
       "                "
      ],
      "text/plain": [
       "<IPython.core.display.HTML object>"
      ]
     },
     "metadata": {},
     "output_type": "display_data"
    },
    {
     "data": {
      "text/html": [
       "...Successfully finished last run (ID:3q9pkd49). Initializing new run:<br/><br/>"
      ],
      "text/plain": [
       "<IPython.core.display.HTML object>"
      ]
     },
     "metadata": {},
     "output_type": "display_data"
    },
    {
     "name": "stderr",
     "output_type": "stream",
     "text": [
      "\u001b[34m\u001b[1mwandb\u001b[0m: wandb version 0.12.11 is available!  To upgrade, please run:\n",
      "\u001b[34m\u001b[1mwandb\u001b[0m:  $ pip install wandb --upgrade\n"
     ]
    },
    {
     "data": {
      "text/html": [
       "\n",
       "                Tracking run with wandb version 0.12.1<br/>\n",
       "                Syncing run <strong style=\"color:#cdcd00\">peachy-plant-79</strong> to <a href=\"https://wandb.ai\" target=\"_blank\">Weights & Biases</a> <a href=\"https://docs.wandb.com/integrations/jupyter.html\" target=\"_blank\">(Documentation)</a>.<br/>\n",
       "                Project page: <a href=\"https://wandb.ai/snovaisg/thesis_basic_deterministic_model_tunning\" target=\"_blank\">https://wandb.ai/snovaisg/thesis_basic_deterministic_model_tunning</a><br/>\n",
       "                Run page: <a href=\"https://wandb.ai/snovaisg/thesis_basic_deterministic_model_tunning/runs/3m76s67m\" target=\"_blank\">https://wandb.ai/snovaisg/thesis_basic_deterministic_model_tunning/runs/3m76s67m</a><br/>\n",
       "                Run data is saved locally in <code>/Users/simaonovais/Documents/GitHub/master-thesis/wandb/run-20220308_132437-3m76s67m</code><br/><br/>\n",
       "            "
      ],
      "text/plain": [
       "<IPython.core.display.HTML object>"
      ]
     },
     "metadata": {},
     "output_type": "display_data"
    },
    {
     "data": {
      "text/html": [
       "<h1>Run(3m76s67m)</h1><iframe src=\"https://wandb.ai/snovaisg/thesis_basic_deterministic_model_tunning/runs/3m76s67m\" style=\"border:none;width:100%;height:400px\"></iframe>"
      ],
      "text/plain": [
       "<wandb.sdk.wandb_run.Run at 0x130b62310>"
      ]
     },
     "execution_count": 9,
     "metadata": {},
     "output_type": "execute_result"
    },
    {
     "data": {
      "text/html": [
       "Finishing last run (ID:3m76s67m) before initializing another..."
      ],
      "text/plain": [
       "<IPython.core.display.HTML object>"
      ]
     },
     "metadata": {},
     "output_type": "display_data"
    },
    {
     "data": {
      "text/html": [
       "<br/>Waiting for W&B process to finish, PID 19476<br/>Program ended successfully."
      ],
      "text/plain": [
       "<IPython.core.display.HTML object>"
      ]
     },
     "metadata": {},
     "output_type": "display_data"
    },
    {
     "data": {
      "text/html": [
       "Find user logs for this run at: <code>/Users/simaonovais/Documents/GitHub/master-thesis/wandb/run-20220308_132437-3m76s67m/logs/debug.log</code>"
      ],
      "text/plain": [
       "<IPython.core.display.HTML object>"
      ]
     },
     "metadata": {},
     "output_type": "display_data"
    },
    {
     "data": {
      "text/html": [
       "Find internal logs for this run at: <code>/Users/simaonovais/Documents/GitHub/master-thesis/wandb/run-20220308_132437-3m76s67m/logs/debug-internal.log</code>"
      ],
      "text/plain": [
       "<IPython.core.display.HTML object>"
      ]
     },
     "metadata": {},
     "output_type": "display_data"
    },
    {
     "data": {
      "text/html": [
       "<h3>Run summary:</h3><br/><style>\n",
       "    table.wandb td:nth-child(1) { padding: 0 10px; text-align: right }\n",
       "    </style><table class=\"wandb\">\n",
       "<tr><td>loss</td><td>0.11129</td></tr><tr><td>_runtime</td><td>31</td></tr><tr><td>_timestamp</td><td>1646745924</td></tr><tr><td>_step</td><td>15</td></tr><tr><td>train_loss</td><td>0.10826</td></tr><tr><td>train_recall@30</td><td>0.71868</td></tr><tr><td>val_loss</td><td>0.12331</td></tr><tr><td>recall@10</td><td>0.38449</td></tr><tr><td>recall@20</td><td>0.54875</td></tr><tr><td>recall@30</td><td>0.65275</td></tr></table>"
      ],
      "text/plain": [
       "<IPython.core.display.HTML object>"
      ]
     },
     "metadata": {},
     "output_type": "display_data"
    },
    {
     "data": {
      "text/html": [
       "<h3>Run history:</h3><br/><style>\n",
       "    table.wandb td:nth-child(1) { padding: 0 10px; text-align: right }\n",
       "    </style><table class=\"wandb\">\n",
       "<tr><td>loss</td><td>█▅▄▄▃▃▃▃▂▂▂▂▁▁▁</td></tr><tr><td>_runtime</td><td>▁▁▂▂▃▃▃▄▄▅▅▅▆▆▇█</td></tr><tr><td>_timestamp</td><td>▁▁▂▂▃▃▃▄▄▅▅▅▆▆▇█</td></tr><tr><td>_step</td><td>▁▁▂▂▃▃▄▄▅▅▆▆▇▇██</td></tr><tr><td>train_loss</td><td>▁</td></tr><tr><td>train_recall@30</td><td>▁</td></tr><tr><td>val_loss</td><td>▁</td></tr><tr><td>recall@10</td><td>▁</td></tr><tr><td>recall@20</td><td>▁</td></tr><tr><td>recall@30</td><td>▁</td></tr></table><br/>"
      ],
      "text/plain": [
       "<IPython.core.display.HTML object>"
      ]
     },
     "metadata": {},
     "output_type": "display_data"
    },
    {
     "data": {
      "text/html": [
       "Synced 6 W&B file(s), 0 media file(s), 0 artifact file(s) and 0 other file(s)"
      ],
      "text/plain": [
       "<IPython.core.display.HTML object>"
      ]
     },
     "metadata": {},
     "output_type": "display_data"
    },
    {
     "data": {
      "text/html": [
       "\n",
       "                    <br/>Synced <strong style=\"color:#cdcd00\">peachy-plant-79</strong>: <a href=\"https://wandb.ai/snovaisg/thesis_basic_deterministic_model_tunning/runs/3m76s67m\" target=\"_blank\">https://wandb.ai/snovaisg/thesis_basic_deterministic_model_tunning/runs/3m76s67m</a><br/>\n",
       "                "
      ],
      "text/plain": [
       "<IPython.core.display.HTML object>"
      ]
     },
     "metadata": {},
     "output_type": "display_data"
    },
    {
     "data": {
      "text/html": [
       "...Successfully finished last run (ID:3m76s67m). Initializing new run:<br/><br/>"
      ],
      "text/plain": [
       "<IPython.core.display.HTML object>"
      ]
     },
     "metadata": {},
     "output_type": "display_data"
    },
    {
     "name": "stderr",
     "output_type": "stream",
     "text": [
      "\u001b[34m\u001b[1mwandb\u001b[0m: wandb version 0.12.11 is available!  To upgrade, please run:\n",
      "\u001b[34m\u001b[1mwandb\u001b[0m:  $ pip install wandb --upgrade\n"
     ]
    },
    {
     "data": {
      "text/html": [
       "\n",
       "                Tracking run with wandb version 0.12.1<br/>\n",
       "                Syncing run <strong style=\"color:#cdcd00\">robust-bee-80</strong> to <a href=\"https://wandb.ai\" target=\"_blank\">Weights & Biases</a> <a href=\"https://docs.wandb.com/integrations/jupyter.html\" target=\"_blank\">(Documentation)</a>.<br/>\n",
       "                Project page: <a href=\"https://wandb.ai/snovaisg/thesis_basic_deterministic_model_tunning\" target=\"_blank\">https://wandb.ai/snovaisg/thesis_basic_deterministic_model_tunning</a><br/>\n",
       "                Run page: <a href=\"https://wandb.ai/snovaisg/thesis_basic_deterministic_model_tunning/runs/21mwi975\" target=\"_blank\">https://wandb.ai/snovaisg/thesis_basic_deterministic_model_tunning/runs/21mwi975</a><br/>\n",
       "                Run data is saved locally in <code>/Users/simaonovais/Documents/GitHub/master-thesis/wandb/run-20220308_132524-21mwi975</code><br/><br/>\n",
       "            "
      ],
      "text/plain": [
       "<IPython.core.display.HTML object>"
      ]
     },
     "metadata": {},
     "output_type": "display_data"
    },
    {
     "data": {
      "text/html": [
       "<h1>Run(21mwi975)</h1><iframe src=\"https://wandb.ai/snovaisg/thesis_basic_deterministic_model_tunning/runs/21mwi975\" style=\"border:none;width:100%;height:400px\"></iframe>"
      ],
      "text/plain": [
       "<wandb.sdk.wandb_run.Run at 0x130bcb940>"
      ]
     },
     "execution_count": 9,
     "metadata": {},
     "output_type": "execute_result"
    },
    {
     "data": {
      "text/html": [
       "Finishing last run (ID:21mwi975) before initializing another..."
      ],
      "text/plain": [
       "<IPython.core.display.HTML object>"
      ]
     },
     "metadata": {},
     "output_type": "display_data"
    },
    {
     "data": {
      "text/html": [
       "<br/>Waiting for W&B process to finish, PID 19498<br/>Program ended successfully."
      ],
      "text/plain": [
       "<IPython.core.display.HTML object>"
      ]
     },
     "metadata": {},
     "output_type": "display_data"
    },
    {
     "data": {
      "text/html": [
       "Find user logs for this run at: <code>/Users/simaonovais/Documents/GitHub/master-thesis/wandb/run-20220308_132524-21mwi975/logs/debug.log</code>"
      ],
      "text/plain": [
       "<IPython.core.display.HTML object>"
      ]
     },
     "metadata": {},
     "output_type": "display_data"
    },
    {
     "data": {
      "text/html": [
       "Find internal logs for this run at: <code>/Users/simaonovais/Documents/GitHub/master-thesis/wandb/run-20220308_132524-21mwi975/logs/debug-internal.log</code>"
      ],
      "text/plain": [
       "<IPython.core.display.HTML object>"
      ]
     },
     "metadata": {},
     "output_type": "display_data"
    },
    {
     "data": {
      "text/html": [
       "<h3>Run summary:</h3><br/><style>\n",
       "    table.wandb td:nth-child(1) { padding: 0 10px; text-align: right }\n",
       "    </style><table class=\"wandb\">\n",
       "<tr><td>loss</td><td>0.07908</td></tr><tr><td>_runtime</td><td>27</td></tr><tr><td>_timestamp</td><td>1646745971</td></tr><tr><td>_step</td><td>15</td></tr><tr><td>train_loss</td><td>0.07256</td></tr><tr><td>train_recall@30</td><td>0.88786</td></tr><tr><td>val_loss</td><td>0.13537</td></tr><tr><td>recall@10</td><td>0.41297</td></tr><tr><td>recall@20</td><td>0.5636</td></tr><tr><td>recall@30</td><td>0.66002</td></tr></table>"
      ],
      "text/plain": [
       "<IPython.core.display.HTML object>"
      ]
     },
     "metadata": {},
     "output_type": "display_data"
    },
    {
     "data": {
      "text/html": [
       "<h3>Run history:</h3><br/><style>\n",
       "    table.wandb td:nth-child(1) { padding: 0 10px; text-align: right }\n",
       "    </style><table class=\"wandb\">\n",
       "<tr><td>loss</td><td>█▅▄▄▃▃▃▂▂▂▂▁▁▁▁</td></tr><tr><td>_runtime</td><td>▁▁▂▂▃▃▄▄▄▅▅▅▆▆▇█</td></tr><tr><td>_timestamp</td><td>▁▁▂▂▃▃▄▄▄▅▅▅▆▆▇█</td></tr><tr><td>_step</td><td>▁▁▂▂▃▃▄▄▅▅▆▆▇▇██</td></tr><tr><td>train_loss</td><td>▁</td></tr><tr><td>train_recall@30</td><td>▁</td></tr><tr><td>val_loss</td><td>▁</td></tr><tr><td>recall@10</td><td>▁</td></tr><tr><td>recall@20</td><td>▁</td></tr><tr><td>recall@30</td><td>▁</td></tr></table><br/>"
      ],
      "text/plain": [
       "<IPython.core.display.HTML object>"
      ]
     },
     "metadata": {},
     "output_type": "display_data"
    },
    {
     "data": {
      "text/html": [
       "Synced 6 W&B file(s), 0 media file(s), 2 artifact file(s) and 1 other file(s)"
      ],
      "text/plain": [
       "<IPython.core.display.HTML object>"
      ]
     },
     "metadata": {},
     "output_type": "display_data"
    },
    {
     "data": {
      "text/html": [
       "\n",
       "                    <br/>Synced <strong style=\"color:#cdcd00\">robust-bee-80</strong>: <a href=\"https://wandb.ai/snovaisg/thesis_basic_deterministic_model_tunning/runs/21mwi975\" target=\"_blank\">https://wandb.ai/snovaisg/thesis_basic_deterministic_model_tunning/runs/21mwi975</a><br/>\n",
       "                "
      ],
      "text/plain": [
       "<IPython.core.display.HTML object>"
      ]
     },
     "metadata": {},
     "output_type": "display_data"
    },
    {
     "data": {
      "text/html": [
       "...Successfully finished last run (ID:21mwi975). Initializing new run:<br/><br/>"
      ],
      "text/plain": [
       "<IPython.core.display.HTML object>"
      ]
     },
     "metadata": {},
     "output_type": "display_data"
    },
    {
     "name": "stderr",
     "output_type": "stream",
     "text": [
      "\u001b[34m\u001b[1mwandb\u001b[0m: wandb version 0.12.11 is available!  To upgrade, please run:\n",
      "\u001b[34m\u001b[1mwandb\u001b[0m:  $ pip install wandb --upgrade\n"
     ]
    },
    {
     "data": {
      "text/html": [
       "\n",
       "                Tracking run with wandb version 0.12.1<br/>\n",
       "                Syncing run <strong style=\"color:#cdcd00\">frosty-brook-81</strong> to <a href=\"https://wandb.ai\" target=\"_blank\">Weights & Biases</a> <a href=\"https://docs.wandb.com/integrations/jupyter.html\" target=\"_blank\">(Documentation)</a>.<br/>\n",
       "                Project page: <a href=\"https://wandb.ai/snovaisg/thesis_basic_deterministic_model_tunning\" target=\"_blank\">https://wandb.ai/snovaisg/thesis_basic_deterministic_model_tunning</a><br/>\n",
       "                Run page: <a href=\"https://wandb.ai/snovaisg/thesis_basic_deterministic_model_tunning/runs/1ocaqjzo\" target=\"_blank\">https://wandb.ai/snovaisg/thesis_basic_deterministic_model_tunning/runs/1ocaqjzo</a><br/>\n",
       "                Run data is saved locally in <code>/Users/simaonovais/Documents/GitHub/master-thesis/wandb/run-20220308_132611-1ocaqjzo</code><br/><br/>\n",
       "            "
      ],
      "text/plain": [
       "<IPython.core.display.HTML object>"
      ]
     },
     "metadata": {},
     "output_type": "display_data"
    },
    {
     "data": {
      "text/html": [
       "<h1>Run(1ocaqjzo)</h1><iframe src=\"https://wandb.ai/snovaisg/thesis_basic_deterministic_model_tunning/runs/1ocaqjzo\" style=\"border:none;width:100%;height:400px\"></iframe>"
      ],
      "text/plain": [
       "<wandb.sdk.wandb_run.Run at 0x130b4dc70>"
      ]
     },
     "execution_count": 9,
     "metadata": {},
     "output_type": "execute_result"
    },
    {
     "name": "stderr",
     "output_type": "stream",
     "text": [
      "wandb: Network error (ConnectTimeout), entering retry loop.\n",
      "\u001b[34m\u001b[1mwandb\u001b[0m: Network error resolved after 0:01:23.441569, resuming normal operation.\n"
     ]
    }
   ],
   "source": [
    "for param_set in params:\n",
    "    config = {**param_set, \n",
    "              **meta_parameters}\n",
    "    \n",
    "    wandb.init(\n",
    "        project=\"thesis_basic_deterministic_model_tunning\", \n",
    "        config=config\n",
    "    )\n",
    "    \n",
    "    model = RNN(input_size=input_size,\n",
    "              hidden_size=config['hidden_size'],\n",
    "              num_layers=config['num_layers'],\n",
    "              n_labels=n_labels,\n",
    "              model=config['model'])\n",
    "    \n",
    "    optimizer = torch.optim.Adam(model.parameters(), lr=config['lr'])\n",
    "    \n",
    "    for epoch in range(1,config['epochs']+1):\n",
    "        loss = train_one_epochV2(model,train_dataloader,epoch,criterion,optimizer)\n",
    "        wandb.log({\"loss\":loss})\n",
    "    \n",
    "    # eval model\n",
    "    train_results = eval_model(model,train_dataloader,dataset, criterion, epoch, 'train_last')\n",
    "    val_results = eval_model(model,val_dataloader,dataset, criterion, epoch, 'validation')\n",
    "    \n",
    "    # log\n",
    "    wandb.log({'train_loss':train_results['loss'],\n",
    "               'train_recall@30':train_results['last adm']['recall30']['mean'],\n",
    "               'val_loss':val_results['loss'],\n",
    "               'recall@10':val_results['last adm']['recall10']['mean'],\n",
    "               'recall@20':val_results['last adm']['recall20']['mean'],\n",
    "               'recall@30':val_results['last adm']['recall30']['mean']\n",
    "              })"
   ]
  },
  {
   "cell_type": "markdown",
   "metadata": {},
   "source": [
    "# best model\n",
    "\n",
    "- lr: 0.03\n",
    "- model_type = 'lstm'\n",
    "- num_layers = 1\n",
    "- hidden_size = 50\n",
    "- epochs: 15"
   ]
  },
  {
   "cell_type": "code",
   "execution_count": null,
   "metadata": {},
   "outputs": [],
   "source": []
  }
 ],
 "metadata": {
  "kernelspec": {
   "display_name": "Python (mthesis)",
   "language": "python",
   "name": "mthesis"
  },
  "language_info": {
   "codemirror_mode": {
    "name": "ipython",
    "version": 3
   },
   "file_extension": ".py",
   "mimetype": "text/x-python",
   "name": "python",
   "nbconvert_exporter": "python",
   "pygments_lexer": "ipython3",
   "version": "3.9.7"
  }
 },
 "nbformat": 4,
 "nbformat_minor": 4
}
