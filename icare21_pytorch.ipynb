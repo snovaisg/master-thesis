{
 "cells": [
  {
   "cell_type": "code",
   "execution_count": 151,
   "id": "cb8419e1-b7d4-4005-a481-4326072e3224",
   "metadata": {},
   "outputs": [],
   "source": [
    "from IPython.core.interactiveshell import InteractiveShell\n",
    "InteractiveShell.ast_node_interactivity = \"all\""
   ]
  },
  {
   "cell_type": "code",
   "execution_count": 152,
   "id": "7af9ac95-fa01-4484-835a-7d78b8634268",
   "metadata": {},
   "outputs": [],
   "source": [
    "import os\n",
    "from rnn_utils import DiagnosesDataset, split_dataset, MYCOLLATE, IcareDataset, ICareCOLLATE\n",
    "from rnn_utils import RNN, train_one_epoch, train_one_epochV2, eval_model, compute_loss, get_prediction_thresholds, outs2df,compute_metrics\n",
    "\n",
    "import torch\n",
    "from torch.utils.data import Dataset, DataLoader, random_split\n",
    "\n",
    "from sklearn.model_selection import ParameterGrid, ParameterSampler\n",
    "\n",
    "import numpy as np\n",
    "import pandas as pd\n",
    "import json\n",
    "\n",
    "from tqdm.notebook import tqdm\n",
    "\n",
    "from config import Settings; settings = Settings()\n",
    "\n",
    "from ICDMappings import ICDMappings\n",
    "icdmap = ICDMappings()\n",
    "\n",
    "import wandb\n",
    "\n",
    "idx = pd.IndexSlice"
   ]
  },
  {
   "cell_type": "markdown",
   "id": "c6de9a85-c2c4-4580-ae46-6c308b068004",
   "metadata": {},
   "source": [
    "# Reproducibility"
   ]
  },
  {
   "cell_type": "code",
   "execution_count": 153,
   "id": "93403715-725c-4796-abf2-a99eb3b8b06f",
   "metadata": {},
   "outputs": [
    {
     "data": {
      "text/plain": [
       "<torch._C.Generator at 0x7eff33ab5d30>"
      ]
     },
     "execution_count": 153,
     "metadata": {},
     "output_type": "execute_result"
    }
   ],
   "source": [
    "# Reproducibility\n",
    "seed = settings.random_seed\n",
    "\n",
    "np.random.seed(seed)\n",
    "torch.manual_seed(seed)\n",
    "torch.cuda.manual_seed(seed)\n",
    "\n",
    "torch.backends.cudnn.deterministic = True\n",
    "torch.backends.cudnn.benchmark = False"
   ]
  },
  {
   "cell_type": "markdown",
   "id": "80cf275b-ac37-415b-b590-5768ee07df85",
   "metadata": {},
   "source": [
    "# Create dataset"
   ]
  },
  {
   "cell_type": "code",
   "execution_count": 154,
   "id": "56824288-de03-45a9-b280-c293be85481c",
   "metadata": {},
   "outputs": [],
   "source": [
    "grouping = 'ccs'\n",
    "batch_size=64"
   ]
  },
  {
   "cell_type": "code",
   "execution_count": 155,
   "id": "4a1efd3d-c806-4d3a-808a-f8fc8b54bf9b",
   "metadata": {},
   "outputs": [
    {
     "data": {
      "text/plain": [
       "183967"
      ]
     },
     "execution_count": 155,
     "metadata": {},
     "output_type": "execute_result"
    },
    {
     "data": {
      "text/plain": [
       "39422"
      ]
     },
     "execution_count": 155,
     "metadata": {},
     "output_type": "execute_result"
    },
    {
     "data": {
      "text/plain": [
       "39422"
      ]
     },
     "execution_count": 155,
     "metadata": {},
     "output_type": "execute_result"
    }
   ],
   "source": [
    "ccs_universe = list(icdmap.icd9_3toccs.data.keys())\n",
    "dataset_folder = '/home/debian/Simao/master-thesis/data/model_ready_dataset/icare2021_diag_A301'\n",
    "dataset = IcareDataset(os.path.join(dataset_folder,'dataset.json'),\n",
    "                       ccs_universe,\n",
    "                       grouping\n",
    "                      )\n",
    "\n",
    "train_dataset = IcareDataset(os.path.join(dataset_folder,'train_subset.json'),grouping)\n",
    "val_dataset = IcareDataset(os.path.join(dataset_folder,'val_subset.json'),grouping)\n",
    "test_dataset = IcareDataset(os.path.join(dataset_folder,'test_subset.json'),grouping)\n",
    "\n",
    "\n",
    "len(train_dataset)\n",
    "len(val_dataset)\n",
    "len(test_dataset)\n",
    "\n",
    "\n",
    "train_dataloader = DataLoader(train_dataset,batch_size=batch_size,collate_fn=ICareCOLLATE(dataset),shuffle=True)\n",
    "val_dataloader = DataLoader(val_dataset,batch_size=batch_size,collate_fn=ICareCOLLATE(dataset)) #batch_size here is arbitrary and doesn't affect total validation speed\n",
    "test_dataloader = DataLoader(test_dataset,batch_size=batch_size,collate_fn=ICareCOLLATE(dataset))"
   ]
  },
  {
   "cell_type": "code",
   "execution_count": 164,
   "id": "bc7a1d0a-4ed8-4bf4-9a28-f7cb7ff8ad94",
   "metadata": {},
   "outputs": [
    {
     "data": {
      "text/plain": [
       "8000128"
      ]
     },
     "execution_count": 164,
     "metadata": {},
     "output_type": "execute_result"
    }
   ],
   "source": [
    "from sys import getsizeof\n",
    "\n",
    "array = np.random.randint(1,10,size=(1000,1000))\n",
    "getsizeof(array)"
   ]
  },
  {
   "cell_type": "code",
   "execution_count": 166,
   "id": "05f3b40d-73d3-4f77-b4ac-30ced7a3094d",
   "metadata": {},
   "outputs": [
    {
     "data": {
      "text/plain": [
       "232"
      ]
     },
     "execution_count": 166,
     "metadata": {},
     "output_type": "execute_result"
    }
   ],
   "source": [
    "getsizeof(dataset.grouping_data)"
   ]
  },
  {
   "cell_type": "code",
   "execution_count": 169,
   "id": "90f87e97-70d8-4fed-b553-ab3ddafd52bd",
   "metadata": {},
   "outputs": [
    {
     "data": {
      "text/plain": [
       "10485856"
      ]
     },
     "execution_count": 169,
     "metadata": {},
     "output_type": "execute_result"
    }
   ],
   "source": [
    "getsizeof(dataset.data)"
   ]
  },
  {
   "cell_type": "code",
   "execution_count": 158,
   "id": "ee0adf0c-2918-43fe-b216-96402e0f9f53",
   "metadata": {},
   "outputs": [
    {
     "data": {
      "text/plain": [
       "28"
      ]
     },
     "execution_count": 158,
     "metadata": {},
     "output_type": "execute_result"
    }
   ],
   "source": [
    "a = 3\n",
    "getsizeof(a)"
   ]
  },
  {
   "cell_type": "code",
   "execution_count": 160,
   "id": "faf2cd3d-2f9a-4dbd-a723-926b6822e788",
   "metadata": {},
   "outputs": [
    {
     "data": {
      "text/plain": [
       "262811"
      ]
     },
     "execution_count": 160,
     "metadata": {},
     "output_type": "execute_result"
    }
   ],
   "source": [
    "len(dataset)"
   ]
  },
  {
   "cell_type": "markdown",
   "id": "c77d141a-1611-43c1-ad6f-0d05f36dac7e",
   "metadata": {},
   "source": [
    "# Train"
   ]
  },
  {
   "cell_type": "code",
   "execution_count": null,
   "id": "d12c3ab6-9f4c-402a-b7d7-9bd033cfbfd0",
   "metadata": {},
   "outputs": [],
   "source": []
  },
  {
   "cell_type": "code",
   "execution_count": 6,
   "id": "9dff6db4-d63e-490a-86e4-48116010366d",
   "metadata": {},
   "outputs": [],
   "source": [
    "n_labels = input_size = next(iter(train_dataloader))['target_sequences']['sequence'].shape[2]\n",
    "\n",
    "criterion = torch.nn.BCEWithLogitsLoss(reduction='none')"
   ]
  },
  {
   "cell_type": "code",
   "execution_count": 7,
   "id": "adfcca93-952d-4fbe-879e-7f9399b8596c",
   "metadata": {},
   "outputs": [
    {
     "name": "stdout",
     "output_type": "stream",
     "text": [
      "params: 36\n"
     ]
    }
   ],
   "source": [
    "hyperparameters = {\n",
    "    'hidden_size':[100,150],\n",
    "    'num_layers':[1,2],\n",
    "    'lr':[0.01,0.02,0.03],\n",
    "    'model':['rnn','gru','lstm']\n",
    "    \n",
    "}\n",
    "meta_parameters = {\n",
    "    'epochs':15\n",
    "}\n",
    "\n",
    "params = ParameterGrid(hyperparameters)\n",
    "print(f'params:',len(params))\n",
    "\n",
    "#random_params = ParameterSampler(params.param_grid,n_iter=len(params)-1,random_state=231)\n",
    "#next(iter(random_params))"
   ]
  },
  {
   "cell_type": "markdown",
   "id": "eff2b7cf-a16a-4faf-82fb-3e7d7cecec4e",
   "metadata": {},
   "source": [
    "# Test"
   ]
  },
  {
   "cell_type": "code",
   "execution_count": 8,
   "id": "97768719-dc3f-4561-8e2f-5ed7cf167462",
   "metadata": {},
   "outputs": [],
   "source": [
    "from torch import nn\n",
    "import torch\n",
    "from torch.nn.utils.rnn import pack_padded_sequence, pad_packed_sequence, pad_sequence, pack_sequence\n",
    "import torch.nn.functional as F"
   ]
  },
  {
   "cell_type": "code",
   "execution_count": 9,
   "id": "e5af73c7-3eeb-419f-a5f5-2592da6c380f",
   "metadata": {},
   "outputs": [],
   "source": [
    "import pandas\n",
    "import numpy"
   ]
  },
  {
   "cell_type": "code",
   "execution_count": 10,
   "id": "98781e36-e38f-423c-888d-b4b4df147d8c",
   "metadata": {},
   "outputs": [],
   "source": [
    "param_set = next(iter(params))\n",
    "config = param_set\n",
    "model = RNN(input_size=input_size,\n",
    "              hidden_size=config['hidden_size'],\n",
    "              num_layers=config['num_layers'],\n",
    "              n_labels=n_labels,\n",
    "              model=config['model'])\n",
    "\n",
    "optimizer = torch.optim.Adam(model.parameters(), lr=config['lr'])\n",
    "criterion = torch.nn.BCEWithLogitsLoss(reduction='none')\n",
    "\n",
    "#batch = next(iter(val_dataloader))\n",
    "\n",
    "#outs = model(batch['train_sequences']['sequence']).detach().numpy()\n",
    "#loss = train_one_epoch(model,val_dataloader,1,criterion,optimizer)\n",
    "\n",
    "#outs,golden = outs2df_dev(model,val_dataloader,dataset,return_golden=True)\n",
    "\n",
    "#train_metrics = eval_model(model,train_dataloader,dataset,metrics=['roc','f1'])[1].filter(regex='_adm')\n",
    "#    val_metrics = eval_model(model,val_dataloader,dataset,metrics=['roc','f1'])[1].filter(regex='_adm')"
   ]
  },
  {
   "cell_type": "code",
   "execution_count": 11,
   "id": "ddd2c523-38ec-40a8-8b94-e9cd22201a8b",
   "metadata": {},
   "outputs": [
    {
     "data": {
      "application/vnd.jupyter.widget-view+json": {
       "model_id": "68513ac3d21546cebb65dc183e6106d8",
       "version_major": 2,
       "version_minor": 0
      },
      "text/plain": [
       "0it [00:00, ?it/s]"
      ]
     },
     "metadata": {},
     "output_type": "display_data"
    },
    {
     "name": "stderr",
     "output_type": "stream",
     "text": [
      "Failed to detect the name of this notebook, you can set it manually with the WANDB_NOTEBOOK_NAME environment variable to enable code saving.\n",
      "\u001b[34m\u001b[1mwandb\u001b[0m: Currently logged in as: \u001b[33msnovaisg\u001b[0m. Use \u001b[1m`wandb login --relogin`\u001b[0m to force relogin\n"
     ]
    },
    {
     "data": {
      "text/html": [
       "wandb version 0.12.21 is available!  To upgrade, please run:\n",
       " $ pip install wandb --upgrade"
      ],
      "text/plain": [
       "<IPython.core.display.HTML object>"
      ]
     },
     "metadata": {},
     "output_type": "display_data"
    },
    {
     "data": {
      "text/html": [
       "Tracking run with wandb version 0.12.17"
      ],
      "text/plain": [
       "<IPython.core.display.HTML object>"
      ]
     },
     "metadata": {},
     "output_type": "display_data"
    },
    {
     "data": {
      "text/html": [
       "Run data is saved locally in <code>/home/debian/Simao/master-thesis/wandb/run-20220709_112039-37b1zglq</code>"
      ],
      "text/plain": [
       "<IPython.core.display.HTML object>"
      ]
     },
     "metadata": {},
     "output_type": "display_data"
    },
    {
     "data": {
      "text/html": [
       "Syncing run <strong><a href=\"https://wandb.ai/snovaisg/icare/runs/37b1zglq\" target=\"_blank\">lunar-firefly-29</a></strong> to <a href=\"https://wandb.ai/snovaisg/icare\" target=\"_blank\">Weights & Biases</a> (<a href=\"https://wandb.me/run\" target=\"_blank\">docs</a>)<br/>"
      ],
      "text/plain": [
       "<IPython.core.display.HTML object>"
      ]
     },
     "metadata": {},
     "output_type": "display_data"
    },
    {
     "data": {
      "text/html": [
       "<button onClick=\"this.nextSibling.style.display='block';this.style.display='none';\">Display W&B run</button><iframe src=\"https://wandb.ai/snovaisg/icare/runs/37b1zglq?jupyter=true\" style=\"border:none;width:100%;height:420px;display:none;\"></iframe>"
      ],
      "text/plain": [
       "<wandb.sdk.wandb_run.Run at 0x7feb5a4779d0>"
      ]
     },
     "execution_count": 11,
     "metadata": {},
     "output_type": "execute_result"
    },
    {
     "data": {
      "application/vnd.jupyter.widget-view+json": {
       "model_id": "083e364235a24fcf918c5596ff3f5f5d",
       "version_major": 2,
       "version_minor": 0
      },
      "text/plain": [
       "0it [00:00, ?it/s]"
      ]
     },
     "metadata": {},
     "output_type": "display_data"
    },
    {
     "name": "stdout",
     "output_type": "stream",
     "text": [
      "computing roc\n"
     ]
    },
    {
     "data": {
      "application/vnd.jupyter.widget-view+json": {
       "model_id": "bc99a9655294421bbc477bf43ae27a46",
       "version_major": 2,
       "version_minor": 0
      },
      "text/plain": [
       "  0%|          | 0/270248 [00:00<?, ?it/s]"
      ]
     },
     "metadata": {},
     "output_type": "display_data"
    },
    {
     "ename": "KeyboardInterrupt",
     "evalue": "",
     "output_type": "error",
     "traceback": [
      "\u001b[0;31m---------------------------------------------------------------------------\u001b[0m",
      "\u001b[0;31mKeyboardInterrupt\u001b[0m                         Traceback (most recent call last)",
      "Input \u001b[0;32mIn [11]\u001b[0m, in \u001b[0;36m<cell line: 7>\u001b[0;34m()\u001b[0m\n\u001b[1;32m     34\u001b[0m outs_train,golden_train \u001b[38;5;241m=\u001b[39m outs2df(model,val_dataloader,dataset,return_golden\u001b[38;5;241m=\u001b[39m\u001b[38;5;28;01mTrue\u001b[39;00m)\n\u001b[1;32m     35\u001b[0m \u001b[38;5;66;03m#thresholds = get_prediction_thresholds(outs_train,(golden_train > 0).astype(int))\u001b[39;00m\n\u001b[0;32m---> 37\u001b[0m train_metrics \u001b[38;5;241m=\u001b[39m \u001b[43mcompute_metrics\u001b[49m\u001b[43m(\u001b[49m\u001b[43mouts_train\u001b[49m\u001b[43m,\u001b[49m\u001b[43mmodel_predictions\u001b[49m\u001b[38;5;241;43m=\u001b[39;49m\u001b[38;5;28;43;01mNone\u001b[39;49;00m\u001b[43m,\u001b[49m\u001b[43mgolden\u001b[49m\u001b[38;5;241;43m=\u001b[39;49m\u001b[43mgolden_train\u001b[49m\u001b[43m,\u001b[49m\u001b[43mmetrics\u001b[49m\u001b[38;5;241;43m=\u001b[39;49m\u001b[43m[\u001b[49m\u001b[38;5;124;43m'\u001b[39;49m\u001b[38;5;124;43mroc\u001b[39;49m\u001b[38;5;124;43m'\u001b[39;49m\u001b[43m,\u001b[49m\u001b[38;5;124;43m'\u001b[39;49m\u001b[38;5;124;43mrecall@30\u001b[39;49m\u001b[38;5;124;43m'\u001b[39;49m\u001b[43m,\u001b[49m\u001b[38;5;124;43m'\u001b[39;49m\u001b[38;5;124;43mprecision@30\u001b[39;49m\u001b[38;5;124;43m'\u001b[39;49m\u001b[43m]\u001b[49m\u001b[43m)\u001b[49m[\u001b[38;5;241m1\u001b[39m]\u001b[38;5;241m.\u001b[39mfilter(regex\u001b[38;5;241m=\u001b[39m\u001b[38;5;124m'\u001b[39m\u001b[38;5;124m_adm\u001b[39m\u001b[38;5;124m'\u001b[39m)\n\u001b[1;32m     38\u001b[0m \u001b[38;5;66;03m#val_metrics = eval_model(model,test_dataloader,dataset,None,metrics=['roc','recall@30','precision@30'])[1].filter(regex='_adm')\u001b[39;00m\n\u001b[1;32m     39\u001b[0m train_metrics\u001b[38;5;241m.\u001b[39mindex \u001b[38;5;241m=\u001b[39m [\u001b[38;5;124m'\u001b[39m\u001b[38;5;124mtrain_\u001b[39m\u001b[38;5;124m'\u001b[39m \u001b[38;5;241m+\u001b[39m n \u001b[38;5;28;01mfor\u001b[39;00m n \u001b[38;5;129;01min\u001b[39;00m train_metrics\u001b[38;5;241m.\u001b[39mindex]\n",
      "File \u001b[0;32m~/Simao/master-thesis/rnn_utils.py:902\u001b[0m, in \u001b[0;36mcompute_metrics\u001b[0;34m(model_outputs, model_predictions, golden, metrics, mode)\u001b[0m\n\u001b[1;32m    900\u001b[0m \u001b[38;5;28;01mif\u001b[39;00m \u001b[38;5;124m'\u001b[39m\u001b[38;5;124mroc\u001b[39m\u001b[38;5;124m'\u001b[39m \u001b[38;5;129;01min\u001b[39;00m metrics:\n\u001b[1;32m    901\u001b[0m     \u001b[38;5;28mprint\u001b[39m(\u001b[38;5;124m'\u001b[39m\u001b[38;5;124mcomputing roc\u001b[39m\u001b[38;5;124m'\u001b[39m)\n\u001b[0;32m--> 902\u001b[0m     roc \u001b[38;5;241m=\u001b[39m \u001b[43mmodel_outputs\u001b[49m\u001b[38;5;241;43m.\u001b[39;49m\u001b[43mprogress_apply\u001b[49m\u001b[43m(\u001b[49m\u001b[38;5;28;43;01mlambda\u001b[39;49;00m\u001b[43m \u001b[49m\u001b[43mrow\u001b[49m\u001b[43m:\u001b[49m\u001b[43m \u001b[49m\u001b[43mroc_auc_score\u001b[49m\u001b[43m(\u001b[49m\u001b[43mgolden\u001b[49m\u001b[38;5;241;43m.\u001b[39;49m\u001b[43mloc\u001b[49m\u001b[43m[\u001b[49m\u001b[43mrow\u001b[49m\u001b[38;5;241;43m.\u001b[39;49m\u001b[43mname\u001b[49m\u001b[43m]\u001b[49m\u001b[43m,\u001b[49m\u001b[43mrow\u001b[49m\u001b[43m)\u001b[49m\u001b[43m \u001b[49m\u001b[38;5;28;43;01mif\u001b[39;49;00m\u001b[43m \u001b[49m\u001b[38;5;28;43many\u001b[39;49m\u001b[43m(\u001b[49m\u001b[43mgolden\u001b[49m\u001b[38;5;241;43m.\u001b[39;49m\u001b[43mloc\u001b[49m\u001b[43m[\u001b[49m\u001b[43mrow\u001b[49m\u001b[38;5;241;43m.\u001b[39;49m\u001b[43mname\u001b[49m\u001b[43m]\u001b[49m\u001b[43m \u001b[49m\u001b[38;5;241;43m==\u001b[39;49m\u001b[43m \u001b[49m\u001b[38;5;241;43m1\u001b[39;49m\u001b[43m)\u001b[49m\u001b[43m \u001b[49m\u001b[38;5;28;43;01melse\u001b[39;49;00m\u001b[43m \u001b[49m\u001b[43mnp\u001b[49m\u001b[38;5;241;43m.\u001b[39;49m\u001b[43mnan\u001b[49m\u001b[43m,\u001b[49m\u001b[43maxis\u001b[49m\u001b[38;5;241;43m=\u001b[39;49m\u001b[38;5;241;43m1\u001b[39;49m\u001b[43m)\u001b[49m\u001b[38;5;241m.\u001b[39mrename(\u001b[38;5;124m'\u001b[39m\u001b[38;5;124mroc_adm\u001b[39m\u001b[38;5;124m'\u001b[39m) \u001b[38;5;28;01mif\u001b[39;00m mode\u001b[38;5;241m==\u001b[39m\u001b[38;5;124m'\u001b[39m\u001b[38;5;124madm\u001b[39m\u001b[38;5;124m'\u001b[39m \u001b[38;5;28;01melse\u001b[39;00m model_outputs\u001b[38;5;241m.\u001b[39mprogress_apply(\u001b[38;5;28;01mlambda\u001b[39;00m col: roc_auc_score(golden[col\u001b[38;5;241m.\u001b[39mname],col) \u001b[38;5;28;01mif\u001b[39;00m \u001b[38;5;28many\u001b[39m(golden[col\u001b[38;5;241m.\u001b[39mname] \u001b[38;5;241m==\u001b[39m \u001b[38;5;241m1\u001b[39m) \u001b[38;5;28;01melse\u001b[39;00m np\u001b[38;5;241m.\u001b[39mnan)\u001b[38;5;241m.\u001b[39mrename(\u001b[38;5;124m'\u001b[39m\u001b[38;5;124mroc_diag\u001b[39m\u001b[38;5;124m'\u001b[39m)\n\u001b[1;32m    903\u001b[0m     \u001b[38;5;66;03m#roc_diag = model_outputs.apply(lambda col: roc_auc_score(golden[col.name],col) if any(golden[col.name] == 1) else np.nan).rename('roc_diag')\u001b[39;00m\n\u001b[1;32m    904\u001b[0m     \u001b[38;5;66;03m#roc_adm = model_outputs.apply(lambda row: roc_auc_score(golden.loc[row.name],row) if any(golden.loc[row.name] == 1) else np.nan,axis=1).rename('roc_adm')\u001b[39;00m\n\u001b[1;32m    905\u001b[0m     \u001b[38;5;66;03m#diag_metrics.append(roc_diag)\u001b[39;00m\n\u001b[1;32m    906\u001b[0m     \u001b[38;5;66;03m#adm_metrics.append(roc_adm)\u001b[39;00m\n\u001b[1;32m    907\u001b[0m     res_metrics\u001b[38;5;241m.\u001b[39mappend(roc)\n",
      "File \u001b[0;32m~/Simao/miniconda3/envs/thesis/lib/python3.10/site-packages/tqdm/std.py:814\u001b[0m, in \u001b[0;36mtqdm.pandas.<locals>.inner_generator.<locals>.inner\u001b[0;34m(df, func, *args, **kwargs)\u001b[0m\n\u001b[1;32m    811\u001b[0m \u001b[38;5;66;03m# Apply the provided function (in **kwargs)\u001b[39;00m\n\u001b[1;32m    812\u001b[0m \u001b[38;5;66;03m# on the df using our wrapper (which provides bar updating)\u001b[39;00m\n\u001b[1;32m    813\u001b[0m \u001b[38;5;28;01mtry\u001b[39;00m:\n\u001b[0;32m--> 814\u001b[0m     \u001b[38;5;28;01mreturn\u001b[39;00m \u001b[38;5;28;43mgetattr\u001b[39;49m\u001b[43m(\u001b[49m\u001b[43mdf\u001b[49m\u001b[43m,\u001b[49m\u001b[43m \u001b[49m\u001b[43mdf_function\u001b[49m\u001b[43m)\u001b[49m\u001b[43m(\u001b[49m\u001b[43mwrapper\u001b[49m\u001b[43m,\u001b[49m\u001b[43m \u001b[49m\u001b[38;5;241;43m*\u001b[39;49m\u001b[38;5;241;43m*\u001b[39;49m\u001b[43mkwargs\u001b[49m\u001b[43m)\u001b[49m\n\u001b[1;32m    815\u001b[0m \u001b[38;5;28;01mfinally\u001b[39;00m:\n\u001b[1;32m    816\u001b[0m     t\u001b[38;5;241m.\u001b[39mclose()\n",
      "File \u001b[0;32m~/Simao/miniconda3/envs/thesis/lib/python3.10/site-packages/pandas/core/frame.py:8839\u001b[0m, in \u001b[0;36mDataFrame.apply\u001b[0;34m(self, func, axis, raw, result_type, args, **kwargs)\u001b[0m\n\u001b[1;32m   8828\u001b[0m \u001b[38;5;28;01mfrom\u001b[39;00m \u001b[38;5;21;01mpandas\u001b[39;00m\u001b[38;5;21;01m.\u001b[39;00m\u001b[38;5;21;01mcore\u001b[39;00m\u001b[38;5;21;01m.\u001b[39;00m\u001b[38;5;21;01mapply\u001b[39;00m \u001b[38;5;28;01mimport\u001b[39;00m frame_apply\n\u001b[1;32m   8830\u001b[0m op \u001b[38;5;241m=\u001b[39m frame_apply(\n\u001b[1;32m   8831\u001b[0m     \u001b[38;5;28mself\u001b[39m,\n\u001b[1;32m   8832\u001b[0m     func\u001b[38;5;241m=\u001b[39mfunc,\n\u001b[0;32m   (...)\u001b[0m\n\u001b[1;32m   8837\u001b[0m     kwargs\u001b[38;5;241m=\u001b[39mkwargs,\n\u001b[1;32m   8838\u001b[0m )\n\u001b[0;32m-> 8839\u001b[0m \u001b[38;5;28;01mreturn\u001b[39;00m \u001b[43mop\u001b[49m\u001b[38;5;241;43m.\u001b[39;49m\u001b[43mapply\u001b[49m\u001b[43m(\u001b[49m\u001b[43m)\u001b[49m\u001b[38;5;241m.\u001b[39m__finalize__(\u001b[38;5;28mself\u001b[39m, method\u001b[38;5;241m=\u001b[39m\u001b[38;5;124m\"\u001b[39m\u001b[38;5;124mapply\u001b[39m\u001b[38;5;124m\"\u001b[39m)\n",
      "File \u001b[0;32m~/Simao/miniconda3/envs/thesis/lib/python3.10/site-packages/pandas/core/apply.py:727\u001b[0m, in \u001b[0;36mFrameApply.apply\u001b[0;34m(self)\u001b[0m\n\u001b[1;32m    724\u001b[0m \u001b[38;5;28;01melif\u001b[39;00m \u001b[38;5;28mself\u001b[39m\u001b[38;5;241m.\u001b[39mraw:\n\u001b[1;32m    725\u001b[0m     \u001b[38;5;28;01mreturn\u001b[39;00m \u001b[38;5;28mself\u001b[39m\u001b[38;5;241m.\u001b[39mapply_raw()\n\u001b[0;32m--> 727\u001b[0m \u001b[38;5;28;01mreturn\u001b[39;00m \u001b[38;5;28;43mself\u001b[39;49m\u001b[38;5;241;43m.\u001b[39;49m\u001b[43mapply_standard\u001b[49m\u001b[43m(\u001b[49m\u001b[43m)\u001b[49m\n",
      "File \u001b[0;32m~/Simao/miniconda3/envs/thesis/lib/python3.10/site-packages/pandas/core/apply.py:851\u001b[0m, in \u001b[0;36mFrameApply.apply_standard\u001b[0;34m(self)\u001b[0m\n\u001b[1;32m    850\u001b[0m \u001b[38;5;28;01mdef\u001b[39;00m \u001b[38;5;21mapply_standard\u001b[39m(\u001b[38;5;28mself\u001b[39m):\n\u001b[0;32m--> 851\u001b[0m     results, res_index \u001b[38;5;241m=\u001b[39m \u001b[38;5;28;43mself\u001b[39;49m\u001b[38;5;241;43m.\u001b[39;49m\u001b[43mapply_series_generator\u001b[49m\u001b[43m(\u001b[49m\u001b[43m)\u001b[49m\n\u001b[1;32m    853\u001b[0m     \u001b[38;5;66;03m# wrap results\u001b[39;00m\n\u001b[1;32m    854\u001b[0m     \u001b[38;5;28;01mreturn\u001b[39;00m \u001b[38;5;28mself\u001b[39m\u001b[38;5;241m.\u001b[39mwrap_results(results, res_index)\n",
      "File \u001b[0;32m~/Simao/miniconda3/envs/thesis/lib/python3.10/site-packages/pandas/core/apply.py:867\u001b[0m, in \u001b[0;36mFrameApply.apply_series_generator\u001b[0;34m(self)\u001b[0m\n\u001b[1;32m    864\u001b[0m \u001b[38;5;28;01mwith\u001b[39;00m option_context(\u001b[38;5;124m\"\u001b[39m\u001b[38;5;124mmode.chained_assignment\u001b[39m\u001b[38;5;124m\"\u001b[39m, \u001b[38;5;28;01mNone\u001b[39;00m):\n\u001b[1;32m    865\u001b[0m     \u001b[38;5;28;01mfor\u001b[39;00m i, v \u001b[38;5;129;01min\u001b[39;00m \u001b[38;5;28menumerate\u001b[39m(series_gen):\n\u001b[1;32m    866\u001b[0m         \u001b[38;5;66;03m# ignore SettingWithCopy here in case the user mutates\u001b[39;00m\n\u001b[0;32m--> 867\u001b[0m         results[i] \u001b[38;5;241m=\u001b[39m \u001b[38;5;28;43mself\u001b[39;49m\u001b[38;5;241;43m.\u001b[39;49m\u001b[43mf\u001b[49m\u001b[43m(\u001b[49m\u001b[43mv\u001b[49m\u001b[43m)\u001b[49m\n\u001b[1;32m    868\u001b[0m         \u001b[38;5;28;01mif\u001b[39;00m \u001b[38;5;28misinstance\u001b[39m(results[i], ABCSeries):\n\u001b[1;32m    869\u001b[0m             \u001b[38;5;66;03m# If we have a view on v, we need to make a copy because\u001b[39;00m\n\u001b[1;32m    870\u001b[0m             \u001b[38;5;66;03m#  series_generator will swap out the underlying data\u001b[39;00m\n\u001b[1;32m    871\u001b[0m             results[i] \u001b[38;5;241m=\u001b[39m results[i]\u001b[38;5;241m.\u001b[39mcopy(deep\u001b[38;5;241m=\u001b[39m\u001b[38;5;28;01mFalse\u001b[39;00m)\n",
      "File \u001b[0;32m~/Simao/miniconda3/envs/thesis/lib/python3.10/site-packages/tqdm/std.py:809\u001b[0m, in \u001b[0;36mtqdm.pandas.<locals>.inner_generator.<locals>.inner.<locals>.wrapper\u001b[0;34m(*args, **kwargs)\u001b[0m\n\u001b[1;32m    803\u001b[0m \u001b[38;5;28;01mdef\u001b[39;00m \u001b[38;5;21mwrapper\u001b[39m(\u001b[38;5;241m*\u001b[39margs, \u001b[38;5;241m*\u001b[39m\u001b[38;5;241m*\u001b[39mkwargs):\n\u001b[1;32m    804\u001b[0m     \u001b[38;5;66;03m# update tbar correctly\u001b[39;00m\n\u001b[1;32m    805\u001b[0m     \u001b[38;5;66;03m# it seems `pandas apply` calls `func` twice\u001b[39;00m\n\u001b[1;32m    806\u001b[0m     \u001b[38;5;66;03m# on the first column/row to decide whether it can\u001b[39;00m\n\u001b[1;32m    807\u001b[0m     \u001b[38;5;66;03m# take a fast or slow code path; so stop when t.total==t.n\u001b[39;00m\n\u001b[1;32m    808\u001b[0m     t\u001b[38;5;241m.\u001b[39mupdate(n\u001b[38;5;241m=\u001b[39m\u001b[38;5;241m1\u001b[39m \u001b[38;5;28;01mif\u001b[39;00m \u001b[38;5;129;01mnot\u001b[39;00m t\u001b[38;5;241m.\u001b[39mtotal \u001b[38;5;129;01mor\u001b[39;00m t\u001b[38;5;241m.\u001b[39mn \u001b[38;5;241m<\u001b[39m t\u001b[38;5;241m.\u001b[39mtotal \u001b[38;5;28;01melse\u001b[39;00m \u001b[38;5;241m0\u001b[39m)\n\u001b[0;32m--> 809\u001b[0m     \u001b[38;5;28;01mreturn\u001b[39;00m \u001b[43mfunc\u001b[49m\u001b[43m(\u001b[49m\u001b[38;5;241;43m*\u001b[39;49m\u001b[43margs\u001b[49m\u001b[43m,\u001b[49m\u001b[43m \u001b[49m\u001b[38;5;241;43m*\u001b[39;49m\u001b[38;5;241;43m*\u001b[39;49m\u001b[43mkwargs\u001b[49m\u001b[43m)\u001b[49m\n",
      "File \u001b[0;32m~/Simao/master-thesis/rnn_utils.py:902\u001b[0m, in \u001b[0;36mcompute_metrics.<locals>.<lambda>\u001b[0;34m(row)\u001b[0m\n\u001b[1;32m    900\u001b[0m \u001b[38;5;28;01mif\u001b[39;00m \u001b[38;5;124m'\u001b[39m\u001b[38;5;124mroc\u001b[39m\u001b[38;5;124m'\u001b[39m \u001b[38;5;129;01min\u001b[39;00m metrics:\n\u001b[1;32m    901\u001b[0m     \u001b[38;5;28mprint\u001b[39m(\u001b[38;5;124m'\u001b[39m\u001b[38;5;124mcomputing roc\u001b[39m\u001b[38;5;124m'\u001b[39m)\n\u001b[0;32m--> 902\u001b[0m     roc \u001b[38;5;241m=\u001b[39m model_outputs\u001b[38;5;241m.\u001b[39mprogress_apply(\u001b[38;5;28;01mlambda\u001b[39;00m row: \u001b[43mroc_auc_score\u001b[49m\u001b[43m(\u001b[49m\u001b[43mgolden\u001b[49m\u001b[38;5;241;43m.\u001b[39;49m\u001b[43mloc\u001b[49m\u001b[43m[\u001b[49m\u001b[43mrow\u001b[49m\u001b[38;5;241;43m.\u001b[39;49m\u001b[43mname\u001b[49m\u001b[43m]\u001b[49m\u001b[43m,\u001b[49m\u001b[43mrow\u001b[49m\u001b[43m)\u001b[49m \u001b[38;5;28;01mif\u001b[39;00m \u001b[38;5;28many\u001b[39m(golden\u001b[38;5;241m.\u001b[39mloc[row\u001b[38;5;241m.\u001b[39mname] \u001b[38;5;241m==\u001b[39m \u001b[38;5;241m1\u001b[39m) \u001b[38;5;28;01melse\u001b[39;00m np\u001b[38;5;241m.\u001b[39mnan,axis\u001b[38;5;241m=\u001b[39m\u001b[38;5;241m1\u001b[39m)\u001b[38;5;241m.\u001b[39mrename(\u001b[38;5;124m'\u001b[39m\u001b[38;5;124mroc_adm\u001b[39m\u001b[38;5;124m'\u001b[39m) \u001b[38;5;28;01mif\u001b[39;00m mode\u001b[38;5;241m==\u001b[39m\u001b[38;5;124m'\u001b[39m\u001b[38;5;124madm\u001b[39m\u001b[38;5;124m'\u001b[39m \u001b[38;5;28;01melse\u001b[39;00m model_outputs\u001b[38;5;241m.\u001b[39mprogress_apply(\u001b[38;5;28;01mlambda\u001b[39;00m col: roc_auc_score(golden[col\u001b[38;5;241m.\u001b[39mname],col) \u001b[38;5;28;01mif\u001b[39;00m \u001b[38;5;28many\u001b[39m(golden[col\u001b[38;5;241m.\u001b[39mname] \u001b[38;5;241m==\u001b[39m \u001b[38;5;241m1\u001b[39m) \u001b[38;5;28;01melse\u001b[39;00m np\u001b[38;5;241m.\u001b[39mnan)\u001b[38;5;241m.\u001b[39mrename(\u001b[38;5;124m'\u001b[39m\u001b[38;5;124mroc_diag\u001b[39m\u001b[38;5;124m'\u001b[39m)\n\u001b[1;32m    903\u001b[0m     \u001b[38;5;66;03m#roc_diag = model_outputs.apply(lambda col: roc_auc_score(golden[col.name],col) if any(golden[col.name] == 1) else np.nan).rename('roc_diag')\u001b[39;00m\n\u001b[1;32m    904\u001b[0m     \u001b[38;5;66;03m#roc_adm = model_outputs.apply(lambda row: roc_auc_score(golden.loc[row.name],row) if any(golden.loc[row.name] == 1) else np.nan,axis=1).rename('roc_adm')\u001b[39;00m\n\u001b[1;32m    905\u001b[0m     \u001b[38;5;66;03m#diag_metrics.append(roc_diag)\u001b[39;00m\n\u001b[1;32m    906\u001b[0m     \u001b[38;5;66;03m#adm_metrics.append(roc_adm)\u001b[39;00m\n\u001b[1;32m    907\u001b[0m     res_metrics\u001b[38;5;241m.\u001b[39mappend(roc)\n",
      "File \u001b[0;32m~/Simao/miniconda3/envs/thesis/lib/python3.10/site-packages/sklearn/metrics/_ranking.py:567\u001b[0m, in \u001b[0;36mroc_auc_score\u001b[0;34m(y_true, y_score, average, sample_weight, max_fpr, multi_class, labels)\u001b[0m\n\u001b[1;32m    565\u001b[0m     labels \u001b[38;5;241m=\u001b[39m np\u001b[38;5;241m.\u001b[39munique(y_true)\n\u001b[1;32m    566\u001b[0m     y_true \u001b[38;5;241m=\u001b[39m label_binarize(y_true, classes\u001b[38;5;241m=\u001b[39mlabels)[:, \u001b[38;5;241m0\u001b[39m]\n\u001b[0;32m--> 567\u001b[0m     \u001b[38;5;28;01mreturn\u001b[39;00m \u001b[43m_average_binary_score\u001b[49m\u001b[43m(\u001b[49m\n\u001b[1;32m    568\u001b[0m \u001b[43m        \u001b[49m\u001b[43mpartial\u001b[49m\u001b[43m(\u001b[49m\u001b[43m_binary_roc_auc_score\u001b[49m\u001b[43m,\u001b[49m\u001b[43m \u001b[49m\u001b[43mmax_fpr\u001b[49m\u001b[38;5;241;43m=\u001b[39;49m\u001b[43mmax_fpr\u001b[49m\u001b[43m)\u001b[49m\u001b[43m,\u001b[49m\n\u001b[1;32m    569\u001b[0m \u001b[43m        \u001b[49m\u001b[43my_true\u001b[49m\u001b[43m,\u001b[49m\n\u001b[1;32m    570\u001b[0m \u001b[43m        \u001b[49m\u001b[43my_score\u001b[49m\u001b[43m,\u001b[49m\n\u001b[1;32m    571\u001b[0m \u001b[43m        \u001b[49m\u001b[43maverage\u001b[49m\u001b[43m,\u001b[49m\n\u001b[1;32m    572\u001b[0m \u001b[43m        \u001b[49m\u001b[43msample_weight\u001b[49m\u001b[38;5;241;43m=\u001b[39;49m\u001b[43msample_weight\u001b[49m\u001b[43m,\u001b[49m\n\u001b[1;32m    573\u001b[0m \u001b[43m    \u001b[49m\u001b[43m)\u001b[49m\n\u001b[1;32m    574\u001b[0m \u001b[38;5;28;01melse\u001b[39;00m:  \u001b[38;5;66;03m# multilabel-indicator\u001b[39;00m\n\u001b[1;32m    575\u001b[0m     \u001b[38;5;28;01mreturn\u001b[39;00m _average_binary_score(\n\u001b[1;32m    576\u001b[0m         partial(_binary_roc_auc_score, max_fpr\u001b[38;5;241m=\u001b[39mmax_fpr),\n\u001b[1;32m    577\u001b[0m         y_true,\n\u001b[0;32m   (...)\u001b[0m\n\u001b[1;32m    580\u001b[0m         sample_weight\u001b[38;5;241m=\u001b[39msample_weight,\n\u001b[1;32m    581\u001b[0m     )\n",
      "File \u001b[0;32m~/Simao/miniconda3/envs/thesis/lib/python3.10/site-packages/sklearn/metrics/_base.py:75\u001b[0m, in \u001b[0;36m_average_binary_score\u001b[0;34m(binary_metric, y_true, y_score, average, sample_weight)\u001b[0m\n\u001b[1;32m     72\u001b[0m     \u001b[38;5;28;01mraise\u001b[39;00m \u001b[38;5;167;01mValueError\u001b[39;00m(\u001b[38;5;124m\"\u001b[39m\u001b[38;5;132;01m{0}\u001b[39;00m\u001b[38;5;124m format is not supported\u001b[39m\u001b[38;5;124m\"\u001b[39m\u001b[38;5;241m.\u001b[39mformat(y_type))\n\u001b[1;32m     74\u001b[0m \u001b[38;5;28;01mif\u001b[39;00m y_type \u001b[38;5;241m==\u001b[39m \u001b[38;5;124m\"\u001b[39m\u001b[38;5;124mbinary\u001b[39m\u001b[38;5;124m\"\u001b[39m:\n\u001b[0;32m---> 75\u001b[0m     \u001b[38;5;28;01mreturn\u001b[39;00m \u001b[43mbinary_metric\u001b[49m\u001b[43m(\u001b[49m\u001b[43my_true\u001b[49m\u001b[43m,\u001b[49m\u001b[43m \u001b[49m\u001b[43my_score\u001b[49m\u001b[43m,\u001b[49m\u001b[43m \u001b[49m\u001b[43msample_weight\u001b[49m\u001b[38;5;241;43m=\u001b[39;49m\u001b[43msample_weight\u001b[49m\u001b[43m)\u001b[49m\n\u001b[1;32m     77\u001b[0m check_consistent_length(y_true, y_score, sample_weight)\n\u001b[1;32m     78\u001b[0m y_true \u001b[38;5;241m=\u001b[39m check_array(y_true)\n",
      "File \u001b[0;32m~/Simao/miniconda3/envs/thesis/lib/python3.10/site-packages/sklearn/metrics/_ranking.py:342\u001b[0m, in \u001b[0;36m_binary_roc_auc_score\u001b[0;34m(y_true, y_score, sample_weight, max_fpr)\u001b[0m\n\u001b[1;32m    336\u001b[0m \u001b[38;5;28;01mif\u001b[39;00m \u001b[38;5;28mlen\u001b[39m(np\u001b[38;5;241m.\u001b[39munique(y_true)) \u001b[38;5;241m!=\u001b[39m \u001b[38;5;241m2\u001b[39m:\n\u001b[1;32m    337\u001b[0m     \u001b[38;5;28;01mraise\u001b[39;00m \u001b[38;5;167;01mValueError\u001b[39;00m(\n\u001b[1;32m    338\u001b[0m         \u001b[38;5;124m\"\u001b[39m\u001b[38;5;124mOnly one class present in y_true. ROC AUC score \u001b[39m\u001b[38;5;124m\"\u001b[39m\n\u001b[1;32m    339\u001b[0m         \u001b[38;5;124m\"\u001b[39m\u001b[38;5;124mis not defined in that case.\u001b[39m\u001b[38;5;124m\"\u001b[39m\n\u001b[1;32m    340\u001b[0m     )\n\u001b[0;32m--> 342\u001b[0m fpr, tpr, _ \u001b[38;5;241m=\u001b[39m \u001b[43mroc_curve\u001b[49m\u001b[43m(\u001b[49m\u001b[43my_true\u001b[49m\u001b[43m,\u001b[49m\u001b[43m \u001b[49m\u001b[43my_score\u001b[49m\u001b[43m,\u001b[49m\u001b[43m \u001b[49m\u001b[43msample_weight\u001b[49m\u001b[38;5;241;43m=\u001b[39;49m\u001b[43msample_weight\u001b[49m\u001b[43m)\u001b[49m\n\u001b[1;32m    343\u001b[0m \u001b[38;5;28;01mif\u001b[39;00m max_fpr \u001b[38;5;129;01mis\u001b[39;00m \u001b[38;5;28;01mNone\u001b[39;00m \u001b[38;5;129;01mor\u001b[39;00m max_fpr \u001b[38;5;241m==\u001b[39m \u001b[38;5;241m1\u001b[39m:\n\u001b[1;32m    344\u001b[0m     \u001b[38;5;28;01mreturn\u001b[39;00m auc(fpr, tpr)\n",
      "File \u001b[0;32m~/Simao/miniconda3/envs/thesis/lib/python3.10/site-packages/sklearn/metrics/_ranking.py:962\u001b[0m, in \u001b[0;36mroc_curve\u001b[0;34m(y_true, y_score, pos_label, sample_weight, drop_intermediate)\u001b[0m\n\u001b[1;32m    873\u001b[0m \u001b[38;5;28;01mdef\u001b[39;00m \u001b[38;5;21mroc_curve\u001b[39m(\n\u001b[1;32m    874\u001b[0m     y_true, y_score, \u001b[38;5;241m*\u001b[39m, pos_label\u001b[38;5;241m=\u001b[39m\u001b[38;5;28;01mNone\u001b[39;00m, sample_weight\u001b[38;5;241m=\u001b[39m\u001b[38;5;28;01mNone\u001b[39;00m, drop_intermediate\u001b[38;5;241m=\u001b[39m\u001b[38;5;28;01mTrue\u001b[39;00m\n\u001b[1;32m    875\u001b[0m ):\n\u001b[1;32m    876\u001b[0m     \u001b[38;5;124;03m\"\"\"Compute Receiver operating characteristic (ROC).\u001b[39;00m\n\u001b[1;32m    877\u001b[0m \n\u001b[1;32m    878\u001b[0m \u001b[38;5;124;03m    Note: this implementation is restricted to the binary classification task.\u001b[39;00m\n\u001b[0;32m   (...)\u001b[0m\n\u001b[1;32m    960\u001b[0m \n\u001b[1;32m    961\u001b[0m \u001b[38;5;124;03m    \"\"\"\u001b[39;00m\n\u001b[0;32m--> 962\u001b[0m     fps, tps, thresholds \u001b[38;5;241m=\u001b[39m \u001b[43m_binary_clf_curve\u001b[49m\u001b[43m(\u001b[49m\n\u001b[1;32m    963\u001b[0m \u001b[43m        \u001b[49m\u001b[43my_true\u001b[49m\u001b[43m,\u001b[49m\u001b[43m \u001b[49m\u001b[43my_score\u001b[49m\u001b[43m,\u001b[49m\u001b[43m \u001b[49m\u001b[43mpos_label\u001b[49m\u001b[38;5;241;43m=\u001b[39;49m\u001b[43mpos_label\u001b[49m\u001b[43m,\u001b[49m\u001b[43m \u001b[49m\u001b[43msample_weight\u001b[49m\u001b[38;5;241;43m=\u001b[39;49m\u001b[43msample_weight\u001b[49m\n\u001b[1;32m    964\u001b[0m \u001b[43m    \u001b[49m\u001b[43m)\u001b[49m\n\u001b[1;32m    966\u001b[0m     \u001b[38;5;66;03m# Attempt to drop thresholds corresponding to points in between and\u001b[39;00m\n\u001b[1;32m    967\u001b[0m     \u001b[38;5;66;03m# collinear with other points. These are always suboptimal and do not\u001b[39;00m\n\u001b[1;32m    968\u001b[0m     \u001b[38;5;66;03m# appear on a plotted ROC curve (and thus do not affect the AUC).\u001b[39;00m\n\u001b[0;32m   (...)\u001b[0m\n\u001b[1;32m    973\u001b[0m     \u001b[38;5;66;03m# but does not drop more complicated cases like fps = [1, 3, 7],\u001b[39;00m\n\u001b[1;32m    974\u001b[0m     \u001b[38;5;66;03m# tps = [1, 2, 4]; there is no harm in keeping too many thresholds.\u001b[39;00m\n\u001b[1;32m    975\u001b[0m     \u001b[38;5;28;01mif\u001b[39;00m drop_intermediate \u001b[38;5;129;01mand\u001b[39;00m \u001b[38;5;28mlen\u001b[39m(fps) \u001b[38;5;241m>\u001b[39m \u001b[38;5;241m2\u001b[39m:\n",
      "File \u001b[0;32m~/Simao/miniconda3/envs/thesis/lib/python3.10/site-packages/sklearn/metrics/_ranking.py:737\u001b[0m, in \u001b[0;36m_binary_clf_curve\u001b[0;34m(y_true, y_score, pos_label, sample_weight)\u001b[0m\n\u001b[1;32m    735\u001b[0m y_score \u001b[38;5;241m=\u001b[39m column_or_1d(y_score)\n\u001b[1;32m    736\u001b[0m assert_all_finite(y_true)\n\u001b[0;32m--> 737\u001b[0m \u001b[43massert_all_finite\u001b[49m\u001b[43m(\u001b[49m\u001b[43my_score\u001b[49m\u001b[43m)\u001b[49m\n\u001b[1;32m    739\u001b[0m \u001b[38;5;66;03m# Filter out zero-weighted samples, as they should not impact the result\u001b[39;00m\n\u001b[1;32m    740\u001b[0m \u001b[38;5;28;01mif\u001b[39;00m sample_weight \u001b[38;5;129;01mis\u001b[39;00m \u001b[38;5;129;01mnot\u001b[39;00m \u001b[38;5;28;01mNone\u001b[39;00m:\n",
      "File \u001b[0;32m~/Simao/miniconda3/envs/thesis/lib/python3.10/site-packages/sklearn/utils/validation.py:134\u001b[0m, in \u001b[0;36massert_all_finite\u001b[0;34m(X, allow_nan)\u001b[0m\n\u001b[1;32m    125\u001b[0m \u001b[38;5;28;01mdef\u001b[39;00m \u001b[38;5;21massert_all_finite\u001b[39m(X, \u001b[38;5;241m*\u001b[39m, allow_nan\u001b[38;5;241m=\u001b[39m\u001b[38;5;28;01mFalse\u001b[39;00m):\n\u001b[1;32m    126\u001b[0m     \u001b[38;5;124;03m\"\"\"Throw a ValueError if X contains NaN or infinity.\u001b[39;00m\n\u001b[1;32m    127\u001b[0m \n\u001b[1;32m    128\u001b[0m \u001b[38;5;124;03m    Parameters\u001b[39;00m\n\u001b[0;32m   (...)\u001b[0m\n\u001b[1;32m    132\u001b[0m \u001b[38;5;124;03m    allow_nan : bool, default=False\u001b[39;00m\n\u001b[1;32m    133\u001b[0m \u001b[38;5;124;03m    \"\"\"\u001b[39;00m\n\u001b[0;32m--> 134\u001b[0m     \u001b[43m_assert_all_finite\u001b[49m\u001b[43m(\u001b[49m\u001b[43mX\u001b[49m\u001b[38;5;241;43m.\u001b[39;49m\u001b[43mdata\u001b[49m\u001b[43m \u001b[49m\u001b[38;5;28;43;01mif\u001b[39;49;00m\u001b[43m \u001b[49m\u001b[43msp\u001b[49m\u001b[38;5;241;43m.\u001b[39;49m\u001b[43missparse\u001b[49m\u001b[43m(\u001b[49m\u001b[43mX\u001b[49m\u001b[43m)\u001b[49m\u001b[43m \u001b[49m\u001b[38;5;28;43;01melse\u001b[39;49;00m\u001b[43m \u001b[49m\u001b[43mX\u001b[49m\u001b[43m,\u001b[49m\u001b[43m \u001b[49m\u001b[43mallow_nan\u001b[49m\u001b[43m)\u001b[49m\n",
      "File \u001b[0;32m~/Simao/miniconda3/envs/thesis/lib/python3.10/site-packages/sklearn/utils/validation.py:103\u001b[0m, in \u001b[0;36m_assert_all_finite\u001b[0;34m(X, allow_nan, msg_dtype)\u001b[0m\n\u001b[1;32m     98\u001b[0m \u001b[38;5;66;03m# First try an O(n) time, O(1) space solution for the common case that\u001b[39;00m\n\u001b[1;32m     99\u001b[0m \u001b[38;5;66;03m# everything is finite; fall back to O(n) space np.isfinite to prevent\u001b[39;00m\n\u001b[1;32m    100\u001b[0m \u001b[38;5;66;03m# false positives from overflow in sum method. The sum is also calculated\u001b[39;00m\n\u001b[1;32m    101\u001b[0m \u001b[38;5;66;03m# safely to reduce dtype induced overflows.\u001b[39;00m\n\u001b[1;32m    102\u001b[0m is_float \u001b[38;5;241m=\u001b[39m X\u001b[38;5;241m.\u001b[39mdtype\u001b[38;5;241m.\u001b[39mkind \u001b[38;5;129;01min\u001b[39;00m \u001b[38;5;124m\"\u001b[39m\u001b[38;5;124mfc\u001b[39m\u001b[38;5;124m\"\u001b[39m\n\u001b[0;32m--> 103\u001b[0m \u001b[38;5;28;01mif\u001b[39;00m is_float \u001b[38;5;129;01mand\u001b[39;00m (np\u001b[38;5;241m.\u001b[39misfinite(\u001b[43m_safe_accumulator_op\u001b[49m\u001b[43m(\u001b[49m\u001b[43mnp\u001b[49m\u001b[38;5;241;43m.\u001b[39;49m\u001b[43msum\u001b[49m\u001b[43m,\u001b[49m\u001b[43m \u001b[49m\u001b[43mX\u001b[49m\u001b[43m)\u001b[49m)):\n\u001b[1;32m    104\u001b[0m     \u001b[38;5;28;01mpass\u001b[39;00m\n\u001b[1;32m    105\u001b[0m \u001b[38;5;28;01melif\u001b[39;00m is_float:\n",
      "File \u001b[0;32m~/Simao/miniconda3/envs/thesis/lib/python3.10/site-packages/sklearn/utils/extmath.py:894\u001b[0m, in \u001b[0;36m_safe_accumulator_op\u001b[0;34m(op, x, *args, **kwargs)\u001b[0m\n\u001b[1;32m    871\u001b[0m \u001b[38;5;124;03m\"\"\"\u001b[39;00m\n\u001b[1;32m    872\u001b[0m \u001b[38;5;124;03mThis function provides numpy accumulator functions with a float64 dtype\u001b[39;00m\n\u001b[1;32m    873\u001b[0m \u001b[38;5;124;03mwhen used on a floating point input. This prevents accumulator overflow on\u001b[39;00m\n\u001b[0;32m   (...)\u001b[0m\n\u001b[1;32m    891\u001b[0m \u001b[38;5;124;03m    The output of the accumulator function passed to this function.\u001b[39;00m\n\u001b[1;32m    892\u001b[0m \u001b[38;5;124;03m\"\"\"\u001b[39;00m\n\u001b[1;32m    893\u001b[0m \u001b[38;5;28;01mif\u001b[39;00m np\u001b[38;5;241m.\u001b[39missubdtype(x\u001b[38;5;241m.\u001b[39mdtype, np\u001b[38;5;241m.\u001b[39mfloating) \u001b[38;5;129;01mand\u001b[39;00m x\u001b[38;5;241m.\u001b[39mdtype\u001b[38;5;241m.\u001b[39mitemsize \u001b[38;5;241m<\u001b[39m \u001b[38;5;241m8\u001b[39m:\n\u001b[0;32m--> 894\u001b[0m     result \u001b[38;5;241m=\u001b[39m \u001b[43mop\u001b[49m\u001b[43m(\u001b[49m\u001b[43mx\u001b[49m\u001b[43m,\u001b[49m\u001b[43m \u001b[49m\u001b[38;5;241;43m*\u001b[39;49m\u001b[43margs\u001b[49m\u001b[43m,\u001b[49m\u001b[43m \u001b[49m\u001b[38;5;241;43m*\u001b[39;49m\u001b[38;5;241;43m*\u001b[39;49m\u001b[43mkwargs\u001b[49m\u001b[43m,\u001b[49m\u001b[43m \u001b[49m\u001b[43mdtype\u001b[49m\u001b[38;5;241;43m=\u001b[39;49m\u001b[43mnp\u001b[49m\u001b[38;5;241;43m.\u001b[39;49m\u001b[43mfloat64\u001b[49m\u001b[43m)\u001b[49m\n\u001b[1;32m    895\u001b[0m \u001b[38;5;28;01melse\u001b[39;00m:\n\u001b[1;32m    896\u001b[0m     result \u001b[38;5;241m=\u001b[39m op(x, \u001b[38;5;241m*\u001b[39margs, \u001b[38;5;241m*\u001b[39m\u001b[38;5;241m*\u001b[39mkwargs)\n",
      "File \u001b[0;32m<__array_function__ internals>:180\u001b[0m, in \u001b[0;36msum\u001b[0;34m(*args, **kwargs)\u001b[0m\n",
      "File \u001b[0;32m~/Simao/miniconda3/envs/thesis/lib/python3.10/site-packages/numpy/core/fromnumeric.py:2283\u001b[0m, in \u001b[0;36msum\u001b[0;34m(a, axis, dtype, out, keepdims, initial, where)\u001b[0m\n\u001b[1;32m   2160\u001b[0m \u001b[38;5;129m@array_function_dispatch\u001b[39m(_sum_dispatcher)\n\u001b[1;32m   2161\u001b[0m \u001b[38;5;28;01mdef\u001b[39;00m \u001b[38;5;21msum\u001b[39m(a, axis\u001b[38;5;241m=\u001b[39m\u001b[38;5;28;01mNone\u001b[39;00m, dtype\u001b[38;5;241m=\u001b[39m\u001b[38;5;28;01mNone\u001b[39;00m, out\u001b[38;5;241m=\u001b[39m\u001b[38;5;28;01mNone\u001b[39;00m, keepdims\u001b[38;5;241m=\u001b[39mnp\u001b[38;5;241m.\u001b[39m_NoValue,\n\u001b[1;32m   2162\u001b[0m         initial\u001b[38;5;241m=\u001b[39mnp\u001b[38;5;241m.\u001b[39m_NoValue, where\u001b[38;5;241m=\u001b[39mnp\u001b[38;5;241m.\u001b[39m_NoValue):\n\u001b[1;32m   2163\u001b[0m     \u001b[38;5;124;03m\"\"\"\u001b[39;00m\n\u001b[1;32m   2164\u001b[0m \u001b[38;5;124;03m    Sum of array elements over a given axis.\u001b[39;00m\n\u001b[1;32m   2165\u001b[0m \n\u001b[0;32m   (...)\u001b[0m\n\u001b[1;32m   2281\u001b[0m \u001b[38;5;124;03m    15\u001b[39;00m\n\u001b[1;32m   2282\u001b[0m \u001b[38;5;124;03m    \"\"\"\u001b[39;00m\n\u001b[0;32m-> 2283\u001b[0m     \u001b[38;5;28;01mif\u001b[39;00m \u001b[38;5;28;43misinstance\u001b[39;49m\u001b[43m(\u001b[49m\u001b[43ma\u001b[49m\u001b[43m,\u001b[49m\u001b[43m \u001b[49m\u001b[43m_gentype\u001b[49m\u001b[43m)\u001b[49m:\n\u001b[1;32m   2284\u001b[0m         \u001b[38;5;66;03m# 2018-02-25, 1.15.0\u001b[39;00m\n\u001b[1;32m   2285\u001b[0m         warnings\u001b[38;5;241m.\u001b[39mwarn(\n\u001b[1;32m   2286\u001b[0m             \u001b[38;5;124m\"\u001b[39m\u001b[38;5;124mCalling np.sum(generator) is deprecated, and in the future will give a different result. \u001b[39m\u001b[38;5;124m\"\u001b[39m\n\u001b[1;32m   2287\u001b[0m             \u001b[38;5;124m\"\u001b[39m\u001b[38;5;124mUse np.sum(np.fromiter(generator)) or the python sum builtin instead.\u001b[39m\u001b[38;5;124m\"\u001b[39m,\n\u001b[1;32m   2288\u001b[0m             \u001b[38;5;167;01mDeprecationWarning\u001b[39;00m, stacklevel\u001b[38;5;241m=\u001b[39m\u001b[38;5;241m3\u001b[39m)\n\u001b[1;32m   2290\u001b[0m         res \u001b[38;5;241m=\u001b[39m _sum_(a)\n",
      "\u001b[0;31mKeyboardInterrupt\u001b[0m: "
     ]
    }
   ],
   "source": [
    "param_set = {\n",
    "          'hidden_size':100,\n",
    "          'num_layers':1,\n",
    "          'lr':0.01,\n",
    "          'model':'rnn'\n",
    "         }\n",
    "for idx,_ in tqdm(enumerate(params)):\n",
    "    config = {**param_set, \n",
    "              **meta_parameters}\n",
    "    \n",
    "    wandb.init(\n",
    "        project=\"icare\", \n",
    "        config=config\n",
    "    )\n",
    "    \n",
    "    model = RNN(input_size=input_size,\n",
    "              hidden_size=config['hidden_size'],\n",
    "              num_layers=config['num_layers'],\n",
    "              n_labels=n_labels,\n",
    "              model=config['model'])\n",
    "    \n",
    "    optimizer = torch.optim.Adam(model.parameters(), lr=config['lr'])\n",
    "    \n",
    "    #loss = eval_model(model,val_dataloader,dataset,None,None,only_loss=True)\n",
    "    #wandb.log({'epoch':0,'loss':loss})\n",
    "    \n",
    "    #for epoch in tqdm(range(1,config['epochs']+1)):\n",
    "        \n",
    "    #    loss = train_one_epochV2(model,val_dataloader,epoch,criterion,optimizer);\n",
    "    #    wandb.log({'epoch':epoch,'loss':loss})\n",
    "        \n",
    "        \n",
    "    \n",
    "    outs_train,golden_train = outs2df(model,val_dataloader,dataset,return_golden=True)\n",
    "    #thresholds = get_prediction_thresholds(outs_train,(golden_train > 0).astype(int))\n",
    "    \n",
    "    train_metrics = compute_metrics(outs_train,model_predictions=None,golden=golden_train,metrics=['roc','recall@30','precision@30'])[1].filter(regex='_adm')\n",
    "    #val_metrics = eval_model(model,test_dataloader,dataset,None,metrics=['roc','recall@30','precision@30'])[1].filter(regex='_adm')\n",
    "    train_metrics.index = ['train_' + n for n in train_metrics.index]\n",
    "    #val_metrics.index = ['val_' + n for n in val_metrics.index]\n",
    "        \n",
    "\n",
    "    log = dict()\n",
    "\n",
    "    log.update(train_metrics.to_dict())\n",
    "    #log.update(val_metrics.to_dict())\n",
    "    log.update({'loss':loss})\n",
    "\n",
    "    wandb.log(log)\n",
    "    \n",
    "    model_name = str(params)\n",
    "\n",
    "    hypp_save_path = os.path.join(model_folder, model_name+'_hyper_parameters.json')\n",
    "\n",
    "    with open(hypp_save_path, \"w\") as f:\n",
    "        json.dump(params, f)\n",
    "\n",
    "    print('Hyperparameters saved!')\n",
    "    \n",
    "    weights_save_path = os.path.join(model_folder,model_name+\"_weights\")\n",
    "\n",
    "    torch.save(model.state_dict(), \n",
    "               weights_save_path\n",
    "              )\n",
    "    print('Model saved!')\n",
    "    break"
   ]
  },
  {
   "cell_type": "code",
   "execution_count": 16,
   "id": "1f4ea0df-fb22-4d4a-b7b0-2d0119522991",
   "metadata": {},
   "outputs": [
    {
     "data": {
      "text/plain": [
       "pat_id                            adm_index\n",
       "00070121385D5F499BB0D98F48554EF5  1            hi\n",
       "                                  2            hi\n",
       "                                  3            hi\n",
       "0008F5D602267E1E2F679BA745F38A41  1            hi\n",
       "                                  2            hi\n",
       "                                               ..\n",
       "FFFEF32F9705DCBB22EE8E7CC09E9379  2            hi\n",
       "FFFFCAF4C44303A609ABA747E6E00CEE  1            hi\n",
       "                                  2            hi\n",
       "FFFFCD298CB71236CEB3470483A4C6A1  1            hi\n",
       "                                  2            hi\n",
       "Length: 270248, dtype: object"
      ]
     },
     "execution_count": 16,
     "metadata": {},
     "output_type": "execute_result"
    }
   ],
   "source": [
    "outs_train.apply(lambda x: 'hi',axis=1)"
   ]
  },
  {
   "cell_type": "code",
   "execution_count": 19,
   "id": "c08cb4c5-5ab9-4799-afa2-334ec2593a8e",
   "metadata": {},
   "outputs": [],
   "source": [
    "from multiprocessing import Pool\n",
    "from sklearn.metrics import roc_auc_score"
   ]
  },
  {
   "cell_type": "code",
   "execution_count": null,
   "id": "b65a174b-1018-4307-9457-56eeac2ce6df",
   "metadata": {},
   "outputs": [],
   "source": [
    "outs_train"
   ]
  },
  {
   "cell_type": "code",
   "execution_count": 9,
   "id": "87591116-96eb-4551-ad82-0f22f471a81e",
   "metadata": {},
   "outputs": [],
   "source": [
    "# setup\n",
    "\n",
    "df = pd.DataFrame(np.zeros(shape=(int(1e8),10)))\n",
    "#df_later = df.copy()\n",
    "#df_later.loc[int(1e7)] = 1\n",
    "#df_later = df_later.astype(bool)\n",
    "#\n",
    "#df_sooner = df.copy()\n",
    "#df_sooner.loc[int(1e2)] = 1\n",
    "#df_sooner = df_sooner.astype(bool)"
   ]
  },
  {
   "cell_type": "code",
   "execution_count": 10,
   "id": "4133f721-89e6-462d-963f-37d783771b7e",
   "metadata": {
    "tags": []
   },
   "outputs": [
    {
     "name": "stdout",
     "output_type": "stream",
     "text": [
      "5.47 s ± 89.3 ms per loop (mean ± std. dev. of 10 runs, 1 loop each)\n"
     ]
    }
   ],
   "source": [
    "%%timeit -r 10 -n 1\n",
    "\n",
    "df_sooner = df.copy()\n",
    "df_sooner.loc[int(1e2)] = 1\n",
    "df_sooner = df_sooner.astype(bool)\n",
    "df_sooner.iloc[:,0].any()"
   ]
  },
  {
   "cell_type": "code",
   "execution_count": 11,
   "id": "78936b2c-1350-484e-a8e2-a5ce4bc124f0",
   "metadata": {},
   "outputs": [
    {
     "name": "stdout",
     "output_type": "stream",
     "text": [
      "5.44 s ± 42.9 ms per loop (mean ± std. dev. of 10 runs, 1 loop each)\n"
     ]
    }
   ],
   "source": [
    "%%timeit -r 10 -n 1\n",
    "\n",
    "df_later = df.copy()\n",
    "df_later.loc[int(1e7)] = 1\n",
    "df_later = df_later.astype(bool)\n",
    "df_later.iloc[:,0].any()"
   ]
  },
  {
   "cell_type": "code",
   "execution_count": 43,
   "id": "a787957b-9971-4ec2-b9b6-3c6a1f38fae5",
   "metadata": {},
   "outputs": [
    {
     "data": {
      "text/plain": [
       "0            0.0\n",
       "1            0.0\n",
       "2            0.0\n",
       "3            0.0\n",
       "4            0.0\n",
       "            ... \n",
       "999999995    0.0\n",
       "999999996    0.0\n",
       "999999997    0.0\n",
       "999999998    0.0\n",
       "999999999    0.0\n",
       "Length: 1000000000, dtype: float64"
      ]
     },
     "execution_count": 43,
     "metadata": {},
     "output_type": "execute_result"
    }
   ],
   "source": [
    "array.mask(array.index == int(1e2)).fillna(1)#.loc[int(1e2)]"
   ]
  },
  {
   "cell_type": "markdown",
   "id": "9a996747-eeb6-4fb1-af5c-0815a10ac722",
   "metadata": {},
   "source": [
    "----"
   ]
  },
  {
   "cell_type": "code",
   "execution_count": 30,
   "id": "1981a5ea-bce5-4312-b9e5-0f6d316df48a",
   "metadata": {},
   "outputs": [],
   "source": [
    "def normal_roc_optimized(logits,golden):\n",
    "    idx = pd.IndexSlice\n",
    "    \n",
    "    logits_ = logits.copy()\n",
    "    golden_ = golden.copy()\n",
    "    \n",
    "    logits_.columns = pd.MultiIndex.from_product([['logits'],logits_.columns])\n",
    "    golden_.columns = pd.MultiIndex.from_product([['golden'],golden_.columns])\n",
    "    \n",
    "    full = logits_.join(golden_,how='inner')\n",
    "    assert (full.shape[0] == logits.shape[0]) and (full.shape[0] == golden.shape[0]),'oops'\n",
    "    \n",
    "    return full.apply(lambda row: roc_auc_score(row.loc[:,idx['golden',:]],row.loc[:,idx['logits']]) if any(\n",
    "    #return logits.apply(lambda row: roc_auc_score(golden.loc[row.name],row) if any(golden.loc[row.name] == 1) else np.nan,axis=1).rename('roc_adm') "
   ]
  },
  {
   "cell_type": "code",
   "execution_count": 31,
   "id": "df78d02d-ecf4-4a1e-b6af-4e89a1f8fd5e",
   "metadata": {},
   "outputs": [
    {
     "name": "stdout",
     "output_type": "stream",
     "text": [
      "270248\n",
      "270248\n"
     ]
    },
    {
     "data": {
      "text/html": [
       "<div>\n",
       "<style scoped>\n",
       "    .dataframe tbody tr th:only-of-type {\n",
       "        vertical-align: middle;\n",
       "    }\n",
       "\n",
       "    .dataframe tbody tr th {\n",
       "        vertical-align: top;\n",
       "    }\n",
       "\n",
       "    .dataframe thead tr th {\n",
       "        text-align: left;\n",
       "    }\n",
       "\n",
       "    .dataframe thead tr:last-of-type th {\n",
       "        text-align: right;\n",
       "    }\n",
       "</style>\n",
       "<table border=\"1\" class=\"dataframe\">\n",
       "  <thead>\n",
       "    <tr>\n",
       "      <th></th>\n",
       "      <th></th>\n",
       "      <th colspan=\"10\" halign=\"left\">logits</th>\n",
       "      <th>...</th>\n",
       "      <th colspan=\"10\" halign=\"left\">golden</th>\n",
       "    </tr>\n",
       "    <tr>\n",
       "      <th></th>\n",
       "      <th></th>\n",
       "      <th>diag_0</th>\n",
       "      <th>diag_1</th>\n",
       "      <th>diag_2</th>\n",
       "      <th>diag_3</th>\n",
       "      <th>diag_4</th>\n",
       "      <th>diag_5</th>\n",
       "      <th>diag_6</th>\n",
       "      <th>diag_7</th>\n",
       "      <th>diag_8</th>\n",
       "      <th>diag_9</th>\n",
       "      <th>...</th>\n",
       "      <th>diag_273</th>\n",
       "      <th>diag_274</th>\n",
       "      <th>diag_275</th>\n",
       "      <th>diag_276</th>\n",
       "      <th>diag_277</th>\n",
       "      <th>diag_278</th>\n",
       "      <th>diag_279</th>\n",
       "      <th>diag_280</th>\n",
       "      <th>diag_281</th>\n",
       "      <th>diag_282</th>\n",
       "    </tr>\n",
       "    <tr>\n",
       "      <th>pat_id</th>\n",
       "      <th>adm_index</th>\n",
       "      <th></th>\n",
       "      <th></th>\n",
       "      <th></th>\n",
       "      <th></th>\n",
       "      <th></th>\n",
       "      <th></th>\n",
       "      <th></th>\n",
       "      <th></th>\n",
       "      <th></th>\n",
       "      <th></th>\n",
       "      <th></th>\n",
       "      <th></th>\n",
       "      <th></th>\n",
       "      <th></th>\n",
       "      <th></th>\n",
       "      <th></th>\n",
       "      <th></th>\n",
       "      <th></th>\n",
       "      <th></th>\n",
       "      <th></th>\n",
       "      <th></th>\n",
       "    </tr>\n",
       "  </thead>\n",
       "  <tbody>\n",
       "    <tr>\n",
       "      <th rowspan=\"3\" valign=\"top\">00070121385D5F499BB0D98F48554EF5</th>\n",
       "      <th>1</th>\n",
       "      <td>0.521170</td>\n",
       "      <td>0.487607</td>\n",
       "      <td>0.482274</td>\n",
       "      <td>0.475589</td>\n",
       "      <td>0.552587</td>\n",
       "      <td>0.507825</td>\n",
       "      <td>0.506065</td>\n",
       "      <td>0.470086</td>\n",
       "      <td>0.530118</td>\n",
       "      <td>0.447996</td>\n",
       "      <td>...</td>\n",
       "      <td>0.0</td>\n",
       "      <td>0.0</td>\n",
       "      <td>0.0</td>\n",
       "      <td>0.0</td>\n",
       "      <td>0.0</td>\n",
       "      <td>0.0</td>\n",
       "      <td>0.0</td>\n",
       "      <td>0.0</td>\n",
       "      <td>0.0</td>\n",
       "      <td>0.0</td>\n",
       "    </tr>\n",
       "    <tr>\n",
       "      <th>2</th>\n",
       "      <td>0.509584</td>\n",
       "      <td>0.494575</td>\n",
       "      <td>0.494839</td>\n",
       "      <td>0.497005</td>\n",
       "      <td>0.532272</td>\n",
       "      <td>0.519580</td>\n",
       "      <td>0.491184</td>\n",
       "      <td>0.466202</td>\n",
       "      <td>0.519124</td>\n",
       "      <td>0.462451</td>\n",
       "      <td>...</td>\n",
       "      <td>0.0</td>\n",
       "      <td>0.0</td>\n",
       "      <td>0.0</td>\n",
       "      <td>0.0</td>\n",
       "      <td>0.0</td>\n",
       "      <td>0.0</td>\n",
       "      <td>0.0</td>\n",
       "      <td>0.0</td>\n",
       "      <td>0.0</td>\n",
       "      <td>0.0</td>\n",
       "    </tr>\n",
       "    <tr>\n",
       "      <th>3</th>\n",
       "      <td>0.513210</td>\n",
       "      <td>0.491401</td>\n",
       "      <td>0.484080</td>\n",
       "      <td>0.488004</td>\n",
       "      <td>0.558111</td>\n",
       "      <td>0.507040</td>\n",
       "      <td>0.501613</td>\n",
       "      <td>0.471400</td>\n",
       "      <td>0.531054</td>\n",
       "      <td>0.443273</td>\n",
       "      <td>...</td>\n",
       "      <td>0.0</td>\n",
       "      <td>0.0</td>\n",
       "      <td>0.0</td>\n",
       "      <td>0.0</td>\n",
       "      <td>0.0</td>\n",
       "      <td>0.0</td>\n",
       "      <td>0.0</td>\n",
       "      <td>0.0</td>\n",
       "      <td>0.0</td>\n",
       "      <td>0.0</td>\n",
       "    </tr>\n",
       "    <tr>\n",
       "      <th rowspan=\"2\" valign=\"top\">0008F5D602267E1E2F679BA745F38A41</th>\n",
       "      <th>1</th>\n",
       "      <td>0.517556</td>\n",
       "      <td>0.494975</td>\n",
       "      <td>0.507667</td>\n",
       "      <td>0.483336</td>\n",
       "      <td>0.539981</td>\n",
       "      <td>0.499710</td>\n",
       "      <td>0.504512</td>\n",
       "      <td>0.480275</td>\n",
       "      <td>0.520952</td>\n",
       "      <td>0.457920</td>\n",
       "      <td>...</td>\n",
       "      <td>0.0</td>\n",
       "      <td>0.0</td>\n",
       "      <td>0.0</td>\n",
       "      <td>0.0</td>\n",
       "      <td>0.0</td>\n",
       "      <td>0.0</td>\n",
       "      <td>0.0</td>\n",
       "      <td>0.0</td>\n",
       "      <td>0.0</td>\n",
       "      <td>0.0</td>\n",
       "    </tr>\n",
       "    <tr>\n",
       "      <th>2</th>\n",
       "      <td>0.515604</td>\n",
       "      <td>0.504581</td>\n",
       "      <td>0.508042</td>\n",
       "      <td>0.504277</td>\n",
       "      <td>0.531513</td>\n",
       "      <td>0.508115</td>\n",
       "      <td>0.496231</td>\n",
       "      <td>0.483177</td>\n",
       "      <td>0.515269</td>\n",
       "      <td>0.446479</td>\n",
       "      <td>...</td>\n",
       "      <td>0.0</td>\n",
       "      <td>0.0</td>\n",
       "      <td>0.0</td>\n",
       "      <td>0.0</td>\n",
       "      <td>0.0</td>\n",
       "      <td>0.0</td>\n",
       "      <td>0.0</td>\n",
       "      <td>0.0</td>\n",
       "      <td>0.0</td>\n",
       "      <td>0.0</td>\n",
       "    </tr>\n",
       "    <tr>\n",
       "      <th>...</th>\n",
       "      <th>...</th>\n",
       "      <td>...</td>\n",
       "      <td>...</td>\n",
       "      <td>...</td>\n",
       "      <td>...</td>\n",
       "      <td>...</td>\n",
       "      <td>...</td>\n",
       "      <td>...</td>\n",
       "      <td>...</td>\n",
       "      <td>...</td>\n",
       "      <td>...</td>\n",
       "      <td>...</td>\n",
       "      <td>...</td>\n",
       "      <td>...</td>\n",
       "      <td>...</td>\n",
       "      <td>...</td>\n",
       "      <td>...</td>\n",
       "      <td>...</td>\n",
       "      <td>...</td>\n",
       "      <td>...</td>\n",
       "      <td>...</td>\n",
       "      <td>...</td>\n",
       "    </tr>\n",
       "    <tr>\n",
       "      <th>FFFEF32F9705DCBB22EE8E7CC09E9379</th>\n",
       "      <th>2</th>\n",
       "      <td>0.514425</td>\n",
       "      <td>0.498155</td>\n",
       "      <td>0.501106</td>\n",
       "      <td>0.511381</td>\n",
       "      <td>0.542690</td>\n",
       "      <td>0.518909</td>\n",
       "      <td>0.527698</td>\n",
       "      <td>0.480515</td>\n",
       "      <td>0.523945</td>\n",
       "      <td>0.445996</td>\n",
       "      <td>...</td>\n",
       "      <td>0.0</td>\n",
       "      <td>0.0</td>\n",
       "      <td>0.0</td>\n",
       "      <td>0.0</td>\n",
       "      <td>0.0</td>\n",
       "      <td>0.0</td>\n",
       "      <td>0.0</td>\n",
       "      <td>0.0</td>\n",
       "      <td>0.0</td>\n",
       "      <td>0.0</td>\n",
       "    </tr>\n",
       "    <tr>\n",
       "      <th rowspan=\"2\" valign=\"top\">FFFFCAF4C44303A609ABA747E6E00CEE</th>\n",
       "      <th>1</th>\n",
       "      <td>0.515025</td>\n",
       "      <td>0.496486</td>\n",
       "      <td>0.507078</td>\n",
       "      <td>0.495090</td>\n",
       "      <td>0.541965</td>\n",
       "      <td>0.511540</td>\n",
       "      <td>0.508252</td>\n",
       "      <td>0.473659</td>\n",
       "      <td>0.524212</td>\n",
       "      <td>0.460159</td>\n",
       "      <td>...</td>\n",
       "      <td>0.0</td>\n",
       "      <td>0.0</td>\n",
       "      <td>0.0</td>\n",
       "      <td>0.0</td>\n",
       "      <td>0.0</td>\n",
       "      <td>0.0</td>\n",
       "      <td>0.0</td>\n",
       "      <td>0.0</td>\n",
       "      <td>0.0</td>\n",
       "      <td>0.0</td>\n",
       "    </tr>\n",
       "    <tr>\n",
       "      <th>2</th>\n",
       "      <td>0.511931</td>\n",
       "      <td>0.491205</td>\n",
       "      <td>0.494301</td>\n",
       "      <td>0.516626</td>\n",
       "      <td>0.528295</td>\n",
       "      <td>0.506213</td>\n",
       "      <td>0.500183</td>\n",
       "      <td>0.484189</td>\n",
       "      <td>0.529203</td>\n",
       "      <td>0.454736</td>\n",
       "      <td>...</td>\n",
       "      <td>0.0</td>\n",
       "      <td>0.0</td>\n",
       "      <td>0.0</td>\n",
       "      <td>0.0</td>\n",
       "      <td>0.0</td>\n",
       "      <td>0.0</td>\n",
       "      <td>0.0</td>\n",
       "      <td>0.0</td>\n",
       "      <td>0.0</td>\n",
       "      <td>0.0</td>\n",
       "    </tr>\n",
       "    <tr>\n",
       "      <th rowspan=\"2\" valign=\"top\">FFFFCD298CB71236CEB3470483A4C6A1</th>\n",
       "      <th>1</th>\n",
       "      <td>0.509109</td>\n",
       "      <td>0.493436</td>\n",
       "      <td>0.502984</td>\n",
       "      <td>0.504799</td>\n",
       "      <td>0.543310</td>\n",
       "      <td>0.513838</td>\n",
       "      <td>0.511638</td>\n",
       "      <td>0.478368</td>\n",
       "      <td>0.537129</td>\n",
       "      <td>0.461304</td>\n",
       "      <td>...</td>\n",
       "      <td>0.0</td>\n",
       "      <td>0.0</td>\n",
       "      <td>0.0</td>\n",
       "      <td>0.0</td>\n",
       "      <td>0.0</td>\n",
       "      <td>0.0</td>\n",
       "      <td>0.0</td>\n",
       "      <td>0.0</td>\n",
       "      <td>0.0</td>\n",
       "      <td>0.0</td>\n",
       "    </tr>\n",
       "    <tr>\n",
       "      <th>2</th>\n",
       "      <td>0.502257</td>\n",
       "      <td>0.496711</td>\n",
       "      <td>0.490319</td>\n",
       "      <td>0.521365</td>\n",
       "      <td>0.549081</td>\n",
       "      <td>0.507638</td>\n",
       "      <td>0.489667</td>\n",
       "      <td>0.482179</td>\n",
       "      <td>0.523335</td>\n",
       "      <td>0.434089</td>\n",
       "      <td>...</td>\n",
       "      <td>0.0</td>\n",
       "      <td>0.0</td>\n",
       "      <td>0.0</td>\n",
       "      <td>0.0</td>\n",
       "      <td>0.0</td>\n",
       "      <td>0.0</td>\n",
       "      <td>0.0</td>\n",
       "      <td>0.0</td>\n",
       "      <td>0.0</td>\n",
       "      <td>0.0</td>\n",
       "    </tr>\n",
       "  </tbody>\n",
       "</table>\n",
       "<p>270248 rows × 566 columns</p>\n",
       "</div>"
      ],
      "text/plain": [
       "                                              logits                      \\\n",
       "                                              diag_0    diag_1    diag_2   \n",
       "pat_id                           adm_index                                 \n",
       "00070121385D5F499BB0D98F48554EF5 1          0.521170  0.487607  0.482274   \n",
       "                                 2          0.509584  0.494575  0.494839   \n",
       "                                 3          0.513210  0.491401  0.484080   \n",
       "0008F5D602267E1E2F679BA745F38A41 1          0.517556  0.494975  0.507667   \n",
       "                                 2          0.515604  0.504581  0.508042   \n",
       "...                                              ...       ...       ...   \n",
       "FFFEF32F9705DCBB22EE8E7CC09E9379 2          0.514425  0.498155  0.501106   \n",
       "FFFFCAF4C44303A609ABA747E6E00CEE 1          0.515025  0.496486  0.507078   \n",
       "                                 2          0.511931  0.491205  0.494301   \n",
       "FFFFCD298CB71236CEB3470483A4C6A1 1          0.509109  0.493436  0.502984   \n",
       "                                 2          0.502257  0.496711  0.490319   \n",
       "\n",
       "                                                                          \\\n",
       "                                              diag_3    diag_4    diag_5   \n",
       "pat_id                           adm_index                                 \n",
       "00070121385D5F499BB0D98F48554EF5 1          0.475589  0.552587  0.507825   \n",
       "                                 2          0.497005  0.532272  0.519580   \n",
       "                                 3          0.488004  0.558111  0.507040   \n",
       "0008F5D602267E1E2F679BA745F38A41 1          0.483336  0.539981  0.499710   \n",
       "                                 2          0.504277  0.531513  0.508115   \n",
       "...                                              ...       ...       ...   \n",
       "FFFEF32F9705DCBB22EE8E7CC09E9379 2          0.511381  0.542690  0.518909   \n",
       "FFFFCAF4C44303A609ABA747E6E00CEE 1          0.495090  0.541965  0.511540   \n",
       "                                 2          0.516626  0.528295  0.506213   \n",
       "FFFFCD298CB71236CEB3470483A4C6A1 1          0.504799  0.543310  0.513838   \n",
       "                                 2          0.521365  0.549081  0.507638   \n",
       "\n",
       "                                                                          \\\n",
       "                                              diag_6    diag_7    diag_8   \n",
       "pat_id                           adm_index                                 \n",
       "00070121385D5F499BB0D98F48554EF5 1          0.506065  0.470086  0.530118   \n",
       "                                 2          0.491184  0.466202  0.519124   \n",
       "                                 3          0.501613  0.471400  0.531054   \n",
       "0008F5D602267E1E2F679BA745F38A41 1          0.504512  0.480275  0.520952   \n",
       "                                 2          0.496231  0.483177  0.515269   \n",
       "...                                              ...       ...       ...   \n",
       "FFFEF32F9705DCBB22EE8E7CC09E9379 2          0.527698  0.480515  0.523945   \n",
       "FFFFCAF4C44303A609ABA747E6E00CEE 1          0.508252  0.473659  0.524212   \n",
       "                                 2          0.500183  0.484189  0.529203   \n",
       "FFFFCD298CB71236CEB3470483A4C6A1 1          0.511638  0.478368  0.537129   \n",
       "                                 2          0.489667  0.482179  0.523335   \n",
       "\n",
       "                                                      ...   golden           \\\n",
       "                                              diag_9  ... diag_273 diag_274   \n",
       "pat_id                           adm_index            ...                     \n",
       "00070121385D5F499BB0D98F48554EF5 1          0.447996  ...      0.0      0.0   \n",
       "                                 2          0.462451  ...      0.0      0.0   \n",
       "                                 3          0.443273  ...      0.0      0.0   \n",
       "0008F5D602267E1E2F679BA745F38A41 1          0.457920  ...      0.0      0.0   \n",
       "                                 2          0.446479  ...      0.0      0.0   \n",
       "...                                              ...  ...      ...      ...   \n",
       "FFFEF32F9705DCBB22EE8E7CC09E9379 2          0.445996  ...      0.0      0.0   \n",
       "FFFFCAF4C44303A609ABA747E6E00CEE 1          0.460159  ...      0.0      0.0   \n",
       "                                 2          0.454736  ...      0.0      0.0   \n",
       "FFFFCD298CB71236CEB3470483A4C6A1 1          0.461304  ...      0.0      0.0   \n",
       "                                 2          0.434089  ...      0.0      0.0   \n",
       "\n",
       "                                                                       \\\n",
       "                                           diag_275 diag_276 diag_277   \n",
       "pat_id                           adm_index                              \n",
       "00070121385D5F499BB0D98F48554EF5 1              0.0      0.0      0.0   \n",
       "                                 2              0.0      0.0      0.0   \n",
       "                                 3              0.0      0.0      0.0   \n",
       "0008F5D602267E1E2F679BA745F38A41 1              0.0      0.0      0.0   \n",
       "                                 2              0.0      0.0      0.0   \n",
       "...                                             ...      ...      ...   \n",
       "FFFEF32F9705DCBB22EE8E7CC09E9379 2              0.0      0.0      0.0   \n",
       "FFFFCAF4C44303A609ABA747E6E00CEE 1              0.0      0.0      0.0   \n",
       "                                 2              0.0      0.0      0.0   \n",
       "FFFFCD298CB71236CEB3470483A4C6A1 1              0.0      0.0      0.0   \n",
       "                                 2              0.0      0.0      0.0   \n",
       "\n",
       "                                                                       \\\n",
       "                                           diag_278 diag_279 diag_280   \n",
       "pat_id                           adm_index                              \n",
       "00070121385D5F499BB0D98F48554EF5 1              0.0      0.0      0.0   \n",
       "                                 2              0.0      0.0      0.0   \n",
       "                                 3              0.0      0.0      0.0   \n",
       "0008F5D602267E1E2F679BA745F38A41 1              0.0      0.0      0.0   \n",
       "                                 2              0.0      0.0      0.0   \n",
       "...                                             ...      ...      ...   \n",
       "FFFEF32F9705DCBB22EE8E7CC09E9379 2              0.0      0.0      0.0   \n",
       "FFFFCAF4C44303A609ABA747E6E00CEE 1              0.0      0.0      0.0   \n",
       "                                 2              0.0      0.0      0.0   \n",
       "FFFFCD298CB71236CEB3470483A4C6A1 1              0.0      0.0      0.0   \n",
       "                                 2              0.0      0.0      0.0   \n",
       "\n",
       "                                                              \n",
       "                                           diag_281 diag_282  \n",
       "pat_id                           adm_index                    \n",
       "00070121385D5F499BB0D98F48554EF5 1              0.0      0.0  \n",
       "                                 2              0.0      0.0  \n",
       "                                 3              0.0      0.0  \n",
       "0008F5D602267E1E2F679BA745F38A41 1              0.0      0.0  \n",
       "                                 2              0.0      0.0  \n",
       "...                                             ...      ...  \n",
       "FFFEF32F9705DCBB22EE8E7CC09E9379 2              0.0      0.0  \n",
       "FFFFCAF4C44303A609ABA747E6E00CEE 1              0.0      0.0  \n",
       "                                 2              0.0      0.0  \n",
       "FFFFCD298CB71236CEB3470483A4C6A1 1              0.0      0.0  \n",
       "                                 2              0.0      0.0  \n",
       "\n",
       "[270248 rows x 566 columns]"
      ]
     },
     "execution_count": 31,
     "metadata": {},
     "output_type": "execute_result"
    }
   ],
   "source": [
    "normal_roc(outs_train,golden_train)"
   ]
  },
  {
   "cell_type": "code",
   "execution_count": null,
   "id": "60a87f2d-c1cd-45bb-85d3-44ae6c3242c7",
   "metadata": {
    "collapsed": true,
    "jupyter": {
     "outputs_hidden": true
    },
    "tags": []
   },
   "outputs": [
    {
     "data": {
      "application/vnd.jupyter.widget-view+json": {
       "model_id": "",
       "version_major": 2,
       "version_minor": 0
      },
      "text/plain": [
       "  0%|          | 0/262811 [00:00<?, ?it/s]"
      ]
     },
     "metadata": {},
     "output_type": "display_data"
    },
    {
     "ename": "KeyboardInterrupt",
     "evalue": "",
     "output_type": "error",
     "traceback": [
      "\u001b[0;31m---------------------------------------------------------------------------\u001b[0m",
      "\u001b[0;31mKeyboardInterrupt\u001b[0m                         Traceback (most recent call last)",
      "Input \u001b[0;32mIn [6]\u001b[0m, in \u001b[0;36m<cell line: 1>\u001b[0;34m()\u001b[0m\n\u001b[1;32m      1\u001b[0m \u001b[38;5;28;01mfor\u001b[39;00m e \u001b[38;5;129;01min\u001b[39;00m tqdm(dataset):\n\u001b[1;32m      2\u001b[0m     target \u001b[38;5;241m=\u001b[39m e[\u001b[38;5;124m'\u001b[39m\u001b[38;5;124mtarget\u001b[39m\u001b[38;5;124m'\u001b[39m]\n\u001b[0;32m----> 3\u001b[0m     \u001b[38;5;28;01mif\u001b[39;00m \u001b[38;5;28many\u001b[39m([(pd\u001b[38;5;241m.\u001b[39mSeries(t)\u001b[38;5;241m.\u001b[39mvalue_counts() \u001b[38;5;241m>\u001b[39m\u001b[38;5;241m1\u001b[39m)\u001b[38;5;241m.\u001b[39many() \u001b[38;5;28;01mif\u001b[39;00m t \u001b[38;5;28;01melse\u001b[39;00m \u001b[38;5;28;01mFalse\u001b[39;00m \u001b[38;5;28;01mfor\u001b[39;00m t \u001b[38;5;129;01min\u001b[39;00m target]):\n\u001b[1;32m      4\u001b[0m         \u001b[38;5;28mprint\u001b[39m(\u001b[38;5;124m'\u001b[39m\u001b[38;5;124mfound one\u001b[39m\u001b[38;5;124m'\u001b[39m)\n\u001b[1;32m      5\u001b[0m         \u001b[38;5;28;01mbreak\u001b[39;00m\n",
      "Input \u001b[0;32mIn [6]\u001b[0m, in \u001b[0;36m<listcomp>\u001b[0;34m(.0)\u001b[0m\n\u001b[1;32m      1\u001b[0m \u001b[38;5;28;01mfor\u001b[39;00m e \u001b[38;5;129;01min\u001b[39;00m tqdm(dataset):\n\u001b[1;32m      2\u001b[0m     target \u001b[38;5;241m=\u001b[39m e[\u001b[38;5;124m'\u001b[39m\u001b[38;5;124mtarget\u001b[39m\u001b[38;5;124m'\u001b[39m]\n\u001b[0;32m----> 3\u001b[0m     \u001b[38;5;28;01mif\u001b[39;00m \u001b[38;5;28many\u001b[39m([(\u001b[43mpd\u001b[49m\u001b[38;5;241;43m.\u001b[39;49m\u001b[43mSeries\u001b[49m\u001b[43m(\u001b[49m\u001b[43mt\u001b[49m\u001b[43m)\u001b[49m\u001b[38;5;241;43m.\u001b[39;49m\u001b[43mvalue_counts\u001b[49m\u001b[43m(\u001b[49m\u001b[43m)\u001b[49m \u001b[38;5;241m>\u001b[39m\u001b[38;5;241m1\u001b[39m)\u001b[38;5;241m.\u001b[39many() \u001b[38;5;28;01mif\u001b[39;00m t \u001b[38;5;28;01melse\u001b[39;00m \u001b[38;5;28;01mFalse\u001b[39;00m \u001b[38;5;28;01mfor\u001b[39;00m t \u001b[38;5;129;01min\u001b[39;00m target]):\n\u001b[1;32m      4\u001b[0m         \u001b[38;5;28mprint\u001b[39m(\u001b[38;5;124m'\u001b[39m\u001b[38;5;124mfound one\u001b[39m\u001b[38;5;124m'\u001b[39m)\n\u001b[1;32m      5\u001b[0m         \u001b[38;5;28;01mbreak\u001b[39;00m\n",
      "File \u001b[0;32m~/Simao/miniconda3/envs/thesis/lib/python3.10/site-packages/pandas/core/base.py:970\u001b[0m, in \u001b[0;36mIndexOpsMixin.value_counts\u001b[0;34m(self, normalize, sort, ascending, bins, dropna)\u001b[0m\n\u001b[1;32m    884\u001b[0m \u001b[38;5;28;01mdef\u001b[39;00m \u001b[38;5;21mvalue_counts\u001b[39m(\n\u001b[1;32m    885\u001b[0m     \u001b[38;5;28mself\u001b[39m,\n\u001b[1;32m    886\u001b[0m     normalize: \u001b[38;5;28mbool\u001b[39m \u001b[38;5;241m=\u001b[39m \u001b[38;5;28;01mFalse\u001b[39;00m,\n\u001b[0;32m   (...)\u001b[0m\n\u001b[1;32m    890\u001b[0m     dropna: \u001b[38;5;28mbool\u001b[39m \u001b[38;5;241m=\u001b[39m \u001b[38;5;28;01mTrue\u001b[39;00m,\n\u001b[1;32m    891\u001b[0m ):\n\u001b[1;32m    892\u001b[0m     \u001b[38;5;124;03m\"\"\"\u001b[39;00m\n\u001b[1;32m    893\u001b[0m \u001b[38;5;124;03m    Return a Series containing counts of unique values.\u001b[39;00m\n\u001b[1;32m    894\u001b[0m \n\u001b[0;32m   (...)\u001b[0m\n\u001b[1;32m    968\u001b[0m \u001b[38;5;124;03m    dtype: int64\u001b[39;00m\n\u001b[1;32m    969\u001b[0m \u001b[38;5;124;03m    \"\"\"\u001b[39;00m\n\u001b[0;32m--> 970\u001b[0m     \u001b[38;5;28;01mreturn\u001b[39;00m \u001b[43mvalue_counts\u001b[49m\u001b[43m(\u001b[49m\n\u001b[1;32m    971\u001b[0m \u001b[43m        \u001b[49m\u001b[38;5;28;43mself\u001b[39;49m\u001b[43m,\u001b[49m\n\u001b[1;32m    972\u001b[0m \u001b[43m        \u001b[49m\u001b[43msort\u001b[49m\u001b[38;5;241;43m=\u001b[39;49m\u001b[43msort\u001b[49m\u001b[43m,\u001b[49m\n\u001b[1;32m    973\u001b[0m \u001b[43m        \u001b[49m\u001b[43mascending\u001b[49m\u001b[38;5;241;43m=\u001b[39;49m\u001b[43mascending\u001b[49m\u001b[43m,\u001b[49m\n\u001b[1;32m    974\u001b[0m \u001b[43m        \u001b[49m\u001b[43mnormalize\u001b[49m\u001b[38;5;241;43m=\u001b[39;49m\u001b[43mnormalize\u001b[49m\u001b[43m,\u001b[49m\n\u001b[1;32m    975\u001b[0m \u001b[43m        \u001b[49m\u001b[43mbins\u001b[49m\u001b[38;5;241;43m=\u001b[39;49m\u001b[43mbins\u001b[49m\u001b[43m,\u001b[49m\n\u001b[1;32m    976\u001b[0m \u001b[43m        \u001b[49m\u001b[43mdropna\u001b[49m\u001b[38;5;241;43m=\u001b[39;49m\u001b[43mdropna\u001b[49m\u001b[43m,\u001b[49m\n\u001b[1;32m    977\u001b[0m \u001b[43m    \u001b[49m\u001b[43m)\u001b[49m\n",
      "File \u001b[0;32m~/Simao/miniconda3/envs/thesis/lib/python3.10/site-packages/pandas/core/algorithms.py:871\u001b[0m, in \u001b[0;36mvalue_counts\u001b[0;34m(values, sort, ascending, normalize, bins, dropna)\u001b[0m\n\u001b[1;32m    868\u001b[0m     \u001b[38;5;28;01melse\u001b[39;00m:\n\u001b[1;32m    869\u001b[0m         keys, counts \u001b[38;5;241m=\u001b[39m value_counts_arraylike(values, dropna)\n\u001b[0;32m--> 871\u001b[0m         result \u001b[38;5;241m=\u001b[39m \u001b[43mSeries\u001b[49m\u001b[43m(\u001b[49m\u001b[43mcounts\u001b[49m\u001b[43m,\u001b[49m\u001b[43m \u001b[49m\u001b[43mindex\u001b[49m\u001b[38;5;241;43m=\u001b[39;49m\u001b[43mkeys\u001b[49m\u001b[43m,\u001b[49m\u001b[43m \u001b[49m\u001b[43mname\u001b[49m\u001b[38;5;241;43m=\u001b[39;49m\u001b[43mname\u001b[49m\u001b[43m)\u001b[49m\n\u001b[1;32m    873\u001b[0m \u001b[38;5;28;01mif\u001b[39;00m sort:\n\u001b[1;32m    874\u001b[0m     result \u001b[38;5;241m=\u001b[39m result\u001b[38;5;241m.\u001b[39msort_values(ascending\u001b[38;5;241m=\u001b[39mascending)\n",
      "File \u001b[0;32m~/Simao/miniconda3/envs/thesis/lib/python3.10/site-packages/pandas/core/series.py:380\u001b[0m, in \u001b[0;36mSeries.__init__\u001b[0;34m(self, data, index, dtype, name, copy, fastpath)\u001b[0m\n\u001b[1;32m    376\u001b[0m     \u001b[38;5;66;03m# uncomment the line below when removing the FutureWarning\u001b[39;00m\n\u001b[1;32m    377\u001b[0m     \u001b[38;5;66;03m# dtype = np.dtype(object)\u001b[39;00m\n\u001b[1;32m    379\u001b[0m \u001b[38;5;28;01mif\u001b[39;00m index \u001b[38;5;129;01mis\u001b[39;00m \u001b[38;5;129;01mnot\u001b[39;00m \u001b[38;5;28;01mNone\u001b[39;00m:\n\u001b[0;32m--> 380\u001b[0m     index \u001b[38;5;241m=\u001b[39m \u001b[43mensure_index\u001b[49m\u001b[43m(\u001b[49m\u001b[43mindex\u001b[49m\u001b[43m)\u001b[49m\n\u001b[1;32m    382\u001b[0m \u001b[38;5;28;01mif\u001b[39;00m data \u001b[38;5;129;01mis\u001b[39;00m \u001b[38;5;28;01mNone\u001b[39;00m:\n\u001b[1;32m    383\u001b[0m     data \u001b[38;5;241m=\u001b[39m {}\n",
      "File \u001b[0;32m~/Simao/miniconda3/envs/thesis/lib/python3.10/site-packages/pandas/core/indexes/base.py:7043\u001b[0m, in \u001b[0;36mensure_index\u001b[0;34m(index_like, copy)\u001b[0m\n\u001b[1;32m   7041\u001b[0m         \u001b[38;5;28;01mreturn\u001b[39;00m Index\u001b[38;5;241m.\u001b[39m_with_infer(index_like, copy\u001b[38;5;241m=\u001b[39mcopy, tupleize_cols\u001b[38;5;241m=\u001b[39m\u001b[38;5;28;01mFalse\u001b[39;00m)\n\u001b[1;32m   7042\u001b[0m \u001b[38;5;28;01melse\u001b[39;00m:\n\u001b[0;32m-> 7043\u001b[0m     \u001b[38;5;28;01mreturn\u001b[39;00m \u001b[43mIndex\u001b[49m\u001b[38;5;241;43m.\u001b[39;49m\u001b[43m_with_infer\u001b[49m\u001b[43m(\u001b[49m\u001b[43mindex_like\u001b[49m\u001b[43m,\u001b[49m\u001b[43m \u001b[49m\u001b[43mcopy\u001b[49m\u001b[38;5;241;43m=\u001b[39;49m\u001b[43mcopy\u001b[49m\u001b[43m)\u001b[49m\n",
      "File \u001b[0;32m~/Simao/miniconda3/envs/thesis/lib/python3.10/site-packages/pandas/core/indexes/base.py:680\u001b[0m, in \u001b[0;36mIndex._with_infer\u001b[0;34m(cls, *args, **kwargs)\u001b[0m\n\u001b[1;32m    678\u001b[0m \u001b[38;5;28;01mwith\u001b[39;00m warnings\u001b[38;5;241m.\u001b[39mcatch_warnings():\n\u001b[1;32m    679\u001b[0m     warnings\u001b[38;5;241m.\u001b[39mfilterwarnings(\u001b[38;5;124m\"\u001b[39m\u001b[38;5;124mignore\u001b[39m\u001b[38;5;124m\"\u001b[39m, \u001b[38;5;124m\"\u001b[39m\u001b[38;5;124m.*the Index constructor\u001b[39m\u001b[38;5;124m\"\u001b[39m, \u001b[38;5;167;01mFutureWarning\u001b[39;00m)\n\u001b[0;32m--> 680\u001b[0m     result \u001b[38;5;241m=\u001b[39m \u001b[38;5;28;43mcls\u001b[39;49m\u001b[43m(\u001b[49m\u001b[38;5;241;43m*\u001b[39;49m\u001b[43margs\u001b[49m\u001b[43m,\u001b[49m\u001b[43m \u001b[49m\u001b[38;5;241;43m*\u001b[39;49m\u001b[38;5;241;43m*\u001b[39;49m\u001b[43mkwargs\u001b[49m\u001b[43m)\u001b[49m\n\u001b[1;32m    682\u001b[0m \u001b[38;5;28;01mif\u001b[39;00m result\u001b[38;5;241m.\u001b[39mdtype \u001b[38;5;241m==\u001b[39m _dtype_obj \u001b[38;5;129;01mand\u001b[39;00m \u001b[38;5;129;01mnot\u001b[39;00m result\u001b[38;5;241m.\u001b[39m_is_multi:\n\u001b[1;32m    683\u001b[0m     \u001b[38;5;66;03m# error: Argument 1 to \"maybe_convert_objects\" has incompatible type\u001b[39;00m\n\u001b[1;32m    684\u001b[0m     \u001b[38;5;66;03m# \"Union[ExtensionArray, ndarray[Any, Any]]\"; expected\u001b[39;00m\n\u001b[1;32m    685\u001b[0m     \u001b[38;5;66;03m# \"ndarray[Any, Any]\"\u001b[39;00m\n\u001b[1;32m    686\u001b[0m     values \u001b[38;5;241m=\u001b[39m lib\u001b[38;5;241m.\u001b[39mmaybe_convert_objects(result\u001b[38;5;241m.\u001b[39m_values)  \u001b[38;5;66;03m# type: ignore[arg-type]\u001b[39;00m\n",
      "File \u001b[0;32m~/Simao/miniconda3/envs/thesis/lib/python3.10/site-packages/pandas/core/indexes/base.py:503\u001b[0m, in \u001b[0;36mIndex.__new__\u001b[0;34m(cls, data, dtype, copy, name, tupleize_cols, **kwargs)\u001b[0m\n\u001b[1;32m    500\u001b[0m             \u001b[38;5;28;01mreturn\u001b[39;00m \u001b[38;5;28mcls\u001b[39m(arr, dtype, copy\u001b[38;5;241m=\u001b[39mcopy, name\u001b[38;5;241m=\u001b[39mname, \u001b[38;5;241m*\u001b[39m\u001b[38;5;241m*\u001b[39mkwargs)\n\u001b[1;32m    502\u001b[0m klass \u001b[38;5;241m=\u001b[39m \u001b[38;5;28mcls\u001b[39m\u001b[38;5;241m.\u001b[39m_dtype_to_subclass(arr\u001b[38;5;241m.\u001b[39mdtype)\n\u001b[0;32m--> 503\u001b[0m arr \u001b[38;5;241m=\u001b[39m \u001b[43mklass\u001b[49m\u001b[38;5;241;43m.\u001b[39;49m\u001b[43m_ensure_array\u001b[49m\u001b[43m(\u001b[49m\u001b[43marr\u001b[49m\u001b[43m,\u001b[49m\u001b[43m \u001b[49m\u001b[43mdtype\u001b[49m\u001b[43m,\u001b[49m\u001b[43m \u001b[49m\u001b[43mcopy\u001b[49m\u001b[43m)\u001b[49m\n\u001b[1;32m    504\u001b[0m disallow_kwargs(kwargs)\n\u001b[1;32m    505\u001b[0m \u001b[38;5;28;01mreturn\u001b[39;00m klass\u001b[38;5;241m.\u001b[39m_simple_new(arr, name)\n",
      "File \u001b[0;32m~/Simao/miniconda3/envs/thesis/lib/python3.10/site-packages/pandas/core/indexes/numeric.py:165\u001b[0m, in \u001b[0;36mNumericIndex._ensure_array\u001b[0;34m(cls, data, dtype, copy)\u001b[0m\n\u001b[1;32m    162\u001b[0m \u001b[38;5;28;01mif\u001b[39;00m \u001b[38;5;28missubclass\u001b[39m(data\u001b[38;5;241m.\u001b[39mdtype\u001b[38;5;241m.\u001b[39mtype, \u001b[38;5;28mstr\u001b[39m):\n\u001b[1;32m    163\u001b[0m     \u001b[38;5;28mcls\u001b[39m\u001b[38;5;241m.\u001b[39m_string_data_error(data)\n\u001b[0;32m--> 165\u001b[0m dtype \u001b[38;5;241m=\u001b[39m \u001b[38;5;28;43mcls\u001b[39;49m\u001b[38;5;241;43m.\u001b[39;49m\u001b[43m_ensure_dtype\u001b[49m\u001b[43m(\u001b[49m\u001b[43mdtype\u001b[49m\u001b[43m)\u001b[49m\n\u001b[1;32m    167\u001b[0m \u001b[38;5;28;01mif\u001b[39;00m copy \u001b[38;5;129;01mor\u001b[39;00m \u001b[38;5;129;01mnot\u001b[39;00m is_dtype_equal(data\u001b[38;5;241m.\u001b[39mdtype, dtype):\n\u001b[1;32m    168\u001b[0m     \u001b[38;5;66;03m# TODO: the try/except below is because it's difficult to predict the error\u001b[39;00m\n\u001b[1;32m    169\u001b[0m     \u001b[38;5;66;03m# and/or error message from different combinations of data and dtype.\u001b[39;00m\n\u001b[1;32m    170\u001b[0m     \u001b[38;5;66;03m# Efforts to avoid this try/except welcome.\u001b[39;00m\n\u001b[1;32m    171\u001b[0m     \u001b[38;5;66;03m# See https://github.com/pandas-dev/pandas/pull/41153#discussion_r676206222\u001b[39;00m\n\u001b[1;32m    172\u001b[0m     \u001b[38;5;28;01mtry\u001b[39;00m:\n",
      "\u001b[0;31mKeyboardInterrupt\u001b[0m: "
     ]
    }
   ],
   "source": [
    "for e in tqdm(dataset):\n",
    "    target = e['target']\n",
    "    if any([(pd.Series(t).value_counts() >1).any() if t else False for t in target]):\n",
    "        print('found one')\n",
    "        break"
   ]
  },
  {
   "cell_type": "code",
   "execution_count": null,
   "id": "582fd3d2-0421-4225-8759-d59d0fda338f",
   "metadata": {},
   "outputs": [
    {
     "data": {
      "text/plain": [
       "[[],\n",
       " [258.0, 136.0, 258.0],\n",
       " [136.0, 258.0, 47.0, 44.0, 47.0],\n",
       " [258.0, 47.0, 44.0, 47.0],\n",
       " [47.0, 44.0, 47.0],\n",
       " [47.0, 258.0],\n",
       " [258.0],\n",
       " [],\n",
       " []]"
      ]
     },
     "execution_count": 44,
     "metadata": {},
     "output_type": "execute_result"
    }
   ],
   "source": [
    "target"
   ]
  },
  {
   "cell_type": "code",
   "execution_count": null,
   "id": "a23211a6-8145-49cf-a7de-7952aefb453c",
   "metadata": {},
   "outputs": [],
   "source": [
    "from tqdm.auto import tqdm\n",
    "\n",
    "tqdm.pandas()"
   ]
  },
  {
   "cell_type": "code",
   "execution_count": 14,
   "id": "e55a2f57-e207-4139-b9f0-94861092718b",
   "metadata": {},
   "outputs": [],
   "source": [
    "df = pd.DataFrame(np.random.randint(0, int(1e8), (10000, 1000)))"
   ]
  },
  {
   "cell_type": "code",
   "execution_count": 15,
   "id": "c5db9163-492a-4ae2-bef7-3a3bd2274ec3",
   "metadata": {},
   "outputs": [
    {
     "data": {
      "application/vnd.jupyter.widget-view+json": {
       "model_id": "d6b962258b4148558eb754a247643a2f",
       "version_major": 2,
       "version_minor": 0
      },
      "text/plain": [
       "  0%|          | 0/10000 [00:00<?, ?it/s]"
      ]
     },
     "metadata": {},
     "output_type": "display_data"
    },
    {
     "data": {
      "text/html": [
       "<div>\n",
       "<style scoped>\n",
       "    .dataframe tbody tr th:only-of-type {\n",
       "        vertical-align: middle;\n",
       "    }\n",
       "\n",
       "    .dataframe tbody tr th {\n",
       "        vertical-align: top;\n",
       "    }\n",
       "\n",
       "    .dataframe thead th {\n",
       "        text-align: right;\n",
       "    }\n",
       "</style>\n",
       "<table border=\"1\" class=\"dataframe\">\n",
       "  <thead>\n",
       "    <tr style=\"text-align: right;\">\n",
       "      <th></th>\n",
       "      <th>0</th>\n",
       "      <th>1</th>\n",
       "      <th>2</th>\n",
       "      <th>3</th>\n",
       "      <th>4</th>\n",
       "      <th>5</th>\n",
       "      <th>6</th>\n",
       "      <th>7</th>\n",
       "      <th>8</th>\n",
       "      <th>9</th>\n",
       "      <th>...</th>\n",
       "      <th>990</th>\n",
       "      <th>991</th>\n",
       "      <th>992</th>\n",
       "      <th>993</th>\n",
       "      <th>994</th>\n",
       "      <th>995</th>\n",
       "      <th>996</th>\n",
       "      <th>997</th>\n",
       "      <th>998</th>\n",
       "      <th>999</th>\n",
       "    </tr>\n",
       "  </thead>\n",
       "  <tbody>\n",
       "    <tr>\n",
       "      <th>0</th>\n",
       "      <td>8861896394421316</td>\n",
       "      <td>2516512275852201</td>\n",
       "      <td>372733605816100</td>\n",
       "      <td>4172308873801744</td>\n",
       "      <td>5427823796622756</td>\n",
       "      <td>762071635866025</td>\n",
       "      <td>292111749490729</td>\n",
       "      <td>9997616142086400</td>\n",
       "      <td>6321334108485124</td>\n",
       "      <td>1271447821372689</td>\n",
       "      <td>...</td>\n",
       "      <td>251821352454400</td>\n",
       "      <td>2339752576838121</td>\n",
       "      <td>3704089009201</td>\n",
       "      <td>3943910838718096</td>\n",
       "      <td>6966029135233081</td>\n",
       "      <td>1289798731957824</td>\n",
       "      <td>1984177646603881</td>\n",
       "      <td>300951681465681</td>\n",
       "      <td>7736057397619600</td>\n",
       "      <td>5319091648002609</td>\n",
       "    </tr>\n",
       "    <tr>\n",
       "      <th>1</th>\n",
       "      <td>9155879298676881</td>\n",
       "      <td>6709341313903761</td>\n",
       "      <td>65115732802624</td>\n",
       "      <td>890036469243441</td>\n",
       "      <td>9545029142782225</td>\n",
       "      <td>747917698471056</td>\n",
       "      <td>1806302955388129</td>\n",
       "      <td>1476837230529600</td>\n",
       "      <td>3410535705643264</td>\n",
       "      <td>4293490110523441</td>\n",
       "      <td>...</td>\n",
       "      <td>4681045028294569</td>\n",
       "      <td>2865903717266496</td>\n",
       "      <td>1946334394598400</td>\n",
       "      <td>3823240248510736</td>\n",
       "      <td>2004459901728025</td>\n",
       "      <td>7188269002995600</td>\n",
       "      <td>2243874077724304</td>\n",
       "      <td>6803153467275361</td>\n",
       "      <td>4944864005354529</td>\n",
       "      <td>19988598081321</td>\n",
       "    </tr>\n",
       "    <tr>\n",
       "      <th>2</th>\n",
       "      <td>3498268242745600</td>\n",
       "      <td>669675749072836</td>\n",
       "      <td>8038721756248561</td>\n",
       "      <td>1850330143135296</td>\n",
       "      <td>1072158795994896</td>\n",
       "      <td>28563637494016</td>\n",
       "      <td>1021796322871401</td>\n",
       "      <td>5273630994852900</td>\n",
       "      <td>2872036653400996</td>\n",
       "      <td>6139705831875625</td>\n",
       "      <td>...</td>\n",
       "      <td>509823885318400</td>\n",
       "      <td>916343854253584</td>\n",
       "      <td>3164205151607824</td>\n",
       "      <td>5673962587004100</td>\n",
       "      <td>712247208961600</td>\n",
       "      <td>16249839769881</td>\n",
       "      <td>6765721667556049</td>\n",
       "      <td>5029166424891456</td>\n",
       "      <td>30716934105796</td>\n",
       "      <td>9946115385025369</td>\n",
       "    </tr>\n",
       "    <tr>\n",
       "      <th>3</th>\n",
       "      <td>5311420841104</td>\n",
       "      <td>26637211265625</td>\n",
       "      <td>1822132330619364</td>\n",
       "      <td>5192115845970244</td>\n",
       "      <td>5280184349425129</td>\n",
       "      <td>363343527111184</td>\n",
       "      <td>1167735767278201</td>\n",
       "      <td>6401713074618436</td>\n",
       "      <td>1904908371305536</td>\n",
       "      <td>1169945083891600</td>\n",
       "      <td>...</td>\n",
       "      <td>8993614065000889</td>\n",
       "      <td>4729322665345041</td>\n",
       "      <td>4174562196165904</td>\n",
       "      <td>1025072216529001</td>\n",
       "      <td>40104241849681</td>\n",
       "      <td>1644630079213521</td>\n",
       "      <td>4089657497184900</td>\n",
       "      <td>2461892336851600</td>\n",
       "      <td>319438981596736</td>\n",
       "      <td>188127202106809</td>\n",
       "    </tr>\n",
       "    <tr>\n",
       "      <th>4</th>\n",
       "      <td>7723203564934081</td>\n",
       "      <td>666917970810025</td>\n",
       "      <td>548547784683409</td>\n",
       "      <td>6585170425777969</td>\n",
       "      <td>147144356836</td>\n",
       "      <td>1168733602068516</td>\n",
       "      <td>7887804921289225</td>\n",
       "      <td>2172900609241924</td>\n",
       "      <td>2184455880614569</td>\n",
       "      <td>9670344739843921</td>\n",
       "      <td>...</td>\n",
       "      <td>106726420399104</td>\n",
       "      <td>1490704223710321</td>\n",
       "      <td>2282394441945744</td>\n",
       "      <td>3051335410343236</td>\n",
       "      <td>1148400881668096</td>\n",
       "      <td>5580157529004304</td>\n",
       "      <td>496791675302976</td>\n",
       "      <td>853373183524</td>\n",
       "      <td>5421407382862849</td>\n",
       "      <td>7177021597028416</td>\n",
       "    </tr>\n",
       "    <tr>\n",
       "      <th>...</th>\n",
       "      <td>...</td>\n",
       "      <td>...</td>\n",
       "      <td>...</td>\n",
       "      <td>...</td>\n",
       "      <td>...</td>\n",
       "      <td>...</td>\n",
       "      <td>...</td>\n",
       "      <td>...</td>\n",
       "      <td>...</td>\n",
       "      <td>...</td>\n",
       "      <td>...</td>\n",
       "      <td>...</td>\n",
       "      <td>...</td>\n",
       "      <td>...</td>\n",
       "      <td>...</td>\n",
       "      <td>...</td>\n",
       "      <td>...</td>\n",
       "      <td>...</td>\n",
       "      <td>...</td>\n",
       "      <td>...</td>\n",
       "      <td>...</td>\n",
       "    </tr>\n",
       "    <tr>\n",
       "      <th>9995</th>\n",
       "      <td>5766018068358601</td>\n",
       "      <td>99489433364721</td>\n",
       "      <td>1637230981469521</td>\n",
       "      <td>4248013433289796</td>\n",
       "      <td>56538564139369</td>\n",
       "      <td>45277368491716</td>\n",
       "      <td>259256820914116</td>\n",
       "      <td>4111923029021284</td>\n",
       "      <td>9518272623873225</td>\n",
       "      <td>3034494608545009</td>\n",
       "      <td>...</td>\n",
       "      <td>1205378755659225</td>\n",
       "      <td>166931852284521</td>\n",
       "      <td>1725772410201889</td>\n",
       "      <td>7003729359936</td>\n",
       "      <td>166618090411969</td>\n",
       "      <td>7454134896878224</td>\n",
       "      <td>6223394012257081</td>\n",
       "      <td>6113684857283136</td>\n",
       "      <td>513185321116836</td>\n",
       "      <td>1289090035210000</td>\n",
       "    </tr>\n",
       "    <tr>\n",
       "      <th>9996</th>\n",
       "      <td>196378490547121</td>\n",
       "      <td>384595713876544</td>\n",
       "      <td>3465764145889081</td>\n",
       "      <td>7138363746590244</td>\n",
       "      <td>2037127152357025</td>\n",
       "      <td>69772274880400</td>\n",
       "      <td>62955909394576</td>\n",
       "      <td>8010592788667225</td>\n",
       "      <td>12669869394576</td>\n",
       "      <td>1180895698690569</td>\n",
       "      <td>...</td>\n",
       "      <td>90766015494400</td>\n",
       "      <td>775019887394041</td>\n",
       "      <td>5609292930315369</td>\n",
       "      <td>1449463478112400</td>\n",
       "      <td>5197174711993489</td>\n",
       "      <td>17178894536049</td>\n",
       "      <td>234544201706896</td>\n",
       "      <td>39165355117729</td>\n",
       "      <td>2048348658446596</td>\n",
       "      <td>4330366199248324</td>\n",
       "    </tr>\n",
       "    <tr>\n",
       "      <th>9997</th>\n",
       "      <td>2961342014949796</td>\n",
       "      <td>678613180542025</td>\n",
       "      <td>4530780144544900</td>\n",
       "      <td>6008298034556944</td>\n",
       "      <td>1743870706663684</td>\n",
       "      <td>5581324261644121</td>\n",
       "      <td>329371536771216</td>\n",
       "      <td>1148995490810896</td>\n",
       "      <td>7708482306949369</td>\n",
       "      <td>2208631159397776</td>\n",
       "      <td>...</td>\n",
       "      <td>730305169657281</td>\n",
       "      <td>320143452857809</td>\n",
       "      <td>7351274721180625</td>\n",
       "      <td>3698201265614244</td>\n",
       "      <td>9472348087524</td>\n",
       "      <td>1782668910928896</td>\n",
       "      <td>6118404224812441</td>\n",
       "      <td>6129201498473089</td>\n",
       "      <td>3095992769589316</td>\n",
       "      <td>52856942197284</td>\n",
       "    </tr>\n",
       "    <tr>\n",
       "      <th>9998</th>\n",
       "      <td>3977470202227344</td>\n",
       "      <td>107320835618929</td>\n",
       "      <td>830945279844</td>\n",
       "      <td>3086961604026624</td>\n",
       "      <td>4711842366265321</td>\n",
       "      <td>1437973421184400</td>\n",
       "      <td>234800795350521</td>\n",
       "      <td>1743325367909904</td>\n",
       "      <td>1327628297249956</td>\n",
       "      <td>587601694807009</td>\n",
       "      <td>...</td>\n",
       "      <td>953331328132096</td>\n",
       "      <td>669732526814481</td>\n",
       "      <td>9854895040286976</td>\n",
       "      <td>1790783162981316</td>\n",
       "      <td>1704794320614025</td>\n",
       "      <td>360751712706225</td>\n",
       "      <td>988775384150401</td>\n",
       "      <td>1905336031524025</td>\n",
       "      <td>197825434591849</td>\n",
       "      <td>713561075454096</td>\n",
       "    </tr>\n",
       "    <tr>\n",
       "      <th>9999</th>\n",
       "      <td>9681044108936209</td>\n",
       "      <td>4149578747866176</td>\n",
       "      <td>4325071527356176</td>\n",
       "      <td>1435481296960516</td>\n",
       "      <td>7235306182723609</td>\n",
       "      <td>3939001614469156</td>\n",
       "      <td>1607840782452100</td>\n",
       "      <td>7099328833975225</td>\n",
       "      <td>7246265795250001</td>\n",
       "      <td>1498215282449796</td>\n",
       "      <td>...</td>\n",
       "      <td>2861158704040000</td>\n",
       "      <td>6257511636669225</td>\n",
       "      <td>43248576613225</td>\n",
       "      <td>4326478360992841</td>\n",
       "      <td>4780460457483876</td>\n",
       "      <td>7337080876324644</td>\n",
       "      <td>5240858948325729</td>\n",
       "      <td>2123257836907684</td>\n",
       "      <td>5601608020019881</td>\n",
       "      <td>811940120560969</td>\n",
       "    </tr>\n",
       "  </tbody>\n",
       "</table>\n",
       "<p>10000 rows × 1000 columns</p>\n",
       "</div>"
      ],
      "text/plain": [
       "                   0                 1                 2                 3    \\\n",
       "0     8861896394421316  2516512275852201   372733605816100  4172308873801744   \n",
       "1     9155879298676881  6709341313903761    65115732802624   890036469243441   \n",
       "2     3498268242745600   669675749072836  8038721756248561  1850330143135296   \n",
       "3        5311420841104    26637211265625  1822132330619364  5192115845970244   \n",
       "4     7723203564934081   666917970810025   548547784683409  6585170425777969   \n",
       "...                ...               ...               ...               ...   \n",
       "9995  5766018068358601    99489433364721  1637230981469521  4248013433289796   \n",
       "9996   196378490547121   384595713876544  3465764145889081  7138363746590244   \n",
       "9997  2961342014949796   678613180542025  4530780144544900  6008298034556944   \n",
       "9998  3977470202227344   107320835618929      830945279844  3086961604026624   \n",
       "9999  9681044108936209  4149578747866176  4325071527356176  1435481296960516   \n",
       "\n",
       "                   4                 5                 6                 7    \\\n",
       "0     5427823796622756   762071635866025   292111749490729  9997616142086400   \n",
       "1     9545029142782225   747917698471056  1806302955388129  1476837230529600   \n",
       "2     1072158795994896    28563637494016  1021796322871401  5273630994852900   \n",
       "3     5280184349425129   363343527111184  1167735767278201  6401713074618436   \n",
       "4         147144356836  1168733602068516  7887804921289225  2172900609241924   \n",
       "...                ...               ...               ...               ...   \n",
       "9995    56538564139369    45277368491716   259256820914116  4111923029021284   \n",
       "9996  2037127152357025    69772274880400    62955909394576  8010592788667225   \n",
       "9997  1743870706663684  5581324261644121   329371536771216  1148995490810896   \n",
       "9998  4711842366265321  1437973421184400   234800795350521  1743325367909904   \n",
       "9999  7235306182723609  3939001614469156  1607840782452100  7099328833975225   \n",
       "\n",
       "                   8                 9    ...               990  \\\n",
       "0     6321334108485124  1271447821372689  ...   251821352454400   \n",
       "1     3410535705643264  4293490110523441  ...  4681045028294569   \n",
       "2     2872036653400996  6139705831875625  ...   509823885318400   \n",
       "3     1904908371305536  1169945083891600  ...  8993614065000889   \n",
       "4     2184455880614569  9670344739843921  ...   106726420399104   \n",
       "...                ...               ...  ...               ...   \n",
       "9995  9518272623873225  3034494608545009  ...  1205378755659225   \n",
       "9996    12669869394576  1180895698690569  ...    90766015494400   \n",
       "9997  7708482306949369  2208631159397776  ...   730305169657281   \n",
       "9998  1327628297249956   587601694807009  ...   953331328132096   \n",
       "9999  7246265795250001  1498215282449796  ...  2861158704040000   \n",
       "\n",
       "                   991               992               993               994  \\\n",
       "0     2339752576838121     3704089009201  3943910838718096  6966029135233081   \n",
       "1     2865903717266496  1946334394598400  3823240248510736  2004459901728025   \n",
       "2      916343854253584  3164205151607824  5673962587004100   712247208961600   \n",
       "3     4729322665345041  4174562196165904  1025072216529001    40104241849681   \n",
       "4     1490704223710321  2282394441945744  3051335410343236  1148400881668096   \n",
       "...                ...               ...               ...               ...   \n",
       "9995   166931852284521  1725772410201889     7003729359936   166618090411969   \n",
       "9996   775019887394041  5609292930315369  1449463478112400  5197174711993489   \n",
       "9997   320143452857809  7351274721180625  3698201265614244     9472348087524   \n",
       "9998   669732526814481  9854895040286976  1790783162981316  1704794320614025   \n",
       "9999  6257511636669225    43248576613225  4326478360992841  4780460457483876   \n",
       "\n",
       "                   995               996               997               998  \\\n",
       "0     1289798731957824  1984177646603881   300951681465681  7736057397619600   \n",
       "1     7188269002995600  2243874077724304  6803153467275361  4944864005354529   \n",
       "2       16249839769881  6765721667556049  5029166424891456    30716934105796   \n",
       "3     1644630079213521  4089657497184900  2461892336851600   319438981596736   \n",
       "4     5580157529004304   496791675302976      853373183524  5421407382862849   \n",
       "...                ...               ...               ...               ...   \n",
       "9995  7454134896878224  6223394012257081  6113684857283136   513185321116836   \n",
       "9996    17178894536049   234544201706896    39165355117729  2048348658446596   \n",
       "9997  1782668910928896  6118404224812441  6129201498473089  3095992769589316   \n",
       "9998   360751712706225   988775384150401  1905336031524025   197825434591849   \n",
       "9999  7337080876324644  5240858948325729  2123257836907684  5601608020019881   \n",
       "\n",
       "                   999  \n",
       "0     5319091648002609  \n",
       "1       19988598081321  \n",
       "2     9946115385025369  \n",
       "3      188127202106809  \n",
       "4     7177021597028416  \n",
       "...                ...  \n",
       "9995  1289090035210000  \n",
       "9996  4330366199248324  \n",
       "9997    52856942197284  \n",
       "9998   713561075454096  \n",
       "9999   811940120560969  \n",
       "\n",
       "[10000 rows x 1000 columns]"
      ]
     },
     "execution_count": 15,
     "metadata": {},
     "output_type": "execute_result"
    }
   ],
   "source": [
    "df.groupby(0).progress_apply(lambda x: x**2)"
   ]
  },
  {
   "cell_type": "code",
   "execution_count": null,
   "id": "f6f91b62-fde8-4023-8102-3ed7cda6ad3e",
   "metadata": {},
   "outputs": [],
   "source": []
  }
 ],
 "metadata": {
  "kernelspec": {
   "display_name": "Python (simao thesis)",
   "language": "python",
   "name": "simao_thesis"
  },
  "language_info": {
   "codemirror_mode": {
    "name": "ipython",
    "version": 3
   },
   "file_extension": ".py",
   "mimetype": "text/x-python",
   "name": "python",
   "nbconvert_exporter": "python",
   "pygments_lexer": "ipython3",
   "version": "3.10.4"
  }
 },
 "nbformat": 4,
 "nbformat_minor": 5
}
