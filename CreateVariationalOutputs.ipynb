{
 "cells": [
  {
   "cell_type": "markdown",
   "id": "f639e358-e28a-4f32-a817-84b088e22874",
   "metadata": {},
   "source": [
    "Using a variational model, creates several outputs for each patient in the validation/test set. Saves into csv. The purpose is to do analyses later on "
   ]
  },
  {
   "cell_type": "markdown",
   "id": "43712fcf-ff80-4a27-8b34-f47b38c3221c",
   "metadata": {},
   "source": [
    "# Imports"
   ]
  },
  {
   "cell_type": "code",
   "execution_count": 1,
   "id": "a7e4201b-d96d-4370-a252-90ec49625767",
   "metadata": {
    "ExecuteTime": {
     "end_time": "2021-10-13T13:13:56.817884Z",
     "start_time": "2021-10-13T13:13:51.079218Z"
    }
   },
   "outputs": [],
   "source": [
    "import os\n",
    "import json\n",
    "\n",
    "from rnn_utils import DiagnosesDataset, split_dataset, MYCOLLATE\n",
    "from rnn_utils import train_one_epoch, eval_model\n",
    "\n",
    "from mourga_variational.variational_rnn import VariationalRNN\n",
    "\n",
    "import torch\n",
    "from torch.utils.data import Dataset, DataLoader, random_split\n",
    "from torch import nn\n",
    "from torch.nn.utils.rnn import pack_padded_sequence, pad_packed_sequence, pad_sequence, pack_sequence\n",
    "\n",
    "import numpy as np\n",
    "import pandas as pd\n",
    "\n",
    "from config import Settings; settings = Settings()\n",
    "\n",
    "# display all outputs\n",
    "from IPython.core.interactiveshell import InteractiveShell\n",
    "InteractiveShell.ast_node_interactivity = \"all\""
   ]
  },
  {
   "cell_type": "markdown",
   "id": "27c96fe9-1c47-43e5-8be3-cea6055ed3e7",
   "metadata": {},
   "source": [
    "# Parameters"
   ]
  },
  {
   "cell_type": "code",
   "execution_count": 2,
   "id": "914d3248-ac4e-46b8-aef9-05513c8b1219",
   "metadata": {
    "ExecuteTime": {
     "end_time": "2021-10-13T13:13:50.773534Z",
     "start_time": "2021-10-13T13:13:50.759374Z"
    }
   },
   "outputs": [],
   "source": [
    "num_passes = 30 # number of (variational) forward passes for each input\n",
    "model_name = 'golden-oath-84'\n",
    "dataset_id = 'diag_only'\n",
    "experiment_id = 'A'"
   ]
  },
  {
   "cell_type": "markdown",
   "id": "6ca10b49-4243-44a5-bc87-0eec206a332d",
   "metadata": {},
   "source": [
    "sanity check"
   ]
  },
  {
   "cell_type": "code",
   "execution_count": 6,
   "id": "33a4d604-217a-4e6f-8cbf-6569a8937153",
   "metadata": {},
   "outputs": [
    {
     "data": {
      "text/plain": [
       "True"
      ]
     },
     "execution_count": 6,
     "metadata": {},
     "output_type": "execute_result"
    },
    {
     "data": {
      "text/plain": [
       "True"
      ]
     },
     "execution_count": 6,
     "metadata": {},
     "output_type": "execute_result"
    },
    {
     "ename": "Exception",
     "evalue": "Experiment data/variational/Experiment A exists. If you want to overwrite it, manually delete the directory first",
     "output_type": "error",
     "traceback": [
      "\u001b[0;31m---------------------------------------------------------------------------\u001b[0m",
      "\u001b[0;31mException\u001b[0m                                 Traceback (most recent call last)",
      "\u001b[0;32m/tmp/ipykernel_884901/817370147.py\u001b[0m in \u001b[0;36m<module>\u001b[0;34m\u001b[0m\n\u001b[1;32m      7\u001b[0m \u001b[0mexperiment_folder\u001b[0m \u001b[0;34m=\u001b[0m \u001b[0mos\u001b[0m\u001b[0;34m.\u001b[0m\u001b[0mpath\u001b[0m\u001b[0;34m.\u001b[0m\u001b[0mjoin\u001b[0m\u001b[0;34m(\u001b[0m\u001b[0msettings\u001b[0m\u001b[0;34m.\u001b[0m\u001b[0mdata_base\u001b[0m\u001b[0;34m,\u001b[0m\u001b[0msettings\u001b[0m\u001b[0;34m.\u001b[0m\u001b[0mvariational_data_folder\u001b[0m\u001b[0;34m,\u001b[0m\u001b[0mexperiment_id\u001b[0m\u001b[0;34m)\u001b[0m\u001b[0;34m\u001b[0m\u001b[0;34m\u001b[0m\u001b[0m\n\u001b[1;32m      8\u001b[0m \u001b[0;32mif\u001b[0m \u001b[0mos\u001b[0m\u001b[0;34m.\u001b[0m\u001b[0mpath\u001b[0m\u001b[0;34m.\u001b[0m\u001b[0mexists\u001b[0m\u001b[0;34m(\u001b[0m\u001b[0mexperiment_folder\u001b[0m\u001b[0;34m)\u001b[0m\u001b[0;34m:\u001b[0m\u001b[0;34m\u001b[0m\u001b[0;34m\u001b[0m\u001b[0m\n\u001b[0;32m----> 9\u001b[0;31m     \u001b[0;32mraise\u001b[0m \u001b[0mException\u001b[0m\u001b[0;34m(\u001b[0m\u001b[0;34mf\"Experiment {experiment_folder} exists. If you want to overwrite it, manually delete the directory first\"\u001b[0m\u001b[0;34m)\u001b[0m\u001b[0;34m\u001b[0m\u001b[0;34m\u001b[0m\u001b[0m\n\u001b[0m\u001b[1;32m     10\u001b[0m \u001b[0;32melse\u001b[0m\u001b[0;34m:\u001b[0m\u001b[0;34m\u001b[0m\u001b[0;34m\u001b[0m\u001b[0m\n\u001b[1;32m     11\u001b[0m     \u001b[0mos\u001b[0m\u001b[0;34m.\u001b[0m\u001b[0mmkdir\u001b[0m\u001b[0;34m(\u001b[0m\u001b[0mexperiment_folder\u001b[0m\u001b[0;34m)\u001b[0m\u001b[0;34m\u001b[0m\u001b[0;34m\u001b[0m\u001b[0m\n",
      "\u001b[0;31mException\u001b[0m: Experiment data/variational/Experiment A exists. If you want to overwrite it, manually delete the directory first"
     ]
    }
   ],
   "source": [
    "model_folder = os.path.join(settings.data_base,settings.models_folder,model_name)\n",
    "os.path.exists(model_folder)\n",
    "\n",
    "dataset_folder = os.path.join(settings.data_base,settings.model_ready_dataset_folder,dataset_id)\n",
    "os.path.exists(dataset_folder)\n",
    "\n",
    "experiment_folder = os.path.join(settings.data_base,settings.variational_data_folder,experiment_id)\n",
    "if os.path.exists(experiment_folder):\n",
    "    raise Exception(f\"Experiment {experiment_folder} exists. If you want to overwrite it, manually delete the directory first\")\n",
    "else:\n",
    "    os.mkdir(experiment_folder)"
   ]
  },
  {
   "cell_type": "markdown",
   "id": "6322c0ee-da31-4f36-acf0-cf72432c2dc4",
   "metadata": {},
   "source": [
    "# Reproducibility"
   ]
  },
  {
   "cell_type": "code",
   "execution_count": 7,
   "id": "af15bbb9-8a6c-451b-b165-6e92de9695b4",
   "metadata": {
    "ExecuteTime": {
     "end_time": "2021-10-13T13:13:56.841284Z",
     "start_time": "2021-10-13T13:13:56.821937Z"
    }
   },
   "outputs": [
    {
     "data": {
      "text/plain": [
       "<torch._C.Generator at 0x7fede5b14db0>"
      ]
     },
     "execution_count": 7,
     "metadata": {},
     "output_type": "execute_result"
    }
   ],
   "source": [
    "# Reproducibility\n",
    "seed = settings.random_seed\n",
    "np.random.seed(seed)\n",
    "torch.manual_seed(seed)\n",
    "torch.cuda.manual_seed(seed)\n",
    "\n",
    "torch.backends.cudnn.deterministic = True\n",
    "torch.backends.cudnn.benchmark = False"
   ]
  },
  {
   "cell_type": "code",
   "execution_count": 8,
   "id": "d6fa20b0-ccaa-4229-b89f-86952e0f79a6",
   "metadata": {},
   "outputs": [],
   "source": [
    "batch_size = 64 # really doesn't matter for this notebook since we will only to inference\n",
    "grouping = 'ccs'"
   ]
  },
  {
   "cell_type": "code",
   "execution_count": 9,
   "id": "09d9599a-f55f-49e5-8381-a9f5551698ff",
   "metadata": {},
   "outputs": [
    {
     "data": {
      "text/plain": [
       "5249"
      ]
     },
     "execution_count": 9,
     "metadata": {},
     "output_type": "execute_result"
    },
    {
     "data": {
      "text/plain": [
       "1125"
      ]
     },
     "execution_count": 9,
     "metadata": {},
     "output_type": "execute_result"
    },
    {
     "data": {
      "text/plain": [
       "1125"
      ]
     },
     "execution_count": 9,
     "metadata": {},
     "output_type": "execute_result"
    }
   ],
   "source": [
    "dataset = DiagnosesDataset(os.path.join(dataset_folder,'dataset.json'),grouping)\n",
    "\n",
    "train_dataset = DiagnosesDataset(os.path.join(dataset_folder,'train_subset.json'),grouping)\n",
    "val_dataset = DiagnosesDataset(os.path.join(dataset_folder,'val_subset.json'),grouping)\n",
    "test_dataset = DiagnosesDataset(os.path.join(dataset_folder,'test_subset.json'),grouping)\n",
    "\n",
    "\n",
    "len(train_dataset)\n",
    "len(val_dataset)\n",
    "len(test_dataset)\n",
    "\n",
    "\n",
    "train_dataloader = DataLoader(train_dataset,batch_size=batch_size,collate_fn=MYCOLLATE(dataset),shuffle=True)\n",
    "val_dataloader = DataLoader(val_dataset,batch_size=batch_size,collate_fn=MYCOLLATE(dataset)) #batch_size here is arbitrary and doesn't affect total validation speed\n",
    "test_dataloader = DataLoader(test_dataset,batch_size=batch_size,collate_fn=MYCOLLATE(dataset))"
   ]
  },
  {
   "cell_type": "code",
   "execution_count": 10,
   "id": "816c498e-b3ec-49cf-a7c6-db3f3227cc8d",
   "metadata": {
    "ExecuteTime": {
     "end_time": "2021-10-13T13:13:58.270581Z",
     "start_time": "2021-10-13T13:13:58.246086Z"
    }
   },
   "outputs": [
    {
     "data": {
      "text/plain": [
       "<All keys matched successfully>"
      ]
     },
     "execution_count": 10,
     "metadata": {},
     "output_type": "execute_result"
    }
   ],
   "source": [
    "# model hyperparameters path\n",
    "hypp_save_path = os.path.join(model_folder, 'hyper_parameters.json')\n",
    "with open(hypp_save_path,'r') as f:\n",
    "    params_loaded = json.load(f)\n",
    "\n",
    "# weights path\n",
    "weights_save_path = os.path.join(model_folder,\"weights\")\n",
    "\n",
    "new_model = VariationalRNN(**params_loaded)\n",
    "new_model.load_state_dict(torch.load(weights_save_path))"
   ]
  },
  {
   "cell_type": "code",
   "execution_count": 29,
   "id": "11d9c0c2-c3c3-4e80-9464-1cc5aab2252c",
   "metadata": {},
   "outputs": [],
   "source": [
    "assert all(np.diff(list(int2code.keys())) == 1)"
   ]
  },
  {
   "cell_type": "code",
   "execution_count": 34,
   "id": "cc5fc7f7-d648-4920-b8e7-b4e22ef907b5",
   "metadata": {
    "ExecuteTime": {
     "end_time": "2021-09-30T10:34:42.253529Z",
     "start_time": "2021-09-30T10:34:42.233852Z"
    }
   },
   "outputs": [],
   "source": [
    "def variational_forward(model, dataloader, dataset, name, num_passes=2):\n",
    "    \"\"\"\n",
    "    \"\"\"\n",
    "    # to make sure the dropout mask is turned on. But we won't train here\n",
    "    model.train()\n",
    "    \n",
    "    # eg:: ccs, icd9, etc..\n",
    "    code_type = dataset.grouping\n",
    "    \n",
    "    int2code = dataset.grouping_data[code_type]['int2code']\n",
    "    \n",
    "    assert all(np.diff(list(int2code.keys())) == 1), 'Expecting sorted codes, if this fails then it might be time to update column-naming related code'\n",
    "    col_names = ['diag_' + str(code) for code in int2code.keys()]\n",
    "    \n",
    "    total_loss = 0\n",
    "    total_seq = 0 #total sequences\n",
    "    \n",
    "    sigmoid = nn.Sigmoid()\n",
    "    \n",
    "    full_df = None\n",
    "    \n",
    "    # variational\n",
    "    \n",
    "    for i, batch in enumerate(iter(dataloader)):\n",
    "        # get the inputs; data is a list of [inputs, labels]\n",
    "        history_sequences, target_sequences = batch['train_sequences'],batch['target_sequences']\n",
    "        \n",
    "        _,lengths = pad_packed_sequence(history_sequences['sequence'])\n",
    "        relevant_positions = [[i+idx*max(lengths) for i in range(e)] for idx,e in enumerate(lengths)]\n",
    "        \n",
    "        # just flatten the list\n",
    "        relevant_positions = [item for sublist in relevant_positions for item in sublist]\n",
    "\n",
    "        for pass_ in range(1,num_passes+1):\n",
    "\n",
    "            outs = model(history_sequences['sequence'])\n",
    "            \n",
    "            outs_flattened = outs.view(1,-1,outs.size()[2])\n",
    "            \n",
    "            relevant_outs = outs_flattened[:,relevant_positions,:]\n",
    "            \n",
    "            relevant_outs = sigmoid(relevant_outs).detach().numpy().squeeze()\n",
    "            \n",
    "            df = (pd.DataFrame(relevant_outs,\n",
    "                               columns=col_names)\n",
    "                  .assign(pat_id=batch['target_pids'],\n",
    "                          npass=pass_)\n",
    "                 )\n",
    "            \n",
    "            if full_df is None:\n",
    "                full_df = df\n",
    "            else:\n",
    "                full_df = pd.concat([full_df,df])\n",
    "    \n",
    "    full_df['adm_index'] = full_df.groupby(['pat_id','npass']).cumcount()+1\n",
    "    full_df['name'] = name+'_variational'\n",
    "    full_df = full_df.reset_index(drop=True)\n",
    "    \n",
    "    # deterministic\n",
    "    \n",
    "    full_df_det = None\n",
    "    model.eval()\n",
    "    with torch.no_grad():\n",
    "         for i, batch in enumerate(iter(dataloader)):\n",
    "            # get the inputs; data is a list of [inputs, labels]\n",
    "            history_sequences, target_sequences = batch['train_sequences'],batch['target_sequences']\n",
    "\n",
    "            _,lengths = pad_packed_sequence(history_sequences['sequence'])\n",
    "            relevant_positions = [[i+idx*max(lengths) for i in range(e)] for idx,e in enumerate(lengths)]\n",
    "\n",
    "            # just flatten the list\n",
    "            relevant_positions = [item for sublist in relevant_positions for item in sublist]\n",
    "            \n",
    "            outs = model(history_sequences['sequence'])\n",
    "            \n",
    "            outs_flattened = outs.view(1,-1,outs.size()[2])\n",
    "            \n",
    "            relevant_outs = outs_flattened[:,relevant_positions,:]\n",
    "            \n",
    "            relevant_outs = sigmoid(relevant_outs).detach().numpy().squeeze()\n",
    "            \n",
    "            df = (pd.DataFrame(relevant_outs,\n",
    "                               columns=col_names)\n",
    "                  .assign(pat_id=batch['target_pids'])\n",
    "                 )\n",
    "            \n",
    "            if full_df_det is None:\n",
    "                full_df_det = df\n",
    "            else:\n",
    "                full_df_det = pd.concat([full_df_det,df])\n",
    "    \n",
    "    full_df_det['adm_index'] = full_df_det.groupby(['pat_id']).cumcount()+1\n",
    "    full_df_det['name'] = name +'_deterministic'\n",
    "    full_df_det = full_df_det.reset_index(drop=True)\n",
    "    \n",
    "    \n",
    "    \n",
    "    # Now to store the true labels\n",
    "    \n",
    "    full_df_golden = None\n",
    "    for i, batch in enumerate(iter(dataloader)):\n",
    "        # get the inputs; data is a list of [inputs, labels]\n",
    "        history_sequences, target_sequences = batch['train_sequences'],batch['target_sequences']\n",
    "\n",
    "        _,lengths = pad_packed_sequence(history_sequences['sequence'])\n",
    "        relevant_positions = [[i+idx*max(lengths) for i in range(e)] for idx,e in enumerate(lengths)]\n",
    "\n",
    "        # just flatten the list\n",
    "        relevant_positions = [item for sublist in relevant_positions for item in sublist]\n",
    "\n",
    "        relevant_labels = target_sequences['sequence'].view(1,-1,target_sequences['sequence'].size()[2])[:,relevant_positions,:].squeeze().detach().numpy()\n",
    "        \n",
    "        df = pd.DataFrame(relevant_labels,columns=col_names).assign(pat_id=batch['target_pids'])\n",
    "        \n",
    "        if full_df_golden is None:\n",
    "            full_df_golden = df\n",
    "        else:\n",
    "            full_df_golden = pd.concat([full_df_golden,df])\n",
    "            \n",
    "    full_df_golden['adm_index'] = full_df_golden.groupby(['pat_id']).cumcount()+1\n",
    "    full_df_golden['name'] = name +'_golden'\n",
    "    full_df_golden = full_df_golden.reset_index(drop=True)\n",
    "            \n",
    "    return full_df,full_df_det,full_df_golden"
   ]
  },
  {
   "cell_type": "code",
   "execution_count": 35,
   "id": "76468bee-1724-40e6-b717-06606a59688b",
   "metadata": {
    "ExecuteTime": {
     "end_time": "2021-09-30T10:34:54.322723Z",
     "start_time": "2021-09-30T10:34:43.224339Z"
    }
   },
   "outputs": [],
   "source": [
    "var,det,golden = variational_forward(new_model,val_dataloader,dataset,'validation',num_passes=num_passes)"
   ]
  },
  {
   "cell_type": "markdown",
   "id": "5e5daf7b-ba7e-4c95-8da3-4953e766807a",
   "metadata": {},
   "source": [
    "# save into file"
   ]
  },
  {
   "cell_type": "code",
   "execution_count": 39,
   "id": "4f756957-b8bf-44ca-91a7-31f2ff743c78",
   "metadata": {
    "ExecuteTime": {
     "end_time": "2021-09-30T10:42:35.202019Z",
     "start_time": "2021-09-30T10:42:35.196820Z"
    }
   },
   "outputs": [],
   "source": [
    "save_var_path = os.path.join(experiment_folder,'variational_forward.csv')\n",
    "save_det_path = os.path.join(experiment_folder,'deterministic_forward.csv')\n",
    "save_golden_path = os.path.join(experiment_folder,'golden.csv')"
   ]
  },
  {
   "cell_type": "code",
   "execution_count": 40,
   "id": "de16f3ed-f559-434b-91b2-19618b59620d",
   "metadata": {
    "ExecuteTime": {
     "end_time": "2021-09-30T10:42:49.758388Z",
     "start_time": "2021-09-30T10:42:37.429445Z"
    }
   },
   "outputs": [],
   "source": [
    "mapping = {save_var_path:var,\n",
    "       save_det_path:det,\n",
    "       save_golden_path:golden\n",
    "      }\n",
    "for save_path in mapping:\n",
    "    mapping[save_path].to_csv(save_path,index=False)\n",
    "    \n",
    "# also save metadata\n",
    "metadata = dict(model=model_name,\n",
    "                num_passes=num_passes,\n",
    "                dataset_id=dataset_id\n",
    "               )\n",
    "\n",
    "metadata_path = os.path.join(experiment_folder,'metadata.json')\n",
    "with open(metadata_path,'w') as f:\n",
    "    json.dump(metadata,f)\n",
    "    \n",
    "print('Saved!')"
   ]
  },
  {
   "cell_type": "markdown",
   "id": "a4239f0b-f245-475e-890c-8dad707d14a7",
   "metadata": {},
   "source": [
    "# test it out"
   ]
  },
  {
   "cell_type": "code",
   "execution_count": 43,
   "id": "b7c199ce-622f-463a-9ccc-11bf9f706299",
   "metadata": {},
   "outputs": [
    {
     "data": {
      "text/html": [
       "<div>\n",
       "<style scoped>\n",
       "    .dataframe tbody tr th:only-of-type {\n",
       "        vertical-align: middle;\n",
       "    }\n",
       "\n",
       "    .dataframe tbody tr th {\n",
       "        vertical-align: top;\n",
       "    }\n",
       "\n",
       "    .dataframe thead th {\n",
       "        text-align: right;\n",
       "    }\n",
       "</style>\n",
       "<table border=\"1\" class=\"dataframe\">\n",
       "  <thead>\n",
       "    <tr style=\"text-align: right;\">\n",
       "      <th></th>\n",
       "      <th>diag_0</th>\n",
       "      <th>diag_1</th>\n",
       "      <th>diag_2</th>\n",
       "      <th>diag_3</th>\n",
       "      <th>diag_4</th>\n",
       "      <th>diag_5</th>\n",
       "      <th>diag_6</th>\n",
       "      <th>diag_7</th>\n",
       "      <th>diag_8</th>\n",
       "      <th>diag_9</th>\n",
       "      <th>...</th>\n",
       "      <th>diag_266</th>\n",
       "      <th>diag_267</th>\n",
       "      <th>diag_268</th>\n",
       "      <th>diag_269</th>\n",
       "      <th>diag_270</th>\n",
       "      <th>diag_271</th>\n",
       "      <th>pat_id</th>\n",
       "      <th>npass</th>\n",
       "      <th>adm_index</th>\n",
       "      <th>name</th>\n",
       "    </tr>\n",
       "  </thead>\n",
       "  <tbody>\n",
       "    <tr>\n",
       "      <th>0</th>\n",
       "      <td>0.002717</td>\n",
       "      <td>0.296440</td>\n",
       "      <td>0.14781</td>\n",
       "      <td>0.060906</td>\n",
       "      <td>0.000900</td>\n",
       "      <td>0.007469</td>\n",
       "      <td>0.004407</td>\n",
       "      <td>0.006102</td>\n",
       "      <td>0.000658</td>\n",
       "      <td>0.022718</td>\n",
       "      <td>...</td>\n",
       "      <td>0.071754</td>\n",
       "      <td>0.117667</td>\n",
       "      <td>0.004013</td>\n",
       "      <td>0.000732</td>\n",
       "      <td>0.001220</td>\n",
       "      <td>0.033151</td>\n",
       "      <td>21</td>\n",
       "      <td>1</td>\n",
       "      <td>1</td>\n",
       "      <td>validation_variational</td>\n",
       "    </tr>\n",
       "    <tr>\n",
       "      <th>1</th>\n",
       "      <td>0.001100</td>\n",
       "      <td>0.102634</td>\n",
       "      <td>0.12115</td>\n",
       "      <td>0.013699</td>\n",
       "      <td>0.000671</td>\n",
       "      <td>0.000878</td>\n",
       "      <td>0.017694</td>\n",
       "      <td>0.004429</td>\n",
       "      <td>0.000642</td>\n",
       "      <td>0.008332</td>\n",
       "      <td>...</td>\n",
       "      <td>0.099391</td>\n",
       "      <td>0.048329</td>\n",
       "      <td>0.000303</td>\n",
       "      <td>0.000429</td>\n",
       "      <td>0.003517</td>\n",
       "      <td>0.017984</td>\n",
       "      <td>23</td>\n",
       "      <td>1</td>\n",
       "      <td>1</td>\n",
       "      <td>validation_variational</td>\n",
       "    </tr>\n",
       "    <tr>\n",
       "      <th>2</th>\n",
       "      <td>0.016359</td>\n",
       "      <td>0.196292</td>\n",
       "      <td>0.08693</td>\n",
       "      <td>0.078287</td>\n",
       "      <td>0.014079</td>\n",
       "      <td>0.083415</td>\n",
       "      <td>0.047873</td>\n",
       "      <td>0.013352</td>\n",
       "      <td>0.000362</td>\n",
       "      <td>0.017130</td>\n",
       "      <td>...</td>\n",
       "      <td>0.162894</td>\n",
       "      <td>0.105277</td>\n",
       "      <td>0.003154</td>\n",
       "      <td>0.001287</td>\n",
       "      <td>0.002007</td>\n",
       "      <td>0.032937</td>\n",
       "      <td>61</td>\n",
       "      <td>1</td>\n",
       "      <td>1</td>\n",
       "      <td>validation_variational</td>\n",
       "    </tr>\n",
       "  </tbody>\n",
       "</table>\n",
       "<p>3 rows × 276 columns</p>\n",
       "</div>"
      ],
      "text/plain": [
       "     diag_0    diag_1   diag_2    diag_3    diag_4    diag_5    diag_6  \\\n",
       "0  0.002717  0.296440  0.14781  0.060906  0.000900  0.007469  0.004407   \n",
       "1  0.001100  0.102634  0.12115  0.013699  0.000671  0.000878  0.017694   \n",
       "2  0.016359  0.196292  0.08693  0.078287  0.014079  0.083415  0.047873   \n",
       "\n",
       "     diag_7    diag_8    diag_9  ...  diag_266  diag_267  diag_268  diag_269  \\\n",
       "0  0.006102  0.000658  0.022718  ...  0.071754  0.117667  0.004013  0.000732   \n",
       "1  0.004429  0.000642  0.008332  ...  0.099391  0.048329  0.000303  0.000429   \n",
       "2  0.013352  0.000362  0.017130  ...  0.162894  0.105277  0.003154  0.001287   \n",
       "\n",
       "   diag_270  diag_271  pat_id  npass  adm_index                    name  \n",
       "0  0.001220  0.033151      21      1          1  validation_variational  \n",
       "1  0.003517  0.017984      23      1          1  validation_variational  \n",
       "2  0.002007  0.032937      61      1          1  validation_variational  \n",
       "\n",
       "[3 rows x 276 columns]"
      ]
     },
     "execution_count": 43,
     "metadata": {},
     "output_type": "execute_result"
    },
    {
     "data": {
      "text/plain": [
       "(58290, 276)"
      ]
     },
     "execution_count": 43,
     "metadata": {},
     "output_type": "execute_result"
    }
   ],
   "source": [
    "df = pd.read_csv(save_var_path)\n",
    "\n",
    "df.head(3)\n",
    "df.shape"
   ]
  },
  {
   "cell_type": "code",
   "execution_count": 44,
   "id": "c5a608e2-0526-4ccc-9c06-d171b3274941",
   "metadata": {},
   "outputs": [
    {
     "data": {
      "text/html": [
       "<div>\n",
       "<style scoped>\n",
       "    .dataframe tbody tr th:only-of-type {\n",
       "        vertical-align: middle;\n",
       "    }\n",
       "\n",
       "    .dataframe tbody tr th {\n",
       "        vertical-align: top;\n",
       "    }\n",
       "\n",
       "    .dataframe thead th {\n",
       "        text-align: right;\n",
       "    }\n",
       "</style>\n",
       "<table border=\"1\" class=\"dataframe\">\n",
       "  <thead>\n",
       "    <tr style=\"text-align: right;\">\n",
       "      <th></th>\n",
       "      <th>diag_0</th>\n",
       "      <th>diag_1</th>\n",
       "      <th>diag_2</th>\n",
       "      <th>diag_3</th>\n",
       "      <th>diag_4</th>\n",
       "      <th>diag_5</th>\n",
       "      <th>diag_6</th>\n",
       "      <th>diag_7</th>\n",
       "      <th>diag_8</th>\n",
       "      <th>diag_9</th>\n",
       "      <th>...</th>\n",
       "      <th>diag_265</th>\n",
       "      <th>diag_266</th>\n",
       "      <th>diag_267</th>\n",
       "      <th>diag_268</th>\n",
       "      <th>diag_269</th>\n",
       "      <th>diag_270</th>\n",
       "      <th>diag_271</th>\n",
       "      <th>pat_id</th>\n",
       "      <th>adm_index</th>\n",
       "      <th>name</th>\n",
       "    </tr>\n",
       "  </thead>\n",
       "  <tbody>\n",
       "    <tr>\n",
       "      <th>0</th>\n",
       "      <td>0.005948</td>\n",
       "      <td>0.174385</td>\n",
       "      <td>0.108250</td>\n",
       "      <td>0.041608</td>\n",
       "      <td>0.009844</td>\n",
       "      <td>0.004907</td>\n",
       "      <td>0.002712</td>\n",
       "      <td>0.006547</td>\n",
       "      <td>0.000586</td>\n",
       "      <td>0.011575</td>\n",
       "      <td>...</td>\n",
       "      <td>0.004836</td>\n",
       "      <td>0.074164</td>\n",
       "      <td>0.111899</td>\n",
       "      <td>0.001364</td>\n",
       "      <td>0.000471</td>\n",
       "      <td>0.002073</td>\n",
       "      <td>0.016945</td>\n",
       "      <td>21</td>\n",
       "      <td>1</td>\n",
       "      <td>validation_deterministic</td>\n",
       "    </tr>\n",
       "    <tr>\n",
       "      <th>1</th>\n",
       "      <td>0.003394</td>\n",
       "      <td>0.106665</td>\n",
       "      <td>0.101157</td>\n",
       "      <td>0.018420</td>\n",
       "      <td>0.001011</td>\n",
       "      <td>0.001089</td>\n",
       "      <td>0.014337</td>\n",
       "      <td>0.003634</td>\n",
       "      <td>0.000576</td>\n",
       "      <td>0.014183</td>\n",
       "      <td>...</td>\n",
       "      <td>0.004345</td>\n",
       "      <td>0.099369</td>\n",
       "      <td>0.050602</td>\n",
       "      <td>0.001039</td>\n",
       "      <td>0.000802</td>\n",
       "      <td>0.006341</td>\n",
       "      <td>0.019711</td>\n",
       "      <td>23</td>\n",
       "      <td>1</td>\n",
       "      <td>validation_deterministic</td>\n",
       "    </tr>\n",
       "    <tr>\n",
       "      <th>2</th>\n",
       "      <td>0.013099</td>\n",
       "      <td>0.187023</td>\n",
       "      <td>0.066681</td>\n",
       "      <td>0.045532</td>\n",
       "      <td>0.008071</td>\n",
       "      <td>0.059498</td>\n",
       "      <td>0.053763</td>\n",
       "      <td>0.014653</td>\n",
       "      <td>0.000972</td>\n",
       "      <td>0.020505</td>\n",
       "      <td>...</td>\n",
       "      <td>0.007737</td>\n",
       "      <td>0.099287</td>\n",
       "      <td>0.104157</td>\n",
       "      <td>0.007525</td>\n",
       "      <td>0.003345</td>\n",
       "      <td>0.003494</td>\n",
       "      <td>0.028888</td>\n",
       "      <td>61</td>\n",
       "      <td>1</td>\n",
       "      <td>validation_deterministic</td>\n",
       "    </tr>\n",
       "  </tbody>\n",
       "</table>\n",
       "<p>3 rows × 275 columns</p>\n",
       "</div>"
      ],
      "text/plain": [
       "     diag_0    diag_1    diag_2    diag_3    diag_4    diag_5    diag_6  \\\n",
       "0  0.005948  0.174385  0.108250  0.041608  0.009844  0.004907  0.002712   \n",
       "1  0.003394  0.106665  0.101157  0.018420  0.001011  0.001089  0.014337   \n",
       "2  0.013099  0.187023  0.066681  0.045532  0.008071  0.059498  0.053763   \n",
       "\n",
       "     diag_7    diag_8    diag_9  ...  diag_265  diag_266  diag_267  diag_268  \\\n",
       "0  0.006547  0.000586  0.011575  ...  0.004836  0.074164  0.111899  0.001364   \n",
       "1  0.003634  0.000576  0.014183  ...  0.004345  0.099369  0.050602  0.001039   \n",
       "2  0.014653  0.000972  0.020505  ...  0.007737  0.099287  0.104157  0.007525   \n",
       "\n",
       "   diag_269  diag_270  diag_271  pat_id  adm_index                      name  \n",
       "0  0.000471  0.002073  0.016945      21          1  validation_deterministic  \n",
       "1  0.000802  0.006341  0.019711      23          1  validation_deterministic  \n",
       "2  0.003345  0.003494  0.028888      61          1  validation_deterministic  \n",
       "\n",
       "[3 rows x 275 columns]"
      ]
     },
     "execution_count": 44,
     "metadata": {},
     "output_type": "execute_result"
    },
    {
     "data": {
      "text/plain": [
       "(1943, 275)"
      ]
     },
     "execution_count": 44,
     "metadata": {},
     "output_type": "execute_result"
    }
   ],
   "source": [
    "df = pd.read_csv(save_det_path)\n",
    "\n",
    "df.head(3)\n",
    "df.shape"
   ]
  },
  {
   "cell_type": "code",
   "execution_count": 45,
   "id": "6adce528-ad03-4c0d-852d-455aef8e2266",
   "metadata": {},
   "outputs": [
    {
     "data": {
      "text/html": [
       "<div>\n",
       "<style scoped>\n",
       "    .dataframe tbody tr th:only-of-type {\n",
       "        vertical-align: middle;\n",
       "    }\n",
       "\n",
       "    .dataframe tbody tr th {\n",
       "        vertical-align: top;\n",
       "    }\n",
       "\n",
       "    .dataframe thead th {\n",
       "        text-align: right;\n",
       "    }\n",
       "</style>\n",
       "<table border=\"1\" class=\"dataframe\">\n",
       "  <thead>\n",
       "    <tr style=\"text-align: right;\">\n",
       "      <th></th>\n",
       "      <th>diag_0</th>\n",
       "      <th>diag_1</th>\n",
       "      <th>diag_2</th>\n",
       "      <th>diag_3</th>\n",
       "      <th>diag_4</th>\n",
       "      <th>diag_5</th>\n",
       "      <th>diag_6</th>\n",
       "      <th>diag_7</th>\n",
       "      <th>diag_8</th>\n",
       "      <th>diag_9</th>\n",
       "      <th>...</th>\n",
       "      <th>diag_265</th>\n",
       "      <th>diag_266</th>\n",
       "      <th>diag_267</th>\n",
       "      <th>diag_268</th>\n",
       "      <th>diag_269</th>\n",
       "      <th>diag_270</th>\n",
       "      <th>diag_271</th>\n",
       "      <th>pat_id</th>\n",
       "      <th>adm_index</th>\n",
       "      <th>name</th>\n",
       "    </tr>\n",
       "  </thead>\n",
       "  <tbody>\n",
       "    <tr>\n",
       "      <th>0</th>\n",
       "      <td>0.0</td>\n",
       "      <td>1.0</td>\n",
       "      <td>1.0</td>\n",
       "      <td>0.0</td>\n",
       "      <td>0.0</td>\n",
       "      <td>0.0</td>\n",
       "      <td>0.0</td>\n",
       "      <td>0.0</td>\n",
       "      <td>0.0</td>\n",
       "      <td>0.0</td>\n",
       "      <td>...</td>\n",
       "      <td>0.0</td>\n",
       "      <td>1.0</td>\n",
       "      <td>0.0</td>\n",
       "      <td>0.0</td>\n",
       "      <td>0.0</td>\n",
       "      <td>0.0</td>\n",
       "      <td>0.0</td>\n",
       "      <td>21</td>\n",
       "      <td>1</td>\n",
       "      <td>validation_golden</td>\n",
       "    </tr>\n",
       "    <tr>\n",
       "      <th>1</th>\n",
       "      <td>0.0</td>\n",
       "      <td>0.0</td>\n",
       "      <td>0.0</td>\n",
       "      <td>0.0</td>\n",
       "      <td>0.0</td>\n",
       "      <td>0.0</td>\n",
       "      <td>0.0</td>\n",
       "      <td>0.0</td>\n",
       "      <td>0.0</td>\n",
       "      <td>0.0</td>\n",
       "      <td>...</td>\n",
       "      <td>0.0</td>\n",
       "      <td>0.0</td>\n",
       "      <td>0.0</td>\n",
       "      <td>0.0</td>\n",
       "      <td>0.0</td>\n",
       "      <td>0.0</td>\n",
       "      <td>0.0</td>\n",
       "      <td>23</td>\n",
       "      <td>1</td>\n",
       "      <td>validation_golden</td>\n",
       "    </tr>\n",
       "    <tr>\n",
       "      <th>2</th>\n",
       "      <td>0.0</td>\n",
       "      <td>1.0</td>\n",
       "      <td>0.0</td>\n",
       "      <td>1.0</td>\n",
       "      <td>0.0</td>\n",
       "      <td>0.0</td>\n",
       "      <td>0.0</td>\n",
       "      <td>1.0</td>\n",
       "      <td>0.0</td>\n",
       "      <td>0.0</td>\n",
       "      <td>...</td>\n",
       "      <td>0.0</td>\n",
       "      <td>0.0</td>\n",
       "      <td>0.0</td>\n",
       "      <td>0.0</td>\n",
       "      <td>0.0</td>\n",
       "      <td>0.0</td>\n",
       "      <td>0.0</td>\n",
       "      <td>61</td>\n",
       "      <td>1</td>\n",
       "      <td>validation_golden</td>\n",
       "    </tr>\n",
       "  </tbody>\n",
       "</table>\n",
       "<p>3 rows × 275 columns</p>\n",
       "</div>"
      ],
      "text/plain": [
       "   diag_0  diag_1  diag_2  diag_3  diag_4  diag_5  diag_6  diag_7  diag_8  \\\n",
       "0     0.0     1.0     1.0     0.0     0.0     0.0     0.0     0.0     0.0   \n",
       "1     0.0     0.0     0.0     0.0     0.0     0.0     0.0     0.0     0.0   \n",
       "2     0.0     1.0     0.0     1.0     0.0     0.0     0.0     1.0     0.0   \n",
       "\n",
       "   diag_9  ...  diag_265  diag_266  diag_267  diag_268  diag_269  diag_270  \\\n",
       "0     0.0  ...       0.0       1.0       0.0       0.0       0.0       0.0   \n",
       "1     0.0  ...       0.0       0.0       0.0       0.0       0.0       0.0   \n",
       "2     0.0  ...       0.0       0.0       0.0       0.0       0.0       0.0   \n",
       "\n",
       "   diag_271  pat_id  adm_index               name  \n",
       "0       0.0      21          1  validation_golden  \n",
       "1       0.0      23          1  validation_golden  \n",
       "2       0.0      61          1  validation_golden  \n",
       "\n",
       "[3 rows x 275 columns]"
      ]
     },
     "execution_count": 45,
     "metadata": {},
     "output_type": "execute_result"
    },
    {
     "data": {
      "text/plain": [
       "(1943, 275)"
      ]
     },
     "execution_count": 45,
     "metadata": {},
     "output_type": "execute_result"
    }
   ],
   "source": [
    "df = pd.read_csv(save_golden_path)\n",
    "\n",
    "df.head(3)\n",
    "df.shape"
   ]
  }
 ],
 "metadata": {
  "kernelspec": {
   "display_name": "Python (thesis)",
   "language": "python",
   "name": "thesis"
  },
  "language_info": {
   "codemirror_mode": {
    "name": "ipython",
    "version": 3
   },
   "file_extension": ".py",
   "mimetype": "text/x-python",
   "name": "python",
   "nbconvert_exporter": "python",
   "pygments_lexer": "ipython3",
   "version": "3.9.7"
  },
  "toc": {
   "base_numbering": 1,
   "nav_menu": {},
   "number_sections": true,
   "sideBar": true,
   "skip_h1_title": false,
   "title_cell": "Table of Contents",
   "title_sidebar": "Contents",
   "toc_cell": false,
   "toc_position": {},
   "toc_section_display": true,
   "toc_window_display": false
  }
 },
 "nbformat": 4,
 "nbformat_minor": 5
}
