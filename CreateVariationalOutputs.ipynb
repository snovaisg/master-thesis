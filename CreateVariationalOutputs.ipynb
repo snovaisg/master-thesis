{
 "cells": [
  {
   "cell_type": "markdown",
   "id": "f639e358-e28a-4f32-a817-84b088e22874",
   "metadata": {},
   "source": [
    "Using a variational model, creates several outputs for each patient in the validation/test set. Saves into csv. The purpose is to do analyses later on "
   ]
  },
  {
   "cell_type": "code",
   "execution_count": 1,
   "id": "914d3248-ac4e-46b8-aef9-05513c8b1219",
   "metadata": {
    "ExecuteTime": {
     "end_time": "2021-10-13T13:13:50.773534Z",
     "start_time": "2021-10-13T13:13:50.759374Z"
    }
   },
   "outputs": [],
   "source": [
    "model_name = 'golden-oath-84'"
   ]
  },
  {
   "cell_type": "code",
   "execution_count": 2,
   "id": "a7e4201b-d96d-4370-a252-90ec49625767",
   "metadata": {
    "ExecuteTime": {
     "end_time": "2021-10-13T13:13:56.817884Z",
     "start_time": "2021-10-13T13:13:51.079218Z"
    }
   },
   "outputs": [],
   "source": [
    "import os\n",
    "import json\n",
    "\n",
    "from rnn_utils import DiagnosesDataset, split_dataset, MYCOLLATE\n",
    "from rnn_utils import train_one_epoch, eval_model\n",
    "\n",
    "from mourga_variational.variational_rnn import VariationalRNN\n",
    "\n",
    "import torch\n",
    "from torch.utils.data import Dataset, DataLoader, random_split\n",
    "from torch import nn\n",
    "from torch.nn.utils.rnn import pack_padded_sequence, pad_packed_sequence, pad_sequence, pack_sequence\n",
    "\n",
    "from sklearn.model_selection import ParameterGrid, ParameterSampler\n",
    "\n",
    "import numpy as np\n",
    "import pandas as pd\n",
    "\n",
    "import wandb"
   ]
  },
  {
   "cell_type": "code",
   "execution_count": 3,
   "id": "af15bbb9-8a6c-451b-b165-6e92de9695b4",
   "metadata": {
    "ExecuteTime": {
     "end_time": "2021-10-13T13:13:56.841284Z",
     "start_time": "2021-10-13T13:13:56.821937Z"
    }
   },
   "outputs": [
    {
     "data": {
      "text/plain": [
       "<torch._C.Generator at 0x12fa16710>"
      ]
     },
     "execution_count": 3,
     "metadata": {},
     "output_type": "execute_result"
    }
   ],
   "source": [
    "# Reproducibility\n",
    "np.random.seed(546)\n",
    "torch.manual_seed(546)\n",
    "torch.cuda.manual_seed(546)\n",
    "\n",
    "torch.backends.cudnn.deterministic = True\n",
    "torch.backends.cudnn.benchmark = False"
   ]
  },
  {
   "cell_type": "code",
   "execution_count": 4,
   "id": "a84724c4-8a25-470f-a2a8-0272466b062a",
   "metadata": {
    "ExecuteTime": {
     "end_time": "2021-10-13T13:13:56.849945Z",
     "start_time": "2021-10-13T13:13:56.845380Z"
    }
   },
   "outputs": [],
   "source": [
    "grouping = 'ccs'\n",
    "batch_size=64"
   ]
  },
  {
   "cell_type": "code",
   "execution_count": 5,
   "id": "b9a9c3a6-2873-4a56-af71-418ba0d64c49",
   "metadata": {
    "ExecuteTime": {
     "end_time": "2021-10-13T13:13:57.468411Z",
     "start_time": "2021-10-13T13:13:56.855085Z"
    }
   },
   "outputs": [
    {
     "data": {
      "text/plain": [
       "6375"
      ]
     },
     "execution_count": 5,
     "metadata": {},
     "output_type": "execute_result"
    },
    {
     "data": {
      "text/plain": [
       "5250"
      ]
     },
     "execution_count": 5,
     "metadata": {},
     "output_type": "execute_result"
    },
    {
     "data": {
      "text/plain": [
       "1125"
      ]
     },
     "execution_count": 5,
     "metadata": {},
     "output_type": "execute_result"
    },
    {
     "data": {
      "text/plain": [
       "1124"
      ]
     },
     "execution_count": 5,
     "metadata": {},
     "output_type": "execute_result"
    }
   ],
   "source": [
    "dataset = DiagnosesDataset('data/model_data.json',grouping)\n",
    "test_size = 0.15\n",
    "eval_size=0.15\n",
    "eval_size_corrected = eval_size/(1-test_size)\n",
    "\n",
    "whole_train_dataset,test_dataset = split_dataset(dataset,test_size)\n",
    "train_dataset, val_dataset = split_dataset(whole_train_dataset,eval_size_corrected)\n",
    "\n",
    "len(whole_train_dataset)\n",
    "len(train_dataset)\n",
    "len(val_dataset)\n",
    "len(test_dataset)\n",
    "\n",
    "whole_train_dataset = DataLoader(whole_train_dataset,batch_size=batch_size,collate_fn=MYCOLLATE(dataset),shuffle=True)\n",
    "train_dataloader = DataLoader(train_dataset,batch_size=batch_size,collate_fn=MYCOLLATE(dataset),shuffle=True)\n",
    "val_dataloader = DataLoader(val_dataset,batch_size=batch_size,collate_fn=MYCOLLATE(dataset)) #batch_size here is arbitrary and doesn't affect total validation speed\n",
    "test_dataloader = DataLoader(test_dataset,batch_size=batch_size,collate_fn=MYCOLLATE(dataset))"
   ]
  },
  {
   "cell_type": "code",
   "execution_count": 6,
   "id": "816c498e-b3ec-49cf-a7c6-db3f3227cc8d",
   "metadata": {
    "ExecuteTime": {
     "end_time": "2021-10-13T13:13:58.270581Z",
     "start_time": "2021-10-13T13:13:58.246086Z"
    }
   },
   "outputs": [
    {
     "data": {
      "text/plain": [
       "<All keys matched successfully>"
      ]
     },
     "execution_count": 6,
     "metadata": {},
     "output_type": "execute_result"
    }
   ],
   "source": [
    "models_base_path = 'models'\n",
    "model_path = os.path.join('models',model_name)\n",
    "\n",
    "# model hyperparameters path\n",
    "hypp_save_path = os.path.join(model_path, \"_\".join([model_name,'hypp.json']))\n",
    "with open(hypp_save_path,'r') as f:\n",
    "    params_loaded = json.load(f)\n",
    "\n",
    "    # weights path\n",
    "weights_save_path = os.path.join('models',\n",
    "                         model_name,\n",
    "                         \"_\".join([model_name,'weights'])\n",
    "                        )\n",
    "\n",
    "new_model = VariationalRNN(**params_loaded)\n",
    "new_model.load_state_dict(torch.load(weights_save_path))"
   ]
  },
  {
   "cell_type": "code",
   "execution_count": 7,
   "id": "7f1d4cd4",
   "metadata": {
    "ExecuteTime": {
     "end_time": "2021-10-13T13:14:17.117369Z",
     "start_time": "2021-10-13T13:14:17.110086Z"
    }
   },
   "outputs": [],
   "source": [
    "model_parameters = filter(lambda p: p.requires_grad, new_model.parameters())\n",
    "params = sum([np.prod(p.size()) for p in model_parameters])"
   ]
  },
  {
   "cell_type": "code",
   "execution_count": 8,
   "id": "2a08d933",
   "metadata": {
    "ExecuteTime": {
     "end_time": "2021-10-13T13:14:22.099669Z",
     "start_time": "2021-10-13T13:14:22.092434Z"
    }
   },
   "outputs": [
    {
     "data": {
      "text/plain": [
       "139672"
      ]
     },
     "execution_count": 8,
     "metadata": {},
     "output_type": "execute_result"
    }
   ],
   "source": [
    "params"
   ]
  },
  {
   "cell_type": "code",
   "execution_count": 19,
   "id": "cc5fc7f7-d648-4920-b8e7-b4e22ef907b5",
   "metadata": {
    "ExecuteTime": {
     "end_time": "2021-09-30T10:34:42.253529Z",
     "start_time": "2021-09-30T10:34:42.233852Z"
    }
   },
   "outputs": [],
   "source": [
    "def variational_forward(model, dataloader, dataset, name, num_passes=2):\n",
    "    \"\"\"\n",
    "    \"\"\"\n",
    "    # to make sure the dropout mask is turned on. But we won't train here\n",
    "    model.train()\n",
    "    \n",
    "    # eg:: ccs, icd9, etc..\n",
    "    code_type = dataset.grouping\n",
    "    \n",
    "    int2code = dataset.grouping_data[code_type]['int2code']\n",
    "    \n",
    "    total_loss = 0\n",
    "    total_seq = 0 #total sequences\n",
    "    \n",
    "    sigmoid = nn.Sigmoid()\n",
    "    \n",
    "    full_df = None\n",
    "    \n",
    "    # variational\n",
    "    \n",
    "    for i, batch in enumerate(iter(dataloader)):\n",
    "        # get the inputs; data is a list of [inputs, labels]\n",
    "        history_sequences, target_sequences = batch['train_sequences'],batch['target_sequences']\n",
    "        \n",
    "        _,lengths = pad_packed_sequence(history_sequences['sequence'])\n",
    "        relevant_positions = [[i+idx*max(lengths) for i in range(e)] for idx,e in enumerate(lengths)]\n",
    "        \n",
    "        # just flatten the list\n",
    "        relevant_positions = [item for sublist in relevant_positions for item in sublist]\n",
    "\n",
    "        for pass_ in range(1,num_passes+1):\n",
    "\n",
    "            outs = model(history_sequences['sequence'])\n",
    "            \n",
    "            outs_flattened = outs.view(1,-1,outs.size()[2])\n",
    "            \n",
    "            relevant_outs = outs_flattened[:,relevant_positions,:]\n",
    "            \n",
    "            relevant_outs = sigmoid(relevant_outs).detach().numpy().squeeze()\n",
    "            \n",
    "            df = pd.DataFrame(relevant_outs).assign(pat_id=batch['target_pids'],npass=pass_)\n",
    "            \n",
    "            if full_df is None:\n",
    "                full_df = df\n",
    "            else:\n",
    "                full_df = pd.concat([full_df,df])\n",
    "    \n",
    "    full_df['adm_index'] = full_df.groupby(['pat_id','npass']).cumcount()+1\n",
    "    full_df['name'] = name+'_variational'\n",
    "    \n",
    "    \n",
    "    # deterministic\n",
    "    \n",
    "    full_df_det = None\n",
    "    model.eval()\n",
    "    with torch.no_grad():\n",
    "         for i, batch in enumerate(iter(dataloader)):\n",
    "            # get the inputs; data is a list of [inputs, labels]\n",
    "            history_sequences, target_sequences = batch['train_sequences'],batch['target_sequences']\n",
    "\n",
    "            _,lengths = pad_packed_sequence(history_sequences['sequence'])\n",
    "            relevant_positions = [[i+idx*max(lengths) for i in range(e)] for idx,e in enumerate(lengths)]\n",
    "\n",
    "            # just flatten the list\n",
    "            relevant_positions = [item for sublist in relevant_positions for item in sublist]\n",
    "            \n",
    "            outs = model(history_sequences['sequence'])\n",
    "            \n",
    "            outs_flattened = outs.view(1,-1,outs.size()[2])\n",
    "            \n",
    "            relevant_outs = outs_flattened[:,relevant_positions,:]\n",
    "            \n",
    "            relevant_outs = sigmoid(relevant_outs).detach().numpy().squeeze()\n",
    "            \n",
    "            df = pd.DataFrame(relevant_outs).assign(pat_id=batch['target_pids'])\n",
    "            \n",
    "            if full_df_det is None:\n",
    "                full_df_det = df\n",
    "            else:\n",
    "                full_df_det = pd.concat([full_df_det,df])\n",
    "    \n",
    "    full_df_det['adm_index'] = full_df_det.groupby(['pat_id']).cumcount()+1\n",
    "    full_df_det['name'] = name +'_deterministic'\n",
    "    \n",
    "    \n",
    "    \n",
    "    # Now to store the true labels\n",
    "    \n",
    "    full_df_golden = None\n",
    "    for i, batch in enumerate(iter(dataloader)):\n",
    "        # get the inputs; data is a list of [inputs, labels]\n",
    "        history_sequences, target_sequences = batch['train_sequences'],batch['target_sequences']\n",
    "\n",
    "        _,lengths = pad_packed_sequence(history_sequences['sequence'])\n",
    "        relevant_positions = [[i+idx*max(lengths) for i in range(e)] for idx,e in enumerate(lengths)]\n",
    "\n",
    "        # just flatten the list\n",
    "        relevant_positions = [item for sublist in relevant_positions for item in sublist]\n",
    "\n",
    "        relevant_labels = target_sequences['sequence'].view(1,-1,target_sequences['sequence'].size()[2])[:,relevant_positions,:].squeeze().detach().numpy()\n",
    "        \n",
    "        df = pd.DataFrame(relevant_labels).assign(pat_id=batch['target_pids'])\n",
    "        \n",
    "        if full_df_golden is None:\n",
    "            full_df_golden = df\n",
    "        else:\n",
    "            full_df_golden = pd.concat([full_df_golden,df])\n",
    "            \n",
    "    full_df_golden['adm_index'] = full_df_golden.groupby(['pat_id']).cumcount()+1\n",
    "    full_df_golden['name'] = name +'_golden'\n",
    "            \n",
    "    return full_df,full_df_det,full_df_golden"
   ]
  },
  {
   "cell_type": "code",
   "execution_count": 20,
   "id": "76468bee-1724-40e6-b717-06606a59688b",
   "metadata": {
    "ExecuteTime": {
     "end_time": "2021-09-30T10:34:54.322723Z",
     "start_time": "2021-09-30T10:34:43.224339Z"
    }
   },
   "outputs": [],
   "source": [
    "var,det,golden = variational_forward(new_model,val_dataloader,dataset,'validation',num_passes=25)"
   ]
  },
  {
   "cell_type": "markdown",
   "id": "5e5daf7b-ba7e-4c95-8da3-4953e766807a",
   "metadata": {},
   "source": [
    "# save into file"
   ]
  },
  {
   "cell_type": "code",
   "execution_count": 24,
   "id": "4f756957-b8bf-44ca-91a7-31f2ff743c78",
   "metadata": {
    "ExecuteTime": {
     "end_time": "2021-09-30T10:42:35.202019Z",
     "start_time": "2021-09-30T10:42:35.196820Z"
    }
   },
   "outputs": [],
   "source": [
    "save_var_path = os.path.join('var_runs',model_name,'variational_forward.csv')\n",
    "save_det_path = os.path.join('var_runs',model_name,'deterministic_forward.csv')\n",
    "save_golden_path = os.path.join('var_runs',model_name,'golden.csv')"
   ]
  },
  {
   "cell_type": "code",
   "execution_count": 25,
   "id": "de16f3ed-f559-434b-91b2-19618b59620d",
   "metadata": {
    "ExecuteTime": {
     "end_time": "2021-09-30T10:42:49.758388Z",
     "start_time": "2021-09-30T10:42:37.429445Z"
    }
   },
   "outputs": [],
   "source": [
    "tmp = {save_var_path:var,save_det_path:det,save_golden_path:golden}\n",
    "for save_path in tmp:\n",
    "    current = ''\n",
    "    for idx,subpath in enumerate(save_path.split('/')[:-1]):\n",
    "        current = os.path.join(current,subpath)\n",
    "        if not os.path.isdir(current):\n",
    "            #print(current)\n",
    "            os.mkdir(current)\n",
    "    tmp[save_path].to_csv(save_path,index=False)"
   ]
  },
  {
   "cell_type": "markdown",
   "id": "a4239f0b-f245-475e-890c-8dad707d14a7",
   "metadata": {},
   "source": [
    "# test it out"
   ]
  },
  {
   "cell_type": "code",
   "execution_count": 116,
   "id": "b7c199ce-622f-463a-9ccc-11bf9f706299",
   "metadata": {},
   "outputs": [],
   "source": [
    "df = pd.read_csv(save_var_path)"
   ]
  },
  {
   "cell_type": "code",
   "execution_count": 117,
   "id": "a5dc4986-b4b1-4ee1-815b-8cbdea697008",
   "metadata": {},
   "outputs": [
    {
     "data": {
      "text/html": [
       "<div>\n",
       "<style scoped>\n",
       "    .dataframe tbody tr th:only-of-type {\n",
       "        vertical-align: middle;\n",
       "    }\n",
       "\n",
       "    .dataframe tbody tr th {\n",
       "        vertical-align: top;\n",
       "    }\n",
       "\n",
       "    .dataframe thead th {\n",
       "        text-align: right;\n",
       "    }\n",
       "</style>\n",
       "<table border=\"1\" class=\"dataframe\">\n",
       "  <thead>\n",
       "    <tr style=\"text-align: right;\">\n",
       "      <th></th>\n",
       "      <th>0</th>\n",
       "      <th>1</th>\n",
       "      <th>2</th>\n",
       "      <th>3</th>\n",
       "      <th>4</th>\n",
       "      <th>5</th>\n",
       "      <th>6</th>\n",
       "      <th>7</th>\n",
       "      <th>8</th>\n",
       "      <th>9</th>\n",
       "      <th>...</th>\n",
       "      <th>266</th>\n",
       "      <th>267</th>\n",
       "      <th>268</th>\n",
       "      <th>269</th>\n",
       "      <th>270</th>\n",
       "      <th>271</th>\n",
       "      <th>pat_id</th>\n",
       "      <th>npass</th>\n",
       "      <th>adm_index</th>\n",
       "      <th>name</th>\n",
       "    </tr>\n",
       "  </thead>\n",
       "  <tbody>\n",
       "    <tr>\n",
       "      <th>0</th>\n",
       "      <td>0.001856</td>\n",
       "      <td>0.138134</td>\n",
       "      <td>0.114620</td>\n",
       "      <td>0.017878</td>\n",
       "      <td>0.000028</td>\n",
       "      <td>0.000119</td>\n",
       "      <td>0.012129</td>\n",
       "      <td>0.004681</td>\n",
       "      <td>0.000156</td>\n",
       "      <td>0.001759</td>\n",
       "      <td>...</td>\n",
       "      <td>0.298088</td>\n",
       "      <td>0.071813</td>\n",
       "      <td>0.002460</td>\n",
       "      <td>0.001180</td>\n",
       "      <td>0.000948</td>\n",
       "      <td>0.008432</td>\n",
       "      <td>57073</td>\n",
       "      <td>1</td>\n",
       "      <td>1</td>\n",
       "      <td>validation_variational</td>\n",
       "    </tr>\n",
       "    <tr>\n",
       "      <th>1</th>\n",
       "      <td>0.007063</td>\n",
       "      <td>0.150442</td>\n",
       "      <td>0.127057</td>\n",
       "      <td>0.020311</td>\n",
       "      <td>0.000066</td>\n",
       "      <td>0.000045</td>\n",
       "      <td>0.010244</td>\n",
       "      <td>0.001438</td>\n",
       "      <td>0.000118</td>\n",
       "      <td>0.003473</td>\n",
       "      <td>...</td>\n",
       "      <td>0.326944</td>\n",
       "      <td>0.193534</td>\n",
       "      <td>0.002313</td>\n",
       "      <td>0.001776</td>\n",
       "      <td>0.001629</td>\n",
       "      <td>0.007794</td>\n",
       "      <td>57073</td>\n",
       "      <td>1</td>\n",
       "      <td>2</td>\n",
       "      <td>validation_variational</td>\n",
       "    </tr>\n",
       "    <tr>\n",
       "      <th>2</th>\n",
       "      <td>0.001551</td>\n",
       "      <td>0.147782</td>\n",
       "      <td>0.104620</td>\n",
       "      <td>0.014406</td>\n",
       "      <td>0.000016</td>\n",
       "      <td>0.000027</td>\n",
       "      <td>0.009318</td>\n",
       "      <td>0.001628</td>\n",
       "      <td>0.000052</td>\n",
       "      <td>0.003650</td>\n",
       "      <td>...</td>\n",
       "      <td>0.251702</td>\n",
       "      <td>0.144012</td>\n",
       "      <td>0.001188</td>\n",
       "      <td>0.000410</td>\n",
       "      <td>0.001214</td>\n",
       "      <td>0.005411</td>\n",
       "      <td>57073</td>\n",
       "      <td>1</td>\n",
       "      <td>3</td>\n",
       "      <td>validation_variational</td>\n",
       "    </tr>\n",
       "  </tbody>\n",
       "</table>\n",
       "<p>3 rows × 276 columns</p>\n",
       "</div>"
      ],
      "text/plain": [
       "          0         1         2         3         4         5         6  \\\n",
       "0  0.001856  0.138134  0.114620  0.017878  0.000028  0.000119  0.012129   \n",
       "1  0.007063  0.150442  0.127057  0.020311  0.000066  0.000045  0.010244   \n",
       "2  0.001551  0.147782  0.104620  0.014406  0.000016  0.000027  0.009318   \n",
       "\n",
       "          7         8         9  ...       266       267       268       269  \\\n",
       "0  0.004681  0.000156  0.001759  ...  0.298088  0.071813  0.002460  0.001180   \n",
       "1  0.001438  0.000118  0.003473  ...  0.326944  0.193534  0.002313  0.001776   \n",
       "2  0.001628  0.000052  0.003650  ...  0.251702  0.144012  0.001188  0.000410   \n",
       "\n",
       "        270       271  pat_id  npass  adm_index                    name  \n",
       "0  0.000948  0.008432   57073      1          1  validation_variational  \n",
       "1  0.001629  0.007794   57073      1          2  validation_variational  \n",
       "2  0.001214  0.005411   57073      1          3  validation_variational  \n",
       "\n",
       "[3 rows x 276 columns]"
      ]
     },
     "execution_count": 117,
     "metadata": {},
     "output_type": "execute_result"
    },
    {
     "data": {
      "text/plain": [
       "(46450, 276)"
      ]
     },
     "execution_count": 117,
     "metadata": {},
     "output_type": "execute_result"
    }
   ],
   "source": [
    "df.head(3)\n",
    "df.shape"
   ]
  },
  {
   "cell_type": "code",
   "execution_count": 118,
   "id": "c5a608e2-0526-4ccc-9c06-d171b3274941",
   "metadata": {},
   "outputs": [],
   "source": [
    "df = pd.read_csv(save_det_path)"
   ]
  },
  {
   "cell_type": "code",
   "execution_count": 119,
   "id": "b852714d-dd2e-4ce0-80d5-0347cb596474",
   "metadata": {},
   "outputs": [
    {
     "data": {
      "text/html": [
       "<div>\n",
       "<style scoped>\n",
       "    .dataframe tbody tr th:only-of-type {\n",
       "        vertical-align: middle;\n",
       "    }\n",
       "\n",
       "    .dataframe tbody tr th {\n",
       "        vertical-align: top;\n",
       "    }\n",
       "\n",
       "    .dataframe thead th {\n",
       "        text-align: right;\n",
       "    }\n",
       "</style>\n",
       "<table border=\"1\" class=\"dataframe\">\n",
       "  <thead>\n",
       "    <tr style=\"text-align: right;\">\n",
       "      <th></th>\n",
       "      <th>0</th>\n",
       "      <th>1</th>\n",
       "      <th>2</th>\n",
       "      <th>3</th>\n",
       "      <th>4</th>\n",
       "      <th>5</th>\n",
       "      <th>6</th>\n",
       "      <th>7</th>\n",
       "      <th>8</th>\n",
       "      <th>9</th>\n",
       "      <th>...</th>\n",
       "      <th>265</th>\n",
       "      <th>266</th>\n",
       "      <th>267</th>\n",
       "      <th>268</th>\n",
       "      <th>269</th>\n",
       "      <th>270</th>\n",
       "      <th>271</th>\n",
       "      <th>pat_id</th>\n",
       "      <th>adm_index</th>\n",
       "      <th>name</th>\n",
       "    </tr>\n",
       "  </thead>\n",
       "  <tbody>\n",
       "    <tr>\n",
       "      <th>0</th>\n",
       "      <td>0.001139</td>\n",
       "      <td>0.075773</td>\n",
       "      <td>0.084585</td>\n",
       "      <td>0.023194</td>\n",
       "      <td>0.000018</td>\n",
       "      <td>0.000688</td>\n",
       "      <td>0.008969</td>\n",
       "      <td>0.006719</td>\n",
       "      <td>0.000329</td>\n",
       "      <td>0.001288</td>\n",
       "      <td>...</td>\n",
       "      <td>0.001133</td>\n",
       "      <td>0.344245</td>\n",
       "      <td>0.039821</td>\n",
       "      <td>0.001351</td>\n",
       "      <td>0.002167</td>\n",
       "      <td>0.000913</td>\n",
       "      <td>0.015739</td>\n",
       "      <td>57073</td>\n",
       "      <td>1</td>\n",
       "      <td>validation_deterministic</td>\n",
       "    </tr>\n",
       "    <tr>\n",
       "      <th>1</th>\n",
       "      <td>0.004444</td>\n",
       "      <td>0.141498</td>\n",
       "      <td>0.099273</td>\n",
       "      <td>0.025310</td>\n",
       "      <td>0.000119</td>\n",
       "      <td>0.000456</td>\n",
       "      <td>0.009971</td>\n",
       "      <td>0.003447</td>\n",
       "      <td>0.000193</td>\n",
       "      <td>0.002948</td>\n",
       "      <td>...</td>\n",
       "      <td>0.002121</td>\n",
       "      <td>0.233177</td>\n",
       "      <td>0.116428</td>\n",
       "      <td>0.002726</td>\n",
       "      <td>0.010303</td>\n",
       "      <td>0.001500</td>\n",
       "      <td>0.013493</td>\n",
       "      <td>57073</td>\n",
       "      <td>2</td>\n",
       "      <td>validation_deterministic</td>\n",
       "    </tr>\n",
       "    <tr>\n",
       "      <th>2</th>\n",
       "      <td>0.000986</td>\n",
       "      <td>0.078300</td>\n",
       "      <td>0.087702</td>\n",
       "      <td>0.020546</td>\n",
       "      <td>0.000011</td>\n",
       "      <td>0.000237</td>\n",
       "      <td>0.004596</td>\n",
       "      <td>0.004172</td>\n",
       "      <td>0.000128</td>\n",
       "      <td>0.001062</td>\n",
       "      <td>...</td>\n",
       "      <td>0.000851</td>\n",
       "      <td>0.257091</td>\n",
       "      <td>0.073811</td>\n",
       "      <td>0.000787</td>\n",
       "      <td>0.001843</td>\n",
       "      <td>0.000998</td>\n",
       "      <td>0.015166</td>\n",
       "      <td>57073</td>\n",
       "      <td>3</td>\n",
       "      <td>validation_deterministic</td>\n",
       "    </tr>\n",
       "  </tbody>\n",
       "</table>\n",
       "<p>3 rows × 275 columns</p>\n",
       "</div>"
      ],
      "text/plain": [
       "          0         1         2         3         4         5         6  \\\n",
       "0  0.001139  0.075773  0.084585  0.023194  0.000018  0.000688  0.008969   \n",
       "1  0.004444  0.141498  0.099273  0.025310  0.000119  0.000456  0.009971   \n",
       "2  0.000986  0.078300  0.087702  0.020546  0.000011  0.000237  0.004596   \n",
       "\n",
       "          7         8         9  ...       265       266       267       268  \\\n",
       "0  0.006719  0.000329  0.001288  ...  0.001133  0.344245  0.039821  0.001351   \n",
       "1  0.003447  0.000193  0.002948  ...  0.002121  0.233177  0.116428  0.002726   \n",
       "2  0.004172  0.000128  0.001062  ...  0.000851  0.257091  0.073811  0.000787   \n",
       "\n",
       "        269       270       271  pat_id  adm_index                      name  \n",
       "0  0.002167  0.000913  0.015739   57073          1  validation_deterministic  \n",
       "1  0.010303  0.001500  0.013493   57073          2  validation_deterministic  \n",
       "2  0.001843  0.000998  0.015166   57073          3  validation_deterministic  \n",
       "\n",
       "[3 rows x 275 columns]"
      ]
     },
     "execution_count": 119,
     "metadata": {},
     "output_type": "execute_result"
    },
    {
     "data": {
      "text/plain": [
       "(1858, 275)"
      ]
     },
     "execution_count": 119,
     "metadata": {},
     "output_type": "execute_result"
    }
   ],
   "source": [
    "df.head(3)\n",
    "df.shape"
   ]
  }
 ],
 "metadata": {
  "kernelspec": {
   "display_name": "Python 3 (ipykernel)",
   "language": "python",
   "name": "python3"
  },
  "language_info": {
   "codemirror_mode": {
    "name": "ipython",
    "version": 3
   },
   "file_extension": ".py",
   "mimetype": "text/x-python",
   "name": "python",
   "nbconvert_exporter": "python",
   "pygments_lexer": "ipython3",
   "version": "3.9.7"
  },
  "toc": {
   "base_numbering": 1,
   "nav_menu": {},
   "number_sections": true,
   "sideBar": true,
   "skip_h1_title": false,
   "title_cell": "Table of Contents",
   "title_sidebar": "Contents",
   "toc_cell": false,
   "toc_position": {},
   "toc_section_display": true,
   "toc_window_display": false
  }
 },
 "nbformat": 4,
 "nbformat_minor": 5
}
