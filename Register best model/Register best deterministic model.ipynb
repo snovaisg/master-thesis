{
 "cells": [
  {
   "cell_type": "markdown",
   "id": "psychological-arabic",
   "metadata": {},
   "source": [
    "## Todos\n",
    "\n",
    "model isn't exactly reproducible. having different results when i load it"
   ]
  },
  {
   "cell_type": "markdown",
   "id": "funky-buffalo",
   "metadata": {},
   "source": [
    "As of 8 March, the best model according to recall@30 (validation set) is registered in wandb in the project \"thesis_basic_deterministic_model_tunning\" and it is called \"pleasant-music-50\"\n",
    "\n",
    "The config is as follow:\n",
    "- type: lstm\n",
    "- hidden_size = 100\n",
    "- lr: 0.01\n",
    "- layers = 1\n",
    "with:\n",
    "- batch_size = 64\n",
    "- dropout: 0.1\n",
    "- epochs: 15\n",
    "and:\n",
    "- recall@30 (validation): 0.7208\n",
    "\n",
    "\n",
    "In this notebook i will create a pickle of this model to be used for later experiments"
   ]
  },
  {
   "cell_type": "markdown",
   "id": "6c95bba6-2272-4eca-8454-d8c3e976d834",
   "metadata": {},
   "source": [
    "# Change working directory to parent\n",
    "\n",
    "Assumes this script is currently placed in a child folder of the main project."
   ]
  },
  {
   "cell_type": "code",
   "execution_count": 1,
   "id": "19f5522c-31f6-4a4f-abe6-4041ef16ed1e",
   "metadata": {},
   "outputs": [],
   "source": [
    "import os\n",
    "cwd = os.getcwd()\n",
    "\n",
    "# protection against running this cell multiple times\n",
    "assert os.path.dirname(cwd).split('/')[-1] == 'master-thesis','Oops, directory already changed previously as indended. Ignoring...'\n",
    "\n",
    "# change working directory (if assert passed)\n",
    "new_cwd = os.path.dirname(cwd) # parent directory\n",
    "os.chdir(new_cwd)"
   ]
  },
  {
   "cell_type": "code",
   "execution_count": 2,
   "id": "898f5a25-f959-4db7-b646-64980ddb03d4",
   "metadata": {},
   "outputs": [],
   "source": [
    "# show all outputs\n",
    "from IPython.core.interactiveshell import InteractiveShell\n",
    "InteractiveShell.ast_node_interactivity = \"all\""
   ]
  },
  {
   "cell_type": "code",
   "execution_count": 3,
   "id": "elegant-tension",
   "metadata": {},
   "outputs": [],
   "source": [
    "model_name = 'pleasant-music-50'"
   ]
  },
  {
   "cell_type": "code",
   "execution_count": 4,
   "id": "whole-mumbai",
   "metadata": {},
   "outputs": [],
   "source": [
    "import os\n",
    "import json\n",
    "\n",
    "from rnn_utils import DiagnosesDataset, split_dataset, MYCOLLATE\n",
    "from rnn_utils import RNN, train_one_epochV2, eval_model\n",
    "\n",
    "from config import Settings; settings = Settings()\n",
    "\n",
    "\n",
    "import torch\n",
    "from torch.utils.data import Dataset, DataLoader, random_split\n",
    "\n",
    "from sklearn.model_selection import ParameterGrid, ParameterSampler\n",
    "\n",
    "import numpy as np\n",
    "import pandas as pd\n",
    "\n",
    "import wandb"
   ]
  },
  {
   "cell_type": "markdown",
   "id": "69e2e305-b184-4d7f-a971-8f7aad6473bc",
   "metadata": {},
   "source": [
    "# Parameters"
   ]
  },
  {
   "cell_type": "code",
   "execution_count": 5,
   "id": "b88f9203-685c-4601-9edb-82b53cacec3f",
   "metadata": {},
   "outputs": [],
   "source": [
    "dataset_id = 'diag_only'"
   ]
  },
  {
   "cell_type": "markdown",
   "id": "synthetic-semester",
   "metadata": {},
   "source": [
    "# Reproducibility"
   ]
  },
  {
   "cell_type": "code",
   "execution_count": 6,
   "id": "amateur-bangkok",
   "metadata": {},
   "outputs": [
    {
     "data": {
      "text/plain": [
       "<torch._C.Generator at 0x10683d870>"
      ]
     },
     "execution_count": 6,
     "metadata": {},
     "output_type": "execute_result"
    }
   ],
   "source": [
    "# Reproducibility\n",
    "seed = settings.random_seed\n",
    "np.random.seed(seed)\n",
    "torch.manual_seed(seed)\n",
    "torch.cuda.manual_seed(seed)\n",
    "\n",
    "torch.backends.cudnn.deterministic = True\n",
    "torch.backends.cudnn.benchmark = False"
   ]
  },
  {
   "cell_type": "markdown",
   "id": "arranged-saskatchewan",
   "metadata": {},
   "source": [
    "# Create dataset"
   ]
  },
  {
   "cell_type": "code",
   "execution_count": 7,
   "id": "social-crest",
   "metadata": {},
   "outputs": [],
   "source": [
    "# hyperparameters of best model\n",
    "grouping = 'ccs'\n",
    "batch_size=64"
   ]
  },
  {
   "cell_type": "code",
   "execution_count": 8,
   "id": "49215b35-2a32-4604-a708-32a4215829a8",
   "metadata": {},
   "outputs": [
    {
     "name": "stdout",
     "output_type": "stream",
     "text": [
      "dataset at data/model_ready_dataset/diag_only\n"
     ]
    }
   ],
   "source": [
    "dataset_folder = os.path.join(settings.data_base,settings.model_ready_dataset_folder,dataset_id)\n",
    "print('dataset at',dataset_folder)"
   ]
  },
  {
   "cell_type": "code",
   "execution_count": 9,
   "id": "composite-governor",
   "metadata": {},
   "outputs": [
    {
     "data": {
      "text/plain": [
       "5249"
      ]
     },
     "execution_count": 9,
     "metadata": {},
     "output_type": "execute_result"
    },
    {
     "data": {
      "text/plain": [
       "1125"
      ]
     },
     "execution_count": 9,
     "metadata": {},
     "output_type": "execute_result"
    },
    {
     "data": {
      "text/plain": [
       "1125"
      ]
     },
     "execution_count": 9,
     "metadata": {},
     "output_type": "execute_result"
    }
   ],
   "source": [
    "dataset = DiagnosesDataset(os.path.join(dataset_folder,'dataset.json'),grouping)\n",
    "\n",
    "train_dataset = DiagnosesDataset(os.path.join(dataset_folder,'train_subset.json'),grouping)\n",
    "val_dataset = DiagnosesDataset(os.path.join(dataset_folder,'val_subset.json'),grouping)\n",
    "test_dataset = DiagnosesDataset(os.path.join(dataset_folder,'test_subset.json'),grouping)\n",
    "\n",
    "\n",
    "len(train_dataset)\n",
    "len(val_dataset)\n",
    "len(test_dataset)\n",
    "\n",
    "\n",
    "train_dataloader = DataLoader(train_dataset,batch_size=batch_size,collate_fn=MYCOLLATE(dataset),shuffle=True)\n",
    "val_dataloader = DataLoader(val_dataset,batch_size=batch_size,collate_fn=MYCOLLATE(dataset)) #batch_size here is arbitrary and doesn't affect total validation speed\n",
    "test_dataloader = DataLoader(test_dataset,batch_size=batch_size,collate_fn=MYCOLLATE(dataset))"
   ]
  },
  {
   "cell_type": "markdown",
   "id": "hired-disney",
   "metadata": {},
   "source": [
    "# Define model"
   ]
  },
  {
   "cell_type": "markdown",
   "id": "dental-parallel",
   "metadata": {},
   "source": [
    "## Hyperparameters"
   ]
  },
  {
   "cell_type": "code",
   "execution_count": 10,
   "id": "metropolitan-carnival",
   "metadata": {},
   "outputs": [],
   "source": [
    "# remaining hyperparameters of best model\n",
    "input_size = next(iter(train_dataloader))['target_sequences']['sequence'].shape[2]\n",
    "hidden_size = 100\n",
    "num_layers = 1\n",
    "n_labels = input_size\n",
    "rnn_type = 'lstm'\n",
    "\n",
    "lr = 0.01\n",
    "\n",
    "n_labels = input_size\n",
    "epochs = 15\n",
    "criterion = torch.nn.BCEWithLogitsLoss()"
   ]
  },
  {
   "cell_type": "markdown",
   "id": "unable-thumbnail",
   "metadata": {},
   "source": [
    "# Train"
   ]
  },
  {
   "cell_type": "code",
   "execution_count": 11,
   "id": "5be42d18-521a-4549-bec9-2f6fdaa6753b",
   "metadata": {
    "tags": []
   },
   "outputs": [
    {
     "name": "stdout",
     "output_type": "stream",
     "text": [
      "0.1846988462757251\n",
      "0.1287309127332806\n",
      "0.12318086674532976\n",
      "0.11886282878855363\n",
      "0.11449396955600621\n",
      "0.11097808594098539\n",
      "0.10843475531565964\n",
      "0.10587892582926896\n",
      "0.104352167128351\n",
      "0.10266277551028312\n",
      "0.10054703183431396\n",
      "0.09936635462455985\n",
      "0.09802917474665085\n",
      "0.09667592038636906\n",
      "0.09532710488964995\n"
     ]
    }
   ],
   "source": [
    "model = RNN(input_size=input_size,\n",
    "            hidden_size=hidden_size,\n",
    "            num_layers=num_layers,\n",
    "            n_labels=n_labels,\n",
    "            model=rnn_type,\n",
    "            )\n",
    "    \n",
    "optimizer = torch.optim.Adam(model.parameters(), lr=lr)\n",
    "\n",
    "criterion = torch.nn.BCEWithLogitsLoss(reduction='none')\n",
    "\n",
    "for epoch in range(1,epochs+1):\n",
    "    loss = train_one_epochV2(model,train_dataloader,epoch,criterion,optimizer)\n",
    "    print(loss)"
   ]
  },
  {
   "cell_type": "markdown",
   "id": "absolute-requirement",
   "metadata": {},
   "source": [
    "# Eval\n",
    "\n",
    "confirm it has good results"
   ]
  },
  {
   "cell_type": "code",
   "execution_count": 12,
   "id": "b5890fe1-26d9-49bd-a6ab-0243d0a05506",
   "metadata": {},
   "outputs": [
    {
     "name": "stderr",
     "output_type": "stream",
     "text": [
      "/Users/simaonovais/opt/miniconda3/envs/thesis/lib/python3.9/site-packages/numpy/core/fromnumeric.py:3440: RuntimeWarning: Mean of empty slice.\n",
      "  return _methods._mean(a, axis=axis, dtype=dtype,\n",
      "/Users/simaonovais/opt/miniconda3/envs/thesis/lib/python3.9/site-packages/numpy/core/_methods.py:189: RuntimeWarning: invalid value encountered in double_scalars\n",
      "  ret = ret.dtype.type(ret / rcount)\n",
      "/Users/simaonovais/opt/miniconda3/envs/thesis/lib/python3.9/site-packages/numpy/core/_methods.py:262: RuntimeWarning: Degrees of freedom <= 0 for slice\n",
      "  ret = _var(a, axis=axis, dtype=dtype, out=out, ddof=ddof,\n",
      "/Users/simaonovais/opt/miniconda3/envs/thesis/lib/python3.9/site-packages/numpy/core/_methods.py:222: RuntimeWarning: invalid value encountered in true_divide\n",
      "  arrmean = um.true_divide(arrmean, div, out=arrmean, casting='unsafe',\n",
      "/Users/simaonovais/opt/miniconda3/envs/thesis/lib/python3.9/site-packages/numpy/core/_methods.py:254: RuntimeWarning: invalid value encountered in double_scalars\n",
      "  ret = ret.dtype.type(ret / rcount)\n"
     ]
    },
    {
     "data": {
      "text/plain": [
       "{'train_loss': 0.09286758683197474,\n",
       " 'train_recall@30': 0.7970463961291864,\n",
       " 'val_loss': 0.11220189078648884,\n",
       " 'test_loss': 0.11535388418038686,\n",
       " 'recall@30_test': 0.7122651825787929,\n",
       " 'recall@10': 0.4521770107365368,\n",
       " 'recall@20': 0.619266100780294,\n",
       " 'recall@30': 0.7185501911451649,\n",
       " 'n_val_recall@30_last': 1125}"
      ]
     },
     "execution_count": 12,
     "metadata": {},
     "output_type": "execute_result"
    }
   ],
   "source": [
    "train_results = eval_model(model,train_dataloader,dataset, criterion, epoch, 'train_last')\n",
    "val_results = eval_model(model,val_dataloader,dataset, criterion, epoch, 'validation')\n",
    "test_results = eval_model(model,test_dataloader,dataset, criterion, epoch, 'test')\n",
    "res = {'train_loss':train_results['loss'],\n",
    "       'train_recall@30':train_results['last adm']['recall30']['mean'],\n",
    "       'val_loss':val_results['loss'],\n",
    "       'test_loss':test_results['loss'],\n",
    "       'recall@30_test':test_results['last adm']['recall30']['mean'],\n",
    "       'recall@10':val_results['last adm']['recall10']['mean'],\n",
    "       'recall@20':val_results['last adm']['recall20']['mean'],\n",
    "       'recall@30':val_results['last adm']['recall30']['mean'],\n",
    "       'n_val_recall@30_last':val_results['last adm']['recall30']['n']\n",
    "      }\n",
    "res"
   ]
  },
  {
   "cell_type": "markdown",
   "id": "ranking-therapy",
   "metadata": {},
   "source": [
    "## Save model weights and parameters"
   ]
  },
  {
   "cell_type": "code",
   "execution_count": 13,
   "id": "stopped-supplier",
   "metadata": {},
   "outputs": [
    {
     "name": "stdout",
     "output_type": "stream",
     "text": [
      "Model saved!\n"
     ]
    }
   ],
   "source": [
    "model_folder = os.path.join(settings.data_base,settings.models_folder,model_name)\n",
    "\n",
    "if not os.path.isdir(model_folder):\n",
    "    os.mkdir(model_folder)\n",
    "\n",
    "# save weights\n",
    "weights_save_path = os.path.join(model_folder,\"weights\")\n",
    "\n",
    "torch.save(model.state_dict(), \n",
    "           weights_save_path\n",
    "          )\n",
    "print('Model saved!')"
   ]
  },
  {
   "cell_type": "markdown",
   "id": "absolute-cedar",
   "metadata": {},
   "source": [
    "## Save model hyperparameters"
   ]
  },
  {
   "cell_type": "code",
   "execution_count": 14,
   "id": "strong-communications",
   "metadata": {},
   "outputs": [
    {
     "name": "stdout",
     "output_type": "stream",
     "text": [
      "Hyperparameters saved!\n"
     ]
    }
   ],
   "source": [
    "params = dict(input_size = input_size,\n",
    "              hidden_size=hidden_size,\n",
    "              num_layers=num_layers,\n",
    "              n_labels=n_labels,\n",
    "              model=rnn_type\n",
    "             )\n",
    "\n",
    "\n",
    "hypp_save_path = os.path.join(model_folder, 'hyper_parameters.json')\n",
    "\n",
    "with open(hypp_save_path, \"w\") as f:\n",
    "    json.dump(params, f)\n",
    "    \n",
    "print('Hyperparameters saved!')"
   ]
  },
  {
   "cell_type": "markdown",
   "id": "1290c23d-17e9-4ec3-a54e-6226e0d77a57",
   "metadata": {},
   "source": [
    "## Other parameters"
   ]
  },
  {
   "cell_type": "code",
   "execution_count": 15,
   "id": "7fb1b229-c20b-4e88-a24d-2347009a762c",
   "metadata": {},
   "outputs": [
    {
     "name": "stdout",
     "output_type": "stream",
     "text": [
      "Other parameters saved!\n"
     ]
    }
   ],
   "source": [
    "other_params = dict(batch_size=batch_size,\n",
    "                    grouping=grouping,\n",
    "                    epochs=epochs\n",
    "                   )\n",
    "\n",
    "other_params_save_path = os.path.join(model_folder, 'other_params.json')\n",
    "\n",
    "with open(other_params_save_path, \"w\") as f:\n",
    "    json.dump(other_params, f)\n",
    "    \n",
    "print('Other parameters saved!')"
   ]
  },
  {
   "cell_type": "markdown",
   "id": "swiss-short",
   "metadata": {},
   "source": [
    "# Test it out"
   ]
  },
  {
   "cell_type": "markdown",
   "id": "naked-produce",
   "metadata": {},
   "source": [
    "### Read weights and hyperparameters"
   ]
  },
  {
   "cell_type": "code",
   "execution_count": 16,
   "id": "prerequisite-capital",
   "metadata": {},
   "outputs": [],
   "source": [
    "#hyperparameters\n",
    "with open(hypp_save_path,'r') as f:\n",
    "    params_loaded = json.load(f)\n",
    "    \n",
    "# weights\n",
    "weights = torch.load(weights_save_path)"
   ]
  },
  {
   "cell_type": "markdown",
   "id": "light-going",
   "metadata": {},
   "source": [
    "### Create model and load weights"
   ]
  },
  {
   "cell_type": "code",
   "execution_count": 17,
   "id": "designing-water",
   "metadata": {},
   "outputs": [
    {
     "data": {
      "text/plain": [
       "<All keys matched successfully>"
      ]
     },
     "execution_count": 17,
     "metadata": {},
     "output_type": "execute_result"
    }
   ],
   "source": [
    "new_model = RNN(**params_loaded)\n",
    "new_model.load_state_dict(torch.load(weights_save_path))"
   ]
  },
  {
   "cell_type": "markdown",
   "id": "stylish-america",
   "metadata": {},
   "source": [
    "### Evaluate it"
   ]
  },
  {
   "cell_type": "code",
   "execution_count": 18,
   "id": "recognized-toronto",
   "metadata": {},
   "outputs": [
    {
     "data": {
      "text/plain": [
       "{'recall10': {'mean': 0.4521770107365368,\n",
       "  'std': 0.20384737052487178,\n",
       "  'n': 1125},\n",
       " 'recall20': {'mean': 0.619266100780294,\n",
       "  'std': 0.19393583573690798,\n",
       "  'n': 1125},\n",
       " 'recall30': {'mean': 0.7185501911451649, 'std': 0.17084153998634, 'n': 1125}}"
      ]
     },
     "execution_count": 18,
     "metadata": {},
     "output_type": "execute_result"
    }
   ],
   "source": [
    "eval_model(new_model,val_dataloader,dataset, criterion, epoch, 'validation')['last adm']"
   ]
  },
  {
   "cell_type": "markdown",
   "id": "81c1e585-d198-49b1-a2bc-ad5264e0e5ca",
   "metadata": {},
   "source": [
    "# Performance Matches!"
   ]
  }
 ],
 "metadata": {
  "kernelspec": {
   "display_name": "Python (mthesis)",
   "language": "python",
   "name": "mthesis"
  },
  "language_info": {
   "codemirror_mode": {
    "name": "ipython",
    "version": 3
   },
   "file_extension": ".py",
   "mimetype": "text/x-python",
   "name": "python",
   "nbconvert_exporter": "python",
   "pygments_lexer": "ipython3",
   "version": "3.9.7"
  }
 },
 "nbformat": 4,
 "nbformat_minor": 5
}
