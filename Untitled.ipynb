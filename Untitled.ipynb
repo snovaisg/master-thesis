{
 "cells": [
  {
   "cell_type": "code",
   "execution_count": 1,
   "id": "573c26bd-56f2-4f5c-9b5e-67d5a29e560c",
   "metadata": {},
   "outputs": [],
   "source": [
    "from config import Settings\n",
    "from Mimic import Mimic\n",
    "from ICDCodesGrouper import ICDCodesGrouper as Grouper"
   ]
  },
  {
   "cell_type": "code",
   "execution_count": 3,
   "id": "4941271e-9588-4c54-93c8-b5bb4215efaa",
   "metadata": {},
   "outputs": [],
   "source": [
    "grouper = Grouper(Settings())\n",
    "mimic = Mimic(Settings(), grouper)"
   ]
  },
  {
   "cell_type": "code",
   "execution_count": null,
   "id": "c4c49559-13bc-4a57-877f-e7d91fc88c85",
   "metadata": {},
   "outputs": [],
   "source": []
  }
 ],
 "metadata": {
  "kernelspec": {
   "display_name": "Python (thesis)",
   "language": "python",
   "name": "thesis"
  },
  "language_info": {
   "codemirror_mode": {
    "name": "ipython",
    "version": 3
   },
   "file_extension": ".py",
   "mimetype": "text/x-python",
   "name": "python",
   "nbconvert_exporter": "python",
   "pygments_lexer": "ipython3",
   "version": "3.9.7"
  }
 },
 "nbformat": 4,
 "nbformat_minor": 5
}
