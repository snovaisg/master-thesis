{
 "cells": [
  {
   "cell_type": "code",
   "execution_count": 2,
   "id": "9d338475-e5c5-4218-a48d-9a1a9dbee40f",
   "metadata": {},
   "outputs": [],
   "source": [
    "import torch\n",
    "import pandas as pd\n",
    "import numpy as np\n",
    "import matplotlib.pyplot as plt"
   ]
  },
  {
   "cell_type": "code",
   "execution_count": 29,
   "id": "7dd92ac5-4ce5-44f7-8cac-ee73e0ae1b28",
   "metadata": {},
   "outputs": [],
   "source": [
    "logits = ((torch.rand(size=(64,10)) - 0.5) * 10)\n",
    "softmaxes = torch.nn.Softmax(dim=1)(logits)\n",
    "\n",
    "uncertainties = entr(softmaxes)"
   ]
  },
  {
   "cell_type": "code",
   "execution_count": 45,
   "id": "f1f9bb4f-9f79-4942-bd17-795c4b683526",
   "metadata": {},
   "outputs": [
    {
     "data": {
      "text/plain": [
       "<BarContainer object of 5 artists>"
      ]
     },
     "execution_count": 45,
     "metadata": {},
     "output_type": "execute_result"
    },
    {
     "data": {
      "image/png": "[encoded data removed]",
      "text/plain": [
       "<Figure size 432x288 with 1 Axes>"
      ]
     },
     "metadata": {
      "needs_background": "light"
     },
     "output_type": "display_data"
    }
   ],
   "source": [
    "batch_size = 64\n",
    "n_classes = 10\n",
    "\n",
    "# random logits between -5 and 5\n",
    "logits = ((torch.rand(size=(batch_size,n_classes)) - 0.5) * 10)\n",
    "\n",
    "# apply different temperature scalings then check average entropy of the 64 softmax vectors\n",
    "avg_uncertainties = list()\n",
    "T_list = [1,1.5,2,2.5,3]\n",
    "for T in T_list:\n",
    "    logits_scaled = logits / T\n",
    "    softmaxes = torch.nn.Softmax(dim=1)(logits_scaled)\n",
    "    uncertainties = nentr(softmaxes)\n",
    "    avg_uncertainties.append(uncertainties.mean())\n",
    "    \n",
    "plt.bar(T_list,avg_uncertainties,width=0.3)"
   ]
  },
  {
   "cell_type": "markdown",
   "id": "f48f7954-0e27-463f-b61f-4b13742b6bf5",
   "metadata": {},
   "source": [
    "As the temperature increasers, so does the entropy of the softmax vectors!"
   ]
  }
 ],
 "metadata": {
  "kernelspec": {
   "display_name": "Python (thesis)",
   "language": "python",
   "name": "thesis"
  },
  "language_info": {
   "codemirror_mode": {
    "name": "ipython",
    "version": 3
   },
   "file_extension": ".py",
   "mimetype": "text/x-python",
   "name": "python",
   "nbconvert_exporter": "python",
   "pygments_lexer": "ipython3",
   "version": "3.9.7"
  }
 },
 "nbformat": 4,
 "nbformat_minor": 5
}
