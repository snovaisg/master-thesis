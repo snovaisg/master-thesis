{
 "cells": [
  {
   "cell_type": "markdown",
   "id": "1b6caa13",
   "metadata": {},
   "source": [
    "# Stores patient ids eligible to input to model, according to criteria\n",
    "\n",
    "\n",
    "Criteria:\n",
    "1. an admission is only eligible if there are diagnostics associated with it\n",
    "2. Patient must have more than 1 (eligible) admission to the hospital"
   ]
  },
  {
   "cell_type": "code",
   "execution_count": 1,
   "id": "4d1cfacb",
   "metadata": {},
   "outputs": [],
   "source": [
    "import os\n",
    "from Mimic import Mimic\n",
    "from ICDCodesGrouper import ICDCodesGrouper\n",
    "import pandas as pd\n",
    "import numpy as np\n",
    "\n",
    "from config import Settings; settings = Settings()"
   ]
  },
  {
   "cell_type": "code",
   "execution_count": 2,
   "id": "043628c5",
   "metadata": {},
   "outputs": [],
   "source": [
    "grouper = ICDCodesGrouper(settings)\n",
    "mimic = Mimic(settings,grouper=grouper)"
   ]
  },
  {
   "cell_type": "code",
   "execution_count": 3,
   "id": "23b95414",
   "metadata": {},
   "outputs": [
    {
     "name": "stdout",
     "output_type": "stream",
     "text": [
      "nº patients eligible: 7499\n"
     ]
    }
   ],
   "source": [
    "admissions = mimic.read_admissions()\n",
    "diagnoses = mimic.read_diagnoses()\n",
    "\n",
    "# 1. remove admissions without record of diagnoses\n",
    "admissions_without_records= diagnoses.loc[pd.isna(diagnoses.ICD9_CODE),'HADM_ID'].unique()\n",
    "admissions = admissions[~admissions.HADM_ID.isin(admissions_without_records)]\n",
    "# 2. Only interested in patients with multiple admissions\n",
    "mult_adm_patients = admissions.groupby('SUBJECT_ID').size().where(lambda x: x > 1).dropna().index.tolist()\n",
    "\n",
    "# show 5 patients (id)\n",
    "print('nº patients eligible:',len(mult_adm_patients))"
   ]
  },
  {
   "cell_type": "markdown",
   "id": "bd5dae07",
   "metadata": {},
   "source": [
    "# Save eligible patients"
   ]
  },
  {
   "cell_type": "code",
   "execution_count": 5,
   "id": "c99b71cf-6e94-445f-83e5-ba3307944a3b",
   "metadata": {},
   "outputs": [],
   "source": [
    "eligible_base_path = os.path.join(settings.data_base,settings.eligible_patients_folder)\n",
    "filename='eligible_patients_exc.nodiag_single.adm'\n",
    "\n",
    "filepath = os.path.join(eligible_base_path,filename)"
   ]
  },
  {
   "cell_type": "code",
   "execution_count": 8,
   "id": "83b02d64",
   "metadata": {},
   "outputs": [],
   "source": [
    "np.savetxt(filepath+'.txt', mult_adm_patients, fmt='%d',delimiter=',')"
   ]
  }
 ],
 "metadata": {
  "kernelspec": {
   "display_name": "Python (thesis)",
   "language": "python",
   "name": "thesis"
  },
  "language_info": {
   "codemirror_mode": {
    "name": "ipython",
    "version": 3
   },
   "file_extension": ".py",
   "mimetype": "text/x-python",
   "name": "python",
   "nbconvert_exporter": "python",
   "pygments_lexer": "ipython3",
   "version": "3.9.7"
  }
 },
 "nbformat": 4,
 "nbformat_minor": 5
}
