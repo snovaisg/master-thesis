{
 "cells": [
  {
   "cell_type": "markdown",
   "id": "1b6caa13",
   "metadata": {},
   "source": [
    "# Decides which patients may be included in the modelling\n",
    "\n",
    "\n",
    "Criteria:\n",
    "1. an admission is only eligible if there are diagnostics associated with it\n",
    "2. Patient must have more than 1 (eligible) admission to the hospital"
   ]
  },
  {
   "cell_type": "code",
   "execution_count": 10,
   "id": "4d1cfacb",
   "metadata": {},
   "outputs": [],
   "source": [
    "from Mimic import Mimic\n",
    "from ICDCodesGrouper import ICDCodesGrouper\n",
    "import pandas as pd\n",
    "import numpy as np"
   ]
  },
  {
   "cell_type": "code",
   "execution_count": 3,
   "id": "043628c5",
   "metadata": {},
   "outputs": [],
   "source": [
    "grouper = ICDCodesGrouper()\n",
    "mimic = Mimic(grouper=grouper)"
   ]
  },
  {
   "cell_type": "code",
   "execution_count": 19,
   "id": "23b95414",
   "metadata": {},
   "outputs": [
    {
     "name": "stdout",
     "output_type": "stream",
     "text": [
      "nº patients eligible: 7499\n"
     ]
    }
   ],
   "source": [
    "admissions = mimic.read_admissions()\n",
    "diagnoses = mimic.read_diagnoses()\n",
    "\n",
    "# 1. remove admissions without record of diagnoses\n",
    "admissions_without_records= diagnoses.loc[pd.isna(diagnoses.ICD9_CODE),'HADM_ID'].unique()\n",
    "admissions = admissions[~admissions.HADM_ID.isin(admissions_without_records)]\n",
    "# 2. Only interested in patients with multiple admissions\n",
    "mult_adm_patients = admissions.groupby('SUBJECT_ID').size().where(lambda x: x > 1).dropna().index.tolist()\n",
    "\n",
    "# show 5 patients (id)\n",
    "print('nº patients eligible:',len(mult_adm_patients))"
   ]
  },
  {
   "cell_type": "markdown",
   "id": "bd5dae07",
   "metadata": {},
   "source": [
    "# Save eligible patients"
   ]
  },
  {
   "cell_type": "code",
   "execution_count": 15,
   "id": "83b02d64",
   "metadata": {},
   "outputs": [],
   "source": [
    "np.savetxt('data/eligible_patients.txt', mult_adm_patients, fmt='%d',delimiter=',')"
   ]
  }
 ],
 "metadata": {
  "kernelspec": {
   "display_name": "thesis",
   "language": "python",
   "name": "thesis"
  },
  "language_info": {
   "codemirror_mode": {
    "name": "ipython",
    "version": 3
   },
   "file_extension": ".py",
   "mimetype": "text/x-python",
   "name": "python",
   "nbconvert_exporter": "python",
   "pygments_lexer": "ipython3",
   "version": "3.9.4"
  }
 },
 "nbformat": 4,
 "nbformat_minor": 5
}
