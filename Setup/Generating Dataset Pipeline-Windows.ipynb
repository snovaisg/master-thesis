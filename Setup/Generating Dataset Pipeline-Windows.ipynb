{
 "cells": [
  {
   "cell_type": "markdown",
   "id": "779705ff",
   "metadata": {},
   "source": [
    "This pipeline generates the 1st stage of the preprocessed dataset that is meant to be fed to models later on. \n",
    "\n",
    "Structure (json)\n",
    "\n",
    "Each level is a patient\n",
    "\n",
    "- A patient may contain several admissions\n",
    "    - each admission has information:\n",
    "        - codes\n",
    "            - can be formatted in different ways\n",
    "        - timestamps\n",
    "        - clinical notes (todo)\n",
    "\n",
    "# Data structure\n",
    "\n",
    "(easier to visualize in md editor rather than md compiled)\n",
    "\n",
    "{metadata : {groupings: \\[list_of_icd9_groupings\\] <br>\n",
    " data: { <br>\n",
    "  patient_1: { <br>\n",
    "   grouping1: \\[code1,code2,code3\\], <br>\n",
    "   ... <br>\n",
    "   groupingn: \\[code1,code2,code3\\] <br>\n",
    "  }, <br>\n",
    "  ..., <br>\n",
    "  patient_n: {<br>\n",
    "  ...<br>\n",
    "  }<br>\n",
    "}\n",
    "\n",
    "### What is the advantage of having data stored in this way?\n",
    "\n",
    "\n",
    "- data available on demand to input to models, no need to constantly perform data retrieval and preprocessing"
   ]
  },
  {
   "cell_type": "code",
   "execution_count": 1,
   "id": "7aae2c66-8663-41be-94d2-fc075c3c6f10",
   "metadata": {},
   "outputs": [],
   "source": [
    "import os\n",
    "cwd = os.getcwd()\n",
    "\n",
    "# protection against running this cell multiple times\n",
    "assert os.path.dirname(cwd).split('/')[-1] == 'master-thesis','Oops, directory already changed previously as indended. Ignoring...'\n",
    "\n",
    "# change working directory (if assert passed)\n",
    "new_cwd = os.path.dirname(cwd) # parent directory\n",
    "os.chdir(new_cwd)"
   ]
  },
  {
   "cell_type": "code",
   "execution_count": 2,
   "id": "a1d18e00",
   "metadata": {},
   "outputs": [],
   "source": [
    "# show all outputs\n",
    "from IPython.core.interactiveshell import InteractiveShell\n",
    "InteractiveShell.ast_node_interactivity = \"all\""
   ]
  },
  {
   "cell_type": "code",
   "execution_count": 17,
   "id": "fb58bc89",
   "metadata": {
    "ExecuteTime": {
     "end_time": "2021-08-13T09:36:54.809702Z",
     "start_time": "2021-08-13T09:36:54.696462Z"
    }
   },
   "outputs": [],
   "source": [
    "import os\n",
    "from MimicIII import MimicIII\n",
    "from MimicIV import MimicIV\n",
    "from ICDCodesGrouper import ICDCodesGrouper\n",
    "\n",
    "import pandas as pd\n",
    "import numpy as np\n",
    "\n",
    "#from tqdm.notebook import tqdm\n",
    "\n",
    "from torch.utils.data import Dataset\n",
    "from torch import nn\n",
    "import torch\n",
    "from torch.nn.utils.rnn import pack_padded_sequence, pad_packed_sequence, pad_sequence, pack_sequence\n",
    "import torch.nn.functional as F\n",
    "\n",
    "import matplotlib.pyplot as plt\n",
    "import json\n",
    "\n",
    "from config import Settings; settings = Settings()"
   ]
  },
  {
   "cell_type": "code",
   "execution_count": 4,
   "id": "4bcaee8f",
   "metadata": {},
   "outputs": [],
   "source": [
    "grouper = ICDCodesGrouper(settings)\n",
    "mimicIII = MimicIII(settings=settings,grouper=grouper)\n",
    "mimicIV = MimicIV(settings=settings,grouper=grouper)"
   ]
  },
  {
   "cell_type": "markdown",
   "id": "d11d62d9",
   "metadata": {},
   "source": [
    "## Get admissions eligible for modelling"
   ]
  },
  {
   "cell_type": "code",
   "execution_count": 5,
   "id": "06699555",
   "metadata": {},
   "outputs": [
    {
     "name": "stdout",
     "output_type": "stream",
     "text": [
      "len(mimic_III_window_eligible_admissions)=13261\n"
     ]
    }
   ],
   "source": [
    "#possible m [1,3,6,12]\n",
    "m = 6\n",
    "filename = f'mimicIII_eligible_admissions_time_window_{m}m_exc.nodiag_single.window.txt'\n",
    "filepath = os.path.join(settings.data_base,settings.eligible_patients_folder,filename)\n",
    "\n",
    "mimic_III_window_eligible_admissions = np.loadtxt(filepath,dtype=int)\n",
    "print(f\"{len(mimic_III_window_eligible_admissions)=}\")"
   ]
  },
  {
   "cell_type": "markdown",
   "id": "c46130dd",
   "metadata": {},
   "source": [
    "# Timewindows"
   ]
  },
  {
   "cell_type": "code",
   "execution_count": 6,
   "id": "d2e6feb6",
   "metadata": {},
   "outputs": [
    {
     "data": {
      "text/html": [
       "<div>\n",
       "<style scoped>\n",
       "    .dataframe tbody tr th:only-of-type {\n",
       "        vertical-align: middle;\n",
       "    }\n",
       "\n",
       "    .dataframe tbody tr th {\n",
       "        vertical-align: top;\n",
       "    }\n",
       "\n",
       "    .dataframe thead th {\n",
       "        text-align: right;\n",
       "    }\n",
       "</style>\n",
       "<table border=\"1\" class=\"dataframe\">\n",
       "  <thead>\n",
       "    <tr style=\"text-align: right;\">\n",
       "      <th></th>\n",
       "      <th>SUBJECT_ID</th>\n",
       "      <th>HADM_ID</th>\n",
       "      <th>ADMITTIME</th>\n",
       "      <th>DISCHTIME</th>\n",
       "      <th>DEATHTIME</th>\n",
       "      <th>ADMISSION_TYPE</th>\n",
       "      <th>ADMISSION_LOCATION</th>\n",
       "      <th>DISCHARGE_LOCATION</th>\n",
       "      <th>INSURANCE</th>\n",
       "      <th>LANGUAGE</th>\n",
       "      <th>RELIGION</th>\n",
       "      <th>MARITAL_STATUS</th>\n",
       "      <th>ETHNICITY</th>\n",
       "      <th>EDREGTIME</th>\n",
       "      <th>EDOUTTIME</th>\n",
       "      <th>DIAGNOSIS</th>\n",
       "      <th>HOSPITAL_EXPIRE_FLAG</th>\n",
       "      <th>HAS_CHARTEVENTS_DATA</th>\n",
       "    </tr>\n",
       "  </thead>\n",
       "  <tbody>\n",
       "    <tr>\n",
       "      <th>25361</th>\n",
       "      <td>20957</td>\n",
       "      <td>113808</td>\n",
       "      <td>2100-06-24 22:37:00</td>\n",
       "      <td>2100-07-03 12:31:00</td>\n",
       "      <td>NaT</td>\n",
       "      <td>EMERGENCY</td>\n",
       "      <td>EMERGENCY ROOM ADMIT</td>\n",
       "      <td>HOME HEALTH CARE</td>\n",
       "      <td>Private</td>\n",
       "      <td>NaN</td>\n",
       "      <td>PROTESTANT QUAKER</td>\n",
       "      <td>MARRIED</td>\n",
       "      <td>WHITE</td>\n",
       "      <td>2100-06-24 13:37:00</td>\n",
       "      <td>2100-06-25 00:10:00</td>\n",
       "      <td>BILATERAL PNEUMONIA</td>\n",
       "      <td>0</td>\n",
       "      <td>1</td>\n",
       "    </tr>\n",
       "    <tr>\n",
       "      <th>7378</th>\n",
       "      <td>4521</td>\n",
       "      <td>167070</td>\n",
       "      <td>2100-06-28 19:29:00</td>\n",
       "      <td>2100-07-30 11:02:00</td>\n",
       "      <td>NaT</td>\n",
       "      <td>EMERGENCY</td>\n",
       "      <td>EMERGENCY ROOM ADMIT</td>\n",
       "      <td>DISC-TRAN CANCER/CHLDRN H</td>\n",
       "      <td>Medicare</td>\n",
       "      <td>NaN</td>\n",
       "      <td>CATHOLIC</td>\n",
       "      <td>SINGLE</td>\n",
       "      <td>WHITE</td>\n",
       "      <td>NaT</td>\n",
       "      <td>NaT</td>\n",
       "      <td>ISCHEMIC ULCER R GREAT TOE;DIABETES</td>\n",
       "      <td>0</td>\n",
       "      <td>0</td>\n",
       "    </tr>\n",
       "    <tr>\n",
       "      <th>11061</th>\n",
       "      <td>9319</td>\n",
       "      <td>137275</td>\n",
       "      <td>2100-07-01 12:00:00</td>\n",
       "      <td>2100-07-15 16:30:00</td>\n",
       "      <td>NaT</td>\n",
       "      <td>ELECTIVE</td>\n",
       "      <td>PHYS REFERRAL/NORMAL DELI</td>\n",
       "      <td>HOME HEALTH CARE</td>\n",
       "      <td>Medicare</td>\n",
       "      <td>ENGL</td>\n",
       "      <td>PROTESTANT QUAKER</td>\n",
       "      <td>WIDOWED</td>\n",
       "      <td>WHITE</td>\n",
       "      <td>NaT</td>\n",
       "      <td>NaT</td>\n",
       "      <td>LEFT RENAL CA/SDA</td>\n",
       "      <td>0</td>\n",
       "      <td>1</td>\n",
       "    </tr>\n",
       "  </tbody>\n",
       "</table>\n",
       "</div>"
      ],
      "text/plain": [
       "       SUBJECT_ID  HADM_ID           ADMITTIME           DISCHTIME DEATHTIME  \\\n",
       "25361       20957   113808 2100-06-24 22:37:00 2100-07-03 12:31:00       NaT   \n",
       "7378         4521   167070 2100-06-28 19:29:00 2100-07-30 11:02:00       NaT   \n",
       "11061        9319   137275 2100-07-01 12:00:00 2100-07-15 16:30:00       NaT   \n",
       "\n",
       "      ADMISSION_TYPE         ADMISSION_LOCATION         DISCHARGE_LOCATION  \\\n",
       "25361      EMERGENCY       EMERGENCY ROOM ADMIT           HOME HEALTH CARE   \n",
       "7378       EMERGENCY       EMERGENCY ROOM ADMIT  DISC-TRAN CANCER/CHLDRN H   \n",
       "11061       ELECTIVE  PHYS REFERRAL/NORMAL DELI           HOME HEALTH CARE   \n",
       "\n",
       "      INSURANCE LANGUAGE           RELIGION MARITAL_STATUS ETHNICITY  \\\n",
       "25361   Private      NaN  PROTESTANT QUAKER        MARRIED     WHITE   \n",
       "7378   Medicare      NaN           CATHOLIC         SINGLE     WHITE   \n",
       "11061  Medicare     ENGL  PROTESTANT QUAKER        WIDOWED     WHITE   \n",
       "\n",
       "                EDREGTIME           EDOUTTIME  \\\n",
       "25361 2100-06-24 13:37:00 2100-06-25 00:10:00   \n",
       "7378                  NaT                 NaT   \n",
       "11061                 NaT                 NaT   \n",
       "\n",
       "                                 DIAGNOSIS  HOSPITAL_EXPIRE_FLAG  \\\n",
       "25361                  BILATERAL PNEUMONIA                     0   \n",
       "7378   ISCHEMIC ULCER R GREAT TOE;DIABETES                     0   \n",
       "11061                    LEFT RENAL CA/SDA                     0   \n",
       "\n",
       "       HAS_CHARTEVENTS_DATA  \n",
       "25361                     1  \n",
       "7378                      0  \n",
       "11061                     1  "
      ]
     },
     "execution_count": 6,
     "metadata": {},
     "output_type": "execute_result"
    },
    {
     "name": "stdout",
     "output_type": "stream",
     "text": [
      "patients: 4433\n"
     ]
    }
   ],
   "source": [
    "admissions = mimicIII.read_admissions()\n",
    "diagnoses = mimicIII.read_diagnoses()\n",
    "admissions = admissions[admissions.HADM_ID.isin(mimic_III_window_eligible_admissions)]\n",
    "admissions.head(3)\n",
    "\n",
    "print('patients:',admissions.SUBJECT_ID.nunique())"
   ]
  },
  {
   "cell_type": "code",
   "execution_count": 7,
   "id": "6949c818",
   "metadata": {},
   "outputs": [],
   "source": [
    "timewindows = (admissions\n",
    "               .groupby('SUBJECT_ID')\n",
    "               .apply(lambda subdf: (subdf\n",
    "                                     .set_index('ADMITTIME')\n",
    "                                     .sort_index()\n",
    "                                     .resample(f'{m*30}d')\n",
    "                                     .HADM_ID\n",
    "                                     .apply(list)\n",
    "                                    )\n",
    "                     )\n",
    "              )"
   ]
  },
  {
   "cell_type": "code",
   "execution_count": 8,
   "id": "977fc937",
   "metadata": {},
   "outputs": [
    {
     "data": {
      "text/plain": [
       "0     19176\n",
       "1      9045\n",
       "2      1375\n",
       "3       325\n",
       "4        69\n",
       "5        25\n",
       "6         7\n",
       "7         4\n",
       "11        1\n",
       "9         1\n",
       "Name: nº windows per patient distribution, dtype: int64"
      ]
     },
     "execution_count": 8,
     "metadata": {},
     "output_type": "execute_result"
    }
   ],
   "source": [
    "timewindows.apply(len).value_counts().rename('nº windows per patient distribution')"
   ]
  },
  {
   "cell_type": "code",
   "execution_count": 21,
   "id": "4446e0c0-589e-48ab-9a54-3d68757ec2a7",
   "metadata": {},
   "outputs": [
    {
     "data": {
      "text/plain": [
       "count    4433.000000\n",
       "mean      737.257162\n",
       "std       724.537495\n",
       "min         4.000000\n",
       "25%       231.000000\n",
       "50%       464.000000\n",
       "75%      1017.000000\n",
       "max      4121.000000\n",
       "Name: MIMIC-III Median difference between admissions in all patients, dtype: float64"
      ]
     },
     "execution_count": 21,
     "metadata": {},
     "output_type": "execute_result"
    }
   ],
   "source": [
    "admissions.groupby('SUBJECT_ID').ADMITTIME.apply(lambda x: x.diff().median().days).describe().rename('MIMIC-III Median difference between admissions in all patients')"
   ]
  },
  {
   "cell_type": "code",
   "execution_count": null,
   "id": "e906b5fc-cc3d-4e59-9bbc-6925bf3a0589",
   "metadata": {},
   "outputs": [],
   "source": []
  },
  {
   "cell_type": "code",
   "execution_count": 20,
   "id": "b201b406",
   "metadata": {},
   "outputs": [],
   "source": [
    "diagnostic_cols_mimicIII = [col for col in diagnoses if col not in ['ROW_ID','SUBJECT_ID','HADM_ID','SEQ_NUM']]"
   ]
  },
  {
   "cell_type": "code",
   "execution_count": 22,
   "id": "4c6f093b",
   "metadata": {},
   "outputs": [
    {
     "name": "stdout",
     "output_type": "stream",
     "text": [
      "targets\n"
     ]
    },
    {
     "data": {
      "text/plain": [
       "SUBJECT_ID  ADMITTIME \n",
       "23          2156-08-18          []\n",
       "34          2189-07-02          []\n",
       "36          2134-04-14    [165660]\n",
       "85          2165-02-14          []\n",
       "107         2118-02-04          []\n",
       "                            ...   \n",
       "98347       2124-10-11    [177195]\n",
       "98761       2188-12-31          []\n",
       "98813       2131-10-27          []\n",
       "99088       2175-12-06          []\n",
       "99650       2155-05-23          []\n",
       "Name: HADM_ID, Length: 2347, dtype: object"
      ]
     },
     "execution_count": 22,
     "metadata": {},
     "output_type": "execute_result"
    }
   ],
   "source": [
    "# create mask of the targets. \n",
    "# Then for each target gather the features (history up to that point) This will define our datapoints\n",
    "\n",
    "pred_window = m # months\n",
    "\n",
    "windows_w_admissions_mask = timewindows.apply(lambda x: len(x) > 0)\n",
    "targets_mask = windows_w_admissions_mask.groupby('SUBJECT_ID').shift(pred_window,fill_value=False)\n",
    "\n",
    "targets = timewindows[targets_mask]\n",
    "\n",
    "print('targets')\n",
    "targets"
   ]
  },
  {
   "cell_type": "code",
   "execution_count": 23,
   "id": "f7e5f9e2",
   "metadata": {},
   "outputs": [
    {
     "data": {
      "text/plain": [
       "0    1740\n",
       "1     480\n",
       "2      91\n",
       "3      23\n",
       "4      10\n",
       "5       2\n",
       "6       1\n",
       "Name: HADM_ID, dtype: int64"
      ]
     },
     "execution_count": 23,
     "metadata": {},
     "output_type": "execute_result"
    }
   ],
   "source": [
    "targets.apply(len).value_counts()"
   ]
  },
  {
   "cell_type": "code",
   "execution_count": 24,
   "id": "31031d76",
   "metadata": {},
   "outputs": [
    {
     "data": {
      "text/plain": [
       "SUBJECT_ID  ADMITTIME \n",
       "23          2156-08-18          []\n",
       "34          2189-07-02          []\n",
       "36          2134-04-14    [165660]\n",
       "85          2165-02-14          []\n",
       "107         2118-02-04          []\n",
       "                            ...   \n",
       "98347       2124-10-11    [177195]\n",
       "98761       2188-12-31          []\n",
       "98813       2131-10-27          []\n",
       "99088       2175-12-06          []\n",
       "99650       2155-05-23          []\n",
       "Name: HADM_ID, Length: 2347, dtype: object"
      ]
     },
     "execution_count": 24,
     "metadata": {},
     "output_type": "execute_result"
    }
   ],
   "source": [
    "targets"
   ]
  },
  {
   "cell_type": "markdown",
   "id": "26e0ba0f",
   "metadata": {},
   "source": [
    "# How many admissions within each target"
   ]
  },
  {
   "cell_type": "code",
   "execution_count": null,
   "id": "6b4cd675",
   "metadata": {},
   "outputs": [],
   "source": []
  },
  {
   "cell_type": "code",
   "execution_count": 12,
   "id": "1a1b3005",
   "metadata": {},
   "outputs": [
    {
     "data": {
      "text/plain": [
       "0    8581\n",
       "1    1847\n",
       "2     123\n",
       "3       3\n",
       "Name: HADM_ID, dtype: int64"
      ]
     },
     "execution_count": 12,
     "metadata": {},
     "output_type": "execute_result"
    }
   ],
   "source": [
    "targets.apply(len).value_counts()"
   ]
  },
  {
   "cell_type": "code",
   "execution_count": null,
   "id": "628fb2fa",
   "metadata": {},
   "outputs": [],
   "source": []
  },
  {
   "cell_type": "code",
   "execution_count": null,
   "id": "a2decc12",
   "metadata": {},
   "outputs": [],
   "source": []
  },
  {
   "cell_type": "code",
   "execution_count": 143,
   "id": "0219563e",
   "metadata": {},
   "outputs": [
    {
     "data": {
      "text/plain": [
       "0                ([194023],)\n",
       "1                      ([],)\n",
       "2                ([109451],)\n",
       "3                      ([],)\n",
       "4                ([152223],)\n",
       "                ...         \n",
       "16945                  ([],)\n",
       "16946            ([164914],)\n",
       "16947                  ([],)\n",
       "16948            ([151454],)\n",
       "16949    ([151454, 112748],)\n",
       "Length: 16950, dtype: object"
      ]
     },
     "execution_count": 143,
     "metadata": {},
     "output_type": "execute_result"
    }
   ],
   "source": [
    "idx = pd.IndexSlice\n",
    "#admissions_w_index = admissions.set_index(['SUBJECT_ID','ADMITTIME']).sort_index() # to speed up queries below\n",
    "targets.to_frame().reset_index().apply(lambda row: \n",
    "                         (admissions_w_index\n",
    "                          .loc[idx[row.SUBJECT_ID,:row.ADMITTIME],'HADM_ID'],\n",
    "                         ),\n",
    "                         axis=1\n",
    "                        )"
   ]
  },
  {
   "cell_type": "code",
   "execution_count": 148,
   "id": "e4a4881d",
   "metadata": {},
   "outputs": [
    {
     "data": {
      "text/html": [
       "<div>\n",
       "<style scoped>\n",
       "    .dataframe tbody tr th:only-of-type {\n",
       "        vertical-align: middle;\n",
       "    }\n",
       "\n",
       "    .dataframe tbody tr th {\n",
       "        vertical-align: top;\n",
       "    }\n",
       "\n",
       "    .dataframe thead th {\n",
       "        text-align: right;\n",
       "    }\n",
       "</style>\n",
       "<table border=\"1\" class=\"dataframe\">\n",
       "  <thead>\n",
       "    <tr style=\"text-align: right;\">\n",
       "      <th></th>\n",
       "      <th>SUBJECT_ID</th>\n",
       "      <th>HADM_ID</th>\n",
       "      <th>ADMITTIME</th>\n",
       "      <th>DISCHTIME</th>\n",
       "      <th>DEATHTIME</th>\n",
       "      <th>ADMISSION_TYPE</th>\n",
       "      <th>ADMISSION_LOCATION</th>\n",
       "      <th>DISCHARGE_LOCATION</th>\n",
       "      <th>INSURANCE</th>\n",
       "      <th>LANGUAGE</th>\n",
       "      <th>RELIGION</th>\n",
       "      <th>MARITAL_STATUS</th>\n",
       "      <th>ETHNICITY</th>\n",
       "      <th>EDREGTIME</th>\n",
       "      <th>EDOUTTIME</th>\n",
       "      <th>DIAGNOSIS</th>\n",
       "      <th>HOSPITAL_EXPIRE_FLAG</th>\n",
       "      <th>HAS_CHARTEVENTS_DATA</th>\n",
       "    </tr>\n",
       "  </thead>\n",
       "  <tbody>\n",
       "  </tbody>\n",
       "</table>\n",
       "</div>"
      ],
      "text/plain": [
       "Empty DataFrame\n",
       "Columns: [SUBJECT_ID, HADM_ID, ADMITTIME, DISCHTIME, DEATHTIME, ADMISSION_TYPE, ADMISSION_LOCATION, DISCHARGE_LOCATION, INSURANCE, LANGUAGE, RELIGION, MARITAL_STATUS, ETHNICITY, EDREGTIME, EDOUTTIME, DIAGNOSIS, HOSPITAL_EXPIRE_FLAG, HAS_CHARTEVENTS_DATA]\n",
       "Index: []"
      ]
     },
     "execution_count": 148,
     "metadata": {},
     "output_type": "execute_result"
    }
   ],
   "source": [
    "admissions[(admissions.SUBJECT_ID == 21) & (admissions.ADMITTIME < '2134-09-11')]"
   ]
  },
  {
   "cell_type": "code",
   "execution_count": 145,
   "id": "0bc94259",
   "metadata": {},
   "outputs": [
    {
     "data": {
      "text/html": [
       "<div>\n",
       "<style scoped>\n",
       "    .dataframe tbody tr th:only-of-type {\n",
       "        vertical-align: middle;\n",
       "    }\n",
       "\n",
       "    .dataframe tbody tr th {\n",
       "        vertical-align: top;\n",
       "    }\n",
       "\n",
       "    .dataframe thead th {\n",
       "        text-align: right;\n",
       "    }\n",
       "</style>\n",
       "<table border=\"1\" class=\"dataframe\">\n",
       "  <thead>\n",
       "    <tr style=\"text-align: right;\">\n",
       "      <th></th>\n",
       "      <th>SUBJECT_ID</th>\n",
       "      <th>ADMITTIME</th>\n",
       "      <th>HADM_ID</th>\n",
       "    </tr>\n",
       "  </thead>\n",
       "  <tbody>\n",
       "    <tr>\n",
       "      <th>0</th>\n",
       "      <td>17</td>\n",
       "      <td>2135-01-26</td>\n",
       "      <td>[]</td>\n",
       "    </tr>\n",
       "    <tr>\n",
       "      <th>1</th>\n",
       "      <td>21</td>\n",
       "      <td>2134-09-11</td>\n",
       "      <td>[109451]</td>\n",
       "    </tr>\n",
       "    <tr>\n",
       "      <th>2</th>\n",
       "      <td>21</td>\n",
       "      <td>2134-10-11</td>\n",
       "      <td>[]</td>\n",
       "    </tr>\n",
       "    <tr>\n",
       "      <th>3</th>\n",
       "      <td>23</td>\n",
       "      <td>2153-09-03</td>\n",
       "      <td>[152223]</td>\n",
       "    </tr>\n",
       "    <tr>\n",
       "      <th>4</th>\n",
       "      <td>23</td>\n",
       "      <td>2153-10-03</td>\n",
       "      <td>[]</td>\n",
       "    </tr>\n",
       "    <tr>\n",
       "      <th>...</th>\n",
       "      <td>...</td>\n",
       "      <td>...</td>\n",
       "      <td>...</td>\n",
       "    </tr>\n",
       "    <tr>\n",
       "      <th>16945</th>\n",
       "      <td>99923</td>\n",
       "      <td>2201-02-23</td>\n",
       "      <td>[164914]</td>\n",
       "    </tr>\n",
       "    <tr>\n",
       "      <th>16946</th>\n",
       "      <td>99923</td>\n",
       "      <td>2201-03-25</td>\n",
       "      <td>[]</td>\n",
       "    </tr>\n",
       "    <tr>\n",
       "      <th>16947</th>\n",
       "      <td>99982</td>\n",
       "      <td>2156-11-28</td>\n",
       "      <td>[151454]</td>\n",
       "    </tr>\n",
       "    <tr>\n",
       "      <th>16948</th>\n",
       "      <td>99982</td>\n",
       "      <td>2156-12-28</td>\n",
       "      <td>[112748]</td>\n",
       "    </tr>\n",
       "    <tr>\n",
       "      <th>16949</th>\n",
       "      <td>99982</td>\n",
       "      <td>2157-01-27</td>\n",
       "      <td>[183791]</td>\n",
       "    </tr>\n",
       "  </tbody>\n",
       "</table>\n",
       "<p>16950 rows × 3 columns</p>\n",
       "</div>"
      ],
      "text/plain": [
       "       SUBJECT_ID  ADMITTIME   HADM_ID\n",
       "0              17 2135-01-26        []\n",
       "1              21 2134-09-11  [109451]\n",
       "2              21 2134-10-11        []\n",
       "3              23 2153-09-03  [152223]\n",
       "4              23 2153-10-03        []\n",
       "...           ...        ...       ...\n",
       "16945       99923 2201-02-23  [164914]\n",
       "16946       99923 2201-03-25        []\n",
       "16947       99982 2156-11-28  [151454]\n",
       "16948       99982 2156-12-28  [112748]\n",
       "16949       99982 2157-01-27  [183791]\n",
       "\n",
       "[16950 rows x 3 columns]"
      ]
     },
     "execution_count": 145,
     "metadata": {},
     "output_type": "execute_result"
    }
   ],
   "source": [
    "targets.to_frame().reset_index()"
   ]
  },
  {
   "cell_type": "code",
   "execution_count": null,
   "id": "452a4b94",
   "metadata": {},
   "outputs": [],
   "source": [
    "targets.to_frame().apply(lambda row: ,axis=1)"
   ]
  },
  {
   "cell_type": "code",
   "execution_count": null,
   "id": "6228b02f",
   "metadata": {},
   "outputs": [],
   "source": [
    "pd.Series().diff()"
   ]
  },
  {
   "cell_type": "code",
   "execution_count": 42,
   "id": "d06a3635",
   "metadata": {},
   "outputs": [
    {
     "data": {
      "text/plain": [
       "SUBJECT_ID  ADMITTIME \n",
       "17          2134-12-27    [194023]\n",
       "            2135-01-26          []\n",
       "            2135-02-25          []\n",
       "            2135-03-27          []\n",
       "            2135-04-26    [161087]\n",
       "                            ...   \n",
       "99923       2201-03-25          []\n",
       "            2201-04-24    [192053]\n",
       "99982       2156-11-28    [151454]\n",
       "            2156-12-28    [112748]\n",
       "            2157-01-27    [183791]\n",
       "Name: HADM_ID, Length: 175257, dtype: object"
      ]
     },
     "execution_count": 42,
     "metadata": {},
     "output_type": "execute_result"
    }
   ],
   "source": [
    "(timewindows\n",
    " .groupby('SUBJECT_ID')\n",
    " .apply(lambda subdf: )"
   ]
  },
  {
   "cell_type": "code",
   "execution_count": 28,
   "id": "c42448fe",
   "metadata": {},
   "outputs": [],
   "source": [
    "res = (timewindows.iloc[:2]\n",
    "       .apply(lambda row: \n",
    "              pd.DataFrame(\n",
    "                  [\n",
    "                      diagnoses\n",
    "                      .loc[diagnoses.HADM_ID == adm, diagnostic_cols_mimicIII]\n",
    "                      .to_dict(orient='list')\n",
    "                      for adm in row # obtain a list of diagnoses of each admission inside each window\n",
    "                  ]\n",
    "              ).sum() # concat all lists of diagnoses of each admission inside each window to make one big list per window\n",
    "             )\n",
    "      )"
   ]
  },
  {
   "cell_type": "code",
   "execution_count": 29,
   "id": "07101c16",
   "metadata": {},
   "outputs": [],
   "source": [
    "res = (timewindows.iloc[:50]\n",
    "       .apply(lambda row: \n",
    "              pd.DataFrame(\n",
    "                  [\n",
    "                      diagnoses\n",
    "                      .loc[diagnoses.HADM_ID == adm, diagnostic_cols_mimicIII]\n",
    "                      .to_dict(orient='list')\n",
    "                      for adm in row # obtain a list of diagnoses of each admission inside each window\n",
    "                  ]\n",
    "              ).sum() # concat all lists of diagnoses of each admission inside each window to make one big list per window\n",
    "             )\n",
    "      )"
   ]
  },
  {
   "cell_type": "code",
   "execution_count": 32,
   "id": "af0b05a3",
   "metadata": {},
   "outputs": [
    {
     "data": {
      "text/html": [
       "<div>\n",
       "<style scoped>\n",
       "    .dataframe tbody tr th:only-of-type {\n",
       "        vertical-align: middle;\n",
       "    }\n",
       "\n",
       "    .dataframe tbody tr th {\n",
       "        vertical-align: top;\n",
       "    }\n",
       "\n",
       "    .dataframe thead th {\n",
       "        text-align: right;\n",
       "    }\n",
       "</style>\n",
       "<table border=\"1\" class=\"dataframe\">\n",
       "  <thead>\n",
       "    <tr style=\"text-align: right;\">\n",
       "      <th></th>\n",
       "      <th>SUBJECT_ID</th>\n",
       "      <th>HADM_ID</th>\n",
       "      <th>ADMITTIME</th>\n",
       "      <th>DISCHTIME</th>\n",
       "      <th>DEATHTIME</th>\n",
       "      <th>ADMISSION_TYPE</th>\n",
       "      <th>ADMISSION_LOCATION</th>\n",
       "      <th>DISCHARGE_LOCATION</th>\n",
       "      <th>INSURANCE</th>\n",
       "      <th>LANGUAGE</th>\n",
       "      <th>RELIGION</th>\n",
       "      <th>MARITAL_STATUS</th>\n",
       "      <th>ETHNICITY</th>\n",
       "      <th>EDREGTIME</th>\n",
       "      <th>EDOUTTIME</th>\n",
       "      <th>DIAGNOSIS</th>\n",
       "      <th>HOSPITAL_EXPIRE_FLAG</th>\n",
       "      <th>HAS_CHARTEVENTS_DATA</th>\n",
       "    </tr>\n",
       "  </thead>\n",
       "  <tbody>\n",
       "    <tr>\n",
       "      <th>1</th>\n",
       "      <td>23</td>\n",
       "      <td>152223</td>\n",
       "      <td>2153-09-03 07:15:00</td>\n",
       "      <td>2153-09-08 19:10:00</td>\n",
       "      <td>NaT</td>\n",
       "      <td>ELECTIVE</td>\n",
       "      <td>PHYS REFERRAL/NORMAL DELI</td>\n",
       "      <td>HOME HEALTH CARE</td>\n",
       "      <td>Medicare</td>\n",
       "      <td>NaN</td>\n",
       "      <td>CATHOLIC</td>\n",
       "      <td>MARRIED</td>\n",
       "      <td>WHITE</td>\n",
       "      <td>NaT</td>\n",
       "      <td>NaT</td>\n",
       "      <td>CORONARY ARTERY DISEASE\\CORONARY ARTERY BYPASS...</td>\n",
       "      <td>0</td>\n",
       "      <td>1</td>\n",
       "    </tr>\n",
       "    <tr>\n",
       "      <th>2</th>\n",
       "      <td>23</td>\n",
       "      <td>124321</td>\n",
       "      <td>2157-10-18 19:34:00</td>\n",
       "      <td>2157-10-25 14:00:00</td>\n",
       "      <td>NaT</td>\n",
       "      <td>EMERGENCY</td>\n",
       "      <td>TRANSFER FROM HOSP/EXTRAM</td>\n",
       "      <td>HOME HEALTH CARE</td>\n",
       "      <td>Medicare</td>\n",
       "      <td>ENGL</td>\n",
       "      <td>CATHOLIC</td>\n",
       "      <td>MARRIED</td>\n",
       "      <td>WHITE</td>\n",
       "      <td>NaT</td>\n",
       "      <td>NaT</td>\n",
       "      <td>BRAIN MASS</td>\n",
       "      <td>0</td>\n",
       "      <td>1</td>\n",
       "    </tr>\n",
       "  </tbody>\n",
       "</table>\n",
       "</div>"
      ],
      "text/plain": [
       "   SUBJECT_ID  HADM_ID           ADMITTIME           DISCHTIME DEATHTIME  \\\n",
       "1          23   152223 2153-09-03 07:15:00 2153-09-08 19:10:00       NaT   \n",
       "2          23   124321 2157-10-18 19:34:00 2157-10-25 14:00:00       NaT   \n",
       "\n",
       "  ADMISSION_TYPE         ADMISSION_LOCATION DISCHARGE_LOCATION INSURANCE  \\\n",
       "1       ELECTIVE  PHYS REFERRAL/NORMAL DELI   HOME HEALTH CARE  Medicare   \n",
       "2      EMERGENCY  TRANSFER FROM HOSP/EXTRAM   HOME HEALTH CARE  Medicare   \n",
       "\n",
       "  LANGUAGE  RELIGION MARITAL_STATUS ETHNICITY EDREGTIME EDOUTTIME  \\\n",
       "1      NaN  CATHOLIC        MARRIED     WHITE       NaT       NaT   \n",
       "2     ENGL  CATHOLIC        MARRIED     WHITE       NaT       NaT   \n",
       "\n",
       "                                           DIAGNOSIS  HOSPITAL_EXPIRE_FLAG  \\\n",
       "1  CORONARY ARTERY DISEASE\\CORONARY ARTERY BYPASS...                     0   \n",
       "2                                         BRAIN MASS                     0   \n",
       "\n",
       "   HAS_CHARTEVENTS_DATA  \n",
       "1                     1  \n",
       "2                     1  "
      ]
     },
     "execution_count": 32,
     "metadata": {},
     "output_type": "execute_result"
    }
   ],
   "source": [
    "admissions[admissions.SUBJECT_ID == 23]"
   ]
  },
  {
   "cell_type": "code",
   "execution_count": 35,
   "id": "8c0ac752",
   "metadata": {},
   "outputs": [
    {
     "data": {
      "text/html": [
       "<div>\n",
       "<style scoped>\n",
       "    .dataframe tbody tr th:only-of-type {\n",
       "        vertical-align: middle;\n",
       "    }\n",
       "\n",
       "    .dataframe tbody tr th {\n",
       "        vertical-align: top;\n",
       "    }\n",
       "\n",
       "    .dataframe thead th {\n",
       "        text-align: right;\n",
       "    }\n",
       "</style>\n",
       "<table border=\"1\" class=\"dataframe\">\n",
       "  <thead>\n",
       "    <tr style=\"text-align: right;\">\n",
       "      <th></th>\n",
       "      <th>SUBJECT_ID</th>\n",
       "      <th>HADM_ID</th>\n",
       "      <th>ADMITTIME</th>\n",
       "      <th>DISCHTIME</th>\n",
       "      <th>DEATHTIME</th>\n",
       "      <th>ADMISSION_TYPE</th>\n",
       "      <th>ADMISSION_LOCATION</th>\n",
       "      <th>DISCHARGE_LOCATION</th>\n",
       "      <th>INSURANCE</th>\n",
       "      <th>LANGUAGE</th>\n",
       "      <th>RELIGION</th>\n",
       "      <th>MARITAL_STATUS</th>\n",
       "      <th>ETHNICITY</th>\n",
       "      <th>EDREGTIME</th>\n",
       "      <th>EDOUTTIME</th>\n",
       "      <th>DIAGNOSIS</th>\n",
       "      <th>HOSPITAL_EXPIRE_FLAG</th>\n",
       "      <th>HAS_CHARTEVENTS_DATA</th>\n",
       "    </tr>\n",
       "  </thead>\n",
       "  <tbody>\n",
       "    <tr>\n",
       "      <th>25361</th>\n",
       "      <td>20957</td>\n",
       "      <td>113808</td>\n",
       "      <td>2100-06-24 22:37:00</td>\n",
       "      <td>2100-07-03 12:31:00</td>\n",
       "      <td>NaT</td>\n",
       "      <td>EMERGENCY</td>\n",
       "      <td>EMERGENCY ROOM ADMIT</td>\n",
       "      <td>HOME HEALTH CARE</td>\n",
       "      <td>Private</td>\n",
       "      <td>NaN</td>\n",
       "      <td>PROTESTANT QUAKER</td>\n",
       "      <td>MARRIED</td>\n",
       "      <td>WHITE</td>\n",
       "      <td>2100-06-24 13:37:00</td>\n",
       "      <td>2100-06-25 00:10:00</td>\n",
       "      <td>BILATERAL PNEUMONIA</td>\n",
       "      <td>0</td>\n",
       "      <td>1</td>\n",
       "    </tr>\n",
       "    <tr>\n",
       "      <th>7378</th>\n",
       "      <td>4521</td>\n",
       "      <td>167070</td>\n",
       "      <td>2100-06-28 19:29:00</td>\n",
       "      <td>2100-07-30 11:02:00</td>\n",
       "      <td>NaT</td>\n",
       "      <td>EMERGENCY</td>\n",
       "      <td>EMERGENCY ROOM ADMIT</td>\n",
       "      <td>DISC-TRAN CANCER/CHLDRN H</td>\n",
       "      <td>Medicare</td>\n",
       "      <td>NaN</td>\n",
       "      <td>CATHOLIC</td>\n",
       "      <td>SINGLE</td>\n",
       "      <td>WHITE</td>\n",
       "      <td>NaT</td>\n",
       "      <td>NaT</td>\n",
       "      <td>ISCHEMIC ULCER R GREAT TOE;DIABETES</td>\n",
       "      <td>0</td>\n",
       "      <td>0</td>\n",
       "    </tr>\n",
       "  </tbody>\n",
       "</table>\n",
       "</div>"
      ],
      "text/plain": [
       "       SUBJECT_ID  HADM_ID           ADMITTIME           DISCHTIME DEATHTIME  \\\n",
       "25361       20957   113808 2100-06-24 22:37:00 2100-07-03 12:31:00       NaT   \n",
       "7378         4521   167070 2100-06-28 19:29:00 2100-07-30 11:02:00       NaT   \n",
       "\n",
       "      ADMISSION_TYPE    ADMISSION_LOCATION         DISCHARGE_LOCATION  \\\n",
       "25361      EMERGENCY  EMERGENCY ROOM ADMIT           HOME HEALTH CARE   \n",
       "7378       EMERGENCY  EMERGENCY ROOM ADMIT  DISC-TRAN CANCER/CHLDRN H   \n",
       "\n",
       "      INSURANCE LANGUAGE           RELIGION MARITAL_STATUS ETHNICITY  \\\n",
       "25361   Private      NaN  PROTESTANT QUAKER        MARRIED     WHITE   \n",
       "7378   Medicare      NaN           CATHOLIC         SINGLE     WHITE   \n",
       "\n",
       "                EDREGTIME           EDOUTTIME  \\\n",
       "25361 2100-06-24 13:37:00 2100-06-25 00:10:00   \n",
       "7378                  NaT                 NaT   \n",
       "\n",
       "                                 DIAGNOSIS  HOSPITAL_EXPIRE_FLAG  \\\n",
       "25361                  BILATERAL PNEUMONIA                     0   \n",
       "7378   ISCHEMIC ULCER R GREAT TOE;DIABETES                     0   \n",
       "\n",
       "       HAS_CHARTEVENTS_DATA  \n",
       "25361                     1  \n",
       "7378                      0  "
      ]
     },
     "execution_count": 35,
     "metadata": {},
     "output_type": "execute_result"
    }
   ],
   "source": [
    "admissions.head(2)"
   ]
  },
  {
   "cell_type": "code",
   "execution_count": 34,
   "id": "d56e1ffa",
   "metadata": {},
   "outputs": [
    {
     "data": {
      "text/plain": [
       "25361                 NaT\n",
       "7378      3 days 20:52:00\n",
       "11061     2 days 16:31:00\n",
       "37595     1 days 07:28:00\n",
       "17400    12 days 01:24:00\n",
       "               ...       \n",
       "56600    84 days 04:42:00\n",
       "3611    174 days 04:45:00\n",
       "29422   155 days 09:35:00\n",
       "31085    16 days 16:16:00\n",
       "30835   382 days 03:22:00\n",
       "Name: ADMITTIME, Length: 17680, dtype: timedelta64[ns]"
      ]
     },
     "execution_count": 34,
     "metadata": {},
     "output_type": "execute_result"
    }
   ],
   "source": [
    "admissions.ADMITTIME.diff()"
   ]
  },
  {
   "cell_type": "code",
   "execution_count": 39,
   "id": "9986f1f2",
   "metadata": {},
   "outputs": [],
   "source": [
    "res = (admissions\n",
    " .groupby('SUBJECT_ID')\n",
    " .ADMITTIME\n",
    " .apply(lambda series: series.diff().max())\n",
    ")"
   ]
  },
  {
   "cell_type": "code",
   "execution_count": 40,
   "id": "cd1a0f9f",
   "metadata": {},
   "outputs": [
    {
     "data": {
      "text/plain": [
       "SUBJECT_ID\n",
       "17       133 days 06:56:00\n",
       "21       141 days 08:33:00\n",
       "23      1506 days 12:19:00\n",
       "34      1680 days 12:37:00\n",
       "36      1093 days 15:41:00\n",
       "               ...        \n",
       "99822     16 days 23:23:00\n",
       "99883    265 days 06:55:00\n",
       "99897    331 days 17:28:00\n",
       "99923     80 days 16:30:00\n",
       "99982     42 days 00:04:00\n",
       "Name: ADMITTIME, Length: 6397, dtype: timedelta64[ns]"
      ]
     },
     "execution_count": 40,
     "metadata": {},
     "output_type": "execute_result"
    }
   ],
   "source": [
    "res"
   ]
  },
  {
   "cell_type": "code",
   "execution_count": 41,
   "id": "be258cad",
   "metadata": {},
   "outputs": [
    {
     "data": {
      "text/plain": [
       "count                           6397\n",
       "mean     688 days 10:45:04.905424408\n",
       "std      760 days 23:17:29.296653968\n",
       "min                 16 days 23:23:00\n",
       "25%                117 days 07:46:00\n",
       "50%                391 days 12:15:00\n",
       "75%               1011 days 12:53:00\n",
       "max               4121 days 03:16:00\n",
       "Name: ADMITTIME, dtype: object"
      ]
     },
     "execution_count": 41,
     "metadata": {},
     "output_type": "execute_result"
    }
   ],
   "source": [
    "res.describe()"
   ]
  },
  {
   "cell_type": "code",
   "execution_count": 37,
   "id": "2f115332",
   "metadata": {},
   "outputs": [
    {
     "ename": "AttributeError",
     "evalue": "'DataFrame' object has no attribute 'days'",
     "output_type": "error",
     "traceback": [
      "\u001b[0;31m---------------------------------------------------------------------------\u001b[0m",
      "\u001b[0;31mAttributeError\u001b[0m                            Traceback (most recent call last)",
      "Input \u001b[0;32mIn [37]\u001b[0m, in \u001b[0;36m<cell line: 1>\u001b[0;34m()\u001b[0m\n\u001b[0;32m----> 1\u001b[0m \u001b[43mres\u001b[49m\u001b[38;5;241;43m.\u001b[39;49m\u001b[43mdays\u001b[49m\u001b[38;5;241m.\u001b[39mdescribe()\n",
      "File \u001b[0;32m~/Simao/miniconda3/envs/thesis/lib/python3.10/site-packages/pandas/core/generic.py:5575\u001b[0m, in \u001b[0;36mNDFrame.__getattr__\u001b[0;34m(self, name)\u001b[0m\n\u001b[1;32m   5568\u001b[0m \u001b[38;5;28;01mif\u001b[39;00m (\n\u001b[1;32m   5569\u001b[0m     name \u001b[38;5;129;01mnot\u001b[39;00m \u001b[38;5;129;01min\u001b[39;00m \u001b[38;5;28mself\u001b[39m\u001b[38;5;241m.\u001b[39m_internal_names_set\n\u001b[1;32m   5570\u001b[0m     \u001b[38;5;129;01mand\u001b[39;00m name \u001b[38;5;129;01mnot\u001b[39;00m \u001b[38;5;129;01min\u001b[39;00m \u001b[38;5;28mself\u001b[39m\u001b[38;5;241m.\u001b[39m_metadata\n\u001b[1;32m   5571\u001b[0m     \u001b[38;5;129;01mand\u001b[39;00m name \u001b[38;5;129;01mnot\u001b[39;00m \u001b[38;5;129;01min\u001b[39;00m \u001b[38;5;28mself\u001b[39m\u001b[38;5;241m.\u001b[39m_accessors\n\u001b[1;32m   5572\u001b[0m     \u001b[38;5;129;01mand\u001b[39;00m \u001b[38;5;28mself\u001b[39m\u001b[38;5;241m.\u001b[39m_info_axis\u001b[38;5;241m.\u001b[39m_can_hold_identifiers_and_holds_name(name)\n\u001b[1;32m   5573\u001b[0m ):\n\u001b[1;32m   5574\u001b[0m     \u001b[38;5;28;01mreturn\u001b[39;00m \u001b[38;5;28mself\u001b[39m[name]\n\u001b[0;32m-> 5575\u001b[0m \u001b[38;5;28;01mreturn\u001b[39;00m \u001b[38;5;28;43mobject\u001b[39;49m\u001b[38;5;241;43m.\u001b[39;49m\u001b[38;5;21;43m__getattribute__\u001b[39;49m\u001b[43m(\u001b[49m\u001b[38;5;28;43mself\u001b[39;49m\u001b[43m,\u001b[49m\u001b[43m \u001b[49m\u001b[43mname\u001b[49m\u001b[43m)\u001b[49m\n",
      "\u001b[0;31mAttributeError\u001b[0m: 'DataFrame' object has no attribute 'days'"
     ]
    }
   ],
   "source": [
    "res.days.describe()"
   ]
  },
  {
   "cell_type": "markdown",
   "id": "51fe0a84",
   "metadata": {},
   "source": [
    "## Build dictionary of data"
   ]
  },
  {
   "cell_type": "code",
   "execution_count": 21,
   "id": "2a8387d9",
   "metadata": {},
   "outputs": [
    {
     "data": {
      "text/plain": [
       "(19917, 3)"
      ]
     },
     "execution_count": 21,
     "metadata": {},
     "output_type": "execute_result"
    }
   ],
   "source": [
    "adm = mimicIII.read_admissions().where(lambda df: df.SUBJECT_ID.isin(mimic_III_eligible_patients)).dropna(how='all')[['SUBJECT_ID','ADMITTIME','HADM_ID']]\n",
    "adm.head(1)\n",
    "adm.shape"
   ]
  },
  {
   "cell_type": "code",
   "execution_count": 22,
   "id": "9c6e2802",
   "metadata": {},
   "outputs": [
    {
     "name": "stdout",
     "output_type": "stream",
     "text": [
      "No diagnoses found for this admission. Skipping\n",
      "patient 690\n",
      "admission 174817\n",
      "-----\n",
      "\n",
      "No diagnoses found for this admission. Skipping\n",
      "patient 3369\n",
      "admission 126808\n",
      "-----\n",
      "\n",
      "20% done.\n",
      "\n",
      "No diagnoses found for this admission. Skipping\n",
      "patient 11438\n",
      "admission 154602\n",
      "-----\n",
      "\n",
      "40% done.\n",
      "\n",
      "No diagnoses found for this admission. Skipping\n",
      "patient 24975\n",
      "admission 109963\n",
      "-----\n",
      "\n",
      "60% done.\n",
      "\n",
      "No diagnoses found for this admission. Skipping\n",
      "patient 31928\n",
      "admission 153208\n",
      "-----\n",
      "\n",
      "80% done.\n",
      "\n",
      "No diagnoses found for this admission. Skipping\n",
      "patient 73686\n",
      "admission 112990\n",
      "-----\n",
      "\n",
      "100% done.\n",
      "\n"
     ]
    }
   ],
   "source": [
    "# where it all begins\n",
    "data = {}\n",
    "\n",
    "# dumb, error prone way of getting only the columns of icd codings (eg.: icd9,ccs,chapters,etc)\n",
    "grouping_columns = [col for col in mimicIII.read_diagnoses() if col not in [\"ROW_ID\",\"SUBJECT_ID\",\"HADM_ID\",\"SEQ_NUM\"]]\n",
    "\n",
    "print_every = 0.2 # percent\n",
    "current = print_every\n",
    "for idx,p in enumerate(eligible_patients):\n",
    "    \n",
    "    p = int(p)\n",
    "    \n",
    "    data[p] = {}\n",
    "    \n",
    "    p_adm_data = adm[adm.SUBJECT_ID == p]\n",
    "    \n",
    "    # sanity check that all admissions are sorted inside each patient data\n",
    "    assert p_adm_data.ADMITTIME.is_monotonic_increasing, f'Oopsie, p={p}'\n",
    "    \n",
    "    for hadm in p_adm_data['HADM_ID']:\n",
    "        #diagnoses data\n",
    "        diag_data = mimic.get_diagnoses_for_admission(hadm)\n",
    "        \n",
    "        # if no information about diagnostics then ignore\n",
    "        if diag_data.ICD9_CODE.isna().all():\n",
    "            print('No diagnoses found for this admission. Skipping')\n",
    "            print('patient',p)\n",
    "            print('admission',int(hadm))\n",
    "            print('-----\\n')\n",
    "            continue\n",
    "        \n",
    "        # sanity check that diagnostics are sorted (important for future experiments)\n",
    "        assert diag_data.SEQ_NUM.is_monotonic_increasing, f'Oopsie, p={p}, hadm_id={hadm}'\n",
    "        \n",
    "        for grouping in grouping_columns:\n",
    "            if grouping not in data[p].keys():\n",
    "                data[p][grouping] = [diag_data[grouping].tolist()]\n",
    "            else:\n",
    "                data[p][grouping].append(diag_data[grouping].tolist())\n",
    "    if (idx+1)/len(eligible_patients) >= current:\n",
    "        print(f'{int(current*100)}% done.\\n')\n",
    "        current += print_every"
   ]
  },
  {
   "cell_type": "code",
   "execution_count": 23,
   "id": "165c2758",
   "metadata": {},
   "outputs": [],
   "source": [
    "# add metadata of available groupings\n",
    "metadata = {'groupings':grouping_columns}\n",
    "data = {'metadata':metadata,'data':data}"
   ]
  },
  {
   "cell_type": "markdown",
   "id": "a8e06201",
   "metadata": {},
   "source": [
    "# save"
   ]
  },
  {
   "cell_type": "code",
   "execution_count": 24,
   "id": "bcf573f7-f24a-461b-8763-bed5d692f2b8",
   "metadata": {},
   "outputs": [],
   "source": [
    "data_id = 'diag_only'\n",
    "datapath = os.path.join(settings.data_base,settings.model_ready_dataset_folder,data_id)\n",
    "\n",
    "# create folder of this dataset\n",
    "if not os.path.isdir(datapath):\n",
    "    os.mkdir(datapath)"
   ]
  },
  {
   "cell_type": "code",
   "execution_count": 25,
   "id": "9d61e5a1",
   "metadata": {},
   "outputs": [],
   "source": [
    "dataset_filename = 'dataset.json'\n",
    "dataset_filepath = os.path.join(datapath,dataset_filename)\n",
    "\n",
    "with open(dataset_filepath, 'w') as fp:\n",
    "    json.dump(data, fp)"
   ]
  },
  {
   "cell_type": "markdown",
   "id": "62a3e245",
   "metadata": {},
   "source": [
    "# Now for MIMIC-IV"
   ]
  },
  {
   "cell_type": "markdown",
   "id": "383d4765",
   "metadata": {},
   "source": [
    "## Get patients elegible for modelling"
   ]
  },
  {
   "cell_type": "code",
   "execution_count": 5,
   "id": "f0d116f3",
   "metadata": {},
   "outputs": [
    {
     "name": "stdout",
     "output_type": "stream",
     "text": [
      "len(mimic_IV_eligible_patients)=55483\n"
     ]
    }
   ],
   "source": [
    "filename = 'mimicIV_eligible_patients_exc.nodiag_single.adm_no.icd10.txt'\n",
    "filepath = os.path.join(settings.data_base,settings.eligible_patients_folder,filename)\n",
    "\n",
    "mimic_IV_eligible_patients = np.loadtxt(filepath,dtype=int)\n",
    "print(f\"{len(mimic_IV_eligible_patients)=}\")"
   ]
  },
  {
   "cell_type": "markdown",
   "id": "3ab024a6",
   "metadata": {},
   "source": [
    "## Build dictionary of data"
   ]
  },
  {
   "cell_type": "code",
   "execution_count": 6,
   "id": "f9409e41",
   "metadata": {},
   "outputs": [
    {
     "data": {
      "text/html": [
       "<div>\n",
       "<style scoped>\n",
       "    .dataframe tbody tr th:only-of-type {\n",
       "        vertical-align: middle;\n",
       "    }\n",
       "\n",
       "    .dataframe tbody tr th {\n",
       "        vertical-align: top;\n",
       "    }\n",
       "\n",
       "    .dataframe thead th {\n",
       "        text-align: right;\n",
       "    }\n",
       "</style>\n",
       "<table border=\"1\" class=\"dataframe\">\n",
       "  <thead>\n",
       "    <tr style=\"text-align: right;\">\n",
       "      <th></th>\n",
       "      <th>subject_id</th>\n",
       "      <th>admittime</th>\n",
       "      <th>hadm_id</th>\n",
       "    </tr>\n",
       "  </thead>\n",
       "  <tbody>\n",
       "    <tr>\n",
       "      <th>14588</th>\n",
       "      <td>16233333.0</td>\n",
       "      <td>2109-08-31 04:20:00</td>\n",
       "      <td>26733622.0</td>\n",
       "    </tr>\n",
       "  </tbody>\n",
       "</table>\n",
       "</div>"
      ],
      "text/plain": [
       "       subject_id           admittime     hadm_id\n",
       "14588  16233333.0 2109-08-31 04:20:00  26733622.0"
      ]
     },
     "execution_count": 6,
     "metadata": {},
     "output_type": "execute_result"
    },
    {
     "data": {
      "text/plain": [
       "(262727, 3)"
      ]
     },
     "execution_count": 6,
     "metadata": {},
     "output_type": "execute_result"
    }
   ],
   "source": [
    "adm = mimicIV.read_admissions().where(lambda df: df.subject_id.isin(mimic_IV_eligible_patients)).dropna(how='all')[['subject_id','admittime','hadm_id']]\n",
    "diagnoses = mimicIV.read_diagnoses()\n",
    "adm.head(1)\n",
    "adm.shape"
   ]
  },
  {
   "cell_type": "code",
   "execution_count": 21,
   "id": "0f68b66f",
   "metadata": {},
   "outputs": [
    {
     "name": "stdout",
     "output_type": "stream",
     "text": [
      "icd_code done\n",
      "ccs done\n",
      "icd9chapters done\n"
     ]
    }
   ],
   "source": [
    "# where it all begins\n",
    "data = {int(p):{} for p in mimic_IV_eligible_patients} \n",
    "\n",
    "# dumb, error prone way of getting only the columns of icd codings (eg.: icd9,ccs,chapters,etc)\n",
    "grouping_columns = [col for col in mimicIV.read_diagnoses() if col not in [\"icd_version\",\"icd9_chapters\",\"icd9_level3\",\"subject_id\",\"hadm_id\",\"seq_num\",\"hadm_index\"]]\n",
    "\n",
    "# include only eligible patients\n",
    "diagnoses_eligible = diagnoses[diagnoses.subject_id.isin(mimic_IV_eligible_patients)]\n",
    "\n",
    "for grouping in grouping_columns:\n",
    "    res = (diagnoses_eligible\n",
    "           .groupby(['subject_id','hadm_index'])\n",
    "           .apply(lambda subdf:subdf[grouping].tolist())\n",
    "           .groupby('subject_id')\n",
    "           .apply(list)\n",
    "          )\n",
    "    for idx,(p,diags) in enumerate(res.iteritems()):\n",
    "        data[p][grouping] = diags\n",
    "        \n",
    "    print(f'{grouping} done')"
   ]
  },
  {
   "cell_type": "markdown",
   "id": "cbaf347e",
   "metadata": {},
   "source": [
    "## Save"
   ]
  },
  {
   "cell_type": "code",
   "execution_count": 24,
   "id": "fdf80337",
   "metadata": {},
   "outputs": [],
   "source": [
    "# add metadata of available groupings\n",
    "metadata = {'groupings':grouping_columns}\n",
    "data = {'metadata':metadata,'data':data}"
   ]
  },
  {
   "cell_type": "code",
   "execution_count": 25,
   "id": "68bdc40c",
   "metadata": {},
   "outputs": [],
   "source": [
    "data_id = 'diag_only'\n",
    "datapath = os.path.join(settings.data_base,settings.model_ready_dataset_folder,data_id)\n",
    "\n",
    "# create folder of this dataset\n",
    "if not os.path.isdir(datapath):\n",
    "    os.mkdir(datapath)"
   ]
  },
  {
   "cell_type": "code",
   "execution_count": 26,
   "id": "e0abd5fe",
   "metadata": {},
   "outputs": [],
   "source": [
    "dataset_filename = 'mimic_iv_quick_baseline_dataset.json'\n",
    "dataset_filepath = os.path.join(datapath,dataset_filename)\n",
    "\n",
    "with open(dataset_filepath, 'w') as fp:\n",
    "    json.dump(data, fp)"
   ]
  },
  {
   "cell_type": "markdown",
   "id": "1bdc881b",
   "metadata": {},
   "source": [
    "# Test"
   ]
  },
  {
   "cell_type": "markdown",
   "id": "a55a2e43",
   "metadata": {},
   "source": [
    "### Read"
   ]
  },
  {
   "cell_type": "code",
   "execution_count": 27,
   "id": "b2e6d16f",
   "metadata": {},
   "outputs": [],
   "source": [
    "with open(dataset_filepath,'r') as fp:\n",
    "    data = json.load(fp)"
   ]
  },
  {
   "cell_type": "markdown",
   "id": "5b35cf07",
   "metadata": {},
   "source": [
    "### read all patient ids"
   ]
  },
  {
   "cell_type": "code",
   "execution_count": 28,
   "id": "350b60c3",
   "metadata": {},
   "outputs": [
    {
     "data": {
      "text/plain": [
       "55483"
      ]
     },
     "execution_count": 28,
     "metadata": {},
     "output_type": "execute_result"
    }
   ],
   "source": [
    "patient_ids = list(data['data'].keys()) # patient id's\n",
    "len(patient_ids)"
   ]
  },
  {
   "cell_type": "code",
   "execution_count": null,
   "id": "9af656d0-a48d-49ac-a99e-7ba3222f4170",
   "metadata": {},
   "outputs": [],
   "source": []
  }
 ],
 "metadata": {
  "kernelspec": {
   "display_name": "Python (simao thesis)",
   "language": "python",
   "name": "simao_thesis"
  },
  "language_info": {
   "codemirror_mode": {
    "name": "ipython",
    "version": 3
   },
   "file_extension": ".py",
   "mimetype": "text/x-python",
   "name": "python",
   "nbconvert_exporter": "python",
   "pygments_lexer": "ipython3",
   "version": "3.10.4"
  },
  "toc": {
   "base_numbering": 1,
   "nav_menu": {},
   "number_sections": true,
   "sideBar": true,
   "skip_h1_title": false,
   "title_cell": "Table of Contents",
   "title_sidebar": "Contents",
   "toc_cell": false,
   "toc_position": {},
   "toc_section_display": true,
   "toc_window_display": false
  },
  "varInspector": {
   "cols": {
    "lenName": 16,
    "lenType": 16,
    "lenVar": 40
   },
   "kernels_config": {
    "python": {
     "delete_cmd_postfix": "",
     "delete_cmd_prefix": "del ",
     "library": "var_list.py",
     "varRefreshCmd": "print(var_dic_list())"
    },
    "r": {
     "delete_cmd_postfix": ") ",
     "delete_cmd_prefix": "rm(",
     "library": "var_list.r",
     "varRefreshCmd": "cat(var_dic_list()) "
    }
   },
   "types_to_exclude": [
    "module",
    "function",
    "builtin_function_or_method",
    "instance",
    "_Feature"
   ],
   "window_display": false
  }
 },
 "nbformat": 4,
 "nbformat_minor": 5
}
