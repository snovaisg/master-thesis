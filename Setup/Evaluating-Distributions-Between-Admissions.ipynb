{
 "cells": [
  {
   "cell_type": "code",
   "execution_count": 1,
   "id": "7aae2c66-8663-41be-94d2-fc075c3c6f10",
   "metadata": {},
   "outputs": [],
   "source": [
    "import os\n",
    "cwd = os.getcwd()\n",
    "\n",
    "# protection against running this cell multiple times\n",
    "assert os.path.dirname(cwd).split('/')[-1] == 'master-thesis','Oops, directory already changed previously as indended. Ignoring...'\n",
    "\n",
    "# change working directory (if assert passed)\n",
    "new_cwd = os.path.dirname(cwd) # parent directory\n",
    "os.chdir(new_cwd)"
   ]
  },
  {
   "cell_type": "code",
   "execution_count": 2,
   "id": "a1d18e00",
   "metadata": {},
   "outputs": [],
   "source": [
    "# show all outputs\n",
    "from IPython.core.interactiveshell import InteractiveShell\n",
    "InteractiveShell.ast_node_interactivity = \"all\""
   ]
  },
  {
   "cell_type": "code",
   "execution_count": 3,
   "id": "fb58bc89",
   "metadata": {
    "ExecuteTime": {
     "end_time": "2021-08-13T09:36:54.809702Z",
     "start_time": "2021-08-13T09:36:54.696462Z"
    }
   },
   "outputs": [],
   "source": [
    "import os\n",
    "from MimicIII import MimicIII\n",
    "from MimicIV import MimicIV\n",
    "from ICDCodesGrouper import ICDCodesGrouper\n",
    "\n",
    "import pandas as pd\n",
    "import numpy as np\n",
    "\n",
    "#from tqdm.notebook import tqdm\n",
    "\n",
    "from torch.utils.data import Dataset\n",
    "from torch import nn\n",
    "import torch\n",
    "from torch.nn.utils.rnn import pack_padded_sequence, pad_packed_sequence, pad_sequence, pack_sequence\n",
    "import torch.nn.functional as F\n",
    "\n",
    "from datetime import datetime,timedelta\n",
    "import matplotlib.pyplot as plt\n",
    "import json\n",
    "from tqdm.notebook import tqdm\n",
    "\n",
    "from config import Settings; settings = Settings()"
   ]
  },
  {
   "cell_type": "code",
   "execution_count": 4,
   "id": "4bcaee8f",
   "metadata": {},
   "outputs": [],
   "source": [
    "grouper = ICDCodesGrouper(settings)\n",
    "mimicIII = MimicIII(settings=settings,grouper=grouper)\n",
    "mimicIV = MimicIV(settings=settings,grouper=grouper)"
   ]
  },
  {
   "cell_type": "markdown",
   "id": "d11d62d9",
   "metadata": {},
   "source": [
    "## Get admissions eligible for modelling"
   ]
  },
  {
   "cell_type": "code",
   "execution_count": 11,
   "id": "4ddd1456-d1a8-48b7-bcee-791b8dd2b196",
   "metadata": {},
   "outputs": [
    {
     "data": {
      "text/plain": [
       "SUBJECT_ID\n",
       "17       2.0\n",
       "21       2.0\n",
       "23       2.0\n",
       "34       2.0\n",
       "36       3.0\n",
       "        ... \n",
       "99822    3.0\n",
       "99883    2.0\n",
       "99897    2.0\n",
       "99923    2.0\n",
       "99982    3.0\n",
       "Length: 7537, dtype: float64"
      ]
     },
     "execution_count": 11,
     "metadata": {},
     "output_type": "execute_result"
    }
   ],
   "source": [
    "eligible_pats_mimic_III"
   ]
  },
  {
   "cell_type": "code",
   "execution_count": 15,
   "id": "313f06dd-eb02-4678-86ee-f10fea9b366e",
   "metadata": {},
   "outputs": [
    {
     "data": {
      "text/plain": [
       "Int64Index([   17,    21,    23,    34,    36,    61,    67,    68,    84,\n",
       "               85,\n",
       "            ...\n",
       "            99660, 99712, 99756, 99781, 99783, 99822, 99883, 99897, 99923,\n",
       "            99982],\n",
       "           dtype='int64', name='SUBJECT_ID', length=7537)"
      ]
     },
     "execution_count": 15,
     "metadata": {},
     "output_type": "execute_result"
    }
   ],
   "source": [
    "eligible_pats_mimic_III = mimicIII.read_admissions().groupby('SUBJECT_ID').size().where(lambda x: x > 1).dropna().index\n",
    "eligible_pats_mimic_III"
   ]
  },
  {
   "cell_type": "code",
   "execution_count": 22,
   "id": "4446e0c0-589e-48ab-9a54-3d68757ec2a7",
   "metadata": {},
   "outputs": [],
   "source": [
    "res_III = (mimicIII\n",
    "           .read_admissions()\n",
    "           .where(lambda x: # subjects with more than 1 visit\n",
    "                  x.SUBJECT_ID.isin(mimicIII.read_admissions().groupby('SUBJECT_ID').size().where(lambda x: x > 1).dropna().index)\n",
    "                 )\n",
    "           .groupby('SUBJECT_ID')\n",
    "           .ADMITTIME\n",
    "           .apply(lambda x: x.diff().median().days).describe().rename('MIMIC-III')\n",
    "          )\n",
    "\n",
    "res_IV = (mimicIV\n",
    "          .read_admissions()\n",
    "          .where(lambda x: # subjects with more than 1 visit\n",
    "                 x.subject_id.isin(mimicIV.read_admissions().groupby('subject_id').size().where(lambda x: x > 1).dropna().index)\n",
    "                )\n",
    "          .groupby('subject_id')\n",
    "          .admittime\n",
    "          .apply(lambda x: x.diff().median().days).describe().rename('MIMIC-IV')\n",
    "         )"
   ]
  },
  {
   "cell_type": "code",
   "execution_count": 26,
   "id": "49ff6406-43a8-43ae-8e9e-1a4ba80b4002",
   "metadata": {},
   "outputs": [
    {
     "data": {
      "text/plain": [
       "EW EMER.                       157896\n",
       "EU OBSERVATION                 100445\n",
       "ELECTIVE                        72072\n",
       "OBSERVATION ADMIT               55497\n",
       "URGENT                          47930\n",
       "SURGICAL SAME DAY ADMISSION     41074\n",
       "DIRECT EMER.                    21581\n",
       "DIRECT OBSERVATION              19991\n",
       "AMBULATORY OBSERVATION           7254\n",
       "Name: admission_type, dtype: int64"
      ]
     },
     "execution_count": 26,
     "metadata": {},
     "output_type": "execute_result"
    }
   ],
   "source": [
    "mimicIV.read_admissions().admission_type.value_counts()"
   ]
  },
  {
   "cell_type": "code",
   "execution_count": 40,
   "id": "0d571c3b-4770-4ea6-a4e7-8edc34c6733e",
   "metadata": {
    "collapsed": true,
    "jupyter": {
     "outputs_hidden": true
    },
    "tags": []
   },
   "outputs": [
    {
     "ename": "KeyboardInterrupt",
     "evalue": "",
     "output_type": "error",
     "traceback": [
      "\u001b[0;31m---------------------------------------------------------------------------\u001b[0m",
      "\u001b[0;31mKeyboardInterrupt\u001b[0m                         Traceback (most recent call last)",
      "Input \u001b[0;32mIn [40]\u001b[0m, in \u001b[0;36m<cell line: 2>\u001b[0;34m()\u001b[0m\n\u001b[1;32m      1\u001b[0m m \u001b[38;5;241m=\u001b[39m \u001b[38;5;241m1\u001b[39m \u001b[38;5;66;03m# months\u001b[39;00m\n\u001b[1;32m      2\u001b[0m timewindows \u001b[38;5;241m=\u001b[39m (\u001b[43mmimicIII\u001b[49m\n\u001b[1;32m      3\u001b[0m \u001b[43m               \u001b[49m\u001b[38;5;241;43m.\u001b[39;49m\u001b[43mread_admissions\u001b[49m\u001b[43m(\u001b[49m\u001b[43m)\u001b[49m\n\u001b[1;32m      4\u001b[0m \u001b[43m               \u001b[49m\u001b[38;5;241;43m.\u001b[39;49m\u001b[43mwhere\u001b[49m\u001b[43m(\u001b[49m\u001b[38;5;28;43;01mlambda\u001b[39;49;00m\u001b[43m \u001b[49m\u001b[43mx\u001b[49m\u001b[43m:\u001b[49m\u001b[43m \u001b[49m\u001b[38;5;66;43;03m# subjects with more than 1 visit\u001b[39;49;00m\n\u001b[1;32m      5\u001b[0m \u001b[43m                 \u001b[49m\u001b[43mx\u001b[49m\u001b[38;5;241;43m.\u001b[39;49m\u001b[43mSUBJECT_ID\u001b[49m\u001b[38;5;241;43m.\u001b[39;49m\u001b[43misin\u001b[49m\u001b[43m(\u001b[49m\u001b[43mmimicIII\u001b[49m\u001b[38;5;241;43m.\u001b[39;49m\u001b[43mread_admissions\u001b[49m\u001b[43m(\u001b[49m\u001b[43m)\u001b[49m\u001b[38;5;241;43m.\u001b[39;49m\u001b[43mgroupby\u001b[49m\u001b[43m(\u001b[49m\u001b[38;5;124;43m'\u001b[39;49m\u001b[38;5;124;43mSUBJECT_ID\u001b[39;49m\u001b[38;5;124;43m'\u001b[39;49m\u001b[43m)\u001b[49m\u001b[38;5;241;43m.\u001b[39;49m\u001b[43msize\u001b[49m\u001b[43m(\u001b[49m\u001b[43m)\u001b[49m\u001b[38;5;241;43m.\u001b[39;49m\u001b[43mwhere\u001b[49m\u001b[43m(\u001b[49m\u001b[38;5;28;43;01mlambda\u001b[39;49;00m\u001b[43m \u001b[49m\u001b[43mx\u001b[49m\u001b[43m:\u001b[49m\u001b[43m \u001b[49m\u001b[43mx\u001b[49m\u001b[43m \u001b[49m\u001b[38;5;241;43m>\u001b[39;49m\u001b[43m \u001b[49m\u001b[38;5;241;43m1\u001b[39;49m\u001b[43m)\u001b[49m\u001b[38;5;241;43m.\u001b[39;49m\u001b[43mdropna\u001b[49m\u001b[43m(\u001b[49m\u001b[43m)\u001b[49m\u001b[38;5;241;43m.\u001b[39;49m\u001b[43mindex\u001b[49m\u001b[43m)\u001b[49m\n\u001b[1;32m      6\u001b[0m \u001b[43m                \u001b[49m\u001b[43m)\u001b[49m\n\u001b[1;32m      7\u001b[0m \u001b[43m               \u001b[49m\u001b[38;5;241;43m.\u001b[39;49m\u001b[43mdropna\u001b[49m\u001b[43m(\u001b[49m\u001b[43mhow\u001b[49m\u001b[38;5;241;43m=\u001b[39;49m\u001b[38;5;124;43m'\u001b[39;49m\u001b[38;5;124;43mall\u001b[39;49m\u001b[38;5;124;43m'\u001b[39;49m\u001b[43m)\u001b[49m\n\u001b[1;32m      8\u001b[0m \u001b[43m               \u001b[49m\u001b[38;5;241;43m.\u001b[39;49m\u001b[43mgroupby\u001b[49m\u001b[43m(\u001b[49m\u001b[38;5;124;43m'\u001b[39;49m\u001b[38;5;124;43mSUBJECT_ID\u001b[39;49m\u001b[38;5;124;43m'\u001b[39;49m\u001b[43m)\u001b[49m\n\u001b[0;32m----> 9\u001b[0m \u001b[43m               \u001b[49m\u001b[38;5;241;43m.\u001b[39;49m\u001b[43mapply\u001b[49m\u001b[43m(\u001b[49m\u001b[38;5;28;43;01mlambda\u001b[39;49;00m\u001b[43m \u001b[49m\u001b[43msubdf\u001b[49m\u001b[43m:\u001b[49m\u001b[43m \u001b[49m\u001b[43m(\u001b[49m\u001b[43msubdf\u001b[49m\n\u001b[1;32m     10\u001b[0m \u001b[43m                                     \u001b[49m\u001b[38;5;241;43m.\u001b[39;49m\u001b[43mset_index\u001b[49m\u001b[43m(\u001b[49m\u001b[38;5;124;43m'\u001b[39;49m\u001b[38;5;124;43mADMITTIME\u001b[39;49m\u001b[38;5;124;43m'\u001b[39;49m\u001b[43m)\u001b[49m\n\u001b[1;32m     11\u001b[0m \u001b[43m                                     \u001b[49m\u001b[38;5;241;43m.\u001b[39;49m\u001b[43msort_index\u001b[49m\u001b[43m(\u001b[49m\u001b[43m)\u001b[49m\n\u001b[1;32m     12\u001b[0m \u001b[43m                                     \u001b[49m\u001b[38;5;241;43m.\u001b[39;49m\u001b[43mresample\u001b[49m\u001b[43m(\u001b[49m\u001b[38;5;124;43mf\u001b[39;49m\u001b[38;5;124;43m'\u001b[39;49m\u001b[38;5;132;43;01m{\u001b[39;49;00m\u001b[43mm\u001b[49m\u001b[38;5;241;43m*\u001b[39;49m\u001b[38;5;241;43m30\u001b[39;49m\u001b[38;5;132;43;01m}\u001b[39;49;00m\u001b[38;5;124;43md\u001b[39;49m\u001b[38;5;124;43m'\u001b[39;49m\u001b[43m)\u001b[49m\n\u001b[1;32m     13\u001b[0m \u001b[43m                                     \u001b[49m\u001b[38;5;241;43m.\u001b[39;49m\u001b[43mHADM_ID\u001b[49m\n\u001b[1;32m     14\u001b[0m \u001b[43m                                     \u001b[49m\u001b[38;5;241;43m.\u001b[39;49m\u001b[43mapply\u001b[49m\u001b[43m(\u001b[49m\u001b[38;5;28;43mlist\u001b[39;49m\u001b[43m)\u001b[49m\n\u001b[1;32m     15\u001b[0m \u001b[43m                                    \u001b[49m\u001b[43m)\u001b[49m\n\u001b[1;32m     16\u001b[0m \u001b[43m                     \u001b[49m\u001b[43m)\u001b[49m\n\u001b[1;32m     17\u001b[0m               )\n",
      "File \u001b[0;32m~/Simao/miniconda3/envs/thesis/lib/python3.10/site-packages/pandas/core/groupby/groupby.py:1414\u001b[0m, in \u001b[0;36mGroupBy.apply\u001b[0;34m(self, func, *args, **kwargs)\u001b[0m\n\u001b[1;32m   1412\u001b[0m \u001b[38;5;28;01mwith\u001b[39;00m option_context(\u001b[38;5;124m\"\u001b[39m\u001b[38;5;124mmode.chained_assignment\u001b[39m\u001b[38;5;124m\"\u001b[39m, \u001b[38;5;28;01mNone\u001b[39;00m):\n\u001b[1;32m   1413\u001b[0m     \u001b[38;5;28;01mtry\u001b[39;00m:\n\u001b[0;32m-> 1414\u001b[0m         result \u001b[38;5;241m=\u001b[39m \u001b[38;5;28;43mself\u001b[39;49m\u001b[38;5;241;43m.\u001b[39;49m\u001b[43m_python_apply_general\u001b[49m\u001b[43m(\u001b[49m\u001b[43mf\u001b[49m\u001b[43m,\u001b[49m\u001b[43m \u001b[49m\u001b[38;5;28;43mself\u001b[39;49m\u001b[38;5;241;43m.\u001b[39;49m\u001b[43m_selected_obj\u001b[49m\u001b[43m)\u001b[49m\n\u001b[1;32m   1415\u001b[0m     \u001b[38;5;28;01mexcept\u001b[39;00m \u001b[38;5;167;01mTypeError\u001b[39;00m:\n\u001b[1;32m   1416\u001b[0m         \u001b[38;5;66;03m# gh-20949\u001b[39;00m\n\u001b[1;32m   1417\u001b[0m         \u001b[38;5;66;03m# try again, with .apply acting as a filtering\u001b[39;00m\n\u001b[0;32m   (...)\u001b[0m\n\u001b[1;32m   1421\u001b[0m         \u001b[38;5;66;03m# fails on *some* columns, e.g. a numeric operation\u001b[39;00m\n\u001b[1;32m   1422\u001b[0m         \u001b[38;5;66;03m# on a string grouper column\u001b[39;00m\n\u001b[1;32m   1424\u001b[0m         \u001b[38;5;28;01mwith\u001b[39;00m \u001b[38;5;28mself\u001b[39m\u001b[38;5;241m.\u001b[39m_group_selection_context():\n",
      "File \u001b[0;32m~/Simao/miniconda3/envs/thesis/lib/python3.10/site-packages/pandas/core/groupby/groupby.py:1455\u001b[0m, in \u001b[0;36mGroupBy._python_apply_general\u001b[0;34m(self, f, data, not_indexed_same)\u001b[0m\n\u001b[1;32m   1429\u001b[0m \u001b[38;5;129m@final\u001b[39m\n\u001b[1;32m   1430\u001b[0m \u001b[38;5;28;01mdef\u001b[39;00m \u001b[38;5;21m_python_apply_general\u001b[39m(\n\u001b[1;32m   1431\u001b[0m     \u001b[38;5;28mself\u001b[39m,\n\u001b[0;32m   (...)\u001b[0m\n\u001b[1;32m   1434\u001b[0m     not_indexed_same: \u001b[38;5;28mbool\u001b[39m \u001b[38;5;241m|\u001b[39m \u001b[38;5;28;01mNone\u001b[39;00m \u001b[38;5;241m=\u001b[39m \u001b[38;5;28;01mNone\u001b[39;00m,\n\u001b[1;32m   1435\u001b[0m ) \u001b[38;5;241m-\u001b[39m\u001b[38;5;241m>\u001b[39m DataFrame \u001b[38;5;241m|\u001b[39m Series:\n\u001b[1;32m   1436\u001b[0m     \u001b[38;5;124;03m\"\"\"\u001b[39;00m\n\u001b[1;32m   1437\u001b[0m \u001b[38;5;124;03m    Apply function f in python space\u001b[39;00m\n\u001b[1;32m   1438\u001b[0m \n\u001b[0;32m   (...)\u001b[0m\n\u001b[1;32m   1453\u001b[0m \u001b[38;5;124;03m        data after applying f\u001b[39;00m\n\u001b[1;32m   1454\u001b[0m \u001b[38;5;124;03m    \"\"\"\u001b[39;00m\n\u001b[0;32m-> 1455\u001b[0m     values, mutated \u001b[38;5;241m=\u001b[39m \u001b[38;5;28;43mself\u001b[39;49m\u001b[38;5;241;43m.\u001b[39;49m\u001b[43mgrouper\u001b[49m\u001b[38;5;241;43m.\u001b[39;49m\u001b[43mapply\u001b[49m\u001b[43m(\u001b[49m\u001b[43mf\u001b[49m\u001b[43m,\u001b[49m\u001b[43m \u001b[49m\u001b[43mdata\u001b[49m\u001b[43m,\u001b[49m\u001b[43m \u001b[49m\u001b[38;5;28;43mself\u001b[39;49m\u001b[38;5;241;43m.\u001b[39;49m\u001b[43maxis\u001b[49m\u001b[43m)\u001b[49m\n\u001b[1;32m   1457\u001b[0m     \u001b[38;5;28;01mif\u001b[39;00m not_indexed_same \u001b[38;5;129;01mis\u001b[39;00m \u001b[38;5;28;01mNone\u001b[39;00m:\n\u001b[1;32m   1458\u001b[0m         not_indexed_same \u001b[38;5;241m=\u001b[39m mutated \u001b[38;5;129;01mor\u001b[39;00m \u001b[38;5;28mself\u001b[39m\u001b[38;5;241m.\u001b[39mmutated\n",
      "File \u001b[0;32m~/Simao/miniconda3/envs/thesis/lib/python3.10/site-packages/pandas/core/groupby/ops.py:761\u001b[0m, in \u001b[0;36mBaseGrouper.apply\u001b[0;34m(self, f, data, axis)\u001b[0m\n\u001b[1;32m    759\u001b[0m \u001b[38;5;66;03m# group might be modified\u001b[39;00m\n\u001b[1;32m    760\u001b[0m group_axes \u001b[38;5;241m=\u001b[39m group\u001b[38;5;241m.\u001b[39maxes\n\u001b[0;32m--> 761\u001b[0m res \u001b[38;5;241m=\u001b[39m \u001b[43mf\u001b[49m\u001b[43m(\u001b[49m\u001b[43mgroup\u001b[49m\u001b[43m)\u001b[49m\n\u001b[1;32m    762\u001b[0m \u001b[38;5;28;01mif\u001b[39;00m \u001b[38;5;129;01mnot\u001b[39;00m mutated \u001b[38;5;129;01mand\u001b[39;00m \u001b[38;5;129;01mnot\u001b[39;00m _is_indexed_like(res, group_axes, axis):\n\u001b[1;32m    763\u001b[0m     mutated \u001b[38;5;241m=\u001b[39m \u001b[38;5;28;01mTrue\u001b[39;00m\n",
      "Input \u001b[0;32mIn [40]\u001b[0m, in \u001b[0;36m<lambda>\u001b[0;34m(subdf)\u001b[0m\n\u001b[1;32m      1\u001b[0m m \u001b[38;5;241m=\u001b[39m \u001b[38;5;241m1\u001b[39m \u001b[38;5;66;03m# months\u001b[39;00m\n\u001b[1;32m      2\u001b[0m timewindows \u001b[38;5;241m=\u001b[39m (mimicIII\n\u001b[1;32m      3\u001b[0m                \u001b[38;5;241m.\u001b[39mread_admissions()\n\u001b[1;32m      4\u001b[0m                \u001b[38;5;241m.\u001b[39mwhere(\u001b[38;5;28;01mlambda\u001b[39;00m x: \u001b[38;5;66;03m# subjects with more than 1 visit\u001b[39;00m\n\u001b[1;32m      5\u001b[0m                  x\u001b[38;5;241m.\u001b[39mSUBJECT_ID\u001b[38;5;241m.\u001b[39misin(mimicIII\u001b[38;5;241m.\u001b[39mread_admissions()\u001b[38;5;241m.\u001b[39mgroupby(\u001b[38;5;124m'\u001b[39m\u001b[38;5;124mSUBJECT_ID\u001b[39m\u001b[38;5;124m'\u001b[39m)\u001b[38;5;241m.\u001b[39msize()\u001b[38;5;241m.\u001b[39mwhere(\u001b[38;5;28;01mlambda\u001b[39;00m x: x \u001b[38;5;241m>\u001b[39m \u001b[38;5;241m1\u001b[39m)\u001b[38;5;241m.\u001b[39mdropna()\u001b[38;5;241m.\u001b[39mindex)\n\u001b[1;32m      6\u001b[0m                 )\n\u001b[1;32m      7\u001b[0m                \u001b[38;5;241m.\u001b[39mdropna(how\u001b[38;5;241m=\u001b[39m\u001b[38;5;124m'\u001b[39m\u001b[38;5;124mall\u001b[39m\u001b[38;5;124m'\u001b[39m)\n\u001b[1;32m      8\u001b[0m                \u001b[38;5;241m.\u001b[39mgroupby(\u001b[38;5;124m'\u001b[39m\u001b[38;5;124mSUBJECT_ID\u001b[39m\u001b[38;5;124m'\u001b[39m)\n\u001b[1;32m      9\u001b[0m                \u001b[38;5;241m.\u001b[39mapply(\u001b[38;5;28;01mlambda\u001b[39;00m subdf: (\u001b[43msubdf\u001b[49m\n\u001b[1;32m     10\u001b[0m \u001b[43m                                     \u001b[49m\u001b[38;5;241;43m.\u001b[39;49m\u001b[43mset_index\u001b[49m\u001b[43m(\u001b[49m\u001b[38;5;124;43m'\u001b[39;49m\u001b[38;5;124;43mADMITTIME\u001b[39;49m\u001b[38;5;124;43m'\u001b[39;49m\u001b[43m)\u001b[49m\n\u001b[1;32m     11\u001b[0m \u001b[43m                                     \u001b[49m\u001b[38;5;241;43m.\u001b[39;49m\u001b[43msort_index\u001b[49m\u001b[43m(\u001b[49m\u001b[43m)\u001b[49m\n\u001b[0;32m---> 12\u001b[0m \u001b[43m                                     \u001b[49m\u001b[38;5;241;43m.\u001b[39;49m\u001b[43mresample\u001b[49m\u001b[43m(\u001b[49m\u001b[38;5;124;43mf\u001b[39;49m\u001b[38;5;124;43m'\u001b[39;49m\u001b[38;5;132;43;01m{\u001b[39;49;00m\u001b[43mm\u001b[49m\u001b[38;5;241;43m*\u001b[39;49m\u001b[38;5;241;43m30\u001b[39;49m\u001b[38;5;132;43;01m}\u001b[39;49;00m\u001b[38;5;124;43md\u001b[39;49m\u001b[38;5;124;43m'\u001b[39;49m\u001b[43m)\u001b[49m\n\u001b[1;32m     13\u001b[0m                                      \u001b[38;5;241m.\u001b[39mHADM_ID\n\u001b[1;32m     14\u001b[0m                                      \u001b[38;5;241m.\u001b[39mapply(\u001b[38;5;28mlist\u001b[39m)\n\u001b[1;32m     15\u001b[0m                                     )\n\u001b[1;32m     16\u001b[0m                      )\n\u001b[1;32m     17\u001b[0m               )\n",
      "File \u001b[0;32m~/Simao/miniconda3/envs/thesis/lib/python3.10/site-packages/pandas/core/frame.py:10541\u001b[0m, in \u001b[0;36mDataFrame.resample\u001b[0;34m(self, rule, axis, closed, label, convention, kind, loffset, base, on, level, origin, offset)\u001b[0m\n\u001b[1;32m  10525\u001b[0m \u001b[38;5;129m@doc\u001b[39m(NDFrame\u001b[38;5;241m.\u001b[39mresample, \u001b[38;5;241m*\u001b[39m\u001b[38;5;241m*\u001b[39m_shared_doc_kwargs)\n\u001b[1;32m  10526\u001b[0m \u001b[38;5;28;01mdef\u001b[39;00m \u001b[38;5;21mresample\u001b[39m(\n\u001b[1;32m  10527\u001b[0m     \u001b[38;5;28mself\u001b[39m,\n\u001b[0;32m   (...)\u001b[0m\n\u001b[1;32m  10539\u001b[0m     offset: TimedeltaConvertibleTypes \u001b[38;5;241m|\u001b[39m \u001b[38;5;28;01mNone\u001b[39;00m \u001b[38;5;241m=\u001b[39m \u001b[38;5;28;01mNone\u001b[39;00m,\n\u001b[1;32m  10540\u001b[0m ) \u001b[38;5;241m-\u001b[39m\u001b[38;5;241m>\u001b[39m Resampler:\n\u001b[0;32m> 10541\u001b[0m     \u001b[38;5;28;01mreturn\u001b[39;00m \u001b[38;5;28;43msuper\u001b[39;49m\u001b[43m(\u001b[49m\u001b[43m)\u001b[49m\u001b[38;5;241;43m.\u001b[39;49m\u001b[43mresample\u001b[49m\u001b[43m(\u001b[49m\n\u001b[1;32m  10542\u001b[0m \u001b[43m        \u001b[49m\u001b[43mrule\u001b[49m\u001b[38;5;241;43m=\u001b[39;49m\u001b[43mrule\u001b[49m\u001b[43m,\u001b[49m\n\u001b[1;32m  10543\u001b[0m \u001b[43m        \u001b[49m\u001b[43maxis\u001b[49m\u001b[38;5;241;43m=\u001b[39;49m\u001b[43maxis\u001b[49m\u001b[43m,\u001b[49m\n\u001b[1;32m  10544\u001b[0m \u001b[43m        \u001b[49m\u001b[43mclosed\u001b[49m\u001b[38;5;241;43m=\u001b[39;49m\u001b[43mclosed\u001b[49m\u001b[43m,\u001b[49m\n\u001b[1;32m  10545\u001b[0m \u001b[43m        \u001b[49m\u001b[43mlabel\u001b[49m\u001b[38;5;241;43m=\u001b[39;49m\u001b[43mlabel\u001b[49m\u001b[43m,\u001b[49m\n\u001b[1;32m  10546\u001b[0m \u001b[43m        \u001b[49m\u001b[43mconvention\u001b[49m\u001b[38;5;241;43m=\u001b[39;49m\u001b[43mconvention\u001b[49m\u001b[43m,\u001b[49m\n\u001b[1;32m  10547\u001b[0m \u001b[43m        \u001b[49m\u001b[43mkind\u001b[49m\u001b[38;5;241;43m=\u001b[39;49m\u001b[43mkind\u001b[49m\u001b[43m,\u001b[49m\n\u001b[1;32m  10548\u001b[0m \u001b[43m        \u001b[49m\u001b[43mloffset\u001b[49m\u001b[38;5;241;43m=\u001b[39;49m\u001b[43mloffset\u001b[49m\u001b[43m,\u001b[49m\n\u001b[1;32m  10549\u001b[0m \u001b[43m        \u001b[49m\u001b[43mbase\u001b[49m\u001b[38;5;241;43m=\u001b[39;49m\u001b[43mbase\u001b[49m\u001b[43m,\u001b[49m\n\u001b[1;32m  10550\u001b[0m \u001b[43m        \u001b[49m\u001b[43mon\u001b[49m\u001b[38;5;241;43m=\u001b[39;49m\u001b[43mon\u001b[49m\u001b[43m,\u001b[49m\n\u001b[1;32m  10551\u001b[0m \u001b[43m        \u001b[49m\u001b[43mlevel\u001b[49m\u001b[38;5;241;43m=\u001b[39;49m\u001b[43mlevel\u001b[49m\u001b[43m,\u001b[49m\n\u001b[1;32m  10552\u001b[0m \u001b[43m        \u001b[49m\u001b[43morigin\u001b[49m\u001b[38;5;241;43m=\u001b[39;49m\u001b[43morigin\u001b[49m\u001b[43m,\u001b[49m\n\u001b[1;32m  10553\u001b[0m \u001b[43m        \u001b[49m\u001b[43moffset\u001b[49m\u001b[38;5;241;43m=\u001b[39;49m\u001b[43moffset\u001b[49m\u001b[43m,\u001b[49m\n\u001b[1;32m  10554\u001b[0m \u001b[43m    \u001b[49m\u001b[43m)\u001b[49m\n",
      "File \u001b[0;32m~/Simao/miniconda3/envs/thesis/lib/python3.10/site-packages/pandas/core/generic.py:8306\u001b[0m, in \u001b[0;36mNDFrame.resample\u001b[0;34m(self, rule, axis, closed, label, convention, kind, loffset, base, on, level, origin, offset)\u001b[0m\n\u001b[1;32m   8303\u001b[0m \u001b[38;5;28;01mfrom\u001b[39;00m \u001b[38;5;21;01mpandas\u001b[39;00m\u001b[38;5;21;01m.\u001b[39;00m\u001b[38;5;21;01mcore\u001b[39;00m\u001b[38;5;21;01m.\u001b[39;00m\u001b[38;5;21;01mresample\u001b[39;00m \u001b[38;5;28;01mimport\u001b[39;00m get_resampler\n\u001b[1;32m   8305\u001b[0m axis \u001b[38;5;241m=\u001b[39m \u001b[38;5;28mself\u001b[39m\u001b[38;5;241m.\u001b[39m_get_axis_number(axis)\n\u001b[0;32m-> 8306\u001b[0m \u001b[38;5;28;01mreturn\u001b[39;00m \u001b[43mget_resampler\u001b[49m\u001b[43m(\u001b[49m\n\u001b[1;32m   8307\u001b[0m \u001b[43m    \u001b[49m\u001b[38;5;28;43mself\u001b[39;49m\u001b[43m,\u001b[49m\n\u001b[1;32m   8308\u001b[0m \u001b[43m    \u001b[49m\u001b[43mfreq\u001b[49m\u001b[38;5;241;43m=\u001b[39;49m\u001b[43mrule\u001b[49m\u001b[43m,\u001b[49m\n\u001b[1;32m   8309\u001b[0m \u001b[43m    \u001b[49m\u001b[43mlabel\u001b[49m\u001b[38;5;241;43m=\u001b[39;49m\u001b[43mlabel\u001b[49m\u001b[43m,\u001b[49m\n\u001b[1;32m   8310\u001b[0m \u001b[43m    \u001b[49m\u001b[43mclosed\u001b[49m\u001b[38;5;241;43m=\u001b[39;49m\u001b[43mclosed\u001b[49m\u001b[43m,\u001b[49m\n\u001b[1;32m   8311\u001b[0m \u001b[43m    \u001b[49m\u001b[43maxis\u001b[49m\u001b[38;5;241;43m=\u001b[39;49m\u001b[43maxis\u001b[49m\u001b[43m,\u001b[49m\n\u001b[1;32m   8312\u001b[0m \u001b[43m    \u001b[49m\u001b[43mkind\u001b[49m\u001b[38;5;241;43m=\u001b[39;49m\u001b[43mkind\u001b[49m\u001b[43m,\u001b[49m\n\u001b[1;32m   8313\u001b[0m \u001b[43m    \u001b[49m\u001b[43mloffset\u001b[49m\u001b[38;5;241;43m=\u001b[39;49m\u001b[43mloffset\u001b[49m\u001b[43m,\u001b[49m\n\u001b[1;32m   8314\u001b[0m \u001b[43m    \u001b[49m\u001b[43mconvention\u001b[49m\u001b[38;5;241;43m=\u001b[39;49m\u001b[43mconvention\u001b[49m\u001b[43m,\u001b[49m\n\u001b[1;32m   8315\u001b[0m \u001b[43m    \u001b[49m\u001b[43mbase\u001b[49m\u001b[38;5;241;43m=\u001b[39;49m\u001b[43mbase\u001b[49m\u001b[43m,\u001b[49m\n\u001b[1;32m   8316\u001b[0m \u001b[43m    \u001b[49m\u001b[43mkey\u001b[49m\u001b[38;5;241;43m=\u001b[39;49m\u001b[43mon\u001b[49m\u001b[43m,\u001b[49m\n\u001b[1;32m   8317\u001b[0m \u001b[43m    \u001b[49m\u001b[43mlevel\u001b[49m\u001b[38;5;241;43m=\u001b[39;49m\u001b[43mlevel\u001b[49m\u001b[43m,\u001b[49m\n\u001b[1;32m   8318\u001b[0m \u001b[43m    \u001b[49m\u001b[43morigin\u001b[49m\u001b[38;5;241;43m=\u001b[39;49m\u001b[43morigin\u001b[49m\u001b[43m,\u001b[49m\n\u001b[1;32m   8319\u001b[0m \u001b[43m    \u001b[49m\u001b[43moffset\u001b[49m\u001b[38;5;241;43m=\u001b[39;49m\u001b[43moffset\u001b[49m\u001b[43m,\u001b[49m\n\u001b[1;32m   8320\u001b[0m \u001b[43m\u001b[49m\u001b[43m)\u001b[49m\n",
      "File \u001b[0;32m~/Simao/miniconda3/envs/thesis/lib/python3.10/site-packages/pandas/core/resample.py:1423\u001b[0m, in \u001b[0;36mget_resampler\u001b[0;34m(obj, kind, **kwds)\u001b[0m\n\u001b[1;32m   1419\u001b[0m \u001b[38;5;124;03m\"\"\"\u001b[39;00m\n\u001b[1;32m   1420\u001b[0m \u001b[38;5;124;03mCreate a TimeGrouper and return our resampler.\u001b[39;00m\n\u001b[1;32m   1421\u001b[0m \u001b[38;5;124;03m\"\"\"\u001b[39;00m\n\u001b[1;32m   1422\u001b[0m tg \u001b[38;5;241m=\u001b[39m TimeGrouper(\u001b[38;5;241m*\u001b[39m\u001b[38;5;241m*\u001b[39mkwds)\n\u001b[0;32m-> 1423\u001b[0m \u001b[38;5;28;01mreturn\u001b[39;00m \u001b[43mtg\u001b[49m\u001b[38;5;241;43m.\u001b[39;49m\u001b[43m_get_resampler\u001b[49m\u001b[43m(\u001b[49m\u001b[43mobj\u001b[49m\u001b[43m,\u001b[49m\u001b[43m \u001b[49m\u001b[43mkind\u001b[49m\u001b[38;5;241;43m=\u001b[39;49m\u001b[43mkind\u001b[49m\u001b[43m)\u001b[49m\n",
      "File \u001b[0;32m~/Simao/miniconda3/envs/thesis/lib/python3.10/site-packages/pandas/core/resample.py:1593\u001b[0m, in \u001b[0;36mTimeGrouper._get_resampler\u001b[0;34m(self, obj, kind)\u001b[0m\n\u001b[1;32m   1591\u001b[0m ax \u001b[38;5;241m=\u001b[39m \u001b[38;5;28mself\u001b[39m\u001b[38;5;241m.\u001b[39max\n\u001b[1;32m   1592\u001b[0m \u001b[38;5;28;01mif\u001b[39;00m \u001b[38;5;28misinstance\u001b[39m(ax, DatetimeIndex):\n\u001b[0;32m-> 1593\u001b[0m     \u001b[38;5;28;01mreturn\u001b[39;00m \u001b[43mDatetimeIndexResampler\u001b[49m\u001b[43m(\u001b[49m\u001b[43mobj\u001b[49m\u001b[43m,\u001b[49m\u001b[43m \u001b[49m\u001b[43mgroupby\u001b[49m\u001b[38;5;241;43m=\u001b[39;49m\u001b[38;5;28;43mself\u001b[39;49m\u001b[43m,\u001b[49m\u001b[43m \u001b[49m\u001b[43mkind\u001b[49m\u001b[38;5;241;43m=\u001b[39;49m\u001b[43mkind\u001b[49m\u001b[43m,\u001b[49m\u001b[43m \u001b[49m\u001b[43maxis\u001b[49m\u001b[38;5;241;43m=\u001b[39;49m\u001b[38;5;28;43mself\u001b[39;49m\u001b[38;5;241;43m.\u001b[39;49m\u001b[43maxis\u001b[49m\u001b[43m)\u001b[49m\n\u001b[1;32m   1594\u001b[0m \u001b[38;5;28;01melif\u001b[39;00m \u001b[38;5;28misinstance\u001b[39m(ax, PeriodIndex) \u001b[38;5;129;01mor\u001b[39;00m kind \u001b[38;5;241m==\u001b[39m \u001b[38;5;124m\"\u001b[39m\u001b[38;5;124mperiod\u001b[39m\u001b[38;5;124m\"\u001b[39m:\n\u001b[1;32m   1595\u001b[0m     \u001b[38;5;28;01mreturn\u001b[39;00m PeriodIndexResampler(obj, groupby\u001b[38;5;241m=\u001b[39m\u001b[38;5;28mself\u001b[39m, kind\u001b[38;5;241m=\u001b[39mkind, axis\u001b[38;5;241m=\u001b[39m\u001b[38;5;28mself\u001b[39m\u001b[38;5;241m.\u001b[39maxis)\n",
      "File \u001b[0;32m~/Simao/miniconda3/envs/thesis/lib/python3.10/site-packages/pandas/core/resample.py:165\u001b[0m, in \u001b[0;36mResampler.__init__\u001b[0;34m(self, obj, groupby, axis, kind, selection, **kwargs)\u001b[0m\n\u001b[1;32m    162\u001b[0m \u001b[38;5;28mself\u001b[39m\u001b[38;5;241m.\u001b[39mas_index \u001b[38;5;241m=\u001b[39m \u001b[38;5;28;01mTrue\u001b[39;00m\n\u001b[1;32m    164\u001b[0m \u001b[38;5;28mself\u001b[39m\u001b[38;5;241m.\u001b[39mgroupby\u001b[38;5;241m.\u001b[39m_set_grouper(\u001b[38;5;28mself\u001b[39m\u001b[38;5;241m.\u001b[39m_convert_obj(obj), sort\u001b[38;5;241m=\u001b[39m\u001b[38;5;28;01mTrue\u001b[39;00m)\n\u001b[0;32m--> 165\u001b[0m \u001b[38;5;28mself\u001b[39m\u001b[38;5;241m.\u001b[39mbinner, \u001b[38;5;28mself\u001b[39m\u001b[38;5;241m.\u001b[39mgrouper \u001b[38;5;241m=\u001b[39m \u001b[38;5;28;43mself\u001b[39;49m\u001b[38;5;241;43m.\u001b[39;49m\u001b[43m_get_binner\u001b[49m\u001b[43m(\u001b[49m\u001b[43m)\u001b[49m\n\u001b[1;32m    166\u001b[0m \u001b[38;5;28mself\u001b[39m\u001b[38;5;241m.\u001b[39m_selection \u001b[38;5;241m=\u001b[39m selection\n",
      "File \u001b[0;32m~/Simao/miniconda3/envs/thesis/lib/python3.10/site-packages/pandas/core/resample.py:248\u001b[0m, in \u001b[0;36mResampler._get_binner\u001b[0;34m(self)\u001b[0m\n\u001b[1;32m    242\u001b[0m \u001b[38;5;129m@final\u001b[39m\n\u001b[1;32m    243\u001b[0m \u001b[38;5;28;01mdef\u001b[39;00m \u001b[38;5;21m_get_binner\u001b[39m(\u001b[38;5;28mself\u001b[39m):\n\u001b[1;32m    244\u001b[0m     \u001b[38;5;124;03m\"\"\"\u001b[39;00m\n\u001b[1;32m    245\u001b[0m \u001b[38;5;124;03m    Create the BinGrouper, assume that self.set_grouper(obj)\u001b[39;00m\n\u001b[1;32m    246\u001b[0m \u001b[38;5;124;03m    has already been called.\u001b[39;00m\n\u001b[1;32m    247\u001b[0m \u001b[38;5;124;03m    \"\"\"\u001b[39;00m\n\u001b[0;32m--> 248\u001b[0m     binner, bins, binlabels \u001b[38;5;241m=\u001b[39m \u001b[38;5;28;43mself\u001b[39;49m\u001b[38;5;241;43m.\u001b[39;49m\u001b[43m_get_binner_for_time\u001b[49m\u001b[43m(\u001b[49m\u001b[43m)\u001b[49m\n\u001b[1;32m    249\u001b[0m     \u001b[38;5;28;01massert\u001b[39;00m \u001b[38;5;28mlen\u001b[39m(bins) \u001b[38;5;241m==\u001b[39m \u001b[38;5;28mlen\u001b[39m(binlabels)\n\u001b[1;32m    250\u001b[0m     bin_grouper \u001b[38;5;241m=\u001b[39m BinGrouper(bins, binlabels, indexer\u001b[38;5;241m=\u001b[39m\u001b[38;5;28mself\u001b[39m\u001b[38;5;241m.\u001b[39mgroupby\u001b[38;5;241m.\u001b[39mindexer)\n",
      "File \u001b[0;32m~/Simao/miniconda3/envs/thesis/lib/python3.10/site-packages/pandas/core/resample.py:1154\u001b[0m, in \u001b[0;36mDatetimeIndexResampler._get_binner_for_time\u001b[0;34m(self)\u001b[0m\n\u001b[1;32m   1152\u001b[0m \u001b[38;5;28;01mif\u001b[39;00m \u001b[38;5;28mself\u001b[39m\u001b[38;5;241m.\u001b[39mkind \u001b[38;5;241m==\u001b[39m \u001b[38;5;124m\"\u001b[39m\u001b[38;5;124mperiod\u001b[39m\u001b[38;5;124m\"\u001b[39m:\n\u001b[1;32m   1153\u001b[0m     \u001b[38;5;28;01mreturn\u001b[39;00m \u001b[38;5;28mself\u001b[39m\u001b[38;5;241m.\u001b[39mgroupby\u001b[38;5;241m.\u001b[39m_get_time_period_bins(\u001b[38;5;28mself\u001b[39m\u001b[38;5;241m.\u001b[39max)\n\u001b[0;32m-> 1154\u001b[0m \u001b[38;5;28;01mreturn\u001b[39;00m \u001b[38;5;28;43mself\u001b[39;49m\u001b[38;5;241;43m.\u001b[39;49m\u001b[43mgroupby\u001b[49m\u001b[38;5;241;43m.\u001b[39;49m\u001b[43m_get_time_bins\u001b[49m\u001b[43m(\u001b[49m\u001b[38;5;28;43mself\u001b[39;49m\u001b[38;5;241;43m.\u001b[39;49m\u001b[43max\u001b[49m\u001b[43m)\u001b[49m\n",
      "File \u001b[0;32m~/Simao/miniconda3/envs/thesis/lib/python3.10/site-packages/pandas/core/resample.py:1647\u001b[0m, in \u001b[0;36mTimeGrouper._get_time_bins\u001b[0;34m(self, ax)\u001b[0m\n\u001b[1;32m   1636\u001b[0m binner \u001b[38;5;241m=\u001b[39m labels \u001b[38;5;241m=\u001b[39m date_range(\n\u001b[1;32m   1637\u001b[0m     freq\u001b[38;5;241m=\u001b[39m\u001b[38;5;28mself\u001b[39m\u001b[38;5;241m.\u001b[39mfreq,\n\u001b[1;32m   1638\u001b[0m     start\u001b[38;5;241m=\u001b[39mfirst,\n\u001b[0;32m   (...)\u001b[0m\n\u001b[1;32m   1643\u001b[0m     nonexistent\u001b[38;5;241m=\u001b[39m\u001b[38;5;124m\"\u001b[39m\u001b[38;5;124mshift_forward\u001b[39m\u001b[38;5;124m\"\u001b[39m,\n\u001b[1;32m   1644\u001b[0m )\n\u001b[1;32m   1646\u001b[0m ax_values \u001b[38;5;241m=\u001b[39m ax\u001b[38;5;241m.\u001b[39masi8\n\u001b[0;32m-> 1647\u001b[0m binner, bin_edges \u001b[38;5;241m=\u001b[39m \u001b[38;5;28;43mself\u001b[39;49m\u001b[38;5;241;43m.\u001b[39;49m\u001b[43m_adjust_bin_edges\u001b[49m\u001b[43m(\u001b[49m\u001b[43mbinner\u001b[49m\u001b[43m,\u001b[49m\u001b[43m \u001b[49m\u001b[43max_values\u001b[49m\u001b[43m)\u001b[49m\n\u001b[1;32m   1649\u001b[0m \u001b[38;5;66;03m# general version, knowing nothing about relative frequencies\u001b[39;00m\n\u001b[1;32m   1650\u001b[0m bins \u001b[38;5;241m=\u001b[39m lib\u001b[38;5;241m.\u001b[39mgenerate_bins_dt64(\n\u001b[1;32m   1651\u001b[0m     ax_values, bin_edges, \u001b[38;5;28mself\u001b[39m\u001b[38;5;241m.\u001b[39mclosed, hasnans\u001b[38;5;241m=\u001b[39max\u001b[38;5;241m.\u001b[39mhasnans\n\u001b[1;32m   1652\u001b[0m )\n",
      "File \u001b[0;32m~/Simao/miniconda3/envs/thesis/lib/python3.10/site-packages/pandas/core/resample.py:1676\u001b[0m, in \u001b[0;36mTimeGrouper._adjust_bin_edges\u001b[0;34m(self, binner, ax_values)\u001b[0m\n\u001b[1;32m   1673\u001b[0m \u001b[38;5;28;01mdef\u001b[39;00m \u001b[38;5;21m_adjust_bin_edges\u001b[39m(\u001b[38;5;28mself\u001b[39m, binner, ax_values):\n\u001b[1;32m   1674\u001b[0m     \u001b[38;5;66;03m# Some hacks for > daily data, see #1471, #1458, #1483\u001b[39;00m\n\u001b[0;32m-> 1676\u001b[0m     \u001b[38;5;28;01mif\u001b[39;00m \u001b[38;5;28;43mself\u001b[39;49m\u001b[38;5;241;43m.\u001b[39;49m\u001b[43mfreq\u001b[49m\u001b[43m \u001b[49m\u001b[38;5;241;43m!=\u001b[39;49m\u001b[43m \u001b[49m\u001b[38;5;124;43m\"\u001b[39;49m\u001b[38;5;124;43mD\u001b[39;49m\u001b[38;5;124;43m\"\u001b[39;49m \u001b[38;5;129;01mand\u001b[39;00m is_superperiod(\u001b[38;5;28mself\u001b[39m\u001b[38;5;241m.\u001b[39mfreq, \u001b[38;5;124m\"\u001b[39m\u001b[38;5;124mD\u001b[39m\u001b[38;5;124m\"\u001b[39m):\n\u001b[1;32m   1677\u001b[0m         \u001b[38;5;28;01mif\u001b[39;00m \u001b[38;5;28mself\u001b[39m\u001b[38;5;241m.\u001b[39mclosed \u001b[38;5;241m==\u001b[39m \u001b[38;5;124m\"\u001b[39m\u001b[38;5;124mright\u001b[39m\u001b[38;5;124m\"\u001b[39m:\n\u001b[1;32m   1678\u001b[0m             \u001b[38;5;66;03m# GH 21459, GH 9119: Adjust the bins relative to the wall time\u001b[39;00m\n\u001b[1;32m   1679\u001b[0m             bin_edges \u001b[38;5;241m=\u001b[39m binner\u001b[38;5;241m.\u001b[39mtz_localize(\u001b[38;5;28;01mNone\u001b[39;00m)\n",
      "File \u001b[0;32m~/Simao/miniconda3/envs/thesis/lib/python3.10/site-packages/pandas/_libs/tslibs/offsets.pyx:865\u001b[0m, in \u001b[0;36mpandas._libs.tslibs.offsets.Tick.__ne__\u001b[0;34m()\u001b[0m\n",
      "File \u001b[0;32m~/Simao/miniconda3/envs/thesis/lib/python3.10/site-packages/pandas/_libs/tslibs/offsets.pyx:858\u001b[0m, in \u001b[0;36mpandas._libs.tslibs.offsets.Tick.__eq__\u001b[0;34m()\u001b[0m\n",
      "File \u001b[0;32m~/Simao/miniconda3/envs/thesis/lib/python3.10/site-packages/pandas/_libs/tslibs/offsets.pyx:3660\u001b[0m, in \u001b[0;36mpandas._libs.tslibs.offsets.to_offset\u001b[0;34m()\u001b[0m\n",
      "File \u001b[0;32m~/Simao/miniconda3/envs/thesis/lib/python3.10/site-packages/pandas/_libs/tslibs/timedeltas.pyx:1357\u001b[0m, in \u001b[0;36mpandas._libs.tslibs.timedeltas.Timedelta.__new__\u001b[0;34m()\u001b[0m\n",
      "File \u001b[0;32m~/Simao/miniconda3/envs/thesis/lib/python3.10/site-packages/pandas/_libs/tslibs/timedeltas.pyx:288\u001b[0m, in \u001b[0;36mpandas._libs.tslibs.timedeltas.convert_to_timedelta64\u001b[0;34m()\u001b[0m\n",
      "File \u001b[0;32m~/Simao/miniconda3/envs/thesis/lib/python3.10/site-packages/pandas/_libs/tslibs/conversion.pyx:125\u001b[0m, in \u001b[0;36mpandas._libs.tslibs.conversion.cast_from_unit\u001b[0;34m()\u001b[0m\n",
      "\u001b[0;31mKeyboardInterrupt\u001b[0m: "
     ]
    }
   ],
   "source": [
    "m = 1 # months\n",
    "timewindows = (mimicIII\n",
    "               .read_admissions()\n",
    "               .where(lambda x: # subjects with more than 1 visit\n",
    "                 x.SUBJECT_ID.isin(mimicIII.read_admissions().groupby('SUBJECT_ID').size().where(lambda x: x > 1).dropna().index)\n",
    "                )\n",
    "               .dropna(how='all')\n",
    "               .groupby('SUBJECT_ID')\n",
    "               .apply(lambda subdf: (subdf\n",
    "                                     .set_index('ADMITTIME')\n",
    "                                     .sort_index()\n",
    "                                     .resample(f'{m*30}d')\n",
    "                                     .HADM_ID\n",
    "                                     .apply(list)\n",
    "                                    )\n",
    "                     )\n",
    "              )"
   ]
  },
  {
   "cell_type": "code",
   "execution_count": 29,
   "id": "728130ba-f504-4fec-8e6f-92c128a47ef6",
   "metadata": {},
   "outputs": [
    {
     "data": {
      "text/plain": [
       "SUBJECT_ID  ADMITTIME \n",
       "17.0        2134-12-27    1\n",
       "            2135-01-26    0\n",
       "            2135-02-25    0\n",
       "            2135-03-27    0\n",
       "            2135-04-26    1\n",
       "                         ..\n",
       "99923.0     2201-03-25    0\n",
       "            2201-04-24    1\n",
       "99982.0     2156-11-28    1\n",
       "            2156-12-28    1\n",
       "            2157-01-27    1\n",
       "Name: HADM_ID, Length: 176544, dtype: int64"
      ]
     },
     "execution_count": 29,
     "metadata": {},
     "output_type": "execute_result"
    }
   ],
   "source": [
    "timewindows.apply(len)"
   ]
  },
  {
   "cell_type": "code",
   "execution_count": null,
   "id": "9abdb130-e63b-4824-b06a-17ad00799f52",
   "metadata": {},
   "outputs": [],
   "source": [
    "pd.DataFrame().dropna("
   ]
  },
  {
   "cell_type": "code",
   "execution_count": 59,
   "id": "e0f7e1f4-0687-46d4-8c35-e14c4bd0f283",
   "metadata": {},
   "outputs": [],
   "source": [
    "from tqdm.notebook import tqdm"
   ]
  },
  {
   "cell_type": "code",
   "execution_count": 5,
   "id": "439a5b69-c924-4ba0-92bb-e275f24d7049",
   "metadata": {},
   "outputs": [
    {
     "data": {
      "text/plain": [
       "3"
      ]
     },
     "execution_count": 5,
     "metadata": {},
     "output_type": "execute_result"
    }
   ],
   "source": [
    "pd.Series([1,2,3]).size"
   ]
  },
  {
   "cell_type": "code",
   "execution_count": 23,
   "id": "3b1683f8-3af9-4ce1-9667-9fe25f456a44",
   "metadata": {},
   "outputs": [],
   "source": [
    "#trying to reduce the number of \n",
    "timesteps = [1,2,3] #months\n",
    "for ts in tqdm(timesteps):\n",
    "    resIV = (mimicIV\n",
    "               .read_admissions()\n",
    "               .where(lambda x: # subjects with more than 1 visit\n",
    "                      x.subject_id.isin(mimicIV.read_admissions().groupby('subject_id').size().where(lambda x: x > 1).dropna().index)\n",
    "                     )\n",
    "               .dropna(how='all')\n",
    "             .groupby('subject_id')\n",
    "               .apply(lambda subdf: (subdf\n",
    "                                         .set_index('admittime')\n",
    "                                         .sort_index()\n",
    "                                         .resample(f'{ts*30}d')\n",
    "                                         .hadm_id\n",
    "                                         .apply(list)\n",
    "                                        )\n",
    "                     )\n",
    "              )\n",
    "    resIV.to_csv(f'data/mimicIV_ts.{ts}.month')"
   ]
  },
  {
   "cell_type": "code",
   "execution_count": 38,
   "id": "52a8d352-e0ea-41fb-a6a0-0b53b39996c4",
   "metadata": {},
   "outputs": [
    {
     "data": {
      "text/plain": [
       "'[22595853.0]'"
      ]
     },
     "execution_count": 38,
     "metadata": {},
     "output_type": "execute_result"
    }
   ],
   "source": [
    "df.hadm_id.iloc[0]"
   ]
  },
  {
   "cell_type": "code",
   "execution_count": 50,
   "id": "2f4812ce-0cfb-41ec-9ebe-2889f52a0af1",
   "metadata": {},
   "outputs": [],
   "source": [
    "from ast import literal_eval\n",
    "df = pd.read_csv('mimicIV_ts.1.month',index_col=[0,1]).sort_index().hadm_id\n",
    "df = df.apply(literal_eval)"
   ]
  },
  {
   "cell_type": "code",
   "execution_count": 57,
   "id": "d71790b9-f88b-4e2d-bfc9-e74bc06eee61",
   "metadata": {},
   "outputs": [
    {
     "data": {
      "text/plain": [
       "subject_id  admittime \n",
       "10000032.0  2180-05-06    1.0\n",
       "            2180-06-05    1.0\n",
       "            2180-07-05    1.0\n",
       "            2180-08-04    1.0\n",
       "10000084.0  2160-11-21    1.0\n",
       "                         ... \n",
       "19999784.0  2121-05-08    1.0\n",
       "19999828.0  2147-07-18    1.0\n",
       "            2149-01-08    1.0\n",
       "19999840.0  2164-07-25    1.0\n",
       "            2164-08-24    1.0\n",
       "Name: hadm_id, Length: 296088, dtype: float64"
      ]
     },
     "execution_count": 57,
     "metadata": {},
     "output_type": "execute_result"
    }
   ],
   "source": [
    "df.apply(len).where(lambda x: x > 0).dropna()"
   ]
  },
  {
   "cell_type": "code",
   "execution_count": 58,
   "id": "5a555b17-f00d-4823-bf83-0df928e5b471",
   "metadata": {},
   "outputs": [
    {
     "data": {
      "text/html": [
       "<div>\n",
       "<style scoped>\n",
       "    .dataframe tbody tr th:only-of-type {\n",
       "        vertical-align: middle;\n",
       "    }\n",
       "\n",
       "    .dataframe tbody tr th {\n",
       "        vertical-align: top;\n",
       "    }\n",
       "\n",
       "    .dataframe thead th {\n",
       "        text-align: right;\n",
       "    }\n",
       "</style>\n",
       "<table border=\"1\" class=\"dataframe\">\n",
       "  <thead>\n",
       "    <tr style=\"text-align: right;\">\n",
       "      <th></th>\n",
       "      <th>subject_id</th>\n",
       "      <th>hadm_id</th>\n",
       "      <th>admittime</th>\n",
       "      <th>dischtime</th>\n",
       "      <th>deathtime</th>\n",
       "      <th>admission_type</th>\n",
       "      <th>admission_location</th>\n",
       "      <th>discharge_location</th>\n",
       "      <th>insurance</th>\n",
       "      <th>language</th>\n",
       "      <th>marital_status</th>\n",
       "      <th>ethnicity</th>\n",
       "      <th>edregtime</th>\n",
       "      <th>edouttime</th>\n",
       "      <th>hospital_expire_flag</th>\n",
       "      <th>hadm_index</th>\n",
       "    </tr>\n",
       "  </thead>\n",
       "  <tbody>\n",
       "    <tr>\n",
       "      <th>453341</th>\n",
       "      <td>16904137.0</td>\n",
       "      <td>21081215.0</td>\n",
       "      <td>2105-10-04 17:26:00</td>\n",
       "      <td>2105-10-12 11:11:00</td>\n",
       "      <td>NaN</td>\n",
       "      <td>URGENT</td>\n",
       "      <td>TRANSFER FROM HOSPITAL</td>\n",
       "      <td>HOME</td>\n",
       "      <td>Other</td>\n",
       "      <td>ENGLISH</td>\n",
       "      <td>MARRIED</td>\n",
       "      <td>OTHER</td>\n",
       "      <td>NaN</td>\n",
       "      <td>NaN</td>\n",
       "      <td>0.0</td>\n",
       "      <td>0.0</td>\n",
       "    </tr>\n",
       "    <tr>\n",
       "      <th>14588</th>\n",
       "      <td>16233333.0</td>\n",
       "      <td>26733622.0</td>\n",
       "      <td>2109-08-31 04:20:00</td>\n",
       "      <td>2109-08-31 07:51:00</td>\n",
       "      <td>NaN</td>\n",
       "      <td>EU OBSERVATION</td>\n",
       "      <td>EMERGENCY ROOM</td>\n",
       "      <td>NaN</td>\n",
       "      <td>Other</td>\n",
       "      <td>ENGLISH</td>\n",
       "      <td>SINGLE</td>\n",
       "      <td>WHITE</td>\n",
       "      <td>2109-08-31 02:46:00</td>\n",
       "      <td>2109-08-31 07:51:00</td>\n",
       "      <td>0.0</td>\n",
       "      <td>0.0</td>\n",
       "    </tr>\n",
       "    <tr>\n",
       "      <th>503485</th>\n",
       "      <td>12024697.0</td>\n",
       "      <td>20302177.0</td>\n",
       "      <td>2109-12-14 22:50:00</td>\n",
       "      <td>2110-01-15 14:53:00</td>\n",
       "      <td>NaN</td>\n",
       "      <td>EW EMER.</td>\n",
       "      <td>EMERGENCY ROOM</td>\n",
       "      <td>REHAB</td>\n",
       "      <td>Other</td>\n",
       "      <td>ENGLISH</td>\n",
       "      <td>MARRIED</td>\n",
       "      <td>WHITE</td>\n",
       "      <td>2109-12-14 19:31:00</td>\n",
       "      <td>2109-12-15 01:56:00</td>\n",
       "      <td>0.0</td>\n",
       "      <td>0.0</td>\n",
       "    </tr>\n",
       "    <tr>\n",
       "      <th>389518</th>\n",
       "      <td>17195991.0</td>\n",
       "      <td>23542772.0</td>\n",
       "      <td>2110-01-11 22:47:00</td>\n",
       "      <td>2110-01-18 10:25:00</td>\n",
       "      <td>NaN</td>\n",
       "      <td>EW EMER.</td>\n",
       "      <td>EMERGENCY ROOM</td>\n",
       "      <td>CHRONIC/LONG TERM ACUTE CARE</td>\n",
       "      <td>Other</td>\n",
       "      <td>ENGLISH</td>\n",
       "      <td>SINGLE</td>\n",
       "      <td>UNABLE TO OBTAIN</td>\n",
       "      <td>2110-01-11 21:42:00</td>\n",
       "      <td>2110-01-12 00:54:00</td>\n",
       "      <td>0.0</td>\n",
       "      <td>0.0</td>\n",
       "    </tr>\n",
       "    <tr>\n",
       "      <th>369970</th>\n",
       "      <td>17922008.0</td>\n",
       "      <td>25929249.0</td>\n",
       "      <td>2110-01-12 00:34:00</td>\n",
       "      <td>2110-01-23 15:00:00</td>\n",
       "      <td>NaN</td>\n",
       "      <td>EW EMER.</td>\n",
       "      <td>EMERGENCY ROOM</td>\n",
       "      <td>REHAB</td>\n",
       "      <td>Medicare</td>\n",
       "      <td>ENGLISH</td>\n",
       "      <td>MARRIED</td>\n",
       "      <td>WHITE</td>\n",
       "      <td>2110-01-11 18:01:00</td>\n",
       "      <td>2110-01-12 01:30:00</td>\n",
       "      <td>0.0</td>\n",
       "      <td>0.0</td>\n",
       "    </tr>\n",
       "    <tr>\n",
       "      <th>...</th>\n",
       "      <td>...</td>\n",
       "      <td>...</td>\n",
       "      <td>...</td>\n",
       "      <td>...</td>\n",
       "      <td>...</td>\n",
       "      <td>...</td>\n",
       "      <td>...</td>\n",
       "      <td>...</td>\n",
       "      <td>...</td>\n",
       "      <td>...</td>\n",
       "      <td>...</td>\n",
       "      <td>...</td>\n",
       "      <td>...</td>\n",
       "      <td>...</td>\n",
       "      <td>...</td>\n",
       "      <td>...</td>\n",
       "    </tr>\n",
       "    <tr>\n",
       "      <th>37662</th>\n",
       "      <td>15273135.0</td>\n",
       "      <td>25809426.0</td>\n",
       "      <td>2211-12-02 23:03:00</td>\n",
       "      <td>2211-12-09 16:29:00</td>\n",
       "      <td>NaN</td>\n",
       "      <td>EW EMER.</td>\n",
       "      <td>WALK-IN/SELF REFERRAL</td>\n",
       "      <td>HOME HEALTH CARE</td>\n",
       "      <td>Medicare</td>\n",
       "      <td>ENGLISH</td>\n",
       "      <td>SINGLE</td>\n",
       "      <td>BLACK/AFRICAN AMERICAN</td>\n",
       "      <td>2211-12-02 16:10:00</td>\n",
       "      <td>2211-12-03 00:23:00</td>\n",
       "      <td>0.0</td>\n",
       "      <td>8.0</td>\n",
       "    </tr>\n",
       "    <tr>\n",
       "      <th>252723</th>\n",
       "      <td>16573705.0</td>\n",
       "      <td>26923952.0</td>\n",
       "      <td>2212-01-12 23:47:00</td>\n",
       "      <td>2212-01-17 18:17:00</td>\n",
       "      <td>NaN</td>\n",
       "      <td>EW EMER.</td>\n",
       "      <td>WALK-IN/SELF REFERRAL</td>\n",
       "      <td>HOME HEALTH CARE</td>\n",
       "      <td>Other</td>\n",
       "      <td>ENGLISH</td>\n",
       "      <td>WIDOWED</td>\n",
       "      <td>WHITE</td>\n",
       "      <td>2212-01-12 12:47:00</td>\n",
       "      <td>2212-01-13 01:18:00</td>\n",
       "      <td>0.0</td>\n",
       "      <td>18.0</td>\n",
       "    </tr>\n",
       "    <tr>\n",
       "      <th>422069</th>\n",
       "      <td>11973788.0</td>\n",
       "      <td>27306647.0</td>\n",
       "      <td>2212-01-19 15:43:00</td>\n",
       "      <td>2212-01-23 17:21:00</td>\n",
       "      <td>NaN</td>\n",
       "      <td>OBSERVATION ADMIT</td>\n",
       "      <td>PHYSICIAN REFERRAL</td>\n",
       "      <td>HOME HEALTH CARE</td>\n",
       "      <td>Medicare</td>\n",
       "      <td>ENGLISH</td>\n",
       "      <td>MARRIED</td>\n",
       "      <td>WHITE</td>\n",
       "      <td>2212-01-19 09:04:00</td>\n",
       "      <td>2212-01-19 17:59:00</td>\n",
       "      <td>0.0</td>\n",
       "      <td>6.0</td>\n",
       "    </tr>\n",
       "    <tr>\n",
       "      <th>419519</th>\n",
       "      <td>11973788.0</td>\n",
       "      <td>23238116.0</td>\n",
       "      <td>2212-01-28 12:08:00</td>\n",
       "      <td>2212-02-01 17:48:00</td>\n",
       "      <td>NaN</td>\n",
       "      <td>EW EMER.</td>\n",
       "      <td>PHYSICIAN REFERRAL</td>\n",
       "      <td>HOME HEALTH CARE</td>\n",
       "      <td>Medicare</td>\n",
       "      <td>ENGLISH</td>\n",
       "      <td>MARRIED</td>\n",
       "      <td>WHITE</td>\n",
       "      <td>2212-01-27 20:34:00</td>\n",
       "      <td>2212-01-28 13:17:00</td>\n",
       "      <td>0.0</td>\n",
       "      <td>7.0</td>\n",
       "    </tr>\n",
       "    <tr>\n",
       "      <th>438611</th>\n",
       "      <td>11973788.0</td>\n",
       "      <td>29492711.0</td>\n",
       "      <td>2212-04-06 12:13:00</td>\n",
       "      <td>2212-04-12 14:06:00</td>\n",
       "      <td>NaN</td>\n",
       "      <td>OBSERVATION ADMIT</td>\n",
       "      <td>PHYSICIAN REFERRAL</td>\n",
       "      <td>HOME</td>\n",
       "      <td>Medicare</td>\n",
       "      <td>ENGLISH</td>\n",
       "      <td>MARRIED</td>\n",
       "      <td>WHITE</td>\n",
       "      <td>2212-04-05 23:23:00</td>\n",
       "      <td>2212-04-06 14:20:00</td>\n",
       "      <td>0.0</td>\n",
       "      <td>8.0</td>\n",
       "    </tr>\n",
       "  </tbody>\n",
       "</table>\n",
       "<p>352660 rows × 16 columns</p>\n",
       "</div>"
      ],
      "text/plain": [
       "        subject_id     hadm_id           admittime           dischtime  \\\n",
       "453341  16904137.0  21081215.0 2105-10-04 17:26:00 2105-10-12 11:11:00   \n",
       "14588   16233333.0  26733622.0 2109-08-31 04:20:00 2109-08-31 07:51:00   \n",
       "503485  12024697.0  20302177.0 2109-12-14 22:50:00 2110-01-15 14:53:00   \n",
       "389518  17195991.0  23542772.0 2110-01-11 22:47:00 2110-01-18 10:25:00   \n",
       "369970  17922008.0  25929249.0 2110-01-12 00:34:00 2110-01-23 15:00:00   \n",
       "...            ...         ...                 ...                 ...   \n",
       "37662   15273135.0  25809426.0 2211-12-02 23:03:00 2211-12-09 16:29:00   \n",
       "252723  16573705.0  26923952.0 2212-01-12 23:47:00 2212-01-17 18:17:00   \n",
       "422069  11973788.0  27306647.0 2212-01-19 15:43:00 2212-01-23 17:21:00   \n",
       "419519  11973788.0  23238116.0 2212-01-28 12:08:00 2212-02-01 17:48:00   \n",
       "438611  11973788.0  29492711.0 2212-04-06 12:13:00 2212-04-12 14:06:00   \n",
       "\n",
       "       deathtime     admission_type      admission_location  \\\n",
       "453341       NaN             URGENT  TRANSFER FROM HOSPITAL   \n",
       "14588        NaN     EU OBSERVATION          EMERGENCY ROOM   \n",
       "503485       NaN           EW EMER.          EMERGENCY ROOM   \n",
       "389518       NaN           EW EMER.          EMERGENCY ROOM   \n",
       "369970       NaN           EW EMER.          EMERGENCY ROOM   \n",
       "...          ...                ...                     ...   \n",
       "37662        NaN           EW EMER.   WALK-IN/SELF REFERRAL   \n",
       "252723       NaN           EW EMER.   WALK-IN/SELF REFERRAL   \n",
       "422069       NaN  OBSERVATION ADMIT      PHYSICIAN REFERRAL   \n",
       "419519       NaN           EW EMER.      PHYSICIAN REFERRAL   \n",
       "438611       NaN  OBSERVATION ADMIT      PHYSICIAN REFERRAL   \n",
       "\n",
       "                  discharge_location insurance language marital_status  \\\n",
       "453341                          HOME     Other  ENGLISH        MARRIED   \n",
       "14588                            NaN     Other  ENGLISH         SINGLE   \n",
       "503485                         REHAB     Other  ENGLISH        MARRIED   \n",
       "389518  CHRONIC/LONG TERM ACUTE CARE     Other  ENGLISH         SINGLE   \n",
       "369970                         REHAB  Medicare  ENGLISH        MARRIED   \n",
       "...                              ...       ...      ...            ...   \n",
       "37662               HOME HEALTH CARE  Medicare  ENGLISH         SINGLE   \n",
       "252723              HOME HEALTH CARE     Other  ENGLISH        WIDOWED   \n",
       "422069              HOME HEALTH CARE  Medicare  ENGLISH        MARRIED   \n",
       "419519              HOME HEALTH CARE  Medicare  ENGLISH        MARRIED   \n",
       "438611                          HOME  Medicare  ENGLISH        MARRIED   \n",
       "\n",
       "                     ethnicity            edregtime            edouttime  \\\n",
       "453341                   OTHER                  NaN                  NaN   \n",
       "14588                    WHITE  2109-08-31 02:46:00  2109-08-31 07:51:00   \n",
       "503485                   WHITE  2109-12-14 19:31:00  2109-12-15 01:56:00   \n",
       "389518        UNABLE TO OBTAIN  2110-01-11 21:42:00  2110-01-12 00:54:00   \n",
       "369970                   WHITE  2110-01-11 18:01:00  2110-01-12 01:30:00   \n",
       "...                        ...                  ...                  ...   \n",
       "37662   BLACK/AFRICAN AMERICAN  2211-12-02 16:10:00  2211-12-03 00:23:00   \n",
       "252723                   WHITE  2212-01-12 12:47:00  2212-01-13 01:18:00   \n",
       "422069                   WHITE  2212-01-19 09:04:00  2212-01-19 17:59:00   \n",
       "419519                   WHITE  2212-01-27 20:34:00  2212-01-28 13:17:00   \n",
       "438611                   WHITE  2212-04-05 23:23:00  2212-04-06 14:20:00   \n",
       "\n",
       "        hospital_expire_flag  hadm_index  \n",
       "453341                   0.0         0.0  \n",
       "14588                    0.0         0.0  \n",
       "503485                   0.0         0.0  \n",
       "389518                   0.0         0.0  \n",
       "369970                   0.0         0.0  \n",
       "...                      ...         ...  \n",
       "37662                    0.0         8.0  \n",
       "252723                   0.0        18.0  \n",
       "422069                   0.0         6.0  \n",
       "419519                   0.0         7.0  \n",
       "438611                   0.0         8.0  \n",
       "\n",
       "[352660 rows x 16 columns]"
      ]
     },
     "execution_count": 58,
     "metadata": {},
     "output_type": "execute_result"
    }
   ],
   "source": [
    "(mimicIV\n",
    ".read_admissions()\n",
    ".where(lambda x: # subjects with more than 1 visit\n",
    "      x.subject_id.isin(mimicIV.read_admissions().groupby('subject_id').size().where(lambda x: x > 1).dropna().index)\n",
    "     )\n",
    ".dropna(how='all')\n",
    ")"
   ]
  },
  {
   "cell_type": "code",
   "execution_count": 17,
   "id": "9267346b-673f-45da-bbc9-de21499b49f5",
   "metadata": {},
   "outputs": [
    {
     "name": "stdout",
     "output_type": "stream",
     "text": [
      "10.2 s ± 32.1 ms per loop (mean ± std. dev. of 2 runs, 1 loop each)\n"
     ]
    }
   ],
   "source": [
    "%%timeit -r 2\n",
    "resIV = (mimicIV\n",
    "           .read_admissions()\n",
    "           .where(lambda x: # subjects with more than 1 visit\n",
    "                  x.subject_id.isin(mimicIV.read_admissions().groupby('subject_id').size().where(lambda x: x > 1).dropna().index)\n",
    "                 )\n",
    "           .dropna(how='all')\n",
    "         .iloc[:10000]\n",
    "         .groupby('subject_id')\n",
    "           .apply(lambda subdf: (subdf\n",
    "                                     .set_index('admittime')\n",
    "                                     .sort_index()\n",
    "                                     .resample(f'{1*30}d')\n",
    "                                     .hadm_id\n",
    "                                     .apply(list)\n",
    "                                    )\n",
    "                 )\n",
    "          )"
   ]
  },
  {
   "cell_type": "code",
   "execution_count": 16,
   "id": "43dfe5b1-a220-413a-988e-b536960647ac",
   "metadata": {},
   "outputs": [
    {
     "data": {
      "application/vnd.jupyter.widget-view+json": {
       "model_id": "028e81d517234a78b97ee3f2beb2310a",
       "version_major": 2,
       "version_minor": 0
      },
      "text/plain": [
       "  0%|          | 0/4 [00:00<?, ?it/s]"
      ]
     },
     "metadata": {},
     "output_type": "display_data"
    },
    {
     "ename": "KeyboardInterrupt",
     "evalue": "",
     "output_type": "error",
     "traceback": [
      "\u001b[0;31m---------------------------------------------------------------------------\u001b[0m",
      "\u001b[0;31mKeyboardInterrupt\u001b[0m                         Traceback (most recent call last)",
      "Input \u001b[0;32mIn [16]\u001b[0m, in \u001b[0;36m<cell line: 6>\u001b[0;34m()\u001b[0m\n\u001b[1;32m     17\u001b[0m resIII_eligible_dist \u001b[38;5;241m=\u001b[39m pd\u001b[38;5;241m.\u001b[39mconcat([resIII_eligible_dist,pd\u001b[38;5;241m.\u001b[39mSeries([resIII\u001b[38;5;241m.\u001b[39mapply(\u001b[38;5;28mlen\u001b[39m)\u001b[38;5;241m.\u001b[39mwhere(\u001b[38;5;28;01mlambda\u001b[39;00m x: x \u001b[38;5;241m==\u001b[39m \u001b[38;5;241m0\u001b[39m)\u001b[38;5;241m.\u001b[39mdropna()\u001b[38;5;241m.\u001b[39msize],index\u001b[38;5;241m=\u001b[39m[\u001b[38;5;124m'\u001b[39m\u001b[38;5;124mEmpty admissions\u001b[39m\u001b[38;5;124m'\u001b[39m])])\u001b[38;5;241m.\u001b[39mrename(\u001b[38;5;124mf\u001b[39m\u001b[38;5;124m'\u001b[39m\u001b[38;5;132;01m{\u001b[39;00mpred_window\u001b[38;5;132;01m}\u001b[39;00m\u001b[38;5;124m months\u001b[39m\u001b[38;5;124m'\u001b[39m)\n\u001b[1;32m     18\u001b[0m all_res_III_dist\u001b[38;5;241m.\u001b[39mappend(resIII_eligible_dist)\n\u001b[1;32m     20\u001b[0m resIV \u001b[38;5;241m=\u001b[39m (\u001b[43mmimicIV\u001b[49m\n\u001b[1;32m     21\u001b[0m \u001b[43m       \u001b[49m\u001b[38;5;241;43m.\u001b[39;49m\u001b[43mread_admissions\u001b[49m\u001b[43m(\u001b[49m\u001b[43m)\u001b[49m\n\u001b[1;32m     22\u001b[0m \u001b[43m       \u001b[49m\u001b[38;5;241;43m.\u001b[39;49m\u001b[43mwhere\u001b[49m\u001b[43m(\u001b[49m\u001b[38;5;28;43;01mlambda\u001b[39;49;00m\u001b[43m \u001b[49m\u001b[43mx\u001b[49m\u001b[43m:\u001b[49m\u001b[43m \u001b[49m\u001b[38;5;66;43;03m# subjects with more than 1 visit\u001b[39;49;00m\n\u001b[1;32m     23\u001b[0m \u001b[43m              \u001b[49m\u001b[43mx\u001b[49m\u001b[38;5;241;43m.\u001b[39;49m\u001b[43msubject_id\u001b[49m\u001b[38;5;241;43m.\u001b[39;49m\u001b[43misin\u001b[49m\u001b[43m(\u001b[49m\u001b[43mmimicIV\u001b[49m\u001b[38;5;241;43m.\u001b[39;49m\u001b[43mread_admissions\u001b[49m\u001b[43m(\u001b[49m\u001b[43m)\u001b[49m\u001b[38;5;241;43m.\u001b[39;49m\u001b[43mgroupby\u001b[49m\u001b[43m(\u001b[49m\u001b[38;5;124;43m'\u001b[39;49m\u001b[38;5;124;43msubject_id\u001b[39;49m\u001b[38;5;124;43m'\u001b[39;49m\u001b[43m)\u001b[49m\u001b[38;5;241;43m.\u001b[39;49m\u001b[43msize\u001b[49m\u001b[43m(\u001b[49m\u001b[43m)\u001b[49m\u001b[38;5;241;43m.\u001b[39;49m\u001b[43mwhere\u001b[49m\u001b[43m(\u001b[49m\u001b[38;5;28;43;01mlambda\u001b[39;49;00m\u001b[43m \u001b[49m\u001b[43mx\u001b[49m\u001b[43m:\u001b[49m\u001b[43m \u001b[49m\u001b[43mx\u001b[49m\u001b[43m \u001b[49m\u001b[38;5;241;43m>\u001b[39;49m\u001b[43m \u001b[49m\u001b[38;5;241;43m1\u001b[39;49m\u001b[43m)\u001b[49m\u001b[38;5;241;43m.\u001b[39;49m\u001b[43mdropna\u001b[49m\u001b[43m(\u001b[49m\u001b[43m)\u001b[49m\u001b[38;5;241;43m.\u001b[39;49m\u001b[43mindex\u001b[49m\u001b[43m)\u001b[49m\n\u001b[1;32m     24\u001b[0m \u001b[43m             \u001b[49m\u001b[43m)\u001b[49m\n\u001b[1;32m     25\u001b[0m \u001b[43m       \u001b[49m\u001b[38;5;241;43m.\u001b[39;49m\u001b[43mdropna\u001b[49m\u001b[43m(\u001b[49m\u001b[43mhow\u001b[49m\u001b[38;5;241;43m=\u001b[39;49m\u001b[38;5;124;43m'\u001b[39;49m\u001b[38;5;124;43mall\u001b[39;49m\u001b[38;5;124;43m'\u001b[39;49m\u001b[43m)\u001b[49m\n\u001b[1;32m     26\u001b[0m \u001b[43m       \u001b[49m\u001b[38;5;241;43m.\u001b[39;49m\u001b[43mgroupby\u001b[49m\u001b[43m(\u001b[49m\u001b[43m[\u001b[49m\u001b[38;5;124;43m'\u001b[39;49m\u001b[38;5;124;43msubject_id\u001b[39;49m\u001b[38;5;124;43m'\u001b[39;49m\u001b[43m,\u001b[49m\u001b[38;5;124;43m'\u001b[39;49m\u001b[38;5;124;43madmittime\u001b[39;49m\u001b[38;5;124;43m'\u001b[39;49m\u001b[43m]\u001b[49m\u001b[43m)\u001b[49m\n\u001b[0;32m---> 27\u001b[0m \u001b[43m       \u001b[49m\u001b[38;5;241;43m.\u001b[39;49m\u001b[43mapply\u001b[49m\u001b[43m(\u001b[49m\u001b[38;5;28;43;01mlambda\u001b[39;49;00m\u001b[43m \u001b[49m\u001b[43msubdf\u001b[49m\u001b[43m:\u001b[49m\u001b[43m \u001b[49m\u001b[43madmissionsIVv2\u001b[49m\u001b[38;5;241;43m.\u001b[39;49m\u001b[43mloc\u001b[49m\u001b[43m[\u001b[49m\u001b[43midx\u001b[49m\u001b[43m[\u001b[49m\u001b[43msubdf\u001b[49m\u001b[38;5;241;43m.\u001b[39;49m\u001b[43mname\u001b[49m\u001b[43m[\u001b[49m\u001b[38;5;241;43m0\u001b[39;49m\u001b[43m]\u001b[49m\u001b[43m,\u001b[49m\u001b[43msubdf\u001b[49m\u001b[38;5;241;43m.\u001b[39;49m\u001b[43mname\u001b[49m\u001b[43m[\u001b[49m\u001b[38;5;241;43m1\u001b[39;49m\u001b[43m]\u001b[49m\u001b[38;5;241;43m+\u001b[39;49m\u001b[43mtimedelta\u001b[49m\u001b[43m(\u001b[49m\u001b[43mdays\u001b[49m\u001b[38;5;241;43m=\u001b[39;49m\u001b[38;5;241;43m1\u001b[39;49m\u001b[43m)\u001b[49m\u001b[43m:\u001b[49m\u001b[43msubdf\u001b[49m\u001b[38;5;241;43m.\u001b[39;49m\u001b[43mname\u001b[49m\u001b[43m[\u001b[49m\u001b[38;5;241;43m1\u001b[39;49m\u001b[43m]\u001b[49m\u001b[38;5;241;43m+\u001b[39;49m\u001b[43mtimedelta\u001b[49m\u001b[43m(\u001b[49m\u001b[43mdays\u001b[49m\u001b[38;5;241;43m=\u001b[39;49m\u001b[43mpred_window\u001b[49m\u001b[38;5;241;43m*\u001b[39;49m\u001b[38;5;241;43m30\u001b[39;49m\u001b[43m)\u001b[49m\u001b[43m]\u001b[49m\u001b[43m,\u001b[49m\u001b[38;5;124;43m'\u001b[39;49m\u001b[38;5;124;43mhadm_id\u001b[39;49m\u001b[38;5;124;43m'\u001b[39;49m\u001b[43m]\u001b[49m\u001b[38;5;241;43m.\u001b[39;49m\u001b[43mtolist\u001b[49m\u001b[43m(\u001b[49m\u001b[43m)\u001b[49m\u001b[43m)\u001b[49m\n\u001b[1;32m     28\u001b[0m       )\n\u001b[1;32m     29\u001b[0m resIV_eligible_dist \u001b[38;5;241m=\u001b[39m resIV\u001b[38;5;241m.\u001b[39mapply(\u001b[38;5;28mlen\u001b[39m)\u001b[38;5;241m.\u001b[39mwhere(\u001b[38;5;28;01mlambda\u001b[39;00m x: x \u001b[38;5;241m>\u001b[39m \u001b[38;5;241m0\u001b[39m)\u001b[38;5;241m.\u001b[39mdropna()\u001b[38;5;241m.\u001b[39mdescribe()\n\u001b[1;32m     30\u001b[0m resIV_eligible_dist \u001b[38;5;241m=\u001b[39m pd\u001b[38;5;241m.\u001b[39mconcat([resIV_eligible_dist,pd\u001b[38;5;241m.\u001b[39mSeries([resIV\u001b[38;5;241m.\u001b[39mapply(\u001b[38;5;28mlen\u001b[39m)\u001b[38;5;241m.\u001b[39mwhere(\u001b[38;5;28;01mlambda\u001b[39;00m x: x \u001b[38;5;241m==\u001b[39m \u001b[38;5;241m0\u001b[39m)\u001b[38;5;241m.\u001b[39mdropna()\u001b[38;5;241m.\u001b[39msize],index\u001b[38;5;241m=\u001b[39m[\u001b[38;5;124m'\u001b[39m\u001b[38;5;124mEmpty admissions\u001b[39m\u001b[38;5;124m'\u001b[39m])])\u001b[38;5;241m.\u001b[39mrename(\u001b[38;5;124mf\u001b[39m\u001b[38;5;124m'\u001b[39m\u001b[38;5;132;01m{\u001b[39;00mpred_window\u001b[38;5;132;01m}\u001b[39;00m\u001b[38;5;124m months\u001b[39m\u001b[38;5;124m'\u001b[39m)\n",
      "File \u001b[0;32m~/Simao/miniconda3/envs/thesis/lib/python3.10/site-packages/pandas/core/groupby/groupby.py:1414\u001b[0m, in \u001b[0;36mGroupBy.apply\u001b[0;34m(self, func, *args, **kwargs)\u001b[0m\n\u001b[1;32m   1412\u001b[0m \u001b[38;5;28;01mwith\u001b[39;00m option_context(\u001b[38;5;124m\"\u001b[39m\u001b[38;5;124mmode.chained_assignment\u001b[39m\u001b[38;5;124m\"\u001b[39m, \u001b[38;5;28;01mNone\u001b[39;00m):\n\u001b[1;32m   1413\u001b[0m     \u001b[38;5;28;01mtry\u001b[39;00m:\n\u001b[0;32m-> 1414\u001b[0m         result \u001b[38;5;241m=\u001b[39m \u001b[38;5;28;43mself\u001b[39;49m\u001b[38;5;241;43m.\u001b[39;49m\u001b[43m_python_apply_general\u001b[49m\u001b[43m(\u001b[49m\u001b[43mf\u001b[49m\u001b[43m,\u001b[49m\u001b[43m \u001b[49m\u001b[38;5;28;43mself\u001b[39;49m\u001b[38;5;241;43m.\u001b[39;49m\u001b[43m_selected_obj\u001b[49m\u001b[43m)\u001b[49m\n\u001b[1;32m   1415\u001b[0m     \u001b[38;5;28;01mexcept\u001b[39;00m \u001b[38;5;167;01mTypeError\u001b[39;00m:\n\u001b[1;32m   1416\u001b[0m         \u001b[38;5;66;03m# gh-20949\u001b[39;00m\n\u001b[1;32m   1417\u001b[0m         \u001b[38;5;66;03m# try again, with .apply acting as a filtering\u001b[39;00m\n\u001b[0;32m   (...)\u001b[0m\n\u001b[1;32m   1421\u001b[0m         \u001b[38;5;66;03m# fails on *some* columns, e.g. a numeric operation\u001b[39;00m\n\u001b[1;32m   1422\u001b[0m         \u001b[38;5;66;03m# on a string grouper column\u001b[39;00m\n\u001b[1;32m   1424\u001b[0m         \u001b[38;5;28;01mwith\u001b[39;00m \u001b[38;5;28mself\u001b[39m\u001b[38;5;241m.\u001b[39m_group_selection_context():\n",
      "File \u001b[0;32m~/Simao/miniconda3/envs/thesis/lib/python3.10/site-packages/pandas/core/groupby/groupby.py:1455\u001b[0m, in \u001b[0;36mGroupBy._python_apply_general\u001b[0;34m(self, f, data, not_indexed_same)\u001b[0m\n\u001b[1;32m   1429\u001b[0m \u001b[38;5;129m@final\u001b[39m\n\u001b[1;32m   1430\u001b[0m \u001b[38;5;28;01mdef\u001b[39;00m \u001b[38;5;21m_python_apply_general\u001b[39m(\n\u001b[1;32m   1431\u001b[0m     \u001b[38;5;28mself\u001b[39m,\n\u001b[0;32m   (...)\u001b[0m\n\u001b[1;32m   1434\u001b[0m     not_indexed_same: \u001b[38;5;28mbool\u001b[39m \u001b[38;5;241m|\u001b[39m \u001b[38;5;28;01mNone\u001b[39;00m \u001b[38;5;241m=\u001b[39m \u001b[38;5;28;01mNone\u001b[39;00m,\n\u001b[1;32m   1435\u001b[0m ) \u001b[38;5;241m-\u001b[39m\u001b[38;5;241m>\u001b[39m DataFrame \u001b[38;5;241m|\u001b[39m Series:\n\u001b[1;32m   1436\u001b[0m     \u001b[38;5;124;03m\"\"\"\u001b[39;00m\n\u001b[1;32m   1437\u001b[0m \u001b[38;5;124;03m    Apply function f in python space\u001b[39;00m\n\u001b[1;32m   1438\u001b[0m \n\u001b[0;32m   (...)\u001b[0m\n\u001b[1;32m   1453\u001b[0m \u001b[38;5;124;03m        data after applying f\u001b[39;00m\n\u001b[1;32m   1454\u001b[0m \u001b[38;5;124;03m    \"\"\"\u001b[39;00m\n\u001b[0;32m-> 1455\u001b[0m     values, mutated \u001b[38;5;241m=\u001b[39m \u001b[38;5;28;43mself\u001b[39;49m\u001b[38;5;241;43m.\u001b[39;49m\u001b[43mgrouper\u001b[49m\u001b[38;5;241;43m.\u001b[39;49m\u001b[43mapply\u001b[49m\u001b[43m(\u001b[49m\u001b[43mf\u001b[49m\u001b[43m,\u001b[49m\u001b[43m \u001b[49m\u001b[43mdata\u001b[49m\u001b[43m,\u001b[49m\u001b[43m \u001b[49m\u001b[38;5;28;43mself\u001b[39;49m\u001b[38;5;241;43m.\u001b[39;49m\u001b[43maxis\u001b[49m\u001b[43m)\u001b[49m\n\u001b[1;32m   1457\u001b[0m     \u001b[38;5;28;01mif\u001b[39;00m not_indexed_same \u001b[38;5;129;01mis\u001b[39;00m \u001b[38;5;28;01mNone\u001b[39;00m:\n\u001b[1;32m   1458\u001b[0m         not_indexed_same \u001b[38;5;241m=\u001b[39m mutated \u001b[38;5;129;01mor\u001b[39;00m \u001b[38;5;28mself\u001b[39m\u001b[38;5;241m.\u001b[39mmutated\n",
      "File \u001b[0;32m~/Simao/miniconda3/envs/thesis/lib/python3.10/site-packages/pandas/core/groupby/ops.py:761\u001b[0m, in \u001b[0;36mBaseGrouper.apply\u001b[0;34m(self, f, data, axis)\u001b[0m\n\u001b[1;32m    759\u001b[0m \u001b[38;5;66;03m# group might be modified\u001b[39;00m\n\u001b[1;32m    760\u001b[0m group_axes \u001b[38;5;241m=\u001b[39m group\u001b[38;5;241m.\u001b[39maxes\n\u001b[0;32m--> 761\u001b[0m res \u001b[38;5;241m=\u001b[39m \u001b[43mf\u001b[49m\u001b[43m(\u001b[49m\u001b[43mgroup\u001b[49m\u001b[43m)\u001b[49m\n\u001b[1;32m    762\u001b[0m \u001b[38;5;28;01mif\u001b[39;00m \u001b[38;5;129;01mnot\u001b[39;00m mutated \u001b[38;5;129;01mand\u001b[39;00m \u001b[38;5;129;01mnot\u001b[39;00m _is_indexed_like(res, group_axes, axis):\n\u001b[1;32m    763\u001b[0m     mutated \u001b[38;5;241m=\u001b[39m \u001b[38;5;28;01mTrue\u001b[39;00m\n",
      "Input \u001b[0;32mIn [16]\u001b[0m, in \u001b[0;36m<lambda>\u001b[0;34m(subdf)\u001b[0m\n\u001b[1;32m     17\u001b[0m resIII_eligible_dist \u001b[38;5;241m=\u001b[39m pd\u001b[38;5;241m.\u001b[39mconcat([resIII_eligible_dist,pd\u001b[38;5;241m.\u001b[39mSeries([resIII\u001b[38;5;241m.\u001b[39mapply(\u001b[38;5;28mlen\u001b[39m)\u001b[38;5;241m.\u001b[39mwhere(\u001b[38;5;28;01mlambda\u001b[39;00m x: x \u001b[38;5;241m==\u001b[39m \u001b[38;5;241m0\u001b[39m)\u001b[38;5;241m.\u001b[39mdropna()\u001b[38;5;241m.\u001b[39msize],index\u001b[38;5;241m=\u001b[39m[\u001b[38;5;124m'\u001b[39m\u001b[38;5;124mEmpty admissions\u001b[39m\u001b[38;5;124m'\u001b[39m])])\u001b[38;5;241m.\u001b[39mrename(\u001b[38;5;124mf\u001b[39m\u001b[38;5;124m'\u001b[39m\u001b[38;5;132;01m{\u001b[39;00mpred_window\u001b[38;5;132;01m}\u001b[39;00m\u001b[38;5;124m months\u001b[39m\u001b[38;5;124m'\u001b[39m)\n\u001b[1;32m     18\u001b[0m all_res_III_dist\u001b[38;5;241m.\u001b[39mappend(resIII_eligible_dist)\n\u001b[1;32m     20\u001b[0m resIV \u001b[38;5;241m=\u001b[39m (mimicIV\n\u001b[1;32m     21\u001b[0m        \u001b[38;5;241m.\u001b[39mread_admissions()\n\u001b[1;32m     22\u001b[0m        \u001b[38;5;241m.\u001b[39mwhere(\u001b[38;5;28;01mlambda\u001b[39;00m x: \u001b[38;5;66;03m# subjects with more than 1 visit\u001b[39;00m\n\u001b[1;32m     23\u001b[0m               x\u001b[38;5;241m.\u001b[39msubject_id\u001b[38;5;241m.\u001b[39misin(mimicIV\u001b[38;5;241m.\u001b[39mread_admissions()\u001b[38;5;241m.\u001b[39mgroupby(\u001b[38;5;124m'\u001b[39m\u001b[38;5;124msubject_id\u001b[39m\u001b[38;5;124m'\u001b[39m)\u001b[38;5;241m.\u001b[39msize()\u001b[38;5;241m.\u001b[39mwhere(\u001b[38;5;28;01mlambda\u001b[39;00m x: x \u001b[38;5;241m>\u001b[39m \u001b[38;5;241m1\u001b[39m)\u001b[38;5;241m.\u001b[39mdropna()\u001b[38;5;241m.\u001b[39mindex)\n\u001b[1;32m     24\u001b[0m              )\n\u001b[1;32m     25\u001b[0m        \u001b[38;5;241m.\u001b[39mdropna(how\u001b[38;5;241m=\u001b[39m\u001b[38;5;124m'\u001b[39m\u001b[38;5;124mall\u001b[39m\u001b[38;5;124m'\u001b[39m)\n\u001b[1;32m     26\u001b[0m        \u001b[38;5;241m.\u001b[39mgroupby([\u001b[38;5;124m'\u001b[39m\u001b[38;5;124msubject_id\u001b[39m\u001b[38;5;124m'\u001b[39m,\u001b[38;5;124m'\u001b[39m\u001b[38;5;124madmittime\u001b[39m\u001b[38;5;124m'\u001b[39m])\n\u001b[0;32m---> 27\u001b[0m        \u001b[38;5;241m.\u001b[39mapply(\u001b[38;5;28;01mlambda\u001b[39;00m subdf: \u001b[43madmissionsIVv2\u001b[49m\u001b[38;5;241;43m.\u001b[39;49m\u001b[43mloc\u001b[49m\u001b[43m[\u001b[49m\u001b[43midx\u001b[49m\u001b[43m[\u001b[49m\u001b[43msubdf\u001b[49m\u001b[38;5;241;43m.\u001b[39;49m\u001b[43mname\u001b[49m\u001b[43m[\u001b[49m\u001b[38;5;241;43m0\u001b[39;49m\u001b[43m]\u001b[49m\u001b[43m,\u001b[49m\u001b[43msubdf\u001b[49m\u001b[38;5;241;43m.\u001b[39;49m\u001b[43mname\u001b[49m\u001b[43m[\u001b[49m\u001b[38;5;241;43m1\u001b[39;49m\u001b[43m]\u001b[49m\u001b[38;5;241;43m+\u001b[39;49m\u001b[43mtimedelta\u001b[49m\u001b[43m(\u001b[49m\u001b[43mdays\u001b[49m\u001b[38;5;241;43m=\u001b[39;49m\u001b[38;5;241;43m1\u001b[39;49m\u001b[43m)\u001b[49m\u001b[43m:\u001b[49m\u001b[43msubdf\u001b[49m\u001b[38;5;241;43m.\u001b[39;49m\u001b[43mname\u001b[49m\u001b[43m[\u001b[49m\u001b[38;5;241;43m1\u001b[39;49m\u001b[43m]\u001b[49m\u001b[38;5;241;43m+\u001b[39;49m\u001b[43mtimedelta\u001b[49m\u001b[43m(\u001b[49m\u001b[43mdays\u001b[49m\u001b[38;5;241;43m=\u001b[39;49m\u001b[43mpred_window\u001b[49m\u001b[38;5;241;43m*\u001b[39;49m\u001b[38;5;241;43m30\u001b[39;49m\u001b[43m)\u001b[49m\u001b[43m]\u001b[49m\u001b[43m,\u001b[49m\u001b[38;5;124;43m'\u001b[39;49m\u001b[38;5;124;43mhadm_id\u001b[39;49m\u001b[38;5;124;43m'\u001b[39;49m\u001b[43m]\u001b[49m\u001b[38;5;241m.\u001b[39mtolist())\n\u001b[1;32m     28\u001b[0m       )\n\u001b[1;32m     29\u001b[0m resIV_eligible_dist \u001b[38;5;241m=\u001b[39m resIV\u001b[38;5;241m.\u001b[39mapply(\u001b[38;5;28mlen\u001b[39m)\u001b[38;5;241m.\u001b[39mwhere(\u001b[38;5;28;01mlambda\u001b[39;00m x: x \u001b[38;5;241m>\u001b[39m \u001b[38;5;241m0\u001b[39m)\u001b[38;5;241m.\u001b[39mdropna()\u001b[38;5;241m.\u001b[39mdescribe()\n\u001b[1;32m     30\u001b[0m resIV_eligible_dist \u001b[38;5;241m=\u001b[39m pd\u001b[38;5;241m.\u001b[39mconcat([resIV_eligible_dist,pd\u001b[38;5;241m.\u001b[39mSeries([resIV\u001b[38;5;241m.\u001b[39mapply(\u001b[38;5;28mlen\u001b[39m)\u001b[38;5;241m.\u001b[39mwhere(\u001b[38;5;28;01mlambda\u001b[39;00m x: x \u001b[38;5;241m==\u001b[39m \u001b[38;5;241m0\u001b[39m)\u001b[38;5;241m.\u001b[39mdropna()\u001b[38;5;241m.\u001b[39msize],index\u001b[38;5;241m=\u001b[39m[\u001b[38;5;124m'\u001b[39m\u001b[38;5;124mEmpty admissions\u001b[39m\u001b[38;5;124m'\u001b[39m])])\u001b[38;5;241m.\u001b[39mrename(\u001b[38;5;124mf\u001b[39m\u001b[38;5;124m'\u001b[39m\u001b[38;5;132;01m{\u001b[39;00mpred_window\u001b[38;5;132;01m}\u001b[39;00m\u001b[38;5;124m months\u001b[39m\u001b[38;5;124m'\u001b[39m)\n",
      "File \u001b[0;32m~/Simao/miniconda3/envs/thesis/lib/python3.10/site-packages/pandas/core/indexing.py:961\u001b[0m, in \u001b[0;36m_LocationIndexer.__getitem__\u001b[0;34m(self, key)\u001b[0m\n\u001b[1;32m    959\u001b[0m     \u001b[38;5;28;01mif\u001b[39;00m \u001b[38;5;28mself\u001b[39m\u001b[38;5;241m.\u001b[39m_is_scalar_access(key):\n\u001b[1;32m    960\u001b[0m         \u001b[38;5;28;01mreturn\u001b[39;00m \u001b[38;5;28mself\u001b[39m\u001b[38;5;241m.\u001b[39mobj\u001b[38;5;241m.\u001b[39m_get_value(\u001b[38;5;241m*\u001b[39mkey, takeable\u001b[38;5;241m=\u001b[39m\u001b[38;5;28mself\u001b[39m\u001b[38;5;241m.\u001b[39m_takeable)\n\u001b[0;32m--> 961\u001b[0m     \u001b[38;5;28;01mreturn\u001b[39;00m \u001b[38;5;28;43mself\u001b[39;49m\u001b[38;5;241;43m.\u001b[39;49m\u001b[43m_getitem_tuple\u001b[49m\u001b[43m(\u001b[49m\u001b[43mkey\u001b[49m\u001b[43m)\u001b[49m\n\u001b[1;32m    962\u001b[0m \u001b[38;5;28;01melse\u001b[39;00m:\n\u001b[1;32m    963\u001b[0m     \u001b[38;5;66;03m# we by definition only have the 0th axis\u001b[39;00m\n\u001b[1;32m    964\u001b[0m     axis \u001b[38;5;241m=\u001b[39m \u001b[38;5;28mself\u001b[39m\u001b[38;5;241m.\u001b[39maxis \u001b[38;5;129;01mor\u001b[39;00m \u001b[38;5;241m0\u001b[39m\n",
      "File \u001b[0;32m~/Simao/miniconda3/envs/thesis/lib/python3.10/site-packages/pandas/core/indexing.py:1140\u001b[0m, in \u001b[0;36m_LocIndexer._getitem_tuple\u001b[0;34m(self, tup)\u001b[0m\n\u001b[1;32m   1138\u001b[0m \u001b[38;5;28;01mwith\u001b[39;00m suppress(IndexingError):\n\u001b[1;32m   1139\u001b[0m     tup \u001b[38;5;241m=\u001b[39m \u001b[38;5;28mself\u001b[39m\u001b[38;5;241m.\u001b[39m_expand_ellipsis(tup)\n\u001b[0;32m-> 1140\u001b[0m     \u001b[38;5;28;01mreturn\u001b[39;00m \u001b[38;5;28;43mself\u001b[39;49m\u001b[38;5;241;43m.\u001b[39;49m\u001b[43m_getitem_lowerdim\u001b[49m\u001b[43m(\u001b[49m\u001b[43mtup\u001b[49m\u001b[43m)\u001b[49m\n\u001b[1;32m   1142\u001b[0m \u001b[38;5;66;03m# no multi-index, so validate all of the indexers\u001b[39;00m\n\u001b[1;32m   1143\u001b[0m tup \u001b[38;5;241m=\u001b[39m \u001b[38;5;28mself\u001b[39m\u001b[38;5;241m.\u001b[39m_validate_tuple_indexer(tup)\n",
      "File \u001b[0;32m~/Simao/miniconda3/envs/thesis/lib/python3.10/site-packages/pandas/core/indexing.py:843\u001b[0m, in \u001b[0;36m_LocationIndexer._getitem_lowerdim\u001b[0;34m(self, tup)\u001b[0m\n\u001b[1;32m    841\u001b[0m \u001b[38;5;66;03m# we may have a nested tuples indexer here\u001b[39;00m\n\u001b[1;32m    842\u001b[0m \u001b[38;5;28;01mif\u001b[39;00m \u001b[38;5;28mself\u001b[39m\u001b[38;5;241m.\u001b[39m_is_nested_tuple_indexer(tup):\n\u001b[0;32m--> 843\u001b[0m     \u001b[38;5;28;01mreturn\u001b[39;00m \u001b[38;5;28;43mself\u001b[39;49m\u001b[38;5;241;43m.\u001b[39;49m\u001b[43m_getitem_nested_tuple\u001b[49m\u001b[43m(\u001b[49m\u001b[43mtup\u001b[49m\u001b[43m)\u001b[49m\n\u001b[1;32m    845\u001b[0m \u001b[38;5;66;03m# we maybe be using a tuple to represent multiple dimensions here\u001b[39;00m\n\u001b[1;32m    846\u001b[0m ax0 \u001b[38;5;241m=\u001b[39m \u001b[38;5;28mself\u001b[39m\u001b[38;5;241m.\u001b[39mobj\u001b[38;5;241m.\u001b[39m_get_axis(\u001b[38;5;241m0\u001b[39m)\n",
      "File \u001b[0;32m~/Simao/miniconda3/envs/thesis/lib/python3.10/site-packages/pandas/core/indexing.py:942\u001b[0m, in \u001b[0;36m_LocationIndexer._getitem_nested_tuple\u001b[0;34m(self, tup)\u001b[0m\n\u001b[1;32m    939\u001b[0m     axis \u001b[38;5;241m-\u001b[39m\u001b[38;5;241m=\u001b[39m \u001b[38;5;241m1\u001b[39m\n\u001b[1;32m    940\u001b[0m     \u001b[38;5;28;01mcontinue\u001b[39;00m\n\u001b[0;32m--> 942\u001b[0m obj \u001b[38;5;241m=\u001b[39m \u001b[38;5;28;43mgetattr\u001b[39;49m\u001b[43m(\u001b[49m\u001b[43mobj\u001b[49m\u001b[43m,\u001b[49m\u001b[43m \u001b[49m\u001b[38;5;28;43mself\u001b[39;49m\u001b[38;5;241;43m.\u001b[39;49m\u001b[43mname\u001b[49m\u001b[43m)\u001b[49m\u001b[38;5;241;43m.\u001b[39;49m\u001b[43m_getitem_axis\u001b[49m\u001b[43m(\u001b[49m\u001b[43mkey\u001b[49m\u001b[43m,\u001b[49m\u001b[43m \u001b[49m\u001b[43maxis\u001b[49m\u001b[38;5;241;43m=\u001b[39;49m\u001b[43maxis\u001b[49m\u001b[43m)\u001b[49m\n\u001b[1;32m    943\u001b[0m axis \u001b[38;5;241m-\u001b[39m\u001b[38;5;241m=\u001b[39m \u001b[38;5;241m1\u001b[39m\n\u001b[1;32m    945\u001b[0m \u001b[38;5;66;03m# if we have a scalar, we are done\u001b[39;00m\n",
      "File \u001b[0;32m~/Simao/miniconda3/envs/thesis/lib/python3.10/site-packages/pandas/core/indexing.py:1195\u001b[0m, in \u001b[0;36m_LocIndexer._getitem_axis\u001b[0;34m(self, key, axis)\u001b[0m\n\u001b[1;32m   1193\u001b[0m \u001b[38;5;66;03m# nested tuple slicing\u001b[39;00m\n\u001b[1;32m   1194\u001b[0m \u001b[38;5;28;01mif\u001b[39;00m is_nested_tuple(key, labels):\n\u001b[0;32m-> 1195\u001b[0m     locs \u001b[38;5;241m=\u001b[39m \u001b[43mlabels\u001b[49m\u001b[38;5;241;43m.\u001b[39;49m\u001b[43mget_locs\u001b[49m\u001b[43m(\u001b[49m\u001b[43mkey\u001b[49m\u001b[43m)\u001b[49m\n\u001b[1;32m   1196\u001b[0m     indexer \u001b[38;5;241m=\u001b[39m [\u001b[38;5;28mslice\u001b[39m(\u001b[38;5;28;01mNone\u001b[39;00m)] \u001b[38;5;241m*\u001b[39m \u001b[38;5;28mself\u001b[39m\u001b[38;5;241m.\u001b[39mndim\n\u001b[1;32m   1197\u001b[0m     indexer[axis] \u001b[38;5;241m=\u001b[39m locs\n",
      "File \u001b[0;32m~/Simao/miniconda3/envs/thesis/lib/python3.10/site-packages/pandas/core/indexes/multi.py:3426\u001b[0m, in \u001b[0;36mMultiIndex.get_locs\u001b[0;34m(self, seq)\u001b[0m\n\u001b[1;32m   3423\u001b[0m     \u001b[38;5;28;01melse\u001b[39;00m:\n\u001b[1;32m   3424\u001b[0m         \u001b[38;5;66;03m# a single label\u001b[39;00m\n\u001b[1;32m   3425\u001b[0m         lvl_indexer \u001b[38;5;241m=\u001b[39m \u001b[38;5;28mself\u001b[39m\u001b[38;5;241m.\u001b[39m_get_loc_level(k, level\u001b[38;5;241m=\u001b[39mi)[\u001b[38;5;241m0\u001b[39m]\n\u001b[0;32m-> 3426\u001b[0m         indexer \u001b[38;5;241m=\u001b[39m \u001b[43m_update_indexer\u001b[49m\u001b[43m(\u001b[49m\n\u001b[1;32m   3427\u001b[0m \u001b[43m            \u001b[49m\u001b[43m_convert_to_indexer\u001b[49m\u001b[43m(\u001b[49m\u001b[43mlvl_indexer\u001b[49m\u001b[43m)\u001b[49m\u001b[43m,\u001b[49m\n\u001b[1;32m   3428\u001b[0m \u001b[43m            \u001b[49m\u001b[43mindexer\u001b[49m\u001b[38;5;241;43m=\u001b[39;49m\u001b[43mindexer\u001b[49m\u001b[43m,\u001b[49m\n\u001b[1;32m   3429\u001b[0m \u001b[43m        \u001b[49m\u001b[43m)\u001b[49m\n\u001b[1;32m   3431\u001b[0m \u001b[38;5;66;03m# empty indexer\u001b[39;00m\n\u001b[1;32m   3432\u001b[0m \u001b[38;5;28;01mif\u001b[39;00m indexer \u001b[38;5;129;01mis\u001b[39;00m \u001b[38;5;28;01mNone\u001b[39;00m:\n",
      "File \u001b[0;32m~/Simao/miniconda3/envs/thesis/lib/python3.10/site-packages/pandas/core/indexes/multi.py:3324\u001b[0m, in \u001b[0;36mMultiIndex.get_locs.<locals>._update_indexer\u001b[0;34m(idxr, indexer)\u001b[0m\n\u001b[1;32m   3322\u001b[0m \u001b[38;5;28;01mdef\u001b[39;00m \u001b[38;5;21m_update_indexer\u001b[39m(idxr: Index, indexer: Index) \u001b[38;5;241m-\u001b[39m\u001b[38;5;241m>\u001b[39m Index:\n\u001b[1;32m   3323\u001b[0m     indexer_intersection \u001b[38;5;241m=\u001b[39m indexer\u001b[38;5;241m.\u001b[39mintersection(idxr)\n\u001b[0;32m-> 3324\u001b[0m     \u001b[38;5;28;01mif\u001b[39;00m \u001b[43mindexer_intersection\u001b[49m\u001b[38;5;241;43m.\u001b[39;49m\u001b[43mempty\u001b[49m \u001b[38;5;129;01mand\u001b[39;00m \u001b[38;5;129;01mnot\u001b[39;00m idxr\u001b[38;5;241m.\u001b[39mempty \u001b[38;5;129;01mand\u001b[39;00m \u001b[38;5;129;01mnot\u001b[39;00m indexer\u001b[38;5;241m.\u001b[39mempty:\n\u001b[1;32m   3325\u001b[0m         \u001b[38;5;28;01mraise\u001b[39;00m \u001b[38;5;167;01mKeyError\u001b[39;00m(seq)\n\u001b[1;32m   3326\u001b[0m     \u001b[38;5;28;01mreturn\u001b[39;00m indexer_intersection\n",
      "File \u001b[0;32m~/Simao/miniconda3/envs/thesis/lib/python3.10/site-packages/pandas/core/base.py:547\u001b[0m, in \u001b[0;36mIndexOpsMixin.empty\u001b[0;34m(self)\u001b[0m\n\u001b[1;32m    545\u001b[0m \u001b[38;5;129m@property\u001b[39m\n\u001b[1;32m    546\u001b[0m \u001b[38;5;28;01mdef\u001b[39;00m \u001b[38;5;21mempty\u001b[39m(\u001b[38;5;28mself\u001b[39m) \u001b[38;5;241m-\u001b[39m\u001b[38;5;241m>\u001b[39m \u001b[38;5;28mbool\u001b[39m:\n\u001b[0;32m--> 547\u001b[0m     \u001b[38;5;28;01mreturn\u001b[39;00m \u001b[38;5;129;01mnot\u001b[39;00m \u001b[38;5;28;43mself\u001b[39;49m\u001b[38;5;241;43m.\u001b[39;49m\u001b[43msize\u001b[49m\n",
      "File \u001b[0;32m~/Simao/miniconda3/envs/thesis/lib/python3.10/site-packages/pandas/core/base.py:363\u001b[0m, in \u001b[0;36mIndexOpsMixin.size\u001b[0;34m(self)\u001b[0m\n\u001b[1;32m    358\u001b[0m \u001b[38;5;129m@property\u001b[39m\n\u001b[1;32m    359\u001b[0m \u001b[38;5;28;01mdef\u001b[39;00m \u001b[38;5;21msize\u001b[39m(\u001b[38;5;28mself\u001b[39m) \u001b[38;5;241m-\u001b[39m\u001b[38;5;241m>\u001b[39m \u001b[38;5;28mint\u001b[39m:\n\u001b[1;32m    360\u001b[0m     \u001b[38;5;124;03m\"\"\"\u001b[39;00m\n\u001b[1;32m    361\u001b[0m \u001b[38;5;124;03m    Return the number of elements in the underlying data.\u001b[39;00m\n\u001b[1;32m    362\u001b[0m \u001b[38;5;124;03m    \"\"\"\u001b[39;00m\n\u001b[0;32m--> 363\u001b[0m     \u001b[38;5;28;01mreturn\u001b[39;00m \u001b[38;5;28mlen\u001b[39m(\u001b[38;5;28;43mself\u001b[39;49m\u001b[38;5;241;43m.\u001b[39;49m\u001b[43m_values\u001b[49m)\n",
      "File \u001b[0;32m~/Simao/miniconda3/envs/thesis/lib/python3.10/site-packages/pandas/core/indexes/base.py:4820\u001b[0m, in \u001b[0;36mIndex._values\u001b[0;34m(self)\u001b[0m\n\u001b[1;32m   4817\u001b[0m         array \u001b[38;5;241m=\u001b[39m PandasArray(array)\n\u001b[1;32m   4818\u001b[0m     \u001b[38;5;28;01mreturn\u001b[39;00m array\n\u001b[0;32m-> 4820\u001b[0m \u001b[38;5;129m@property\u001b[39m\n\u001b[1;32m   4821\u001b[0m \u001b[38;5;28;01mdef\u001b[39;00m \u001b[38;5;21m_values\u001b[39m(\u001b[38;5;28mself\u001b[39m) \u001b[38;5;241m-\u001b[39m\u001b[38;5;241m>\u001b[39m ExtensionArray \u001b[38;5;241m|\u001b[39m np\u001b[38;5;241m.\u001b[39mndarray:\n\u001b[1;32m   4822\u001b[0m     \u001b[38;5;124;03m\"\"\"\u001b[39;00m\n\u001b[1;32m   4823\u001b[0m \u001b[38;5;124;03m    The best array representation.\u001b[39;00m\n\u001b[1;32m   4824\u001b[0m \n\u001b[0;32m   (...)\u001b[0m\n\u001b[1;32m   4842\u001b[0m \u001b[38;5;124;03m    values : Values\u001b[39;00m\n\u001b[1;32m   4843\u001b[0m \u001b[38;5;124;03m    \"\"\"\u001b[39;00m\n\u001b[1;32m   4844\u001b[0m     \u001b[38;5;28;01mreturn\u001b[39;00m \u001b[38;5;28mself\u001b[39m\u001b[38;5;241m.\u001b[39m_data\n",
      "\u001b[0;31mKeyboardInterrupt\u001b[0m: "
     ]
    }
   ],
   "source": [
    "admissionsIIIv2 = mimicIII.read_admissions().set_index(['SUBJECT_ID','ADMITTIME']).sort_index()\n",
    "admissionsIVv2 = mimicIV.read_admissions().set_index(['subject_id','admittime']).sort_index()\n",
    "all_res_III_dist = []\n",
    "all_res_III = []\n",
    "all_res_IV_dist = []\n",
    "all_res_IV = []\n",
    "idx = pd.IndexSlice\n",
    "for pred_window in tqdm([1,3,6,12]):\n",
    "    resIII = (mimicIII\n",
    "           .read_admissions()\n",
    "           .where(lambda x: # subjects with more than 1 visit\n",
    "                  x.SUBJECT_ID.isin(mimicIII.read_admissions().groupby('SUBJECT_ID').size().where(lambda x: x > 1).dropna().index)\n",
    "                 )\n",
    "           .dropna(how='all')\n",
    "           .groupby(['SUBJECT_ID','ADMITTIME'])\n",
    "           .apply(lambda subdf: admissionsIIIv2.loc[idx[subdf.name[0],subdf.name[1]+timedelta(days=1):subdf.name[1]+timedelta(days=pred_window*30)],'HADM_ID'].tolist())\n",
    "          )\n",
    "    all_res_III.append(resIII)\n",
    "    resIII_eligible_dist = resIII.apply(len).where(lambda x: x > 0).dropna().describe()\n",
    "    resIII_eligible_dist = pd.concat([resIII_eligible_dist,pd.Series([resIII.apply(len).where(lambda x: x == 0).dropna().size],index=['Empty admissions'])]).rename(f'{pred_window} months')\n",
    "    all_res_III_dist.append(resIII_eligible_dist)\n",
    "    \n",
    "    resIV = (mimicIV\n",
    "           .read_admissions()\n",
    "           .where(lambda x: # subjects with more than 1 visit\n",
    "                  x.subject_id.isin(mimicIV.read_admissions().groupby('subject_id').size().where(lambda x: x > 1).dropna().index)\n",
    "                 )\n",
    "           .dropna(how='all')\n",
    "           .groupby(['subject_id','admittime'])\n",
    "           .apply(lambda subdf: admissionsIVv2.loc[idx[subdf.name[0],subdf.name[1]+timedelta(days=1):subdf.name[1]+timedelta(days=pred_window*30)],'hadm_id'].tolist())\n",
    "          )\n",
    "    all_res_IV.append(resIV)\n",
    "    resIV_eligible_dist = resIV.apply(len).where(lambda x: x > 0).dropna().describe()\n",
    "    resIV_eligible_dist = pd.concat([resIV_eligible_dist,pd.Series([resIV.apply(len).where(lambda x: x == 0).dropna().size],index=['Empty admissions'])]).rename(f'{pred_window} months')\n",
    "    all_res_mimicIV.append(resIV_eligible_dist)"
   ]
  },
  {
   "cell_type": "code",
   "execution_count": null,
   "id": "f7bef048-cfa3-432f-b339-7000d732ae05",
   "metadata": {},
   "outputs": [],
   "source": []
  },
  {
   "cell_type": "code",
   "execution_count": 11,
   "id": "ce143070-0737-4d14-b5ba-fdab1fc66d66",
   "metadata": {},
   "outputs": [
    {
     "data": {
      "text/plain": [
       "count                2464.000000\n",
       "mean                    1.044237\n",
       "std                     0.211503\n",
       "min                     1.000000\n",
       "25%                     1.000000\n",
       "50%                     1.000000\n",
       "75%                     1.000000\n",
       "max                     3.000000\n",
       "Empty admissions    17529.000000\n",
       "dtype: float64"
      ]
     },
     "execution_count": 11,
     "metadata": {},
     "output_type": "execute_result"
    }
   ],
   "source": [
    "all_res_III_dist[0]"
   ]
  },
  {
   "cell_type": "code",
   "execution_count": 56,
   "id": "b016eeeb-afb5-473e-a5bb-824e45ac5023",
   "metadata": {},
   "outputs": [
    {
     "data": {
      "text/plain": [
       "count    19993.000000\n",
       "mean         0.316111\n",
       "std          0.596952\n",
       "min          0.000000\n",
       "25%          0.000000\n",
       "50%          0.000000\n",
       "75%          1.000000\n",
       "max          7.000000\n",
       "dtype: float64"
      ]
     },
     "execution_count": 56,
     "metadata": {},
     "output_type": "execute_result"
    }
   ],
   "source": [
    "res.apply(len).describe()"
   ]
  },
  {
   "cell_type": "code",
   "execution_count": 54,
   "id": "a6ca5545-cf75-4853-b76a-3be6b5d0441a",
   "metadata": {},
   "outputs": [
    {
     "data": {
      "text/plain": [
       "0    14723\n",
       "1     4464\n",
       "2      636\n",
       "3      121\n",
       "4       31\n",
       "5       12\n",
       "6        5\n",
       "7        1\n",
       "dtype: int64"
      ]
     },
     "execution_count": 54,
     "metadata": {},
     "output_type": "execute_result"
    }
   ],
   "source": [
    "res.apply(len).value_counts()"
   ]
  },
  {
   "cell_type": "code",
   "execution_count": null,
   "id": "e28ee23d-1f68-4c21-bf5d-bd78e4f70b9b",
   "metadata": {},
   "outputs": [],
   "source": []
  },
  {
   "cell_type": "code",
   "execution_count": 32,
   "id": "085e102e-814b-4199-b09e-6741cef0223c",
   "metadata": {},
   "outputs": [],
   "source": [
    "windows_w_admissions_mask = timewindows.apply(lambda x: len(x) > 0)\n",
    "targets_mask = windows_w_admissions_mask.groupby('SUBJECT_ID').shift(m,fill_value=False)\n",
    "\n",
    "targets = timewindows[targets_mask]\n",
    "\n",
    "targets_at_least_one_mask = targets.apply(lambda x: len(x) > 0)"
   ]
  },
  {
   "cell_type": "code",
   "execution_count": 33,
   "id": "641d936a-b374-4ffa-978e-defebddcbd1d",
   "metadata": {},
   "outputs": [
    {
     "data": {
      "text/plain": [
       "SUBJECT_ID  ADMITTIME \n",
       "109.0       2140-01-23              [108375.0]\n",
       "            2140-04-22              [175347.0]\n",
       "            2141-09-14    [172335.0, 126055.0]\n",
       "            2141-12-13    [140167.0, 135923.0]\n",
       "            2142-01-12    [124657.0, 176760.0]\n",
       "                                  ...         \n",
       "99756.0     2191-07-15              [145054.0]\n",
       "99783.0     2125-10-13              [126090.0]\n",
       "99822.0     2197-06-29              [195871.0]\n",
       "99982.0     2156-12-28              [112748.0]\n",
       "            2157-01-27              [183791.0]\n",
       "Name: HADM_ID, Length: 2014, dtype: object"
      ]
     },
     "execution_count": 33,
     "metadata": {},
     "output_type": "execute_result"
    }
   ],
   "source": [
    "targets[targets_at_least_one_mask]"
   ]
  },
  {
   "cell_type": "code",
   "execution_count": 19,
   "id": "b838dfe8-a719-4b64-8d28-9371fc981e1e",
   "metadata": {},
   "outputs": [
    {
     "data": {
      "text/plain": [
       "count    7537.000000\n",
       "mean       23.423643\n",
       "std        28.331397\n",
       "min         1.000000\n",
       "25%         3.000000\n",
       "50%        11.000000\n",
       "75%        35.000000\n",
       "max       141.000000\n",
       "Name: HADM_ID, dtype: float64"
      ]
     },
     "execution_count": 19,
     "metadata": {},
     "output_type": "execute_result"
    }
   ],
   "source": [
    "timewindows.groupby(['SUBJECT_ID']).size().describe()"
   ]
  },
  {
   "cell_type": "code",
   "execution_count": 16,
   "id": "ce8e1018-3628-45b7-9495-7626f59073f8",
   "metadata": {},
   "outputs": [
    {
     "data": {
      "text/plain": [
       "count    7537.0\n",
       "mean        1.0\n",
       "std         0.0\n",
       "min         1.0\n",
       "25%         1.0\n",
       "50%         1.0\n",
       "75%         1.0\n",
       "max         1.0\n",
       "Name: HADM_ID, dtype: float64"
      ]
     },
     "execution_count": 16,
     "metadata": {},
     "output_type": "execute_result"
    }
   ],
   "source": [
    "timewindows.groupby(['SUBJECT_ID']).size().groupby('SUBJECT_ID').max().describe()"
   ]
  },
  {
   "cell_type": "code",
   "execution_count": 24,
   "id": "4c84dd28-edca-46d9-8a96-4ba18c4828a4",
   "metadata": {},
   "outputs": [
    {
     "data": {
      "text/html": [
       "<div>\n",
       "<style scoped>\n",
       "    .dataframe tbody tr th:only-of-type {\n",
       "        vertical-align: middle;\n",
       "    }\n",
       "\n",
       "    .dataframe tbody tr th {\n",
       "        vertical-align: top;\n",
       "    }\n",
       "\n",
       "    .dataframe thead th {\n",
       "        text-align: right;\n",
       "    }\n",
       "</style>\n",
       "<table border=\"1\" class=\"dataframe\">\n",
       "  <thead>\n",
       "    <tr style=\"text-align: right;\">\n",
       "      <th></th>\n",
       "      <th>MIMIC-III</th>\n",
       "      <th>MIMIC-IV</th>\n",
       "    </tr>\n",
       "    <tr>\n",
       "      <th>Median difference between visits in each (eligible) patient</th>\n",
       "      <th></th>\n",
       "      <th></th>\n",
       "    </tr>\n",
       "  </thead>\n",
       "  <tbody>\n",
       "    <tr>\n",
       "      <th>count</th>\n",
       "      <td>7537.000000</td>\n",
       "      <td>85798.000000</td>\n",
       "    </tr>\n",
       "    <tr>\n",
       "      <th>mean</th>\n",
       "      <td>455.382380</td>\n",
       "      <td>424.935243</td>\n",
       "    </tr>\n",
       "    <tr>\n",
       "      <th>std</th>\n",
       "      <td>650.218604</td>\n",
       "      <td>628.835643</td>\n",
       "    </tr>\n",
       "    <tr>\n",
       "      <th>min</th>\n",
       "      <td>0.000000</td>\n",
       "      <td>0.000000</td>\n",
       "    </tr>\n",
       "    <tr>\n",
       "      <th>25%</th>\n",
       "      <td>46.000000</td>\n",
       "      <td>35.000000</td>\n",
       "    </tr>\n",
       "    <tr>\n",
       "      <th>50%</th>\n",
       "      <td>172.000000</td>\n",
       "      <td>146.000000</td>\n",
       "    </tr>\n",
       "    <tr>\n",
       "      <th>75%</th>\n",
       "      <td>580.000000</td>\n",
       "      <td>559.000000</td>\n",
       "    </tr>\n",
       "    <tr>\n",
       "      <th>max</th>\n",
       "      <td>4121.000000</td>\n",
       "      <td>4330.000000</td>\n",
       "    </tr>\n",
       "  </tbody>\n",
       "</table>\n",
       "</div>"
      ],
      "text/plain": [
       "                                                      MIMIC-III      MIMIC-IV\n",
       "Median difference between visits in each (eligi...                           \n",
       "count                                               7537.000000  85798.000000\n",
       "mean                                                 455.382380    424.935243\n",
       "std                                                  650.218604    628.835643\n",
       "min                                                    0.000000      0.000000\n",
       "25%                                                   46.000000     35.000000\n",
       "50%                                                  172.000000    146.000000\n",
       "75%                                                  580.000000    559.000000\n",
       "max                                                 4121.000000   4330.000000"
      ]
     },
     "execution_count": 24,
     "metadata": {},
     "output_type": "execute_result"
    }
   ],
   "source": [
    "res = pd.concat([res_III,res_IV],axis=1)\n",
    "res.index.name = 'Median difference between visits in each (eligible) patient'\n",
    "res"
   ]
  },
  {
   "cell_type": "code",
   "execution_count": 31,
   "id": "64394004-89d2-42bd-aeaf-a1130938bbca",
   "metadata": {},
   "outputs": [
    {
     "name": "stdout",
     "output_type": "stream",
     "text": [
      "\\begin{tabular}{lrr}\n",
      " & MIMIC-III & MIMIC-IV \\\\\n",
      "Median difference between visits in each (eligible) patient &  &  \\\\\n",
      "count & 7537.000000 & 85798.000000 \\\\\n",
      "mean & 455.382380 & 424.935243 \\\\\n",
      "std & 650.218604 & 628.835643 \\\\\n",
      "min & 0.000000 & 0.000000 \\\\\n",
      "25% & 46.000000 & 35.000000 \\\\\n",
      "50% & 172.000000 & 146.000000 \\\\\n",
      "75% & 580.000000 & 559.000000 \\\\\n",
      "max & 4121.000000 & 4330.000000 \\\\\n",
      "\\end{tabular}\n",
      "\n"
     ]
    }
   ],
   "source": [
    "print(res.style.to_latex())"
   ]
  },
  {
   "cell_type": "code",
   "execution_count": 19,
   "id": "081d039c-1a72-438b-a50c-d0bba9cb8164",
   "metadata": {},
   "outputs": [
    {
     "data": {
      "text/plain": [
       "count    85798.000000\n",
       "mean       424.935243\n",
       "std        628.835643\n",
       "min          0.000000\n",
       "25%         35.000000\n",
       "50%        146.000000\n",
       "75%        559.000000\n",
       "max       4330.000000\n",
       "Name: MIMIC-IV Median difference between admissions in all patients, dtype: float64"
      ]
     },
     "execution_count": 19,
     "metadata": {},
     "output_type": "execute_result"
    }
   ],
   "source": [
    "(mimicIV\n",
    " .read_admissions()\n",
    " .where(lambda x: \n",
    "        x.subject_id.isin(mimicIV.read_admissions().groupby('subject_id').size().where(lambda x: x > 1).dropna().index)\n",
    "       )\n",
    " .groupby('subject_id')\n",
    " .admittime\n",
    " .apply(lambda x: x.diff().median().days).describe().rename('MIMIC-IV Median difference between admissions in all patients')\n",
    ")"
   ]
  },
  {
   "cell_type": "code",
   "execution_count": 20,
   "id": "b201b406",
   "metadata": {},
   "outputs": [],
   "source": [
    "diagnostic_cols_mimicIII = [col for col in diagnoses if col not in ['ROW_ID','SUBJECT_ID','HADM_ID','SEQ_NUM']]"
   ]
  },
  {
   "cell_type": "code",
   "execution_count": 22,
   "id": "4c6f093b",
   "metadata": {},
   "outputs": [
    {
     "name": "stdout",
     "output_type": "stream",
     "text": [
      "targets\n"
     ]
    },
    {
     "data": {
      "text/plain": [
       "SUBJECT_ID  ADMITTIME \n",
       "23          2156-08-18          []\n",
       "34          2189-07-02          []\n",
       "36          2134-04-14    [165660]\n",
       "85          2165-02-14          []\n",
       "107         2118-02-04          []\n",
       "                            ...   \n",
       "98347       2124-10-11    [177195]\n",
       "98761       2188-12-31          []\n",
       "98813       2131-10-27          []\n",
       "99088       2175-12-06          []\n",
       "99650       2155-05-23          []\n",
       "Name: HADM_ID, Length: 2347, dtype: object"
      ]
     },
     "execution_count": 22,
     "metadata": {},
     "output_type": "execute_result"
    }
   ],
   "source": [
    "# create mask of the targets. \n",
    "# Then for each target gather the features (history up to that point) This will define our datapoints\n",
    "\n",
    "pred_window = m # months\n",
    "\n",
    "windows_w_admissions_mask = timewindows.apply(lambda x: len(x) > 0)\n",
    "targets_mask = windows_w_admissions_mask.groupby('SUBJECT_ID').shift(pred_window,fill_value=False)\n",
    "\n",
    "targets = timewindows[targets_mask]\n",
    "\n",
    "print('targets')\n",
    "targets"
   ]
  },
  {
   "cell_type": "code",
   "execution_count": 23,
   "id": "f7e5f9e2",
   "metadata": {},
   "outputs": [
    {
     "data": {
      "text/plain": [
       "0    1740\n",
       "1     480\n",
       "2      91\n",
       "3      23\n",
       "4      10\n",
       "5       2\n",
       "6       1\n",
       "Name: HADM_ID, dtype: int64"
      ]
     },
     "execution_count": 23,
     "metadata": {},
     "output_type": "execute_result"
    }
   ],
   "source": [
    "targets.apply(len).value_counts()"
   ]
  },
  {
   "cell_type": "code",
   "execution_count": 24,
   "id": "31031d76",
   "metadata": {},
   "outputs": [
    {
     "data": {
      "text/plain": [
       "SUBJECT_ID  ADMITTIME \n",
       "23          2156-08-18          []\n",
       "34          2189-07-02          []\n",
       "36          2134-04-14    [165660]\n",
       "85          2165-02-14          []\n",
       "107         2118-02-04          []\n",
       "                            ...   \n",
       "98347       2124-10-11    [177195]\n",
       "98761       2188-12-31          []\n",
       "98813       2131-10-27          []\n",
       "99088       2175-12-06          []\n",
       "99650       2155-05-23          []\n",
       "Name: HADM_ID, Length: 2347, dtype: object"
      ]
     },
     "execution_count": 24,
     "metadata": {},
     "output_type": "execute_result"
    }
   ],
   "source": [
    "targets"
   ]
  },
  {
   "cell_type": "markdown",
   "id": "26e0ba0f",
   "metadata": {},
   "source": [
    "# How many admissions within each target"
   ]
  },
  {
   "cell_type": "code",
   "execution_count": null,
   "id": "6b4cd675",
   "metadata": {},
   "outputs": [],
   "source": []
  },
  {
   "cell_type": "code",
   "execution_count": 12,
   "id": "1a1b3005",
   "metadata": {},
   "outputs": [
    {
     "data": {
      "text/plain": [
       "0    8581\n",
       "1    1847\n",
       "2     123\n",
       "3       3\n",
       "Name: HADM_ID, dtype: int64"
      ]
     },
     "execution_count": 12,
     "metadata": {},
     "output_type": "execute_result"
    }
   ],
   "source": [
    "targets.apply(len).value_counts()"
   ]
  },
  {
   "cell_type": "code",
   "execution_count": null,
   "id": "628fb2fa",
   "metadata": {},
   "outputs": [],
   "source": []
  },
  {
   "cell_type": "code",
   "execution_count": null,
   "id": "a2decc12",
   "metadata": {},
   "outputs": [],
   "source": []
  },
  {
   "cell_type": "code",
   "execution_count": 143,
   "id": "0219563e",
   "metadata": {},
   "outputs": [
    {
     "data": {
      "text/plain": [
       "0                ([194023],)\n",
       "1                      ([],)\n",
       "2                ([109451],)\n",
       "3                      ([],)\n",
       "4                ([152223],)\n",
       "                ...         \n",
       "16945                  ([],)\n",
       "16946            ([164914],)\n",
       "16947                  ([],)\n",
       "16948            ([151454],)\n",
       "16949    ([151454, 112748],)\n",
       "Length: 16950, dtype: object"
      ]
     },
     "execution_count": 143,
     "metadata": {},
     "output_type": "execute_result"
    }
   ],
   "source": [
    "idx = pd.IndexSlice\n",
    "#admissions_w_index = admissions.set_index(['SUBJECT_ID','ADMITTIME']).sort_index() # to speed up queries below\n",
    "targets.to_frame().reset_index().apply(lambda row: \n",
    "                         (admissions_w_index\n",
    "                          .loc[idx[row.SUBJECT_ID,:row.ADMITTIME],'HADM_ID'],\n",
    "                         ),\n",
    "                         axis=1\n",
    "                        )"
   ]
  },
  {
   "cell_type": "code",
   "execution_count": 148,
   "id": "e4a4881d",
   "metadata": {},
   "outputs": [
    {
     "data": {
      "text/html": [
       "<div>\n",
       "<style scoped>\n",
       "    .dataframe tbody tr th:only-of-type {\n",
       "        vertical-align: middle;\n",
       "    }\n",
       "\n",
       "    .dataframe tbody tr th {\n",
       "        vertical-align: top;\n",
       "    }\n",
       "\n",
       "    .dataframe thead th {\n",
       "        text-align: right;\n",
       "    }\n",
       "</style>\n",
       "<table border=\"1\" class=\"dataframe\">\n",
       "  <thead>\n",
       "    <tr style=\"text-align: right;\">\n",
       "      <th></th>\n",
       "      <th>SUBJECT_ID</th>\n",
       "      <th>HADM_ID</th>\n",
       "      <th>ADMITTIME</th>\n",
       "      <th>DISCHTIME</th>\n",
       "      <th>DEATHTIME</th>\n",
       "      <th>ADMISSION_TYPE</th>\n",
       "      <th>ADMISSION_LOCATION</th>\n",
       "      <th>DISCHARGE_LOCATION</th>\n",
       "      <th>INSURANCE</th>\n",
       "      <th>LANGUAGE</th>\n",
       "      <th>RELIGION</th>\n",
       "      <th>MARITAL_STATUS</th>\n",
       "      <th>ETHNICITY</th>\n",
       "      <th>EDREGTIME</th>\n",
       "      <th>EDOUTTIME</th>\n",
       "      <th>DIAGNOSIS</th>\n",
       "      <th>HOSPITAL_EXPIRE_FLAG</th>\n",
       "      <th>HAS_CHARTEVENTS_DATA</th>\n",
       "    </tr>\n",
       "  </thead>\n",
       "  <tbody>\n",
       "  </tbody>\n",
       "</table>\n",
       "</div>"
      ],
      "text/plain": [
       "Empty DataFrame\n",
       "Columns: [SUBJECT_ID, HADM_ID, ADMITTIME, DISCHTIME, DEATHTIME, ADMISSION_TYPE, ADMISSION_LOCATION, DISCHARGE_LOCATION, INSURANCE, LANGUAGE, RELIGION, MARITAL_STATUS, ETHNICITY, EDREGTIME, EDOUTTIME, DIAGNOSIS, HOSPITAL_EXPIRE_FLAG, HAS_CHARTEVENTS_DATA]\n",
       "Index: []"
      ]
     },
     "execution_count": 148,
     "metadata": {},
     "output_type": "execute_result"
    }
   ],
   "source": [
    "admissions[(admissions.SUBJECT_ID == 21) & (admissions.ADMITTIME < '2134-09-11')]"
   ]
  },
  {
   "cell_type": "code",
   "execution_count": 145,
   "id": "0bc94259",
   "metadata": {},
   "outputs": [
    {
     "data": {
      "text/html": [
       "<div>\n",
       "<style scoped>\n",
       "    .dataframe tbody tr th:only-of-type {\n",
       "        vertical-align: middle;\n",
       "    }\n",
       "\n",
       "    .dataframe tbody tr th {\n",
       "        vertical-align: top;\n",
       "    }\n",
       "\n",
       "    .dataframe thead th {\n",
       "        text-align: right;\n",
       "    }\n",
       "</style>\n",
       "<table border=\"1\" class=\"dataframe\">\n",
       "  <thead>\n",
       "    <tr style=\"text-align: right;\">\n",
       "      <th></th>\n",
       "      <th>SUBJECT_ID</th>\n",
       "      <th>ADMITTIME</th>\n",
       "      <th>HADM_ID</th>\n",
       "    </tr>\n",
       "  </thead>\n",
       "  <tbody>\n",
       "    <tr>\n",
       "      <th>0</th>\n",
       "      <td>17</td>\n",
       "      <td>2135-01-26</td>\n",
       "      <td>[]</td>\n",
       "    </tr>\n",
       "    <tr>\n",
       "      <th>1</th>\n",
       "      <td>21</td>\n",
       "      <td>2134-09-11</td>\n",
       "      <td>[109451]</td>\n",
       "    </tr>\n",
       "    <tr>\n",
       "      <th>2</th>\n",
       "      <td>21</td>\n",
       "      <td>2134-10-11</td>\n",
       "      <td>[]</td>\n",
       "    </tr>\n",
       "    <tr>\n",
       "      <th>3</th>\n",
       "      <td>23</td>\n",
       "      <td>2153-09-03</td>\n",
       "      <td>[152223]</td>\n",
       "    </tr>\n",
       "    <tr>\n",
       "      <th>4</th>\n",
       "      <td>23</td>\n",
       "      <td>2153-10-03</td>\n",
       "      <td>[]</td>\n",
       "    </tr>\n",
       "    <tr>\n",
       "      <th>...</th>\n",
       "      <td>...</td>\n",
       "      <td>...</td>\n",
       "      <td>...</td>\n",
       "    </tr>\n",
       "    <tr>\n",
       "      <th>16945</th>\n",
       "      <td>99923</td>\n",
       "      <td>2201-02-23</td>\n",
       "      <td>[164914]</td>\n",
       "    </tr>\n",
       "    <tr>\n",
       "      <th>16946</th>\n",
       "      <td>99923</td>\n",
       "      <td>2201-03-25</td>\n",
       "      <td>[]</td>\n",
       "    </tr>\n",
       "    <tr>\n",
       "      <th>16947</th>\n",
       "      <td>99982</td>\n",
       "      <td>2156-11-28</td>\n",
       "      <td>[151454]</td>\n",
       "    </tr>\n",
       "    <tr>\n",
       "      <th>16948</th>\n",
       "      <td>99982</td>\n",
       "      <td>2156-12-28</td>\n",
       "      <td>[112748]</td>\n",
       "    </tr>\n",
       "    <tr>\n",
       "      <th>16949</th>\n",
       "      <td>99982</td>\n",
       "      <td>2157-01-27</td>\n",
       "      <td>[183791]</td>\n",
       "    </tr>\n",
       "  </tbody>\n",
       "</table>\n",
       "<p>16950 rows × 3 columns</p>\n",
       "</div>"
      ],
      "text/plain": [
       "       SUBJECT_ID  ADMITTIME   HADM_ID\n",
       "0              17 2135-01-26        []\n",
       "1              21 2134-09-11  [109451]\n",
       "2              21 2134-10-11        []\n",
       "3              23 2153-09-03  [152223]\n",
       "4              23 2153-10-03        []\n",
       "...           ...        ...       ...\n",
       "16945       99923 2201-02-23  [164914]\n",
       "16946       99923 2201-03-25        []\n",
       "16947       99982 2156-11-28  [151454]\n",
       "16948       99982 2156-12-28  [112748]\n",
       "16949       99982 2157-01-27  [183791]\n",
       "\n",
       "[16950 rows x 3 columns]"
      ]
     },
     "execution_count": 145,
     "metadata": {},
     "output_type": "execute_result"
    }
   ],
   "source": [
    "targets.to_frame().reset_index()"
   ]
  },
  {
   "cell_type": "code",
   "execution_count": null,
   "id": "452a4b94",
   "metadata": {},
   "outputs": [],
   "source": [
    "targets.to_frame().apply(lambda row: ,axis=1)"
   ]
  },
  {
   "cell_type": "code",
   "execution_count": null,
   "id": "6228b02f",
   "metadata": {},
   "outputs": [],
   "source": [
    "pd.Series().diff()"
   ]
  },
  {
   "cell_type": "code",
   "execution_count": 42,
   "id": "d06a3635",
   "metadata": {},
   "outputs": [
    {
     "data": {
      "text/plain": [
       "SUBJECT_ID  ADMITTIME \n",
       "17          2134-12-27    [194023]\n",
       "            2135-01-26          []\n",
       "            2135-02-25          []\n",
       "            2135-03-27          []\n",
       "            2135-04-26    [161087]\n",
       "                            ...   \n",
       "99923       2201-03-25          []\n",
       "            2201-04-24    [192053]\n",
       "99982       2156-11-28    [151454]\n",
       "            2156-12-28    [112748]\n",
       "            2157-01-27    [183791]\n",
       "Name: HADM_ID, Length: 175257, dtype: object"
      ]
     },
     "execution_count": 42,
     "metadata": {},
     "output_type": "execute_result"
    }
   ],
   "source": [
    "(timewindows\n",
    " .groupby('SUBJECT_ID')\n",
    " .apply(lambda subdf: )"
   ]
  },
  {
   "cell_type": "code",
   "execution_count": 28,
   "id": "c42448fe",
   "metadata": {},
   "outputs": [],
   "source": [
    "res = (timewindows.iloc[:2]\n",
    "       .apply(lambda row: \n",
    "              pd.DataFrame(\n",
    "                  [\n",
    "                      diagnoses\n",
    "                      .loc[diagnoses.HADM_ID == adm, diagnostic_cols_mimicIII]\n",
    "                      .to_dict(orient='list')\n",
    "                      for adm in row # obtain a list of diagnoses of each admission inside each window\n",
    "                  ]\n",
    "              ).sum() # concat all lists of diagnoses of each admission inside each window to make one big list per window\n",
    "             )\n",
    "      )"
   ]
  },
  {
   "cell_type": "code",
   "execution_count": 29,
   "id": "07101c16",
   "metadata": {},
   "outputs": [],
   "source": [
    "res = (timewindows.iloc[:50]\n",
    "       .apply(lambda row: \n",
    "              pd.DataFrame(\n",
    "                  [\n",
    "                      diagnoses\n",
    "                      .loc[diagnoses.HADM_ID == adm, diagnostic_cols_mimicIII]\n",
    "                      .to_dict(orient='list')\n",
    "                      for adm in row # obtain a list of diagnoses of each admission inside each window\n",
    "                  ]\n",
    "              ).sum() # concat all lists of diagnoses of each admission inside each window to make one big list per window\n",
    "             )\n",
    "      )"
   ]
  },
  {
   "cell_type": "code",
   "execution_count": 32,
   "id": "af0b05a3",
   "metadata": {},
   "outputs": [
    {
     "data": {
      "text/html": [
       "<div>\n",
       "<style scoped>\n",
       "    .dataframe tbody tr th:only-of-type {\n",
       "        vertical-align: middle;\n",
       "    }\n",
       "\n",
       "    .dataframe tbody tr th {\n",
       "        vertical-align: top;\n",
       "    }\n",
       "\n",
       "    .dataframe thead th {\n",
       "        text-align: right;\n",
       "    }\n",
       "</style>\n",
       "<table border=\"1\" class=\"dataframe\">\n",
       "  <thead>\n",
       "    <tr style=\"text-align: right;\">\n",
       "      <th></th>\n",
       "      <th>SUBJECT_ID</th>\n",
       "      <th>HADM_ID</th>\n",
       "      <th>ADMITTIME</th>\n",
       "      <th>DISCHTIME</th>\n",
       "      <th>DEATHTIME</th>\n",
       "      <th>ADMISSION_TYPE</th>\n",
       "      <th>ADMISSION_LOCATION</th>\n",
       "      <th>DISCHARGE_LOCATION</th>\n",
       "      <th>INSURANCE</th>\n",
       "      <th>LANGUAGE</th>\n",
       "      <th>RELIGION</th>\n",
       "      <th>MARITAL_STATUS</th>\n",
       "      <th>ETHNICITY</th>\n",
       "      <th>EDREGTIME</th>\n",
       "      <th>EDOUTTIME</th>\n",
       "      <th>DIAGNOSIS</th>\n",
       "      <th>HOSPITAL_EXPIRE_FLAG</th>\n",
       "      <th>HAS_CHARTEVENTS_DATA</th>\n",
       "    </tr>\n",
       "  </thead>\n",
       "  <tbody>\n",
       "    <tr>\n",
       "      <th>1</th>\n",
       "      <td>23</td>\n",
       "      <td>152223</td>\n",
       "      <td>2153-09-03 07:15:00</td>\n",
       "      <td>2153-09-08 19:10:00</td>\n",
       "      <td>NaT</td>\n",
       "      <td>ELECTIVE</td>\n",
       "      <td>PHYS REFERRAL/NORMAL DELI</td>\n",
       "      <td>HOME HEALTH CARE</td>\n",
       "      <td>Medicare</td>\n",
       "      <td>NaN</td>\n",
       "      <td>CATHOLIC</td>\n",
       "      <td>MARRIED</td>\n",
       "      <td>WHITE</td>\n",
       "      <td>NaT</td>\n",
       "      <td>NaT</td>\n",
       "      <td>CORONARY ARTERY DISEASE\\CORONARY ARTERY BYPASS...</td>\n",
       "      <td>0</td>\n",
       "      <td>1</td>\n",
       "    </tr>\n",
       "    <tr>\n",
       "      <th>2</th>\n",
       "      <td>23</td>\n",
       "      <td>124321</td>\n",
       "      <td>2157-10-18 19:34:00</td>\n",
       "      <td>2157-10-25 14:00:00</td>\n",
       "      <td>NaT</td>\n",
       "      <td>EMERGENCY</td>\n",
       "      <td>TRANSFER FROM HOSP/EXTRAM</td>\n",
       "      <td>HOME HEALTH CARE</td>\n",
       "      <td>Medicare</td>\n",
       "      <td>ENGL</td>\n",
       "      <td>CATHOLIC</td>\n",
       "      <td>MARRIED</td>\n",
       "      <td>WHITE</td>\n",
       "      <td>NaT</td>\n",
       "      <td>NaT</td>\n",
       "      <td>BRAIN MASS</td>\n",
       "      <td>0</td>\n",
       "      <td>1</td>\n",
       "    </tr>\n",
       "  </tbody>\n",
       "</table>\n",
       "</div>"
      ],
      "text/plain": [
       "   SUBJECT_ID  HADM_ID           ADMITTIME           DISCHTIME DEATHTIME  \\\n",
       "1          23   152223 2153-09-03 07:15:00 2153-09-08 19:10:00       NaT   \n",
       "2          23   124321 2157-10-18 19:34:00 2157-10-25 14:00:00       NaT   \n",
       "\n",
       "  ADMISSION_TYPE         ADMISSION_LOCATION DISCHARGE_LOCATION INSURANCE  \\\n",
       "1       ELECTIVE  PHYS REFERRAL/NORMAL DELI   HOME HEALTH CARE  Medicare   \n",
       "2      EMERGENCY  TRANSFER FROM HOSP/EXTRAM   HOME HEALTH CARE  Medicare   \n",
       "\n",
       "  LANGUAGE  RELIGION MARITAL_STATUS ETHNICITY EDREGTIME EDOUTTIME  \\\n",
       "1      NaN  CATHOLIC        MARRIED     WHITE       NaT       NaT   \n",
       "2     ENGL  CATHOLIC        MARRIED     WHITE       NaT       NaT   \n",
       "\n",
       "                                           DIAGNOSIS  HOSPITAL_EXPIRE_FLAG  \\\n",
       "1  CORONARY ARTERY DISEASE\\CORONARY ARTERY BYPASS...                     0   \n",
       "2                                         BRAIN MASS                     0   \n",
       "\n",
       "   HAS_CHARTEVENTS_DATA  \n",
       "1                     1  \n",
       "2                     1  "
      ]
     },
     "execution_count": 32,
     "metadata": {},
     "output_type": "execute_result"
    }
   ],
   "source": [
    "admissions[admissions.SUBJECT_ID == 23]"
   ]
  },
  {
   "cell_type": "code",
   "execution_count": 35,
   "id": "8c0ac752",
   "metadata": {},
   "outputs": [
    {
     "data": {
      "text/html": [
       "<div>\n",
       "<style scoped>\n",
       "    .dataframe tbody tr th:only-of-type {\n",
       "        vertical-align: middle;\n",
       "    }\n",
       "\n",
       "    .dataframe tbody tr th {\n",
       "        vertical-align: top;\n",
       "    }\n",
       "\n",
       "    .dataframe thead th {\n",
       "        text-align: right;\n",
       "    }\n",
       "</style>\n",
       "<table border=\"1\" class=\"dataframe\">\n",
       "  <thead>\n",
       "    <tr style=\"text-align: right;\">\n",
       "      <th></th>\n",
       "      <th>SUBJECT_ID</th>\n",
       "      <th>HADM_ID</th>\n",
       "      <th>ADMITTIME</th>\n",
       "      <th>DISCHTIME</th>\n",
       "      <th>DEATHTIME</th>\n",
       "      <th>ADMISSION_TYPE</th>\n",
       "      <th>ADMISSION_LOCATION</th>\n",
       "      <th>DISCHARGE_LOCATION</th>\n",
       "      <th>INSURANCE</th>\n",
       "      <th>LANGUAGE</th>\n",
       "      <th>RELIGION</th>\n",
       "      <th>MARITAL_STATUS</th>\n",
       "      <th>ETHNICITY</th>\n",
       "      <th>EDREGTIME</th>\n",
       "      <th>EDOUTTIME</th>\n",
       "      <th>DIAGNOSIS</th>\n",
       "      <th>HOSPITAL_EXPIRE_FLAG</th>\n",
       "      <th>HAS_CHARTEVENTS_DATA</th>\n",
       "    </tr>\n",
       "  </thead>\n",
       "  <tbody>\n",
       "    <tr>\n",
       "      <th>25361</th>\n",
       "      <td>20957</td>\n",
       "      <td>113808</td>\n",
       "      <td>2100-06-24 22:37:00</td>\n",
       "      <td>2100-07-03 12:31:00</td>\n",
       "      <td>NaT</td>\n",
       "      <td>EMERGENCY</td>\n",
       "      <td>EMERGENCY ROOM ADMIT</td>\n",
       "      <td>HOME HEALTH CARE</td>\n",
       "      <td>Private</td>\n",
       "      <td>NaN</td>\n",
       "      <td>PROTESTANT QUAKER</td>\n",
       "      <td>MARRIED</td>\n",
       "      <td>WHITE</td>\n",
       "      <td>2100-06-24 13:37:00</td>\n",
       "      <td>2100-06-25 00:10:00</td>\n",
       "      <td>BILATERAL PNEUMONIA</td>\n",
       "      <td>0</td>\n",
       "      <td>1</td>\n",
       "    </tr>\n",
       "    <tr>\n",
       "      <th>7378</th>\n",
       "      <td>4521</td>\n",
       "      <td>167070</td>\n",
       "      <td>2100-06-28 19:29:00</td>\n",
       "      <td>2100-07-30 11:02:00</td>\n",
       "      <td>NaT</td>\n",
       "      <td>EMERGENCY</td>\n",
       "      <td>EMERGENCY ROOM ADMIT</td>\n",
       "      <td>DISC-TRAN CANCER/CHLDRN H</td>\n",
       "      <td>Medicare</td>\n",
       "      <td>NaN</td>\n",
       "      <td>CATHOLIC</td>\n",
       "      <td>SINGLE</td>\n",
       "      <td>WHITE</td>\n",
       "      <td>NaT</td>\n",
       "      <td>NaT</td>\n",
       "      <td>ISCHEMIC ULCER R GREAT TOE;DIABETES</td>\n",
       "      <td>0</td>\n",
       "      <td>0</td>\n",
       "    </tr>\n",
       "  </tbody>\n",
       "</table>\n",
       "</div>"
      ],
      "text/plain": [
       "       SUBJECT_ID  HADM_ID           ADMITTIME           DISCHTIME DEATHTIME  \\\n",
       "25361       20957   113808 2100-06-24 22:37:00 2100-07-03 12:31:00       NaT   \n",
       "7378         4521   167070 2100-06-28 19:29:00 2100-07-30 11:02:00       NaT   \n",
       "\n",
       "      ADMISSION_TYPE    ADMISSION_LOCATION         DISCHARGE_LOCATION  \\\n",
       "25361      EMERGENCY  EMERGENCY ROOM ADMIT           HOME HEALTH CARE   \n",
       "7378       EMERGENCY  EMERGENCY ROOM ADMIT  DISC-TRAN CANCER/CHLDRN H   \n",
       "\n",
       "      INSURANCE LANGUAGE           RELIGION MARITAL_STATUS ETHNICITY  \\\n",
       "25361   Private      NaN  PROTESTANT QUAKER        MARRIED     WHITE   \n",
       "7378   Medicare      NaN           CATHOLIC         SINGLE     WHITE   \n",
       "\n",
       "                EDREGTIME           EDOUTTIME  \\\n",
       "25361 2100-06-24 13:37:00 2100-06-25 00:10:00   \n",
       "7378                  NaT                 NaT   \n",
       "\n",
       "                                 DIAGNOSIS  HOSPITAL_EXPIRE_FLAG  \\\n",
       "25361                  BILATERAL PNEUMONIA                     0   \n",
       "7378   ISCHEMIC ULCER R GREAT TOE;DIABETES                     0   \n",
       "\n",
       "       HAS_CHARTEVENTS_DATA  \n",
       "25361                     1  \n",
       "7378                      0  "
      ]
     },
     "execution_count": 35,
     "metadata": {},
     "output_type": "execute_result"
    }
   ],
   "source": [
    "admissions.head(2)"
   ]
  },
  {
   "cell_type": "code",
   "execution_count": 34,
   "id": "d56e1ffa",
   "metadata": {},
   "outputs": [
    {
     "data": {
      "text/plain": [
       "25361                 NaT\n",
       "7378      3 days 20:52:00\n",
       "11061     2 days 16:31:00\n",
       "37595     1 days 07:28:00\n",
       "17400    12 days 01:24:00\n",
       "               ...       \n",
       "56600    84 days 04:42:00\n",
       "3611    174 days 04:45:00\n",
       "29422   155 days 09:35:00\n",
       "31085    16 days 16:16:00\n",
       "30835   382 days 03:22:00\n",
       "Name: ADMITTIME, Length: 17680, dtype: timedelta64[ns]"
      ]
     },
     "execution_count": 34,
     "metadata": {},
     "output_type": "execute_result"
    }
   ],
   "source": [
    "admissions.ADMITTIME.diff()"
   ]
  },
  {
   "cell_type": "code",
   "execution_count": 39,
   "id": "9986f1f2",
   "metadata": {},
   "outputs": [],
   "source": [
    "res = (admissions\n",
    " .groupby('SUBJECT_ID')\n",
    " .ADMITTIME\n",
    " .apply(lambda series: series.diff().max())\n",
    ")"
   ]
  },
  {
   "cell_type": "code",
   "execution_count": 40,
   "id": "cd1a0f9f",
   "metadata": {},
   "outputs": [
    {
     "data": {
      "text/plain": [
       "SUBJECT_ID\n",
       "17       133 days 06:56:00\n",
       "21       141 days 08:33:00\n",
       "23      1506 days 12:19:00\n",
       "34      1680 days 12:37:00\n",
       "36      1093 days 15:41:00\n",
       "               ...        \n",
       "99822     16 days 23:23:00\n",
       "99883    265 days 06:55:00\n",
       "99897    331 days 17:28:00\n",
       "99923     80 days 16:30:00\n",
       "99982     42 days 00:04:00\n",
       "Name: ADMITTIME, Length: 6397, dtype: timedelta64[ns]"
      ]
     },
     "execution_count": 40,
     "metadata": {},
     "output_type": "execute_result"
    }
   ],
   "source": [
    "res"
   ]
  },
  {
   "cell_type": "code",
   "execution_count": 41,
   "id": "be258cad",
   "metadata": {},
   "outputs": [
    {
     "data": {
      "text/plain": [
       "count                           6397\n",
       "mean     688 days 10:45:04.905424408\n",
       "std      760 days 23:17:29.296653968\n",
       "min                 16 days 23:23:00\n",
       "25%                117 days 07:46:00\n",
       "50%                391 days 12:15:00\n",
       "75%               1011 days 12:53:00\n",
       "max               4121 days 03:16:00\n",
       "Name: ADMITTIME, dtype: object"
      ]
     },
     "execution_count": 41,
     "metadata": {},
     "output_type": "execute_result"
    }
   ],
   "source": [
    "res.describe()"
   ]
  },
  {
   "cell_type": "code",
   "execution_count": 37,
   "id": "2f115332",
   "metadata": {},
   "outputs": [
    {
     "ename": "AttributeError",
     "evalue": "'DataFrame' object has no attribute 'days'",
     "output_type": "error",
     "traceback": [
      "\u001b[0;31m---------------------------------------------------------------------------\u001b[0m",
      "\u001b[0;31mAttributeError\u001b[0m                            Traceback (most recent call last)",
      "Input \u001b[0;32mIn [37]\u001b[0m, in \u001b[0;36m<cell line: 1>\u001b[0;34m()\u001b[0m\n\u001b[0;32m----> 1\u001b[0m \u001b[43mres\u001b[49m\u001b[38;5;241;43m.\u001b[39;49m\u001b[43mdays\u001b[49m\u001b[38;5;241m.\u001b[39mdescribe()\n",
      "File \u001b[0;32m~/Simao/miniconda3/envs/thesis/lib/python3.10/site-packages/pandas/core/generic.py:5575\u001b[0m, in \u001b[0;36mNDFrame.__getattr__\u001b[0;34m(self, name)\u001b[0m\n\u001b[1;32m   5568\u001b[0m \u001b[38;5;28;01mif\u001b[39;00m (\n\u001b[1;32m   5569\u001b[0m     name \u001b[38;5;129;01mnot\u001b[39;00m \u001b[38;5;129;01min\u001b[39;00m \u001b[38;5;28mself\u001b[39m\u001b[38;5;241m.\u001b[39m_internal_names_set\n\u001b[1;32m   5570\u001b[0m     \u001b[38;5;129;01mand\u001b[39;00m name \u001b[38;5;129;01mnot\u001b[39;00m \u001b[38;5;129;01min\u001b[39;00m \u001b[38;5;28mself\u001b[39m\u001b[38;5;241m.\u001b[39m_metadata\n\u001b[1;32m   5571\u001b[0m     \u001b[38;5;129;01mand\u001b[39;00m name \u001b[38;5;129;01mnot\u001b[39;00m \u001b[38;5;129;01min\u001b[39;00m \u001b[38;5;28mself\u001b[39m\u001b[38;5;241m.\u001b[39m_accessors\n\u001b[1;32m   5572\u001b[0m     \u001b[38;5;129;01mand\u001b[39;00m \u001b[38;5;28mself\u001b[39m\u001b[38;5;241m.\u001b[39m_info_axis\u001b[38;5;241m.\u001b[39m_can_hold_identifiers_and_holds_name(name)\n\u001b[1;32m   5573\u001b[0m ):\n\u001b[1;32m   5574\u001b[0m     \u001b[38;5;28;01mreturn\u001b[39;00m \u001b[38;5;28mself\u001b[39m[name]\n\u001b[0;32m-> 5575\u001b[0m \u001b[38;5;28;01mreturn\u001b[39;00m \u001b[38;5;28;43mobject\u001b[39;49m\u001b[38;5;241;43m.\u001b[39;49m\u001b[38;5;21;43m__getattribute__\u001b[39;49m\u001b[43m(\u001b[49m\u001b[38;5;28;43mself\u001b[39;49m\u001b[43m,\u001b[49m\u001b[43m \u001b[49m\u001b[43mname\u001b[49m\u001b[43m)\u001b[49m\n",
      "\u001b[0;31mAttributeError\u001b[0m: 'DataFrame' object has no attribute 'days'"
     ]
    }
   ],
   "source": [
    "res.days.describe()"
   ]
  },
  {
   "cell_type": "markdown",
   "id": "51fe0a84",
   "metadata": {},
   "source": [
    "## Build dictionary of data"
   ]
  },
  {
   "cell_type": "code",
   "execution_count": 21,
   "id": "2a8387d9",
   "metadata": {},
   "outputs": [
    {
     "data": {
      "text/plain": [
       "(19917, 3)"
      ]
     },
     "execution_count": 21,
     "metadata": {},
     "output_type": "execute_result"
    }
   ],
   "source": [
    "adm = mimicIII.read_admissions().where(lambda df: df.SUBJECT_ID.isin(mimic_III_eligible_patients)).dropna(how='all')[['SUBJECT_ID','ADMITTIME','HADM_ID']]\n",
    "adm.head(1)\n",
    "adm.shape"
   ]
  },
  {
   "cell_type": "code",
   "execution_count": 22,
   "id": "9c6e2802",
   "metadata": {},
   "outputs": [
    {
     "name": "stdout",
     "output_type": "stream",
     "text": [
      "No diagnoses found for this admission. Skipping\n",
      "patient 690\n",
      "admission 174817\n",
      "-----\n",
      "\n",
      "No diagnoses found for this admission. Skipping\n",
      "patient 3369\n",
      "admission 126808\n",
      "-----\n",
      "\n",
      "20% done.\n",
      "\n",
      "No diagnoses found for this admission. Skipping\n",
      "patient 11438\n",
      "admission 154602\n",
      "-----\n",
      "\n",
      "40% done.\n",
      "\n",
      "No diagnoses found for this admission. Skipping\n",
      "patient 24975\n",
      "admission 109963\n",
      "-----\n",
      "\n",
      "60% done.\n",
      "\n",
      "No diagnoses found for this admission. Skipping\n",
      "patient 31928\n",
      "admission 153208\n",
      "-----\n",
      "\n",
      "80% done.\n",
      "\n",
      "No diagnoses found for this admission. Skipping\n",
      "patient 73686\n",
      "admission 112990\n",
      "-----\n",
      "\n",
      "100% done.\n",
      "\n"
     ]
    }
   ],
   "source": [
    "# where it all begins\n",
    "data = {}\n",
    "\n",
    "# dumb, error prone way of getting only the columns of icd codings (eg.: icd9,ccs,chapters,etc)\n",
    "grouping_columns = [col for col in mimicIII.read_diagnoses() if col not in [\"ROW_ID\",\"SUBJECT_ID\",\"HADM_ID\",\"SEQ_NUM\"]]\n",
    "\n",
    "print_every = 0.2 # percent\n",
    "current = print_every\n",
    "for idx,p in enumerate(eligible_patients):\n",
    "    \n",
    "    p = int(p)\n",
    "    \n",
    "    data[p] = {}\n",
    "    \n",
    "    p_adm_data = adm[adm.SUBJECT_ID == p]\n",
    "    \n",
    "    # sanity check that all admissions are sorted inside each patient data\n",
    "    assert p_adm_data.ADMITTIME.is_monotonic_increasing, f'Oopsie, p={p}'\n",
    "    \n",
    "    for hadm in p_adm_data['HADM_ID']:\n",
    "        #diagnoses data\n",
    "        diag_data = mimic.get_diagnoses_for_admission(hadm)\n",
    "        \n",
    "        # if no information about diagnostics then ignore\n",
    "        if diag_data.ICD9_CODE.isna().all():\n",
    "            print('No diagnoses found for this admission. Skipping')\n",
    "            print('patient',p)\n",
    "            print('admission',int(hadm))\n",
    "            print('-----\\n')\n",
    "            continue\n",
    "        \n",
    "        # sanity check that diagnostics are sorted (important for future experiments)\n",
    "        assert diag_data.SEQ_NUM.is_monotonic_increasing, f'Oopsie, p={p}, hadm_id={hadm}'\n",
    "        \n",
    "        for grouping in grouping_columns:\n",
    "            if grouping not in data[p].keys():\n",
    "                data[p][grouping] = [diag_data[grouping].tolist()]\n",
    "            else:\n",
    "                data[p][grouping].append(diag_data[grouping].tolist())\n",
    "    if (idx+1)/len(eligible_patients) >= current:\n",
    "        print(f'{int(current*100)}% done.\\n')\n",
    "        current += print_every"
   ]
  },
  {
   "cell_type": "code",
   "execution_count": 23,
   "id": "165c2758",
   "metadata": {},
   "outputs": [],
   "source": [
    "# add metadata of available groupings\n",
    "metadata = {'groupings':grouping_columns}\n",
    "data = {'metadata':metadata,'data':data}"
   ]
  },
  {
   "cell_type": "markdown",
   "id": "a8e06201",
   "metadata": {},
   "source": [
    "# save"
   ]
  },
  {
   "cell_type": "code",
   "execution_count": 24,
   "id": "bcf573f7-f24a-461b-8763-bed5d692f2b8",
   "metadata": {},
   "outputs": [],
   "source": [
    "data_id = 'diag_only'\n",
    "datapath = os.path.join(settings.data_base,settings.model_ready_dataset_folder,data_id)\n",
    "\n",
    "# create folder of this dataset\n",
    "if not os.path.isdir(datapath):\n",
    "    os.mkdir(datapath)"
   ]
  },
  {
   "cell_type": "code",
   "execution_count": 25,
   "id": "9d61e5a1",
   "metadata": {},
   "outputs": [],
   "source": [
    "dataset_filename = 'dataset.json'\n",
    "dataset_filepath = os.path.join(datapath,dataset_filename)\n",
    "\n",
    "with open(dataset_filepath, 'w') as fp:\n",
    "    json.dump(data, fp)"
   ]
  },
  {
   "cell_type": "markdown",
   "id": "62a3e245",
   "metadata": {},
   "source": [
    "# Now for MIMIC-IV"
   ]
  },
  {
   "cell_type": "markdown",
   "id": "383d4765",
   "metadata": {},
   "source": [
    "## Get patients elegible for modelling"
   ]
  },
  {
   "cell_type": "code",
   "execution_count": 5,
   "id": "f0d116f3",
   "metadata": {},
   "outputs": [
    {
     "name": "stdout",
     "output_type": "stream",
     "text": [
      "len(mimic_IV_eligible_patients)=55483\n"
     ]
    }
   ],
   "source": [
    "filename = 'mimicIV_eligible_patients_exc.nodiag_single.adm_no.icd10.txt'\n",
    "filepath = os.path.join(settings.data_base,settings.eligible_patients_folder,filename)\n",
    "\n",
    "mimic_IV_eligible_patients = np.loadtxt(filepath,dtype=int)\n",
    "print(f\"{len(mimic_IV_eligible_patients)=}\")"
   ]
  },
  {
   "cell_type": "markdown",
   "id": "3ab024a6",
   "metadata": {},
   "source": [
    "## Build dictionary of data"
   ]
  },
  {
   "cell_type": "code",
   "execution_count": 6,
   "id": "f9409e41",
   "metadata": {},
   "outputs": [
    {
     "data": {
      "text/html": [
       "<div>\n",
       "<style scoped>\n",
       "    .dataframe tbody tr th:only-of-type {\n",
       "        vertical-align: middle;\n",
       "    }\n",
       "\n",
       "    .dataframe tbody tr th {\n",
       "        vertical-align: top;\n",
       "    }\n",
       "\n",
       "    .dataframe thead th {\n",
       "        text-align: right;\n",
       "    }\n",
       "</style>\n",
       "<table border=\"1\" class=\"dataframe\">\n",
       "  <thead>\n",
       "    <tr style=\"text-align: right;\">\n",
       "      <th></th>\n",
       "      <th>subject_id</th>\n",
       "      <th>admittime</th>\n",
       "      <th>hadm_id</th>\n",
       "    </tr>\n",
       "  </thead>\n",
       "  <tbody>\n",
       "    <tr>\n",
       "      <th>14588</th>\n",
       "      <td>16233333.0</td>\n",
       "      <td>2109-08-31 04:20:00</td>\n",
       "      <td>26733622.0</td>\n",
       "    </tr>\n",
       "  </tbody>\n",
       "</table>\n",
       "</div>"
      ],
      "text/plain": [
       "       subject_id           admittime     hadm_id\n",
       "14588  16233333.0 2109-08-31 04:20:00  26733622.0"
      ]
     },
     "execution_count": 6,
     "metadata": {},
     "output_type": "execute_result"
    },
    {
     "data": {
      "text/plain": [
       "(262727, 3)"
      ]
     },
     "execution_count": 6,
     "metadata": {},
     "output_type": "execute_result"
    }
   ],
   "source": [
    "adm = mimicIV.read_admissions().where(lambda df: df.subject_id.isin(mimic_IV_eligible_patients)).dropna(how='all')[['subject_id','admittime','hadm_id']]\n",
    "diagnoses = mimicIV.read_diagnoses()\n",
    "adm.head(1)\n",
    "adm.shape"
   ]
  },
  {
   "cell_type": "code",
   "execution_count": 21,
   "id": "0f68b66f",
   "metadata": {},
   "outputs": [
    {
     "name": "stdout",
     "output_type": "stream",
     "text": [
      "icd_code done\n",
      "ccs done\n",
      "icd9chapters done\n"
     ]
    }
   ],
   "source": [
    "# where it all begins\n",
    "data = {int(p):{} for p in mimic_IV_eligible_patients} \n",
    "\n",
    "# dumb, error prone way of getting only the columns of icd codings (eg.: icd9,ccs,chapters,etc)\n",
    "grouping_columns = [col for col in mimicIV.read_diagnoses() if col not in [\"icd_version\",\"icd9_chapters\",\"icd9_level3\",\"subject_id\",\"hadm_id\",\"seq_num\",\"hadm_index\"]]\n",
    "\n",
    "# include only eligible patients\n",
    "diagnoses_eligible = diagnoses[diagnoses.subject_id.isin(mimic_IV_eligible_patients)]\n",
    "\n",
    "for grouping in grouping_columns:\n",
    "    res = (diagnoses_eligible\n",
    "           .groupby(['subject_id','hadm_index'])\n",
    "           .apply(lambda subdf:subdf[grouping].tolist())\n",
    "           .groupby('subject_id')\n",
    "           .apply(list)\n",
    "          )\n",
    "    for idx,(p,diags) in enumerate(res.iteritems()):\n",
    "        data[p][grouping] = diags\n",
    "        \n",
    "    print(f'{grouping} done')"
   ]
  },
  {
   "cell_type": "markdown",
   "id": "cbaf347e",
   "metadata": {},
   "source": [
    "## Save"
   ]
  },
  {
   "cell_type": "code",
   "execution_count": 24,
   "id": "fdf80337",
   "metadata": {},
   "outputs": [],
   "source": [
    "# add metadata of available groupings\n",
    "metadata = {'groupings':grouping_columns}\n",
    "data = {'metadata':metadata,'data':data}"
   ]
  },
  {
   "cell_type": "code",
   "execution_count": 25,
   "id": "68bdc40c",
   "metadata": {},
   "outputs": [],
   "source": [
    "data_id = 'diag_only'\n",
    "datapath = os.path.join(settings.data_base,settings.model_ready_dataset_folder,data_id)\n",
    "\n",
    "# create folder of this dataset\n",
    "if not os.path.isdir(datapath):\n",
    "    os.mkdir(datapath)"
   ]
  },
  {
   "cell_type": "code",
   "execution_count": 26,
   "id": "e0abd5fe",
   "metadata": {},
   "outputs": [],
   "source": [
    "dataset_filename = 'mimic_iv_quick_baseline_dataset.json'\n",
    "dataset_filepath = os.path.join(datapath,dataset_filename)\n",
    "\n",
    "with open(dataset_filepath, 'w') as fp:\n",
    "    json.dump(data, fp)"
   ]
  },
  {
   "cell_type": "markdown",
   "id": "1bdc881b",
   "metadata": {},
   "source": [
    "# Test"
   ]
  },
  {
   "cell_type": "markdown",
   "id": "a55a2e43",
   "metadata": {},
   "source": [
    "### Read"
   ]
  },
  {
   "cell_type": "code",
   "execution_count": 27,
   "id": "b2e6d16f",
   "metadata": {},
   "outputs": [],
   "source": [
    "with open(dataset_filepath,'r') as fp:\n",
    "    data = json.load(fp)"
   ]
  },
  {
   "cell_type": "markdown",
   "id": "5b35cf07",
   "metadata": {},
   "source": [
    "### read all patient ids"
   ]
  },
  {
   "cell_type": "code",
   "execution_count": 28,
   "id": "350b60c3",
   "metadata": {},
   "outputs": [
    {
     "data": {
      "text/plain": [
       "55483"
      ]
     },
     "execution_count": 28,
     "metadata": {},
     "output_type": "execute_result"
    }
   ],
   "source": [
    "patient_ids = list(data['data'].keys()) # patient id's\n",
    "len(patient_ids)"
   ]
  },
  {
   "cell_type": "code",
   "execution_count": null,
   "id": "9af656d0-a48d-49ac-a99e-7ba3222f4170",
   "metadata": {},
   "outputs": [],
   "source": []
  }
 ],
 "metadata": {
  "kernelspec": {
   "display_name": "Python (simao thesis)",
   "language": "python",
   "name": "simao_thesis"
  },
  "language_info": {
   "codemirror_mode": {
    "name": "ipython",
    "version": 3
   },
   "file_extension": ".py",
   "mimetype": "text/x-python",
   "name": "python",
   "nbconvert_exporter": "python",
   "pygments_lexer": "ipython3",
   "version": "3.10.4"
  },
  "toc": {
   "base_numbering": 1,
   "nav_menu": {},
   "number_sections": true,
   "sideBar": true,
   "skip_h1_title": false,
   "title_cell": "Table of Contents",
   "title_sidebar": "Contents",
   "toc_cell": false,
   "toc_position": {},
   "toc_section_display": true,
   "toc_window_display": false
  },
  "varInspector": {
   "cols": {
    "lenName": 16,
    "lenType": 16,
    "lenVar": 40
   },
   "kernels_config": {
    "python": {
     "delete_cmd_postfix": "",
     "delete_cmd_prefix": "del ",
     "library": "var_list.py",
     "varRefreshCmd": "print(var_dic_list())"
    },
    "r": {
     "delete_cmd_postfix": ") ",
     "delete_cmd_prefix": "rm(",
     "library": "var_list.r",
     "varRefreshCmd": "cat(var_dic_list()) "
    }
   },
   "types_to_exclude": [
    "module",
    "function",
    "builtin_function_or_method",
    "instance",
    "_Feature"
   ],
   "window_display": false
  }
 },
 "nbformat": 4,
 "nbformat_minor": 5
}
