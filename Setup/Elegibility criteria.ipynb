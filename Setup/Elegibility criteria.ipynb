{
 "cells": [
  {
   "cell_type": "markdown",
   "id": "1b6caa13",
   "metadata": {},
   "source": [
    "# Stores patient ids&admission ids eligible to input to model, according to criteria\n",
    "\n",
    "\n",
    "Criteria:\n",
    "1. an admission is only eligible if there are diagnostics associated with it\n",
    "2. Patient must have more than 1 (eligible) admission to the hospital"
   ]
  },
  {
   "cell_type": "code",
   "execution_count": 1,
   "id": "2c2af4ae-1692-4e39-a533-38080aa41981",
   "metadata": {},
   "outputs": [],
   "source": [
    "import os\n",
    "cwd = os.getcwd()\n",
    "\n",
    "# protection against running this cell multiple times\n",
    "assert os.path.dirname(cwd).split('/')[-1] == 'master-thesis','Oops, directory already changed previously as indended. Ignoring...'\n",
    "\n",
    "# change working directory (if assert passed)\n",
    "new_cwd = os.path.dirname(cwd) # parent directory\n",
    "os.chdir(new_cwd)"
   ]
  },
  {
   "cell_type": "code",
   "execution_count": 2,
   "id": "aecdd6df",
   "metadata": {},
   "outputs": [],
   "source": [
    "# show all outputs\n",
    "from IPython.core.interactiveshell import InteractiveShell\n",
    "InteractiveShell.ast_node_interactivity = \"all\""
   ]
  },
  {
   "cell_type": "code",
   "execution_count": 3,
   "id": "4d1cfacb",
   "metadata": {},
   "outputs": [],
   "source": [
    "import os\n",
    "from MimicIII import MimicIII\n",
    "from MimicIV import MimicIV\n",
    "from ICDCodesGrouper import ICDCodesGrouper\n",
    "import pandas as pd\n",
    "import numpy as np\n",
    "from math import ceil\n",
    "from datetime import timedelta\n",
    "\n",
    "from config import Settings; settings = Settings()"
   ]
  },
  {
   "cell_type": "code",
   "execution_count": 4,
   "id": "e52d2f0f",
   "metadata": {},
   "outputs": [],
   "source": [
    "grouper = ICDCodesGrouper(settings)"
   ]
  },
  {
   "cell_type": "markdown",
   "id": "187d87c4",
   "metadata": {},
   "source": [
    "# Mimic-III"
   ]
  },
  {
   "cell_type": "code",
   "execution_count": 5,
   "id": "043628c5",
   "metadata": {},
   "outputs": [],
   "source": [
    "mimiciii = MimicIII(settings,grouper=grouper)"
   ]
  },
  {
   "cell_type": "code",
   "execution_count": 6,
   "id": "23b95414",
   "metadata": {},
   "outputs": [
    {
     "name": "stdout",
     "output_type": "stream",
     "text": [
      "nº patients eligible: 7499\n"
     ]
    }
   ],
   "source": [
    "admissions = mimiciii.read_admissions()\n",
    "diagnoses = mimiciii.read_diagnoses()\n",
    "\n",
    "# 1. remove admissions without record of diagnoses\n",
    "admissions_without_records= diagnoses.loc[pd.isna(diagnoses.ICD9_CODE),'HADM_ID'].unique()\n",
    "admissions = admissions[~admissions.HADM_ID.isin(admissions_without_records)]\n",
    "# 2. Only interested in patients with multiple admissions\n",
    "mult_adm_patients = admissions.groupby('SUBJECT_ID').size().where(lambda x: x > 1).dropna().index.tolist()\n",
    "\n",
    "# show 5 patients (id)\n",
    "print('nº patients eligible:',len(mult_adm_patients))\n",
    "\n",
    "mimicIII_patients = mult_adm_patients"
   ]
  },
  {
   "cell_type": "markdown",
   "id": "43933daf",
   "metadata": {},
   "source": [
    "# Mimic-IV (icd9-only)"
   ]
  },
  {
   "cell_type": "code",
   "execution_count": 7,
   "id": "f68870c5",
   "metadata": {},
   "outputs": [],
   "source": [
    "mimiciv = MimicIV(settings,grouper=grouper)"
   ]
  },
  {
   "cell_type": "code",
   "execution_count": 8,
   "id": "d9f49f96",
   "metadata": {},
   "outputs": [
    {
     "name": "stdout",
     "output_type": "stream",
     "text": [
      "nº patients eligible: 55483\n"
     ]
    }
   ],
   "source": [
    "admissions = mimiciv.read_admissions()\n",
    "diagnoses = mimiciv.read_diagnoses()\n",
    "\n",
    "admissions_only_icd9 = diagnoses[diagnoses.icd_version == 9].hadm_id.unique()\n",
    "admissions_with_diagnoses = admissions[admissions.hadm_id.isin(diagnoses.hadm_id.unique()) == True].hadm_id\n",
    "\n",
    "eligible_admissions = admissions[(admissions.hadm_id.isin(admissions_only_icd9)) & (admissions.hadm_id.isin(admissions_with_diagnoses))]\n",
    "\n",
    "mult_adm_patients = eligible_admissions.groupby('subject_id').size().where(lambda x: x > 1).dropna().index.tolist()\n",
    "\n",
    "print('nº patients eligible:',len(mult_adm_patients))\n",
    "mimicIV_patients = mult_adm_patients"
   ]
  },
  {
   "cell_type": "markdown",
   "id": "bd5dae07",
   "metadata": {},
   "source": [
    "# Save eligible patients"
   ]
  },
  {
   "cell_type": "code",
   "execution_count": 7,
   "id": "c99b71cf-6e94-445f-83e5-ba3307944a3b",
   "metadata": {},
   "outputs": [],
   "source": [
    "eligible_base_path = os.path.join(settings.data_base,settings.eligible_patients_folder)\n",
    "\n",
    "mimicIII_filename='mimicIII_eligible_patients_exc.nodiag_single.adm'\n",
    "mimicIV_filename='mimicIV_eligible_patients_exc.nodiag_single.adm_no.icd10'\n",
    "\n",
    "mimicIII_filepath = os.path.join(eligible_base_path,mimicIII_filename)\n",
    "mimicIV_filepath = os.path.join(eligible_base_path,mimicIV_filename)"
   ]
  },
  {
   "cell_type": "code",
   "execution_count": 8,
   "id": "83b02d64",
   "metadata": {},
   "outputs": [
    {
     "ename": "NameError",
     "evalue": "name 'mimicIV_patients' is not defined",
     "output_type": "error",
     "traceback": [
      "\u001b[0;31m---------------------------------------------------------------------------\u001b[0m",
      "\u001b[0;31mNameError\u001b[0m                                 Traceback (most recent call last)",
      "Input \u001b[0;32mIn [8]\u001b[0m, in \u001b[0;36m<cell line: 2>\u001b[0;34m()\u001b[0m\n\u001b[1;32m      1\u001b[0m np\u001b[38;5;241m.\u001b[39msavetxt(mimicIII_filepath\u001b[38;5;241m+\u001b[39m\u001b[38;5;124m'\u001b[39m\u001b[38;5;124m.txt\u001b[39m\u001b[38;5;124m'\u001b[39m, mimicIII_patients, fmt\u001b[38;5;241m=\u001b[39m\u001b[38;5;124m'\u001b[39m\u001b[38;5;132;01m%d\u001b[39;00m\u001b[38;5;124m'\u001b[39m,delimiter\u001b[38;5;241m=\u001b[39m\u001b[38;5;124m'\u001b[39m\u001b[38;5;124m,\u001b[39m\u001b[38;5;124m'\u001b[39m)\n\u001b[0;32m----> 2\u001b[0m np\u001b[38;5;241m.\u001b[39msavetxt(mimicIV_filepath\u001b[38;5;241m+\u001b[39m\u001b[38;5;124m'\u001b[39m\u001b[38;5;124m.txt\u001b[39m\u001b[38;5;124m'\u001b[39m, \u001b[43mmimicIV_patients\u001b[49m, fmt\u001b[38;5;241m=\u001b[39m\u001b[38;5;124m'\u001b[39m\u001b[38;5;132;01m%d\u001b[39;00m\u001b[38;5;124m'\u001b[39m,delimiter\u001b[38;5;241m=\u001b[39m\u001b[38;5;124m'\u001b[39m\u001b[38;5;124m,\u001b[39m\u001b[38;5;124m'\u001b[39m)\n",
      "\u001b[0;31mNameError\u001b[0m: name 'mimicIV_patients' is not defined"
     ]
    }
   ],
   "source": [
    "np.savetxt(mimicIII_filepath+'.txt', mimicIII_patients, fmt='%d',delimiter=',')\n",
    "np.savetxt(mimicIV_filepath+'.txt', mimicIV_patients, fmt='%d',delimiter=',')"
   ]
  },
  {
   "cell_type": "markdown",
   "id": "c8bbe833",
   "metadata": {},
   "source": [
    "# Now for timewindows"
   ]
  },
  {
   "cell_type": "markdown",
   "id": "cb1a96b3",
   "metadata": {},
   "source": [
    "## Mimic-III\n",
    "\n",
    "criteria:\n",
    "1. No admissions without diagnoses\n",
    "2. patients with at least two admissions seperated by at least 1 month"
   ]
  },
  {
   "cell_type": "code",
   "execution_count": 7,
   "id": "fcc9b308",
   "metadata": {},
   "outputs": [],
   "source": [
    "admissions = mimiciii.read_admissions()\n",
    "diagnoses = mimiciii.read_diagnoses()"
   ]
  },
  {
   "cell_type": "code",
   "execution_count": 12,
   "id": "c8f77187",
   "metadata": {},
   "outputs": [
    {
     "name": "stdout",
     "output_type": "stream",
     "text": [
      "Saved  data/eligible_patients/mimicIII_eligible_patients_time_window_1m_exc.nodiag_single.windowtxt\n",
      "Saved  data/eligible_patients/mimicIII_eligible_admissions_time_window_1m_exc.nodiag_single.windowtxt\n",
      "Saved  data/eligible_patients/mimicIII_eligible_patients_time_window_3m_exc.nodiag_single.windowtxt\n",
      "Saved  data/eligible_patients/mimicIII_eligible_admissions_time_window_3m_exc.nodiag_single.windowtxt\n",
      "Saved  data/eligible_patients/mimicIII_eligible_patients_time_window_6m_exc.nodiag_single.windowtxt\n",
      "Saved  data/eligible_patients/mimicIII_eligible_admissions_time_window_6m_exc.nodiag_single.windowtxt\n",
      "Saved  data/eligible_patients/mimicIII_eligible_patients_time_window_12m_exc.nodiag_single.windowtxt\n",
      "Saved  data/eligible_patients/mimicIII_eligible_admissions_time_window_12m_exc.nodiag_single.windowtxt\n"
     ]
    }
   ],
   "source": [
    "eligible_base_path = os.path.join(settings.data_base,settings.eligible_patients_folder)\n",
    "\n",
    "for m in [1,3,6,12]:\n",
    "    admissions = mimiciii.read_admissions()\n",
    "    \n",
    "    # 1. remove admissions without record of diagnoses\n",
    "    admissions_without_records= diagnoses.loc[pd.isna(diagnoses.ICD9_CODE),'HADM_ID'].unique()\n",
    "    admissions = admissions[~admissions.HADM_ID.isin(admissions_without_records)]\n",
    "\n",
    "    # get patients that have at least m months difference between the first and last visit\n",
    "    res = admissions.groupby('SUBJECT_ID').ADMITTIME.apply(lambda subseries: (subseries.max() - subseries.min()).days / 30)\n",
    "    at_least_m_month_diff_patients = res[res>m].index.values\n",
    "    eligible_admissions = admissions[admissions.SUBJECT_ID.isin(at_least_m_month_diff_patients)]\n",
    "\n",
    "    \n",
    "    # save patients and admissions ids.\n",
    "    mimicIII_window_filename = f'mimicIII_eligible_patients_time_window_{m}m_exc.nodiag_single.window'\n",
    "    mimicIII_window_filepath = os.path.join(eligible_base_path, mimicIII_window_filename)\n",
    "    np.savetxt(mimicIII_window_filepath+'.txt', at_least_m_month_diff_patients, fmt='%d',delimiter=',')\n",
    "    print('Saved ',mimicIII_window_filepath+'.txt')\n",
    "    \n",
    "    mimicIII_window_filename = f'mimicIII_eligible_admissions_time_window_{m}m_exc.nodiag_single.window'\n",
    "    mimicIII_window_filepath = os.path.join(eligible_base_path, mimicIII_window_filename)\n",
    "    np.savetxt(mimicIII_window_filepath+'.txt', eligible_admissions.HADM_ID, fmt='%d',delimiter=',')\n",
    "    print('Saved ',mimicIII_window_filepath+'.txt\\n')"
   ]
  },
  {
   "cell_type": "code",
   "execution_count": null,
   "id": "ad0b9f4f",
   "metadata": {},
   "outputs": [],
   "source": []
  }
 ],
 "metadata": {
  "kernelspec": {
   "display_name": "Python (simao thesis)",
   "language": "python",
   "name": "simao_thesis"
  },
  "language_info": {
   "codemirror_mode": {
    "name": "ipython",
    "version": 3
   },
   "file_extension": ".py",
   "mimetype": "text/x-python",
   "name": "python",
   "nbconvert_exporter": "python",
   "pygments_lexer": "ipython3",
   "version": "3.10.4"
  }
 },
 "nbformat": 4,
 "nbformat_minor": 5
}
