{
 "cells": [
  {
   "cell_type": "markdown",
   "id": "1b6caa13",
   "metadata": {},
   "source": [
    "# Stores patient ids eligible to input to model, according to criteria\n",
    "\n",
    "\n",
    "Criteria:\n",
    "1. an admission is only eligible if there are diagnostics associated with it\n",
    "2. Patient must have more than 1 (eligible) admission to the hospital"
   ]
  },
  {
   "cell_type": "code",
   "execution_count": 2,
   "id": "2c2af4ae-1692-4e39-a533-38080aa41981",
   "metadata": {},
   "outputs": [],
   "source": [
    "import os\n",
    "cwd = os.getcwd()\n",
    "\n",
    "# protection against running this cell multiple times\n",
    "assert os.path.dirname(cwd).split('/')[-1] == 'master-thesis','Oops, directory already changed previously as indended. Ignoring...'\n",
    "\n",
    "# change working directory (if assert passed)\n",
    "new_cwd = os.path.dirname(cwd) # parent directory\n",
    "os.chdir(new_cwd)"
   ]
  },
  {
   "cell_type": "code",
   "execution_count": 3,
   "id": "aecdd6df",
   "metadata": {},
   "outputs": [],
   "source": [
    "# show all outputs\n",
    "from IPython.core.interactiveshell import InteractiveShell\n",
    "InteractiveShell.ast_node_interactivity = \"all\""
   ]
  },
  {
   "cell_type": "code",
   "execution_count": 4,
   "id": "4d1cfacb",
   "metadata": {},
   "outputs": [],
   "source": [
    "import os\n",
    "from MimicIII import MimicIII\n",
    "from MimicIV import MimicIV\n",
    "from ICDCodesGrouper import ICDCodesGrouper\n",
    "import pandas as pd\n",
    "import numpy as np\n",
    "\n",
    "from config import Settings; settings = Settings()"
   ]
  },
  {
   "cell_type": "code",
   "execution_count": 7,
   "id": "e52d2f0f",
   "metadata": {},
   "outputs": [],
   "source": [
    "grouper = ICDCodesGrouper(settings)"
   ]
  },
  {
   "cell_type": "markdown",
   "id": "187d87c4",
   "metadata": {},
   "source": [
    "# Mimic-III"
   ]
  },
  {
   "cell_type": "code",
   "execution_count": 4,
   "id": "043628c5",
   "metadata": {},
   "outputs": [],
   "source": [
    "mimiciii = MimicIII(settings,grouper=grouper)"
   ]
  },
  {
   "cell_type": "code",
   "execution_count": 5,
   "id": "23b95414",
   "metadata": {},
   "outputs": [
    {
     "name": "stdout",
     "output_type": "stream",
     "text": [
      "nº patients eligible: 7499\n"
     ]
    }
   ],
   "source": [
    "admissions = mimiciii.read_admissions()\n",
    "diagnoses = mimiciii.read_diagnoses()\n",
    "\n",
    "# 1. remove admissions without record of diagnoses\n",
    "admissions_without_records= diagnoses.loc[pd.isna(diagnoses.ICD9_CODE),'HADM_ID'].unique()\n",
    "admissions = admissions[~admissions.HADM_ID.isin(admissions_without_records)]\n",
    "# 2. Only interested in patients with multiple admissions\n",
    "mult_adm_patients = admissions.groupby('SUBJECT_ID').size().where(lambda x: x > 1).dropna().index.tolist()\n",
    "\n",
    "# show 5 patients (id)\n",
    "print('nº patients eligible:',len(mult_adm_patients))\n",
    "\n",
    "mimicIII_patients = mult_adm_patients"
   ]
  },
  {
   "cell_type": "markdown",
   "id": "43933daf",
   "metadata": {},
   "source": [
    "# Mimic-IV (icd9-only)"
   ]
  },
  {
   "cell_type": "code",
   "execution_count": 8,
   "id": "f68870c5",
   "metadata": {},
   "outputs": [],
   "source": [
    "mimiciv = MimicIV(settings,grouper=grouper)"
   ]
  },
  {
   "cell_type": "code",
   "execution_count": 9,
   "id": "d9f49f96",
   "metadata": {},
   "outputs": [
    {
     "name": "stdout",
     "output_type": "stream",
     "text": [
      "nº patients eligible: 55483\n"
     ]
    }
   ],
   "source": [
    "admissions = mimiciv.read_admissions()\n",
    "diagnoses = mimiciv.read_diagnoses()\n",
    "\n",
    "admissions_only_icd9 = diagnoses[diagnoses.icd_version == 9].hadm_id.unique()\n",
    "admissions_with_diagnoses = admissions[admissions.hadm_id.isin(diagnoses.hadm_id.unique()) == True].hadm_id\n",
    "\n",
    "eligible_admissions = admissions[(admissions.hadm_id.isin(admissions_only_icd9)) & (admissions.hadm_id.isin(admissions_with_diagnoses))]\n",
    "\n",
    "mult_adm_patients = eligible_admissions.groupby('subject_id').size().where(lambda x: x > 1).dropna().index.tolist()\n",
    "\n",
    "print('nº patients eligible:',len(mult_adm_patients))\n",
    "mimicIV_patients = mult_adm_patients"
   ]
  },
  {
   "cell_type": "markdown",
   "id": "bd5dae07",
   "metadata": {},
   "source": [
    "# Save eligible patients"
   ]
  },
  {
   "cell_type": "code",
   "execution_count": 8,
   "id": "c99b71cf-6e94-445f-83e5-ba3307944a3b",
   "metadata": {},
   "outputs": [],
   "source": [
    "eligible_base_path = os.path.join(settings.data_base,settings.eligible_patients_folder)\n",
    "\n",
    "mimicIII_filename='mimicIII_eligible_patients_exc.nodiag_single.adm'\n",
    "mimicIV_filename='mimicIV_eligible_patients_exc.nodiag_single.adm_no.icd10'\n",
    "\n",
    "mimicIII_filepath = os.path.join(eligible_base_path,mimicIII_filename)\n",
    "mimicIV_filepath = os.path.join(eligible_base_path,mimicIV_filename)"
   ]
  },
  {
   "cell_type": "code",
   "execution_count": 10,
   "id": "83b02d64",
   "metadata": {},
   "outputs": [],
   "source": [
    "np.savetxt(mimicIII_filepath+'.txt', mimicIII_patients, fmt='%d',delimiter=',')\n",
    "np.savetxt(mimicIV_filepath+'.txt', mimicIV_patients, fmt='%d',delimiter=',')"
   ]
  },
  {
   "cell_type": "code",
   "execution_count": null,
   "id": "e7cc3d8c-0563-48a9-8505-6d638b5079fa",
   "metadata": {},
   "outputs": [],
   "source": []
  }
 ],
 "metadata": {
  "kernelspec": {
   "display_name": "Python (simao thesis)",
   "language": "python",
   "name": "simao_thesis"
  },
  "language_info": {
   "codemirror_mode": {
    "name": "ipython",
    "version": 3
   },
   "file_extension": ".py",
   "mimetype": "text/x-python",
   "name": "python",
   "nbconvert_exporter": "python",
   "pygments_lexer": "ipython3",
   "version": "3.10.4"
  }
 },
 "nbformat": 4,
 "nbformat_minor": 5
}
