{
 "cells": [
  {
   "cell_type": "markdown",
   "id": "ae70a096-5daa-4e4e-b521-d17cac174723",
   "metadata": {},
   "source": [
    "dataset code: A301\n",
    "\n",
    "eligibility:\n",
    "1. after 2016\n",
    "2. at least 2 admissions\n",
    "3. admission is eligible if there is at least 1 recognized ccs code\n",
    "5. episodes can't have multiple diagnostics assigned with more than 1 day delay between each other\n",
    "\n",
    "process:\n",
    "1. ccs codes\n",
    "2. 12 months target window\n",
    "3. saves delta_days and date of last admission before prediction_period of all datapoints"
   ]
  },
  {
   "cell_type": "code",
   "execution_count": 1,
   "id": "e8e0ded2-04af-4c2a-a0fc-e6a63c66b4bd",
   "metadata": {},
   "outputs": [],
   "source": [
    "from IPython.core.interactiveshell import InteractiveShell\n",
    "InteractiveShell.ast_node_interactivity = \"all\"\n",
    "%matplotlib inline"
   ]
  },
  {
   "cell_type": "code",
   "execution_count": 2,
   "id": "4c7f36c6-046e-4337-a9e5-79a4756fcfd2",
   "metadata": {},
   "outputs": [],
   "source": [
    "import ast\n",
    "import pandas as pd\n",
    "idx = pd.IndexSlice\n",
    "pd.options.display.max_columns = None\n",
    "pd.set_option(\"display.max_rows\", None, \"display.max_columns\", None,'display.max_colwidth', None)\n",
    "\n",
    "import numpy as np\n",
    "import os\n",
    "\n",
    "from datetime import timedelta\n",
    "import json\n",
    "\n",
    "import matplotlib.pyplot as plt\n",
    "from tqdm.notebook import tqdm\n",
    "\n",
    "from ICDMappings import ICDMappings\n",
    "icdmap = ICDMappings()"
   ]
  },
  {
   "cell_type": "markdown",
   "id": "a7209211-4f73-42e1-8d7d-10db997c1ea1",
   "metadata": {},
   "source": [
    "# Parameters"
   ]
  },
  {
   "cell_type": "code",
   "execution_count": 6,
   "id": "1f8924c7-1ea7-4a52-849d-0c9c8f75147c",
   "metadata": {},
   "outputs": [],
   "source": [
    "#where to save the resulting dataset\n",
    "dataset_filepath = 'data/model_ready_dataset/icare2021_diag_A302/dataset.json'\n",
    "raw_data_filepath = 'data/model_ready_dataset/icare2021_diag_A302/dataset.csv'\n",
    "\n",
    "#checks\n",
    "\n",
    "assert os.path.dirname(dataset_filepath) == os.path.dirname(raw_data_filepath), 'make sure both dataset are saved under the same directory'\n",
    "assert os.path.isdir(os.path.dirname(dataset_filepath)),'Please create the directory first or try another path to save'\n",
    "\n",
    "assert not os.path.isfile(dataset_filepath) or not os.path.isfile(raw_data_filepath), 'File exists, are you sure you want to overwrite it? If so, comment this line and run the notebook again'"
   ]
  },
  {
   "cell_type": "markdown",
   "id": "e7754b9c-9640-4c8a-98c7-34fdbfaae9b9",
   "metadata": {},
   "source": [
    "----"
   ]
  },
  {
   "cell_type": "code",
   "execution_count": 3,
   "id": "e12dac82-4783-4530-855d-1a0245dffc95",
   "metadata": {},
   "outputs": [],
   "source": [
    "class Icare:\n",
    "    def __init__(self,data_folder):\n",
    "        self.data_folder = data_folder\n",
    "        self.diagnoses_path = 'LS_ANALYTICS.ICARE_CLINICO_DIAGNOSTICOS/index.csv'\n",
    "        self.atividade_path = 'LS_ANALYTICS.ICARE_ATIVIDADE_HOSPITALAR/index.csv'\n",
    "        \n",
    "    \n",
    "    def _read_diagnoses(self):\n",
    "        print('Reading diagnostics table...')\n",
    "        diagnoses_file = os.path.join(self.data_folder,self.diagnoses_path)\n",
    "        \n",
    "        df = pd.read_csv(diagnoses_file,sep='\\t')\n",
    "        \n",
    "        print('begining: ',round(df.memory_usage(index=True).sum() / 1_000_000,1),'Mb') #Mbytes\n",
    "        \n",
    "        df = df.drop(columns='UNIDADE')\n",
    "        #print('drop UNIDADE:',df.memory_usage(index=True).sum() / 1_000_000) #Mbytes\n",
    "        \n",
    "        df = df.drop(columns='DATA_FIM')\n",
    "        #print('drop date_end:',df.memory_usage(index=True).sum() / 1_000_000) #Mbytes\n",
    "        \n",
    "        df.loc[:,'PRIORIDADE_DIAGNOSTICO'] = df.PRIORIDADE_DIAGNOSTICO.astype('category')\n",
    "        #print('PRIORIDADE_DIAGNOSTICO to category:',df.memory_usage(index=True).sum() / 1_000_000) #Mbytes\n",
    "        \n",
    "        df = df.drop(columns=['ICD9_DESCRICAO'])\n",
    "        #print('drop icd9_descricao:',df.memory_usage(index=True).sum() / 1_000_000) #Mbytes\n",
    "        \n",
    "        df.loc[:,'DIAGNOSTICO_PRINCIPAL'] = df.DIAGNOSTICO_PRINCIPAL.map({'S':True,'N':False})        \n",
    "        #print('DIAGNOSTICO_PRINCIPAL to boolean:',df.memory_usage(index=True).sum() / 1_000_000) #Mbytes\n",
    "        \n",
    "        # a single row with the year 9064 ruins pd.to_datetime (overflow since pandas uses miliseconds in dates)\n",
    "        # tldr:  we will remove that row\n",
    "        nrows_before = df.shape[0]\n",
    "        df = df.drop(df.DATA_INICIO.apply(lambda x: x[:4] if x is not np.nan else x).astype(float).where(lambda x: x==9064.0).dropna().index[0])\n",
    "        nrows_after = df.shape[0]\n",
    "        assert nrows_before == nrows_after + 1, 'Ooops, expecting to drop exactly 1 row. maybe dataset changed.'\n",
    "        \n",
    "        df.loc[:,'DATA_INICIO'] = pd.to_datetime(df.DATA_INICIO,format='%Y-%m-%d %H:%M:%S')\n",
    "        #print('DATA_INICIO to datetime:',df.memory_usage(index=True).sum() / 1_000_000) #Mbytes\n",
    "        \n",
    "        df = df.drop_duplicates()\n",
    "        #print('drop duplicates:',df.memory_usage(index=True).sum() / 1_000_000) #Mbytes\n",
    "        \n",
    "        # last row is trash\n",
    "        df = df.iloc[:-1]\n",
    "        \n",
    "        print('end: ',round(df.memory_usage(index=True).sum() / 1_000_000),'Mb') #Mbytes\n",
    "        print('Done')\n",
    "        return df\n",
    "        "
   ]
  },
  {
   "cell_type": "code",
   "execution_count": 4,
   "id": "cbbbeb72-c064-46dd-b64c-99fbc963bc73",
   "metadata": {},
   "outputs": [],
   "source": [
    "icare = Icare('../../icare-dataset_2021-08')"
   ]
  },
  {
   "cell_type": "code",
   "execution_count": 5,
   "id": "719ede27-9d63-4ef7-abde-6262441797b6",
   "metadata": {},
   "outputs": [
    {
     "name": "stdout",
     "output_type": "stream",
     "text": [
      "Reading diagnostics table...\n"
     ]
    },
    {
     "name": "stderr",
     "output_type": "stream",
     "text": [
      "/tmp/ipykernel_17945/365396413.py:12: DtypeWarning: Columns (8) have mixed types. Specify dtype option on import or set low_memory=False.\n",
      "  df = pd.read_csv(diagnoses_file,sep='\\t')\n"
     ]
    },
    {
     "name": "stdout",
     "output_type": "stream",
     "text": [
      "begining:  178.9 Mb\n",
      "end:  117 Mb\n",
      "Done\n"
     ]
    },
    {
     "data": {
      "text/html": [
       "<div>\n",
       "<style scoped>\n",
       "    .dataframe tbody tr th:only-of-type {\n",
       "        vertical-align: middle;\n",
       "    }\n",
       "\n",
       "    .dataframe tbody tr th {\n",
       "        vertical-align: top;\n",
       "    }\n",
       "\n",
       "    .dataframe thead th {\n",
       "        text-align: right;\n",
       "    }\n",
       "</style>\n",
       "<table border=\"1\" class=\"dataframe\">\n",
       "  <thead>\n",
       "    <tr style=\"text-align: right;\">\n",
       "      <th></th>\n",
       "      <th>EPISODIO</th>\n",
       "      <th>NHC</th>\n",
       "      <th>PRIORIDADE_DIAGNOSTICO</th>\n",
       "      <th>ICD9</th>\n",
       "      <th>DIAGNOSTICO_PRINCIPAL</th>\n",
       "      <th>DATA_INICIO</th>\n",
       "    </tr>\n",
       "  </thead>\n",
       "  <tbody>\n",
       "    <tr>\n",
       "      <th>0</th>\n",
       "      <td>9B91F36DDC2E5D45</td>\n",
       "      <td>7E0717CE88F09A1EB9B7CB48F3520501</td>\n",
       "      <td>ASAP</td>\n",
       "      <td>2578</td>\n",
       "      <td>True</td>\n",
       "      <td>2016-10-19 17:40:00</td>\n",
       "    </tr>\n",
       "  </tbody>\n",
       "</table>\n",
       "</div>"
      ],
      "text/plain": [
       "           EPISODIO                               NHC PRIORIDADE_DIAGNOSTICO  \\\n",
       "0  9B91F36DDC2E5D45  7E0717CE88F09A1EB9B7CB48F3520501                   ASAP   \n",
       "\n",
       "   ICD9 DIAGNOSTICO_PRINCIPAL         DATA_INICIO  \n",
       "0  2578                  True 2016-10-19 17:40:00  "
      ]
     },
     "execution_count": 5,
     "metadata": {},
     "output_type": "execute_result"
    }
   ],
   "source": [
    "df = icare._read_diagnoses()\n",
    "df.head(1)"
   ]
  },
  {
   "cell_type": "code",
   "execution_count": 10,
   "id": "b39e7287-c87d-4352-8872-59fe3723a5d6",
   "metadata": {},
   "outputs": [
    {
     "data": {
      "text/html": [
       "<div>\n",
       "<style scoped>\n",
       "    .dataframe tbody tr th:only-of-type {\n",
       "        vertical-align: middle;\n",
       "    }\n",
       "\n",
       "    .dataframe tbody tr th {\n",
       "        vertical-align: top;\n",
       "    }\n",
       "\n",
       "    .dataframe thead th {\n",
       "        text-align: right;\n",
       "    }\n",
       "</style>\n",
       "<table border=\"1\" class=\"dataframe\">\n",
       "  <thead>\n",
       "    <tr style=\"text-align: right;\">\n",
       "      <th></th>\n",
       "      <th></th>\n",
       "      <th>min</th>\n",
       "      <th>max</th>\n",
       "    </tr>\n",
       "    <tr>\n",
       "      <th>EPISODIO</th>\n",
       "      <th>NHC</th>\n",
       "      <th></th>\n",
       "      <th></th>\n",
       "    </tr>\n",
       "  </thead>\n",
       "  <tbody>\n",
       "    <tr>\n",
       "      <th>000016F136985F31</th>\n",
       "      <th>9D73829E86FD907A3B2DBCB658D43107</th>\n",
       "      <td>2018-05-29 11:00:00</td>\n",
       "      <td>2018-05-29 11:00:00</td>\n",
       "    </tr>\n",
       "    <tr>\n",
       "      <th>00002A60B8C0E69D33E22BC4C4938ACB</th>\n",
       "      <th>E34C3A6E5A9DFDCC61EFFE9C3E7BF5D7</th>\n",
       "      <td>2020-10-19 23:47:00</td>\n",
       "      <td>2020-10-19 23:47:00</td>\n",
       "    </tr>\n",
       "    <tr>\n",
       "      <th>00003451D06E035DCC1AF5B2F032B4FA</th>\n",
       "      <th>8FFF5F2B2CFDE2CAE785CCD06B921A5E</th>\n",
       "      <td>2021-05-07 17:38:00</td>\n",
       "      <td>2021-05-07 17:38:00</td>\n",
       "    </tr>\n",
       "  </tbody>\n",
       "</table>\n",
       "</div>"
      ],
      "text/plain": [
       "                                                                                  min  \\\n",
       "EPISODIO                         NHC                                                    \n",
       "000016F136985F31                 9D73829E86FD907A3B2DBCB658D43107 2018-05-29 11:00:00   \n",
       "00002A60B8C0E69D33E22BC4C4938ACB E34C3A6E5A9DFDCC61EFFE9C3E7BF5D7 2020-10-19 23:47:00   \n",
       "00003451D06E035DCC1AF5B2F032B4FA 8FFF5F2B2CFDE2CAE785CCD06B921A5E 2021-05-07 17:38:00   \n",
       "\n",
       "                                                                                  max  \n",
       "EPISODIO                         NHC                                                   \n",
       "000016F136985F31                 9D73829E86FD907A3B2DBCB658D43107 2018-05-29 11:00:00  \n",
       "00002A60B8C0E69D33E22BC4C4938ACB E34C3A6E5A9DFDCC61EFFE9C3E7BF5D7 2020-10-19 23:47:00  \n",
       "00003451D06E035DCC1AF5B2F032B4FA 8FFF5F2B2CFDE2CAE785CCD06B921A5E 2021-05-07 17:38:00  "
      ]
     },
     "execution_count": 10,
     "metadata": {},
     "output_type": "execute_result"
    }
   ],
   "source": [
    "res = df.groupby(['EPISODIO','NHC']).DATA_INICIO.agg([min,max])\n",
    "res.head(3)"
   ]
  },
  {
   "cell_type": "markdown",
   "id": "ee7ac3b7-87c6-47f3-b354-9e1b46f5a691",
   "metadata": {},
   "source": [
    "----"
   ]
  },
  {
   "cell_type": "markdown",
   "id": "de3bc526-cdb0-492c-84eb-06e1701ba476",
   "metadata": {},
   "source": [
    "# ICD9 to ICD9_3 then CCS"
   ]
  },
  {
   "cell_type": "code",
   "execution_count": 11,
   "id": "ce3e2712-f2f9-4bc1-af5f-65067d2b9343",
   "metadata": {},
   "outputs": [],
   "source": [
    "df.loc[:,'ICD9_3'] = df.ICD9.apply(lambda x: x[:3] if x is not np.nan else x)\n",
    "df.loc[:,'ICD9_3->CCS'] = icdmap.lookup('icd9_3toccs',df['ICD9_3'])"
   ]
  },
  {
   "cell_type": "markdown",
   "id": "0e5231be-47bf-46e6-9a25-8d55c9b28a73",
   "metadata": {},
   "source": [
    "## define eligibility criteria\n",
    "\n",
    "1. data after 2016\n",
    "1. patients with at least 2 admissions\n",
    "1. all admissions must have at least 1 ccs diagnostic that is eligible\n",
    "\n",
    "## define windows\n",
    "\n",
    "3,6,12 months\n",
    "\n",
    "what metrics to keep track of:\n",
    "1. distribution of #admissions per target window\n",
    "1. distribution of # diagnoses per target window\n",
    "1. distribution of # admissions of input per target window\n",
    "1. distribution # diagnoses of input per target window"
   ]
  },
  {
   "cell_type": "code",
   "execution_count": 12,
   "id": "fe886256-15b6-4e3a-9b89-412566fd907c",
   "metadata": {
    "collapsed": true,
    "jupyter": {
     "outputs_hidden": true
    },
    "tags": []
   },
   "outputs": [
    {
     "name": "stdout",
     "output_type": "stream",
     "text": [
      "Reading diagnostics table...\n"
     ]
    },
    {
     "name": "stderr",
     "output_type": "stream",
     "text": [
      "/tmp/ipykernel_30796/365396413.py:12: DtypeWarning: Columns (8) have mixed types. Specify dtype option on import or set low_memory=False.\n",
      "  df = pd.read_csv(diagnoses_file,sep='\\t')\n"
     ]
    },
    {
     "name": "stdout",
     "output_type": "stream",
     "text": [
      "begining:  178.9 Mb\n",
      "end:  117 Mb\n",
      "Done\n",
      "Preparing eligibility filtering...\n"
     ]
    },
    {
     "name": "stderr",
     "output_type": "stream",
     "text": [
      "/tmp/ipykernel_30796/2163803607.py:12: SettingWithCopyWarning: \n",
      "A value is trying to be set on a copy of a slice from a DataFrame.\n",
      "Try using .loc[row_indexer,col_indexer] = value instead\n",
      "\n",
      "See the caveats in the documentation: https://pandas.pydata.org/pandas-docs/stable/user_guide/indexing.html#returning-a-view-versus-a-copy\n",
      "  df['is_ccs_na'] = df['ICD9_3->CCS'].isna()\n"
     ]
    },
    {
     "name": "stdout",
     "output_type": "stream",
     "text": [
      "Done\n"
     ]
    },
    {
     "data": {
      "text/plain": [
       "(2052106, 9)"
      ]
     },
     "execution_count": 12,
     "metadata": {},
     "output_type": "execute_result"
    },
    {
     "data": {
      "text/plain": [
       "1861671"
      ]
     },
     "execution_count": 12,
     "metadata": {},
     "output_type": "execute_result"
    },
    {
     "data": {
      "text/plain": [
       "262811"
      ]
     },
     "execution_count": 12,
     "metadata": {},
     "output_type": "execute_result"
    },
    {
     "data": {
      "text/plain": [
       "2      66898\n",
       "3      38716\n",
       "4      27255\n",
       "5      20019\n",
       "6      15764\n",
       "7      12487\n",
       "8      10253\n",
       "9       8504\n",
       "10      7174\n",
       "11      6120\n",
       "12      5234\n",
       "13      4588\n",
       "14      3951\n",
       "15      3464\n",
       "16      3048\n",
       "17      2737\n",
       "18      2357\n",
       "19      2131\n",
       "20      1920\n",
       "21      1770\n",
       "22      1553\n",
       "23      1455\n",
       "24      1246\n",
       "25      1103\n",
       "26      1062\n",
       "27       941\n",
       "28       826\n",
       "29       780\n",
       "30       699\n",
       "31       645\n",
       "32       614\n",
       "33       541\n",
       "34       497\n",
       "36       418\n",
       "35       415\n",
       "37       394\n",
       "38       339\n",
       "39       329\n",
       "40       321\n",
       "41       287\n",
       "1        287\n",
       "42       244\n",
       "44       222\n",
       "43       220\n",
       "45       185\n",
       "46       170\n",
       "47       155\n",
       "49       147\n",
       "48       141\n",
       "52       125\n",
       "50       121\n",
       "51       113\n",
       "54       113\n",
       "53        99\n",
       "55        96\n",
       "57        94\n",
       "56        93\n",
       "58        89\n",
       "60        77\n",
       "61        61\n",
       "59        60\n",
       "63        58\n",
       "62        53\n",
       "65        48\n",
       "70        40\n",
       "66        40\n",
       "71        39\n",
       "67        38\n",
       "64        35\n",
       "69        35\n",
       "74        34\n",
       "68        31\n",
       "72        31\n",
       "73        28\n",
       "78        27\n",
       "81        24\n",
       "77        24\n",
       "75        23\n",
       "83        22\n",
       "76        21\n",
       "85        20\n",
       "86        17\n",
       "92        16\n",
       "79        15\n",
       "91        14\n",
       "84        14\n",
       "90        14\n",
       "88        13\n",
       "109       12\n",
       "89        11\n",
       "82        11\n",
       "80        10\n",
       "106        9\n",
       "96         9\n",
       "87         9\n",
       "100        9\n",
       "99         9\n",
       "93         9\n",
       "95         9\n",
       "114        8\n",
       "102        8\n",
       "112        7\n",
       "101        6\n",
       "97         6\n",
       "103        6\n",
       "104        6\n",
       "107        6\n",
       "113        5\n",
       "94         5\n",
       "98         5\n",
       "120        5\n",
       "133        4\n",
       "124        4\n",
       "150        4\n",
       "138        4\n",
       "110        4\n",
       "144        4\n",
       "117        3\n",
       "127        3\n",
       "139        3\n",
       "137        3\n",
       "121        3\n",
       "125        3\n",
       "108        3\n",
       "119        2\n",
       "126        2\n",
       "128        2\n",
       "145        2\n",
       "111        2\n",
       "140        2\n",
       "116        2\n",
       "105        2\n",
       "152        2\n",
       "211        1\n",
       "250        1\n",
       "156        1\n",
       "273        1\n",
       "132        1\n",
       "174        1\n",
       "129        1\n",
       "188        1\n",
       "157        1\n",
       "135        1\n",
       "185        1\n",
       "153        1\n",
       "195        1\n",
       "118        1\n",
       "115        1\n",
       "123        1\n",
       "147        1\n",
       "171        1\n",
       "130        1\n",
       "189        1\n",
       "179        1\n",
       "253        1\n",
       "202        1\n",
       "173        1\n",
       "122        1\n",
       "136        1\n",
       "131        1\n",
       "Name: Distribution of #episodes per eligible patient, dtype: int64"
      ]
     },
     "execution_count": 12,
     "metadata": {},
     "output_type": "execute_result"
    }
   ],
   "source": [
    "# eligibility\n",
    "df = icare._read_diagnoses()\n",
    "\n",
    "print('Preparing eligibility filtering...')\n",
    "df['ICD9_3'] = df.ICD9.apply(lambda x: x[:3] if x is not np.nan else x)\n",
    "df['ICD9_3->CCS'] = icdmap.lookup('icd9_3toccs',df['ICD9_3'])\n",
    "\n",
    "## after 2016\n",
    "df = df.loc[df.DATA_INICIO > '2016-01-01']\n",
    "\n",
    "## admission is eligible if there is at least 1 recognized ccs code\n",
    "df['is_ccs_na'] = df['ICD9_3->CCS'].isna()\n",
    "admissions_without_any_eligible_ccs = df.groupby('EPISODIO')['is_ccs_na'].all().where(lambda x: x == True).dropna().index\n",
    "df = df.loc[~df.EPISODIO.isin(admissions_without_any_eligible_ccs)]\n",
    "\n",
    "## drop rows where diagnostic is not recognized\n",
    "df = df.loc[~df['ICD9_3->CCS'].isna()]\n",
    "\n",
    "## patient with at least 2 admissions\n",
    "patients_2_admissions = df.groupby('NHC').EPISODIO.size().where(lambda x: x > 1).dropna().index\n",
    "df = df.loc[df.NHC.isin(patients_2_admissions)]\n",
    "\n",
    "## episodes with multiple diagnostics can't have diagnostics assigned with more than 1 day delay between each other\n",
    "episodes_far_diagnostics = df.groupby('EPISODIO').DATA_INICIO.agg([min,max]).diff(axis=1)['max'].dt.days.where(lambda x: x > 0).dropna().index\n",
    "df = df.loc[~df.EPISODIO.isin(episodes_far_diagnostics)]\n",
    "print('Done')\n",
    "\n",
    "df = df.sort_values('DATA_INICIO')\n",
    "df.DATA_INICIO = pd.to_datetime(df.DATA_INICIO.dt.date,format='%Y-%m-%d')\n",
    "\n",
    "df.shape\n",
    "df.EPISODIO.nunique()\n",
    "df.NHC.nunique()\n",
    "df.groupby('NHC').EPISODIO.size().value_counts().rename('Distribution of #episodes per eligible patient')"
   ]
  },
  {
   "cell_type": "code",
   "execution_count": 13,
   "id": "02cb71d4-407c-4643-a7a8-35c7a5a143eb",
   "metadata": {},
   "outputs": [],
   "source": [
    "df.loc[:,'ccs_list'] = df['ICD9_3->CCS'].apply(lambda x: [x])\n",
    "df_ = df.groupby(['NHC','DATA_INICIO'])[['ccs_list']].sum()"
   ]
  },
  {
   "cell_type": "code",
   "execution_count": 14,
   "id": "ed2a89b8-a66a-4c28-bb74-c397060920bb",
   "metadata": {},
   "outputs": [],
   "source": [
    "test = df_.copy()"
   ]
  },
  {
   "cell_type": "markdown",
   "id": "c924d3f7-b9ec-4a85-bd7b-6a30ad82f72a",
   "metadata": {},
   "source": [
    "#### 1000 rows\n",
    "1. 1.68\n",
    "2. 1.08\n",
    "\n",
    "#### 10_000 rows\n",
    "1. 14.4 (8.5x)\n",
    "2. 8.49 (7.9x)\n",
    "\n",
    "#### 100_000 rows\n",
    "1. 189 (112x) (13x)\n",
    "2. 85 (78x) (10x)"
   ]
  },
  {
   "cell_type": "code",
   "execution_count": null,
   "id": "252bccfa-46ad-4097-9945-fe54d3424eee",
   "metadata": {},
   "outputs": [],
   "source": [
    "%%time\n",
    "#assert 1==2,'Prevent myself from running this cell\n",
    "m = 12 #months\n",
    "res = (test\n",
    " .groupby('NHC')\n",
    " .apply(lambda subdf: \n",
    "        subdf.assign(target = \n",
    "                     subdf.apply(lambda row: \n",
    "                                 subdf\n",
    "                                 .loc[idx[:,\n",
    "                                         row.name[1]+timedelta(days=1):row.name[1]+timedelta(days=30*m)\n",
    "                                         ],\n",
    "                                      'ccs_list'\n",
    "                                     ]\n",
    "                                 .sum(),\n",
    "                                 axis=1\n",
    "                                ),\n",
    "                     history = \n",
    "                     subdf.apply(lambda row:\n",
    "                                 subdf\n",
    "                                 .loc[idx[:,\n",
    "                                          :row.name[1]+timedelta(days=1)\n",
    "                                         ],\n",
    "                                      'ccs_list'\n",
    "                                     ]\n",
    "                                 .tolist(),\n",
    "                                 axis=1\n",
    "                                ),\n",
    "                    )\n",
    "       )\n",
    "      )"
   ]
  },
  {
   "cell_type": "markdown",
   "id": "7161aef3-1111-477c-83ec-e7838a89d4fe",
   "metadata": {},
   "source": [
    "# Add feature: delta days"
   ]
  },
  {
   "cell_type": "code",
   "execution_count": null,
   "id": "c062540b-22d3-4418-a6b2-4a3f379886c0",
   "metadata": {},
   "outputs": [],
   "source": [
    "res['delta_days'] = res.reset_index().groupby('NHC')['DATA_INICIO'].diff().dt.days.fillna(0).values"
   ]
  },
  {
   "cell_type": "code",
   "execution_count": null,
   "id": "a86393c8-5f86-4a4e-b563-f22fdc9b3443",
   "metadata": {},
   "outputs": [],
   "source": [
    "res.loc[:,'target2'] = res.target.apply(lambda x: x if type(x) == list else [])"
   ]
  },
  {
   "cell_type": "markdown",
   "id": "9ced255f-18b5-47d8-bcc6-77381e0855a9",
   "metadata": {},
   "source": [
    "# Print out some distributions"
   ]
  },
  {
   "cell_type": "code",
   "execution_count": null,
   "id": "d9c63f2c-4b34-4df3-8bb3-85370558a099",
   "metadata": {},
   "outputs": [],
   "source": [
    "print(f'Number of non-empty targets out of {res.shape[0]}: {res[res.target != 0].shape[0]}')\n",
    "print(f'Distribution of target size')\n",
    "pd.concat([res.loc[res.target != 0,'target'].apply(len).value_counts(normalize=False).iloc[:15],\n",
    "           res.loc[res.target != 0,'target'].apply(len).value_counts(normalize=True).iloc[:15]\n",
    "          ],axis=1)"
   ]
  },
  {
   "cell_type": "code",
   "execution_count": null,
   "id": "85fbc0b3-60f7-4328-be2a-ee1a219aadfd",
   "metadata": {},
   "outputs": [],
   "source": [
    "res.loc[res.target != 0].groupby('NHC').delta_days.agg('median').describe()[['25%','50%','75%']].rename('Quartiles of all patients of the median delta_days of each patient, on eligible datapoints')"
   ]
  },
  {
   "cell_type": "code",
   "execution_count": null,
   "id": "38f1e7fa-fe49-4957-89c6-0e050d1e44e2",
   "metadata": {},
   "outputs": [],
   "source": [
    "res2 = res.reset_index(1).rename(columns={'DATA_INICIO':'DATA'})"
   ]
  },
  {
   "cell_type": "code",
   "execution_count": null,
   "id": "7a94c8d0-6ec5-4157-888f-88f825141c3f",
   "metadata": {},
   "outputs": [],
   "source": [
    "res2.groupby('NHC').size().describe()[['25%','50%','75%']].rename('Quartiles #admissions eligible per patient')"
   ]
  },
  {
   "cell_type": "code",
   "execution_count": null,
   "id": "724e56b2-37e1-4708-b4aa-4d321e96e296",
   "metadata": {},
   "outputs": [],
   "source": [
    "print(f'{res2.index.get_level_values(0).nunique()} patients eligible out of {test.index.get_level_values(0).nunique()}')"
   ]
  },
  {
   "cell_type": "markdown",
   "id": "0dbd52e9-32a2-4b57-87f0-fed513db84d8",
   "metadata": {},
   "source": [
    "----"
   ]
  },
  {
   "cell_type": "markdown",
   "id": "70679bed-a75e-4ea1-8d09-f2319d69fb36",
   "metadata": {},
   "source": [
    "# Save"
   ]
  },
  {
   "cell_type": "code",
   "execution_count": 112,
   "id": "1ef392eb-291c-42e2-9601-9e020e21dd67",
   "metadata": {},
   "outputs": [
    {
     "data": {
      "text/html": [
       "<div>\n",
       "<style scoped>\n",
       "    .dataframe tbody tr th:only-of-type {\n",
       "        vertical-align: middle;\n",
       "    }\n",
       "\n",
       "    .dataframe tbody tr th {\n",
       "        vertical-align: top;\n",
       "    }\n",
       "\n",
       "    .dataframe thead th {\n",
       "        text-align: right;\n",
       "    }\n",
       "</style>\n",
       "<table border=\"1\" class=\"dataframe\">\n",
       "  <thead>\n",
       "    <tr style=\"text-align: right;\">\n",
       "      <th></th>\n",
       "      <th>DATA</th>\n",
       "      <th>ccs_list</th>\n",
       "      <th>target</th>\n",
       "      <th>history</th>\n",
       "      <th>delta_days</th>\n",
       "      <th>target2</th>\n",
       "    </tr>\n",
       "    <tr>\n",
       "      <th>NHC</th>\n",
       "      <th></th>\n",
       "      <th></th>\n",
       "      <th></th>\n",
       "      <th></th>\n",
       "      <th></th>\n",
       "      <th></th>\n",
       "    </tr>\n",
       "  </thead>\n",
       "  <tbody>\n",
       "    <tr>\n",
       "      <th>000CC6B6978241BF7EC26026D203B9D7</th>\n",
       "      <td>2016-09-19</td>\n",
       "      <td>[663.0, 251.0]</td>\n",
       "      <td>0</td>\n",
       "      <td>[[663.0, 251.0]]</td>\n",
       "      <td>0.0</td>\n",
       "      <td>[]</td>\n",
       "    </tr>\n",
       "    <tr>\n",
       "      <th>000EFD57732A014F89170BEF38ABB731</th>\n",
       "      <td>2018-12-18</td>\n",
       "      <td>[25.0, 50.0, 99.0]</td>\n",
       "      <td>0</td>\n",
       "      <td>[[25.0, 50.0, 99.0]]</td>\n",
       "      <td>0.0</td>\n",
       "      <td>[]</td>\n",
       "    </tr>\n",
       "    <tr>\n",
       "      <th>0024809E1E3E338E55ED20B549AB1EE9</th>\n",
       "      <td>2019-02-06</td>\n",
       "      <td>[120.0, 238.0]</td>\n",
       "      <td>0</td>\n",
       "      <td>[[120.0, 238.0]]</td>\n",
       "      <td>0.0</td>\n",
       "      <td>[]</td>\n",
       "    </tr>\n",
       "    <tr>\n",
       "      <th>002E33C4113944B16851E7BCE219B94B</th>\n",
       "      <td>2020-04-23</td>\n",
       "      <td>[670.0, 251.0]</td>\n",
       "      <td>0</td>\n",
       "      <td>[[670.0, 251.0]]</td>\n",
       "      <td>0.0</td>\n",
       "      <td>[]</td>\n",
       "    </tr>\n",
       "    <tr>\n",
       "      <th>003A4D0FE843EBE9AA7C0E15442B8416</th>\n",
       "      <td>2018-02-22</td>\n",
       "      <td>[122.0, 159.0]</td>\n",
       "      <td>0</td>\n",
       "      <td>[[122.0, 159.0]]</td>\n",
       "      <td>0.0</td>\n",
       "      <td>[]</td>\n",
       "    </tr>\n",
       "    <tr>\n",
       "      <th>003DB1A25AE80675B379FF0C42029AE3</th>\n",
       "      <td>2017-08-21</td>\n",
       "      <td>[134.0, 99.0]</td>\n",
       "      <td>0</td>\n",
       "      <td>[[134.0, 99.0]]</td>\n",
       "      <td>0.0</td>\n",
       "      <td>[]</td>\n",
       "    </tr>\n",
       "    <tr>\n",
       "      <th>0046B15F18F1434BACC78EB51A3AD6EC</th>\n",
       "      <td>2017-02-17</td>\n",
       "      <td>[117.0, 663.0]</td>\n",
       "      <td>0</td>\n",
       "      <td>[[117.0, 663.0]]</td>\n",
       "      <td>0.0</td>\n",
       "      <td>[]</td>\n",
       "    </tr>\n",
       "    <tr>\n",
       "      <th>005C74FBD728D5563D3E8B6EE6F2C90D</th>\n",
       "      <td>2016-01-27</td>\n",
       "      <td>[149.0, 149.0]</td>\n",
       "      <td>0</td>\n",
       "      <td>[[149.0, 149.0]]</td>\n",
       "      <td>0.0</td>\n",
       "      <td>[]</td>\n",
       "    </tr>\n",
       "    <tr>\n",
       "      <th>005DA06D9C44632D05B39575AC632EE3</th>\n",
       "      <td>2020-08-05</td>\n",
       "      <td>[258.0, 89.0]</td>\n",
       "      <td>0</td>\n",
       "      <td>[[258.0, 89.0]]</td>\n",
       "      <td>0.0</td>\n",
       "      <td>[]</td>\n",
       "    </tr>\n",
       "    <tr>\n",
       "      <th>005F3E2ED4A88AEE38BC25191225D3AA</th>\n",
       "      <td>2020-03-23</td>\n",
       "      <td>[109.0, 109.0]</td>\n",
       "      <td>0</td>\n",
       "      <td>[[109.0, 109.0]]</td>\n",
       "      <td>0.0</td>\n",
       "      <td>[]</td>\n",
       "    </tr>\n",
       "  </tbody>\n",
       "</table>\n",
       "</div>"
      ],
      "text/plain": [
       "                                        DATA            ccs_list target  \\\n",
       "NHC                                                                       \n",
       "000CC6B6978241BF7EC26026D203B9D7  2016-09-19      [663.0, 251.0]      0   \n",
       "000EFD57732A014F89170BEF38ABB731  2018-12-18  [25.0, 50.0, 99.0]      0   \n",
       "0024809E1E3E338E55ED20B549AB1EE9  2019-02-06      [120.0, 238.0]      0   \n",
       "002E33C4113944B16851E7BCE219B94B  2020-04-23      [670.0, 251.0]      0   \n",
       "003A4D0FE843EBE9AA7C0E15442B8416  2018-02-22      [122.0, 159.0]      0   \n",
       "003DB1A25AE80675B379FF0C42029AE3  2017-08-21       [134.0, 99.0]      0   \n",
       "0046B15F18F1434BACC78EB51A3AD6EC  2017-02-17      [117.0, 663.0]      0   \n",
       "005C74FBD728D5563D3E8B6EE6F2C90D  2016-01-27      [149.0, 149.0]      0   \n",
       "005DA06D9C44632D05B39575AC632EE3  2020-08-05       [258.0, 89.0]      0   \n",
       "005F3E2ED4A88AEE38BC25191225D3AA  2020-03-23      [109.0, 109.0]      0   \n",
       "\n",
       "                                               history  delta_days target2  \n",
       "NHC                                                                         \n",
       "000CC6B6978241BF7EC26026D203B9D7      [[663.0, 251.0]]         0.0      []  \n",
       "000EFD57732A014F89170BEF38ABB731  [[25.0, 50.0, 99.0]]         0.0      []  \n",
       "0024809E1E3E338E55ED20B549AB1EE9      [[120.0, 238.0]]         0.0      []  \n",
       "002E33C4113944B16851E7BCE219B94B      [[670.0, 251.0]]         0.0      []  \n",
       "003A4D0FE843EBE9AA7C0E15442B8416      [[122.0, 159.0]]         0.0      []  \n",
       "003DB1A25AE80675B379FF0C42029AE3       [[134.0, 99.0]]         0.0      []  \n",
       "0046B15F18F1434BACC78EB51A3AD6EC      [[117.0, 663.0]]         0.0      []  \n",
       "005C74FBD728D5563D3E8B6EE6F2C90D      [[149.0, 149.0]]         0.0      []  \n",
       "005DA06D9C44632D05B39575AC632EE3       [[258.0, 89.0]]         0.0      []  \n",
       "005F3E2ED4A88AEE38BC25191225D3AA      [[109.0, 109.0]]         0.0      []  "
      ]
     },
     "execution_count": 112,
     "metadata": {},
     "output_type": "execute_result"
    }
   ],
   "source": [
    "res2[res2.index.get_level_values(0).isin(res2.groupby('NHC').size().where(lambda x: x == 1).dropna().index)].head(10)"
   ]
  },
  {
   "cell_type": "markdown",
   "id": "62ee7438-f7a0-455c-8aeb-a580100d67af",
   "metadata": {},
   "source": [
    "csv"
   ]
  },
  {
   "cell_type": "code",
   "execution_count": 125,
   "id": "5959df19-f626-409d-9edd-eedc796d6c9c",
   "metadata": {},
   "outputs": [
    {
     "data": {
      "text/html": [
       "<div>\n",
       "<style scoped>\n",
       "    .dataframe tbody tr th:only-of-type {\n",
       "        vertical-align: middle;\n",
       "    }\n",
       "\n",
       "    .dataframe tbody tr th {\n",
       "        vertical-align: top;\n",
       "    }\n",
       "\n",
       "    .dataframe thead th {\n",
       "        text-align: right;\n",
       "    }\n",
       "</style>\n",
       "<table border=\"1\" class=\"dataframe\">\n",
       "  <thead>\n",
       "    <tr style=\"text-align: right;\">\n",
       "      <th></th>\n",
       "      <th>DATA</th>\n",
       "      <th>ccs_list</th>\n",
       "      <th>target</th>\n",
       "      <th>history</th>\n",
       "      <th>delta_days</th>\n",
       "      <th>target2</th>\n",
       "    </tr>\n",
       "    <tr>\n",
       "      <th>NHC</th>\n",
       "      <th></th>\n",
       "      <th></th>\n",
       "      <th></th>\n",
       "      <th></th>\n",
       "      <th></th>\n",
       "      <th></th>\n",
       "    </tr>\n",
       "  </thead>\n",
       "  <tbody>\n",
       "    <tr>\n",
       "      <th>0000676389D1EE60EB48AF5693F3F3DE</th>\n",
       "      <td>2016-02-28</td>\n",
       "      <td>[670.0]</td>\n",
       "      <td>[670.0]</td>\n",
       "      <td>[[670.0]]</td>\n",
       "      <td>0.0</td>\n",
       "      <td>[670.0]</td>\n",
       "    </tr>\n",
       "    <tr>\n",
       "      <th>0000676389D1EE60EB48AF5693F3F3DE</th>\n",
       "      <td>2016-08-08</td>\n",
       "      <td>[670.0]</td>\n",
       "      <td>0</td>\n",
       "      <td>[[670.0], [670.0]]</td>\n",
       "      <td>162.0</td>\n",
       "      <td>[]</td>\n",
       "    </tr>\n",
       "  </tbody>\n",
       "</table>\n",
       "</div>"
      ],
      "text/plain": [
       "                                        DATA ccs_list   target  \\\n",
       "NHC                                                              \n",
       "0000676389D1EE60EB48AF5693F3F3DE  2016-02-28  [670.0]  [670.0]   \n",
       "0000676389D1EE60EB48AF5693F3F3DE  2016-08-08  [670.0]        0   \n",
       "\n",
       "                                             history  delta_days  target2  \n",
       "NHC                                                                        \n",
       "0000676389D1EE60EB48AF5693F3F3DE           [[670.0]]         0.0  [670.0]  \n",
       "0000676389D1EE60EB48AF5693F3F3DE  [[670.0], [670.0]]       162.0       []  "
      ]
     },
     "execution_count": 125,
     "metadata": {},
     "output_type": "execute_result"
    }
   ],
   "source": [
    "res2.loc['0000676389D1EE60EB48AF5693F3F3DE']"
   ]
  },
  {
   "cell_type": "code",
   "execution_count": 132,
   "id": "b7a005fe-fc6a-4a6d-96d4-17d405a4492a",
   "metadata": {},
   "outputs": [
    {
     "data": {
      "text/plain": [
       "DATA                2021-01-20\n",
       "ccs_list        [660.0, 155.0]\n",
       "target                       0\n",
       "history       [[660.0, 155.0]]\n",
       "delta_days                 0.0\n",
       "target2                     []\n",
       "Name: 50AE695937A38D390DDA2C4FC574D594, dtype: object"
      ]
     },
     "execution_count": 132,
     "metadata": {},
     "output_type": "execute_result"
    }
   ],
   "source": [
    "res2.loc['50AE695937A38D390DDA2C4FC574D594']"
   ]
  },
  {
   "cell_type": "code",
   "execution_count": 131,
   "id": "36dff2b5-7369-42bc-a5f8-d7dd369c449b",
   "metadata": {},
   "outputs": [
    {
     "data": {
      "text/plain": [
       "[[[660.0, 155.0]]]"
      ]
     },
     "execution_count": 131,
     "metadata": {},
     "output_type": "execute_result"
    },
    {
     "data": {
      "text/plain": [
       "[[660.0, 155.0]]"
      ]
     },
     "execution_count": 131,
     "metadata": {},
     "output_type": "execute_result"
    }
   ],
   "source": [
    "a = [res2.loc['50AE695937A38D390DDA2C4FC574D594'].history]\n",
    "a\n",
    "for e in a:\n",
    "    e"
   ]
  },
  {
   "cell_type": "code",
   "execution_count": 92,
   "id": "875a7a74-7f7e-4992-94e7-faef737302b4",
   "metadata": {},
   "outputs": [],
   "source": [
    "res2 = res2.astype({'DATA':str}) # so that json can save this\n",
    "res2.to_csv(raw_data_filepath,index=True)"
   ]
  },
  {
   "cell_type": "markdown",
   "id": "bb56e5e4-352f-49a9-9ad9-ff00ca50c022",
   "metadata": {},
   "source": [
    "and dict"
   ]
  },
  {
   "cell_type": "code",
   "execution_count": 133,
   "id": "a28b1740-c0ec-4e4f-a10a-8ea9547f1763",
   "metadata": {},
   "outputs": [
    {
     "data": {
      "application/vnd.jupyter.widget-view+json": {
       "model_id": "083a48c2bbd04df196d28da0399deb71",
       "version_major": 2,
       "version_minor": 0
      },
      "text/plain": [
       "0it [00:00, ?it/s]"
      ]
     },
     "metadata": {},
     "output_type": "display_data"
    }
   ],
   "source": [
    "# where it all begins\n",
    "data = {}\n",
    "\n",
    "patients = res2.index.unique()\n",
    "for idx,p in tqdm(enumerate(patients)):\n",
    "    \n",
    "    p_data = res2.loc[p]\n",
    "    \n",
    "    history = p_data['history']\n",
    "    targets = p_data['target2']\n",
    "    delta_days = p_data['delta_days']\n",
    "    date_last_history = p_data['DATA']\n",
    "    \n",
    "    history = history if type(history) != pd.Series else history.iloc[-1]\n",
    "    targets = [targets] if type(targets) != pd.Series else targets.tolist()\n",
    "    delta_days = [delta_days] if type(delta_days) != pd.Series else delta_days.tolist()\n",
    "    date_last_history = [date_last_history] if type(date_last_history) != pd.Series else date_last_history.tolist()\n",
    "    \n",
    "    data[p] = { 'ccs': #only ccs for now\n",
    "               {\n",
    "                   'history':history,\n",
    "                   'targets':targets,\n",
    "                   'extra_features':\n",
    "                   {\n",
    "                       'delta_days': delta_days,\n",
    "                       'date_last_history': date_last_history\n",
    "                   }\n",
    "               }\n",
    "              }"
   ]
  },
  {
   "cell_type": "code",
   "execution_count": 134,
   "id": "87458e19-84a7-4c20-8b6d-f98132cc32ec",
   "metadata": {},
   "outputs": [],
   "source": [
    "with open(dataset_filepath, 'w') as fp:\n",
    "    json.dump(data, fp)"
   ]
  },
  {
   "cell_type": "markdown",
   "id": "6196ae87-1fe2-4b91-ab87-0e581c0841ca",
   "metadata": {},
   "source": [
    "----"
   ]
  },
  {
   "cell_type": "markdown",
   "id": "632b2da1-7038-44d6-a909-c4306f281f95",
   "metadata": {},
   "source": [
    "# test"
   ]
  },
  {
   "cell_type": "code",
   "execution_count": null,
   "id": "f67daf06-3f6f-4bef-97e6-a11f2bed05ae",
   "metadata": {},
   "outputs": [],
   "source": [
    "with open(dataset_filepath, 'r') as fp:\n",
    "    test_data = json.load(fp)"
   ]
  },
  {
   "cell_type": "code",
   "execution_count": null,
   "id": "694a3037-32e7-4bc3-b6ee-a4108f9e0dc3",
   "metadata": {},
   "outputs": [],
   "source": [
    "test_data['0000676389D1EE60EB48AF5693F3F3DE']['ccs']"
   ]
  },
  {
   "cell_type": "markdown",
   "id": "dd0b54cf-1fe3-4465-beb4-620b71104f6a",
   "metadata": {},
   "source": [
    "# fetching a dataset and adding targets without history"
   ]
  },
  {
   "cell_type": "code",
   "execution_count": 25,
   "id": "3c98ec2e-f559-4e40-9846-720bf2b700ff",
   "metadata": {},
   "outputs": [],
   "source": [
    "original_dataset = 'data/model_ready_dataset/icare2021_diag_A301/dataset.csv'"
   ]
  },
  {
   "cell_type": "code",
   "execution_count": 8,
   "id": "0043483b-6dea-41fd-8a9c-92dba67844a9",
   "metadata": {},
   "outputs": [
    {
     "data": {
      "text/html": [
       "<div>\n",
       "<style scoped>\n",
       "    .dataframe tbody tr th:only-of-type {\n",
       "        vertical-align: middle;\n",
       "    }\n",
       "\n",
       "    .dataframe tbody tr th {\n",
       "        vertical-align: top;\n",
       "    }\n",
       "\n",
       "    .dataframe thead th {\n",
       "        text-align: right;\n",
       "    }\n",
       "</style>\n",
       "<table border=\"1\" class=\"dataframe\">\n",
       "  <thead>\n",
       "    <tr style=\"text-align: right;\">\n",
       "      <th></th>\n",
       "      <th>NHC</th>\n",
       "      <th>DATA</th>\n",
       "      <th>ccs_list</th>\n",
       "      <th>target</th>\n",
       "      <th>history</th>\n",
       "      <th>delta_days</th>\n",
       "      <th>target2</th>\n",
       "    </tr>\n",
       "  </thead>\n",
       "  <tbody>\n",
       "    <tr>\n",
       "      <th>0</th>\n",
       "      <td>0000676389D1EE60EB48AF5693F3F3DE</td>\n",
       "      <td>2016-02-28</td>\n",
       "      <td>[670.0]</td>\n",
       "      <td>[670.0]</td>\n",
       "      <td>[[670.0]]</td>\n",
       "      <td>0.0</td>\n",
       "      <td>[670.0]</td>\n",
       "    </tr>\n",
       "    <tr>\n",
       "      <th>1</th>\n",
       "      <td>0000676389D1EE60EB48AF5693F3F3DE</td>\n",
       "      <td>2016-08-08</td>\n",
       "      <td>[670.0]</td>\n",
       "      <td>0</td>\n",
       "      <td>[[670.0], [670.0]]</td>\n",
       "      <td>162.0</td>\n",
       "      <td>[]</td>\n",
       "    </tr>\n",
       "    <tr>\n",
       "      <th>2</th>\n",
       "      <td>00007823E1ED7B1C8BEA6C5F10ED1294</td>\n",
       "      <td>2016-01-06</td>\n",
       "      <td>[670.0]</td>\n",
       "      <td>[670.0]</td>\n",
       "      <td>[[670.0]]</td>\n",
       "      <td>0.0</td>\n",
       "      <td>[670.0]</td>\n",
       "    </tr>\n",
       "    <tr>\n",
       "      <th>3</th>\n",
       "      <td>00007823E1ED7B1C8BEA6C5F10ED1294</td>\n",
       "      <td>2016-06-15</td>\n",
       "      <td>[670.0]</td>\n",
       "      <td>0</td>\n",
       "      <td>[[670.0], [670.0]]</td>\n",
       "      <td>161.0</td>\n",
       "      <td>[]</td>\n",
       "    </tr>\n",
       "    <tr>\n",
       "      <th>4</th>\n",
       "      <td>00007823E1ED7B1C8BEA6C5F10ED1294</td>\n",
       "      <td>2018-11-14</td>\n",
       "      <td>[663.0]</td>\n",
       "      <td>[670.0]</td>\n",
       "      <td>[[670.0], [670.0], [663.0]]</td>\n",
       "      <td>882.0</td>\n",
       "      <td>[670.0]</td>\n",
       "    </tr>\n",
       "  </tbody>\n",
       "</table>\n",
       "</div>"
      ],
      "text/plain": [
       "                                NHC        DATA ccs_list   target  \\\n",
       "0  0000676389D1EE60EB48AF5693F3F3DE  2016-02-28  [670.0]  [670.0]   \n",
       "1  0000676389D1EE60EB48AF5693F3F3DE  2016-08-08  [670.0]        0   \n",
       "2  00007823E1ED7B1C8BEA6C5F10ED1294  2016-01-06  [670.0]  [670.0]   \n",
       "3  00007823E1ED7B1C8BEA6C5F10ED1294  2016-06-15  [670.0]        0   \n",
       "4  00007823E1ED7B1C8BEA6C5F10ED1294  2018-11-14  [663.0]  [670.0]   \n",
       "\n",
       "                       history  delta_days  target2  \n",
       "0                    [[670.0]]         0.0  [670.0]  \n",
       "1           [[670.0], [670.0]]       162.0       []  \n",
       "2                    [[670.0]]         0.0  [670.0]  \n",
       "3           [[670.0], [670.0]]       161.0       []  \n",
       "4  [[670.0], [670.0], [663.0]]       882.0  [670.0]  "
      ]
     },
     "execution_count": 8,
     "metadata": {},
     "output_type": "execute_result"
    },
    {
     "name": "stdout",
     "output_type": "stream",
     "text": [
      "one down\n",
      "two down\n",
      "three down\n"
     ]
    },
    {
     "data": {
      "text/plain": [
       "6915667"
      ]
     },
     "execution_count": 8,
     "metadata": {},
     "output_type": "execute_result"
    },
    {
     "data": {
      "text/plain": [
       "4051904"
      ]
     },
     "execution_count": 8,
     "metadata": {},
     "output_type": "execute_result"
    },
    {
     "data": {
      "text/plain": [
       "0.41409787371196444"
      ]
     },
     "execution_count": 8,
     "metadata": {},
     "output_type": "execute_result"
    },
    {
     "name": "stdout",
     "output_type": "stream",
     "text": [
      "old target disttribution\n"
     ]
    },
    {
     "data": {
      "text/plain": [
       "0    414178\n",
       "1    329099\n",
       "2    236673\n",
       "3    174556\n",
       "4    133687\n",
       "Name: target2, dtype: int64"
      ]
     },
     "execution_count": 8,
     "metadata": {},
     "output_type": "execute_result"
    },
    {
     "name": "stdout",
     "output_type": "stream",
     "text": [
      "new target disttribution\n"
     ]
    },
    {
     "data": {
      "text/plain": [
       "0    867822\n",
       "1    353774\n",
       "2    206872\n",
       "3    125021\n",
       "4     80195\n",
       "Name: target_without_history, dtype: int64"
      ]
     },
     "execution_count": 8,
     "metadata": {},
     "output_type": "execute_result"
    }
   ],
   "source": [
    "original_dataset = 'data/model_ready_dataset/icare2021_diag_A301/dataset.csv'\n",
    "df = pd.read_csv(original_dataset)\n",
    "df.head(5)\n",
    "\n",
    "df.target2 = df.target2.apply(ast.literal_eval)\n",
    "print('one down')\n",
    "df.history = df.history.apply(ast.literal_eval)\n",
    "print('two down')\n",
    "df.ccs_list = df.ccs_list.apply(ast.literal_eval)\n",
    "print('three down')\n",
    "\n",
    "# flatten list to help remove diags from target\n",
    "df.loc[:,'history_flattened'] = df.history.apply(lambda x: [item for sublist in x for item in sublist])\n",
    "\n",
    "# remove diags in history from target\n",
    "df.loc[:,'target_without_history'] = df[['history_flattened','target2']].apply(lambda row: [diag for diag in row.target2 if diag not in row.history_flattened],axis=1)\n",
    "\n",
    "# compute some statistics about the reduction\n",
    "df.loc[:,'target_reduction'] = df.target2.apply(len) - df.target_without_history.apply(len)\n",
    "\n",
    "df.target2.apply(len).sum()\n",
    "\n",
    "df.target_reduction.sum()\n",
    "\n",
    "# What was the reduction in target labels in % with the original?\n",
    "\n",
    "(df.target2.apply(len).sum() - df.target_reduction.sum()) / df.target2.apply(len).sum()\n",
    "\n",
    "# we lost 40% of the original targets\n",
    "print('old target disttribution')\n",
    "df.target2.apply(len).value_counts()[:5]\n",
    "print('new target disttribution')\n",
    "df.target_without_history.apply(len).value_counts()[:5]"
   ]
  },
  {
   "cell_type": "code",
   "execution_count": 9,
   "id": "46a22fcd-6a7d-4312-b87e-9577a7eafad4",
   "metadata": {},
   "outputs": [],
   "source": [
    "df.DATA = pd.to_datetime(df.DATA)"
   ]
  },
  {
   "cell_type": "code",
   "execution_count": null,
   "id": "0a4dee69-f20c-4534-87c0-e024ddd3dcc4",
   "metadata": {},
   "outputs": [],
   "source": [
    "df = df.set_index('NHC').sort_index()"
   ]
  },
  {
   "cell_type": "code",
   "execution_count": 22,
   "id": "91d96b02-3b16-4354-be18-571b7a3240cf",
   "metadata": {},
   "outputs": [
    {
     "data": {
      "text/plain": [
       "True"
      ]
     },
     "execution_count": 22,
     "metadata": {},
     "output_type": "execute_result"
    }
   ],
   "source": [
    "#assert 1 == 2\n",
    "# confirm dates are increasing inside each patient\n",
    "df.groupby('NHC').DATA.apply(lambda subdf: subdf.is_monotonic_increasing).all()"
   ]
  },
  {
   "cell_type": "code",
   "execution_count": 34,
   "id": "62b44c89-4390-457c-b012-4aced16483c8",
   "metadata": {},
   "outputs": [],
   "source": [
    "df = df.astype({'DATA':str}) # so that json can save this"
   ]
  },
  {
   "cell_type": "code",
   "execution_count": 35,
   "id": "04afd6ec-6954-4efc-a7b8-15d7f4ff209a",
   "metadata": {},
   "outputs": [
    {
     "name": "stderr",
     "output_type": "stream",
     "text": [
      "262811it [01:12, 3620.66it/s]\n"
     ]
    }
   ],
   "source": [
    "# where it all begins\n",
    "data = {}\n",
    "\n",
    "patients = df.index.unique()\n",
    "for idx,p in tqdm(enumerate(patients)):\n",
    "    \n",
    "    p_data = df.loc[p]\n",
    "    \n",
    "    history = p_data['history']\n",
    "    targets = p_data['target2']\n",
    "    new_targets = p_data['target_without_history']\n",
    "    delta_days = p_data['delta_days']\n",
    "    date_last_history = p_data['DATA']\n",
    "    \n",
    "    history = history if type(history) != pd.Series else history.iloc[-1]\n",
    "    targets = [targets] if type(targets) != pd.Series else targets.tolist()\n",
    "    new_targets = [new_targets] if type(new_targets) != pd.Series else new_targets.tolist()\n",
    "    delta_days = [delta_days] if type(delta_days) != pd.Series else delta_days.tolist()\n",
    "    date_last_history = [date_last_history] if type(date_last_history) != pd.Series else date_last_history.tolist()\n",
    "    \n",
    "    data[p] = { 'ccs': #only ccs for now\n",
    "               {\n",
    "                   'history':history,\n",
    "                   'targets':targets,\n",
    "                   'new_targets':new_targets,\n",
    "                   'extra_features':\n",
    "                   {\n",
    "                       'delta_days': delta_days,\n",
    "                       'date_last_history': date_last_history\n",
    "                   }\n",
    "               }\n",
    "              }"
   ]
  },
  {
   "cell_type": "markdown",
   "id": "40050b1c-9830-4d1d-af7c-15df6786668c",
   "metadata": {},
   "source": [
    "Save it"
   ]
  },
  {
   "cell_type": "code",
   "execution_count": 36,
   "id": "46c80c17-9d99-4ad8-aa7c-7015f8feabc5",
   "metadata": {},
   "outputs": [
    {
     "name": "stdout",
     "output_type": "stream",
     "text": [
      "Saved!\n"
     ]
    }
   ],
   "source": [
    "with open(original_dataset[:original_dataset.find('.csv')]+'_added_new_targets.json', 'w') as fp:\n",
    "    json.dump(data, fp)\n",
    "print('Saved!')"
   ]
  },
  {
   "cell_type": "code",
   "execution_count": 37,
   "id": "e05d0a3c-6e38-4fc0-9674-1f34ca15e299",
   "metadata": {},
   "outputs": [
    {
     "data": {
      "text/html": [
       "<div>\n",
       "<style scoped>\n",
       "    .dataframe tbody tr th:only-of-type {\n",
       "        vertical-align: middle;\n",
       "    }\n",
       "\n",
       "    .dataframe tbody tr th {\n",
       "        vertical-align: top;\n",
       "    }\n",
       "\n",
       "    .dataframe thead th {\n",
       "        text-align: right;\n",
       "    }\n",
       "</style>\n",
       "<table border=\"1\" class=\"dataframe\">\n",
       "  <thead>\n",
       "    <tr style=\"text-align: right;\">\n",
       "      <th></th>\n",
       "      <th>DATA</th>\n",
       "      <th>ccs_list</th>\n",
       "      <th>target</th>\n",
       "      <th>history</th>\n",
       "      <th>delta_days</th>\n",
       "      <th>target2</th>\n",
       "      <th>history_flattened</th>\n",
       "      <th>target_without_history</th>\n",
       "      <th>target_reduction</th>\n",
       "    </tr>\n",
       "    <tr>\n",
       "      <th>NHC</th>\n",
       "      <th></th>\n",
       "      <th></th>\n",
       "      <th></th>\n",
       "      <th></th>\n",
       "      <th></th>\n",
       "      <th></th>\n",
       "      <th></th>\n",
       "      <th></th>\n",
       "      <th></th>\n",
       "    </tr>\n",
       "  </thead>\n",
       "  <tbody>\n",
       "    <tr>\n",
       "      <th>0000676389D1EE60EB48AF5693F3F3DE</th>\n",
       "      <td>2016-02-28</td>\n",
       "      <td>[670.0]</td>\n",
       "      <td>[670.0]</td>\n",
       "      <td>[[670.0]]</td>\n",
       "      <td>0.0</td>\n",
       "      <td>[670.0]</td>\n",
       "      <td>[670.0]</td>\n",
       "      <td>[]</td>\n",
       "      <td>1</td>\n",
       "    </tr>\n",
       "    <tr>\n",
       "      <th>0000676389D1EE60EB48AF5693F3F3DE</th>\n",
       "      <td>2016-08-08</td>\n",
       "      <td>[670.0]</td>\n",
       "      <td>0</td>\n",
       "      <td>[[670.0], [670.0]]</td>\n",
       "      <td>162.0</td>\n",
       "      <td>[]</td>\n",
       "      <td>[670.0, 670.0]</td>\n",
       "      <td>[]</td>\n",
       "      <td>0</td>\n",
       "    </tr>\n",
       "    <tr>\n",
       "      <th>00007823E1ED7B1C8BEA6C5F10ED1294</th>\n",
       "      <td>2016-01-06</td>\n",
       "      <td>[670.0]</td>\n",
       "      <td>[670.0]</td>\n",
       "      <td>[[670.0]]</td>\n",
       "      <td>0.0</td>\n",
       "      <td>[670.0]</td>\n",
       "      <td>[670.0]</td>\n",
       "      <td>[]</td>\n",
       "      <td>1</td>\n",
       "    </tr>\n",
       "  </tbody>\n",
       "</table>\n",
       "</div>"
      ],
      "text/plain": [
       "                                        DATA ccs_list   target  \\\n",
       "NHC                                                              \n",
       "0000676389D1EE60EB48AF5693F3F3DE  2016-02-28  [670.0]  [670.0]   \n",
       "0000676389D1EE60EB48AF5693F3F3DE  2016-08-08  [670.0]        0   \n",
       "00007823E1ED7B1C8BEA6C5F10ED1294  2016-01-06  [670.0]  [670.0]   \n",
       "\n",
       "                                             history  delta_days  target2  \\\n",
       "NHC                                                                         \n",
       "0000676389D1EE60EB48AF5693F3F3DE           [[670.0]]         0.0  [670.0]   \n",
       "0000676389D1EE60EB48AF5693F3F3DE  [[670.0], [670.0]]       162.0       []   \n",
       "00007823E1ED7B1C8BEA6C5F10ED1294           [[670.0]]         0.0  [670.0]   \n",
       "\n",
       "                                 history_flattened target_without_history  \\\n",
       "NHC                                                                         \n",
       "0000676389D1EE60EB48AF5693F3F3DE           [670.0]                     []   \n",
       "0000676389D1EE60EB48AF5693F3F3DE    [670.0, 670.0]                     []   \n",
       "00007823E1ED7B1C8BEA6C5F10ED1294           [670.0]                     []   \n",
       "\n",
       "                                  target_reduction  \n",
       "NHC                                                 \n",
       "0000676389D1EE60EB48AF5693F3F3DE                 1  \n",
       "0000676389D1EE60EB48AF5693F3F3DE                 0  \n",
       "00007823E1ED7B1C8BEA6C5F10ED1294                 1  "
      ]
     },
     "execution_count": 37,
     "metadata": {},
     "output_type": "execute_result"
    }
   ],
   "source": [
    "df.head(3)"
   ]
  },
  {
   "cell_type": "code",
   "execution_count": 39,
   "id": "12a8b43a-0145-4874-a90a-a77f8fa12231",
   "metadata": {},
   "outputs": [
    {
     "data": {
      "text/plain": [
       "NHC\n",
       "FA003D4E991803047131A4E3F407B01E                                                                                   []\n",
       "201626F0887BDBC7DC48F9144D85BC70    [163.0, 164.0, 163.0, 164.0, 235.0, 164.0, 99.0, 99.0, 163.0, 164.0, 205.0, 99.0]\n",
       "195DD24D63758226846A19E8849FE281                                                                 [229.0, 99.0, 229.0]\n",
       "5D8499DB929F8B9AFFF700DD12967939                                                                                   []\n",
       "FACF391EC7A06486BBA89B0672F1F0DC                                                                       [122.0, 126.0]\n",
       "Name: target2, dtype: object"
      ]
     },
     "execution_count": 39,
     "metadata": {},
     "output_type": "execute_result"
    }
   ],
   "source": [
    "df.target2.sample(frac=1).head(5)"
   ]
  },
  {
   "cell_type": "code",
   "execution_count": null,
   "id": "265e5f5e-b2d8-4b87-8b99-c3c69113232c",
   "metadata": {},
   "outputs": [],
   "source": []
  }
 ],
 "metadata": {
  "kernelspec": {
   "display_name": "Python (simao thesis)",
   "language": "python",
   "name": "simao_thesis"
  },
  "language_info": {
   "codemirror_mode": {
    "name": "ipython",
    "version": 3
   },
   "file_extension": ".py",
   "mimetype": "text/x-python",
   "name": "python",
   "nbconvert_exporter": "python",
   "pygments_lexer": "ipython3",
   "version": "3.10.4"
  }
 },
 "nbformat": 4,
 "nbformat_minor": 5
}
