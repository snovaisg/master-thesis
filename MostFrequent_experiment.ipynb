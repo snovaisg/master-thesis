{
 "cells": [
  {
   "cell_type": "markdown",
   "metadata": {},
   "source": [
    "# Objective\n",
    "\n",
    "This notebook uses the `Most Frequent` baseline to predict and evaluate diagnoses of the last visit on a test set of patient"
   ]
  },
  {
   "cell_type": "markdown",
   "metadata": {},
   "source": [
    "# Imports"
   ]
  },
  {
   "cell_type": "code",
   "execution_count": 6,
   "metadata": {},
   "outputs": [],
   "source": [
    "from Mimic import Mimic\n",
    "from ICDCodesGrouper import ICDCodesGrouper\n",
    "\n",
    "from Metrics import metrics\n",
    "from MostFrequent import MostFrequent\n",
    "\n",
    "from sklearn.model_selection import train_test_split\n",
    "import pandas as pd\n",
    "idx = pd.IndexSlice\n",
    "from tqdm.notebook import tqdm"
   ]
  },
  {
   "cell_type": "markdown",
   "metadata": {},
   "source": [
    "# Read data"
   ]
  },
  {
   "cell_type": "code",
   "execution_count": 7,
   "metadata": {},
   "outputs": [],
   "source": [
    "grouper = ICDCodesGrouper()\n",
    "mimic = Mimic(grouper=grouper)"
   ]
  },
  {
   "cell_type": "code",
   "execution_count": 8,
   "metadata": {},
   "outputs": [
    {
     "data": {
      "text/html": [
       "<div>\n",
       "<style scoped>\n",
       "    .dataframe tbody tr th:only-of-type {\n",
       "        vertical-align: middle;\n",
       "    }\n",
       "\n",
       "    .dataframe tbody tr th {\n",
       "        vertical-align: top;\n",
       "    }\n",
       "\n",
       "    .dataframe thead th {\n",
       "        text-align: right;\n",
       "    }\n",
       "</style>\n",
       "<table border=\"1\" class=\"dataframe\">\n",
       "  <thead>\n",
       "    <tr style=\"text-align: right;\">\n",
       "      <th></th>\n",
       "      <th>ROW_ID</th>\n",
       "      <th>SUBJECT_ID</th>\n",
       "      <th>HADM_ID</th>\n",
       "      <th>SEQ_NUM</th>\n",
       "      <th>ICD9_CODE</th>\n",
       "      <th>ccs</th>\n",
       "      <th>icd9chapters</th>\n",
       "    </tr>\n",
       "  </thead>\n",
       "  <tbody>\n",
       "    <tr>\n",
       "      <th>0</th>\n",
       "      <td>1297</td>\n",
       "      <td>109</td>\n",
       "      <td>172335</td>\n",
       "      <td>1.0</td>\n",
       "      <td>40301</td>\n",
       "      <td>99</td>\n",
       "      <td>7</td>\n",
       "    </tr>\n",
       "  </tbody>\n",
       "</table>\n",
       "</div>"
      ],
      "text/plain": [
       "   ROW_ID  SUBJECT_ID  HADM_ID  SEQ_NUM ICD9_CODE  ccs icd9chapters\n",
       "0    1297         109   172335      1.0     40301   99            7"
      ]
     },
     "execution_count": 8,
     "metadata": {},
     "output_type": "execute_result"
    }
   ],
   "source": [
    "diagnoses = mimic.read_diagnoses()\n",
    "diagnoses.head(1)"
   ]
  },
  {
   "cell_type": "markdown",
   "metadata": {},
   "source": [
    "## Prepare data\n",
    "\n",
    "- ignore admissions without record of diagnoses\n",
    "- ignore patients with only 1 admission"
   ]
  },
  {
   "cell_type": "code",
   "execution_count": 9,
   "metadata": {},
   "outputs": [],
   "source": [
    "admissions = mimic.read_admissions()\n",
    "diagnoses = mimic.read_diagnoses()\n",
    "\n",
    "# remove admissions without record of diagnoses\n",
    "admissions_without_records= diagnoses.loc[pd.isna(diagnoses.ICD9_CODE),'HADM_ID'].unique()\n",
    "admissions = admissions[~admissions.HADM_ID.isin(admissions_without_records)]\n",
    "# Only interested in patients with multiple admissions\n",
    "mult_adm_patients = admissions.groupby('SUBJECT_ID').size().where(lambda x: x > 1).dropna().index.tolist()"
   ]
  },
  {
   "cell_type": "markdown",
   "metadata": {},
   "source": [
    "# Create test set of patients"
   ]
  },
  {
   "cell_type": "code",
   "execution_count": 11,
   "metadata": {},
   "outputs": [],
   "source": [
    "random_state=213\n",
    "test_size=0.25\n",
    "train_patients,test_patients = train_test_split(mult_adm_patients,\n",
    "                                                test_size=test_size,\n",
    "                                                random_state=random_state)"
   ]
  },
  {
   "cell_type": "markdown",
   "metadata": {},
   "source": [
    "# Predict"
   ]
  },
  {
   "cell_type": "code",
   "execution_count": 13,
   "metadata": {},
   "outputs": [
    {
     "data": {
      "application/vnd.jupyter.widget-view+json": {
       "model_id": "7cfe5b5e7e5f42408ef7034c96f7b257",
       "version_major": 2,
       "version_minor": 0
      },
      "text/plain": [
       "  0%|          | 0/1875 [00:00<?, ?it/s]"
      ]
     },
     "metadata": {},
     "output_type": "display_data"
    },
    {
     "data": {
      "text/html": [
       "<div>\n",
       "<style scoped>\n",
       "    .dataframe tbody tr th:only-of-type {\n",
       "        vertical-align: middle;\n",
       "    }\n",
       "\n",
       "    .dataframe tbody tr th {\n",
       "        vertical-align: top;\n",
       "    }\n",
       "\n",
       "    .dataframe thead th {\n",
       "        text-align: right;\n",
       "    }\n",
       "</style>\n",
       "<table border=\"1\" class=\"dataframe\">\n",
       "  <thead>\n",
       "    <tr style=\"text-align: right;\">\n",
       "      <th></th>\n",
       "      <th></th>\n",
       "      <th>precision@1</th>\n",
       "      <th>recall@1</th>\n",
       "      <th>precision@3</th>\n",
       "      <th>recall@3</th>\n",
       "      <th>precision@5</th>\n",
       "      <th>recall@5</th>\n",
       "      <th>precision@10</th>\n",
       "      <th>recall@10</th>\n",
       "      <th>precision@30</th>\n",
       "      <th>recall@30</th>\n",
       "    </tr>\n",
       "    <tr>\n",
       "      <th>patient</th>\n",
       "      <th>coding</th>\n",
       "      <th></th>\n",
       "      <th></th>\n",
       "      <th></th>\n",
       "      <th></th>\n",
       "      <th></th>\n",
       "      <th></th>\n",
       "      <th></th>\n",
       "      <th></th>\n",
       "      <th></th>\n",
       "      <th></th>\n",
       "    </tr>\n",
       "  </thead>\n",
       "  <tbody>\n",
       "    <tr>\n",
       "      <th rowspan=\"2\" valign=\"top\">21</th>\n",
       "      <th>ccs</th>\n",
       "      <td>1.0</td>\n",
       "      <td>0.050000</td>\n",
       "      <td>0.666667</td>\n",
       "      <td>0.100000</td>\n",
       "      <td>0.6</td>\n",
       "      <td>0.150000</td>\n",
       "      <td>0.500000</td>\n",
       "      <td>0.250000</td>\n",
       "      <td>0.529412</td>\n",
       "      <td>0.450000</td>\n",
       "    </tr>\n",
       "    <tr>\n",
       "      <th>icd9chapters</th>\n",
       "      <td>1.0</td>\n",
       "      <td>0.083333</td>\n",
       "      <td>1.000000</td>\n",
       "      <td>0.250000</td>\n",
       "      <td>1.0</td>\n",
       "      <td>0.416667</td>\n",
       "      <td>0.888889</td>\n",
       "      <td>0.666667</td>\n",
       "      <td>0.888889</td>\n",
       "      <td>0.666667</td>\n",
       "    </tr>\n",
       "    <tr>\n",
       "      <th rowspan=\"2\" valign=\"top\">23</th>\n",
       "      <th>ccs</th>\n",
       "      <td>1.0</td>\n",
       "      <td>0.111111</td>\n",
       "      <td>0.666667</td>\n",
       "      <td>0.222222</td>\n",
       "      <td>0.8</td>\n",
       "      <td>0.444444</td>\n",
       "      <td>0.666667</td>\n",
       "      <td>0.444444</td>\n",
       "      <td>0.666667</td>\n",
       "      <td>0.444444</td>\n",
       "    </tr>\n",
       "    <tr>\n",
       "      <th>icd9chapters</th>\n",
       "      <td>1.0</td>\n",
       "      <td>0.166667</td>\n",
       "      <td>1.000000</td>\n",
       "      <td>0.500000</td>\n",
       "      <td>0.8</td>\n",
       "      <td>0.666667</td>\n",
       "      <td>0.800000</td>\n",
       "      <td>0.666667</td>\n",
       "      <td>0.800000</td>\n",
       "      <td>0.666667</td>\n",
       "    </tr>\n",
       "    <tr>\n",
       "      <th>36</th>\n",
       "      <th>ccs</th>\n",
       "      <td>1.0</td>\n",
       "      <td>0.090909</td>\n",
       "      <td>1.000000</td>\n",
       "      <td>0.272727</td>\n",
       "      <td>1.0</td>\n",
       "      <td>0.454545</td>\n",
       "      <td>0.600000</td>\n",
       "      <td>0.545455</td>\n",
       "      <td>0.545455</td>\n",
       "      <td>0.545455</td>\n",
       "    </tr>\n",
       "  </tbody>\n",
       "</table>\n",
       "</div>"
      ],
      "text/plain": [
       "                      precision@1  recall@1  precision@3  recall@3  \\\n",
       "patient coding                                                       \n",
       "21      ccs                   1.0  0.050000     0.666667  0.100000   \n",
       "        icd9chapters          1.0  0.083333     1.000000  0.250000   \n",
       "23      ccs                   1.0  0.111111     0.666667  0.222222   \n",
       "        icd9chapters          1.0  0.166667     1.000000  0.500000   \n",
       "36      ccs                   1.0  0.090909     1.000000  0.272727   \n",
       "\n",
       "                      precision@5  recall@5  precision@10  recall@10  \\\n",
       "patient coding                                                         \n",
       "21      ccs                   0.6  0.150000      0.500000   0.250000   \n",
       "        icd9chapters          1.0  0.416667      0.888889   0.666667   \n",
       "23      ccs                   0.8  0.444444      0.666667   0.444444   \n",
       "        icd9chapters          0.8  0.666667      0.800000   0.666667   \n",
       "36      ccs                   1.0  0.454545      0.600000   0.545455   \n",
       "\n",
       "                      precision@30  recall@30  \n",
       "patient coding                                 \n",
       "21      ccs               0.529412   0.450000  \n",
       "        icd9chapters      0.888889   0.666667  \n",
       "23      ccs               0.666667   0.444444  \n",
       "        icd9chapters      0.800000   0.666667  \n",
       "36      ccs               0.545455   0.545455  "
      ]
     },
     "execution_count": 13,
     "metadata": {},
     "output_type": "execute_result"
    }
   ],
   "source": [
    "metrics_at_k = [1,3,5,10,30]\n",
    "all_patients_metrics = []\n",
    "\n",
    "for patient in tqdm(test_patients):\n",
    "    for coding in grouper.get_available_groupers():\n",
    "        retrieved,golden = MostFrequent.predict(patient,coding,mimic)\n",
    "        \n",
    "        patient_metrics = {'patient':patient,'coding':coding}\n",
    "        for k in metrics_at_k:\n",
    "            for metric in metrics.get_metrics():\n",
    "                patient_metrics[f'{metric}@{k}'] = metrics.compute_metric(metric,golden,retrieved,k)\n",
    "            \n",
    "        all_patients_metrics.append(patient_metrics)\n",
    "results = pd.DataFrame(all_patients_metrics).set_index(['patient','coding']).sort_index()\n",
    "results.head(5)"
   ]
  },
  {
   "cell_type": "markdown",
   "metadata": {},
   "source": [
    "# Evaluate"
   ]
  },
  {
   "cell_type": "code",
   "execution_count": 15,
   "metadata": {},
   "outputs": [
    {
     "data": {
      "text/html": [
       "<div>\n",
       "<style scoped>\n",
       "    .dataframe tbody tr th:only-of-type {\n",
       "        vertical-align: middle;\n",
       "    }\n",
       "\n",
       "    .dataframe tbody tr th {\n",
       "        vertical-align: top;\n",
       "    }\n",
       "\n",
       "    .dataframe thead th {\n",
       "        text-align: right;\n",
       "    }\n",
       "</style>\n",
       "<table border=\"1\" class=\"dataframe\">\n",
       "  <thead>\n",
       "    <tr style=\"text-align: right;\">\n",
       "      <th></th>\n",
       "      <th>precision@1</th>\n",
       "      <th>recall@1</th>\n",
       "      <th>precision@3</th>\n",
       "      <th>recall@3</th>\n",
       "      <th>precision@5</th>\n",
       "      <th>recall@5</th>\n",
       "      <th>precision@10</th>\n",
       "      <th>recall@10</th>\n",
       "      <th>precision@30</th>\n",
       "      <th>recall@30</th>\n",
       "    </tr>\n",
       "    <tr>\n",
       "      <th>coding</th>\n",
       "      <th></th>\n",
       "      <th></th>\n",
       "      <th></th>\n",
       "      <th></th>\n",
       "      <th></th>\n",
       "      <th></th>\n",
       "      <th></th>\n",
       "      <th></th>\n",
       "      <th></th>\n",
       "      <th></th>\n",
       "    </tr>\n",
       "  </thead>\n",
       "  <tbody>\n",
       "    <tr>\n",
       "      <th>ccs</th>\n",
       "      <td>0.649067</td>\n",
       "      <td>0.068866</td>\n",
       "      <td>0.594222</td>\n",
       "      <td>0.177693</td>\n",
       "      <td>0.560640</td>\n",
       "      <td>0.265702</td>\n",
       "      <td>0.510543</td>\n",
       "      <td>0.402167</td>\n",
       "      <td>0.465635</td>\n",
       "      <td>0.497686</td>\n",
       "    </tr>\n",
       "    <tr>\n",
       "      <th>icd9chapters</th>\n",
       "      <td>0.893333</td>\n",
       "      <td>0.150021</td>\n",
       "      <td>0.807200</td>\n",
       "      <td>0.376934</td>\n",
       "      <td>0.746622</td>\n",
       "      <td>0.519794</td>\n",
       "      <td>0.692715</td>\n",
       "      <td>0.666671</td>\n",
       "      <td>0.683329</td>\n",
       "      <td>0.689073</td>\n",
       "    </tr>\n",
       "  </tbody>\n",
       "</table>\n",
       "</div>"
      ],
      "text/plain": [
       "              precision@1  recall@1  precision@3  recall@3  precision@5  \\\n",
       "coding                                                                    \n",
       "ccs              0.649067  0.068866     0.594222  0.177693     0.560640   \n",
       "icd9chapters     0.893333  0.150021     0.807200  0.376934     0.746622   \n",
       "\n",
       "              recall@5  precision@10  recall@10  precision@30  recall@30  \n",
       "coding                                                                    \n",
       "ccs           0.265702      0.510543   0.402167      0.465635   0.497686  \n",
       "icd9chapters  0.519794      0.692715   0.666671      0.683329   0.689073  "
      ]
     },
     "execution_count": 15,
     "metadata": {},
     "output_type": "execute_result"
    }
   ],
   "source": [
    "results.mean(level='coding')"
   ]
  },
  {
   "cell_type": "markdown",
   "metadata": {},
   "source": [
    "## Save"
   ]
  },
  {
   "cell_type": "code",
   "execution_count": 16,
   "metadata": {},
   "outputs": [],
   "source": [
    "filename = 'baseline_most_frequent'\n",
    "results.mean(level='coding').to_csv(f'results/{filename}.csv')"
   ]
  },
  {
   "cell_type": "code",
   "execution_count": null,
   "metadata": {},
   "outputs": [],
   "source": []
  }
 ],
 "metadata": {
  "kernelspec": {
   "display_name": "Python 3",
   "language": "python",
   "name": "python3"
  },
  "language_info": {
   "codemirror_mode": {
    "name": "ipython",
    "version": 3
   },
   "file_extension": ".py",
   "mimetype": "text/x-python",
   "name": "python",
   "nbconvert_exporter": "python",
   "pygments_lexer": "ipython3",
   "version": "3.7.4"
  },
  "toc": {
   "base_numbering": 1,
   "nav_menu": {},
   "number_sections": true,
   "sideBar": true,
   "skip_h1_title": false,
   "title_cell": "Table of Contents",
   "title_sidebar": "Contents",
   "toc_cell": false,
   "toc_position": {},
   "toc_section_display": true,
   "toc_window_display": false
  },
  "varInspector": {
   "cols": {
    "lenName": 16,
    "lenType": 16,
    "lenVar": 40
   },
   "kernels_config": {
    "python": {
     "delete_cmd_postfix": "",
     "delete_cmd_prefix": "del ",
     "library": "var_list.py",
     "varRefreshCmd": "print(var_dic_list())"
    },
    "r": {
     "delete_cmd_postfix": ") ",
     "delete_cmd_prefix": "rm(",
     "library": "var_list.r",
     "varRefreshCmd": "cat(var_dic_list()) "
    }
   },
   "types_to_exclude": [
    "module",
    "function",
    "builtin_function_or_method",
    "instance",
    "_Feature"
   ],
   "window_display": false
  }
 },
 "nbformat": 4,
 "nbformat_minor": 5
}
