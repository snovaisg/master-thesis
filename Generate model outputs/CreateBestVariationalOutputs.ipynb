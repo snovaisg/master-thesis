{
 "cells": [
  {
   "cell_type": "markdown",
   "id": "f639e358-e28a-4f32-a817-84b088e22874",
   "metadata": {},
   "source": [
    "Using a variational model, creates several outputs for each patient in the validation/test set. Saves into csv. The purpose is to do analyses later on "
   ]
  },
  {
   "cell_type": "code",
   "execution_count": 1,
   "id": "5c321b38-8cd7-4ccc-b58f-51cd781f6c93",
   "metadata": {},
   "outputs": [],
   "source": [
    "import os\n",
    "cwd = os.getcwd()\n",
    "\n",
    "# protection against running this cell multiple times\n",
    "assert os.path.dirname(cwd).split('/')[-1] == 'master-thesis','Oops, directory already changed previously as indended. Ignoring...'\n",
    "\n",
    "# change working directory (if assert passed)\n",
    "new_cwd = os.path.dirname(cwd) # parent directory\n",
    "os.chdir(new_cwd)"
   ]
  },
  {
   "cell_type": "markdown",
   "id": "43712fcf-ff80-4a27-8b34-f47b38c3221c",
   "metadata": {},
   "source": [
    "# Imports"
   ]
  },
  {
   "cell_type": "code",
   "execution_count": 1,
   "id": "a7e4201b-d96d-4370-a252-90ec49625767",
   "metadata": {
    "ExecuteTime": {
     "end_time": "2021-10-13T13:13:56.817884Z",
     "start_time": "2021-10-13T13:13:51.079218Z"
    }
   },
   "outputs": [],
   "source": [
    "import os\n",
    "import json\n",
    "\n",
    "from rnn_utils import DiagnosesDataset, split_dataset, MYCOLLATE\n",
    "from rnn_utils import train_one_epoch, eval_model\n",
    "\n",
    "from mourga_variational.variational_rnn import VariationalRNN\n",
    "\n",
    "import torch\n",
    "from torch.utils.data import Dataset, DataLoader, random_split\n",
    "from torch import nn\n",
    "from torch.nn.utils.rnn import pack_padded_sequence, pad_packed_sequence, pad_sequence, pack_sequence\n",
    "\n",
    "import numpy as np\n",
    "import pandas as pd\n",
    "\n",
    "from config import Settings; settings = Settings()\n",
    "\n",
    "# display all outputs\n",
    "from IPython.core.interactiveshell import InteractiveShell\n",
    "InteractiveShell.ast_node_interactivity = \"all\""
   ]
  },
  {
   "cell_type": "markdown",
   "id": "27c96fe9-1c47-43e5-8be3-cea6055ed3e7",
   "metadata": {},
   "source": [
    "# Parameters"
   ]
  },
  {
   "cell_type": "code",
   "execution_count": 2,
   "id": "914d3248-ac4e-46b8-aef9-05513c8b1219",
   "metadata": {
    "ExecuteTime": {
     "end_time": "2021-10-13T13:13:50.773534Z",
     "start_time": "2021-10-13T13:13:50.759374Z"
    }
   },
   "outputs": [],
   "source": [
    "num_passes = 30 # number of (variational) forward passes for each input\n",
    "model_name = 'golden-oath-84'\n",
    "dataset_id = 'diag_only'\n",
    "experiment_id = 'A'"
   ]
  },
  {
   "cell_type": "markdown",
   "id": "6ca10b49-4243-44a5-bc87-0eec206a332d",
   "metadata": {},
   "source": [
    "sanity check"
   ]
  },
  {
   "cell_type": "code",
   "execution_count": 3,
   "id": "33a4d604-217a-4e6f-8cbf-6569a8937153",
   "metadata": {},
   "outputs": [
    {
     "data": {
      "text/plain": [
       "True"
      ]
     },
     "execution_count": 3,
     "metadata": {},
     "output_type": "execute_result"
    },
    {
     "data": {
      "text/plain": [
       "True"
      ]
     },
     "execution_count": 3,
     "metadata": {},
     "output_type": "execute_result"
    }
   ],
   "source": [
    "model_folder = os.path.join(settings.data_base,settings.models_folder,model_name)\n",
    "os.path.exists(model_folder)\n",
    "\n",
    "dataset_folder = os.path.join(settings.data_base,settings.model_ready_dataset_folder,dataset_id)\n",
    "os.path.exists(dataset_folder)\n",
    "\n",
    "experiment_folder = os.path.join(settings.data_base,settings.variational_data_folder,experiment_id)\n",
    "if os.path.exists(experiment_folder):\n",
    "    raise Exception(f\"Experiment {experiment_folder} exists. If you want to overwrite it, manually delete the directory first\")\n",
    "else:\n",
    "    os.mkdir(experiment_folder)"
   ]
  },
  {
   "cell_type": "markdown",
   "id": "6322c0ee-da31-4f36-acf0-cf72432c2dc4",
   "metadata": {},
   "source": [
    "# Reproducibility"
   ]
  },
  {
   "cell_type": "code",
   "execution_count": 4,
   "id": "af15bbb9-8a6c-451b-b165-6e92de9695b4",
   "metadata": {
    "ExecuteTime": {
     "end_time": "2021-10-13T13:13:56.841284Z",
     "start_time": "2021-10-13T13:13:56.821937Z"
    }
   },
   "outputs": [
    {
     "data": {
      "text/plain": [
       "<torch._C.Generator at 0x1098ac710>"
      ]
     },
     "execution_count": 4,
     "metadata": {},
     "output_type": "execute_result"
    }
   ],
   "source": [
    "# Reproducibility\n",
    "seed = settings.random_seed\n",
    "np.random.seed(seed)\n",
    "torch.manual_seed(seed)\n",
    "torch.cuda.manual_seed(seed)\n",
    "\n",
    "torch.backends.cudnn.deterministic = True\n",
    "torch.backends.cudnn.benchmark = False"
   ]
  },
  {
   "cell_type": "code",
   "execution_count": 5,
   "id": "d6fa20b0-ccaa-4229-b89f-86952e0f79a6",
   "metadata": {},
   "outputs": [],
   "source": [
    "batch_size = 64 # really doesn't matter for this notebook since we will only to inference\n",
    "grouping = 'ccs'"
   ]
  },
  {
   "cell_type": "code",
   "execution_count": 6,
   "id": "09d9599a-f55f-49e5-8381-a9f5551698ff",
   "metadata": {},
   "outputs": [
    {
     "data": {
      "text/plain": [
       "5249"
      ]
     },
     "execution_count": 6,
     "metadata": {},
     "output_type": "execute_result"
    },
    {
     "data": {
      "text/plain": [
       "1125"
      ]
     },
     "execution_count": 6,
     "metadata": {},
     "output_type": "execute_result"
    },
    {
     "data": {
      "text/plain": [
       "1125"
      ]
     },
     "execution_count": 6,
     "metadata": {},
     "output_type": "execute_result"
    }
   ],
   "source": [
    "dataset = DiagnosesDataset(os.path.join(dataset_folder,'dataset.json'),grouping)\n",
    "\n",
    "train_dataset = DiagnosesDataset(os.path.join(dataset_folder,'train_subset.json'),grouping)\n",
    "val_dataset = DiagnosesDataset(os.path.join(dataset_folder,'val_subset.json'),grouping)\n",
    "test_dataset = DiagnosesDataset(os.path.join(dataset_folder,'test_subset.json'),grouping)\n",
    "\n",
    "\n",
    "len(train_dataset)\n",
    "len(val_dataset)\n",
    "len(test_dataset)\n",
    "\n",
    "\n",
    "train_dataloader = DataLoader(train_dataset,batch_size=batch_size,collate_fn=MYCOLLATE(dataset),shuffle=True)\n",
    "val_dataloader = DataLoader(val_dataset,batch_size=batch_size,collate_fn=MYCOLLATE(dataset)) #batch_size here is arbitrary and doesn't affect total validation speed\n",
    "test_dataloader = DataLoader(test_dataset,batch_size=batch_size,collate_fn=MYCOLLATE(dataset))"
   ]
  },
  {
   "cell_type": "code",
   "execution_count": 7,
   "id": "816c498e-b3ec-49cf-a7c6-db3f3227cc8d",
   "metadata": {
    "ExecuteTime": {
     "end_time": "2021-10-13T13:13:58.270581Z",
     "start_time": "2021-10-13T13:13:58.246086Z"
    }
   },
   "outputs": [
    {
     "data": {
      "text/plain": [
       "<All keys matched successfully>"
      ]
     },
     "execution_count": 7,
     "metadata": {},
     "output_type": "execute_result"
    }
   ],
   "source": [
    "# model hyperparameters path\n",
    "hypp_save_path = os.path.join(model_folder, 'hyper_parameters.json')\n",
    "with open(hypp_save_path,'r') as f:\n",
    "    params_loaded = json.load(f)\n",
    "\n",
    "# weights path\n",
    "weights_save_path = os.path.join(model_folder,\"weights\")\n",
    "\n",
    "new_model = VariationalRNN(**params_loaded)\n",
    "new_model.load_state_dict(torch.load(weights_save_path))"
   ]
  },
  {
   "cell_type": "code",
   "execution_count": 8,
   "id": "cc5fc7f7-d648-4920-b8e7-b4e22ef907b5",
   "metadata": {
    "ExecuteTime": {
     "end_time": "2021-09-30T10:34:42.253529Z",
     "start_time": "2021-09-30T10:34:42.233852Z"
    }
   },
   "outputs": [],
   "source": [
    "def variational_forward(model, dataloader, dataset, name, num_passes=2):\n",
    "    \"\"\"\n",
    "    \"\"\"\n",
    "    # to make sure the dropout mask is turned on. But we won't train here\n",
    "    model.train()\n",
    "    \n",
    "    # eg:: ccs, icd9, etc..\n",
    "    code_type = dataset.grouping\n",
    "    \n",
    "    int2code = dataset.grouping_data[code_type]['int2code']\n",
    "    \n",
    "    assert all(np.diff(list(int2code.keys())) == 1), 'Expecting sorted codes, if this fails then it might be time to update column-naming related code'\n",
    "    col_names = ['diag_' + str(code) for code in int2code.keys()]\n",
    "    \n",
    "    total_loss = 0\n",
    "    total_seq = 0 #total sequences\n",
    "    \n",
    "    sigmoid = nn.Sigmoid()\n",
    "    \n",
    "    full_df = None\n",
    "    \n",
    "    # variational\n",
    "    \n",
    "    for i, batch in enumerate(iter(dataloader)):\n",
    "        # get the inputs; data is a list of [inputs, labels]\n",
    "        history_sequences, target_sequences = batch['train_sequences'],batch['target_sequences']\n",
    "        \n",
    "        _,lengths = pad_packed_sequence(history_sequences['sequence'])\n",
    "        relevant_positions = [[i+idx*max(lengths) for i in range(e)] for idx,e in enumerate(lengths)]\n",
    "        \n",
    "        # just flatten the list\n",
    "        relevant_positions = [item for sublist in relevant_positions for item in sublist]\n",
    "\n",
    "        for pass_ in range(1,num_passes+1):\n",
    "\n",
    "            outs = model(history_sequences['sequence'])\n",
    "            \n",
    "            outs_flattened = outs.view(1,-1,outs.size()[2])\n",
    "            \n",
    "            relevant_outs = outs_flattened[:,relevant_positions,:]\n",
    "            \n",
    "            relevant_outs = sigmoid(relevant_outs).detach().numpy().squeeze()\n",
    "            \n",
    "            df = (pd.DataFrame(relevant_outs,\n",
    "                               columns=col_names)\n",
    "                  .assign(pat_id=batch['target_pids'],\n",
    "                          npass=pass_)\n",
    "                 )\n",
    "            \n",
    "            if full_df is None:\n",
    "                full_df = df\n",
    "            else:\n",
    "                full_df = pd.concat([full_df,df])\n",
    "    \n",
    "    full_df['adm_index'] = full_df.groupby(['pat_id','npass']).cumcount()+1\n",
    "    full_df = full_df.reset_index(drop=True)\n",
    "    full_df[['pat_id','adm_index','npass']] = full_df[['pat_id','adm_index','npass']].astype(int)\n",
    "    # reorder columns\n",
    "    full_df = full_df.set_index(['pat_id','adm_index','npass']).sort_index()\n",
    "    \n",
    "    # deterministic\n",
    "    \n",
    "    full_df_det = None\n",
    "    model.eval()\n",
    "    with torch.no_grad():\n",
    "         for i, batch in enumerate(iter(dataloader)):\n",
    "            # get the inputs; data is a list of [inputs, labels]\n",
    "            history_sequences, target_sequences = batch['train_sequences'],batch['target_sequences']\n",
    "\n",
    "            _,lengths = pad_packed_sequence(history_sequences['sequence'])\n",
    "            relevant_positions = [[i+idx*max(lengths) for i in range(e)] for idx,e in enumerate(lengths)]\n",
    "\n",
    "            # just flatten the list\n",
    "            relevant_positions = [item for sublist in relevant_positions for item in sublist]\n",
    "            \n",
    "            outs = model(history_sequences['sequence'])\n",
    "            \n",
    "            outs_flattened = outs.view(1,-1,outs.size()[2])\n",
    "            \n",
    "            relevant_outs = outs_flattened[:,relevant_positions,:]\n",
    "            \n",
    "            relevant_outs = sigmoid(relevant_outs).detach().numpy().squeeze()\n",
    "            \n",
    "            df = (pd.DataFrame(relevant_outs,\n",
    "                               columns=col_names)\n",
    "                  .assign(pat_id=batch['target_pids'])\n",
    "                 )\n",
    "            \n",
    "            if full_df_det is None:\n",
    "                full_df_det = df\n",
    "            else:\n",
    "                full_df_det = pd.concat([full_df_det,df])\n",
    "    \n",
    "    full_df_det['adm_index'] = full_df_det.groupby(['pat_id']).cumcount()+1\n",
    "    full_df_det = full_df_det.reset_index(drop=True)\n",
    "    full_df_det[['pat_id','adm_index']] = full_df_det[['pat_id','adm_index']].astype(int)\n",
    "    # reorder columns\n",
    "    full_df_det = full_df_det.set_index(['pat_id','adm_index']).sort_index()\n",
    "    \n",
    "    \n",
    "    \n",
    "    # Now to store the true labels\n",
    "    \n",
    "    full_df_golden = None\n",
    "    for i, batch in enumerate(iter(dataloader)):\n",
    "        # get the inputs; data is a list of [inputs, labels]\n",
    "        history_sequences, target_sequences = batch['train_sequences'],batch['target_sequences']\n",
    "\n",
    "        _,lengths = pad_packed_sequence(history_sequences['sequence'])\n",
    "        relevant_positions = [[i+idx*max(lengths) for i in range(e)] for idx,e in enumerate(lengths)]\n",
    "\n",
    "        # just flatten the list\n",
    "        relevant_positions = [item for sublist in relevant_positions for item in sublist]\n",
    "\n",
    "        relevant_labels = target_sequences['sequence'].view(1,-1,target_sequences['sequence'].size()[2])[:,relevant_positions,:].squeeze().detach().numpy()\n",
    "        \n",
    "        df = pd.DataFrame(relevant_labels,columns=col_names).assign(pat_id=batch['target_pids'])\n",
    "        \n",
    "        if full_df_golden is None:\n",
    "            full_df_golden = df\n",
    "        else:\n",
    "            full_df_golden = pd.concat([full_df_golden,df])\n",
    "            \n",
    "    full_df_golden['adm_index'] = full_df_golden.groupby(['pat_id']).cumcount()+1\n",
    "    full_df_golden = full_df_golden.reset_index(drop=True)\n",
    "    full_df_golden[['pat_id','adm_index']] = full_df_golden[['pat_id','adm_index']].astype(int)\n",
    "    # reorder columns\n",
    "    full_df_golden = full_df_golden.set_index(['pat_id','adm_index']).sort_index()\n",
    "            \n",
    "    return full_df,full_df_det,full_df_golden"
   ]
  },
  {
   "cell_type": "code",
   "execution_count": 9,
   "id": "76468bee-1724-40e6-b717-06606a59688b",
   "metadata": {
    "ExecuteTime": {
     "end_time": "2021-09-30T10:34:54.322723Z",
     "start_time": "2021-09-30T10:34:43.224339Z"
    }
   },
   "outputs": [],
   "source": [
    "var,det,golden = variational_forward(new_model,val_dataloader,dataset,'validation',num_passes=num_passes)"
   ]
  },
  {
   "cell_type": "markdown",
   "id": "5e5daf7b-ba7e-4c95-8da3-4953e766807a",
   "metadata": {},
   "source": [
    "# save into file"
   ]
  },
  {
   "cell_type": "code",
   "execution_count": 10,
   "id": "4f756957-b8bf-44ca-91a7-31f2ff743c78",
   "metadata": {
    "ExecuteTime": {
     "end_time": "2021-09-30T10:42:35.202019Z",
     "start_time": "2021-09-30T10:42:35.196820Z"
    }
   },
   "outputs": [],
   "source": [
    "save_var_path = os.path.join(experiment_folder,'variational_forward.csv')\n",
    "save_det_path = os.path.join(experiment_folder,'deterministic_forward.csv')\n",
    "save_golden_path = os.path.join(experiment_folder,'golden.csv')"
   ]
  },
  {
   "cell_type": "code",
   "execution_count": 11,
   "id": "de16f3ed-f559-434b-91b2-19618b59620d",
   "metadata": {
    "ExecuteTime": {
     "end_time": "2021-09-30T10:42:49.758388Z",
     "start_time": "2021-09-30T10:42:37.429445Z"
    }
   },
   "outputs": [
    {
     "name": "stdout",
     "output_type": "stream",
     "text": [
      "Saved!\n"
     ]
    }
   ],
   "source": [
    "mapping = {save_var_path:var,\n",
    "       save_det_path:det,\n",
    "       save_golden_path:golden\n",
    "      }\n",
    "for save_path in mapping:\n",
    "    mapping[save_path].to_csv(save_path)\n",
    "    \n",
    "# also save metadata\n",
    "metadata = dict(model=model_name,\n",
    "                num_passes=num_passes,\n",
    "                dataset_id=dataset_id\n",
    "               )\n",
    "\n",
    "metadata_path = os.path.join(experiment_folder,'metadata.json')\n",
    "with open(metadata_path,'w') as f:\n",
    "    json.dump(metadata,f)\n",
    "    \n",
    "print('Saved!')"
   ]
  },
  {
   "cell_type": "markdown",
   "id": "a4239f0b-f245-475e-890c-8dad707d14a7",
   "metadata": {},
   "source": [
    "# test it out"
   ]
  },
  {
   "cell_type": "code",
   "execution_count": 12,
   "id": "b7c199ce-622f-463a-9ccc-11bf9f706299",
   "metadata": {},
   "outputs": [
    {
     "data": {
      "text/html": [
       "<div>\n",
       "<style scoped>\n",
       "    .dataframe tbody tr th:only-of-type {\n",
       "        vertical-align: middle;\n",
       "    }\n",
       "\n",
       "    .dataframe tbody tr th {\n",
       "        vertical-align: top;\n",
       "    }\n",
       "\n",
       "    .dataframe thead th {\n",
       "        text-align: right;\n",
       "    }\n",
       "</style>\n",
       "<table border=\"1\" class=\"dataframe\">\n",
       "  <thead>\n",
       "    <tr style=\"text-align: right;\">\n",
       "      <th></th>\n",
       "      <th></th>\n",
       "      <th></th>\n",
       "      <th>diag_0</th>\n",
       "      <th>diag_1</th>\n",
       "      <th>diag_2</th>\n",
       "      <th>diag_3</th>\n",
       "      <th>diag_4</th>\n",
       "      <th>diag_5</th>\n",
       "      <th>diag_6</th>\n",
       "      <th>diag_7</th>\n",
       "      <th>diag_8</th>\n",
       "      <th>diag_9</th>\n",
       "      <th>...</th>\n",
       "      <th>diag_262</th>\n",
       "      <th>diag_263</th>\n",
       "      <th>diag_264</th>\n",
       "      <th>diag_265</th>\n",
       "      <th>diag_266</th>\n",
       "      <th>diag_267</th>\n",
       "      <th>diag_268</th>\n",
       "      <th>diag_269</th>\n",
       "      <th>diag_270</th>\n",
       "      <th>diag_271</th>\n",
       "    </tr>\n",
       "    <tr>\n",
       "      <th>pat_id</th>\n",
       "      <th>adm_index</th>\n",
       "      <th>npass</th>\n",
       "      <th></th>\n",
       "      <th></th>\n",
       "      <th></th>\n",
       "      <th></th>\n",
       "      <th></th>\n",
       "      <th></th>\n",
       "      <th></th>\n",
       "      <th></th>\n",
       "      <th></th>\n",
       "      <th></th>\n",
       "      <th></th>\n",
       "      <th></th>\n",
       "      <th></th>\n",
       "      <th></th>\n",
       "      <th></th>\n",
       "      <th></th>\n",
       "      <th></th>\n",
       "      <th></th>\n",
       "      <th></th>\n",
       "      <th></th>\n",
       "      <th></th>\n",
       "    </tr>\n",
       "  </thead>\n",
       "  <tbody>\n",
       "    <tr>\n",
       "      <th rowspan=\"3\" valign=\"top\">21</th>\n",
       "      <th rowspan=\"3\" valign=\"top\">1</th>\n",
       "      <th>1</th>\n",
       "      <td>0.001089</td>\n",
       "      <td>0.213134</td>\n",
       "      <td>0.096240</td>\n",
       "      <td>0.019529</td>\n",
       "      <td>0.000285</td>\n",
       "      <td>0.002353</td>\n",
       "      <td>0.002609</td>\n",
       "      <td>0.002373</td>\n",
       "      <td>0.000421</td>\n",
       "      <td>0.002055</td>\n",
       "      <td>...</td>\n",
       "      <td>0.000015</td>\n",
       "      <td>0.002675</td>\n",
       "      <td>0.000060</td>\n",
       "      <td>0.001814</td>\n",
       "      <td>0.085567</td>\n",
       "      <td>0.048912</td>\n",
       "      <td>0.000341</td>\n",
       "      <td>0.000403</td>\n",
       "      <td>0.000462</td>\n",
       "      <td>0.019775</td>\n",
       "    </tr>\n",
       "    <tr>\n",
       "      <th>2</th>\n",
       "      <td>0.001921</td>\n",
       "      <td>0.303439</td>\n",
       "      <td>0.127245</td>\n",
       "      <td>0.051660</td>\n",
       "      <td>0.001970</td>\n",
       "      <td>0.010256</td>\n",
       "      <td>0.003054</td>\n",
       "      <td>0.001259</td>\n",
       "      <td>0.000144</td>\n",
       "      <td>0.002890</td>\n",
       "      <td>...</td>\n",
       "      <td>0.000042</td>\n",
       "      <td>0.003102</td>\n",
       "      <td>0.000053</td>\n",
       "      <td>0.001158</td>\n",
       "      <td>0.093928</td>\n",
       "      <td>0.037497</td>\n",
       "      <td>0.000279</td>\n",
       "      <td>0.000206</td>\n",
       "      <td>0.000391</td>\n",
       "      <td>0.033320</td>\n",
       "    </tr>\n",
       "    <tr>\n",
       "      <th>3</th>\n",
       "      <td>0.004814</td>\n",
       "      <td>0.294661</td>\n",
       "      <td>0.169196</td>\n",
       "      <td>0.026394</td>\n",
       "      <td>0.000411</td>\n",
       "      <td>0.001923</td>\n",
       "      <td>0.002527</td>\n",
       "      <td>0.001474</td>\n",
       "      <td>0.000524</td>\n",
       "      <td>0.004113</td>\n",
       "      <td>...</td>\n",
       "      <td>0.000027</td>\n",
       "      <td>0.002275</td>\n",
       "      <td>0.000085</td>\n",
       "      <td>0.003200</td>\n",
       "      <td>0.092658</td>\n",
       "      <td>0.069284</td>\n",
       "      <td>0.000547</td>\n",
       "      <td>0.000254</td>\n",
       "      <td>0.000379</td>\n",
       "      <td>0.025546</td>\n",
       "    </tr>\n",
       "  </tbody>\n",
       "</table>\n",
       "<p>3 rows × 272 columns</p>\n",
       "</div>"
      ],
      "text/plain": [
       "                          diag_0    diag_1    diag_2    diag_3    diag_4  \\\n",
       "pat_id adm_index npass                                                     \n",
       "21     1         1      0.001089  0.213134  0.096240  0.019529  0.000285   \n",
       "                 2      0.001921  0.303439  0.127245  0.051660  0.001970   \n",
       "                 3      0.004814  0.294661  0.169196  0.026394  0.000411   \n",
       "\n",
       "                          diag_5    diag_6    diag_7    diag_8    diag_9  ...  \\\n",
       "pat_id adm_index npass                                                    ...   \n",
       "21     1         1      0.002353  0.002609  0.002373  0.000421  0.002055  ...   \n",
       "                 2      0.010256  0.003054  0.001259  0.000144  0.002890  ...   \n",
       "                 3      0.001923  0.002527  0.001474  0.000524  0.004113  ...   \n",
       "\n",
       "                        diag_262  diag_263  diag_264  diag_265  diag_266  \\\n",
       "pat_id adm_index npass                                                     \n",
       "21     1         1      0.000015  0.002675  0.000060  0.001814  0.085567   \n",
       "                 2      0.000042  0.003102  0.000053  0.001158  0.093928   \n",
       "                 3      0.000027  0.002275  0.000085  0.003200  0.092658   \n",
       "\n",
       "                        diag_267  diag_268  diag_269  diag_270  diag_271  \n",
       "pat_id adm_index npass                                                    \n",
       "21     1         1      0.048912  0.000341  0.000403  0.000462  0.019775  \n",
       "                 2      0.037497  0.000279  0.000206  0.000391  0.033320  \n",
       "                 3      0.069284  0.000547  0.000254  0.000379  0.025546  \n",
       "\n",
       "[3 rows x 272 columns]"
      ]
     },
     "execution_count": 12,
     "metadata": {},
     "output_type": "execute_result"
    },
    {
     "data": {
      "text/plain": [
       "(58290, 272)"
      ]
     },
     "execution_count": 12,
     "metadata": {},
     "output_type": "execute_result"
    }
   ],
   "source": [
    "df_var = pd.read_csv(save_var_path,index_col=[0,1,2])\n",
    "\n",
    "df_var.head(3)\n",
    "df_var.shape"
   ]
  },
  {
   "cell_type": "code",
   "execution_count": 13,
   "id": "c5a608e2-0526-4ccc-9c06-d171b3274941",
   "metadata": {},
   "outputs": [
    {
     "data": {
      "text/html": [
       "<div>\n",
       "<style scoped>\n",
       "    .dataframe tbody tr th:only-of-type {\n",
       "        vertical-align: middle;\n",
       "    }\n",
       "\n",
       "    .dataframe tbody tr th {\n",
       "        vertical-align: top;\n",
       "    }\n",
       "\n",
       "    .dataframe thead th {\n",
       "        text-align: right;\n",
       "    }\n",
       "</style>\n",
       "<table border=\"1\" class=\"dataframe\">\n",
       "  <thead>\n",
       "    <tr style=\"text-align: right;\">\n",
       "      <th></th>\n",
       "      <th></th>\n",
       "      <th>diag_0</th>\n",
       "      <th>diag_1</th>\n",
       "      <th>diag_2</th>\n",
       "      <th>diag_3</th>\n",
       "      <th>diag_4</th>\n",
       "      <th>diag_5</th>\n",
       "      <th>diag_6</th>\n",
       "      <th>diag_7</th>\n",
       "      <th>diag_8</th>\n",
       "      <th>diag_9</th>\n",
       "      <th>...</th>\n",
       "      <th>diag_262</th>\n",
       "      <th>diag_263</th>\n",
       "      <th>diag_264</th>\n",
       "      <th>diag_265</th>\n",
       "      <th>diag_266</th>\n",
       "      <th>diag_267</th>\n",
       "      <th>diag_268</th>\n",
       "      <th>diag_269</th>\n",
       "      <th>diag_270</th>\n",
       "      <th>diag_271</th>\n",
       "    </tr>\n",
       "    <tr>\n",
       "      <th>pat_id</th>\n",
       "      <th>adm_index</th>\n",
       "      <th></th>\n",
       "      <th></th>\n",
       "      <th></th>\n",
       "      <th></th>\n",
       "      <th></th>\n",
       "      <th></th>\n",
       "      <th></th>\n",
       "      <th></th>\n",
       "      <th></th>\n",
       "      <th></th>\n",
       "      <th></th>\n",
       "      <th></th>\n",
       "      <th></th>\n",
       "      <th></th>\n",
       "      <th></th>\n",
       "      <th></th>\n",
       "      <th></th>\n",
       "      <th></th>\n",
       "      <th></th>\n",
       "      <th></th>\n",
       "      <th></th>\n",
       "    </tr>\n",
       "  </thead>\n",
       "  <tbody>\n",
       "    <tr>\n",
       "      <th>21</th>\n",
       "      <th>1</th>\n",
       "      <td>0.001347</td>\n",
       "      <td>0.305060</td>\n",
       "      <td>0.154384</td>\n",
       "      <td>0.039799</td>\n",
       "      <td>0.000894</td>\n",
       "      <td>0.005886</td>\n",
       "      <td>0.004791</td>\n",
       "      <td>0.001857</td>\n",
       "      <td>0.000335</td>\n",
       "      <td>0.003764</td>\n",
       "      <td>...</td>\n",
       "      <td>0.000047</td>\n",
       "      <td>0.002931</td>\n",
       "      <td>0.000098</td>\n",
       "      <td>0.003253</td>\n",
       "      <td>0.092871</td>\n",
       "      <td>0.054996</td>\n",
       "      <td>0.000995</td>\n",
       "      <td>0.000600</td>\n",
       "      <td>0.000669</td>\n",
       "      <td>0.030053</td>\n",
       "    </tr>\n",
       "    <tr>\n",
       "      <th>23</th>\n",
       "      <th>1</th>\n",
       "      <td>0.002962</td>\n",
       "      <td>0.074933</td>\n",
       "      <td>0.096509</td>\n",
       "      <td>0.014177</td>\n",
       "      <td>0.003340</td>\n",
       "      <td>0.005832</td>\n",
       "      <td>0.017698</td>\n",
       "      <td>0.000444</td>\n",
       "      <td>0.001100</td>\n",
       "      <td>0.004600</td>\n",
       "      <td>...</td>\n",
       "      <td>0.000206</td>\n",
       "      <td>0.001529</td>\n",
       "      <td>0.001064</td>\n",
       "      <td>0.001978</td>\n",
       "      <td>0.161321</td>\n",
       "      <td>0.075045</td>\n",
       "      <td>0.001475</td>\n",
       "      <td>0.000521</td>\n",
       "      <td>0.010034</td>\n",
       "      <td>0.027507</td>\n",
       "    </tr>\n",
       "    <tr>\n",
       "      <th>61</th>\n",
       "      <th>1</th>\n",
       "      <td>0.015562</td>\n",
       "      <td>0.245559</td>\n",
       "      <td>0.113891</td>\n",
       "      <td>0.058389</td>\n",
       "      <td>0.012167</td>\n",
       "      <td>0.029827</td>\n",
       "      <td>0.060491</td>\n",
       "      <td>0.011735</td>\n",
       "      <td>0.000562</td>\n",
       "      <td>0.003089</td>\n",
       "      <td>...</td>\n",
       "      <td>0.000596</td>\n",
       "      <td>0.001823</td>\n",
       "      <td>0.000619</td>\n",
       "      <td>0.005601</td>\n",
       "      <td>0.271033</td>\n",
       "      <td>0.277932</td>\n",
       "      <td>0.003031</td>\n",
       "      <td>0.001247</td>\n",
       "      <td>0.006792</td>\n",
       "      <td>0.057917</td>\n",
       "    </tr>\n",
       "  </tbody>\n",
       "</table>\n",
       "<p>3 rows × 272 columns</p>\n",
       "</div>"
      ],
      "text/plain": [
       "                    diag_0    diag_1    diag_2    diag_3    diag_4    diag_5  \\\n",
       "pat_id adm_index                                                               \n",
       "21     1          0.001347  0.305060  0.154384  0.039799  0.000894  0.005886   \n",
       "23     1          0.002962  0.074933  0.096509  0.014177  0.003340  0.005832   \n",
       "61     1          0.015562  0.245559  0.113891  0.058389  0.012167  0.029827   \n",
       "\n",
       "                    diag_6    diag_7    diag_8    diag_9  ...  diag_262  \\\n",
       "pat_id adm_index                                          ...             \n",
       "21     1          0.004791  0.001857  0.000335  0.003764  ...  0.000047   \n",
       "23     1          0.017698  0.000444  0.001100  0.004600  ...  0.000206   \n",
       "61     1          0.060491  0.011735  0.000562  0.003089  ...  0.000596   \n",
       "\n",
       "                  diag_263  diag_264  diag_265  diag_266  diag_267  diag_268  \\\n",
       "pat_id adm_index                                                               \n",
       "21     1          0.002931  0.000098  0.003253  0.092871  0.054996  0.000995   \n",
       "23     1          0.001529  0.001064  0.001978  0.161321  0.075045  0.001475   \n",
       "61     1          0.001823  0.000619  0.005601  0.271033  0.277932  0.003031   \n",
       "\n",
       "                  diag_269  diag_270  diag_271  \n",
       "pat_id adm_index                                \n",
       "21     1          0.000600  0.000669  0.030053  \n",
       "23     1          0.000521  0.010034  0.027507  \n",
       "61     1          0.001247  0.006792  0.057917  \n",
       "\n",
       "[3 rows x 272 columns]"
      ]
     },
     "execution_count": 13,
     "metadata": {},
     "output_type": "execute_result"
    },
    {
     "data": {
      "text/plain": [
       "(1943, 272)"
      ]
     },
     "execution_count": 13,
     "metadata": {},
     "output_type": "execute_result"
    }
   ],
   "source": [
    "df_det = pd.read_csv(save_det_path,index_col=[0,1])\n",
    "\n",
    "df_det.head(3)\n",
    "df_det.shape"
   ]
  },
  {
   "cell_type": "code",
   "execution_count": 14,
   "id": "6adce528-ad03-4c0d-852d-455aef8e2266",
   "metadata": {},
   "outputs": [
    {
     "data": {
      "text/html": [
       "<div>\n",
       "<style scoped>\n",
       "    .dataframe tbody tr th:only-of-type {\n",
       "        vertical-align: middle;\n",
       "    }\n",
       "\n",
       "    .dataframe tbody tr th {\n",
       "        vertical-align: top;\n",
       "    }\n",
       "\n",
       "    .dataframe thead th {\n",
       "        text-align: right;\n",
       "    }\n",
       "</style>\n",
       "<table border=\"1\" class=\"dataframe\">\n",
       "  <thead>\n",
       "    <tr style=\"text-align: right;\">\n",
       "      <th></th>\n",
       "      <th></th>\n",
       "      <th>diag_0</th>\n",
       "      <th>diag_1</th>\n",
       "      <th>diag_2</th>\n",
       "      <th>diag_3</th>\n",
       "      <th>diag_4</th>\n",
       "      <th>diag_5</th>\n",
       "      <th>diag_6</th>\n",
       "      <th>diag_7</th>\n",
       "      <th>diag_8</th>\n",
       "      <th>diag_9</th>\n",
       "      <th>...</th>\n",
       "      <th>diag_262</th>\n",
       "      <th>diag_263</th>\n",
       "      <th>diag_264</th>\n",
       "      <th>diag_265</th>\n",
       "      <th>diag_266</th>\n",
       "      <th>diag_267</th>\n",
       "      <th>diag_268</th>\n",
       "      <th>diag_269</th>\n",
       "      <th>diag_270</th>\n",
       "      <th>diag_271</th>\n",
       "    </tr>\n",
       "    <tr>\n",
       "      <th>pat_id</th>\n",
       "      <th>adm_index</th>\n",
       "      <th></th>\n",
       "      <th></th>\n",
       "      <th></th>\n",
       "      <th></th>\n",
       "      <th></th>\n",
       "      <th></th>\n",
       "      <th></th>\n",
       "      <th></th>\n",
       "      <th></th>\n",
       "      <th></th>\n",
       "      <th></th>\n",
       "      <th></th>\n",
       "      <th></th>\n",
       "      <th></th>\n",
       "      <th></th>\n",
       "      <th></th>\n",
       "      <th></th>\n",
       "      <th></th>\n",
       "      <th></th>\n",
       "      <th></th>\n",
       "      <th></th>\n",
       "    </tr>\n",
       "  </thead>\n",
       "  <tbody>\n",
       "    <tr>\n",
       "      <th>21</th>\n",
       "      <th>1</th>\n",
       "      <td>0.0</td>\n",
       "      <td>1.0</td>\n",
       "      <td>1.0</td>\n",
       "      <td>0.0</td>\n",
       "      <td>0.0</td>\n",
       "      <td>0.0</td>\n",
       "      <td>0.0</td>\n",
       "      <td>0.0</td>\n",
       "      <td>0.0</td>\n",
       "      <td>0.0</td>\n",
       "      <td>...</td>\n",
       "      <td>0.0</td>\n",
       "      <td>0.0</td>\n",
       "      <td>0.0</td>\n",
       "      <td>0.0</td>\n",
       "      <td>1.0</td>\n",
       "      <td>0.0</td>\n",
       "      <td>0.0</td>\n",
       "      <td>0.0</td>\n",
       "      <td>0.0</td>\n",
       "      <td>0.0</td>\n",
       "    </tr>\n",
       "    <tr>\n",
       "      <th>23</th>\n",
       "      <th>1</th>\n",
       "      <td>0.0</td>\n",
       "      <td>0.0</td>\n",
       "      <td>0.0</td>\n",
       "      <td>0.0</td>\n",
       "      <td>0.0</td>\n",
       "      <td>0.0</td>\n",
       "      <td>0.0</td>\n",
       "      <td>0.0</td>\n",
       "      <td>0.0</td>\n",
       "      <td>0.0</td>\n",
       "      <td>...</td>\n",
       "      <td>0.0</td>\n",
       "      <td>0.0</td>\n",
       "      <td>0.0</td>\n",
       "      <td>0.0</td>\n",
       "      <td>0.0</td>\n",
       "      <td>0.0</td>\n",
       "      <td>0.0</td>\n",
       "      <td>0.0</td>\n",
       "      <td>0.0</td>\n",
       "      <td>0.0</td>\n",
       "    </tr>\n",
       "    <tr>\n",
       "      <th>61</th>\n",
       "      <th>1</th>\n",
       "      <td>0.0</td>\n",
       "      <td>1.0</td>\n",
       "      <td>0.0</td>\n",
       "      <td>1.0</td>\n",
       "      <td>0.0</td>\n",
       "      <td>0.0</td>\n",
       "      <td>0.0</td>\n",
       "      <td>1.0</td>\n",
       "      <td>0.0</td>\n",
       "      <td>0.0</td>\n",
       "      <td>...</td>\n",
       "      <td>0.0</td>\n",
       "      <td>0.0</td>\n",
       "      <td>0.0</td>\n",
       "      <td>0.0</td>\n",
       "      <td>0.0</td>\n",
       "      <td>0.0</td>\n",
       "      <td>0.0</td>\n",
       "      <td>0.0</td>\n",
       "      <td>0.0</td>\n",
       "      <td>0.0</td>\n",
       "    </tr>\n",
       "  </tbody>\n",
       "</table>\n",
       "<p>3 rows × 272 columns</p>\n",
       "</div>"
      ],
      "text/plain": [
       "                  diag_0  diag_1  diag_2  diag_3  diag_4  diag_5  diag_6  \\\n",
       "pat_id adm_index                                                           \n",
       "21     1             0.0     1.0     1.0     0.0     0.0     0.0     0.0   \n",
       "23     1             0.0     0.0     0.0     0.0     0.0     0.0     0.0   \n",
       "61     1             0.0     1.0     0.0     1.0     0.0     0.0     0.0   \n",
       "\n",
       "                  diag_7  diag_8  diag_9  ...  diag_262  diag_263  diag_264  \\\n",
       "pat_id adm_index                          ...                                 \n",
       "21     1             0.0     0.0     0.0  ...       0.0       0.0       0.0   \n",
       "23     1             0.0     0.0     0.0  ...       0.0       0.0       0.0   \n",
       "61     1             1.0     0.0     0.0  ...       0.0       0.0       0.0   \n",
       "\n",
       "                  diag_265  diag_266  diag_267  diag_268  diag_269  diag_270  \\\n",
       "pat_id adm_index                                                               \n",
       "21     1               0.0       1.0       0.0       0.0       0.0       0.0   \n",
       "23     1               0.0       0.0       0.0       0.0       0.0       0.0   \n",
       "61     1               0.0       0.0       0.0       0.0       0.0       0.0   \n",
       "\n",
       "                  diag_271  \n",
       "pat_id adm_index            \n",
       "21     1               0.0  \n",
       "23     1               0.0  \n",
       "61     1               0.0  \n",
       "\n",
       "[3 rows x 272 columns]"
      ]
     },
     "execution_count": 14,
     "metadata": {},
     "output_type": "execute_result"
    },
    {
     "data": {
      "text/plain": [
       "(1943, 272)"
      ]
     },
     "execution_count": 14,
     "metadata": {},
     "output_type": "execute_result"
    }
   ],
   "source": [
    "df_golden = pd.read_csv(save_golden_path,index_col=[0,1])\n",
    "\n",
    "df_golden.head(3)\n",
    "df_golden.shape"
   ]
  }
 ],
 "metadata": {
  "kernelspec": {
   "display_name": "Python (simao thesis)",
   "language": "python",
   "name": "simao_thesis"
  },
  "language_info": {
   "codemirror_mode": {
    "name": "ipython",
    "version": 3
   },
   "file_extension": ".py",
   "mimetype": "text/x-python",
   "name": "python",
   "nbconvert_exporter": "python",
   "pygments_lexer": "ipython3",
   "version": "3.10.4"
  },
  "toc": {
   "base_numbering": 1,
   "nav_menu": {},
   "number_sections": true,
   "sideBar": true,
   "skip_h1_title": false,
   "title_cell": "Table of Contents",
   "title_sidebar": "Contents",
   "toc_cell": false,
   "toc_position": {},
   "toc_section_display": true,
   "toc_window_display": false
  }
 },
 "nbformat": 4,
 "nbformat_minor": 5
}
