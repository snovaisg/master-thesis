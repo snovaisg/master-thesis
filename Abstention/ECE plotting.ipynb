{
 "cells": [
  {
   "cell_type": "code",
   "execution_count": 1,
   "id": "35af25b1-3ce2-4056-9c44-807f01f29e0b",
   "metadata": {},
   "outputs": [],
   "source": [
    "import os\n",
    "cwd = os.getcwd()\n",
    "\n",
    "# protection against running this cell multiple times\n",
    "assert os.path.dirname(cwd).split('/')[-1] == 'master-thesis','Oops, directory already changed previously as indended. Ignoring...'\n",
    "\n",
    "# change working directory (if assert passed)\n",
    "new_cwd = os.path.dirname(cwd) # parent directory\n",
    "os.chdir(new_cwd)"
   ]
  },
  {
   "cell_type": "markdown",
   "id": "b10fd7b3-d9b6-41ee-a921-cfde0a7a9311",
   "metadata": {},
   "source": [
    "# Imports"
   ]
  },
  {
   "cell_type": "code",
   "execution_count": 1,
   "id": "689c7e15-7221-4714-8f83-ae615d44204e",
   "metadata": {},
   "outputs": [],
   "source": [
    "%matplotlib inline\n",
    "import pandas as pd\n",
    "import matplotlib.pyplot as plt\n",
    "import numpy as np\n",
    "\n",
    "\n",
    "import os\n",
    "import json\n",
    "\n",
    "from rnn_utils import DiagnosesDataset, split_dataset, MYCOLLATE\n",
    "from rnn_utils import train_one_epoch, eval_model\n",
    "from Logits2Predictions import Logits2Predictions\n",
    "\n",
    "from mourga_variational.variational_rnn import VariationalRNN\n",
    "\n",
    "import torch\n",
    "from torch.utils.data import Dataset, DataLoader, random_split\n",
    "from torch import nn\n",
    "from torch.nn.utils.rnn import pack_padded_sequence, pad_packed_sequence, pad_sequence, pack_sequence\n",
    "\n",
    "import numpy as np\n",
    "import pandas as pd\n",
    "from sklearn.metrics import roc_auc_score\n",
    "\n",
    "idx = pd.IndexSlice\n",
    "\n",
    "from config import Settings; settings = Settings()\n",
    "\n",
    "# display all outputs\n",
    "from IPython.core.interactiveshell import InteractiveShell\n",
    "InteractiveShell.ast_node_interactivity = \"all\"\n",
    "%matplotlib inline\n",
    "import pandas as pd\n",
    "import matplotlib.pyplot as plt\n",
    "import numpy as np\n",
    "\n",
    "\n",
    "import os\n",
    "import json\n",
    "\n",
    "from rnn_utils import DiagnosesDataset, split_dataset, MYCOLLATE\n",
    "from rnn_utils import train_one_epoch, eval_model\n",
    "from Logits2Predictions import Logits2Predictions\n",
    "\n",
    "from mourga_variational.variational_rnn import VariationalRNN\n",
    "\n",
    "import torch\n",
    "from torch.utils.data import Dataset, DataLoader, random_split\n",
    "from torch import nn\n",
    "from torch.nn.utils.rnn import pack_padded_sequence, pad_packed_sequence, pad_sequence, pack_sequence\n",
    "\n",
    "import numpy as np\n",
    "import pandas as pd\n",
    "from sklearn.metrics import roc_auc_score\n",
    "\n",
    "idx = pd.IndexSlice\n",
    "\n",
    "from config import Settings; settings = Settings()\n",
    "\n",
    "# display all outputs\n",
    "from IPython.core.interactiveshell import InteractiveShell\n",
    "InteractiveShell.ast_node_interactivity = \"all\""
   ]
  },
  {
   "cell_type": "markdown",
   "id": "b4a2c913-fb32-4ab4-a969-f6493d2a1624",
   "metadata": {},
   "source": [
    "# Parameters"
   ]
  },
  {
   "cell_type": "code",
   "execution_count": 2,
   "id": "a0d29834-11f9-4934-bf78-04fa04457f89",
   "metadata": {},
   "outputs": [],
   "source": [
    "experiment_id = 'A'\n",
    "\n",
    "experiment_folder = os.path.join(settings.data_base,settings.variational_data_folder,experiment_id)\n",
    "assert os.path.exists(experiment_folder),f'Experiment {experiment_id} data doesn\\'t exist. You can create it with <CreateVariationalOutputs.ipynb>'"
   ]
  },
  {
   "cell_type": "markdown",
   "id": "93c301e5-d567-4c29-af69-af482f6439ec",
   "metadata": {},
   "source": [
    "## Read outputs"
   ]
  },
  {
   "cell_type": "code",
   "execution_count": 3,
   "id": "378666b8-1535-4a6b-a44f-2034a10f8be1",
   "metadata": {},
   "outputs": [
    {
     "data": {
      "text/html": [
       "<div>\n",
       "<style scoped>\n",
       "    .dataframe tbody tr th:only-of-type {\n",
       "        vertical-align: middle;\n",
       "    }\n",
       "\n",
       "    .dataframe tbody tr th {\n",
       "        vertical-align: top;\n",
       "    }\n",
       "\n",
       "    .dataframe thead th {\n",
       "        text-align: right;\n",
       "    }\n",
       "</style>\n",
       "<table border=\"1\" class=\"dataframe\">\n",
       "  <thead>\n",
       "    <tr style=\"text-align: right;\">\n",
       "      <th></th>\n",
       "      <th></th>\n",
       "      <th></th>\n",
       "      <th>diag_0</th>\n",
       "      <th>diag_1</th>\n",
       "      <th>diag_2</th>\n",
       "      <th>diag_3</th>\n",
       "      <th>diag_4</th>\n",
       "      <th>diag_5</th>\n",
       "      <th>diag_6</th>\n",
       "      <th>diag_7</th>\n",
       "      <th>diag_8</th>\n",
       "      <th>diag_9</th>\n",
       "      <th>...</th>\n",
       "      <th>diag_262</th>\n",
       "      <th>diag_263</th>\n",
       "      <th>diag_264</th>\n",
       "      <th>diag_265</th>\n",
       "      <th>diag_266</th>\n",
       "      <th>diag_267</th>\n",
       "      <th>diag_268</th>\n",
       "      <th>diag_269</th>\n",
       "      <th>diag_270</th>\n",
       "      <th>diag_271</th>\n",
       "    </tr>\n",
       "    <tr>\n",
       "      <th>pat_id</th>\n",
       "      <th>adm_index</th>\n",
       "      <th>npass</th>\n",
       "      <th></th>\n",
       "      <th></th>\n",
       "      <th></th>\n",
       "      <th></th>\n",
       "      <th></th>\n",
       "      <th></th>\n",
       "      <th></th>\n",
       "      <th></th>\n",
       "      <th></th>\n",
       "      <th></th>\n",
       "      <th></th>\n",
       "      <th></th>\n",
       "      <th></th>\n",
       "      <th></th>\n",
       "      <th></th>\n",
       "      <th></th>\n",
       "      <th></th>\n",
       "      <th></th>\n",
       "      <th></th>\n",
       "      <th></th>\n",
       "      <th></th>\n",
       "    </tr>\n",
       "  </thead>\n",
       "  <tbody>\n",
       "    <tr>\n",
       "      <th rowspan=\"2\" valign=\"top\">21</th>\n",
       "      <th rowspan=\"2\" valign=\"top\">1</th>\n",
       "      <th>1</th>\n",
       "      <td>0.001646</td>\n",
       "      <td>0.219600</td>\n",
       "      <td>0.087425</td>\n",
       "      <td>0.084163</td>\n",
       "      <td>0.026606</td>\n",
       "      <td>0.029044</td>\n",
       "      <td>0.006477</td>\n",
       "      <td>0.005765</td>\n",
       "      <td>0.000793</td>\n",
       "      <td>0.014757</td>\n",
       "      <td>...</td>\n",
       "      <td>0.000132</td>\n",
       "      <td>0.003995</td>\n",
       "      <td>0.000508</td>\n",
       "      <td>0.002002</td>\n",
       "      <td>0.046862</td>\n",
       "      <td>0.086731</td>\n",
       "      <td>0.001672</td>\n",
       "      <td>0.000341</td>\n",
       "      <td>0.001392</td>\n",
       "      <td>0.023608</td>\n",
       "    </tr>\n",
       "    <tr>\n",
       "      <th>2</th>\n",
       "      <td>0.001627</td>\n",
       "      <td>0.241448</td>\n",
       "      <td>0.127487</td>\n",
       "      <td>0.038899</td>\n",
       "      <td>0.002566</td>\n",
       "      <td>0.016236</td>\n",
       "      <td>0.004588</td>\n",
       "      <td>0.016988</td>\n",
       "      <td>0.000358</td>\n",
       "      <td>0.010856</td>\n",
       "      <td>...</td>\n",
       "      <td>0.000055</td>\n",
       "      <td>0.002041</td>\n",
       "      <td>0.000502</td>\n",
       "      <td>0.004578</td>\n",
       "      <td>0.077088</td>\n",
       "      <td>0.094556</td>\n",
       "      <td>0.001430</td>\n",
       "      <td>0.000183</td>\n",
       "      <td>0.001322</td>\n",
       "      <td>0.017402</td>\n",
       "    </tr>\n",
       "  </tbody>\n",
       "</table>\n",
       "<p>2 rows × 272 columns</p>\n",
       "</div>"
      ],
      "text/plain": [
       "                          diag_0    diag_1    diag_2    diag_3    diag_4  \\\n",
       "pat_id adm_index npass                                                     \n",
       "21     1         1      0.001646  0.219600  0.087425  0.084163  0.026606   \n",
       "                 2      0.001627  0.241448  0.127487  0.038899  0.002566   \n",
       "\n",
       "                          diag_5    diag_6    diag_7    diag_8    diag_9  ...  \\\n",
       "pat_id adm_index npass                                                    ...   \n",
       "21     1         1      0.029044  0.006477  0.005765  0.000793  0.014757  ...   \n",
       "                 2      0.016236  0.004588  0.016988  0.000358  0.010856  ...   \n",
       "\n",
       "                        diag_262  diag_263  diag_264  diag_265  diag_266  \\\n",
       "pat_id adm_index npass                                                     \n",
       "21     1         1      0.000132  0.003995  0.000508  0.002002  0.046862   \n",
       "                 2      0.000055  0.002041  0.000502  0.004578  0.077088   \n",
       "\n",
       "                        diag_267  diag_268  diag_269  diag_270  diag_271  \n",
       "pat_id adm_index npass                                                    \n",
       "21     1         1      0.086731  0.001672  0.000341  0.001392  0.023608  \n",
       "                 2      0.094556  0.001430  0.000183  0.001322  0.017402  \n",
       "\n",
       "[2 rows x 272 columns]"
      ]
     },
     "execution_count": 3,
     "metadata": {},
     "output_type": "execute_result"
    },
    {
     "data": {
      "text/plain": [
       "(58290, 272)"
      ]
     },
     "execution_count": 3,
     "metadata": {},
     "output_type": "execute_result"
    },
    {
     "data": {
      "text/html": [
       "<div>\n",
       "<style scoped>\n",
       "    .dataframe tbody tr th:only-of-type {\n",
       "        vertical-align: middle;\n",
       "    }\n",
       "\n",
       "    .dataframe tbody tr th {\n",
       "        vertical-align: top;\n",
       "    }\n",
       "\n",
       "    .dataframe thead th {\n",
       "        text-align: right;\n",
       "    }\n",
       "</style>\n",
       "<table border=\"1\" class=\"dataframe\">\n",
       "  <thead>\n",
       "    <tr style=\"text-align: right;\">\n",
       "      <th></th>\n",
       "      <th></th>\n",
       "      <th>diag_0</th>\n",
       "      <th>diag_1</th>\n",
       "      <th>diag_2</th>\n",
       "      <th>diag_3</th>\n",
       "      <th>diag_4</th>\n",
       "      <th>diag_5</th>\n",
       "      <th>diag_6</th>\n",
       "      <th>diag_7</th>\n",
       "      <th>diag_8</th>\n",
       "      <th>diag_9</th>\n",
       "      <th>...</th>\n",
       "      <th>diag_262</th>\n",
       "      <th>diag_263</th>\n",
       "      <th>diag_264</th>\n",
       "      <th>diag_265</th>\n",
       "      <th>diag_266</th>\n",
       "      <th>diag_267</th>\n",
       "      <th>diag_268</th>\n",
       "      <th>diag_269</th>\n",
       "      <th>diag_270</th>\n",
       "      <th>diag_271</th>\n",
       "    </tr>\n",
       "    <tr>\n",
       "      <th>pat_id</th>\n",
       "      <th>adm_index</th>\n",
       "      <th></th>\n",
       "      <th></th>\n",
       "      <th></th>\n",
       "      <th></th>\n",
       "      <th></th>\n",
       "      <th></th>\n",
       "      <th></th>\n",
       "      <th></th>\n",
       "      <th></th>\n",
       "      <th></th>\n",
       "      <th></th>\n",
       "      <th></th>\n",
       "      <th></th>\n",
       "      <th></th>\n",
       "      <th></th>\n",
       "      <th></th>\n",
       "      <th></th>\n",
       "      <th></th>\n",
       "      <th></th>\n",
       "      <th></th>\n",
       "      <th></th>\n",
       "    </tr>\n",
       "  </thead>\n",
       "  <tbody>\n",
       "    <tr>\n",
       "      <th>21</th>\n",
       "      <th>1</th>\n",
       "      <td>0.005465</td>\n",
       "      <td>0.281523</td>\n",
       "      <td>0.145583</td>\n",
       "      <td>0.050645</td>\n",
       "      <td>0.005677</td>\n",
       "      <td>0.007363</td>\n",
       "      <td>0.008749</td>\n",
       "      <td>0.007137</td>\n",
       "      <td>0.000349</td>\n",
       "      <td>0.012388</td>\n",
       "      <td>...</td>\n",
       "      <td>0.000104</td>\n",
       "      <td>0.003191</td>\n",
       "      <td>0.000439</td>\n",
       "      <td>0.010623</td>\n",
       "      <td>0.082972</td>\n",
       "      <td>0.117599</td>\n",
       "      <td>0.001562</td>\n",
       "      <td>0.000729</td>\n",
       "      <td>0.002455</td>\n",
       "      <td>0.027174</td>\n",
       "    </tr>\n",
       "    <tr>\n",
       "      <th>23</th>\n",
       "      <th>1</th>\n",
       "      <td>0.002017</td>\n",
       "      <td>0.127589</td>\n",
       "      <td>0.118386</td>\n",
       "      <td>0.019256</td>\n",
       "      <td>0.000759</td>\n",
       "      <td>0.001934</td>\n",
       "      <td>0.023269</td>\n",
       "      <td>0.003224</td>\n",
       "      <td>0.000435</td>\n",
       "      <td>0.013632</td>\n",
       "      <td>...</td>\n",
       "      <td>0.000307</td>\n",
       "      <td>0.000991</td>\n",
       "      <td>0.000544</td>\n",
       "      <td>0.005259</td>\n",
       "      <td>0.105743</td>\n",
       "      <td>0.056455</td>\n",
       "      <td>0.001037</td>\n",
       "      <td>0.000765</td>\n",
       "      <td>0.006583</td>\n",
       "      <td>0.019564</td>\n",
       "    </tr>\n",
       "  </tbody>\n",
       "</table>\n",
       "<p>2 rows × 272 columns</p>\n",
       "</div>"
      ],
      "text/plain": [
       "                    diag_0    diag_1    diag_2    diag_3    diag_4    diag_5  \\\n",
       "pat_id adm_index                                                               \n",
       "21     1          0.005465  0.281523  0.145583  0.050645  0.005677  0.007363   \n",
       "23     1          0.002017  0.127589  0.118386  0.019256  0.000759  0.001934   \n",
       "\n",
       "                    diag_6    diag_7    diag_8    diag_9  ...  diag_262  \\\n",
       "pat_id adm_index                                          ...             \n",
       "21     1          0.008749  0.007137  0.000349  0.012388  ...  0.000104   \n",
       "23     1          0.023269  0.003224  0.000435  0.013632  ...  0.000307   \n",
       "\n",
       "                  diag_263  diag_264  diag_265  diag_266  diag_267  diag_268  \\\n",
       "pat_id adm_index                                                               \n",
       "21     1          0.003191  0.000439  0.010623  0.082972  0.117599  0.001562   \n",
       "23     1          0.000991  0.000544  0.005259  0.105743  0.056455  0.001037   \n",
       "\n",
       "                  diag_269  diag_270  diag_271  \n",
       "pat_id adm_index                                \n",
       "21     1          0.000729  0.002455  0.027174  \n",
       "23     1          0.000765  0.006583  0.019564  \n",
       "\n",
       "[2 rows x 272 columns]"
      ]
     },
     "execution_count": 3,
     "metadata": {},
     "output_type": "execute_result"
    },
    {
     "data": {
      "text/plain": [
       "(1943, 272)"
      ]
     },
     "execution_count": 3,
     "metadata": {},
     "output_type": "execute_result"
    },
    {
     "data": {
      "text/html": [
       "<div>\n",
       "<style scoped>\n",
       "    .dataframe tbody tr th:only-of-type {\n",
       "        vertical-align: middle;\n",
       "    }\n",
       "\n",
       "    .dataframe tbody tr th {\n",
       "        vertical-align: top;\n",
       "    }\n",
       "\n",
       "    .dataframe thead th {\n",
       "        text-align: right;\n",
       "    }\n",
       "</style>\n",
       "<table border=\"1\" class=\"dataframe\">\n",
       "  <thead>\n",
       "    <tr style=\"text-align: right;\">\n",
       "      <th></th>\n",
       "      <th></th>\n",
       "      <th>diag_0</th>\n",
       "      <th>diag_1</th>\n",
       "      <th>diag_2</th>\n",
       "      <th>diag_3</th>\n",
       "      <th>diag_4</th>\n",
       "      <th>diag_5</th>\n",
       "      <th>diag_6</th>\n",
       "      <th>diag_7</th>\n",
       "      <th>diag_8</th>\n",
       "      <th>diag_9</th>\n",
       "      <th>...</th>\n",
       "      <th>diag_262</th>\n",
       "      <th>diag_263</th>\n",
       "      <th>diag_264</th>\n",
       "      <th>diag_265</th>\n",
       "      <th>diag_266</th>\n",
       "      <th>diag_267</th>\n",
       "      <th>diag_268</th>\n",
       "      <th>diag_269</th>\n",
       "      <th>diag_270</th>\n",
       "      <th>diag_271</th>\n",
       "    </tr>\n",
       "    <tr>\n",
       "      <th>pat_id</th>\n",
       "      <th>adm_index</th>\n",
       "      <th></th>\n",
       "      <th></th>\n",
       "      <th></th>\n",
       "      <th></th>\n",
       "      <th></th>\n",
       "      <th></th>\n",
       "      <th></th>\n",
       "      <th></th>\n",
       "      <th></th>\n",
       "      <th></th>\n",
       "      <th></th>\n",
       "      <th></th>\n",
       "      <th></th>\n",
       "      <th></th>\n",
       "      <th></th>\n",
       "      <th></th>\n",
       "      <th></th>\n",
       "      <th></th>\n",
       "      <th></th>\n",
       "      <th></th>\n",
       "      <th></th>\n",
       "    </tr>\n",
       "  </thead>\n",
       "  <tbody>\n",
       "    <tr>\n",
       "      <th>21</th>\n",
       "      <th>1</th>\n",
       "      <td>0.0</td>\n",
       "      <td>1.0</td>\n",
       "      <td>1.0</td>\n",
       "      <td>0.0</td>\n",
       "      <td>0.0</td>\n",
       "      <td>0.0</td>\n",
       "      <td>0.0</td>\n",
       "      <td>0.0</td>\n",
       "      <td>0.0</td>\n",
       "      <td>0.0</td>\n",
       "      <td>...</td>\n",
       "      <td>0.0</td>\n",
       "      <td>0.0</td>\n",
       "      <td>0.0</td>\n",
       "      <td>0.0</td>\n",
       "      <td>1.0</td>\n",
       "      <td>0.0</td>\n",
       "      <td>0.0</td>\n",
       "      <td>0.0</td>\n",
       "      <td>0.0</td>\n",
       "      <td>0.0</td>\n",
       "    </tr>\n",
       "    <tr>\n",
       "      <th>23</th>\n",
       "      <th>1</th>\n",
       "      <td>0.0</td>\n",
       "      <td>0.0</td>\n",
       "      <td>0.0</td>\n",
       "      <td>0.0</td>\n",
       "      <td>0.0</td>\n",
       "      <td>0.0</td>\n",
       "      <td>0.0</td>\n",
       "      <td>0.0</td>\n",
       "      <td>0.0</td>\n",
       "      <td>0.0</td>\n",
       "      <td>...</td>\n",
       "      <td>0.0</td>\n",
       "      <td>0.0</td>\n",
       "      <td>0.0</td>\n",
       "      <td>0.0</td>\n",
       "      <td>0.0</td>\n",
       "      <td>0.0</td>\n",
       "      <td>0.0</td>\n",
       "      <td>0.0</td>\n",
       "      <td>0.0</td>\n",
       "      <td>0.0</td>\n",
       "    </tr>\n",
       "  </tbody>\n",
       "</table>\n",
       "<p>2 rows × 272 columns</p>\n",
       "</div>"
      ],
      "text/plain": [
       "                  diag_0  diag_1  diag_2  diag_3  diag_4  diag_5  diag_6  \\\n",
       "pat_id adm_index                                                           \n",
       "21     1             0.0     1.0     1.0     0.0     0.0     0.0     0.0   \n",
       "23     1             0.0     0.0     0.0     0.0     0.0     0.0     0.0   \n",
       "\n",
       "                  diag_7  diag_8  diag_9  ...  diag_262  diag_263  diag_264  \\\n",
       "pat_id adm_index                          ...                                 \n",
       "21     1             0.0     0.0     0.0  ...       0.0       0.0       0.0   \n",
       "23     1             0.0     0.0     0.0  ...       0.0       0.0       0.0   \n",
       "\n",
       "                  diag_265  diag_266  diag_267  diag_268  diag_269  diag_270  \\\n",
       "pat_id adm_index                                                               \n",
       "21     1               0.0       1.0       0.0       0.0       0.0       0.0   \n",
       "23     1               0.0       0.0       0.0       0.0       0.0       0.0   \n",
       "\n",
       "                  diag_271  \n",
       "pat_id adm_index            \n",
       "21     1               0.0  \n",
       "23     1               0.0  \n",
       "\n",
       "[2 rows x 272 columns]"
      ]
     },
     "execution_count": 3,
     "metadata": {},
     "output_type": "execute_result"
    },
    {
     "data": {
      "text/plain": [
       "(1943, 272)"
      ]
     },
     "execution_count": 3,
     "metadata": {},
     "output_type": "execute_result"
    }
   ],
   "source": [
    "var_path = os.path.join(experiment_folder,'variational_forward.csv')\n",
    "det_path = os.path.join(experiment_folder,'deterministic_forward.csv')\n",
    "golden_path = os.path.join(experiment_folder,'golden.csv')\n",
    "\n",
    "df_var = pd.read_csv(var_path,index_col=[0,1,2])\n",
    "df_det = pd.read_csv(det_path,index_col=[0,1])\n",
    "df_golden = pd.read_csv(golden_path,index_col=[0,1])\n",
    "\n",
    "df_var.head(2)\n",
    "df_var.shape\n",
    "\n",
    "df_det.head(2)\n",
    "df_det.shape\n",
    "\n",
    "df_golden.head(2)\n",
    "df_golden.shape"
   ]
  },
  {
   "cell_type": "markdown",
   "id": "55b4a4ad-1d8c-45f1-8ed1-0bc85fc32636",
   "metadata": {},
   "source": [
    "# get predictions"
   ]
  },
  {
   "cell_type": "code",
   "execution_count": 25,
   "id": "14f1014a-ed59-49d9-b8e6-ba38cbe05d7d",
   "metadata": {},
   "outputs": [],
   "source": [
    "df_var_predictions = df_var.groupby(['pat_id','adm_index']).mean()"
   ]
  },
  {
   "cell_type": "code",
   "execution_count": 26,
   "id": "4b4937fa-ebbd-4670-97eb-2e7bf8f0cd84",
   "metadata": {},
   "outputs": [
    {
     "data": {
      "text/html": [
       "<div>\n",
       "<style scoped>\n",
       "    .dataframe tbody tr th:only-of-type {\n",
       "        vertical-align: middle;\n",
       "    }\n",
       "\n",
       "    .dataframe tbody tr th {\n",
       "        vertical-align: top;\n",
       "    }\n",
       "\n",
       "    .dataframe thead th {\n",
       "        text-align: right;\n",
       "    }\n",
       "</style>\n",
       "<table border=\"1\" class=\"dataframe\">\n",
       "  <thead>\n",
       "    <tr style=\"text-align: right;\">\n",
       "      <th></th>\n",
       "      <th>threshold</th>\n",
       "      <th>gmean (roc)</th>\n",
       "    </tr>\n",
       "  </thead>\n",
       "  <tbody>\n",
       "    <tr>\n",
       "      <th>diag_0</th>\n",
       "      <td>0.001976</td>\n",
       "      <td>0.768232</td>\n",
       "    </tr>\n",
       "    <tr>\n",
       "      <th>diag_1</th>\n",
       "      <td>0.188345</td>\n",
       "      <td>0.641276</td>\n",
       "    </tr>\n",
       "    <tr>\n",
       "      <th>diag_2</th>\n",
       "      <td>0.129781</td>\n",
       "      <td>0.586007</td>\n",
       "    </tr>\n",
       "    <tr>\n",
       "      <th>diag_3</th>\n",
       "      <td>0.050180</td>\n",
       "      <td>0.633603</td>\n",
       "    </tr>\n",
       "    <tr>\n",
       "      <th>diag_4</th>\n",
       "      <td>0.340341</td>\n",
       "      <td>0.999215</td>\n",
       "    </tr>\n",
       "    <tr>\n",
       "      <th>...</th>\n",
       "      <td>...</td>\n",
       "      <td>...</td>\n",
       "    </tr>\n",
       "    <tr>\n",
       "      <th>diag_267</th>\n",
       "      <td>0.101361</td>\n",
       "      <td>0.585618</td>\n",
       "    </tr>\n",
       "    <tr>\n",
       "      <th>diag_268</th>\n",
       "      <td>0.009143</td>\n",
       "      <td>0.738998</td>\n",
       "    </tr>\n",
       "    <tr>\n",
       "      <th>diag_269</th>\n",
       "      <td>0.001331</td>\n",
       "      <td>0.736549</td>\n",
       "    </tr>\n",
       "    <tr>\n",
       "      <th>diag_270</th>\n",
       "      <td>0.004743</td>\n",
       "      <td>0.603884</td>\n",
       "    </tr>\n",
       "    <tr>\n",
       "      <th>diag_271</th>\n",
       "      <td>0.025730</td>\n",
       "      <td>0.516265</td>\n",
       "    </tr>\n",
       "  </tbody>\n",
       "</table>\n",
       "<p>272 rows × 2 columns</p>\n",
       "</div>"
      ],
      "text/plain": [
       "          threshold  gmean (roc)\n",
       "diag_0     0.001976     0.768232\n",
       "diag_1     0.188345     0.641276\n",
       "diag_2     0.129781     0.586007\n",
       "diag_3     0.050180     0.633603\n",
       "diag_4     0.340341     0.999215\n",
       "...             ...          ...\n",
       "diag_267   0.101361     0.585618\n",
       "diag_268   0.009143     0.738998\n",
       "diag_269   0.001331     0.736549\n",
       "diag_270   0.004743     0.603884\n",
       "diag_271   0.025730     0.516265\n",
       "\n",
       "[272 rows x 2 columns]"
      ]
     },
     "execution_count": 26,
     "metadata": {},
     "output_type": "execute_result"
    }
   ],
   "source": [
    "from sklearn.metrics import roc_curve\n",
    "import warnings\n",
    "\n",
    "def get_prediction_thresholds(prediction_data : pd.DataFrame, golden_data : pd.DataFrame, method='roc gm'):\n",
    "    \n",
    "    thresholds_data = None\n",
    "    for diag in prediction_data.filter(like='diag_').columns:\n",
    "        testy = golden_data.loc[:,diag].to_numpy().reshape((-1,1))\n",
    "        yhat = prediction_data.loc[:,diag].to_numpy().reshape((-1,1))\n",
    "\n",
    "        with warnings.catch_warnings():\n",
    "            warnings.filterwarnings(\"ignore\", message=\"No positive samples in y_true, true positive value should be meaningless\")\n",
    "            fpr, tpr, thresholds = roc_curve(testy, yhat);\n",
    "\n",
    "        #geometric mean between sensitivity and specificity\n",
    "        gmeans = np.sqrt(tpr * (1-fpr))\n",
    "\n",
    "        # locate the index of the largest g-mean\n",
    "        ix = np.argmax(gmeans)\n",
    "\n",
    "        threshold = pd.DataFrame(data=[[thresholds[ix],gmeans[ix]]],columns=['threshold','gmean (roc)'],index=[diag])\n",
    "\n",
    "        if thresholds_data is None:\n",
    "            thresholds_data = threshold\n",
    "        else:\n",
    "            thresholds_data = pd.concat([thresholds_data,threshold])\n",
    "    return thresholds_data\n",
    "\n",
    "thresholds = get_prediction_thresholds(df_var_predictions,df_golden)\n",
    "thresholds"
   ]
  },
  {
   "cell_type": "code",
   "execution_count": 27,
   "id": "90f7e7d0-200f-4a34-856a-994e3a1e14de",
   "metadata": {},
   "outputs": [
    {
     "data": {
      "text/html": [
       "<div>\n",
       "<style scoped>\n",
       "    .dataframe tbody tr th:only-of-type {\n",
       "        vertical-align: middle;\n",
       "    }\n",
       "\n",
       "    .dataframe tbody tr th {\n",
       "        vertical-align: top;\n",
       "    }\n",
       "\n",
       "    .dataframe thead th {\n",
       "        text-align: right;\n",
       "    }\n",
       "</style>\n",
       "<table border=\"1\" class=\"dataframe\">\n",
       "  <thead>\n",
       "    <tr style=\"text-align: right;\">\n",
       "      <th></th>\n",
       "      <th></th>\n",
       "      <th>diag_0</th>\n",
       "      <th>diag_1</th>\n",
       "      <th>diag_2</th>\n",
       "      <th>diag_3</th>\n",
       "      <th>diag_4</th>\n",
       "      <th>diag_5</th>\n",
       "      <th>diag_6</th>\n",
       "      <th>diag_7</th>\n",
       "      <th>diag_8</th>\n",
       "      <th>diag_9</th>\n",
       "      <th>...</th>\n",
       "      <th>diag_262</th>\n",
       "      <th>diag_263</th>\n",
       "      <th>diag_264</th>\n",
       "      <th>diag_265</th>\n",
       "      <th>diag_266</th>\n",
       "      <th>diag_267</th>\n",
       "      <th>diag_268</th>\n",
       "      <th>diag_269</th>\n",
       "      <th>diag_270</th>\n",
       "      <th>diag_271</th>\n",
       "    </tr>\n",
       "    <tr>\n",
       "      <th>pat_id</th>\n",
       "      <th>adm_index</th>\n",
       "      <th></th>\n",
       "      <th></th>\n",
       "      <th></th>\n",
       "      <th></th>\n",
       "      <th></th>\n",
       "      <th></th>\n",
       "      <th></th>\n",
       "      <th></th>\n",
       "      <th></th>\n",
       "      <th></th>\n",
       "      <th></th>\n",
       "      <th></th>\n",
       "      <th></th>\n",
       "      <th></th>\n",
       "      <th></th>\n",
       "      <th></th>\n",
       "      <th></th>\n",
       "      <th></th>\n",
       "      <th></th>\n",
       "      <th></th>\n",
       "      <th></th>\n",
       "    </tr>\n",
       "  </thead>\n",
       "  <tbody>\n",
       "    <tr>\n",
       "      <th>21</th>\n",
       "      <th>1</th>\n",
       "      <td>1</td>\n",
       "      <td>1</td>\n",
       "      <td>0</td>\n",
       "      <td>1</td>\n",
       "      <td>0</td>\n",
       "      <td>0</td>\n",
       "      <td>0</td>\n",
       "      <td>0</td>\n",
       "      <td>1</td>\n",
       "      <td>0</td>\n",
       "      <td>...</td>\n",
       "      <td>0</td>\n",
       "      <td>0</td>\n",
       "      <td>0</td>\n",
       "      <td>0</td>\n",
       "      <td>0</td>\n",
       "      <td>1</td>\n",
       "      <td>0</td>\n",
       "      <td>0</td>\n",
       "      <td>0</td>\n",
       "      <td>0</td>\n",
       "    </tr>\n",
       "    <tr>\n",
       "      <th>23</th>\n",
       "      <th>1</th>\n",
       "      <td>0</td>\n",
       "      <td>0</td>\n",
       "      <td>0</td>\n",
       "      <td>0</td>\n",
       "      <td>0</td>\n",
       "      <td>0</td>\n",
       "      <td>1</td>\n",
       "      <td>0</td>\n",
       "      <td>1</td>\n",
       "      <td>0</td>\n",
       "      <td>...</td>\n",
       "      <td>1</td>\n",
       "      <td>0</td>\n",
       "      <td>0</td>\n",
       "      <td>0</td>\n",
       "      <td>0</td>\n",
       "      <td>0</td>\n",
       "      <td>0</td>\n",
       "      <td>0</td>\n",
       "      <td>1</td>\n",
       "      <td>0</td>\n",
       "    </tr>\n",
       "    <tr>\n",
       "      <th>61</th>\n",
       "      <th>1</th>\n",
       "      <td>1</td>\n",
       "      <td>1</td>\n",
       "      <td>0</td>\n",
       "      <td>1</td>\n",
       "      <td>0</td>\n",
       "      <td>0</td>\n",
       "      <td>1</td>\n",
       "      <td>1</td>\n",
       "      <td>1</td>\n",
       "      <td>1</td>\n",
       "      <td>...</td>\n",
       "      <td>1</td>\n",
       "      <td>0</td>\n",
       "      <td>0</td>\n",
       "      <td>1</td>\n",
       "      <td>1</td>\n",
       "      <td>1</td>\n",
       "      <td>0</td>\n",
       "      <td>1</td>\n",
       "      <td>0</td>\n",
       "      <td>1</td>\n",
       "    </tr>\n",
       "  </tbody>\n",
       "</table>\n",
       "<p>3 rows × 272 columns</p>\n",
       "</div>"
      ],
      "text/plain": [
       "                  diag_0  diag_1  diag_2  diag_3  diag_4  diag_5  diag_6  \\\n",
       "pat_id adm_index                                                           \n",
       "21     1               1       1       0       1       0       0       0   \n",
       "23     1               0       0       0       0       0       0       1   \n",
       "61     1               1       1       0       1       0       0       1   \n",
       "\n",
       "                  diag_7  diag_8  diag_9  ...  diag_262  diag_263  diag_264  \\\n",
       "pat_id adm_index                          ...                                 \n",
       "21     1               0       1       0  ...         0         0         0   \n",
       "23     1               0       1       0  ...         1         0         0   \n",
       "61     1               1       1       1  ...         1         0         0   \n",
       "\n",
       "                  diag_265  diag_266  diag_267  diag_268  diag_269  diag_270  \\\n",
       "pat_id adm_index                                                               \n",
       "21     1                 0         0         1         0         0         0   \n",
       "23     1                 0         0         0         0         0         1   \n",
       "61     1                 1         1         1         0         1         0   \n",
       "\n",
       "                  diag_271  \n",
       "pat_id adm_index            \n",
       "21     1                 0  \n",
       "23     1                 0  \n",
       "61     1                 1  \n",
       "\n",
       "[3 rows x 272 columns]"
      ]
     },
     "execution_count": 27,
     "metadata": {},
     "output_type": "execute_result"
    }
   ],
   "source": [
    "def predict(predictions: pd.Series, threshold : float):\n",
    "    return predictions.apply(lambda x: 1 if x > threshold else 0)\n",
    "\n",
    "predictions = df_var_predictions.apply(lambda x: predict(x,thresholds.loc[x.name,'threshold']),axis=0)\n",
    "\n",
    "predictions.head(3)"
   ]
  },
  {
   "cell_type": "markdown",
   "id": "c3991c75-ad5f-4960-afec-044d500d3dff",
   "metadata": {},
   "source": [
    "# Reliability diagram"
   ]
  },
  {
   "cell_type": "code",
   "execution_count": 28,
   "id": "65203c75-1999-44b8-bff7-565e88cb1adc",
   "metadata": {},
   "outputs": [],
   "source": [
    "diag = 'diag_88'\n",
    "diagnostic_preds = predictions.loc[:,diag]\n",
    "diagnostic_logits = df_var_predictions.loc[:,diag]\n",
    "diagnostic_goldens = df_golden.loc[:,diag]"
   ]
  },
  {
   "cell_type": "code",
   "execution_count": 32,
   "id": "73337a88-c6e0-4f67-8dfd-f4991dd90921",
   "metadata": {},
   "outputs": [],
   "source": [
    "output_probabilities = (diagnostic_logits\n",
    "                     .copy()\n",
    "                     .to_frame('positive_class')\n",
    "                     .assign(negative_class=lambda x: 1-x.positive_class)\n",
    "                    )[['negative_class','positive_class']]\n",
    "\n",
    "#predictions = np.argmax(output_probabilities.to_numpy(),axis=1)\n",
    "predictions = diagnostic_preds.to_numpy()\n",
    "#confidences = np.max(output_probabilities.to_numpy(),axis=1)\n",
    "confidences = output_probabilities.apply(lambda row: row.iloc[diagnostic_preds.loc[row.name]], axis=1)\n",
    "accuracies = predictions == diagnostic_goldens.to_numpy()\n",
    "\n",
    "nbins = 10\n",
    "bins = np.linspace(0,1,nbins+1)\n",
    "bins_left = bins[:-1]\n",
    "bins_right = bins[1:]\n",
    "\n",
    "acc_in_bin_list = list()\n",
    "for left,right in zip(bins_left,bins_right):\n",
    "    in_bin = (confidences > left) & (confidences < right)\n",
    "    prop_in_bin = in_bin.mean()\n",
    "    \n",
    "    if prop_in_bin > 0:\n",
    "        acc_in_bin_list.append(accuracies[in_bin].mean())\n",
    "    else:\n",
    "        acc_in_bin_list.append(0)\n"
   ]
  },
  {
   "cell_type": "code",
   "execution_count": 40,
   "id": "ac787b7d-03fd-4f75-b93d-e407bd105f94",
   "metadata": {},
   "outputs": [],
   "source": [
    "def plot_conf(acc, conf):\n",
    "    fig, ax = plt.subplots(1, 1, figsize=(2.5, 2.25))\n",
    "    ax.plot([0,1], [0,1], 'k--')\n",
    "    ax.plot(conf, acc, marker='.')\n",
    "    ax.set_xlabel(r'confidence')\n",
    "    ax.set_ylabel(r'accuracy')\n",
    "    ax.set_xticks((np.arange(0, 1.1, step=0.2)))\n",
    "    ax.set_yticks((np.arange(0, 1.1, step=0.2)))\n",
    "\n",
    "    return fig, ax"
   ]
  },
  {
   "cell_type": "code",
   "execution_count": 38,
   "id": "8230a0fd-ba02-4a73-8705-b5ff95d3bc25",
   "metadata": {},
   "outputs": [
    {
     "data": {
      "text/plain": [
       "array([0. , 0.1, 0.2, 0.3, 0.4, 0.5, 0.6, 0.7, 0.8, 0.9, 1. ])"
      ]
     },
     "execution_count": 38,
     "metadata": {},
     "output_type": "execute_result"
    }
   ],
   "source": [
    "bins"
   ]
  },
  {
   "cell_type": "code",
   "execution_count": 41,
   "id": "a3fc4e7d-5065-40a0-b863-0f2fa3d3593e",
   "metadata": {},
   "outputs": [
    {
     "data": {
      "text/plain": [
       "(<Figure size 180x162 with 1 Axes>,\n",
       " <AxesSubplot:xlabel='confidence', ylabel='accuracy'>)"
      ]
     },
     "execution_count": 41,
     "metadata": {},
     "output_type": "execute_result"
    },
    {
     "data": {
      "image/png": "[encoded data removed]",
      "text/plain": [
       "<Figure size 180x162 with 1 Axes>"
      ]
     },
     "metadata": {
      "needs_background": "light"
     },
     "output_type": "display_data"
    }
   ],
   "source": [
    "plot_conf(acc_in_bin_list, bins[1:])"
   ]
  },
  {
   "cell_type": "code",
   "execution_count": null,
   "id": "ead20fc7-36f3-4965-af6b-e22e52f3de83",
   "metadata": {},
   "outputs": [],
   "source": [
    "def acc_vs_conf():\n",
    "    "
   ]
  },
  {
   "cell_type": "code",
   "execution_count": 7,
   "id": "7f137106-6cc0-439a-9894-7402f3fb8353",
   "metadata": {},
   "outputs": [
    {
     "ename": "NameError",
     "evalue": "name 'UCE' is not defined",
     "output_type": "error",
     "traceback": [
      "\u001b[0;31m---------------------------------------------------------------------------\u001b[0m",
      "\u001b[0;31mNameError\u001b[0m                                 Traceback (most recent call last)",
      "\u001b[0;32m/tmp/ipykernel_1845878/615222725.py\u001b[0m in \u001b[0;36m<module>\u001b[0;34m\u001b[0m\n\u001b[1;32m      4\u001b[0m \u001b[0mdiagnostic_goldens\u001b[0m \u001b[0;34m=\u001b[0m \u001b[0mdf_golden\u001b[0m\u001b[0;34m.\u001b[0m\u001b[0mloc\u001b[0m\u001b[0;34m[\u001b[0m\u001b[0;34m:\u001b[0m\u001b[0;34m,\u001b[0m\u001b[0mdiag\u001b[0m\u001b[0;34m]\u001b[0m\u001b[0;34m\u001b[0m\u001b[0;34m\u001b[0m\u001b[0m\n\u001b[1;32m      5\u001b[0m \u001b[0mnbins\u001b[0m \u001b[0;34m=\u001b[0m \u001b[0;36m10\u001b[0m\u001b[0;34m\u001b[0m\u001b[0;34m\u001b[0m\u001b[0m\n\u001b[0;32m----> 6\u001b[0;31m \u001b[0muce\u001b[0m\u001b[0;34m,\u001b[0m \u001b[0mentropy_in_bin\u001b[0m\u001b[0;34m,\u001b[0m \u001b[0merrors_in_bin\u001b[0m \u001b[0;34m=\u001b[0m \u001b[0mUCE\u001b[0m\u001b[0;34m(\u001b[0m\u001b[0mdiagnostic_preds\u001b[0m\u001b[0;34m,\u001b[0m\u001b[0mdiagnostic_logits\u001b[0m\u001b[0;34m,\u001b[0m\u001b[0mdiagnostic_goldens\u001b[0m\u001b[0;34m,\u001b[0m\u001b[0mnbins\u001b[0m\u001b[0;34m=\u001b[0m\u001b[0mnbins\u001b[0m\u001b[0;34m)\u001b[0m\u001b[0;34m\u001b[0m\u001b[0;34m\u001b[0m\u001b[0m\n\u001b[0m",
      "\u001b[0;31mNameError\u001b[0m: name 'UCE' is not defined"
     ]
    }
   ],
   "source": [
    "diag = 'diag_88'\n",
    "diagnostic_preds = predictions.loc[:,diag]\n",
    "diagnostic_logits = df_var_predictions.loc[:,diag]\n",
    "diagnostic_goldens = df_golden.loc[:,diag]\n",
    "nbins = 10\n",
    "uce, entropy_in_bin, errors_in_bin = UCE(diagnostic_preds,diagnostic_logits,diagnostic_goldens,nbins=nbins)"
   ]
  },
  {
   "cell_type": "code",
   "execution_count": 32,
   "id": "dd9a27bd-608f-48de-9da4-bb6736058a3d",
   "metadata": {},
   "outputs": [
    {
     "data": {
      "text/plain": [
       "[0.017391304347826087,\n",
       " 0.025,\n",
       " 0.04145077720207254,\n",
       " 0.0962566844919786,\n",
       " 0.08994708994708994,\n",
       " 0.10576923076923077,\n",
       " 0.19402985074626866,\n",
       " 0.2191780821917808,\n",
       " 0.3481953290870488]"
      ]
     },
     "execution_count": 32,
     "metadata": {},
     "output_type": "execute_result"
    }
   ],
   "source": [
    "errors_in_bin"
   ]
  },
  {
   "cell_type": "code",
   "execution_count": 89,
   "id": "df478838-f9af-4893-93ea-f38b59353198",
   "metadata": {},
   "outputs": [],
   "source": [
    "def ECE(diagnostic_preds : pd.Series,diagnostic_logits: pd.Series, diagnostic_goldens : pd.Series, nbins:int = 11):\n",
    "    \"\"\"\n",
    "    Computes the Expected Uncertainty Calibration error for a batch of predictions of a single diagnosis.\n",
    "    \"\"\"\n",
    "    \n",
    "    # output distribution of sigmoid\n",
    "    output_probabilities = (diagnostic_logits\n",
    "                     .copy()\n",
    "                     .to_frame('positive_class')\n",
    "                     .assign(negative_class=lambda x: 1-x.positive_class)\n",
    "                    )\n",
    "    \n",
    "    bins = np.linspace(0,1,num=nbins)\n",
    "    idxbins = np.digitize(diagnostic_logits,bins,right=True)\n",
    "    \n",
    "    acc_list = list()\n",
    "    \n",
    "    for b in range(1,nbins):\n",
    "        mask = np.where(idxbins==b)[0]\n",
    "        if len(mask) == 0:\n",
    "            print(f'oops: {b}')\n",
    "        \n",
    "        acc = diagnostic_goldens.iloc[mask].mean()\n",
    "        acc_list.append(acc)\n",
    "    return {'acc_list':acc_list,'nbins':nbins,'idxbins':idxbins}\n",
    "\n",
    "\n",
    "\n",
    "diag = 'diag_88'\n",
    "diagnostic_preds = predictions.loc[:,diag]\n",
    "diagnostic_logits = df_var_predictions.loc[:,diag]\n",
    "diagnostic_goldens = df_golden.loc[:,diag]\n",
    "nbins = 10\n",
    "\n",
    "res = ECE(diagnostic_preds,diagnostic_logits,diagnostic_goldens)\n",
    "\n",
    "acc_list = res['acc_list']\n",
    "nbins=res['nbins']\n",
    "        "
   ]
  },
  {
   "cell_type": "code",
   "execution_count": 96,
   "id": "dc718ff1-bd51-4c1f-8b04-02a97c97703f",
   "metadata": {},
   "outputs": [
    {
     "data": {
      "text/plain": [
       "[0.04675716440422323,\n",
       " 0.1339031339031339,\n",
       " 0.23699421965317918,\n",
       " 0.392,\n",
       " 0.6639344262295082,\n",
       " 0.6761904761904762,\n",
       " 0.7925925925925926,\n",
       " 0.8467741935483871,\n",
       " 0.908256880733945,\n",
       " 0.8888888888888888]"
      ]
     },
     "execution_count": 96,
     "metadata": {},
     "output_type": "execute_result"
    }
   ],
   "source": [
    "acc_list"
   ]
  },
  {
   "cell_type": "code",
   "execution_count": 94,
   "id": "f87a5d1f-c023-4b08-80a1-c41d5fd246a2",
   "metadata": {},
   "outputs": [
    {
     "data": {
      "text/plain": [
       "<BarContainer object of 10 artists>"
      ]
     },
     "execution_count": 94,
     "metadata": {},
     "output_type": "execute_result"
    },
    {
     "data": {
      "image/png": "[encoded data removed]",
      "text/plain": [
       "<Figure size 432x288 with 1 Axes>"
      ]
     },
     "metadata": {
      "needs_background": "light"
     },
     "output_type": "display_data"
    }
   ],
   "source": [
    "plt.bar(bins[:-1],acc_list)"
   ]
  },
  {
   "cell_type": "code",
   "execution_count": null,
   "id": "270db165-6d96-4db4-b415-72394f2fd0a6",
   "metadata": {},
   "outputs": [],
   "source": []
  },
  {
   "cell_type": "code",
   "execution_count": 85,
   "id": "8e012368-31e8-449a-90e9-7f2c7d8ec2cf",
   "metadata": {},
   "outputs": [],
   "source": [
    "bins = np.linspace(0,1,num=11)\n",
    "idxbins = np.digitize(diagnostic_logits,bins,right=True)"
   ]
  },
  {
   "cell_type": "code",
   "execution_count": 88,
   "id": "3fb53dfb-c055-41ef-b7e0-c831f7884ff1",
   "metadata": {},
   "outputs": [
    {
     "data": {
      "text/plain": [
       "array([0. , 0.1, 0.2, 0.3, 0.4, 0.5, 0.6, 0.7, 0.8, 0.9, 1. ])"
      ]
     },
     "execution_count": 88,
     "metadata": {},
     "output_type": "execute_result"
    }
   ],
   "source": [
    "bins"
   ]
  },
  {
   "cell_type": "code",
   "execution_count": 64,
   "id": "d8b586e4-0037-457c-92bb-ae1b0cdddc1b",
   "metadata": {},
   "outputs": [
    {
     "ename": "AttributeError",
     "evalue": "'numpy.ndarray' object has no attribute 'nunique'",
     "output_type": "error",
     "traceback": [
      "\u001b[0;31m---------------------------------------------------------------------------\u001b[0m",
      "\u001b[0;31mAttributeError\u001b[0m                            Traceback (most recent call last)",
      "\u001b[0;32m/tmp/ipykernel_1837395/3977713317.py\u001b[0m in \u001b[0;36m<module>\u001b[0;34m\u001b[0m\n\u001b[0;32m----> 1\u001b[0;31m \u001b[0midxbins\u001b[0m\u001b[0;34m.\u001b[0m\u001b[0mnunique\u001b[0m\u001b[0;34m(\u001b[0m\u001b[0;34m)\u001b[0m\u001b[0;34m\u001b[0m\u001b[0;34m\u001b[0m\u001b[0m\n\u001b[0m",
      "\u001b[0;31mAttributeError\u001b[0m: 'numpy.ndarray' object has no attribute 'nunique'"
     ]
    }
   ],
   "source": [
    "idxbins.nunique()"
   ]
  },
  {
   "cell_type": "code",
   "execution_count": null,
   "id": "c8081766-cb42-480c-93d7-a40acb07cabc",
   "metadata": {},
   "outputs": [],
   "source": [
    "for b in range(1,bins+1)"
   ]
  },
  {
   "cell_type": "code",
   "execution_count": 61,
   "id": "08e56ee8-f422-4815-aa78-f115d4e1458b",
   "metadata": {},
   "outputs": [
    {
     "data": {
      "text/plain": [
       "1    715\n",
       "2    342\n",
       "3    169\n",
       "6    140\n",
       "4    137\n",
       "7    136\n",
       "8    131\n",
       "5    130\n",
       "9     43\n",
       "dtype: int64"
      ]
     },
     "execution_count": 61,
     "metadata": {},
     "output_type": "execute_result"
    }
   ],
   "source": [
    "pd.Series(idxbins).value_counts()"
   ]
  },
  {
   "cell_type": "code",
   "execution_count": 56,
   "id": "185b3672-09fb-4484-97b2-3a14b3d105c3",
   "metadata": {},
   "outputs": [
    {
     "data": {
      "text/plain": [
       "0.9786105793333333"
      ]
     },
     "execution_count": 56,
     "metadata": {},
     "output_type": "execute_result"
    }
   ],
   "source": [
    "diagnostic_logits.max()"
   ]
  },
  {
   "cell_type": "code",
   "execution_count": 54,
   "id": "a04f3d22-75d8-49b7-85f5-14c78be834e5",
   "metadata": {},
   "outputs": [
    {
     "data": {
      "text/plain": [
       "[0.9496503496503497,\n",
       " 0.8421052631578947,\n",
       " 0.7337278106508875,\n",
       " 0.45985401459854014,\n",
       " 0.6846153846153846,\n",
       " 0.7785714285714286,\n",
       " 0.8308823529411765,\n",
       " 0.8931297709923665,\n",
       " 0.9069767441860465,\n",
       " nan]"
      ]
     },
     "execution_count": 54,
     "metadata": {},
     "output_type": "execute_result"
    }
   ],
   "source": [
    "acc_list"
   ]
  },
  {
   "cell_type": "code",
   "execution_count": 51,
   "id": "fa7bdf39-8964-4c5e-b332-26b4e666f5e2",
   "metadata": {},
   "outputs": [
    {
     "data": {
      "text/plain": [
       "pat_id  adm_index\n",
       "21      1            1\n",
       "23      1            1\n",
       "61      1            0\n",
       "94      1            0\n",
       "105     1            0\n",
       "                    ..\n",
       "99383   3            0\n",
       "99650   1            1\n",
       "        2            1\n",
       "99756   1            0\n",
       "        2            0\n",
       "Name: diag_88, Length: 1943, dtype: int64"
      ]
     },
     "execution_count": 51,
     "metadata": {},
     "output_type": "execute_result"
    }
   ],
   "source": [
    "diagnostic_preds"
   ]
  },
  {
   "cell_type": "code",
   "execution_count": 50,
   "id": "c4b7d358-46b5-4065-8c79-1565ab278c30",
   "metadata": {},
   "outputs": [
    {
     "data": {
      "text/plain": [
       "pat_id  adm_index\n",
       "61      1            0.019892\n",
       "105     1            0.099739\n",
       "109     16           0.101904\n",
       "        24           0.087280\n",
       "        27           0.106498\n",
       "                       ...   \n",
       "98864   1            0.081643\n",
       "98930   1            0.090641\n",
       "99383   1            0.069421\n",
       "99756   1            0.047034\n",
       "        2            0.046286\n",
       "Name: diag_88, Length: 715, dtype: float64"
      ]
     },
     "execution_count": 50,
     "metadata": {},
     "output_type": "execute_result"
    }
   ],
   "source": [
    "diagnostic_logits.iloc[(res['idxbins'] == 1)]"
   ]
  },
  {
   "cell_type": "code",
   "execution_count": null,
   "id": "46a7ba4e-ffb5-454d-90fc-c24d14764b53",
   "metadata": {},
   "outputs": [],
   "source": [
    "def ECE(diagnostic_preds : pd.Series,diagnostic_logits: pd.Series, diagnostic_goldens : pd.Series, nbins:int = 10):\n",
    "    \"\"\"\n",
    "    Computes the Expected Uncertainty Calibration error for a batch of predictions of a single diagnosis.\n",
    "    \"\"\"\n",
    "    \n",
    "    # output distribution of sigmoid\n",
    "    output_probabilities = (diagnostic_logits\n",
    "                     .copy()\n",
    "                     .to_frame('positive_class')\n",
    "                     .assign(negative_class=lambda x: 1-x.positive_class)\n",
    "                    )\n",
    "    \n",
    "    errors = diagnostic_preds != diagnostic_goldens\n",
    "    acc\n",
    "    \n",
    "    ece = 0\n",
    "    avg_acc_in_bin_list = []\n",
    "    #errors_in_bin_list = []\n",
    "    \n",
    "    bins = np.linspace(0,1,num=nbins)\n",
    "    idxbins = np.digitize(entropies,bins,right=True)\n",
    "    for b in range(1,nbins+1):\n",
    "        idx = np.where(idxbins==b)[0]\n",
    "        \n",
    "        if len(idx) == 0:\n",
    "            # no uncertainties in this bin\n",
    "            continue\n",
    "            \n",
    "        errors_in_bin = errors.iloc[idx].mean()\n",
    "        avg_entropy_in_bin = entropies.iloc[idx].mean()\n",
    "        prop_in_bin = len(idx)/len(idxbins) # Bm / n\n",
    "        \n",
    "        uce += np.abs(avg_entropy_in_bin - errors_in_bin) * prop_in_bin\n",
    "        \n",
    "        avg_enropy_in_bin_list.append(avg_entropy_in_bin)\n",
    "        errors_in_bin_list.append(errors_in_bin)\n",
    "        \n",
    "    return uce, avg_enropy_in_bin_list, errors_in_bin_list"
   ]
  },
  {
   "cell_type": "code",
   "execution_count": 6,
   "id": "156c6d98-13fc-49a9-b92e-f45fa07eae98",
   "metadata": {},
   "outputs": [],
   "source": [
    "def UCE(diagnostic_preds : pd.Series,diagnostic_logits: pd.Series, diagnostic_goldens : pd.Series, nbins:int = 10):\n",
    "    \"\"\"\n",
    "    Computes the Expected Uncertainty Calibration error for a batch of predictions of a single diagnosis.\n",
    "    \"\"\"\n",
    "    \n",
    "    # output distribution of sigmoid\n",
    "    output_probabilities = (diagnostic_logits\n",
    "                     .copy()\n",
    "                     .to_frame('positive_class')\n",
    "                     .assign(negative_class=lambda x: 1-x.positive_class)\n",
    "                    )\n",
    "    # compute entropies\n",
    "    entropy_calc = lambda row: -1 * sum([e * np.log2(e) for e in row])\n",
    "    entropies = output_probabilities.apply(entropy_calc,axis=1)\n",
    "    \n",
    "    \n",
    "    errors = diagnostic_preds != diagnostic_goldens\n",
    "    \n",
    "    uce = 0\n",
    "    avg_enropy_in_bin_list = []\n",
    "    errors_in_bin_list = []\n",
    "    \n",
    "    bins = np.linspace(0,1,num=nbins)\n",
    "    idxbins = np.digitize(entropies,bins,right=True)\n",
    "    for b in range(1,nbins+1):\n",
    "        idx = np.where(idxbins==b)[0]\n",
    "        \n",
    "        if len(idx) == 0:\n",
    "            # no uncertainties in this bin\n",
    "            continue\n",
    "            \n",
    "        errors_in_bin = errors.iloc[idx].mean()\n",
    "        avg_entropy_in_bin = entropies.iloc[idx].mean()\n",
    "        prop_in_bin = len(idx)/len(idxbins) # Bm / n\n",
    "        \n",
    "        uce += np.abs(avg_entropy_in_bin - errors_in_bin) * prop_in_bin\n",
    "        \n",
    "        avg_enropy_in_bin_list.append(avg_entropy_in_bin)\n",
    "        errors_in_bin_list.append(errors_in_bin)\n",
    "        \n",
    "    return uce, avg_enropy_in_bin_list, errors_in_bin_list"
   ]
  },
  {
   "cell_type": "markdown",
   "id": "2fbd47d3-6932-4fd0-bce2-73f98498f9a5",
   "metadata": {},
   "source": [
    "how do i test this?\n",
    "\n",
    "- look at one diagnosis only.\n",
    "- \n"
   ]
  }
 ],
 "metadata": {
  "kernelspec": {
   "display_name": "Python (mthesis)",
   "language": "python",
   "name": "mthesis"
  },
  "language_info": {
   "codemirror_mode": {
    "name": "ipython",
    "version": 3
   },
   "file_extension": ".py",
   "mimetype": "text/x-python",
   "name": "python",
   "nbconvert_exporter": "python",
   "pygments_lexer": "ipython3",
   "version": "3.9.7"
  }
 },
 "nbformat": 4,
 "nbformat_minor": 5
}
