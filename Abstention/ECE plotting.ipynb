{
 "cells": [
  {
   "cell_type": "code",
   "execution_count": 1,
   "id": "35af25b1-3ce2-4056-9c44-807f01f29e0b",
   "metadata": {},
   "outputs": [],
   "source": [
    "import os\n",
    "cwd = os.getcwd()\n",
    "\n",
    "# protection against running this cell multiple times\n",
    "assert os.path.dirname(cwd).split('/')[-1] == 'master-thesis','Oops, directory already changed previously as indended. Ignoring...'\n",
    "\n",
    "# change working directory (if assert passed)\n",
    "new_cwd = os.path.dirname(cwd) # parent directory\n",
    "os.chdir(new_cwd)"
   ]
  },
  {
   "cell_type": "markdown",
   "id": "b10fd7b3-d9b6-41ee-a921-cfde0a7a9311",
   "metadata": {},
   "source": [
    "# Imports"
   ]
  },
  {
   "cell_type": "code",
   "execution_count": 2,
   "id": "689c7e15-7221-4714-8f83-ae615d44204e",
   "metadata": {},
   "outputs": [],
   "source": [
    "%matplotlib inline\n",
    "import pandas as pd\n",
    "import matplotlib.pyplot as plt\n",
    "import numpy as np\n",
    "\n",
    "\n",
    "import os\n",
    "import json\n",
    "\n",
    "from rnn_utils import DiagnosesDataset, split_dataset, MYCOLLATE\n",
    "from rnn_utils import train_one_epoch, eval_model\n",
    "from Logits2Predictions import Logits2Predictions\n",
    "\n",
    "from mourga_variational.variational_rnn import VariationalRNN\n",
    "from utils import plot_reliability,get_prediction_thresholds\n",
    "\n",
    "import torch\n",
    "from torch.utils.data import Dataset, DataLoader, random_split\n",
    "from torch import nn\n",
    "from torch.nn.utils.rnn import pack_padded_sequence, pad_packed_sequence, pad_sequence, pack_sequence\n",
    "\n",
    "import numpy as np\n",
    "import pandas as pd\n",
    "from sklearn.metrics import roc_auc_score\n",
    "\n",
    "idx = pd.IndexSlice\n",
    "\n",
    "from config import Settings; settings = Settings()"
   ]
  },
  {
   "cell_type": "markdown",
   "id": "b4a2c913-fb32-4ab4-a969-f6493d2a1624",
   "metadata": {},
   "source": [
    "# Parameters"
   ]
  },
  {
   "cell_type": "code",
   "execution_count": 3,
   "id": "a0d29834-11f9-4934-bf78-04fa04457f89",
   "metadata": {},
   "outputs": [],
   "source": [
    "experiment_path = 'data/deterministic/A'\n",
    "\n",
    "reliability_file = os.path.join(experiment_path,'reliability.csv')\n",
    "\n",
    "assert os.path.isfile(reliability_file),f'Oops. File doesnt exit. You can create it with <Generate Reliability Outputs.ipynb>'"
   ]
  },
  {
   "cell_type": "markdown",
   "id": "93c301e5-d567-4c29-af69-af482f6439ec",
   "metadata": {},
   "source": [
    "## Read reliability"
   ]
  },
  {
   "cell_type": "code",
   "execution_count": 4,
   "id": "378666b8-1535-4a6b-a44f-2034a10f8be1",
   "metadata": {},
   "outputs": [
    {
     "data": {
      "text/html": [
       "<div>\n",
       "<style scoped>\n",
       "    .dataframe tbody tr th:only-of-type {\n",
       "        vertical-align: middle;\n",
       "    }\n",
       "\n",
       "    .dataframe tbody tr th {\n",
       "        vertical-align: top;\n",
       "    }\n",
       "\n",
       "    .dataframe thead th {\n",
       "        text-align: right;\n",
       "    }\n",
       "</style>\n",
       "<table border=\"1\" class=\"dataframe\">\n",
       "  <thead>\n",
       "    <tr style=\"text-align: right;\">\n",
       "      <th></th>\n",
       "      <th></th>\n",
       "      <th>ece</th>\n",
       "      <th>accuracies</th>\n",
       "      <th>rel_freq_positive_examples</th>\n",
       "      <th>n_samples_predicted_class</th>\n",
       "      <th>perc_samples_predicted_class</th>\n",
       "      <th>n_samples_positive_class</th>\n",
       "      <th>perc_samples_positive_class</th>\n",
       "      <th>nbins</th>\n",
       "    </tr>\n",
       "    <tr>\n",
       "      <th>diag</th>\n",
       "      <th>bin</th>\n",
       "      <th></th>\n",
       "      <th></th>\n",
       "      <th></th>\n",
       "      <th></th>\n",
       "      <th></th>\n",
       "      <th></th>\n",
       "      <th></th>\n",
       "      <th></th>\n",
       "    </tr>\n",
       "  </thead>\n",
       "  <tbody>\n",
       "    <tr>\n",
       "      <th rowspan=\"3\" valign=\"top\">diag_0</th>\n",
       "      <th>0</th>\n",
       "      <td>0.001909</td>\n",
       "      <td>0.013793</td>\n",
       "      <td>0.003606</td>\n",
       "      <td>145</td>\n",
       "      <td>0.074627</td>\n",
       "      <td>1941</td>\n",
       "      <td>0.998971</td>\n",
       "      <td>10</td>\n",
       "    </tr>\n",
       "    <tr>\n",
       "      <th>1</th>\n",
       "      <td>0.001909</td>\n",
       "      <td>1.000000</td>\n",
       "      <td>1.000000</td>\n",
       "      <td>1</td>\n",
       "      <td>0.000515</td>\n",
       "      <td>1</td>\n",
       "      <td>0.000515</td>\n",
       "      <td>10</td>\n",
       "    </tr>\n",
       "    <tr>\n",
       "      <th>2</th>\n",
       "      <td>0.001909</td>\n",
       "      <td>0.000000</td>\n",
       "      <td>0.000000</td>\n",
       "      <td>1</td>\n",
       "      <td>0.000515</td>\n",
       "      <td>1</td>\n",
       "      <td>0.000515</td>\n",
       "      <td>10</td>\n",
       "    </tr>\n",
       "  </tbody>\n",
       "</table>\n",
       "</div>"
      ],
      "text/plain": [
       "                 ece  accuracies  rel_freq_positive_examples  \\\n",
       "diag   bin                                                     \n",
       "diag_0 0    0.001909    0.013793                    0.003606   \n",
       "       1    0.001909    1.000000                    1.000000   \n",
       "       2    0.001909    0.000000                    0.000000   \n",
       "\n",
       "            n_samples_predicted_class  perc_samples_predicted_class  \\\n",
       "diag   bin                                                            \n",
       "diag_0 0                          145                      0.074627   \n",
       "       1                            1                      0.000515   \n",
       "       2                            1                      0.000515   \n",
       "\n",
       "            n_samples_positive_class  perc_samples_positive_class  nbins  \n",
       "diag   bin                                                                \n",
       "diag_0 0                        1941                     0.998971     10  \n",
       "       1                           1                     0.000515     10  \n",
       "       2                           1                     0.000515     10  "
      ]
     },
     "execution_count": 4,
     "metadata": {},
     "output_type": "execute_result"
    },
    {
     "data": {
      "text/plain": [
       "(2720, 8)"
      ]
     },
     "execution_count": 4,
     "metadata": {},
     "output_type": "execute_result"
    }
   ],
   "source": [
    "reliability = pd.read_csv(reliability_file,index_col=[0,1]).sort_index()\n",
    "\n",
    "reliability.head(3)\n",
    "reliability.shape"
   ]
  },
  {
   "cell_type": "markdown",
   "id": "9c1b6157",
   "metadata": {},
   "source": [
    "## Plot  accuracy vs confidence"
   ]
  },
  {
   "cell_type": "code",
   "execution_count": 212,
   "id": "0963ef37-1c68-4ad1-9e6b-0c4b07632b08",
   "metadata": {
    "collapsed": true,
    "jupyter": {
     "outputs_hidden": true
    },
    "tags": []
   },
   "outputs": [
    {
     "data": {
      "text/plain": [
       "{'diag': ['diag_88',\n",
       "  'diag_88',\n",
       "  'diag_88',\n",
       "  'diag_88',\n",
       "  'diag_88',\n",
       "  'diag_88',\n",
       "  'diag_88',\n",
       "  'diag_88',\n",
       "  'diag_88',\n",
       "  'diag_88'],\n",
       " 'bin': [0, 1, 2, 3, 4, 5, 6, 7, 8, 9],\n",
       " 'ece': [0.0302514239585228,\n",
       "  0.0302514239585228,\n",
       "  0.0302514239585228,\n",
       "  0.0302514239585228,\n",
       "  0.0302514239585228,\n",
       "  0.0302514239585228,\n",
       "  0.0302514239585228,\n",
       "  0.0302514239585228,\n",
       "  0.0302514239585228,\n",
       "  0.0302514239585228],\n",
       " 'accuracies': [0.0,\n",
       "  0.0,\n",
       "  0.0,\n",
       "  0.4210526315789473,\n",
       "  0.4722222222222222,\n",
       "  0.5737704918032787,\n",
       "  0.6825396825396826,\n",
       "  0.7336065573770492,\n",
       "  0.7985257985257985,\n",
       "  0.9388560157790928],\n",
       " 'rel_freq_positive_examples': [0.049618320610687,\n",
       "  0.1645021645021645,\n",
       "  0.2753623188405797,\n",
       "  0.282051282051282,\n",
       "  0.4722222222222222,\n",
       "  0.5737704918032787,\n",
       "  0.6119402985074627,\n",
       "  0.7452830188679245,\n",
       "  0.75,\n",
       "  0.8991228070175439],\n",
       " 'n_samples_predicted_class': [0, 0, 0, 19, 72, 61, 126, 244, 407, 1014],\n",
       " 'perc_samples_predicted_class': [0.0,\n",
       "  0.0,\n",
       "  0.0,\n",
       "  0.0097786927431806,\n",
       "  0.0370560988162635,\n",
       "  0.031394750386001,\n",
       "  0.0648481729284611,\n",
       "  0.1255790015440041,\n",
       "  0.2094698919197118,\n",
       "  0.5218733916623778],\n",
       " 'n_samples_positive_class': [786, 231, 138, 78, 72, 61, 67, 106, 176, 228],\n",
       " 'perc_samples_positive_class': [0.4045290787442099,\n",
       "  0.1188883170355121,\n",
       "  0.0710241893978383,\n",
       "  0.0401441070509521,\n",
       "  0.0370560988162635,\n",
       "  0.031394750386001,\n",
       "  0.0344827586206896,\n",
       "  0.0545548121461657,\n",
       "  0.0905815748841997,\n",
       "  0.1173443129181677],\n",
       " 'nbins': [10, 10, 10, 10, 10, 10, 10, 10, 10, 10]}"
      ]
     },
     "execution_count": 212,
     "metadata": {},
     "output_type": "execute_result"
    }
   ],
   "source": [
    "data"
   ]
  },
  {
   "cell_type": "code",
   "execution_count": 223,
   "id": "f3f8dea3-81c8-4dce-a1a5-f768c07cb1f0",
   "metadata": {},
   "outputs": [],
   "source": [
    "def plot_reliability(data, accuracy=False, reliability=False,show_percent=False):\n",
    "    \"\"\"\n",
    "    Creates a reliability plot.\n",
    "    \n",
    "    data : dict\n",
    "        data must be the result of calling reliability.loc[idx[diag,:],:].reset_index().to_dict(orient='list')\n",
    "        on the reliability dataframe.\n",
    "    \n",
    "    y_values : list\n",
    "        list of mean accuracy OR relative frequency of positive examples of each bin\n",
    "    \n",
    "    \"\"\"\n",
    "    \n",
    "    goal = {'accuracy':accuracy,'reliability':reliability}\n",
    "    filtered = [e for e in goal if goal[e]]\n",
    "    \n",
    "    \n",
    "    assert any(goal), 'Must choose at least 1'\n",
    "    \n",
    "    options = {'accuracy':dict(name='accuracies',y_label='accuracy',title='Acc. vs conf.',perc_col='perc_samples_predicted_class',perc_y_label='% predicted samples'),\n",
    "               'reliability':dict(name='rel_freq_positive_examples',y_label='Rel. freq. positives',title='Reliability',perc_col='perc_samples_positive_class', perc_y_label='% positive samples')\n",
    "              }\n",
    "    \n",
    "    \n",
    "    conf = np.linspace(0,1,data['nbins'][0]+1)[:-1]+0.05\n",
    "    \n",
    "    ncols = len(filtered)\n",
    "    nrows = 2 if show_percent else 1\n",
    "    \n",
    "    if not show_percent:\n",
    "        fig, ax = plt.subplots(1, 2, figsize=(8, 8));\n",
    "        for idx,e in enumerate(filtered):\n",
    "\n",
    "            ax[idx].plot([0,1], [0,1], 'k--');\n",
    "            ax[idx].plot(conf, data[options[e]['name']]);\n",
    "            ax[idx].set_xticks((np.arange(0, 1.1, step=0.2)));\n",
    "            ax[idx].set_ylabel(options[e]['y_label']);\n",
    "            ax[idx].set_xlabel(r'confidence');\n",
    "            ax[idx].set_xticks((np.arange(0, 1.1, step=0.2)));\n",
    "            ax[idx].set_yticks((np.arange(0, 1.1, step=0.2)));\n",
    "            ax[idx].set_title(options[e]['title'])\n",
    "            ax[idx].set_aspect('equal')\n",
    "\n",
    "            fig.tight_layout(pad=4.0);\n",
    "            fig.suptitle(f'Reliability plots for diagnostic {data[\"diag\"][0]}',y=0.75,size=15)\n",
    "    else:\n",
    "        fig, ax = plt.subplots(nrows, 2, figsize=(8, 8));\n",
    "        fig.tight_layout(h_pad=3, w_pad=3)\n",
    "        \n",
    "        for idx,e in enumerate(filtered):\n",
    "            \n",
    "            #ax[1,idx].plot([0,1], [0,1], 'k--') ;\n",
    "            ax[1,idx].bar(conf, data[options[e]['perc_col']],width=0.1);\n",
    "            ax[1,idx].set_xticks((np.arange(0, 1.1, step=0.2)));\n",
    "            ax[1,idx].set_ylabel('% samples');\n",
    "            ax[1,idx].set_xlabel(r'confidence');\n",
    "            ax[1,idx].set_xticks((np.arange(0, 1.1, step=0.2)));\n",
    "            ax[1,idx].set_yticks((np.arange(0, 1.1, step=0.2)));\n",
    "            ax[1,idx].set_aspect('equal')\n",
    "            \n",
    "            ax[0,idx].plot([0,1], [0,1], 'k--',label='perfect calibration');\n",
    "            ax[0,idx].plot(conf, data[options[e]['name']]);\n",
    "            ax[0,idx].set_xticks((np.arange(0, 1.1, step=0.2)));\n",
    "            ax[0,idx].set_ylabel(options[e]['y_label']);\n",
    "            ax[0,idx].set_xlabel(r'confidence');\n",
    "            ax[0,idx].set_xticks((np.arange(0, 1.1, step=0.2)));\n",
    "            ax[0,idx].set_yticks((np.arange(0, 1.1, step=0.2)));\n",
    "            ax[0,idx].set_title(options[e]['title'],size=15)\n",
    "            ax[0,idx].set_aspect('equal')\n",
    "            ax[0,idx].legend()\n",
    "            \n",
    "    fig.suptitle(f'Reliability plots for {data[\"diag\"][0]}',y=1.08,size=20)\n",
    "    return fig, ax"
   ]
  },
  {
   "cell_type": "code",
   "execution_count": 224,
   "id": "1fb57bb3-7b79-43e8-824c-ae8f11788db5",
   "metadata": {},
   "outputs": [
    {
     "data": {
      "image/png": "[encoded data removed]",
      "text/plain": [
       "<Figure size 576x576 with 4 Axes>"
      ]
     },
     "metadata": {
      "needs_background": "light"
     },
     "output_type": "display_data"
    }
   ],
   "source": [
    "diag = 'diag_88'\n",
    "data = reliability.loc[idx[diag,:],:].reset_index().to_dict(orient='list')\n",
    "plot_reliabilityV2(data,accuracy=True,reliability=True,show_percent=True);"
   ]
  },
  {
   "cell_type": "code",
   "execution_count": 177,
   "id": "c593bbd3-543f-4843-833b-d279ae455fc5",
   "metadata": {},
   "outputs": [
    {
     "data": {
      "text/plain": [
       "{'diag': ['diag_88',\n",
       "  'diag_88',\n",
       "  'diag_88',\n",
       "  'diag_88',\n",
       "  'diag_88',\n",
       "  'diag_88',\n",
       "  'diag_88',\n",
       "  'diag_88',\n",
       "  'diag_88',\n",
       "  'diag_88'],\n",
       " 'bin': [0, 1, 2, 3, 4, 5, 6, 7, 8, 9],\n",
       " 'ece': [0.0302514239585228,\n",
       "  0.0302514239585228,\n",
       "  0.0302514239585228,\n",
       "  0.0302514239585228,\n",
       "  0.0302514239585228,\n",
       "  0.0302514239585228,\n",
       "  0.0302514239585228,\n",
       "  0.0302514239585228,\n",
       "  0.0302514239585228,\n",
       "  0.0302514239585228],\n",
       " 'accuracies': [0.0,\n",
       "  0.0,\n",
       "  0.0,\n",
       "  0.4210526315789473,\n",
       "  0.4722222222222222,\n",
       "  0.5737704918032787,\n",
       "  0.6825396825396826,\n",
       "  0.7336065573770492,\n",
       "  0.7985257985257985,\n",
       "  0.9388560157790928],\n",
       " 'rel_freq_positive_examples': [0.049618320610687,\n",
       "  0.1645021645021645,\n",
       "  0.2753623188405797,\n",
       "  0.282051282051282,\n",
       "  0.4722222222222222,\n",
       "  0.5737704918032787,\n",
       "  0.6119402985074627,\n",
       "  0.7452830188679245,\n",
       "  0.75,\n",
       "  0.8991228070175439],\n",
       " 'n_samples_predicted_class': [0, 0, 0, 19, 72, 61, 126, 244, 407, 1014],\n",
       " 'perc_samples_predicted_class': [0.0,\n",
       "  0.0,\n",
       "  0.0,\n",
       "  0.0097786927431806,\n",
       "  0.0370560988162635,\n",
       "  0.031394750386001,\n",
       "  0.0648481729284611,\n",
       "  0.1255790015440041,\n",
       "  0.2094698919197118,\n",
       "  0.5218733916623778],\n",
       " 'n_samples_positive_class': [786, 231, 138, 78, 72, 61, 67, 106, 176, 228],\n",
       " 'perc_samples_positive_class': [0.4045290787442099,\n",
       "  0.1188883170355121,\n",
       "  0.0710241893978383,\n",
       "  0.0401441070509521,\n",
       "  0.0370560988162635,\n",
       "  0.031394750386001,\n",
       "  0.0344827586206896,\n",
       "  0.0545548121461657,\n",
       "  0.0905815748841997,\n",
       "  0.1173443129181677],\n",
       " 'nbins': [10, 10, 10, 10, 10, 10, 10, 10, 10, 10]}"
      ]
     },
     "execution_count": 177,
     "metadata": {},
     "output_type": "execute_result"
    }
   ],
   "source": [
    "reliability.loc[idx[diag,:],:].reset_index().to_dict(orient='list')"
   ]
  },
  {
   "cell_type": "code",
   "execution_count": 9,
   "id": "a927f8b1-1d6b-4f68-967b-7ebfe40be8e8",
   "metadata": {},
   "outputs": [
    {
     "data": {
      "text/plain": [
       "{'ece': {('diag_88', 0): 0.0302514239585228,\n",
       "  ('diag_88', 1): 0.0302514239585228,\n",
       "  ('diag_88', 2): 0.0302514239585228,\n",
       "  ('diag_88', 3): 0.0302514239585228,\n",
       "  ('diag_88', 4): 0.0302514239585228,\n",
       "  ('diag_88', 5): 0.0302514239585228,\n",
       "  ('diag_88', 6): 0.0302514239585228,\n",
       "  ('diag_88', 7): 0.0302514239585228,\n",
       "  ('diag_88', 8): 0.0302514239585228,\n",
       "  ('diag_88', 9): 0.0302514239585228},\n",
       " 'accuracies': {('diag_88', 0): 0.0,\n",
       "  ('diag_88', 1): 0.0,\n",
       "  ('diag_88', 2): 0.0,\n",
       "  ('diag_88', 3): 0.4210526315789473,\n",
       "  ('diag_88', 4): 0.4722222222222222,\n",
       "  ('diag_88', 5): 0.5737704918032787,\n",
       "  ('diag_88', 6): 0.6825396825396826,\n",
       "  ('diag_88', 7): 0.7336065573770492,\n",
       "  ('diag_88', 8): 0.7985257985257985,\n",
       "  ('diag_88', 9): 0.9388560157790928},\n",
       " 'rel_freq_positive_examples': {('diag_88', 0): 0.049618320610687,\n",
       "  ('diag_88', 1): 0.1645021645021645,\n",
       "  ('diag_88', 2): 0.2753623188405797,\n",
       "  ('diag_88', 3): 0.282051282051282,\n",
       "  ('diag_88', 4): 0.4722222222222222,\n",
       "  ('diag_88', 5): 0.5737704918032787,\n",
       "  ('diag_88', 6): 0.6119402985074627,\n",
       "  ('diag_88', 7): 0.7452830188679245,\n",
       "  ('diag_88', 8): 0.75,\n",
       "  ('diag_88', 9): 0.8991228070175439},\n",
       " 'n_samples_predicted_class': {('diag_88', 0): 0,\n",
       "  ('diag_88', 1): 0,\n",
       "  ('diag_88', 2): 0,\n",
       "  ('diag_88', 3): 19,\n",
       "  ('diag_88', 4): 72,\n",
       "  ('diag_88', 5): 61,\n",
       "  ('diag_88', 6): 126,\n",
       "  ('diag_88', 7): 244,\n",
       "  ('diag_88', 8): 407,\n",
       "  ('diag_88', 9): 1014},\n",
       " 'perc_samples_predicted_class': {('diag_88', 0): 0.0,\n",
       "  ('diag_88', 1): 0.0,\n",
       "  ('diag_88', 2): 0.0,\n",
       "  ('diag_88', 3): 0.0097786927431806,\n",
       "  ('diag_88', 4): 0.0370560988162635,\n",
       "  ('diag_88', 5): 0.031394750386001,\n",
       "  ('diag_88', 6): 0.0648481729284611,\n",
       "  ('diag_88', 7): 0.1255790015440041,\n",
       "  ('diag_88', 8): 0.2094698919197118,\n",
       "  ('diag_88', 9): 0.5218733916623778},\n",
       " 'n_samples_positive_class': {('diag_88', 0): 786,\n",
       "  ('diag_88', 1): 231,\n",
       "  ('diag_88', 2): 138,\n",
       "  ('diag_88', 3): 78,\n",
       "  ('diag_88', 4): 72,\n",
       "  ('diag_88', 5): 61,\n",
       "  ('diag_88', 6): 67,\n",
       "  ('diag_88', 7): 106,\n",
       "  ('diag_88', 8): 176,\n",
       "  ('diag_88', 9): 228},\n",
       " 'perc_samples_positive_class': {('diag_88', 0): 0.4045290787442099,\n",
       "  ('diag_88', 1): 0.1188883170355121,\n",
       "  ('diag_88', 2): 0.0710241893978383,\n",
       "  ('diag_88', 3): 0.0401441070509521,\n",
       "  ('diag_88', 4): 0.0370560988162635,\n",
       "  ('diag_88', 5): 0.031394750386001,\n",
       "  ('diag_88', 6): 0.0344827586206896,\n",
       "  ('diag_88', 7): 0.0545548121461657,\n",
       "  ('diag_88', 8): 0.0905815748841997,\n",
       "  ('diag_88', 9): 0.1173443129181677},\n",
       " 'nbins': {('diag_88', 0): 10,\n",
       "  ('diag_88', 1): 10,\n",
       "  ('diag_88', 2): 10,\n",
       "  ('diag_88', 3): 10,\n",
       "  ('diag_88', 4): 10,\n",
       "  ('diag_88', 5): 10,\n",
       "  ('diag_88', 6): 10,\n",
       "  ('diag_88', 7): 10,\n",
       "  ('diag_88', 8): 10,\n",
       "  ('diag_88', 9): 10}}"
      ]
     },
     "execution_count": 9,
     "metadata": {},
     "output_type": "execute_result"
    }
   ],
   "source": [
    "reliability.loc[idx[diag,:],:].to_dict()"
   ]
  },
  {
   "cell_type": "code",
   "execution_count": 5,
   "id": "5360075c",
   "metadata": {},
   "outputs": [
    {
     "data": {
      "text/plain": [
       "(<Figure size 432x432 with 2 Axes>,\n",
       " array([<AxesSubplot:ylabel='% samples'>,\n",
       "        <AxesSubplot:xlabel='confidence', ylabel='accuracy'>], dtype=object))"
      ]
     },
     "execution_count": 5,
     "metadata": {},
     "output_type": "execute_result"
    },
    {
     "data": {
      "text/plain": [
       "(<Figure size 432x432 with 2 Axes>,\n",
       " array([<AxesSubplot:ylabel='% samples'>,\n",
       "        <AxesSubplot:xlabel='confidence', ylabel='relative frequency of positive examples'>],\n",
       "       dtype=object))"
      ]
     },
     "execution_count": 5,
     "metadata": {},
     "output_type": "execute_result"
    },
    {
     "data": {
      "image/png": "[encoded data removed]",
      "text/plain": [
       "<Figure size 432x432 with 2 Axes>"
      ]
     },
     "metadata": {
      "needs_background": "light"
     },
     "output_type": "display_data"
    },
    {
     "data": {
      "image/png": "[encoded data removed]",
      "text/plain": [
       "<Figure size 432x432 with 2 Axes>"
      ]
     },
     "metadata": {
      "needs_background": "light"
     },
     "output_type": "display_data"
    }
   ],
   "source": [
    "diag = 'diag_88'\n",
    "accuracies = reliability.loc[idx[diag,:],'accuracies']\n",
    "perc_samples_acc = reliability.loc[idx[diag,:],'perc_samples_predicted_class']\n",
    "\n",
    "rel_freq_positive_class = reliability.loc[idx[diag,:],'rel_freq_positive_examples']\n",
    "perc_samples_rel = reliability.loc[idx[diag,:],'perc_samples_positive_class']\n",
    "\n",
    "plot_reliability(accuracies,perc_samples=perc_samples_acc)\n",
    "plot_reliability(rel_freq_positive_class,perc_samples=perc_samples_rel,type_='rel_frequency')"
   ]
  },
  {
   "cell_type": "markdown",
   "id": "ab59d8ca",
   "metadata": {},
   "source": [
    "# Improve plotting"
   ]
  },
  {
   "cell_type": "code",
   "execution_count": 16,
   "id": "0d096b92",
   "metadata": {},
   "outputs": [],
   "source": [
    "import torch.nn.functional as F\n",
    "import torch"
   ]
  },
  {
   "cell_type": "code",
   "execution_count": 29,
   "id": "31a5a68e",
   "metadata": {},
   "outputs": [
    {
     "name": "stdout",
     "output_type": "stream",
     "text": [
      "Net(\n",
      "  (conv1): Conv2d(1, 6, kernel_size=(5, 5), stride=(1, 1))\n",
      "  (conv2): Conv2d(6, 16, kernel_size=(5, 5), stride=(1, 1))\n",
      "  (fc1): Linear(in_features=400, out_features=120, bias=True)\n",
      "  (fc2): Linear(in_features=120, out_features=84, bias=True)\n",
      "  (fc3): Linear(in_features=84, out_features=10, bias=True)\n",
      ")\n"
     ]
    }
   ],
   "source": [
    "import torch\n",
    "import torch.nn as nn\n",
    "import torch.nn.functional as F\n",
    "\n",
    "\n",
    "class Net(nn.Module):\n",
    "\n",
    "    def __init__(self):\n",
    "        super(Net, self).__init__()\n",
    "        # 1 input image channel, 6 output channels, 5x5 square convolution\n",
    "        # kernel\n",
    "        self.conv1 = nn.Conv2d(1, 6, 5)\n",
    "        self.conv2 = nn.Conv2d(6, 16, 5)\n",
    "        # an affine operation: y = Wx + b\n",
    "        self.fc1 = nn.Linear(16 * 5 * 5, 120)  # 5*5 from image dimension\n",
    "        self.fc2 = nn.Linear(120, 84)\n",
    "        self.fc3 = nn.Linear(84, 10)\n",
    "\n",
    "    def forward(self, x):\n",
    "        # Max pooling over a (2, 2) window\n",
    "        x = F.max_pool2d(F.relu(self.conv1(x)), (2, 2))\n",
    "        # If the size is a square, you can specify with a single number\n",
    "        x = F.max_pool2d(F.relu(self.conv2(x)), 2)\n",
    "        x = torch.flatten(x, 1) # flatten all dimensions except the batch dimension\n",
    "        x = F.relu(self.fc1(x))\n",
    "        x = F.relu(self.fc2(x))\n",
    "        x = self.fc3(x)\n",
    "        return x\n",
    "\n",
    "\n",
    "net = Net()\n",
    "print(net)"
   ]
  },
  {
   "cell_type": "code",
   "execution_count": 30,
   "id": "03c2bc5d",
   "metadata": {},
   "outputs": [],
   "source": [
    "input = torch.rand(1000,39)"
   ]
  },
  {
   "cell_type": "code",
   "execution_count": null,
   "id": "1e161262",
   "metadata": {},
   "outputs": [],
   "source": []
  },
  {
   "cell_type": "code",
   "execution_count": 28,
   "id": "377a629f",
   "metadata": {},
   "outputs": [
    {
     "data": {
      "text/plain": [
       "tensor([[0.4941, 0.4496],\n",
       "        [0.2679, 0.9991]])"
      ]
     },
     "execution_count": 28,
     "metadata": {},
     "output_type": "execute_result"
    },
    {
     "data": {
      "text/plain": [
       "tensor([[-0.6711, -0.7157],\n",
       "        [-1.1241, -0.3929]])"
      ]
     },
     "execution_count": 28,
     "metadata": {},
     "output_type": "execute_result"
    },
    {
     "name": "stderr",
     "output_type": "stream",
     "text": [
      "/var/folders/__/lcwlgwm95q9_vf5ypxxn3d7c0000gn/T/ipykernel_16246/3565177331.py:5: UserWarning: Implicit dimension choice for log_softmax has been deprecated. Change the call to include dim=X as an argument.\n",
      "  F.log_softmax(input)\n"
     ]
    },
    {
     "data": {
      "text/plain": [
       "tensor([[-0.6711, -0.7157],\n",
       "        [-1.1241, -0.3929]])"
      ]
     },
     "execution_count": 28,
     "metadata": {},
     "output_type": "execute_result"
    }
   ],
   "source": [
    "input = torch.rand((2,2))\n",
    "input\n",
    "\n",
    "F.log_softmax(input,dim=1)\n",
    "F.log_softmax(input)"
   ]
  },
  {
   "cell_type": "code",
   "execution_count": null,
   "id": "c18c4ceb",
   "metadata": {},
   "outputs": [],
   "source": [
    "def plot_reliability(y_values, perc_samples=None, type_='accuracy'):\n",
    "    \"\"\"\n",
    "    Creates a reliability plot.\n",
    "    \n",
    "    y_values : list\n",
    "        list of mean accuracy OR relative frequency of positive examples of each bin\n",
    "    \n",
    "    \"\"\"\n",
    "    \n",
    "    assert type_ in ['accuracy','rel_frequency']\n",
    "    \n",
    "    type_2_name = {'accuracy':'accuracy',\n",
    "                   'rel_frequency': 'relative frequency of positive examples'\n",
    "                  }\n",
    "    \n",
    "    conf = np.linspace(0,1,len(y_values)+1)[:-1]+0.05\n",
    "    \n",
    "    if perc_samples is None:\n",
    "        fig, ax = plt.subplots(1, 1, figsize=(3, 3));\n",
    "\n",
    "        ax.plot([0,1], [0,1], 'k--') ;\n",
    "        ax.bar(conf, y_values,width=0.1);\n",
    "        ax.set_xticks((np.arange(0, 1.1, step=0.2)));\n",
    "        ax.set_ylabel(f'{type_2_name[type_]}');\n",
    "        ax.set_xlabel(r'confidence');\n",
    "        ax.set_xticks((np.arange(0, 1.1, step=0.2)));\n",
    "        ax.set_yticks((np.arange(0, 1.1, step=0.2)));\n",
    "    \n",
    "    else:\n",
    "        fig, ax = plt.subplots(2, 1, figsize=(6, 6),subplot_kw={'aspect': 1});\n",
    "        \n",
    "        \n",
    "        ax[0].bar(conf, perc_samples,width=0.1);\n",
    "        ax[0].set_xticks((np.arange(0, 1.1, step=0.2)));\n",
    "        ax[0].set_ylabel(r'% samples');\n",
    "        #ax[0].set_xlabel(r'confidence');\n",
    "        ax[0].set_xticks((np.arange(0, 1.1, step=0.2)));\n",
    "        ax[0].set_yticks((np.arange(0, 1.1, step=0.2)));\n",
    "        \n",
    "        ax[1].plot([0,1], [0,1], 'k--',label='perfect calibration') ;\n",
    "        ax[1].plot(conf, y_values, marker='.');\n",
    "        ax[1].set_xticks((np.arange(0, 1.1, step=0.2)));\n",
    "        ax[1].set_ylabel(f'{type_2_name[type_]}');\n",
    "        ax[1].set_xlabel(r'confidence');\n",
    "        ax[1].set_xticks((np.arange(0, 1.1, step=0.2)));\n",
    "        ax[1].set_yticks((np.arange(0, 1.1, step=0.2)));\n",
    "        ax[1].legend();\n",
    "        \n",
    "        fig.tight_layout(pad=1.0);\n",
    "\n",
    "    return fig, ax"
   ]
  },
  {
   "cell_type": "markdown",
   "id": "c3991c75-ad5f-4960-afec-044d500d3dff",
   "metadata": {},
   "source": [
    "# Reliability diagram"
   ]
  },
  {
   "cell_type": "code",
   "execution_count": 7,
   "id": "65203c75-1999-44b8-bff7-565e88cb1adc",
   "metadata": {},
   "outputs": [],
   "source": [
    "diag = 'diag_88'\n",
    "diagnostic_preds = predictions.loc[:,diag]\n",
    "diagnostic_logits = df_var_predictions.loc[:,diag]\n",
    "diagnostic_goldens = df_golden.loc[:,diag]"
   ]
  },
  {
   "cell_type": "code",
   "execution_count": 8,
   "id": "73337a88-c6e0-4f67-8dfd-f4991dd90921",
   "metadata": {},
   "outputs": [],
   "source": [
    "output_probabilities = (diagnostic_logits\n",
    "                     .copy()\n",
    "                     .to_frame('positive_class')\n",
    "                     .assign(negative_class=lambda x: 1-x.positive_class)\n",
    "                    )[['negative_class','positive_class']] # the order is important because of the iloc we do next\n",
    "\n",
    "preds = diagnostic_preds.to_numpy()\n",
    "confidences = output_probabilities.apply(lambda row: row.iloc[diagnostic_preds.loc[row.name]], axis=1)\n",
    "accuracies = preds == diagnostic_goldens.to_numpy()\n",
    "\n",
    "nbins = 10\n",
    "bins = np.linspace(0,1,nbins+1)\n",
    "bins_left = bins[:-1]\n",
    "bins_right = bins[1:]\n",
    "\n",
    "acc_in_bin_list = list()\n",
    "for left,right in zip(bins_left,bins_right):\n",
    "    in_bin = (confidences > left) & (confidences < right)\n",
    "    prop_in_bin = in_bin.mean()\n",
    "    \n",
    "    if prop_in_bin > 0:\n",
    "        acc_in_bin_list.append(accuracies[in_bin].mean())\n",
    "    else:\n",
    "        acc_in_bin_list.append(0)\n"
   ]
  },
  {
   "cell_type": "code",
   "execution_count": 9,
   "id": "ac787b7d-03fd-4f75-b93d-e407bd105f94",
   "metadata": {},
   "outputs": [],
   "source": [
    "def plot_conf(acc, conf):\n",
    "    \"\"\"\n",
    "    acc : list\n",
    "        list of mean accuracies for each bin\n",
    "    \n",
    "    \"\"\"\n",
    "    fig, ax = plt.subplots(1, 1, figsize=(2.5, 2.25))\n",
    "    ax.plot([0,1], [0,1], 'k--')\n",
    "    ax.plot(conf, acc, marker='.')\n",
    "    ax.set_xlabel(r'confidence')\n",
    "    ax.set_ylabel(r'accuracy')\n",
    "    ax.set_xticks((np.arange(0, 1.1, step=0.2)))\n",
    "    ax.set_yticks((np.arange(0, 1.1, step=0.2)))\n",
    "\n",
    "    return fig, ax"
   ]
  },
  {
   "cell_type": "code",
   "execution_count": 11,
   "id": "a3fc4e7d-5065-40a0-b863-0f2fa3d3593e",
   "metadata": {},
   "outputs": [
    {
     "data": {
      "text/plain": [
       "(<Figure size 180x162 with 1 Axes>,\n",
       " <AxesSubplot:xlabel='confidence', ylabel='accuracy'>)"
      ]
     },
     "execution_count": 11,
     "metadata": {},
     "output_type": "execute_result"
    },
    {
     "data": {
      "image/png": "[encoded data removed]",
      "text/plain": [
       "<Figure size 180x162 with 1 Axes>"
      ]
     },
     "metadata": {
      "needs_background": "light"
     },
     "output_type": "display_data"
    }
   ],
   "source": [
    "plot_conf(acc_in_bin_list, bins[1:])"
   ]
  },
  {
   "cell_type": "code",
   "execution_count": 12,
   "id": "7f137106-6cc0-439a-9894-7402f3fb8353",
   "metadata": {},
   "outputs": [
    {
     "ename": "AttributeError",
     "evalue": "'numpy.ndarray' object has no attribute 'loc'",
     "output_type": "error",
     "traceback": [
      "\u001b[0;31m---------------------------------------------------------------------------\u001b[0m",
      "\u001b[0;31mAttributeError\u001b[0m                            Traceback (most recent call last)",
      "\u001b[0;32m/var/folders/__/lcwlgwm95q9_vf5ypxxn3d7c0000gn/T/ipykernel_7193/615222725.py\u001b[0m in \u001b[0;36m<module>\u001b[0;34m\u001b[0m\n\u001b[1;32m      1\u001b[0m \u001b[0mdiag\u001b[0m \u001b[0;34m=\u001b[0m \u001b[0;34m'diag_88'\u001b[0m\u001b[0;34m\u001b[0m\u001b[0;34m\u001b[0m\u001b[0m\n\u001b[0;32m----> 2\u001b[0;31m \u001b[0mdiagnostic_preds\u001b[0m \u001b[0;34m=\u001b[0m \u001b[0mpredictions\u001b[0m\u001b[0;34m.\u001b[0m\u001b[0mloc\u001b[0m\u001b[0;34m[\u001b[0m\u001b[0;34m:\u001b[0m\u001b[0;34m,\u001b[0m\u001b[0mdiag\u001b[0m\u001b[0;34m]\u001b[0m\u001b[0;34m\u001b[0m\u001b[0;34m\u001b[0m\u001b[0m\n\u001b[0m\u001b[1;32m      3\u001b[0m \u001b[0mdiagnostic_logits\u001b[0m \u001b[0;34m=\u001b[0m \u001b[0mdf_var_predictions\u001b[0m\u001b[0;34m.\u001b[0m\u001b[0mloc\u001b[0m\u001b[0;34m[\u001b[0m\u001b[0;34m:\u001b[0m\u001b[0;34m,\u001b[0m\u001b[0mdiag\u001b[0m\u001b[0;34m]\u001b[0m\u001b[0;34m\u001b[0m\u001b[0;34m\u001b[0m\u001b[0m\n\u001b[1;32m      4\u001b[0m \u001b[0mdiagnostic_goldens\u001b[0m \u001b[0;34m=\u001b[0m \u001b[0mdf_golden\u001b[0m\u001b[0;34m.\u001b[0m\u001b[0mloc\u001b[0m\u001b[0;34m[\u001b[0m\u001b[0;34m:\u001b[0m\u001b[0;34m,\u001b[0m\u001b[0mdiag\u001b[0m\u001b[0;34m]\u001b[0m\u001b[0;34m\u001b[0m\u001b[0;34m\u001b[0m\u001b[0m\n\u001b[1;32m      5\u001b[0m \u001b[0mnbins\u001b[0m \u001b[0;34m=\u001b[0m \u001b[0;36m10\u001b[0m\u001b[0;34m\u001b[0m\u001b[0;34m\u001b[0m\u001b[0m\n",
      "\u001b[0;31mAttributeError\u001b[0m: 'numpy.ndarray' object has no attribute 'loc'"
     ]
    }
   ],
   "source": [
    "diag = 'diag_88'\n",
    "diagnostic_preds = predictions.loc[:,diag]\n",
    "diagnostic_logits = df_var_predictions.loc[:,diag]\n",
    "diagnostic_goldens = df_golden.loc[:,diag]\n",
    "nbins = 10\n",
    "uce, entropy_in_bin, errors_in_bin = UCE(diagnostic_preds,diagnostic_logits,diagnostic_goldens,nbins=nbins)"
   ]
  },
  {
   "cell_type": "code",
   "execution_count": 32,
   "id": "dd9a27bd-608f-48de-9da4-bb6736058a3d",
   "metadata": {},
   "outputs": [
    {
     "data": {
      "text/plain": [
       "[0.017391304347826087,\n",
       " 0.025,\n",
       " 0.04145077720207254,\n",
       " 0.0962566844919786,\n",
       " 0.08994708994708994,\n",
       " 0.10576923076923077,\n",
       " 0.19402985074626866,\n",
       " 0.2191780821917808,\n",
       " 0.3481953290870488]"
      ]
     },
     "execution_count": 32,
     "metadata": {},
     "output_type": "execute_result"
    }
   ],
   "source": [
    "errors_in_bin"
   ]
  },
  {
   "cell_type": "code",
   "execution_count": 89,
   "id": "df478838-f9af-4893-93ea-f38b59353198",
   "metadata": {},
   "outputs": [],
   "source": [
    "def ECE(diagnostic_preds : pd.Series,diagnostic_logits: pd.Series, diagnostic_goldens : pd.Series, nbins:int = 11):\n",
    "    \"\"\"\n",
    "    Computes the Expected Uncertainty Calibration error for a batch of predictions of a single diagnosis.\n",
    "    \"\"\"\n",
    "    \n",
    "    # output distribution of sigmoid\n",
    "    output_probabilities = (diagnostic_logits\n",
    "                     .copy()\n",
    "                     .to_frame('positive_class')\n",
    "                     .assign(negative_class=lambda x: 1-x.positive_class)\n",
    "                    )\n",
    "    \n",
    "    bins = np.linspace(0,1,num=nbins)\n",
    "    idxbins = np.digitize(diagnostic_logits,bins,right=True)\n",
    "    \n",
    "    acc_list = list()\n",
    "    \n",
    "    for b in range(1,nbins):\n",
    "        mask = np.where(idxbins==b)[0]\n",
    "        if len(mask) == 0:\n",
    "            print(f'oops no examples in this bin: {b}')\n",
    "        \n",
    "        acc = diagnostic_goldens.iloc[mask].mean()\n",
    "        acc_list.append(acc)\n",
    "    return {'acc_list':acc_list,'nbins':nbins,'idxbins':idxbins}\n",
    "\n",
    "\n",
    "\n",
    "diag = 'diag_88'\n",
    "diagnostic_preds = predictions.loc[:,diag]\n",
    "diagnostic_logits = df_var_predictions.loc[:,diag]\n",
    "diagnostic_goldens = df_golden.loc[:,diag]\n",
    "nbins = 10\n",
    "\n",
    "res = ECE(diagnostic_preds,diagnostic_logits,diagnostic_goldens)\n",
    "\n",
    "acc_list = res['acc_list']\n",
    "nbins=res['nbins']\n",
    "        "
   ]
  },
  {
   "cell_type": "code",
   "execution_count": 96,
   "id": "dc718ff1-bd51-4c1f-8b04-02a97c97703f",
   "metadata": {},
   "outputs": [
    {
     "data": {
      "text/plain": [
       "[0.04675716440422323,\n",
       " 0.1339031339031339,\n",
       " 0.23699421965317918,\n",
       " 0.392,\n",
       " 0.6639344262295082,\n",
       " 0.6761904761904762,\n",
       " 0.7925925925925926,\n",
       " 0.8467741935483871,\n",
       " 0.908256880733945,\n",
       " 0.8888888888888888]"
      ]
     },
     "execution_count": 96,
     "metadata": {},
     "output_type": "execute_result"
    }
   ],
   "source": [
    "acc_list"
   ]
  },
  {
   "cell_type": "code",
   "execution_count": 94,
   "id": "f87a5d1f-c023-4b08-80a1-c41d5fd246a2",
   "metadata": {},
   "outputs": [
    {
     "data": {
      "text/plain": [
       "<BarContainer object of 10 artists>"
      ]
     },
     "execution_count": 94,
     "metadata": {},
     "output_type": "execute_result"
    },
    {
     "data": {
      "image/png": "[encoded data removed]",
      "text/plain": [
       "<Figure size 432x288 with 1 Axes>"
      ]
     },
     "metadata": {
      "needs_background": "light"
     },
     "output_type": "display_data"
    }
   ],
   "source": [
    "plt.bar(bins[:-1],acc_list)"
   ]
  },
  {
   "cell_type": "code",
   "execution_count": null,
   "id": "46a7ba4e-ffb5-454d-90fc-c24d14764b53",
   "metadata": {},
   "outputs": [],
   "source": [
    "def ECE(diagnostic_preds : pd.Series,diagnostic_logits: pd.Series, diagnostic_goldens : pd.Series, nbins:int = 10):\n",
    "    \"\"\"\n",
    "    Computes the Expected Uncertainty Calibration error for a batch of predictions of a single diagnosis.\n",
    "    \"\"\"\n",
    "    \n",
    "    # output distribution of sigmoid\n",
    "    output_probabilities = (diagnostic_logits\n",
    "                     .copy()\n",
    "                     .to_frame('positive_class')\n",
    "                     .assign(negative_class=lambda x: 1-x.positive_class)\n",
    "                    )\n",
    "    \n",
    "    errors = diagnostic_preds != diagnostic_goldens\n",
    "    acc\n",
    "    \n",
    "    ece = 0\n",
    "    avg_acc_in_bin_list = []\n",
    "    #errors_in_bin_list = []\n",
    "    \n",
    "    bins = np.linspace(0,1,num=nbins)\n",
    "    idxbins = np.digitize(entropies,bins,right=True)\n",
    "    for b in range(1,nbins+1):\n",
    "        idx = np.where(idxbins==b)[0]\n",
    "        \n",
    "        if len(idx) == 0:\n",
    "            # no uncertainties in this bin\n",
    "            continue\n",
    "            \n",
    "        errors_in_bin = errors.iloc[idx].mean()\n",
    "        avg_entropy_in_bin = entropies.iloc[idx].mean()\n",
    "        prop_in_bin = len(idx)/len(idxbins) # Bm / n\n",
    "        \n",
    "        uce += np.abs(avg_entropy_in_bin - errors_in_bin) * prop_in_bin\n",
    "        \n",
    "        avg_enropy_in_bin_list.append(avg_entropy_in_bin)\n",
    "        errors_in_bin_list.append(errors_in_bin)\n",
    "        \n",
    "    return uce, avg_enropy_in_bin_list, errors_in_bin_list"
   ]
  },
  {
   "cell_type": "code",
   "execution_count": 6,
   "id": "156c6d98-13fc-49a9-b92e-f45fa07eae98",
   "metadata": {},
   "outputs": [],
   "source": [
    "def UCE(diagnostic_preds : pd.Series,diagnostic_logits: pd.Series, diagnostic_goldens : pd.Series, nbins:int = 10):\n",
    "    \"\"\"\n",
    "    Computes the Expected Uncertainty Calibration error for a batch of predictions of a single diagnosis.\n",
    "    \"\"\"\n",
    "    \n",
    "    # output distribution of sigmoid\n",
    "    output_probabilities = (diagnostic_logits\n",
    "                     .copy()\n",
    "                     .to_frame('positive_class')\n",
    "                     .assign(negative_class=lambda x: 1-x.positive_class)\n",
    "                    )\n",
    "    # compute entropies\n",
    "    entropy_calc = lambda row: -1 * sum([e * np.log2(e) for e in row])\n",
    "    entropies = output_probabilities.apply(entropy_calc,axis=1)\n",
    "    \n",
    "    \n",
    "    errors = diagnostic_preds != diagnostic_goldens\n",
    "    \n",
    "    uce = 0\n",
    "    avg_enropy_in_bin_list = []\n",
    "    errors_in_bin_list = []\n",
    "    \n",
    "    bins = np.linspace(0,1,num=nbins)\n",
    "    idxbins = np.digitize(entropies,bins,right=True)\n",
    "    for b in range(1,nbins+1):\n",
    "        idx = np.where(idxbins==b)[0]\n",
    "        \n",
    "        if len(idx) == 0:\n",
    "            # no uncertainties in this bin\n",
    "            continue\n",
    "            \n",
    "        errors_in_bin = errors.iloc[idx].mean()\n",
    "        avg_entropy_in_bin = entropies.iloc[idx].mean()\n",
    "        prop_in_bin = len(idx)/len(idxbins) # Bm / n\n",
    "        \n",
    "        uce += np.abs(avg_entropy_in_bin - errors_in_bin) * prop_in_bin\n",
    "        \n",
    "        avg_enropy_in_bin_list.append(avg_entropy_in_bin)\n",
    "        errors_in_bin_list.append(errors_in_bin)\n",
    "        \n",
    "    return uce, avg_enropy_in_bin_list, errors_in_bin_list"
   ]
  },
  {
   "cell_type": "markdown",
   "id": "2fbd47d3-6932-4fd0-bce2-73f98498f9a5",
   "metadata": {},
   "source": [
    "how do i test this?\n",
    "\n",
    "- look at one diagnosis only.\n",
    "- \n"
   ]
  }
 ],
 "metadata": {
  "kernelspec": {
   "display_name": "Python (simao thesis)",
   "language": "python",
   "name": "simao_thesis"
  },
  "language_info": {
   "codemirror_mode": {
    "name": "ipython",
    "version": 3
   },
   "file_extension": ".py",
   "mimetype": "text/x-python",
   "name": "python",
   "nbconvert_exporter": "python",
   "pygments_lexer": "ipython3",
   "version": "3.10.4"
  }
 },
 "nbformat": 4,
 "nbformat_minor": 5
}
