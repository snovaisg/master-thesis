{
 "cells": [
  {
   "cell_type": "code",
   "execution_count": 1,
   "id": "35af25b1-3ce2-4056-9c44-807f01f29e0b",
   "metadata": {},
   "outputs": [],
   "source": [
    "import os\n",
    "cwd = os.getcwd()\n",
    "\n",
    "# protection against running this cell multiple times\n",
    "assert os.path.dirname(cwd).split('/')[-1] == 'master-thesis','Oops, directory already changed previously as indended. Ignoring...'\n",
    "\n",
    "# change working directory (if assert passed)\n",
    "new_cwd = os.path.dirname(cwd) # parent directory\n",
    "os.chdir(new_cwd)"
   ]
  },
  {
   "cell_type": "markdown",
   "id": "b10fd7b3-d9b6-41ee-a921-cfde0a7a9311",
   "metadata": {},
   "source": [
    "# Imports"
   ]
  },
  {
   "cell_type": "code",
   "execution_count": 2,
   "id": "689c7e15-7221-4714-8f83-ae615d44204e",
   "metadata": {},
   "outputs": [],
   "source": [
    "%matplotlib inline\n",
    "import pandas as pd\n",
    "import matplotlib.pyplot as plt\n",
    "import numpy as np\n",
    "\n",
    "\n",
    "import os\n",
    "import json\n",
    "\n",
    "from rnn_utils import DiagnosesDataset, split_dataset, MYCOLLATE\n",
    "from rnn_utils import train_one_epoch, eval_model\n",
    "from Logits2Predictions import Logits2Predictions\n",
    "\n",
    "from mourga_variational.variational_rnn import VariationalRNN\n",
    "from utils import plot_reliability,get_prediction_thresholds\n",
    "\n",
    "import torch\n",
    "from torch.utils.data import Dataset, DataLoader, random_split\n",
    "from torch import nn\n",
    "from torch.nn.utils.rnn import pack_padded_sequence, pad_packed_sequence, pad_sequence, pack_sequence\n",
    "\n",
    "import numpy as np\n",
    "import pandas as pd\n",
    "from sklearn.metrics import roc_auc_score\n",
    "\n",
    "idx = pd.IndexSlice\n",
    "\n",
    "from config import Settings; settings = Settings()"
   ]
  },
  {
   "cell_type": "markdown",
   "id": "b4a2c913-fb32-4ab4-a969-f6493d2a1624",
   "metadata": {},
   "source": [
    "# Parameters"
   ]
  },
  {
   "cell_type": "code",
   "execution_count": 3,
   "id": "a0d29834-11f9-4934-bf78-04fa04457f89",
   "metadata": {},
   "outputs": [],
   "source": [
    "reliability_15_file = os.path.join('data/deterministic/A','reliability.csv')\n",
    "reliability_1_file = os.path.join('data/deterministic/B','reliability.csv')\n",
    "reliability_0_file = os.path.join('data/deterministic/C','reliability.csv')"
   ]
  },
  {
   "cell_type": "markdown",
   "id": "93c301e5-d567-4c29-af69-af482f6439ec",
   "metadata": {},
   "source": [
    "## Read reliability"
   ]
  },
  {
   "cell_type": "markdown",
   "id": "52bb00a5-1545-4d38-a3c6-b5605a8bce09",
   "metadata": {},
   "source": [
    "# Comparing ECE between two models"
   ]
  },
  {
   "cell_type": "code",
   "execution_count": 4,
   "id": "378666b8-1535-4a6b-a44f-2034a10f8be1",
   "metadata": {},
   "outputs": [
    {
     "data": {
      "text/html": [
       "<div>\n",
       "<style scoped>\n",
       "    .dataframe tbody tr th:only-of-type {\n",
       "        vertical-align: middle;\n",
       "    }\n",
       "\n",
       "    .dataframe tbody tr th {\n",
       "        vertical-align: top;\n",
       "    }\n",
       "\n",
       "    .dataframe thead th {\n",
       "        text-align: right;\n",
       "    }\n",
       "</style>\n",
       "<table border=\"1\" class=\"dataframe\">\n",
       "  <thead>\n",
       "    <tr style=\"text-align: right;\">\n",
       "      <th></th>\n",
       "      <th></th>\n",
       "      <th>ece</th>\n",
       "      <th>accuracies</th>\n",
       "      <th>rel_freq_positive_examples</th>\n",
       "      <th>n_samples_predicted_class</th>\n",
       "      <th>perc_samples_predicted_class</th>\n",
       "      <th>n_samples_positive_class</th>\n",
       "      <th>perc_samples_positive_class</th>\n",
       "      <th>nbins</th>\n",
       "    </tr>\n",
       "    <tr>\n",
       "      <th>diag</th>\n",
       "      <th>bin</th>\n",
       "      <th></th>\n",
       "      <th></th>\n",
       "      <th></th>\n",
       "      <th></th>\n",
       "      <th></th>\n",
       "      <th></th>\n",
       "      <th></th>\n",
       "      <th></th>\n",
       "    </tr>\n",
       "  </thead>\n",
       "  <tbody>\n",
       "    <tr>\n",
       "      <th rowspan=\"3\" valign=\"top\">diag_0</th>\n",
       "      <th>0</th>\n",
       "      <td>0.001909</td>\n",
       "      <td>0.013793</td>\n",
       "      <td>0.003606</td>\n",
       "      <td>145</td>\n",
       "      <td>0.074627</td>\n",
       "      <td>1941</td>\n",
       "      <td>0.998971</td>\n",
       "      <td>10</td>\n",
       "    </tr>\n",
       "    <tr>\n",
       "      <th>1</th>\n",
       "      <td>0.001909</td>\n",
       "      <td>1.000000</td>\n",
       "      <td>1.000000</td>\n",
       "      <td>1</td>\n",
       "      <td>0.000515</td>\n",
       "      <td>1</td>\n",
       "      <td>0.000515</td>\n",
       "      <td>10</td>\n",
       "    </tr>\n",
       "    <tr>\n",
       "      <th>2</th>\n",
       "      <td>0.001909</td>\n",
       "      <td>0.000000</td>\n",
       "      <td>0.000000</td>\n",
       "      <td>1</td>\n",
       "      <td>0.000515</td>\n",
       "      <td>1</td>\n",
       "      <td>0.000515</td>\n",
       "      <td>10</td>\n",
       "    </tr>\n",
       "  </tbody>\n",
       "</table>\n",
       "</div>"
      ],
      "text/plain": [
       "                 ece  accuracies  rel_freq_positive_examples  \\\n",
       "diag   bin                                                     \n",
       "diag_0 0    0.001909    0.013793                    0.003606   \n",
       "       1    0.001909    1.000000                    1.000000   \n",
       "       2    0.001909    0.000000                    0.000000   \n",
       "\n",
       "            n_samples_predicted_class  perc_samples_predicted_class  \\\n",
       "diag   bin                                                            \n",
       "diag_0 0                          145                      0.074627   \n",
       "       1                            1                      0.000515   \n",
       "       2                            1                      0.000515   \n",
       "\n",
       "            n_samples_positive_class  perc_samples_positive_class  nbins  \n",
       "diag   bin                                                                \n",
       "diag_0 0                        1941                     0.998971     10  \n",
       "       1                           1                     0.000515     10  \n",
       "       2                           1                     0.000515     10  "
      ]
     },
     "execution_count": 4,
     "metadata": {},
     "output_type": "execute_result"
    }
   ],
   "source": [
    "reliability_15 = pd.read_csv(reliability_15_file,index_col=[0,1]).sort_index()\n",
    "reliability_1 = pd.read_csv(reliability_1_file,index_col=[0,1]).sort_index()\n",
    "reliability_0 = pd.read_csv(reliability_0_file,index_col=[0,1]).sort_index()\n",
    "\n",
    "reliability_15.head(3)"
   ]
  },
  {
   "cell_type": "code",
   "execution_count": 5,
   "id": "90003d16-6454-4c3e-ba78-73eb6784104b",
   "metadata": {},
   "outputs": [
    {
     "data": {
      "text/html": [
       "<div>\n",
       "<style scoped>\n",
       "    .dataframe tbody tr th:only-of-type {\n",
       "        vertical-align: middle;\n",
       "    }\n",
       "\n",
       "    .dataframe tbody tr th {\n",
       "        vertical-align: top;\n",
       "    }\n",
       "\n",
       "    .dataframe thead th {\n",
       "        text-align: right;\n",
       "    }\n",
       "</style>\n",
       "<table border=\"1\" class=\"dataframe\">\n",
       "  <thead>\n",
       "    <tr style=\"text-align: right;\">\n",
       "      <th></th>\n",
       "      <th>ece 15</th>\n",
       "      <th>ece 0</th>\n",
       "      <th>ece</th>\n",
       "    </tr>\n",
       "  </thead>\n",
       "  <tbody>\n",
       "    <tr>\n",
       "      <th>count</th>\n",
       "      <td>272.000000</td>\n",
       "      <td>272.000000</td>\n",
       "      <td>272.000000</td>\n",
       "    </tr>\n",
       "    <tr>\n",
       "      <th>mean</th>\n",
       "      <td>0.010329</td>\n",
       "      <td>0.011146</td>\n",
       "      <td>0.380889</td>\n",
       "    </tr>\n",
       "    <tr>\n",
       "      <th>std</th>\n",
       "      <td>0.013408</td>\n",
       "      <td>0.016339</td>\n",
       "      <td>0.136114</td>\n",
       "    </tr>\n",
       "    <tr>\n",
       "      <th>min</th>\n",
       "      <td>0.000041</td>\n",
       "      <td>0.000186</td>\n",
       "      <td>0.026561</td>\n",
       "    </tr>\n",
       "    <tr>\n",
       "      <th>25%</th>\n",
       "      <td>0.001753</td>\n",
       "      <td>0.001643</td>\n",
       "      <td>0.301468</td>\n",
       "    </tr>\n",
       "    <tr>\n",
       "      <th>50%</th>\n",
       "      <td>0.004630</td>\n",
       "      <td>0.004650</td>\n",
       "      <td>0.440011</td>\n",
       "    </tr>\n",
       "    <tr>\n",
       "      <th>75%</th>\n",
       "      <td>0.012496</td>\n",
       "      <td>0.012466</td>\n",
       "      <td>0.480757</td>\n",
       "    </tr>\n",
       "    <tr>\n",
       "      <th>max</th>\n",
       "      <td>0.064692</td>\n",
       "      <td>0.105484</td>\n",
       "      <td>0.527907</td>\n",
       "    </tr>\n",
       "  </tbody>\n",
       "</table>\n",
       "</div>"
      ],
      "text/plain": [
       "           ece 15       ece 0         ece\n",
       "count  272.000000  272.000000  272.000000\n",
       "mean     0.010329    0.011146    0.380889\n",
       "std      0.013408    0.016339    0.136114\n",
       "min      0.000041    0.000186    0.026561\n",
       "25%      0.001753    0.001643    0.301468\n",
       "50%      0.004630    0.004650    0.440011\n",
       "75%      0.012496    0.012466    0.480757\n",
       "max      0.064692    0.105484    0.527907"
      ]
     },
     "execution_count": 5,
     "metadata": {},
     "output_type": "execute_result"
    }
   ],
   "source": [
    "desc_15 = reliability_15.groupby(['diag']).ece.mean().describe()\n",
    "desc_1 = reliability_1.groupby(['diag']).ece.mean().describe()\n",
    "desc_0 = reliability_0.groupby(['diag']).ece.mean().describe()\n",
    "\n",
    "desc_15.name = 'ece 15'\n",
    "desc_1.name = 'ece 1'\n",
    "desc_1.name = 'ece 0'\n",
    "pd.concat([desc_15,desc_1,desc_0],axis=1)"
   ]
  },
  {
   "cell_type": "code",
   "execution_count": 46,
   "id": "d189efb0-da48-4ef9-a26b-e516e66bb3ee",
   "metadata": {},
   "outputs": [
    {
     "data": {
      "text/plain": [
       "<AxesSubplot:ylabel='Frequency'>"
      ]
     },
     "execution_count": 46,
     "metadata": {},
     "output_type": "execute_result"
    },
    {
     "data": {
      "text/plain": [
       "<AxesSubplot:ylabel='Frequency'>"
      ]
     },
     "execution_count": 46,
     "metadata": {},
     "output_type": "execute_result"
    },
    {
     "data": {
      "text/plain": [
       "<AxesSubplot:ylabel='Frequency'>"
      ]
     },
     "execution_count": 46,
     "metadata": {},
     "output_type": "execute_result"
    },
    {
     "data": {
      "text/plain": [
       "<matplotlib.legend.Legend at 0x12a510b80>"
      ]
     },
     "execution_count": 46,
     "metadata": {},
     "output_type": "execute_result"
    },
    {
     "data": {
      "image/png": "[encoded data removed]",
      "text/plain": [
       "<Figure size 432x288 with 1 Axes>"
      ]
     },
     "metadata": {
      "needs_background": "light"
     },
     "output_type": "display_data"
    }
   ],
   "source": [
    "reliability_1.groupby(['diag']).ece.mean().plot.hist(alpha=0.7,label='1 epoch (barely trained)')\n",
    "reliability_15.groupby(['diag']).ece.mean().plot.hist(alpha=0.7,label='15 epoch (fully trained)')\n",
    "reliability_0.groupby(['diag']).ece.mean().plot.hist(alpha=0.7,label='0 epochs (control)')\n",
    "plt.legend()"
   ]
  },
  {
   "cell_type": "code",
   "execution_count": 29,
   "id": "967af4c3-798d-469d-8bd9-bc7d129dcc47",
   "metadata": {},
   "outputs": [
    {
     "data": {
      "text/plain": [
       "<AxesSubplot:>"
      ]
     },
     "execution_count": 29,
     "metadata": {},
     "output_type": "execute_result"
    },
    {
     "data": {
      "image/png": "[encoded data removed]",
      "text/plain": [
       "<Figure size 432x288 with 1 Axes>"
      ]
     },
     "metadata": {
      "needs_background": "light"
     },
     "output_type": "display_data"
    }
   ],
   "source": [
    "reliability_15.groupby(['diag']).ece.mean().plot.box()"
   ]
  },
  {
   "cell_type": "code",
   "execution_count": null,
   "id": "f30bf215-6c44-42f8-8642-53396f826d59",
   "metadata": {},
   "outputs": [],
   "source": []
  }
 ],
 "metadata": {
  "kernelspec": {
   "display_name": "Python (mthesis)",
   "language": "python",
   "name": "mthesis"
  },
  "language_info": {
   "codemirror_mode": {
    "name": "ipython",
    "version": 3
   },
   "file_extension": ".py",
   "mimetype": "text/x-python",
   "name": "python",
   "nbconvert_exporter": "python",
   "pygments_lexer": "ipython3",
   "version": "3.9.7"
  }
 },
 "nbformat": 4,
 "nbformat_minor": 5
}
