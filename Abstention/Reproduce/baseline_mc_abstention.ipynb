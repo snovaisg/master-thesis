{
 "cells": [
  {
   "cell_type": "markdown",
   "metadata": {},
   "source": [
    "# MC dropout abstention (baseline mode)\n",
    "\n",
    "Produce N forward passes and record variance and mean.\n",
    "\n",
    "Train model that receives variance and mean of a particular diagnostic on a particular visit and models if that prediction is True positive or False positive.\n",
    "\n",
    "baseline mode means:\n",
    "1. I'm using validation set to train the LR on tp vs. fp. and test set to evaluate the model on an unseen data\n",
    "2. I'm using a simple threshold of 0.5 on the logistic regressions."
   ]
  },
  {
   "cell_type": "code",
   "execution_count": 57,
   "metadata": {},
   "outputs": [
    {
     "data": {
      "text/html": [
       "<div>\n",
       "<style scoped>\n",
       "    .dataframe tbody tr th:only-of-type {\n",
       "        vertical-align: middle;\n",
       "    }\n",
       "\n",
       "    .dataframe tbody tr th {\n",
       "        vertical-align: top;\n",
       "    }\n",
       "\n",
       "    .dataframe thead th {\n",
       "        text-align: right;\n",
       "    }\n",
       "</style>\n",
       "<table border=\"1\" class=\"dataframe\">\n",
       "  <thead>\n",
       "    <tr style=\"text-align: right;\">\n",
       "      <th></th>\n",
       "      <th>diag</th>\n",
       "      <th>precision</th>\n",
       "      <th>recall</th>\n",
       "      <th>f1</th>\n",
       "      <th>clf</th>\n",
       "      <th>type</th>\n",
       "    </tr>\n",
       "  </thead>\n",
       "  <tbody>\n",
       "    <tr>\n",
       "      <th>0</th>\n",
       "      <td>diag_0</td>\n",
       "      <td>NaN</td>\n",
       "      <td>NaN</td>\n",
       "      <td>NaN</td>\n",
       "      <td>DumbClassifier()</td>\n",
       "      <td>dumb</td>\n",
       "    </tr>\n",
       "    <tr>\n",
       "      <th>1</th>\n",
       "      <td>diag_1</td>\n",
       "      <td>0.852941</td>\n",
       "      <td>0.728033</td>\n",
       "      <td>0.785553</td>\n",
       "      <td>LogisticRegression(class_weight='balanced')</td>\n",
       "      <td>model</td>\n",
       "    </tr>\n",
       "    <tr>\n",
       "      <th>2</th>\n",
       "      <td>diag_2</td>\n",
       "      <td>0.833333</td>\n",
       "      <td>0.714286</td>\n",
       "      <td>0.769231</td>\n",
       "      <td>LogisticRegression(class_weight='balanced')</td>\n",
       "      <td>model</td>\n",
       "    </tr>\n",
       "    <tr>\n",
       "      <th>3</th>\n",
       "      <td>diag_3</td>\n",
       "      <td>0.925926</td>\n",
       "      <td>0.684932</td>\n",
       "      <td>0.787402</td>\n",
       "      <td>LogisticRegression(class_weight='balanced')</td>\n",
       "      <td>model</td>\n",
       "    </tr>\n",
       "    <tr>\n",
       "      <th>4</th>\n",
       "      <td>diag_4</td>\n",
       "      <td>0.928571</td>\n",
       "      <td>1.000000</td>\n",
       "      <td>0.962963</td>\n",
       "      <td>LogisticRegression(class_weight='balanced')</td>\n",
       "      <td>model</td>\n",
       "    </tr>\n",
       "    <tr>\n",
       "      <th>...</th>\n",
       "      <td>...</td>\n",
       "      <td>...</td>\n",
       "      <td>...</td>\n",
       "      <td>...</td>\n",
       "      <td>...</td>\n",
       "      <td>...</td>\n",
       "    </tr>\n",
       "    <tr>\n",
       "      <th>267</th>\n",
       "      <td>diag_267</td>\n",
       "      <td>0.870968</td>\n",
       "      <td>0.586957</td>\n",
       "      <td>0.701299</td>\n",
       "      <td>LogisticRegression(class_weight='balanced')</td>\n",
       "      <td>model</td>\n",
       "    </tr>\n",
       "    <tr>\n",
       "      <th>268</th>\n",
       "      <td>diag_268</td>\n",
       "      <td>1.000000</td>\n",
       "      <td>0.666667</td>\n",
       "      <td>0.800000</td>\n",
       "      <td>LogisticRegression(class_weight='balanced')</td>\n",
       "      <td>model</td>\n",
       "    </tr>\n",
       "    <tr>\n",
       "      <th>269</th>\n",
       "      <td>diag_269</td>\n",
       "      <td>NaN</td>\n",
       "      <td>NaN</td>\n",
       "      <td>NaN</td>\n",
       "      <td>DumbClassifier()</td>\n",
       "      <td>dumb</td>\n",
       "    </tr>\n",
       "    <tr>\n",
       "      <th>270</th>\n",
       "      <td>diag_270</td>\n",
       "      <td>NaN</td>\n",
       "      <td>NaN</td>\n",
       "      <td>NaN</td>\n",
       "      <td>DumbClassifier()</td>\n",
       "      <td>dumb</td>\n",
       "    </tr>\n",
       "    <tr>\n",
       "      <th>271</th>\n",
       "      <td>diag_271</td>\n",
       "      <td>NaN</td>\n",
       "      <td>NaN</td>\n",
       "      <td>NaN</td>\n",
       "      <td>DumbClassifier()</td>\n",
       "      <td>dumb</td>\n",
       "    </tr>\n",
       "  </tbody>\n",
       "</table>\n",
       "<p>272 rows × 6 columns</p>\n",
       "</div>"
      ],
      "text/plain": [
       "         diag  precision    recall        f1  \\\n",
       "0      diag_0        NaN       NaN       NaN   \n",
       "1      diag_1   0.852941  0.728033  0.785553   \n",
       "2      diag_2   0.833333  0.714286  0.769231   \n",
       "3      diag_3   0.925926  0.684932  0.787402   \n",
       "4      diag_4   0.928571  1.000000  0.962963   \n",
       "..        ...        ...       ...       ...   \n",
       "267  diag_267   0.870968  0.586957  0.701299   \n",
       "268  diag_268   1.000000  0.666667  0.800000   \n",
       "269  diag_269        NaN       NaN       NaN   \n",
       "270  diag_270        NaN       NaN       NaN   \n",
       "271  diag_271        NaN       NaN       NaN   \n",
       "\n",
       "                                             clf   type  \n",
       "0                               DumbClassifier()   dumb  \n",
       "1    LogisticRegression(class_weight='balanced')  model  \n",
       "2    LogisticRegression(class_weight='balanced')  model  \n",
       "3    LogisticRegression(class_weight='balanced')  model  \n",
       "4    LogisticRegression(class_weight='balanced')  model  \n",
       "..                                           ...    ...  \n",
       "267  LogisticRegression(class_weight='balanced')  model  \n",
       "268  LogisticRegression(class_weight='balanced')  model  \n",
       "269                             DumbClassifier()   dumb  \n",
       "270                             DumbClassifier()   dumb  \n",
       "271                             DumbClassifier()   dumb  \n",
       "\n",
       "[272 rows x 6 columns]"
      ]
     },
     "execution_count": 57,
     "metadata": {},
     "output_type": "execute_result"
    }
   ],
   "source": [
    "df_metrics"
   ]
  },
  {
   "cell_type": "code",
   "execution_count": 1,
   "metadata": {},
   "outputs": [],
   "source": [
    "from torch import nn\n",
    "import torch\n",
    "from torch.nn.utils.rnn import pack_padded_sequence, pad_packed_sequence, pad_sequence, pack_sequence"
   ]
  },
  {
   "cell_type": "code",
   "execution_count": 3,
   "metadata": {},
   "outputs": [],
   "source": [
    "import os\n",
    "cwd = os.getcwd()\n",
    "\n",
    "# protection against running this cell multiple times\n",
    "assert os.path.dirname(os.path.dirname(cwd)).split('/')[-1] == 'master-thesis','Oops, directory already changed previously as indended. Ignoring...'\n",
    "\n",
    "# change working directory (if assert passed)\n",
    "new_cwd = os.path.dirname(os.path.dirname(cwd)) # parent directory\n",
    "os.chdir(new_cwd)"
   ]
  },
  {
   "cell_type": "code",
   "execution_count": 45,
   "metadata": {},
   "outputs": [],
   "source": [
    "import sys\n",
    "import os\n",
    "this_dir = \"..\"\n",
    "if this_dir not in sys.path:\n",
    "    sys.path.append(this_dir)\n",
    "\n",
    "from rnn_utils import DiagnosesDataset, split_dataset, MYCOLLATE\n",
    "from rnn_utils import train_one_epoch, eval_model, outs2df_mc, compute_metrics\n",
    "\n",
    "from mourga_variational.variational_rnn import VariationalRNN\n",
    "\n",
    "import torch\n",
    "from torch.utils.data import Dataset, DataLoader, random_split\n",
    "\n",
    "from sklearn.model_selection import ParameterGrid, ParameterSampler\n",
    "\n",
    "import matplotlib.pyplot as plt\n",
    "import numpy as np\n",
    "import pandas as pd\n",
    "idx = pd.IndexSlice\n",
    "\n",
    "from config import Settings; settings = Settings()\n",
    "\n",
    "import wandb"
   ]
  },
  {
   "cell_type": "code",
   "execution_count": 8,
   "metadata": {},
   "outputs": [
    {
     "data": {
      "text/plain": [
       "<torch._C.Generator at 0x110540c30>"
      ]
     },
     "execution_count": 8,
     "metadata": {},
     "output_type": "execute_result"
    }
   ],
   "source": [
    "# Reproducibility\n",
    "seed = settings.random_seed\n",
    "\n",
    "np.random.seed(seed)\n",
    "torch.manual_seed(seed)\n",
    "torch.cuda.manual_seed(seed)"
   ]
  },
  {
   "cell_type": "code",
   "execution_count": 9,
   "metadata": {},
   "outputs": [],
   "source": [
    "dataset_id = 'diag_only'\n",
    "grouping = 'ccs'\n",
    "batch_size=64"
   ]
  },
  {
   "cell_type": "code",
   "execution_count": 10,
   "metadata": {},
   "outputs": [
    {
     "name": "stdout",
     "output_type": "stream",
     "text": [
      "dataset at data/model_ready_dataset/diag_only\n"
     ]
    },
    {
     "data": {
      "text/plain": [
       "5249"
      ]
     },
     "execution_count": 10,
     "metadata": {},
     "output_type": "execute_result"
    },
    {
     "data": {
      "text/plain": [
       "1125"
      ]
     },
     "execution_count": 10,
     "metadata": {},
     "output_type": "execute_result"
    },
    {
     "data": {
      "text/plain": [
       "1125"
      ]
     },
     "execution_count": 10,
     "metadata": {},
     "output_type": "execute_result"
    }
   ],
   "source": [
    "dataset_folder = os.path.join(settings.data_base,settings.model_ready_dataset_folder,dataset_id)\n",
    "print('dataset at',dataset_folder)\n",
    "\n",
    "dataset = DiagnosesDataset(os.path.join(dataset_folder,'dataset.json'),grouping)\n",
    "\n",
    "train_dataset = DiagnosesDataset(os.path.join(dataset_folder,'train_subset.json'),grouping)\n",
    "val_dataset = DiagnosesDataset(os.path.join(dataset_folder,'val_subset.json'),grouping)\n",
    "test_dataset = DiagnosesDataset(os.path.join(dataset_folder,'test_subset.json'),grouping)\n",
    "\n",
    "\n",
    "len(train_dataset)\n",
    "len(val_dataset)\n",
    "len(test_dataset)\n",
    "\n",
    "\n",
    "train_dataloader = DataLoader(train_dataset,batch_size=batch_size,collate_fn=MYCOLLATE(dataset),shuffle=True)\n",
    "val_dataloader = DataLoader(val_dataset,batch_size=batch_size,collate_fn=MYCOLLATE(dataset)) #batch_size here is arbitrary and doesn't affect total validation speed\n",
    "test_dataloader = DataLoader(test_dataset,batch_size=batch_size,collate_fn=MYCOLLATE(dataset))"
   ]
  },
  {
   "cell_type": "code",
   "execution_count": 11,
   "metadata": {},
   "outputs": [],
   "source": [
    "input_size = next(iter(train_dataloader))['target_sequences']['sequence'].shape[2]\n",
    "hidden_size = 100\n",
    "num_layers = 1\n",
    "n_labels = input_size\n",
    "model_type = 'gru'"
   ]
  },
  {
   "cell_type": "code",
   "execution_count": 12,
   "metadata": {},
   "outputs": [],
   "source": [
    "dropout = 0.2\n",
    "dropouti = dropout\n",
    "dropoutw = dropout\n",
    "dropouto = dropout"
   ]
  },
  {
   "cell_type": "code",
   "execution_count": 13,
   "metadata": {},
   "outputs": [],
   "source": [
    "model = VariationalRNN(input_size=input_size,\n",
    "                       hidden_size=hidden_size,\n",
    "                       n_labels=n_labels,\n",
    "                       num_layers=num_layers,\n",
    "                       rnn_type=model_type,\n",
    "                       dropouti=dropouti,\n",
    "                       dropoutw=dropoutw,\n",
    "                       dropouto=dropouto\n",
    "                      )"
   ]
  },
  {
   "cell_type": "code",
   "execution_count": 14,
   "metadata": {},
   "outputs": [],
   "source": [
    "opt = torch.optim.Adam(model.parameters(), lr=0.01)\n",
    "criterion = torch.nn.BCEWithLogitsLoss(reduction='none')\n",
    "epochs = 10"
   ]
  },
  {
   "cell_type": "code",
   "execution_count": 15,
   "metadata": {
    "tags": []
   },
   "outputs": [
    {
     "data": {
      "text/plain": [
       "0.09338595837009094"
      ]
     },
     "execution_count": 15,
     "metadata": {},
     "output_type": "execute_result"
    },
    {
     "name": "stdout",
     "output_type": "stream",
     "text": [
      "epoch: 1 | loss: 0.1768575266721737\n"
     ]
    },
    {
     "data": {
      "text/plain": [
       "0.5978395954393771"
      ]
     },
     "execution_count": 15,
     "metadata": {},
     "output_type": "execute_result"
    },
    {
     "name": "stdout",
     "output_type": "stream",
     "text": [
      "epoch: 2 | loss: 0.12670961363487934\n"
     ]
    },
    {
     "data": {
      "text/plain": [
       "0.6468799973735518"
      ]
     },
     "execution_count": 15,
     "metadata": {},
     "output_type": "execute_result"
    },
    {
     "name": "stdout",
     "output_type": "stream",
     "text": [
      "epoch: 3 | loss: 0.12123737924070244\n"
     ]
    },
    {
     "data": {
      "text/plain": [
       "0.6683152002844288"
      ]
     },
     "execution_count": 15,
     "metadata": {},
     "output_type": "execute_result"
    },
    {
     "name": "stdout",
     "output_type": "stream",
     "text": [
      "epoch: 4 | loss: 0.11769239712192352\n"
     ]
    },
    {
     "data": {
      "text/plain": [
       "0.6644883834566765"
      ]
     },
     "execution_count": 15,
     "metadata": {},
     "output_type": "execute_result"
    },
    {
     "name": "stdout",
     "output_type": "stream",
     "text": [
      "epoch: 5 | loss: 0.114641822695014\n"
     ]
    },
    {
     "data": {
      "text/plain": [
       "0.6796602510058005"
      ]
     },
     "execution_count": 15,
     "metadata": {},
     "output_type": "execute_result"
    },
    {
     "name": "stdout",
     "output_type": "stream",
     "text": [
      "epoch: 6 | loss: 0.1127079840166023\n"
     ]
    },
    {
     "data": {
      "text/plain": [
       "0.692805877349853"
      ]
     },
     "execution_count": 15,
     "metadata": {},
     "output_type": "execute_result"
    },
    {
     "name": "stdout",
     "output_type": "stream",
     "text": [
      "epoch: 7 | loss: 0.11075322985290045\n"
     ]
    },
    {
     "data": {
      "text/plain": [
       "0.7030957856054423"
      ]
     },
     "execution_count": 15,
     "metadata": {},
     "output_type": "execute_result"
    },
    {
     "name": "stdout",
     "output_type": "stream",
     "text": [
      "epoch: 8 | loss: 0.10890622885830431\n"
     ]
    },
    {
     "data": {
      "text/plain": [
       "0.7053674280792359"
      ]
     },
     "execution_count": 15,
     "metadata": {},
     "output_type": "execute_result"
    },
    {
     "name": "stdout",
     "output_type": "stream",
     "text": [
      "epoch: 9 | loss: 0.10731690341090581\n"
     ]
    },
    {
     "data": {
      "text/plain": [
       "0.6965423997021247"
      ]
     },
     "execution_count": 15,
     "metadata": {},
     "output_type": "execute_result"
    },
    {
     "name": "stdout",
     "output_type": "stream",
     "text": [
      "epoch: 10 | loss: 0.10692487639116954\n"
     ]
    }
   ],
   "source": [
    "losses = []\n",
    "for epoch in range(epochs):\n",
    "    eval_model(model,val_dataloader,dataset,['recall@30'])[1]['recall@30_adm']\n",
    "    loss = train_one_epoch(model,train_dataloader,epoch,criterion,opt)\n",
    "    losses.append(loss)\n",
    "    print(f'epoch: {epoch+1} | loss: {loss}')"
   ]
  },
  {
   "cell_type": "code",
   "execution_count": 20,
   "metadata": {
    "tags": []
   },
   "outputs": [
    {
     "data": {
      "text/html": [
       "<div>\n",
       "<style scoped>\n",
       "    .dataframe tbody tr th:only-of-type {\n",
       "        vertical-align: middle;\n",
       "    }\n",
       "\n",
       "    .dataframe tbody tr th {\n",
       "        vertical-align: top;\n",
       "    }\n",
       "\n",
       "    .dataframe thead th {\n",
       "        text-align: right;\n",
       "    }\n",
       "</style>\n",
       "<table border=\"1\" class=\"dataframe\">\n",
       "  <thead>\n",
       "    <tr style=\"text-align: right;\">\n",
       "      <th></th>\n",
       "      <th></th>\n",
       "      <th></th>\n",
       "      <th>diag_0</th>\n",
       "      <th>diag_1</th>\n",
       "      <th>diag_2</th>\n",
       "      <th>diag_3</th>\n",
       "      <th>diag_4</th>\n",
       "      <th>diag_5</th>\n",
       "      <th>diag_6</th>\n",
       "      <th>diag_7</th>\n",
       "      <th>diag_8</th>\n",
       "      <th>diag_9</th>\n",
       "      <th>...</th>\n",
       "      <th>diag_262</th>\n",
       "      <th>diag_263</th>\n",
       "      <th>diag_264</th>\n",
       "      <th>diag_265</th>\n",
       "      <th>diag_266</th>\n",
       "      <th>diag_267</th>\n",
       "      <th>diag_268</th>\n",
       "      <th>diag_269</th>\n",
       "      <th>diag_270</th>\n",
       "      <th>diag_271</th>\n",
       "    </tr>\n",
       "    <tr>\n",
       "      <th>pat_id</th>\n",
       "      <th>adm_index</th>\n",
       "      <th>n_pass</th>\n",
       "      <th></th>\n",
       "      <th></th>\n",
       "      <th></th>\n",
       "      <th></th>\n",
       "      <th></th>\n",
       "      <th></th>\n",
       "      <th></th>\n",
       "      <th></th>\n",
       "      <th></th>\n",
       "      <th></th>\n",
       "      <th></th>\n",
       "      <th></th>\n",
       "      <th></th>\n",
       "      <th></th>\n",
       "      <th></th>\n",
       "      <th></th>\n",
       "      <th></th>\n",
       "      <th></th>\n",
       "      <th></th>\n",
       "      <th></th>\n",
       "      <th></th>\n",
       "    </tr>\n",
       "  </thead>\n",
       "  <tbody>\n",
       "    <tr>\n",
       "      <th rowspan=\"3\" valign=\"top\">21</th>\n",
       "      <th rowspan=\"3\" valign=\"top\">1</th>\n",
       "      <th>1</th>\n",
       "      <td>0.020531</td>\n",
       "      <td>0.216404</td>\n",
       "      <td>0.072091</td>\n",
       "      <td>0.162227</td>\n",
       "      <td>0.000443</td>\n",
       "      <td>0.007322</td>\n",
       "      <td>0.018025</td>\n",
       "      <td>0.005737</td>\n",
       "      <td>0.001050</td>\n",
       "      <td>0.006624</td>\n",
       "      <td>...</td>\n",
       "      <td>0.000403</td>\n",
       "      <td>0.002913</td>\n",
       "      <td>0.000294</td>\n",
       "      <td>0.004530</td>\n",
       "      <td>0.164567</td>\n",
       "      <td>0.163818</td>\n",
       "      <td>0.008326</td>\n",
       "      <td>0.001014</td>\n",
       "      <td>0.004598</td>\n",
       "      <td>0.047660</td>\n",
       "    </tr>\n",
       "    <tr>\n",
       "      <th>2</th>\n",
       "      <td>0.010297</td>\n",
       "      <td>0.102251</td>\n",
       "      <td>0.030303</td>\n",
       "      <td>0.036251</td>\n",
       "      <td>0.065843</td>\n",
       "      <td>0.106968</td>\n",
       "      <td>0.005900</td>\n",
       "      <td>0.004008</td>\n",
       "      <td>0.002006</td>\n",
       "      <td>0.012314</td>\n",
       "      <td>...</td>\n",
       "      <td>0.000119</td>\n",
       "      <td>0.006748</td>\n",
       "      <td>0.000266</td>\n",
       "      <td>0.000573</td>\n",
       "      <td>0.117630</td>\n",
       "      <td>0.033387</td>\n",
       "      <td>0.004778</td>\n",
       "      <td>0.003512</td>\n",
       "      <td>0.002958</td>\n",
       "      <td>0.045178</td>\n",
       "    </tr>\n",
       "    <tr>\n",
       "      <th>3</th>\n",
       "      <td>0.007895</td>\n",
       "      <td>0.386899</td>\n",
       "      <td>0.055907</td>\n",
       "      <td>0.090702</td>\n",
       "      <td>0.000578</td>\n",
       "      <td>0.005508</td>\n",
       "      <td>0.004523</td>\n",
       "      <td>0.001558</td>\n",
       "      <td>0.000425</td>\n",
       "      <td>0.023492</td>\n",
       "      <td>...</td>\n",
       "      <td>0.000129</td>\n",
       "      <td>0.000715</td>\n",
       "      <td>0.000052</td>\n",
       "      <td>0.002578</td>\n",
       "      <td>0.138509</td>\n",
       "      <td>0.070076</td>\n",
       "      <td>0.001603</td>\n",
       "      <td>0.001080</td>\n",
       "      <td>0.001821</td>\n",
       "      <td>0.037675</td>\n",
       "    </tr>\n",
       "  </tbody>\n",
       "</table>\n",
       "<p>3 rows × 272 columns</p>\n",
       "</div>"
      ],
      "text/plain": [
       "                           diag_0    diag_1    diag_2    diag_3    diag_4  \\\n",
       "pat_id adm_index n_pass                                                     \n",
       "21     1         1       0.020531  0.216404  0.072091  0.162227  0.000443   \n",
       "                 2       0.010297  0.102251  0.030303  0.036251  0.065843   \n",
       "                 3       0.007895  0.386899  0.055907  0.090702  0.000578   \n",
       "\n",
       "                           diag_5    diag_6    diag_7    diag_8    diag_9  \\\n",
       "pat_id adm_index n_pass                                                     \n",
       "21     1         1       0.007322  0.018025  0.005737  0.001050  0.006624   \n",
       "                 2       0.106968  0.005900  0.004008  0.002006  0.012314   \n",
       "                 3       0.005508  0.004523  0.001558  0.000425  0.023492   \n",
       "\n",
       "                         ...  diag_262  diag_263  diag_264  diag_265  \\\n",
       "pat_id adm_index n_pass  ...                                           \n",
       "21     1         1       ...  0.000403  0.002913  0.000294  0.004530   \n",
       "                 2       ...  0.000119  0.006748  0.000266  0.000573   \n",
       "                 3       ...  0.000129  0.000715  0.000052  0.002578   \n",
       "\n",
       "                         diag_266  diag_267  diag_268  diag_269  diag_270  \\\n",
       "pat_id adm_index n_pass                                                     \n",
       "21     1         1       0.164567  0.163818  0.008326  0.001014  0.004598   \n",
       "                 2       0.117630  0.033387  0.004778  0.003512  0.002958   \n",
       "                 3       0.138509  0.070076  0.001603  0.001080  0.001821   \n",
       "\n",
       "                         diag_271  \n",
       "pat_id adm_index n_pass            \n",
       "21     1         1       0.047660  \n",
       "                 2       0.045178  \n",
       "                 3       0.037675  \n",
       "\n",
       "[3 rows x 272 columns]"
      ]
     },
     "execution_count": 20,
     "metadata": {},
     "output_type": "execute_result"
    }
   ],
   "source": [
    "res,golden = outs2df_mc(model,val_dataloader,dataset,return_golden=True)\n",
    "res.head(3)"
   ]
  },
  {
   "cell_type": "code",
   "execution_count": 21,
   "metadata": {},
   "outputs": [
    {
     "data": {
      "text/html": [
       "<div>\n",
       "<style scoped>\n",
       "    .dataframe tbody tr th:only-of-type {\n",
       "        vertical-align: middle;\n",
       "    }\n",
       "\n",
       "    .dataframe tbody tr th {\n",
       "        vertical-align: top;\n",
       "    }\n",
       "\n",
       "    .dataframe thead tr th {\n",
       "        text-align: left;\n",
       "    }\n",
       "\n",
       "    .dataframe thead tr:last-of-type th {\n",
       "        text-align: right;\n",
       "    }\n",
       "</style>\n",
       "<table border=\"1\" class=\"dataframe\">\n",
       "  <thead>\n",
       "    <tr>\n",
       "      <th></th>\n",
       "      <th></th>\n",
       "      <th colspan=\"2\" halign=\"left\">diag_0</th>\n",
       "      <th colspan=\"2\" halign=\"left\">diag_1</th>\n",
       "      <th colspan=\"2\" halign=\"left\">diag_2</th>\n",
       "      <th colspan=\"2\" halign=\"left\">diag_3</th>\n",
       "      <th colspan=\"2\" halign=\"left\">diag_4</th>\n",
       "      <th>...</th>\n",
       "      <th colspan=\"2\" halign=\"left\">diag_267</th>\n",
       "      <th colspan=\"2\" halign=\"left\">diag_268</th>\n",
       "      <th colspan=\"2\" halign=\"left\">diag_269</th>\n",
       "      <th colspan=\"2\" halign=\"left\">diag_270</th>\n",
       "      <th colspan=\"2\" halign=\"left\">diag_271</th>\n",
       "    </tr>\n",
       "    <tr>\n",
       "      <th></th>\n",
       "      <th></th>\n",
       "      <th>mean</th>\n",
       "      <th>var</th>\n",
       "      <th>mean</th>\n",
       "      <th>var</th>\n",
       "      <th>mean</th>\n",
       "      <th>var</th>\n",
       "      <th>mean</th>\n",
       "      <th>var</th>\n",
       "      <th>mean</th>\n",
       "      <th>var</th>\n",
       "      <th>...</th>\n",
       "      <th>mean</th>\n",
       "      <th>var</th>\n",
       "      <th>mean</th>\n",
       "      <th>var</th>\n",
       "      <th>mean</th>\n",
       "      <th>var</th>\n",
       "      <th>mean</th>\n",
       "      <th>var</th>\n",
       "      <th>mean</th>\n",
       "      <th>var</th>\n",
       "    </tr>\n",
       "    <tr>\n",
       "      <th>pat_id</th>\n",
       "      <th>adm_index</th>\n",
       "      <th></th>\n",
       "      <th></th>\n",
       "      <th></th>\n",
       "      <th></th>\n",
       "      <th></th>\n",
       "      <th></th>\n",
       "      <th></th>\n",
       "      <th></th>\n",
       "      <th></th>\n",
       "      <th></th>\n",
       "      <th></th>\n",
       "      <th></th>\n",
       "      <th></th>\n",
       "      <th></th>\n",
       "      <th></th>\n",
       "      <th></th>\n",
       "      <th></th>\n",
       "      <th></th>\n",
       "      <th></th>\n",
       "      <th></th>\n",
       "      <th></th>\n",
       "    </tr>\n",
       "  </thead>\n",
       "  <tbody>\n",
       "    <tr>\n",
       "      <th>21</th>\n",
       "      <th>1</th>\n",
       "      <td>0.026593</td>\n",
       "      <td>0.000981</td>\n",
       "      <td>0.290014</td>\n",
       "      <td>0.031679</td>\n",
       "      <td>0.112635</td>\n",
       "      <td>0.006965</td>\n",
       "      <td>0.162575</td>\n",
       "      <td>0.019077</td>\n",
       "      <td>0.010351</td>\n",
       "      <td>0.000474</td>\n",
       "      <td>...</td>\n",
       "      <td>0.102963</td>\n",
       "      <td>0.002855</td>\n",
       "      <td>0.003928</td>\n",
       "      <td>0.000007</td>\n",
       "      <td>0.002545</td>\n",
       "      <td>5.614503e-06</td>\n",
       "      <td>0.003601</td>\n",
       "      <td>0.000006</td>\n",
       "      <td>0.038908</td>\n",
       "      <td>0.000541</td>\n",
       "    </tr>\n",
       "    <tr>\n",
       "      <th>23</th>\n",
       "      <th>1</th>\n",
       "      <td>0.002916</td>\n",
       "      <td>0.000004</td>\n",
       "      <td>0.110778</td>\n",
       "      <td>0.005403</td>\n",
       "      <td>0.071182</td>\n",
       "      <td>0.001464</td>\n",
       "      <td>0.044758</td>\n",
       "      <td>0.001194</td>\n",
       "      <td>0.003807</td>\n",
       "      <td>0.000052</td>\n",
       "      <td>...</td>\n",
       "      <td>0.066401</td>\n",
       "      <td>0.000798</td>\n",
       "      <td>0.003681</td>\n",
       "      <td>0.000012</td>\n",
       "      <td>0.000324</td>\n",
       "      <td>1.046972e-07</td>\n",
       "      <td>0.013286</td>\n",
       "      <td>0.000110</td>\n",
       "      <td>0.029615</td>\n",
       "      <td>0.000183</td>\n",
       "    </tr>\n",
       "    <tr>\n",
       "      <th>61</th>\n",
       "      <th>1</th>\n",
       "      <td>0.009471</td>\n",
       "      <td>0.000359</td>\n",
       "      <td>0.237054</td>\n",
       "      <td>0.012893</td>\n",
       "      <td>0.075650</td>\n",
       "      <td>0.001468</td>\n",
       "      <td>0.153235</td>\n",
       "      <td>0.003308</td>\n",
       "      <td>0.069210</td>\n",
       "      <td>0.009354</td>\n",
       "      <td>...</td>\n",
       "      <td>0.141195</td>\n",
       "      <td>0.003706</td>\n",
       "      <td>0.022280</td>\n",
       "      <td>0.000570</td>\n",
       "      <td>0.001461</td>\n",
       "      <td>1.329885e-06</td>\n",
       "      <td>0.014196</td>\n",
       "      <td>0.000093</td>\n",
       "      <td>0.035902</td>\n",
       "      <td>0.000523</td>\n",
       "    </tr>\n",
       "  </tbody>\n",
       "</table>\n",
       "<p>3 rows × 544 columns</p>\n",
       "</div>"
      ],
      "text/plain": [
       "                    diag_0              diag_1              diag_2            \\\n",
       "                      mean       var      mean       var      mean       var   \n",
       "pat_id adm_index                                                               \n",
       "21     1          0.026593  0.000981  0.290014  0.031679  0.112635  0.006965   \n",
       "23     1          0.002916  0.000004  0.110778  0.005403  0.071182  0.001464   \n",
       "61     1          0.009471  0.000359  0.237054  0.012893  0.075650  0.001468   \n",
       "\n",
       "                    diag_3              diag_4            ...  diag_267  \\\n",
       "                      mean       var      mean       var  ...      mean   \n",
       "pat_id adm_index                                          ...             \n",
       "21     1          0.162575  0.019077  0.010351  0.000474  ...  0.102963   \n",
       "23     1          0.044758  0.001194  0.003807  0.000052  ...  0.066401   \n",
       "61     1          0.153235  0.003308  0.069210  0.009354  ...  0.141195   \n",
       "\n",
       "                            diag_268            diag_269                \\\n",
       "                       var      mean       var      mean           var   \n",
       "pat_id adm_index                                                         \n",
       "21     1          0.002855  0.003928  0.000007  0.002545  5.614503e-06   \n",
       "23     1          0.000798  0.003681  0.000012  0.000324  1.046972e-07   \n",
       "61     1          0.003706  0.022280  0.000570  0.001461  1.329885e-06   \n",
       "\n",
       "                  diag_270            diag_271            \n",
       "                      mean       var      mean       var  \n",
       "pat_id adm_index                                          \n",
       "21     1          0.003601  0.000006  0.038908  0.000541  \n",
       "23     1          0.013286  0.000110  0.029615  0.000183  \n",
       "61     1          0.014196  0.000093  0.035902  0.000523  \n",
       "\n",
       "[3 rows x 544 columns]"
      ]
     },
     "execution_count": 21,
     "metadata": {},
     "output_type": "execute_result"
    }
   ],
   "source": [
    "stats_res = res.groupby(['pat_id','adm_index']).agg(['mean','var'])\n",
    "stats_res.head(3)"
   ]
  },
  {
   "cell_type": "code",
   "execution_count": 24,
   "metadata": {},
   "outputs": [
    {
     "data": {
      "text/html": [
       "<div>\n",
       "<style scoped>\n",
       "    .dataframe tbody tr th:only-of-type {\n",
       "        vertical-align: middle;\n",
       "    }\n",
       "\n",
       "    .dataframe tbody tr th {\n",
       "        vertical-align: top;\n",
       "    }\n",
       "\n",
       "    .dataframe thead th {\n",
       "        text-align: right;\n",
       "    }\n",
       "</style>\n",
       "<table border=\"1\" class=\"dataframe\">\n",
       "  <thead>\n",
       "    <tr style=\"text-align: right;\">\n",
       "      <th></th>\n",
       "      <th></th>\n",
       "      <th>diag_0</th>\n",
       "      <th>diag_1</th>\n",
       "      <th>diag_2</th>\n",
       "      <th>diag_3</th>\n",
       "      <th>diag_4</th>\n",
       "      <th>diag_5</th>\n",
       "      <th>diag_6</th>\n",
       "      <th>diag_7</th>\n",
       "      <th>diag_8</th>\n",
       "      <th>diag_9</th>\n",
       "      <th>...</th>\n",
       "      <th>diag_262</th>\n",
       "      <th>diag_263</th>\n",
       "      <th>diag_264</th>\n",
       "      <th>diag_265</th>\n",
       "      <th>diag_266</th>\n",
       "      <th>diag_267</th>\n",
       "      <th>diag_268</th>\n",
       "      <th>diag_269</th>\n",
       "      <th>diag_270</th>\n",
       "      <th>diag_271</th>\n",
       "    </tr>\n",
       "    <tr>\n",
       "      <th>pat_id</th>\n",
       "      <th>adm_index</th>\n",
       "      <th></th>\n",
       "      <th></th>\n",
       "      <th></th>\n",
       "      <th></th>\n",
       "      <th></th>\n",
       "      <th></th>\n",
       "      <th></th>\n",
       "      <th></th>\n",
       "      <th></th>\n",
       "      <th></th>\n",
       "      <th></th>\n",
       "      <th></th>\n",
       "      <th></th>\n",
       "      <th></th>\n",
       "      <th></th>\n",
       "      <th></th>\n",
       "      <th></th>\n",
       "      <th></th>\n",
       "      <th></th>\n",
       "      <th></th>\n",
       "      <th></th>\n",
       "    </tr>\n",
       "  </thead>\n",
       "  <tbody>\n",
       "    <tr>\n",
       "      <th>21</th>\n",
       "      <th>1</th>\n",
       "      <td>0</td>\n",
       "      <td>1</td>\n",
       "      <td>0</td>\n",
       "      <td>0</td>\n",
       "      <td>0</td>\n",
       "      <td>0</td>\n",
       "      <td>0</td>\n",
       "      <td>0</td>\n",
       "      <td>0</td>\n",
       "      <td>0</td>\n",
       "      <td>...</td>\n",
       "      <td>0</td>\n",
       "      <td>0</td>\n",
       "      <td>0</td>\n",
       "      <td>0</td>\n",
       "      <td>0</td>\n",
       "      <td>0</td>\n",
       "      <td>0</td>\n",
       "      <td>0</td>\n",
       "      <td>0</td>\n",
       "      <td>0</td>\n",
       "    </tr>\n",
       "    <tr>\n",
       "      <th>23</th>\n",
       "      <th>1</th>\n",
       "      <td>0</td>\n",
       "      <td>0</td>\n",
       "      <td>0</td>\n",
       "      <td>0</td>\n",
       "      <td>0</td>\n",
       "      <td>0</td>\n",
       "      <td>0</td>\n",
       "      <td>0</td>\n",
       "      <td>0</td>\n",
       "      <td>0</td>\n",
       "      <td>...</td>\n",
       "      <td>0</td>\n",
       "      <td>0</td>\n",
       "      <td>0</td>\n",
       "      <td>0</td>\n",
       "      <td>1</td>\n",
       "      <td>0</td>\n",
       "      <td>0</td>\n",
       "      <td>0</td>\n",
       "      <td>0</td>\n",
       "      <td>0</td>\n",
       "    </tr>\n",
       "    <tr>\n",
       "      <th>61</th>\n",
       "      <th>1</th>\n",
       "      <td>0</td>\n",
       "      <td>1</td>\n",
       "      <td>0</td>\n",
       "      <td>1</td>\n",
       "      <td>0</td>\n",
       "      <td>0</td>\n",
       "      <td>1</td>\n",
       "      <td>0</td>\n",
       "      <td>0</td>\n",
       "      <td>0</td>\n",
       "      <td>...</td>\n",
       "      <td>0</td>\n",
       "      <td>0</td>\n",
       "      <td>0</td>\n",
       "      <td>0</td>\n",
       "      <td>1</td>\n",
       "      <td>1</td>\n",
       "      <td>0</td>\n",
       "      <td>0</td>\n",
       "      <td>0</td>\n",
       "      <td>0</td>\n",
       "    </tr>\n",
       "  </tbody>\n",
       "</table>\n",
       "<p>3 rows × 272 columns</p>\n",
       "</div>"
      ],
      "text/plain": [
       "                  diag_0  diag_1  diag_2  diag_3  diag_4  diag_5  diag_6  \\\n",
       "pat_id adm_index                                                           \n",
       "21     1               0       1       0       0       0       0       0   \n",
       "23     1               0       0       0       0       0       0       0   \n",
       "61     1               0       1       0       1       0       0       1   \n",
       "\n",
       "                  diag_7  diag_8  diag_9  ...  diag_262  diag_263  diag_264  \\\n",
       "pat_id adm_index                          ...                                 \n",
       "21     1               0       0       0  ...         0         0         0   \n",
       "23     1               0       0       0  ...         0         0         0   \n",
       "61     1               0       0       0  ...         0         0         0   \n",
       "\n",
       "                  diag_265  diag_266  diag_267  diag_268  diag_269  diag_270  \\\n",
       "pat_id adm_index                                                               \n",
       "21     1                 0         0         0         0         0         0   \n",
       "23     1                 0         1         0         0         0         0   \n",
       "61     1                 0         1         1         0         0         0   \n",
       "\n",
       "                  diag_271  \n",
       "pat_id adm_index            \n",
       "21     1                 0  \n",
       "23     1                 0  \n",
       "61     1                 0  \n",
       "\n",
       "[3 rows x 272 columns]"
      ]
     },
     "execution_count": 24,
     "metadata": {},
     "output_type": "execute_result"
    }
   ],
   "source": [
    "k = 30\n",
    "topk_outputs = stats_res.apply(lambda row: row.loc[idx[:,'mean']].nlargest(k),axis=1)\n",
    "\n",
    "# fix missing columns from previous operation\n",
    "original_class_columns = stats_res.columns.get_level_values(0).unique()\n",
    "missing_cols = [col for col in original_class_columns if col not in topk_outputs.columns]\n",
    "topk_outputs_all_cols = pd.concat([topk_outputs,pd.DataFrame(columns=missing_cols)])\n",
    "topk_outputs_all_cols = topk_outputs_all_cols[original_class_columns]\n",
    "\n",
    "topk_predictions = np.where(topk_outputs_all_cols.isna(),0,1)\n",
    "topk_predictions = pd.DataFrame(data=topk_predictions,columns=original_class_columns,index=stats_res.index)\n",
    "topk_predictions.head(3)"
   ]
  },
  {
   "cell_type": "code",
   "execution_count": 25,
   "metadata": {},
   "outputs": [
    {
     "data": {
      "text/html": [
       "<div>\n",
       "<style scoped>\n",
       "    .dataframe tbody tr th:only-of-type {\n",
       "        vertical-align: middle;\n",
       "    }\n",
       "\n",
       "    .dataframe tbody tr th {\n",
       "        vertical-align: top;\n",
       "    }\n",
       "\n",
       "    .dataframe thead th {\n",
       "        text-align: right;\n",
       "    }\n",
       "</style>\n",
       "<table border=\"1\" class=\"dataframe\">\n",
       "  <thead>\n",
       "    <tr style=\"text-align: right;\">\n",
       "      <th></th>\n",
       "      <th></th>\n",
       "      <th>diag_0</th>\n",
       "      <th>diag_1</th>\n",
       "      <th>diag_2</th>\n",
       "      <th>diag_3</th>\n",
       "      <th>diag_4</th>\n",
       "      <th>diag_5</th>\n",
       "      <th>diag_6</th>\n",
       "      <th>diag_7</th>\n",
       "      <th>diag_8</th>\n",
       "      <th>diag_9</th>\n",
       "      <th>...</th>\n",
       "      <th>diag_262</th>\n",
       "      <th>diag_263</th>\n",
       "      <th>diag_264</th>\n",
       "      <th>diag_265</th>\n",
       "      <th>diag_266</th>\n",
       "      <th>diag_267</th>\n",
       "      <th>diag_268</th>\n",
       "      <th>diag_269</th>\n",
       "      <th>diag_270</th>\n",
       "      <th>diag_271</th>\n",
       "    </tr>\n",
       "    <tr>\n",
       "      <th>pat_id</th>\n",
       "      <th>adm_index</th>\n",
       "      <th></th>\n",
       "      <th></th>\n",
       "      <th></th>\n",
       "      <th></th>\n",
       "      <th></th>\n",
       "      <th></th>\n",
       "      <th></th>\n",
       "      <th></th>\n",
       "      <th></th>\n",
       "      <th></th>\n",
       "      <th></th>\n",
       "      <th></th>\n",
       "      <th></th>\n",
       "      <th></th>\n",
       "      <th></th>\n",
       "      <th></th>\n",
       "      <th></th>\n",
       "      <th></th>\n",
       "      <th></th>\n",
       "      <th></th>\n",
       "      <th></th>\n",
       "    </tr>\n",
       "  </thead>\n",
       "  <tbody>\n",
       "    <tr>\n",
       "      <th>21</th>\n",
       "      <th>1</th>\n",
       "      <td>0.000981</td>\n",
       "      <td>0.031679</td>\n",
       "      <td>0.006965</td>\n",
       "      <td>0.019077</td>\n",
       "      <td>0.000474</td>\n",
       "      <td>0.035662</td>\n",
       "      <td>0.000032</td>\n",
       "      <td>0.000048</td>\n",
       "      <td>0.000004</td>\n",
       "      <td>0.000647</td>\n",
       "      <td>...</td>\n",
       "      <td>1.165848e-07</td>\n",
       "      <td>7.692295e-05</td>\n",
       "      <td>1.281590e-07</td>\n",
       "      <td>0.000062</td>\n",
       "      <td>0.002958</td>\n",
       "      <td>0.002855</td>\n",
       "      <td>0.000007</td>\n",
       "      <td>5.614503e-06</td>\n",
       "      <td>0.000006</td>\n",
       "      <td>0.000541</td>\n",
       "    </tr>\n",
       "    <tr>\n",
       "      <th>23</th>\n",
       "      <th>1</th>\n",
       "      <td>0.000004</td>\n",
       "      <td>0.005403</td>\n",
       "      <td>0.001464</td>\n",
       "      <td>0.001194</td>\n",
       "      <td>0.000052</td>\n",
       "      <td>0.000074</td>\n",
       "      <td>0.000356</td>\n",
       "      <td>0.000004</td>\n",
       "      <td>0.000001</td>\n",
       "      <td>0.000135</td>\n",
       "      <td>...</td>\n",
       "      <td>3.391438e-07</td>\n",
       "      <td>9.096460e-07</td>\n",
       "      <td>1.931278e-07</td>\n",
       "      <td>0.000003</td>\n",
       "      <td>0.005728</td>\n",
       "      <td>0.000798</td>\n",
       "      <td>0.000012</td>\n",
       "      <td>1.046972e-07</td>\n",
       "      <td>0.000110</td>\n",
       "      <td>0.000183</td>\n",
       "    </tr>\n",
       "    <tr>\n",
       "      <th>61</th>\n",
       "      <th>1</th>\n",
       "      <td>0.000359</td>\n",
       "      <td>0.012893</td>\n",
       "      <td>0.001468</td>\n",
       "      <td>0.003308</td>\n",
       "      <td>0.009354</td>\n",
       "      <td>0.000195</td>\n",
       "      <td>0.004447</td>\n",
       "      <td>0.000068</td>\n",
       "      <td>0.000016</td>\n",
       "      <td>0.000753</td>\n",
       "      <td>...</td>\n",
       "      <td>2.487943e-07</td>\n",
       "      <td>2.755981e-05</td>\n",
       "      <td>2.173827e-07</td>\n",
       "      <td>0.000008</td>\n",
       "      <td>0.002241</td>\n",
       "      <td>0.003706</td>\n",
       "      <td>0.000570</td>\n",
       "      <td>1.329885e-06</td>\n",
       "      <td>0.000093</td>\n",
       "      <td>0.000523</td>\n",
       "    </tr>\n",
       "  </tbody>\n",
       "</table>\n",
       "<p>3 rows × 272 columns</p>\n",
       "</div>"
      ],
      "text/plain": [
       "                    diag_0    diag_1    diag_2    diag_3    diag_4    diag_5  \\\n",
       "pat_id adm_index                                                               \n",
       "21     1          0.000981  0.031679  0.006965  0.019077  0.000474  0.035662   \n",
       "23     1          0.000004  0.005403  0.001464  0.001194  0.000052  0.000074   \n",
       "61     1          0.000359  0.012893  0.001468  0.003308  0.009354  0.000195   \n",
       "\n",
       "                    diag_6    diag_7    diag_8    diag_9  ...      diag_262  \\\n",
       "pat_id adm_index                                          ...                 \n",
       "21     1          0.000032  0.000048  0.000004  0.000647  ...  1.165848e-07   \n",
       "23     1          0.000356  0.000004  0.000001  0.000135  ...  3.391438e-07   \n",
       "61     1          0.004447  0.000068  0.000016  0.000753  ...  2.487943e-07   \n",
       "\n",
       "                      diag_263      diag_264  diag_265  diag_266  diag_267  \\\n",
       "pat_id adm_index                                                             \n",
       "21     1          7.692295e-05  1.281590e-07  0.000062  0.002958  0.002855   \n",
       "23     1          9.096460e-07  1.931278e-07  0.000003  0.005728  0.000798   \n",
       "61     1          2.755981e-05  2.173827e-07  0.000008  0.002241  0.003706   \n",
       "\n",
       "                  diag_268      diag_269  diag_270  diag_271  \n",
       "pat_id adm_index                                              \n",
       "21     1          0.000007  5.614503e-06  0.000006  0.000541  \n",
       "23     1          0.000012  1.046972e-07  0.000110  0.000183  \n",
       "61     1          0.000570  1.329885e-06  0.000093  0.000523  \n",
       "\n",
       "[3 rows x 272 columns]"
      ]
     },
     "execution_count": 25,
     "metadata": {},
     "output_type": "execute_result"
    },
    {
     "data": {
      "text/html": [
       "<div>\n",
       "<style scoped>\n",
       "    .dataframe tbody tr th:only-of-type {\n",
       "        vertical-align: middle;\n",
       "    }\n",
       "\n",
       "    .dataframe tbody tr th {\n",
       "        vertical-align: top;\n",
       "    }\n",
       "\n",
       "    .dataframe thead th {\n",
       "        text-align: right;\n",
       "    }\n",
       "</style>\n",
       "<table border=\"1\" class=\"dataframe\">\n",
       "  <thead>\n",
       "    <tr style=\"text-align: right;\">\n",
       "      <th></th>\n",
       "      <th></th>\n",
       "      <th>diag_0</th>\n",
       "      <th>diag_1</th>\n",
       "      <th>diag_2</th>\n",
       "      <th>diag_3</th>\n",
       "      <th>diag_4</th>\n",
       "      <th>diag_5</th>\n",
       "      <th>diag_6</th>\n",
       "      <th>diag_7</th>\n",
       "      <th>diag_8</th>\n",
       "      <th>diag_9</th>\n",
       "      <th>...</th>\n",
       "      <th>diag_262</th>\n",
       "      <th>diag_263</th>\n",
       "      <th>diag_264</th>\n",
       "      <th>diag_265</th>\n",
       "      <th>diag_266</th>\n",
       "      <th>diag_267</th>\n",
       "      <th>diag_268</th>\n",
       "      <th>diag_269</th>\n",
       "      <th>diag_270</th>\n",
       "      <th>diag_271</th>\n",
       "    </tr>\n",
       "    <tr>\n",
       "      <th>pat_id</th>\n",
       "      <th>adm_index</th>\n",
       "      <th></th>\n",
       "      <th></th>\n",
       "      <th></th>\n",
       "      <th></th>\n",
       "      <th></th>\n",
       "      <th></th>\n",
       "      <th></th>\n",
       "      <th></th>\n",
       "      <th></th>\n",
       "      <th></th>\n",
       "      <th></th>\n",
       "      <th></th>\n",
       "      <th></th>\n",
       "      <th></th>\n",
       "      <th></th>\n",
       "      <th></th>\n",
       "      <th></th>\n",
       "      <th></th>\n",
       "      <th></th>\n",
       "      <th></th>\n",
       "      <th></th>\n",
       "    </tr>\n",
       "  </thead>\n",
       "  <tbody>\n",
       "    <tr>\n",
       "      <th>21</th>\n",
       "      <th>1</th>\n",
       "      <td>0.026593</td>\n",
       "      <td>0.290014</td>\n",
       "      <td>0.112635</td>\n",
       "      <td>0.162575</td>\n",
       "      <td>0.010351</td>\n",
       "      <td>0.096086</td>\n",
       "      <td>0.007492</td>\n",
       "      <td>0.006641</td>\n",
       "      <td>0.001516</td>\n",
       "      <td>0.027213</td>\n",
       "      <td>...</td>\n",
       "      <td>0.000472</td>\n",
       "      <td>0.006974</td>\n",
       "      <td>0.000288</td>\n",
       "      <td>0.008621</td>\n",
       "      <td>0.123671</td>\n",
       "      <td>0.102963</td>\n",
       "      <td>0.003928</td>\n",
       "      <td>0.002545</td>\n",
       "      <td>0.003601</td>\n",
       "      <td>0.038908</td>\n",
       "    </tr>\n",
       "    <tr>\n",
       "      <th>23</th>\n",
       "      <th>1</th>\n",
       "      <td>0.002916</td>\n",
       "      <td>0.110778</td>\n",
       "      <td>0.071182</td>\n",
       "      <td>0.044758</td>\n",
       "      <td>0.003807</td>\n",
       "      <td>0.004816</td>\n",
       "      <td>0.020090</td>\n",
       "      <td>0.001511</td>\n",
       "      <td>0.001375</td>\n",
       "      <td>0.017796</td>\n",
       "      <td>...</td>\n",
       "      <td>0.000455</td>\n",
       "      <td>0.001525</td>\n",
       "      <td>0.000445</td>\n",
       "      <td>0.001741</td>\n",
       "      <td>0.158420</td>\n",
       "      <td>0.066401</td>\n",
       "      <td>0.003681</td>\n",
       "      <td>0.000324</td>\n",
       "      <td>0.013286</td>\n",
       "      <td>0.029615</td>\n",
       "    </tr>\n",
       "    <tr>\n",
       "      <th>61</th>\n",
       "      <th>1</th>\n",
       "      <td>0.009471</td>\n",
       "      <td>0.237054</td>\n",
       "      <td>0.075650</td>\n",
       "      <td>0.153235</td>\n",
       "      <td>0.069210</td>\n",
       "      <td>0.013711</td>\n",
       "      <td>0.099760</td>\n",
       "      <td>0.008976</td>\n",
       "      <td>0.003178</td>\n",
       "      <td>0.038948</td>\n",
       "      <td>...</td>\n",
       "      <td>0.000680</td>\n",
       "      <td>0.006048</td>\n",
       "      <td>0.000449</td>\n",
       "      <td>0.003012</td>\n",
       "      <td>0.123703</td>\n",
       "      <td>0.141195</td>\n",
       "      <td>0.022280</td>\n",
       "      <td>0.001461</td>\n",
       "      <td>0.014196</td>\n",
       "      <td>0.035902</td>\n",
       "    </tr>\n",
       "  </tbody>\n",
       "</table>\n",
       "<p>3 rows × 272 columns</p>\n",
       "</div>"
      ],
      "text/plain": [
       "                    diag_0    diag_1    diag_2    diag_3    diag_4    diag_5  \\\n",
       "pat_id adm_index                                                               \n",
       "21     1          0.026593  0.290014  0.112635  0.162575  0.010351  0.096086   \n",
       "23     1          0.002916  0.110778  0.071182  0.044758  0.003807  0.004816   \n",
       "61     1          0.009471  0.237054  0.075650  0.153235  0.069210  0.013711   \n",
       "\n",
       "                    diag_6    diag_7    diag_8    diag_9  ...  diag_262  \\\n",
       "pat_id adm_index                                          ...             \n",
       "21     1          0.007492  0.006641  0.001516  0.027213  ...  0.000472   \n",
       "23     1          0.020090  0.001511  0.001375  0.017796  ...  0.000455   \n",
       "61     1          0.099760  0.008976  0.003178  0.038948  ...  0.000680   \n",
       "\n",
       "                  diag_263  diag_264  diag_265  diag_266  diag_267  diag_268  \\\n",
       "pat_id adm_index                                                               \n",
       "21     1          0.006974  0.000288  0.008621  0.123671  0.102963  0.003928   \n",
       "23     1          0.001525  0.000445  0.001741  0.158420  0.066401  0.003681   \n",
       "61     1          0.006048  0.000449  0.003012  0.123703  0.141195  0.022280   \n",
       "\n",
       "                  diag_269  diag_270  diag_271  \n",
       "pat_id adm_index                                \n",
       "21     1          0.002545  0.003601  0.038908  \n",
       "23     1          0.000324  0.013286  0.029615  \n",
       "61     1          0.001461  0.014196  0.035902  \n",
       "\n",
       "[3 rows x 272 columns]"
      ]
     },
     "execution_count": 25,
     "metadata": {},
     "output_type": "execute_result"
    }
   ],
   "source": [
    "TP = (topk_predictions == 1) & (golden == 1)\n",
    "FP = (topk_predictions == 1) & (golden == 0)\n",
    "\n",
    "variances = stats_res.loc[idx[:,:],idx[:,'var']]\n",
    "variances.columns = variances.columns.get_level_values(0)\n",
    "variances.head(3)\n",
    "\n",
    "means = stats_res.loc[idx[:,:],idx[:,'mean']]\n",
    "means.columns = means.columns.get_level_values(0)\n",
    "means.head(3)\n",
    "\n",
    "tp_variances = variances.where(TP,np.nan)\n",
    "fp_variances = variances.where(FP,np.nan)\n",
    "\n",
    "tp_means = means.where(TP,np.nan)\n",
    "fp_means = means.where(FP,np.nan)"
   ]
  },
  {
   "cell_type": "code",
   "execution_count": 69,
   "metadata": {},
   "outputs": [
    {
     "data": {
      "text/plain": [
       "0.3667918"
      ]
     },
     "execution_count": 69,
     "metadata": {},
     "output_type": "execute_result"
    },
    {
     "data": {
      "text/plain": [
       "0.2229018"
      ]
     },
     "execution_count": 69,
     "metadata": {},
     "output_type": "execute_result"
    }
   ],
   "source": [
    "tp_means.mean(0).mean()\n",
    "\n",
    "fp_means.mean(0).mean()"
   ]
  },
  {
   "cell_type": "code",
   "execution_count": 68,
   "metadata": {},
   "outputs": [
    {
     "data": {
      "text/plain": [
       "0.2229018"
      ]
     },
     "execution_count": 68,
     "metadata": {},
     "output_type": "execute_result"
    }
   ],
   "source": [
    "fp_means.mean(0).mean()"
   ]
  },
  {
   "cell_type": "code",
   "execution_count": 62,
   "metadata": {},
   "outputs": [
    {
     "data": {
      "image/png": "[encoded data removed]",
      "text/plain": [
       "<Figure size 432x288 with 2 Axes>"
      ]
     },
     "metadata": {
      "needs_background": "light"
     },
     "output_type": "display_data"
    }
   ],
   "source": [
    "#parameter\n",
    "diag = 188\n",
    "\n",
    "\n",
    "diag_col = f'diag_{diag}'\n",
    "plt.subplot(1,2,1)\n",
    "tp_means[diag_col].plot.kde(label='True positives');\n",
    "fp_means[diag_col].plot.kde(label='False positives');\n",
    "plt.title(f'distribution in mean forward_pass of diag {diag}');\n",
    "plt.legend();\n",
    "#plt.show();\n",
    "plt.subplots_adjust(right=2) \n",
    "plt.subplot(1,2,2)\n",
    "tp_variances[diag_col].plot.kde(label='True positives');\n",
    "fp_variances[diag_col].plot.kde(label='False positives');\n",
    "plt.title(f'distribution in variance of the forward_pass of diag {diag}');\n",
    "plt.legend();"
   ]
  },
  {
   "cell_type": "markdown",
   "metadata": {},
   "source": [
    "# Model whether a prediction will be FP or TP"
   ]
  },
  {
   "cell_type": "markdown",
   "metadata": {},
   "source": [
    "# Dumb classifier\n",
    "\n",
    "since some diagnostics won't have enough data to train a model on, we will use 'dumb' classifiers to keep the pipeline consistent. These classifiers will always predict the positive class"
   ]
  },
  {
   "cell_type": "code",
   "execution_count": 29,
   "metadata": {},
   "outputs": [
    {
     "data": {
      "text/plain": [
       "Pipeline(steps=[('dumbclassifier', DumbClassifier())])"
      ]
     },
     "execution_count": 29,
     "metadata": {},
     "output_type": "execute_result"
    },
    {
     "data": {
      "text/plain": [
       "array([0, 0, 0, 0, 0])"
      ]
     },
     "execution_count": 29,
     "metadata": {},
     "output_type": "execute_result"
    }
   ],
   "source": [
    "from sklearn.base import BaseEstimator, ClassifierMixin\n",
    "from sklearn.utils.validation import check_X_y, check_array, check_is_fitted\n",
    "from sklearn.utils.multiclass import unique_labels\n",
    "\n",
    "class DumbClassifier(BaseEstimator, ClassifierMixin):\n",
    "\n",
    "    def __init__(self):\n",
    "        pass\n",
    "    def fit(self, X, y):\n",
    "        # Check that X and y have correct shape\n",
    "        #X, y = check_X_y(X, y)\n",
    "        # Store the classes seen during fit\n",
    "        #self.classes_ = unique_labels(y)\n",
    "        #self.X_ = X\n",
    "        #self.y_ = y\n",
    "        # Return the classifier\n",
    "        return self\n",
    "\n",
    "    def predict(self, X):\n",
    "         # Check if fit has been called\n",
    "        #check_is_fitted(self)\n",
    "        \n",
    "        # Input validation\n",
    "        #X = check_array(X)\n",
    "        y = np.zeros(shape=(X.shape[0],),dtype=int)\n",
    "        return y\n",
    "\n",
    "# test this out\n",
    "from sklearn.pipeline import make_pipeline\n",
    "\n",
    "X = np.ones(shape=(5,5))\n",
    "y = np.random.randint(0,2,size=(5,))\n",
    "\n",
    "pipe = make_pipeline(DumbClassifier())\n",
    "\n",
    "pipe.fit(X,y)\n",
    "pipe.predict(X) # Expecting all ones"
   ]
  },
  {
   "cell_type": "markdown",
   "metadata": {},
   "source": [
    "# Build dataset\n",
    "\n",
    "we shall build the dataset using the validation set (from the original train-val-test split).\n",
    "\n",
    "We need:\n",
    "1. obtain predictions on the validation set\n",
    "2. gather all TP and FP examples\n",
    "3. construct N tabular datasets (one for each diagnostic)\n",
    "4. split each into train-test\n",
    "5. train and test classifier\n",
    "    1. metric should be precision, recall and f1"
   ]
  },
  {
   "cell_type": "code",
   "execution_count": 30,
   "metadata": {},
   "outputs": [],
   "source": [
    "outs, golden = outs2df_mc(model,val_dataloader,dataset,return_golden=True)"
   ]
  },
  {
   "cell_type": "code",
   "execution_count": 31,
   "metadata": {},
   "outputs": [
    {
     "data": {
      "text/html": [
       "<div>\n",
       "<style scoped>\n",
       "    .dataframe tbody tr th:only-of-type {\n",
       "        vertical-align: middle;\n",
       "    }\n",
       "\n",
       "    .dataframe tbody tr th {\n",
       "        vertical-align: top;\n",
       "    }\n",
       "\n",
       "    .dataframe thead th {\n",
       "        text-align: right;\n",
       "    }\n",
       "</style>\n",
       "<table border=\"1\" class=\"dataframe\">\n",
       "  <thead>\n",
       "    <tr style=\"text-align: right;\">\n",
       "      <th></th>\n",
       "      <th></th>\n",
       "      <th>diag_0</th>\n",
       "      <th>diag_1</th>\n",
       "      <th>diag_2</th>\n",
       "      <th>diag_3</th>\n",
       "      <th>diag_4</th>\n",
       "      <th>diag_5</th>\n",
       "      <th>diag_6</th>\n",
       "      <th>diag_7</th>\n",
       "      <th>diag_8</th>\n",
       "      <th>diag_9</th>\n",
       "      <th>...</th>\n",
       "      <th>diag_262</th>\n",
       "      <th>diag_263</th>\n",
       "      <th>diag_264</th>\n",
       "      <th>diag_265</th>\n",
       "      <th>diag_266</th>\n",
       "      <th>diag_267</th>\n",
       "      <th>diag_268</th>\n",
       "      <th>diag_269</th>\n",
       "      <th>diag_270</th>\n",
       "      <th>diag_271</th>\n",
       "    </tr>\n",
       "    <tr>\n",
       "      <th>pat_id</th>\n",
       "      <th>adm_index</th>\n",
       "      <th></th>\n",
       "      <th></th>\n",
       "      <th></th>\n",
       "      <th></th>\n",
       "      <th></th>\n",
       "      <th></th>\n",
       "      <th></th>\n",
       "      <th></th>\n",
       "      <th></th>\n",
       "      <th></th>\n",
       "      <th></th>\n",
       "      <th></th>\n",
       "      <th></th>\n",
       "      <th></th>\n",
       "      <th></th>\n",
       "      <th></th>\n",
       "      <th></th>\n",
       "      <th></th>\n",
       "      <th></th>\n",
       "      <th></th>\n",
       "      <th></th>\n",
       "    </tr>\n",
       "  </thead>\n",
       "  <tbody>\n",
       "    <tr>\n",
       "      <th>21</th>\n",
       "      <th>1</th>\n",
       "      <td>0.012332</td>\n",
       "      <td>0.285125</td>\n",
       "      <td>0.172085</td>\n",
       "      <td>0.139681</td>\n",
       "      <td>0.005358</td>\n",
       "      <td>0.107338</td>\n",
       "      <td>0.008251</td>\n",
       "      <td>0.004615</td>\n",
       "      <td>0.001259</td>\n",
       "      <td>0.06264</td>\n",
       "      <td>...</td>\n",
       "      <td>0.000503</td>\n",
       "      <td>0.009851</td>\n",
       "      <td>0.000201</td>\n",
       "      <td>0.014711</td>\n",
       "      <td>0.114903</td>\n",
       "      <td>0.08989</td>\n",
       "      <td>0.005902</td>\n",
       "      <td>0.00301</td>\n",
       "      <td>0.003631</td>\n",
       "      <td>0.035527</td>\n",
       "    </tr>\n",
       "  </tbody>\n",
       "</table>\n",
       "<p>1 rows × 272 columns</p>\n",
       "</div>"
      ],
      "text/plain": [
       "                    diag_0    diag_1    diag_2    diag_3    diag_4    diag_5  \\\n",
       "pat_id adm_index                                                               \n",
       "21     1          0.012332  0.285125  0.172085  0.139681  0.005358  0.107338   \n",
       "\n",
       "                    diag_6    diag_7    diag_8   diag_9  ...  diag_262  \\\n",
       "pat_id adm_index                                         ...             \n",
       "21     1          0.008251  0.004615  0.001259  0.06264  ...  0.000503   \n",
       "\n",
       "                  diag_263  diag_264  diag_265  diag_266  diag_267  diag_268  \\\n",
       "pat_id adm_index                                                               \n",
       "21     1          0.009851  0.000201  0.014711  0.114903   0.08989  0.005902   \n",
       "\n",
       "                  diag_269  diag_270  diag_271  \n",
       "pat_id adm_index                                \n",
       "21     1           0.00301  0.003631  0.035527  \n",
       "\n",
       "[1 rows x 272 columns]"
      ]
     },
     "execution_count": 31,
     "metadata": {},
     "output_type": "execute_result"
    }
   ],
   "source": [
    "stats_outs = outs.groupby(['pat_id','adm_index']).agg(['mean','var'])\n",
    "\n",
    "k = 30\n",
    "topk_outputs = stats_outs.apply(lambda row: row.loc[idx[:,'mean']].nlargest(k),axis=1)\n",
    "\n",
    "# fix missing columns from previous operation\n",
    "original_class_columns = stats_outs.columns.get_level_values(0).unique()\n",
    "missing_cols = [col for col in original_class_columns if col not in topk_outputs.columns]\n",
    "topk_outputs_all_cols = pd.concat([topk_outputs,pd.DataFrame(columns=missing_cols)])\n",
    "topk_outputs_all_cols = topk_outputs_all_cols[original_class_columns]\n",
    "\n",
    "topk_predictions = np.where(topk_outputs_all_cols.isna(),0,1)\n",
    "topk_predictions = pd.DataFrame(data=topk_predictions,columns=original_class_columns,index=stats_outs.index)\n",
    "#topk_predictions.head(1)\n",
    "\n",
    "TP = (topk_predictions == 1) & (golden == 1)\n",
    "FP = (topk_predictions == 1) & (golden == 0)\n",
    "\n",
    "variances = stats_outs.loc[idx[:,:],idx[:,'var']]\n",
    "variances.columns = variances.columns.get_level_values(0)\n",
    "#variances.head(1)\n",
    "\n",
    "means = stats_outs.loc[idx[:,:],idx[:,'mean']]\n",
    "means.columns = means.columns.get_level_values(0)\n",
    "means.head(1)\n",
    "\n",
    "tp_variances = variances.where(TP,np.nan)\n",
    "fp_variances = variances.where(FP,np.nan)\n",
    "\n",
    "tp_means = means.where(TP,np.nan)\n",
    "fp_means = means.where(FP,np.nan)"
   ]
  },
  {
   "cell_type": "code",
   "execution_count": 34,
   "metadata": {},
   "outputs": [],
   "source": [
    "from sklearn.model_selection import train_test_split\n",
    "from sklearn.metrics import recall_score,precision_score,f1_score\n",
    "from sklearn.linear_model import LogisticRegression"
   ]
  },
  {
   "cell_type": "code",
   "execution_count": 51,
   "metadata": {
    "tags": []
   },
   "outputs": [
    {
     "name": "stdout",
     "output_type": "stream",
     "text": [
      "TP/FP dataset for diagnostic  diag_1\n"
     ]
    },
    {
     "data": {
      "text/html": [
       "<div>\n",
       "<style scoped>\n",
       "    .dataframe tbody tr th:only-of-type {\n",
       "        vertical-align: middle;\n",
       "    }\n",
       "\n",
       "    .dataframe tbody tr th {\n",
       "        vertical-align: top;\n",
       "    }\n",
       "\n",
       "    .dataframe thead th {\n",
       "        text-align: right;\n",
       "    }\n",
       "</style>\n",
       "<table border=\"1\" class=\"dataframe\">\n",
       "  <thead>\n",
       "    <tr style=\"text-align: right;\">\n",
       "      <th></th>\n",
       "      <th>mean</th>\n",
       "      <th>var</th>\n",
       "      <th>label</th>\n",
       "    </tr>\n",
       "  </thead>\n",
       "  <tbody>\n",
       "    <tr>\n",
       "      <th>165</th>\n",
       "      <td>0.253695</td>\n",
       "      <td>0.030461</td>\n",
       "      <td>0</td>\n",
       "    </tr>\n",
       "    <tr>\n",
       "      <th>232</th>\n",
       "      <td>0.187910</td>\n",
       "      <td>0.009656</td>\n",
       "      <td>0</td>\n",
       "    </tr>\n",
       "    <tr>\n",
       "      <th>1179</th>\n",
       "      <td>0.108154</td>\n",
       "      <td>0.001287</td>\n",
       "      <td>1</td>\n",
       "    </tr>\n",
       "    <tr>\n",
       "      <th>871</th>\n",
       "      <td>0.222993</td>\n",
       "      <td>0.012765</td>\n",
       "      <td>1</td>\n",
       "    </tr>\n",
       "    <tr>\n",
       "      <th>1195</th>\n",
       "      <td>0.208780</td>\n",
       "      <td>0.026406</td>\n",
       "      <td>1</td>\n",
       "    </tr>\n",
       "    <tr>\n",
       "      <th>...</th>\n",
       "      <td>...</td>\n",
       "      <td>...</td>\n",
       "      <td>...</td>\n",
       "    </tr>\n",
       "    <tr>\n",
       "      <th>48</th>\n",
       "      <td>0.101840</td>\n",
       "      <td>0.002284</td>\n",
       "      <td>0</td>\n",
       "    </tr>\n",
       "    <tr>\n",
       "      <th>602</th>\n",
       "      <td>0.199333</td>\n",
       "      <td>0.014095</td>\n",
       "      <td>1</td>\n",
       "    </tr>\n",
       "    <tr>\n",
       "      <th>412</th>\n",
       "      <td>0.357262</td>\n",
       "      <td>0.039538</td>\n",
       "      <td>1</td>\n",
       "    </tr>\n",
       "    <tr>\n",
       "      <th>393</th>\n",
       "      <td>0.118285</td>\n",
       "      <td>0.004159</td>\n",
       "      <td>1</td>\n",
       "    </tr>\n",
       "    <tr>\n",
       "      <th>616</th>\n",
       "      <td>0.143496</td>\n",
       "      <td>0.006116</td>\n",
       "      <td>1</td>\n",
       "    </tr>\n",
       "  </tbody>\n",
       "</table>\n",
       "<p>1247 rows × 3 columns</p>\n",
       "</div>"
      ],
      "text/plain": [
       "          mean       var  label\n",
       "165   0.253695  0.030461      0\n",
       "232   0.187910  0.009656      0\n",
       "1179  0.108154  0.001287      1\n",
       "871   0.222993  0.012765      1\n",
       "1195  0.208780  0.026406      1\n",
       "...        ...       ...    ...\n",
       "48    0.101840  0.002284      0\n",
       "602   0.199333  0.014095      1\n",
       "412   0.357262  0.039538      1\n",
       "393   0.118285  0.004159      1\n",
       "616   0.143496  0.006116      1\n",
       "\n",
       "[1247 rows x 3 columns]"
      ]
     },
     "metadata": {},
     "output_type": "display_data"
    },
    {
     "data": {
      "text/plain": [
       "LogisticRegression(class_weight='balanced')"
      ]
     },
     "execution_count": 51,
     "metadata": {},
     "output_type": "execute_result"
    },
    {
     "data": {
      "text/plain": [
       "LogisticRegression(class_weight='balanced')"
      ]
     },
     "execution_count": 51,
     "metadata": {},
     "output_type": "execute_result"
    },
    {
     "data": {
      "text/plain": [
       "LogisticRegression(class_weight='balanced')"
      ]
     },
     "execution_count": 51,
     "metadata": {},
     "output_type": "execute_result"
    },
    {
     "data": {
      "text/plain": [
       "LogisticRegression(class_weight='balanced')"
      ]
     },
     "execution_count": 51,
     "metadata": {},
     "output_type": "execute_result"
    },
    {
     "data": {
      "text/plain": [
       "LogisticRegression(class_weight='balanced')"
      ]
     },
     "execution_count": 51,
     "metadata": {},
     "output_type": "execute_result"
    },
    {
     "data": {
      "text/plain": [
       "LogisticRegression(class_weight='balanced')"
      ]
     },
     "execution_count": 51,
     "metadata": {},
     "output_type": "execute_result"
    },
    {
     "data": {
      "text/plain": [
       "LogisticRegression(class_weight='balanced')"
      ]
     },
     "execution_count": 51,
     "metadata": {},
     "output_type": "execute_result"
    },
    {
     "data": {
      "text/plain": [
       "LogisticRegression(class_weight='balanced')"
      ]
     },
     "execution_count": 51,
     "metadata": {},
     "output_type": "execute_result"
    },
    {
     "data": {
      "text/plain": [
       "LogisticRegression(class_weight='balanced')"
      ]
     },
     "execution_count": 51,
     "metadata": {},
     "output_type": "execute_result"
    },
    {
     "data": {
      "text/plain": [
       "LogisticRegression(class_weight='balanced')"
      ]
     },
     "execution_count": 51,
     "metadata": {},
     "output_type": "execute_result"
    },
    {
     "data": {
      "text/plain": [
       "LogisticRegression(class_weight='balanced')"
      ]
     },
     "execution_count": 51,
     "metadata": {},
     "output_type": "execute_result"
    },
    {
     "data": {
      "text/plain": [
       "LogisticRegression(class_weight='balanced')"
      ]
     },
     "execution_count": 51,
     "metadata": {},
     "output_type": "execute_result"
    },
    {
     "data": {
      "text/plain": [
       "LogisticRegression(class_weight='balanced')"
      ]
     },
     "execution_count": 51,
     "metadata": {},
     "output_type": "execute_result"
    },
    {
     "data": {
      "text/plain": [
       "LogisticRegression(class_weight='balanced')"
      ]
     },
     "execution_count": 51,
     "metadata": {},
     "output_type": "execute_result"
    },
    {
     "data": {
      "text/plain": [
       "LogisticRegression(class_weight='balanced')"
      ]
     },
     "execution_count": 51,
     "metadata": {},
     "output_type": "execute_result"
    },
    {
     "data": {
      "text/plain": [
       "LogisticRegression(class_weight='balanced')"
      ]
     },
     "execution_count": 51,
     "metadata": {},
     "output_type": "execute_result"
    },
    {
     "data": {
      "text/plain": [
       "LogisticRegression(class_weight='balanced')"
      ]
     },
     "execution_count": 51,
     "metadata": {},
     "output_type": "execute_result"
    },
    {
     "data": {
      "text/plain": [
       "LogisticRegression(class_weight='balanced')"
      ]
     },
     "execution_count": 51,
     "metadata": {},
     "output_type": "execute_result"
    },
    {
     "data": {
      "text/plain": [
       "LogisticRegression(class_weight='balanced')"
      ]
     },
     "execution_count": 51,
     "metadata": {},
     "output_type": "execute_result"
    },
    {
     "data": {
      "text/plain": [
       "LogisticRegression(class_weight='balanced')"
      ]
     },
     "execution_count": 51,
     "metadata": {},
     "output_type": "execute_result"
    },
    {
     "data": {
      "text/plain": [
       "LogisticRegression(class_weight='balanced')"
      ]
     },
     "execution_count": 51,
     "metadata": {},
     "output_type": "execute_result"
    },
    {
     "data": {
      "text/plain": [
       "LogisticRegression(class_weight='balanced')"
      ]
     },
     "execution_count": 51,
     "metadata": {},
     "output_type": "execute_result"
    },
    {
     "data": {
      "text/plain": [
       "LogisticRegression(class_weight='balanced')"
      ]
     },
     "execution_count": 51,
     "metadata": {},
     "output_type": "execute_result"
    },
    {
     "data": {
      "text/plain": [
       "LogisticRegression(class_weight='balanced')"
      ]
     },
     "execution_count": 51,
     "metadata": {},
     "output_type": "execute_result"
    },
    {
     "data": {
      "text/plain": [
       "LogisticRegression(class_weight='balanced')"
      ]
     },
     "execution_count": 51,
     "metadata": {},
     "output_type": "execute_result"
    },
    {
     "data": {
      "text/plain": [
       "LogisticRegression(class_weight='balanced')"
      ]
     },
     "execution_count": 51,
     "metadata": {},
     "output_type": "execute_result"
    },
    {
     "data": {
      "text/plain": [
       "LogisticRegression(class_weight='balanced')"
      ]
     },
     "execution_count": 51,
     "metadata": {},
     "output_type": "execute_result"
    },
    {
     "data": {
      "text/plain": [
       "LogisticRegression(class_weight='balanced')"
      ]
     },
     "execution_count": 51,
     "metadata": {},
     "output_type": "execute_result"
    },
    {
     "data": {
      "text/plain": [
       "LogisticRegression(class_weight='balanced')"
      ]
     },
     "execution_count": 51,
     "metadata": {},
     "output_type": "execute_result"
    },
    {
     "data": {
      "text/plain": [
       "LogisticRegression(class_weight='balanced')"
      ]
     },
     "execution_count": 51,
     "metadata": {},
     "output_type": "execute_result"
    },
    {
     "data": {
      "text/plain": [
       "LogisticRegression(class_weight='balanced')"
      ]
     },
     "execution_count": 51,
     "metadata": {},
     "output_type": "execute_result"
    },
    {
     "data": {
      "text/plain": [
       "LogisticRegression(class_weight='balanced')"
      ]
     },
     "execution_count": 51,
     "metadata": {},
     "output_type": "execute_result"
    },
    {
     "data": {
      "text/plain": [
       "LogisticRegression(class_weight='balanced')"
      ]
     },
     "execution_count": 51,
     "metadata": {},
     "output_type": "execute_result"
    },
    {
     "data": {
      "text/plain": [
       "LogisticRegression(class_weight='balanced')"
      ]
     },
     "execution_count": 51,
     "metadata": {},
     "output_type": "execute_result"
    },
    {
     "data": {
      "text/plain": [
       "LogisticRegression(class_weight='balanced')"
      ]
     },
     "execution_count": 51,
     "metadata": {},
     "output_type": "execute_result"
    },
    {
     "data": {
      "text/plain": [
       "LogisticRegression(class_weight='balanced')"
      ]
     },
     "execution_count": 51,
     "metadata": {},
     "output_type": "execute_result"
    },
    {
     "data": {
      "text/plain": [
       "LogisticRegression(class_weight='balanced')"
      ]
     },
     "execution_count": 51,
     "metadata": {},
     "output_type": "execute_result"
    },
    {
     "data": {
      "text/plain": [
       "LogisticRegression(class_weight='balanced')"
      ]
     },
     "execution_count": 51,
     "metadata": {},
     "output_type": "execute_result"
    },
    {
     "data": {
      "text/plain": [
       "LogisticRegression(class_weight='balanced')"
      ]
     },
     "execution_count": 51,
     "metadata": {},
     "output_type": "execute_result"
    },
    {
     "data": {
      "text/plain": [
       "LogisticRegression(class_weight='balanced')"
      ]
     },
     "execution_count": 51,
     "metadata": {},
     "output_type": "execute_result"
    },
    {
     "data": {
      "text/plain": [
       "LogisticRegression(class_weight='balanced')"
      ]
     },
     "execution_count": 51,
     "metadata": {},
     "output_type": "execute_result"
    },
    {
     "data": {
      "text/plain": [
       "LogisticRegression(class_weight='balanced')"
      ]
     },
     "execution_count": 51,
     "metadata": {},
     "output_type": "execute_result"
    },
    {
     "data": {
      "text/plain": [
       "LogisticRegression(class_weight='balanced')"
      ]
     },
     "execution_count": 51,
     "metadata": {},
     "output_type": "execute_result"
    },
    {
     "data": {
      "text/plain": [
       "LogisticRegression(class_weight='balanced')"
      ]
     },
     "execution_count": 51,
     "metadata": {},
     "output_type": "execute_result"
    },
    {
     "data": {
      "text/plain": [
       "LogisticRegression(class_weight='balanced')"
      ]
     },
     "execution_count": 51,
     "metadata": {},
     "output_type": "execute_result"
    },
    {
     "data": {
      "text/plain": [
       "LogisticRegression(class_weight='balanced')"
      ]
     },
     "execution_count": 51,
     "metadata": {},
     "output_type": "execute_result"
    },
    {
     "data": {
      "text/plain": [
       "LogisticRegression(class_weight='balanced')"
      ]
     },
     "execution_count": 51,
     "metadata": {},
     "output_type": "execute_result"
    },
    {
     "data": {
      "text/plain": [
       "LogisticRegression(class_weight='balanced')"
      ]
     },
     "execution_count": 51,
     "metadata": {},
     "output_type": "execute_result"
    },
    {
     "data": {
      "text/plain": [
       "LogisticRegression(class_weight='balanced')"
      ]
     },
     "execution_count": 51,
     "metadata": {},
     "output_type": "execute_result"
    },
    {
     "data": {
      "text/plain": [
       "LogisticRegression(class_weight='balanced')"
      ]
     },
     "execution_count": 51,
     "metadata": {},
     "output_type": "execute_result"
    },
    {
     "data": {
      "text/plain": [
       "LogisticRegression(class_weight='balanced')"
      ]
     },
     "execution_count": 51,
     "metadata": {},
     "output_type": "execute_result"
    },
    {
     "data": {
      "text/plain": [
       "LogisticRegression(class_weight='balanced')"
      ]
     },
     "execution_count": 51,
     "metadata": {},
     "output_type": "execute_result"
    },
    {
     "data": {
      "text/plain": [
       "LogisticRegression(class_weight='balanced')"
      ]
     },
     "execution_count": 51,
     "metadata": {},
     "output_type": "execute_result"
    },
    {
     "data": {
      "text/plain": [
       "LogisticRegression(class_weight='balanced')"
      ]
     },
     "execution_count": 51,
     "metadata": {},
     "output_type": "execute_result"
    },
    {
     "data": {
      "text/plain": [
       "LogisticRegression(class_weight='balanced')"
      ]
     },
     "execution_count": 51,
     "metadata": {},
     "output_type": "execute_result"
    },
    {
     "data": {
      "text/plain": [
       "LogisticRegression(class_weight='balanced')"
      ]
     },
     "execution_count": 51,
     "metadata": {},
     "output_type": "execute_result"
    },
    {
     "data": {
      "text/plain": [
       "LogisticRegression(class_weight='balanced')"
      ]
     },
     "execution_count": 51,
     "metadata": {},
     "output_type": "execute_result"
    },
    {
     "data": {
      "text/plain": [
       "LogisticRegression(class_weight='balanced')"
      ]
     },
     "execution_count": 51,
     "metadata": {},
     "output_type": "execute_result"
    },
    {
     "data": {
      "text/plain": [
       "LogisticRegression(class_weight='balanced')"
      ]
     },
     "execution_count": 51,
     "metadata": {},
     "output_type": "execute_result"
    },
    {
     "data": {
      "text/plain": [
       "LogisticRegression(class_weight='balanced')"
      ]
     },
     "execution_count": 51,
     "metadata": {},
     "output_type": "execute_result"
    },
    {
     "data": {
      "text/plain": [
       "LogisticRegression(class_weight='balanced')"
      ]
     },
     "execution_count": 51,
     "metadata": {},
     "output_type": "execute_result"
    },
    {
     "data": {
      "text/plain": [
       "LogisticRegression(class_weight='balanced')"
      ]
     },
     "execution_count": 51,
     "metadata": {},
     "output_type": "execute_result"
    },
    {
     "data": {
      "text/plain": [
       "LogisticRegression(class_weight='balanced')"
      ]
     },
     "execution_count": 51,
     "metadata": {},
     "output_type": "execute_result"
    },
    {
     "data": {
      "text/plain": [
       "LogisticRegression(class_weight='balanced')"
      ]
     },
     "execution_count": 51,
     "metadata": {},
     "output_type": "execute_result"
    },
    {
     "data": {
      "text/plain": [
       "LogisticRegression(class_weight='balanced')"
      ]
     },
     "execution_count": 51,
     "metadata": {},
     "output_type": "execute_result"
    },
    {
     "data": {
      "text/plain": [
       "LogisticRegression(class_weight='balanced')"
      ]
     },
     "execution_count": 51,
     "metadata": {},
     "output_type": "execute_result"
    },
    {
     "data": {
      "text/plain": [
       "LogisticRegression(class_weight='balanced')"
      ]
     },
     "execution_count": 51,
     "metadata": {},
     "output_type": "execute_result"
    },
    {
     "data": {
      "text/plain": [
       "LogisticRegression(class_weight='balanced')"
      ]
     },
     "execution_count": 51,
     "metadata": {},
     "output_type": "execute_result"
    },
    {
     "data": {
      "text/plain": [
       "LogisticRegression(class_weight='balanced')"
      ]
     },
     "execution_count": 51,
     "metadata": {},
     "output_type": "execute_result"
    },
    {
     "data": {
      "text/plain": [
       "LogisticRegression(class_weight='balanced')"
      ]
     },
     "execution_count": 51,
     "metadata": {},
     "output_type": "execute_result"
    },
    {
     "data": {
      "text/plain": [
       "LogisticRegression(class_weight='balanced')"
      ]
     },
     "execution_count": 51,
     "metadata": {},
     "output_type": "execute_result"
    },
    {
     "data": {
      "text/plain": [
       "LogisticRegression(class_weight='balanced')"
      ]
     },
     "execution_count": 51,
     "metadata": {},
     "output_type": "execute_result"
    },
    {
     "data": {
      "text/plain": [
       "LogisticRegression(class_weight='balanced')"
      ]
     },
     "execution_count": 51,
     "metadata": {},
     "output_type": "execute_result"
    },
    {
     "data": {
      "text/plain": [
       "LogisticRegression(class_weight='balanced')"
      ]
     },
     "execution_count": 51,
     "metadata": {},
     "output_type": "execute_result"
    },
    {
     "data": {
      "text/plain": [
       "LogisticRegression(class_weight='balanced')"
      ]
     },
     "execution_count": 51,
     "metadata": {},
     "output_type": "execute_result"
    },
    {
     "data": {
      "text/plain": [
       "LogisticRegression(class_weight='balanced')"
      ]
     },
     "execution_count": 51,
     "metadata": {},
     "output_type": "execute_result"
    },
    {
     "data": {
      "text/plain": [
       "LogisticRegression(class_weight='balanced')"
      ]
     },
     "execution_count": 51,
     "metadata": {},
     "output_type": "execute_result"
    },
    {
     "data": {
      "text/plain": [
       "LogisticRegression(class_weight='balanced')"
      ]
     },
     "execution_count": 51,
     "metadata": {},
     "output_type": "execute_result"
    },
    {
     "data": {
      "text/plain": [
       "LogisticRegression(class_weight='balanced')"
      ]
     },
     "execution_count": 51,
     "metadata": {},
     "output_type": "execute_result"
    },
    {
     "data": {
      "text/plain": [
       "LogisticRegression(class_weight='balanced')"
      ]
     },
     "execution_count": 51,
     "metadata": {},
     "output_type": "execute_result"
    },
    {
     "data": {
      "text/plain": [
       "LogisticRegression(class_weight='balanced')"
      ]
     },
     "execution_count": 51,
     "metadata": {},
     "output_type": "execute_result"
    },
    {
     "data": {
      "text/plain": [
       "LogisticRegression(class_weight='balanced')"
      ]
     },
     "execution_count": 51,
     "metadata": {},
     "output_type": "execute_result"
    },
    {
     "data": {
      "text/plain": [
       "LogisticRegression(class_weight='balanced')"
      ]
     },
     "execution_count": 51,
     "metadata": {},
     "output_type": "execute_result"
    },
    {
     "data": {
      "text/plain": [
       "LogisticRegression(class_weight='balanced')"
      ]
     },
     "execution_count": 51,
     "metadata": {},
     "output_type": "execute_result"
    },
    {
     "data": {
      "text/plain": [
       "LogisticRegression(class_weight='balanced')"
      ]
     },
     "execution_count": 51,
     "metadata": {},
     "output_type": "execute_result"
    },
    {
     "data": {
      "text/plain": [
       "LogisticRegression(class_weight='balanced')"
      ]
     },
     "execution_count": 51,
     "metadata": {},
     "output_type": "execute_result"
    },
    {
     "data": {
      "text/plain": [
       "LogisticRegression(class_weight='balanced')"
      ]
     },
     "execution_count": 51,
     "metadata": {},
     "output_type": "execute_result"
    },
    {
     "data": {
      "text/plain": [
       "LogisticRegression(class_weight='balanced')"
      ]
     },
     "execution_count": 51,
     "metadata": {},
     "output_type": "execute_result"
    },
    {
     "data": {
      "text/plain": [
       "LogisticRegression(class_weight='balanced')"
      ]
     },
     "execution_count": 51,
     "metadata": {},
     "output_type": "execute_result"
    },
    {
     "data": {
      "text/plain": [
       "LogisticRegression(class_weight='balanced')"
      ]
     },
     "execution_count": 51,
     "metadata": {},
     "output_type": "execute_result"
    },
    {
     "data": {
      "text/plain": [
       "LogisticRegression(class_weight='balanced')"
      ]
     },
     "execution_count": 51,
     "metadata": {},
     "output_type": "execute_result"
    },
    {
     "data": {
      "text/plain": [
       "LogisticRegression(class_weight='balanced')"
      ]
     },
     "execution_count": 51,
     "metadata": {},
     "output_type": "execute_result"
    },
    {
     "data": {
      "text/plain": [
       "LogisticRegression(class_weight='balanced')"
      ]
     },
     "execution_count": 51,
     "metadata": {},
     "output_type": "execute_result"
    },
    {
     "data": {
      "text/plain": [
       "LogisticRegression(class_weight='balanced')"
      ]
     },
     "execution_count": 51,
     "metadata": {},
     "output_type": "execute_result"
    },
    {
     "data": {
      "text/plain": [
       "LogisticRegression(class_weight='balanced')"
      ]
     },
     "execution_count": 51,
     "metadata": {},
     "output_type": "execute_result"
    },
    {
     "data": {
      "text/plain": [
       "LogisticRegression(class_weight='balanced')"
      ]
     },
     "execution_count": 51,
     "metadata": {},
     "output_type": "execute_result"
    },
    {
     "data": {
      "text/plain": [
       "LogisticRegression(class_weight='balanced')"
      ]
     },
     "execution_count": 51,
     "metadata": {},
     "output_type": "execute_result"
    },
    {
     "data": {
      "text/plain": [
       "LogisticRegression(class_weight='balanced')"
      ]
     },
     "execution_count": 51,
     "metadata": {},
     "output_type": "execute_result"
    },
    {
     "data": {
      "text/plain": [
       "LogisticRegression(class_weight='balanced')"
      ]
     },
     "execution_count": 51,
     "metadata": {},
     "output_type": "execute_result"
    },
    {
     "data": {
      "text/plain": [
       "LogisticRegression(class_weight='balanced')"
      ]
     },
     "execution_count": 51,
     "metadata": {},
     "output_type": "execute_result"
    },
    {
     "data": {
      "text/plain": [
       "LogisticRegression(class_weight='balanced')"
      ]
     },
     "execution_count": 51,
     "metadata": {},
     "output_type": "execute_result"
    },
    {
     "data": {
      "text/plain": [
       "LogisticRegression(class_weight='balanced')"
      ]
     },
     "execution_count": 51,
     "metadata": {},
     "output_type": "execute_result"
    },
    {
     "data": {
      "text/plain": [
       "LogisticRegression(class_weight='balanced')"
      ]
     },
     "execution_count": 51,
     "metadata": {},
     "output_type": "execute_result"
    },
    {
     "data": {
      "text/plain": [
       "LogisticRegression(class_weight='balanced')"
      ]
     },
     "execution_count": 51,
     "metadata": {},
     "output_type": "execute_result"
    },
    {
     "data": {
      "text/plain": [
       "LogisticRegression(class_weight='balanced')"
      ]
     },
     "execution_count": 51,
     "metadata": {},
     "output_type": "execute_result"
    },
    {
     "data": {
      "text/plain": [
       "LogisticRegression(class_weight='balanced')"
      ]
     },
     "execution_count": 51,
     "metadata": {},
     "output_type": "execute_result"
    },
    {
     "data": {
      "text/plain": [
       "LogisticRegression(class_weight='balanced')"
      ]
     },
     "execution_count": 51,
     "metadata": {},
     "output_type": "execute_result"
    },
    {
     "data": {
      "text/plain": [
       "LogisticRegression(class_weight='balanced')"
      ]
     },
     "execution_count": 51,
     "metadata": {},
     "output_type": "execute_result"
    },
    {
     "data": {
      "text/plain": [
       "LogisticRegression(class_weight='balanced')"
      ]
     },
     "execution_count": 51,
     "metadata": {},
     "output_type": "execute_result"
    },
    {
     "data": {
      "text/plain": [
       "LogisticRegression(class_weight='balanced')"
      ]
     },
     "execution_count": 51,
     "metadata": {},
     "output_type": "execute_result"
    },
    {
     "data": {
      "text/plain": [
       "LogisticRegression(class_weight='balanced')"
      ]
     },
     "execution_count": 51,
     "metadata": {},
     "output_type": "execute_result"
    },
    {
     "data": {
      "text/plain": [
       "LogisticRegression(class_weight='balanced')"
      ]
     },
     "execution_count": 51,
     "metadata": {},
     "output_type": "execute_result"
    },
    {
     "data": {
      "text/plain": [
       "LogisticRegression(class_weight='balanced')"
      ]
     },
     "execution_count": 51,
     "metadata": {},
     "output_type": "execute_result"
    },
    {
     "data": {
      "text/plain": [
       "LogisticRegression(class_weight='balanced')"
      ]
     },
     "execution_count": 51,
     "metadata": {},
     "output_type": "execute_result"
    },
    {
     "data": {
      "text/plain": [
       "LogisticRegression(class_weight='balanced')"
      ]
     },
     "execution_count": 51,
     "metadata": {},
     "output_type": "execute_result"
    },
    {
     "data": {
      "text/plain": [
       "LogisticRegression(class_weight='balanced')"
      ]
     },
     "execution_count": 51,
     "metadata": {},
     "output_type": "execute_result"
    },
    {
     "data": {
      "text/plain": [
       "LogisticRegression(class_weight='balanced')"
      ]
     },
     "execution_count": 51,
     "metadata": {},
     "output_type": "execute_result"
    },
    {
     "data": {
      "text/plain": [
       "LogisticRegression(class_weight='balanced')"
      ]
     },
     "execution_count": 51,
     "metadata": {},
     "output_type": "execute_result"
    },
    {
     "data": {
      "text/plain": [
       "LogisticRegression(class_weight='balanced')"
      ]
     },
     "execution_count": 51,
     "metadata": {},
     "output_type": "execute_result"
    },
    {
     "data": {
      "text/plain": [
       "LogisticRegression(class_weight='balanced')"
      ]
     },
     "execution_count": 51,
     "metadata": {},
     "output_type": "execute_result"
    },
    {
     "data": {
      "text/plain": [
       "LogisticRegression(class_weight='balanced')"
      ]
     },
     "execution_count": 51,
     "metadata": {},
     "output_type": "execute_result"
    },
    {
     "data": {
      "text/plain": [
       "LogisticRegression(class_weight='balanced')"
      ]
     },
     "execution_count": 51,
     "metadata": {},
     "output_type": "execute_result"
    },
    {
     "data": {
      "text/plain": [
       "LogisticRegression(class_weight='balanced')"
      ]
     },
     "execution_count": 51,
     "metadata": {},
     "output_type": "execute_result"
    },
    {
     "data": {
      "text/plain": [
       "LogisticRegression(class_weight='balanced')"
      ]
     },
     "execution_count": 51,
     "metadata": {},
     "output_type": "execute_result"
    },
    {
     "data": {
      "text/plain": [
       "LogisticRegression(class_weight='balanced')"
      ]
     },
     "execution_count": 51,
     "metadata": {},
     "output_type": "execute_result"
    },
    {
     "data": {
      "text/plain": [
       "LogisticRegression(class_weight='balanced')"
      ]
     },
     "execution_count": 51,
     "metadata": {},
     "output_type": "execute_result"
    },
    {
     "data": {
      "text/plain": [
       "LogisticRegression(class_weight='balanced')"
      ]
     },
     "execution_count": 51,
     "metadata": {},
     "output_type": "execute_result"
    },
    {
     "data": {
      "text/plain": [
       "LogisticRegression(class_weight='balanced')"
      ]
     },
     "execution_count": 51,
     "metadata": {},
     "output_type": "execute_result"
    },
    {
     "data": {
      "text/plain": [
       "LogisticRegression(class_weight='balanced')"
      ]
     },
     "execution_count": 51,
     "metadata": {},
     "output_type": "execute_result"
    },
    {
     "data": {
      "text/plain": [
       "LogisticRegression(class_weight='balanced')"
      ]
     },
     "execution_count": 51,
     "metadata": {},
     "output_type": "execute_result"
    }
   ],
   "source": [
    "# need two conditions to decide wether to use the dumb classifier or not\n",
    "# 1) threhsold on the number of examples\n",
    "# 2) and there must be examples of both classes\n",
    "\n",
    "df_metrics = pd.DataFrame(columns=['diag','precision','recall','f1','clf','type'])\n",
    "\n",
    "signal = False\n",
    "clf_party = {}\n",
    "threshold = 20\n",
    "for diag in outs.columns:\n",
    "    \n",
    "    n_TP = (TP[diag] == True).sum()\n",
    "    n_FP = (FP[diag] == True).sum()\n",
    "    \n",
    "    total_n = n_TP + n_FP\n",
    "    \n",
    "    if total_n < threshold or n_TP < 5 or n_FP < 5:\n",
    "        #use dumb classifier\n",
    "        clf = DumbClassifier()\n",
    "        df_metrics = df_metrics.append({'diag':diag,'precision':np.nan,'recall':np.nan,'f1':np.nan,'clf':clf,'type':'dumb'},ignore_index=True)\n",
    "    else:\n",
    "        #use logistic regression\n",
    "        \n",
    "        ## create dataset\n",
    "        mean_tp = means[diag][TP[diag]].to_frame('mean')\n",
    "        mean_fp = means[diag][FP[diag]].to_frame('mean')\n",
    "        \n",
    "        var_tp = variances[diag][TP[diag]].to_frame('var')\n",
    "        var_fp = variances[diag][FP[diag]].to_frame('var')\n",
    "        \n",
    "        df_tp = pd.concat([mean_tp,var_tp],axis=1).assign(label=0).reset_index(drop=True)\n",
    "        df_fp = pd.concat([mean_fp,var_fp],axis=1).assign(label=1).reset_index(drop=True)\n",
    "        \n",
    "        df = pd.concat([df_tp,df_fp],ignore_index=True).sample(frac=1.0)\n",
    "        \n",
    "        if signal == False:\n",
    "            print('TP/FP dataset for diagnostic ',diag)\n",
    "            display(df)\n",
    "            signal = True\n",
    "        \n",
    "        ## split into train-test\n",
    "        \n",
    "        X_train,X_test,y_train,y_test = train_test_split(df[['mean','var']],df['label'],stratify=df['label'])\n",
    "        \n",
    "        ## train\n",
    "        clf = LogisticRegression(class_weight=\"balanced\");\n",
    "        clf.fit(X_train,y_train);\n",
    "        \n",
    "        ## evaluate\n",
    "        preds = clf.predict(X_test);\n",
    "        \n",
    "        precision = precision_score(y_test,preds)\n",
    "        recall = recall_score(y_test,preds)\n",
    "        f1 = f1_score(y_test,preds)\n",
    "        \n",
    "        df_metrics = df_metrics.append({'diag':diag,'precision':precision,'recall':recall,'f1':f1,'clf':clf,'type':'model'},ignore_index=True)\n",
    "    \n",
    "    clf_party[diag] = clf\n",
    "    "
   ]
  },
  {
   "cell_type": "code",
   "execution_count": 54,
   "metadata": {},
   "outputs": [
    {
     "data": {
      "text/html": [
       "<div>\n",
       "<style scoped>\n",
       "    .dataframe tbody tr th:only-of-type {\n",
       "        vertical-align: middle;\n",
       "    }\n",
       "\n",
       "    .dataframe tbody tr th {\n",
       "        vertical-align: top;\n",
       "    }\n",
       "\n",
       "    .dataframe thead th {\n",
       "        text-align: right;\n",
       "    }\n",
       "</style>\n",
       "<table border=\"1\" class=\"dataframe\">\n",
       "  <thead>\n",
       "    <tr style=\"text-align: right;\">\n",
       "      <th></th>\n",
       "      <th>diag</th>\n",
       "      <th>precision</th>\n",
       "      <th>recall</th>\n",
       "      <th>f1</th>\n",
       "      <th>clf</th>\n",
       "      <th>type</th>\n",
       "    </tr>\n",
       "  </thead>\n",
       "  <tbody>\n",
       "    <tr>\n",
       "      <th>0</th>\n",
       "      <td>diag_0</td>\n",
       "      <td>NaN</td>\n",
       "      <td>NaN</td>\n",
       "      <td>NaN</td>\n",
       "      <td>DumbClassifier()</td>\n",
       "      <td>dumb</td>\n",
       "    </tr>\n",
       "    <tr>\n",
       "      <th>1</th>\n",
       "      <td>diag_1</td>\n",
       "      <td>0.852941</td>\n",
       "      <td>0.728033</td>\n",
       "      <td>0.785553</td>\n",
       "      <td>LogisticRegression(class_weight='balanced')</td>\n",
       "      <td>model</td>\n",
       "    </tr>\n",
       "    <tr>\n",
       "      <th>2</th>\n",
       "      <td>diag_2</td>\n",
       "      <td>0.833333</td>\n",
       "      <td>0.714286</td>\n",
       "      <td>0.769231</td>\n",
       "      <td>LogisticRegression(class_weight='balanced')</td>\n",
       "      <td>model</td>\n",
       "    </tr>\n",
       "    <tr>\n",
       "      <th>3</th>\n",
       "      <td>diag_3</td>\n",
       "      <td>0.925926</td>\n",
       "      <td>0.684932</td>\n",
       "      <td>0.787402</td>\n",
       "      <td>LogisticRegression(class_weight='balanced')</td>\n",
       "      <td>model</td>\n",
       "    </tr>\n",
       "    <tr>\n",
       "      <th>4</th>\n",
       "      <td>diag_4</td>\n",
       "      <td>0.928571</td>\n",
       "      <td>1.000000</td>\n",
       "      <td>0.962963</td>\n",
       "      <td>LogisticRegression(class_weight='balanced')</td>\n",
       "      <td>model</td>\n",
       "    </tr>\n",
       "    <tr>\n",
       "      <th>...</th>\n",
       "      <td>...</td>\n",
       "      <td>...</td>\n",
       "      <td>...</td>\n",
       "      <td>...</td>\n",
       "      <td>...</td>\n",
       "      <td>...</td>\n",
       "    </tr>\n",
       "    <tr>\n",
       "      <th>267</th>\n",
       "      <td>diag_267</td>\n",
       "      <td>0.870968</td>\n",
       "      <td>0.586957</td>\n",
       "      <td>0.701299</td>\n",
       "      <td>LogisticRegression(class_weight='balanced')</td>\n",
       "      <td>model</td>\n",
       "    </tr>\n",
       "    <tr>\n",
       "      <th>268</th>\n",
       "      <td>diag_268</td>\n",
       "      <td>1.000000</td>\n",
       "      <td>0.666667</td>\n",
       "      <td>0.800000</td>\n",
       "      <td>LogisticRegression(class_weight='balanced')</td>\n",
       "      <td>model</td>\n",
       "    </tr>\n",
       "    <tr>\n",
       "      <th>269</th>\n",
       "      <td>diag_269</td>\n",
       "      <td>NaN</td>\n",
       "      <td>NaN</td>\n",
       "      <td>NaN</td>\n",
       "      <td>DumbClassifier()</td>\n",
       "      <td>dumb</td>\n",
       "    </tr>\n",
       "    <tr>\n",
       "      <th>270</th>\n",
       "      <td>diag_270</td>\n",
       "      <td>NaN</td>\n",
       "      <td>NaN</td>\n",
       "      <td>NaN</td>\n",
       "      <td>DumbClassifier()</td>\n",
       "      <td>dumb</td>\n",
       "    </tr>\n",
       "    <tr>\n",
       "      <th>271</th>\n",
       "      <td>diag_271</td>\n",
       "      <td>NaN</td>\n",
       "      <td>NaN</td>\n",
       "      <td>NaN</td>\n",
       "      <td>DumbClassifier()</td>\n",
       "      <td>dumb</td>\n",
       "    </tr>\n",
       "  </tbody>\n",
       "</table>\n",
       "<p>272 rows × 6 columns</p>\n",
       "</div>"
      ],
      "text/plain": [
       "         diag  precision    recall        f1  \\\n",
       "0      diag_0        NaN       NaN       NaN   \n",
       "1      diag_1   0.852941  0.728033  0.785553   \n",
       "2      diag_2   0.833333  0.714286  0.769231   \n",
       "3      diag_3   0.925926  0.684932  0.787402   \n",
       "4      diag_4   0.928571  1.000000  0.962963   \n",
       "..        ...        ...       ...       ...   \n",
       "267  diag_267   0.870968  0.586957  0.701299   \n",
       "268  diag_268   1.000000  0.666667  0.800000   \n",
       "269  diag_269        NaN       NaN       NaN   \n",
       "270  diag_270        NaN       NaN       NaN   \n",
       "271  diag_271        NaN       NaN       NaN   \n",
       "\n",
       "                                             clf   type  \n",
       "0                               DumbClassifier()   dumb  \n",
       "1    LogisticRegression(class_weight='balanced')  model  \n",
       "2    LogisticRegression(class_weight='balanced')  model  \n",
       "3    LogisticRegression(class_weight='balanced')  model  \n",
       "4    LogisticRegression(class_weight='balanced')  model  \n",
       "..                                           ...    ...  \n",
       "267  LogisticRegression(class_weight='balanced')  model  \n",
       "268  LogisticRegression(class_weight='balanced')  model  \n",
       "269                             DumbClassifier()   dumb  \n",
       "270                             DumbClassifier()   dumb  \n",
       "271                             DumbClassifier()   dumb  \n",
       "\n",
       "[272 rows x 6 columns]"
      ]
     },
     "execution_count": 54,
     "metadata": {},
     "output_type": "execute_result"
    }
   ],
   "source": [
    "df_metrics"
   ]
  },
  {
   "cell_type": "code",
   "execution_count": 36,
   "metadata": {},
   "outputs": [
    {
     "data": {
      "text/plain": [
       "count    130.000000\n",
       "mean       0.778522\n",
       "std        0.116201\n",
       "min        0.222222\n",
       "25%        0.726173\n",
       "50%        0.783482\n",
       "75%        0.857143\n",
       "max        1.000000\n",
       "Name: f1, dtype: float64"
      ]
     },
     "execution_count": 36,
     "metadata": {},
     "output_type": "execute_result"
    }
   ],
   "source": [
    "df_metrics.f1.describe()"
   ]
  },
  {
   "cell_type": "code",
   "execution_count": 37,
   "metadata": {},
   "outputs": [
    {
     "data": {
      "text/html": [
       "<div>\n",
       "<style scoped>\n",
       "    .dataframe tbody tr th:only-of-type {\n",
       "        vertical-align: middle;\n",
       "    }\n",
       "\n",
       "    .dataframe tbody tr th {\n",
       "        vertical-align: top;\n",
       "    }\n",
       "\n",
       "    .dataframe thead th {\n",
       "        text-align: right;\n",
       "    }\n",
       "</style>\n",
       "<table border=\"1\" class=\"dataframe\">\n",
       "  <thead>\n",
       "    <tr style=\"text-align: right;\">\n",
       "      <th></th>\n",
       "      <th>precision</th>\n",
       "      <th>recall</th>\n",
       "      <th>f1</th>\n",
       "      <th>clf</th>\n",
       "      <th>type</th>\n",
       "    </tr>\n",
       "    <tr>\n",
       "      <th>diag</th>\n",
       "      <th></th>\n",
       "      <th></th>\n",
       "      <th></th>\n",
       "      <th></th>\n",
       "      <th></th>\n",
       "    </tr>\n",
       "  </thead>\n",
       "  <tbody>\n",
       "    <tr>\n",
       "      <th>diag_0</th>\n",
       "      <td>NaN</td>\n",
       "      <td>NaN</td>\n",
       "      <td>NaN</td>\n",
       "      <td>DumbClassifier()</td>\n",
       "      <td>dumb</td>\n",
       "    </tr>\n",
       "    <tr>\n",
       "      <th>diag_1</th>\n",
       "      <td>0.825472</td>\n",
       "      <td>0.732218</td>\n",
       "      <td>0.776053</td>\n",
       "      <td>LogisticRegression(class_weight='balanced')</td>\n",
       "      <td>model</td>\n",
       "    </tr>\n",
       "  </tbody>\n",
       "</table>\n",
       "</div>"
      ],
      "text/plain": [
       "        precision    recall        f1  \\\n",
       "diag                                    \n",
       "diag_0        NaN       NaN       NaN   \n",
       "diag_1   0.825472  0.732218  0.776053   \n",
       "\n",
       "                                                clf   type  \n",
       "diag                                                        \n",
       "diag_0                             DumbClassifier()   dumb  \n",
       "diag_1  LogisticRegression(class_weight='balanced')  model  "
      ]
     },
     "execution_count": 37,
     "metadata": {},
     "output_type": "execute_result"
    }
   ],
   "source": [
    "df_metrics = df_metrics.set_index('diag')\n",
    "df_metrics.head(2)"
   ]
  },
  {
   "cell_type": "markdown",
   "metadata": {},
   "source": [
    "## Classifiers are trained. Now we need to apply them"
   ]
  },
  {
   "cell_type": "code",
   "execution_count": 40,
   "metadata": {},
   "outputs": [],
   "source": [
    "# notice we use the test set now\n",
    "outs, golden = outs2df_mc(model,test_dataloader,dataset,return_golden=True)"
   ]
  },
  {
   "cell_type": "code",
   "execution_count": 41,
   "metadata": {},
   "outputs": [
    {
     "data": {
      "text/html": [
       "<div>\n",
       "<style scoped>\n",
       "    .dataframe tbody tr th:only-of-type {\n",
       "        vertical-align: middle;\n",
       "    }\n",
       "\n",
       "    .dataframe tbody tr th {\n",
       "        vertical-align: top;\n",
       "    }\n",
       "\n",
       "    .dataframe thead tr th {\n",
       "        text-align: left;\n",
       "    }\n",
       "\n",
       "    .dataframe thead tr:last-of-type th {\n",
       "        text-align: right;\n",
       "    }\n",
       "</style>\n",
       "<table border=\"1\" class=\"dataframe\">\n",
       "  <thead>\n",
       "    <tr>\n",
       "      <th></th>\n",
       "      <th></th>\n",
       "      <th colspan=\"2\" halign=\"left\">diag_0</th>\n",
       "      <th colspan=\"2\" halign=\"left\">diag_1</th>\n",
       "      <th colspan=\"2\" halign=\"left\">diag_2</th>\n",
       "      <th colspan=\"2\" halign=\"left\">diag_3</th>\n",
       "      <th colspan=\"2\" halign=\"left\">diag_4</th>\n",
       "      <th>...</th>\n",
       "      <th colspan=\"2\" halign=\"left\">diag_267</th>\n",
       "      <th colspan=\"2\" halign=\"left\">diag_268</th>\n",
       "      <th colspan=\"2\" halign=\"left\">diag_269</th>\n",
       "      <th colspan=\"2\" halign=\"left\">diag_270</th>\n",
       "      <th colspan=\"2\" halign=\"left\">diag_271</th>\n",
       "    </tr>\n",
       "    <tr>\n",
       "      <th></th>\n",
       "      <th></th>\n",
       "      <th>mean</th>\n",
       "      <th>var</th>\n",
       "      <th>mean</th>\n",
       "      <th>var</th>\n",
       "      <th>mean</th>\n",
       "      <th>var</th>\n",
       "      <th>mean</th>\n",
       "      <th>var</th>\n",
       "      <th>mean</th>\n",
       "      <th>var</th>\n",
       "      <th>...</th>\n",
       "      <th>mean</th>\n",
       "      <th>var</th>\n",
       "      <th>mean</th>\n",
       "      <th>var</th>\n",
       "      <th>mean</th>\n",
       "      <th>var</th>\n",
       "      <th>mean</th>\n",
       "      <th>var</th>\n",
       "      <th>mean</th>\n",
       "      <th>var</th>\n",
       "    </tr>\n",
       "    <tr>\n",
       "      <th>pat_id</th>\n",
       "      <th>adm_index</th>\n",
       "      <th></th>\n",
       "      <th></th>\n",
       "      <th></th>\n",
       "      <th></th>\n",
       "      <th></th>\n",
       "      <th></th>\n",
       "      <th></th>\n",
       "      <th></th>\n",
       "      <th></th>\n",
       "      <th></th>\n",
       "      <th></th>\n",
       "      <th></th>\n",
       "      <th></th>\n",
       "      <th></th>\n",
       "      <th></th>\n",
       "      <th></th>\n",
       "      <th></th>\n",
       "      <th></th>\n",
       "      <th></th>\n",
       "      <th></th>\n",
       "      <th></th>\n",
       "    </tr>\n",
       "  </thead>\n",
       "  <tbody>\n",
       "    <tr>\n",
       "      <th>111</th>\n",
       "      <th>1</th>\n",
       "      <td>0.004701</td>\n",
       "      <td>0.000019</td>\n",
       "      <td>0.116785</td>\n",
       "      <td>0.005887</td>\n",
       "      <td>0.065542</td>\n",
       "      <td>0.001256</td>\n",
       "      <td>0.079300</td>\n",
       "      <td>0.004014</td>\n",
       "      <td>0.004696</td>\n",
       "      <td>0.000131</td>\n",
       "      <td>...</td>\n",
       "      <td>0.074276</td>\n",
       "      <td>0.001889</td>\n",
       "      <td>0.007996</td>\n",
       "      <td>0.000072</td>\n",
       "      <td>0.000820</td>\n",
       "      <td>8.537181e-07</td>\n",
       "      <td>0.007856</td>\n",
       "      <td>0.000032</td>\n",
       "      <td>0.032915</td>\n",
       "      <td>0.000292</td>\n",
       "    </tr>\n",
       "    <tr>\n",
       "      <th>145</th>\n",
       "      <th>1</th>\n",
       "      <td>0.001755</td>\n",
       "      <td>0.000003</td>\n",
       "      <td>0.424322</td>\n",
       "      <td>0.024145</td>\n",
       "      <td>0.152189</td>\n",
       "      <td>0.007601</td>\n",
       "      <td>0.091257</td>\n",
       "      <td>0.003928</td>\n",
       "      <td>0.003754</td>\n",
       "      <td>0.000069</td>\n",
       "      <td>...</td>\n",
       "      <td>0.084654</td>\n",
       "      <td>0.001018</td>\n",
       "      <td>0.009084</td>\n",
       "      <td>0.000135</td>\n",
       "      <td>0.001416</td>\n",
       "      <td>3.885988e-06</td>\n",
       "      <td>0.010190</td>\n",
       "      <td>0.000054</td>\n",
       "      <td>0.039373</td>\n",
       "      <td>0.000964</td>\n",
       "    </tr>\n",
       "    <tr>\n",
       "      <th>199</th>\n",
       "      <th>1</th>\n",
       "      <td>0.017339</td>\n",
       "      <td>0.000251</td>\n",
       "      <td>0.114845</td>\n",
       "      <td>0.000946</td>\n",
       "      <td>0.053656</td>\n",
       "      <td>0.000374</td>\n",
       "      <td>0.056983</td>\n",
       "      <td>0.000498</td>\n",
       "      <td>0.004713</td>\n",
       "      <td>0.000039</td>\n",
       "      <td>...</td>\n",
       "      <td>0.095553</td>\n",
       "      <td>0.001233</td>\n",
       "      <td>0.003930</td>\n",
       "      <td>0.000009</td>\n",
       "      <td>0.001536</td>\n",
       "      <td>4.073438e-06</td>\n",
       "      <td>0.005488</td>\n",
       "      <td>0.000016</td>\n",
       "      <td>0.017995</td>\n",
       "      <td>0.000222</td>\n",
       "    </tr>\n",
       "  </tbody>\n",
       "</table>\n",
       "<p>3 rows × 544 columns</p>\n",
       "</div>"
      ],
      "text/plain": [
       "                    diag_0              diag_1              diag_2            \\\n",
       "                      mean       var      mean       var      mean       var   \n",
       "pat_id adm_index                                                               \n",
       "111    1          0.004701  0.000019  0.116785  0.005887  0.065542  0.001256   \n",
       "145    1          0.001755  0.000003  0.424322  0.024145  0.152189  0.007601   \n",
       "199    1          0.017339  0.000251  0.114845  0.000946  0.053656  0.000374   \n",
       "\n",
       "                    diag_3              diag_4            ...  diag_267  \\\n",
       "                      mean       var      mean       var  ...      mean   \n",
       "pat_id adm_index                                          ...             \n",
       "111    1          0.079300  0.004014  0.004696  0.000131  ...  0.074276   \n",
       "145    1          0.091257  0.003928  0.003754  0.000069  ...  0.084654   \n",
       "199    1          0.056983  0.000498  0.004713  0.000039  ...  0.095553   \n",
       "\n",
       "                            diag_268            diag_269                \\\n",
       "                       var      mean       var      mean           var   \n",
       "pat_id adm_index                                                         \n",
       "111    1          0.001889  0.007996  0.000072  0.000820  8.537181e-07   \n",
       "145    1          0.001018  0.009084  0.000135  0.001416  3.885988e-06   \n",
       "199    1          0.001233  0.003930  0.000009  0.001536  4.073438e-06   \n",
       "\n",
       "                  diag_270            diag_271            \n",
       "                      mean       var      mean       var  \n",
       "pat_id adm_index                                          \n",
       "111    1          0.007856  0.000032  0.032915  0.000292  \n",
       "145    1          0.010190  0.000054  0.039373  0.000964  \n",
       "199    1          0.005488  0.000016  0.017995  0.000222  \n",
       "\n",
       "[3 rows x 544 columns]"
      ]
     },
     "execution_count": 41,
     "metadata": {},
     "output_type": "execute_result"
    }
   ],
   "source": [
    "stats_outs = outs.groupby(['pat_id','adm_index']).agg(['mean','var'])\n",
    "stats_outs.head(3)"
   ]
  },
  {
   "cell_type": "code",
   "execution_count": 42,
   "metadata": {},
   "outputs": [],
   "source": [
    "k = 30\n",
    "topk_outputs = stats_outs.apply(lambda row: row.loc[idx[:,'mean']].nlargest(k),axis=1)\n",
    "\n",
    "# fix missing columns from previous operation\n",
    "original_class_columns = stats_outs.columns.get_level_values(0).unique()\n",
    "missing_cols = [col for col in original_class_columns if col not in topk_outputs.columns]\n",
    "topk_outputs_all_cols = pd.concat([topk_outputs,pd.DataFrame(columns=missing_cols)])\n",
    "topk_outputs_all_cols = topk_outputs_all_cols[original_class_columns]\n",
    "\n",
    "topk_predictions = np.where(topk_outputs_all_cols.isna(),0,1)\n",
    "topk_predictions = pd.DataFrame(data=topk_predictions,columns=original_class_columns,index=stats_outs.index)"
   ]
  },
  {
   "cell_type": "code",
   "execution_count": 43,
   "metadata": {},
   "outputs": [],
   "source": [
    "def abstain(row,df_metrics,stats_outs):\n",
    "    \"\"\"\n",
    "    Receives a row which contains the predictions of all diagnoses (0 or 1) for a given admission.\n",
    "    Also receives df_metrics, which contains the LRs trained on each diagnostic (that predicts if TP or FP)\n",
    "    And stats_outs contains the means and variances of the forward passes.\n",
    "    \n",
    "    this function will turn some predictions from 1 to 0 if the LR model predicts it will be a FP.\n",
    "    \"\"\"\n",
    "    new_row = row.copy()\n",
    "    admission_forward_stats = stats_outs.loc[row.name,:]\n",
    "    for index,elem in row.iteritems():\n",
    "        if elem == 1:\n",
    "            datapoint = admission_forward_stats[index].to_numpy()\n",
    "            clf = df_metrics.loc[index,'clf']\n",
    "            pred = clf.predict(datapoint.reshape((-1,2)))\n",
    "            \n",
    "            if pred == 1: #abstain\n",
    "                new_row[index] = 0\n",
    "    return new_row"
   ]
  },
  {
   "cell_type": "markdown",
   "metadata": {},
   "source": [
    "and abstain from topk now"
   ]
  },
  {
   "cell_type": "code",
   "execution_count": 46,
   "metadata": {},
   "outputs": [],
   "source": [
    "# metrics of topk\n",
    "metrics_normal = compute_metrics(topk_outputs_all_cols.fillna(0),topk_predictions,golden,['precision@30','recall@30','f1@30'])\n",
    "\n",
    "# metrics of topk and abstention afterwards\n",
    "\n",
    "top_k_predictions_abstained = topk_predictions.apply(lambda row: abstain(row,df_metrics,stats_outs),axis=1)\n",
    "topk_outputs_all_cols_after_abstention = topk_outputs_all_cols.fillna(0).mask(top_k_predictions_abstained == 0,0)\n",
    "metrics_w_abstention = compute_metrics(topk_outputs_all_cols_after_abstention,top_k_predictions_abstained,golden,['precision@30','recall@30','f1@30'])"
   ]
  },
  {
   "cell_type": "code",
   "execution_count": 47,
   "metadata": {},
   "outputs": [
    {
     "data": {
      "text/html": [
       "<div>\n",
       "<style scoped>\n",
       "    .dataframe tbody tr th:only-of-type {\n",
       "        vertical-align: middle;\n",
       "    }\n",
       "\n",
       "    .dataframe tbody tr th {\n",
       "        vertical-align: top;\n",
       "    }\n",
       "\n",
       "    .dataframe thead th {\n",
       "        text-align: right;\n",
       "    }\n",
       "</style>\n",
       "<table border=\"1\" class=\"dataframe\">\n",
       "  <thead>\n",
       "    <tr style=\"text-align: right;\">\n",
       "      <th></th>\n",
       "      <th>initial top 30</th>\n",
       "      <th>top 30 + abstention through MC dropout</th>\n",
       "    </tr>\n",
       "    <tr>\n",
       "      <th>metrics</th>\n",
       "      <th></th>\n",
       "      <th></th>\n",
       "    </tr>\n",
       "  </thead>\n",
       "  <tbody>\n",
       "    <tr>\n",
       "      <th>precision@30_adm</th>\n",
       "      <td>0.275204</td>\n",
       "      <td>0.466208</td>\n",
       "    </tr>\n",
       "    <tr>\n",
       "      <th>recall@30_adm</th>\n",
       "      <td>0.699512</td>\n",
       "      <td>0.453028</td>\n",
       "    </tr>\n",
       "    <tr>\n",
       "      <th>f1@30_adm</th>\n",
       "      <td>0.378593</td>\n",
       "      <td>0.430229</td>\n",
       "    </tr>\n",
       "  </tbody>\n",
       "</table>\n",
       "</div>"
      ],
      "text/plain": [
       "                  initial top 30  top 30 + abstention through MC dropout\n",
       "metrics                                                                 \n",
       "precision@30_adm        0.275204                                0.466208\n",
       "recall@30_adm           0.699512                                0.453028\n",
       "f1@30_adm               0.378593                                0.430229"
      ]
     },
     "execution_count": 47,
     "metadata": {},
     "output_type": "execute_result"
    }
   ],
   "source": [
    "metrics_normal.name = 'initial top 30'\n",
    "metrics_w_abstention.name = 'top 30 + abstention through MC dropout'\n",
    "pd.concat([metrics_normal,metrics_w_abstention],axis=1).iloc[3:]"
   ]
  },
  {
   "cell_type": "markdown",
   "metadata": {},
   "source": [
    "-----"
   ]
  }
 ],
 "metadata": {
  "kernelspec": {
   "display_name": "Python (mthesis)",
   "language": "python",
   "name": "mthesis"
  },
  "language_info": {
   "codemirror_mode": {
    "name": "ipython",
    "version": 3
   },
   "file_extension": ".py",
   "mimetype": "text/x-python",
   "name": "python",
   "nbconvert_exporter": "python",
   "pygments_lexer": "ipython3",
   "version": "3.9.12"
  }
 },
 "nbformat": 4,
 "nbformat_minor": 4
}
