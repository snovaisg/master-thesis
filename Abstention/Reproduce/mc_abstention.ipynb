{
 "cells": [
  {
   "cell_type": "markdown",
   "metadata": {},
   "source": [
    "# MC dropout abstention (baseline mode)\n",
    "\n",
    "Produce N forward passes and record variance and mean.\n",
    "\n",
    "Train model that receives variance and mean of a particular diagnostic on a particular visit and models if that prediction is True positive or False positive.\n",
    "\n",
    "baseline mode means:\n",
    "1. I'm using validation set to train the LR on tp vs. fp. and test set to evaluate the model on an unseen data\n",
    "2. I'm using a simple threshold of 0.5 on the logistic regressions."
   ]
  },
  {
   "cell_type": "code",
   "execution_count": 1,
   "metadata": {},
   "outputs": [],
   "source": [
    "from torch import nn\n",
    "import torch\n",
    "from torch.nn.utils.rnn import pack_padded_sequence, pad_packed_sequence, pad_sequence, pack_sequence"
   ]
  },
  {
   "cell_type": "code",
   "execution_count": 2,
   "metadata": {},
   "outputs": [],
   "source": [
    "import os\n",
    "cwd = os.getcwd()\n",
    "\n",
    "# protection against running this cell multiple times\n",
    "assert os.path.dirname(os.path.dirname(cwd)).split('/')[-1] == 'master-thesis','Oops, directory already changed previously as indended. Ignoring...'\n",
    "\n",
    "# change working directory (if assert passed)\n",
    "new_cwd = os.path.dirname(os.path.dirname(cwd)) # parent directory\n",
    "os.chdir(new_cwd)"
   ]
  },
  {
   "cell_type": "code",
   "execution_count": 3,
   "metadata": {},
   "outputs": [],
   "source": [
    "import sys\n",
    "import os\n",
    "this_dir = \"..\"\n",
    "if this_dir not in sys.path:\n",
    "    sys.path.append(this_dir)\n",
    "\n",
    "from rnn_utils import DiagnosesDataset, split_dataset, MYCOLLATE\n",
    "from rnn_utils import train_one_epoch, eval_model, outs2df_mc, compute_metrics\n",
    "\n",
    "from mourga_variational.variational_rnn import VariationalRNN\n",
    "\n",
    "import torch\n",
    "from torch.utils.data import Dataset, DataLoader, random_split\n",
    "\n",
    "from sklearn.model_selection import ParameterGrid, ParameterSampler\n",
    "\n",
    "import matplotlib.pyplot as plt\n",
    "import numpy as np\n",
    "import pandas as pd\n",
    "idx = pd.IndexSlice\n",
    "\n",
    "from config import Settings; settings = Settings()\n",
    "\n",
    "import wandb"
   ]
  },
  {
   "cell_type": "code",
   "execution_count": 4,
   "metadata": {},
   "outputs": [
    {
     "data": {
      "text/plain": [
       "<torch._C.Generator at 0x112b3eb90>"
      ]
     },
     "execution_count": 4,
     "metadata": {},
     "output_type": "execute_result"
    }
   ],
   "source": [
    "# Reproducibility\n",
    "seed = settings.random_seed\n",
    "\n",
    "np.random.seed(seed)\n",
    "torch.manual_seed(seed)\n",
    "torch.cuda.manual_seed(seed)"
   ]
  },
  {
   "cell_type": "code",
   "execution_count": 5,
   "metadata": {},
   "outputs": [],
   "source": [
    "dataset_id = 'diag_only'\n",
    "grouping = 'ccs'\n",
    "batch_size=64"
   ]
  },
  {
   "cell_type": "code",
   "execution_count": 6,
   "metadata": {},
   "outputs": [
    {
     "name": "stdout",
     "output_type": "stream",
     "text": [
      "dataset at data/model_ready_dataset/diag_only\n"
     ]
    },
    {
     "data": {
      "text/plain": [
       "5249"
      ]
     },
     "execution_count": 6,
     "metadata": {},
     "output_type": "execute_result"
    },
    {
     "data": {
      "text/plain": [
       "1125"
      ]
     },
     "execution_count": 6,
     "metadata": {},
     "output_type": "execute_result"
    },
    {
     "data": {
      "text/plain": [
       "1125"
      ]
     },
     "execution_count": 6,
     "metadata": {},
     "output_type": "execute_result"
    }
   ],
   "source": [
    "dataset_folder = os.path.join(settings.data_base,settings.model_ready_dataset_folder,dataset_id)\n",
    "print('dataset at',dataset_folder)\n",
    "\n",
    "dataset = DiagnosesDataset(os.path.join(dataset_folder,'dataset.json'),grouping)\n",
    "\n",
    "train_dataset = DiagnosesDataset(os.path.join(dataset_folder,'train_subset.json'),grouping)\n",
    "val_dataset = DiagnosesDataset(os.path.join(dataset_folder,'val_subset.json'),grouping)\n",
    "test_dataset = DiagnosesDataset(os.path.join(dataset_folder,'test_subset.json'),grouping)\n",
    "\n",
    "\n",
    "len(train_dataset)\n",
    "len(val_dataset)\n",
    "len(test_dataset)\n",
    "\n",
    "\n",
    "train_dataloader = DataLoader(train_dataset,batch_size=batch_size,collate_fn=MYCOLLATE(dataset),shuffle=True)\n",
    "val_dataloader = DataLoader(val_dataset,batch_size=batch_size,collate_fn=MYCOLLATE(dataset)) #batch_size here is arbitrary and doesn't affect total validation speed\n",
    "test_dataloader = DataLoader(test_dataset,batch_size=batch_size,collate_fn=MYCOLLATE(dataset))"
   ]
  },
  {
   "cell_type": "code",
   "execution_count": 7,
   "metadata": {},
   "outputs": [],
   "source": [
    "input_size = next(iter(train_dataloader))['target_sequences']['sequence'].shape[2]\n",
    "hidden_size = 100\n",
    "num_layers = 1\n",
    "n_labels = input_size\n",
    "model_type = 'gru'"
   ]
  },
  {
   "cell_type": "code",
   "execution_count": 8,
   "metadata": {},
   "outputs": [],
   "source": [
    "dropout = 0.2\n",
    "dropouti = dropout\n",
    "dropoutw = dropout\n",
    "dropouto = dropout"
   ]
  },
  {
   "cell_type": "code",
   "execution_count": 9,
   "metadata": {},
   "outputs": [],
   "source": [
    "model = VariationalRNN(input_size=input_size,\n",
    "                       hidden_size=hidden_size,\n",
    "                       n_labels=n_labels,\n",
    "                       num_layers=num_layers,\n",
    "                       rnn_type=model_type,\n",
    "                       dropouti=dropouti,\n",
    "                       dropoutw=dropoutw,\n",
    "                       dropouto=dropouto\n",
    "                      )"
   ]
  },
  {
   "cell_type": "code",
   "execution_count": 10,
   "metadata": {},
   "outputs": [],
   "source": [
    "opt = torch.optim.Adam(model.parameters(), lr=0.01)\n",
    "criterion = torch.nn.BCEWithLogitsLoss(reduction='none')\n",
    "epochs = 10"
   ]
  },
  {
   "cell_type": "code",
   "execution_count": 11,
   "metadata": {
    "tags": []
   },
   "outputs": [
    {
     "data": {
      "text/plain": [
       "0.09338595837009094"
      ]
     },
     "execution_count": 11,
     "metadata": {},
     "output_type": "execute_result"
    },
    {
     "name": "stdout",
     "output_type": "stream",
     "text": [
      "epoch: 1 | loss: 0.1768575266721737\n"
     ]
    },
    {
     "data": {
      "text/plain": [
       "0.5978395954393771"
      ]
     },
     "execution_count": 11,
     "metadata": {},
     "output_type": "execute_result"
    },
    {
     "name": "stdout",
     "output_type": "stream",
     "text": [
      "epoch: 2 | loss: 0.12670961363487934\n"
     ]
    },
    {
     "data": {
      "text/plain": [
       "0.6468799973735518"
      ]
     },
     "execution_count": 11,
     "metadata": {},
     "output_type": "execute_result"
    },
    {
     "name": "stdout",
     "output_type": "stream",
     "text": [
      "epoch: 3 | loss: 0.12123737924070244\n"
     ]
    },
    {
     "data": {
      "text/plain": [
       "0.6683152002844288"
      ]
     },
     "execution_count": 11,
     "metadata": {},
     "output_type": "execute_result"
    },
    {
     "name": "stdout",
     "output_type": "stream",
     "text": [
      "epoch: 4 | loss: 0.11769239712192352\n"
     ]
    },
    {
     "data": {
      "text/plain": [
       "0.6644883834566765"
      ]
     },
     "execution_count": 11,
     "metadata": {},
     "output_type": "execute_result"
    },
    {
     "name": "stdout",
     "output_type": "stream",
     "text": [
      "epoch: 5 | loss: 0.114641822695014\n"
     ]
    },
    {
     "data": {
      "text/plain": [
       "0.6796602510058005"
      ]
     },
     "execution_count": 11,
     "metadata": {},
     "output_type": "execute_result"
    },
    {
     "name": "stdout",
     "output_type": "stream",
     "text": [
      "epoch: 6 | loss: 0.1127079840166023\n"
     ]
    },
    {
     "data": {
      "text/plain": [
       "0.692805877349853"
      ]
     },
     "execution_count": 11,
     "metadata": {},
     "output_type": "execute_result"
    },
    {
     "name": "stdout",
     "output_type": "stream",
     "text": [
      "epoch: 7 | loss: 0.11075322985290045\n"
     ]
    },
    {
     "data": {
      "text/plain": [
       "0.7030957856054423"
      ]
     },
     "execution_count": 11,
     "metadata": {},
     "output_type": "execute_result"
    },
    {
     "name": "stdout",
     "output_type": "stream",
     "text": [
      "epoch: 8 | loss: 0.10890622885830431\n"
     ]
    },
    {
     "data": {
      "text/plain": [
       "0.7053674280792359"
      ]
     },
     "execution_count": 11,
     "metadata": {},
     "output_type": "execute_result"
    },
    {
     "name": "stdout",
     "output_type": "stream",
     "text": [
      "epoch: 9 | loss: 0.10731690341090581\n"
     ]
    },
    {
     "data": {
      "text/plain": [
       "0.6965423997021247"
      ]
     },
     "execution_count": 11,
     "metadata": {},
     "output_type": "execute_result"
    },
    {
     "name": "stdout",
     "output_type": "stream",
     "text": [
      "epoch: 10 | loss: 0.10692487639116954\n"
     ]
    }
   ],
   "source": [
    "losses = []\n",
    "for epoch in range(epochs):\n",
    "    eval_model(model,val_dataloader,dataset,['recall@30'])[1]['recall@30_adm']\n",
    "    loss = train_one_epoch(model,train_dataloader,epoch,criterion,opt)\n",
    "    losses.append(loss)\n",
    "    print(f'epoch: {epoch+1} | loss: {loss}')"
   ]
  },
  {
   "cell_type": "code",
   "execution_count": 12,
   "metadata": {
    "tags": []
   },
   "outputs": [
    {
     "data": {
      "text/html": [
       "<div>\n",
       "<style scoped>\n",
       "    .dataframe tbody tr th:only-of-type {\n",
       "        vertical-align: middle;\n",
       "    }\n",
       "\n",
       "    .dataframe tbody tr th {\n",
       "        vertical-align: top;\n",
       "    }\n",
       "\n",
       "    .dataframe thead th {\n",
       "        text-align: right;\n",
       "    }\n",
       "</style>\n",
       "<table border=\"1\" class=\"dataframe\">\n",
       "  <thead>\n",
       "    <tr style=\"text-align: right;\">\n",
       "      <th></th>\n",
       "      <th></th>\n",
       "      <th></th>\n",
       "      <th>diag_0</th>\n",
       "      <th>diag_1</th>\n",
       "      <th>diag_2</th>\n",
       "      <th>diag_3</th>\n",
       "      <th>diag_4</th>\n",
       "      <th>diag_5</th>\n",
       "      <th>diag_6</th>\n",
       "      <th>diag_7</th>\n",
       "      <th>diag_8</th>\n",
       "      <th>diag_9</th>\n",
       "      <th>...</th>\n",
       "      <th>diag_262</th>\n",
       "      <th>diag_263</th>\n",
       "      <th>diag_264</th>\n",
       "      <th>diag_265</th>\n",
       "      <th>diag_266</th>\n",
       "      <th>diag_267</th>\n",
       "      <th>diag_268</th>\n",
       "      <th>diag_269</th>\n",
       "      <th>diag_270</th>\n",
       "      <th>diag_271</th>\n",
       "    </tr>\n",
       "    <tr>\n",
       "      <th>pat_id</th>\n",
       "      <th>adm_index</th>\n",
       "      <th>n_pass</th>\n",
       "      <th></th>\n",
       "      <th></th>\n",
       "      <th></th>\n",
       "      <th></th>\n",
       "      <th></th>\n",
       "      <th></th>\n",
       "      <th></th>\n",
       "      <th></th>\n",
       "      <th></th>\n",
       "      <th></th>\n",
       "      <th></th>\n",
       "      <th></th>\n",
       "      <th></th>\n",
       "      <th></th>\n",
       "      <th></th>\n",
       "      <th></th>\n",
       "      <th></th>\n",
       "      <th></th>\n",
       "      <th></th>\n",
       "      <th></th>\n",
       "      <th></th>\n",
       "    </tr>\n",
       "  </thead>\n",
       "  <tbody>\n",
       "    <tr>\n",
       "      <th rowspan=\"3\" valign=\"top\">21</th>\n",
       "      <th rowspan=\"3\" valign=\"top\">1</th>\n",
       "      <th>1</th>\n",
       "      <td>0.002370</td>\n",
       "      <td>0.365775</td>\n",
       "      <td>0.118136</td>\n",
       "      <td>0.084879</td>\n",
       "      <td>0.000311</td>\n",
       "      <td>0.014815</td>\n",
       "      <td>0.026685</td>\n",
       "      <td>0.020227</td>\n",
       "      <td>0.000684</td>\n",
       "      <td>0.006515</td>\n",
       "      <td>...</td>\n",
       "      <td>0.000388</td>\n",
       "      <td>0.003560</td>\n",
       "      <td>0.000047</td>\n",
       "      <td>0.001348</td>\n",
       "      <td>0.181123</td>\n",
       "      <td>0.080933</td>\n",
       "      <td>0.001055</td>\n",
       "      <td>0.000202</td>\n",
       "      <td>0.006022</td>\n",
       "      <td>0.033595</td>\n",
       "    </tr>\n",
       "    <tr>\n",
       "      <th>2</th>\n",
       "      <td>0.037214</td>\n",
       "      <td>0.644784</td>\n",
       "      <td>0.171708</td>\n",
       "      <td>0.203601</td>\n",
       "      <td>0.002078</td>\n",
       "      <td>0.061116</td>\n",
       "      <td>0.003191</td>\n",
       "      <td>0.003054</td>\n",
       "      <td>0.000455</td>\n",
       "      <td>0.006399</td>\n",
       "      <td>...</td>\n",
       "      <td>0.000239</td>\n",
       "      <td>0.003485</td>\n",
       "      <td>0.000034</td>\n",
       "      <td>0.004199</td>\n",
       "      <td>0.158753</td>\n",
       "      <td>0.129864</td>\n",
       "      <td>0.000552</td>\n",
       "      <td>0.001395</td>\n",
       "      <td>0.000903</td>\n",
       "      <td>0.037307</td>\n",
       "    </tr>\n",
       "    <tr>\n",
       "      <th>3</th>\n",
       "      <td>0.001576</td>\n",
       "      <td>0.270992</td>\n",
       "      <td>0.328639</td>\n",
       "      <td>0.166716</td>\n",
       "      <td>0.000260</td>\n",
       "      <td>0.024668</td>\n",
       "      <td>0.022760</td>\n",
       "      <td>0.037892</td>\n",
       "      <td>0.001908</td>\n",
       "      <td>0.059071</td>\n",
       "      <td>...</td>\n",
       "      <td>0.001974</td>\n",
       "      <td>0.026939</td>\n",
       "      <td>0.001050</td>\n",
       "      <td>0.004389</td>\n",
       "      <td>0.280248</td>\n",
       "      <td>0.079964</td>\n",
       "      <td>0.004700</td>\n",
       "      <td>0.004929</td>\n",
       "      <td>0.018459</td>\n",
       "      <td>0.143074</td>\n",
       "    </tr>\n",
       "  </tbody>\n",
       "</table>\n",
       "<p>3 rows × 272 columns</p>\n",
       "</div>"
      ],
      "text/plain": [
       "                           diag_0    diag_1    diag_2    diag_3    diag_4  \\\n",
       "pat_id adm_index n_pass                                                     \n",
       "21     1         1       0.002370  0.365775  0.118136  0.084879  0.000311   \n",
       "                 2       0.037214  0.644784  0.171708  0.203601  0.002078   \n",
       "                 3       0.001576  0.270992  0.328639  0.166716  0.000260   \n",
       "\n",
       "                           diag_5    diag_6    diag_7    diag_8    diag_9  \\\n",
       "pat_id adm_index n_pass                                                     \n",
       "21     1         1       0.014815  0.026685  0.020227  0.000684  0.006515   \n",
       "                 2       0.061116  0.003191  0.003054  0.000455  0.006399   \n",
       "                 3       0.024668  0.022760  0.037892  0.001908  0.059071   \n",
       "\n",
       "                         ...  diag_262  diag_263  diag_264  diag_265  \\\n",
       "pat_id adm_index n_pass  ...                                           \n",
       "21     1         1       ...  0.000388  0.003560  0.000047  0.001348   \n",
       "                 2       ...  0.000239  0.003485  0.000034  0.004199   \n",
       "                 3       ...  0.001974  0.026939  0.001050  0.004389   \n",
       "\n",
       "                         diag_266  diag_267  diag_268  diag_269  diag_270  \\\n",
       "pat_id adm_index n_pass                                                     \n",
       "21     1         1       0.181123  0.080933  0.001055  0.000202  0.006022   \n",
       "                 2       0.158753  0.129864  0.000552  0.001395  0.000903   \n",
       "                 3       0.280248  0.079964  0.004700  0.004929  0.018459   \n",
       "\n",
       "                         diag_271  \n",
       "pat_id adm_index n_pass            \n",
       "21     1         1       0.033595  \n",
       "                 2       0.037307  \n",
       "                 3       0.143074  \n",
       "\n",
       "[3 rows x 272 columns]"
      ]
     },
     "execution_count": 12,
     "metadata": {},
     "output_type": "execute_result"
    }
   ],
   "source": [
    "res,golden = outs2df_mc(model,val_dataloader,dataset,return_golden=True)\n",
    "res.head(3)"
   ]
  },
  {
   "cell_type": "code",
   "execution_count": 13,
   "metadata": {},
   "outputs": [
    {
     "data": {
      "text/html": [
       "<div>\n",
       "<style scoped>\n",
       "    .dataframe tbody tr th:only-of-type {\n",
       "        vertical-align: middle;\n",
       "    }\n",
       "\n",
       "    .dataframe tbody tr th {\n",
       "        vertical-align: top;\n",
       "    }\n",
       "\n",
       "    .dataframe thead tr th {\n",
       "        text-align: left;\n",
       "    }\n",
       "\n",
       "    .dataframe thead tr:last-of-type th {\n",
       "        text-align: right;\n",
       "    }\n",
       "</style>\n",
       "<table border=\"1\" class=\"dataframe\">\n",
       "  <thead>\n",
       "    <tr>\n",
       "      <th></th>\n",
       "      <th></th>\n",
       "      <th colspan=\"2\" halign=\"left\">diag_0</th>\n",
       "      <th colspan=\"2\" halign=\"left\">diag_1</th>\n",
       "      <th colspan=\"2\" halign=\"left\">diag_2</th>\n",
       "      <th colspan=\"2\" halign=\"left\">diag_3</th>\n",
       "      <th colspan=\"2\" halign=\"left\">diag_4</th>\n",
       "      <th>...</th>\n",
       "      <th colspan=\"2\" halign=\"left\">diag_267</th>\n",
       "      <th colspan=\"2\" halign=\"left\">diag_268</th>\n",
       "      <th colspan=\"2\" halign=\"left\">diag_269</th>\n",
       "      <th colspan=\"2\" halign=\"left\">diag_270</th>\n",
       "      <th colspan=\"2\" halign=\"left\">diag_271</th>\n",
       "    </tr>\n",
       "    <tr>\n",
       "      <th></th>\n",
       "      <th></th>\n",
       "      <th>mean</th>\n",
       "      <th>var</th>\n",
       "      <th>mean</th>\n",
       "      <th>var</th>\n",
       "      <th>mean</th>\n",
       "      <th>var</th>\n",
       "      <th>mean</th>\n",
       "      <th>var</th>\n",
       "      <th>mean</th>\n",
       "      <th>var</th>\n",
       "      <th>...</th>\n",
       "      <th>mean</th>\n",
       "      <th>var</th>\n",
       "      <th>mean</th>\n",
       "      <th>var</th>\n",
       "      <th>mean</th>\n",
       "      <th>var</th>\n",
       "      <th>mean</th>\n",
       "      <th>var</th>\n",
       "      <th>mean</th>\n",
       "      <th>var</th>\n",
       "    </tr>\n",
       "    <tr>\n",
       "      <th>pat_id</th>\n",
       "      <th>adm_index</th>\n",
       "      <th></th>\n",
       "      <th></th>\n",
       "      <th></th>\n",
       "      <th></th>\n",
       "      <th></th>\n",
       "      <th></th>\n",
       "      <th></th>\n",
       "      <th></th>\n",
       "      <th></th>\n",
       "      <th></th>\n",
       "      <th></th>\n",
       "      <th></th>\n",
       "      <th></th>\n",
       "      <th></th>\n",
       "      <th></th>\n",
       "      <th></th>\n",
       "      <th></th>\n",
       "      <th></th>\n",
       "      <th></th>\n",
       "      <th></th>\n",
       "      <th></th>\n",
       "    </tr>\n",
       "  </thead>\n",
       "  <tbody>\n",
       "    <tr>\n",
       "      <th>21</th>\n",
       "      <th>1</th>\n",
       "      <td>0.040054</td>\n",
       "      <td>0.002548</td>\n",
       "      <td>0.280658</td>\n",
       "      <td>0.023643</td>\n",
       "      <td>0.136315</td>\n",
       "      <td>0.006583</td>\n",
       "      <td>0.161489</td>\n",
       "      <td>0.011599</td>\n",
       "      <td>0.009761</td>\n",
       "      <td>0.000218</td>\n",
       "      <td>...</td>\n",
       "      <td>0.110771</td>\n",
       "      <td>0.005938</td>\n",
       "      <td>0.007281</td>\n",
       "      <td>0.000352</td>\n",
       "      <td>0.004915</td>\n",
       "      <td>8.759923e-05</td>\n",
       "      <td>0.005280</td>\n",
       "      <td>0.000032</td>\n",
       "      <td>0.055377</td>\n",
       "      <td>0.002862</td>\n",
       "    </tr>\n",
       "    <tr>\n",
       "      <th>23</th>\n",
       "      <th>1</th>\n",
       "      <td>0.002655</td>\n",
       "      <td>0.000003</td>\n",
       "      <td>0.098212</td>\n",
       "      <td>0.001071</td>\n",
       "      <td>0.076780</td>\n",
       "      <td>0.000720</td>\n",
       "      <td>0.045078</td>\n",
       "      <td>0.000294</td>\n",
       "      <td>0.003900</td>\n",
       "      <td>0.000089</td>\n",
       "      <td>...</td>\n",
       "      <td>0.064198</td>\n",
       "      <td>0.001240</td>\n",
       "      <td>0.003211</td>\n",
       "      <td>0.000012</td>\n",
       "      <td>0.000348</td>\n",
       "      <td>1.321151e-07</td>\n",
       "      <td>0.009467</td>\n",
       "      <td>0.000031</td>\n",
       "      <td>0.030938</td>\n",
       "      <td>0.000460</td>\n",
       "    </tr>\n",
       "    <tr>\n",
       "      <th>61</th>\n",
       "      <th>1</th>\n",
       "      <td>0.007106</td>\n",
       "      <td>0.000069</td>\n",
       "      <td>0.192041</td>\n",
       "      <td>0.013838</td>\n",
       "      <td>0.066138</td>\n",
       "      <td>0.001082</td>\n",
       "      <td>0.148991</td>\n",
       "      <td>0.010004</td>\n",
       "      <td>0.048674</td>\n",
       "      <td>0.011126</td>\n",
       "      <td>...</td>\n",
       "      <td>0.127110</td>\n",
       "      <td>0.007235</td>\n",
       "      <td>0.014189</td>\n",
       "      <td>0.000528</td>\n",
       "      <td>0.001849</td>\n",
       "      <td>2.089812e-06</td>\n",
       "      <td>0.009766</td>\n",
       "      <td>0.000101</td>\n",
       "      <td>0.029045</td>\n",
       "      <td>0.000505</td>\n",
       "    </tr>\n",
       "  </tbody>\n",
       "</table>\n",
       "<p>3 rows × 544 columns</p>\n",
       "</div>"
      ],
      "text/plain": [
       "                    diag_0              diag_1              diag_2            \\\n",
       "                      mean       var      mean       var      mean       var   \n",
       "pat_id adm_index                                                               \n",
       "21     1          0.040054  0.002548  0.280658  0.023643  0.136315  0.006583   \n",
       "23     1          0.002655  0.000003  0.098212  0.001071  0.076780  0.000720   \n",
       "61     1          0.007106  0.000069  0.192041  0.013838  0.066138  0.001082   \n",
       "\n",
       "                    diag_3              diag_4            ...  diag_267  \\\n",
       "                      mean       var      mean       var  ...      mean   \n",
       "pat_id adm_index                                          ...             \n",
       "21     1          0.161489  0.011599  0.009761  0.000218  ...  0.110771   \n",
       "23     1          0.045078  0.000294  0.003900  0.000089  ...  0.064198   \n",
       "61     1          0.148991  0.010004  0.048674  0.011126  ...  0.127110   \n",
       "\n",
       "                            diag_268            diag_269                \\\n",
       "                       var      mean       var      mean           var   \n",
       "pat_id adm_index                                                         \n",
       "21     1          0.005938  0.007281  0.000352  0.004915  8.759923e-05   \n",
       "23     1          0.001240  0.003211  0.000012  0.000348  1.321151e-07   \n",
       "61     1          0.007235  0.014189  0.000528  0.001849  2.089812e-06   \n",
       "\n",
       "                  diag_270            diag_271            \n",
       "                      mean       var      mean       var  \n",
       "pat_id adm_index                                          \n",
       "21     1          0.005280  0.000032  0.055377  0.002862  \n",
       "23     1          0.009467  0.000031  0.030938  0.000460  \n",
       "61     1          0.009766  0.000101  0.029045  0.000505  \n",
       "\n",
       "[3 rows x 544 columns]"
      ]
     },
     "execution_count": 13,
     "metadata": {},
     "output_type": "execute_result"
    }
   ],
   "source": [
    "stats_res = res.groupby(['pat_id','adm_index']).agg(['mean','var'])\n",
    "stats_res.head(3)"
   ]
  },
  {
   "cell_type": "code",
   "execution_count": 14,
   "metadata": {},
   "outputs": [
    {
     "data": {
      "text/html": [
       "<div>\n",
       "<style scoped>\n",
       "    .dataframe tbody tr th:only-of-type {\n",
       "        vertical-align: middle;\n",
       "    }\n",
       "\n",
       "    .dataframe tbody tr th {\n",
       "        vertical-align: top;\n",
       "    }\n",
       "\n",
       "    .dataframe thead th {\n",
       "        text-align: right;\n",
       "    }\n",
       "</style>\n",
       "<table border=\"1\" class=\"dataframe\">\n",
       "  <thead>\n",
       "    <tr style=\"text-align: right;\">\n",
       "      <th></th>\n",
       "      <th></th>\n",
       "      <th>diag_0</th>\n",
       "      <th>diag_1</th>\n",
       "      <th>diag_2</th>\n",
       "      <th>diag_3</th>\n",
       "      <th>diag_4</th>\n",
       "      <th>diag_5</th>\n",
       "      <th>diag_6</th>\n",
       "      <th>diag_7</th>\n",
       "      <th>diag_8</th>\n",
       "      <th>diag_9</th>\n",
       "      <th>...</th>\n",
       "      <th>diag_262</th>\n",
       "      <th>diag_263</th>\n",
       "      <th>diag_264</th>\n",
       "      <th>diag_265</th>\n",
       "      <th>diag_266</th>\n",
       "      <th>diag_267</th>\n",
       "      <th>diag_268</th>\n",
       "      <th>diag_269</th>\n",
       "      <th>diag_270</th>\n",
       "      <th>diag_271</th>\n",
       "    </tr>\n",
       "    <tr>\n",
       "      <th>pat_id</th>\n",
       "      <th>adm_index</th>\n",
       "      <th></th>\n",
       "      <th></th>\n",
       "      <th></th>\n",
       "      <th></th>\n",
       "      <th></th>\n",
       "      <th></th>\n",
       "      <th></th>\n",
       "      <th></th>\n",
       "      <th></th>\n",
       "      <th></th>\n",
       "      <th></th>\n",
       "      <th></th>\n",
       "      <th></th>\n",
       "      <th></th>\n",
       "      <th></th>\n",
       "      <th></th>\n",
       "      <th></th>\n",
       "      <th></th>\n",
       "      <th></th>\n",
       "      <th></th>\n",
       "      <th></th>\n",
       "    </tr>\n",
       "  </thead>\n",
       "  <tbody>\n",
       "    <tr>\n",
       "      <th>21</th>\n",
       "      <th>1</th>\n",
       "      <td>0</td>\n",
       "      <td>1</td>\n",
       "      <td>0</td>\n",
       "      <td>0</td>\n",
       "      <td>0</td>\n",
       "      <td>0</td>\n",
       "      <td>0</td>\n",
       "      <td>0</td>\n",
       "      <td>0</td>\n",
       "      <td>0</td>\n",
       "      <td>...</td>\n",
       "      <td>0</td>\n",
       "      <td>0</td>\n",
       "      <td>0</td>\n",
       "      <td>0</td>\n",
       "      <td>0</td>\n",
       "      <td>0</td>\n",
       "      <td>0</td>\n",
       "      <td>0</td>\n",
       "      <td>0</td>\n",
       "      <td>0</td>\n",
       "    </tr>\n",
       "    <tr>\n",
       "      <th>23</th>\n",
       "      <th>1</th>\n",
       "      <td>0</td>\n",
       "      <td>0</td>\n",
       "      <td>0</td>\n",
       "      <td>0</td>\n",
       "      <td>0</td>\n",
       "      <td>0</td>\n",
       "      <td>0</td>\n",
       "      <td>0</td>\n",
       "      <td>0</td>\n",
       "      <td>0</td>\n",
       "      <td>...</td>\n",
       "      <td>0</td>\n",
       "      <td>0</td>\n",
       "      <td>0</td>\n",
       "      <td>0</td>\n",
       "      <td>1</td>\n",
       "      <td>0</td>\n",
       "      <td>0</td>\n",
       "      <td>0</td>\n",
       "      <td>0</td>\n",
       "      <td>0</td>\n",
       "    </tr>\n",
       "    <tr>\n",
       "      <th>61</th>\n",
       "      <th>1</th>\n",
       "      <td>0</td>\n",
       "      <td>1</td>\n",
       "      <td>0</td>\n",
       "      <td>1</td>\n",
       "      <td>0</td>\n",
       "      <td>0</td>\n",
       "      <td>0</td>\n",
       "      <td>0</td>\n",
       "      <td>0</td>\n",
       "      <td>0</td>\n",
       "      <td>...</td>\n",
       "      <td>0</td>\n",
       "      <td>0</td>\n",
       "      <td>0</td>\n",
       "      <td>0</td>\n",
       "      <td>1</td>\n",
       "      <td>1</td>\n",
       "      <td>0</td>\n",
       "      <td>0</td>\n",
       "      <td>0</td>\n",
       "      <td>0</td>\n",
       "    </tr>\n",
       "  </tbody>\n",
       "</table>\n",
       "<p>3 rows × 272 columns</p>\n",
       "</div>"
      ],
      "text/plain": [
       "                  diag_0  diag_1  diag_2  diag_3  diag_4  diag_5  diag_6  \\\n",
       "pat_id adm_index                                                           \n",
       "21     1               0       1       0       0       0       0       0   \n",
       "23     1               0       0       0       0       0       0       0   \n",
       "61     1               0       1       0       1       0       0       0   \n",
       "\n",
       "                  diag_7  diag_8  diag_9  ...  diag_262  diag_263  diag_264  \\\n",
       "pat_id adm_index                          ...                                 \n",
       "21     1               0       0       0  ...         0         0         0   \n",
       "23     1               0       0       0  ...         0         0         0   \n",
       "61     1               0       0       0  ...         0         0         0   \n",
       "\n",
       "                  diag_265  diag_266  diag_267  diag_268  diag_269  diag_270  \\\n",
       "pat_id adm_index                                                               \n",
       "21     1                 0         0         0         0         0         0   \n",
       "23     1                 0         1         0         0         0         0   \n",
       "61     1                 0         1         1         0         0         0   \n",
       "\n",
       "                  diag_271  \n",
       "pat_id adm_index            \n",
       "21     1                 0  \n",
       "23     1                 0  \n",
       "61     1                 0  \n",
       "\n",
       "[3 rows x 272 columns]"
      ]
     },
     "execution_count": 14,
     "metadata": {},
     "output_type": "execute_result"
    }
   ],
   "source": [
    "k = 30\n",
    "topk_outputs = stats_res.apply(lambda row: row.loc[idx[:,'mean']].nlargest(k),axis=1)\n",
    "\n",
    "# fix missing columns from previous operation\n",
    "original_class_columns = stats_res.columns.get_level_values(0).unique()\n",
    "missing_cols = [col for col in original_class_columns if col not in topk_outputs.columns]\n",
    "topk_outputs_all_cols = pd.concat([topk_outputs,pd.DataFrame(columns=missing_cols)])\n",
    "topk_outputs_all_cols = topk_outputs_all_cols[original_class_columns]\n",
    "\n",
    "topk_predictions = np.where(topk_outputs_all_cols.isna(),0,1)\n",
    "topk_predictions = pd.DataFrame(data=topk_predictions,columns=original_class_columns,index=stats_res.index)\n",
    "topk_predictions.head(3)"
   ]
  },
  {
   "cell_type": "code",
   "execution_count": 15,
   "metadata": {},
   "outputs": [
    {
     "data": {
      "text/html": [
       "<div>\n",
       "<style scoped>\n",
       "    .dataframe tbody tr th:only-of-type {\n",
       "        vertical-align: middle;\n",
       "    }\n",
       "\n",
       "    .dataframe tbody tr th {\n",
       "        vertical-align: top;\n",
       "    }\n",
       "\n",
       "    .dataframe thead th {\n",
       "        text-align: right;\n",
       "    }\n",
       "</style>\n",
       "<table border=\"1\" class=\"dataframe\">\n",
       "  <thead>\n",
       "    <tr style=\"text-align: right;\">\n",
       "      <th></th>\n",
       "      <th></th>\n",
       "      <th>diag_0</th>\n",
       "      <th>diag_1</th>\n",
       "      <th>diag_2</th>\n",
       "      <th>diag_3</th>\n",
       "      <th>diag_4</th>\n",
       "      <th>diag_5</th>\n",
       "      <th>diag_6</th>\n",
       "      <th>diag_7</th>\n",
       "      <th>diag_8</th>\n",
       "      <th>diag_9</th>\n",
       "      <th>...</th>\n",
       "      <th>diag_262</th>\n",
       "      <th>diag_263</th>\n",
       "      <th>diag_264</th>\n",
       "      <th>diag_265</th>\n",
       "      <th>diag_266</th>\n",
       "      <th>diag_267</th>\n",
       "      <th>diag_268</th>\n",
       "      <th>diag_269</th>\n",
       "      <th>diag_270</th>\n",
       "      <th>diag_271</th>\n",
       "    </tr>\n",
       "    <tr>\n",
       "      <th>pat_id</th>\n",
       "      <th>adm_index</th>\n",
       "      <th></th>\n",
       "      <th></th>\n",
       "      <th></th>\n",
       "      <th></th>\n",
       "      <th></th>\n",
       "      <th></th>\n",
       "      <th></th>\n",
       "      <th></th>\n",
       "      <th></th>\n",
       "      <th></th>\n",
       "      <th></th>\n",
       "      <th></th>\n",
       "      <th></th>\n",
       "      <th></th>\n",
       "      <th></th>\n",
       "      <th></th>\n",
       "      <th></th>\n",
       "      <th></th>\n",
       "      <th></th>\n",
       "      <th></th>\n",
       "      <th></th>\n",
       "    </tr>\n",
       "  </thead>\n",
       "  <tbody>\n",
       "    <tr>\n",
       "      <th>21</th>\n",
       "      <th>1</th>\n",
       "      <td>0.002548</td>\n",
       "      <td>0.023643</td>\n",
       "      <td>0.006583</td>\n",
       "      <td>0.011599</td>\n",
       "      <td>0.000218</td>\n",
       "      <td>0.029802</td>\n",
       "      <td>0.000149</td>\n",
       "      <td>0.000145</td>\n",
       "      <td>1.072720e-05</td>\n",
       "      <td>0.004753</td>\n",
       "      <td>...</td>\n",
       "      <td>6.096235e-07</td>\n",
       "      <td>0.000499</td>\n",
       "      <td>3.454974e-07</td>\n",
       "      <td>0.000197</td>\n",
       "      <td>0.011514</td>\n",
       "      <td>0.005938</td>\n",
       "      <td>0.000352</td>\n",
       "      <td>8.759923e-05</td>\n",
       "      <td>0.000032</td>\n",
       "      <td>0.002862</td>\n",
       "    </tr>\n",
       "    <tr>\n",
       "      <th>23</th>\n",
       "      <th>1</th>\n",
       "      <td>0.000003</td>\n",
       "      <td>0.001071</td>\n",
       "      <td>0.000720</td>\n",
       "      <td>0.000294</td>\n",
       "      <td>0.000089</td>\n",
       "      <td>0.000021</td>\n",
       "      <td>0.000069</td>\n",
       "      <td>0.000005</td>\n",
       "      <td>6.843590e-07</td>\n",
       "      <td>0.000325</td>\n",
       "      <td>...</td>\n",
       "      <td>7.977818e-08</td>\n",
       "      <td>0.000003</td>\n",
       "      <td>8.776658e-08</td>\n",
       "      <td>0.000003</td>\n",
       "      <td>0.009773</td>\n",
       "      <td>0.001240</td>\n",
       "      <td>0.000012</td>\n",
       "      <td>1.321151e-07</td>\n",
       "      <td>0.000031</td>\n",
       "      <td>0.000460</td>\n",
       "    </tr>\n",
       "    <tr>\n",
       "      <th>61</th>\n",
       "      <th>1</th>\n",
       "      <td>0.000069</td>\n",
       "      <td>0.013838</td>\n",
       "      <td>0.001082</td>\n",
       "      <td>0.010004</td>\n",
       "      <td>0.011126</td>\n",
       "      <td>0.001952</td>\n",
       "      <td>0.006691</td>\n",
       "      <td>0.000142</td>\n",
       "      <td>1.449645e-06</td>\n",
       "      <td>0.000986</td>\n",
       "      <td>...</td>\n",
       "      <td>2.268845e-07</td>\n",
       "      <td>0.000006</td>\n",
       "      <td>2.183913e-06</td>\n",
       "      <td>0.000004</td>\n",
       "      <td>0.005429</td>\n",
       "      <td>0.007235</td>\n",
       "      <td>0.000528</td>\n",
       "      <td>2.089812e-06</td>\n",
       "      <td>0.000101</td>\n",
       "      <td>0.000505</td>\n",
       "    </tr>\n",
       "  </tbody>\n",
       "</table>\n",
       "<p>3 rows × 272 columns</p>\n",
       "</div>"
      ],
      "text/plain": [
       "                    diag_0    diag_1    diag_2    diag_3    diag_4    diag_5  \\\n",
       "pat_id adm_index                                                               \n",
       "21     1          0.002548  0.023643  0.006583  0.011599  0.000218  0.029802   \n",
       "23     1          0.000003  0.001071  0.000720  0.000294  0.000089  0.000021   \n",
       "61     1          0.000069  0.013838  0.001082  0.010004  0.011126  0.001952   \n",
       "\n",
       "                    diag_6    diag_7        diag_8    diag_9  ...  \\\n",
       "pat_id adm_index                                              ...   \n",
       "21     1          0.000149  0.000145  1.072720e-05  0.004753  ...   \n",
       "23     1          0.000069  0.000005  6.843590e-07  0.000325  ...   \n",
       "61     1          0.006691  0.000142  1.449645e-06  0.000986  ...   \n",
       "\n",
       "                      diag_262  diag_263      diag_264  diag_265  diag_266  \\\n",
       "pat_id adm_index                                                             \n",
       "21     1          6.096235e-07  0.000499  3.454974e-07  0.000197  0.011514   \n",
       "23     1          7.977818e-08  0.000003  8.776658e-08  0.000003  0.009773   \n",
       "61     1          2.268845e-07  0.000006  2.183913e-06  0.000004  0.005429   \n",
       "\n",
       "                  diag_267  diag_268      diag_269  diag_270  diag_271  \n",
       "pat_id adm_index                                                        \n",
       "21     1          0.005938  0.000352  8.759923e-05  0.000032  0.002862  \n",
       "23     1          0.001240  0.000012  1.321151e-07  0.000031  0.000460  \n",
       "61     1          0.007235  0.000528  2.089812e-06  0.000101  0.000505  \n",
       "\n",
       "[3 rows x 272 columns]"
      ]
     },
     "execution_count": 15,
     "metadata": {},
     "output_type": "execute_result"
    },
    {
     "data": {
      "text/html": [
       "<div>\n",
       "<style scoped>\n",
       "    .dataframe tbody tr th:only-of-type {\n",
       "        vertical-align: middle;\n",
       "    }\n",
       "\n",
       "    .dataframe tbody tr th {\n",
       "        vertical-align: top;\n",
       "    }\n",
       "\n",
       "    .dataframe thead th {\n",
       "        text-align: right;\n",
       "    }\n",
       "</style>\n",
       "<table border=\"1\" class=\"dataframe\">\n",
       "  <thead>\n",
       "    <tr style=\"text-align: right;\">\n",
       "      <th></th>\n",
       "      <th></th>\n",
       "      <th>diag_0</th>\n",
       "      <th>diag_1</th>\n",
       "      <th>diag_2</th>\n",
       "      <th>diag_3</th>\n",
       "      <th>diag_4</th>\n",
       "      <th>diag_5</th>\n",
       "      <th>diag_6</th>\n",
       "      <th>diag_7</th>\n",
       "      <th>diag_8</th>\n",
       "      <th>diag_9</th>\n",
       "      <th>...</th>\n",
       "      <th>diag_262</th>\n",
       "      <th>diag_263</th>\n",
       "      <th>diag_264</th>\n",
       "      <th>diag_265</th>\n",
       "      <th>diag_266</th>\n",
       "      <th>diag_267</th>\n",
       "      <th>diag_268</th>\n",
       "      <th>diag_269</th>\n",
       "      <th>diag_270</th>\n",
       "      <th>diag_271</th>\n",
       "    </tr>\n",
       "    <tr>\n",
       "      <th>pat_id</th>\n",
       "      <th>adm_index</th>\n",
       "      <th></th>\n",
       "      <th></th>\n",
       "      <th></th>\n",
       "      <th></th>\n",
       "      <th></th>\n",
       "      <th></th>\n",
       "      <th></th>\n",
       "      <th></th>\n",
       "      <th></th>\n",
       "      <th></th>\n",
       "      <th></th>\n",
       "      <th></th>\n",
       "      <th></th>\n",
       "      <th></th>\n",
       "      <th></th>\n",
       "      <th></th>\n",
       "      <th></th>\n",
       "      <th></th>\n",
       "      <th></th>\n",
       "      <th></th>\n",
       "      <th></th>\n",
       "    </tr>\n",
       "  </thead>\n",
       "  <tbody>\n",
       "    <tr>\n",
       "      <th>21</th>\n",
       "      <th>1</th>\n",
       "      <td>0.040054</td>\n",
       "      <td>0.280658</td>\n",
       "      <td>0.136315</td>\n",
       "      <td>0.161489</td>\n",
       "      <td>0.009761</td>\n",
       "      <td>0.097131</td>\n",
       "      <td>0.011942</td>\n",
       "      <td>0.008754</td>\n",
       "      <td>0.002009</td>\n",
       "      <td>0.063793</td>\n",
       "      <td>...</td>\n",
       "      <td>0.000693</td>\n",
       "      <td>0.013418</td>\n",
       "      <td>0.000336</td>\n",
       "      <td>0.011065</td>\n",
       "      <td>0.169927</td>\n",
       "      <td>0.110771</td>\n",
       "      <td>0.007281</td>\n",
       "      <td>0.004915</td>\n",
       "      <td>0.005280</td>\n",
       "      <td>0.055377</td>\n",
       "    </tr>\n",
       "    <tr>\n",
       "      <th>23</th>\n",
       "      <th>1</th>\n",
       "      <td>0.002655</td>\n",
       "      <td>0.098212</td>\n",
       "      <td>0.076780</td>\n",
       "      <td>0.045078</td>\n",
       "      <td>0.003900</td>\n",
       "      <td>0.004260</td>\n",
       "      <td>0.016483</td>\n",
       "      <td>0.001854</td>\n",
       "      <td>0.001371</td>\n",
       "      <td>0.026371</td>\n",
       "      <td>...</td>\n",
       "      <td>0.000391</td>\n",
       "      <td>0.001973</td>\n",
       "      <td>0.000366</td>\n",
       "      <td>0.001786</td>\n",
       "      <td>0.159781</td>\n",
       "      <td>0.064198</td>\n",
       "      <td>0.003211</td>\n",
       "      <td>0.000348</td>\n",
       "      <td>0.009467</td>\n",
       "      <td>0.030938</td>\n",
       "    </tr>\n",
       "    <tr>\n",
       "      <th>61</th>\n",
       "      <th>1</th>\n",
       "      <td>0.007106</td>\n",
       "      <td>0.192041</td>\n",
       "      <td>0.066138</td>\n",
       "      <td>0.148991</td>\n",
       "      <td>0.048674</td>\n",
       "      <td>0.033647</td>\n",
       "      <td>0.081883</td>\n",
       "      <td>0.013422</td>\n",
       "      <td>0.001437</td>\n",
       "      <td>0.050043</td>\n",
       "      <td>...</td>\n",
       "      <td>0.000657</td>\n",
       "      <td>0.003754</td>\n",
       "      <td>0.000756</td>\n",
       "      <td>0.002424</td>\n",
       "      <td>0.139360</td>\n",
       "      <td>0.127110</td>\n",
       "      <td>0.014189</td>\n",
       "      <td>0.001849</td>\n",
       "      <td>0.009766</td>\n",
       "      <td>0.029045</td>\n",
       "    </tr>\n",
       "  </tbody>\n",
       "</table>\n",
       "<p>3 rows × 272 columns</p>\n",
       "</div>"
      ],
      "text/plain": [
       "                    diag_0    diag_1    diag_2    diag_3    diag_4    diag_5  \\\n",
       "pat_id adm_index                                                               \n",
       "21     1          0.040054  0.280658  0.136315  0.161489  0.009761  0.097131   \n",
       "23     1          0.002655  0.098212  0.076780  0.045078  0.003900  0.004260   \n",
       "61     1          0.007106  0.192041  0.066138  0.148991  0.048674  0.033647   \n",
       "\n",
       "                    diag_6    diag_7    diag_8    diag_9  ...  diag_262  \\\n",
       "pat_id adm_index                                          ...             \n",
       "21     1          0.011942  0.008754  0.002009  0.063793  ...  0.000693   \n",
       "23     1          0.016483  0.001854  0.001371  0.026371  ...  0.000391   \n",
       "61     1          0.081883  0.013422  0.001437  0.050043  ...  0.000657   \n",
       "\n",
       "                  diag_263  diag_264  diag_265  diag_266  diag_267  diag_268  \\\n",
       "pat_id adm_index                                                               \n",
       "21     1          0.013418  0.000336  0.011065  0.169927  0.110771  0.007281   \n",
       "23     1          0.001973  0.000366  0.001786  0.159781  0.064198  0.003211   \n",
       "61     1          0.003754  0.000756  0.002424  0.139360  0.127110  0.014189   \n",
       "\n",
       "                  diag_269  diag_270  diag_271  \n",
       "pat_id adm_index                                \n",
       "21     1          0.004915  0.005280  0.055377  \n",
       "23     1          0.000348  0.009467  0.030938  \n",
       "61     1          0.001849  0.009766  0.029045  \n",
       "\n",
       "[3 rows x 272 columns]"
      ]
     },
     "execution_count": 15,
     "metadata": {},
     "output_type": "execute_result"
    }
   ],
   "source": [
    "TP = (topk_predictions == 1) & (golden == 1)\n",
    "FP = (topk_predictions == 1) & (golden == 0)\n",
    "\n",
    "variances = stats_res.loc[idx[:,:],idx[:,'var']]\n",
    "variances.columns = variances.columns.get_level_values(0)\n",
    "variances.head(3)\n",
    "\n",
    "means = stats_res.loc[idx[:,:],idx[:,'mean']]\n",
    "means.columns = means.columns.get_level_values(0)\n",
    "means.head(3)\n",
    "\n",
    "tp_variances = variances.where(TP,np.nan)\n",
    "fp_variances = variances.where(FP,np.nan)\n",
    "\n",
    "tp_means = means.where(TP,np.nan)\n",
    "fp_means = means.where(FP,np.nan)"
   ]
  },
  {
   "cell_type": "code",
   "execution_count": 16,
   "metadata": {},
   "outputs": [
    {
     "data": {
      "image/png": "[encoded data removed]",
      "text/plain": [
       "<Figure size 432x288 with 2 Axes>"
      ]
     },
     "metadata": {
      "needs_background": "light"
     },
     "output_type": "display_data"
    }
   ],
   "source": [
    "#parameter\n",
    "diag = 137\n",
    "\n",
    "\n",
    "diag_col = f'diag_{diag}'\n",
    "plt.subplot(1,2,1)\n",
    "tp_means[diag_col].plot.kde(label='True positives');\n",
    "fp_means[diag_col].plot.kde(label='False positives');\n",
    "plt.title(f'distribution in mean forward_pass of diag {diag}');\n",
    "plt.legend();\n",
    "#plt.show();\n",
    "plt.subplots_adjust(right=2) \n",
    "plt.subplot(1,2,2)\n",
    "tp_variances[diag_col].plot.kde(label='True positives');\n",
    "fp_variances[diag_col].plot.kde(label='False positives');\n",
    "plt.title(f'distribution in variance of the forward_pass of diag {diag}');\n",
    "plt.legend();"
   ]
  },
  {
   "cell_type": "markdown",
   "metadata": {},
   "source": [
    "# Model whether a prediction will be FP or TP"
   ]
  },
  {
   "cell_type": "markdown",
   "metadata": {},
   "source": [
    "# Dumb classifier\n",
    "\n",
    "since some diagnostics won't have enough data to train a model on, we will use 'dumb' classifiers to keep the pipeline consistent. These classifiers will always predict the positive class"
   ]
  },
  {
   "cell_type": "code",
   "execution_count": 76,
   "metadata": {},
   "outputs": [
    {
     "data": {
      "text/plain": [
       "Pipeline(steps=[('dumbclassifier', DumbClassifier())])"
      ]
     },
     "execution_count": 76,
     "metadata": {},
     "output_type": "execute_result"
    },
    {
     "data": {
      "text/plain": [
       "array([0, 0, 0, 0, 0])"
      ]
     },
     "execution_count": 76,
     "metadata": {},
     "output_type": "execute_result"
    }
   ],
   "source": [
    "from sklearn.base import BaseEstimator, ClassifierMixin\n",
    "from sklearn.utils.validation import check_X_y, check_array, check_is_fitted\n",
    "from sklearn.utils.multiclass import unique_labels\n",
    "\n",
    "class DumbClassifier(BaseEstimator, ClassifierMixin):\n",
    "\n",
    "    def __init__(self):\n",
    "        pass\n",
    "    def fit(self, X, y):\n",
    "        # Check that X and y have correct shape\n",
    "        #X, y = check_X_y(X, y)\n",
    "        # Store the classes seen during fit\n",
    "        #self.classes_ = unique_labels(y)\n",
    "        #self.X_ = X\n",
    "        #self.y_ = y\n",
    "        # Return the classifier\n",
    "        return self\n",
    "\n",
    "    def predict(self, X):\n",
    "         # Check if fit has been called\n",
    "        #check_is_fitted(self)\n",
    "        \n",
    "        # Input validation\n",
    "        #X = check_array(X)\n",
    "        y = np.zeros(shape=(X.shape[0],),dtype=int)\n",
    "        return y\n",
    "    \n",
    "    def predict_proba(self,X):\n",
    "        return np.array([[1,0]])\n",
    "# test this out\n",
    "from sklearn.pipeline import make_pipeline\n",
    "\n",
    "X = np.ones(shape=(5,5))\n",
    "y = np.random.randint(0,2,size=(5,))\n",
    "\n",
    "pipe = make_pipeline(DumbClassifier())\n",
    "\n",
    "pipe.fit(X,y)\n",
    "pipe.predict(X) # Expecting all ones"
   ]
  },
  {
   "cell_type": "markdown",
   "metadata": {},
   "source": [
    "# Build dataset\n",
    "\n",
    "we shall build the dataset using the validation set (from the original train-val-test split).\n",
    "\n",
    "We need:\n",
    "1. obtain predictions on the validation set\n",
    "2. gather all TP and FP examples\n",
    "3. construct N tabular datasets (one for each diagnostic)\n",
    "4. split each into train-test\n",
    "5. train and test classifier\n",
    "    1. metric should be precision, recall and f1"
   ]
  },
  {
   "cell_type": "code",
   "execution_count": 77,
   "metadata": {},
   "outputs": [],
   "source": [
    "lr = LogisticRegression()"
   ]
  },
  {
   "cell_type": "code",
   "execution_count": 54,
   "metadata": {},
   "outputs": [
    {
     "data": {
      "text/plain": [
       "LogisticRegression()"
      ]
     },
     "execution_count": 54,
     "metadata": {},
     "output_type": "execute_result"
    }
   ],
   "source": [
    "lr.fit([[1,1],[0,0]],[1,0])"
   ]
  },
  {
   "cell_type": "code",
   "execution_count": 59,
   "metadata": {},
   "outputs": [
    {
     "data": {
      "text/plain": [
       "(1, 2)"
      ]
     },
     "execution_count": 59,
     "metadata": {},
     "output_type": "execute_result"
    }
   ],
   "source": [
    "lr.predict_proba([[0.5,0.5]]).shape"
   ]
  },
  {
   "cell_type": "code",
   "execution_count": 78,
   "metadata": {},
   "outputs": [],
   "source": [
    "outs, golden = outs2df_mc(model,val_dataloader,dataset,return_golden=True)"
   ]
  },
  {
   "cell_type": "code",
   "execution_count": 79,
   "metadata": {},
   "outputs": [
    {
     "data": {
      "text/html": [
       "<div>\n",
       "<style scoped>\n",
       "    .dataframe tbody tr th:only-of-type {\n",
       "        vertical-align: middle;\n",
       "    }\n",
       "\n",
       "    .dataframe tbody tr th {\n",
       "        vertical-align: top;\n",
       "    }\n",
       "\n",
       "    .dataframe thead th {\n",
       "        text-align: right;\n",
       "    }\n",
       "</style>\n",
       "<table border=\"1\" class=\"dataframe\">\n",
       "  <thead>\n",
       "    <tr style=\"text-align: right;\">\n",
       "      <th></th>\n",
       "      <th></th>\n",
       "      <th>diag_0</th>\n",
       "      <th>diag_1</th>\n",
       "      <th>diag_2</th>\n",
       "      <th>diag_3</th>\n",
       "      <th>diag_4</th>\n",
       "      <th>diag_5</th>\n",
       "      <th>diag_6</th>\n",
       "      <th>diag_7</th>\n",
       "      <th>diag_8</th>\n",
       "      <th>diag_9</th>\n",
       "      <th>...</th>\n",
       "      <th>diag_262</th>\n",
       "      <th>diag_263</th>\n",
       "      <th>diag_264</th>\n",
       "      <th>diag_265</th>\n",
       "      <th>diag_266</th>\n",
       "      <th>diag_267</th>\n",
       "      <th>diag_268</th>\n",
       "      <th>diag_269</th>\n",
       "      <th>diag_270</th>\n",
       "      <th>diag_271</th>\n",
       "    </tr>\n",
       "    <tr>\n",
       "      <th>pat_id</th>\n",
       "      <th>adm_index</th>\n",
       "      <th></th>\n",
       "      <th></th>\n",
       "      <th></th>\n",
       "      <th></th>\n",
       "      <th></th>\n",
       "      <th></th>\n",
       "      <th></th>\n",
       "      <th></th>\n",
       "      <th></th>\n",
       "      <th></th>\n",
       "      <th></th>\n",
       "      <th></th>\n",
       "      <th></th>\n",
       "      <th></th>\n",
       "      <th></th>\n",
       "      <th></th>\n",
       "      <th></th>\n",
       "      <th></th>\n",
       "      <th></th>\n",
       "      <th></th>\n",
       "      <th></th>\n",
       "    </tr>\n",
       "  </thead>\n",
       "  <tbody>\n",
       "    <tr>\n",
       "      <th>21</th>\n",
       "      <th>1</th>\n",
       "      <td>0.020552</td>\n",
       "      <td>0.278292</td>\n",
       "      <td>0.152279</td>\n",
       "      <td>0.135513</td>\n",
       "      <td>0.004699</td>\n",
       "      <td>0.056218</td>\n",
       "      <td>0.006255</td>\n",
       "      <td>0.003641</td>\n",
       "      <td>0.001793</td>\n",
       "      <td>0.042197</td>\n",
       "      <td>...</td>\n",
       "      <td>0.000667</td>\n",
       "      <td>0.010117</td>\n",
       "      <td>0.000234</td>\n",
       "      <td>0.019367</td>\n",
       "      <td>0.120169</td>\n",
       "      <td>0.08268</td>\n",
       "      <td>0.00595</td>\n",
       "      <td>0.003846</td>\n",
       "      <td>0.005637</td>\n",
       "      <td>0.044326</td>\n",
       "    </tr>\n",
       "  </tbody>\n",
       "</table>\n",
       "<p>1 rows × 272 columns</p>\n",
       "</div>"
      ],
      "text/plain": [
       "                    diag_0    diag_1    diag_2    diag_3    diag_4    diag_5  \\\n",
       "pat_id adm_index                                                               \n",
       "21     1          0.020552  0.278292  0.152279  0.135513  0.004699  0.056218   \n",
       "\n",
       "                    diag_6    diag_7    diag_8    diag_9  ...  diag_262  \\\n",
       "pat_id adm_index                                          ...             \n",
       "21     1          0.006255  0.003641  0.001793  0.042197  ...  0.000667   \n",
       "\n",
       "                  diag_263  diag_264  diag_265  diag_266  diag_267  diag_268  \\\n",
       "pat_id adm_index                                                               \n",
       "21     1          0.010117  0.000234  0.019367  0.120169   0.08268   0.00595   \n",
       "\n",
       "                  diag_269  diag_270  diag_271  \n",
       "pat_id adm_index                                \n",
       "21     1          0.003846  0.005637  0.044326  \n",
       "\n",
       "[1 rows x 272 columns]"
      ]
     },
     "execution_count": 79,
     "metadata": {},
     "output_type": "execute_result"
    }
   ],
   "source": [
    "stats_outs = outs.groupby(['pat_id','adm_index']).agg(['mean','var'])\n",
    "\n",
    "k = 30\n",
    "topk_outputs = stats_outs.apply(lambda row: row.loc[idx[:,'mean']].nlargest(k),axis=1)\n",
    "\n",
    "# fix missing columns from previous operation\n",
    "original_class_columns = stats_outs.columns.get_level_values(0).unique()\n",
    "missing_cols = [col for col in original_class_columns if col not in topk_outputs.columns]\n",
    "topk_outputs_all_cols = pd.concat([topk_outputs,pd.DataFrame(columns=missing_cols)])\n",
    "topk_outputs_all_cols = topk_outputs_all_cols[original_class_columns]\n",
    "\n",
    "topk_predictions = np.where(topk_outputs_all_cols.isna(),0,1)\n",
    "topk_predictions = pd.DataFrame(data=topk_predictions,columns=original_class_columns,index=stats_outs.index)\n",
    "#topk_predictions.head(1)\n",
    "\n",
    "TP = (topk_predictions == 1) & (golden == 1)\n",
    "FP = (topk_predictions == 1) & (golden == 0)\n",
    "\n",
    "variances = stats_outs.loc[idx[:,:],idx[:,'var']]\n",
    "variances.columns = variances.columns.get_level_values(0)\n",
    "#variances.head(1)\n",
    "\n",
    "means = stats_outs.loc[idx[:,:],idx[:,'mean']]\n",
    "means.columns = means.columns.get_level_values(0)\n",
    "means.head(1)\n",
    "\n",
    "tp_variances = variances.where(TP,np.nan)\n",
    "fp_variances = variances.where(FP,np.nan)\n",
    "\n",
    "tp_means = means.where(TP,np.nan)\n",
    "fp_means = means.where(FP,np.nan)"
   ]
  },
  {
   "cell_type": "code",
   "execution_count": 80,
   "metadata": {},
   "outputs": [],
   "source": [
    "from sklearn.model_selection import train_test_split\n",
    "from sklearn.metrics import recall_score,precision_score,f1_score\n",
    "from sklearn.linear_model import LogisticRegression"
   ]
  },
  {
   "cell_type": "code",
   "execution_count": 81,
   "metadata": {
    "tags": []
   },
   "outputs": [
    {
     "data": {
      "text/plain": [
       "LogisticRegression(class_weight='balanced')"
      ]
     },
     "execution_count": 81,
     "metadata": {},
     "output_type": "execute_result"
    },
    {
     "data": {
      "text/plain": [
       "LogisticRegression(class_weight='balanced')"
      ]
     },
     "execution_count": 81,
     "metadata": {},
     "output_type": "execute_result"
    },
    {
     "data": {
      "text/plain": [
       "LogisticRegression(class_weight='balanced')"
      ]
     },
     "execution_count": 81,
     "metadata": {},
     "output_type": "execute_result"
    },
    {
     "data": {
      "text/plain": [
       "LogisticRegression(class_weight='balanced')"
      ]
     },
     "execution_count": 81,
     "metadata": {},
     "output_type": "execute_result"
    },
    {
     "data": {
      "text/plain": [
       "LogisticRegression(class_weight='balanced')"
      ]
     },
     "execution_count": 81,
     "metadata": {},
     "output_type": "execute_result"
    },
    {
     "data": {
      "text/plain": [
       "LogisticRegression(class_weight='balanced')"
      ]
     },
     "execution_count": 81,
     "metadata": {},
     "output_type": "execute_result"
    },
    {
     "data": {
      "text/plain": [
       "LogisticRegression(class_weight='balanced')"
      ]
     },
     "execution_count": 81,
     "metadata": {},
     "output_type": "execute_result"
    },
    {
     "data": {
      "text/plain": [
       "LogisticRegression(class_weight='balanced')"
      ]
     },
     "execution_count": 81,
     "metadata": {},
     "output_type": "execute_result"
    },
    {
     "data": {
      "text/plain": [
       "LogisticRegression(class_weight='balanced')"
      ]
     },
     "execution_count": 81,
     "metadata": {},
     "output_type": "execute_result"
    },
    {
     "data": {
      "text/plain": [
       "LogisticRegression(class_weight='balanced')"
      ]
     },
     "execution_count": 81,
     "metadata": {},
     "output_type": "execute_result"
    },
    {
     "data": {
      "text/plain": [
       "LogisticRegression(class_weight='balanced')"
      ]
     },
     "execution_count": 81,
     "metadata": {},
     "output_type": "execute_result"
    },
    {
     "data": {
      "text/plain": [
       "LogisticRegression(class_weight='balanced')"
      ]
     },
     "execution_count": 81,
     "metadata": {},
     "output_type": "execute_result"
    },
    {
     "data": {
      "text/plain": [
       "LogisticRegression(class_weight='balanced')"
      ]
     },
     "execution_count": 81,
     "metadata": {},
     "output_type": "execute_result"
    },
    {
     "data": {
      "text/plain": [
       "LogisticRegression(class_weight='balanced')"
      ]
     },
     "execution_count": 81,
     "metadata": {},
     "output_type": "execute_result"
    },
    {
     "data": {
      "text/plain": [
       "LogisticRegression(class_weight='balanced')"
      ]
     },
     "execution_count": 81,
     "metadata": {},
     "output_type": "execute_result"
    },
    {
     "data": {
      "text/plain": [
       "LogisticRegression(class_weight='balanced')"
      ]
     },
     "execution_count": 81,
     "metadata": {},
     "output_type": "execute_result"
    },
    {
     "data": {
      "text/plain": [
       "LogisticRegression(class_weight='balanced')"
      ]
     },
     "execution_count": 81,
     "metadata": {},
     "output_type": "execute_result"
    },
    {
     "data": {
      "text/plain": [
       "LogisticRegression(class_weight='balanced')"
      ]
     },
     "execution_count": 81,
     "metadata": {},
     "output_type": "execute_result"
    },
    {
     "data": {
      "text/plain": [
       "LogisticRegression(class_weight='balanced')"
      ]
     },
     "execution_count": 81,
     "metadata": {},
     "output_type": "execute_result"
    },
    {
     "data": {
      "text/plain": [
       "LogisticRegression(class_weight='balanced')"
      ]
     },
     "execution_count": 81,
     "metadata": {},
     "output_type": "execute_result"
    },
    {
     "data": {
      "text/plain": [
       "LogisticRegression(class_weight='balanced')"
      ]
     },
     "execution_count": 81,
     "metadata": {},
     "output_type": "execute_result"
    },
    {
     "data": {
      "text/plain": [
       "LogisticRegression(class_weight='balanced')"
      ]
     },
     "execution_count": 81,
     "metadata": {},
     "output_type": "execute_result"
    },
    {
     "data": {
      "text/plain": [
       "LogisticRegression(class_weight='balanced')"
      ]
     },
     "execution_count": 81,
     "metadata": {},
     "output_type": "execute_result"
    },
    {
     "data": {
      "text/plain": [
       "LogisticRegression(class_weight='balanced')"
      ]
     },
     "execution_count": 81,
     "metadata": {},
     "output_type": "execute_result"
    },
    {
     "data": {
      "text/plain": [
       "LogisticRegression(class_weight='balanced')"
      ]
     },
     "execution_count": 81,
     "metadata": {},
     "output_type": "execute_result"
    },
    {
     "data": {
      "text/plain": [
       "LogisticRegression(class_weight='balanced')"
      ]
     },
     "execution_count": 81,
     "metadata": {},
     "output_type": "execute_result"
    },
    {
     "data": {
      "text/plain": [
       "LogisticRegression(class_weight='balanced')"
      ]
     },
     "execution_count": 81,
     "metadata": {},
     "output_type": "execute_result"
    },
    {
     "data": {
      "text/plain": [
       "LogisticRegression(class_weight='balanced')"
      ]
     },
     "execution_count": 81,
     "metadata": {},
     "output_type": "execute_result"
    },
    {
     "data": {
      "text/plain": [
       "LogisticRegression(class_weight='balanced')"
      ]
     },
     "execution_count": 81,
     "metadata": {},
     "output_type": "execute_result"
    },
    {
     "data": {
      "text/plain": [
       "LogisticRegression(class_weight='balanced')"
      ]
     },
     "execution_count": 81,
     "metadata": {},
     "output_type": "execute_result"
    },
    {
     "data": {
      "text/plain": [
       "LogisticRegression(class_weight='balanced')"
      ]
     },
     "execution_count": 81,
     "metadata": {},
     "output_type": "execute_result"
    },
    {
     "data": {
      "text/plain": [
       "LogisticRegression(class_weight='balanced')"
      ]
     },
     "execution_count": 81,
     "metadata": {},
     "output_type": "execute_result"
    },
    {
     "data": {
      "text/plain": [
       "LogisticRegression(class_weight='balanced')"
      ]
     },
     "execution_count": 81,
     "metadata": {},
     "output_type": "execute_result"
    },
    {
     "data": {
      "text/plain": [
       "LogisticRegression(class_weight='balanced')"
      ]
     },
     "execution_count": 81,
     "metadata": {},
     "output_type": "execute_result"
    },
    {
     "data": {
      "text/plain": [
       "LogisticRegression(class_weight='balanced')"
      ]
     },
     "execution_count": 81,
     "metadata": {},
     "output_type": "execute_result"
    },
    {
     "data": {
      "text/plain": [
       "LogisticRegression(class_weight='balanced')"
      ]
     },
     "execution_count": 81,
     "metadata": {},
     "output_type": "execute_result"
    },
    {
     "data": {
      "text/plain": [
       "LogisticRegression(class_weight='balanced')"
      ]
     },
     "execution_count": 81,
     "metadata": {},
     "output_type": "execute_result"
    },
    {
     "data": {
      "text/plain": [
       "LogisticRegression(class_weight='balanced')"
      ]
     },
     "execution_count": 81,
     "metadata": {},
     "output_type": "execute_result"
    },
    {
     "data": {
      "text/plain": [
       "LogisticRegression(class_weight='balanced')"
      ]
     },
     "execution_count": 81,
     "metadata": {},
     "output_type": "execute_result"
    },
    {
     "data": {
      "text/plain": [
       "LogisticRegression(class_weight='balanced')"
      ]
     },
     "execution_count": 81,
     "metadata": {},
     "output_type": "execute_result"
    },
    {
     "data": {
      "text/plain": [
       "LogisticRegression(class_weight='balanced')"
      ]
     },
     "execution_count": 81,
     "metadata": {},
     "output_type": "execute_result"
    },
    {
     "data": {
      "text/plain": [
       "LogisticRegression(class_weight='balanced')"
      ]
     },
     "execution_count": 81,
     "metadata": {},
     "output_type": "execute_result"
    },
    {
     "data": {
      "text/plain": [
       "LogisticRegression(class_weight='balanced')"
      ]
     },
     "execution_count": 81,
     "metadata": {},
     "output_type": "execute_result"
    },
    {
     "data": {
      "text/plain": [
       "LogisticRegression(class_weight='balanced')"
      ]
     },
     "execution_count": 81,
     "metadata": {},
     "output_type": "execute_result"
    },
    {
     "data": {
      "text/plain": [
       "LogisticRegression(class_weight='balanced')"
      ]
     },
     "execution_count": 81,
     "metadata": {},
     "output_type": "execute_result"
    },
    {
     "data": {
      "text/plain": [
       "LogisticRegression(class_weight='balanced')"
      ]
     },
     "execution_count": 81,
     "metadata": {},
     "output_type": "execute_result"
    },
    {
     "data": {
      "text/plain": [
       "LogisticRegression(class_weight='balanced')"
      ]
     },
     "execution_count": 81,
     "metadata": {},
     "output_type": "execute_result"
    },
    {
     "data": {
      "text/plain": [
       "LogisticRegression(class_weight='balanced')"
      ]
     },
     "execution_count": 81,
     "metadata": {},
     "output_type": "execute_result"
    },
    {
     "data": {
      "text/plain": [
       "LogisticRegression(class_weight='balanced')"
      ]
     },
     "execution_count": 81,
     "metadata": {},
     "output_type": "execute_result"
    },
    {
     "data": {
      "text/plain": [
       "LogisticRegression(class_weight='balanced')"
      ]
     },
     "execution_count": 81,
     "metadata": {},
     "output_type": "execute_result"
    },
    {
     "data": {
      "text/plain": [
       "LogisticRegression(class_weight='balanced')"
      ]
     },
     "execution_count": 81,
     "metadata": {},
     "output_type": "execute_result"
    },
    {
     "data": {
      "text/plain": [
       "LogisticRegression(class_weight='balanced')"
      ]
     },
     "execution_count": 81,
     "metadata": {},
     "output_type": "execute_result"
    },
    {
     "data": {
      "text/plain": [
       "LogisticRegression(class_weight='balanced')"
      ]
     },
     "execution_count": 81,
     "metadata": {},
     "output_type": "execute_result"
    },
    {
     "data": {
      "text/plain": [
       "LogisticRegression(class_weight='balanced')"
      ]
     },
     "execution_count": 81,
     "metadata": {},
     "output_type": "execute_result"
    },
    {
     "data": {
      "text/plain": [
       "LogisticRegression(class_weight='balanced')"
      ]
     },
     "execution_count": 81,
     "metadata": {},
     "output_type": "execute_result"
    },
    {
     "data": {
      "text/plain": [
       "LogisticRegression(class_weight='balanced')"
      ]
     },
     "execution_count": 81,
     "metadata": {},
     "output_type": "execute_result"
    },
    {
     "data": {
      "text/plain": [
       "LogisticRegression(class_weight='balanced')"
      ]
     },
     "execution_count": 81,
     "metadata": {},
     "output_type": "execute_result"
    },
    {
     "data": {
      "text/plain": [
       "LogisticRegression(class_weight='balanced')"
      ]
     },
     "execution_count": 81,
     "metadata": {},
     "output_type": "execute_result"
    },
    {
     "data": {
      "text/plain": [
       "LogisticRegression(class_weight='balanced')"
      ]
     },
     "execution_count": 81,
     "metadata": {},
     "output_type": "execute_result"
    },
    {
     "data": {
      "text/plain": [
       "LogisticRegression(class_weight='balanced')"
      ]
     },
     "execution_count": 81,
     "metadata": {},
     "output_type": "execute_result"
    },
    {
     "data": {
      "text/plain": [
       "LogisticRegression(class_weight='balanced')"
      ]
     },
     "execution_count": 81,
     "metadata": {},
     "output_type": "execute_result"
    },
    {
     "data": {
      "text/plain": [
       "LogisticRegression(class_weight='balanced')"
      ]
     },
     "execution_count": 81,
     "metadata": {},
     "output_type": "execute_result"
    },
    {
     "data": {
      "text/plain": [
       "LogisticRegression(class_weight='balanced')"
      ]
     },
     "execution_count": 81,
     "metadata": {},
     "output_type": "execute_result"
    },
    {
     "data": {
      "text/plain": [
       "LogisticRegression(class_weight='balanced')"
      ]
     },
     "execution_count": 81,
     "metadata": {},
     "output_type": "execute_result"
    },
    {
     "data": {
      "text/plain": [
       "LogisticRegression(class_weight='balanced')"
      ]
     },
     "execution_count": 81,
     "metadata": {},
     "output_type": "execute_result"
    },
    {
     "data": {
      "text/plain": [
       "LogisticRegression(class_weight='balanced')"
      ]
     },
     "execution_count": 81,
     "metadata": {},
     "output_type": "execute_result"
    },
    {
     "data": {
      "text/plain": [
       "LogisticRegression(class_weight='balanced')"
      ]
     },
     "execution_count": 81,
     "metadata": {},
     "output_type": "execute_result"
    },
    {
     "data": {
      "text/plain": [
       "LogisticRegression(class_weight='balanced')"
      ]
     },
     "execution_count": 81,
     "metadata": {},
     "output_type": "execute_result"
    },
    {
     "data": {
      "text/plain": [
       "LogisticRegression(class_weight='balanced')"
      ]
     },
     "execution_count": 81,
     "metadata": {},
     "output_type": "execute_result"
    },
    {
     "data": {
      "text/plain": [
       "LogisticRegression(class_weight='balanced')"
      ]
     },
     "execution_count": 81,
     "metadata": {},
     "output_type": "execute_result"
    },
    {
     "data": {
      "text/plain": [
       "LogisticRegression(class_weight='balanced')"
      ]
     },
     "execution_count": 81,
     "metadata": {},
     "output_type": "execute_result"
    },
    {
     "data": {
      "text/plain": [
       "LogisticRegression(class_weight='balanced')"
      ]
     },
     "execution_count": 81,
     "metadata": {},
     "output_type": "execute_result"
    },
    {
     "data": {
      "text/plain": [
       "LogisticRegression(class_weight='balanced')"
      ]
     },
     "execution_count": 81,
     "metadata": {},
     "output_type": "execute_result"
    },
    {
     "data": {
      "text/plain": [
       "LogisticRegression(class_weight='balanced')"
      ]
     },
     "execution_count": 81,
     "metadata": {},
     "output_type": "execute_result"
    },
    {
     "data": {
      "text/plain": [
       "LogisticRegression(class_weight='balanced')"
      ]
     },
     "execution_count": 81,
     "metadata": {},
     "output_type": "execute_result"
    },
    {
     "data": {
      "text/plain": [
       "LogisticRegression(class_weight='balanced')"
      ]
     },
     "execution_count": 81,
     "metadata": {},
     "output_type": "execute_result"
    },
    {
     "data": {
      "text/plain": [
       "LogisticRegression(class_weight='balanced')"
      ]
     },
     "execution_count": 81,
     "metadata": {},
     "output_type": "execute_result"
    },
    {
     "data": {
      "text/plain": [
       "LogisticRegression(class_weight='balanced')"
      ]
     },
     "execution_count": 81,
     "metadata": {},
     "output_type": "execute_result"
    },
    {
     "data": {
      "text/plain": [
       "LogisticRegression(class_weight='balanced')"
      ]
     },
     "execution_count": 81,
     "metadata": {},
     "output_type": "execute_result"
    },
    {
     "data": {
      "text/plain": [
       "LogisticRegression(class_weight='balanced')"
      ]
     },
     "execution_count": 81,
     "metadata": {},
     "output_type": "execute_result"
    },
    {
     "data": {
      "text/plain": [
       "LogisticRegression(class_weight='balanced')"
      ]
     },
     "execution_count": 81,
     "metadata": {},
     "output_type": "execute_result"
    },
    {
     "data": {
      "text/plain": [
       "LogisticRegression(class_weight='balanced')"
      ]
     },
     "execution_count": 81,
     "metadata": {},
     "output_type": "execute_result"
    },
    {
     "data": {
      "text/plain": [
       "LogisticRegression(class_weight='balanced')"
      ]
     },
     "execution_count": 81,
     "metadata": {},
     "output_type": "execute_result"
    },
    {
     "data": {
      "text/plain": [
       "LogisticRegression(class_weight='balanced')"
      ]
     },
     "execution_count": 81,
     "metadata": {},
     "output_type": "execute_result"
    },
    {
     "data": {
      "text/plain": [
       "LogisticRegression(class_weight='balanced')"
      ]
     },
     "execution_count": 81,
     "metadata": {},
     "output_type": "execute_result"
    },
    {
     "data": {
      "text/plain": [
       "LogisticRegression(class_weight='balanced')"
      ]
     },
     "execution_count": 81,
     "metadata": {},
     "output_type": "execute_result"
    },
    {
     "data": {
      "text/plain": [
       "LogisticRegression(class_weight='balanced')"
      ]
     },
     "execution_count": 81,
     "metadata": {},
     "output_type": "execute_result"
    },
    {
     "data": {
      "text/plain": [
       "LogisticRegression(class_weight='balanced')"
      ]
     },
     "execution_count": 81,
     "metadata": {},
     "output_type": "execute_result"
    },
    {
     "data": {
      "text/plain": [
       "LogisticRegression(class_weight='balanced')"
      ]
     },
     "execution_count": 81,
     "metadata": {},
     "output_type": "execute_result"
    },
    {
     "data": {
      "text/plain": [
       "LogisticRegression(class_weight='balanced')"
      ]
     },
     "execution_count": 81,
     "metadata": {},
     "output_type": "execute_result"
    },
    {
     "data": {
      "text/plain": [
       "LogisticRegression(class_weight='balanced')"
      ]
     },
     "execution_count": 81,
     "metadata": {},
     "output_type": "execute_result"
    },
    {
     "data": {
      "text/plain": [
       "LogisticRegression(class_weight='balanced')"
      ]
     },
     "execution_count": 81,
     "metadata": {},
     "output_type": "execute_result"
    },
    {
     "data": {
      "text/plain": [
       "LogisticRegression(class_weight='balanced')"
      ]
     },
     "execution_count": 81,
     "metadata": {},
     "output_type": "execute_result"
    },
    {
     "data": {
      "text/plain": [
       "LogisticRegression(class_weight='balanced')"
      ]
     },
     "execution_count": 81,
     "metadata": {},
     "output_type": "execute_result"
    },
    {
     "data": {
      "text/plain": [
       "LogisticRegression(class_weight='balanced')"
      ]
     },
     "execution_count": 81,
     "metadata": {},
     "output_type": "execute_result"
    },
    {
     "data": {
      "text/plain": [
       "LogisticRegression(class_weight='balanced')"
      ]
     },
     "execution_count": 81,
     "metadata": {},
     "output_type": "execute_result"
    },
    {
     "data": {
      "text/plain": [
       "LogisticRegression(class_weight='balanced')"
      ]
     },
     "execution_count": 81,
     "metadata": {},
     "output_type": "execute_result"
    },
    {
     "data": {
      "text/plain": [
       "LogisticRegression(class_weight='balanced')"
      ]
     },
     "execution_count": 81,
     "metadata": {},
     "output_type": "execute_result"
    },
    {
     "data": {
      "text/plain": [
       "LogisticRegression(class_weight='balanced')"
      ]
     },
     "execution_count": 81,
     "metadata": {},
     "output_type": "execute_result"
    },
    {
     "data": {
      "text/plain": [
       "LogisticRegression(class_weight='balanced')"
      ]
     },
     "execution_count": 81,
     "metadata": {},
     "output_type": "execute_result"
    },
    {
     "data": {
      "text/plain": [
       "LogisticRegression(class_weight='balanced')"
      ]
     },
     "execution_count": 81,
     "metadata": {},
     "output_type": "execute_result"
    },
    {
     "data": {
      "text/plain": [
       "LogisticRegression(class_weight='balanced')"
      ]
     },
     "execution_count": 81,
     "metadata": {},
     "output_type": "execute_result"
    },
    {
     "data": {
      "text/plain": [
       "LogisticRegression(class_weight='balanced')"
      ]
     },
     "execution_count": 81,
     "metadata": {},
     "output_type": "execute_result"
    },
    {
     "data": {
      "text/plain": [
       "LogisticRegression(class_weight='balanced')"
      ]
     },
     "execution_count": 81,
     "metadata": {},
     "output_type": "execute_result"
    },
    {
     "data": {
      "text/plain": [
       "LogisticRegression(class_weight='balanced')"
      ]
     },
     "execution_count": 81,
     "metadata": {},
     "output_type": "execute_result"
    },
    {
     "data": {
      "text/plain": [
       "LogisticRegression(class_weight='balanced')"
      ]
     },
     "execution_count": 81,
     "metadata": {},
     "output_type": "execute_result"
    },
    {
     "data": {
      "text/plain": [
       "LogisticRegression(class_weight='balanced')"
      ]
     },
     "execution_count": 81,
     "metadata": {},
     "output_type": "execute_result"
    },
    {
     "data": {
      "text/plain": [
       "LogisticRegression(class_weight='balanced')"
      ]
     },
     "execution_count": 81,
     "metadata": {},
     "output_type": "execute_result"
    },
    {
     "data": {
      "text/plain": [
       "LogisticRegression(class_weight='balanced')"
      ]
     },
     "execution_count": 81,
     "metadata": {},
     "output_type": "execute_result"
    },
    {
     "data": {
      "text/plain": [
       "LogisticRegression(class_weight='balanced')"
      ]
     },
     "execution_count": 81,
     "metadata": {},
     "output_type": "execute_result"
    },
    {
     "data": {
      "text/plain": [
       "LogisticRegression(class_weight='balanced')"
      ]
     },
     "execution_count": 81,
     "metadata": {},
     "output_type": "execute_result"
    },
    {
     "data": {
      "text/plain": [
       "LogisticRegression(class_weight='balanced')"
      ]
     },
     "execution_count": 81,
     "metadata": {},
     "output_type": "execute_result"
    },
    {
     "data": {
      "text/plain": [
       "LogisticRegression(class_weight='balanced')"
      ]
     },
     "execution_count": 81,
     "metadata": {},
     "output_type": "execute_result"
    },
    {
     "data": {
      "text/plain": [
       "LogisticRegression(class_weight='balanced')"
      ]
     },
     "execution_count": 81,
     "metadata": {},
     "output_type": "execute_result"
    },
    {
     "data": {
      "text/plain": [
       "LogisticRegression(class_weight='balanced')"
      ]
     },
     "execution_count": 81,
     "metadata": {},
     "output_type": "execute_result"
    },
    {
     "data": {
      "text/plain": [
       "LogisticRegression(class_weight='balanced')"
      ]
     },
     "execution_count": 81,
     "metadata": {},
     "output_type": "execute_result"
    },
    {
     "data": {
      "text/plain": [
       "LogisticRegression(class_weight='balanced')"
      ]
     },
     "execution_count": 81,
     "metadata": {},
     "output_type": "execute_result"
    },
    {
     "data": {
      "text/plain": [
       "LogisticRegression(class_weight='balanced')"
      ]
     },
     "execution_count": 81,
     "metadata": {},
     "output_type": "execute_result"
    },
    {
     "data": {
      "text/plain": [
       "LogisticRegression(class_weight='balanced')"
      ]
     },
     "execution_count": 81,
     "metadata": {},
     "output_type": "execute_result"
    },
    {
     "data": {
      "text/plain": [
       "LogisticRegression(class_weight='balanced')"
      ]
     },
     "execution_count": 81,
     "metadata": {},
     "output_type": "execute_result"
    },
    {
     "data": {
      "text/plain": [
       "LogisticRegression(class_weight='balanced')"
      ]
     },
     "execution_count": 81,
     "metadata": {},
     "output_type": "execute_result"
    },
    {
     "data": {
      "text/plain": [
       "LogisticRegression(class_weight='balanced')"
      ]
     },
     "execution_count": 81,
     "metadata": {},
     "output_type": "execute_result"
    },
    {
     "data": {
      "text/plain": [
       "LogisticRegression(class_weight='balanced')"
      ]
     },
     "execution_count": 81,
     "metadata": {},
     "output_type": "execute_result"
    },
    {
     "data": {
      "text/plain": [
       "LogisticRegression(class_weight='balanced')"
      ]
     },
     "execution_count": 81,
     "metadata": {},
     "output_type": "execute_result"
    },
    {
     "data": {
      "text/plain": [
       "LogisticRegression(class_weight='balanced')"
      ]
     },
     "execution_count": 81,
     "metadata": {},
     "output_type": "execute_result"
    },
    {
     "data": {
      "text/plain": [
       "LogisticRegression(class_weight='balanced')"
      ]
     },
     "execution_count": 81,
     "metadata": {},
     "output_type": "execute_result"
    },
    {
     "data": {
      "text/plain": [
       "LogisticRegression(class_weight='balanced')"
      ]
     },
     "execution_count": 81,
     "metadata": {},
     "output_type": "execute_result"
    },
    {
     "data": {
      "text/plain": [
       "LogisticRegression(class_weight='balanced')"
      ]
     },
     "execution_count": 81,
     "metadata": {},
     "output_type": "execute_result"
    }
   ],
   "source": [
    "# need two conditions to decide wether to use the dumb classifier or not\n",
    "# 1) threhsold on the number of examples\n",
    "# 2) and there must be examples of both classes\n",
    "\n",
    "df_metrics = pd.DataFrame(columns=['diag','precision','recall','f1','clf','type'])\n",
    "\n",
    "clf_party = {}\n",
    "threshold = 20\n",
    "for diag in outs.columns:\n",
    "    \n",
    "    n_TP = (TP[diag] == True).sum()\n",
    "    n_FP = (FP[diag] == True).sum()\n",
    "    \n",
    "    total_n = n_TP + n_FP\n",
    "    \n",
    "    if total_n < threshold or n_TP < 5 or n_FP < 5:\n",
    "        #use dumb classifier\n",
    "        clf = DumbClassifier()\n",
    "        df_metrics = df_metrics.append({'diag':diag,'precision':np.nan,'recall':np.nan,'f1':np.nan,'clf':clf,'type':'dumb'},ignore_index=True)\n",
    "    else:\n",
    "        #use logistic regression\n",
    "        \n",
    "        ## create dataset\n",
    "        mean_tp = means[diag][TP[diag]].to_frame('mean')\n",
    "        mean_fp = means[diag][FP[diag]].to_frame('mean')\n",
    "        \n",
    "        var_tp = variances[diag][TP[diag]].to_frame('var')\n",
    "        var_fp = variances[diag][FP[diag]].to_frame('var')\n",
    "        \n",
    "        df_tp = pd.concat([mean_tp,var_tp],axis=1).assign(label=0).reset_index(drop=True)\n",
    "        df_fp = pd.concat([mean_fp,var_fp],axis=1).assign(label=1).reset_index(drop=True)\n",
    "        \n",
    "        df = pd.concat([df_tp,df_fp],ignore_index=True).sample(frac=1.0)\n",
    "        \n",
    "        ## split into train-test\n",
    "        \n",
    "        X_train,X_test,y_train,y_test = train_test_split(df[['mean','var']],df['label'],stratify=df['label'])\n",
    "        \n",
    "        ## train\n",
    "        clf = LogisticRegression(class_weight=\"balanced\");\n",
    "        clf.fit(X_train,y_train);\n",
    "        \n",
    "        ## evaluate\n",
    "        preds = clf.predict(X_test);\n",
    "        \n",
    "        precision = precision_score(y_test,preds)\n",
    "        recall = recall_score(y_test,preds)\n",
    "        f1 = f1_score(y_test,preds)\n",
    "        \n",
    "        df_metrics = df_metrics.append({'diag':diag,'precision':precision,'recall':recall,'f1':f1,'clf':clf,'type':'model'},ignore_index=True)\n",
    "    \n",
    "    clf_party[diag] = clf\n",
    "    "
   ]
  },
  {
   "cell_type": "code",
   "execution_count": 82,
   "metadata": {},
   "outputs": [
    {
     "data": {
      "text/plain": [
       "count    128.000000\n",
       "mean       0.790077\n",
       "std        0.100953\n",
       "min        0.333333\n",
       "25%        0.739224\n",
       "50%        0.797866\n",
       "75%        0.860406\n",
       "max        1.000000\n",
       "Name: f1, dtype: float64"
      ]
     },
     "execution_count": 82,
     "metadata": {},
     "output_type": "execute_result"
    }
   ],
   "source": [
    "df_metrics.f1.describe()"
   ]
  },
  {
   "cell_type": "code",
   "execution_count": 83,
   "metadata": {},
   "outputs": [
    {
     "data": {
      "text/html": [
       "<div>\n",
       "<style scoped>\n",
       "    .dataframe tbody tr th:only-of-type {\n",
       "        vertical-align: middle;\n",
       "    }\n",
       "\n",
       "    .dataframe tbody tr th {\n",
       "        vertical-align: top;\n",
       "    }\n",
       "\n",
       "    .dataframe thead th {\n",
       "        text-align: right;\n",
       "    }\n",
       "</style>\n",
       "<table border=\"1\" class=\"dataframe\">\n",
       "  <thead>\n",
       "    <tr style=\"text-align: right;\">\n",
       "      <th></th>\n",
       "      <th>precision</th>\n",
       "      <th>recall</th>\n",
       "      <th>f1</th>\n",
       "      <th>clf</th>\n",
       "      <th>type</th>\n",
       "    </tr>\n",
       "    <tr>\n",
       "      <th>diag</th>\n",
       "      <th></th>\n",
       "      <th></th>\n",
       "      <th></th>\n",
       "      <th></th>\n",
       "      <th></th>\n",
       "    </tr>\n",
       "  </thead>\n",
       "  <tbody>\n",
       "    <tr>\n",
       "      <th>diag_0</th>\n",
       "      <td>NaN</td>\n",
       "      <td>NaN</td>\n",
       "      <td>NaN</td>\n",
       "      <td>DumbClassifier()</td>\n",
       "      <td>dumb</td>\n",
       "    </tr>\n",
       "    <tr>\n",
       "      <th>diag_1</th>\n",
       "      <td>0.818653</td>\n",
       "      <td>0.681034</td>\n",
       "      <td>0.743529</td>\n",
       "      <td>LogisticRegression(class_weight='balanced')</td>\n",
       "      <td>model</td>\n",
       "    </tr>\n",
       "  </tbody>\n",
       "</table>\n",
       "</div>"
      ],
      "text/plain": [
       "        precision    recall        f1  \\\n",
       "diag                                    \n",
       "diag_0        NaN       NaN       NaN   \n",
       "diag_1   0.818653  0.681034  0.743529   \n",
       "\n",
       "                                                clf   type  \n",
       "diag                                                        \n",
       "diag_0                             DumbClassifier()   dumb  \n",
       "diag_1  LogisticRegression(class_weight='balanced')  model  "
      ]
     },
     "execution_count": 83,
     "metadata": {},
     "output_type": "execute_result"
    }
   ],
   "source": [
    "df_metrics = df_metrics.set_index('diag')\n",
    "df_metrics.head(2)"
   ]
  },
  {
   "cell_type": "markdown",
   "metadata": {},
   "source": [
    "## Classifiers are trained. Now we need to apply them"
   ]
  },
  {
   "cell_type": "code",
   "execution_count": 84,
   "metadata": {},
   "outputs": [],
   "source": [
    "# notice we use the test set now\n",
    "outs, golden = outs2df_mc(model,test_dataloader,dataset,return_golden=True)"
   ]
  },
  {
   "cell_type": "code",
   "execution_count": 85,
   "metadata": {},
   "outputs": [
    {
     "data": {
      "text/html": [
       "<div>\n",
       "<style scoped>\n",
       "    .dataframe tbody tr th:only-of-type {\n",
       "        vertical-align: middle;\n",
       "    }\n",
       "\n",
       "    .dataframe tbody tr th {\n",
       "        vertical-align: top;\n",
       "    }\n",
       "\n",
       "    .dataframe thead tr th {\n",
       "        text-align: left;\n",
       "    }\n",
       "\n",
       "    .dataframe thead tr:last-of-type th {\n",
       "        text-align: right;\n",
       "    }\n",
       "</style>\n",
       "<table border=\"1\" class=\"dataframe\">\n",
       "  <thead>\n",
       "    <tr>\n",
       "      <th></th>\n",
       "      <th></th>\n",
       "      <th colspan=\"2\" halign=\"left\">diag_0</th>\n",
       "      <th colspan=\"2\" halign=\"left\">diag_1</th>\n",
       "      <th colspan=\"2\" halign=\"left\">diag_2</th>\n",
       "      <th colspan=\"2\" halign=\"left\">diag_3</th>\n",
       "      <th colspan=\"2\" halign=\"left\">diag_4</th>\n",
       "      <th>...</th>\n",
       "      <th colspan=\"2\" halign=\"left\">diag_267</th>\n",
       "      <th colspan=\"2\" halign=\"left\">diag_268</th>\n",
       "      <th colspan=\"2\" halign=\"left\">diag_269</th>\n",
       "      <th colspan=\"2\" halign=\"left\">diag_270</th>\n",
       "      <th colspan=\"2\" halign=\"left\">diag_271</th>\n",
       "    </tr>\n",
       "    <tr>\n",
       "      <th></th>\n",
       "      <th></th>\n",
       "      <th>mean</th>\n",
       "      <th>var</th>\n",
       "      <th>mean</th>\n",
       "      <th>var</th>\n",
       "      <th>mean</th>\n",
       "      <th>var</th>\n",
       "      <th>mean</th>\n",
       "      <th>var</th>\n",
       "      <th>mean</th>\n",
       "      <th>var</th>\n",
       "      <th>...</th>\n",
       "      <th>mean</th>\n",
       "      <th>var</th>\n",
       "      <th>mean</th>\n",
       "      <th>var</th>\n",
       "      <th>mean</th>\n",
       "      <th>var</th>\n",
       "      <th>mean</th>\n",
       "      <th>var</th>\n",
       "      <th>mean</th>\n",
       "      <th>var</th>\n",
       "    </tr>\n",
       "    <tr>\n",
       "      <th>pat_id</th>\n",
       "      <th>adm_index</th>\n",
       "      <th></th>\n",
       "      <th></th>\n",
       "      <th></th>\n",
       "      <th></th>\n",
       "      <th></th>\n",
       "      <th></th>\n",
       "      <th></th>\n",
       "      <th></th>\n",
       "      <th></th>\n",
       "      <th></th>\n",
       "      <th></th>\n",
       "      <th></th>\n",
       "      <th></th>\n",
       "      <th></th>\n",
       "      <th></th>\n",
       "      <th></th>\n",
       "      <th></th>\n",
       "      <th></th>\n",
       "      <th></th>\n",
       "      <th></th>\n",
       "      <th></th>\n",
       "    </tr>\n",
       "  </thead>\n",
       "  <tbody>\n",
       "    <tr>\n",
       "      <th>111</th>\n",
       "      <th>1</th>\n",
       "      <td>0.003389</td>\n",
       "      <td>6.781458e-06</td>\n",
       "      <td>0.110533</td>\n",
       "      <td>0.003121</td>\n",
       "      <td>0.053718</td>\n",
       "      <td>0.000363</td>\n",
       "      <td>0.071027</td>\n",
       "      <td>0.001179</td>\n",
       "      <td>0.002383</td>\n",
       "      <td>1.136420e-05</td>\n",
       "      <td>...</td>\n",
       "      <td>0.067196</td>\n",
       "      <td>0.000786</td>\n",
       "      <td>0.007518</td>\n",
       "      <td>0.000054</td>\n",
       "      <td>0.001057</td>\n",
       "      <td>1.906835e-06</td>\n",
       "      <td>0.010742</td>\n",
       "      <td>0.000154</td>\n",
       "      <td>0.030980</td>\n",
       "      <td>0.000265</td>\n",
       "    </tr>\n",
       "    <tr>\n",
       "      <th>145</th>\n",
       "      <th>1</th>\n",
       "      <td>0.001227</td>\n",
       "      <td>2.728726e-07</td>\n",
       "      <td>0.467633</td>\n",
       "      <td>0.013534</td>\n",
       "      <td>0.195984</td>\n",
       "      <td>0.008218</td>\n",
       "      <td>0.090025</td>\n",
       "      <td>0.001018</td>\n",
       "      <td>0.000727</td>\n",
       "      <td>6.442172e-07</td>\n",
       "      <td>...</td>\n",
       "      <td>0.084007</td>\n",
       "      <td>0.002001</td>\n",
       "      <td>0.012831</td>\n",
       "      <td>0.000179</td>\n",
       "      <td>0.001081</td>\n",
       "      <td>9.268893e-07</td>\n",
       "      <td>0.017722</td>\n",
       "      <td>0.000371</td>\n",
       "      <td>0.039875</td>\n",
       "      <td>0.000709</td>\n",
       "    </tr>\n",
       "    <tr>\n",
       "      <th>199</th>\n",
       "      <th>1</th>\n",
       "      <td>0.026290</td>\n",
       "      <td>3.234065e-03</td>\n",
       "      <td>0.118492</td>\n",
       "      <td>0.002686</td>\n",
       "      <td>0.056296</td>\n",
       "      <td>0.000343</td>\n",
       "      <td>0.062752</td>\n",
       "      <td>0.003218</td>\n",
       "      <td>0.011570</td>\n",
       "      <td>2.920511e-04</td>\n",
       "      <td>...</td>\n",
       "      <td>0.091543</td>\n",
       "      <td>0.005362</td>\n",
       "      <td>0.004337</td>\n",
       "      <td>0.000010</td>\n",
       "      <td>0.001668</td>\n",
       "      <td>3.159698e-06</td>\n",
       "      <td>0.006834</td>\n",
       "      <td>0.000034</td>\n",
       "      <td>0.019984</td>\n",
       "      <td>0.000105</td>\n",
       "    </tr>\n",
       "  </tbody>\n",
       "</table>\n",
       "<p>3 rows × 544 columns</p>\n",
       "</div>"
      ],
      "text/plain": [
       "                    diag_0                  diag_1              diag_2  \\\n",
       "                      mean           var      mean       var      mean   \n",
       "pat_id adm_index                                                         \n",
       "111    1          0.003389  6.781458e-06  0.110533  0.003121  0.053718   \n",
       "145    1          0.001227  2.728726e-07  0.467633  0.013534  0.195984   \n",
       "199    1          0.026290  3.234065e-03  0.118492  0.002686  0.056296   \n",
       "\n",
       "                              diag_3              diag_4                ...  \\\n",
       "                       var      mean       var      mean           var  ...   \n",
       "pat_id adm_index                                                        ...   \n",
       "111    1          0.000363  0.071027  0.001179  0.002383  1.136420e-05  ...   \n",
       "145    1          0.008218  0.090025  0.001018  0.000727  6.442172e-07  ...   \n",
       "199    1          0.000343  0.062752  0.003218  0.011570  2.920511e-04  ...   \n",
       "\n",
       "                  diag_267            diag_268            diag_269  \\\n",
       "                      mean       var      mean       var      mean   \n",
       "pat_id adm_index                                                     \n",
       "111    1          0.067196  0.000786  0.007518  0.000054  0.001057   \n",
       "145    1          0.084007  0.002001  0.012831  0.000179  0.001081   \n",
       "199    1          0.091543  0.005362  0.004337  0.000010  0.001668   \n",
       "\n",
       "                                diag_270            diag_271            \n",
       "                           var      mean       var      mean       var  \n",
       "pat_id adm_index                                                        \n",
       "111    1          1.906835e-06  0.010742  0.000154  0.030980  0.000265  \n",
       "145    1          9.268893e-07  0.017722  0.000371  0.039875  0.000709  \n",
       "199    1          3.159698e-06  0.006834  0.000034  0.019984  0.000105  \n",
       "\n",
       "[3 rows x 544 columns]"
      ]
     },
     "execution_count": 85,
     "metadata": {},
     "output_type": "execute_result"
    }
   ],
   "source": [
    "stats_outs = outs.groupby(['pat_id','adm_index']).agg(['mean','var'])\n",
    "stats_outs.head(3)"
   ]
  },
  {
   "cell_type": "code",
   "execution_count": 86,
   "metadata": {},
   "outputs": [],
   "source": [
    "k = 30\n",
    "topk_outputs = stats_outs.apply(lambda row: row.loc[idx[:,'mean']].nlargest(k),axis=1)\n",
    "\n",
    "# fix missing columns from previous operation\n",
    "original_class_columns = stats_outs.columns.get_level_values(0).unique()\n",
    "missing_cols = [col for col in original_class_columns if col not in topk_outputs.columns]\n",
    "topk_outputs_all_cols = pd.concat([topk_outputs,pd.DataFrame(columns=missing_cols)])\n",
    "topk_outputs_all_cols = topk_outputs_all_cols[original_class_columns]\n",
    "\n",
    "topk_predictions = np.where(topk_outputs_all_cols.isna(),0,1)\n",
    "topk_predictions = pd.DataFrame(data=topk_predictions,columns=original_class_columns,index=stats_outs.index)"
   ]
  },
  {
   "cell_type": "code",
   "execution_count": 89,
   "metadata": {},
   "outputs": [],
   "source": [
    "def abstain(row,df_metrics,stats_outs,threshold=None):\n",
    "    \"\"\"\n",
    "    Receives a row which contains the predictions of all diagnoses (0 or 1) for a given admission.\n",
    "    Also receives df_metrics, which contains the LRs trained on each diagnostic (that predicts if TP or FP)\n",
    "    And stats_outs contains the means and variances of the forward passes.\n",
    "    \n",
    "    this function will turn some predictions from 1 to 0 if the LR model predicts it will be a FP.\n",
    "    \"\"\"\n",
    "    new_row = row.copy()\n",
    "    admission_forward_stats = stats_outs.loc[row.name,:]\n",
    "    for index,elem in row.iteritems():\n",
    "        if elem == 1:\n",
    "            datapoint = admission_forward_stats[index].to_numpy()\n",
    "            clf = df_metrics.loc[index,'clf']\n",
    "            \n",
    "            # proba of positive class pred\n",
    "            pred = clf.predict_proba(datapoint.reshape((-1,2)))[0][1]\n",
    "            \n",
    "            if pred > threshold: #abstain\n",
    "                new_row[index] = 0\n",
    "    return new_row"
   ]
  },
  {
   "cell_type": "markdown",
   "metadata": {},
   "source": [
    "and abstain from topk now"
   ]
  },
  {
   "cell_type": "code",
   "execution_count": 91,
   "metadata": {},
   "outputs": [
    {
     "data": {
      "text/html": [
       "<div>\n",
       "<style scoped>\n",
       "    .dataframe tbody tr th:only-of-type {\n",
       "        vertical-align: middle;\n",
       "    }\n",
       "\n",
       "    .dataframe tbody tr th {\n",
       "        vertical-align: top;\n",
       "    }\n",
       "\n",
       "    .dataframe thead th {\n",
       "        text-align: right;\n",
       "    }\n",
       "</style>\n",
       "<table border=\"1\" class=\"dataframe\">\n",
       "  <thead>\n",
       "    <tr style=\"text-align: right;\">\n",
       "      <th></th>\n",
       "      <th>threshsold 0.3</th>\n",
       "      <th>threshsold 0.4</th>\n",
       "    </tr>\n",
       "    <tr>\n",
       "      <th>metrics</th>\n",
       "      <th></th>\n",
       "      <th></th>\n",
       "    </tr>\n",
       "  </thead>\n",
       "  <tbody>\n",
       "    <tr>\n",
       "      <th>precision@30_diag</th>\n",
       "      <td>0.423348</td>\n",
       "      <td>0.424000</td>\n",
       "    </tr>\n",
       "    <tr>\n",
       "      <th>recall@30_diag</th>\n",
       "      <td>0.104043</td>\n",
       "      <td>0.152699</td>\n",
       "    </tr>\n",
       "    <tr>\n",
       "      <th>f1@30_diag</th>\n",
       "      <td>0.124310</td>\n",
       "      <td>0.182809</td>\n",
       "    </tr>\n",
       "    <tr>\n",
       "      <th>precision@30_adm</th>\n",
       "      <td>0.631489</td>\n",
       "      <td>0.577159</td>\n",
       "    </tr>\n",
       "    <tr>\n",
       "      <th>recall@30_adm</th>\n",
       "      <td>0.204662</td>\n",
       "      <td>0.312925</td>\n",
       "    </tr>\n",
       "    <tr>\n",
       "      <th>f1@30_adm</th>\n",
       "      <td>0.288136</td>\n",
       "      <td>0.379660</td>\n",
       "    </tr>\n",
       "  </tbody>\n",
       "</table>\n",
       "</div>"
      ],
      "text/plain": [
       "                   threshsold 0.3  threshsold 0.4\n",
       "metrics                                          \n",
       "precision@30_diag        0.423348        0.424000\n",
       "recall@30_diag           0.104043        0.152699\n",
       "f1@30_diag               0.124310        0.182809\n",
       "precision@30_adm         0.631489        0.577159\n",
       "recall@30_adm            0.204662        0.312925\n",
       "f1@30_adm                0.288136        0.379660"
      ]
     },
     "execution_count": 91,
     "metadata": {},
     "output_type": "execute_result"
    }
   ],
   "source": [
    "all_metrics_w_abstention"
   ]
  },
  {
   "cell_type": "code",
   "execution_count": 92,
   "metadata": {},
   "outputs": [
    {
     "name": "stdout",
     "output_type": "stream",
     "text": [
      "Done 1\n",
      "Done 2\n",
      "Done 3\n",
      "Done 4\n",
      "Done 5\n",
      "Done 6\n",
      "Done 7\n",
      "Done ALL\n"
     ]
    }
   ],
   "source": [
    "# metrics of topk\n",
    "metrics_normal = compute_metrics(topk_outputs_all_cols.fillna(0),topk_predictions,golden,['precision@30','recall@30','f1@30'])\n",
    "\n",
    "# metrics of topk and abstention afterwards\n",
    "\n",
    "all_metrics_w_abstention = None\n",
    "for ix,th in enumerate(np.linspace(0.3,0.9,7)):\n",
    "\n",
    "    top_k_predictions_abstained = topk_predictions.apply(lambda row: abstain(row,df_metrics,stats_outs,th),axis=1)\n",
    "    topk_outputs_all_cols_after_abstention = topk_outputs_all_cols.fillna(0).mask(top_k_predictions_abstained == 0,0)\n",
    "    metrics_w_abstention = compute_metrics(topk_outputs_all_cols_after_abstention,top_k_predictions_abstained,golden,['precision@30','recall@30','f1@30'])\n",
    "    metrics_w_abstention.name = f'threshsold {th}'\n",
    "    \n",
    "    all_metrics_w_abstention = metrics_w_abstention if all_metrics_w_abstention is None else pd.concat([all_metrics_w_abstention,metrics_w_abstention],axis=1)\n",
    "    print (f'Done {(ix+1)}')\n",
    "print('Done ALL')"
   ]
  },
  {
   "cell_type": "code",
   "execution_count": 93,
   "metadata": {},
   "outputs": [
    {
     "data": {
      "text/html": [
       "<div>\n",
       "<style scoped>\n",
       "    .dataframe tbody tr th:only-of-type {\n",
       "        vertical-align: middle;\n",
       "    }\n",
       "\n",
       "    .dataframe tbody tr th {\n",
       "        vertical-align: top;\n",
       "    }\n",
       "\n",
       "    .dataframe thead th {\n",
       "        text-align: right;\n",
       "    }\n",
       "</style>\n",
       "<table border=\"1\" class=\"dataframe\">\n",
       "  <thead>\n",
       "    <tr style=\"text-align: right;\">\n",
       "      <th></th>\n",
       "      <th>initial top 30 retrieval</th>\n",
       "      <th>threshsold 0.3</th>\n",
       "      <th>threshsold 0.4</th>\n",
       "      <th>threshsold 0.5</th>\n",
       "      <th>threshsold 0.6000000000000001</th>\n",
       "      <th>threshsold 0.7000000000000001</th>\n",
       "      <th>threshsold 0.8</th>\n",
       "      <th>threshsold 0.9</th>\n",
       "    </tr>\n",
       "    <tr>\n",
       "      <th>metrics</th>\n",
       "      <th></th>\n",
       "      <th></th>\n",
       "      <th></th>\n",
       "      <th></th>\n",
       "      <th></th>\n",
       "      <th></th>\n",
       "      <th></th>\n",
       "      <th></th>\n",
       "    </tr>\n",
       "  </thead>\n",
       "  <tbody>\n",
       "    <tr>\n",
       "      <th>precision@30_adm</th>\n",
       "      <td>0.274991</td>\n",
       "      <td>0.631489</td>\n",
       "      <td>0.577159</td>\n",
       "      <td>0.461108</td>\n",
       "      <td>0.332377</td>\n",
       "      <td>0.294947</td>\n",
       "      <td>0.278753</td>\n",
       "      <td>0.275002</td>\n",
       "    </tr>\n",
       "    <tr>\n",
       "      <th>recall@30_adm</th>\n",
       "      <td>0.699241</td>\n",
       "      <td>0.204662</td>\n",
       "      <td>0.312925</td>\n",
       "      <td>0.463577</td>\n",
       "      <td>0.598133</td>\n",
       "      <td>0.665533</td>\n",
       "      <td>0.693980</td>\n",
       "      <td>0.699241</td>\n",
       "    </tr>\n",
       "    <tr>\n",
       "      <th>f1@30_adm</th>\n",
       "      <td>0.378322</td>\n",
       "      <td>0.288136</td>\n",
       "      <td>0.379660</td>\n",
       "      <td>0.434640</td>\n",
       "      <td>0.410954</td>\n",
       "      <td>0.393249</td>\n",
       "      <td>0.381803</td>\n",
       "      <td>0.378339</td>\n",
       "    </tr>\n",
       "  </tbody>\n",
       "</table>\n",
       "</div>"
      ],
      "text/plain": [
       "                  initial top 30 retrieval  threshsold 0.3  threshsold 0.4  \\\n",
       "metrics                                                                      \n",
       "precision@30_adm                  0.274991        0.631489        0.577159   \n",
       "recall@30_adm                     0.699241        0.204662        0.312925   \n",
       "f1@30_adm                         0.378322        0.288136        0.379660   \n",
       "\n",
       "                  threshsold 0.5  threshsold 0.6000000000000001  \\\n",
       "metrics                                                           \n",
       "precision@30_adm        0.461108                       0.332377   \n",
       "recall@30_adm           0.463577                       0.598133   \n",
       "f1@30_adm               0.434640                       0.410954   \n",
       "\n",
       "                  threshsold 0.7000000000000001  threshsold 0.8  \\\n",
       "metrics                                                           \n",
       "precision@30_adm                       0.294947        0.278753   \n",
       "recall@30_adm                          0.665533        0.693980   \n",
       "f1@30_adm                              0.393249        0.381803   \n",
       "\n",
       "                  threshsold 0.9  \n",
       "metrics                           \n",
       "precision@30_adm        0.275002  \n",
       "recall@30_adm           0.699241  \n",
       "f1@30_adm               0.378339  "
      ]
     },
     "execution_count": 93,
     "metadata": {},
     "output_type": "execute_result"
    }
   ],
   "source": [
    "metrics_normal.name = 'initial top 30 retrieval'\n",
    "pd.concat([metrics_normal,all_metrics_w_abstention],axis=1).iloc[3:]"
   ]
  },
  {
   "cell_type": "code",
   "execution_count": 94,
   "metadata": {},
   "outputs": [
    {
     "data": {
      "text/html": [
       "<div>\n",
       "<style scoped>\n",
       "    .dataframe tbody tr th:only-of-type {\n",
       "        vertical-align: middle;\n",
       "    }\n",
       "\n",
       "    .dataframe tbody tr th {\n",
       "        vertical-align: top;\n",
       "    }\n",
       "\n",
       "    .dataframe thead th {\n",
       "        text-align: right;\n",
       "    }\n",
       "</style>\n",
       "<table border=\"1\" class=\"dataframe\">\n",
       "  <thead>\n",
       "    <tr style=\"text-align: right;\">\n",
       "      <th></th>\n",
       "      <th>precision</th>\n",
       "      <th>recall</th>\n",
       "      <th>f1</th>\n",
       "      <th>clf</th>\n",
       "      <th>type</th>\n",
       "    </tr>\n",
       "    <tr>\n",
       "      <th>diag</th>\n",
       "      <th></th>\n",
       "      <th></th>\n",
       "      <th></th>\n",
       "      <th></th>\n",
       "      <th></th>\n",
       "    </tr>\n",
       "  </thead>\n",
       "  <tbody>\n",
       "    <tr>\n",
       "      <th>diag_0</th>\n",
       "      <td>NaN</td>\n",
       "      <td>NaN</td>\n",
       "      <td>NaN</td>\n",
       "      <td>DumbClassifier()</td>\n",
       "      <td>dumb</td>\n",
       "    </tr>\n",
       "    <tr>\n",
       "      <th>diag_1</th>\n",
       "      <td>0.818653</td>\n",
       "      <td>0.681034</td>\n",
       "      <td>0.743529</td>\n",
       "      <td>LogisticRegression(class_weight='balanced')</td>\n",
       "      <td>model</td>\n",
       "    </tr>\n",
       "    <tr>\n",
       "      <th>diag_2</th>\n",
       "      <td>0.740000</td>\n",
       "      <td>0.627119</td>\n",
       "      <td>0.678899</td>\n",
       "      <td>LogisticRegression(class_weight='balanced')</td>\n",
       "      <td>model</td>\n",
       "    </tr>\n",
       "    <tr>\n",
       "      <th>diag_3</th>\n",
       "      <td>0.950000</td>\n",
       "      <td>0.584615</td>\n",
       "      <td>0.723810</td>\n",
       "      <td>LogisticRegression(class_weight='balanced')</td>\n",
       "      <td>model</td>\n",
       "    </tr>\n",
       "    <tr>\n",
       "      <th>diag_4</th>\n",
       "      <td>1.000000</td>\n",
       "      <td>1.000000</td>\n",
       "      <td>1.000000</td>\n",
       "      <td>LogisticRegression(class_weight='balanced')</td>\n",
       "      <td>model</td>\n",
       "    </tr>\n",
       "    <tr>\n",
       "      <th>...</th>\n",
       "      <td>...</td>\n",
       "      <td>...</td>\n",
       "      <td>...</td>\n",
       "      <td>...</td>\n",
       "      <td>...</td>\n",
       "    </tr>\n",
       "    <tr>\n",
       "      <th>diag_267</th>\n",
       "      <td>0.937500</td>\n",
       "      <td>0.714286</td>\n",
       "      <td>0.810811</td>\n",
       "      <td>LogisticRegression(class_weight='balanced')</td>\n",
       "      <td>model</td>\n",
       "    </tr>\n",
       "    <tr>\n",
       "      <th>diag_268</th>\n",
       "      <td>0.833333</td>\n",
       "      <td>0.500000</td>\n",
       "      <td>0.625000</td>\n",
       "      <td>LogisticRegression(class_weight='balanced')</td>\n",
       "      <td>model</td>\n",
       "    </tr>\n",
       "    <tr>\n",
       "      <th>diag_269</th>\n",
       "      <td>NaN</td>\n",
       "      <td>NaN</td>\n",
       "      <td>NaN</td>\n",
       "      <td>DumbClassifier()</td>\n",
       "      <td>dumb</td>\n",
       "    </tr>\n",
       "    <tr>\n",
       "      <th>diag_270</th>\n",
       "      <td>NaN</td>\n",
       "      <td>NaN</td>\n",
       "      <td>NaN</td>\n",
       "      <td>DumbClassifier()</td>\n",
       "      <td>dumb</td>\n",
       "    </tr>\n",
       "    <tr>\n",
       "      <th>diag_271</th>\n",
       "      <td>NaN</td>\n",
       "      <td>NaN</td>\n",
       "      <td>NaN</td>\n",
       "      <td>DumbClassifier()</td>\n",
       "      <td>dumb</td>\n",
       "    </tr>\n",
       "  </tbody>\n",
       "</table>\n",
       "<p>272 rows × 5 columns</p>\n",
       "</div>"
      ],
      "text/plain": [
       "          precision    recall        f1  \\\n",
       "diag                                      \n",
       "diag_0          NaN       NaN       NaN   \n",
       "diag_1     0.818653  0.681034  0.743529   \n",
       "diag_2     0.740000  0.627119  0.678899   \n",
       "diag_3     0.950000  0.584615  0.723810   \n",
       "diag_4     1.000000  1.000000  1.000000   \n",
       "...             ...       ...       ...   \n",
       "diag_267   0.937500  0.714286  0.810811   \n",
       "diag_268   0.833333  0.500000  0.625000   \n",
       "diag_269        NaN       NaN       NaN   \n",
       "diag_270        NaN       NaN       NaN   \n",
       "diag_271        NaN       NaN       NaN   \n",
       "\n",
       "                                                  clf   type  \n",
       "diag                                                          \n",
       "diag_0                               DumbClassifier()   dumb  \n",
       "diag_1    LogisticRegression(class_weight='balanced')  model  \n",
       "diag_2    LogisticRegression(class_weight='balanced')  model  \n",
       "diag_3    LogisticRegression(class_weight='balanced')  model  \n",
       "diag_4    LogisticRegression(class_weight='balanced')  model  \n",
       "...                                               ...    ...  \n",
       "diag_267  LogisticRegression(class_weight='balanced')  model  \n",
       "diag_268  LogisticRegression(class_weight='balanced')  model  \n",
       "diag_269                             DumbClassifier()   dumb  \n",
       "diag_270                             DumbClassifier()   dumb  \n",
       "diag_271                             DumbClassifier()   dumb  \n",
       "\n",
       "[272 rows x 5 columns]"
      ]
     },
     "execution_count": 94,
     "metadata": {},
     "output_type": "execute_result"
    }
   ],
   "source": [
    "df_metrics"
   ]
  },
  {
   "cell_type": "code",
   "execution_count": 100,
   "metadata": {},
   "outputs": [
    {
     "data": {
      "text/plain": [
       "array([[0.96902442, 0.03097558]])"
      ]
     },
     "execution_count": 100,
     "metadata": {},
     "output_type": "execute_result"
    }
   ],
   "source": [
    "df_metrics.iloc[1]['clf'].predict_proba(np.array([[1,1]]))"
   ]
  },
  {
   "cell_type": "markdown",
   "metadata": {},
   "source": [
    "-----"
   ]
  }
 ],
 "metadata": {
  "kernelspec": {
   "display_name": "Python (mthesis)",
   "language": "python",
   "name": "mthesis"
  },
  "language_info": {
   "codemirror_mode": {
    "name": "ipython",
    "version": 3
   },
   "file_extension": ".py",
   "mimetype": "text/x-python",
   "name": "python",
   "nbconvert_exporter": "python",
   "pygments_lexer": "ipython3",
   "version": "3.9.12"
  }
 },
 "nbformat": 4,
 "nbformat_minor": 4
}
