{
 "cells": [
  {
   "cell_type": "markdown",
   "id": "d2bf5109-3d79-4284-964f-065d916f1a41",
   "metadata": {},
   "source": [
    "# WandB"
   ]
  },
  {
   "cell_type": "code",
   "execution_count": 1,
   "id": "4eff9be6-a9c0-487d-b590-4d0524aff02a",
   "metadata": {},
   "outputs": [],
   "source": [
    "import wandb"
   ]
  },
  {
   "cell_type": "markdown",
   "id": "12543506",
   "metadata": {},
   "source": [
    "# Change directory to parent folder"
   ]
  },
  {
   "cell_type": "code",
   "execution_count": 2,
   "id": "96417374",
   "metadata": {},
   "outputs": [],
   "source": [
    "import os\n",
    "cwd = os.getcwd()\n",
    "\n",
    "# protection against running this cell multiple times\n",
    "assert os.path.dirname(os.path.dirname(cwd)).split('/')[-1] == 'master-thesis','Oops, directory already changed previously as indended. Ignoring...'\n",
    "\n",
    "# change working directory (if assert passed)\n",
    "new_cwd = os.path.dirname(os.path.dirname(cwd)) # parent directory\n",
    "os.chdir(new_cwd)"
   ]
  },
  {
   "cell_type": "markdown",
   "id": "53da94e5",
   "metadata": {},
   "source": [
    "# Imports"
   ]
  },
  {
   "cell_type": "code",
   "execution_count": 3,
   "id": "353a88c3",
   "metadata": {},
   "outputs": [],
   "source": [
    "# show all outputs\n",
    "from IPython.core.interactiveshell import InteractiveShell\n",
    "InteractiveShell.ast_node_interactivity = \"all\""
   ]
  },
  {
   "cell_type": "code",
   "execution_count": 6,
   "id": "0ea40462",
   "metadata": {},
   "outputs": [],
   "source": [
    "import os\n",
    "import json\n",
    "\n",
    "from rnn_utils import DiagnosesDataset, split_dataset, MYCOLLATE\n",
    "from rnn_utils import RNN, train_one_epoch, eval_model, compute_loss, outs2df, compute_metrics\n",
    "\n",
    "from Abstention.utils import plot_reliability,get_prediction_thresholds,ece\n",
    "\n",
    "from config import Settings; settings = Settings()\n",
    "\n",
    "\n",
    "import torch\n",
    "from torch.utils.data import Dataset, DataLoader, random_split\n",
    "\n",
    "from sklearn.model_selection import ParameterGrid, ParameterSampler\n",
    "\n",
    "import numpy as np\n",
    "import pandas as pd\n",
    "import matplotlib.pyplot as plt\n",
    "\n",
    "import wandb"
   ]
  },
  {
   "cell_type": "markdown",
   "id": "34d36e98",
   "metadata": {},
   "source": [
    "# Model reproducibility"
   ]
  },
  {
   "cell_type": "code",
   "execution_count": 7,
   "id": "a4e0e44f",
   "metadata": {},
   "outputs": [
    {
     "data": {
      "text/plain": [
       "<torch._C.Generator at 0x118540590>"
      ]
     },
     "execution_count": 7,
     "metadata": {},
     "output_type": "execute_result"
    }
   ],
   "source": [
    "# Reproducibility\n",
    "seed = settings.random_seed\n",
    "np.random.seed(seed)\n",
    "torch.manual_seed(seed)\n",
    "torch.cuda.manual_seed(seed)\n",
    "\n",
    "torch.backends.cudnn.deterministic = True\n",
    "torch.backends.cudnn.benchmark = False"
   ]
  },
  {
   "cell_type": "markdown",
   "id": "ca416982",
   "metadata": {},
   "source": [
    "# Load dataset"
   ]
  },
  {
   "cell_type": "code",
   "execution_count": 8,
   "id": "4d4f571f",
   "metadata": {},
   "outputs": [
    {
     "name": "stdout",
     "output_type": "stream",
     "text": [
      "dataset at data/model_ready_dataset/diag_only\n"
     ]
    }
   ],
   "source": [
    "dataset_id = 'diag_only'\n",
    "dataset_folder = os.path.join(settings.data_base,settings.model_ready_dataset_folder,dataset_id)\n",
    "print('dataset at',dataset_folder)"
   ]
  },
  {
   "cell_type": "code",
   "execution_count": 9,
   "id": "d27f7873",
   "metadata": {},
   "outputs": [
    {
     "data": {
      "text/plain": [
       "5249"
      ]
     },
     "execution_count": 9,
     "metadata": {},
     "output_type": "execute_result"
    },
    {
     "data": {
      "text/plain": [
       "1125"
      ]
     },
     "execution_count": 9,
     "metadata": {},
     "output_type": "execute_result"
    },
    {
     "data": {
      "text/plain": [
       "1125"
      ]
     },
     "execution_count": 9,
     "metadata": {},
     "output_type": "execute_result"
    }
   ],
   "source": [
    "grouping = 'ccs' # coding-scheme\n",
    "batch_size=64\n",
    "\n",
    "dataset = DiagnosesDataset(os.path.join(dataset_folder,'dataset.json'),grouping)\n",
    "\n",
    "train_dataset = DiagnosesDataset(os.path.join(dataset_folder,'train_subset.json'),grouping)\n",
    "val_dataset = DiagnosesDataset(os.path.join(dataset_folder,'val_subset.json'),grouping)\n",
    "test_dataset = DiagnosesDataset(os.path.join(dataset_folder,'test_subset.json'),grouping)\n",
    "\n",
    "\n",
    "len(train_dataset)\n",
    "len(val_dataset)\n",
    "len(test_dataset)\n",
    "\n",
    "\n",
    "train_dataloader = DataLoader(train_dataset,batch_size=batch_size,collate_fn=MYCOLLATE(dataset),shuffle=True)\n",
    "val_dataloader = DataLoader(val_dataset,batch_size=batch_size,collate_fn=MYCOLLATE(dataset)) #batch_size here is arbitrary and doesn't affect total validation speed\n",
    "test_dataloader = DataLoader(test_dataset,batch_size=batch_size,collate_fn=MYCOLLATE(dataset))"
   ]
  },
  {
   "cell_type": "markdown",
   "id": "add62695",
   "metadata": {},
   "source": [
    "# Train model"
   ]
  },
  {
   "cell_type": "markdown",
   "id": "ab6e8798",
   "metadata": {},
   "source": [
    "Define hyper-parameters"
   ]
  },
  {
   "cell_type": "code",
   "execution_count": 10,
   "id": "16d66251",
   "metadata": {},
   "outputs": [],
   "source": [
    "# remaining hyperparameters of best model\n",
    "input_size = next(iter(train_dataloader))['target_sequences']['sequence'].shape[2]\n",
    "hidden_size = 75\n",
    "num_layers = 1\n",
    "n_labels = input_size\n",
    "rnn_type = 'lstm'\n",
    "model_type ='deterministic'\n",
    "\n",
    "lr = 0.01\n",
    "n_labels = input_size\n",
    "epochs = 15\n",
    "criterion = torch.nn.BCEWithLogitsLoss()"
   ]
  },
  {
   "cell_type": "code",
   "execution_count": 12,
   "id": "5d426a4c-8065-4cf5-b761-089d1ba33daf",
   "metadata": {},
   "outputs": [],
   "source": [
    "config = {'seed':seed,\n",
    "          'input_size':input_size,\n",
    "          'hidden_size':hidden_size,\n",
    "          'num_layers':num_layers,\n",
    "          'n_labels':n_labels,\n",
    "          'rnn_type':rnn_type,\n",
    "          'lr':lr,\n",
    "          'optim':'adam',\n",
    "          'epochs':epochs,\n",
    "          'model_type':model_type\n",
    "         }"
   ]
  },
  {
   "cell_type": "markdown",
   "id": "32ef5687",
   "metadata": {},
   "source": [
    "and now train"
   ]
  },
  {
   "cell_type": "code",
   "execution_count": 14,
   "id": "484055d1",
   "metadata": {},
   "outputs": [
    {
     "name": "stdout",
     "output_type": "stream",
     "text": [
      "epoch 1\t| loss 0.18371832110436567\t|\n",
      "epoch 6\t| loss 0.11432326441428747\t|\n",
      "epoch 11\t| loss 0.10549505853868392\t|\n",
      "epoch 15\t| loss 0.09888887634298887\t|\n"
     ]
    }
   ],
   "source": [
    "model = RNN(input_size=input_size,\n",
    "            hidden_size=hidden_size,\n",
    "            num_layers=num_layers,\n",
    "            n_labels=n_labels,\n",
    "            model=rnn_type,\n",
    "           )\n",
    "    \n",
    "optimizer = torch.optim.Adam(model.parameters(), lr=lr)\n",
    "\n",
    "criterion = torch.nn.BCEWithLogitsLoss(reduction='none')\n",
    "\n",
    "# train\n",
    "for idx,epoch in enumerate(range(1,epochs+1)):\n",
    "    loss = train_one_epoch(model, train_dataloader, epoch, criterion, optimizer);\n",
    "    if idx % 5 == 0 or idx == epochs-1:\n",
    "        print(f\"epoch {epoch}\\t| loss {loss}\\t|\") "
   ]
  },
  {
   "cell_type": "markdown",
   "id": "a44e1be5-93f9-4870-80a2-daf896b4c035",
   "metadata": {},
   "source": [
    "# Generate predictions"
   ]
  },
  {
   "cell_type": "code",
   "execution_count": 15,
   "id": "63a82220-69f3-49e7-8884-b2ae6a2f863e",
   "metadata": {},
   "outputs": [
    {
     "data": {
      "text/plain": [
       "(8591, 272)"
      ]
     },
     "execution_count": 15,
     "metadata": {},
     "output_type": "execute_result"
    },
    {
     "data": {
      "text/plain": [
       "(1943, 272)"
      ]
     },
     "execution_count": 15,
     "metadata": {},
     "output_type": "execute_result"
    }
   ],
   "source": [
    "# Get model outputs for train and validation sets\n",
    "train_logits, train_golden = outs2df(model,train_dataloader,dataset,return_golden=True)\n",
    "val_logits, val_golden = outs2df(model,val_dataloader,dataset,return_golden=True)\n",
    "\n",
    "# Compute prediction threshold. Based on ROC geometric mean from training set\n",
    "thresholds = get_prediction_thresholds(train_logits,train_golden)\n",
    "\n",
    "def predict(predictions: pd.Series, threshold : float):\n",
    "    return predictions.apply(lambda x: 1 if x > threshold else 0)\n",
    "\n",
    "train_predictions = train_logits.apply(lambda x: predict(x,thresholds.loc[x.name,'threshold']),axis=0)\n",
    "val_predictions = val_logits.apply(lambda x: predict(x,thresholds.loc[x.name,'threshold']),axis=0)\n",
    "\n",
    "train_predictions.shape\n",
    "val_predictions.shape"
   ]
  },
  {
   "cell_type": "markdown",
   "id": "b94a5c3f",
   "metadata": {},
   "source": [
    "# Generate train vs. validation metrics"
   ]
  },
  {
   "cell_type": "code",
   "execution_count": 16,
   "id": "06324f6c",
   "metadata": {},
   "outputs": [
    {
     "data": {
      "text/html": [
       "<div>\n",
       "<style scoped>\n",
       "    .dataframe tbody tr th:only-of-type {\n",
       "        vertical-align: middle;\n",
       "    }\n",
       "\n",
       "    .dataframe tbody tr th {\n",
       "        vertical-align: top;\n",
       "    }\n",
       "\n",
       "    .dataframe thead th {\n",
       "        text-align: right;\n",
       "    }\n",
       "</style>\n",
       "<table border=\"1\" class=\"dataframe\">\n",
       "  <thead>\n",
       "    <tr style=\"text-align: right;\">\n",
       "      <th></th>\n",
       "      <th>train set</th>\n",
       "      <th>validation set</th>\n",
       "    </tr>\n",
       "    <tr>\n",
       "      <th>metrics</th>\n",
       "      <th></th>\n",
       "      <th></th>\n",
       "    </tr>\n",
       "  </thead>\n",
       "  <tbody>\n",
       "    <tr>\n",
       "      <th>roc_adm</th>\n",
       "      <td>0.943836</td>\n",
       "      <td>0.919903</td>\n",
       "    </tr>\n",
       "    <tr>\n",
       "      <th>accuracy_adm</th>\n",
       "      <td>0.827438</td>\n",
       "      <td>0.764958</td>\n",
       "    </tr>\n",
       "    <tr>\n",
       "      <th>recall_adm</th>\n",
       "      <td>0.743267</td>\n",
       "      <td>0.671595</td>\n",
       "    </tr>\n",
       "    <tr>\n",
       "      <th>precision_adm</th>\n",
       "      <td>0.215437</td>\n",
       "      <td>0.145489</td>\n",
       "    </tr>\n",
       "  </tbody>\n",
       "</table>\n",
       "</div>"
      ],
      "text/plain": [
       "               train set  validation set\n",
       "metrics                                 \n",
       "roc_adm         0.943836        0.919903\n",
       "accuracy_adm    0.827438        0.764958\n",
       "recall_adm      0.743267        0.671595\n",
       "precision_adm   0.215437        0.145489"
      ]
     },
     "execution_count": 16,
     "metadata": {},
     "output_type": "execute_result"
    }
   ],
   "source": [
    "metrics=['roc','recall','precision','accuracy']\n",
    "\n",
    "train_metrics = eval_model(model,train_dataloader,dataset,metrics,name='train set')[1].filter(regex='_adm')\n",
    "val_metrics = eval_model(model,val_dataloader,dataset,metrics,name='validation set')[1].filter(regex='_adm')\n",
    "\n",
    "results = pd.concat([train_metrics,val_metrics],axis=1)\n",
    "results"
   ]
  },
  {
   "cell_type": "markdown",
   "id": "18e6ff0d",
   "metadata": {},
   "source": [
    "# Generate ECE"
   ]
  },
  {
   "cell_type": "code",
   "execution_count": 29,
   "id": "cdac1b7c-46d6-47d5-92b8-19ab4e4f0f9e",
   "metadata": {},
   "outputs": [],
   "source": [
    "def ECE(logits : pd.DataFrame, preds : pd.DataFrame, golden : pd.DataFrame,nbins=10):\n",
    "    \n",
    "    \"\"\"\n",
    "    Computes Expected Calibration Error (ECE) of a model on a set of data with known labels.\n",
    "    \n",
    "    Parameters\n",
    "    ----------\n",
    "    \n",
    "    logits : pd.DataFrame, index = (pat_id,adm_index), columns = (diag_0,...diag_X)\n",
    "        DataFrame with probability output of the model for each label on each patient's admission\n",
    "    \n",
    "    preds : pd.DataFrame, index = (pat_id,adm_index), columns = (diag_0,...diag_X)\n",
    "        DataFrame with the prediction of the model for each label on each patient's admission\n",
    "    \n",
    "    golden : pd.DataFrame, index = (pat_id,adm_index), columns = (diag_0,...diag_X)\n",
    "        DataFrame of golden labels on each patient's admission\n",
    "        \n",
    "        \n",
    "    Returns\n",
    "    -------\n",
    "    \n",
    "    ece : np.array, size=(0,N) with N equal to the nº of columns in logits/preds/golden dataframes.\n",
    "    \"\"\"\n",
    "    \n",
    "    # confidence of predicted class\n",
    "    confidences = logits.where(preds==1,1-logits)\n",
    "\n",
    "    accuracies = preds == golden.to_numpy()\n",
    "    ece = np.zeros(shape=(accuracies.shape[1],))\n",
    "\n",
    "    bins = np.linspace(0,1,nbins+1)\n",
    "\n",
    "    control = np.zeros(shape=(accuracies.shape[1]))\n",
    "\n",
    "    for left,right in zip(bins[:-1],bins[1:]):\n",
    "        in_bin = ((confidences > left) & (confidences < right)).values\n",
    "\n",
    "        avg_acc_in_bin = accuracies[in_bin].mean(axis=0).to_numpy()\n",
    "        avg_confidence_in_bin = confidences[in_bin].mean(axis=0).to_numpy()\n",
    "\n",
    "        weight = in_bin.sum(axis=0) / preds.shape[0]\n",
    "\n",
    "        ece += weight * np.abs(avg_acc_in_bin - avg_confidence_in_bin)\n",
    "    return ece"
   ]
  },
  {
   "cell_type": "code",
   "execution_count": null,
   "id": "7ba1378b-cce1-487a-b166-13373984372a",
   "metadata": {},
   "outputs": [],
   "source": [
    "ece_train"
   ]
  },
  {
   "cell_type": "code",
   "execution_count": 27,
   "id": "557a6f08-5fd4-490a-b49b-b5e1281e39ba",
   "metadata": {},
   "outputs": [],
   "source": [
    "ece_train = ECE(train_logits,train_predictions,train_golden)\n",
    "ece_validation = ECE(val_logits,val_predictions,val_golden)"
   ]
  },
  {
   "cell_type": "code",
   "execution_count": 30,
   "id": "23869ed1-1513-4b49-ac1d-bb02aef8cb63",
   "metadata": {},
   "outputs": [
    {
     "data": {
      "text/plain": [
       "mean    0.004335\n",
       "std     0.005303\n",
       "dtype: float64"
      ]
     },
     "execution_count": 30,
     "metadata": {},
     "output_type": "execute_result"
    },
    {
     "data": {
      "text/plain": [
       "mean    0.006303\n",
       "std     0.009733\n",
       "dtype: float64"
      ]
     },
     "execution_count": 30,
     "metadata": {},
     "output_type": "execute_result"
    }
   ],
   "source": [
    "pd.Series(ece_train).describe()[['mean','std']]\n",
    "pd.Series(ece_validation).describe()[['mean','std']]"
   ]
  },
  {
   "cell_type": "markdown",
   "id": "ccff0e29-c29d-4c28-b936-3e07df93125a",
   "metadata": {},
   "source": [
    "ECE seems way too good (low). Let's test abstention through simply thresholds on confidence"
   ]
  },
  {
   "cell_type": "markdown",
   "id": "733f9d38",
   "metadata": {},
   "source": [
    "# Baseline abstention"
   ]
  },
  {
   "cell_type": "code",
   "execution_count": 31,
   "id": "8060a92f-8f08-4802-ba68-5567d1fe99da",
   "metadata": {},
   "outputs": [],
   "source": [
    "def abstention_profile_wandb(logits, preds, golden, set_name, threshold_method, metrics, wandb_config):\n",
    "    \"\"\"\n",
    "    \n",
    "    Saves abstention run on wandb project \"thesis_baseline_abstention\".\n",
    "    \n",
    "    Parameters\n",
    "    ----------\n",
    "    logits : pd.DataFrame, index = (pat_id, adm_index), columns = (diag_0,...diag_X)\n",
    "    \n",
    "    preds : pd.DataFrame, index = (pat_id, adm_index), columns = (diag_0,...diag_X)\n",
    "    \n",
    "    golden : pd.DataFrame, index = (pat_id, adm_index), columns = (diag_0,...diag_X)\n",
    "    \n",
    "    set_name : str\n",
    "        Name of the dataset. usually it's \"train\" or \"validation\"\n",
    "        \n",
    "    threshold_method : str\n",
    "        Method used to obtain thresholds to perform predictions\n",
    "    \n",
    "    metrics : List<str> \n",
    "        metrics to log. Must be a subset of ['recall', 'precision', 'f1', 'accuracy', 'roc']\n",
    "    \"\"\"\n",
    "    \n",
    "    AWAITING_VALUE = 'awaiting value'\n",
    "    wandb.init(project=\"thesis_baseline_abstention\", entity=\"snovaisg\",config=wandb_config)\n",
    "    \n",
    "    roc = -1\n",
    "    if 'roc' in metrics:\n",
    "        roc = AWAITING_VALUE\n",
    "\n",
    "    # algorithm\n",
    "    all_res = list()\n",
    "    \n",
    "    # abstention thresholds\n",
    "    abst_thresholds = np.linspace(0,1,11)[:-1]\n",
    "    for idx,th in enumerate(abst_thresholds):\n",
    "        \n",
    "        if roc != -1 and roc != AWAITING_VALUE and 'roc' in metrics: # add roc. optimized to not have to compute it everytime\n",
    "            metrics.remove('roc')\n",
    "\n",
    "        mask_below_threshold = logits < th\n",
    "\n",
    "        preds_after_abstention = preds.mask(mask_below_threshold,0)\n",
    "\n",
    "        #count diagnostics abstained in total\n",
    "        total_abstained = (preds - preds_after_abstention).sum(axis=0).sum()\n",
    "\n",
    "        # count admissions with no prediction now\n",
    "        total_adms_no_prediction = (preds_after_abstention.sum(axis='columns') == 0).sum()\n",
    "\n",
    "        # statistics of mean and std diagnostics predicted on each admission\n",
    "        adm_stats = preds_after_abstention.sum(axis='columns').describe()[['mean','std']]\n",
    "        adm_stats.index = [e + \" diagnostics predicted\" for e in adm_stats.index]\n",
    "\n",
    "\n",
    "        res = compute_metrics(logits,preds_after_abstention,golden,metrics = metrics).filter(regex='_adm')\n",
    "        res.loc['#P->N'] = total_abstained\n",
    "        res.loc['adms w/ prediction'] = total_adms_no_prediction\n",
    "        res.loc['threshold'] = round(th,2)\n",
    "        \n",
    "        if roc != -1 and roc != AWAITING_VALUE: # add roc. optimized to not have to compute it everytime\n",
    "            res.loc['roc_adm'] = roc\n",
    "        \n",
    "        if roc == AWAITING_VALUE: # add roc. optimized to not have to compute it everytime\n",
    "            roc = res.loc['roc_adm']\n",
    "            \n",
    "        res = res.append(adm_stats)\n",
    "\n",
    "        res.name = None\n",
    "        all_res.append(res)\n",
    "        \n",
    "        # wandb\n",
    "        \n",
    "        log = res.to_dict()\n",
    "        log['set'] = set_name\n",
    "        wandb.log(log)\n",
    "\n",
    "        print(f'{idx+1}/{len(abst_thresholds)} Done')\n",
    "    wandb.finish(quiet=True)\n",
    "    return all_res\n"
   ]
  },
  {
   "cell_type": "code",
   "execution_count": null,
   "id": "3949b46b-af26-47e5-b5c1-9af05f3166e3",
   "metadata": {},
   "outputs": [],
   "source": [
    "metrics = ['recall','precision','f1','accuracy','roc']\n",
    "threshold_method = 'roc gm (train)'\n",
    "profile_validation = abstention_profile_wandb(val_logits, val_predictions, val_golden, 'validation', threshold_method, metrics,config)\n",
    "profile_train = abstention_profile_wandb(train_logits, train_predictions, train_golden, 'train', threshold_method, metrics,config)"
   ]
  },
  {
   "cell_type": "code",
   "execution_count": 21,
   "id": "072c0220-cca9-4d5b-ba0a-ab7e40889701",
   "metadata": {},
   "outputs": [
    {
     "data": {
      "text/plain": [
       "{'roc_adm': 0.9512533707162892,\n",
       " 'accuracy_adm': 0.8451551412644266,\n",
       " 'recall_adm': 0.7723060935831192,\n",
       " 'precision_adm': 0.24031384228240754,\n",
       " 'f1_adm': 0.3570273494494896,\n",
       " '#P->N': 0.0,\n",
       " 'adms w/ prediction': 0.0,\n",
       " 'threshold': 0.0,\n",
       " 'mean diagnostics predicted': 43.758817367011986,\n",
       " 'std diagnostics predicted': 22.38208338222873}"
      ]
     },
     "execution_count": 21,
     "metadata": {},
     "output_type": "execute_result"
    }
   ],
   "source": [
    "res.to_dict()\n",
    "log = res.to_dict()\n"
   ]
  },
  {
   "cell_type": "code",
   "execution_count": 66,
   "id": "02d0ae89-2557-416b-84cd-5556a1f5f001",
   "metadata": {
    "tags": []
   },
   "outputs": [
    {
     "name": "stdout",
     "output_type": "stream",
     "text": [
      "done\n",
      "done\n",
      "done\n",
      "done\n",
      "done\n",
      "done\n",
      "done\n",
      "done\n",
      "done\n",
      "done\n"
     ]
    }
   ],
   "source": [
    "# metrics\n",
    "#metrics = ['recall','precision','f1','accuracy']\n",
    "metrics = ['precision','recall','f1','roc','accuracy']\n",
    "\n",
    "# abstention thresholds\n",
    "abst_thresholds = np.linspace(0,1,11)[:-1]\n",
    "\n",
    "#inputs\n",
    "logits = train_logits.copy()\n",
    "preds = train_predictions.copy()\n",
    "golden = train_golden.copy()\n",
    "\n",
    "# algorithm\n",
    "all_res = list()\n",
    "\n",
    "for idx,th in enumerate(abst_thresholds):\n",
    "    \n",
    "    mask_below_threshold = logits < th\n",
    "    \n",
    "    preds_after_abstention = preds.mask(mask_below_threshold,0)\n",
    "    \n",
    "    #count diagnostics abstained in total\n",
    "    total_abstained = (preds - preds_after_abstention).sum(axis=0).sum()\n",
    "    \n",
    "    # admissions with no prediction now\n",
    "    total_adms_no_prediction = (preds_after_abstention.sum(axis='columns') == 0).sum()\n",
    "    \n",
    "    # statistics of mean and std diagnostics predicted on each admission\n",
    "    adm_stats = preds_after_abstention.sum(axis='columns').describe()[['mean','std']]\n",
    "    adm_stats.index = [e + \" diagnostics predicted\" for e in adm_stats.index]\n",
    "    \n",
    "    \n",
    "    res = compute_metricsV3(logits,preds_after_abstention,golden,metrics = metrics).filter(regex='_adm')\n",
    "    res.loc['#P->N'] = total_abstained\n",
    "    res.loc['adms w/ prediction'] = total_adms_no_prediction\n",
    "    res.loc['threshold'] = round(th,2)\n",
    "    res = res.append(adm_stats)\n",
    "    \n",
    "    res.name = None\n",
    "    all_res.append(res)\n",
    "    \n",
    "    print('done')\n",
    "    "
   ]
  },
  {
   "cell_type": "code",
   "execution_count": 74,
   "id": "0e164c8c-1aa3-4bb5-913e-1df931c192e7",
   "metadata": {},
   "outputs": [
    {
     "data": {
      "text/html": [
       "<div>\n",
       "<style scoped>\n",
       "    .dataframe tbody tr th:only-of-type {\n",
       "        vertical-align: middle;\n",
       "    }\n",
       "\n",
       "    .dataframe tbody tr th {\n",
       "        vertical-align: top;\n",
       "    }\n",
       "\n",
       "    .dataframe thead th {\n",
       "        text-align: right;\n",
       "    }\n",
       "</style>\n",
       "<table border=\"1\" class=\"dataframe\">\n",
       "  <thead>\n",
       "    <tr style=\"text-align: right;\">\n",
       "      <th></th>\n",
       "      <th>accuracy_adm</th>\n",
       "      <th>recall_adm</th>\n",
       "      <th>precision_adm</th>\n",
       "      <th>f1_adm</th>\n",
       "      <th>#P-&gt;N</th>\n",
       "      <th>adms w/ prediction</th>\n",
       "      <th>mean diagnostics predicted</th>\n",
       "      <th>std diagnostics predicted</th>\n",
       "    </tr>\n",
       "    <tr>\n",
       "      <th>threshold</th>\n",
       "      <th></th>\n",
       "      <th></th>\n",
       "      <th></th>\n",
       "      <th></th>\n",
       "      <th></th>\n",
       "      <th></th>\n",
       "      <th></th>\n",
       "      <th></th>\n",
       "    </tr>\n",
       "  </thead>\n",
       "  <tbody>\n",
       "    <tr>\n",
       "      <th>0.0</th>\n",
       "      <td>0.845155</td>\n",
       "      <td>0.772306</td>\n",
       "      <td>0.240314</td>\n",
       "      <td>0.357027</td>\n",
       "      <td>0.0</td>\n",
       "      <td>0.0</td>\n",
       "      <td>43.758817</td>\n",
       "      <td>22.382083</td>\n",
       "    </tr>\n",
       "    <tr>\n",
       "      <th>0.1</th>\n",
       "      <td>0.934304</td>\n",
       "      <td>0.700844</td>\n",
       "      <td>0.442253</td>\n",
       "      <td>0.527127</td>\n",
       "      <td>200393.0</td>\n",
       "      <td>1.0</td>\n",
       "      <td>20.432895</td>\n",
       "      <td>10.676375</td>\n",
       "    </tr>\n",
       "    <tr>\n",
       "      <th>0.2</th>\n",
       "      <td>0.952708</td>\n",
       "      <td>0.607482</td>\n",
       "      <td>0.562337</td>\n",
       "      <td>0.566418</td>\n",
       "      <td>258215.0</td>\n",
       "      <td>4.0</td>\n",
       "      <td>13.702363</td>\n",
       "      <td>7.411927</td>\n",
       "    </tr>\n",
       "    <tr>\n",
       "      <th>0.3</th>\n",
       "      <td>0.958686</td>\n",
       "      <td>0.515573</td>\n",
       "      <td>0.648790</td>\n",
       "      <td>0.555525</td>\n",
       "      <td>290393.0</td>\n",
       "      <td>29.0</td>\n",
       "      <td>9.956815</td>\n",
       "      <td>5.555928</td>\n",
       "    </tr>\n",
       "    <tr>\n",
       "      <th>0.4</th>\n",
       "      <td>0.960218</td>\n",
       "      <td>0.426455</td>\n",
       "      <td>0.723674</td>\n",
       "      <td>0.516115</td>\n",
       "      <td>313218.0</td>\n",
       "      <td>83.0</td>\n",
       "      <td>7.299965</td>\n",
       "      <td>4.365144</td>\n",
       "    </tr>\n",
       "    <tr>\n",
       "      <th>0.5</th>\n",
       "      <td>0.959620</td>\n",
       "      <td>0.348007</td>\n",
       "      <td>0.779128</td>\n",
       "      <td>0.460780</td>\n",
       "      <td>329124.0</td>\n",
       "      <td>176.0</td>\n",
       "      <td>5.448493</td>\n",
       "      <td>3.429125</td>\n",
       "    </tr>\n",
       "    <tr>\n",
       "      <th>0.6</th>\n",
       "      <td>0.957858</td>\n",
       "      <td>0.276699</td>\n",
       "      <td>0.816490</td>\n",
       "      <td>0.394137</td>\n",
       "      <td>341146.0</td>\n",
       "      <td>359.0</td>\n",
       "      <td>4.049121</td>\n",
       "      <td>2.727032</td>\n",
       "    </tr>\n",
       "    <tr>\n",
       "      <th>0.7</th>\n",
       "      <td>0.955376</td>\n",
       "      <td>0.207699</td>\n",
       "      <td>0.825309</td>\n",
       "      <td>0.315934</td>\n",
       "      <td>351124.0</td>\n",
       "      <td>754.0</td>\n",
       "      <td>2.887673</td>\n",
       "      <td>2.130618</td>\n",
       "    </tr>\n",
       "    <tr>\n",
       "      <th>0.8</th>\n",
       "      <td>0.952479</td>\n",
       "      <td>0.138354</td>\n",
       "      <td>0.770661</td>\n",
       "      <td>0.223736</td>\n",
       "      <td>360161.0</td>\n",
       "      <td>1709.0</td>\n",
       "      <td>1.835758</td>\n",
       "      <td>1.603374</td>\n",
       "    </tr>\n",
       "    <tr>\n",
       "      <th>0.9</th>\n",
       "      <td>0.949187</td>\n",
       "      <td>0.066988</td>\n",
       "      <td>0.539714</td>\n",
       "      <td>0.114561</td>\n",
       "      <td>368654.0</td>\n",
       "      <td>4156.0</td>\n",
       "      <td>0.847166</td>\n",
       "      <td>1.070850</td>\n",
       "    </tr>\n",
       "  </tbody>\n",
       "</table>\n",
       "</div>"
      ],
      "text/plain": [
       "           accuracy_adm  recall_adm  precision_adm    f1_adm     #P->N  \\\n",
       "threshold                                                                \n",
       "0.0            0.845155    0.772306       0.240314  0.357027       0.0   \n",
       "0.1            0.934304    0.700844       0.442253  0.527127  200393.0   \n",
       "0.2            0.952708    0.607482       0.562337  0.566418  258215.0   \n",
       "0.3            0.958686    0.515573       0.648790  0.555525  290393.0   \n",
       "0.4            0.960218    0.426455       0.723674  0.516115  313218.0   \n",
       "0.5            0.959620    0.348007       0.779128  0.460780  329124.0   \n",
       "0.6            0.957858    0.276699       0.816490  0.394137  341146.0   \n",
       "0.7            0.955376    0.207699       0.825309  0.315934  351124.0   \n",
       "0.8            0.952479    0.138354       0.770661  0.223736  360161.0   \n",
       "0.9            0.949187    0.066988       0.539714  0.114561  368654.0   \n",
       "\n",
       "           adms w/ prediction  mean diagnostics predicted  \\\n",
       "threshold                                                   \n",
       "0.0                       0.0                   43.758817   \n",
       "0.1                       1.0                   20.432895   \n",
       "0.2                       4.0                   13.702363   \n",
       "0.3                      29.0                    9.956815   \n",
       "0.4                      83.0                    7.299965   \n",
       "0.5                     176.0                    5.448493   \n",
       "0.6                     359.0                    4.049121   \n",
       "0.7                     754.0                    2.887673   \n",
       "0.8                    1709.0                    1.835758   \n",
       "0.9                    4156.0                    0.847166   \n",
       "\n",
       "           std diagnostics predicted  \n",
       "threshold                             \n",
       "0.0                        22.382083  \n",
       "0.1                        10.676375  \n",
       "0.2                         7.411927  \n",
       "0.3                         5.555928  \n",
       "0.4                         4.365144  \n",
       "0.5                         3.429125  \n",
       "0.6                         2.727032  \n",
       "0.7                         2.130618  \n",
       "0.8                         1.603374  \n",
       "0.9                         1.070850  "
      ]
     },
     "execution_count": 74,
     "metadata": {},
     "output_type": "execute_result"
    }
   ],
   "source": [
    "df = pd.concat(all_res,axis=1).T.set_index('threshold')\n",
    "df.index = [round(t,2) for t in df.index]\n",
    "df.index.name = 'threshold'\n",
    "df"
   ]
  },
  {
   "cell_type": "code",
   "execution_count": 88,
   "id": "3c9c5d15-2ce1-4ae6-a97f-4e1b7e22fa63",
   "metadata": {},
   "outputs": [
    {
     "data": {
      "image/png": "[encoded data removed]",
      "text/plain": [
       "<Figure size 432x288 with 1 Axes>"
      ]
     },
     "metadata": {
      "needs_background": "light"
     },
     "output_type": "display_data"
    },
    {
     "data": {
      "image/png": "[encoded data removed]",
      "text/plain": [
       "<Figure size 432x288 with 1 Axes>"
      ]
     },
     "metadata": {
      "needs_background": "light"
     },
     "output_type": "display_data"
    }
   ],
   "source": [
    "df[['recall_adm','precision_adm','f1_adm']].plot.line(title='recall and precision vs confidence threshold', marker='.')\n",
    "plt.show()\n",
    "df['mean diagnostics predicted'].plot.bar(title='Mean # diagnostics predicted per admission');"
   ]
  },
  {
   "cell_type": "markdown",
   "id": "db55d002-5340-47a2-a2c5-2a41e993b2cb",
   "metadata": {},
   "source": [
    "----"
   ]
  },
  {
   "cell_type": "markdown",
   "id": "a8f15c63-382a-45c4-8476-3afea95b6b99",
   "metadata": {},
   "source": [
    "For a single"
   ]
  },
  {
   "cell_type": "code",
   "execution_count": 45,
   "id": "16a9c5a4",
   "metadata": {},
   "outputs": [
    {
     "data": {
      "text/plain": [
       "Index(['diag_0', 'diag_1', 'diag_2', 'diag_3', 'diag_4', 'diag_5', 'diag_6',\n",
       "       'diag_7', 'diag_8', 'diag_9',\n",
       "       ...\n",
       "       'diag_262', 'diag_263', 'diag_264', 'diag_265', 'diag_266', 'diag_267',\n",
       "       'diag_268', 'diag_269', 'diag_270', 'diag_271'],\n",
       "      dtype='object', length=269)"
      ]
     },
     "execution_count": 45,
     "metadata": {},
     "output_type": "execute_result"
    }
   ],
   "source": [
    "# abstention thresholds\n",
    "abst_thresholds = np.linspace(0,1,11)[3:-1]\n",
    "\n",
    "# Get a prediction for an admission\n",
    "for th in abst_thresholds:\n",
    "    # single admission to test this out\n",
    "    adm_preds = train_predictions.iloc[0,:]\n",
    "    adm_logits = train_logits.iloc[0,:]\n",
    "    \n",
    "    # get its predictions\n",
    "    positive_preds = adm_preds[adm_preds == 1].index\n",
    "    \n",
    "    # get the preds below threshold\n",
    "    below_threshold = adm_logits[(adm_logits < th)].index\n",
    "    \n",
    "    # predictions after abstention\n",
    "    preds_after_abst = [p for p in positive_preds if p now in below_threshold]\n",
    "    \n",
    "    # count the abstained diagnostics\n",
    "    abst_count = len(positive_preds) - len(preds_after_abst)\n",
    "\n",
    "    # recompute metrics"
   ]
  },
  {
   "cell_type": "markdown",
   "id": "4da4b869-e943-4d8f-9206-115644665e55",
   "metadata": {},
   "source": [
    "# Other"
   ]
  },
  {
   "cell_type": "code",
   "execution_count": 17,
   "id": "17a55173-c927-43ee-bb6d-515f257b9f0f",
   "metadata": {},
   "outputs": [],
   "source": [
    "from sklearn.metrics import roc_curve, roc_auc_score,average_precision_score,recall_score,precision_score,f1_score,accuracy_score"
   ]
  },
  {
   "cell_type": "code",
   "execution_count": null,
   "id": "1d6e8277-06c2-4bf9-8cec-dc7771e838a8",
   "metadata": {},
   "outputs": [],
   "source": []
  }
 ],
 "metadata": {
  "kernelspec": {
   "display_name": "Python (mthesis)",
   "language": "python",
   "name": "mthesis"
  },
  "language_info": {
   "codemirror_mode": {
    "name": "ipython",
    "version": 3
   },
   "file_extension": ".py",
   "mimetype": "text/x-python",
   "name": "python",
   "nbconvert_exporter": "python",
   "pygments_lexer": "ipython3",
   "version": "3.9.12"
  }
 },
 "nbformat": 4,
 "nbformat_minor": 5
}
