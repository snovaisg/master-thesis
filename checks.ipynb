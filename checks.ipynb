{
 "cells": [
  {
   "cell_type": "markdown",
   "id": "9e8296d1-bbbf-40d4-8057-189462ac3fcf",
   "metadata": {},
   "source": [
    "This notebook checks if all folders and filepaths specified under `.env` exist. Should be run once in a while\n",
    "\n",
    "<div class=\"alert alert-block alert-info\">\n",
    "Assumes that the attribute that stores the base folder (where data-generated files are meant to be stored) is called: \"data_base\"\n",
    "</div>"
   ]
  },
  {
   "cell_type": "markdown",
   "id": "6f54a1e6-4201-4826-9dec-1eb776290076",
   "metadata": {},
   "source": [
    "# Imports"
   ]
  },
  {
   "cell_type": "code",
   "execution_count": 1,
   "id": "d3d09ae0-d463-4505-9908-c1f90d5dda76",
   "metadata": {},
   "outputs": [],
   "source": [
    "import os\n",
    "from config import Settings; settings = Settings()"
   ]
  },
  {
   "cell_type": "markdown",
   "id": "749cb3ce-dc01-45fe-9f09-1db36bcdda73",
   "metadata": {},
   "source": [
    "# What we're gonna work with\n",
    "\n",
    "(check that those files and paths exist, and if not create them)"
   ]
  },
  {
   "cell_type": "code",
   "execution_count": 2,
   "id": "9dce2370-bed1-4fde-8862-16742d2da2ad",
   "metadata": {},
   "outputs": [
    {
     "data": {
      "text/plain": [
       "{'mimic_path': '../physionet.org/files/mimiciii/1.4/',\n",
       " 'ccs_path': 'grouper_data/CCS-SingleDiagnosisGrouper.txt',\n",
       " 'icd9_chapter_path': 'grouper_data/icd9-CM-code-chapter-en=PT.csv',\n",
       " 'random_seed': 546,\n",
       " 'data_base': 'data/',\n",
       " 'model_ready_dataset_folder': 'model_ready_dataset/',\n",
       " 'eligible_patients_folder': 'eligible_patients/',\n",
       " 'models_folder': 'models/',\n",
       " 'variational_data_folder': 'variational/'}"
      ]
     },
     "execution_count": 2,
     "metadata": {},
     "output_type": "execute_result"
    }
   ],
   "source": [
    "settings.__dict__"
   ]
  },
  {
   "cell_type": "markdown",
   "id": "c1ae31f0-4ab6-4382-a8d6-b3e34e8124bd",
   "metadata": {},
   "source": [
    "# Start"
   ]
  },
  {
   "cell_type": "code",
   "execution_count": 3,
   "id": "5f2aae25-7cd8-429d-9614-e2ee96fd67e7",
   "metadata": {},
   "outputs": [
    {
     "name": "stdout",
     "output_type": "stream",
     "text": [
      "Folder <data/variational/> doesn't exist. Creating one now...\n",
      "Done.\n",
      "\n",
      "\n",
      "Errors found: 0\n"
     ]
    }
   ],
   "source": [
    "# `data_base` is where data-generated folders and files will be stored so we check for that first\n",
    "base_folder = 'data_base'\n",
    "\n",
    "# check if base data folder attribute exists in settings\n",
    "if base_folder not in settings.__dict__:\n",
    "    raise ValueError(f'.env should have the attribute {base_folder}')\n",
    "    \n",
    "# check if folder exists, else creates it\n",
    "\n",
    "if not os.path.isdir(settings.__dict__[base_folder]):\n",
    "    print(f'Base directory <{settings.dict__[base_folder]}> (to store generated data) doesn\\'t exist. Creating one now...')\n",
    "    os.mkdir(settings.__dict__[base_folder])\n",
    "    print('Done.\\n')\n",
    "\n",
    "# Now we can check all other files and paths\n",
    "    \n",
    "for n in settings.__dict__:\n",
    "    error_msgs = []\n",
    "    if \"path\" in n:\n",
    "        if not os.path.isfile(settings.__dict__[n]):\n",
    "            msg = f'Error: File {settings.__dict__[n]} from {n} in .env doesn\\'t exist.'\n",
    "            error_msgs.append(msg)\n",
    "\n",
    "    # checks folders inside base folder\n",
    "    elif n.endswith('folder'):\n",
    "        folder_path = os.path.join(settings.__dict__[base_folder], settings.__dict__[n])\n",
    "        if not os.path.isdir(folder_path):\n",
    "            print(f'Folder <{folder_path}> doesn\\'t exist. Creating one now...')\n",
    "            os.mkdir(folder_path)\n",
    "            print('Done.\\n')\n",
    "\n",
    "print(f'\\nErrors found: {len(error_msgs)}')\n",
    "for msg in error_msgs:\n",
    "    print(msg)"
   ]
  }
 ],
 "metadata": {
  "kernelspec": {
   "display_name": "Python (thesis)",
   "language": "python",
   "name": "thesis"
  },
  "language_info": {
   "codemirror_mode": {
    "name": "ipython",
    "version": 3
   },
   "file_extension": ".py",
   "mimetype": "text/x-python",
   "name": "python",
   "nbconvert_exporter": "python",
   "pygments_lexer": "ipython3",
   "version": "3.9.7"
  }
 },
 "nbformat": 4,
 "nbformat_minor": 5
}
