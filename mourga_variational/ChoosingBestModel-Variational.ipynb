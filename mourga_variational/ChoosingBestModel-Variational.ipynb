{
 "cells": [
  {
   "cell_type": "code",
   "execution_count": null,
   "metadata": {},
   "outputs": [],
   "source": [
    "import sys\n",
    "import os\n",
    "this_dir = \"..\"\n",
    "if this_dir not in sys.path:\n",
    "    sys.path.append(this_dir)\n",
    "\n",
    "from rnn_utils import DiagnosesDataset, split_dataset, MYCOLLATE\n",
    "from rnn_utils import train_one_epoch, eval_model\n",
    "\n",
    "from mourga_variational.variational_rnn import VariationalRNN\n",
    "\n",
    "\n",
    "import torch\n",
    "from torch.utils.data import Dataset, DataLoader, random_split\n",
    "\n",
    "from sklearn.model_selection import ParameterGrid, ParameterSampler\n",
    "\n",
    "import numpy as np\n",
    "\n",
    "import wandb"
   ]
  },
  {
   "cell_type": "markdown",
   "metadata": {},
   "source": [
    "# Reproducibility"
   ]
  },
  {
   "cell_type": "code",
   "execution_count": 7,
   "metadata": {},
   "outputs": [
    {
     "data": {
      "text/plain": [
       "<torch._C.Generator at 0x12ad356f0>"
      ]
     },
     "execution_count": 7,
     "metadata": {},
     "output_type": "execute_result"
    }
   ],
   "source": [
    "# Reproducibility\n",
    "np.random.seed(546)\n",
    "torch.manual_seed(546)\n",
    "torch.cuda.manual_seed(546)"
   ]
  },
  {
   "cell_type": "markdown",
   "metadata": {},
   "source": [
    "# Create dataset"
   ]
  },
  {
   "cell_type": "code",
   "execution_count": 8,
   "metadata": {},
   "outputs": [],
   "source": [
    "grouping = 'ccs'\n",
    "batch_size=64"
   ]
  },
  {
   "cell_type": "code",
   "execution_count": 51,
   "metadata": {},
   "outputs": [
    {
     "data": {
      "text/plain": [
       "6375"
      ]
     },
     "execution_count": 51,
     "metadata": {},
     "output_type": "execute_result"
    },
    {
     "data": {
      "text/plain": [
       "5250"
      ]
     },
     "execution_count": 51,
     "metadata": {},
     "output_type": "execute_result"
    },
    {
     "data": {
      "text/plain": [
       "1125"
      ]
     },
     "execution_count": 51,
     "metadata": {},
     "output_type": "execute_result"
    },
    {
     "data": {
      "text/plain": [
       "1124"
      ]
     },
     "execution_count": 51,
     "metadata": {},
     "output_type": "execute_result"
    }
   ],
   "source": [
    "dataset = DiagnosesDataset('data/model_data.json',grouping)\n",
    "test_size = 0.15\n",
    "eval_size=0.15\n",
    "eval_size_corrected = eval_size/(1-test_size)\n",
    "\n",
    "whole_train_dataset,test_dataset = split_dataset(dataset,test_size)\n",
    "train_dataset, val_dataset = split_dataset(whole_train_dataset,eval_size_corrected)\n",
    "\n",
    "len(whole_train_dataset)\n",
    "len(train_dataset)\n",
    "len(val_dataset)\n",
    "len(test_dataset)\n",
    "\n",
    "whole_train_dataset = DataLoader(whole_train_dataset,batch_size=batch_size,collate_fn=MYCOLLATE(dataset),shuffle=True)\n",
    "train_dataloader = DataLoader(train_dataset,batch_size=batch_size,collate_fn=MYCOLLATE(dataset))#,shuffle=True)\n",
    "val_dataloader = DataLoader(val_dataset,batch_size=batch_size,collate_fn=MYCOLLATE(dataset)) #batch_size here is arbitrary and doesn't affect total validation speed\n",
    "test_dataloader = DataLoader(test_dataset,batch_size=batch_size,collate_fn=MYCOLLATE(dataset))"
   ]
  },
  {
   "cell_type": "code",
   "execution_count": 52,
   "metadata": {},
   "outputs": [],
   "source": [
    "train_dataloader = DataLoader(train_dataset,batch_size=batch_size,collate_fn=MYCOLLATE(dataset))#,shuffle=True)\n",
    "val_dataloader = DataLoader(val_dataset,batch_size=batch_size,collate_fn=MYCOLLATE(dataset)) #batch_size here is arbitrary and doesn't affect total validation speed\n",
    "test_dataloader = DataLoader(test_dataset,batch_size=batch_size,collate_fn=MYCOLLATE(dataset))"
   ]
  },
  {
   "cell_type": "code",
   "execution_count": 53,
   "metadata": {},
   "outputs": [
    {
     "data": {
      "text/plain": [
       "[257,\n",
       " 98,\n",
       " 131,\n",
       " 259,\n",
       " 101,\n",
       " 59,\n",
       " 106,\n",
       " 109,\n",
       " 238,\n",
       " 47,\n",
       " 110,\n",
       " 49,\n",
       " 83,\n",
       " 52,\n",
       " 53,\n",
       " 115,\n",
       " 155,\n",
       " 95]"
      ]
     },
     "execution_count": 53,
     "metadata": {},
     "output_type": "execute_result"
    },
    {
     "data": {
      "text/plain": [
       "[2, 130, 3, 98, 2616, 237, 657, 149, 152, 122]"
      ]
     },
     "execution_count": 53,
     "metadata": {},
     "output_type": "execute_result"
    }
   ],
   "source": [
    "next(iter(train_dataloader))['train_sequences']['original'][0][0]\n",
    "next(iter(val_dataloader))['train_sequences']['original'][0][0]"
   ]
  },
  {
   "cell_type": "markdown",
   "metadata": {},
   "source": [
    "# Define model"
   ]
  },
  {
   "cell_type": "markdown",
   "metadata": {},
   "source": [
    "## Hyperparameters"
   ]
  },
  {
   "cell_type": "code",
   "execution_count": 16,
   "metadata": {},
   "outputs": [],
   "source": [
    "input_size = next(iter(train_dataloader))['target_sequences']['sequence'].shape[2]\n",
    "hidden_size = 100\n",
    "num_layers = 1\n",
    "n_labels = input_size\n",
    "model_type = 'gru'"
   ]
  },
  {
   "cell_type": "markdown",
   "metadata": {},
   "source": [
    "## Init model"
   ]
  },
  {
   "cell_type": "code",
   "execution_count": 6,
   "metadata": {},
   "outputs": [],
   "source": [
    "model = RNN(input_size=input_size,\n",
    "              hidden_size=hidden_size,\n",
    "              num_layers=num_layers,\n",
    "              n_labels=n_labels,\n",
    "              model=model_type)"
   ]
  },
  {
   "cell_type": "markdown",
   "metadata": {},
   "source": [
    "# Define Training"
   ]
  },
  {
   "cell_type": "code",
   "execution_count": 7,
   "metadata": {},
   "outputs": [],
   "source": [
    "opt = torch.optim.Adam(model.parameters(), lr=0.02)\n",
    "criterion = torch.nn.BCEWithLogitsLoss()\n",
    "epochs = 10"
   ]
  },
  {
   "cell_type": "markdown",
   "metadata": {},
   "source": [
    "# Train"
   ]
  },
  {
   "cell_type": "code",
   "execution_count": 16,
   "metadata": {},
   "outputs": [
    {
     "name": "stdout",
     "output_type": "stream",
     "text": [
      "{'epoch': 1, 'train_loss': 0.06310431027709275}\n",
      "{'name': 'val', 'epoch': 1, 'loss': 0.055693817211521994, '1 adm': {'recall10': {'mean': 0.4383168086764939, 'std': 0.20194492969027655, 'n': 1125}, 'recall20': {'mean': 0.6003363384028486, 'std': 0.19180999013921282, 'n': 1125}, 'recall30': {'mean': 0.7022388516986957, 'std': 0.1738569564575414, 'n': 1125}}, '2 adm': {'recall10': {'mean': 0.4324873976918547, 'std': 0.16014301456855048, 'n': 342}, 'recall20': {'mean': 0.6070942967310907, 'std': 0.1580827383618025, 'n': 342}, 'recall30': {'mean': 0.7079473060972277, 'std': 0.15124369277599858, 'n': 342}}, '3 adm': {'recall10': {'mean': 0.4250083665874939, 'std': 0.1499507856955461, 'n': 143}, 'recall20': {'mean': 0.6089853391388756, 'std': 0.14788611278223662, 'n': 143}, 'recall30': {'mean': 0.7145667129901153, 'std': 0.1362589636676128, 'n': 143}}, '>3 adm': {'recall10': {'mean': 0.48252846941024563, 'std': 0.1994391330440701, 'n': 248}, 'recall20': {'mean': 0.6615573569722966, 'std': 0.1779156958705767, 'n': 248}, 'recall30': {'mean': 0.754949918074472, 'std': 0.1538471226777407, 'n': 248}}, 'last adm': {'recall10': {'mean': 0.4314142069398525, 'std': 0.19265192005421317, 'n': 1125}, 'recall20': {'mean': 0.5961585649664365, 'std': 0.1823781047437662, 'n': 1125}, 'recall30': {'mean': 0.6995440932989379, 'std': 0.16646451535020002, 'n': 1125}}}\n",
      "{'epoch': 2, 'train_loss': 0.050203786011197876}\n",
      "{'name': 'val', 'epoch': 2, 'loss': 0.04673804724216461, '1 adm': {'recall10': {'mean': 0.43815760768678436, 'std': 0.20393618853012632, 'n': 1125}, 'recall20': {'mean': 0.6001831185195466, 'std': 0.19184174075632818, 'n': 1125}, 'recall30': {'mean': 0.7048166011533241, 'std': 0.17572385819613856, 'n': 1125}}, '2 adm': {'recall10': {'mean': 0.42431156946099796, 'std': 0.15972798792423473, 'n': 342}, 'recall20': {'mean': 0.6016837819808502, 'std': 0.15883094289485475, 'n': 342}, 'recall30': {'mean': 0.7015172924862143, 'std': 0.1522797445546549, 'n': 342}}, '3 adm': {'recall10': {'mean': 0.4071839899585476, 'std': 0.1337154527342621, 'n': 143}, 'recall20': {'mean': 0.5995670961950325, 'std': 0.15543099586300826, 'n': 143}, 'recall30': {'mean': 0.7137716218650008, 'std': 0.1327347653458016, 'n': 143}}, '>3 adm': {'recall10': {'mean': 0.4693744777492261, 'std': 0.19506880422380277, 'n': 248}, 'recall20': {'mean': 0.6420255607748273, 'std': 0.15994626522700467, 'n': 248}, 'recall30': {'mean': 0.7506464496384295, 'std': 0.1469929741683837, 'n': 248}}, 'last adm': {'recall10': {'mean': 0.42920223655871054, 'std': 0.19319036952901988, 'n': 1125}, 'recall20': {'mean': 0.5953567862518665, 'std': 0.18356026536182032, 'n': 1125}, 'recall30': {'mean': 0.6991650888700081, 'std': 0.16776512545784625, 'n': 1125}}}\n"
     ]
    }
   ],
   "source": [
    "for epoch in range(1,2+1):\n",
    "    loss = train_one_epoch(model,train_dataloader, epoch, criterion, opt)\n",
    "    print({'epoch':epoch,'train_loss':loss})\n",
    "    print(eval_model(model,val_dataloader,dataset,criterion,epoch,'val',only_loss=False))"
   ]
  },
  {
   "cell_type": "markdown",
   "metadata": {},
   "source": [
    "# Now for wandb"
   ]
  },
  {
   "cell_type": "code",
   "execution_count": 63,
   "metadata": {},
   "outputs": [
    {
     "name": "stderr",
     "output_type": "stream",
     "text": [
      "\u001b[34m\u001b[1mwandb\u001b[0m: \u001b[33mWARNING\u001b[0m Calling wandb.login() after wandb.init() has no effect.\n"
     ]
    },
    {
     "data": {
      "text/plain": [
       "True"
      ]
     },
     "execution_count": 63,
     "metadata": {},
     "output_type": "execute_result"
    }
   ],
   "source": [
    "wandb.login()"
   ]
  },
  {
   "cell_type": "markdown",
   "metadata": {},
   "source": [
    "## define data and train conditions"
   ]
  },
  {
   "cell_type": "code",
   "execution_count": 21,
   "metadata": {},
   "outputs": [],
   "source": [
    "input_size = next(iter(train_dataloader))['target_sequences']['sequence'].shape[2]\n",
    "n_labels = input_size\n",
    "\n",
    "criterion = torch.nn.BCEWithLogitsLoss()"
   ]
  },
  {
   "cell_type": "markdown",
   "metadata": {},
   "source": [
    "## Define search space"
   ]
  },
  {
   "cell_type": "code",
   "execution_count": 69,
   "metadata": {},
   "outputs": [
    {
     "name": "stdout",
     "output_type": "stream",
     "text": [
      "params: 54\n"
     ]
    },
    {
     "data": {
      "text/plain": [
       "{'num_layers': 2,\n",
       " 'name': 'normal_config',\n",
       " 'model': 'GRU',\n",
       " 'lr': 0.01,\n",
       " 'hidden_size': 50,\n",
       " 'dropout': 0.2,\n",
       " 'batch_size': 64}"
      ]
     },
     "execution_count": 69,
     "metadata": {},
     "output_type": "execute_result"
    }
   ],
   "source": [
    "hyperparameters = {\n",
    "    'hidden_size':[50,100,input_size], #-1 is to have the same as input size\n",
    "    'num_layers':[1,2],\n",
    "    'lr':[0.01],\n",
    "    'model':['RNN','GRU','LSTM'],\n",
    "    'dropout':[0.1,0.2,0.3],\n",
    "    'batch_size':[64],\n",
    "    'name':['normal_config']\n",
    "}\n",
    "\n",
    "meta_parameters = {\n",
    "    'epochs':15\n",
    "}\n",
    "\n",
    "params = ParameterGrid(hyperparameters)\n",
    "print(f'params:',len(params))\n",
    "\n",
    "random_params = ParameterSampler(params.param_grid,n_iter=len(params)-1,random_state=231)\n",
    "next(iter(random_params))"
   ]
  },
  {
   "cell_type": "markdown",
   "metadata": {},
   "source": [
    "## Run models"
   ]
  },
  {
   "cell_type": "code",
   "execution_count": 70,
   "metadata": {},
   "outputs": [
    {
     "name": "stderr",
     "output_type": "stream",
     "text": [
      "\u001b[34m\u001b[1mwandb\u001b[0m: wandb version 0.12.2 is available!  To upgrade, please run:\n",
      "\u001b[34m\u001b[1mwandb\u001b[0m:  $ pip install wandb --upgrade\n"
     ]
    },
    {
     "data": {
      "text/html": [
       "\n",
       "                Tracking run with wandb version 0.12.1<br/>\n",
       "                Syncing run <strong style=\"color:#cdcd00\">balmy-valley-205</strong> to <a href=\"https://wandb.ai\" target=\"_blank\">Weights & Biases</a> <a href=\"https://docs.wandb.com/integrations/jupyter.html\" target=\"_blank\">(Documentation)</a>.<br/>\n",
       "                Project page: <a href=\"https://wandb.ai/snovaisg/idrop_vs_rnn\" target=\"_blank\">https://wandb.ai/snovaisg/idrop_vs_rnn</a><br/>\n",
       "                Run page: <a href=\"https://wandb.ai/snovaisg/idrop_vs_rnn/runs/goaxrd0f\" target=\"_blank\">https://wandb.ai/snovaisg/idrop_vs_rnn/runs/goaxrd0f</a><br/>\n",
       "                Run data is saved locally in <code>/Users/simaonovais/Documents/GitHub/master-thesis/wandb/run-20210917_134748-goaxrd0f</code><br/><br/>\n",
       "            "
      ],
      "text/plain": [
       "<IPython.core.display.HTML object>"
      ]
     },
     "metadata": {},
     "output_type": "display_data"
    },
    {
     "data": {
      "text/html": [
       "<h1>Run(goaxrd0f)</h1><iframe src=\"https://wandb.ai/snovaisg/idrop_vs_rnn/runs/goaxrd0f\" style=\"border:none;width:100%;height:400px\"></iframe>"
      ],
      "text/plain": [
       "<wandb.sdk.wandb_run.Run at 0x13cc97940>"
      ]
     },
     "execution_count": 70,
     "metadata": {},
     "output_type": "execute_result"
    },
    {
     "data": {
      "text/html": [
       "Finishing last run (ID:goaxrd0f) before initializing another..."
      ],
      "text/plain": [
       "<IPython.core.display.HTML object>"
      ]
     },
     "metadata": {},
     "output_type": "display_data"
    },
    {
     "data": {
      "text/html": [
       "<br/>Waiting for W&B process to finish, PID 40101<br/>Program ended successfully."
      ],
      "text/plain": [
       "<IPython.core.display.HTML object>"
      ]
     },
     "metadata": {},
     "output_type": "display_data"
    },
    {
     "data": {
      "text/html": [
       "Find user logs for this run at: <code>/Users/simaonovais/Documents/GitHub/master-thesis/wandb/run-20210917_134748-goaxrd0f/logs/debug.log</code>"
      ],
      "text/plain": [
       "<IPython.core.display.HTML object>"
      ]
     },
     "metadata": {},
     "output_type": "display_data"
    },
    {
     "data": {
      "text/html": [
       "Find internal logs for this run at: <code>/Users/simaonovais/Documents/GitHub/master-thesis/wandb/run-20210917_134748-goaxrd0f/logs/debug-internal.log</code>"
      ],
      "text/plain": [
       "<IPython.core.display.HTML object>"
      ]
     },
     "metadata": {},
     "output_type": "display_data"
    },
    {
     "data": {
      "text/html": [
       "<h3>Run summary:</h3><br/><style>\n",
       "    table.wandb td:nth-child(1) { padding: 0 10px; text-align: right }\n",
       "    </style><table class=\"wandb\">\n",
       "<tr><td>loss</td><td>0.0363</td></tr><tr><td>_runtime</td><td>30</td></tr><tr><td>_timestamp</td><td>1631882898</td></tr><tr><td>_step</td><td>15</td></tr><tr><td>train_loss</td><td>0.03512</td></tr><tr><td>train_recall@30</td><td>0.7196</td></tr><tr><td>val_loss</td><td>0.03928</td></tr><tr><td>recall@10</td><td>0.41005</td></tr><tr><td>recall@20</td><td>0.57889</td></tr><tr><td>recall@30</td><td>0.68623</td></tr></table>"
      ],
      "text/plain": [
       "<IPython.core.display.HTML object>"
      ]
     },
     "metadata": {},
     "output_type": "display_data"
    },
    {
     "data": {
      "text/html": [
       "<h3>Run history:</h3><br/><style>\n",
       "    table.wandb td:nth-child(1) { padding: 0 10px; text-align: right }\n",
       "    </style><table class=\"wandb\">\n",
       "<tr><td>loss</td><td>█▅▃▃▂▂▂▁▁▁▁▁▁▁▁</td></tr><tr><td>_runtime</td><td>▁▂▂▂▃▃▄▄▄▅▅▅▆▆▆█</td></tr><tr><td>_timestamp</td><td>▁▂▂▂▃▃▄▄▄▅▅▅▆▆▆█</td></tr><tr><td>_step</td><td>▁▁▂▂▃▃▄▄▅▅▆▆▇▇██</td></tr><tr><td>train_loss</td><td>▁</td></tr><tr><td>train_recall@30</td><td>▁</td></tr><tr><td>val_loss</td><td>▁</td></tr><tr><td>recall@10</td><td>▁</td></tr><tr><td>recall@20</td><td>▁</td></tr><tr><td>recall@30</td><td>▁</td></tr></table><br/>"
      ],
      "text/plain": [
       "<IPython.core.display.HTML object>"
      ]
     },
     "metadata": {},
     "output_type": "display_data"
    },
    {
     "data": {
      "text/html": [
       "Synced 6 W&B file(s), 0 media file(s), 0 artifact file(s) and 0 other file(s)"
      ],
      "text/plain": [
       "<IPython.core.display.HTML object>"
      ]
     },
     "metadata": {},
     "output_type": "display_data"
    },
    {
     "data": {
      "text/html": [
       "\n",
       "                    <br/>Synced <strong style=\"color:#cdcd00\">balmy-valley-205</strong>: <a href=\"https://wandb.ai/snovaisg/idrop_vs_rnn/runs/goaxrd0f\" target=\"_blank\">https://wandb.ai/snovaisg/idrop_vs_rnn/runs/goaxrd0f</a><br/>\n",
       "                "
      ],
      "text/plain": [
       "<IPython.core.display.HTML object>"
      ]
     },
     "metadata": {},
     "output_type": "display_data"
    },
    {
     "data": {
      "text/html": [
       "...Successfully finished last run (ID:goaxrd0f). Initializing new run:<br/><br/>"
      ],
      "text/plain": [
       "<IPython.core.display.HTML object>"
      ]
     },
     "metadata": {},
     "output_type": "display_data"
    },
    {
     "name": "stderr",
     "output_type": "stream",
     "text": [
      "\u001b[34m\u001b[1mwandb\u001b[0m: wandb version 0.12.2 is available!  To upgrade, please run:\n",
      "\u001b[34m\u001b[1mwandb\u001b[0m:  $ pip install wandb --upgrade\n"
     ]
    },
    {
     "data": {
      "text/html": [
       "\n",
       "                Tracking run with wandb version 0.12.1<br/>\n",
       "                Syncing run <strong style=\"color:#cdcd00\">vivid-frost-206</strong> to <a href=\"https://wandb.ai\" target=\"_blank\">Weights & Biases</a> <a href=\"https://docs.wandb.com/integrations/jupyter.html\" target=\"_blank\">(Documentation)</a>.<br/>\n",
       "                Project page: <a href=\"https://wandb.ai/snovaisg/idrop_vs_rnn\" target=\"_blank\">https://wandb.ai/snovaisg/idrop_vs_rnn</a><br/>\n",
       "                Run page: <a href=\"https://wandb.ai/snovaisg/idrop_vs_rnn/runs/8nxh7wjs\" target=\"_blank\">https://wandb.ai/snovaisg/idrop_vs_rnn/runs/8nxh7wjs</a><br/>\n",
       "                Run data is saved locally in <code>/Users/simaonovais/Documents/GitHub/master-thesis/wandb/run-20210917_134818-8nxh7wjs</code><br/><br/>\n",
       "            "
      ],
      "text/plain": [
       "<IPython.core.display.HTML object>"
      ]
     },
     "metadata": {},
     "output_type": "display_data"
    },
    {
     "data": {
      "text/html": [
       "<h1>Run(8nxh7wjs)</h1><iframe src=\"https://wandb.ai/snovaisg/idrop_vs_rnn/runs/8nxh7wjs\" style=\"border:none;width:100%;height:400px\"></iframe>"
      ],
      "text/plain": [
       "<wandb.sdk.wandb_run.Run at 0x13584d880>"
      ]
     },
     "execution_count": 70,
     "metadata": {},
     "output_type": "execute_result"
    },
    {
     "data": {
      "text/html": [
       "Finishing last run (ID:8nxh7wjs) before initializing another..."
      ],
      "text/plain": [
       "<IPython.core.display.HTML object>"
      ]
     },
     "metadata": {},
     "output_type": "display_data"
    },
    {
     "data": {
      "text/html": [
       "<br/>Waiting for W&B process to finish, PID 40132<br/>Program ended successfully."
      ],
      "text/plain": [
       "<IPython.core.display.HTML object>"
      ]
     },
     "metadata": {},
     "output_type": "display_data"
    },
    {
     "data": {
      "text/html": [
       "Find user logs for this run at: <code>/Users/simaonovais/Documents/GitHub/master-thesis/wandb/run-20210917_134818-8nxh7wjs/logs/debug.log</code>"
      ],
      "text/plain": [
       "<IPython.core.display.HTML object>"
      ]
     },
     "metadata": {},
     "output_type": "display_data"
    },
    {
     "data": {
      "text/html": [
       "Find internal logs for this run at: <code>/Users/simaonovais/Documents/GitHub/master-thesis/wandb/run-20210917_134818-8nxh7wjs/logs/debug-internal.log</code>"
      ],
      "text/plain": [
       "<IPython.core.display.HTML object>"
      ]
     },
     "metadata": {},
     "output_type": "display_data"
    },
    {
     "data": {
      "text/html": [
       "<h3>Run summary:</h3><br/><style>\n",
       "    table.wandb td:nth-child(1) { padding: 0 10px; text-align: right }\n",
       "    </style><table class=\"wandb\">\n",
       "<tr><td>loss</td><td>0.03944</td></tr><tr><td>_runtime</td><td>29</td></tr><tr><td>_timestamp</td><td>1631882931</td></tr><tr><td>_step</td><td>15</td></tr><tr><td>train_loss</td><td>0.03848</td></tr><tr><td>train_recall@30</td><td>0.6369</td></tr><tr><td>val_loss</td><td>0.04184</td></tr><tr><td>recall@10</td><td>0.34264</td></tr><tr><td>recall@20</td><td>0.50852</td></tr><tr><td>recall@30</td><td>0.6245</td></tr></table>"
      ],
      "text/plain": [
       "<IPython.core.display.HTML object>"
      ]
     },
     "metadata": {},
     "output_type": "display_data"
    },
    {
     "data": {
      "text/html": [
       "<h3>Run history:</h3><br/><style>\n",
       "    table.wandb td:nth-child(1) { padding: 0 10px; text-align: right }\n",
       "    </style><table class=\"wandb\">\n",
       "<tr><td>loss</td><td>█▅▃▃▂▂▂▁▁▁▁▁▁▁▁</td></tr><tr><td>_runtime</td><td>▁▁▂▂▂▃▃▄▄▅▅▅▆▆▆█</td></tr><tr><td>_timestamp</td><td>▁▁▂▂▂▃▃▄▄▅▅▅▆▆▆█</td></tr><tr><td>_step</td><td>▁▁▂▂▃▃▄▄▅▅▆▆▇▇██</td></tr><tr><td>train_loss</td><td>▁</td></tr><tr><td>train_recall@30</td><td>▁</td></tr><tr><td>val_loss</td><td>▁</td></tr><tr><td>recall@10</td><td>▁</td></tr><tr><td>recall@20</td><td>▁</td></tr><tr><td>recall@30</td><td>▁</td></tr></table><br/>"
      ],
      "text/plain": [
       "<IPython.core.display.HTML object>"
      ]
     },
     "metadata": {},
     "output_type": "display_data"
    },
    {
     "data": {
      "text/html": [
       "Synced 6 W&B file(s), 0 media file(s), 0 artifact file(s) and 0 other file(s)"
      ],
      "text/plain": [
       "<IPython.core.display.HTML object>"
      ]
     },
     "metadata": {},
     "output_type": "display_data"
    },
    {
     "data": {
      "text/html": [
       "\n",
       "                    <br/>Synced <strong style=\"color:#cdcd00\">vivid-frost-206</strong>: <a href=\"https://wandb.ai/snovaisg/idrop_vs_rnn/runs/8nxh7wjs\" target=\"_blank\">https://wandb.ai/snovaisg/idrop_vs_rnn/runs/8nxh7wjs</a><br/>\n",
       "                "
      ],
      "text/plain": [
       "<IPython.core.display.HTML object>"
      ]
     },
     "metadata": {},
     "output_type": "display_data"
    },
    {
     "data": {
      "text/html": [
       "...Successfully finished last run (ID:8nxh7wjs). Initializing new run:<br/><br/>"
      ],
      "text/plain": [
       "<IPython.core.display.HTML object>"
      ]
     },
     "metadata": {},
     "output_type": "display_data"
    },
    {
     "name": "stderr",
     "output_type": "stream",
     "text": [
      "\u001b[34m\u001b[1mwandb\u001b[0m: wandb version 0.12.2 is available!  To upgrade, please run:\n",
      "\u001b[34m\u001b[1mwandb\u001b[0m:  $ pip install wandb --upgrade\n"
     ]
    },
    {
     "data": {
      "text/html": [
       "\n",
       "                Tracking run with wandb version 0.12.1<br/>\n",
       "                Syncing run <strong style=\"color:#cdcd00\">youthful-fire-207</strong> to <a href=\"https://wandb.ai\" target=\"_blank\">Weights & Biases</a> <a href=\"https://docs.wandb.com/integrations/jupyter.html\" target=\"_blank\">(Documentation)</a>.<br/>\n",
       "                Project page: <a href=\"https://wandb.ai/snovaisg/idrop_vs_rnn\" target=\"_blank\">https://wandb.ai/snovaisg/idrop_vs_rnn</a><br/>\n",
       "                Run page: <a href=\"https://wandb.ai/snovaisg/idrop_vs_rnn/runs/1hk1axj4\" target=\"_blank\">https://wandb.ai/snovaisg/idrop_vs_rnn/runs/1hk1axj4</a><br/>\n",
       "                Run data is saved locally in <code>/Users/simaonovais/Documents/GitHub/master-thesis/wandb/run-20210917_134851-1hk1axj4</code><br/><br/>\n",
       "            "
      ],
      "text/plain": [
       "<IPython.core.display.HTML object>"
      ]
     },
     "metadata": {},
     "output_type": "display_data"
    },
    {
     "data": {
      "text/html": [
       "<h1>Run(1hk1axj4)</h1><iframe src=\"https://wandb.ai/snovaisg/idrop_vs_rnn/runs/1hk1axj4\" style=\"border:none;width:100%;height:400px\"></iframe>"
      ],
      "text/plain": [
       "<wandb.sdk.wandb_run.Run at 0x133b32880>"
      ]
     },
     "execution_count": 70,
     "metadata": {},
     "output_type": "execute_result"
    },
    {
     "data": {
      "text/html": [
       "Finishing last run (ID:1hk1axj4) before initializing another..."
      ],
      "text/plain": [
       "<IPython.core.display.HTML object>"
      ]
     },
     "metadata": {},
     "output_type": "display_data"
    },
    {
     "data": {
      "text/html": [
       "<br/>Waiting for W&B process to finish, PID 40153<br/>Program ended successfully."
      ],
      "text/plain": [
       "<IPython.core.display.HTML object>"
      ]
     },
     "metadata": {},
     "output_type": "display_data"
    },
    {
     "data": {
      "text/html": [
       "Find user logs for this run at: <code>/Users/simaonovais/Documents/GitHub/master-thesis/wandb/run-20210917_134851-1hk1axj4/logs/debug.log</code>"
      ],
      "text/plain": [
       "<IPython.core.display.HTML object>"
      ]
     },
     "metadata": {},
     "output_type": "display_data"
    },
    {
     "data": {
      "text/html": [
       "Find internal logs for this run at: <code>/Users/simaonovais/Documents/GitHub/master-thesis/wandb/run-20210917_134851-1hk1axj4/logs/debug-internal.log</code>"
      ],
      "text/plain": [
       "<IPython.core.display.HTML object>"
      ]
     },
     "metadata": {},
     "output_type": "display_data"
    },
    {
     "data": {
      "text/html": [
       "<h3>Run summary:</h3><br/><style>\n",
       "    table.wandb td:nth-child(1) { padding: 0 10px; text-align: right }\n",
       "    </style><table class=\"wandb\">\n",
       "<tr><td>loss</td><td>0.03654</td></tr><tr><td>_runtime</td><td>35</td></tr><tr><td>_timestamp</td><td>1631882970</td></tr><tr><td>_step</td><td>15</td></tr><tr><td>train_loss</td><td>0.0354</td></tr><tr><td>train_recall@30</td><td>0.72322</td></tr><tr><td>val_loss</td><td>0.03935</td></tr><tr><td>recall@10</td><td>0.41253</td></tr><tr><td>recall@20</td><td>0.58595</td></tr><tr><td>recall@30</td><td>0.69374</td></tr></table>"
      ],
      "text/plain": [
       "<IPython.core.display.HTML object>"
      ]
     },
     "metadata": {},
     "output_type": "display_data"
    },
    {
     "data": {
      "text/html": [
       "<h3>Run history:</h3><br/><style>\n",
       "    table.wandb td:nth-child(1) { padding: 0 10px; text-align: right }\n",
       "    </style><table class=\"wandb\">\n",
       "<tr><td>loss</td><td>█▅▃▃▂▂▂▁▁▁▁▁▁▁▁</td></tr><tr><td>_runtime</td><td>▁▁▂▂▂▃▃▄▄▄▅▅▅▆▆█</td></tr><tr><td>_timestamp</td><td>▁▁▂▂▂▃▃▄▄▄▅▅▅▆▆█</td></tr><tr><td>_step</td><td>▁▁▂▂▃▃▄▄▅▅▆▆▇▇██</td></tr><tr><td>train_loss</td><td>▁</td></tr><tr><td>train_recall@30</td><td>▁</td></tr><tr><td>val_loss</td><td>▁</td></tr><tr><td>recall@10</td><td>▁</td></tr><tr><td>recall@20</td><td>▁</td></tr><tr><td>recall@30</td><td>▁</td></tr></table><br/>"
      ],
      "text/plain": [
       "<IPython.core.display.HTML object>"
      ]
     },
     "metadata": {},
     "output_type": "display_data"
    },
    {
     "data": {
      "text/html": [
       "Synced 6 W&B file(s), 0 media file(s), 0 artifact file(s) and 0 other file(s)"
      ],
      "text/plain": [
       "<IPython.core.display.HTML object>"
      ]
     },
     "metadata": {},
     "output_type": "display_data"
    },
    {
     "data": {
      "text/html": [
       "\n",
       "                    <br/>Synced <strong style=\"color:#cdcd00\">youthful-fire-207</strong>: <a href=\"https://wandb.ai/snovaisg/idrop_vs_rnn/runs/1hk1axj4\" target=\"_blank\">https://wandb.ai/snovaisg/idrop_vs_rnn/runs/1hk1axj4</a><br/>\n",
       "                "
      ],
      "text/plain": [
       "<IPython.core.display.HTML object>"
      ]
     },
     "metadata": {},
     "output_type": "display_data"
    },
    {
     "data": {
      "text/html": [
       "...Successfully finished last run (ID:1hk1axj4). Initializing new run:<br/><br/>"
      ],
      "text/plain": [
       "<IPython.core.display.HTML object>"
      ]
     },
     "metadata": {},
     "output_type": "display_data"
    },
    {
     "name": "stderr",
     "output_type": "stream",
     "text": [
      "\u001b[34m\u001b[1mwandb\u001b[0m: wandb version 0.12.2 is available!  To upgrade, please run:\n",
      "\u001b[34m\u001b[1mwandb\u001b[0m:  $ pip install wandb --upgrade\n"
     ]
    },
    {
     "data": {
      "text/html": [
       "\n",
       "                Tracking run with wandb version 0.12.1<br/>\n",
       "                Syncing run <strong style=\"color:#cdcd00\">misunderstood-thunder-208</strong> to <a href=\"https://wandb.ai\" target=\"_blank\">Weights & Biases</a> <a href=\"https://docs.wandb.com/integrations/jupyter.html\" target=\"_blank\">(Documentation)</a>.<br/>\n",
       "                Project page: <a href=\"https://wandb.ai/snovaisg/idrop_vs_rnn\" target=\"_blank\">https://wandb.ai/snovaisg/idrop_vs_rnn</a><br/>\n",
       "                Run page: <a href=\"https://wandb.ai/snovaisg/idrop_vs_rnn/runs/2x4rzpae\" target=\"_blank\">https://wandb.ai/snovaisg/idrop_vs_rnn/runs/2x4rzpae</a><br/>\n",
       "                Run data is saved locally in <code>/Users/simaonovais/Documents/GitHub/master-thesis/wandb/run-20210917_134930-2x4rzpae</code><br/><br/>\n",
       "            "
      ],
      "text/plain": [
       "<IPython.core.display.HTML object>"
      ]
     },
     "metadata": {},
     "output_type": "display_data"
    },
    {
     "data": {
      "text/html": [
       "<h1>Run(2x4rzpae)</h1><iframe src=\"https://wandb.ai/snovaisg/idrop_vs_rnn/runs/2x4rzpae\" style=\"border:none;width:100%;height:400px\"></iframe>"
      ],
      "text/plain": [
       "<wandb.sdk.wandb_run.Run at 0x133b35910>"
      ]
     },
     "execution_count": 70,
     "metadata": {},
     "output_type": "execute_result"
    },
    {
     "data": {
      "text/html": [
       "Finishing last run (ID:2x4rzpae) before initializing another..."
      ],
      "text/plain": [
       "<IPython.core.display.HTML object>"
      ]
     },
     "metadata": {},
     "output_type": "display_data"
    },
    {
     "data": {
      "text/html": [
       "<br/>Waiting for W&B process to finish, PID 40168<br/>Program ended successfully."
      ],
      "text/plain": [
       "<IPython.core.display.HTML object>"
      ]
     },
     "metadata": {},
     "output_type": "display_data"
    },
    {
     "data": {
      "text/html": [
       "Find user logs for this run at: <code>/Users/simaonovais/Documents/GitHub/master-thesis/wandb/run-20210917_134930-2x4rzpae/logs/debug.log</code>"
      ],
      "text/plain": [
       "<IPython.core.display.HTML object>"
      ]
     },
     "metadata": {},
     "output_type": "display_data"
    },
    {
     "data": {
      "text/html": [
       "Find internal logs for this run at: <code>/Users/simaonovais/Documents/GitHub/master-thesis/wandb/run-20210917_134930-2x4rzpae/logs/debug-internal.log</code>"
      ],
      "text/plain": [
       "<IPython.core.display.HTML object>"
      ]
     },
     "metadata": {},
     "output_type": "display_data"
    },
    {
     "data": {
      "text/html": [
       "<h3>Run summary:</h3><br/><style>\n",
       "    table.wandb td:nth-child(1) { padding: 0 10px; text-align: right }\n",
       "    </style><table class=\"wandb\">\n",
       "<tr><td>loss</td><td>0.03832</td></tr><tr><td>_runtime</td><td>41</td></tr><tr><td>_timestamp</td><td>1631883014</td></tr><tr><td>_step</td><td>15</td></tr><tr><td>train_loss</td><td>0.03853</td></tr><tr><td>train_recall@30</td><td>0.65024</td></tr><tr><td>val_loss</td><td>0.0413</td></tr><tr><td>recall@10</td><td>0.35349</td></tr><tr><td>recall@20</td><td>0.52007</td></tr><tr><td>recall@30</td><td>0.63383</td></tr></table>"
      ],
      "text/plain": [
       "<IPython.core.display.HTML object>"
      ]
     },
     "metadata": {},
     "output_type": "display_data"
    },
    {
     "data": {
      "text/html": [
       "<h3>Run history:</h3><br/><style>\n",
       "    table.wandb td:nth-child(1) { padding: 0 10px; text-align: right }\n",
       "    </style><table class=\"wandb\">\n",
       "<tr><td>loss</td><td>█▅▃▃▂▂▂▁▁▁▁▁▁▁▁</td></tr><tr><td>_runtime</td><td>▁▁▂▂▃▃▃▄▄▅▅▅▆▆▇█</td></tr><tr><td>_timestamp</td><td>▁▁▂▂▃▃▃▄▄▅▅▅▆▆▇█</td></tr><tr><td>_step</td><td>▁▁▂▂▃▃▄▄▅▅▆▆▇▇██</td></tr><tr><td>train_loss</td><td>▁</td></tr><tr><td>train_recall@30</td><td>▁</td></tr><tr><td>val_loss</td><td>▁</td></tr><tr><td>recall@10</td><td>▁</td></tr><tr><td>recall@20</td><td>▁</td></tr><tr><td>recall@30</td><td>▁</td></tr></table><br/>"
      ],
      "text/plain": [
       "<IPython.core.display.HTML object>"
      ]
     },
     "metadata": {},
     "output_type": "display_data"
    },
    {
     "data": {
      "text/html": [
       "Synced 6 W&B file(s), 0 media file(s), 0 artifact file(s) and 0 other file(s)"
      ],
      "text/plain": [
       "<IPython.core.display.HTML object>"
      ]
     },
     "metadata": {},
     "output_type": "display_data"
    },
    {
     "data": {
      "text/html": [
       "\n",
       "                    <br/>Synced <strong style=\"color:#cdcd00\">misunderstood-thunder-208</strong>: <a href=\"https://wandb.ai/snovaisg/idrop_vs_rnn/runs/2x4rzpae\" target=\"_blank\">https://wandb.ai/snovaisg/idrop_vs_rnn/runs/2x4rzpae</a><br/>\n",
       "                "
      ],
      "text/plain": [
       "<IPython.core.display.HTML object>"
      ]
     },
     "metadata": {},
     "output_type": "display_data"
    },
    {
     "data": {
      "text/html": [
       "...Successfully finished last run (ID:2x4rzpae). Initializing new run:<br/><br/>"
      ],
      "text/plain": [
       "<IPython.core.display.HTML object>"
      ]
     },
     "metadata": {},
     "output_type": "display_data"
    },
    {
     "name": "stderr",
     "output_type": "stream",
     "text": [
      "\u001b[34m\u001b[1mwandb\u001b[0m: wandb version 0.12.2 is available!  To upgrade, please run:\n",
      "\u001b[34m\u001b[1mwandb\u001b[0m:  $ pip install wandb --upgrade\n"
     ]
    },
    {
     "data": {
      "text/html": [
       "\n",
       "                Tracking run with wandb version 0.12.1<br/>\n",
       "                Syncing run <strong style=\"color:#cdcd00\">electric-firefly-209</strong> to <a href=\"https://wandb.ai\" target=\"_blank\">Weights & Biases</a> <a href=\"https://docs.wandb.com/integrations/jupyter.html\" target=\"_blank\">(Documentation)</a>.<br/>\n",
       "                Project page: <a href=\"https://wandb.ai/snovaisg/idrop_vs_rnn\" target=\"_blank\">https://wandb.ai/snovaisg/idrop_vs_rnn</a><br/>\n",
       "                Run page: <a href=\"https://wandb.ai/snovaisg/idrop_vs_rnn/runs/30h86a75\" target=\"_blank\">https://wandb.ai/snovaisg/idrop_vs_rnn/runs/30h86a75</a><br/>\n",
       "                Run data is saved locally in <code>/Users/simaonovais/Documents/GitHub/master-thesis/wandb/run-20210917_135014-30h86a75</code><br/><br/>\n",
       "            "
      ],
      "text/plain": [
       "<IPython.core.display.HTML object>"
      ]
     },
     "metadata": {},
     "output_type": "display_data"
    },
    {
     "data": {
      "text/html": [
       "<h1>Run(30h86a75)</h1><iframe src=\"https://wandb.ai/snovaisg/idrop_vs_rnn/runs/30h86a75\" style=\"border:none;width:100%;height:400px\"></iframe>"
      ],
      "text/plain": [
       "<wandb.sdk.wandb_run.Run at 0x1360b0670>"
      ]
     },
     "execution_count": 70,
     "metadata": {},
     "output_type": "execute_result"
    },
    {
     "data": {
      "text/html": [
       "Finishing last run (ID:30h86a75) before initializing another..."
      ],
      "text/plain": [
       "<IPython.core.display.HTML object>"
      ]
     },
     "metadata": {},
     "output_type": "display_data"
    },
    {
     "data": {
      "text/html": [
       "<br/>Waiting for W&B process to finish, PID 40194<br/>Program ended successfully."
      ],
      "text/plain": [
       "<IPython.core.display.HTML object>"
      ]
     },
     "metadata": {},
     "output_type": "display_data"
    },
    {
     "data": {
      "text/html": [
       "Find user logs for this run at: <code>/Users/simaonovais/Documents/GitHub/master-thesis/wandb/run-20210917_135014-30h86a75/logs/debug.log</code>"
      ],
      "text/plain": [
       "<IPython.core.display.HTML object>"
      ]
     },
     "metadata": {},
     "output_type": "display_data"
    },
    {
     "data": {
      "text/html": [
       "Find internal logs for this run at: <code>/Users/simaonovais/Documents/GitHub/master-thesis/wandb/run-20210917_135014-30h86a75/logs/debug-internal.log</code>"
      ],
      "text/plain": [
       "<IPython.core.display.HTML object>"
      ]
     },
     "metadata": {},
     "output_type": "display_data"
    },
    {
     "data": {
      "text/html": [
       "<h3>Run summary:</h3><br/><style>\n",
       "    table.wandb td:nth-child(1) { padding: 0 10px; text-align: right }\n",
       "    </style><table class=\"wandb\">\n",
       "<tr><td>loss</td><td>0.03759</td></tr><tr><td>_runtime</td><td>38</td></tr><tr><td>_timestamp</td><td>1631883055</td></tr><tr><td>_step</td><td>15</td></tr><tr><td>train_loss</td><td>0.03585</td></tr><tr><td>train_recall@30</td><td>0.72079</td></tr><tr><td>val_loss</td><td>0.03928</td></tr><tr><td>recall@10</td><td>0.41373</td></tr><tr><td>recall@20</td><td>0.58538</td></tr><tr><td>recall@30</td><td>0.69429</td></tr></table>"
      ],
      "text/plain": [
       "<IPython.core.display.HTML object>"
      ]
     },
     "metadata": {},
     "output_type": "display_data"
    },
    {
     "data": {
      "text/html": [
       "<h3>Run history:</h3><br/><style>\n",
       "    table.wandb td:nth-child(1) { padding: 0 10px; text-align: right }\n",
       "    </style><table class=\"wandb\">\n",
       "<tr><td>loss</td><td>█▅▃▃▂▂▂▁▁▁▁▁▁▁▁</td></tr><tr><td>_runtime</td><td>▁▁▂▂▂▃▃▃▄▄▅▅▅▆▆█</td></tr><tr><td>_timestamp</td><td>▁▁▂▂▂▃▃▃▄▄▅▅▅▆▆█</td></tr><tr><td>_step</td><td>▁▁▂▂▃▃▄▄▅▅▆▆▇▇██</td></tr><tr><td>train_loss</td><td>▁</td></tr><tr><td>train_recall@30</td><td>▁</td></tr><tr><td>val_loss</td><td>▁</td></tr><tr><td>recall@10</td><td>▁</td></tr><tr><td>recall@20</td><td>▁</td></tr><tr><td>recall@30</td><td>▁</td></tr></table><br/>"
      ],
      "text/plain": [
       "<IPython.core.display.HTML object>"
      ]
     },
     "metadata": {},
     "output_type": "display_data"
    },
    {
     "data": {
      "text/html": [
       "Synced 6 W&B file(s), 0 media file(s), 0 artifact file(s) and 0 other file(s)"
      ],
      "text/plain": [
       "<IPython.core.display.HTML object>"
      ]
     },
     "metadata": {},
     "output_type": "display_data"
    },
    {
     "data": {
      "text/html": [
       "\n",
       "                    <br/>Synced <strong style=\"color:#cdcd00\">electric-firefly-209</strong>: <a href=\"https://wandb.ai/snovaisg/idrop_vs_rnn/runs/30h86a75\" target=\"_blank\">https://wandb.ai/snovaisg/idrop_vs_rnn/runs/30h86a75</a><br/>\n",
       "                "
      ],
      "text/plain": [
       "<IPython.core.display.HTML object>"
      ]
     },
     "metadata": {},
     "output_type": "display_data"
    },
    {
     "data": {
      "text/html": [
       "...Successfully finished last run (ID:30h86a75). Initializing new run:<br/><br/>"
      ],
      "text/plain": [
       "<IPython.core.display.HTML object>"
      ]
     },
     "metadata": {},
     "output_type": "display_data"
    },
    {
     "name": "stderr",
     "output_type": "stream",
     "text": [
      "\u001b[34m\u001b[1mwandb\u001b[0m: wandb version 0.12.2 is available!  To upgrade, please run:\n",
      "\u001b[34m\u001b[1mwandb\u001b[0m:  $ pip install wandb --upgrade\n"
     ]
    },
    {
     "data": {
      "text/html": [
       "\n",
       "                Tracking run with wandb version 0.12.1<br/>\n",
       "                Syncing run <strong style=\"color:#cdcd00\">ruby-surf-210</strong> to <a href=\"https://wandb.ai\" target=\"_blank\">Weights & Biases</a> <a href=\"https://docs.wandb.com/integrations/jupyter.html\" target=\"_blank\">(Documentation)</a>.<br/>\n",
       "                Project page: <a href=\"https://wandb.ai/snovaisg/idrop_vs_rnn\" target=\"_blank\">https://wandb.ai/snovaisg/idrop_vs_rnn</a><br/>\n",
       "                Run page: <a href=\"https://wandb.ai/snovaisg/idrop_vs_rnn/runs/3nn8n10b\" target=\"_blank\">https://wandb.ai/snovaisg/idrop_vs_rnn/runs/3nn8n10b</a><br/>\n",
       "                Run data is saved locally in <code>/Users/simaonovais/Documents/GitHub/master-thesis/wandb/run-20210917_135055-3nn8n10b</code><br/><br/>\n",
       "            "
      ],
      "text/plain": [
       "<IPython.core.display.HTML object>"
      ]
     },
     "metadata": {},
     "output_type": "display_data"
    },
    {
     "data": {
      "text/html": [
       "<h1>Run(3nn8n10b)</h1><iframe src=\"https://wandb.ai/snovaisg/idrop_vs_rnn/runs/3nn8n10b\" style=\"border:none;width:100%;height:400px\"></iframe>"
      ],
      "text/plain": [
       "<wandb.sdk.wandb_run.Run at 0x1360bcbb0>"
      ]
     },
     "execution_count": 70,
     "metadata": {},
     "output_type": "execute_result"
    },
    {
     "data": {
      "text/html": [
       "Finishing last run (ID:3nn8n10b) before initializing another..."
      ],
      "text/plain": [
       "<IPython.core.display.HTML object>"
      ]
     },
     "metadata": {},
     "output_type": "display_data"
    },
    {
     "data": {
      "text/html": [
       "<br/>Waiting for W&B process to finish, PID 40294<br/>Program ended successfully."
      ],
      "text/plain": [
       "<IPython.core.display.HTML object>"
      ]
     },
     "metadata": {},
     "output_type": "display_data"
    },
    {
     "data": {
      "text/html": [
       "Find user logs for this run at: <code>/Users/simaonovais/Documents/GitHub/master-thesis/wandb/run-20210917_135055-3nn8n10b/logs/debug.log</code>"
      ],
      "text/plain": [
       "<IPython.core.display.HTML object>"
      ]
     },
     "metadata": {},
     "output_type": "display_data"
    },
    {
     "data": {
      "text/html": [
       "Find internal logs for this run at: <code>/Users/simaonovais/Documents/GitHub/master-thesis/wandb/run-20210917_135055-3nn8n10b/logs/debug-internal.log</code>"
      ],
      "text/plain": [
       "<IPython.core.display.HTML object>"
      ]
     },
     "metadata": {},
     "output_type": "display_data"
    },
    {
     "data": {
      "text/html": [
       "<h3>Run summary:</h3><br/><style>\n",
       "    table.wandb td:nth-child(1) { padding: 0 10px; text-align: right }\n",
       "    </style><table class=\"wandb\">\n",
       "<tr><td>loss</td><td>0.03905</td></tr><tr><td>_runtime</td><td>64</td></tr><tr><td>_timestamp</td><td>1631883122</td></tr><tr><td>_step</td><td>15</td></tr><tr><td>train_loss</td><td>0.0374</td></tr><tr><td>train_recall@30</td><td>0.63937</td></tr><tr><td>val_loss</td><td>0.04155</td></tr><tr><td>recall@10</td><td>0.34609</td></tr><tr><td>recall@20</td><td>0.51545</td></tr><tr><td>recall@30</td><td>0.62627</td></tr></table>"
      ],
      "text/plain": [
       "<IPython.core.display.HTML object>"
      ]
     },
     "metadata": {},
     "output_type": "display_data"
    },
    {
     "data": {
      "text/html": [
       "<h3>Run history:</h3><br/><style>\n",
       "    table.wandb td:nth-child(1) { padding: 0 10px; text-align: right }\n",
       "    </style><table class=\"wandb\">\n",
       "<tr><td>loss</td><td>█▅▃▃▂▂▂▁▁▁▁▁▁▁▁</td></tr><tr><td>_runtime</td><td>▁▁▂▂▃▃▃▄▄▅▅▅▆▆▇█</td></tr><tr><td>_timestamp</td><td>▁▁▂▂▃▃▃▄▄▅▅▅▆▆▇█</td></tr><tr><td>_step</td><td>▁▁▂▂▃▃▄▄▅▅▆▆▇▇██</td></tr><tr><td>train_loss</td><td>▁</td></tr><tr><td>train_recall@30</td><td>▁</td></tr><tr><td>val_loss</td><td>▁</td></tr><tr><td>recall@10</td><td>▁</td></tr><tr><td>recall@20</td><td>▁</td></tr><tr><td>recall@30</td><td>▁</td></tr></table><br/>"
      ],
      "text/plain": [
       "<IPython.core.display.HTML object>"
      ]
     },
     "metadata": {},
     "output_type": "display_data"
    },
    {
     "data": {
      "text/html": [
       "Synced 6 W&B file(s), 0 media file(s), 0 artifact file(s) and 0 other file(s)"
      ],
      "text/plain": [
       "<IPython.core.display.HTML object>"
      ]
     },
     "metadata": {},
     "output_type": "display_data"
    },
    {
     "data": {
      "text/html": [
       "\n",
       "                    <br/>Synced <strong style=\"color:#cdcd00\">ruby-surf-210</strong>: <a href=\"https://wandb.ai/snovaisg/idrop_vs_rnn/runs/3nn8n10b\" target=\"_blank\">https://wandb.ai/snovaisg/idrop_vs_rnn/runs/3nn8n10b</a><br/>\n",
       "                "
      ],
      "text/plain": [
       "<IPython.core.display.HTML object>"
      ]
     },
     "metadata": {},
     "output_type": "display_data"
    },
    {
     "data": {
      "text/html": [
       "...Successfully finished last run (ID:3nn8n10b). Initializing new run:<br/><br/>"
      ],
      "text/plain": [
       "<IPython.core.display.HTML object>"
      ]
     },
     "metadata": {},
     "output_type": "display_data"
    },
    {
     "name": "stderr",
     "output_type": "stream",
     "text": [
      "\u001b[34m\u001b[1mwandb\u001b[0m: wandb version 0.12.2 is available!  To upgrade, please run:\n",
      "\u001b[34m\u001b[1mwandb\u001b[0m:  $ pip install wandb --upgrade\n"
     ]
    },
    {
     "data": {
      "text/html": [
       "\n",
       "                Tracking run with wandb version 0.12.1<br/>\n",
       "                Syncing run <strong style=\"color:#cdcd00\">super-disco-211</strong> to <a href=\"https://wandb.ai\" target=\"_blank\">Weights & Biases</a> <a href=\"https://docs.wandb.com/integrations/jupyter.html\" target=\"_blank\">(Documentation)</a>.<br/>\n",
       "                Project page: <a href=\"https://wandb.ai/snovaisg/idrop_vs_rnn\" target=\"_blank\">https://wandb.ai/snovaisg/idrop_vs_rnn</a><br/>\n",
       "                Run page: <a href=\"https://wandb.ai/snovaisg/idrop_vs_rnn/runs/27qdqfyc\" target=\"_blank\">https://wandb.ai/snovaisg/idrop_vs_rnn/runs/27qdqfyc</a><br/>\n",
       "                Run data is saved locally in <code>/Users/simaonovais/Documents/GitHub/master-thesis/wandb/run-20210917_135202-27qdqfyc</code><br/><br/>\n",
       "            "
      ],
      "text/plain": [
       "<IPython.core.display.HTML object>"
      ]
     },
     "metadata": {},
     "output_type": "display_data"
    },
    {
     "data": {
      "text/html": [
       "<h1>Run(27qdqfyc)</h1><iframe src=\"https://wandb.ai/snovaisg/idrop_vs_rnn/runs/27qdqfyc\" style=\"border:none;width:100%;height:400px\"></iframe>"
      ],
      "text/plain": [
       "<wandb.sdk.wandb_run.Run at 0x1360b7a90>"
      ]
     },
     "execution_count": 70,
     "metadata": {},
     "output_type": "execute_result"
    },
    {
     "data": {
      "text/html": [
       "Finishing last run (ID:27qdqfyc) before initializing another..."
      ],
      "text/plain": [
       "<IPython.core.display.HTML object>"
      ]
     },
     "metadata": {},
     "output_type": "display_data"
    },
    {
     "data": {
      "text/html": [
       "<br/>Waiting for W&B process to finish, PID 40428<br/>Program ended successfully."
      ],
      "text/plain": [
       "<IPython.core.display.HTML object>"
      ]
     },
     "metadata": {},
     "output_type": "display_data"
    },
    {
     "data": {
      "text/html": [
       "Find user logs for this run at: <code>/Users/simaonovais/Documents/GitHub/master-thesis/wandb/run-20210917_135202-27qdqfyc/logs/debug.log</code>"
      ],
      "text/plain": [
       "<IPython.core.display.HTML object>"
      ]
     },
     "metadata": {},
     "output_type": "display_data"
    },
    {
     "data": {
      "text/html": [
       "Find internal logs for this run at: <code>/Users/simaonovais/Documents/GitHub/master-thesis/wandb/run-20210917_135202-27qdqfyc/logs/debug-internal.log</code>"
      ],
      "text/plain": [
       "<IPython.core.display.HTML object>"
      ]
     },
     "metadata": {},
     "output_type": "display_data"
    },
    {
     "data": {
      "text/html": [
       "<h3>Run summary:</h3><br/><style>\n",
       "    table.wandb td:nth-child(1) { padding: 0 10px; text-align: right }\n",
       "    </style><table class=\"wandb\">\n",
       "<tr><td>loss</td><td>0.03655</td></tr><tr><td>_runtime</td><td>46</td></tr><tr><td>_timestamp</td><td>1631883172</td></tr><tr><td>_step</td><td>15</td></tr><tr><td>train_loss</td><td>0.0357</td></tr><tr><td>train_recall@30</td><td>0.74112</td></tr><tr><td>val_loss</td><td>0.03924</td></tr><tr><td>recall@10</td><td>0.4169</td></tr><tr><td>recall@20</td><td>0.58654</td></tr><tr><td>recall@30</td><td>0.68629</td></tr></table>"
      ],
      "text/plain": [
       "<IPython.core.display.HTML object>"
      ]
     },
     "metadata": {},
     "output_type": "display_data"
    },
    {
     "data": {
      "text/html": [
       "<h3>Run history:</h3><br/><style>\n",
       "    table.wandb td:nth-child(1) { padding: 0 10px; text-align: right }\n",
       "    </style><table class=\"wandb\">\n",
       "<tr><td>loss</td><td>█▅▃▃▂▂▂▁▁▁▁▁▁▁▁</td></tr><tr><td>_runtime</td><td>▁▁▂▂▃▃▃▄▄▄▅▅▆▆▆█</td></tr><tr><td>_timestamp</td><td>▁▁▂▂▃▃▃▄▄▄▅▅▆▆▆█</td></tr><tr><td>_step</td><td>▁▁▂▂▃▃▄▄▅▅▆▆▇▇██</td></tr><tr><td>train_loss</td><td>▁</td></tr><tr><td>train_recall@30</td><td>▁</td></tr><tr><td>val_loss</td><td>▁</td></tr><tr><td>recall@10</td><td>▁</td></tr><tr><td>recall@20</td><td>▁</td></tr><tr><td>recall@30</td><td>▁</td></tr></table><br/>"
      ],
      "text/plain": [
       "<IPython.core.display.HTML object>"
      ]
     },
     "metadata": {},
     "output_type": "display_data"
    },
    {
     "data": {
      "text/html": [
       "Synced 6 W&B file(s), 0 media file(s), 0 artifact file(s) and 0 other file(s)"
      ],
      "text/plain": [
       "<IPython.core.display.HTML object>"
      ]
     },
     "metadata": {},
     "output_type": "display_data"
    },
    {
     "data": {
      "text/html": [
       "\n",
       "                    <br/>Synced <strong style=\"color:#cdcd00\">super-disco-211</strong>: <a href=\"https://wandb.ai/snovaisg/idrop_vs_rnn/runs/27qdqfyc\" target=\"_blank\">https://wandb.ai/snovaisg/idrop_vs_rnn/runs/27qdqfyc</a><br/>\n",
       "                "
      ],
      "text/plain": [
       "<IPython.core.display.HTML object>"
      ]
     },
     "metadata": {},
     "output_type": "display_data"
    },
    {
     "data": {
      "text/html": [
       "...Successfully finished last run (ID:27qdqfyc). Initializing new run:<br/><br/>"
      ],
      "text/plain": [
       "<IPython.core.display.HTML object>"
      ]
     },
     "metadata": {},
     "output_type": "display_data"
    },
    {
     "name": "stderr",
     "output_type": "stream",
     "text": [
      "\u001b[34m\u001b[1mwandb\u001b[0m: wandb version 0.12.2 is available!  To upgrade, please run:\n",
      "\u001b[34m\u001b[1mwandb\u001b[0m:  $ pip install wandb --upgrade\n"
     ]
    },
    {
     "data": {
      "text/html": [
       "\n",
       "                Tracking run with wandb version 0.12.1<br/>\n",
       "                Syncing run <strong style=\"color:#cdcd00\">elated-bee-212</strong> to <a href=\"https://wandb.ai\" target=\"_blank\">Weights & Biases</a> <a href=\"https://docs.wandb.com/integrations/jupyter.html\" target=\"_blank\">(Documentation)</a>.<br/>\n",
       "                Project page: <a href=\"https://wandb.ai/snovaisg/idrop_vs_rnn\" target=\"_blank\">https://wandb.ai/snovaisg/idrop_vs_rnn</a><br/>\n",
       "                Run page: <a href=\"https://wandb.ai/snovaisg/idrop_vs_rnn/runs/2vzmdpai\" target=\"_blank\">https://wandb.ai/snovaisg/idrop_vs_rnn/runs/2vzmdpai</a><br/>\n",
       "                Run data is saved locally in <code>/Users/simaonovais/Documents/GitHub/master-thesis/wandb/run-20210917_135252-2vzmdpai</code><br/><br/>\n",
       "            "
      ],
      "text/plain": [
       "<IPython.core.display.HTML object>"
      ]
     },
     "metadata": {},
     "output_type": "display_data"
    },
    {
     "data": {
      "text/html": [
       "<h1>Run(2vzmdpai)</h1><iframe src=\"https://wandb.ai/snovaisg/idrop_vs_rnn/runs/2vzmdpai\" style=\"border:none;width:100%;height:400px\"></iframe>"
      ],
      "text/plain": [
       "<wandb.sdk.wandb_run.Run at 0x1360be640>"
      ]
     },
     "execution_count": 70,
     "metadata": {},
     "output_type": "execute_result"
    },
    {
     "data": {
      "text/html": [
       "Finishing last run (ID:2vzmdpai) before initializing another..."
      ],
      "text/plain": [
       "<IPython.core.display.HTML object>"
      ]
     },
     "metadata": {},
     "output_type": "display_data"
    },
    {
     "data": {
      "text/html": [
       "<br/>Waiting for W&B process to finish, PID 40525<br/>Program ended successfully."
      ],
      "text/plain": [
       "<IPython.core.display.HTML object>"
      ]
     },
     "metadata": {},
     "output_type": "display_data"
    },
    {
     "data": {
      "text/html": [
       "Find user logs for this run at: <code>/Users/simaonovais/Documents/GitHub/master-thesis/wandb/run-20210917_135252-2vzmdpai/logs/debug.log</code>"
      ],
      "text/plain": [
       "<IPython.core.display.HTML object>"
      ]
     },
     "metadata": {},
     "output_type": "display_data"
    },
    {
     "data": {
      "text/html": [
       "Find internal logs for this run at: <code>/Users/simaonovais/Documents/GitHub/master-thesis/wandb/run-20210917_135252-2vzmdpai/logs/debug-internal.log</code>"
      ],
      "text/plain": [
       "<IPython.core.display.HTML object>"
      ]
     },
     "metadata": {},
     "output_type": "display_data"
    },
    {
     "data": {
      "text/html": [
       "<h3>Run summary:</h3><br/><style>\n",
       "    table.wandb td:nth-child(1) { padding: 0 10px; text-align: right }\n",
       "    </style><table class=\"wandb\">\n",
       "<tr><td>loss</td><td>0.03892</td></tr><tr><td>_runtime</td><td>51</td></tr><tr><td>_timestamp</td><td>1631883226</td></tr><tr><td>_step</td><td>15</td></tr><tr><td>train_loss</td><td>0.03853</td></tr><tr><td>train_recall@30</td><td>0.65871</td></tr><tr><td>val_loss</td><td>0.04161</td></tr><tr><td>recall@10</td><td>0.35319</td></tr><tr><td>recall@20</td><td>0.52392</td></tr><tr><td>recall@30</td><td>0.63438</td></tr></table>"
      ],
      "text/plain": [
       "<IPython.core.display.HTML object>"
      ]
     },
     "metadata": {},
     "output_type": "display_data"
    },
    {
     "data": {
      "text/html": [
       "<h3>Run history:</h3><br/><style>\n",
       "    table.wandb td:nth-child(1) { padding: 0 10px; text-align: right }\n",
       "    </style><table class=\"wandb\">\n",
       "<tr><td>loss</td><td>█▅▃▃▂▂▂▁▁▁▁▁▁▁▁</td></tr><tr><td>_runtime</td><td>▁▁▂▂▂▃▃▄▄▄▅▅▆▆▆█</td></tr><tr><td>_timestamp</td><td>▁▁▂▂▂▃▃▄▄▄▅▅▆▆▆█</td></tr><tr><td>_step</td><td>▁▁▂▂▃▃▄▄▅▅▆▆▇▇██</td></tr><tr><td>train_loss</td><td>▁</td></tr><tr><td>train_recall@30</td><td>▁</td></tr><tr><td>val_loss</td><td>▁</td></tr><tr><td>recall@10</td><td>▁</td></tr><tr><td>recall@20</td><td>▁</td></tr><tr><td>recall@30</td><td>▁</td></tr></table><br/>"
      ],
      "text/plain": [
       "<IPython.core.display.HTML object>"
      ]
     },
     "metadata": {},
     "output_type": "display_data"
    },
    {
     "data": {
      "text/html": [
       "Synced 6 W&B file(s), 0 media file(s), 0 artifact file(s) and 0 other file(s)"
      ],
      "text/plain": [
       "<IPython.core.display.HTML object>"
      ]
     },
     "metadata": {},
     "output_type": "display_data"
    },
    {
     "data": {
      "text/html": [
       "\n",
       "                    <br/>Synced <strong style=\"color:#cdcd00\">elated-bee-212</strong>: <a href=\"https://wandb.ai/snovaisg/idrop_vs_rnn/runs/2vzmdpai\" target=\"_blank\">https://wandb.ai/snovaisg/idrop_vs_rnn/runs/2vzmdpai</a><br/>\n",
       "                "
      ],
      "text/plain": [
       "<IPython.core.display.HTML object>"
      ]
     },
     "metadata": {},
     "output_type": "display_data"
    },
    {
     "data": {
      "text/html": [
       "...Successfully finished last run (ID:2vzmdpai). Initializing new run:<br/><br/>"
      ],
      "text/plain": [
       "<IPython.core.display.HTML object>"
      ]
     },
     "metadata": {},
     "output_type": "display_data"
    },
    {
     "name": "stderr",
     "output_type": "stream",
     "text": [
      "\u001b[34m\u001b[1mwandb\u001b[0m: wandb version 0.12.2 is available!  To upgrade, please run:\n",
      "\u001b[34m\u001b[1mwandb\u001b[0m:  $ pip install wandb --upgrade\n"
     ]
    },
    {
     "data": {
      "text/html": [
       "\n",
       "                Tracking run with wandb version 0.12.1<br/>\n",
       "                Syncing run <strong style=\"color:#cdcd00\">helpful-sunset-213</strong> to <a href=\"https://wandb.ai\" target=\"_blank\">Weights & Biases</a> <a href=\"https://docs.wandb.com/integrations/jupyter.html\" target=\"_blank\">(Documentation)</a>.<br/>\n",
       "                Project page: <a href=\"https://wandb.ai/snovaisg/idrop_vs_rnn\" target=\"_blank\">https://wandb.ai/snovaisg/idrop_vs_rnn</a><br/>\n",
       "                Run page: <a href=\"https://wandb.ai/snovaisg/idrop_vs_rnn/runs/8di514md\" target=\"_blank\">https://wandb.ai/snovaisg/idrop_vs_rnn/runs/8di514md</a><br/>\n",
       "                Run data is saved locally in <code>/Users/simaonovais/Documents/GitHub/master-thesis/wandb/run-20210917_135346-8di514md</code><br/><br/>\n",
       "            "
      ],
      "text/plain": [
       "<IPython.core.display.HTML object>"
      ]
     },
     "metadata": {},
     "output_type": "display_data"
    },
    {
     "data": {
      "text/html": [
       "<h1>Run(8di514md)</h1><iframe src=\"https://wandb.ai/snovaisg/idrop_vs_rnn/runs/8di514md\" style=\"border:none;width:100%;height:400px\"></iframe>"
      ],
      "text/plain": [
       "<wandb.sdk.wandb_run.Run at 0x1360a4df0>"
      ]
     },
     "execution_count": 70,
     "metadata": {},
     "output_type": "execute_result"
    },
    {
     "data": {
      "text/html": [
       "Finishing last run (ID:8di514md) before initializing another..."
      ],
      "text/plain": [
       "<IPython.core.display.HTML object>"
      ]
     },
     "metadata": {},
     "output_type": "display_data"
    },
    {
     "data": {
      "text/html": [
       "<br/>Waiting for W&B process to finish, PID 40654<br/>Program ended successfully."
      ],
      "text/plain": [
       "<IPython.core.display.HTML object>"
      ]
     },
     "metadata": {},
     "output_type": "display_data"
    },
    {
     "data": {
      "text/html": [
       "Find user logs for this run at: <code>/Users/simaonovais/Documents/GitHub/master-thesis/wandb/run-20210917_135346-8di514md/logs/debug.log</code>"
      ],
      "text/plain": [
       "<IPython.core.display.HTML object>"
      ]
     },
     "metadata": {},
     "output_type": "display_data"
    },
    {
     "data": {
      "text/html": [
       "Find internal logs for this run at: <code>/Users/simaonovais/Documents/GitHub/master-thesis/wandb/run-20210917_135346-8di514md/logs/debug-internal.log</code>"
      ],
      "text/plain": [
       "<IPython.core.display.HTML object>"
      ]
     },
     "metadata": {},
     "output_type": "display_data"
    },
    {
     "data": {
      "text/html": [
       "<h3>Run summary:</h3><br/><style>\n",
       "    table.wandb td:nth-child(1) { padding: 0 10px; text-align: right }\n",
       "    </style><table class=\"wandb\">\n",
       "<tr><td>loss</td><td>0.0353</td></tr><tr><td>_runtime</td><td>40</td></tr><tr><td>_timestamp</td><td>1631883270</td></tr><tr><td>_step</td><td>15</td></tr><tr><td>train_loss</td><td>0.03406</td></tr><tr><td>train_recall@30</td><td>0.75849</td></tr><tr><td>val_loss</td><td>0.03884</td></tr><tr><td>recall@10</td><td>0.43289</td></tr><tr><td>recall@20</td><td>0.60072</td></tr><tr><td>recall@30</td><td>0.70286</td></tr></table>"
      ],
      "text/plain": [
       "<IPython.core.display.HTML object>"
      ]
     },
     "metadata": {},
     "output_type": "display_data"
    },
    {
     "data": {
      "text/html": [
       "<h3>Run history:</h3><br/><style>\n",
       "    table.wandb td:nth-child(1) { padding: 0 10px; text-align: right }\n",
       "    </style><table class=\"wandb\">\n",
       "<tr><td>loss</td><td>█▅▃▃▂▂▂▁▁▁▁▁▁▁▁</td></tr><tr><td>_runtime</td><td>▁▂▂▂▃▃▄▄▅▅▅▆▆▆▇█</td></tr><tr><td>_timestamp</td><td>▁▂▂▂▃▃▄▄▅▅▅▆▆▆▇█</td></tr><tr><td>_step</td><td>▁▁▂▂▃▃▄▄▅▅▆▆▇▇██</td></tr><tr><td>train_loss</td><td>▁</td></tr><tr><td>train_recall@30</td><td>▁</td></tr><tr><td>val_loss</td><td>▁</td></tr><tr><td>recall@10</td><td>▁</td></tr><tr><td>recall@20</td><td>▁</td></tr><tr><td>recall@30</td><td>▁</td></tr></table><br/>"
      ],
      "text/plain": [
       "<IPython.core.display.HTML object>"
      ]
     },
     "metadata": {},
     "output_type": "display_data"
    },
    {
     "data": {
      "text/html": [
       "Synced 6 W&B file(s), 0 media file(s), 0 artifact file(s) and 0 other file(s)"
      ],
      "text/plain": [
       "<IPython.core.display.HTML object>"
      ]
     },
     "metadata": {},
     "output_type": "display_data"
    },
    {
     "data": {
      "text/html": [
       "\n",
       "                    <br/>Synced <strong style=\"color:#cdcd00\">helpful-sunset-213</strong>: <a href=\"https://wandb.ai/snovaisg/idrop_vs_rnn/runs/8di514md\" target=\"_blank\">https://wandb.ai/snovaisg/idrop_vs_rnn/runs/8di514md</a><br/>\n",
       "                "
      ],
      "text/plain": [
       "<IPython.core.display.HTML object>"
      ]
     },
     "metadata": {},
     "output_type": "display_data"
    },
    {
     "data": {
      "text/html": [
       "...Successfully finished last run (ID:8di514md). Initializing new run:<br/><br/>"
      ],
      "text/plain": [
       "<IPython.core.display.HTML object>"
      ]
     },
     "metadata": {},
     "output_type": "display_data"
    },
    {
     "name": "stderr",
     "output_type": "stream",
     "text": [
      "\u001b[34m\u001b[1mwandb\u001b[0m: wandb version 0.12.2 is available!  To upgrade, please run:\n",
      "\u001b[34m\u001b[1mwandb\u001b[0m:  $ pip install wandb --upgrade\n"
     ]
    },
    {
     "data": {
      "text/html": [
       "\n",
       "                Tracking run with wandb version 0.12.1<br/>\n",
       "                Syncing run <strong style=\"color:#cdcd00\">usual-lake-214</strong> to <a href=\"https://wandb.ai\" target=\"_blank\">Weights & Biases</a> <a href=\"https://docs.wandb.com/integrations/jupyter.html\" target=\"_blank\">(Documentation)</a>.<br/>\n",
       "                Project page: <a href=\"https://wandb.ai/snovaisg/idrop_vs_rnn\" target=\"_blank\">https://wandb.ai/snovaisg/idrop_vs_rnn</a><br/>\n",
       "                Run page: <a href=\"https://wandb.ai/snovaisg/idrop_vs_rnn/runs/25v8o9ei\" target=\"_blank\">https://wandb.ai/snovaisg/idrop_vs_rnn/runs/25v8o9ei</a><br/>\n",
       "                Run data is saved locally in <code>/Users/simaonovais/Documents/GitHub/master-thesis/wandb/run-20210917_135430-25v8o9ei</code><br/><br/>\n",
       "            "
      ],
      "text/plain": [
       "<IPython.core.display.HTML object>"
      ]
     },
     "metadata": {},
     "output_type": "display_data"
    },
    {
     "data": {
      "text/html": [
       "<h1>Run(25v8o9ei)</h1><iframe src=\"https://wandb.ai/snovaisg/idrop_vs_rnn/runs/25v8o9ei\" style=\"border:none;width:100%;height:400px\"></iframe>"
      ],
      "text/plain": [
       "<wandb.sdk.wandb_run.Run at 0x13cc10ee0>"
      ]
     },
     "execution_count": 70,
     "metadata": {},
     "output_type": "execute_result"
    },
    {
     "data": {
      "text/html": [
       "Finishing last run (ID:25v8o9ei) before initializing another..."
      ],
      "text/plain": [
       "<IPython.core.display.HTML object>"
      ]
     },
     "metadata": {},
     "output_type": "display_data"
    },
    {
     "data": {
      "text/html": [
       "<br/>Waiting for W&B process to finish, PID 40680<br/>Program ended successfully."
      ],
      "text/plain": [
       "<IPython.core.display.HTML object>"
      ]
     },
     "metadata": {},
     "output_type": "display_data"
    },
    {
     "data": {
      "text/html": [
       "Find user logs for this run at: <code>/Users/simaonovais/Documents/GitHub/master-thesis/wandb/run-20210917_135430-25v8o9ei/logs/debug.log</code>"
      ],
      "text/plain": [
       "<IPython.core.display.HTML object>"
      ]
     },
     "metadata": {},
     "output_type": "display_data"
    },
    {
     "data": {
      "text/html": [
       "Find internal logs for this run at: <code>/Users/simaonovais/Documents/GitHub/master-thesis/wandb/run-20210917_135430-25v8o9ei/logs/debug-internal.log</code>"
      ],
      "text/plain": [
       "<IPython.core.display.HTML object>"
      ]
     },
     "metadata": {},
     "output_type": "display_data"
    },
    {
     "data": {
      "text/html": [
       "<h3>Run summary:</h3><br/><style>\n",
       "    table.wandb td:nth-child(1) { padding: 0 10px; text-align: right }\n",
       "    </style><table class=\"wandb\">\n",
       "<tr><td>loss</td><td>0.03806</td></tr><tr><td>_runtime</td><td>44</td></tr><tr><td>_timestamp</td><td>1631883317</td></tr><tr><td>_step</td><td>15</td></tr><tr><td>train_loss</td><td>0.0367</td></tr><tr><td>train_recall@30</td><td>0.69586</td></tr><tr><td>val_loss</td><td>0.0404</td></tr><tr><td>recall@10</td><td>0.38752</td></tr><tr><td>recall@20</td><td>0.55589</td></tr><tr><td>recall@30</td><td>0.66601</td></tr></table>"
      ],
      "text/plain": [
       "<IPython.core.display.HTML object>"
      ]
     },
     "metadata": {},
     "output_type": "display_data"
    },
    {
     "data": {
      "text/html": [
       "<h3>Run history:</h3><br/><style>\n",
       "    table.wandb td:nth-child(1) { padding: 0 10px; text-align: right }\n",
       "    </style><table class=\"wandb\">\n",
       "<tr><td>loss</td><td>█▅▃▃▂▂▂▁▁▁▁▁▁▁▁</td></tr><tr><td>_runtime</td><td>▁▁▂▂▂▃▃▄▄▅▅▅▆▆▇█</td></tr><tr><td>_timestamp</td><td>▁▁▂▂▂▃▃▄▄▅▅▅▆▆▇█</td></tr><tr><td>_step</td><td>▁▁▂▂▃▃▄▄▅▅▆▆▇▇██</td></tr><tr><td>train_loss</td><td>▁</td></tr><tr><td>train_recall@30</td><td>▁</td></tr><tr><td>val_loss</td><td>▁</td></tr><tr><td>recall@10</td><td>▁</td></tr><tr><td>recall@20</td><td>▁</td></tr><tr><td>recall@30</td><td>▁</td></tr></table><br/>"
      ],
      "text/plain": [
       "<IPython.core.display.HTML object>"
      ]
     },
     "metadata": {},
     "output_type": "display_data"
    },
    {
     "data": {
      "text/html": [
       "Synced 6 W&B file(s), 0 media file(s), 0 artifact file(s) and 0 other file(s)"
      ],
      "text/plain": [
       "<IPython.core.display.HTML object>"
      ]
     },
     "metadata": {},
     "output_type": "display_data"
    },
    {
     "data": {
      "text/html": [
       "\n",
       "                    <br/>Synced <strong style=\"color:#cdcd00\">usual-lake-214</strong>: <a href=\"https://wandb.ai/snovaisg/idrop_vs_rnn/runs/25v8o9ei\" target=\"_blank\">https://wandb.ai/snovaisg/idrop_vs_rnn/runs/25v8o9ei</a><br/>\n",
       "                "
      ],
      "text/plain": [
       "<IPython.core.display.HTML object>"
      ]
     },
     "metadata": {},
     "output_type": "display_data"
    },
    {
     "data": {
      "text/html": [
       "...Successfully finished last run (ID:25v8o9ei). Initializing new run:<br/><br/>"
      ],
      "text/plain": [
       "<IPython.core.display.HTML object>"
      ]
     },
     "metadata": {},
     "output_type": "display_data"
    },
    {
     "name": "stderr",
     "output_type": "stream",
     "text": [
      "\u001b[34m\u001b[1mwandb\u001b[0m: wandb version 0.12.2 is available!  To upgrade, please run:\n",
      "\u001b[34m\u001b[1mwandb\u001b[0m:  $ pip install wandb --upgrade\n"
     ]
    },
    {
     "data": {
      "text/html": [
       "\n",
       "                Tracking run with wandb version 0.12.1<br/>\n",
       "                Syncing run <strong style=\"color:#cdcd00\">sage-thunder-215</strong> to <a href=\"https://wandb.ai\" target=\"_blank\">Weights & Biases</a> <a href=\"https://docs.wandb.com/integrations/jupyter.html\" target=\"_blank\">(Documentation)</a>.<br/>\n",
       "                Project page: <a href=\"https://wandb.ai/snovaisg/idrop_vs_rnn\" target=\"_blank\">https://wandb.ai/snovaisg/idrop_vs_rnn</a><br/>\n",
       "                Run page: <a href=\"https://wandb.ai/snovaisg/idrop_vs_rnn/runs/2nna5la5\" target=\"_blank\">https://wandb.ai/snovaisg/idrop_vs_rnn/runs/2nna5la5</a><br/>\n",
       "                Run data is saved locally in <code>/Users/simaonovais/Documents/GitHub/master-thesis/wandb/run-20210917_135517-2nna5la5</code><br/><br/>\n",
       "            "
      ],
      "text/plain": [
       "<IPython.core.display.HTML object>"
      ]
     },
     "metadata": {},
     "output_type": "display_data"
    },
    {
     "data": {
      "text/html": [
       "<h1>Run(2nna5la5)</h1><iframe src=\"https://wandb.ai/snovaisg/idrop_vs_rnn/runs/2nna5la5\" style=\"border:none;width:100%;height:400px\"></iframe>"
      ],
      "text/plain": [
       "<wandb.sdk.wandb_run.Run at 0x13cc087f0>"
      ]
     },
     "execution_count": 70,
     "metadata": {},
     "output_type": "execute_result"
    },
    {
     "data": {
      "text/html": [
       "Finishing last run (ID:2nna5la5) before initializing another..."
      ],
      "text/plain": [
       "<IPython.core.display.HTML object>"
      ]
     },
     "metadata": {},
     "output_type": "display_data"
    },
    {
     "data": {
      "text/html": [
       "<br/>Waiting for W&B process to finish, PID 40701<br/>Program ended successfully."
      ],
      "text/plain": [
       "<IPython.core.display.HTML object>"
      ]
     },
     "metadata": {},
     "output_type": "display_data"
    },
    {
     "data": {
      "text/html": [
       "Find user logs for this run at: <code>/Users/simaonovais/Documents/GitHub/master-thesis/wandb/run-20210917_135517-2nna5la5/logs/debug.log</code>"
      ],
      "text/plain": [
       "<IPython.core.display.HTML object>"
      ]
     },
     "metadata": {},
     "output_type": "display_data"
    },
    {
     "data": {
      "text/html": [
       "Find internal logs for this run at: <code>/Users/simaonovais/Documents/GitHub/master-thesis/wandb/run-20210917_135517-2nna5la5/logs/debug-internal.log</code>"
      ],
      "text/plain": [
       "<IPython.core.display.HTML object>"
      ]
     },
     "metadata": {},
     "output_type": "display_data"
    },
    {
     "data": {
      "text/html": [
       "<h3>Run summary:</h3><br/><style>\n",
       "    table.wandb td:nth-child(1) { padding: 0 10px; text-align: right }\n",
       "    </style><table class=\"wandb\">\n",
       "<tr><td>loss</td><td>0.03532</td></tr><tr><td>_runtime</td><td>44</td></tr><tr><td>_timestamp</td><td>1631883364</td></tr><tr><td>_step</td><td>15</td></tr><tr><td>train_loss</td><td>0.03366</td></tr><tr><td>train_recall@30</td><td>0.76279</td></tr><tr><td>val_loss</td><td>0.0385</td></tr><tr><td>recall@10</td><td>0.43536</td></tr><tr><td>recall@20</td><td>0.60489</td></tr><tr><td>recall@30</td><td>0.70891</td></tr></table>"
      ],
      "text/plain": [
       "<IPython.core.display.HTML object>"
      ]
     },
     "metadata": {},
     "output_type": "display_data"
    },
    {
     "data": {
      "text/html": [
       "<h3>Run history:</h3><br/><style>\n",
       "    table.wandb td:nth-child(1) { padding: 0 10px; text-align: right }\n",
       "    </style><table class=\"wandb\">\n",
       "<tr><td>loss</td><td>█▅▃▃▂▂▂▁▁▁▁▁▁▁▁</td></tr><tr><td>_runtime</td><td>▁▁▂▂▂▃▃▃▄▄▄▅▅▆▆█</td></tr><tr><td>_timestamp</td><td>▁▁▂▂▂▃▃▃▄▄▄▅▅▆▆█</td></tr><tr><td>_step</td><td>▁▁▂▂▃▃▄▄▅▅▆▆▇▇██</td></tr><tr><td>train_loss</td><td>▁</td></tr><tr><td>train_recall@30</td><td>▁</td></tr><tr><td>val_loss</td><td>▁</td></tr><tr><td>recall@10</td><td>▁</td></tr><tr><td>recall@20</td><td>▁</td></tr><tr><td>recall@30</td><td>▁</td></tr></table><br/>"
      ],
      "text/plain": [
       "<IPython.core.display.HTML object>"
      ]
     },
     "metadata": {},
     "output_type": "display_data"
    },
    {
     "data": {
      "text/html": [
       "Synced 6 W&B file(s), 0 media file(s), 0 artifact file(s) and 0 other file(s)"
      ],
      "text/plain": [
       "<IPython.core.display.HTML object>"
      ]
     },
     "metadata": {},
     "output_type": "display_data"
    },
    {
     "data": {
      "text/html": [
       "\n",
       "                    <br/>Synced <strong style=\"color:#cdcd00\">sage-thunder-215</strong>: <a href=\"https://wandb.ai/snovaisg/idrop_vs_rnn/runs/2nna5la5\" target=\"_blank\">https://wandb.ai/snovaisg/idrop_vs_rnn/runs/2nna5la5</a><br/>\n",
       "                "
      ],
      "text/plain": [
       "<IPython.core.display.HTML object>"
      ]
     },
     "metadata": {},
     "output_type": "display_data"
    },
    {
     "data": {
      "text/html": [
       "...Successfully finished last run (ID:2nna5la5). Initializing new run:<br/><br/>"
      ],
      "text/plain": [
       "<IPython.core.display.HTML object>"
      ]
     },
     "metadata": {},
     "output_type": "display_data"
    },
    {
     "name": "stderr",
     "output_type": "stream",
     "text": [
      "\u001b[34m\u001b[1mwandb\u001b[0m: wandb version 0.12.2 is available!  To upgrade, please run:\n",
      "\u001b[34m\u001b[1mwandb\u001b[0m:  $ pip install wandb --upgrade\n"
     ]
    },
    {
     "data": {
      "text/html": [
       "\n",
       "                Tracking run with wandb version 0.12.1<br/>\n",
       "                Syncing run <strong style=\"color:#cdcd00\">fearless-yogurt-216</strong> to <a href=\"https://wandb.ai\" target=\"_blank\">Weights & Biases</a> <a href=\"https://docs.wandb.com/integrations/jupyter.html\" target=\"_blank\">(Documentation)</a>.<br/>\n",
       "                Project page: <a href=\"https://wandb.ai/snovaisg/idrop_vs_rnn\" target=\"_blank\">https://wandb.ai/snovaisg/idrop_vs_rnn</a><br/>\n",
       "                Run page: <a href=\"https://wandb.ai/snovaisg/idrop_vs_rnn/runs/1apu98ws\" target=\"_blank\">https://wandb.ai/snovaisg/idrop_vs_rnn/runs/1apu98ws</a><br/>\n",
       "                Run data is saved locally in <code>/Users/simaonovais/Documents/GitHub/master-thesis/wandb/run-20210917_135604-1apu98ws</code><br/><br/>\n",
       "            "
      ],
      "text/plain": [
       "<IPython.core.display.HTML object>"
      ]
     },
     "metadata": {},
     "output_type": "display_data"
    },
    {
     "data": {
      "text/html": [
       "<h1>Run(1apu98ws)</h1><iframe src=\"https://wandb.ai/snovaisg/idrop_vs_rnn/runs/1apu98ws\" style=\"border:none;width:100%;height:400px\"></iframe>"
      ],
      "text/plain": [
       "<wandb.sdk.wandb_run.Run at 0x13cc06cd0>"
      ]
     },
     "execution_count": 70,
     "metadata": {},
     "output_type": "execute_result"
    },
    {
     "data": {
      "text/html": [
       "Finishing last run (ID:1apu98ws) before initializing another..."
      ],
      "text/plain": [
       "<IPython.core.display.HTML object>"
      ]
     },
     "metadata": {},
     "output_type": "display_data"
    },
    {
     "data": {
      "text/html": [
       "<br/>Waiting for W&B process to finish, PID 40781<br/>Program ended successfully."
      ],
      "text/plain": [
       "<IPython.core.display.HTML object>"
      ]
     },
     "metadata": {},
     "output_type": "display_data"
    },
    {
     "data": {
      "text/html": [
       "Find user logs for this run at: <code>/Users/simaonovais/Documents/GitHub/master-thesis/wandb/run-20210917_135604-1apu98ws/logs/debug.log</code>"
      ],
      "text/plain": [
       "<IPython.core.display.HTML object>"
      ]
     },
     "metadata": {},
     "output_type": "display_data"
    },
    {
     "data": {
      "text/html": [
       "Find internal logs for this run at: <code>/Users/simaonovais/Documents/GitHub/master-thesis/wandb/run-20210917_135604-1apu98ws/logs/debug-internal.log</code>"
      ],
      "text/plain": [
       "<IPython.core.display.HTML object>"
      ]
     },
     "metadata": {},
     "output_type": "display_data"
    },
    {
     "data": {
      "text/html": [
       "<h3>Run summary:</h3><br/><style>\n",
       "    table.wandb td:nth-child(1) { padding: 0 10px; text-align: right }\n",
       "    </style><table class=\"wandb\">\n",
       "<tr><td>loss</td><td>0.0383</td></tr><tr><td>_runtime</td><td>64</td></tr><tr><td>_timestamp</td><td>1631883432</td></tr><tr><td>_step</td><td>15</td></tr><tr><td>train_loss</td><td>0.03769</td></tr><tr><td>train_recall@30</td><td>0.66987</td></tr><tr><td>val_loss</td><td>0.04086</td></tr><tr><td>recall@10</td><td>0.36964</td></tr><tr><td>recall@20</td><td>0.53567</td></tr><tr><td>recall@30</td><td>0.64565</td></tr></table>"
      ],
      "text/plain": [
       "<IPython.core.display.HTML object>"
      ]
     },
     "metadata": {},
     "output_type": "display_data"
    },
    {
     "data": {
      "text/html": [
       "<h3>Run history:</h3><br/><style>\n",
       "    table.wandb td:nth-child(1) { padding: 0 10px; text-align: right }\n",
       "    </style><table class=\"wandb\">\n",
       "<tr><td>loss</td><td>█▅▃▃▂▂▂▁▁▁▁▁▁▁▁</td></tr><tr><td>_runtime</td><td>▁▁▂▂▃▃▃▄▄▅▅▅▆▆▆█</td></tr><tr><td>_timestamp</td><td>▁▁▂▂▃▃▃▄▄▅▅▅▆▆▆█</td></tr><tr><td>_step</td><td>▁▁▂▂▃▃▄▄▅▅▆▆▇▇██</td></tr><tr><td>train_loss</td><td>▁</td></tr><tr><td>train_recall@30</td><td>▁</td></tr><tr><td>val_loss</td><td>▁</td></tr><tr><td>recall@10</td><td>▁</td></tr><tr><td>recall@20</td><td>▁</td></tr><tr><td>recall@30</td><td>▁</td></tr></table><br/>"
      ],
      "text/plain": [
       "<IPython.core.display.HTML object>"
      ]
     },
     "metadata": {},
     "output_type": "display_data"
    },
    {
     "data": {
      "text/html": [
       "Synced 6 W&B file(s), 0 media file(s), 0 artifact file(s) and 0 other file(s)"
      ],
      "text/plain": [
       "<IPython.core.display.HTML object>"
      ]
     },
     "metadata": {},
     "output_type": "display_data"
    },
    {
     "data": {
      "text/html": [
       "\n",
       "                    <br/>Synced <strong style=\"color:#cdcd00\">fearless-yogurt-216</strong>: <a href=\"https://wandb.ai/snovaisg/idrop_vs_rnn/runs/1apu98ws\" target=\"_blank\">https://wandb.ai/snovaisg/idrop_vs_rnn/runs/1apu98ws</a><br/>\n",
       "                "
      ],
      "text/plain": [
       "<IPython.core.display.HTML object>"
      ]
     },
     "metadata": {},
     "output_type": "display_data"
    },
    {
     "data": {
      "text/html": [
       "...Successfully finished last run (ID:1apu98ws). Initializing new run:<br/><br/>"
      ],
      "text/plain": [
       "<IPython.core.display.HTML object>"
      ]
     },
     "metadata": {},
     "output_type": "display_data"
    },
    {
     "name": "stderr",
     "output_type": "stream",
     "text": [
      "\u001b[34m\u001b[1mwandb\u001b[0m: wandb version 0.12.2 is available!  To upgrade, please run:\n",
      "\u001b[34m\u001b[1mwandb\u001b[0m:  $ pip install wandb --upgrade\n"
     ]
    },
    {
     "data": {
      "text/html": [
       "\n",
       "                Tracking run with wandb version 0.12.1<br/>\n",
       "                Syncing run <strong style=\"color:#cdcd00\">dutiful-morning-217</strong> to <a href=\"https://wandb.ai\" target=\"_blank\">Weights & Biases</a> <a href=\"https://docs.wandb.com/integrations/jupyter.html\" target=\"_blank\">(Documentation)</a>.<br/>\n",
       "                Project page: <a href=\"https://wandb.ai/snovaisg/idrop_vs_rnn\" target=\"_blank\">https://wandb.ai/snovaisg/idrop_vs_rnn</a><br/>\n",
       "                Run page: <a href=\"https://wandb.ai/snovaisg/idrop_vs_rnn/runs/254i6kwu\" target=\"_blank\">https://wandb.ai/snovaisg/idrop_vs_rnn/runs/254i6kwu</a><br/>\n",
       "                Run data is saved locally in <code>/Users/simaonovais/Documents/GitHub/master-thesis/wandb/run-20210917_135712-254i6kwu</code><br/><br/>\n",
       "            "
      ],
      "text/plain": [
       "<IPython.core.display.HTML object>"
      ]
     },
     "metadata": {},
     "output_type": "display_data"
    },
    {
     "data": {
      "text/html": [
       "<h1>Run(254i6kwu)</h1><iframe src=\"https://wandb.ai/snovaisg/idrop_vs_rnn/runs/254i6kwu\" style=\"border:none;width:100%;height:400px\"></iframe>"
      ],
      "text/plain": [
       "<wandb.sdk.wandb_run.Run at 0x13cc27190>"
      ]
     },
     "execution_count": 70,
     "metadata": {},
     "output_type": "execute_result"
    },
    {
     "data": {
      "text/html": [
       "Finishing last run (ID:254i6kwu) before initializing another..."
      ],
      "text/plain": [
       "<IPython.core.display.HTML object>"
      ]
     },
     "metadata": {},
     "output_type": "display_data"
    },
    {
     "data": {
      "text/html": [
       "<br/>Waiting for W&B process to finish, PID 40949<br/>Program ended successfully."
      ],
      "text/plain": [
       "<IPython.core.display.HTML object>"
      ]
     },
     "metadata": {},
     "output_type": "display_data"
    },
    {
     "data": {
      "text/html": [
       "Find user logs for this run at: <code>/Users/simaonovais/Documents/GitHub/master-thesis/wandb/run-20210917_135712-254i6kwu/logs/debug.log</code>"
      ],
      "text/plain": [
       "<IPython.core.display.HTML object>"
      ]
     },
     "metadata": {},
     "output_type": "display_data"
    },
    {
     "data": {
      "text/html": [
       "Find internal logs for this run at: <code>/Users/simaonovais/Documents/GitHub/master-thesis/wandb/run-20210917_135712-254i6kwu/logs/debug-internal.log</code>"
      ],
      "text/plain": [
       "<IPython.core.display.HTML object>"
      ]
     },
     "metadata": {},
     "output_type": "display_data"
    },
    {
     "data": {
      "text/html": [
       "<h3>Run summary:</h3><br/><style>\n",
       "    table.wandb td:nth-child(1) { padding: 0 10px; text-align: right }\n",
       "    </style><table class=\"wandb\">\n",
       "<tr><td>loss</td><td>0.03923</td></tr><tr><td>_runtime</td><td>45</td></tr><tr><td>_timestamp</td><td>1631883480</td></tr><tr><td>_step</td><td>15</td></tr><tr><td>train_loss</td><td>0.03598</td></tr><tr><td>train_recall@30</td><td>0.72903</td></tr><tr><td>val_loss</td><td>0.0416</td></tr><tr><td>recall@10</td><td>0.38633</td></tr><tr><td>recall@20</td><td>0.55336</td></tr><tr><td>recall@30</td><td>0.66197</td></tr></table>"
      ],
      "text/plain": [
       "<IPython.core.display.HTML object>"
      ]
     },
     "metadata": {},
     "output_type": "display_data"
    },
    {
     "data": {
      "text/html": [
       "<h3>Run history:</h3><br/><style>\n",
       "    table.wandb td:nth-child(1) { padding: 0 10px; text-align: right }\n",
       "    </style><table class=\"wandb\">\n",
       "<tr><td>loss</td><td>█▅▃▃▂▂▂▁▁▁▁▁▁▁▁</td></tr><tr><td>_runtime</td><td>▁▂▂▃▃▄▄▄▅▅▅▆▆▆▇█</td></tr><tr><td>_timestamp</td><td>▁▂▂▃▃▄▄▄▅▅▅▆▆▆▇█</td></tr><tr><td>_step</td><td>▁▁▂▂▃▃▄▄▅▅▆▆▇▇██</td></tr><tr><td>train_loss</td><td>▁</td></tr><tr><td>train_recall@30</td><td>▁</td></tr><tr><td>val_loss</td><td>▁</td></tr><tr><td>recall@10</td><td>▁</td></tr><tr><td>recall@20</td><td>▁</td></tr><tr><td>recall@30</td><td>▁</td></tr></table><br/>"
      ],
      "text/plain": [
       "<IPython.core.display.HTML object>"
      ]
     },
     "metadata": {},
     "output_type": "display_data"
    },
    {
     "data": {
      "text/html": [
       "Synced 6 W&B file(s), 0 media file(s), 0 artifact file(s) and 0 other file(s)"
      ],
      "text/plain": [
       "<IPython.core.display.HTML object>"
      ]
     },
     "metadata": {},
     "output_type": "display_data"
    },
    {
     "data": {
      "text/html": [
       "\n",
       "                    <br/>Synced <strong style=\"color:#cdcd00\">dutiful-morning-217</strong>: <a href=\"https://wandb.ai/snovaisg/idrop_vs_rnn/runs/254i6kwu\" target=\"_blank\">https://wandb.ai/snovaisg/idrop_vs_rnn/runs/254i6kwu</a><br/>\n",
       "                "
      ],
      "text/plain": [
       "<IPython.core.display.HTML object>"
      ]
     },
     "metadata": {},
     "output_type": "display_data"
    },
    {
     "data": {
      "text/html": [
       "...Successfully finished last run (ID:254i6kwu). Initializing new run:<br/><br/>"
      ],
      "text/plain": [
       "<IPython.core.display.HTML object>"
      ]
     },
     "metadata": {},
     "output_type": "display_data"
    },
    {
     "name": "stderr",
     "output_type": "stream",
     "text": [
      "\u001b[34m\u001b[1mwandb\u001b[0m: wandb version 0.12.2 is available!  To upgrade, please run:\n",
      "\u001b[34m\u001b[1mwandb\u001b[0m:  $ pip install wandb --upgrade\n"
     ]
    },
    {
     "data": {
      "text/html": [
       "\n",
       "                Tracking run with wandb version 0.12.1<br/>\n",
       "                Syncing run <strong style=\"color:#cdcd00\">peach-sun-218</strong> to <a href=\"https://wandb.ai\" target=\"_blank\">Weights & Biases</a> <a href=\"https://docs.wandb.com/integrations/jupyter.html\" target=\"_blank\">(Documentation)</a>.<br/>\n",
       "                Project page: <a href=\"https://wandb.ai/snovaisg/idrop_vs_rnn\" target=\"_blank\">https://wandb.ai/snovaisg/idrop_vs_rnn</a><br/>\n",
       "                Run page: <a href=\"https://wandb.ai/snovaisg/idrop_vs_rnn/runs/2dmgotuv\" target=\"_blank\">https://wandb.ai/snovaisg/idrop_vs_rnn/runs/2dmgotuv</a><br/>\n",
       "                Run data is saved locally in <code>/Users/simaonovais/Documents/GitHub/master-thesis/wandb/run-20210917_135800-2dmgotuv</code><br/><br/>\n",
       "            "
      ],
      "text/plain": [
       "<IPython.core.display.HTML object>"
      ]
     },
     "metadata": {},
     "output_type": "display_data"
    },
    {
     "data": {
      "text/html": [
       "<h1>Run(2dmgotuv)</h1><iframe src=\"https://wandb.ai/snovaisg/idrop_vs_rnn/runs/2dmgotuv\" style=\"border:none;width:100%;height:400px\"></iframe>"
      ],
      "text/plain": [
       "<wandb.sdk.wandb_run.Run at 0x13cc2d730>"
      ]
     },
     "execution_count": 70,
     "metadata": {},
     "output_type": "execute_result"
    },
    {
     "data": {
      "text/html": [
       "Finishing last run (ID:2dmgotuv) before initializing another..."
      ],
      "text/plain": [
       "<IPython.core.display.HTML object>"
      ]
     },
     "metadata": {},
     "output_type": "display_data"
    },
    {
     "data": {
      "text/html": [
       "<br/>Waiting for W&B process to finish, PID 41025<br/>Program ended successfully."
      ],
      "text/plain": [
       "<IPython.core.display.HTML object>"
      ]
     },
     "metadata": {},
     "output_type": "display_data"
    },
    {
     "data": {
      "text/html": [
       "Find user logs for this run at: <code>/Users/simaonovais/Documents/GitHub/master-thesis/wandb/run-20210917_135800-2dmgotuv/logs/debug.log</code>"
      ],
      "text/plain": [
       "<IPython.core.display.HTML object>"
      ]
     },
     "metadata": {},
     "output_type": "display_data"
    },
    {
     "data": {
      "text/html": [
       "Find internal logs for this run at: <code>/Users/simaonovais/Documents/GitHub/master-thesis/wandb/run-20210917_135800-2dmgotuv/logs/debug-internal.log</code>"
      ],
      "text/plain": [
       "<IPython.core.display.HTML object>"
      ]
     },
     "metadata": {},
     "output_type": "display_data"
    },
    {
     "data": {
      "text/html": [
       "<h3>Run summary:</h3><br/><style>\n",
       "    table.wandb td:nth-child(1) { padding: 0 10px; text-align: right }\n",
       "    </style><table class=\"wandb\">\n",
       "<tr><td>loss</td><td>0.04117</td></tr><tr><td>_runtime</td><td>43</td></tr><tr><td>_timestamp</td><td>1631883526</td></tr><tr><td>_step</td><td>15</td></tr><tr><td>train_loss</td><td>0.04069</td></tr><tr><td>train_recall@30</td><td>0.63203</td></tr><tr><td>val_loss</td><td>0.0447</td></tr><tr><td>recall@10</td><td>0.31135</td></tr><tr><td>recall@20</td><td>0.48326</td></tr><tr><td>recall@30</td><td>0.60041</td></tr></table>"
      ],
      "text/plain": [
       "<IPython.core.display.HTML object>"
      ]
     },
     "metadata": {},
     "output_type": "display_data"
    },
    {
     "data": {
      "text/html": [
       "<h3>Run history:</h3><br/><style>\n",
       "    table.wandb td:nth-child(1) { padding: 0 10px; text-align: right }\n",
       "    </style><table class=\"wandb\">\n",
       "<tr><td>loss</td><td>█▅▃▃▂▂▂▁▁▁▁▁▁▁▁</td></tr><tr><td>_runtime</td><td>▁▁▂▂▃▃▃▄▄▅▅▆▆▆▇█</td></tr><tr><td>_timestamp</td><td>▁▁▂▂▃▃▃▄▄▅▅▆▆▆▇█</td></tr><tr><td>_step</td><td>▁▁▂▂▃▃▄▄▅▅▆▆▇▇██</td></tr><tr><td>train_loss</td><td>▁</td></tr><tr><td>train_recall@30</td><td>▁</td></tr><tr><td>val_loss</td><td>▁</td></tr><tr><td>recall@10</td><td>▁</td></tr><tr><td>recall@20</td><td>▁</td></tr><tr><td>recall@30</td><td>▁</td></tr></table><br/>"
      ],
      "text/plain": [
       "<IPython.core.display.HTML object>"
      ]
     },
     "metadata": {},
     "output_type": "display_data"
    },
    {
     "data": {
      "text/html": [
       "Synced 6 W&B file(s), 0 media file(s), 0 artifact file(s) and 0 other file(s)"
      ],
      "text/plain": [
       "<IPython.core.display.HTML object>"
      ]
     },
     "metadata": {},
     "output_type": "display_data"
    },
    {
     "data": {
      "text/html": [
       "\n",
       "                    <br/>Synced <strong style=\"color:#cdcd00\">peach-sun-218</strong>: <a href=\"https://wandb.ai/snovaisg/idrop_vs_rnn/runs/2dmgotuv\" target=\"_blank\">https://wandb.ai/snovaisg/idrop_vs_rnn/runs/2dmgotuv</a><br/>\n",
       "                "
      ],
      "text/plain": [
       "<IPython.core.display.HTML object>"
      ]
     },
     "metadata": {},
     "output_type": "display_data"
    },
    {
     "data": {
      "text/html": [
       "...Successfully finished last run (ID:2dmgotuv). Initializing new run:<br/><br/>"
      ],
      "text/plain": [
       "<IPython.core.display.HTML object>"
      ]
     },
     "metadata": {},
     "output_type": "display_data"
    },
    {
     "name": "stderr",
     "output_type": "stream",
     "text": [
      "\u001b[34m\u001b[1mwandb\u001b[0m: wandb version 0.12.2 is available!  To upgrade, please run:\n",
      "\u001b[34m\u001b[1mwandb\u001b[0m:  $ pip install wandb --upgrade\n"
     ]
    },
    {
     "data": {
      "text/html": [
       "\n",
       "                Tracking run with wandb version 0.12.1<br/>\n",
       "                Syncing run <strong style=\"color:#cdcd00\">fanciful-planet-219</strong> to <a href=\"https://wandb.ai\" target=\"_blank\">Weights & Biases</a> <a href=\"https://docs.wandb.com/integrations/jupyter.html\" target=\"_blank\">(Documentation)</a>.<br/>\n",
       "                Project page: <a href=\"https://wandb.ai/snovaisg/idrop_vs_rnn\" target=\"_blank\">https://wandb.ai/snovaisg/idrop_vs_rnn</a><br/>\n",
       "                Run page: <a href=\"https://wandb.ai/snovaisg/idrop_vs_rnn/runs/1r0o07u1\" target=\"_blank\">https://wandb.ai/snovaisg/idrop_vs_rnn/runs/1r0o07u1</a><br/>\n",
       "                Run data is saved locally in <code>/Users/simaonovais/Documents/GitHub/master-thesis/wandb/run-20210917_135846-1r0o07u1</code><br/><br/>\n",
       "            "
      ],
      "text/plain": [
       "<IPython.core.display.HTML object>"
      ]
     },
     "metadata": {},
     "output_type": "display_data"
    },
    {
     "data": {
      "text/html": [
       "<h1>Run(1r0o07u1)</h1><iframe src=\"https://wandb.ai/snovaisg/idrop_vs_rnn/runs/1r0o07u1\" style=\"border:none;width:100%;height:400px\"></iframe>"
      ],
      "text/plain": [
       "<wandb.sdk.wandb_run.Run at 0x13cc0c760>"
      ]
     },
     "execution_count": 70,
     "metadata": {},
     "output_type": "execute_result"
    },
    {
     "data": {
      "text/html": [
       "Finishing last run (ID:1r0o07u1) before initializing another..."
      ],
      "text/plain": [
       "<IPython.core.display.HTML object>"
      ]
     },
     "metadata": {},
     "output_type": "display_data"
    },
    {
     "data": {
      "text/html": [
       "<br/>Waiting for W&B process to finish, PID 41051<br/>Program ended successfully."
      ],
      "text/plain": [
       "<IPython.core.display.HTML object>"
      ]
     },
     "metadata": {},
     "output_type": "display_data"
    },
    {
     "data": {
      "text/html": [
       "Find user logs for this run at: <code>/Users/simaonovais/Documents/GitHub/master-thesis/wandb/run-20210917_135846-1r0o07u1/logs/debug.log</code>"
      ],
      "text/plain": [
       "<IPython.core.display.HTML object>"
      ]
     },
     "metadata": {},
     "output_type": "display_data"
    },
    {
     "data": {
      "text/html": [
       "Find internal logs for this run at: <code>/Users/simaonovais/Documents/GitHub/master-thesis/wandb/run-20210917_135846-1r0o07u1/logs/debug-internal.log</code>"
      ],
      "text/plain": [
       "<IPython.core.display.HTML object>"
      ]
     },
     "metadata": {},
     "output_type": "display_data"
    },
    {
     "data": {
      "text/html": [
       "<h3>Run summary:</h3><br/><style>\n",
       "    table.wandb td:nth-child(1) { padding: 0 10px; text-align: right }\n",
       "    </style><table class=\"wandb\">\n",
       "<tr><td>loss</td><td>0.03431</td></tr><tr><td>_runtime</td><td>44</td></tr><tr><td>_timestamp</td><td>1631883574</td></tr><tr><td>_step</td><td>15</td></tr><tr><td>train_loss</td><td>0.03208</td></tr><tr><td>train_recall@30</td><td>0.80147</td></tr><tr><td>val_loss</td><td>0.03897</td></tr><tr><td>recall@10</td><td>0.43367</td></tr><tr><td>recall@20</td><td>0.59875</td></tr><tr><td>recall@30</td><td>0.70275</td></tr></table>"
      ],
      "text/plain": [
       "<IPython.core.display.HTML object>"
      ]
     },
     "metadata": {},
     "output_type": "display_data"
    },
    {
     "data": {
      "text/html": [
       "<h3>Run history:</h3><br/><style>\n",
       "    table.wandb td:nth-child(1) { padding: 0 10px; text-align: right }\n",
       "    </style><table class=\"wandb\">\n",
       "<tr><td>loss</td><td>█▅▃▃▂▂▂▁▁▁▁▁▁▁▁</td></tr><tr><td>_runtime</td><td>▁▂▂▂▃▃▃▄▄▅▅▅▆▆▇█</td></tr><tr><td>_timestamp</td><td>▁▂▂▂▃▃▃▄▄▅▅▅▆▆▇█</td></tr><tr><td>_step</td><td>▁▁▂▂▃▃▄▄▅▅▆▆▇▇██</td></tr><tr><td>train_loss</td><td>▁</td></tr><tr><td>train_recall@30</td><td>▁</td></tr><tr><td>val_loss</td><td>▁</td></tr><tr><td>recall@10</td><td>▁</td></tr><tr><td>recall@20</td><td>▁</td></tr><tr><td>recall@30</td><td>▁</td></tr></table><br/>"
      ],
      "text/plain": [
       "<IPython.core.display.HTML object>"
      ]
     },
     "metadata": {},
     "output_type": "display_data"
    },
    {
     "data": {
      "text/html": [
       "Synced 6 W&B file(s), 0 media file(s), 0 artifact file(s) and 0 other file(s)"
      ],
      "text/plain": [
       "<IPython.core.display.HTML object>"
      ]
     },
     "metadata": {},
     "output_type": "display_data"
    },
    {
     "data": {
      "text/html": [
       "\n",
       "                    <br/>Synced <strong style=\"color:#cdcd00\">fanciful-planet-219</strong>: <a href=\"https://wandb.ai/snovaisg/idrop_vs_rnn/runs/1r0o07u1\" target=\"_blank\">https://wandb.ai/snovaisg/idrop_vs_rnn/runs/1r0o07u1</a><br/>\n",
       "                "
      ],
      "text/plain": [
       "<IPython.core.display.HTML object>"
      ]
     },
     "metadata": {},
     "output_type": "display_data"
    },
    {
     "data": {
      "text/html": [
       "...Successfully finished last run (ID:1r0o07u1). Initializing new run:<br/><br/>"
      ],
      "text/plain": [
       "<IPython.core.display.HTML object>"
      ]
     },
     "metadata": {},
     "output_type": "display_data"
    },
    {
     "name": "stderr",
     "output_type": "stream",
     "text": [
      "\u001b[34m\u001b[1mwandb\u001b[0m: wandb version 0.12.2 is available!  To upgrade, please run:\n",
      "\u001b[34m\u001b[1mwandb\u001b[0m:  $ pip install wandb --upgrade\n"
     ]
    },
    {
     "data": {
      "text/html": [
       "\n",
       "                Tracking run with wandb version 0.12.1<br/>\n",
       "                Syncing run <strong style=\"color:#cdcd00\">crisp-deluge-220</strong> to <a href=\"https://wandb.ai\" target=\"_blank\">Weights & Biases</a> <a href=\"https://docs.wandb.com/integrations/jupyter.html\" target=\"_blank\">(Documentation)</a>.<br/>\n",
       "                Project page: <a href=\"https://wandb.ai/snovaisg/idrop_vs_rnn\" target=\"_blank\">https://wandb.ai/snovaisg/idrop_vs_rnn</a><br/>\n",
       "                Run page: <a href=\"https://wandb.ai/snovaisg/idrop_vs_rnn/runs/iaq151wo\" target=\"_blank\">https://wandb.ai/snovaisg/idrop_vs_rnn/runs/iaq151wo</a><br/>\n",
       "                Run data is saved locally in <code>/Users/simaonovais/Documents/GitHub/master-thesis/wandb/run-20210917_135934-iaq151wo</code><br/><br/>\n",
       "            "
      ],
      "text/plain": [
       "<IPython.core.display.HTML object>"
      ]
     },
     "metadata": {},
     "output_type": "display_data"
    },
    {
     "data": {
      "text/html": [
       "<h1>Run(iaq151wo)</h1><iframe src=\"https://wandb.ai/snovaisg/idrop_vs_rnn/runs/iaq151wo\" style=\"border:none;width:100%;height:400px\"></iframe>"
      ],
      "text/plain": [
       "<wandb.sdk.wandb_run.Run at 0x133b0eeb0>"
      ]
     },
     "execution_count": 70,
     "metadata": {},
     "output_type": "execute_result"
    },
    {
     "data": {
      "text/html": [
       "Finishing last run (ID:iaq151wo) before initializing another..."
      ],
      "text/plain": [
       "<IPython.core.display.HTML object>"
      ]
     },
     "metadata": {},
     "output_type": "display_data"
    },
    {
     "data": {
      "text/html": [
       "<br/>Waiting for W&B process to finish, PID 41076<br/>Program ended successfully."
      ],
      "text/plain": [
       "<IPython.core.display.HTML object>"
      ]
     },
     "metadata": {},
     "output_type": "display_data"
    },
    {
     "data": {
      "text/html": [
       "Find user logs for this run at: <code>/Users/simaonovais/Documents/GitHub/master-thesis/wandb/run-20210917_135934-iaq151wo/logs/debug.log</code>"
      ],
      "text/plain": [
       "<IPython.core.display.HTML object>"
      ]
     },
     "metadata": {},
     "output_type": "display_data"
    },
    {
     "data": {
      "text/html": [
       "Find internal logs for this run at: <code>/Users/simaonovais/Documents/GitHub/master-thesis/wandb/run-20210917_135934-iaq151wo/logs/debug-internal.log</code>"
      ],
      "text/plain": [
       "<IPython.core.display.HTML object>"
      ]
     },
     "metadata": {},
     "output_type": "display_data"
    },
    {
     "data": {
      "text/html": [
       "<h3>Run summary:</h3><br/><style>\n",
       "    table.wandb td:nth-child(1) { padding: 0 10px; text-align: right }\n",
       "    </style><table class=\"wandb\">\n",
       "<tr><td>loss</td><td>0.03671</td></tr><tr><td>_runtime</td><td>64</td></tr><tr><td>_timestamp</td><td>1631883642</td></tr><tr><td>_step</td><td>15</td></tr><tr><td>train_loss</td><td>0.03373</td></tr><tr><td>train_recall@30</td><td>0.74213</td></tr><tr><td>val_loss</td><td>0.03965</td></tr><tr><td>recall@10</td><td>0.40848</td></tr><tr><td>recall@20</td><td>0.57627</td></tr><tr><td>recall@30</td><td>0.68084</td></tr></table>"
      ],
      "text/plain": [
       "<IPython.core.display.HTML object>"
      ]
     },
     "metadata": {},
     "output_type": "display_data"
    },
    {
     "data": {
      "text/html": [
       "<h3>Run history:</h3><br/><style>\n",
       "    table.wandb td:nth-child(1) { padding: 0 10px; text-align: right }\n",
       "    </style><table class=\"wandb\">\n",
       "<tr><td>loss</td><td>█▅▃▃▂▂▂▁▁▁▁▁▁▁▁</td></tr><tr><td>_runtime</td><td>▁▁▂▂▃▃▃▄▄▅▅▆▆▇▇█</td></tr><tr><td>_timestamp</td><td>▁▁▂▂▃▃▃▄▄▅▅▆▆▇▇█</td></tr><tr><td>_step</td><td>▁▁▂▂▃▃▄▄▅▅▆▆▇▇██</td></tr><tr><td>train_loss</td><td>▁</td></tr><tr><td>train_recall@30</td><td>▁</td></tr><tr><td>val_loss</td><td>▁</td></tr><tr><td>recall@10</td><td>▁</td></tr><tr><td>recall@20</td><td>▁</td></tr><tr><td>recall@30</td><td>▁</td></tr></table><br/>"
      ],
      "text/plain": [
       "<IPython.core.display.HTML object>"
      ]
     },
     "metadata": {},
     "output_type": "display_data"
    },
    {
     "data": {
      "text/html": [
       "Synced 6 W&B file(s), 0 media file(s), 0 artifact file(s) and 0 other file(s)"
      ],
      "text/plain": [
       "<IPython.core.display.HTML object>"
      ]
     },
     "metadata": {},
     "output_type": "display_data"
    },
    {
     "data": {
      "text/html": [
       "\n",
       "                    <br/>Synced <strong style=\"color:#cdcd00\">crisp-deluge-220</strong>: <a href=\"https://wandb.ai/snovaisg/idrop_vs_rnn/runs/iaq151wo\" target=\"_blank\">https://wandb.ai/snovaisg/idrop_vs_rnn/runs/iaq151wo</a><br/>\n",
       "                "
      ],
      "text/plain": [
       "<IPython.core.display.HTML object>"
      ]
     },
     "metadata": {},
     "output_type": "display_data"
    },
    {
     "data": {
      "text/html": [
       "...Successfully finished last run (ID:iaq151wo). Initializing new run:<br/><br/>"
      ],
      "text/plain": [
       "<IPython.core.display.HTML object>"
      ]
     },
     "metadata": {},
     "output_type": "display_data"
    },
    {
     "name": "stderr",
     "output_type": "stream",
     "text": [
      "\u001b[34m\u001b[1mwandb\u001b[0m: wandb version 0.12.2 is available!  To upgrade, please run:\n",
      "\u001b[34m\u001b[1mwandb\u001b[0m:  $ pip install wandb --upgrade\n"
     ]
    },
    {
     "data": {
      "text/html": [
       "\n",
       "                Tracking run with wandb version 0.12.1<br/>\n",
       "                Syncing run <strong style=\"color:#cdcd00\">sage-resonance-221</strong> to <a href=\"https://wandb.ai\" target=\"_blank\">Weights & Biases</a> <a href=\"https://docs.wandb.com/integrations/jupyter.html\" target=\"_blank\">(Documentation)</a>.<br/>\n",
       "                Project page: <a href=\"https://wandb.ai/snovaisg/idrop_vs_rnn\" target=\"_blank\">https://wandb.ai/snovaisg/idrop_vs_rnn</a><br/>\n",
       "                Run page: <a href=\"https://wandb.ai/snovaisg/idrop_vs_rnn/runs/17h91fcy\" target=\"_blank\">https://wandb.ai/snovaisg/idrop_vs_rnn/runs/17h91fcy</a><br/>\n",
       "                Run data is saved locally in <code>/Users/simaonovais/Documents/GitHub/master-thesis/wandb/run-20210917_140042-17h91fcy</code><br/><br/>\n",
       "            "
      ],
      "text/plain": [
       "<IPython.core.display.HTML object>"
      ]
     },
     "metadata": {},
     "output_type": "display_data"
    },
    {
     "data": {
      "text/html": [
       "<h1>Run(17h91fcy)</h1><iframe src=\"https://wandb.ai/snovaisg/idrop_vs_rnn/runs/17h91fcy\" style=\"border:none;width:100%;height:400px\"></iframe>"
      ],
      "text/plain": [
       "<wandb.sdk.wandb_run.Run at 0x133b17340>"
      ]
     },
     "execution_count": 70,
     "metadata": {},
     "output_type": "execute_result"
    },
    {
     "data": {
      "text/html": [
       "Finishing last run (ID:17h91fcy) before initializing another..."
      ],
      "text/plain": [
       "<IPython.core.display.HTML object>"
      ]
     },
     "metadata": {},
     "output_type": "display_data"
    },
    {
     "data": {
      "text/html": [
       "<br/>Waiting for W&B process to finish, PID 41149<br/>Program ended successfully."
      ],
      "text/plain": [
       "<IPython.core.display.HTML object>"
      ]
     },
     "metadata": {},
     "output_type": "display_data"
    },
    {
     "data": {
      "text/html": [
       "Find user logs for this run at: <code>/Users/simaonovais/Documents/GitHub/master-thesis/wandb/run-20210917_140042-17h91fcy/logs/debug.log</code>"
      ],
      "text/plain": [
       "<IPython.core.display.HTML object>"
      ]
     },
     "metadata": {},
     "output_type": "display_data"
    },
    {
     "data": {
      "text/html": [
       "Find internal logs for this run at: <code>/Users/simaonovais/Documents/GitHub/master-thesis/wandb/run-20210917_140042-17h91fcy/logs/debug-internal.log</code>"
      ],
      "text/plain": [
       "<IPython.core.display.HTML object>"
      ]
     },
     "metadata": {},
     "output_type": "display_data"
    },
    {
     "data": {
      "text/html": [
       "<h3>Run summary:</h3><br/><style>\n",
       "    table.wandb td:nth-child(1) { padding: 0 10px; text-align: right }\n",
       "    </style><table class=\"wandb\">\n",
       "<tr><td>loss</td><td>0.03319</td></tr><tr><td>_runtime</td><td>55</td></tr><tr><td>_timestamp</td><td>1631883701</td></tr><tr><td>_step</td><td>15</td></tr><tr><td>train_loss</td><td>0.03115</td></tr><tr><td>train_recall@30</td><td>0.81534</td></tr><tr><td>val_loss</td><td>0.03912</td></tr><tr><td>recall@10</td><td>0.42951</td></tr><tr><td>recall@20</td><td>0.59376</td></tr><tr><td>recall@30</td><td>0.69733</td></tr></table>"
      ],
      "text/plain": [
       "<IPython.core.display.HTML object>"
      ]
     },
     "metadata": {},
     "output_type": "display_data"
    },
    {
     "data": {
      "text/html": [
       "<h3>Run history:</h3><br/><style>\n",
       "    table.wandb td:nth-child(1) { padding: 0 10px; text-align: right }\n",
       "    </style><table class=\"wandb\">\n",
       "<tr><td>loss</td><td>█▅▃▃▂▂▂▁▁▁▁▁▁▁▁</td></tr><tr><td>_runtime</td><td>▁▁▂▂▃▃▄▄▄▅▅▆▆▆▇█</td></tr><tr><td>_timestamp</td><td>▁▁▂▂▃▃▄▄▄▅▅▆▆▆▇█</td></tr><tr><td>_step</td><td>▁▁▂▂▃▃▄▄▅▅▆▆▇▇██</td></tr><tr><td>train_loss</td><td>▁</td></tr><tr><td>train_recall@30</td><td>▁</td></tr><tr><td>val_loss</td><td>▁</td></tr><tr><td>recall@10</td><td>▁</td></tr><tr><td>recall@20</td><td>▁</td></tr><tr><td>recall@30</td><td>▁</td></tr></table><br/>"
      ],
      "text/plain": [
       "<IPython.core.display.HTML object>"
      ]
     },
     "metadata": {},
     "output_type": "display_data"
    },
    {
     "data": {
      "text/html": [
       "Synced 6 W&B file(s), 0 media file(s), 0 artifact file(s) and 0 other file(s)"
      ],
      "text/plain": [
       "<IPython.core.display.HTML object>"
      ]
     },
     "metadata": {},
     "output_type": "display_data"
    },
    {
     "data": {
      "text/html": [
       "\n",
       "                    <br/>Synced <strong style=\"color:#cdcd00\">sage-resonance-221</strong>: <a href=\"https://wandb.ai/snovaisg/idrop_vs_rnn/runs/17h91fcy\" target=\"_blank\">https://wandb.ai/snovaisg/idrop_vs_rnn/runs/17h91fcy</a><br/>\n",
       "                "
      ],
      "text/plain": [
       "<IPython.core.display.HTML object>"
      ]
     },
     "metadata": {},
     "output_type": "display_data"
    },
    {
     "data": {
      "text/html": [
       "...Successfully finished last run (ID:17h91fcy). Initializing new run:<br/><br/>"
      ],
      "text/plain": [
       "<IPython.core.display.HTML object>"
      ]
     },
     "metadata": {},
     "output_type": "display_data"
    },
    {
     "name": "stderr",
     "output_type": "stream",
     "text": [
      "\u001b[34m\u001b[1mwandb\u001b[0m: wandb version 0.12.2 is available!  To upgrade, please run:\n",
      "\u001b[34m\u001b[1mwandb\u001b[0m:  $ pip install wandb --upgrade\n"
     ]
    },
    {
     "data": {
      "text/html": [
       "\n",
       "                Tracking run with wandb version 0.12.1<br/>\n",
       "                Syncing run <strong style=\"color:#cdcd00\">blooming-snow-222</strong> to <a href=\"https://wandb.ai\" target=\"_blank\">Weights & Biases</a> <a href=\"https://docs.wandb.com/integrations/jupyter.html\" target=\"_blank\">(Documentation)</a>.<br/>\n",
       "                Project page: <a href=\"https://wandb.ai/snovaisg/idrop_vs_rnn\" target=\"_blank\">https://wandb.ai/snovaisg/idrop_vs_rnn</a><br/>\n",
       "                Run page: <a href=\"https://wandb.ai/snovaisg/idrop_vs_rnn/runs/3rscg6ut\" target=\"_blank\">https://wandb.ai/snovaisg/idrop_vs_rnn/runs/3rscg6ut</a><br/>\n",
       "                Run data is saved locally in <code>/Users/simaonovais/Documents/GitHub/master-thesis/wandb/run-20210917_140141-3rscg6ut</code><br/><br/>\n",
       "            "
      ],
      "text/plain": [
       "<IPython.core.display.HTML object>"
      ]
     },
     "metadata": {},
     "output_type": "display_data"
    },
    {
     "data": {
      "text/html": [
       "<h1>Run(3rscg6ut)</h1><iframe src=\"https://wandb.ai/snovaisg/idrop_vs_rnn/runs/3rscg6ut\" style=\"border:none;width:100%;height:400px\"></iframe>"
      ],
      "text/plain": [
       "<wandb.sdk.wandb_run.Run at 0x133ae3850>"
      ]
     },
     "execution_count": 70,
     "metadata": {},
     "output_type": "execute_result"
    },
    {
     "data": {
      "text/html": [
       "Finishing last run (ID:3rscg6ut) before initializing another..."
      ],
      "text/plain": [
       "<IPython.core.display.HTML object>"
      ]
     },
     "metadata": {},
     "output_type": "display_data"
    },
    {
     "data": {
      "text/html": [
       "<br/>Waiting for W&B process to finish, PID 41176<br/>Program ended successfully."
      ],
      "text/plain": [
       "<IPython.core.display.HTML object>"
      ]
     },
     "metadata": {},
     "output_type": "display_data"
    },
    {
     "data": {
      "text/html": [
       "Find user logs for this run at: <code>/Users/simaonovais/Documents/GitHub/master-thesis/wandb/run-20210917_140141-3rscg6ut/logs/debug.log</code>"
      ],
      "text/plain": [
       "<IPython.core.display.HTML object>"
      ]
     },
     "metadata": {},
     "output_type": "display_data"
    },
    {
     "data": {
      "text/html": [
       "Find internal logs for this run at: <code>/Users/simaonovais/Documents/GitHub/master-thesis/wandb/run-20210917_140141-3rscg6ut/logs/debug-internal.log</code>"
      ],
      "text/plain": [
       "<IPython.core.display.HTML object>"
      ]
     },
     "metadata": {},
     "output_type": "display_data"
    },
    {
     "data": {
      "text/html": [
       "<h3>Run summary:</h3><br/><style>\n",
       "    table.wandb td:nth-child(1) { padding: 0 10px; text-align: right }\n",
       "    </style><table class=\"wandb\">\n",
       "<tr><td>loss</td><td>0.03654</td></tr><tr><td>_runtime</td><td>68</td></tr><tr><td>_timestamp</td><td>1631883773</td></tr><tr><td>_step</td><td>15</td></tr><tr><td>train_loss</td><td>0.03624</td></tr><tr><td>train_recall@30</td><td>0.73762</td></tr><tr><td>val_loss</td><td>0.03987</td></tr><tr><td>recall@10</td><td>0.40299</td></tr><tr><td>recall@20</td><td>0.57331</td></tr><tr><td>recall@30</td><td>0.6793</td></tr></table>"
      ],
      "text/plain": [
       "<IPython.core.display.HTML object>"
      ]
     },
     "metadata": {},
     "output_type": "display_data"
    },
    {
     "data": {
      "text/html": [
       "<h3>Run history:</h3><br/><style>\n",
       "    table.wandb td:nth-child(1) { padding: 0 10px; text-align: right }\n",
       "    </style><table class=\"wandb\">\n",
       "<tr><td>loss</td><td>█▅▃▃▂▂▂▁▁▁▁▁▁▁▁</td></tr><tr><td>_runtime</td><td>▁▁▂▂▃▃▃▄▄▅▅▆▆▇▇█</td></tr><tr><td>_timestamp</td><td>▁▁▂▂▃▃▃▄▄▅▅▆▆▇▇█</td></tr><tr><td>_step</td><td>▁▁▂▂▃▃▄▄▅▅▆▆▇▇██</td></tr><tr><td>train_loss</td><td>▁</td></tr><tr><td>train_recall@30</td><td>▁</td></tr><tr><td>val_loss</td><td>▁</td></tr><tr><td>recall@10</td><td>▁</td></tr><tr><td>recall@20</td><td>▁</td></tr><tr><td>recall@30</td><td>▁</td></tr></table><br/>"
      ],
      "text/plain": [
       "<IPython.core.display.HTML object>"
      ]
     },
     "metadata": {},
     "output_type": "display_data"
    },
    {
     "data": {
      "text/html": [
       "Synced 6 W&B file(s), 0 media file(s), 0 artifact file(s) and 0 other file(s)"
      ],
      "text/plain": [
       "<IPython.core.display.HTML object>"
      ]
     },
     "metadata": {},
     "output_type": "display_data"
    },
    {
     "data": {
      "text/html": [
       "\n",
       "                    <br/>Synced <strong style=\"color:#cdcd00\">blooming-snow-222</strong>: <a href=\"https://wandb.ai/snovaisg/idrop_vs_rnn/runs/3rscg6ut\" target=\"_blank\">https://wandb.ai/snovaisg/idrop_vs_rnn/runs/3rscg6ut</a><br/>\n",
       "                "
      ],
      "text/plain": [
       "<IPython.core.display.HTML object>"
      ]
     },
     "metadata": {},
     "output_type": "display_data"
    },
    {
     "data": {
      "text/html": [
       "...Successfully finished last run (ID:3rscg6ut). Initializing new run:<br/><br/>"
      ],
      "text/plain": [
       "<IPython.core.display.HTML object>"
      ]
     },
     "metadata": {},
     "output_type": "display_data"
    },
    {
     "name": "stderr",
     "output_type": "stream",
     "text": [
      "\u001b[34m\u001b[1mwandb\u001b[0m: wandb version 0.12.2 is available!  To upgrade, please run:\n",
      "\u001b[34m\u001b[1mwandb\u001b[0m:  $ pip install wandb --upgrade\n"
     ]
    },
    {
     "data": {
      "text/html": [
       "\n",
       "                Tracking run with wandb version 0.12.1<br/>\n",
       "                Syncing run <strong style=\"color:#cdcd00\">graceful-wave-223</strong> to <a href=\"https://wandb.ai\" target=\"_blank\">Weights & Biases</a> <a href=\"https://docs.wandb.com/integrations/jupyter.html\" target=\"_blank\">(Documentation)</a>.<br/>\n",
       "                Project page: <a href=\"https://wandb.ai/snovaisg/idrop_vs_rnn\" target=\"_blank\">https://wandb.ai/snovaisg/idrop_vs_rnn</a><br/>\n",
       "                Run page: <a href=\"https://wandb.ai/snovaisg/idrop_vs_rnn/runs/28z6wavz\" target=\"_blank\">https://wandb.ai/snovaisg/idrop_vs_rnn/runs/28z6wavz</a><br/>\n",
       "                Run data is saved locally in <code>/Users/simaonovais/Documents/GitHub/master-thesis/wandb/run-20210917_140253-28z6wavz</code><br/><br/>\n",
       "            "
      ],
      "text/plain": [
       "<IPython.core.display.HTML object>"
      ]
     },
     "metadata": {},
     "output_type": "display_data"
    },
    {
     "data": {
      "text/html": [
       "<h1>Run(28z6wavz)</h1><iframe src=\"https://wandb.ai/snovaisg/idrop_vs_rnn/runs/28z6wavz\" style=\"border:none;width:100%;height:400px\"></iframe>"
      ],
      "text/plain": [
       "<wandb.sdk.wandb_run.Run at 0x133b10760>"
      ]
     },
     "execution_count": 70,
     "metadata": {},
     "output_type": "execute_result"
    },
    {
     "data": {
      "text/html": [
       "Finishing last run (ID:28z6wavz) before initializing another..."
      ],
      "text/plain": [
       "<IPython.core.display.HTML object>"
      ]
     },
     "metadata": {},
     "output_type": "display_data"
    },
    {
     "data": {
      "text/html": [
       "<br/>Waiting for W&B process to finish, PID 41212<br/>Program ended successfully."
      ],
      "text/plain": [
       "<IPython.core.display.HTML object>"
      ]
     },
     "metadata": {},
     "output_type": "display_data"
    },
    {
     "data": {
      "text/html": [
       "Find user logs for this run at: <code>/Users/simaonovais/Documents/GitHub/master-thesis/wandb/run-20210917_140253-28z6wavz/logs/debug.log</code>"
      ],
      "text/plain": [
       "<IPython.core.display.HTML object>"
      ]
     },
     "metadata": {},
     "output_type": "display_data"
    },
    {
     "data": {
      "text/html": [
       "Find internal logs for this run at: <code>/Users/simaonovais/Documents/GitHub/master-thesis/wandb/run-20210917_140253-28z6wavz/logs/debug-internal.log</code>"
      ],
      "text/plain": [
       "<IPython.core.display.HTML object>"
      ]
     },
     "metadata": {},
     "output_type": "display_data"
    },
    {
     "data": {
      "text/html": [
       "<h3>Run summary:</h3><br/><style>\n",
       "    table.wandb td:nth-child(1) { padding: 0 10px; text-align: right }\n",
       "    </style><table class=\"wandb\">\n",
       "<tr><td>loss</td><td>0.03931</td></tr><tr><td>_runtime</td><td>34</td></tr><tr><td>_timestamp</td><td>1631883811</td></tr><tr><td>_step</td><td>15</td></tr><tr><td>train_loss</td><td>0.03746</td></tr><tr><td>train_recall@30</td><td>0.68041</td></tr><tr><td>val_loss</td><td>0.04053</td></tr><tr><td>recall@10</td><td>0.37446</td></tr><tr><td>recall@20</td><td>0.54442</td></tr><tr><td>recall@30</td><td>0.65786</td></tr></table>"
      ],
      "text/plain": [
       "<IPython.core.display.HTML object>"
      ]
     },
     "metadata": {},
     "output_type": "display_data"
    },
    {
     "data": {
      "text/html": [
       "<h3>Run history:</h3><br/><style>\n",
       "    table.wandb td:nth-child(1) { padding: 0 10px; text-align: right }\n",
       "    </style><table class=\"wandb\">\n",
       "<tr><td>loss</td><td>█▅▃▃▂▂▂▁▁▁▁▁▁▁▁</td></tr><tr><td>_runtime</td><td>▁▁▂▃▃▃▃▄▄▅▅▅▆▆▇█</td></tr><tr><td>_timestamp</td><td>▁▁▂▃▃▃▃▄▄▅▅▅▆▆▇█</td></tr><tr><td>_step</td><td>▁▁▂▂▃▃▄▄▅▅▆▆▇▇██</td></tr><tr><td>train_loss</td><td>▁</td></tr><tr><td>train_recall@30</td><td>▁</td></tr><tr><td>val_loss</td><td>▁</td></tr><tr><td>recall@10</td><td>▁</td></tr><tr><td>recall@20</td><td>▁</td></tr><tr><td>recall@30</td><td>▁</td></tr></table><br/>"
      ],
      "text/plain": [
       "<IPython.core.display.HTML object>"
      ]
     },
     "metadata": {},
     "output_type": "display_data"
    },
    {
     "data": {
      "text/html": [
       "Synced 6 W&B file(s), 0 media file(s), 0 artifact file(s) and 0 other file(s)"
      ],
      "text/plain": [
       "<IPython.core.display.HTML object>"
      ]
     },
     "metadata": {},
     "output_type": "display_data"
    },
    {
     "data": {
      "text/html": [
       "\n",
       "                    <br/>Synced <strong style=\"color:#cdcd00\">graceful-wave-223</strong>: <a href=\"https://wandb.ai/snovaisg/idrop_vs_rnn/runs/28z6wavz\" target=\"_blank\">https://wandb.ai/snovaisg/idrop_vs_rnn/runs/28z6wavz</a><br/>\n",
       "                "
      ],
      "text/plain": [
       "<IPython.core.display.HTML object>"
      ]
     },
     "metadata": {},
     "output_type": "display_data"
    },
    {
     "data": {
      "text/html": [
       "...Successfully finished last run (ID:28z6wavz). Initializing new run:<br/><br/>"
      ],
      "text/plain": [
       "<IPython.core.display.HTML object>"
      ]
     },
     "metadata": {},
     "output_type": "display_data"
    },
    {
     "name": "stderr",
     "output_type": "stream",
     "text": [
      "\u001b[34m\u001b[1mwandb\u001b[0m: wandb version 0.12.2 is available!  To upgrade, please run:\n",
      "\u001b[34m\u001b[1mwandb\u001b[0m:  $ pip install wandb --upgrade\n"
     ]
    },
    {
     "data": {
      "text/html": [
       "\n",
       "                Tracking run with wandb version 0.12.1<br/>\n",
       "                Syncing run <strong style=\"color:#cdcd00\">solar-dragon-224</strong> to <a href=\"https://wandb.ai\" target=\"_blank\">Weights & Biases</a> <a href=\"https://docs.wandb.com/integrations/jupyter.html\" target=\"_blank\">(Documentation)</a>.<br/>\n",
       "                Project page: <a href=\"https://wandb.ai/snovaisg/idrop_vs_rnn\" target=\"_blank\">https://wandb.ai/snovaisg/idrop_vs_rnn</a><br/>\n",
       "                Run page: <a href=\"https://wandb.ai/snovaisg/idrop_vs_rnn/runs/3jwar5q5\" target=\"_blank\">https://wandb.ai/snovaisg/idrop_vs_rnn/runs/3jwar5q5</a><br/>\n",
       "                Run data is saved locally in <code>/Users/simaonovais/Documents/GitHub/master-thesis/wandb/run-20210917_140331-3jwar5q5</code><br/><br/>\n",
       "            "
      ],
      "text/plain": [
       "<IPython.core.display.HTML object>"
      ]
     },
     "metadata": {},
     "output_type": "display_data"
    },
    {
     "data": {
      "text/html": [
       "<h1>Run(3jwar5q5)</h1><iframe src=\"https://wandb.ai/snovaisg/idrop_vs_rnn/runs/3jwar5q5\" style=\"border:none;width:100%;height:400px\"></iframe>"
      ],
      "text/plain": [
       "<wandb.sdk.wandb_run.Run at 0x133b1b460>"
      ]
     },
     "execution_count": 70,
     "metadata": {},
     "output_type": "execute_result"
    },
    {
     "data": {
      "text/html": [
       "Finishing last run (ID:3jwar5q5) before initializing another..."
      ],
      "text/plain": [
       "<IPython.core.display.HTML object>"
      ]
     },
     "metadata": {},
     "output_type": "display_data"
    },
    {
     "data": {
      "text/html": [
       "<br/>Waiting for W&B process to finish, PID 41229<br/>Program ended successfully."
      ],
      "text/plain": [
       "<IPython.core.display.HTML object>"
      ]
     },
     "metadata": {},
     "output_type": "display_data"
    },
    {
     "data": {
      "text/html": [
       "Find user logs for this run at: <code>/Users/simaonovais/Documents/GitHub/master-thesis/wandb/run-20210917_140331-3jwar5q5/logs/debug.log</code>"
      ],
      "text/plain": [
       "<IPython.core.display.HTML object>"
      ]
     },
     "metadata": {},
     "output_type": "display_data"
    },
    {
     "data": {
      "text/html": [
       "Find internal logs for this run at: <code>/Users/simaonovais/Documents/GitHub/master-thesis/wandb/run-20210917_140331-3jwar5q5/logs/debug-internal.log</code>"
      ],
      "text/plain": [
       "<IPython.core.display.HTML object>"
      ]
     },
     "metadata": {},
     "output_type": "display_data"
    },
    {
     "data": {
      "text/html": [
       "<h3>Run summary:</h3><br/><style>\n",
       "    table.wandb td:nth-child(1) { padding: 0 10px; text-align: right }\n",
       "    </style><table class=\"wandb\">\n",
       "<tr><td>loss</td><td>0.04035</td></tr><tr><td>_runtime</td><td>33</td></tr><tr><td>_timestamp</td><td>1631883849</td></tr><tr><td>_step</td><td>15</td></tr><tr><td>train_loss</td><td>0.03955</td></tr><tr><td>train_recall@30</td><td>0.62977</td></tr><tr><td>val_loss</td><td>0.04214</td></tr><tr><td>recall@10</td><td>0.33691</td></tr><tr><td>recall@20</td><td>0.50011</td></tr><tr><td>recall@30</td><td>0.62225</td></tr></table>"
      ],
      "text/plain": [
       "<IPython.core.display.HTML object>"
      ]
     },
     "metadata": {},
     "output_type": "display_data"
    },
    {
     "data": {
      "text/html": [
       "<h3>Run history:</h3><br/><style>\n",
       "    table.wandb td:nth-child(1) { padding: 0 10px; text-align: right }\n",
       "    </style><table class=\"wandb\">\n",
       "<tr><td>loss</td><td>█▅▃▃▂▂▂▁▁▁▁▁▁▁▁</td></tr><tr><td>_runtime</td><td>▁▁▂▂▃▃▃▄▄▄▅▅▅▆▆█</td></tr><tr><td>_timestamp</td><td>▁▁▂▂▃▃▃▄▄▄▅▅▅▆▆█</td></tr><tr><td>_step</td><td>▁▁▂▂▃▃▄▄▅▅▆▆▇▇██</td></tr><tr><td>train_loss</td><td>▁</td></tr><tr><td>train_recall@30</td><td>▁</td></tr><tr><td>val_loss</td><td>▁</td></tr><tr><td>recall@10</td><td>▁</td></tr><tr><td>recall@20</td><td>▁</td></tr><tr><td>recall@30</td><td>▁</td></tr></table><br/>"
      ],
      "text/plain": [
       "<IPython.core.display.HTML object>"
      ]
     },
     "metadata": {},
     "output_type": "display_data"
    },
    {
     "data": {
      "text/html": [
       "Synced 6 W&B file(s), 0 media file(s), 0 artifact file(s) and 0 other file(s)"
      ],
      "text/plain": [
       "<IPython.core.display.HTML object>"
      ]
     },
     "metadata": {},
     "output_type": "display_data"
    },
    {
     "data": {
      "text/html": [
       "\n",
       "                    <br/>Synced <strong style=\"color:#cdcd00\">solar-dragon-224</strong>: <a href=\"https://wandb.ai/snovaisg/idrop_vs_rnn/runs/3jwar5q5\" target=\"_blank\">https://wandb.ai/snovaisg/idrop_vs_rnn/runs/3jwar5q5</a><br/>\n",
       "                "
      ],
      "text/plain": [
       "<IPython.core.display.HTML object>"
      ]
     },
     "metadata": {},
     "output_type": "display_data"
    },
    {
     "data": {
      "text/html": [
       "...Successfully finished last run (ID:3jwar5q5). Initializing new run:<br/><br/>"
      ],
      "text/plain": [
       "<IPython.core.display.HTML object>"
      ]
     },
     "metadata": {},
     "output_type": "display_data"
    },
    {
     "name": "stderr",
     "output_type": "stream",
     "text": [
      "\u001b[34m\u001b[1mwandb\u001b[0m: wandb version 0.12.2 is available!  To upgrade, please run:\n",
      "\u001b[34m\u001b[1mwandb\u001b[0m:  $ pip install wandb --upgrade\n"
     ]
    },
    {
     "data": {
      "text/html": [
       "\n",
       "                Tracking run with wandb version 0.12.1<br/>\n",
       "                Syncing run <strong style=\"color:#cdcd00\">kind-firefly-225</strong> to <a href=\"https://wandb.ai\" target=\"_blank\">Weights & Biases</a> <a href=\"https://docs.wandb.com/integrations/jupyter.html\" target=\"_blank\">(Documentation)</a>.<br/>\n",
       "                Project page: <a href=\"https://wandb.ai/snovaisg/idrop_vs_rnn\" target=\"_blank\">https://wandb.ai/snovaisg/idrop_vs_rnn</a><br/>\n",
       "                Run page: <a href=\"https://wandb.ai/snovaisg/idrop_vs_rnn/runs/2dybtlya\" target=\"_blank\">https://wandb.ai/snovaisg/idrop_vs_rnn/runs/2dybtlya</a><br/>\n",
       "                Run data is saved locally in <code>/Users/simaonovais/Documents/GitHub/master-thesis/wandb/run-20210917_140409-2dybtlya</code><br/><br/>\n",
       "            "
      ],
      "text/plain": [
       "<IPython.core.display.HTML object>"
      ]
     },
     "metadata": {},
     "output_type": "display_data"
    },
    {
     "data": {
      "text/html": [
       "<h1>Run(2dybtlya)</h1><iframe src=\"https://wandb.ai/snovaisg/idrop_vs_rnn/runs/2dybtlya\" style=\"border:none;width:100%;height:400px\"></iframe>"
      ],
      "text/plain": [
       "<wandb.sdk.wandb_run.Run at 0x139517b50>"
      ]
     },
     "execution_count": 70,
     "metadata": {},
     "output_type": "execute_result"
    },
    {
     "data": {
      "text/html": [
       "Finishing last run (ID:2dybtlya) before initializing another..."
      ],
      "text/plain": [
       "<IPython.core.display.HTML object>"
      ]
     },
     "metadata": {},
     "output_type": "display_data"
    },
    {
     "data": {
      "text/html": [
       "<br/>Waiting for W&B process to finish, PID 41253<br/>Program ended successfully."
      ],
      "text/plain": [
       "<IPython.core.display.HTML object>"
      ]
     },
     "metadata": {},
     "output_type": "display_data"
    },
    {
     "data": {
      "text/html": [
       "Find user logs for this run at: <code>/Users/simaonovais/Documents/GitHub/master-thesis/wandb/run-20210917_140409-2dybtlya/logs/debug.log</code>"
      ],
      "text/plain": [
       "<IPython.core.display.HTML object>"
      ]
     },
     "metadata": {},
     "output_type": "display_data"
    },
    {
     "data": {
      "text/html": [
       "Find internal logs for this run at: <code>/Users/simaonovais/Documents/GitHub/master-thesis/wandb/run-20210917_140409-2dybtlya/logs/debug-internal.log</code>"
      ],
      "text/plain": [
       "<IPython.core.display.HTML object>"
      ]
     },
     "metadata": {},
     "output_type": "display_data"
    },
    {
     "data": {
      "text/html": [
       "<h3>Run summary:</h3><br/><style>\n",
       "    table.wandb td:nth-child(1) { padding: 0 10px; text-align: right }\n",
       "    </style><table class=\"wandb\">\n",
       "<tr><td>loss</td><td>0.03763</td></tr><tr><td>_runtime</td><td>37</td></tr><tr><td>_timestamp</td><td>1631883889</td></tr><tr><td>_step</td><td>15</td></tr><tr><td>train_loss</td><td>0.03542</td></tr><tr><td>train_recall@30</td><td>0.70875</td></tr><tr><td>val_loss</td><td>0.03976</td></tr><tr><td>recall@10</td><td>0.40242</td></tr><tr><td>recall@20</td><td>0.57717</td></tr><tr><td>recall@30</td><td>0.68468</td></tr></table>"
      ],
      "text/plain": [
       "<IPython.core.display.HTML object>"
      ]
     },
     "metadata": {},
     "output_type": "display_data"
    },
    {
     "data": {
      "text/html": [
       "<h3>Run history:</h3><br/><style>\n",
       "    table.wandb td:nth-child(1) { padding: 0 10px; text-align: right }\n",
       "    </style><table class=\"wandb\">\n",
       "<tr><td>loss</td><td>█▅▃▃▂▂▂▁▁▁▁▁▁▁▁</td></tr><tr><td>_runtime</td><td>▁▁▂▂▃▃▃▄▄▅▅▅▆▆▆█</td></tr><tr><td>_timestamp</td><td>▁▁▂▂▃▃▃▄▄▅▅▅▆▆▆█</td></tr><tr><td>_step</td><td>▁▁▂▂▃▃▄▄▅▅▆▆▇▇██</td></tr><tr><td>train_loss</td><td>▁</td></tr><tr><td>train_recall@30</td><td>▁</td></tr><tr><td>val_loss</td><td>▁</td></tr><tr><td>recall@10</td><td>▁</td></tr><tr><td>recall@20</td><td>▁</td></tr><tr><td>recall@30</td><td>▁</td></tr></table><br/>"
      ],
      "text/plain": [
       "<IPython.core.display.HTML object>"
      ]
     },
     "metadata": {},
     "output_type": "display_data"
    },
    {
     "data": {
      "text/html": [
       "Synced 6 W&B file(s), 0 media file(s), 0 artifact file(s) and 0 other file(s)"
      ],
      "text/plain": [
       "<IPython.core.display.HTML object>"
      ]
     },
     "metadata": {},
     "output_type": "display_data"
    },
    {
     "data": {
      "text/html": [
       "\n",
       "                    <br/>Synced <strong style=\"color:#cdcd00\">kind-firefly-225</strong>: <a href=\"https://wandb.ai/snovaisg/idrop_vs_rnn/runs/2dybtlya\" target=\"_blank\">https://wandb.ai/snovaisg/idrop_vs_rnn/runs/2dybtlya</a><br/>\n",
       "                "
      ],
      "text/plain": [
       "<IPython.core.display.HTML object>"
      ]
     },
     "metadata": {},
     "output_type": "display_data"
    },
    {
     "data": {
      "text/html": [
       "...Successfully finished last run (ID:2dybtlya). Initializing new run:<br/><br/>"
      ],
      "text/plain": [
       "<IPython.core.display.HTML object>"
      ]
     },
     "metadata": {},
     "output_type": "display_data"
    },
    {
     "name": "stderr",
     "output_type": "stream",
     "text": [
      "\u001b[34m\u001b[1mwandb\u001b[0m: wandb version 0.12.2 is available!  To upgrade, please run:\n",
      "\u001b[34m\u001b[1mwandb\u001b[0m:  $ pip install wandb --upgrade\n"
     ]
    },
    {
     "data": {
      "text/html": [
       "\n",
       "                Tracking run with wandb version 0.12.1<br/>\n",
       "                Syncing run <strong style=\"color:#cdcd00\">honest-puddle-226</strong> to <a href=\"https://wandb.ai\" target=\"_blank\">Weights & Biases</a> <a href=\"https://docs.wandb.com/integrations/jupyter.html\" target=\"_blank\">(Documentation)</a>.<br/>\n",
       "                Project page: <a href=\"https://wandb.ai/snovaisg/idrop_vs_rnn\" target=\"_blank\">https://wandb.ai/snovaisg/idrop_vs_rnn</a><br/>\n",
       "                Run page: <a href=\"https://wandb.ai/snovaisg/idrop_vs_rnn/runs/2puqe8vx\" target=\"_blank\">https://wandb.ai/snovaisg/idrop_vs_rnn/runs/2puqe8vx</a><br/>\n",
       "                Run data is saved locally in <code>/Users/simaonovais/Documents/GitHub/master-thesis/wandb/run-20210917_140449-2puqe8vx</code><br/><br/>\n",
       "            "
      ],
      "text/plain": [
       "<IPython.core.display.HTML object>"
      ]
     },
     "metadata": {},
     "output_type": "display_data"
    },
    {
     "data": {
      "text/html": [
       "<h1>Run(2puqe8vx)</h1><iframe src=\"https://wandb.ai/snovaisg/idrop_vs_rnn/runs/2puqe8vx\" style=\"border:none;width:100%;height:400px\"></iframe>"
      ],
      "text/plain": [
       "<wandb.sdk.wandb_run.Run at 0x139531d30>"
      ]
     },
     "execution_count": 70,
     "metadata": {},
     "output_type": "execute_result"
    },
    {
     "data": {
      "text/html": [
       "Finishing last run (ID:2puqe8vx) before initializing another..."
      ],
      "text/plain": [
       "<IPython.core.display.HTML object>"
      ]
     },
     "metadata": {},
     "output_type": "display_data"
    },
    {
     "data": {
      "text/html": [
       "<br/>Waiting for W&B process to finish, PID 41269<br/>Program ended successfully."
      ],
      "text/plain": [
       "<IPython.core.display.HTML object>"
      ]
     },
     "metadata": {},
     "output_type": "display_data"
    },
    {
     "data": {
      "text/html": [
       "Find user logs for this run at: <code>/Users/simaonovais/Documents/GitHub/master-thesis/wandb/run-20210917_140449-2puqe8vx/logs/debug.log</code>"
      ],
      "text/plain": [
       "<IPython.core.display.HTML object>"
      ]
     },
     "metadata": {},
     "output_type": "display_data"
    },
    {
     "data": {
      "text/html": [
       "Find internal logs for this run at: <code>/Users/simaonovais/Documents/GitHub/master-thesis/wandb/run-20210917_140449-2puqe8vx/logs/debug-internal.log</code>"
      ],
      "text/plain": [
       "<IPython.core.display.HTML object>"
      ]
     },
     "metadata": {},
     "output_type": "display_data"
    },
    {
     "data": {
      "text/html": [
       "<h3>Run summary:</h3><br/><style>\n",
       "    table.wandb td:nth-child(1) { padding: 0 10px; text-align: right }\n",
       "    </style><table class=\"wandb\">\n",
       "<tr><td>loss</td><td>0.03901</td></tr><tr><td>_runtime</td><td>41</td></tr><tr><td>_timestamp</td><td>1631883934</td></tr><tr><td>_step</td><td>15</td></tr><tr><td>train_loss</td><td>0.04</td></tr><tr><td>train_recall@30</td><td>0.62356</td></tr><tr><td>val_loss</td><td>0.04192</td></tr><tr><td>recall@10</td><td>0.34127</td></tr><tr><td>recall@20</td><td>0.50516</td></tr><tr><td>recall@30</td><td>0.61538</td></tr></table>"
      ],
      "text/plain": [
       "<IPython.core.display.HTML object>"
      ]
     },
     "metadata": {},
     "output_type": "display_data"
    },
    {
     "data": {
      "text/html": [
       "<h3>Run history:</h3><br/><style>\n",
       "    table.wandb td:nth-child(1) { padding: 0 10px; text-align: right }\n",
       "    </style><table class=\"wandb\">\n",
       "<tr><td>loss</td><td>█▅▃▃▂▂▂▁▁▁▁▁▁▁▁</td></tr><tr><td>_runtime</td><td>▁▁▂▂▂▃▃▃▄▄▅▅▅▆▆█</td></tr><tr><td>_timestamp</td><td>▁▁▂▂▂▃▃▃▄▄▅▅▅▆▆█</td></tr><tr><td>_step</td><td>▁▁▂▂▃▃▄▄▅▅▆▆▇▇██</td></tr><tr><td>train_loss</td><td>▁</td></tr><tr><td>train_recall@30</td><td>▁</td></tr><tr><td>val_loss</td><td>▁</td></tr><tr><td>recall@10</td><td>▁</td></tr><tr><td>recall@20</td><td>▁</td></tr><tr><td>recall@30</td><td>▁</td></tr></table><br/>"
      ],
      "text/plain": [
       "<IPython.core.display.HTML object>"
      ]
     },
     "metadata": {},
     "output_type": "display_data"
    },
    {
     "data": {
      "text/html": [
       "Synced 6 W&B file(s), 0 media file(s), 0 artifact file(s) and 0 other file(s)"
      ],
      "text/plain": [
       "<IPython.core.display.HTML object>"
      ]
     },
     "metadata": {},
     "output_type": "display_data"
    },
    {
     "data": {
      "text/html": [
       "\n",
       "                    <br/>Synced <strong style=\"color:#cdcd00\">honest-puddle-226</strong>: <a href=\"https://wandb.ai/snovaisg/idrop_vs_rnn/runs/2puqe8vx\" target=\"_blank\">https://wandb.ai/snovaisg/idrop_vs_rnn/runs/2puqe8vx</a><br/>\n",
       "                "
      ],
      "text/plain": [
       "<IPython.core.display.HTML object>"
      ]
     },
     "metadata": {},
     "output_type": "display_data"
    },
    {
     "data": {
      "text/html": [
       "...Successfully finished last run (ID:2puqe8vx). Initializing new run:<br/><br/>"
      ],
      "text/plain": [
       "<IPython.core.display.HTML object>"
      ]
     },
     "metadata": {},
     "output_type": "display_data"
    },
    {
     "name": "stderr",
     "output_type": "stream",
     "text": [
      "\u001b[34m\u001b[1mwandb\u001b[0m: wandb version 0.12.2 is available!  To upgrade, please run:\n",
      "\u001b[34m\u001b[1mwandb\u001b[0m:  $ pip install wandb --upgrade\n"
     ]
    },
    {
     "data": {
      "text/html": [
       "\n",
       "                Tracking run with wandb version 0.12.1<br/>\n",
       "                Syncing run <strong style=\"color:#cdcd00\">crimson-donkey-227</strong> to <a href=\"https://wandb.ai\" target=\"_blank\">Weights & Biases</a> <a href=\"https://docs.wandb.com/integrations/jupyter.html\" target=\"_blank\">(Documentation)</a>.<br/>\n",
       "                Project page: <a href=\"https://wandb.ai/snovaisg/idrop_vs_rnn\" target=\"_blank\">https://wandb.ai/snovaisg/idrop_vs_rnn</a><br/>\n",
       "                Run page: <a href=\"https://wandb.ai/snovaisg/idrop_vs_rnn/runs/2tippdhk\" target=\"_blank\">https://wandb.ai/snovaisg/idrop_vs_rnn/runs/2tippdhk</a><br/>\n",
       "                Run data is saved locally in <code>/Users/simaonovais/Documents/GitHub/master-thesis/wandb/run-20210917_140534-2tippdhk</code><br/><br/>\n",
       "            "
      ],
      "text/plain": [
       "<IPython.core.display.HTML object>"
      ]
     },
     "metadata": {},
     "output_type": "display_data"
    },
    {
     "data": {
      "text/html": [
       "<h1>Run(2tippdhk)</h1><iframe src=\"https://wandb.ai/snovaisg/idrop_vs_rnn/runs/2tippdhk\" style=\"border:none;width:100%;height:400px\"></iframe>"
      ],
      "text/plain": [
       "<wandb.sdk.wandb_run.Run at 0x139538c70>"
      ]
     },
     "execution_count": 70,
     "metadata": {},
     "output_type": "execute_result"
    },
    {
     "data": {
      "text/html": [
       "Finishing last run (ID:2tippdhk) before initializing another..."
      ],
      "text/plain": [
       "<IPython.core.display.HTML object>"
      ]
     },
     "metadata": {},
     "output_type": "display_data"
    },
    {
     "data": {
      "text/html": [
       "<br/>Waiting for W&B process to finish, PID 41287<br/>Program ended successfully."
      ],
      "text/plain": [
       "<IPython.core.display.HTML object>"
      ]
     },
     "metadata": {},
     "output_type": "display_data"
    },
    {
     "data": {
      "text/html": [
       "Find user logs for this run at: <code>/Users/simaonovais/Documents/GitHub/master-thesis/wandb/run-20210917_140534-2tippdhk/logs/debug.log</code>"
      ],
      "text/plain": [
       "<IPython.core.display.HTML object>"
      ]
     },
     "metadata": {},
     "output_type": "display_data"
    },
    {
     "data": {
      "text/html": [
       "Find internal logs for this run at: <code>/Users/simaonovais/Documents/GitHub/master-thesis/wandb/run-20210917_140534-2tippdhk/logs/debug-internal.log</code>"
      ],
      "text/plain": [
       "<IPython.core.display.HTML object>"
      ]
     },
     "metadata": {},
     "output_type": "display_data"
    },
    {
     "data": {
      "text/html": [
       "<h3>Run summary:</h3><br/><style>\n",
       "    table.wandb td:nth-child(1) { padding: 0 10px; text-align: right }\n",
       "    </style><table class=\"wandb\">\n",
       "<tr><td>loss</td><td>0.03809</td></tr><tr><td>_runtime</td><td>38</td></tr><tr><td>_timestamp</td><td>1631883977</td></tr><tr><td>_step</td><td>15</td></tr><tr><td>train_loss</td><td>0.03599</td></tr><tr><td>train_recall@30</td><td>0.69685</td></tr><tr><td>val_loss</td><td>0.03989</td></tr><tr><td>recall@10</td><td>0.39919</td></tr><tr><td>recall@20</td><td>0.56628</td></tr><tr><td>recall@30</td><td>0.67439</td></tr></table>"
      ],
      "text/plain": [
       "<IPython.core.display.HTML object>"
      ]
     },
     "metadata": {},
     "output_type": "display_data"
    },
    {
     "data": {
      "text/html": [
       "<h3>Run history:</h3><br/><style>\n",
       "    table.wandb td:nth-child(1) { padding: 0 10px; text-align: right }\n",
       "    </style><table class=\"wandb\">\n",
       "<tr><td>loss</td><td>█▅▃▃▂▂▂▁▁▁▁▁▁▁▁</td></tr><tr><td>_runtime</td><td>▁▁▂▂▃▃▃▄▄▄▅▅▆▆▆█</td></tr><tr><td>_timestamp</td><td>▁▁▂▂▃▃▃▄▄▄▅▅▆▆▆█</td></tr><tr><td>_step</td><td>▁▁▂▂▃▃▄▄▅▅▆▆▇▇██</td></tr><tr><td>train_loss</td><td>▁</td></tr><tr><td>train_recall@30</td><td>▁</td></tr><tr><td>val_loss</td><td>▁</td></tr><tr><td>recall@10</td><td>▁</td></tr><tr><td>recall@20</td><td>▁</td></tr><tr><td>recall@30</td><td>▁</td></tr></table><br/>"
      ],
      "text/plain": [
       "<IPython.core.display.HTML object>"
      ]
     },
     "metadata": {},
     "output_type": "display_data"
    },
    {
     "data": {
      "text/html": [
       "Synced 6 W&B file(s), 0 media file(s), 0 artifact file(s) and 0 other file(s)"
      ],
      "text/plain": [
       "<IPython.core.display.HTML object>"
      ]
     },
     "metadata": {},
     "output_type": "display_data"
    },
    {
     "data": {
      "text/html": [
       "\n",
       "                    <br/>Synced <strong style=\"color:#cdcd00\">crimson-donkey-227</strong>: <a href=\"https://wandb.ai/snovaisg/idrop_vs_rnn/runs/2tippdhk\" target=\"_blank\">https://wandb.ai/snovaisg/idrop_vs_rnn/runs/2tippdhk</a><br/>\n",
       "                "
      ],
      "text/plain": [
       "<IPython.core.display.HTML object>"
      ]
     },
     "metadata": {},
     "output_type": "display_data"
    },
    {
     "data": {
      "text/html": [
       "...Successfully finished last run (ID:2tippdhk). Initializing new run:<br/><br/>"
      ],
      "text/plain": [
       "<IPython.core.display.HTML object>"
      ]
     },
     "metadata": {},
     "output_type": "display_data"
    },
    {
     "name": "stderr",
     "output_type": "stream",
     "text": [
      "\u001b[34m\u001b[1mwandb\u001b[0m: wandb version 0.12.2 is available!  To upgrade, please run:\n",
      "\u001b[34m\u001b[1mwandb\u001b[0m:  $ pip install wandb --upgrade\n"
     ]
    },
    {
     "data": {
      "text/html": [
       "\n",
       "                Tracking run with wandb version 0.12.1<br/>\n",
       "                Syncing run <strong style=\"color:#cdcd00\">youthful-plasma-228</strong> to <a href=\"https://wandb.ai\" target=\"_blank\">Weights & Biases</a> <a href=\"https://docs.wandb.com/integrations/jupyter.html\" target=\"_blank\">(Documentation)</a>.<br/>\n",
       "                Project page: <a href=\"https://wandb.ai/snovaisg/idrop_vs_rnn\" target=\"_blank\">https://wandb.ai/snovaisg/idrop_vs_rnn</a><br/>\n",
       "                Run page: <a href=\"https://wandb.ai/snovaisg/idrop_vs_rnn/runs/28tn5yk6\" target=\"_blank\">https://wandb.ai/snovaisg/idrop_vs_rnn/runs/28tn5yk6</a><br/>\n",
       "                Run data is saved locally in <code>/Users/simaonovais/Documents/GitHub/master-thesis/wandb/run-20210917_140617-28tn5yk6</code><br/><br/>\n",
       "            "
      ],
      "text/plain": [
       "<IPython.core.display.HTML object>"
      ]
     },
     "metadata": {},
     "output_type": "display_data"
    },
    {
     "data": {
      "text/html": [
       "<h1>Run(28tn5yk6)</h1><iframe src=\"https://wandb.ai/snovaisg/idrop_vs_rnn/runs/28tn5yk6\" style=\"border:none;width:100%;height:400px\"></iframe>"
      ],
      "text/plain": [
       "<wandb.sdk.wandb_run.Run at 0x13950ce20>"
      ]
     },
     "execution_count": 70,
     "metadata": {},
     "output_type": "execute_result"
    },
    {
     "data": {
      "text/html": [
       "Finishing last run (ID:28tn5yk6) before initializing another..."
      ],
      "text/plain": [
       "<IPython.core.display.HTML object>"
      ]
     },
     "metadata": {},
     "output_type": "display_data"
    },
    {
     "data": {
      "text/html": [
       "<br/>Waiting for W&B process to finish, PID 41319<br/>Program ended successfully."
      ],
      "text/plain": [
       "<IPython.core.display.HTML object>"
      ]
     },
     "metadata": {},
     "output_type": "display_data"
    },
    {
     "data": {
      "text/html": [
       "Find user logs for this run at: <code>/Users/simaonovais/Documents/GitHub/master-thesis/wandb/run-20210917_140617-28tn5yk6/logs/debug.log</code>"
      ],
      "text/plain": [
       "<IPython.core.display.HTML object>"
      ]
     },
     "metadata": {},
     "output_type": "display_data"
    },
    {
     "data": {
      "text/html": [
       "Find internal logs for this run at: <code>/Users/simaonovais/Documents/GitHub/master-thesis/wandb/run-20210917_140617-28tn5yk6/logs/debug-internal.log</code>"
      ],
      "text/plain": [
       "<IPython.core.display.HTML object>"
      ]
     },
     "metadata": {},
     "output_type": "display_data"
    },
    {
     "data": {
      "text/html": [
       "<h3>Run summary:</h3><br/><style>\n",
       "    table.wandb td:nth-child(1) { padding: 0 10px; text-align: right }\n",
       "    </style><table class=\"wandb\">\n",
       "<tr><td>loss</td><td>0.03999</td></tr><tr><td>_runtime</td><td>42</td></tr><tr><td>_timestamp</td><td>1631884022</td></tr><tr><td>_step</td><td>15</td></tr><tr><td>train_loss</td><td>0.03858</td></tr><tr><td>train_recall@30</td><td>0.62822</td></tr><tr><td>val_loss</td><td>0.04193</td></tr><tr><td>recall@10</td><td>0.34236</td></tr><tr><td>recall@20</td><td>0.50643</td></tr><tr><td>recall@30</td><td>0.61938</td></tr></table>"
      ],
      "text/plain": [
       "<IPython.core.display.HTML object>"
      ]
     },
     "metadata": {},
     "output_type": "display_data"
    },
    {
     "data": {
      "text/html": [
       "<h3>Run history:</h3><br/><style>\n",
       "    table.wandb td:nth-child(1) { padding: 0 10px; text-align: right }\n",
       "    </style><table class=\"wandb\">\n",
       "<tr><td>loss</td><td>█▅▃▃▂▂▂▁▁▁▁▁▁▁▁</td></tr><tr><td>_runtime</td><td>▁▁▂▂▃▃▃▄▄▄▅▅▆▆▇█</td></tr><tr><td>_timestamp</td><td>▁▁▂▂▃▃▃▄▄▄▅▅▆▆▇█</td></tr><tr><td>_step</td><td>▁▁▂▂▃▃▄▄▅▅▆▆▇▇██</td></tr><tr><td>train_loss</td><td>▁</td></tr><tr><td>train_recall@30</td><td>▁</td></tr><tr><td>val_loss</td><td>▁</td></tr><tr><td>recall@10</td><td>▁</td></tr><tr><td>recall@20</td><td>▁</td></tr><tr><td>recall@30</td><td>▁</td></tr></table><br/>"
      ],
      "text/plain": [
       "<IPython.core.display.HTML object>"
      ]
     },
     "metadata": {},
     "output_type": "display_data"
    },
    {
     "data": {
      "text/html": [
       "Synced 6 W&B file(s), 0 media file(s), 0 artifact file(s) and 0 other file(s)"
      ],
      "text/plain": [
       "<IPython.core.display.HTML object>"
      ]
     },
     "metadata": {},
     "output_type": "display_data"
    },
    {
     "data": {
      "text/html": [
       "\n",
       "                    <br/>Synced <strong style=\"color:#cdcd00\">youthful-plasma-228</strong>: <a href=\"https://wandb.ai/snovaisg/idrop_vs_rnn/runs/28tn5yk6\" target=\"_blank\">https://wandb.ai/snovaisg/idrop_vs_rnn/runs/28tn5yk6</a><br/>\n",
       "                "
      ],
      "text/plain": [
       "<IPython.core.display.HTML object>"
      ]
     },
     "metadata": {},
     "output_type": "display_data"
    },
    {
     "data": {
      "text/html": [
       "...Successfully finished last run (ID:28tn5yk6). Initializing new run:<br/><br/>"
      ],
      "text/plain": [
       "<IPython.core.display.HTML object>"
      ]
     },
     "metadata": {},
     "output_type": "display_data"
    },
    {
     "name": "stderr",
     "output_type": "stream",
     "text": [
      "\u001b[34m\u001b[1mwandb\u001b[0m: wandb version 0.12.2 is available!  To upgrade, please run:\n",
      "\u001b[34m\u001b[1mwandb\u001b[0m:  $ pip install wandb --upgrade\n"
     ]
    },
    {
     "data": {
      "text/html": [
       "\n",
       "                Tracking run with wandb version 0.12.1<br/>\n",
       "                Syncing run <strong style=\"color:#cdcd00\">flowing-deluge-229</strong> to <a href=\"https://wandb.ai\" target=\"_blank\">Weights & Biases</a> <a href=\"https://docs.wandb.com/integrations/jupyter.html\" target=\"_blank\">(Documentation)</a>.<br/>\n",
       "                Project page: <a href=\"https://wandb.ai/snovaisg/idrop_vs_rnn\" target=\"_blank\">https://wandb.ai/snovaisg/idrop_vs_rnn</a><br/>\n",
       "                Run page: <a href=\"https://wandb.ai/snovaisg/idrop_vs_rnn/runs/250l1wlm\" target=\"_blank\">https://wandb.ai/snovaisg/idrop_vs_rnn/runs/250l1wlm</a><br/>\n",
       "                Run data is saved locally in <code>/Users/simaonovais/Documents/GitHub/master-thesis/wandb/run-20210917_140702-250l1wlm</code><br/><br/>\n",
       "            "
      ],
      "text/plain": [
       "<IPython.core.display.HTML object>"
      ]
     },
     "metadata": {},
     "output_type": "display_data"
    },
    {
     "data": {
      "text/html": [
       "<h1>Run(250l1wlm)</h1><iframe src=\"https://wandb.ai/snovaisg/idrop_vs_rnn/runs/250l1wlm\" style=\"border:none;width:100%;height:400px\"></iframe>"
      ],
      "text/plain": [
       "<wandb.sdk.wandb_run.Run at 0x133933ca0>"
      ]
     },
     "execution_count": 70,
     "metadata": {},
     "output_type": "execute_result"
    },
    {
     "data": {
      "text/html": [
       "Finishing last run (ID:250l1wlm) before initializing another..."
      ],
      "text/plain": [
       "<IPython.core.display.HTML object>"
      ]
     },
     "metadata": {},
     "output_type": "display_data"
    },
    {
     "data": {
      "text/html": [
       "<br/>Waiting for W&B process to finish, PID 41341<br/>Program ended successfully."
      ],
      "text/plain": [
       "<IPython.core.display.HTML object>"
      ]
     },
     "metadata": {},
     "output_type": "display_data"
    },
    {
     "data": {
      "text/html": [
       "Find user logs for this run at: <code>/Users/simaonovais/Documents/GitHub/master-thesis/wandb/run-20210917_140702-250l1wlm/logs/debug.log</code>"
      ],
      "text/plain": [
       "<IPython.core.display.HTML object>"
      ]
     },
     "metadata": {},
     "output_type": "display_data"
    },
    {
     "data": {
      "text/html": [
       "Find internal logs for this run at: <code>/Users/simaonovais/Documents/GitHub/master-thesis/wandb/run-20210917_140702-250l1wlm/logs/debug-internal.log</code>"
      ],
      "text/plain": [
       "<IPython.core.display.HTML object>"
      ]
     },
     "metadata": {},
     "output_type": "display_data"
    },
    {
     "data": {
      "text/html": [
       "<h3>Run summary:</h3><br/><style>\n",
       "    table.wandb td:nth-child(1) { padding: 0 10px; text-align: right }\n",
       "    </style><table class=\"wandb\">\n",
       "<tr><td>loss</td><td>0.03815</td></tr><tr><td>_runtime</td><td>35</td></tr><tr><td>_timestamp</td><td>1631884061</td></tr><tr><td>_step</td><td>15</td></tr><tr><td>train_loss</td><td>0.03605</td></tr><tr><td>train_recall@30</td><td>0.71932</td></tr><tr><td>val_loss</td><td>0.03966</td></tr><tr><td>recall@10</td><td>0.41145</td></tr><tr><td>recall@20</td><td>0.57629</td></tr><tr><td>recall@30</td><td>0.68056</td></tr></table>"
      ],
      "text/plain": [
       "<IPython.core.display.HTML object>"
      ]
     },
     "metadata": {},
     "output_type": "display_data"
    },
    {
     "data": {
      "text/html": [
       "<h3>Run history:</h3><br/><style>\n",
       "    table.wandb td:nth-child(1) { padding: 0 10px; text-align: right }\n",
       "    </style><table class=\"wandb\">\n",
       "<tr><td>loss</td><td>█▅▃▃▂▂▂▁▁▁▁▁▁▁▁</td></tr><tr><td>_runtime</td><td>▁▁▂▂▃▃▃▄▄▅▅▅▆▆▇█</td></tr><tr><td>_timestamp</td><td>▁▁▂▂▃▃▃▄▄▅▅▅▆▆▇█</td></tr><tr><td>_step</td><td>▁▁▂▂▃▃▄▄▅▅▆▆▇▇██</td></tr><tr><td>train_loss</td><td>▁</td></tr><tr><td>train_recall@30</td><td>▁</td></tr><tr><td>val_loss</td><td>▁</td></tr><tr><td>recall@10</td><td>▁</td></tr><tr><td>recall@20</td><td>▁</td></tr><tr><td>recall@30</td><td>▁</td></tr></table><br/>"
      ],
      "text/plain": [
       "<IPython.core.display.HTML object>"
      ]
     },
     "metadata": {},
     "output_type": "display_data"
    },
    {
     "data": {
      "text/html": [
       "Synced 6 W&B file(s), 0 media file(s), 0 artifact file(s) and 0 other file(s)"
      ],
      "text/plain": [
       "<IPython.core.display.HTML object>"
      ]
     },
     "metadata": {},
     "output_type": "display_data"
    },
    {
     "data": {
      "text/html": [
       "\n",
       "                    <br/>Synced <strong style=\"color:#cdcd00\">flowing-deluge-229</strong>: <a href=\"https://wandb.ai/snovaisg/idrop_vs_rnn/runs/250l1wlm\" target=\"_blank\">https://wandb.ai/snovaisg/idrop_vs_rnn/runs/250l1wlm</a><br/>\n",
       "                "
      ],
      "text/plain": [
       "<IPython.core.display.HTML object>"
      ]
     },
     "metadata": {},
     "output_type": "display_data"
    },
    {
     "data": {
      "text/html": [
       "...Successfully finished last run (ID:250l1wlm). Initializing new run:<br/><br/>"
      ],
      "text/plain": [
       "<IPython.core.display.HTML object>"
      ]
     },
     "metadata": {},
     "output_type": "display_data"
    },
    {
     "name": "stderr",
     "output_type": "stream",
     "text": [
      "\u001b[34m\u001b[1mwandb\u001b[0m: wandb version 0.12.2 is available!  To upgrade, please run:\n",
      "\u001b[34m\u001b[1mwandb\u001b[0m:  $ pip install wandb --upgrade\n"
     ]
    },
    {
     "data": {
      "text/html": [
       "\n",
       "                Tracking run with wandb version 0.12.1<br/>\n",
       "                Syncing run <strong style=\"color:#cdcd00\">rare-vortex-230</strong> to <a href=\"https://wandb.ai\" target=\"_blank\">Weights & Biases</a> <a href=\"https://docs.wandb.com/integrations/jupyter.html\" target=\"_blank\">(Documentation)</a>.<br/>\n",
       "                Project page: <a href=\"https://wandb.ai/snovaisg/idrop_vs_rnn\" target=\"_blank\">https://wandb.ai/snovaisg/idrop_vs_rnn</a><br/>\n",
       "                Run page: <a href=\"https://wandb.ai/snovaisg/idrop_vs_rnn/runs/1495ksw1\" target=\"_blank\">https://wandb.ai/snovaisg/idrop_vs_rnn/runs/1495ksw1</a><br/>\n",
       "                Run data is saved locally in <code>/Users/simaonovais/Documents/GitHub/master-thesis/wandb/run-20210917_140741-1495ksw1</code><br/><br/>\n",
       "            "
      ],
      "text/plain": [
       "<IPython.core.display.HTML object>"
      ]
     },
     "metadata": {},
     "output_type": "display_data"
    },
    {
     "data": {
      "text/html": [
       "<h1>Run(1495ksw1)</h1><iframe src=\"https://wandb.ai/snovaisg/idrop_vs_rnn/runs/1495ksw1\" style=\"border:none;width:100%;height:400px\"></iframe>"
      ],
      "text/plain": [
       "<wandb.sdk.wandb_run.Run at 0x13392c1c0>"
      ]
     },
     "execution_count": 70,
     "metadata": {},
     "output_type": "execute_result"
    },
    {
     "data": {
      "text/html": [
       "Finishing last run (ID:1495ksw1) before initializing another..."
      ],
      "text/plain": [
       "<IPython.core.display.HTML object>"
      ]
     },
     "metadata": {},
     "output_type": "display_data"
    },
    {
     "data": {
      "text/html": [
       "<br/>Waiting for W&B process to finish, PID 41357<br/>Program ended successfully."
      ],
      "text/plain": [
       "<IPython.core.display.HTML object>"
      ]
     },
     "metadata": {},
     "output_type": "display_data"
    },
    {
     "data": {
      "text/html": [
       "Find user logs for this run at: <code>/Users/simaonovais/Documents/GitHub/master-thesis/wandb/run-20210917_140741-1495ksw1/logs/debug.log</code>"
      ],
      "text/plain": [
       "<IPython.core.display.HTML object>"
      ]
     },
     "metadata": {},
     "output_type": "display_data"
    },
    {
     "data": {
      "text/html": [
       "Find internal logs for this run at: <code>/Users/simaonovais/Documents/GitHub/master-thesis/wandb/run-20210917_140741-1495ksw1/logs/debug-internal.log</code>"
      ],
      "text/plain": [
       "<IPython.core.display.HTML object>"
      ]
     },
     "metadata": {},
     "output_type": "display_data"
    },
    {
     "data": {
      "text/html": [
       "<h3>Run summary:</h3><br/><style>\n",
       "    table.wandb td:nth-child(1) { padding: 0 10px; text-align: right }\n",
       "    </style><table class=\"wandb\">\n",
       "<tr><td>loss</td><td>0.04117</td></tr><tr><td>_runtime</td><td>38</td></tr><tr><td>_timestamp</td><td>1631884102</td></tr><tr><td>_step</td><td>15</td></tr><tr><td>train_loss</td><td>0.03952</td></tr><tr><td>train_recall@30</td><td>0.64746</td></tr><tr><td>val_loss</td><td>0.04183</td></tr><tr><td>recall@10</td><td>0.34865</td></tr><tr><td>recall@20</td><td>0.51521</td></tr><tr><td>recall@30</td><td>0.63055</td></tr></table>"
      ],
      "text/plain": [
       "<IPython.core.display.HTML object>"
      ]
     },
     "metadata": {},
     "output_type": "display_data"
    },
    {
     "data": {
      "text/html": [
       "<h3>Run history:</h3><br/><style>\n",
       "    table.wandb td:nth-child(1) { padding: 0 10px; text-align: right }\n",
       "    </style><table class=\"wandb\">\n",
       "<tr><td>loss</td><td>█▅▃▃▂▂▂▁▁▁▁▁▁▁▁</td></tr><tr><td>_runtime</td><td>▁▁▂▂▂▃▃▃▄▄▅▅▅▆▆█</td></tr><tr><td>_timestamp</td><td>▁▁▂▂▂▃▃▃▄▄▅▅▅▆▆█</td></tr><tr><td>_step</td><td>▁▁▂▂▃▃▄▄▅▅▆▆▇▇██</td></tr><tr><td>train_loss</td><td>▁</td></tr><tr><td>train_recall@30</td><td>▁</td></tr><tr><td>val_loss</td><td>▁</td></tr><tr><td>recall@10</td><td>▁</td></tr><tr><td>recall@20</td><td>▁</td></tr><tr><td>recall@30</td><td>▁</td></tr></table><br/>"
      ],
      "text/plain": [
       "<IPython.core.display.HTML object>"
      ]
     },
     "metadata": {},
     "output_type": "display_data"
    },
    {
     "data": {
      "text/html": [
       "Synced 6 W&B file(s), 0 media file(s), 0 artifact file(s) and 0 other file(s)"
      ],
      "text/plain": [
       "<IPython.core.display.HTML object>"
      ]
     },
     "metadata": {},
     "output_type": "display_data"
    },
    {
     "data": {
      "text/html": [
       "\n",
       "                    <br/>Synced <strong style=\"color:#cdcd00\">rare-vortex-230</strong>: <a href=\"https://wandb.ai/snovaisg/idrop_vs_rnn/runs/1495ksw1\" target=\"_blank\">https://wandb.ai/snovaisg/idrop_vs_rnn/runs/1495ksw1</a><br/>\n",
       "                "
      ],
      "text/plain": [
       "<IPython.core.display.HTML object>"
      ]
     },
     "metadata": {},
     "output_type": "display_data"
    },
    {
     "data": {
      "text/html": [
       "...Successfully finished last run (ID:1495ksw1). Initializing new run:<br/><br/>"
      ],
      "text/plain": [
       "<IPython.core.display.HTML object>"
      ]
     },
     "metadata": {},
     "output_type": "display_data"
    },
    {
     "name": "stderr",
     "output_type": "stream",
     "text": [
      "\u001b[34m\u001b[1mwandb\u001b[0m: wandb version 0.12.2 is available!  To upgrade, please run:\n",
      "\u001b[34m\u001b[1mwandb\u001b[0m:  $ pip install wandb --upgrade\n"
     ]
    },
    {
     "data": {
      "text/html": [
       "\n",
       "                Tracking run with wandb version 0.12.1<br/>\n",
       "                Syncing run <strong style=\"color:#cdcd00\">fluent-lake-231</strong> to <a href=\"https://wandb.ai\" target=\"_blank\">Weights & Biases</a> <a href=\"https://docs.wandb.com/integrations/jupyter.html\" target=\"_blank\">(Documentation)</a>.<br/>\n",
       "                Project page: <a href=\"https://wandb.ai/snovaisg/idrop_vs_rnn\" target=\"_blank\">https://wandb.ai/snovaisg/idrop_vs_rnn</a><br/>\n",
       "                Run page: <a href=\"https://wandb.ai/snovaisg/idrop_vs_rnn/runs/25ejq3qq\" target=\"_blank\">https://wandb.ai/snovaisg/idrop_vs_rnn/runs/25ejq3qq</a><br/>\n",
       "                Run data is saved locally in <code>/Users/simaonovais/Documents/GitHub/master-thesis/wandb/run-20210917_140822-25ejq3qq</code><br/><br/>\n",
       "            "
      ],
      "text/plain": [
       "<IPython.core.display.HTML object>"
      ]
     },
     "metadata": {},
     "output_type": "display_data"
    },
    {
     "data": {
      "text/html": [
       "<h1>Run(25ejq3qq)</h1><iframe src=\"https://wandb.ai/snovaisg/idrop_vs_rnn/runs/25ejq3qq\" style=\"border:none;width:100%;height:400px\"></iframe>"
      ],
      "text/plain": [
       "<wandb.sdk.wandb_run.Run at 0x13393c760>"
      ]
     },
     "execution_count": 70,
     "metadata": {},
     "output_type": "execute_result"
    },
    {
     "data": {
      "text/html": [
       "Finishing last run (ID:25ejq3qq) before initializing another..."
      ],
      "text/plain": [
       "<IPython.core.display.HTML object>"
      ]
     },
     "metadata": {},
     "output_type": "display_data"
    },
    {
     "data": {
      "text/html": [
       "<br/>Waiting for W&B process to finish, PID 41381<br/>Program ended successfully."
      ],
      "text/plain": [
       "<IPython.core.display.HTML object>"
      ]
     },
     "metadata": {},
     "output_type": "display_data"
    },
    {
     "data": {
      "text/html": [
       "Find user logs for this run at: <code>/Users/simaonovais/Documents/GitHub/master-thesis/wandb/run-20210917_140822-25ejq3qq/logs/debug.log</code>"
      ],
      "text/plain": [
       "<IPython.core.display.HTML object>"
      ]
     },
     "metadata": {},
     "output_type": "display_data"
    },
    {
     "data": {
      "text/html": [
       "Find internal logs for this run at: <code>/Users/simaonovais/Documents/GitHub/master-thesis/wandb/run-20210917_140822-25ejq3qq/logs/debug-internal.log</code>"
      ],
      "text/plain": [
       "<IPython.core.display.HTML object>"
      ]
     },
     "metadata": {},
     "output_type": "display_data"
    },
    {
     "data": {
      "text/html": [
       "<h3>Run summary:</h3><br/><style>\n",
       "    table.wandb td:nth-child(1) { padding: 0 10px; text-align: right }\n",
       "    </style><table class=\"wandb\">\n",
       "<tr><td>loss</td><td>0.03705</td></tr><tr><td>_runtime</td><td>39</td></tr><tr><td>_timestamp</td><td>1631884144</td></tr><tr><td>_step</td><td>15</td></tr><tr><td>train_loss</td><td>0.03502</td></tr><tr><td>train_recall@30</td><td>0.73094</td></tr><tr><td>val_loss</td><td>0.03921</td></tr><tr><td>recall@10</td><td>0.41935</td></tr><tr><td>recall@20</td><td>0.58724</td></tr><tr><td>recall@30</td><td>0.69047</td></tr></table>"
      ],
      "text/plain": [
       "<IPython.core.display.HTML object>"
      ]
     },
     "metadata": {},
     "output_type": "display_data"
    },
    {
     "data": {
      "text/html": [
       "<h3>Run history:</h3><br/><style>\n",
       "    table.wandb td:nth-child(1) { padding: 0 10px; text-align: right }\n",
       "    </style><table class=\"wandb\">\n",
       "<tr><td>loss</td><td>█▅▃▃▂▂▂▁▁▁▁▁▁▁▁</td></tr><tr><td>_runtime</td><td>▁▁▂▂▃▃▄▄▄▅▅▅▆▆▆█</td></tr><tr><td>_timestamp</td><td>▁▁▂▂▃▃▄▄▄▅▅▅▆▆▆█</td></tr><tr><td>_step</td><td>▁▁▂▂▃▃▄▄▅▅▆▆▇▇██</td></tr><tr><td>train_loss</td><td>▁</td></tr><tr><td>train_recall@30</td><td>▁</td></tr><tr><td>val_loss</td><td>▁</td></tr><tr><td>recall@10</td><td>▁</td></tr><tr><td>recall@20</td><td>▁</td></tr><tr><td>recall@30</td><td>▁</td></tr></table><br/>"
      ],
      "text/plain": [
       "<IPython.core.display.HTML object>"
      ]
     },
     "metadata": {},
     "output_type": "display_data"
    },
    {
     "data": {
      "text/html": [
       "Synced 6 W&B file(s), 0 media file(s), 0 artifact file(s) and 0 other file(s)"
      ],
      "text/plain": [
       "<IPython.core.display.HTML object>"
      ]
     },
     "metadata": {},
     "output_type": "display_data"
    },
    {
     "data": {
      "text/html": [
       "\n",
       "                    <br/>Synced <strong style=\"color:#cdcd00\">fluent-lake-231</strong>: <a href=\"https://wandb.ai/snovaisg/idrop_vs_rnn/runs/25ejq3qq\" target=\"_blank\">https://wandb.ai/snovaisg/idrop_vs_rnn/runs/25ejq3qq</a><br/>\n",
       "                "
      ],
      "text/plain": [
       "<IPython.core.display.HTML object>"
      ]
     },
     "metadata": {},
     "output_type": "display_data"
    },
    {
     "data": {
      "text/html": [
       "...Successfully finished last run (ID:25ejq3qq). Initializing new run:<br/><br/>"
      ],
      "text/plain": [
       "<IPython.core.display.HTML object>"
      ]
     },
     "metadata": {},
     "output_type": "display_data"
    },
    {
     "name": "stderr",
     "output_type": "stream",
     "text": [
      "\u001b[34m\u001b[1mwandb\u001b[0m: wandb version 0.12.2 is available!  To upgrade, please run:\n",
      "\u001b[34m\u001b[1mwandb\u001b[0m:  $ pip install wandb --upgrade\n"
     ]
    },
    {
     "data": {
      "text/html": [
       "\n",
       "                Tracking run with wandb version 0.12.1<br/>\n",
       "                Syncing run <strong style=\"color:#cdcd00\">classic-gorge-232</strong> to <a href=\"https://wandb.ai\" target=\"_blank\">Weights & Biases</a> <a href=\"https://docs.wandb.com/integrations/jupyter.html\" target=\"_blank\">(Documentation)</a>.<br/>\n",
       "                Project page: <a href=\"https://wandb.ai/snovaisg/idrop_vs_rnn\" target=\"_blank\">https://wandb.ai/snovaisg/idrop_vs_rnn</a><br/>\n",
       "                Run page: <a href=\"https://wandb.ai/snovaisg/idrop_vs_rnn/runs/3452n5xl\" target=\"_blank\">https://wandb.ai/snovaisg/idrop_vs_rnn/runs/3452n5xl</a><br/>\n",
       "                Run data is saved locally in <code>/Users/simaonovais/Documents/GitHub/master-thesis/wandb/run-20210917_140904-3452n5xl</code><br/><br/>\n",
       "            "
      ],
      "text/plain": [
       "<IPython.core.display.HTML object>"
      ]
     },
     "metadata": {},
     "output_type": "display_data"
    },
    {
     "data": {
      "text/html": [
       "<h1>Run(3452n5xl)</h1><iframe src=\"https://wandb.ai/snovaisg/idrop_vs_rnn/runs/3452n5xl\" style=\"border:none;width:100%;height:400px\"></iframe>"
      ],
      "text/plain": [
       "<wandb.sdk.wandb_run.Run at 0x1336d5ee0>"
      ]
     },
     "execution_count": 70,
     "metadata": {},
     "output_type": "execute_result"
    },
    {
     "data": {
      "text/html": [
       "Finishing last run (ID:3452n5xl) before initializing another..."
      ],
      "text/plain": [
       "<IPython.core.display.HTML object>"
      ]
     },
     "metadata": {},
     "output_type": "display_data"
    },
    {
     "data": {
      "text/html": [
       "<br/>Waiting for W&B process to finish, PID 41398<br/>Program ended successfully."
      ],
      "text/plain": [
       "<IPython.core.display.HTML object>"
      ]
     },
     "metadata": {},
     "output_type": "display_data"
    },
    {
     "data": {
      "text/html": [
       "Find user logs for this run at: <code>/Users/simaonovais/Documents/GitHub/master-thesis/wandb/run-20210917_140904-3452n5xl/logs/debug.log</code>"
      ],
      "text/plain": [
       "<IPython.core.display.HTML object>"
      ]
     },
     "metadata": {},
     "output_type": "display_data"
    },
    {
     "data": {
      "text/html": [
       "Find internal logs for this run at: <code>/Users/simaonovais/Documents/GitHub/master-thesis/wandb/run-20210917_140904-3452n5xl/logs/debug-internal.log</code>"
      ],
      "text/plain": [
       "<IPython.core.display.HTML object>"
      ]
     },
     "metadata": {},
     "output_type": "display_data"
    },
    {
     "data": {
      "text/html": [
       "<h3>Run summary:</h3><br/><style>\n",
       "    table.wandb td:nth-child(1) { padding: 0 10px; text-align: right }\n",
       "    </style><table class=\"wandb\">\n",
       "<tr><td>loss</td><td>0.03945</td></tr><tr><td>_runtime</td><td>44</td></tr><tr><td>_timestamp</td><td>1631884192</td></tr><tr><td>_step</td><td>15</td></tr><tr><td>train_loss</td><td>0.03962</td></tr><tr><td>train_recall@30</td><td>0.66072</td></tr><tr><td>val_loss</td><td>0.04109</td></tr><tr><td>recall@10</td><td>0.36333</td></tr><tr><td>recall@20</td><td>0.53156</td></tr><tr><td>recall@30</td><td>0.63991</td></tr></table>"
      ],
      "text/plain": [
       "<IPython.core.display.HTML object>"
      ]
     },
     "metadata": {},
     "output_type": "display_data"
    },
    {
     "data": {
      "text/html": [
       "<h3>Run history:</h3><br/><style>\n",
       "    table.wandb td:nth-child(1) { padding: 0 10px; text-align: right }\n",
       "    </style><table class=\"wandb\">\n",
       "<tr><td>loss</td><td>█▅▃▃▂▂▂▁▁▁▁▁▁▁▁</td></tr><tr><td>_runtime</td><td>▁▁▂▂▃▃▄▄▅▅▅▆▆▆▇█</td></tr><tr><td>_timestamp</td><td>▁▁▂▂▃▃▄▄▅▅▅▆▆▆▇█</td></tr><tr><td>_step</td><td>▁▁▂▂▃▃▄▄▅▅▆▆▇▇██</td></tr><tr><td>train_loss</td><td>▁</td></tr><tr><td>train_recall@30</td><td>▁</td></tr><tr><td>val_loss</td><td>▁</td></tr><tr><td>recall@10</td><td>▁</td></tr><tr><td>recall@20</td><td>▁</td></tr><tr><td>recall@30</td><td>▁</td></tr></table><br/>"
      ],
      "text/plain": [
       "<IPython.core.display.HTML object>"
      ]
     },
     "metadata": {},
     "output_type": "display_data"
    },
    {
     "data": {
      "text/html": [
       "Synced 6 W&B file(s), 0 media file(s), 0 artifact file(s) and 0 other file(s)"
      ],
      "text/plain": [
       "<IPython.core.display.HTML object>"
      ]
     },
     "metadata": {},
     "output_type": "display_data"
    },
    {
     "data": {
      "text/html": [
       "\n",
       "                    <br/>Synced <strong style=\"color:#cdcd00\">classic-gorge-232</strong>: <a href=\"https://wandb.ai/snovaisg/idrop_vs_rnn/runs/3452n5xl\" target=\"_blank\">https://wandb.ai/snovaisg/idrop_vs_rnn/runs/3452n5xl</a><br/>\n",
       "                "
      ],
      "text/plain": [
       "<IPython.core.display.HTML object>"
      ]
     },
     "metadata": {},
     "output_type": "display_data"
    },
    {
     "data": {
      "text/html": [
       "...Successfully finished last run (ID:3452n5xl). Initializing new run:<br/><br/>"
      ],
      "text/plain": [
       "<IPython.core.display.HTML object>"
      ]
     },
     "metadata": {},
     "output_type": "display_data"
    },
    {
     "name": "stderr",
     "output_type": "stream",
     "text": [
      "\u001b[34m\u001b[1mwandb\u001b[0m: wandb version 0.12.2 is available!  To upgrade, please run:\n",
      "\u001b[34m\u001b[1mwandb\u001b[0m:  $ pip install wandb --upgrade\n"
     ]
    },
    {
     "data": {
      "text/html": [
       "\n",
       "                Tracking run with wandb version 0.12.1<br/>\n",
       "                Syncing run <strong style=\"color:#cdcd00\">royal-armadillo-233</strong> to <a href=\"https://wandb.ai\" target=\"_blank\">Weights & Biases</a> <a href=\"https://docs.wandb.com/integrations/jupyter.html\" target=\"_blank\">(Documentation)</a>.<br/>\n",
       "                Project page: <a href=\"https://wandb.ai/snovaisg/idrop_vs_rnn\" target=\"_blank\">https://wandb.ai/snovaisg/idrop_vs_rnn</a><br/>\n",
       "                Run page: <a href=\"https://wandb.ai/snovaisg/idrop_vs_rnn/runs/3oh7vtf7\" target=\"_blank\">https://wandb.ai/snovaisg/idrop_vs_rnn/runs/3oh7vtf7</a><br/>\n",
       "                Run data is saved locally in <code>/Users/simaonovais/Documents/GitHub/master-thesis/wandb/run-20210917_140952-3oh7vtf7</code><br/><br/>\n",
       "            "
      ],
      "text/plain": [
       "<IPython.core.display.HTML object>"
      ]
     },
     "metadata": {},
     "output_type": "display_data"
    },
    {
     "data": {
      "text/html": [
       "<h1>Run(3oh7vtf7)</h1><iframe src=\"https://wandb.ai/snovaisg/idrop_vs_rnn/runs/3oh7vtf7\" style=\"border:none;width:100%;height:400px\"></iframe>"
      ],
      "text/plain": [
       "<wandb.sdk.wandb_run.Run at 0x1336ab550>"
      ]
     },
     "execution_count": 70,
     "metadata": {},
     "output_type": "execute_result"
    },
    {
     "data": {
      "text/html": [
       "Finishing last run (ID:3oh7vtf7) before initializing another..."
      ],
      "text/plain": [
       "<IPython.core.display.HTML object>"
      ]
     },
     "metadata": {},
     "output_type": "display_data"
    },
    {
     "data": {
      "text/html": [
       "<br/>Waiting for W&B process to finish, PID 41421<br/>Program ended successfully."
      ],
      "text/plain": [
       "<IPython.core.display.HTML object>"
      ]
     },
     "metadata": {},
     "output_type": "display_data"
    },
    {
     "data": {
      "text/html": [
       "Find user logs for this run at: <code>/Users/simaonovais/Documents/GitHub/master-thesis/wandb/run-20210917_140952-3oh7vtf7/logs/debug.log</code>"
      ],
      "text/plain": [
       "<IPython.core.display.HTML object>"
      ]
     },
     "metadata": {},
     "output_type": "display_data"
    },
    {
     "data": {
      "text/html": [
       "Find internal logs for this run at: <code>/Users/simaonovais/Documents/GitHub/master-thesis/wandb/run-20210917_140952-3oh7vtf7/logs/debug-internal.log</code>"
      ],
      "text/plain": [
       "<IPython.core.display.HTML object>"
      ]
     },
     "metadata": {},
     "output_type": "display_data"
    },
    {
     "data": {
      "text/html": [
       "<h3>Run summary:</h3><br/><style>\n",
       "    table.wandb td:nth-child(1) { padding: 0 10px; text-align: right }\n",
       "    </style><table class=\"wandb\">\n",
       "<tr><td>loss</td><td>0.03779</td></tr><tr><td>_runtime</td><td>35</td></tr><tr><td>_timestamp</td><td>1631884230</td></tr><tr><td>_step</td><td>15</td></tr><tr><td>train_loss</td><td>0.03432</td></tr><tr><td>train_recall@30</td><td>0.74117</td></tr><tr><td>val_loss</td><td>0.03895</td></tr><tr><td>recall@10</td><td>0.42578</td></tr><tr><td>recall@20</td><td>0.59675</td></tr><tr><td>recall@30</td><td>0.70009</td></tr></table>"
      ],
      "text/plain": [
       "<IPython.core.display.HTML object>"
      ]
     },
     "metadata": {},
     "output_type": "display_data"
    },
    {
     "data": {
      "text/html": [
       "<h3>Run history:</h3><br/><style>\n",
       "    table.wandb td:nth-child(1) { padding: 0 10px; text-align: right }\n",
       "    </style><table class=\"wandb\">\n",
       "<tr><td>loss</td><td>█▅▃▃▂▂▂▁▁▁▁▁▁▁▁</td></tr><tr><td>_runtime</td><td>▁▁▂▂▃▃▃▄▄▅▅▅▆▆▇█</td></tr><tr><td>_timestamp</td><td>▁▁▂▂▃▃▃▄▄▅▅▅▆▆▇█</td></tr><tr><td>_step</td><td>▁▁▂▂▃▃▄▄▅▅▆▆▇▇██</td></tr><tr><td>train_loss</td><td>▁</td></tr><tr><td>train_recall@30</td><td>▁</td></tr><tr><td>val_loss</td><td>▁</td></tr><tr><td>recall@10</td><td>▁</td></tr><tr><td>recall@20</td><td>▁</td></tr><tr><td>recall@30</td><td>▁</td></tr></table><br/>"
      ],
      "text/plain": [
       "<IPython.core.display.HTML object>"
      ]
     },
     "metadata": {},
     "output_type": "display_data"
    },
    {
     "data": {
      "text/html": [
       "Synced 6 W&B file(s), 0 media file(s), 0 artifact file(s) and 0 other file(s)"
      ],
      "text/plain": [
       "<IPython.core.display.HTML object>"
      ]
     },
     "metadata": {},
     "output_type": "display_data"
    },
    {
     "data": {
      "text/html": [
       "\n",
       "                    <br/>Synced <strong style=\"color:#cdcd00\">royal-armadillo-233</strong>: <a href=\"https://wandb.ai/snovaisg/idrop_vs_rnn/runs/3oh7vtf7\" target=\"_blank\">https://wandb.ai/snovaisg/idrop_vs_rnn/runs/3oh7vtf7</a><br/>\n",
       "                "
      ],
      "text/plain": [
       "<IPython.core.display.HTML object>"
      ]
     },
     "metadata": {},
     "output_type": "display_data"
    },
    {
     "data": {
      "text/html": [
       "...Successfully finished last run (ID:3oh7vtf7). Initializing new run:<br/><br/>"
      ],
      "text/plain": [
       "<IPython.core.display.HTML object>"
      ]
     },
     "metadata": {},
     "output_type": "display_data"
    },
    {
     "name": "stderr",
     "output_type": "stream",
     "text": [
      "\u001b[34m\u001b[1mwandb\u001b[0m: wandb version 0.12.2 is available!  To upgrade, please run:\n",
      "\u001b[34m\u001b[1mwandb\u001b[0m:  $ pip install wandb --upgrade\n"
     ]
    },
    {
     "data": {
      "text/html": [
       "\n",
       "                Tracking run with wandb version 0.12.1<br/>\n",
       "                Syncing run <strong style=\"color:#cdcd00\">neat-pond-234</strong> to <a href=\"https://wandb.ai\" target=\"_blank\">Weights & Biases</a> <a href=\"https://docs.wandb.com/integrations/jupyter.html\" target=\"_blank\">(Documentation)</a>.<br/>\n",
       "                Project page: <a href=\"https://wandb.ai/snovaisg/idrop_vs_rnn\" target=\"_blank\">https://wandb.ai/snovaisg/idrop_vs_rnn</a><br/>\n",
       "                Run page: <a href=\"https://wandb.ai/snovaisg/idrop_vs_rnn/runs/3636mqpm\" target=\"_blank\">https://wandb.ai/snovaisg/idrop_vs_rnn/runs/3636mqpm</a><br/>\n",
       "                Run data is saved locally in <code>/Users/simaonovais/Documents/GitHub/master-thesis/wandb/run-20210917_141030-3636mqpm</code><br/><br/>\n",
       "            "
      ],
      "text/plain": [
       "<IPython.core.display.HTML object>"
      ]
     },
     "metadata": {},
     "output_type": "display_data"
    },
    {
     "data": {
      "text/html": [
       "<h1>Run(3636mqpm)</h1><iframe src=\"https://wandb.ai/snovaisg/idrop_vs_rnn/runs/3636mqpm\" style=\"border:none;width:100%;height:400px\"></iframe>"
      ],
      "text/plain": [
       "<wandb.sdk.wandb_run.Run at 0x1336cb0a0>"
      ]
     },
     "execution_count": 70,
     "metadata": {},
     "output_type": "execute_result"
    },
    {
     "data": {
      "text/html": [
       "Finishing last run (ID:3636mqpm) before initializing another..."
      ],
      "text/plain": [
       "<IPython.core.display.HTML object>"
      ]
     },
     "metadata": {},
     "output_type": "display_data"
    },
    {
     "data": {
      "text/html": [
       "<br/>Waiting for W&B process to finish, PID 41450<br/>Program ended successfully."
      ],
      "text/plain": [
       "<IPython.core.display.HTML object>"
      ]
     },
     "metadata": {},
     "output_type": "display_data"
    },
    {
     "data": {
      "text/html": [
       "Find user logs for this run at: <code>/Users/simaonovais/Documents/GitHub/master-thesis/wandb/run-20210917_141030-3636mqpm/logs/debug.log</code>"
      ],
      "text/plain": [
       "<IPython.core.display.HTML object>"
      ]
     },
     "metadata": {},
     "output_type": "display_data"
    },
    {
     "data": {
      "text/html": [
       "Find internal logs for this run at: <code>/Users/simaonovais/Documents/GitHub/master-thesis/wandb/run-20210917_141030-3636mqpm/logs/debug-internal.log</code>"
      ],
      "text/plain": [
       "<IPython.core.display.HTML object>"
      ]
     },
     "metadata": {},
     "output_type": "display_data"
    },
    {
     "data": {
      "text/html": [
       "<h3>Run summary:</h3><br/><style>\n",
       "    table.wandb td:nth-child(1) { padding: 0 10px; text-align: right }\n",
       "    </style><table class=\"wandb\">\n",
       "<tr><td>loss</td><td>0.03899</td></tr><tr><td>_runtime</td><td>38</td></tr><tr><td>_timestamp</td><td>1631884271</td></tr><tr><td>_step</td><td>15</td></tr><tr><td>train_loss</td><td>0.03808</td></tr><tr><td>train_recall@30</td><td>0.65101</td></tr><tr><td>val_loss</td><td>0.04125</td></tr><tr><td>recall@10</td><td>0.35537</td></tr><tr><td>recall@20</td><td>0.52343</td></tr><tr><td>recall@30</td><td>0.63495</td></tr></table>"
      ],
      "text/plain": [
       "<IPython.core.display.HTML object>"
      ]
     },
     "metadata": {},
     "output_type": "display_data"
    },
    {
     "data": {
      "text/html": [
       "<h3>Run history:</h3><br/><style>\n",
       "    table.wandb td:nth-child(1) { padding: 0 10px; text-align: right }\n",
       "    </style><table class=\"wandb\">\n",
       "<tr><td>loss</td><td>█▅▃▃▂▂▂▁▁▁▁▁▁▁▁</td></tr><tr><td>_runtime</td><td>▁▁▂▂▃▃▄▄▄▅▅▅▆▆▇█</td></tr><tr><td>_timestamp</td><td>▁▁▂▂▃▃▄▄▄▅▅▅▆▆▇█</td></tr><tr><td>_step</td><td>▁▁▂▂▃▃▄▄▅▅▆▆▇▇██</td></tr><tr><td>train_loss</td><td>▁</td></tr><tr><td>train_recall@30</td><td>▁</td></tr><tr><td>val_loss</td><td>▁</td></tr><tr><td>recall@10</td><td>▁</td></tr><tr><td>recall@20</td><td>▁</td></tr><tr><td>recall@30</td><td>▁</td></tr></table><br/>"
      ],
      "text/plain": [
       "<IPython.core.display.HTML object>"
      ]
     },
     "metadata": {},
     "output_type": "display_data"
    },
    {
     "data": {
      "text/html": [
       "Synced 6 W&B file(s), 0 media file(s), 0 artifact file(s) and 0 other file(s)"
      ],
      "text/plain": [
       "<IPython.core.display.HTML object>"
      ]
     },
     "metadata": {},
     "output_type": "display_data"
    },
    {
     "data": {
      "text/html": [
       "\n",
       "                    <br/>Synced <strong style=\"color:#cdcd00\">neat-pond-234</strong>: <a href=\"https://wandb.ai/snovaisg/idrop_vs_rnn/runs/3636mqpm\" target=\"_blank\">https://wandb.ai/snovaisg/idrop_vs_rnn/runs/3636mqpm</a><br/>\n",
       "                "
      ],
      "text/plain": [
       "<IPython.core.display.HTML object>"
      ]
     },
     "metadata": {},
     "output_type": "display_data"
    },
    {
     "data": {
      "text/html": [
       "...Successfully finished last run (ID:3636mqpm). Initializing new run:<br/><br/>"
      ],
      "text/plain": [
       "<IPython.core.display.HTML object>"
      ]
     },
     "metadata": {},
     "output_type": "display_data"
    },
    {
     "name": "stderr",
     "output_type": "stream",
     "text": [
      "\u001b[34m\u001b[1mwandb\u001b[0m: wandb version 0.12.2 is available!  To upgrade, please run:\n",
      "\u001b[34m\u001b[1mwandb\u001b[0m:  $ pip install wandb --upgrade\n"
     ]
    },
    {
     "data": {
      "text/html": [
       "\n",
       "                Tracking run with wandb version 0.12.1<br/>\n",
       "                Syncing run <strong style=\"color:#cdcd00\">iconic-firebrand-235</strong> to <a href=\"https://wandb.ai\" target=\"_blank\">Weights & Biases</a> <a href=\"https://docs.wandb.com/integrations/jupyter.html\" target=\"_blank\">(Documentation)</a>.<br/>\n",
       "                Project page: <a href=\"https://wandb.ai/snovaisg/idrop_vs_rnn\" target=\"_blank\">https://wandb.ai/snovaisg/idrop_vs_rnn</a><br/>\n",
       "                Run page: <a href=\"https://wandb.ai/snovaisg/idrop_vs_rnn/runs/1lmuewqo\" target=\"_blank\">https://wandb.ai/snovaisg/idrop_vs_rnn/runs/1lmuewqo</a><br/>\n",
       "                Run data is saved locally in <code>/Users/simaonovais/Documents/GitHub/master-thesis/wandb/run-20210917_141111-1lmuewqo</code><br/><br/>\n",
       "            "
      ],
      "text/plain": [
       "<IPython.core.display.HTML object>"
      ]
     },
     "metadata": {},
     "output_type": "display_data"
    },
    {
     "data": {
      "text/html": [
       "<h1>Run(1lmuewqo)</h1><iframe src=\"https://wandb.ai/snovaisg/idrop_vs_rnn/runs/1lmuewqo\" style=\"border:none;width:100%;height:400px\"></iframe>"
      ],
      "text/plain": [
       "<wandb.sdk.wandb_run.Run at 0x1336b5a30>"
      ]
     },
     "execution_count": 70,
     "metadata": {},
     "output_type": "execute_result"
    },
    {
     "data": {
      "text/html": [
       "Finishing last run (ID:1lmuewqo) before initializing another..."
      ],
      "text/plain": [
       "<IPython.core.display.HTML object>"
      ]
     },
     "metadata": {},
     "output_type": "display_data"
    },
    {
     "data": {
      "text/html": [
       "<br/>Waiting for W&B process to finish, PID 41470<br/>Program ended successfully."
      ],
      "text/plain": [
       "<IPython.core.display.HTML object>"
      ]
     },
     "metadata": {},
     "output_type": "display_data"
    },
    {
     "data": {
      "text/html": [
       "Find user logs for this run at: <code>/Users/simaonovais/Documents/GitHub/master-thesis/wandb/run-20210917_141111-1lmuewqo/logs/debug.log</code>"
      ],
      "text/plain": [
       "<IPython.core.display.HTML object>"
      ]
     },
     "metadata": {},
     "output_type": "display_data"
    },
    {
     "data": {
      "text/html": [
       "Find internal logs for this run at: <code>/Users/simaonovais/Documents/GitHub/master-thesis/wandb/run-20210917_141111-1lmuewqo/logs/debug-internal.log</code>"
      ],
      "text/plain": [
       "<IPython.core.display.HTML object>"
      ]
     },
     "metadata": {},
     "output_type": "display_data"
    },
    {
     "data": {
      "text/html": [
       "<h3>Run summary:</h3><br/><style>\n",
       "    table.wandb td:nth-child(1) { padding: 0 10px; text-align: right }\n",
       "    </style><table class=\"wandb\">\n",
       "<tr><td>loss</td><td>0.03997</td></tr><tr><td>_runtime</td><td>32</td></tr><tr><td>_timestamp</td><td>1631884307</td></tr><tr><td>_step</td><td>15</td></tr><tr><td>train_loss</td><td>0.03747</td></tr><tr><td>train_recall@30</td><td>0.70549</td></tr><tr><td>val_loss</td><td>0.04207</td></tr><tr><td>recall@10</td><td>0.37639</td></tr><tr><td>recall@20</td><td>0.54851</td></tr><tr><td>recall@30</td><td>0.65873</td></tr></table>"
      ],
      "text/plain": [
       "<IPython.core.display.HTML object>"
      ]
     },
     "metadata": {},
     "output_type": "display_data"
    },
    {
     "data": {
      "text/html": [
       "<h3>Run history:</h3><br/><style>\n",
       "    table.wandb td:nth-child(1) { padding: 0 10px; text-align: right }\n",
       "    </style><table class=\"wandb\">\n",
       "<tr><td>loss</td><td>█▅▃▃▂▂▂▁▁▁▁▁▁▁▁</td></tr><tr><td>_runtime</td><td>▁▂▂▂▃▃▃▄▄▄▅▅▆▆▆█</td></tr><tr><td>_timestamp</td><td>▁▂▂▂▃▃▃▄▄▄▅▅▆▆▆█</td></tr><tr><td>_step</td><td>▁▁▂▂▃▃▄▄▅▅▆▆▇▇██</td></tr><tr><td>train_loss</td><td>▁</td></tr><tr><td>train_recall@30</td><td>▁</td></tr><tr><td>val_loss</td><td>▁</td></tr><tr><td>recall@10</td><td>▁</td></tr><tr><td>recall@20</td><td>▁</td></tr><tr><td>recall@30</td><td>▁</td></tr></table><br/>"
      ],
      "text/plain": [
       "<IPython.core.display.HTML object>"
      ]
     },
     "metadata": {},
     "output_type": "display_data"
    },
    {
     "data": {
      "text/html": [
       "Synced 6 W&B file(s), 0 media file(s), 0 artifact file(s) and 0 other file(s)"
      ],
      "text/plain": [
       "<IPython.core.display.HTML object>"
      ]
     },
     "metadata": {},
     "output_type": "display_data"
    },
    {
     "data": {
      "text/html": [
       "\n",
       "                    <br/>Synced <strong style=\"color:#cdcd00\">iconic-firebrand-235</strong>: <a href=\"https://wandb.ai/snovaisg/idrop_vs_rnn/runs/1lmuewqo\" target=\"_blank\">https://wandb.ai/snovaisg/idrop_vs_rnn/runs/1lmuewqo</a><br/>\n",
       "                "
      ],
      "text/plain": [
       "<IPython.core.display.HTML object>"
      ]
     },
     "metadata": {},
     "output_type": "display_data"
    },
    {
     "data": {
      "text/html": [
       "...Successfully finished last run (ID:1lmuewqo). Initializing new run:<br/><br/>"
      ],
      "text/plain": [
       "<IPython.core.display.HTML object>"
      ]
     },
     "metadata": {},
     "output_type": "display_data"
    },
    {
     "name": "stderr",
     "output_type": "stream",
     "text": [
      "\u001b[34m\u001b[1mwandb\u001b[0m: wandb version 0.12.2 is available!  To upgrade, please run:\n",
      "\u001b[34m\u001b[1mwandb\u001b[0m:  $ pip install wandb --upgrade\n"
     ]
    },
    {
     "data": {
      "text/html": [
       "\n",
       "                Tracking run with wandb version 0.12.1<br/>\n",
       "                Syncing run <strong style=\"color:#cdcd00\">solar-vortex-236</strong> to <a href=\"https://wandb.ai\" target=\"_blank\">Weights & Biases</a> <a href=\"https://docs.wandb.com/integrations/jupyter.html\" target=\"_blank\">(Documentation)</a>.<br/>\n",
       "                Project page: <a href=\"https://wandb.ai/snovaisg/idrop_vs_rnn\" target=\"_blank\">https://wandb.ai/snovaisg/idrop_vs_rnn</a><br/>\n",
       "                Run page: <a href=\"https://wandb.ai/snovaisg/idrop_vs_rnn/runs/2ev9fg4q\" target=\"_blank\">https://wandb.ai/snovaisg/idrop_vs_rnn/runs/2ev9fg4q</a><br/>\n",
       "                Run data is saved locally in <code>/Users/simaonovais/Documents/GitHub/master-thesis/wandb/run-20210917_141147-2ev9fg4q</code><br/><br/>\n",
       "            "
      ],
      "text/plain": [
       "<IPython.core.display.HTML object>"
      ]
     },
     "metadata": {},
     "output_type": "display_data"
    },
    {
     "data": {
      "text/html": [
       "<h1>Run(2ev9fg4q)</h1><iframe src=\"https://wandb.ai/snovaisg/idrop_vs_rnn/runs/2ev9fg4q\" style=\"border:none;width:100%;height:400px\"></iframe>"
      ],
      "text/plain": [
       "<wandb.sdk.wandb_run.Run at 0x1311b07f0>"
      ]
     },
     "execution_count": 70,
     "metadata": {},
     "output_type": "execute_result"
    },
    {
     "data": {
      "text/html": [
       "Finishing last run (ID:2ev9fg4q) before initializing another..."
      ],
      "text/plain": [
       "<IPython.core.display.HTML object>"
      ]
     },
     "metadata": {},
     "output_type": "display_data"
    },
    {
     "data": {
      "text/html": [
       "<br/>Waiting for W&B process to finish, PID 41487<br/>Program ended successfully."
      ],
      "text/plain": [
       "<IPython.core.display.HTML object>"
      ]
     },
     "metadata": {},
     "output_type": "display_data"
    },
    {
     "data": {
      "text/html": [
       "Find user logs for this run at: <code>/Users/simaonovais/Documents/GitHub/master-thesis/wandb/run-20210917_141147-2ev9fg4q/logs/debug.log</code>"
      ],
      "text/plain": [
       "<IPython.core.display.HTML object>"
      ]
     },
     "metadata": {},
     "output_type": "display_data"
    },
    {
     "data": {
      "text/html": [
       "Find internal logs for this run at: <code>/Users/simaonovais/Documents/GitHub/master-thesis/wandb/run-20210917_141147-2ev9fg4q/logs/debug-internal.log</code>"
      ],
      "text/plain": [
       "<IPython.core.display.HTML object>"
      ]
     },
     "metadata": {},
     "output_type": "display_data"
    },
    {
     "data": {
      "text/html": [
       "<h3>Run summary:</h3><br/><style>\n",
       "    table.wandb td:nth-child(1) { padding: 0 10px; text-align: right }\n",
       "    </style><table class=\"wandb\">\n",
       "<tr><td>loss</td><td>0.04244</td></tr><tr><td>_runtime</td><td>38</td></tr><tr><td>_timestamp</td><td>1631884348</td></tr><tr><td>_step</td><td>15</td></tr><tr><td>train_loss</td><td>0.04038</td></tr><tr><td>train_recall@30</td><td>0.62323</td></tr><tr><td>val_loss</td><td>0.04365</td></tr><tr><td>recall@10</td><td>0.32995</td></tr><tr><td>recall@20</td><td>0.49248</td></tr><tr><td>recall@30</td><td>0.6073</td></tr></table>"
      ],
      "text/plain": [
       "<IPython.core.display.HTML object>"
      ]
     },
     "metadata": {},
     "output_type": "display_data"
    },
    {
     "data": {
      "text/html": [
       "<h3>Run history:</h3><br/><style>\n",
       "    table.wandb td:nth-child(1) { padding: 0 10px; text-align: right }\n",
       "    </style><table class=\"wandb\">\n",
       "<tr><td>loss</td><td>█▅▃▃▂▂▂▁▁▁▁▁▁▁▁</td></tr><tr><td>_runtime</td><td>▁▁▂▂▃▃▃▄▄▅▅▅▆▆▇█</td></tr><tr><td>_timestamp</td><td>▁▁▂▂▃▃▃▄▄▅▅▅▆▆▇█</td></tr><tr><td>_step</td><td>▁▁▂▂▃▃▄▄▅▅▆▆▇▇██</td></tr><tr><td>train_loss</td><td>▁</td></tr><tr><td>train_recall@30</td><td>▁</td></tr><tr><td>val_loss</td><td>▁</td></tr><tr><td>recall@10</td><td>▁</td></tr><tr><td>recall@20</td><td>▁</td></tr><tr><td>recall@30</td><td>▁</td></tr></table><br/>"
      ],
      "text/plain": [
       "<IPython.core.display.HTML object>"
      ]
     },
     "metadata": {},
     "output_type": "display_data"
    },
    {
     "data": {
      "text/html": [
       "Synced 6 W&B file(s), 0 media file(s), 0 artifact file(s) and 0 other file(s)"
      ],
      "text/plain": [
       "<IPython.core.display.HTML object>"
      ]
     },
     "metadata": {},
     "output_type": "display_data"
    },
    {
     "data": {
      "text/html": [
       "\n",
       "                    <br/>Synced <strong style=\"color:#cdcd00\">solar-vortex-236</strong>: <a href=\"https://wandb.ai/snovaisg/idrop_vs_rnn/runs/2ev9fg4q\" target=\"_blank\">https://wandb.ai/snovaisg/idrop_vs_rnn/runs/2ev9fg4q</a><br/>\n",
       "                "
      ],
      "text/plain": [
       "<IPython.core.display.HTML object>"
      ]
     },
     "metadata": {},
     "output_type": "display_data"
    },
    {
     "data": {
      "text/html": [
       "...Successfully finished last run (ID:2ev9fg4q). Initializing new run:<br/><br/>"
      ],
      "text/plain": [
       "<IPython.core.display.HTML object>"
      ]
     },
     "metadata": {},
     "output_type": "display_data"
    },
    {
     "name": "stderr",
     "output_type": "stream",
     "text": [
      "\u001b[34m\u001b[1mwandb\u001b[0m: wandb version 0.12.2 is available!  To upgrade, please run:\n",
      "\u001b[34m\u001b[1mwandb\u001b[0m:  $ pip install wandb --upgrade\n"
     ]
    },
    {
     "data": {
      "text/html": [
       "\n",
       "                Tracking run with wandb version 0.12.1<br/>\n",
       "                Syncing run <strong style=\"color:#cdcd00\">pretty-water-237</strong> to <a href=\"https://wandb.ai\" target=\"_blank\">Weights & Biases</a> <a href=\"https://docs.wandb.com/integrations/jupyter.html\" target=\"_blank\">(Documentation)</a>.<br/>\n",
       "                Project page: <a href=\"https://wandb.ai/snovaisg/idrop_vs_rnn\" target=\"_blank\">https://wandb.ai/snovaisg/idrop_vs_rnn</a><br/>\n",
       "                Run page: <a href=\"https://wandb.ai/snovaisg/idrop_vs_rnn/runs/2rmuluwf\" target=\"_blank\">https://wandb.ai/snovaisg/idrop_vs_rnn/runs/2rmuluwf</a><br/>\n",
       "                Run data is saved locally in <code>/Users/simaonovais/Documents/GitHub/master-thesis/wandb/run-20210917_141228-2rmuluwf</code><br/><br/>\n",
       "            "
      ],
      "text/plain": [
       "<IPython.core.display.HTML object>"
      ]
     },
     "metadata": {},
     "output_type": "display_data"
    },
    {
     "data": {
      "text/html": [
       "<h1>Run(2rmuluwf)</h1><iframe src=\"https://wandb.ai/snovaisg/idrop_vs_rnn/runs/2rmuluwf\" style=\"border:none;width:100%;height:400px\"></iframe>"
      ],
      "text/plain": [
       "<wandb.sdk.wandb_run.Run at 0x1311c0520>"
      ]
     },
     "execution_count": 70,
     "metadata": {},
     "output_type": "execute_result"
    },
    {
     "data": {
      "text/html": [
       "Finishing last run (ID:2rmuluwf) before initializing another..."
      ],
      "text/plain": [
       "<IPython.core.display.HTML object>"
      ]
     },
     "metadata": {},
     "output_type": "display_data"
    },
    {
     "data": {
      "text/html": [
       "<br/>Waiting for W&B process to finish, PID 41511<br/>Program ended successfully."
      ],
      "text/plain": [
       "<IPython.core.display.HTML object>"
      ]
     },
     "metadata": {},
     "output_type": "display_data"
    },
    {
     "data": {
      "text/html": [
       "Find user logs for this run at: <code>/Users/simaonovais/Documents/GitHub/master-thesis/wandb/run-20210917_141228-2rmuluwf/logs/debug.log</code>"
      ],
      "text/plain": [
       "<IPython.core.display.HTML object>"
      ]
     },
     "metadata": {},
     "output_type": "display_data"
    },
    {
     "data": {
      "text/html": [
       "Find internal logs for this run at: <code>/Users/simaonovais/Documents/GitHub/master-thesis/wandb/run-20210917_141228-2rmuluwf/logs/debug-internal.log</code>"
      ],
      "text/plain": [
       "<IPython.core.display.HTML object>"
      ]
     },
     "metadata": {},
     "output_type": "display_data"
    },
    {
     "data": {
      "text/html": [
       "<h3>Run summary:</h3><br/><style>\n",
       "    table.wandb td:nth-child(1) { padding: 0 10px; text-align: right }\n",
       "    </style><table class=\"wandb\">\n",
       "<tr><td>loss</td><td>0.036</td></tr><tr><td>_runtime</td><td>36</td></tr><tr><td>_timestamp</td><td>1631884389</td></tr><tr><td>_step</td><td>15</td></tr><tr><td>train_loss</td><td>0.034</td></tr><tr><td>train_recall@30</td><td>0.7628</td></tr><tr><td>val_loss</td><td>0.03907</td></tr><tr><td>recall@10</td><td>0.42252</td></tr><tr><td>recall@20</td><td>0.5916</td></tr><tr><td>recall@30</td><td>0.69991</td></tr></table>"
      ],
      "text/plain": [
       "<IPython.core.display.HTML object>"
      ]
     },
     "metadata": {},
     "output_type": "display_data"
    },
    {
     "data": {
      "text/html": [
       "<h3>Run history:</h3><br/><style>\n",
       "    table.wandb td:nth-child(1) { padding: 0 10px; text-align: right }\n",
       "    </style><table class=\"wandb\">\n",
       "<tr><td>loss</td><td>█▅▃▃▂▂▂▁▁▁▁▁▁▁▁</td></tr><tr><td>_runtime</td><td>▁▁▂▂▃▃▃▄▄▅▅▅▆▆▇█</td></tr><tr><td>_timestamp</td><td>▁▁▂▂▃▃▃▄▄▅▅▅▆▆▇█</td></tr><tr><td>_step</td><td>▁▁▂▂▃▃▄▄▅▅▆▆▇▇██</td></tr><tr><td>train_loss</td><td>▁</td></tr><tr><td>train_recall@30</td><td>▁</td></tr><tr><td>val_loss</td><td>▁</td></tr><tr><td>recall@10</td><td>▁</td></tr><tr><td>recall@20</td><td>▁</td></tr><tr><td>recall@30</td><td>▁</td></tr></table><br/>"
      ],
      "text/plain": [
       "<IPython.core.display.HTML object>"
      ]
     },
     "metadata": {},
     "output_type": "display_data"
    },
    {
     "data": {
      "text/html": [
       "Synced 6 W&B file(s), 0 media file(s), 0 artifact file(s) and 0 other file(s)"
      ],
      "text/plain": [
       "<IPython.core.display.HTML object>"
      ]
     },
     "metadata": {},
     "output_type": "display_data"
    },
    {
     "data": {
      "text/html": [
       "\n",
       "                    <br/>Synced <strong style=\"color:#cdcd00\">pretty-water-237</strong>: <a href=\"https://wandb.ai/snovaisg/idrop_vs_rnn/runs/2rmuluwf\" target=\"_blank\">https://wandb.ai/snovaisg/idrop_vs_rnn/runs/2rmuluwf</a><br/>\n",
       "                "
      ],
      "text/plain": [
       "<IPython.core.display.HTML object>"
      ]
     },
     "metadata": {},
     "output_type": "display_data"
    },
    {
     "data": {
      "text/html": [
       "...Successfully finished last run (ID:2rmuluwf). Initializing new run:<br/><br/>"
      ],
      "text/plain": [
       "<IPython.core.display.HTML object>"
      ]
     },
     "metadata": {},
     "output_type": "display_data"
    },
    {
     "name": "stderr",
     "output_type": "stream",
     "text": [
      "\u001b[34m\u001b[1mwandb\u001b[0m: wandb version 0.12.2 is available!  To upgrade, please run:\n",
      "\u001b[34m\u001b[1mwandb\u001b[0m:  $ pip install wandb --upgrade\n"
     ]
    },
    {
     "data": {
      "text/html": [
       "\n",
       "                Tracking run with wandb version 0.12.1<br/>\n",
       "                Syncing run <strong style=\"color:#cdcd00\">easy-disco-238</strong> to <a href=\"https://wandb.ai\" target=\"_blank\">Weights & Biases</a> <a href=\"https://docs.wandb.com/integrations/jupyter.html\" target=\"_blank\">(Documentation)</a>.<br/>\n",
       "                Project page: <a href=\"https://wandb.ai/snovaisg/idrop_vs_rnn\" target=\"_blank\">https://wandb.ai/snovaisg/idrop_vs_rnn</a><br/>\n",
       "                Run page: <a href=\"https://wandb.ai/snovaisg/idrop_vs_rnn/runs/3e7qwnxu\" target=\"_blank\">https://wandb.ai/snovaisg/idrop_vs_rnn/runs/3e7qwnxu</a><br/>\n",
       "                Run data is saved locally in <code>/Users/simaonovais/Documents/GitHub/master-thesis/wandb/run-20210917_141309-3e7qwnxu</code><br/><br/>\n",
       "            "
      ],
      "text/plain": [
       "<IPython.core.display.HTML object>"
      ]
     },
     "metadata": {},
     "output_type": "display_data"
    },
    {
     "data": {
      "text/html": [
       "<h1>Run(3e7qwnxu)</h1><iframe src=\"https://wandb.ai/snovaisg/idrop_vs_rnn/runs/3e7qwnxu\" style=\"border:none;width:100%;height:400px\"></iframe>"
      ],
      "text/plain": [
       "<wandb.sdk.wandb_run.Run at 0x1311d1130>"
      ]
     },
     "execution_count": 70,
     "metadata": {},
     "output_type": "execute_result"
    },
    {
     "data": {
      "text/html": [
       "Finishing last run (ID:3e7qwnxu) before initializing another..."
      ],
      "text/plain": [
       "<IPython.core.display.HTML object>"
      ]
     },
     "metadata": {},
     "output_type": "display_data"
    },
    {
     "data": {
      "text/html": [
       "<br/>Waiting for W&B process to finish, PID 41530<br/>Program ended successfully."
      ],
      "text/plain": [
       "<IPython.core.display.HTML object>"
      ]
     },
     "metadata": {},
     "output_type": "display_data"
    },
    {
     "data": {
      "text/html": [
       "Find user logs for this run at: <code>/Users/simaonovais/Documents/GitHub/master-thesis/wandb/run-20210917_141309-3e7qwnxu/logs/debug.log</code>"
      ],
      "text/plain": [
       "<IPython.core.display.HTML object>"
      ]
     },
     "metadata": {},
     "output_type": "display_data"
    },
    {
     "data": {
      "text/html": [
       "Find internal logs for this run at: <code>/Users/simaonovais/Documents/GitHub/master-thesis/wandb/run-20210917_141309-3e7qwnxu/logs/debug-internal.log</code>"
      ],
      "text/plain": [
       "<IPython.core.display.HTML object>"
      ]
     },
     "metadata": {},
     "output_type": "display_data"
    },
    {
     "data": {
      "text/html": [
       "<h3>Run summary:</h3><br/><style>\n",
       "    table.wandb td:nth-child(1) { padding: 0 10px; text-align: right }\n",
       "    </style><table class=\"wandb\">\n",
       "<tr><td>loss</td><td>0.03845</td></tr><tr><td>_runtime</td><td>47</td></tr><tr><td>_timestamp</td><td>1631884440</td></tr><tr><td>_step</td><td>15</td></tr><tr><td>train_loss</td><td>0.03721</td></tr><tr><td>train_recall@30</td><td>0.69263</td></tr><tr><td>val_loss</td><td>0.04067</td></tr><tr><td>recall@10</td><td>0.38534</td></tr><tr><td>recall@20</td><td>0.55046</td></tr><tr><td>recall@30</td><td>0.66115</td></tr></table>"
      ],
      "text/plain": [
       "<IPython.core.display.HTML object>"
      ]
     },
     "metadata": {},
     "output_type": "display_data"
    },
    {
     "data": {
      "text/html": [
       "<h3>Run history:</h3><br/><style>\n",
       "    table.wandb td:nth-child(1) { padding: 0 10px; text-align: right }\n",
       "    </style><table class=\"wandb\">\n",
       "<tr><td>loss</td><td>█▅▃▃▂▂▂▁▁▁▁▁▁▁▁</td></tr><tr><td>_runtime</td><td>▁▁▂▂▃▃▄▄▄▅▅▆▆▆▇█</td></tr><tr><td>_timestamp</td><td>▁▁▂▂▃▃▄▄▄▅▅▆▆▆▇█</td></tr><tr><td>_step</td><td>▁▁▂▂▃▃▄▄▅▅▆▆▇▇██</td></tr><tr><td>train_loss</td><td>▁</td></tr><tr><td>train_recall@30</td><td>▁</td></tr><tr><td>val_loss</td><td>▁</td></tr><tr><td>recall@10</td><td>▁</td></tr><tr><td>recall@20</td><td>▁</td></tr><tr><td>recall@30</td><td>▁</td></tr></table><br/>"
      ],
      "text/plain": [
       "<IPython.core.display.HTML object>"
      ]
     },
     "metadata": {},
     "output_type": "display_data"
    },
    {
     "data": {
      "text/html": [
       "Synced 6 W&B file(s), 0 media file(s), 0 artifact file(s) and 0 other file(s)"
      ],
      "text/plain": [
       "<IPython.core.display.HTML object>"
      ]
     },
     "metadata": {},
     "output_type": "display_data"
    },
    {
     "data": {
      "text/html": [
       "\n",
       "                    <br/>Synced <strong style=\"color:#cdcd00\">easy-disco-238</strong>: <a href=\"https://wandb.ai/snovaisg/idrop_vs_rnn/runs/3e7qwnxu\" target=\"_blank\">https://wandb.ai/snovaisg/idrop_vs_rnn/runs/3e7qwnxu</a><br/>\n",
       "                "
      ],
      "text/plain": [
       "<IPython.core.display.HTML object>"
      ]
     },
     "metadata": {},
     "output_type": "display_data"
    },
    {
     "data": {
      "text/html": [
       "...Successfully finished last run (ID:3e7qwnxu). Initializing new run:<br/><br/>"
      ],
      "text/plain": [
       "<IPython.core.display.HTML object>"
      ]
     },
     "metadata": {},
     "output_type": "display_data"
    },
    {
     "name": "stderr",
     "output_type": "stream",
     "text": [
      "\u001b[34m\u001b[1mwandb\u001b[0m: wandb version 0.12.2 is available!  To upgrade, please run:\n",
      "\u001b[34m\u001b[1mwandb\u001b[0m:  $ pip install wandb --upgrade\n"
     ]
    },
    {
     "data": {
      "text/html": [
       "\n",
       "                Tracking run with wandb version 0.12.1<br/>\n",
       "                Syncing run <strong style=\"color:#cdcd00\">toasty-totem-239</strong> to <a href=\"https://wandb.ai\" target=\"_blank\">Weights & Biases</a> <a href=\"https://docs.wandb.com/integrations/jupyter.html\" target=\"_blank\">(Documentation)</a>.<br/>\n",
       "                Project page: <a href=\"https://wandb.ai/snovaisg/idrop_vs_rnn\" target=\"_blank\">https://wandb.ai/snovaisg/idrop_vs_rnn</a><br/>\n",
       "                Run page: <a href=\"https://wandb.ai/snovaisg/idrop_vs_rnn/runs/2u29f4lz\" target=\"_blank\">https://wandb.ai/snovaisg/idrop_vs_rnn/runs/2u29f4lz</a><br/>\n",
       "                Run data is saved locally in <code>/Users/simaonovais/Documents/GitHub/master-thesis/wandb/run-20210917_141400-2u29f4lz</code><br/><br/>\n",
       "            "
      ],
      "text/plain": [
       "<IPython.core.display.HTML object>"
      ]
     },
     "metadata": {},
     "output_type": "display_data"
    },
    {
     "data": {
      "text/html": [
       "<h1>Run(2u29f4lz)</h1><iframe src=\"https://wandb.ai/snovaisg/idrop_vs_rnn/runs/2u29f4lz\" style=\"border:none;width:100%;height:400px\"></iframe>"
      ],
      "text/plain": [
       "<wandb.sdk.wandb_run.Run at 0x1306a84f0>"
      ]
     },
     "execution_count": 70,
     "metadata": {},
     "output_type": "execute_result"
    },
    {
     "data": {
      "text/html": [
       "Finishing last run (ID:2u29f4lz) before initializing another..."
      ],
      "text/plain": [
       "<IPython.core.display.HTML object>"
      ]
     },
     "metadata": {},
     "output_type": "display_data"
    },
    {
     "data": {
      "text/html": [
       "<br/>Waiting for W&B process to finish, PID 41550<br/>Program ended successfully."
      ],
      "text/plain": [
       "<IPython.core.display.HTML object>"
      ]
     },
     "metadata": {},
     "output_type": "display_data"
    },
    {
     "data": {
      "text/html": [
       "Find user logs for this run at: <code>/Users/simaonovais/Documents/GitHub/master-thesis/wandb/run-20210917_141400-2u29f4lz/logs/debug.log</code>"
      ],
      "text/plain": [
       "<IPython.core.display.HTML object>"
      ]
     },
     "metadata": {},
     "output_type": "display_data"
    },
    {
     "data": {
      "text/html": [
       "Find internal logs for this run at: <code>/Users/simaonovais/Documents/GitHub/master-thesis/wandb/run-20210917_141400-2u29f4lz/logs/debug-internal.log</code>"
      ],
      "text/plain": [
       "<IPython.core.display.HTML object>"
      ]
     },
     "metadata": {},
     "output_type": "display_data"
    },
    {
     "data": {
      "text/html": [
       "<h3>Run summary:</h3><br/><style>\n",
       "    table.wandb td:nth-child(1) { padding: 0 10px; text-align: right }\n",
       "    </style><table class=\"wandb\">\n",
       "<tr><td>loss</td><td>0.03561</td></tr><tr><td>_runtime</td><td>39</td></tr><tr><td>_timestamp</td><td>1631884483</td></tr><tr><td>_step</td><td>15</td></tr><tr><td>train_loss</td><td>0.03353</td></tr><tr><td>train_recall@30</td><td>0.77647</td></tr><tr><td>val_loss</td><td>0.03892</td></tr><tr><td>recall@10</td><td>0.43096</td></tr><tr><td>recall@20</td><td>0.59697</td></tr><tr><td>recall@30</td><td>0.69891</td></tr></table>"
      ],
      "text/plain": [
       "<IPython.core.display.HTML object>"
      ]
     },
     "metadata": {},
     "output_type": "display_data"
    },
    {
     "data": {
      "text/html": [
       "<h3>Run history:</h3><br/><style>\n",
       "    table.wandb td:nth-child(1) { padding: 0 10px; text-align: right }\n",
       "    </style><table class=\"wandb\">\n",
       "<tr><td>loss</td><td>█▅▃▃▂▂▂▁▁▁▁▁▁▁▁</td></tr><tr><td>_runtime</td><td>▁▂▂▂▃▃▄▄▄▅▅▆▆▆▇█</td></tr><tr><td>_timestamp</td><td>▁▂▂▂▃▃▄▄▄▅▅▆▆▆▇█</td></tr><tr><td>_step</td><td>▁▁▂▂▃▃▄▄▅▅▆▆▇▇██</td></tr><tr><td>train_loss</td><td>▁</td></tr><tr><td>train_recall@30</td><td>▁</td></tr><tr><td>val_loss</td><td>▁</td></tr><tr><td>recall@10</td><td>▁</td></tr><tr><td>recall@20</td><td>▁</td></tr><tr><td>recall@30</td><td>▁</td></tr></table><br/>"
      ],
      "text/plain": [
       "<IPython.core.display.HTML object>"
      ]
     },
     "metadata": {},
     "output_type": "display_data"
    },
    {
     "data": {
      "text/html": [
       "Synced 6 W&B file(s), 0 media file(s), 0 artifact file(s) and 0 other file(s)"
      ],
      "text/plain": [
       "<IPython.core.display.HTML object>"
      ]
     },
     "metadata": {},
     "output_type": "display_data"
    },
    {
     "data": {
      "text/html": [
       "\n",
       "                    <br/>Synced <strong style=\"color:#cdcd00\">toasty-totem-239</strong>: <a href=\"https://wandb.ai/snovaisg/idrop_vs_rnn/runs/2u29f4lz\" target=\"_blank\">https://wandb.ai/snovaisg/idrop_vs_rnn/runs/2u29f4lz</a><br/>\n",
       "                "
      ],
      "text/plain": [
       "<IPython.core.display.HTML object>"
      ]
     },
     "metadata": {},
     "output_type": "display_data"
    },
    {
     "data": {
      "text/html": [
       "...Successfully finished last run (ID:2u29f4lz). Initializing new run:<br/><br/>"
      ],
      "text/plain": [
       "<IPython.core.display.HTML object>"
      ]
     },
     "metadata": {},
     "output_type": "display_data"
    },
    {
     "name": "stderr",
     "output_type": "stream",
     "text": [
      "\u001b[34m\u001b[1mwandb\u001b[0m: wandb version 0.12.2 is available!  To upgrade, please run:\n",
      "\u001b[34m\u001b[1mwandb\u001b[0m:  $ pip install wandb --upgrade\n"
     ]
    },
    {
     "data": {
      "text/html": [
       "\n",
       "                Tracking run with wandb version 0.12.1<br/>\n",
       "                Syncing run <strong style=\"color:#cdcd00\">dulcet-wave-240</strong> to <a href=\"https://wandb.ai\" target=\"_blank\">Weights & Biases</a> <a href=\"https://docs.wandb.com/integrations/jupyter.html\" target=\"_blank\">(Documentation)</a>.<br/>\n",
       "                Project page: <a href=\"https://wandb.ai/snovaisg/idrop_vs_rnn\" target=\"_blank\">https://wandb.ai/snovaisg/idrop_vs_rnn</a><br/>\n",
       "                Run page: <a href=\"https://wandb.ai/snovaisg/idrop_vs_rnn/runs/6qqqhiyq\" target=\"_blank\">https://wandb.ai/snovaisg/idrop_vs_rnn/runs/6qqqhiyq</a><br/>\n",
       "                Run data is saved locally in <code>/Users/simaonovais/Documents/GitHub/master-thesis/wandb/run-20210917_141443-6qqqhiyq</code><br/><br/>\n",
       "            "
      ],
      "text/plain": [
       "<IPython.core.display.HTML object>"
      ]
     },
     "metadata": {},
     "output_type": "display_data"
    },
    {
     "data": {
      "text/html": [
       "<h1>Run(6qqqhiyq)</h1><iframe src=\"https://wandb.ai/snovaisg/idrop_vs_rnn/runs/6qqqhiyq\" style=\"border:none;width:100%;height:400px\"></iframe>"
      ],
      "text/plain": [
       "<wandb.sdk.wandb_run.Run at 0x1306d4730>"
      ]
     },
     "execution_count": 70,
     "metadata": {},
     "output_type": "execute_result"
    },
    {
     "data": {
      "text/html": [
       "Finishing last run (ID:6qqqhiyq) before initializing another..."
      ],
      "text/plain": [
       "<IPython.core.display.HTML object>"
      ]
     },
     "metadata": {},
     "output_type": "display_data"
    },
    {
     "data": {
      "text/html": [
       "<br/>Waiting for W&B process to finish, PID 41573<br/>Program ended successfully."
      ],
      "text/plain": [
       "<IPython.core.display.HTML object>"
      ]
     },
     "metadata": {},
     "output_type": "display_data"
    },
    {
     "data": {
      "text/html": [
       "Find user logs for this run at: <code>/Users/simaonovais/Documents/GitHub/master-thesis/wandb/run-20210917_141443-6qqqhiyq/logs/debug.log</code>"
      ],
      "text/plain": [
       "<IPython.core.display.HTML object>"
      ]
     },
     "metadata": {},
     "output_type": "display_data"
    },
    {
     "data": {
      "text/html": [
       "Find internal logs for this run at: <code>/Users/simaonovais/Documents/GitHub/master-thesis/wandb/run-20210917_141443-6qqqhiyq/logs/debug-internal.log</code>"
      ],
      "text/plain": [
       "<IPython.core.display.HTML object>"
      ]
     },
     "metadata": {},
     "output_type": "display_data"
    },
    {
     "data": {
      "text/html": [
       "<h3>Run summary:</h3><br/><style>\n",
       "    table.wandb td:nth-child(1) { padding: 0 10px; text-align: right }\n",
       "    </style><table class=\"wandb\">\n",
       "<tr><td>loss</td><td>0.03818</td></tr><tr><td>_runtime</td><td>54</td></tr><tr><td>_timestamp</td><td>1631884541</td></tr><tr><td>_step</td><td>15</td></tr><tr><td>train_loss</td><td>0.03585</td></tr><tr><td>train_recall@30</td><td>0.70669</td></tr><tr><td>val_loss</td><td>0.04008</td></tr><tr><td>recall@10</td><td>0.38914</td></tr><tr><td>recall@20</td><td>0.5604</td></tr><tr><td>recall@30</td><td>0.67007</td></tr></table>"
      ],
      "text/plain": [
       "<IPython.core.display.HTML object>"
      ]
     },
     "metadata": {},
     "output_type": "display_data"
    },
    {
     "data": {
      "text/html": [
       "<h3>Run history:</h3><br/><style>\n",
       "    table.wandb td:nth-child(1) { padding: 0 10px; text-align: right }\n",
       "    </style><table class=\"wandb\">\n",
       "<tr><td>loss</td><td>█▅▃▃▂▂▂▁▁▁▁▁▁▁▁</td></tr><tr><td>_runtime</td><td>▁▁▂▂▃▃▃▄▄▅▅▆▆▆▇█</td></tr><tr><td>_timestamp</td><td>▁▁▂▂▃▃▃▄▄▅▅▆▆▆▇█</td></tr><tr><td>_step</td><td>▁▁▂▂▃▃▄▄▅▅▆▆▇▇██</td></tr><tr><td>train_loss</td><td>▁</td></tr><tr><td>train_recall@30</td><td>▁</td></tr><tr><td>val_loss</td><td>▁</td></tr><tr><td>recall@10</td><td>▁</td></tr><tr><td>recall@20</td><td>▁</td></tr><tr><td>recall@30</td><td>▁</td></tr></table><br/>"
      ],
      "text/plain": [
       "<IPython.core.display.HTML object>"
      ]
     },
     "metadata": {},
     "output_type": "display_data"
    },
    {
     "data": {
      "text/html": [
       "Synced 6 W&B file(s), 0 media file(s), 0 artifact file(s) and 0 other file(s)"
      ],
      "text/plain": [
       "<IPython.core.display.HTML object>"
      ]
     },
     "metadata": {},
     "output_type": "display_data"
    },
    {
     "data": {
      "text/html": [
       "\n",
       "                    <br/>Synced <strong style=\"color:#cdcd00\">dulcet-wave-240</strong>: <a href=\"https://wandb.ai/snovaisg/idrop_vs_rnn/runs/6qqqhiyq\" target=\"_blank\">https://wandb.ai/snovaisg/idrop_vs_rnn/runs/6qqqhiyq</a><br/>\n",
       "                "
      ],
      "text/plain": [
       "<IPython.core.display.HTML object>"
      ]
     },
     "metadata": {},
     "output_type": "display_data"
    },
    {
     "data": {
      "text/html": [
       "...Successfully finished last run (ID:6qqqhiyq). Initializing new run:<br/><br/>"
      ],
      "text/plain": [
       "<IPython.core.display.HTML object>"
      ]
     },
     "metadata": {},
     "output_type": "display_data"
    },
    {
     "name": "stderr",
     "output_type": "stream",
     "text": [
      "\u001b[34m\u001b[1mwandb\u001b[0m: wandb version 0.12.2 is available!  To upgrade, please run:\n",
      "\u001b[34m\u001b[1mwandb\u001b[0m:  $ pip install wandb --upgrade\n"
     ]
    },
    {
     "data": {
      "text/html": [
       "\n",
       "                Tracking run with wandb version 0.12.1<br/>\n",
       "                Syncing run <strong style=\"color:#cdcd00\">glad-universe-241</strong> to <a href=\"https://wandb.ai\" target=\"_blank\">Weights & Biases</a> <a href=\"https://docs.wandb.com/integrations/jupyter.html\" target=\"_blank\">(Documentation)</a>.<br/>\n",
       "                Project page: <a href=\"https://wandb.ai/snovaisg/idrop_vs_rnn\" target=\"_blank\">https://wandb.ai/snovaisg/idrop_vs_rnn</a><br/>\n",
       "                Run page: <a href=\"https://wandb.ai/snovaisg/idrop_vs_rnn/runs/xws7dlfo\" target=\"_blank\">https://wandb.ai/snovaisg/idrop_vs_rnn/runs/xws7dlfo</a><br/>\n",
       "                Run data is saved locally in <code>/Users/simaonovais/Documents/GitHub/master-thesis/wandb/run-20210917_141541-xws7dlfo</code><br/><br/>\n",
       "            "
      ],
      "text/plain": [
       "<IPython.core.display.HTML object>"
      ]
     },
     "metadata": {},
     "output_type": "display_data"
    },
    {
     "data": {
      "text/html": [
       "<h1>Run(xws7dlfo)</h1><iframe src=\"https://wandb.ai/snovaisg/idrop_vs_rnn/runs/xws7dlfo\" style=\"border:none;width:100%;height:400px\"></iframe>"
      ],
      "text/plain": [
       "<wandb.sdk.wandb_run.Run at 0x1306b08b0>"
      ]
     },
     "execution_count": 70,
     "metadata": {},
     "output_type": "execute_result"
    },
    {
     "data": {
      "text/html": [
       "Finishing last run (ID:xws7dlfo) before initializing another..."
      ],
      "text/plain": [
       "<IPython.core.display.HTML object>"
      ]
     },
     "metadata": {},
     "output_type": "display_data"
    },
    {
     "data": {
      "text/html": [
       "<br/>Waiting for W&B process to finish, PID 41715<br/>Program ended successfully."
      ],
      "text/plain": [
       "<IPython.core.display.HTML object>"
      ]
     },
     "metadata": {},
     "output_type": "display_data"
    },
    {
     "data": {
      "text/html": [
       "Find user logs for this run at: <code>/Users/simaonovais/Documents/GitHub/master-thesis/wandb/run-20210917_141541-xws7dlfo/logs/debug.log</code>"
      ],
      "text/plain": [
       "<IPython.core.display.HTML object>"
      ]
     },
     "metadata": {},
     "output_type": "display_data"
    },
    {
     "data": {
      "text/html": [
       "Find internal logs for this run at: <code>/Users/simaonovais/Documents/GitHub/master-thesis/wandb/run-20210917_141541-xws7dlfo/logs/debug-internal.log</code>"
      ],
      "text/plain": [
       "<IPython.core.display.HTML object>"
      ]
     },
     "metadata": {},
     "output_type": "display_data"
    },
    {
     "data": {
      "text/html": [
       "<h3>Run summary:</h3><br/><style>\n",
       "    table.wandb td:nth-child(1) { padding: 0 10px; text-align: right }\n",
       "    </style><table class=\"wandb\">\n",
       "<tr><td>loss</td><td>0.03949</td></tr><tr><td>_runtime</td><td>32</td></tr><tr><td>_timestamp</td><td>1631884577</td></tr><tr><td>_step</td><td>15</td></tr><tr><td>train_loss</td><td>0.0376</td></tr><tr><td>train_recall@30</td><td>0.66775</td></tr><tr><td>val_loss</td><td>0.041</td></tr><tr><td>recall@10</td><td>0.36059</td></tr><tr><td>recall@20</td><td>0.53489</td></tr><tr><td>recall@30</td><td>0.65171</td></tr></table>"
      ],
      "text/plain": [
       "<IPython.core.display.HTML object>"
      ]
     },
     "metadata": {},
     "output_type": "display_data"
    },
    {
     "data": {
      "text/html": [
       "<h3>Run history:</h3><br/><style>\n",
       "    table.wandb td:nth-child(1) { padding: 0 10px; text-align: right }\n",
       "    </style><table class=\"wandb\">\n",
       "<tr><td>loss</td><td>█▅▃▃▂▂▂▁▁▁▁▁▁▁▁</td></tr><tr><td>_runtime</td><td>▁▁▂▂▃▃▃▄▄▅▅▅▆▆▆█</td></tr><tr><td>_timestamp</td><td>▁▁▂▂▃▃▃▄▄▅▅▅▆▆▆█</td></tr><tr><td>_step</td><td>▁▁▂▂▃▃▄▄▅▅▆▆▇▇██</td></tr><tr><td>train_loss</td><td>▁</td></tr><tr><td>train_recall@30</td><td>▁</td></tr><tr><td>val_loss</td><td>▁</td></tr><tr><td>recall@10</td><td>▁</td></tr><tr><td>recall@20</td><td>▁</td></tr><tr><td>recall@30</td><td>▁</td></tr></table><br/>"
      ],
      "text/plain": [
       "<IPython.core.display.HTML object>"
      ]
     },
     "metadata": {},
     "output_type": "display_data"
    },
    {
     "data": {
      "text/html": [
       "Synced 6 W&B file(s), 0 media file(s), 0 artifact file(s) and 0 other file(s)"
      ],
      "text/plain": [
       "<IPython.core.display.HTML object>"
      ]
     },
     "metadata": {},
     "output_type": "display_data"
    },
    {
     "data": {
      "text/html": [
       "\n",
       "                    <br/>Synced <strong style=\"color:#cdcd00\">glad-universe-241</strong>: <a href=\"https://wandb.ai/snovaisg/idrop_vs_rnn/runs/xws7dlfo\" target=\"_blank\">https://wandb.ai/snovaisg/idrop_vs_rnn/runs/xws7dlfo</a><br/>\n",
       "                "
      ],
      "text/plain": [
       "<IPython.core.display.HTML object>"
      ]
     },
     "metadata": {},
     "output_type": "display_data"
    },
    {
     "data": {
      "text/html": [
       "...Successfully finished last run (ID:xws7dlfo). Initializing new run:<br/><br/>"
      ],
      "text/plain": [
       "<IPython.core.display.HTML object>"
      ]
     },
     "metadata": {},
     "output_type": "display_data"
    },
    {
     "name": "stderr",
     "output_type": "stream",
     "text": [
      "\u001b[34m\u001b[1mwandb\u001b[0m: wandb version 0.12.2 is available!  To upgrade, please run:\n",
      "\u001b[34m\u001b[1mwandb\u001b[0m:  $ pip install wandb --upgrade\n"
     ]
    },
    {
     "data": {
      "text/html": [
       "\n",
       "                Tracking run with wandb version 0.12.1<br/>\n",
       "                Syncing run <strong style=\"color:#cdcd00\">spring-wood-242</strong> to <a href=\"https://wandb.ai\" target=\"_blank\">Weights & Biases</a> <a href=\"https://docs.wandb.com/integrations/jupyter.html\" target=\"_blank\">(Documentation)</a>.<br/>\n",
       "                Project page: <a href=\"https://wandb.ai/snovaisg/idrop_vs_rnn\" target=\"_blank\">https://wandb.ai/snovaisg/idrop_vs_rnn</a><br/>\n",
       "                Run page: <a href=\"https://wandb.ai/snovaisg/idrop_vs_rnn/runs/jn5nn1s4\" target=\"_blank\">https://wandb.ai/snovaisg/idrop_vs_rnn/runs/jn5nn1s4</a><br/>\n",
       "                Run data is saved locally in <code>/Users/simaonovais/Documents/GitHub/master-thesis/wandb/run-20210917_141617-jn5nn1s4</code><br/><br/>\n",
       "            "
      ],
      "text/plain": [
       "<IPython.core.display.HTML object>"
      ]
     },
     "metadata": {},
     "output_type": "display_data"
    },
    {
     "data": {
      "text/html": [
       "<h1>Run(jn5nn1s4)</h1><iframe src=\"https://wandb.ai/snovaisg/idrop_vs_rnn/runs/jn5nn1s4\" style=\"border:none;width:100%;height:400px\"></iframe>"
      ],
      "text/plain": [
       "<wandb.sdk.wandb_run.Run at 0x1305c9310>"
      ]
     },
     "execution_count": 70,
     "metadata": {},
     "output_type": "execute_result"
    },
    {
     "data": {
      "text/html": [
       "Finishing last run (ID:jn5nn1s4) before initializing another..."
      ],
      "text/plain": [
       "<IPython.core.display.HTML object>"
      ]
     },
     "metadata": {},
     "output_type": "display_data"
    },
    {
     "data": {
      "text/html": [
       "<br/>Waiting for W&B process to finish, PID 41784<br/>Program ended successfully."
      ],
      "text/plain": [
       "<IPython.core.display.HTML object>"
      ]
     },
     "metadata": {},
     "output_type": "display_data"
    },
    {
     "data": {
      "text/html": [
       "Find user logs for this run at: <code>/Users/simaonovais/Documents/GitHub/master-thesis/wandb/run-20210917_141617-jn5nn1s4/logs/debug.log</code>"
      ],
      "text/plain": [
       "<IPython.core.display.HTML object>"
      ]
     },
     "metadata": {},
     "output_type": "display_data"
    },
    {
     "data": {
      "text/html": [
       "Find internal logs for this run at: <code>/Users/simaonovais/Documents/GitHub/master-thesis/wandb/run-20210917_141617-jn5nn1s4/logs/debug-internal.log</code>"
      ],
      "text/plain": [
       "<IPython.core.display.HTML object>"
      ]
     },
     "metadata": {},
     "output_type": "display_data"
    },
    {
     "data": {
      "text/html": [
       "<h3>Run summary:</h3><br/><style>\n",
       "    table.wandb td:nth-child(1) { padding: 0 10px; text-align: right }\n",
       "    </style><table class=\"wandb\">\n",
       "<tr><td>loss</td><td>0.0401</td></tr><tr><td>_runtime</td><td>33</td></tr><tr><td>_timestamp</td><td>1631884614</td></tr><tr><td>_step</td><td>15</td></tr><tr><td>train_loss</td><td>0.04119</td></tr><tr><td>train_recall@30</td><td>0.60433</td></tr><tr><td>val_loss</td><td>0.04269</td></tr><tr><td>recall@10</td><td>0.31916</td></tr><tr><td>recall@20</td><td>0.4872</td></tr><tr><td>recall@30</td><td>0.59593</td></tr></table>"
      ],
      "text/plain": [
       "<IPython.core.display.HTML object>"
      ]
     },
     "metadata": {},
     "output_type": "display_data"
    },
    {
     "data": {
      "text/html": [
       "<h3>Run history:</h3><br/><style>\n",
       "    table.wandb td:nth-child(1) { padding: 0 10px; text-align: right }\n",
       "    </style><table class=\"wandb\">\n",
       "<tr><td>loss</td><td>█▅▃▃▂▂▂▁▁▁▁▁▁▁▁</td></tr><tr><td>_runtime</td><td>▁▁▂▂▂▃▃▃▄▄▅▅▅▆▆█</td></tr><tr><td>_timestamp</td><td>▁▁▂▂▂▃▃▃▄▄▅▅▅▆▆█</td></tr><tr><td>_step</td><td>▁▁▂▂▃▃▄▄▅▅▆▆▇▇██</td></tr><tr><td>train_loss</td><td>▁</td></tr><tr><td>train_recall@30</td><td>▁</td></tr><tr><td>val_loss</td><td>▁</td></tr><tr><td>recall@10</td><td>▁</td></tr><tr><td>recall@20</td><td>▁</td></tr><tr><td>recall@30</td><td>▁</td></tr></table><br/>"
      ],
      "text/plain": [
       "<IPython.core.display.HTML object>"
      ]
     },
     "metadata": {},
     "output_type": "display_data"
    },
    {
     "data": {
      "text/html": [
       "Synced 6 W&B file(s), 0 media file(s), 0 artifact file(s) and 0 other file(s)"
      ],
      "text/plain": [
       "<IPython.core.display.HTML object>"
      ]
     },
     "metadata": {},
     "output_type": "display_data"
    },
    {
     "data": {
      "text/html": [
       "\n",
       "                    <br/>Synced <strong style=\"color:#cdcd00\">spring-wood-242</strong>: <a href=\"https://wandb.ai/snovaisg/idrop_vs_rnn/runs/jn5nn1s4\" target=\"_blank\">https://wandb.ai/snovaisg/idrop_vs_rnn/runs/jn5nn1s4</a><br/>\n",
       "                "
      ],
      "text/plain": [
       "<IPython.core.display.HTML object>"
      ]
     },
     "metadata": {},
     "output_type": "display_data"
    },
    {
     "data": {
      "text/html": [
       "...Successfully finished last run (ID:jn5nn1s4). Initializing new run:<br/><br/>"
      ],
      "text/plain": [
       "<IPython.core.display.HTML object>"
      ]
     },
     "metadata": {},
     "output_type": "display_data"
    },
    {
     "name": "stderr",
     "output_type": "stream",
     "text": [
      "\u001b[34m\u001b[1mwandb\u001b[0m: wandb version 0.12.2 is available!  To upgrade, please run:\n",
      "\u001b[34m\u001b[1mwandb\u001b[0m:  $ pip install wandb --upgrade\n"
     ]
    },
    {
     "data": {
      "text/html": [
       "\n",
       "                Tracking run with wandb version 0.12.1<br/>\n",
       "                Syncing run <strong style=\"color:#cdcd00\">fanciful-dawn-243</strong> to <a href=\"https://wandb.ai\" target=\"_blank\">Weights & Biases</a> <a href=\"https://docs.wandb.com/integrations/jupyter.html\" target=\"_blank\">(Documentation)</a>.<br/>\n",
       "                Project page: <a href=\"https://wandb.ai/snovaisg/idrop_vs_rnn\" target=\"_blank\">https://wandb.ai/snovaisg/idrop_vs_rnn</a><br/>\n",
       "                Run page: <a href=\"https://wandb.ai/snovaisg/idrop_vs_rnn/runs/3omprk5q\" target=\"_blank\">https://wandb.ai/snovaisg/idrop_vs_rnn/runs/3omprk5q</a><br/>\n",
       "                Run data is saved locally in <code>/Users/simaonovais/Documents/GitHub/master-thesis/wandb/run-20210917_141654-3omprk5q</code><br/><br/>\n",
       "            "
      ],
      "text/plain": [
       "<IPython.core.display.HTML object>"
      ]
     },
     "metadata": {},
     "output_type": "display_data"
    },
    {
     "data": {
      "text/html": [
       "<h1>Run(3omprk5q)</h1><iframe src=\"https://wandb.ai/snovaisg/idrop_vs_rnn/runs/3omprk5q\" style=\"border:none;width:100%;height:400px\"></iframe>"
      ],
      "text/plain": [
       "<wandb.sdk.wandb_run.Run at 0x1305aedf0>"
      ]
     },
     "execution_count": 70,
     "metadata": {},
     "output_type": "execute_result"
    },
    {
     "data": {
      "text/html": [
       "Finishing last run (ID:3omprk5q) before initializing another..."
      ],
      "text/plain": [
       "<IPython.core.display.HTML object>"
      ]
     },
     "metadata": {},
     "output_type": "display_data"
    },
    {
     "data": {
      "text/html": [
       "<br/>Waiting for W&B process to finish, PID 41829<br/>Program ended successfully."
      ],
      "text/plain": [
       "<IPython.core.display.HTML object>"
      ]
     },
     "metadata": {},
     "output_type": "display_data"
    },
    {
     "data": {
      "text/html": [
       "Find user logs for this run at: <code>/Users/simaonovais/Documents/GitHub/master-thesis/wandb/run-20210917_141654-3omprk5q/logs/debug.log</code>"
      ],
      "text/plain": [
       "<IPython.core.display.HTML object>"
      ]
     },
     "metadata": {},
     "output_type": "display_data"
    },
    {
     "data": {
      "text/html": [
       "Find internal logs for this run at: <code>/Users/simaonovais/Documents/GitHub/master-thesis/wandb/run-20210917_141654-3omprk5q/logs/debug-internal.log</code>"
      ],
      "text/plain": [
       "<IPython.core.display.HTML object>"
      ]
     },
     "metadata": {},
     "output_type": "display_data"
    },
    {
     "data": {
      "text/html": [
       "<h3>Run summary:</h3><br/><style>\n",
       "    table.wandb td:nth-child(1) { padding: 0 10px; text-align: right }\n",
       "    </style><table class=\"wandb\">\n",
       "<tr><td>loss</td><td>0.03951</td></tr><tr><td>_runtime</td><td>37</td></tr><tr><td>_timestamp</td><td>1631884654</td></tr><tr><td>_step</td><td>15</td></tr><tr><td>train_loss</td><td>0.03786</td></tr><tr><td>train_recall@30</td><td>0.68417</td></tr><tr><td>val_loss</td><td>0.04058</td></tr><tr><td>recall@10</td><td>0.38212</td></tr><tr><td>recall@20</td><td>0.55134</td></tr><tr><td>recall@30</td><td>0.66197</td></tr></table>"
      ],
      "text/plain": [
       "<IPython.core.display.HTML object>"
      ]
     },
     "metadata": {},
     "output_type": "display_data"
    },
    {
     "data": {
      "text/html": [
       "<h3>Run history:</h3><br/><style>\n",
       "    table.wandb td:nth-child(1) { padding: 0 10px; text-align: right }\n",
       "    </style><table class=\"wandb\">\n",
       "<tr><td>loss</td><td>█▅▃▃▂▂▂▁▁▁▁▁▁▁▁</td></tr><tr><td>_runtime</td><td>▁▁▂▂▃▃▃▄▄▄▅▅▆▆▆█</td></tr><tr><td>_timestamp</td><td>▁▁▂▂▃▃▃▄▄▄▅▅▆▆▆█</td></tr><tr><td>_step</td><td>▁▁▂▂▃▃▄▄▅▅▆▆▇▇██</td></tr><tr><td>train_loss</td><td>▁</td></tr><tr><td>train_recall@30</td><td>▁</td></tr><tr><td>val_loss</td><td>▁</td></tr><tr><td>recall@10</td><td>▁</td></tr><tr><td>recall@20</td><td>▁</td></tr><tr><td>recall@30</td><td>▁</td></tr></table><br/>"
      ],
      "text/plain": [
       "<IPython.core.display.HTML object>"
      ]
     },
     "metadata": {},
     "output_type": "display_data"
    },
    {
     "data": {
      "text/html": [
       "Synced 6 W&B file(s), 0 media file(s), 0 artifact file(s) and 0 other file(s)"
      ],
      "text/plain": [
       "<IPython.core.display.HTML object>"
      ]
     },
     "metadata": {},
     "output_type": "display_data"
    },
    {
     "data": {
      "text/html": [
       "\n",
       "                    <br/>Synced <strong style=\"color:#cdcd00\">fanciful-dawn-243</strong>: <a href=\"https://wandb.ai/snovaisg/idrop_vs_rnn/runs/3omprk5q\" target=\"_blank\">https://wandb.ai/snovaisg/idrop_vs_rnn/runs/3omprk5q</a><br/>\n",
       "                "
      ],
      "text/plain": [
       "<IPython.core.display.HTML object>"
      ]
     },
     "metadata": {},
     "output_type": "display_data"
    },
    {
     "data": {
      "text/html": [
       "...Successfully finished last run (ID:3omprk5q). Initializing new run:<br/><br/>"
      ],
      "text/plain": [
       "<IPython.core.display.HTML object>"
      ]
     },
     "metadata": {},
     "output_type": "display_data"
    },
    {
     "name": "stderr",
     "output_type": "stream",
     "text": [
      "\u001b[34m\u001b[1mwandb\u001b[0m: wandb version 0.12.2 is available!  To upgrade, please run:\n",
      "\u001b[34m\u001b[1mwandb\u001b[0m:  $ pip install wandb --upgrade\n"
     ]
    },
    {
     "data": {
      "text/html": [
       "\n",
       "                Tracking run with wandb version 0.12.1<br/>\n",
       "                Syncing run <strong style=\"color:#cdcd00\">eternal-salad-244</strong> to <a href=\"https://wandb.ai\" target=\"_blank\">Weights & Biases</a> <a href=\"https://docs.wandb.com/integrations/jupyter.html\" target=\"_blank\">(Documentation)</a>.<br/>\n",
       "                Project page: <a href=\"https://wandb.ai/snovaisg/idrop_vs_rnn\" target=\"_blank\">https://wandb.ai/snovaisg/idrop_vs_rnn</a><br/>\n",
       "                Run page: <a href=\"https://wandb.ai/snovaisg/idrop_vs_rnn/runs/12nkqesr\" target=\"_blank\">https://wandb.ai/snovaisg/idrop_vs_rnn/runs/12nkqesr</a><br/>\n",
       "                Run data is saved locally in <code>/Users/simaonovais/Documents/GitHub/master-thesis/wandb/run-20210917_141734-12nkqesr</code><br/><br/>\n",
       "            "
      ],
      "text/plain": [
       "<IPython.core.display.HTML object>"
      ]
     },
     "metadata": {},
     "output_type": "display_data"
    },
    {
     "data": {
      "text/html": [
       "<h1>Run(12nkqesr)</h1><iframe src=\"https://wandb.ai/snovaisg/idrop_vs_rnn/runs/12nkqesr\" style=\"border:none;width:100%;height:400px\"></iframe>"
      ],
      "text/plain": [
       "<wandb.sdk.wandb_run.Run at 0x1306a8610>"
      ]
     },
     "execution_count": 70,
     "metadata": {},
     "output_type": "execute_result"
    },
    {
     "data": {
      "text/html": [
       "Finishing last run (ID:12nkqesr) before initializing another..."
      ],
      "text/plain": [
       "<IPython.core.display.HTML object>"
      ]
     },
     "metadata": {},
     "output_type": "display_data"
    },
    {
     "data": {
      "text/html": [
       "<br/>Waiting for W&B process to finish, PID 41855<br/>Program ended successfully."
      ],
      "text/plain": [
       "<IPython.core.display.HTML object>"
      ]
     },
     "metadata": {},
     "output_type": "display_data"
    },
    {
     "data": {
      "text/html": [
       "Find user logs for this run at: <code>/Users/simaonovais/Documents/GitHub/master-thesis/wandb/run-20210917_141734-12nkqesr/logs/debug.log</code>"
      ],
      "text/plain": [
       "<IPython.core.display.HTML object>"
      ]
     },
     "metadata": {},
     "output_type": "display_data"
    },
    {
     "data": {
      "text/html": [
       "Find internal logs for this run at: <code>/Users/simaonovais/Documents/GitHub/master-thesis/wandb/run-20210917_141734-12nkqesr/logs/debug-internal.log</code>"
      ],
      "text/plain": [
       "<IPython.core.display.HTML object>"
      ]
     },
     "metadata": {},
     "output_type": "display_data"
    },
    {
     "data": {
      "text/html": [
       "<h3>Run summary:</h3><br/><style>\n",
       "    table.wandb td:nth-child(1) { padding: 0 10px; text-align: right }\n",
       "    </style><table class=\"wandb\">\n",
       "<tr><td>loss</td><td>0.04031</td></tr><tr><td>_runtime</td><td>44</td></tr><tr><td>_timestamp</td><td>1631884702</td></tr><tr><td>_step</td><td>15</td></tr><tr><td>train_loss</td><td>0.03815</td></tr><tr><td>train_recall@30</td><td>0.61404</td></tr><tr><td>val_loss</td><td>0.04244</td></tr><tr><td>recall@10</td><td>0.33474</td></tr><tr><td>recall@20</td><td>0.50008</td></tr><tr><td>recall@30</td><td>0.60928</td></tr></table>"
      ],
      "text/plain": [
       "<IPython.core.display.HTML object>"
      ]
     },
     "metadata": {},
     "output_type": "display_data"
    },
    {
     "data": {
      "text/html": [
       "<h3>Run history:</h3><br/><style>\n",
       "    table.wandb td:nth-child(1) { padding: 0 10px; text-align: right }\n",
       "    </style><table class=\"wandb\">\n",
       "<tr><td>loss</td><td>█▅▃▃▂▂▂▁▁▁▁▁▁▁▁</td></tr><tr><td>_runtime</td><td>▁▁▂▂▃▃▃▄▄▅▅▅▆▆▇█</td></tr><tr><td>_timestamp</td><td>▁▁▂▂▃▃▃▄▄▅▅▅▆▆▇█</td></tr><tr><td>_step</td><td>▁▁▂▂▃▃▄▄▅▅▆▆▇▇██</td></tr><tr><td>train_loss</td><td>▁</td></tr><tr><td>train_recall@30</td><td>▁</td></tr><tr><td>val_loss</td><td>▁</td></tr><tr><td>recall@10</td><td>▁</td></tr><tr><td>recall@20</td><td>▁</td></tr><tr><td>recall@30</td><td>▁</td></tr></table><br/>"
      ],
      "text/plain": [
       "<IPython.core.display.HTML object>"
      ]
     },
     "metadata": {},
     "output_type": "display_data"
    },
    {
     "data": {
      "text/html": [
       "Synced 6 W&B file(s), 0 media file(s), 0 artifact file(s) and 0 other file(s)"
      ],
      "text/plain": [
       "<IPython.core.display.HTML object>"
      ]
     },
     "metadata": {},
     "output_type": "display_data"
    },
    {
     "data": {
      "text/html": [
       "\n",
       "                    <br/>Synced <strong style=\"color:#cdcd00\">eternal-salad-244</strong>: <a href=\"https://wandb.ai/snovaisg/idrop_vs_rnn/runs/12nkqesr\" target=\"_blank\">https://wandb.ai/snovaisg/idrop_vs_rnn/runs/12nkqesr</a><br/>\n",
       "                "
      ],
      "text/plain": [
       "<IPython.core.display.HTML object>"
      ]
     },
     "metadata": {},
     "output_type": "display_data"
    },
    {
     "data": {
      "text/html": [
       "...Successfully finished last run (ID:12nkqesr). Initializing new run:<br/><br/>"
      ],
      "text/plain": [
       "<IPython.core.display.HTML object>"
      ]
     },
     "metadata": {},
     "output_type": "display_data"
    },
    {
     "name": "stderr",
     "output_type": "stream",
     "text": [
      "\u001b[34m\u001b[1mwandb\u001b[0m: wandb version 0.12.2 is available!  To upgrade, please run:\n",
      "\u001b[34m\u001b[1mwandb\u001b[0m:  $ pip install wandb --upgrade\n"
     ]
    },
    {
     "data": {
      "text/html": [
       "\n",
       "                Tracking run with wandb version 0.12.1<br/>\n",
       "                Syncing run <strong style=\"color:#cdcd00\">rural-fog-245</strong> to <a href=\"https://wandb.ai\" target=\"_blank\">Weights & Biases</a> <a href=\"https://docs.wandb.com/integrations/jupyter.html\" target=\"_blank\">(Documentation)</a>.<br/>\n",
       "                Project page: <a href=\"https://wandb.ai/snovaisg/idrop_vs_rnn\" target=\"_blank\">https://wandb.ai/snovaisg/idrop_vs_rnn</a><br/>\n",
       "                Run page: <a href=\"https://wandb.ai/snovaisg/idrop_vs_rnn/runs/3r1kfwbj\" target=\"_blank\">https://wandb.ai/snovaisg/idrop_vs_rnn/runs/3r1kfwbj</a><br/>\n",
       "                Run data is saved locally in <code>/Users/simaonovais/Documents/GitHub/master-thesis/wandb/run-20210917_141822-3r1kfwbj</code><br/><br/>\n",
       "            "
      ],
      "text/plain": [
       "<IPython.core.display.HTML object>"
      ]
     },
     "metadata": {},
     "output_type": "display_data"
    },
    {
     "data": {
      "text/html": [
       "<h1>Run(3r1kfwbj)</h1><iframe src=\"https://wandb.ai/snovaisg/idrop_vs_rnn/runs/3r1kfwbj\" style=\"border:none;width:100%;height:400px\"></iframe>"
      ],
      "text/plain": [
       "<wandb.sdk.wandb_run.Run at 0x1305d1a60>"
      ]
     },
     "execution_count": 70,
     "metadata": {},
     "output_type": "execute_result"
    },
    {
     "data": {
      "text/html": [
       "Finishing last run (ID:3r1kfwbj) before initializing another..."
      ],
      "text/plain": [
       "<IPython.core.display.HTML object>"
      ]
     },
     "metadata": {},
     "output_type": "display_data"
    },
    {
     "data": {
      "text/html": [
       "<br/>Waiting for W&B process to finish, PID 41881<br/>Program ended successfully."
      ],
      "text/plain": [
       "<IPython.core.display.HTML object>"
      ]
     },
     "metadata": {},
     "output_type": "display_data"
    },
    {
     "data": {
      "text/html": [
       "Find user logs for this run at: <code>/Users/simaonovais/Documents/GitHub/master-thesis/wandb/run-20210917_141822-3r1kfwbj/logs/debug.log</code>"
      ],
      "text/plain": [
       "<IPython.core.display.HTML object>"
      ]
     },
     "metadata": {},
     "output_type": "display_data"
    },
    {
     "data": {
      "text/html": [
       "Find internal logs for this run at: <code>/Users/simaonovais/Documents/GitHub/master-thesis/wandb/run-20210917_141822-3r1kfwbj/logs/debug-internal.log</code>"
      ],
      "text/plain": [
       "<IPython.core.display.HTML object>"
      ]
     },
     "metadata": {},
     "output_type": "display_data"
    },
    {
     "data": {
      "text/html": [
       "<h3>Run summary:</h3><br/><style>\n",
       "    table.wandb td:nth-child(1) { padding: 0 10px; text-align: right }\n",
       "    </style><table class=\"wandb\">\n",
       "<tr><td>loss</td><td>0.04027</td></tr><tr><td>_runtime</td><td>39</td></tr><tr><td>_timestamp</td><td>1631884745</td></tr><tr><td>_step</td><td>15</td></tr><tr><td>train_loss</td><td>0.03757</td></tr><tr><td>train_recall@30</td><td>0.67464</td></tr><tr><td>val_loss</td><td>0.04074</td></tr><tr><td>recall@10</td><td>0.38009</td></tr><tr><td>recall@20</td><td>0.54913</td></tr><tr><td>recall@30</td><td>0.65969</td></tr></table>"
      ],
      "text/plain": [
       "<IPython.core.display.HTML object>"
      ]
     },
     "metadata": {},
     "output_type": "display_data"
    },
    {
     "data": {
      "text/html": [
       "<h3>Run history:</h3><br/><style>\n",
       "    table.wandb td:nth-child(1) { padding: 0 10px; text-align: right }\n",
       "    </style><table class=\"wandb\">\n",
       "<tr><td>loss</td><td>█▅▃▃▂▂▂▁▁▁▁▁▁▁▁</td></tr><tr><td>_runtime</td><td>▁▁▂▂▂▃▃▄▄▄▅▅▅▆▆█</td></tr><tr><td>_timestamp</td><td>▁▁▂▂▂▃▃▄▄▄▅▅▅▆▆█</td></tr><tr><td>_step</td><td>▁▁▂▂▃▃▄▄▅▅▆▆▇▇██</td></tr><tr><td>train_loss</td><td>▁</td></tr><tr><td>train_recall@30</td><td>▁</td></tr><tr><td>val_loss</td><td>▁</td></tr><tr><td>recall@10</td><td>▁</td></tr><tr><td>recall@20</td><td>▁</td></tr><tr><td>recall@30</td><td>▁</td></tr></table><br/>"
      ],
      "text/plain": [
       "<IPython.core.display.HTML object>"
      ]
     },
     "metadata": {},
     "output_type": "display_data"
    },
    {
     "data": {
      "text/html": [
       "Synced 6 W&B file(s), 0 media file(s), 0 artifact file(s) and 0 other file(s)"
      ],
      "text/plain": [
       "<IPython.core.display.HTML object>"
      ]
     },
     "metadata": {},
     "output_type": "display_data"
    },
    {
     "data": {
      "text/html": [
       "\n",
       "                    <br/>Synced <strong style=\"color:#cdcd00\">rural-fog-245</strong>: <a href=\"https://wandb.ai/snovaisg/idrop_vs_rnn/runs/3r1kfwbj\" target=\"_blank\">https://wandb.ai/snovaisg/idrop_vs_rnn/runs/3r1kfwbj</a><br/>\n",
       "                "
      ],
      "text/plain": [
       "<IPython.core.display.HTML object>"
      ]
     },
     "metadata": {},
     "output_type": "display_data"
    },
    {
     "data": {
      "text/html": [
       "...Successfully finished last run (ID:3r1kfwbj). Initializing new run:<br/><br/>"
      ],
      "text/plain": [
       "<IPython.core.display.HTML object>"
      ]
     },
     "metadata": {},
     "output_type": "display_data"
    },
    {
     "name": "stderr",
     "output_type": "stream",
     "text": [
      "\u001b[34m\u001b[1mwandb\u001b[0m: wandb version 0.12.2 is available!  To upgrade, please run:\n",
      "\u001b[34m\u001b[1mwandb\u001b[0m:  $ pip install wandb --upgrade\n"
     ]
    },
    {
     "data": {
      "text/html": [
       "\n",
       "                Tracking run with wandb version 0.12.1<br/>\n",
       "                Syncing run <strong style=\"color:#cdcd00\">fast-valley-246</strong> to <a href=\"https://wandb.ai\" target=\"_blank\">Weights & Biases</a> <a href=\"https://docs.wandb.com/integrations/jupyter.html\" target=\"_blank\">(Documentation)</a>.<br/>\n",
       "                Project page: <a href=\"https://wandb.ai/snovaisg/idrop_vs_rnn\" target=\"_blank\">https://wandb.ai/snovaisg/idrop_vs_rnn</a><br/>\n",
       "                Run page: <a href=\"https://wandb.ai/snovaisg/idrop_vs_rnn/runs/zalqe29p\" target=\"_blank\">https://wandb.ai/snovaisg/idrop_vs_rnn/runs/zalqe29p</a><br/>\n",
       "                Run data is saved locally in <code>/Users/simaonovais/Documents/GitHub/master-thesis/wandb/run-20210917_141905-zalqe29p</code><br/><br/>\n",
       "            "
      ],
      "text/plain": [
       "<IPython.core.display.HTML object>"
      ]
     },
     "metadata": {},
     "output_type": "display_data"
    },
    {
     "data": {
      "text/html": [
       "<h1>Run(zalqe29p)</h1><iframe src=\"https://wandb.ai/snovaisg/idrop_vs_rnn/runs/zalqe29p\" style=\"border:none;width:100%;height:400px\"></iframe>"
      ],
      "text/plain": [
       "<wandb.sdk.wandb_run.Run at 0x1336a6a60>"
      ]
     },
     "execution_count": 70,
     "metadata": {},
     "output_type": "execute_result"
    },
    {
     "data": {
      "text/html": [
       "Finishing last run (ID:zalqe29p) before initializing another..."
      ],
      "text/plain": [
       "<IPython.core.display.HTML object>"
      ]
     },
     "metadata": {},
     "output_type": "display_data"
    },
    {
     "data": {
      "text/html": [
       "<br/>Waiting for W&B process to finish, PID 41900<br/>Program ended successfully."
      ],
      "text/plain": [
       "<IPython.core.display.HTML object>"
      ]
     },
     "metadata": {},
     "output_type": "display_data"
    },
    {
     "data": {
      "text/html": [
       "Find user logs for this run at: <code>/Users/simaonovais/Documents/GitHub/master-thesis/wandb/run-20210917_141905-zalqe29p/logs/debug.log</code>"
      ],
      "text/plain": [
       "<IPython.core.display.HTML object>"
      ]
     },
     "metadata": {},
     "output_type": "display_data"
    },
    {
     "data": {
      "text/html": [
       "Find internal logs for this run at: <code>/Users/simaonovais/Documents/GitHub/master-thesis/wandb/run-20210917_141905-zalqe29p/logs/debug-internal.log</code>"
      ],
      "text/plain": [
       "<IPython.core.display.HTML object>"
      ]
     },
     "metadata": {},
     "output_type": "display_data"
    },
    {
     "data": {
      "text/html": [
       "<h3>Run summary:</h3><br/><style>\n",
       "    table.wandb td:nth-child(1) { padding: 0 10px; text-align: right }\n",
       "    </style><table class=\"wandb\">\n",
       "<tr><td>loss</td><td>0.04068</td></tr><tr><td>_runtime</td><td>47</td></tr><tr><td>_timestamp</td><td>1631884796</td></tr><tr><td>_step</td><td>15</td></tr><tr><td>train_loss</td><td>0.03985</td></tr><tr><td>train_recall@30</td><td>0.62217</td></tr><tr><td>val_loss</td><td>0.04226</td></tr><tr><td>recall@10</td><td>0.33885</td></tr><tr><td>recall@20</td><td>0.50581</td></tr><tr><td>recall@30</td><td>0.61617</td></tr></table>"
      ],
      "text/plain": [
       "<IPython.core.display.HTML object>"
      ]
     },
     "metadata": {},
     "output_type": "display_data"
    },
    {
     "data": {
      "text/html": [
       "<h3>Run history:</h3><br/><style>\n",
       "    table.wandb td:nth-child(1) { padding: 0 10px; text-align: right }\n",
       "    </style><table class=\"wandb\">\n",
       "<tr><td>loss</td><td>█▅▃▃▂▂▂▁▁▁▁▁▁▁▁</td></tr><tr><td>_runtime</td><td>▁▁▂▂▃▃▃▄▄▅▅▅▆▆▇█</td></tr><tr><td>_timestamp</td><td>▁▁▂▂▃▃▃▄▄▅▅▅▆▆▇█</td></tr><tr><td>_step</td><td>▁▁▂▂▃▃▄▄▅▅▆▆▇▇██</td></tr><tr><td>train_loss</td><td>▁</td></tr><tr><td>train_recall@30</td><td>▁</td></tr><tr><td>val_loss</td><td>▁</td></tr><tr><td>recall@10</td><td>▁</td></tr><tr><td>recall@20</td><td>▁</td></tr><tr><td>recall@30</td><td>▁</td></tr></table><br/>"
      ],
      "text/plain": [
       "<IPython.core.display.HTML object>"
      ]
     },
     "metadata": {},
     "output_type": "display_data"
    },
    {
     "data": {
      "text/html": [
       "Synced 6 W&B file(s), 0 media file(s), 0 artifact file(s) and 0 other file(s)"
      ],
      "text/plain": [
       "<IPython.core.display.HTML object>"
      ]
     },
     "metadata": {},
     "output_type": "display_data"
    },
    {
     "data": {
      "text/html": [
       "\n",
       "                    <br/>Synced <strong style=\"color:#cdcd00\">fast-valley-246</strong>: <a href=\"https://wandb.ai/snovaisg/idrop_vs_rnn/runs/zalqe29p\" target=\"_blank\">https://wandb.ai/snovaisg/idrop_vs_rnn/runs/zalqe29p</a><br/>\n",
       "                "
      ],
      "text/plain": [
       "<IPython.core.display.HTML object>"
      ]
     },
     "metadata": {},
     "output_type": "display_data"
    },
    {
     "data": {
      "text/html": [
       "...Successfully finished last run (ID:zalqe29p). Initializing new run:<br/><br/>"
      ],
      "text/plain": [
       "<IPython.core.display.HTML object>"
      ]
     },
     "metadata": {},
     "output_type": "display_data"
    },
    {
     "name": "stderr",
     "output_type": "stream",
     "text": [
      "\u001b[34m\u001b[1mwandb\u001b[0m: wandb version 0.12.2 is available!  To upgrade, please run:\n",
      "\u001b[34m\u001b[1mwandb\u001b[0m:  $ pip install wandb --upgrade\n"
     ]
    },
    {
     "data": {
      "text/html": [
       "\n",
       "                Tracking run with wandb version 0.12.1<br/>\n",
       "                Syncing run <strong style=\"color:#cdcd00\">glowing-oath-247</strong> to <a href=\"https://wandb.ai\" target=\"_blank\">Weights & Biases</a> <a href=\"https://docs.wandb.com/integrations/jupyter.html\" target=\"_blank\">(Documentation)</a>.<br/>\n",
       "                Project page: <a href=\"https://wandb.ai/snovaisg/idrop_vs_rnn\" target=\"_blank\">https://wandb.ai/snovaisg/idrop_vs_rnn</a><br/>\n",
       "                Run page: <a href=\"https://wandb.ai/snovaisg/idrop_vs_rnn/runs/o9o9xxts\" target=\"_blank\">https://wandb.ai/snovaisg/idrop_vs_rnn/runs/o9o9xxts</a><br/>\n",
       "                Run data is saved locally in <code>/Users/simaonovais/Documents/GitHub/master-thesis/wandb/run-20210917_141956-o9o9xxts</code><br/><br/>\n",
       "            "
      ],
      "text/plain": [
       "<IPython.core.display.HTML object>"
      ]
     },
     "metadata": {},
     "output_type": "display_data"
    },
    {
     "data": {
      "text/html": [
       "<h1>Run(o9o9xxts)</h1><iframe src=\"https://wandb.ai/snovaisg/idrop_vs_rnn/runs/o9o9xxts\" style=\"border:none;width:100%;height:400px\"></iframe>"
      ],
      "text/plain": [
       "<wandb.sdk.wandb_run.Run at 0x1360b6910>"
      ]
     },
     "execution_count": 70,
     "metadata": {},
     "output_type": "execute_result"
    },
    {
     "data": {
      "text/html": [
       "Finishing last run (ID:o9o9xxts) before initializing another..."
      ],
      "text/plain": [
       "<IPython.core.display.HTML object>"
      ]
     },
     "metadata": {},
     "output_type": "display_data"
    },
    {
     "data": {
      "text/html": [
       "<br/>Waiting for W&B process to finish, PID 41919<br/>Program ended successfully."
      ],
      "text/plain": [
       "<IPython.core.display.HTML object>"
      ]
     },
     "metadata": {},
     "output_type": "display_data"
    },
    {
     "data": {
      "text/html": [
       "Find user logs for this run at: <code>/Users/simaonovais/Documents/GitHub/master-thesis/wandb/run-20210917_141956-o9o9xxts/logs/debug.log</code>"
      ],
      "text/plain": [
       "<IPython.core.display.HTML object>"
      ]
     },
     "metadata": {},
     "output_type": "display_data"
    },
    {
     "data": {
      "text/html": [
       "Find internal logs for this run at: <code>/Users/simaonovais/Documents/GitHub/master-thesis/wandb/run-20210917_141956-o9o9xxts/logs/debug-internal.log</code>"
      ],
      "text/plain": [
       "<IPython.core.display.HTML object>"
      ]
     },
     "metadata": {},
     "output_type": "display_data"
    },
    {
     "data": {
      "text/html": [
       "<h3>Run summary:</h3><br/><style>\n",
       "    table.wandb td:nth-child(1) { padding: 0 10px; text-align: right }\n",
       "    </style><table class=\"wandb\">\n",
       "<tr><td>loss</td><td>0.03912</td></tr><tr><td>_runtime</td><td>35</td></tr><tr><td>_timestamp</td><td>1631884835</td></tr><tr><td>_step</td><td>15</td></tr><tr><td>train_loss</td><td>0.03713</td></tr><tr><td>train_recall@30</td><td>0.68718</td></tr><tr><td>val_loss</td><td>0.04066</td></tr><tr><td>recall@10</td><td>0.37766</td></tr><tr><td>recall@20</td><td>0.55295</td></tr><tr><td>recall@30</td><td>0.66209</td></tr></table>"
      ],
      "text/plain": [
       "<IPython.core.display.HTML object>"
      ]
     },
     "metadata": {},
     "output_type": "display_data"
    },
    {
     "data": {
      "text/html": [
       "<h3>Run history:</h3><br/><style>\n",
       "    table.wandb td:nth-child(1) { padding: 0 10px; text-align: right }\n",
       "    </style><table class=\"wandb\">\n",
       "<tr><td>loss</td><td>█▅▃▃▂▂▂▁▁▁▁▁▁▁▁</td></tr><tr><td>_runtime</td><td>▁▁▂▂▃▃▄▄▄▅▅▅▆▆▇█</td></tr><tr><td>_timestamp</td><td>▁▁▂▂▃▃▄▄▄▅▅▅▆▆▇█</td></tr><tr><td>_step</td><td>▁▁▂▂▃▃▄▄▅▅▆▆▇▇██</td></tr><tr><td>train_loss</td><td>▁</td></tr><tr><td>train_recall@30</td><td>▁</td></tr><tr><td>val_loss</td><td>▁</td></tr><tr><td>recall@10</td><td>▁</td></tr><tr><td>recall@20</td><td>▁</td></tr><tr><td>recall@30</td><td>▁</td></tr></table><br/>"
      ],
      "text/plain": [
       "<IPython.core.display.HTML object>"
      ]
     },
     "metadata": {},
     "output_type": "display_data"
    },
    {
     "data": {
      "text/html": [
       "Synced 6 W&B file(s), 0 media file(s), 0 artifact file(s) and 0 other file(s)"
      ],
      "text/plain": [
       "<IPython.core.display.HTML object>"
      ]
     },
     "metadata": {},
     "output_type": "display_data"
    },
    {
     "data": {
      "text/html": [
       "\n",
       "                    <br/>Synced <strong style=\"color:#cdcd00\">glowing-oath-247</strong>: <a href=\"https://wandb.ai/snovaisg/idrop_vs_rnn/runs/o9o9xxts\" target=\"_blank\">https://wandb.ai/snovaisg/idrop_vs_rnn/runs/o9o9xxts</a><br/>\n",
       "                "
      ],
      "text/plain": [
       "<IPython.core.display.HTML object>"
      ]
     },
     "metadata": {},
     "output_type": "display_data"
    },
    {
     "data": {
      "text/html": [
       "...Successfully finished last run (ID:o9o9xxts). Initializing new run:<br/><br/>"
      ],
      "text/plain": [
       "<IPython.core.display.HTML object>"
      ]
     },
     "metadata": {},
     "output_type": "display_data"
    },
    {
     "name": "stderr",
     "output_type": "stream",
     "text": [
      "\u001b[34m\u001b[1mwandb\u001b[0m: wandb version 0.12.2 is available!  To upgrade, please run:\n",
      "\u001b[34m\u001b[1mwandb\u001b[0m:  $ pip install wandb --upgrade\n"
     ]
    },
    {
     "data": {
      "text/html": [
       "\n",
       "                Tracking run with wandb version 0.12.1<br/>\n",
       "                Syncing run <strong style=\"color:#cdcd00\">mild-elevator-248</strong> to <a href=\"https://wandb.ai\" target=\"_blank\">Weights & Biases</a> <a href=\"https://docs.wandb.com/integrations/jupyter.html\" target=\"_blank\">(Documentation)</a>.<br/>\n",
       "                Project page: <a href=\"https://wandb.ai/snovaisg/idrop_vs_rnn\" target=\"_blank\">https://wandb.ai/snovaisg/idrop_vs_rnn</a><br/>\n",
       "                Run page: <a href=\"https://wandb.ai/snovaisg/idrop_vs_rnn/runs/3qed34y2\" target=\"_blank\">https://wandb.ai/snovaisg/idrop_vs_rnn/runs/3qed34y2</a><br/>\n",
       "                Run data is saved locally in <code>/Users/simaonovais/Documents/GitHub/master-thesis/wandb/run-20210917_142035-3qed34y2</code><br/><br/>\n",
       "            "
      ],
      "text/plain": [
       "<IPython.core.display.HTML object>"
      ]
     },
     "metadata": {},
     "output_type": "display_data"
    },
    {
     "data": {
      "text/html": [
       "<h1>Run(3qed34y2)</h1><iframe src=\"https://wandb.ai/snovaisg/idrop_vs_rnn/runs/3qed34y2\" style=\"border:none;width:100%;height:400px\"></iframe>"
      ],
      "text/plain": [
       "<wandb.sdk.wandb_run.Run at 0x13cc2bd60>"
      ]
     },
     "execution_count": 70,
     "metadata": {},
     "output_type": "execute_result"
    },
    {
     "data": {
      "text/html": [
       "Finishing last run (ID:3qed34y2) before initializing another..."
      ],
      "text/plain": [
       "<IPython.core.display.HTML object>"
      ]
     },
     "metadata": {},
     "output_type": "display_data"
    },
    {
     "data": {
      "text/html": [
       "<br/>Waiting for W&B process to finish, PID 41956<br/>Program ended successfully."
      ],
      "text/plain": [
       "<IPython.core.display.HTML object>"
      ]
     },
     "metadata": {},
     "output_type": "display_data"
    },
    {
     "data": {
      "text/html": [
       "Find user logs for this run at: <code>/Users/simaonovais/Documents/GitHub/master-thesis/wandb/run-20210917_142035-3qed34y2/logs/debug.log</code>"
      ],
      "text/plain": [
       "<IPython.core.display.HTML object>"
      ]
     },
     "metadata": {},
     "output_type": "display_data"
    },
    {
     "data": {
      "text/html": [
       "Find internal logs for this run at: <code>/Users/simaonovais/Documents/GitHub/master-thesis/wandb/run-20210917_142035-3qed34y2/logs/debug-internal.log</code>"
      ],
      "text/plain": [
       "<IPython.core.display.HTML object>"
      ]
     },
     "metadata": {},
     "output_type": "display_data"
    },
    {
     "data": {
      "text/html": [
       "<h3>Run summary:</h3><br/><style>\n",
       "    table.wandb td:nth-child(1) { padding: 0 10px; text-align: right }\n",
       "    </style><table class=\"wandb\">\n",
       "<tr><td>loss</td><td>0.04181</td></tr><tr><td>_runtime</td><td>34</td></tr><tr><td>_timestamp</td><td>1631884873</td></tr><tr><td>_step</td><td>15</td></tr><tr><td>train_loss</td><td>0.03867</td></tr><tr><td>train_recall@30</td><td>0.63655</td></tr><tr><td>val_loss</td><td>0.04195</td></tr><tr><td>recall@10</td><td>0.34519</td></tr><tr><td>recall@20</td><td>0.51202</td></tr><tr><td>recall@30</td><td>0.6287</td></tr></table>"
      ],
      "text/plain": [
       "<IPython.core.display.HTML object>"
      ]
     },
     "metadata": {},
     "output_type": "display_data"
    },
    {
     "data": {
      "text/html": [
       "<h3>Run history:</h3><br/><style>\n",
       "    table.wandb td:nth-child(1) { padding: 0 10px; text-align: right }\n",
       "    </style><table class=\"wandb\">\n",
       "<tr><td>loss</td><td>█▅▃▃▂▂▂▁▁▁▁▁▁▁▁</td></tr><tr><td>_runtime</td><td>▁▁▂▂▃▃▃▄▄▅▅▅▅▆▆█</td></tr><tr><td>_timestamp</td><td>▁▁▂▂▃▃▃▄▄▅▅▅▅▆▆█</td></tr><tr><td>_step</td><td>▁▁▂▂▃▃▄▄▅▅▆▆▇▇██</td></tr><tr><td>train_loss</td><td>▁</td></tr><tr><td>train_recall@30</td><td>▁</td></tr><tr><td>val_loss</td><td>▁</td></tr><tr><td>recall@10</td><td>▁</td></tr><tr><td>recall@20</td><td>▁</td></tr><tr><td>recall@30</td><td>▁</td></tr></table><br/>"
      ],
      "text/plain": [
       "<IPython.core.display.HTML object>"
      ]
     },
     "metadata": {},
     "output_type": "display_data"
    },
    {
     "data": {
      "text/html": [
       "Synced 6 W&B file(s), 0 media file(s), 0 artifact file(s) and 0 other file(s)"
      ],
      "text/plain": [
       "<IPython.core.display.HTML object>"
      ]
     },
     "metadata": {},
     "output_type": "display_data"
    },
    {
     "data": {
      "text/html": [
       "\n",
       "                    <br/>Synced <strong style=\"color:#cdcd00\">mild-elevator-248</strong>: <a href=\"https://wandb.ai/snovaisg/idrop_vs_rnn/runs/3qed34y2\" target=\"_blank\">https://wandb.ai/snovaisg/idrop_vs_rnn/runs/3qed34y2</a><br/>\n",
       "                "
      ],
      "text/plain": [
       "<IPython.core.display.HTML object>"
      ]
     },
     "metadata": {},
     "output_type": "display_data"
    },
    {
     "data": {
      "text/html": [
       "...Successfully finished last run (ID:3qed34y2). Initializing new run:<br/><br/>"
      ],
      "text/plain": [
       "<IPython.core.display.HTML object>"
      ]
     },
     "metadata": {},
     "output_type": "display_data"
    },
    {
     "name": "stderr",
     "output_type": "stream",
     "text": [
      "\u001b[34m\u001b[1mwandb\u001b[0m: wandb version 0.12.2 is available!  To upgrade, please run:\n",
      "\u001b[34m\u001b[1mwandb\u001b[0m:  $ pip install wandb --upgrade\n"
     ]
    },
    {
     "data": {
      "text/html": [
       "\n",
       "                Tracking run with wandb version 0.12.1<br/>\n",
       "                Syncing run <strong style=\"color:#cdcd00\">hardy-dust-249</strong> to <a href=\"https://wandb.ai\" target=\"_blank\">Weights & Biases</a> <a href=\"https://docs.wandb.com/integrations/jupyter.html\" target=\"_blank\">(Documentation)</a>.<br/>\n",
       "                Project page: <a href=\"https://wandb.ai/snovaisg/idrop_vs_rnn\" target=\"_blank\">https://wandb.ai/snovaisg/idrop_vs_rnn</a><br/>\n",
       "                Run page: <a href=\"https://wandb.ai/snovaisg/idrop_vs_rnn/runs/1s2mqi8z\" target=\"_blank\">https://wandb.ai/snovaisg/idrop_vs_rnn/runs/1s2mqi8z</a><br/>\n",
       "                Run data is saved locally in <code>/Users/simaonovais/Documents/GitHub/master-thesis/wandb/run-20210917_142113-1s2mqi8z</code><br/><br/>\n",
       "            "
      ],
      "text/plain": [
       "<IPython.core.display.HTML object>"
      ]
     },
     "metadata": {},
     "output_type": "display_data"
    },
    {
     "data": {
      "text/html": [
       "<h1>Run(1s2mqi8z)</h1><iframe src=\"https://wandb.ai/snovaisg/idrop_vs_rnn/runs/1s2mqi8z\" style=\"border:none;width:100%;height:400px\"></iframe>"
      ],
      "text/plain": [
       "<wandb.sdk.wandb_run.Run at 0x1305d0850>"
      ]
     },
     "execution_count": 70,
     "metadata": {},
     "output_type": "execute_result"
    },
    {
     "data": {
      "text/html": [
       "Finishing last run (ID:1s2mqi8z) before initializing another..."
      ],
      "text/plain": [
       "<IPython.core.display.HTML object>"
      ]
     },
     "metadata": {},
     "output_type": "display_data"
    },
    {
     "data": {
      "text/html": [
       "<br/>Waiting for W&B process to finish, PID 41973<br/>Program ended successfully."
      ],
      "text/plain": [
       "<IPython.core.display.HTML object>"
      ]
     },
     "metadata": {},
     "output_type": "display_data"
    },
    {
     "data": {
      "text/html": [
       "Find user logs for this run at: <code>/Users/simaonovais/Documents/GitHub/master-thesis/wandb/run-20210917_142113-1s2mqi8z/logs/debug.log</code>"
      ],
      "text/plain": [
       "<IPython.core.display.HTML object>"
      ]
     },
     "metadata": {},
     "output_type": "display_data"
    },
    {
     "data": {
      "text/html": [
       "Find internal logs for this run at: <code>/Users/simaonovais/Documents/GitHub/master-thesis/wandb/run-20210917_142113-1s2mqi8z/logs/debug-internal.log</code>"
      ],
      "text/plain": [
       "<IPython.core.display.HTML object>"
      ]
     },
     "metadata": {},
     "output_type": "display_data"
    },
    {
     "data": {
      "text/html": [
       "<h3>Run summary:</h3><br/><style>\n",
       "    table.wandb td:nth-child(1) { padding: 0 10px; text-align: right }\n",
       "    </style><table class=\"wandb\">\n",
       "<tr><td>loss</td><td>0.03878</td></tr><tr><td>_runtime</td><td>33</td></tr><tr><td>_timestamp</td><td>1631884909</td></tr><tr><td>_step</td><td>15</td></tr><tr><td>train_loss</td><td>0.03678</td></tr><tr><td>train_recall@30</td><td>0.7111</td></tr><tr><td>val_loss</td><td>0.0399</td></tr><tr><td>recall@10</td><td>0.397</td></tr><tr><td>recall@20</td><td>0.57355</td></tr><tr><td>recall@30</td><td>0.68199</td></tr></table>"
      ],
      "text/plain": [
       "<IPython.core.display.HTML object>"
      ]
     },
     "metadata": {},
     "output_type": "display_data"
    },
    {
     "data": {
      "text/html": [
       "<h3>Run history:</h3><br/><style>\n",
       "    table.wandb td:nth-child(1) { padding: 0 10px; text-align: right }\n",
       "    </style><table class=\"wandb\">\n",
       "<tr><td>loss</td><td>█▅▃▃▂▂▂▁▁▁▁▁▁▁▁</td></tr><tr><td>_runtime</td><td>▁▁▂▂▃▃▃▄▄▅▅▅▆▆▇█</td></tr><tr><td>_timestamp</td><td>▁▁▂▂▃▃▃▄▄▅▅▅▆▆▇█</td></tr><tr><td>_step</td><td>▁▁▂▂▃▃▄▄▅▅▆▆▇▇██</td></tr><tr><td>train_loss</td><td>▁</td></tr><tr><td>train_recall@30</td><td>▁</td></tr><tr><td>val_loss</td><td>▁</td></tr><tr><td>recall@10</td><td>▁</td></tr><tr><td>recall@20</td><td>▁</td></tr><tr><td>recall@30</td><td>▁</td></tr></table><br/>"
      ],
      "text/plain": [
       "<IPython.core.display.HTML object>"
      ]
     },
     "metadata": {},
     "output_type": "display_data"
    },
    {
     "data": {
      "text/html": [
       "Synced 6 W&B file(s), 0 media file(s), 0 artifact file(s) and 0 other file(s)"
      ],
      "text/plain": [
       "<IPython.core.display.HTML object>"
      ]
     },
     "metadata": {},
     "output_type": "display_data"
    },
    {
     "data": {
      "text/html": [
       "\n",
       "                    <br/>Synced <strong style=\"color:#cdcd00\">hardy-dust-249</strong>: <a href=\"https://wandb.ai/snovaisg/idrop_vs_rnn/runs/1s2mqi8z\" target=\"_blank\">https://wandb.ai/snovaisg/idrop_vs_rnn/runs/1s2mqi8z</a><br/>\n",
       "                "
      ],
      "text/plain": [
       "<IPython.core.display.HTML object>"
      ]
     },
     "metadata": {},
     "output_type": "display_data"
    },
    {
     "data": {
      "text/html": [
       "...Successfully finished last run (ID:1s2mqi8z). Initializing new run:<br/><br/>"
      ],
      "text/plain": [
       "<IPython.core.display.HTML object>"
      ]
     },
     "metadata": {},
     "output_type": "display_data"
    },
    {
     "name": "stderr",
     "output_type": "stream",
     "text": [
      "\u001b[34m\u001b[1mwandb\u001b[0m: wandb version 0.12.2 is available!  To upgrade, please run:\n",
      "\u001b[34m\u001b[1mwandb\u001b[0m:  $ pip install wandb --upgrade\n"
     ]
    },
    {
     "data": {
      "text/html": [
       "\n",
       "                Tracking run with wandb version 0.12.1<br/>\n",
       "                Syncing run <strong style=\"color:#cdcd00\">vague-thunder-250</strong> to <a href=\"https://wandb.ai\" target=\"_blank\">Weights & Biases</a> <a href=\"https://docs.wandb.com/integrations/jupyter.html\" target=\"_blank\">(Documentation)</a>.<br/>\n",
       "                Project page: <a href=\"https://wandb.ai/snovaisg/idrop_vs_rnn\" target=\"_blank\">https://wandb.ai/snovaisg/idrop_vs_rnn</a><br/>\n",
       "                Run page: <a href=\"https://wandb.ai/snovaisg/idrop_vs_rnn/runs/28a50r2v\" target=\"_blank\">https://wandb.ai/snovaisg/idrop_vs_rnn/runs/28a50r2v</a><br/>\n",
       "                Run data is saved locally in <code>/Users/simaonovais/Documents/GitHub/master-thesis/wandb/run-20210917_142149-28a50r2v</code><br/><br/>\n",
       "            "
      ],
      "text/plain": [
       "<IPython.core.display.HTML object>"
      ]
     },
     "metadata": {},
     "output_type": "display_data"
    },
    {
     "data": {
      "text/html": [
       "<h1>Run(28a50r2v)</h1><iframe src=\"https://wandb.ai/snovaisg/idrop_vs_rnn/runs/28a50r2v\" style=\"border:none;width:100%;height:400px\"></iframe>"
      ],
      "text/plain": [
       "<wandb.sdk.wandb_run.Run at 0x1305bfca0>"
      ]
     },
     "execution_count": 70,
     "metadata": {},
     "output_type": "execute_result"
    },
    {
     "data": {
      "text/html": [
       "Finishing last run (ID:28a50r2v) before initializing another..."
      ],
      "text/plain": [
       "<IPython.core.display.HTML object>"
      ]
     },
     "metadata": {},
     "output_type": "display_data"
    },
    {
     "data": {
      "text/html": [
       "<br/>Waiting for W&B process to finish, PID 41988<br/>Program ended successfully."
      ],
      "text/plain": [
       "<IPython.core.display.HTML object>"
      ]
     },
     "metadata": {},
     "output_type": "display_data"
    },
    {
     "data": {
      "text/html": [
       "Find user logs for this run at: <code>/Users/simaonovais/Documents/GitHub/master-thesis/wandb/run-20210917_142149-28a50r2v/logs/debug.log</code>"
      ],
      "text/plain": [
       "<IPython.core.display.HTML object>"
      ]
     },
     "metadata": {},
     "output_type": "display_data"
    },
    {
     "data": {
      "text/html": [
       "Find internal logs for this run at: <code>/Users/simaonovais/Documents/GitHub/master-thesis/wandb/run-20210917_142149-28a50r2v/logs/debug-internal.log</code>"
      ],
      "text/plain": [
       "<IPython.core.display.HTML object>"
      ]
     },
     "metadata": {},
     "output_type": "display_data"
    },
    {
     "data": {
      "text/html": [
       "<h3>Run summary:</h3><br/><style>\n",
       "    table.wandb td:nth-child(1) { padding: 0 10px; text-align: right }\n",
       "    </style><table class=\"wandb\">\n",
       "<tr><td>loss</td><td>0.04085</td></tr><tr><td>_runtime</td><td>42</td></tr><tr><td>_timestamp</td><td>1631884954</td></tr><tr><td>_step</td><td>15</td></tr><tr><td>train_loss</td><td>0.03875</td></tr><tr><td>train_recall@30</td><td>0.63708</td></tr><tr><td>val_loss</td><td>0.04175</td></tr><tr><td>recall@10</td><td>0.34302</td></tr><tr><td>recall@20</td><td>0.51323</td></tr><tr><td>recall@30</td><td>0.6273</td></tr></table>"
      ],
      "text/plain": [
       "<IPython.core.display.HTML object>"
      ]
     },
     "metadata": {},
     "output_type": "display_data"
    },
    {
     "data": {
      "text/html": [
       "<h3>Run history:</h3><br/><style>\n",
       "    table.wandb td:nth-child(1) { padding: 0 10px; text-align: right }\n",
       "    </style><table class=\"wandb\">\n",
       "<tr><td>loss</td><td>█▅▃▃▂▂▂▁▁▁▁▁▁▁▁</td></tr><tr><td>_runtime</td><td>▁▁▂▂▃▃▄▄▄▅▅▆▆▆▇█</td></tr><tr><td>_timestamp</td><td>▁▁▂▂▃▃▄▄▄▅▅▆▆▆▇█</td></tr><tr><td>_step</td><td>▁▁▂▂▃▃▄▄▅▅▆▆▇▇██</td></tr><tr><td>train_loss</td><td>▁</td></tr><tr><td>train_recall@30</td><td>▁</td></tr><tr><td>val_loss</td><td>▁</td></tr><tr><td>recall@10</td><td>▁</td></tr><tr><td>recall@20</td><td>▁</td></tr><tr><td>recall@30</td><td>▁</td></tr></table><br/>"
      ],
      "text/plain": [
       "<IPython.core.display.HTML object>"
      ]
     },
     "metadata": {},
     "output_type": "display_data"
    },
    {
     "data": {
      "text/html": [
       "Synced 6 W&B file(s), 0 media file(s), 0 artifact file(s) and 0 other file(s)"
      ],
      "text/plain": [
       "<IPython.core.display.HTML object>"
      ]
     },
     "metadata": {},
     "output_type": "display_data"
    },
    {
     "data": {
      "text/html": [
       "\n",
       "                    <br/>Synced <strong style=\"color:#cdcd00\">vague-thunder-250</strong>: <a href=\"https://wandb.ai/snovaisg/idrop_vs_rnn/runs/28a50r2v\" target=\"_blank\">https://wandb.ai/snovaisg/idrop_vs_rnn/runs/28a50r2v</a><br/>\n",
       "                "
      ],
      "text/plain": [
       "<IPython.core.display.HTML object>"
      ]
     },
     "metadata": {},
     "output_type": "display_data"
    },
    {
     "data": {
      "text/html": [
       "...Successfully finished last run (ID:28a50r2v). Initializing new run:<br/><br/>"
      ],
      "text/plain": [
       "<IPython.core.display.HTML object>"
      ]
     },
     "metadata": {},
     "output_type": "display_data"
    },
    {
     "name": "stderr",
     "output_type": "stream",
     "text": [
      "\u001b[34m\u001b[1mwandb\u001b[0m: wandb version 0.12.2 is available!  To upgrade, please run:\n",
      "\u001b[34m\u001b[1mwandb\u001b[0m:  $ pip install wandb --upgrade\n"
     ]
    },
    {
     "data": {
      "text/html": [
       "\n",
       "                Tracking run with wandb version 0.12.1<br/>\n",
       "                Syncing run <strong style=\"color:#cdcd00\">stoic-dragon-251</strong> to <a href=\"https://wandb.ai\" target=\"_blank\">Weights & Biases</a> <a href=\"https://docs.wandb.com/integrations/jupyter.html\" target=\"_blank\">(Documentation)</a>.<br/>\n",
       "                Project page: <a href=\"https://wandb.ai/snovaisg/idrop_vs_rnn\" target=\"_blank\">https://wandb.ai/snovaisg/idrop_vs_rnn</a><br/>\n",
       "                Run page: <a href=\"https://wandb.ai/snovaisg/idrop_vs_rnn/runs/3ra0s8mn\" target=\"_blank\">https://wandb.ai/snovaisg/idrop_vs_rnn/runs/3ra0s8mn</a><br/>\n",
       "                Run data is saved locally in <code>/Users/simaonovais/Documents/GitHub/master-thesis/wandb/run-20210917_142234-3ra0s8mn</code><br/><br/>\n",
       "            "
      ],
      "text/plain": [
       "<IPython.core.display.HTML object>"
      ]
     },
     "metadata": {},
     "output_type": "display_data"
    },
    {
     "data": {
      "text/html": [
       "<h1>Run(3ra0s8mn)</h1><iframe src=\"https://wandb.ai/snovaisg/idrop_vs_rnn/runs/3ra0s8mn\" style=\"border:none;width:100%;height:400px\"></iframe>"
      ],
      "text/plain": [
       "<wandb.sdk.wandb_run.Run at 0x1312a75b0>"
      ]
     },
     "execution_count": 70,
     "metadata": {},
     "output_type": "execute_result"
    },
    {
     "data": {
      "text/html": [
       "Finishing last run (ID:3ra0s8mn) before initializing another..."
      ],
      "text/plain": [
       "<IPython.core.display.HTML object>"
      ]
     },
     "metadata": {},
     "output_type": "display_data"
    },
    {
     "data": {
      "text/html": [
       "<br/>Waiting for W&B process to finish, PID 42011<br/>Program ended successfully."
      ],
      "text/plain": [
       "<IPython.core.display.HTML object>"
      ]
     },
     "metadata": {},
     "output_type": "display_data"
    },
    {
     "data": {
      "text/html": [
       "Find user logs for this run at: <code>/Users/simaonovais/Documents/GitHub/master-thesis/wandb/run-20210917_142234-3ra0s8mn/logs/debug.log</code>"
      ],
      "text/plain": [
       "<IPython.core.display.HTML object>"
      ]
     },
     "metadata": {},
     "output_type": "display_data"
    },
    {
     "data": {
      "text/html": [
       "Find internal logs for this run at: <code>/Users/simaonovais/Documents/GitHub/master-thesis/wandb/run-20210917_142234-3ra0s8mn/logs/debug-internal.log</code>"
      ],
      "text/plain": [
       "<IPython.core.display.HTML object>"
      ]
     },
     "metadata": {},
     "output_type": "display_data"
    },
    {
     "data": {
      "text/html": [
       "<h3>Run summary:</h3><br/><style>\n",
       "    table.wandb td:nth-child(1) { padding: 0 10px; text-align: right }\n",
       "    </style><table class=\"wandb\">\n",
       "<tr><td>loss</td><td>0.039</td></tr><tr><td>_runtime</td><td>36</td></tr><tr><td>_timestamp</td><td>1631884993</td></tr><tr><td>_step</td><td>15</td></tr><tr><td>train_loss</td><td>0.03627</td></tr><tr><td>train_recall@30</td><td>0.71531</td></tr><tr><td>val_loss</td><td>0.03955</td></tr><tr><td>recall@10</td><td>0.40779</td></tr><tr><td>recall@20</td><td>0.58265</td></tr><tr><td>recall@30</td><td>0.68945</td></tr></table>"
      ],
      "text/plain": [
       "<IPython.core.display.HTML object>"
      ]
     },
     "metadata": {},
     "output_type": "display_data"
    },
    {
     "data": {
      "text/html": [
       "<h3>Run history:</h3><br/><style>\n",
       "    table.wandb td:nth-child(1) { padding: 0 10px; text-align: right }\n",
       "    </style><table class=\"wandb\">\n",
       "<tr><td>loss</td><td>█▅▃▃▂▂▂▁▁▁▁▁▁▁▁</td></tr><tr><td>_runtime</td><td>▁▁▂▂▂▃▃▄▄▅▅▅▆▆▆█</td></tr><tr><td>_timestamp</td><td>▁▁▂▂▂▃▃▄▄▅▅▅▆▆▆█</td></tr><tr><td>_step</td><td>▁▁▂▂▃▃▄▄▅▅▆▆▇▇██</td></tr><tr><td>train_loss</td><td>▁</td></tr><tr><td>train_recall@30</td><td>▁</td></tr><tr><td>val_loss</td><td>▁</td></tr><tr><td>recall@10</td><td>▁</td></tr><tr><td>recall@20</td><td>▁</td></tr><tr><td>recall@30</td><td>▁</td></tr></table><br/>"
      ],
      "text/plain": [
       "<IPython.core.display.HTML object>"
      ]
     },
     "metadata": {},
     "output_type": "display_data"
    },
    {
     "data": {
      "text/html": [
       "Synced 6 W&B file(s), 0 media file(s), 0 artifact file(s) and 0 other file(s)"
      ],
      "text/plain": [
       "<IPython.core.display.HTML object>"
      ]
     },
     "metadata": {},
     "output_type": "display_data"
    },
    {
     "data": {
      "text/html": [
       "\n",
       "                    <br/>Synced <strong style=\"color:#cdcd00\">stoic-dragon-251</strong>: <a href=\"https://wandb.ai/snovaisg/idrop_vs_rnn/runs/3ra0s8mn\" target=\"_blank\">https://wandb.ai/snovaisg/idrop_vs_rnn/runs/3ra0s8mn</a><br/>\n",
       "                "
      ],
      "text/plain": [
       "<IPython.core.display.HTML object>"
      ]
     },
     "metadata": {},
     "output_type": "display_data"
    },
    {
     "data": {
      "text/html": [
       "...Successfully finished last run (ID:3ra0s8mn). Initializing new run:<br/><br/>"
      ],
      "text/plain": [
       "<IPython.core.display.HTML object>"
      ]
     },
     "metadata": {},
     "output_type": "display_data"
    },
    {
     "name": "stderr",
     "output_type": "stream",
     "text": [
      "\u001b[34m\u001b[1mwandb\u001b[0m: wandb version 0.12.2 is available!  To upgrade, please run:\n",
      "\u001b[34m\u001b[1mwandb\u001b[0m:  $ pip install wandb --upgrade\n"
     ]
    },
    {
     "data": {
      "text/html": [
       "\n",
       "                Tracking run with wandb version 0.12.1<br/>\n",
       "                Syncing run <strong style=\"color:#cdcd00\">comfy-wind-252</strong> to <a href=\"https://wandb.ai\" target=\"_blank\">Weights & Biases</a> <a href=\"https://docs.wandb.com/integrations/jupyter.html\" target=\"_blank\">(Documentation)</a>.<br/>\n",
       "                Project page: <a href=\"https://wandb.ai/snovaisg/idrop_vs_rnn\" target=\"_blank\">https://wandb.ai/snovaisg/idrop_vs_rnn</a><br/>\n",
       "                Run page: <a href=\"https://wandb.ai/snovaisg/idrop_vs_rnn/runs/vxg0akb7\" target=\"_blank\">https://wandb.ai/snovaisg/idrop_vs_rnn/runs/vxg0akb7</a><br/>\n",
       "                Run data is saved locally in <code>/Users/simaonovais/Documents/GitHub/master-thesis/wandb/run-20210917_142313-vxg0akb7</code><br/><br/>\n",
       "            "
      ],
      "text/plain": [
       "<IPython.core.display.HTML object>"
      ]
     },
     "metadata": {},
     "output_type": "display_data"
    },
    {
     "data": {
      "text/html": [
       "<h1>Run(vxg0akb7)</h1><iframe src=\"https://wandb.ai/snovaisg/idrop_vs_rnn/runs/vxg0akb7\" style=\"border:none;width:100%;height:400px\"></iframe>"
      ],
      "text/plain": [
       "<wandb.sdk.wandb_run.Run at 0x1312ab580>"
      ]
     },
     "execution_count": 70,
     "metadata": {},
     "output_type": "execute_result"
    },
    {
     "data": {
      "text/html": [
       "Finishing last run (ID:vxg0akb7) before initializing another..."
      ],
      "text/plain": [
       "<IPython.core.display.HTML object>"
      ]
     },
     "metadata": {},
     "output_type": "display_data"
    },
    {
     "data": {
      "text/html": [
       "<br/>Waiting for W&B process to finish, PID 42028<br/>Program ended successfully."
      ],
      "text/plain": [
       "<IPython.core.display.HTML object>"
      ]
     },
     "metadata": {},
     "output_type": "display_data"
    },
    {
     "data": {
      "text/html": [
       "Find user logs for this run at: <code>/Users/simaonovais/Documents/GitHub/master-thesis/wandb/run-20210917_142313-vxg0akb7/logs/debug.log</code>"
      ],
      "text/plain": [
       "<IPython.core.display.HTML object>"
      ]
     },
     "metadata": {},
     "output_type": "display_data"
    },
    {
     "data": {
      "text/html": [
       "Find internal logs for this run at: <code>/Users/simaonovais/Documents/GitHub/master-thesis/wandb/run-20210917_142313-vxg0akb7/logs/debug-internal.log</code>"
      ],
      "text/plain": [
       "<IPython.core.display.HTML object>"
      ]
     },
     "metadata": {},
     "output_type": "display_data"
    },
    {
     "data": {
      "text/html": [
       "<h3>Run summary:</h3><br/><style>\n",
       "    table.wandb td:nth-child(1) { padding: 0 10px; text-align: right }\n",
       "    </style><table class=\"wandb\">\n",
       "<tr><td>loss</td><td>0.04043</td></tr><tr><td>_runtime</td><td>42</td></tr><tr><td>_timestamp</td><td>1631885039</td></tr><tr><td>_step</td><td>15</td></tr><tr><td>train_loss</td><td>0.03839</td></tr><tr><td>train_recall@30</td><td>0.63733</td></tr><tr><td>val_loss</td><td>0.04189</td></tr><tr><td>recall@10</td><td>0.34614</td></tr><tr><td>recall@20</td><td>0.51282</td></tr><tr><td>recall@30</td><td>0.62512</td></tr></table>"
      ],
      "text/plain": [
       "<IPython.core.display.HTML object>"
      ]
     },
     "metadata": {},
     "output_type": "display_data"
    },
    {
     "data": {
      "text/html": [
       "<h3>Run history:</h3><br/><style>\n",
       "    table.wandb td:nth-child(1) { padding: 0 10px; text-align: right }\n",
       "    </style><table class=\"wandb\">\n",
       "<tr><td>loss</td><td>█▅▃▃▂▂▂▁▁▁▁▁▁▁▁</td></tr><tr><td>_runtime</td><td>▁▁▂▂▃▃▃▄▄▄▅▅▆▆▇█</td></tr><tr><td>_timestamp</td><td>▁▁▂▂▃▃▃▄▄▄▅▅▆▆▇█</td></tr><tr><td>_step</td><td>▁▁▂▂▃▃▄▄▅▅▆▆▇▇██</td></tr><tr><td>train_loss</td><td>▁</td></tr><tr><td>train_recall@30</td><td>▁</td></tr><tr><td>val_loss</td><td>▁</td></tr><tr><td>recall@10</td><td>▁</td></tr><tr><td>recall@20</td><td>▁</td></tr><tr><td>recall@30</td><td>▁</td></tr></table><br/>"
      ],
      "text/plain": [
       "<IPython.core.display.HTML object>"
      ]
     },
     "metadata": {},
     "output_type": "display_data"
    },
    {
     "data": {
      "text/html": [
       "Synced 6 W&B file(s), 0 media file(s), 0 artifact file(s) and 0 other file(s)"
      ],
      "text/plain": [
       "<IPython.core.display.HTML object>"
      ]
     },
     "metadata": {},
     "output_type": "display_data"
    },
    {
     "data": {
      "text/html": [
       "\n",
       "                    <br/>Synced <strong style=\"color:#cdcd00\">comfy-wind-252</strong>: <a href=\"https://wandb.ai/snovaisg/idrop_vs_rnn/runs/vxg0akb7\" target=\"_blank\">https://wandb.ai/snovaisg/idrop_vs_rnn/runs/vxg0akb7</a><br/>\n",
       "                "
      ],
      "text/plain": [
       "<IPython.core.display.HTML object>"
      ]
     },
     "metadata": {},
     "output_type": "display_data"
    },
    {
     "data": {
      "text/html": [
       "...Successfully finished last run (ID:vxg0akb7). Initializing new run:<br/><br/>"
      ],
      "text/plain": [
       "<IPython.core.display.HTML object>"
      ]
     },
     "metadata": {},
     "output_type": "display_data"
    },
    {
     "name": "stderr",
     "output_type": "stream",
     "text": [
      "\u001b[34m\u001b[1mwandb\u001b[0m: wandb version 0.12.2 is available!  To upgrade, please run:\n",
      "\u001b[34m\u001b[1mwandb\u001b[0m:  $ pip install wandb --upgrade\n"
     ]
    },
    {
     "data": {
      "text/html": [
       "\n",
       "                Tracking run with wandb version 0.12.1<br/>\n",
       "                Syncing run <strong style=\"color:#cdcd00\">lyric-frog-253</strong> to <a href=\"https://wandb.ai\" target=\"_blank\">Weights & Biases</a> <a href=\"https://docs.wandb.com/integrations/jupyter.html\" target=\"_blank\">(Documentation)</a>.<br/>\n",
       "                Project page: <a href=\"https://wandb.ai/snovaisg/idrop_vs_rnn\" target=\"_blank\">https://wandb.ai/snovaisg/idrop_vs_rnn</a><br/>\n",
       "                Run page: <a href=\"https://wandb.ai/snovaisg/idrop_vs_rnn/runs/1fw0ifzo\" target=\"_blank\">https://wandb.ai/snovaisg/idrop_vs_rnn/runs/1fw0ifzo</a><br/>\n",
       "                Run data is saved locally in <code>/Users/simaonovais/Documents/GitHub/master-thesis/wandb/run-20210917_142359-1fw0ifzo</code><br/><br/>\n",
       "            "
      ],
      "text/plain": [
       "<IPython.core.display.HTML object>"
      ]
     },
     "metadata": {},
     "output_type": "display_data"
    },
    {
     "data": {
      "text/html": [
       "<h1>Run(1fw0ifzo)</h1><iframe src=\"https://wandb.ai/snovaisg/idrop_vs_rnn/runs/1fw0ifzo\" style=\"border:none;width:100%;height:400px\"></iframe>"
      ],
      "text/plain": [
       "<wandb.sdk.wandb_run.Run at 0x1312b90a0>"
      ]
     },
     "execution_count": 70,
     "metadata": {},
     "output_type": "execute_result"
    },
    {
     "data": {
      "text/html": [
       "Finishing last run (ID:1fw0ifzo) before initializing another..."
      ],
      "text/plain": [
       "<IPython.core.display.HTML object>"
      ]
     },
     "metadata": {},
     "output_type": "display_data"
    },
    {
     "data": {
      "text/html": [
       "<br/>Waiting for W&B process to finish, PID 42056<br/>Program ended successfully."
      ],
      "text/plain": [
       "<IPython.core.display.HTML object>"
      ]
     },
     "metadata": {},
     "output_type": "display_data"
    },
    {
     "data": {
      "text/html": [
       "Find user logs for this run at: <code>/Users/simaonovais/Documents/GitHub/master-thesis/wandb/run-20210917_142359-1fw0ifzo/logs/debug.log</code>"
      ],
      "text/plain": [
       "<IPython.core.display.HTML object>"
      ]
     },
     "metadata": {},
     "output_type": "display_data"
    },
    {
     "data": {
      "text/html": [
       "Find internal logs for this run at: <code>/Users/simaonovais/Documents/GitHub/master-thesis/wandb/run-20210917_142359-1fw0ifzo/logs/debug-internal.log</code>"
      ],
      "text/plain": [
       "<IPython.core.display.HTML object>"
      ]
     },
     "metadata": {},
     "output_type": "display_data"
    },
    {
     "data": {
      "text/html": [
       "<h3>Run summary:</h3><br/><style>\n",
       "    table.wandb td:nth-child(1) { padding: 0 10px; text-align: right }\n",
       "    </style><table class=\"wandb\">\n",
       "<tr><td>loss</td><td>0.04228</td></tr><tr><td>_runtime</td><td>34</td></tr><tr><td>_timestamp</td><td>1631885077</td></tr><tr><td>_step</td><td>15</td></tr><tr><td>train_loss</td><td>0.03935</td></tr><tr><td>train_recall@30</td><td>0.68317</td></tr><tr><td>val_loss</td><td>0.04178</td></tr><tr><td>recall@10</td><td>0.37381</td></tr><tr><td>recall@20</td><td>0.5395</td></tr><tr><td>recall@30</td><td>0.65094</td></tr></table>"
      ],
      "text/plain": [
       "<IPython.core.display.HTML object>"
      ]
     },
     "metadata": {},
     "output_type": "display_data"
    },
    {
     "data": {
      "text/html": [
       "<h3>Run history:</h3><br/><style>\n",
       "    table.wandb td:nth-child(1) { padding: 0 10px; text-align: right }\n",
       "    </style><table class=\"wandb\">\n",
       "<tr><td>loss</td><td>█▅▃▂▂▂▂▁▁▁▁▁▁▁▁</td></tr><tr><td>_runtime</td><td>▁▁▂▂▃▃▃▄▄▅▅▅▆▆▇█</td></tr><tr><td>_timestamp</td><td>▁▁▂▂▃▃▃▄▄▅▅▅▆▆▇█</td></tr><tr><td>_step</td><td>▁▁▂▂▃▃▄▄▅▅▆▆▇▇██</td></tr><tr><td>train_loss</td><td>▁</td></tr><tr><td>train_recall@30</td><td>▁</td></tr><tr><td>val_loss</td><td>▁</td></tr><tr><td>recall@10</td><td>▁</td></tr><tr><td>recall@20</td><td>▁</td></tr><tr><td>recall@30</td><td>▁</td></tr></table><br/>"
      ],
      "text/plain": [
       "<IPython.core.display.HTML object>"
      ]
     },
     "metadata": {},
     "output_type": "display_data"
    },
    {
     "data": {
      "text/html": [
       "Synced 6 W&B file(s), 0 media file(s), 0 artifact file(s) and 0 other file(s)"
      ],
      "text/plain": [
       "<IPython.core.display.HTML object>"
      ]
     },
     "metadata": {},
     "output_type": "display_data"
    },
    {
     "data": {
      "text/html": [
       "\n",
       "                    <br/>Synced <strong style=\"color:#cdcd00\">lyric-frog-253</strong>: <a href=\"https://wandb.ai/snovaisg/idrop_vs_rnn/runs/1fw0ifzo\" target=\"_blank\">https://wandb.ai/snovaisg/idrop_vs_rnn/runs/1fw0ifzo</a><br/>\n",
       "                "
      ],
      "text/plain": [
       "<IPython.core.display.HTML object>"
      ]
     },
     "metadata": {},
     "output_type": "display_data"
    },
    {
     "data": {
      "text/html": [
       "...Successfully finished last run (ID:1fw0ifzo). Initializing new run:<br/><br/>"
      ],
      "text/plain": [
       "<IPython.core.display.HTML object>"
      ]
     },
     "metadata": {},
     "output_type": "display_data"
    },
    {
     "name": "stderr",
     "output_type": "stream",
     "text": [
      "\u001b[34m\u001b[1mwandb\u001b[0m: wandb version 0.12.2 is available!  To upgrade, please run:\n",
      "\u001b[34m\u001b[1mwandb\u001b[0m:  $ pip install wandb --upgrade\n"
     ]
    },
    {
     "data": {
      "text/html": [
       "\n",
       "                Tracking run with wandb version 0.12.1<br/>\n",
       "                Syncing run <strong style=\"color:#cdcd00\">stoic-cosmos-254</strong> to <a href=\"https://wandb.ai\" target=\"_blank\">Weights & Biases</a> <a href=\"https://docs.wandb.com/integrations/jupyter.html\" target=\"_blank\">(Documentation)</a>.<br/>\n",
       "                Project page: <a href=\"https://wandb.ai/snovaisg/idrop_vs_rnn\" target=\"_blank\">https://wandb.ai/snovaisg/idrop_vs_rnn</a><br/>\n",
       "                Run page: <a href=\"https://wandb.ai/snovaisg/idrop_vs_rnn/runs/359yj9os\" target=\"_blank\">https://wandb.ai/snovaisg/idrop_vs_rnn/runs/359yj9os</a><br/>\n",
       "                Run data is saved locally in <code>/Users/simaonovais/Documents/GitHub/master-thesis/wandb/run-20210917_142437-359yj9os</code><br/><br/>\n",
       "            "
      ],
      "text/plain": [
       "<IPython.core.display.HTML object>"
      ]
     },
     "metadata": {},
     "output_type": "display_data"
    },
    {
     "data": {
      "text/html": [
       "<h1>Run(359yj9os)</h1><iframe src=\"https://wandb.ai/snovaisg/idrop_vs_rnn/runs/359yj9os\" style=\"border:none;width:100%;height:400px\"></iframe>"
      ],
      "text/plain": [
       "<wandb.sdk.wandb_run.Run at 0x1312d4fa0>"
      ]
     },
     "execution_count": 70,
     "metadata": {},
     "output_type": "execute_result"
    },
    {
     "data": {
      "text/html": [
       "Finishing last run (ID:359yj9os) before initializing another..."
      ],
      "text/plain": [
       "<IPython.core.display.HTML object>"
      ]
     },
     "metadata": {},
     "output_type": "display_data"
    },
    {
     "data": {
      "text/html": [
       "<br/>Waiting for W&B process to finish, PID 42077<br/>Program ended successfully."
      ],
      "text/plain": [
       "<IPython.core.display.HTML object>"
      ]
     },
     "metadata": {},
     "output_type": "display_data"
    },
    {
     "data": {
      "text/html": [
       "Find user logs for this run at: <code>/Users/simaonovais/Documents/GitHub/master-thesis/wandb/run-20210917_142437-359yj9os/logs/debug.log</code>"
      ],
      "text/plain": [
       "<IPython.core.display.HTML object>"
      ]
     },
     "metadata": {},
     "output_type": "display_data"
    },
    {
     "data": {
      "text/html": [
       "Find internal logs for this run at: <code>/Users/simaonovais/Documents/GitHub/master-thesis/wandb/run-20210917_142437-359yj9os/logs/debug-internal.log</code>"
      ],
      "text/plain": [
       "<IPython.core.display.HTML object>"
      ]
     },
     "metadata": {},
     "output_type": "display_data"
    },
    {
     "data": {
      "text/html": [
       "<h3>Run summary:</h3><br/><style>\n",
       "    table.wandb td:nth-child(1) { padding: 0 10px; text-align: right }\n",
       "    </style><table class=\"wandb\">\n",
       "<tr><td>loss</td><td>0.04399</td></tr><tr><td>_runtime</td><td>37</td></tr><tr><td>_timestamp</td><td>1631885119</td></tr><tr><td>_step</td><td>15</td></tr><tr><td>train_loss</td><td>0.03995</td></tr><tr><td>train_recall@30</td><td>0.61869</td></tr><tr><td>val_loss</td><td>0.04431</td></tr><tr><td>recall@10</td><td>0.31057</td></tr><tr><td>recall@20</td><td>0.48258</td></tr><tr><td>recall@30</td><td>0.60249</td></tr></table>"
      ],
      "text/plain": [
       "<IPython.core.display.HTML object>"
      ]
     },
     "metadata": {},
     "output_type": "display_data"
    },
    {
     "data": {
      "text/html": [
       "<h3>Run history:</h3><br/><style>\n",
       "    table.wandb td:nth-child(1) { padding: 0 10px; text-align: right }\n",
       "    </style><table class=\"wandb\">\n",
       "<tr><td>loss</td><td>█▅▃▃▂▂▂▁▁▁▁▁▁▁▁</td></tr><tr><td>_runtime</td><td>▁▁▂▂▂▃▃▄▄▅▅▅▆▆▇█</td></tr><tr><td>_timestamp</td><td>▁▁▂▂▂▃▃▄▄▅▅▅▆▆▇█</td></tr><tr><td>_step</td><td>▁▁▂▂▃▃▄▄▅▅▆▆▇▇██</td></tr><tr><td>train_loss</td><td>▁</td></tr><tr><td>train_recall@30</td><td>▁</td></tr><tr><td>val_loss</td><td>▁</td></tr><tr><td>recall@10</td><td>▁</td></tr><tr><td>recall@20</td><td>▁</td></tr><tr><td>recall@30</td><td>▁</td></tr></table><br/>"
      ],
      "text/plain": [
       "<IPython.core.display.HTML object>"
      ]
     },
     "metadata": {},
     "output_type": "display_data"
    },
    {
     "data": {
      "text/html": [
       "Synced 6 W&B file(s), 0 media file(s), 0 artifact file(s) and 0 other file(s)"
      ],
      "text/plain": [
       "<IPython.core.display.HTML object>"
      ]
     },
     "metadata": {},
     "output_type": "display_data"
    },
    {
     "data": {
      "text/html": [
       "\n",
       "                    <br/>Synced <strong style=\"color:#cdcd00\">stoic-cosmos-254</strong>: <a href=\"https://wandb.ai/snovaisg/idrop_vs_rnn/runs/359yj9os\" target=\"_blank\">https://wandb.ai/snovaisg/idrop_vs_rnn/runs/359yj9os</a><br/>\n",
       "                "
      ],
      "text/plain": [
       "<IPython.core.display.HTML object>"
      ]
     },
     "metadata": {},
     "output_type": "display_data"
    },
    {
     "data": {
      "text/html": [
       "...Successfully finished last run (ID:359yj9os). Initializing new run:<br/><br/>"
      ],
      "text/plain": [
       "<IPython.core.display.HTML object>"
      ]
     },
     "metadata": {},
     "output_type": "display_data"
    },
    {
     "name": "stderr",
     "output_type": "stream",
     "text": [
      "\u001b[34m\u001b[1mwandb\u001b[0m: wandb version 0.12.2 is available!  To upgrade, please run:\n",
      "\u001b[34m\u001b[1mwandb\u001b[0m:  $ pip install wandb --upgrade\n"
     ]
    },
    {
     "data": {
      "text/html": [
       "\n",
       "                Tracking run with wandb version 0.12.1<br/>\n",
       "                Syncing run <strong style=\"color:#cdcd00\">wise-disco-255</strong> to <a href=\"https://wandb.ai\" target=\"_blank\">Weights & Biases</a> <a href=\"https://docs.wandb.com/integrations/jupyter.html\" target=\"_blank\">(Documentation)</a>.<br/>\n",
       "                Project page: <a href=\"https://wandb.ai/snovaisg/idrop_vs_rnn\" target=\"_blank\">https://wandb.ai/snovaisg/idrop_vs_rnn</a><br/>\n",
       "                Run page: <a href=\"https://wandb.ai/snovaisg/idrop_vs_rnn/runs/i35usftw\" target=\"_blank\">https://wandb.ai/snovaisg/idrop_vs_rnn/runs/i35usftw</a><br/>\n",
       "                Run data is saved locally in <code>/Users/simaonovais/Documents/GitHub/master-thesis/wandb/run-20210917_142520-i35usftw</code><br/><br/>\n",
       "            "
      ],
      "text/plain": [
       "<IPython.core.display.HTML object>"
      ]
     },
     "metadata": {},
     "output_type": "display_data"
    },
    {
     "data": {
      "text/html": [
       "<h1>Run(i35usftw)</h1><iframe src=\"https://wandb.ai/snovaisg/idrop_vs_rnn/runs/i35usftw\" style=\"border:none;width:100%;height:400px\"></iframe>"
      ],
      "text/plain": [
       "<wandb.sdk.wandb_run.Run at 0x1312d67f0>"
      ]
     },
     "execution_count": 70,
     "metadata": {},
     "output_type": "execute_result"
    },
    {
     "data": {
      "text/html": [
       "Finishing last run (ID:i35usftw) before initializing another..."
      ],
      "text/plain": [
       "<IPython.core.display.HTML object>"
      ]
     },
     "metadata": {},
     "output_type": "display_data"
    },
    {
     "data": {
      "text/html": [
       "<br/>Waiting for W&B process to finish, PID 42098<br/>Program ended successfully."
      ],
      "text/plain": [
       "<IPython.core.display.HTML object>"
      ]
     },
     "metadata": {},
     "output_type": "display_data"
    },
    {
     "data": {
      "text/html": [
       "Find user logs for this run at: <code>/Users/simaonovais/Documents/GitHub/master-thesis/wandb/run-20210917_142520-i35usftw/logs/debug.log</code>"
      ],
      "text/plain": [
       "<IPython.core.display.HTML object>"
      ]
     },
     "metadata": {},
     "output_type": "display_data"
    },
    {
     "data": {
      "text/html": [
       "Find internal logs for this run at: <code>/Users/simaonovais/Documents/GitHub/master-thesis/wandb/run-20210917_142520-i35usftw/logs/debug-internal.log</code>"
      ],
      "text/plain": [
       "<IPython.core.display.HTML object>"
      ]
     },
     "metadata": {},
     "output_type": "display_data"
    },
    {
     "data": {
      "text/html": [
       "<h3>Run summary:</h3><br/><style>\n",
       "    table.wandb td:nth-child(1) { padding: 0 10px; text-align: right }\n",
       "    </style><table class=\"wandb\">\n",
       "<tr><td>loss</td><td>0.03784</td></tr><tr><td>_runtime</td><td>44</td></tr><tr><td>_timestamp</td><td>1631885167</td></tr><tr><td>_step</td><td>15</td></tr><tr><td>train_loss</td><td>0.03555</td></tr><tr><td>train_recall@30</td><td>0.74324</td></tr><tr><td>val_loss</td><td>0.03929</td></tr><tr><td>recall@10</td><td>0.4247</td></tr><tr><td>recall@20</td><td>0.59139</td></tr><tr><td>recall@30</td><td>0.69667</td></tr></table>"
      ],
      "text/plain": [
       "<IPython.core.display.HTML object>"
      ]
     },
     "metadata": {},
     "output_type": "display_data"
    },
    {
     "data": {
      "text/html": [
       "<h3>Run history:</h3><br/><style>\n",
       "    table.wandb td:nth-child(1) { padding: 0 10px; text-align: right }\n",
       "    </style><table class=\"wandb\">\n",
       "<tr><td>loss</td><td>█▅▃▃▂▂▂▁▁▁▁▁▁▁▁</td></tr><tr><td>_runtime</td><td>▁▁▂▂▃▃▃▄▄▅▅▅▆▆▇█</td></tr><tr><td>_timestamp</td><td>▁▁▂▂▃▃▃▄▄▅▅▅▆▆▇█</td></tr><tr><td>_step</td><td>▁▁▂▂▃▃▄▄▅▅▆▆▇▇██</td></tr><tr><td>train_loss</td><td>▁</td></tr><tr><td>train_recall@30</td><td>▁</td></tr><tr><td>val_loss</td><td>▁</td></tr><tr><td>recall@10</td><td>▁</td></tr><tr><td>recall@20</td><td>▁</td></tr><tr><td>recall@30</td><td>▁</td></tr></table><br/>"
      ],
      "text/plain": [
       "<IPython.core.display.HTML object>"
      ]
     },
     "metadata": {},
     "output_type": "display_data"
    },
    {
     "data": {
      "text/html": [
       "Synced 6 W&B file(s), 0 media file(s), 0 artifact file(s) and 0 other file(s)"
      ],
      "text/plain": [
       "<IPython.core.display.HTML object>"
      ]
     },
     "metadata": {},
     "output_type": "display_data"
    },
    {
     "data": {
      "text/html": [
       "\n",
       "                    <br/>Synced <strong style=\"color:#cdcd00\">wise-disco-255</strong>: <a href=\"https://wandb.ai/snovaisg/idrop_vs_rnn/runs/i35usftw\" target=\"_blank\">https://wandb.ai/snovaisg/idrop_vs_rnn/runs/i35usftw</a><br/>\n",
       "                "
      ],
      "text/plain": [
       "<IPython.core.display.HTML object>"
      ]
     },
     "metadata": {},
     "output_type": "display_data"
    },
    {
     "data": {
      "text/html": [
       "...Successfully finished last run (ID:i35usftw). Initializing new run:<br/><br/>"
      ],
      "text/plain": [
       "<IPython.core.display.HTML object>"
      ]
     },
     "metadata": {},
     "output_type": "display_data"
    },
    {
     "name": "stderr",
     "output_type": "stream",
     "text": [
      "\u001b[34m\u001b[1mwandb\u001b[0m: wandb version 0.12.2 is available!  To upgrade, please run:\n",
      "\u001b[34m\u001b[1mwandb\u001b[0m:  $ pip install wandb --upgrade\n"
     ]
    },
    {
     "data": {
      "text/html": [
       "\n",
       "                Tracking run with wandb version 0.12.1<br/>\n",
       "                Syncing run <strong style=\"color:#cdcd00\">eager-pond-256</strong> to <a href=\"https://wandb.ai\" target=\"_blank\">Weights & Biases</a> <a href=\"https://docs.wandb.com/integrations/jupyter.html\" target=\"_blank\">(Documentation)</a>.<br/>\n",
       "                Project page: <a href=\"https://wandb.ai/snovaisg/idrop_vs_rnn\" target=\"_blank\">https://wandb.ai/snovaisg/idrop_vs_rnn</a><br/>\n",
       "                Run page: <a href=\"https://wandb.ai/snovaisg/idrop_vs_rnn/runs/3kbb7fri\" target=\"_blank\">https://wandb.ai/snovaisg/idrop_vs_rnn/runs/3kbb7fri</a><br/>\n",
       "                Run data is saved locally in <code>/Users/simaonovais/Documents/GitHub/master-thesis/wandb/run-20210917_142607-3kbb7fri</code><br/><br/>\n",
       "            "
      ],
      "text/plain": [
       "<IPython.core.display.HTML object>"
      ]
     },
     "metadata": {},
     "output_type": "display_data"
    },
    {
     "data": {
      "text/html": [
       "<h1>Run(3kbb7fri)</h1><iframe src=\"https://wandb.ai/snovaisg/idrop_vs_rnn/runs/3kbb7fri\" style=\"border:none;width:100%;height:400px\"></iframe>"
      ],
      "text/plain": [
       "<wandb.sdk.wandb_run.Run at 0x1333a6880>"
      ]
     },
     "execution_count": 70,
     "metadata": {},
     "output_type": "execute_result"
    },
    {
     "data": {
      "text/html": [
       "Finishing last run (ID:3kbb7fri) before initializing another..."
      ],
      "text/plain": [
       "<IPython.core.display.HTML object>"
      ]
     },
     "metadata": {},
     "output_type": "display_data"
    },
    {
     "data": {
      "text/html": [
       "<br/>Waiting for W&B process to finish, PID 42157<br/>Program ended successfully."
      ],
      "text/plain": [
       "<IPython.core.display.HTML object>"
      ]
     },
     "metadata": {},
     "output_type": "display_data"
    },
    {
     "data": {
      "text/html": [
       "Find user logs for this run at: <code>/Users/simaonovais/Documents/GitHub/master-thesis/wandb/run-20210917_142607-3kbb7fri/logs/debug.log</code>"
      ],
      "text/plain": [
       "<IPython.core.display.HTML object>"
      ]
     },
     "metadata": {},
     "output_type": "display_data"
    },
    {
     "data": {
      "text/html": [
       "Find internal logs for this run at: <code>/Users/simaonovais/Documents/GitHub/master-thesis/wandb/run-20210917_142607-3kbb7fri/logs/debug-internal.log</code>"
      ],
      "text/plain": [
       "<IPython.core.display.HTML object>"
      ]
     },
     "metadata": {},
     "output_type": "display_data"
    },
    {
     "data": {
      "text/html": [
       "<h3>Run summary:</h3><br/><style>\n",
       "    table.wandb td:nth-child(1) { padding: 0 10px; text-align: right }\n",
       "    </style><table class=\"wandb\">\n",
       "<tr><td>loss</td><td>0.03903</td></tr><tr><td>_runtime</td><td>64</td></tr><tr><td>_timestamp</td><td>1631885234</td></tr><tr><td>_step</td><td>15</td></tr><tr><td>train_loss</td><td>0.03744</td></tr><tr><td>train_recall@30</td><td>0.67063</td></tr><tr><td>val_loss</td><td>0.04123</td></tr><tr><td>recall@10</td><td>0.37348</td></tr><tr><td>recall@20</td><td>0.54026</td></tr><tr><td>recall@30</td><td>0.65244</td></tr></table>"
      ],
      "text/plain": [
       "<IPython.core.display.HTML object>"
      ]
     },
     "metadata": {},
     "output_type": "display_data"
    },
    {
     "data": {
      "text/html": [
       "<h3>Run history:</h3><br/><style>\n",
       "    table.wandb td:nth-child(1) { padding: 0 10px; text-align: right }\n",
       "    </style><table class=\"wandb\">\n",
       "<tr><td>loss</td><td>█▅▃▃▂▂▂▁▁▁▁▁▁▁▁</td></tr><tr><td>_runtime</td><td>▁▁▂▂▂▃▃▃▄▄▅▅▆▇▇█</td></tr><tr><td>_timestamp</td><td>▁▁▂▂▂▃▃▃▄▄▅▅▆▇▇█</td></tr><tr><td>_step</td><td>▁▁▂▂▃▃▄▄▅▅▆▆▇▇██</td></tr><tr><td>train_loss</td><td>▁</td></tr><tr><td>train_recall@30</td><td>▁</td></tr><tr><td>val_loss</td><td>▁</td></tr><tr><td>recall@10</td><td>▁</td></tr><tr><td>recall@20</td><td>▁</td></tr><tr><td>recall@30</td><td>▁</td></tr></table><br/>"
      ],
      "text/plain": [
       "<IPython.core.display.HTML object>"
      ]
     },
     "metadata": {},
     "output_type": "display_data"
    },
    {
     "data": {
      "text/html": [
       "Synced 6 W&B file(s), 0 media file(s), 0 artifact file(s) and 0 other file(s)"
      ],
      "text/plain": [
       "<IPython.core.display.HTML object>"
      ]
     },
     "metadata": {},
     "output_type": "display_data"
    },
    {
     "data": {
      "text/html": [
       "\n",
       "                    <br/>Synced <strong style=\"color:#cdcd00\">eager-pond-256</strong>: <a href=\"https://wandb.ai/snovaisg/idrop_vs_rnn/runs/3kbb7fri\" target=\"_blank\">https://wandb.ai/snovaisg/idrop_vs_rnn/runs/3kbb7fri</a><br/>\n",
       "                "
      ],
      "text/plain": [
       "<IPython.core.display.HTML object>"
      ]
     },
     "metadata": {},
     "output_type": "display_data"
    },
    {
     "data": {
      "text/html": [
       "...Successfully finished last run (ID:3kbb7fri). Initializing new run:<br/><br/>"
      ],
      "text/plain": [
       "<IPython.core.display.HTML object>"
      ]
     },
     "metadata": {},
     "output_type": "display_data"
    },
    {
     "name": "stderr",
     "output_type": "stream",
     "text": [
      "\u001b[34m\u001b[1mwandb\u001b[0m: wandb version 0.12.2 is available!  To upgrade, please run:\n",
      "\u001b[34m\u001b[1mwandb\u001b[0m:  $ pip install wandb --upgrade\n"
     ]
    },
    {
     "data": {
      "text/html": [
       "\n",
       "                Tracking run with wandb version 0.12.1<br/>\n",
       "                Syncing run <strong style=\"color:#cdcd00\">fearless-vortex-257</strong> to <a href=\"https://wandb.ai\" target=\"_blank\">Weights & Biases</a> <a href=\"https://docs.wandb.com/integrations/jupyter.html\" target=\"_blank\">(Documentation)</a>.<br/>\n",
       "                Project page: <a href=\"https://wandb.ai/snovaisg/idrop_vs_rnn\" target=\"_blank\">https://wandb.ai/snovaisg/idrop_vs_rnn</a><br/>\n",
       "                Run page: <a href=\"https://wandb.ai/snovaisg/idrop_vs_rnn/runs/1p9hxphi\" target=\"_blank\">https://wandb.ai/snovaisg/idrop_vs_rnn/runs/1p9hxphi</a><br/>\n",
       "                Run data is saved locally in <code>/Users/simaonovais/Documents/GitHub/master-thesis/wandb/run-20210917_142714-1p9hxphi</code><br/><br/>\n",
       "            "
      ],
      "text/plain": [
       "<IPython.core.display.HTML object>"
      ]
     },
     "metadata": {},
     "output_type": "display_data"
    },
    {
     "data": {
      "text/html": [
       "<h1>Run(1p9hxphi)</h1><iframe src=\"https://wandb.ai/snovaisg/idrop_vs_rnn/runs/1p9hxphi\" style=\"border:none;width:100%;height:400px\"></iframe>"
      ],
      "text/plain": [
       "<wandb.sdk.wandb_run.Run at 0x1333c5b50>"
      ]
     },
     "execution_count": 70,
     "metadata": {},
     "output_type": "execute_result"
    },
    {
     "data": {
      "text/html": [
       "Finishing last run (ID:1p9hxphi) before initializing another..."
      ],
      "text/plain": [
       "<IPython.core.display.HTML object>"
      ]
     },
     "metadata": {},
     "output_type": "display_data"
    },
    {
     "data": {
      "text/html": [
       "<br/>Waiting for W&B process to finish, PID 42240<br/>Program ended successfully."
      ],
      "text/plain": [
       "<IPython.core.display.HTML object>"
      ]
     },
     "metadata": {},
     "output_type": "display_data"
    },
    {
     "data": {
      "text/html": [
       "Find user logs for this run at: <code>/Users/simaonovais/Documents/GitHub/master-thesis/wandb/run-20210917_142714-1p9hxphi/logs/debug.log</code>"
      ],
      "text/plain": [
       "<IPython.core.display.HTML object>"
      ]
     },
     "metadata": {},
     "output_type": "display_data"
    },
    {
     "data": {
      "text/html": [
       "Find internal logs for this run at: <code>/Users/simaonovais/Documents/GitHub/master-thesis/wandb/run-20210917_142714-1p9hxphi/logs/debug-internal.log</code>"
      ],
      "text/plain": [
       "<IPython.core.display.HTML object>"
      ]
     },
     "metadata": {},
     "output_type": "display_data"
    },
    {
     "data": {
      "text/html": [
       "<h3>Run summary:</h3><br/><style>\n",
       "    table.wandb td:nth-child(1) { padding: 0 10px; text-align: right }\n",
       "    </style><table class=\"wandb\">\n",
       "<tr><td>loss</td><td>0.03823</td></tr><tr><td>_runtime</td><td>48</td></tr><tr><td>_timestamp</td><td>1631885286</td></tr><tr><td>_step</td><td>15</td></tr><tr><td>train_loss</td><td>0.03506</td></tr><tr><td>train_recall@30</td><td>0.75151</td></tr><tr><td>val_loss</td><td>0.03942</td></tr><tr><td>recall@10</td><td>0.43084</td></tr><tr><td>recall@20</td><td>0.60073</td></tr><tr><td>recall@30</td><td>0.70328</td></tr></table>"
      ],
      "text/plain": [
       "<IPython.core.display.HTML object>"
      ]
     },
     "metadata": {},
     "output_type": "display_data"
    },
    {
     "data": {
      "text/html": [
       "<h3>Run history:</h3><br/><style>\n",
       "    table.wandb td:nth-child(1) { padding: 0 10px; text-align: right }\n",
       "    </style><table class=\"wandb\">\n",
       "<tr><td>loss</td><td>█▅▃▃▂▂▂▁▁▁▁▁▁▁▁</td></tr><tr><td>_runtime</td><td>▁▂▂▃▃▃▄▄▅▅▅▆▆▆▇█</td></tr><tr><td>_timestamp</td><td>▁▂▂▃▃▃▄▄▅▅▅▆▆▆▇█</td></tr><tr><td>_step</td><td>▁▁▂▂▃▃▄▄▅▅▆▆▇▇██</td></tr><tr><td>train_loss</td><td>▁</td></tr><tr><td>train_recall@30</td><td>▁</td></tr><tr><td>val_loss</td><td>▁</td></tr><tr><td>recall@10</td><td>▁</td></tr><tr><td>recall@20</td><td>▁</td></tr><tr><td>recall@30</td><td>▁</td></tr></table><br/>"
      ],
      "text/plain": [
       "<IPython.core.display.HTML object>"
      ]
     },
     "metadata": {},
     "output_type": "display_data"
    },
    {
     "data": {
      "text/html": [
       "Synced 6 W&B file(s), 0 media file(s), 0 artifact file(s) and 0 other file(s)"
      ],
      "text/plain": [
       "<IPython.core.display.HTML object>"
      ]
     },
     "metadata": {},
     "output_type": "display_data"
    },
    {
     "data": {
      "text/html": [
       "\n",
       "                    <br/>Synced <strong style=\"color:#cdcd00\">fearless-vortex-257</strong>: <a href=\"https://wandb.ai/snovaisg/idrop_vs_rnn/runs/1p9hxphi\" target=\"_blank\">https://wandb.ai/snovaisg/idrop_vs_rnn/runs/1p9hxphi</a><br/>\n",
       "                "
      ],
      "text/plain": [
       "<IPython.core.display.HTML object>"
      ]
     },
     "metadata": {},
     "output_type": "display_data"
    },
    {
     "data": {
      "text/html": [
       "...Successfully finished last run (ID:1p9hxphi). Initializing new run:<br/><br/>"
      ],
      "text/plain": [
       "<IPython.core.display.HTML object>"
      ]
     },
     "metadata": {},
     "output_type": "display_data"
    },
    {
     "name": "stderr",
     "output_type": "stream",
     "text": [
      "\u001b[34m\u001b[1mwandb\u001b[0m: wandb version 0.12.2 is available!  To upgrade, please run:\n",
      "\u001b[34m\u001b[1mwandb\u001b[0m:  $ pip install wandb --upgrade\n"
     ]
    },
    {
     "data": {
      "text/html": [
       "\n",
       "                Tracking run with wandb version 0.12.1<br/>\n",
       "                Syncing run <strong style=\"color:#cdcd00\">electric-sea-258</strong> to <a href=\"https://wandb.ai\" target=\"_blank\">Weights & Biases</a> <a href=\"https://docs.wandb.com/integrations/jupyter.html\" target=\"_blank\">(Documentation)</a>.<br/>\n",
       "                Project page: <a href=\"https://wandb.ai/snovaisg/idrop_vs_rnn\" target=\"_blank\">https://wandb.ai/snovaisg/idrop_vs_rnn</a><br/>\n",
       "                Run page: <a href=\"https://wandb.ai/snovaisg/idrop_vs_rnn/runs/6wd6qd1u\" target=\"_blank\">https://wandb.ai/snovaisg/idrop_vs_rnn/runs/6wd6qd1u</a><br/>\n",
       "                Run data is saved locally in <code>/Users/simaonovais/Documents/GitHub/master-thesis/wandb/run-20210917_142806-6wd6qd1u</code><br/><br/>\n",
       "            "
      ],
      "text/plain": [
       "<IPython.core.display.HTML object>"
      ]
     },
     "metadata": {},
     "output_type": "display_data"
    },
    {
     "data": {
      "text/html": [
       "<h1>Run(6wd6qd1u)</h1><iframe src=\"https://wandb.ai/snovaisg/idrop_vs_rnn/runs/6wd6qd1u\" style=\"border:none;width:100%;height:400px\"></iframe>"
      ],
      "text/plain": [
       "<wandb.sdk.wandb_run.Run at 0x1333b8d30>"
      ]
     },
     "execution_count": 70,
     "metadata": {},
     "output_type": "execute_result"
    }
   ],
   "source": [
    "for param_set in params:\n",
    "    config = {**param_set, \n",
    "              **meta_parameters}\n",
    "    \n",
    "    wandb.init(\n",
    "        project=\"idrop_vs_rnn\", \n",
    "        config=config\n",
    "    )\n",
    "    \n",
    "    whole_train_dataset = DataLoader(whole_train_dataset,batch_size=config['batch_size'],collate_fn=MYCOLLATE(dataset),shuffle=True)\n",
    "    train_dataloader = DataLoader(train_dataset,batch_size=config['batch_size'],collate_fn=MYCOLLATE(dataset),shuffle=True)\n",
    "    val_dataloader = DataLoader(val_dataset,batch_size=config['batch_size'],collate_fn=MYCOLLATE(dataset)) #batch_size here is arbitrary and doesn't affect total validation speed\n",
    "    \n",
    "    model = VariationalRNN(input_size=input_size,\n",
    "                          hidden_size=config['hidden_size'],\n",
    "                          num_layers=config['num_layers'],\n",
    "                          n_labels=n_labels,\n",
    "                          rnn_type=config['model'],\n",
    "                          dropouti=config['dropout'],\n",
    "                          dropoutw=config['dropout'],\n",
    "                          dropouto=config['dropout'])\n",
    "    \n",
    "    optimizer = torch.optim.Adam(model.parameters(), lr=config['lr'])\n",
    "    \n",
    "    for epoch in range(1,config['epochs']+1):\n",
    "        loss = train_one_epoch(model,train_dataloader,epoch,criterion,optimizer)\n",
    "        wandb.log({\"loss\":loss})\n",
    "    \n",
    "    # eval model on validation data\n",
    "    train_results = eval_model(model,train_dataloader,dataset, criterion, epoch, 'train_last')\n",
    "    val_results = eval_model(model,val_dataloader,dataset, criterion, epoch, 'validation')\n",
    "    wandb.log({'train_loss':train_results['loss'],\n",
    "               'train_recall@30':train_results['last adm']['recall30']['mean'],\n",
    "               'val_loss':val_results['loss'],\n",
    "               'recall@10':val_results['last adm']['recall10']['mean'],\n",
    "               'recall@20':val_results['last adm']['recall20']['mean'],\n",
    "               'recall@30':val_results['last adm']['recall30']['mean']\n",
    "              })"
   ]
  },
  {
   "cell_type": "markdown",
   "metadata": {},
   "source": [
    "# best model\n",
    "\n",
    "- lr: 0.03\n",
    "- model_type = 'lstm'\n",
    "- num_layers = 1\n",
    "- hidden_size = 50\n",
    "- epochs: 15"
   ]
  },
  {
   "cell_type": "code",
   "execution_count": null,
   "metadata": {},
   "outputs": [],
   "source": []
  }
 ],
 "metadata": {
  "kernelspec": {
   "display_name": "Python 3 (ipykernel)",
   "language": "python",
   "name": "python3"
  },
  "language_info": {
   "codemirror_mode": {
    "name": "ipython",
    "version": 3
   },
   "file_extension": ".py",
   "mimetype": "text/x-python",
   "name": "python",
   "nbconvert_exporter": "python",
   "pygments_lexer": "ipython3",
   "version": "3.9.7"
  }
 },
 "nbformat": 4,
 "nbformat_minor": 4
}
