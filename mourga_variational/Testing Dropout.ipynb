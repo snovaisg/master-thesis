{
 "cells": [
  {
   "cell_type": "markdown",
   "metadata": {},
   "source": [
    "# Introduction\n",
    "\n",
    "There are a few types of pytorch dropout that need to be used in order to implement the paper [A Theoretically Grounded Application of Dropout in Recurrent Neural Networks](https://arxiv.org/abs/1512.05287).\n",
    "\n",
    "This notebook explores them in order to fully understand them"
   ]
  },
  {
   "cell_type": "markdown",
   "metadata": {},
   "source": [
    "# weight_drop\n",
    "\n",
    "\n",
    "This dropout shuts down completely network weights"
   ]
  },
  {
   "cell_type": "code",
   "execution_count": 1,
   "metadata": {},
   "outputs": [],
   "source": [
    "from weight_drop import WeightDrop\n",
    "\n",
    "from torch import nn\n",
    "import torch"
   ]
  },
  {
   "cell_type": "code",
   "execution_count": 2,
   "metadata": {},
   "outputs": [
    {
     "data": {
      "text/plain": [
       "Parameter containing:\n",
       "tensor([[1., 1., 1.],\n",
       "        [1., 1., 1.]], requires_grad=True)"
      ]
     },
     "execution_count": 2,
     "metadata": {},
     "output_type": "execute_result"
    },
    {
     "data": {
      "text/plain": [
       "Parameter containing:\n",
       "tensor([1., 1.], requires_grad=True)"
      ]
     },
     "execution_count": 2,
     "metadata": {},
     "output_type": "execute_result"
    }
   ],
   "source": [
    "in_features = 3\n",
    "out_features = 2\n",
    "layer = nn.Linear(in_features,out_features)\n",
    "with torch.no_grad():\n",
    "    layer.weight.copy_(torch.ones(out_features,in_features))\n",
    "    layer.bias.copy_(torch.ones(out_features))"
   ]
  },
  {
   "cell_type": "code",
   "execution_count": 3,
   "metadata": {},
   "outputs": [
    {
     "name": "stdout",
     "output_type": "stream",
     "text": [
      "Applying weight drop of 0.3 to weight\n"
     ]
    }
   ],
   "source": [
    "wdropout = WeightDrop(layer,['weight'],dropout=0.3,variational=True)"
   ]
  },
  {
   "cell_type": "markdown",
   "metadata": {},
   "source": [
    "Let's input data and see what happens"
   ]
  },
  {
   "cell_type": "code",
   "execution_count": 27,
   "metadata": {},
   "outputs": [],
   "source": [
    "batch_size=2\n",
    "seq_length = 5\n",
    "data = torch.ones(size=(batch_size,2,in_features))\n",
    "\n",
    "out = wdropout(data)"
   ]
  },
  {
   "cell_type": "code",
   "execution_count": 28,
   "metadata": {},
   "outputs": [
    {
     "data": {
      "text/plain": [
       "tensor([[[5.2857, 5.2857],\n",
       "         [5.2857, 5.2857]],\n",
       "\n",
       "        [[5.2857, 5.2857],\n",
       "         [5.2857, 5.2857]]], grad_fn=<SliceBackward>)"
      ]
     },
     "execution_count": 28,
     "metadata": {},
     "output_type": "execute_result"
    }
   ],
   "source": [
    "out[:,:,:]"
   ]
  },
  {
   "cell_type": "code",
   "execution_count": 29,
   "metadata": {},
   "outputs": [
    {
     "data": {
      "text/plain": [
       "tensor([[[5.2857, 5.2857],\n",
       "         [5.2857, 5.2857]],\n",
       "\n",
       "        [[5.2857, 5.2857],\n",
       "         [5.2857, 5.2857]]], grad_fn=<SliceBackward>)"
      ]
     },
     "execution_count": 29,
     "metadata": {},
     "output_type": "execute_result"
    }
   ],
   "source": [
    "out[:,:,:]"
   ]
  },
  {
   "cell_type": "markdown",
   "metadata": {},
   "source": [
    "**ipad experimenting**\n",
    "\n",
    "normal linear layer output"
   ]
  },
  {
   "cell_type": "code",
   "execution_count": 334,
   "metadata": {},
   "outputs": [
    {
     "name": "stdout",
     "output_type": "stream",
     "text": [
      "ignore\n"
     ]
    },
    {
     "data": {
      "text/plain": [
       "Parameter containing:\n",
       "tensor([[1., 1., 1.],\n",
       "        [1., 1., 1.]], requires_grad=True)"
      ]
     },
     "execution_count": 334,
     "metadata": {},
     "output_type": "execute_result"
    },
    {
     "data": {
      "text/plain": [
       "Parameter containing:\n",
       "tensor([1., 1.], requires_grad=True)"
      ]
     },
     "execution_count": 334,
     "metadata": {},
     "output_type": "execute_result"
    },
    {
     "name": "stdout",
     "output_type": "stream",
     "text": [
      "ignore\n",
      "\n",
      "Layer parameters:\n"
     ]
    },
    {
     "data": {
      "text/plain": [
       "Parameter containing:\n",
       "tensor([[1., 1., 1.],\n",
       "        [1., 1., 1.]], requires_grad=True)"
      ]
     },
     "execution_count": 334,
     "metadata": {},
     "output_type": "execute_result"
    },
    {
     "data": {
      "text/plain": [
       "Parameter containing:\n",
       "tensor([1., 1.], requires_grad=True)"
      ]
     },
     "execution_count": 334,
     "metadata": {},
     "output_type": "execute_result"
    },
    {
     "name": "stdout",
     "output_type": "stream",
     "text": [
      "\n",
      "DATA\n"
     ]
    },
    {
     "data": {
      "text/plain": [
       "tensor([1., 1., 1.])"
      ]
     },
     "execution_count": 334,
     "metadata": {},
     "output_type": "execute_result"
    },
    {
     "name": "stdout",
     "output_type": "stream",
     "text": [
      "\n",
      "Output:\n"
     ]
    },
    {
     "data": {
      "text/plain": [
       "tensor([4., 4.], grad_fn=<AddBackward0>)"
      ]
     },
     "execution_count": 334,
     "metadata": {},
     "output_type": "execute_result"
    }
   ],
   "source": [
    "in_feat = 3\n",
    "out_feat = 2\n",
    "test_layer = nn.Linear(in_feat,out_feat)\n",
    "print('ignore')\n",
    "with torch.no_grad():\n",
    "    test_layer.weight.copy_(torch.ones(out_feat,in_feat))\n",
    "    test_layer.bias.copy_(torch.ones(out_feat))\n",
    "print('ignore')\n",
    "\n",
    "print('\\nLayer parameters:')\n",
    "for e in test_layer.parameters():\n",
    "    e\n",
    "\n",
    "print('\\nDATA')\n",
    "x = torch.ones(in_feat)\n",
    "x\n",
    "\n",
    "print('\\nOutput')\n",
    "test_layer(x)"
   ]
  },
  {
   "cell_type": "markdown",
   "metadata": {},
   "source": [
    "Now turning off a weight, i.e. a whole column from M. "
   ]
  },
  {
   "cell_type": "code",
   "execution_count": 427,
   "metadata": {},
   "outputs": [
    {
     "data": {
      "text/plain": [
       "Parameter containing:\n",
       "tensor([[0.0000, 0.0000, 0.0000],\n",
       "        [1.4286, 1.4286, 1.4286]], requires_grad=True)"
      ]
     },
     "execution_count": 427,
     "metadata": {},
     "output_type": "execute_result"
    },
    {
     "name": "stdout",
     "output_type": "stream",
     "text": [
      "\n",
      "DATA\n"
     ]
    },
    {
     "data": {
      "text/plain": [
       "tensor([1., 1., 1.])"
      ]
     },
     "execution_count": 427,
     "metadata": {},
     "output_type": "execute_result"
    },
    {
     "name": "stdout",
     "output_type": "stream",
     "text": [
      "\n",
      "Output:\n"
     ]
    },
    {
     "data": {
      "text/plain": [
       "tensor([1.0000, 5.2857], grad_fn=<AddBackward0>)"
      ]
     },
     "execution_count": 427,
     "metadata": {},
     "output_type": "execute_result"
    }
   ],
   "source": [
    "# let's say the drop probability is 0.3\n",
    "drop_prob = 0.3\n",
    "keep_prob = 1-drop_prob\n",
    "new_M = torch.tensor([0,1]).view(-1,1).expand_as(test_layer.weight) / keep_prob\n",
    "\n",
    "with torch.no_grad():\n",
    "    test_layer.weight.copy_(new_M)\n",
    "    #don't mess with the bias i think\n",
    "\n",
    "print('\\nDATA')\n",
    "x = torch.ones(in_feat)\n",
    "x\n",
    "\n",
    "print('\\nOutput:')\n",
    "test_layer(x)"
   ]
  },
  {
   "cell_type": "markdown",
   "metadata": {},
   "source": [
    "---"
   ]
  },
  {
   "cell_type": "code",
   "execution_count": 120,
   "metadata": {},
   "outputs": [],
   "source": [
    "in_features = 5\n",
    "out_features = 3\n",
    "layer = nn.Linear(in_features,out_features)\n",
    "\n",
    "batch_size=3\n",
    "seq_length = 2\n",
    "data = torch.rand(size=(batch_size,seq_length,in_features))"
   ]
  },
  {
   "cell_type": "code",
   "execution_count": 188,
   "metadata": {},
   "outputs": [
    {
     "data": {
      "text/plain": [
       "Parameter containing:\n",
       "tensor([[ 0.3896, -0.1608,  0.3731, -0.3409, -0.1235],\n",
       "        [ 0.2571, -0.0441,  0.2779,  0.1124,  0.0486],\n",
       "        [-0.3006,  0.0180, -0.2287,  0.3922,  0.1477]], requires_grad=True)"
      ]
     },
     "execution_count": 188,
     "metadata": {},
     "output_type": "execute_result"
    },
    {
     "data": {
      "text/plain": [
       "tensor([[1.],\n",
       "        [1.],\n",
       "        [1.]])"
      ]
     },
     "execution_count": 188,
     "metadata": {},
     "output_type": "execute_result"
    },
    {
     "data": {
      "text/plain": [
       "tensor([[1.4286],\n",
       "        [1.4286],\n",
       "        [1.4286]])"
      ]
     },
     "execution_count": 188,
     "metadata": {},
     "output_type": "execute_result"
    }
   ],
   "source": [
    "raw_w = getattr(layer,'weight')\n",
    "raw_w\n",
    "\n",
    "mask = torch.ones(raw_w.size(0),1)\n",
    "mask\n",
    "b = torch.nn.functional.dropout(mask,p=0.3,training=True)\n",
    "b"
   ]
  },
  {
   "cell_type": "code",
   "execution_count": null,
   "metadata": {},
   "outputs": [],
   "source": [
    "for name_w in self.weights:\n",
    "            raw_w = getattr(self.module, name_w + '_raw')\n",
    "            w = None\n",
    "\n",
    "            if self.variational:\n",
    "                #######################################################\n",
    "                # Variational dropout (as proposed by Gal & Ghahramani)\n",
    "                #######################################################\n",
    "                mask = torch.autograd.Variable(torch.ones(raw_w.size(0), 1))\n",
    "                if raw_w.is_cuda: mask = mask.cuda()\n",
    "                mask = torch.nn.functional.dropout(mask, p=self.dropout, training=True)\n",
    "                w = mask.expand_as(raw_w) * raw_w\n",
    "            else:\n",
    "                #######################################################\n",
    "                # DropConnect (as presented in the AWD paper)\n",
    "                #######################################################\n",
    "                w = torch.nn.functional.dropout(raw_w, p=self.dropout, training=self.training)\n",
    "            setattr(self.module, name_w, w)"
   ]
  },
  {
   "cell_type": "code",
   "execution_count": null,
   "metadata": {},
   "outputs": [],
   "source": []
  },
  {
   "cell_type": "markdown",
   "metadata": {},
   "source": [
    "## Conclusions\n",
    "\n",
    "This dropout module drops network weights, not inputs"
   ]
  },
  {
   "cell_type": "markdown",
   "metadata": {},
   "source": [
    "# locked_dropout"
   ]
  },
  {
   "cell_type": "code",
   "execution_count": 50,
   "metadata": {},
   "outputs": [],
   "source": [
    "from locked_dropout import LockedDropout\n",
    "\n",
    "from torch import nn\n",
    "import torch"
   ]
  },
  {
   "cell_type": "code",
   "execution_count": 58,
   "metadata": {},
   "outputs": [],
   "source": [
    "in_features = 50\n",
    "out_features = 3\n",
    "layer = nn.Linear(in_features,out_features)"
   ]
  },
  {
   "cell_type": "code",
   "execution_count": 59,
   "metadata": {},
   "outputs": [],
   "source": [
    "batch_size=3\n",
    "seq_length = 5\n",
    "data = torch.rand(size=(batch_size,seq_length,in_features))"
   ]
  },
  {
   "cell_type": "code",
   "execution_count": 60,
   "metadata": {},
   "outputs": [
    {
     "data": {
      "text/plain": [
       "torch.Size([3, 5, 3])"
      ]
     },
     "execution_count": 60,
     "metadata": {},
     "output_type": "execute_result"
    }
   ],
   "source": [
    "out = layer(data)\n",
    "out.size()"
   ]
  },
  {
   "cell_type": "code",
   "execution_count": 67,
   "metadata": {},
   "outputs": [],
   "source": [
    "dropout = LockedDropout()\n",
    "\n",
    "out_dropped = dropout(out,dropout=0.5)"
   ]
  },
  {
   "cell_type": "code",
   "execution_count": 74,
   "metadata": {},
   "outputs": [
    {
     "data": {
      "text/plain": [
       "tensor([0.9252, -0.0000, 0.6426], grad_fn=<SliceBackward>)"
      ]
     },
     "execution_count": 74,
     "metadata": {},
     "output_type": "execute_result"
    }
   ],
   "source": [
    "out_dropped[0,3,:]"
   ]
  },
  {
   "cell_type": "code",
   "execution_count": null,
   "metadata": {},
   "outputs": [],
   "source": []
  }
 ],
 "metadata": {
  "kernelspec": {
   "display_name": "Python 3 (ipykernel)",
   "language": "python",
   "name": "python3"
  },
  "language_info": {
   "codemirror_mode": {
    "name": "ipython",
    "version": 3
   },
   "file_extension": ".py",
   "mimetype": "text/x-python",
   "name": "python",
   "nbconvert_exporter": "python",
   "pygments_lexer": "ipython3",
   "version": "3.9.7"
  }
 },
 "nbformat": 4,
 "nbformat_minor": 4
}
