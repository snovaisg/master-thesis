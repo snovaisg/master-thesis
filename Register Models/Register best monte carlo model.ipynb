{
 "cells": [
  {
   "cell_type": "markdown",
   "id": "psychological-arabic",
   "metadata": {},
   "source": [
    "## Todos\n",
    "\n",
    "model isn't exactly reproducible. having different results when i load it"
   ]
  },
  {
   "cell_type": "markdown",
   "id": "funky-buffalo",
   "metadata": {},
   "source": [
    "As of 24 September my best uncertainty model according to recall@30 is registered in wandb in the project \"final_model_p1_pre_uncertainty_tunning\" and it is called \"golden-oath-84\"\n",
    "\n",
    "The config is as follow:\n",
    "- type: gru\n",
    "- hidden_size = 100\n",
    "- lr: 0.01\n",
    "- layers = 1\n",
    "- batch_size = 64\n",
    "- dropout: 0.1\n",
    "- epochs: 15\n",
    "\n",
    "\n",
    "In this notebook i will create a pickle of this model to be used for later experiments"
   ]
  },
  {
   "cell_type": "markdown",
   "id": "8e24b5ba-ed0f-4f66-9b97-9b7b07669e74",
   "metadata": {},
   "source": [
    "# Change working directory to parent\n",
    "\n",
    "Assumes this script is currently placed in a child folder of the main project."
   ]
  },
  {
   "cell_type": "code",
   "execution_count": 1,
   "id": "10c41a3f-67ad-479c-b528-a215120b6407",
   "metadata": {},
   "outputs": [],
   "source": [
    "import os\n",
    "cwd = os.getcwd()\n",
    "\n",
    "# protection against running this cell multiple times\n",
    "assert os.path.dirname(cwd).split('/')[-1] == 'master-thesis','Oops, directory already changed previously as indended. Ignoring...'\n",
    "\n",
    "# change working directory (if assert passed)\n",
    "new_cwd = os.path.dirname(cwd) # parent directory\n",
    "os.chdir(new_cwd)"
   ]
  },
  {
   "cell_type": "code",
   "execution_count": 2,
   "id": "898f5a25-f959-4db7-b646-64980ddb03d4",
   "metadata": {},
   "outputs": [],
   "source": [
    "# show all outputs\n",
    "from IPython.core.interactiveshell import InteractiveShell\n",
    "InteractiveShell.ast_node_interactivity = \"all\""
   ]
  },
  {
   "cell_type": "code",
   "execution_count": 3,
   "id": "elegant-tension",
   "metadata": {},
   "outputs": [],
   "source": [
    "model_name = 'golden-oath-84'"
   ]
  },
  {
   "cell_type": "code",
   "execution_count": 4,
   "id": "whole-mumbai",
   "metadata": {},
   "outputs": [],
   "source": [
    "import os\n",
    "import json\n",
    "\n",
    "from rnn_utils import DiagnosesDataset, split_dataset, MYCOLLATE\n",
    "from rnn_utils import train_one_epochV2, eval_model\n",
    "\n",
    "from config import Settings; settings = Settings()\n",
    "\n",
    "from mourga_variational.variational_rnn import VariationalRNN\n",
    "\n",
    "import torch\n",
    "from torch.utils.data import Dataset, DataLoader, random_split\n",
    "\n",
    "from sklearn.model_selection import ParameterGrid, ParameterSampler\n",
    "\n",
    "import numpy as np\n",
    "import pandas as pd\n",
    "\n",
    "import wandb"
   ]
  },
  {
   "cell_type": "markdown",
   "id": "69e2e305-b184-4d7f-a971-8f7aad6473bc",
   "metadata": {},
   "source": [
    "# Parameters"
   ]
  },
  {
   "cell_type": "code",
   "execution_count": 5,
   "id": "b88f9203-685c-4601-9edb-82b53cacec3f",
   "metadata": {},
   "outputs": [],
   "source": [
    "dataset_id = 'diag_only'"
   ]
  },
  {
   "cell_type": "markdown",
   "id": "synthetic-semester",
   "metadata": {},
   "source": [
    "# Reproducibility"
   ]
  },
  {
   "cell_type": "code",
   "execution_count": 6,
   "id": "amateur-bangkok",
   "metadata": {},
   "outputs": [
    {
     "data": {
      "text/plain": [
       "<torch._C.Generator at 0x1078c97d0>"
      ]
     },
     "execution_count": 6,
     "metadata": {},
     "output_type": "execute_result"
    }
   ],
   "source": [
    "# Reproducibility\n",
    "seed = settings.random_seed\n",
    "np.random.seed(seed)\n",
    "torch.manual_seed(seed)\n",
    "torch.cuda.manual_seed(seed)\n",
    "\n",
    "torch.backends.cudnn.deterministic = True\n",
    "torch.backends.cudnn.benchmark = False"
   ]
  },
  {
   "cell_type": "markdown",
   "id": "arranged-saskatchewan",
   "metadata": {},
   "source": [
    "# Create dataset"
   ]
  },
  {
   "cell_type": "code",
   "execution_count": 7,
   "id": "social-crest",
   "metadata": {},
   "outputs": [],
   "source": [
    "# hyperparameters of best model\n",
    "grouping = 'ccs'\n",
    "batch_size=64"
   ]
  },
  {
   "cell_type": "code",
   "execution_count": 8,
   "id": "49215b35-2a32-4604-a708-32a4215829a8",
   "metadata": {},
   "outputs": [
    {
     "name": "stdout",
     "output_type": "stream",
     "text": [
      "dataset at data/model_ready_dataset/diag_only\n"
     ]
    }
   ],
   "source": [
    "dataset_folder = os.path.join(settings.data_base,settings.model_ready_dataset_folder,dataset_id)\n",
    "print('dataset at',dataset_folder)"
   ]
  },
  {
   "cell_type": "code",
   "execution_count": 9,
   "id": "composite-governor",
   "metadata": {},
   "outputs": [
    {
     "data": {
      "text/plain": [
       "5249"
      ]
     },
     "execution_count": 9,
     "metadata": {},
     "output_type": "execute_result"
    },
    {
     "data": {
      "text/plain": [
       "1125"
      ]
     },
     "execution_count": 9,
     "metadata": {},
     "output_type": "execute_result"
    },
    {
     "data": {
      "text/plain": [
       "1125"
      ]
     },
     "execution_count": 9,
     "metadata": {},
     "output_type": "execute_result"
    }
   ],
   "source": [
    "dataset = DiagnosesDataset(os.path.join(dataset_folder,'dataset.json'),grouping)\n",
    "\n",
    "train_dataset = DiagnosesDataset(os.path.join(dataset_folder,'train_subset.json'),grouping)\n",
    "val_dataset = DiagnosesDataset(os.path.join(dataset_folder,'val_subset.json'),grouping)\n",
    "test_dataset = DiagnosesDataset(os.path.join(dataset_folder,'test_subset.json'),grouping)\n",
    "\n",
    "\n",
    "len(train_dataset)\n",
    "len(val_dataset)\n",
    "len(test_dataset)\n",
    "\n",
    "\n",
    "train_dataloader = DataLoader(train_dataset,batch_size=batch_size,collate_fn=MYCOLLATE(dataset),shuffle=True)\n",
    "val_dataloader = DataLoader(val_dataset,batch_size=batch_size,collate_fn=MYCOLLATE(dataset)) #batch_size here is arbitrary and doesn't affect total validation speed\n",
    "test_dataloader = DataLoader(test_dataset,batch_size=batch_size,collate_fn=MYCOLLATE(dataset))"
   ]
  },
  {
   "cell_type": "markdown",
   "id": "hired-disney",
   "metadata": {},
   "source": [
    "# Define model"
   ]
  },
  {
   "cell_type": "markdown",
   "id": "dental-parallel",
   "metadata": {},
   "source": [
    "## Hyperparameters"
   ]
  },
  {
   "cell_type": "code",
   "execution_count": 10,
   "id": "metropolitan-carnival",
   "metadata": {},
   "outputs": [],
   "source": [
    "# remaining hyperparameters of best model\n",
    "input_size = next(iter(train_dataloader))['target_sequences']['sequence'].shape[2]\n",
    "hidden_size = 100\n",
    "num_layers = 1\n",
    "n_labels = input_size\n",
    "rnn_type = 'GRU'\n",
    "\n",
    "lr = 0.01\n",
    "dropout = 0.1\n",
    "\n",
    "n_labels = input_size\n",
    "epochs = 15\n",
    "criterion = torch.nn.BCEWithLogitsLoss()"
   ]
  },
  {
   "cell_type": "markdown",
   "id": "unable-thumbnail",
   "metadata": {},
   "source": [
    "# Train"
   ]
  },
  {
   "cell_type": "code",
   "execution_count": 10,
   "id": "5be42d18-521a-4549-bec9-2f6fdaa6753b",
   "metadata": {
    "tags": []
   },
   "outputs": [
    {
     "name": "stdout",
     "output_type": "stream",
     "text": [
      "0.1764651072578954\n",
      "0.12757067531416655\n",
      "0.12295396654007945\n",
      "0.11954586398142235\n",
      "0.11722483995969298\n",
      "0.11559556014493269\n",
      "0.114258379394566\n",
      "0.11309377855736515\n",
      "0.11156229401891243\n",
      "0.1107749301454974\n",
      "0.10957034932499977\n",
      "0.10929878544833799\n",
      "0.10889105903798439\n",
      "0.10809960733514187\n",
      "0.10777546004538013\n"
     ]
    }
   ],
   "source": [
    "model = VariationalRNN(input_size=input_size,\n",
    "                          hidden_size=hidden_size,\n",
    "                          num_layers=num_layers,\n",
    "                          n_labels=n_labels,\n",
    "                          rnn_type=rnn_type,\n",
    "                          dropouti=dropout,\n",
    "                          dropoutw=dropout,\n",
    "                          dropouto=dropout)\n",
    "    \n",
    "optimizer = torch.optim.Adam(model.parameters(), lr=lr)\n",
    "\n",
    "criterion = torch.nn.BCEWithLogitsLoss(reduction='none')\n",
    "\n",
    "for epoch in range(1,epochs+1):\n",
    "    loss = train_one_epochV2(model,train_dataloader,epoch,criterion,optimizer)\n",
    "    print(loss)"
   ]
  },
  {
   "cell_type": "markdown",
   "id": "absolute-requirement",
   "metadata": {},
   "source": [
    "# Eval\n",
    "\n",
    "confirm it has good results"
   ]
  },
  {
   "cell_type": "code",
   "execution_count": 11,
   "id": "b5890fe1-26d9-49bd-a6ab-0243d0a05506",
   "metadata": {},
   "outputs": [
    {
     "name": "stderr",
     "output_type": "stream",
     "text": [
      "/Users/simaonovais/opt/miniconda3/envs/thesis/lib/python3.9/site-packages/numpy/core/fromnumeric.py:3440: RuntimeWarning: Mean of empty slice.\n",
      "  return _methods._mean(a, axis=axis, dtype=dtype,\n",
      "/Users/simaonovais/opt/miniconda3/envs/thesis/lib/python3.9/site-packages/numpy/core/_methods.py:189: RuntimeWarning: invalid value encountered in double_scalars\n",
      "  ret = ret.dtype.type(ret / rcount)\n",
      "/Users/simaonovais/opt/miniconda3/envs/thesis/lib/python3.9/site-packages/numpy/core/_methods.py:262: RuntimeWarning: Degrees of freedom <= 0 for slice\n",
      "  ret = _var(a, axis=axis, dtype=dtype, out=out, ddof=ddof,\n",
      "/Users/simaonovais/opt/miniconda3/envs/thesis/lib/python3.9/site-packages/numpy/core/_methods.py:222: RuntimeWarning: invalid value encountered in true_divide\n",
      "  arrmean = um.true_divide(arrmean, div, out=arrmean, casting='unsafe',\n",
      "/Users/simaonovais/opt/miniconda3/envs/thesis/lib/python3.9/site-packages/numpy/core/_methods.py:254: RuntimeWarning: invalid value encountered in double_scalars\n",
      "  ret = ret.dtype.type(ret / rcount)\n"
     ]
    },
    {
     "data": {
      "text/plain": [
       "{'train_loss': 0.10245790746035315,\n",
       " 'train_recall@30': 0.7555214618777231,\n",
       " 'val_loss': 0.11377182188298968,\n",
       " 'test_loss': 0.11668441123432584,\n",
       " 'recall@30_test': 0.7033773807941549,\n",
       " 'recall@10': 0.438171500887679,\n",
       " 'recall@20': 0.6061258800410522,\n",
       " 'recall@30': 0.7159257749353868,\n",
       " 'n_val_recall@30_last': 1125}"
      ]
     },
     "execution_count": 11,
     "metadata": {},
     "output_type": "execute_result"
    }
   ],
   "source": [
    "train_results = eval_model(model,train_dataloader,dataset, criterion, epoch, 'train_last')\n",
    "val_results = eval_model(model,val_dataloader,dataset, criterion, epoch, 'validation')\n",
    "test_results = eval_model(model,test_dataloader,dataset, criterion, epoch, 'test')\n",
    "res = {'train_loss':train_results['loss'],\n",
    "       'train_recall@30':train_results['last adm']['recall30']['mean'],\n",
    "       'val_loss':val_results['loss'],\n",
    "       'test_loss':test_results['loss'],\n",
    "       'recall@30_test':test_results['last adm']['recall30']['mean'],\n",
    "       'recall@10':val_results['last adm']['recall10']['mean'],\n",
    "       'recall@20':val_results['last adm']['recall20']['mean'],\n",
    "       'recall@30':val_results['last adm']['recall30']['mean'],\n",
    "       'n_val_recall@30_last':val_results['last adm']['recall30']['n']\n",
    "      }\n",
    "res"
   ]
  },
  {
   "cell_type": "markdown",
   "id": "ranking-therapy",
   "metadata": {},
   "source": [
    "## Save model weights and parameters"
   ]
  },
  {
   "cell_type": "code",
   "execution_count": 12,
   "id": "stopped-supplier",
   "metadata": {},
   "outputs": [
    {
     "name": "stdout",
     "output_type": "stream",
     "text": [
      "Model saved!\n"
     ]
    }
   ],
   "source": [
    "model_folder = os.path.join(settings.data_base,settings.models_folder,model_name)\n",
    "\n",
    "if not os.path.isdir(model_folder):\n",
    "    os.mkdir(model_folder)\n",
    "\n",
    "# save weights\n",
    "weights_save_path = os.path.join(model_folder,\"weights\")\n",
    "\n",
    "torch.save(model.state_dict(), \n",
    "           weights_save_path\n",
    "          )\n",
    "print('Model saved!')"
   ]
  },
  {
   "cell_type": "markdown",
   "id": "absolute-cedar",
   "metadata": {},
   "source": [
    "## Save model hyperparameters"
   ]
  },
  {
   "cell_type": "code",
   "execution_count": 13,
   "id": "strong-communications",
   "metadata": {},
   "outputs": [
    {
     "name": "stdout",
     "output_type": "stream",
     "text": [
      "Hyperparameters saved!\n"
     ]
    }
   ],
   "source": [
    "params = dict(input_size = input_size,\n",
    "              hidden_size=hidden_size,\n",
    "              num_layers=num_layers,\n",
    "              n_labels=n_labels,\n",
    "              rnn_type=rnn_type,\n",
    "              dropouti=dropout,\n",
    "              dropouto=dropout,\n",
    "              dropoutw=dropout\n",
    "             )\n",
    "\n",
    "\n",
    "hypp_save_path = os.path.join(model_folder, 'hyper_parameters.json')\n",
    "\n",
    "with open(hypp_save_path, \"w\") as f:\n",
    "    json.dump(params, f)\n",
    "    \n",
    "print('Hyperparameters saved!')"
   ]
  },
  {
   "cell_type": "markdown",
   "id": "1290c23d-17e9-4ec3-a54e-6226e0d77a57",
   "metadata": {},
   "source": [
    "## Other parameters"
   ]
  },
  {
   "cell_type": "code",
   "execution_count": 14,
   "id": "7fb1b229-c20b-4e88-a24d-2347009a762c",
   "metadata": {},
   "outputs": [
    {
     "name": "stdout",
     "output_type": "stream",
     "text": [
      "Other parameters saved!\n"
     ]
    }
   ],
   "source": [
    "other_params = dict(batch_size=batch_size,\n",
    "                    grouping=grouping,\n",
    "                    epochs=epochs\n",
    "                   )\n",
    "\n",
    "other_params_save_path = os.path.join(model_folder, 'other_params.json')\n",
    "\n",
    "with open(other_params_save_path, \"w\") as f:\n",
    "    json.dump(other_params, f)\n",
    "    \n",
    "print('Other parameters saved!')"
   ]
  },
  {
   "cell_type": "markdown",
   "id": "swiss-short",
   "metadata": {},
   "source": [
    "# Test it out"
   ]
  },
  {
   "cell_type": "markdown",
   "id": "naked-produce",
   "metadata": {},
   "source": [
    "### Read weights and hyperparameters"
   ]
  },
  {
   "cell_type": "code",
   "execution_count": 15,
   "id": "prerequisite-capital",
   "metadata": {},
   "outputs": [],
   "source": [
    "#hyperparameters\n",
    "with open(hypp_save_path,'r') as f:\n",
    "    params_loaded = json.load(f)\n",
    "    \n",
    "# weights\n",
    "weights = torch.load(weights_save_path)"
   ]
  },
  {
   "cell_type": "markdown",
   "id": "light-going",
   "metadata": {},
   "source": [
    "### Create model and load weights"
   ]
  },
  {
   "cell_type": "code",
   "execution_count": 16,
   "id": "designing-water",
   "metadata": {},
   "outputs": [
    {
     "data": {
      "text/plain": [
       "<All keys matched successfully>"
      ]
     },
     "execution_count": 16,
     "metadata": {},
     "output_type": "execute_result"
    }
   ],
   "source": [
    "new_model = VariationalRNN(**params_loaded)\n",
    "new_model.load_state_dict(torch.load(weights_save_path))"
   ]
  },
  {
   "cell_type": "markdown",
   "id": "stylish-america",
   "metadata": {},
   "source": [
    "### Evaluate it"
   ]
  },
  {
   "cell_type": "code",
   "execution_count": 17,
   "id": "recognized-toronto",
   "metadata": {},
   "outputs": [
    {
     "data": {
      "text/plain": [
       "{'recall10': {'mean': 0.4445565745815882,\n",
       "  'std': 0.2000251888844687,\n",
       "  'n': 1125},\n",
       " 'recall20': {'mean': 0.6144619831876157,\n",
       "  'std': 0.19039169995584382,\n",
       "  'n': 1125},\n",
       " 'recall30': {'mean': 0.7224851838296337,\n",
       "  'std': 0.17209051951758605,\n",
       "  'n': 1125}}"
      ]
     },
     "execution_count": 17,
     "metadata": {},
     "output_type": "execute_result"
    }
   ],
   "source": [
    "eval_model(new_model,val_dataloader,dataset, criterion, epoch, 'validation')['last adm']"
   ]
  },
  {
   "cell_type": "markdown",
   "id": "81c1e585-d198-49b1-a2bc-ad5264e0e5ca",
   "metadata": {},
   "source": [
    "# Performance doesn't match\n",
    "\n",
    "For some reason, the performance isn't exactly the same for the loaded model. Maybe they are different in their parameters?"
   ]
  },
  {
   "cell_type": "code",
   "execution_count": 18,
   "id": "emerging-mistress",
   "metadata": {},
   "outputs": [
    {
     "name": "stdout",
     "output_type": "stream",
     "text": [
      "Models match\n"
     ]
    }
   ],
   "source": [
    "for p1, p2 in zip(model.parameters(), new_model.parameters()):\n",
    "    if p1.data.ne(p2.data).sum() > 0:\n",
    "        print('Models don\\'t match')\n",
    "print('Models match')"
   ]
  },
  {
   "cell_type": "markdown",
   "id": "ac171afd-5f53-4e03-8a82-b376c8fb065d",
   "metadata": {},
   "source": [
    ".... weird\n"
   ]
  }
 ],
 "metadata": {
  "kernelspec": {
   "display_name": "Python (mthesis)",
   "language": "python",
   "name": "mthesis"
  },
  "language_info": {
   "codemirror_mode": {
    "name": "ipython",
    "version": 3
   },
   "file_extension": ".py",
   "mimetype": "text/x-python",
   "name": "python",
   "nbconvert_exporter": "python",
   "pygments_lexer": "ipython3",
   "version": "3.9.12"
  }
 },
 "nbformat": 4,
 "nbformat_minor": 5
}
